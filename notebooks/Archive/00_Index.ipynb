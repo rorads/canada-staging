{
 "cells": [
  {
   "cell_type": "markdown",
   "metadata": {
    "collapsed": true
   },
   "source": [
    "# Jupyter Interactive Report: IATI Data Published by Canada's Department of Foreign Affairs\n",
    "\n",
    "This collection notebooks analyses the structure and content of IATI data in a reproducable and tweakable format. It is intended to:\n",
    "\n",
    "* Accumulate the data required itself (from the [IATI Registry](http://iatiregistry.org) and [IATI Dashboard](http://dashboard.iatistandard.org)), without the need for files to be procured by the user\n",
    "* Demonstrate explicitly the steps taken in analysis through the optional inclusion of Python code\n",
    "* Assess data independently of the IATI Dashboard or OIPA, so as to give the most direct assessment of the IATI data files published at the time of 'compiling' the report.\n",
    "\n",
    "## [Section 1 - Getting IATI Data](01_canada_get-data_RS.ipynb)\n",
    "\n",
    "Grab data from the IATI Registry and the IATI Dashboard, and organises the files into the `/data` folder.\n",
    "\n",
    "## [Section 2 - Transforming the Data](02_canada_transform-IATI_RS.ipynb)\n",
    "\n",
    "Combine the retrieved IATI XML files into one large file, and flatten specific features of it into data frames for easier analysis."
   ]
  },
  {
   "cell_type": "code",
   "execution_count": null,
   "metadata": {
    "collapsed": true
   },
   "outputs": [],
   "source": []
  }
 ],
 "metadata": {
  "kernelspec": {
   "display_name": "Python 3",
   "language": "python",
   "name": "python3"
  },
  "language_info": {
   "codemirror_mode": {
    "name": "ipython",
    "version": 3
   },
   "file_extension": ".py",
   "mimetype": "text/x-python",
   "name": "python",
   "nbconvert_exporter": "python",
   "pygments_lexer": "ipython3",
   "version": "3.6.1"
  },
  "toc": {
   "nav_menu": {},
   "number_sections": true,
   "sideBar": true,
   "skip_h1_title": false,
   "toc_cell": false,
   "toc_position": {},
   "toc_section_display": "block",
   "toc_window_display": true
  }
 },
 "nbformat": 4,
 "nbformat_minor": 1
}
