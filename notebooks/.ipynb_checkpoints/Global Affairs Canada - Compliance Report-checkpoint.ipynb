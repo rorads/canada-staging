{
 "cells": [
  {
   "cell_type": "markdown",
   "metadata": {},
   "source": [
    "# Introduction\n",
    "\n",
    "This initial report will give a comprehensive review of the ‘compliance’ of GAC’s IATI activities according to the well established aspects of IATI data quality, namely:\n",
    "\n",
    "* Schema validity: a simple test of adherence to the IATI standard XML syntax\n",
    "* Adherence to IATI rulesets: test all activities for adherence to the IATI Standard machine readable rulesets.\n",
    "* A deeper view of the fields published with respect to the use cases 3.1.1-6 detailed below.\n",
    "\n",
    "\n",
    "# Setup and Data Acquisition\n",
    "\n",
    "This section may be of interest on a technical level, but isn't informative with regards to the analytical scope of this report. In short, it sets up the notebook and then processes the given IATI files and aggregates them for analysis. Some changes will need to be made here if a user or practitioner wishes to supply local IATI XML files rather than using the ones pulled from the IATI Registry."
   ]
  },
  {
   "cell_type": "markdown",
   "metadata": {},
   "source": [
    "## Imports and Housekeeping\n",
    "\n",
    "<div class=\"alert alert-warning\">\n",
    "The following value is **`True`**, the notebook attempts to get files and validate them over the network. If **`False`**, it assumes that these processes have been run before, meaning the required files would be in the raw and intermediate data folders and it can defer to them instead.\n",
    "</div>"
   ]
  },
  {
   "cell_type": "code",
   "execution_count": 795,
   "metadata": {
    "collapsed": true
   },
   "outputs": [],
   "source": [
    "run_from_scratch = False"
   ]
  },
  {
   "cell_type": "markdown",
   "metadata": {},
   "source": [
    "There are several libraries required by Python to conduct the analysis and visualisation in this notebook, which are all imported below.\n",
    "\n",
    "This notebook uses a three part files system to store data:\n",
    "\n",
    "* **`raw`**: this folder should contain all and only the IATI XML of interest. The initial use of this notebook is to analyse live IATI data, hosted at specific URLs. This notebook can be adapted to use only local files, and instructions for this are given in-line.\n",
    "\n",
    "* **`intermediate`**: this folder is used as a store of data which has been processed and might be of interest, is used multiple times, or is useful to have in case it is desirable to run the notebook off-line.\n",
    "\n",
    "* **`final`**: this folder contains any data appendices. For instance, an Excel workbook is built over the course of this notebook, with data tables that might be of interest included."
   ]
  },
  {
   "cell_type": "code",
   "execution_count": 796,
   "metadata": {},
   "outputs": [
    {
     "data": {
      "text/html": [
       "\n",
       "    <div class=\"bk-root\">\n",
       "        <a href=\"http://bokeh.pydata.org\" target=\"_blank\" class=\"bk-logo bk-logo-small bk-logo-notebook\"></a>\n",
       "        <span id=\"fc27755b-61cb-4035-93b3-159f61690cbb\">Loading BokehJS ...</span>\n",
       "    </div>"
      ]
     },
     "metadata": {},
     "output_type": "display_data"
    },
    {
     "data": {
      "application/javascript": [
       "\n",
       "(function(global) {\n",
       "  function now() {\n",
       "    return new Date();\n",
       "  }\n",
       "\n",
       "  var force = true;\n",
       "\n",
       "  if (typeof (window._bokeh_onload_callbacks) === \"undefined\" || force === true) {\n",
       "    window._bokeh_onload_callbacks = [];\n",
       "    window._bokeh_is_loading = undefined;\n",
       "  }\n",
       "\n",
       "\n",
       "  \n",
       "  if (typeof (window._bokeh_timeout) === \"undefined\" || force === true) {\n",
       "    window._bokeh_timeout = Date.now() + 5000;\n",
       "    window._bokeh_failed_load = false;\n",
       "  }\n",
       "\n",
       "  var NB_LOAD_WARNING = {'data': {'text/html':\n",
       "     \"<div style='background-color: #fdd'>\\n\"+\n",
       "     \"<p>\\n\"+\n",
       "     \"BokehJS does not appear to have successfully loaded. If loading BokehJS from CDN, this \\n\"+\n",
       "     \"may be due to a slow or bad network connection. Possible fixes:\\n\"+\n",
       "     \"</p>\\n\"+\n",
       "     \"<ul>\\n\"+\n",
       "     \"<li>re-rerun `output_notebook()` to attempt to load from CDN again, or</li>\\n\"+\n",
       "     \"<li>use INLINE resources instead, as so:</li>\\n\"+\n",
       "     \"</ul>\\n\"+\n",
       "     \"<code>\\n\"+\n",
       "     \"from bokeh.resources import INLINE\\n\"+\n",
       "     \"output_notebook(resources=INLINE)\\n\"+\n",
       "     \"</code>\\n\"+\n",
       "     \"</div>\"}};\n",
       "\n",
       "  function display_loaded() {\n",
       "    if (window.Bokeh !== undefined) {\n",
       "      var el = document.getElementById(\"fc27755b-61cb-4035-93b3-159f61690cbb\");\n",
       "      el.textContent = \"BokehJS \" + Bokeh.version + \" successfully loaded.\";\n",
       "    } else if (Date.now() < window._bokeh_timeout) {\n",
       "      setTimeout(display_loaded, 100)\n",
       "    }\n",
       "  }\n",
       "\n",
       "  function run_callbacks() {\n",
       "    window._bokeh_onload_callbacks.forEach(function(callback) { callback() });\n",
       "    delete window._bokeh_onload_callbacks\n",
       "    console.info(\"Bokeh: all callbacks have finished\");\n",
       "  }\n",
       "\n",
       "  function load_libs(js_urls, callback) {\n",
       "    window._bokeh_onload_callbacks.push(callback);\n",
       "    if (window._bokeh_is_loading > 0) {\n",
       "      console.log(\"Bokeh: BokehJS is being loaded, scheduling callback at\", now());\n",
       "      return null;\n",
       "    }\n",
       "    if (js_urls == null || js_urls.length === 0) {\n",
       "      run_callbacks();\n",
       "      return null;\n",
       "    }\n",
       "    console.log(\"Bokeh: BokehJS not loaded, scheduling load and callback at\", now());\n",
       "    window._bokeh_is_loading = js_urls.length;\n",
       "    for (var i = 0; i < js_urls.length; i++) {\n",
       "      var url = js_urls[i];\n",
       "      var s = document.createElement('script');\n",
       "      s.src = url;\n",
       "      s.async = false;\n",
       "      s.onreadystatechange = s.onload = function() {\n",
       "        window._bokeh_is_loading--;\n",
       "        if (window._bokeh_is_loading === 0) {\n",
       "          console.log(\"Bokeh: all BokehJS libraries loaded\");\n",
       "          run_callbacks()\n",
       "        }\n",
       "      };\n",
       "      s.onerror = function() {\n",
       "        console.warn(\"failed to load library \" + url);\n",
       "      };\n",
       "      console.log(\"Bokeh: injecting script tag for BokehJS library: \", url);\n",
       "      document.getElementsByTagName(\"head\")[0].appendChild(s);\n",
       "    }\n",
       "  };var element = document.getElementById(\"fc27755b-61cb-4035-93b3-159f61690cbb\");\n",
       "  if (element == null) {\n",
       "    console.log(\"Bokeh: ERROR: autoload.js configured with elementid 'fc27755b-61cb-4035-93b3-159f61690cbb' but no matching script tag was found. \")\n",
       "    return false;\n",
       "  }\n",
       "\n",
       "  var js_urls = [\"https://cdn.pydata.org/bokeh/release/bokeh-0.12.5.min.js\", \"https://cdn.pydata.org/bokeh/release/bokeh-widgets-0.12.5.min.js\"];\n",
       "\n",
       "  var inline_js = [\n",
       "    function(Bokeh) {\n",
       "      Bokeh.set_log_level(\"info\");\n",
       "    },\n",
       "    \n",
       "    function(Bokeh) {\n",
       "      \n",
       "    },\n",
       "    \n",
       "    function(Bokeh) {\n",
       "      \n",
       "      document.getElementById(\"fc27755b-61cb-4035-93b3-159f61690cbb\").textContent = \"BokehJS is loading...\";\n",
       "    },\n",
       "    function(Bokeh) {\n",
       "      console.log(\"Bokeh: injecting CSS: https://cdn.pydata.org/bokeh/release/bokeh-0.12.5.min.css\");\n",
       "      Bokeh.embed.inject_css(\"https://cdn.pydata.org/bokeh/release/bokeh-0.12.5.min.css\");\n",
       "      console.log(\"Bokeh: injecting CSS: https://cdn.pydata.org/bokeh/release/bokeh-widgets-0.12.5.min.css\");\n",
       "      Bokeh.embed.inject_css(\"https://cdn.pydata.org/bokeh/release/bokeh-widgets-0.12.5.min.css\");\n",
       "    }\n",
       "  ];\n",
       "\n",
       "  function run_inline_js() {\n",
       "    \n",
       "    if ((window.Bokeh !== undefined) || (force === true)) {\n",
       "      for (var i = 0; i < inline_js.length; i++) {\n",
       "        inline_js[i](window.Bokeh);\n",
       "      }if (force === true) {\n",
       "        display_loaded();\n",
       "      }} else if (Date.now() < window._bokeh_timeout) {\n",
       "      setTimeout(run_inline_js, 100);\n",
       "    } else if (!window._bokeh_failed_load) {\n",
       "      console.log(\"Bokeh: BokehJS failed to load within specified timeout.\");\n",
       "      window._bokeh_failed_load = true;\n",
       "    } else if (force !== true) {\n",
       "      var cell = $(document.getElementById(\"fc27755b-61cb-4035-93b3-159f61690cbb\")).parents('.cell').data().cell;\n",
       "      cell.output_area.append_execute_result(NB_LOAD_WARNING)\n",
       "    }\n",
       "\n",
       "  }\n",
       "\n",
       "  if (window._bokeh_is_loading === 0) {\n",
       "    console.log(\"Bokeh: BokehJS loaded, going straight to plotting\");\n",
       "    run_inline_js();\n",
       "  } else {\n",
       "    load_libs(js_urls, function() {\n",
       "      console.log(\"Bokeh: BokehJS plotting callback run at\", now());\n",
       "      run_inline_js();\n",
       "    });\n",
       "  }\n",
       "}(this));"
      ]
     },
     "metadata": {},
     "output_type": "display_data"
    }
   ],
   "source": [
    "# Import Python libraries\n",
    "import json\n",
    "import re\n",
    "import pandas as pd\n",
    "import requests as rq\n",
    "from bokeh.charts import Histogram, output_notebook, show\n",
    "from datetime import datetime\n",
    "\n",
    "# set directories\n",
    "RAW = \"../data/raw/\"\n",
    "INTERMEDIATE = \"../data/intermediate/\"\n",
    "FINAL = \"../data/final/\"\n",
    "REGISTRY_ID = \"gac-amc\"\n",
    "# Create and Excel Writer to output sheets throughout the analysis\n",
    "appendix_1_filepath = FINAL + 'Compliance-Report-Data.xlsx'\n",
    "pd_writer = pd.ExcelWriter(appendix_1_filepath)\n",
    "\n",
    "output_notebook()"
   ]
  },
  {
   "cell_type": "markdown",
   "metadata": {},
   "source": [
    "## Getting Original IATI Files"
   ]
  },
  {
   "cell_type": "markdown",
   "metadata": {},
   "source": [
    "Retrieving the IATI files from supplied URLs and saving them to the 'raw' data folder. The cell below can be skipped if unpublished / local files are being used. Just save all and only the IATI XML files of interest into the 'raw' data folder."
   ]
  },
  {
   "cell_type": "code",
   "execution_count": 797,
   "metadata": {},
   "outputs": [
    {
     "name": "stdout",
     "output_type": "stream",
     "text": [
      "skipped - to run, change 'run_from_scratch' to true...\n"
     ]
    }
   ],
   "source": [
    "# List of all XML urls to pull and merge\n",
    "registry_files = [\n",
    "    \"http://w05.international.gc.ca/projectbrowser-banqueprojets\"\n",
    "        \"/iita-iati/dfatd-maecd_activit_status_2_3.xml\",\n",
    "    \"http://w05.international.gc.ca/projectbrowser-banqueprojets\"\n",
    "        \"/iita-iati/dfatd-maecd_activit_status_4.xml\"\n",
    "]\n",
    "\n",
    "if run_from_scratch:\n",
    "    for registry_file in registry_files:\n",
    "\n",
    "        # split off after the last dash to create the file name, so http://www.abc/def.xml --> def.xml\n",
    "        registry_xml_name = re.search(r'[^/]*.xml', registry_file).group(0)\n",
    "        output_path = RAW + registry_xml_name\n",
    "\n",
    "        request = rq.get(registry_file)\n",
    "\n",
    "        with open(output_path, \"wb\") as out_file:\n",
    "            out_file.write(request.content)\n",
    "\n",
    "        print(\"{}: file written to {}\".format(registry_xml_name, output_path))\n",
    "else:\n",
    "    print('skipped - to run, change \\'run_from_scratch\\' to true...')"
   ]
  },
  {
   "cell_type": "markdown",
   "metadata": {},
   "source": [
    "## Merging IATI Files"
   ]
  },
  {
   "cell_type": "code",
   "execution_count": 798,
   "metadata": {},
   "outputs": [
    {
     "name": "stdout",
     "output_type": "stream",
     "text": [
      "../data/raw/dfatd-maecd_activit_status_2_3.xml\n",
      "../data/raw/dfatd-maecd_activit_status_4.xml\n"
     ]
    }
   ],
   "source": [
    "# Show IATI files available\n",
    "import os\n",
    "import lxml.etree as ET\n",
    "\n",
    "file_names = [RAW + name for name in os.listdir(RAW) if name.endswith(\".xml\")]\n",
    "for name in file_names:\n",
    "    print(name)"
   ]
  },
  {
   "cell_type": "code",
   "execution_count": 799,
   "metadata": {},
   "outputs": [
    {
     "name": "stdout",
     "output_type": "stream",
     "text": [
      "\n",
      "Combining 2 IATI files \n",
      "\n",
      "Files Merged: \n",
      "|-> 1210 activities from ../data/raw/dfatd-maecd_activit_status_2_3.xml\n",
      "|-> 2751 activities from ../data/raw/dfatd-maecd_activit_status_4.xml\n",
      "|--> 3961 in total\n"
     ]
    }
   ],
   "source": [
    "# This cell takes all of the XML IATI files in\n",
    "# the 'raw' directory and merges them into one file\n",
    "\n",
    "combined_filepath = INTERMEDIATE + \"combined.xml\"\n",
    "\n",
    "print(\"\\nCombining {} IATI files \\n\".format(len(file_names)))\n",
    "\n",
    "# Start with the first file\n",
    "big_iati = ET.parse(file_names[0]).getroot()\n",
    "\n",
    "# Start a dictionary to keep track of the additions\n",
    "merge_log = {file_names[0]: len(big_iati.getchildren())}\n",
    "\n",
    "# Iterate through the 2nd through last file and\n",
    "# insert their activtities to into the first\n",
    "# and update the dictionary\n",
    "for xml_file in file_names[1:]:\n",
    "    data = ET.parse(xml_file).getroot()\n",
    "    merge_log[xml_file] = len(data.getchildren())\n",
    "    big_iati.extend(data.getchildren())\n",
    "\n",
    "# Print a small report on the merging\n",
    "print(\"Files Merged: \")\n",
    "for file, activity_count in merge_log.items():\n",
    "    print(\"|-> {} activities from {}\".format(activity_count, file))\n",
    "print(\"|--> {} in total\".format(len(big_iati.getchildren())))\n",
    "\n",
    "with open(combined_filepath, \"wb\") as out_file:\n",
    "    out_file.write(ET.tostring(big_iati, encoding='utf8', pretty_print=True))"
   ]
  },
  {
   "cell_type": "markdown",
   "metadata": {},
   "source": [
    "# Initial Validation\n",
    "\n",
    "This step uses the CoVE api to validate the combined XML file made above, which yields two sets of outcomes: the traditional schema validation, and validation against the [IATI Rulesets](http://iatistandard.org/202/rulesets/). Using this api, both are returned in structured JSON, which has been used here to create succinct and opinionated tables, for example, by using a pivot table to see how many different rules have been broken, before attempting to list them all.\n",
    "\n",
    "First, we send the file to CoVE and wait for it's response:"
   ]
  },
  {
   "cell_type": "code",
   "execution_count": 800,
   "metadata": {},
   "outputs": [
    {
     "name": "stdout",
     "output_type": "stream",
     "text": [
      "skipped - to run, change 'run_from_scratch' to true...\n"
     ]
    }
   ],
   "source": [
    "import requests as rq\n",
    "\n",
    "json_validation_filepath = INTERMEDIATE + 'validation.json'\n",
    "\n",
    "if run_from_scratch:\n",
    "    url = 'http://localhost:8000/api_test'\n",
    "    files = {'file': open(INTERMEDIATE + \"combined.xml\", 'rb')}\n",
    "    r = rq.post(url, files=files, data={\"name\": \"combined.xml\"})\n",
    "\n",
    "    print(\"CoVE validation was successful.\") if r.ok else print(\n",
    "        \"Something went wrong.\")\n",
    "\n",
    "    validation_json = r.json()\n",
    "\n",
    "    with open(json_validation_filepath, \"w\") as out_file:\n",
    "        json.dump(validation_json, out_file)\n",
    "\n",
    "    print('Validation JSON file has been written to {}.'.format(\n",
    "        json_validation_filepath))\n",
    "\n",
    "else:\n",
    "    validation_json = json.load(open(json_validation_filepath, 'r'))\n",
    "    print('skipped - to run, change \\'run_from_scratch\\' to true...')"
   ]
  },
  {
   "cell_type": "markdown",
   "metadata": {},
   "source": [
    "Now, let's take a look at the data we received back."
   ]
  },
  {
   "cell_type": "code",
   "execution_count": 801,
   "metadata": {},
   "outputs": [
    {
     "name": "stdout",
     "output_type": "stream",
     "text": [
      "CoVE has found 3477 schema errors, and 30 ruleset errors\n"
     ]
    }
   ],
   "source": [
    "ruleset_table = pd.DataFrame(data=validation_json['ruleset_errors'])\n",
    "schema_table = pd.DataFrame(data=validation_json['validation_errors'])\n",
    "\n",
    "print(\"CoVE has found {} schema errors, and {} ruleset errors\".format(\n",
    "    len(schema_table), len(ruleset_table)))"
   ]
  },
  {
   "cell_type": "markdown",
   "metadata": {},
   "source": [
    "## Schema Validation"
   ]
  },
  {
   "cell_type": "markdown",
   "metadata": {},
   "source": [
    "Before looking at all of the specific validation errors, let's use a pivot table to uncover how many types of errors there are:\n",
    "\n",
    "<div class=\"alert alert-info\">\n",
    "The numbers you see under 'path' and 'value' are counts, which allows this function to serve as a count of the number of schema violations associated with each 'description' (each schema rule).\n",
    "</div>"
   ]
  },
  {
   "cell_type": "code",
   "execution_count": 802,
   "metadata": {},
   "outputs": [
    {
     "data": {
      "text/html": [
       "<div>\n",
       "<style>\n",
       "    .dataframe thead tr:only-child th {\n",
       "        text-align: right;\n",
       "    }\n",
       "\n",
       "    .dataframe thead th {\n",
       "        text-align: left;\n",
       "    }\n",
       "\n",
       "    .dataframe tbody tr th {\n",
       "        vertical-align: top;\n",
       "    }\n",
       "</style>\n",
       "<table border=\"1\" class=\"dataframe\">\n",
       "  <thead>\n",
       "    <tr style=\"text-align: right;\">\n",
       "      <th></th>\n",
       "      <th>path</th>\n",
       "      <th>value</th>\n",
       "    </tr>\n",
       "    <tr>\n",
       "      <th>description</th>\n",
       "      <th></th>\n",
       "      <th></th>\n",
       "    </tr>\n",
       "  </thead>\n",
       "  <tbody>\n",
       "    <tr>\n",
       "      <th>'document-link', attribute 'url' is not a valid value of the atomic type 'xs:anyURI'.</th>\n",
       "      <td>2</td>\n",
       "      <td>2</td>\n",
       "    </tr>\n",
       "    <tr>\n",
       "      <th>'result': Missing child element(s), expected is indicator.</th>\n",
       "      <td>3475</td>\n",
       "      <td>3475</td>\n",
       "    </tr>\n",
       "  </tbody>\n",
       "</table>\n",
       "</div>"
      ],
      "text/plain": [
       "                                                    path  value\n",
       "description                                                    \n",
       "'document-link', attribute 'url' is not a valid...     2      2\n",
       "'result': Missing child element(s), expected is...  3475   3475"
      ]
     },
     "execution_count": 802,
     "metadata": {},
     "output_type": "execute_result"
    }
   ],
   "source": [
    "schema_table.pivot_table(index='description', aggfunc='count')"
   ]
  },
  {
   "cell_type": "markdown",
   "metadata": {},
   "source": [
    "Only two types are found. The first two shown below indicate that two activities have invalid URIs. The greater issue which affects more than 85% (3470 / 3961 * 100) of the activities supplied is the lack of an indicator in the results element. The first five rows of the raw table can be seen here, and the whole file has been saved to Appendix 1 under the tab 'Schema Violations'."
   ]
  },
  {
   "cell_type": "code",
   "execution_count": 803,
   "metadata": {
    "scrolled": true
   },
   "outputs": [
    {
     "data": {
      "text/html": [
       "<div>\n",
       "<style>\n",
       "    .dataframe thead tr:only-child th {\n",
       "        text-align: right;\n",
       "    }\n",
       "\n",
       "    .dataframe thead th {\n",
       "        text-align: left;\n",
       "    }\n",
       "\n",
       "    .dataframe tbody tr th {\n",
       "        vertical-align: top;\n",
       "    }\n",
       "</style>\n",
       "<table border=\"1\" class=\"dataframe\">\n",
       "  <thead>\n",
       "    <tr style=\"text-align: right;\">\n",
       "      <th></th>\n",
       "      <th>description</th>\n",
       "      <th>path</th>\n",
       "      <th>value</th>\n",
       "    </tr>\n",
       "  </thead>\n",
       "  <tbody>\n",
       "    <tr>\n",
       "      <th>0</th>\n",
       "      <td>'document-link', attribute 'url' is not a vali...</td>\n",
       "      <td>iati-activity/1513/document-link/2/@url</td>\n",
       "      <td>http://ttp://www.snclavalin.com/fr/index.aspx</td>\n",
       "    </tr>\n",
       "    <tr>\n",
       "      <th>1</th>\n",
       "      <td>'document-link', attribute 'url' is not a vali...</td>\n",
       "      <td>iati-activity/1679/document-link/3/@url</td>\n",
       "      <td>http://ttp://www.snclavalin.com/fr/index.aspx</td>\n",
       "    </tr>\n",
       "    <tr>\n",
       "      <th>2</th>\n",
       "      <td>'result': Missing child element(s), expected i...</td>\n",
       "      <td>iati-activity/0/result</td>\n",
       "      <td></td>\n",
       "    </tr>\n",
       "    <tr>\n",
       "      <th>3</th>\n",
       "      <td>'result': Missing child element(s), expected i...</td>\n",
       "      <td>iati-activity/1/result</td>\n",
       "      <td></td>\n",
       "    </tr>\n",
       "    <tr>\n",
       "      <th>4</th>\n",
       "      <td>'result': Missing child element(s), expected i...</td>\n",
       "      <td>iati-activity/5/result/0</td>\n",
       "      <td></td>\n",
       "    </tr>\n",
       "  </tbody>\n",
       "</table>\n",
       "</div>"
      ],
      "text/plain": [
       "                                         description  \\\n",
       "0  'document-link', attribute 'url' is not a vali...   \n",
       "1  'document-link', attribute 'url' is not a vali...   \n",
       "2  'result': Missing child element(s), expected i...   \n",
       "3  'result': Missing child element(s), expected i...   \n",
       "4  'result': Missing child element(s), expected i...   \n",
       "\n",
       "                                      path  \\\n",
       "0  iati-activity/1513/document-link/2/@url   \n",
       "1  iati-activity/1679/document-link/3/@url   \n",
       "2                   iati-activity/0/result   \n",
       "3                   iati-activity/1/result   \n",
       "4                 iati-activity/5/result/0   \n",
       "\n",
       "                                           value  \n",
       "0  http://ttp://www.snclavalin.com/fr/index.aspx  \n",
       "1  http://ttp://www.snclavalin.com/fr/index.aspx  \n",
       "2                                                 \n",
       "3                                                 \n",
       "4                                                 "
      ]
     },
     "execution_count": 803,
     "metadata": {},
     "output_type": "execute_result"
    }
   ],
   "source": [
    "schema_table.to_excel(pd_writer, \"Schema Violations\")\n",
    "schema_table.head() # show the first five rows"
   ]
  },
  {
   "cell_type": "markdown",
   "metadata": {},
   "source": [
    "If we look at the first result element, we can indeed see that it doesn't contain an indicator element:"
   ]
  },
  {
   "cell_type": "code",
   "execution_count": 804,
   "metadata": {},
   "outputs": [
    {
     "name": "stdout",
     "output_type": "stream",
     "text": [
      "<result type=\"2\">\n",
      "  <title>\n",
      "    <narrative xml:lang=\"en\">Results Achieved</narrative>\n",
      "    <narrative xml:lang=\"fr\">R&#233;sultats atteints</narrative>\n",
      "  </title>\n",
      "  <description>\n",
      "    <narrative xml:lang=\"en\">Results as of March 31, 2011 include: the Fund delivered 62 initiatives or sub-projects before March 31, 2011. The Fund advanced public sector reform and contributed to improving the environment for business development in 13 countries in the Caribbean Region as evidenced by the following: the improvement of service delivery in the health sector, most notably the development of an Enhanced Diabetic Foot Program in Guyana; improved debt structuring and management in Antigua and Barbuda, Belize, Dominica and St. Kitts and Nevis; public sector reform in Grenada through knowledge-sharing of Canada's best practices; private-sector led growth in Jamaica and Guyana resulting in improved quality of products and marketing opportunities; and an improved rule of law in the Eastern Caribbean Supreme Court in St. Lucia that resulted in an enhanced reform agenda that included public legal education and engagement.</narrative>\n",
      "    <narrative xml:lang=\"fr\">Parmi les r&#233;sultats obtenus jusqu&#8217;au 31 mars 2011 : Le Fonds a ex&#233;cut&#233; 62 initiatives ou sous-projets avant le 31 mars 2011. Le Fonds a fait progresser la r&#233;forme du secteur public et a contribu&#233; &#224; am&#233;liorer l&#8217;environnement favorable au d&#233;veloppement commercial dans 13 pays de la r&#233;gion des Cara&#239;bes, comme les r&#233;sultats suivants le d&#233;montrent : l&#8217;am&#233;lioration de la prestation des services dans le secteur de la sant&#233;, plus pr&#233;cis&#233;ment l&#8217;&#233;laboration d&#8217;un programme am&#233;lior&#233; de soins des pieds pour les personnes atteintes de diab&#232;te au Guyana; l&#8217;am&#233;lioration de la structure et de la gestion de la dette &#224; Antigua&#173;et&#173;Barbuda, au Belize, &#224; la Dominique et &#224; Saint&#173;Kitts&#173;et&#173;Nevis; la r&#233;forme du secteur public &#224; la Grenade au moyen de la diffusion des pratiques exemplaires du Canada; la croissance &#233;conomique dirig&#233;e par le secteur priv&#233; en Jama&#239;que et au Guyana, qui a men&#233; &#224; l&#8217;am&#233;lioration de la qualit&#233; des produits et des possibilit&#233;s de commercialisation; l&#8217;am&#233;lioration de la primaut&#233; du droit &#224; la Cour supr&#234;me des Cara&#239;bes orientales &#224; Sainte&#173;Lucie, qui a men&#233; &#224; un programme am&#233;lior&#233; de r&#233;formes qui pr&#233;voit l&#8217;&#233;ducation et la mobilisation du public sur les questions juridiques.</narrative>\n",
      "  </description>\n",
      "</result>\n",
      "\n"
     ]
    }
   ],
   "source": [
    "print(\n",
    "    ET.tostring(big_iati.find('iati-activity/result'),\n",
    "                pretty_print=True).decode())"
   ]
  },
  {
   "cell_type": "markdown",
   "metadata": {},
   "source": [
    "## Ruleset Validation\n",
    "\n",
    "There are 30 ruleset violations in total:"
   ]
  },
  {
   "cell_type": "code",
   "execution_count": 805,
   "metadata": {},
   "outputs": [
    {
     "data": {
      "text/plain": [
       "30"
      ]
     },
     "execution_count": 805,
     "metadata": {},
     "output_type": "execute_result"
    }
   ],
   "source": [
    "len(ruleset_table)"
   ]
  },
  {
   "cell_type": "markdown",
   "metadata": {},
   "source": [
    "Looking at the first five rows of the ruleset violations isn't particularly informative:"
   ]
  },
  {
   "cell_type": "code",
   "execution_count": 806,
   "metadata": {},
   "outputs": [
    {
     "data": {
      "text/html": [
       "<div>\n",
       "<style>\n",
       "    .dataframe thead tr:only-child th {\n",
       "        text-align: right;\n",
       "    }\n",
       "\n",
       "    .dataframe thead th {\n",
       "        text-align: left;\n",
       "    }\n",
       "\n",
       "    .dataframe tbody tr th {\n",
       "        vertical-align: top;\n",
       "    }\n",
       "</style>\n",
       "<table border=\"1\" class=\"dataframe\">\n",
       "  <thead>\n",
       "    <tr style=\"text-align: right;\">\n",
       "      <th></th>\n",
       "      <th>id</th>\n",
       "      <th>message</th>\n",
       "      <th>path</th>\n",
       "      <th>rule</th>\n",
       "    </tr>\n",
       "  </thead>\n",
       "  <tbody>\n",
       "    <tr>\n",
       "      <th>0</th>\n",
       "      <td>CA-3-A034764001</td>\n",
       "      <td>`(recipient-country|recipient-region)/@percent...</td>\n",
       "      <td>/iati-activities/iati-activity[215]/recipient-...</td>\n",
       "      <td>recipient-country/@percentage and recipient-re...</td>\n",
       "    </tr>\n",
       "    <tr>\n",
       "      <th>1</th>\n",
       "      <td>CA-3-A035272001</td>\n",
       "      <td>`(recipient-country|recipient-region)/@percent...</td>\n",
       "      <td>/iati-activities/iati-activity[292]/recipient-...</td>\n",
       "      <td>recipient-country/@percentage and recipient-re...</td>\n",
       "    </tr>\n",
       "    <tr>\n",
       "      <th>2</th>\n",
       "      <td>CA-3-A035470001</td>\n",
       "      <td>`(recipient-country|recipient-region)/@percent...</td>\n",
       "      <td>/iati-activities/iati-activity[331]/recipient-...</td>\n",
       "      <td>recipient-country/@percentage and recipient-re...</td>\n",
       "    </tr>\n",
       "    <tr>\n",
       "      <th>3</th>\n",
       "      <td>CA-3-D002423002</td>\n",
       "      <td>`(recipient-country|recipient-region)/@percent...</td>\n",
       "      <td>/iati-activities/iati-activity[952]/recipient-...</td>\n",
       "      <td>recipient-country/@percentage and recipient-re...</td>\n",
       "    </tr>\n",
       "    <tr>\n",
       "      <th>4</th>\n",
       "      <td>CA-3-D004492001</td>\n",
       "      <td>`(recipient-country|recipient-region)/@percent...</td>\n",
       "      <td>/iati-activities/iati-activity[1178]/recipient...</td>\n",
       "      <td>recipient-country/@percentage and recipient-re...</td>\n",
       "    </tr>\n",
       "  </tbody>\n",
       "</table>\n",
       "</div>"
      ],
      "text/plain": [
       "                id                                            message  \\\n",
       "0  CA-3-A034764001  `(recipient-country|recipient-region)/@percent...   \n",
       "1  CA-3-A035272001  `(recipient-country|recipient-region)/@percent...   \n",
       "2  CA-3-A035470001  `(recipient-country|recipient-region)/@percent...   \n",
       "3  CA-3-D002423002  `(recipient-country|recipient-region)/@percent...   \n",
       "4  CA-3-D004492001  `(recipient-country|recipient-region)/@percent...   \n",
       "\n",
       "                                                path  \\\n",
       "0  /iati-activities/iati-activity[215]/recipient-...   \n",
       "1  /iati-activities/iati-activity[292]/recipient-...   \n",
       "2  /iati-activities/iati-activity[331]/recipient-...   \n",
       "3  /iati-activities/iati-activity[952]/recipient-...   \n",
       "4  /iati-activities/iati-activity[1178]/recipient...   \n",
       "\n",
       "                                                rule  \n",
       "0  recipient-country/@percentage and recipient-re...  \n",
       "1  recipient-country/@percentage and recipient-re...  \n",
       "2  recipient-country/@percentage and recipient-re...  \n",
       "3  recipient-country/@percentage and recipient-re...  \n",
       "4  recipient-country/@percentage and recipient-re...  "
      ]
     },
     "execution_count": 806,
     "metadata": {},
     "output_type": "execute_result"
    }
   ],
   "source": [
    "ruleset_table.head()"
   ]
  },
  {
   "cell_type": "markdown",
   "metadata": {},
   "source": [
    "However, by again using a pivot table and structuring the output first by the type of rule broken, then the specifics of the violation, and then the related activity, we can see a clearer picture:\n",
    "\n",
    "<div class=\"alert alert-info\">\n",
    "N.B. The table below has also been saved to Appendix 1 under the tab 'Ruleset Violations by Rule'.\n",
    "</div>"
   ]
  },
  {
   "cell_type": "code",
   "execution_count": 807,
   "metadata": {
    "scrolled": false
   },
   "outputs": [
    {
     "data": {
      "text/html": [
       "<div>\n",
       "<style>\n",
       "    .dataframe thead tr:only-child th {\n",
       "        text-align: right;\n",
       "    }\n",
       "\n",
       "    .dataframe thead th {\n",
       "        text-align: left;\n",
       "    }\n",
       "\n",
       "    .dataframe tbody tr th {\n",
       "        vertical-align: top;\n",
       "    }\n",
       "</style>\n",
       "<table border=\"1\" class=\"dataframe\">\n",
       "  <thead>\n",
       "    <tr style=\"text-align: right;\">\n",
       "      <th></th>\n",
       "      <th></th>\n",
       "      <th></th>\n",
       "      <th>path</th>\n",
       "    </tr>\n",
       "    <tr>\n",
       "      <th>rule</th>\n",
       "      <th>message</th>\n",
       "      <th>id</th>\n",
       "      <th></th>\n",
       "    </tr>\n",
       "  </thead>\n",
       "  <tbody>\n",
       "    <tr>\n",
       "      <th rowspan=\"13\" valign=\"top\">activity-date[@type=\"2\"]/@iso-date must be before activity-date[@type=\"4\"]/@iso-date</th>\n",
       "      <th>Start date (2007-03-27) must be before end date (2007-03-27)</th>\n",
       "      <th>CA-3-A033637001</th>\n",
       "      <td>1</td>\n",
       "    </tr>\n",
       "    <tr>\n",
       "      <th>Start date (2008-03-20) must be before end date (2008-03-20)</th>\n",
       "      <th>CA-3-M012715001</th>\n",
       "      <td>1</td>\n",
       "    </tr>\n",
       "    <tr>\n",
       "      <th>Start date (2009-01-13) must be before end date (2009-01-13)</th>\n",
       "      <th>CA-3-M012957001</th>\n",
       "      <td>1</td>\n",
       "    </tr>\n",
       "    <tr>\n",
       "      <th>Start date (2009-03-26) must be before end date (2009-03-26)</th>\n",
       "      <th>CA-3-M013025001</th>\n",
       "      <td>1</td>\n",
       "    </tr>\n",
       "    <tr>\n",
       "      <th rowspan=\"3\" valign=\"top\">Start date (2009-03-27) must be before end date (2009-03-27)</th>\n",
       "      <th>CA-3-M013020001</th>\n",
       "      <td>1</td>\n",
       "    </tr>\n",
       "    <tr>\n",
       "      <th>CA-3-M013026001</th>\n",
       "      <td>1</td>\n",
       "    </tr>\n",
       "    <tr>\n",
       "      <th>CA-3-M013029001</th>\n",
       "      <td>1</td>\n",
       "    </tr>\n",
       "    <tr>\n",
       "      <th>Start date (2010-03-24) must be before end date (2010-03-24)</th>\n",
       "      <th>CA-3-M013190001</th>\n",
       "      <td>1</td>\n",
       "    </tr>\n",
       "    <tr>\n",
       "      <th>Start date (2010-03-25) must be before end date (2010-03-25)</th>\n",
       "      <th>CA-3-M013183001</th>\n",
       "      <td>1</td>\n",
       "    </tr>\n",
       "    <tr>\n",
       "      <th>Start date (2011-03-30) must be before end date (2011-03-30)</th>\n",
       "      <th>CA-3-A035214001</th>\n",
       "      <td>1</td>\n",
       "    </tr>\n",
       "    <tr>\n",
       "      <th>Start date (2013-01-02) must be before end date (2013-01-02)</th>\n",
       "      <th>CA-3-M013793001</th>\n",
       "      <td>1</td>\n",
       "    </tr>\n",
       "    <tr>\n",
       "      <th>Start date (2014-03-14) must be before end date (2014-03-14)</th>\n",
       "      <th>CA-3-D000695001</th>\n",
       "      <td>1</td>\n",
       "    </tr>\n",
       "    <tr>\n",
       "      <th>Start date (2014-03-28) must be before end date (2014-03-28)</th>\n",
       "      <th>CA-3-D000578001</th>\n",
       "      <td>1</td>\n",
       "    </tr>\n",
       "    <tr>\n",
       "      <th rowspan=\"7\" valign=\"top\">activity-date[date @type=\"1\"] or activity-date[@type=\"2\"] must be present</th>\n",
       "      <th rowspan=\"7\" valign=\"top\">Neither activity-date[@type=\"1\"] nor activity-date[@type=\"2\"] have been found</th>\n",
       "      <th>CA-3-A033298001</th>\n",
       "      <td>1</td>\n",
       "    </tr>\n",
       "    <tr>\n",
       "      <th>CA-3-A034519001</th>\n",
       "      <td>1</td>\n",
       "    </tr>\n",
       "    <tr>\n",
       "      <th>CA-3-A035113001</th>\n",
       "      <td>1</td>\n",
       "    </tr>\n",
       "    <tr>\n",
       "      <th>CA-3-A035138001</th>\n",
       "      <td>1</td>\n",
       "    </tr>\n",
       "    <tr>\n",
       "      <th>CA-3-D003333001</th>\n",
       "      <td>1</td>\n",
       "    </tr>\n",
       "    <tr>\n",
       "      <th>CA-3-D004965001</th>\n",
       "      <td>1</td>\n",
       "    </tr>\n",
       "    <tr>\n",
       "      <th>CA-3-S065691001</th>\n",
       "      <td>1</td>\n",
       "    </tr>\n",
       "    <tr>\n",
       "      <th rowspan=\"2\" valign=\"top\">either sector or transaction/sector must be present</th>\n",
       "      <th rowspan=\"2\" valign=\"top\">Neither sector nor transaction/sector have been found</th>\n",
       "      <th>CA-3-A033944001</th>\n",
       "      <td>1</td>\n",
       "    </tr>\n",
       "    <tr>\n",
       "      <th>CA-3-D002114001</th>\n",
       "      <td>1</td>\n",
       "    </tr>\n",
       "    <tr>\n",
       "      <th rowspan=\"8\" valign=\"top\">recipient-country/@percentage and recipient-region/@percentage must sum to 100</th>\n",
       "      <th rowspan=\"8\" valign=\"top\">`(recipient-country|recipient-region)/@percentage` should sum to 100</th>\n",
       "      <th>CA-3-A034764001</th>\n",
       "      <td>1</td>\n",
       "    </tr>\n",
       "    <tr>\n",
       "      <th>CA-3-A035272001</th>\n",
       "      <td>1</td>\n",
       "    </tr>\n",
       "    <tr>\n",
       "      <th>CA-3-A035470001</th>\n",
       "      <td>1</td>\n",
       "    </tr>\n",
       "    <tr>\n",
       "      <th>CA-3-D002423002</th>\n",
       "      <td>1</td>\n",
       "    </tr>\n",
       "    <tr>\n",
       "      <th>CA-3-D004492001</th>\n",
       "      <td>1</td>\n",
       "    </tr>\n",
       "    <tr>\n",
       "      <th>CA-3-D004499001</th>\n",
       "      <td>1</td>\n",
       "    </tr>\n",
       "    <tr>\n",
       "      <th>CA-3-D004504001</th>\n",
       "      <td>1</td>\n",
       "    </tr>\n",
       "    <tr>\n",
       "      <th>CA-3-D004505001</th>\n",
       "      <td>1</td>\n",
       "    </tr>\n",
       "  </tbody>\n",
       "</table>\n",
       "</div>"
      ],
      "text/plain": [
       "                                                                                                                       path\n",
       "rule                                               message                                            id                   \n",
       "activity-date[@type=\"2\"]/@iso-date must be befo... Start date (2007-03-27) must be before end date... CA-3-A033637001     1\n",
       "                                                   Start date (2008-03-20) must be before end date... CA-3-M012715001     1\n",
       "                                                   Start date (2009-01-13) must be before end date... CA-3-M012957001     1\n",
       "                                                   Start date (2009-03-26) must be before end date... CA-3-M013025001     1\n",
       "                                                   Start date (2009-03-27) must be before end date... CA-3-M013020001     1\n",
       "                                                                                                      CA-3-M013026001     1\n",
       "                                                                                                      CA-3-M013029001     1\n",
       "                                                   Start date (2010-03-24) must be before end date... CA-3-M013190001     1\n",
       "                                                   Start date (2010-03-25) must be before end date... CA-3-M013183001     1\n",
       "                                                   Start date (2011-03-30) must be before end date... CA-3-A035214001     1\n",
       "                                                   Start date (2013-01-02) must be before end date... CA-3-M013793001     1\n",
       "                                                   Start date (2014-03-14) must be before end date... CA-3-D000695001     1\n",
       "                                                   Start date (2014-03-28) must be before end date... CA-3-D000578001     1\n",
       "activity-date[date @type=\"1\"] or activity-date[... Neither activity-date[@type=\"1\"] nor activity-d... CA-3-A033298001     1\n",
       "                                                                                                      CA-3-A034519001     1\n",
       "                                                                                                      CA-3-A035113001     1\n",
       "                                                                                                      CA-3-A035138001     1\n",
       "                                                                                                      CA-3-D003333001     1\n",
       "                                                                                                      CA-3-D004965001     1\n",
       "                                                                                                      CA-3-S065691001     1\n",
       "either sector or transaction/sector must be pre... Neither sector nor transaction/sector have been... CA-3-A033944001     1\n",
       "                                                                                                      CA-3-D002114001     1\n",
       "recipient-country/@percentage and recipient-reg... `(recipient-country|recipient-region)/@percenta... CA-3-A034764001     1\n",
       "                                                                                                      CA-3-A035272001     1\n",
       "                                                                                                      CA-3-A035470001     1\n",
       "                                                                                                      CA-3-D002423002     1\n",
       "                                                                                                      CA-3-D004492001     1\n",
       "                                                                                                      CA-3-D004499001     1\n",
       "                                                                                                      CA-3-D004504001     1\n",
       "                                                                                                      CA-3-D004505001     1"
      ]
     },
     "execution_count": 807,
     "metadata": {},
     "output_type": "execute_result"
    }
   ],
   "source": [
    "ruleset_validation_by_rule = ruleset_table.pivot_table(\n",
    "    index=['rule', 'message', 'id'], aggfunc='count')\n",
    "\n",
    "ruleset_validation_by_rule.to_excel(pd_writer, \"Ruleset Violations by Rule\")\n",
    "\n",
    "ruleset_validation_by_rule"
   ]
  },
  {
   "cell_type": "code",
   "execution_count": 808,
   "metadata": {},
   "outputs": [
    {
     "name": "stdout",
     "output_type": "stream",
     "text": [
      "\n"
     ]
    }
   ],
   "source": [
    "print(\"\")"
   ]
  },
  {
   "cell_type": "markdown",
   "metadata": {},
   "source": [
    "Here we can see that most of the ruleset violations have been to do with dates - either activities starting and ending on the same day, or not including a start date, although there are also some ruleset violations regarding sectors and recipient countries."
   ]
  },
  {
   "cell_type": "markdown",
   "metadata": {},
   "source": [
    "# Assessing Compliance and Coverage \n",
    "\n",
    "This section assesses the compliance of GAC’s data with the IATI 2.02 standard, with a specific focus on the use and coverage of all elements of the standard (version 2.02) and adherence to rules. There is an initial high level look at timeliness and comprehensiveness (coverage), followed by a deeper analysis informed by 6 specified use-cases use cases in the subsections below.\n",
    "\n",
    "To summarise the following few sections, the IATI data published by Global Affairs Canada performs very well on the general metrics used for compliance. The timeliness and recency of its data is exemplary, and in general the comprehensive use of IATI standard fields puts it at the top five IATI publishers, [according to the IATI Dashboard](http://dashboard.iatistandard.org/summary_stats.html).\n",
    "\n",
    "This is described in more detail in the next few sections. It is important to note, however, that just evaluating the proportion of activities with certain fields does not elaborate on how useful the inclusion of various fields is, hence the [use case driven approach below](#Detailed-Analysis-Method) is required to analyse in more depth."
   ]
  },
  {
   "cell_type": "markdown",
   "metadata": {},
   "source": [
    "## Initial Evaluation at Compliance and Coverage\n",
    "(Deliverable 3.1)\n",
    "\n",
    "This section utilises the data available on the IATI Dashboard [Publishing Statistics](http://dashboard.iatistandard.org/publishing_stats.html) page, filtering and interpreting to evaluate Timeliness and Coverage. As we see in the [sub-sections below](#Detailed-Analysis-Method) however, the dashboard doesn't evaluate the combination of fields required to assess some specific use cases, hence the need for more detailed analysis.\n",
    "\n",
    "### Timeliness\n",
    "\n",
    "Both the frequency of publication and the recency of GAC's IATI data is exemplary, achieving the highest designation from the IATI Dasboard's metrics:"
   ]
  },
  {
   "cell_type": "code",
   "execution_count": 809,
   "metadata": {},
   "outputs": [
    {
     "data": {
      "text/html": [
       "<div>\n",
       "<style>\n",
       "    .dataframe thead tr:only-child th {\n",
       "        text-align: right;\n",
       "    }\n",
       "\n",
       "    .dataframe thead th {\n",
       "        text-align: left;\n",
       "    }\n",
       "\n",
       "    .dataframe tbody tr th {\n",
       "        vertical-align: top;\n",
       "    }\n",
       "</style>\n",
       "<table border=\"1\" class=\"dataframe\">\n",
       "  <thead>\n",
       "    <tr style=\"text-align: right;\">\n",
       "      <th></th>\n",
       "      <th>Publisher Name</th>\n",
       "      <th>Publisher Registry Id</th>\n",
       "      <th>2016-12</th>\n",
       "      <th>2017-01</th>\n",
       "      <th>2017-02</th>\n",
       "      <th>2017-03</th>\n",
       "      <th>2017-04</th>\n",
       "      <th>2017-05</th>\n",
       "      <th>2017-06</th>\n",
       "      <th>2017-07</th>\n",
       "      <th>2017-08</th>\n",
       "      <th>2017-09</th>\n",
       "      <th>2017-10</th>\n",
       "      <th>2017-11</th>\n",
       "      <th>Frequency</th>\n",
       "    </tr>\n",
       "  </thead>\n",
       "  <tbody>\n",
       "    <tr>\n",
       "      <th>5</th>\n",
       "      <td>Canada - Global Affairs Canada | Affaires mond...</td>\n",
       "      <td>gac-amc</td>\n",
       "      <td>1</td>\n",
       "      <td>1</td>\n",
       "      <td>11</td>\n",
       "      <td>20</td>\n",
       "      <td>2</td>\n",
       "      <td>1</td>\n",
       "      <td>3</td>\n",
       "      <td>16</td>\n",
       "      <td>13</td>\n",
       "      <td>17</td>\n",
       "      <td>12</td>\n",
       "      <td>13</td>\n",
       "      <td>Monthly</td>\n",
       "    </tr>\n",
       "  </tbody>\n",
       "</table>\n",
       "</div>"
      ],
      "text/plain": [
       "                                      Publisher Name Publisher Registry Id  \\\n",
       "5  Canada - Global Affairs Canada | Affaires mond...               gac-amc   \n",
       "\n",
       "   2016-12  2017-01  2017-02  2017-03  2017-04  2017-05  2017-06  2017-07  \\\n",
       "5        1        1       11       20        2        1        3       16   \n",
       "\n",
       "   2017-08  2017-09  2017-10  2017-11 Frequency  \n",
       "5       13       17       12       13   Monthly  "
      ]
     },
     "execution_count": 809,
     "metadata": {},
     "output_type": "execute_result"
    }
   ],
   "source": [
    "timeliness = pd.read_csv(\n",
    "    \"http://dashboard.iatistandard.org/timeliness_frequency.csv\")\n",
    "\n",
    "timeliness[timeliness['Publisher Registry Id'] == 'gac-amc']"
   ]
  },
  {
   "cell_type": "markdown",
   "metadata": {},
   "source": [
    "Although the frequency varies a lot by season, there has been consistent publication at least once every month, achieving a score of 'Monthly' which is the highest available score on the IATI Dashboard."
   ]
  },
  {
   "cell_type": "code",
   "execution_count": 810,
   "metadata": {},
   "outputs": [
    {
     "data": {
      "text/html": [
       "<div>\n",
       "<style>\n",
       "    .dataframe thead tr:only-child th {\n",
       "        text-align: right;\n",
       "    }\n",
       "\n",
       "    .dataframe thead th {\n",
       "        text-align: left;\n",
       "    }\n",
       "\n",
       "    .dataframe tbody tr th {\n",
       "        vertical-align: top;\n",
       "    }\n",
       "</style>\n",
       "<table border=\"1\" class=\"dataframe\">\n",
       "  <thead>\n",
       "    <tr style=\"text-align: right;\">\n",
       "      <th></th>\n",
       "      <th>Publisher Name</th>\n",
       "      <th>Publisher Registry Id</th>\n",
       "      <th>2016-12</th>\n",
       "      <th>2017-01</th>\n",
       "      <th>2017-02</th>\n",
       "      <th>2017-03</th>\n",
       "      <th>2017-04</th>\n",
       "      <th>2017-05</th>\n",
       "      <th>2017-06</th>\n",
       "      <th>2017-07</th>\n",
       "      <th>2017-08</th>\n",
       "      <th>2017-09</th>\n",
       "      <th>2017-10</th>\n",
       "      <th>2017-11</th>\n",
       "      <th>Time lag</th>\n",
       "    </tr>\n",
       "  </thead>\n",
       "  <tbody>\n",
       "    <tr>\n",
       "      <th>11</th>\n",
       "      <td>Canada - Global Affairs Canada | Affaires mond...</td>\n",
       "      <td>gac-amc</td>\n",
       "      <td>149</td>\n",
       "      <td>127</td>\n",
       "      <td>151</td>\n",
       "      <td>374</td>\n",
       "      <td>46</td>\n",
       "      <td>153</td>\n",
       "      <td>98</td>\n",
       "      <td>78</td>\n",
       "      <td>95</td>\n",
       "      <td>110</td>\n",
       "      <td>87</td>\n",
       "      <td>100</td>\n",
       "      <td>One month</td>\n",
       "    </tr>\n",
       "  </tbody>\n",
       "</table>\n",
       "</div>"
      ],
      "text/plain": [
       "                                       Publisher Name Publisher Registry Id  \\\n",
       "11  Canada - Global Affairs Canada | Affaires mond...               gac-amc   \n",
       "\n",
       "    2016-12  2017-01  2017-02  2017-03  2017-04  2017-05  2017-06  2017-07  \\\n",
       "11      149      127      151      374       46      153       98       78   \n",
       "\n",
       "    2017-08  2017-09  2017-10  2017-11   Time lag  \n",
       "11       95      110       87      100  One month  "
      ]
     },
     "execution_count": 810,
     "metadata": {},
     "output_type": "execute_result"
    }
   ],
   "source": [
    "timeliness = pd.read_csv(\n",
    "    \"http://dashboard.iatistandard.org/timeliness_timelag.csv\")\n",
    "\n",
    "timeliness[timeliness['Publisher Registry Id'] == 'gac-amc']"
   ]
  },
  {
   "cell_type": "markdown",
   "metadata": {},
   "source": [
    "Again, with the Time Lag measurement, which shows the number of transactions dated in each month, this data achieves the highest measure. This means that the data is very up to date by the standards of the IATI Dashboard."
   ]
  },
  {
   "cell_type": "markdown",
   "metadata": {},
   "source": [
    "### Forward Looking Data\n",
    "\n",
    "The table below shows that GAC has gradual decline in the proportion of activities with budgets over the course of the next three years. This gives an average of 78%, putting GAC at the 37th position on this metric when compared to all IATI publishers, according to the [IATI Dashboard](http://dashboard.iatistandard.org/summary_stats.html)."
   ]
  },
  {
   "cell_type": "code",
   "execution_count": 811,
   "metadata": {},
   "outputs": [
    {
     "data": {
      "text/html": [
       "<div>\n",
       "<style>\n",
       "    .dataframe thead tr:only-child th {\n",
       "        text-align: right;\n",
       "    }\n",
       "\n",
       "    .dataframe thead th {\n",
       "        text-align: left;\n",
       "    }\n",
       "\n",
       "    .dataframe tbody tr th {\n",
       "        vertical-align: top;\n",
       "    }\n",
       "</style>\n",
       "<table border=\"1\" class=\"dataframe\">\n",
       "  <thead>\n",
       "    <tr style=\"text-align: right;\">\n",
       "      <th></th>\n",
       "      <th>Publisher Name</th>\n",
       "      <th>Publisher Registry Id</th>\n",
       "      <th>Percentage of current activities with budgets (2017)</th>\n",
       "      <th>Percentage of current activities with budgets (2018)</th>\n",
       "      <th>Percentage of current activities with budgets (2019)</th>\n",
       "    </tr>\n",
       "  </thead>\n",
       "  <tbody>\n",
       "    <tr>\n",
       "      <th>88</th>\n",
       "      <td>Canada - Global Affairs Canada | Affaires mond...</td>\n",
       "      <td>gac-amc</td>\n",
       "      <td>95</td>\n",
       "      <td>80</td>\n",
       "      <td>60</td>\n",
       "    </tr>\n",
       "  </tbody>\n",
       "</table>\n",
       "</div>"
      ],
      "text/plain": [
       "                                       Publisher Name Publisher Registry Id  \\\n",
       "88  Canada - Global Affairs Canada | Affaires mond...               gac-amc   \n",
       "\n",
       "   Percentage of current activities with budgets (2017)  \\\n",
       "88                                                 95     \n",
       "\n",
       "   Percentage of current activities with budgets (2018)  \\\n",
       "88                                                 80     \n",
       "\n",
       "   Percentage of current activities with budgets (2019)  \n",
       "88                                                 60    "
      ]
     },
     "execution_count": 811,
     "metadata": {},
     "output_type": "execute_result"
    }
   ],
   "source": [
    "forwardlooking = pd.read_csv(\n",
    "    \"http://dashboard.iatistandard.org/forwardlooking.csv\")\n",
    "\n",
    "forwardlooking = forwardlooking[\n",
    "    forwardlooking.columns.drop(\n",
    "        list(forwardlooking.filter(regex='Current activities ')))]\n",
    "\n",
    "forwardlooking[forwardlooking['Publisher Registry Id'] == 'gac-amc']"
   ]
  },
  {
   "cell_type": "markdown",
   "metadata": {},
   "source": [
    "### Coverage Of IATI Standard Elements\n",
    "\n",
    "The tables below show the percentage of GAC's activities which include the fields listed in the headings. They are lifted from the IATI Dashboard.\n",
    "\n",
    "GAC has 100% coverage of the core IATI Elements:"
   ]
  },
  {
   "cell_type": "code",
   "execution_count": 812,
   "metadata": {},
   "outputs": [
    {
     "data": {
      "text/html": [
       "<div>\n",
       "<style>\n",
       "    .dataframe thead tr:only-child th {\n",
       "        text-align: right;\n",
       "    }\n",
       "\n",
       "    .dataframe thead th {\n",
       "        text-align: left;\n",
       "    }\n",
       "\n",
       "    .dataframe tbody tr th {\n",
       "        vertical-align: top;\n",
       "    }\n",
       "</style>\n",
       "<table border=\"1\" class=\"dataframe\">\n",
       "  <thead>\n",
       "    <tr style=\"text-align: right;\">\n",
       "      <th></th>\n",
       "      <th>Publisher Name</th>\n",
       "      <th>Publisher Registry Id</th>\n",
       "      <th>Version (with any data)</th>\n",
       "      <th>Reporting-Org (with any data)</th>\n",
       "      <th>Iati-identifier (with any data)</th>\n",
       "      <th>Participating Organisation (with any data)</th>\n",
       "      <th>Title (with any data)</th>\n",
       "      <th>Description (with any data)</th>\n",
       "      <th>Status (with any data)</th>\n",
       "      <th>Activity Date (with any data)</th>\n",
       "      <th>Sector (with any data)</th>\n",
       "      <th>Country or Region (with any data)</th>\n",
       "      <th>Average (with any data)</th>\n",
       "    </tr>\n",
       "  </thead>\n",
       "  <tbody>\n",
       "    <tr>\n",
       "      <th>88</th>\n",
       "      <td>Canada - Global Affairs Canada | Affaires mond...</td>\n",
       "      <td>gac-amc</td>\n",
       "      <td>100</td>\n",
       "      <td>100</td>\n",
       "      <td>100</td>\n",
       "      <td>100</td>\n",
       "      <td>100</td>\n",
       "      <td>100</td>\n",
       "      <td>100</td>\n",
       "      <td>100</td>\n",
       "      <td>100</td>\n",
       "      <td>100</td>\n",
       "      <td>100</td>\n",
       "    </tr>\n",
       "  </tbody>\n",
       "</table>\n",
       "</div>"
      ],
      "text/plain": [
       "                                       Publisher Name Publisher Registry Id  \\\n",
       "88  Canada - Global Affairs Canada | Affaires mond...               gac-amc   \n",
       "\n",
       "   Version (with any data) Reporting-Org (with any data)  \\\n",
       "88                     100                           100   \n",
       "\n",
       "   Iati-identifier (with any data) Participating Organisation (with any data)  \\\n",
       "88                             100                                        100   \n",
       "\n",
       "   Title (with any data) Description (with any data) Status (with any data)  \\\n",
       "88                   100                         100                    100   \n",
       "\n",
       "   Activity Date (with any data) Sector (with any data)  \\\n",
       "88                           100                    100   \n",
       "\n",
       "   Country or Region (with any data)  Average (with any data)  \n",
       "88                               100                      100  "
      ]
     },
     "execution_count": 812,
     "metadata": {},
     "output_type": "execute_result"
    }
   ],
   "source": [
    "comprehensiveness_core = pd.read_csv(\n",
    "    \"http://dashboard.iatistandard.org/comprehensiveness_core.csv\")\n",
    "\n",
    "comprehensiveness_core = comprehensiveness_core[\n",
    "    comprehensiveness_core.columns.drop(\n",
    "        list(comprehensiveness_core.filter(regex='with valid data')))]\n",
    "\n",
    "comprehensiveness_core[comprehensiveness_core['Publisher Registry Id'] == 'gac-amc']"
   ]
  },
  {
   "cell_type": "markdown",
   "metadata": {},
   "source": [
    "This is nearly true of the financials, though there is a slight dip in disbursements and expenditure transactions. The IATI Dashboard doesn't not consider `planned-disbursements` which have been considered [below](#Deliverable-3.1.6)."
   ]
  },
  {
   "cell_type": "code",
   "execution_count": 813,
   "metadata": {},
   "outputs": [
    {
     "data": {
      "text/html": [
       "<div>\n",
       "<style>\n",
       "    .dataframe thead tr:only-child th {\n",
       "        text-align: right;\n",
       "    }\n",
       "\n",
       "    .dataframe thead th {\n",
       "        text-align: left;\n",
       "    }\n",
       "\n",
       "    .dataframe tbody tr th {\n",
       "        vertical-align: top;\n",
       "    }\n",
       "</style>\n",
       "<table border=\"1\" class=\"dataframe\">\n",
       "  <thead>\n",
       "    <tr style=\"text-align: right;\">\n",
       "      <th></th>\n",
       "      <th>Publisher Name</th>\n",
       "      <th>Publisher Registry Id</th>\n",
       "      <th>Transaction - Commitment (with any data)</th>\n",
       "      <th>Transaction - Disbursement or Expenditure (with any data)</th>\n",
       "      <th>Transaction - Traceability (with any data)</th>\n",
       "      <th>Budget (with any data)</th>\n",
       "      <th>Average (with any data)</th>\n",
       "    </tr>\n",
       "  </thead>\n",
       "  <tbody>\n",
       "    <tr>\n",
       "      <th>88</th>\n",
       "      <td>Canada - Global Affairs Canada | Affaires mond...</td>\n",
       "      <td>gac-amc</td>\n",
       "      <td>100</td>\n",
       "      <td>87</td>\n",
       "      <td>100</td>\n",
       "      <td>100</td>\n",
       "      <td>97</td>\n",
       "    </tr>\n",
       "  </tbody>\n",
       "</table>\n",
       "</div>"
      ],
      "text/plain": [
       "                                       Publisher Name Publisher Registry Id  \\\n",
       "88  Canada - Global Affairs Canada | Affaires mond...               gac-amc   \n",
       "\n",
       "   Transaction - Commitment (with any data)  \\\n",
       "88                                      100   \n",
       "\n",
       "   Transaction - Disbursement or Expenditure (with any data)  \\\n",
       "88                                                 87          \n",
       "\n",
       "   Transaction - Traceability (with any data) Budget (with any data)  \\\n",
       "88                                        100                    100   \n",
       "\n",
       "    Average (with any data)  \n",
       "88                       97  "
      ]
     },
     "execution_count": 813,
     "metadata": {},
     "output_type": "execute_result"
    }
   ],
   "source": [
    "comprehensiveness_financials = pd.read_csv(\n",
    "    \"http://dashboard.iatistandard.org/comprehensiveness_financials.csv\")\n",
    "\n",
    "comprehensiveness_financials = comprehensiveness_financials[\n",
    "    comprehensiveness_financials.columns.drop(\n",
    "        list(comprehensiveness_financials.filter(regex='with valid data')))]\n",
    "\n",
    "comprehensiveness_financials[comprehensiveness_financials['Publisher Registry Id'] == 'gac-amc']"
   ]
  },
  {
   "cell_type": "markdown",
   "metadata": {},
   "source": [
    "With 'Value Added' fields, there is a more pronounced drop. The most significant field here is the `result/indicator`. As seen in the section on [schema validation](#Schema-Valdation) above, this causes the majority of GAC's activities to be invalid."
   ]
  },
  {
   "cell_type": "code",
   "execution_count": 814,
   "metadata": {},
   "outputs": [
    {
     "data": {
      "text/html": [
       "<div>\n",
       "<style>\n",
       "    .dataframe thead tr:only-child th {\n",
       "        text-align: right;\n",
       "    }\n",
       "\n",
       "    .dataframe thead th {\n",
       "        text-align: left;\n",
       "    }\n",
       "\n",
       "    .dataframe tbody tr th {\n",
       "        vertical-align: top;\n",
       "    }\n",
       "</style>\n",
       "<table border=\"1\" class=\"dataframe\">\n",
       "  <thead>\n",
       "    <tr style=\"text-align: right;\">\n",
       "      <th></th>\n",
       "      <th>Publisher Name</th>\n",
       "      <th>Publisher Registry Id</th>\n",
       "      <th>Contacts (with any data)</th>\n",
       "      <th>Location Details (with any data)</th>\n",
       "      <th>Geographic Coordinates (with any data)</th>\n",
       "      <th>DAC Sectors (with any data)</th>\n",
       "      <th>Capital Spend (with any data)</th>\n",
       "      <th>Activity Documents (with any data)</th>\n",
       "      <th>Aid Type (with any data)</th>\n",
       "      <th>Recipient Language (with any data)</th>\n",
       "      <th>Result/ Indicator (with any data)</th>\n",
       "      <th>Average (with any data)</th>\n",
       "    </tr>\n",
       "  </thead>\n",
       "  <tbody>\n",
       "    <tr>\n",
       "      <th>88</th>\n",
       "      <td>Canada - Global Affairs Canada | Affaires mond...</td>\n",
       "      <td>gac-amc</td>\n",
       "      <td>100</td>\n",
       "      <td>95</td>\n",
       "      <td>95</td>\n",
       "      <td>100</td>\n",
       "      <td>23</td>\n",
       "      <td>100</td>\n",
       "      <td>100</td>\n",
       "      <td>55</td>\n",
       "      <td>0</td>\n",
       "      <td>74</td>\n",
       "    </tr>\n",
       "  </tbody>\n",
       "</table>\n",
       "</div>"
      ],
      "text/plain": [
       "                                       Publisher Name Publisher Registry Id  \\\n",
       "88  Canada - Global Affairs Canada | Affaires mond...               gac-amc   \n",
       "\n",
       "   Contacts (with any data) Location Details (with any data)  \\\n",
       "88                      100                               95   \n",
       "\n",
       "   Geographic Coordinates (with any data) DAC Sectors (with any data)  \\\n",
       "88                                     95                         100   \n",
       "\n",
       "   Capital Spend (with any data) Activity Documents (with any data)  \\\n",
       "88                            23                                100   \n",
       "\n",
       "   Aid Type (with any data) Recipient Language (with any data)  \\\n",
       "88                      100                                 55   \n",
       "\n",
       "   Result/ Indicator (with any data)  Average (with any data)  \n",
       "88                                 0                       74  "
      ]
     },
     "execution_count": 814,
     "metadata": {},
     "output_type": "execute_result"
    }
   ],
   "source": [
    "comprehensiveness_valueadded = pd.read_csv(\n",
    "    \"http://dashboard.iatistandard.org/comprehensiveness_valueadded.csv\")\n",
    "\n",
    "comprehensiveness_valueadded = comprehensiveness_valueadded[\n",
    "    comprehensiveness_valueadded.columns.drop(\n",
    "        list(comprehensiveness_valueadded.filter(regex='with valid data')))]\n",
    "\n",
    "comprehensiveness_valueadded[comprehensiveness_valueadded['Publisher Registry Id'] == 'gac-amc']"
   ]
  },
  {
   "cell_type": "code",
   "execution_count": 815,
   "metadata": {},
   "outputs": [
    {
     "data": {
      "text/html": [
       "<div>\n",
       "<style>\n",
       "    .dataframe thead tr:only-child th {\n",
       "        text-align: right;\n",
       "    }\n",
       "\n",
       "    .dataframe thead th {\n",
       "        text-align: left;\n",
       "    }\n",
       "\n",
       "    .dataframe tbody tr th {\n",
       "        vertical-align: top;\n",
       "    }\n",
       "</style>\n",
       "<table border=\"1\" class=\"dataframe\">\n",
       "  <thead>\n",
       "    <tr style=\"text-align: right;\">\n",
       "      <th></th>\n",
       "      <th>Publisher Name</th>\n",
       "      <th>Publisher Registry Id</th>\n",
       "      <th>Publisher Type</th>\n",
       "      <th>Timeliness</th>\n",
       "      <th>Forward looking</th>\n",
       "      <th>Comprehensive</th>\n",
       "      <th>Score</th>\n",
       "      <th>Coverage</th>\n",
       "      <th>Coverage-adjusted score</th>\n",
       "    </tr>\n",
       "  </thead>\n",
       "  <tbody>\n",
       "    <tr>\n",
       "      <th>88</th>\n",
       "      <td>Canada - Global Affairs Canada | Affaires mond...</td>\n",
       "      <td>gac-amc</td>\n",
       "      <td>Government</td>\n",
       "      <td>100</td>\n",
       "      <td>78</td>\n",
       "      <td>92</td>\n",
       "      <td>90</td>\n",
       "      <td>100</td>\n",
       "      <td>90</td>\n",
       "    </tr>\n",
       "  </tbody>\n",
       "</table>\n",
       "</div>"
      ],
      "text/plain": [
       "                                       Publisher Name Publisher Registry Id  \\\n",
       "88  Canada - Global Affairs Canada | Affaires mond...               gac-amc   \n",
       "\n",
       "   Publisher Type  Timeliness  Forward looking  Comprehensive  Score  \\\n",
       "88     Government         100               78             92     90   \n",
       "\n",
       "    Coverage  Coverage-adjusted score  \n",
       "88       100                       90  "
      ]
     },
     "execution_count": 815,
     "metadata": {},
     "output_type": "execute_result"
    }
   ],
   "source": [
    "summary_stats = pd.read_csv(\n",
    "    \"http://dashboard.iatistandard.org/summary_stats.csv\")\n",
    "\n",
    "summary_stats = summary_stats[\n",
    "    summary_stats.columns.drop(\n",
    "        list(summary_stats.filter(regex='with valid data')))]\n",
    "\n",
    "summary_stats[summary_stats['Publisher Registry Id'] == 'gac-amc']"
   ]
  },
  {
   "cell_type": "markdown",
   "metadata": {},
   "source": [
    "## Detailed Analysis Method\n",
    "\n",
    "Each of the deliverables below corresponds to a use case, around which compliance and coverage is framed. These are reflected in the 'Use Case' section which opens each of them.\n",
    "\n",
    "The analytical approaches employed have varied by deliverable, and have generally been grounded in initial exploratory analysis and built depending on the findings.\n",
    "\n",
    "All of the code is visible, so scrutiny on the methods is encouraged."
   ]
  },
  {
   "cell_type": "markdown",
   "metadata": {},
   "source": [
    "## Use-case 1: Identifying Projects and Partners (Deliverable 3.1.1)\n",
    "\n",
    "### Use Case\n",
    "\n",
    "_Identify projects in specific countries, with specific partners, with specific types of partners (eg multilateral organisations, CSOs, private sector)_\n",
    "\n",
    "This section analyses the existence and coverage of the relevant fields: recipient countries, participating organisations, participating organisation (type and role)."
   ]
  },
  {
   "cell_type": "markdown",
   "metadata": {},
   "source": [
    "First, let's extract some information about the fields we're interested in, namely recipient countries and participating organisations.\n",
    "\n",
    "The table below extracted below shows, for each activity, how many instances of each field there are. This will gives us a first pass, and allows us to make more opinionated analyses subsequently.\n",
    "\n",
    "<div class=\"alert alert-info\">\n",
    "\n",
    "**Note**: Although recipient regions aren't the focus of this deliverable, they've been included to help analysis of recipient country below. Please also note that this table has been included in the Appendix Workbook\n",
    "\n",
    "</div>\n",
    "\n"
   ]
  },
  {
   "cell_type": "code",
   "execution_count": 816,
   "metadata": {},
   "outputs": [
    {
     "data": {
      "text/html": [
       "<div>\n",
       "<style>\n",
       "    .dataframe thead tr:only-child th {\n",
       "        text-align: right;\n",
       "    }\n",
       "\n",
       "    .dataframe thead th {\n",
       "        text-align: left;\n",
       "    }\n",
       "\n",
       "    .dataframe tbody tr th {\n",
       "        vertical-align: top;\n",
       "    }\n",
       "</style>\n",
       "<table border=\"1\" class=\"dataframe\">\n",
       "  <thead>\n",
       "    <tr style=\"text-align: right;\">\n",
       "      <th></th>\n",
       "      <th>iati-identifier</th>\n",
       "      <th>activity-status</th>\n",
       "      <th>recipient-country-count</th>\n",
       "      <th>recipient-region-count</th>\n",
       "      <th>participating-organisation-count</th>\n",
       "    </tr>\n",
       "  </thead>\n",
       "  <tbody>\n",
       "    <tr>\n",
       "      <th>0</th>\n",
       "      <td>CA-3-A031268001</td>\n",
       "      <td>3</td>\n",
       "      <td>12</td>\n",
       "      <td>0</td>\n",
       "      <td>3</td>\n",
       "    </tr>\n",
       "    <tr>\n",
       "      <th>1</th>\n",
       "      <td>CA-3-A031470001</td>\n",
       "      <td>2</td>\n",
       "      <td>1</td>\n",
       "      <td>0</td>\n",
       "      <td>3</td>\n",
       "    </tr>\n",
       "    <tr>\n",
       "      <th>2</th>\n",
       "      <td>CA-3-A031708001</td>\n",
       "      <td>2</td>\n",
       "      <td>1</td>\n",
       "      <td>0</td>\n",
       "      <td>3</td>\n",
       "    </tr>\n",
       "    <tr>\n",
       "      <th>3</th>\n",
       "      <td>CA-3-A031708003</td>\n",
       "      <td>3</td>\n",
       "      <td>1</td>\n",
       "      <td>0</td>\n",
       "      <td>3</td>\n",
       "    </tr>\n",
       "    <tr>\n",
       "      <th>4</th>\n",
       "      <td>CA-3-A031717001</td>\n",
       "      <td>3</td>\n",
       "      <td>1</td>\n",
       "      <td>0</td>\n",
       "      <td>3</td>\n",
       "    </tr>\n",
       "  </tbody>\n",
       "</table>\n",
       "</div>"
      ],
      "text/plain": [
       "   iati-identifier activity-status  recipient-country-count  \\\n",
       "0  CA-3-A031268001               3                       12   \n",
       "1  CA-3-A031470001               2                        1   \n",
       "2  CA-3-A031708001               2                        1   \n",
       "3  CA-3-A031708003               3                        1   \n",
       "4  CA-3-A031717001               3                        1   \n",
       "\n",
       "   recipient-region-count  participating-organisation-count  \n",
       "0                       0                                 3  \n",
       "1                       0                                 3  \n",
       "2                       0                                 3  \n",
       "3                       0                                 3  \n",
       "4                       0                                 3  "
      ]
     },
     "execution_count": 816,
     "metadata": {},
     "output_type": "execute_result"
    }
   ],
   "source": [
    "locations_and_partners = pd.DataFrame(\n",
    "    columns=[\n",
    "        'iati-identifier', \n",
    "        'activity-status', \n",
    "        'recipient-country-count',\n",
    "        'recipient-region-count',\n",
    "        'participating-organisation-count'\n",
    "    ],\n",
    "    data=[[\n",
    "        activity.find('iati-identifier').text,\n",
    "        activity.find('activity-status').get('code'), \n",
    "        len(activity.findall('recipient-country')),\n",
    "        len(activity.findall('recipient-region')),\n",
    "        len(activity.findall('participating-org'))\n",
    "    ] for activity in big_iati.findall('iati-activity')])\n",
    "\n",
    "locations_and_partners.to_excel(pd_writer, \"Locations and Partners\")\n",
    "\n",
    "locations_and_partners.head()"
   ]
  },
  {
   "cell_type": "markdown",
   "metadata": {},
   "source": [
    "Now, we can use the 'describe' cuntion to analyse this distribution"
   ]
  },
  {
   "cell_type": "code",
   "execution_count": 817,
   "metadata": {
    "scrolled": true
   },
   "outputs": [
    {
     "data": {
      "text/html": [
       "<div>\n",
       "<style>\n",
       "    .dataframe thead tr:only-child th {\n",
       "        text-align: right;\n",
       "    }\n",
       "\n",
       "    .dataframe thead th {\n",
       "        text-align: left;\n",
       "    }\n",
       "\n",
       "    .dataframe tbody tr th {\n",
       "        vertical-align: top;\n",
       "    }\n",
       "</style>\n",
       "<table border=\"1\" class=\"dataframe\">\n",
       "  <thead>\n",
       "    <tr style=\"text-align: right;\">\n",
       "      <th></th>\n",
       "      <th>recipient-country-count</th>\n",
       "      <th>recipient-region-count</th>\n",
       "      <th>participating-organisation-count</th>\n",
       "    </tr>\n",
       "  </thead>\n",
       "  <tbody>\n",
       "    <tr>\n",
       "      <th>count</th>\n",
       "      <td>3961.000000</td>\n",
       "      <td>3961.00000</td>\n",
       "      <td>3961.0</td>\n",
       "    </tr>\n",
       "    <tr>\n",
       "      <th>mean</th>\n",
       "      <td>2.696289</td>\n",
       "      <td>0.44307</td>\n",
       "      <td>3.0</td>\n",
       "    </tr>\n",
       "    <tr>\n",
       "      <th>std</th>\n",
       "      <td>9.298740</td>\n",
       "      <td>1.15179</td>\n",
       "      <td>0.0</td>\n",
       "    </tr>\n",
       "    <tr>\n",
       "      <th>min</th>\n",
       "      <td>0.000000</td>\n",
       "      <td>0.00000</td>\n",
       "      <td>3.0</td>\n",
       "    </tr>\n",
       "    <tr>\n",
       "      <th>25%</th>\n",
       "      <td>1.000000</td>\n",
       "      <td>0.00000</td>\n",
       "      <td>3.0</td>\n",
       "    </tr>\n",
       "    <tr>\n",
       "      <th>50%</th>\n",
       "      <td>1.000000</td>\n",
       "      <td>0.00000</td>\n",
       "      <td>3.0</td>\n",
       "    </tr>\n",
       "    <tr>\n",
       "      <th>75%</th>\n",
       "      <td>1.000000</td>\n",
       "      <td>0.00000</td>\n",
       "      <td>3.0</td>\n",
       "    </tr>\n",
       "    <tr>\n",
       "      <th>max</th>\n",
       "      <td>148.000000</td>\n",
       "      <td>5.00000</td>\n",
       "      <td>3.0</td>\n",
       "    </tr>\n",
       "  </tbody>\n",
       "</table>\n",
       "</div>"
      ],
      "text/plain": [
       "       recipient-country-count  recipient-region-count  \\\n",
       "count              3961.000000              3961.00000   \n",
       "mean                  2.696289                 0.44307   \n",
       "std                   9.298740                 1.15179   \n",
       "min                   0.000000                 0.00000   \n",
       "25%                   1.000000                 0.00000   \n",
       "50%                   1.000000                 0.00000   \n",
       "75%                   1.000000                 0.00000   \n",
       "max                 148.000000                 5.00000   \n",
       "\n",
       "       participating-organisation-count  \n",
       "count                            3961.0  \n",
       "mean                                3.0  \n",
       "std                                 0.0  \n",
       "min                                 3.0  \n",
       "25%                                 3.0  \n",
       "50%                                 3.0  \n",
       "75%                                 3.0  \n",
       "max                                 3.0  "
      ]
     },
     "execution_count": 817,
     "metadata": {},
     "output_type": "execute_result"
    }
   ],
   "source": [
    "locations_and_partners.describe()"
   ]
  },
  {
   "cell_type": "markdown",
   "metadata": {},
   "source": [
    "The key things to observe here are as follows:\n",
    "\n",
    "* There are exactly three participating organisation elements in every element (max = 3; min = 3). This will allow a more opinionated analysis below.\n",
    "* Although the mean number of recipient countries provided is around 3, there is a lot of variation, and there are some with none, and at least one with 0 and one with 148. Again, this guides analysis below.\n",
    "* The two middle quartiles are constituted entirely of activities with one recipient country."
   ]
  },
  {
   "cell_type": "markdown",
   "metadata": {},
   "source": [
    "### Recipient Countries"
   ]
  },
  {
   "cell_type": "markdown",
   "metadata": {},
   "source": [
    "To get more of a sense of the distribution of recipient country coverage, let's use a histogram."
   ]
  },
  {
   "cell_type": "code",
   "execution_count": 818,
   "metadata": {
    "scrolled": false
   },
   "outputs": [
    {
     "data": {
      "text/html": [
       "\n",
       "\n",
       "    <div class=\"bk-root\">\n",
       "        <div class=\"bk-plotdiv\" id=\"f49b07b6-ddfc-461a-bcbc-54615ed8b7da\"></div>\n",
       "    </div>\n",
       "<script type=\"text/javascript\">\n",
       "  \n",
       "  (function(global) {\n",
       "    function now() {\n",
       "      return new Date();\n",
       "    }\n",
       "  \n",
       "    var force = false;\n",
       "  \n",
       "    if (typeof (window._bokeh_onload_callbacks) === \"undefined\" || force === true) {\n",
       "      window._bokeh_onload_callbacks = [];\n",
       "      window._bokeh_is_loading = undefined;\n",
       "    }\n",
       "  \n",
       "  \n",
       "    \n",
       "    if (typeof (window._bokeh_timeout) === \"undefined\" || force === true) {\n",
       "      window._bokeh_timeout = Date.now() + 0;\n",
       "      window._bokeh_failed_load = false;\n",
       "    }\n",
       "  \n",
       "    var NB_LOAD_WARNING = {'data': {'text/html':\n",
       "       \"<div style='background-color: #fdd'>\\n\"+\n",
       "       \"<p>\\n\"+\n",
       "       \"BokehJS does not appear to have successfully loaded. If loading BokehJS from CDN, this \\n\"+\n",
       "       \"may be due to a slow or bad network connection. Possible fixes:\\n\"+\n",
       "       \"</p>\\n\"+\n",
       "       \"<ul>\\n\"+\n",
       "       \"<li>re-rerun `output_notebook()` to attempt to load from CDN again, or</li>\\n\"+\n",
       "       \"<li>use INLINE resources instead, as so:</li>\\n\"+\n",
       "       \"</ul>\\n\"+\n",
       "       \"<code>\\n\"+\n",
       "       \"from bokeh.resources import INLINE\\n\"+\n",
       "       \"output_notebook(resources=INLINE)\\n\"+\n",
       "       \"</code>\\n\"+\n",
       "       \"</div>\"}};\n",
       "  \n",
       "    function display_loaded() {\n",
       "      if (window.Bokeh !== undefined) {\n",
       "        var el = document.getElementById(\"f49b07b6-ddfc-461a-bcbc-54615ed8b7da\");\n",
       "        el.textContent = \"BokehJS \" + Bokeh.version + \" successfully loaded.\";\n",
       "      } else if (Date.now() < window._bokeh_timeout) {\n",
       "        setTimeout(display_loaded, 100)\n",
       "      }\n",
       "    }\n",
       "  \n",
       "    function run_callbacks() {\n",
       "      window._bokeh_onload_callbacks.forEach(function(callback) { callback() });\n",
       "      delete window._bokeh_onload_callbacks\n",
       "      console.info(\"Bokeh: all callbacks have finished\");\n",
       "    }\n",
       "  \n",
       "    function load_libs(js_urls, callback) {\n",
       "      window._bokeh_onload_callbacks.push(callback);\n",
       "      if (window._bokeh_is_loading > 0) {\n",
       "        console.log(\"Bokeh: BokehJS is being loaded, scheduling callback at\", now());\n",
       "        return null;\n",
       "      }\n",
       "      if (js_urls == null || js_urls.length === 0) {\n",
       "        run_callbacks();\n",
       "        return null;\n",
       "      }\n",
       "      console.log(\"Bokeh: BokehJS not loaded, scheduling load and callback at\", now());\n",
       "      window._bokeh_is_loading = js_urls.length;\n",
       "      for (var i = 0; i < js_urls.length; i++) {\n",
       "        var url = js_urls[i];\n",
       "        var s = document.createElement('script');\n",
       "        s.src = url;\n",
       "        s.async = false;\n",
       "        s.onreadystatechange = s.onload = function() {\n",
       "          window._bokeh_is_loading--;\n",
       "          if (window._bokeh_is_loading === 0) {\n",
       "            console.log(\"Bokeh: all BokehJS libraries loaded\");\n",
       "            run_callbacks()\n",
       "          }\n",
       "        };\n",
       "        s.onerror = function() {\n",
       "          console.warn(\"failed to load library \" + url);\n",
       "        };\n",
       "        console.log(\"Bokeh: injecting script tag for BokehJS library: \", url);\n",
       "        document.getElementsByTagName(\"head\")[0].appendChild(s);\n",
       "      }\n",
       "    };var element = document.getElementById(\"f49b07b6-ddfc-461a-bcbc-54615ed8b7da\");\n",
       "    if (element == null) {\n",
       "      console.log(\"Bokeh: ERROR: autoload.js configured with elementid 'f49b07b6-ddfc-461a-bcbc-54615ed8b7da' but no matching script tag was found. \")\n",
       "      return false;\n",
       "    }\n",
       "  \n",
       "    var js_urls = [];\n",
       "  \n",
       "    var inline_js = [\n",
       "      function(Bokeh) {\n",
       "        (function() {\n",
       "          var fn = function() {\n",
       "            var docs_json = {\"79ec7b64-3091-4e82-b04f-640f628ba7e2\":{\"roots\":{\"references\":[{\"attributes\":{\"fill_alpha\":{\"field\":\"fill_alpha\"},\"fill_color\":{\"field\":\"color\"},\"height\":{\"field\":\"height\",\"units\":\"data\"},\"line_color\":{\"field\":\"line_color\"},\"width\":{\"field\":\"width\",\"units\":\"data\"},\"x\":{\"field\":\"x\"},\"y\":{\"field\":\"y\"}},\"id\":\"3aa61156-f6b6-4d99-985f-95fb9b1af9e0\",\"type\":\"Rect\"},{\"attributes\":{\"data_source\":{\"id\":\"89cc5721-bd81-4ead-86b2-9e4d167262e5\",\"type\":\"ColumnDataSource\"},\"glyph\":{\"id\":\"2f01520b-ecf2-4c04-8e5a-ad13c05e1c51\",\"type\":\"Rect\"},\"hover_glyph\":null,\"muted_glyph\":null},\"id\":\"f8a197d0-b418-4cac-86be-b6ca1bf08b27\",\"type\":\"GlyphRenderer\"},{\"attributes\":{\"callback\":null,\"column_names\":[\"x\",\"y\",\"width\",\"height\",\"color\",\"fill_alpha\",\"line_color\",\"line_alpha\",\"label\"],\"data\":{\"chart_index\":[\"(98.666667, 99.653333]\"],\"color\":[\"#f22c40\"],\"fill_alpha\":[0.8],\"height\":[0.0],\"label\":[\"(98.666667, 99.653333]\"],\"line_alpha\":[1.0],\"line_color\":[\"black\"],\"width\":[0.9866666666666646],\"x\":[\"99.16\"],\"y\":[0.0]}},\"id\":\"691ea082-71db-4751-a232-5d8e9243ab06\",\"type\":\"ColumnDataSource\"},{\"attributes\":{\"fill_alpha\":{\"field\":\"fill_alpha\"},\"fill_color\":{\"field\":\"color\"},\"height\":{\"field\":\"height\",\"units\":\"data\"},\"line_color\":{\"field\":\"line_color\"},\"width\":{\"field\":\"width\",\"units\":\"data\"},\"x\":{\"field\":\"x\"},\"y\":{\"field\":\"y\"}},\"id\":\"a7c132c9-ed8e-4852-adc8-745b6e19fd42\",\"type\":\"Rect\"},{\"attributes\":{\"fill_alpha\":{\"field\":\"fill_alpha\"},\"fill_color\":{\"field\":\"color\"},\"height\":{\"field\":\"height\",\"units\":\"data\"},\"line_color\":{\"field\":\"line_color\"},\"width\":{\"field\":\"width\",\"units\":\"data\"},\"x\":{\"field\":\"x\"},\"y\":{\"field\":\"y\"}},\"id\":\"bad94559-f914-4acb-b970-55f38934051a\",\"type\":\"Rect\"},{\"attributes\":{\"callback\":null,\"column_names\":[\"x\",\"y\",\"width\",\"height\",\"color\",\"fill_alpha\",\"line_color\",\"line_alpha\",\"label\"],\"data\":{\"chart_index\":[\"(99.653333, 100.640000]\"],\"color\":[\"#f22c40\"],\"fill_alpha\":[0.8],\"height\":[0.0],\"label\":[\"(99.653333, 100.640000]\"],\"line_alpha\":[1.0],\"line_color\":[\"black\"],\"width\":[0.9866666666666646],\"x\":[\"100.14666650000001\"],\"y\":[0.0]}},\"id\":\"e961127a-c848-46d8-bb0d-6b8eabe0903f\",\"type\":\"ColumnDataSource\"},{\"attributes\":{\"data_source\":{\"id\":\"0c72234e-95bb-4797-aff8-5c1c0b2ab0bd\",\"type\":\"ColumnDataSource\"},\"glyph\":{\"id\":\"aa6f6094-95f1-4620-9219-bfc6e9a8f4ec\",\"type\":\"Rect\"},\"hover_glyph\":null,\"muted_glyph\":null},\"id\":\"adf1b8db-2b14-492f-a717-917ae374dcf8\",\"type\":\"GlyphRenderer\"},{\"attributes\":{\"data_source\":{\"id\":\"691ea082-71db-4751-a232-5d8e9243ab06\",\"type\":\"ColumnDataSource\"},\"glyph\":{\"id\":\"afc49955-468e-407f-be34-2d1f003f3cea\",\"type\":\"Rect\"},\"hover_glyph\":null,\"muted_glyph\":null},\"id\":\"bef731fc-b6e6-4164-b311-3c036fe0f346\",\"type\":\"GlyphRenderer\"},{\"attributes\":{\"callback\":null,\"column_names\":[\"x\",\"y\",\"width\",\"height\",\"color\",\"fill_alpha\",\"line_color\",\"line_alpha\",\"label\"],\"data\":{\"chart_index\":[\"(10.853333, 11.840000]\"],\"color\":[\"#f22c40\"],\"fill_alpha\":[0.8],\"height\":[19.0],\"label\":[\"(10.853333, 11.840000]\"],\"line_alpha\":[1.0],\"line_color\":[\"black\"],\"width\":[0.9866666666666664],\"x\":[\"11.3466665\"],\"y\":[9.5]}},\"id\":\"6df22253-b3c8-4f3f-9d34-fbc7a3c8ea9e\",\"type\":\"ColumnDataSource\"},{\"attributes\":{\"fill_alpha\":{\"field\":\"fill_alpha\"},\"fill_color\":{\"field\":\"color\"},\"height\":{\"field\":\"height\",\"units\":\"data\"},\"line_color\":{\"field\":\"line_color\"},\"width\":{\"field\":\"width\",\"units\":\"data\"},\"x\":{\"field\":\"x\"},\"y\":{\"field\":\"y\"}},\"id\":\"d4736e4e-b097-4620-8fe2-f11e3be8e6ca\",\"type\":\"Rect\"},{\"attributes\":{\"callback\":null,\"column_names\":[\"x\",\"y\",\"width\",\"height\",\"color\",\"fill_alpha\",\"line_color\",\"line_alpha\",\"label\"],\"data\":{\"chart_index\":[\"(9.866667, 10.853333]\"],\"color\":[\"#f22c40\"],\"fill_alpha\":[0.8],\"height\":[22.0],\"label\":[\"(9.866667, 10.853333]\"],\"line_alpha\":[1.0],\"line_color\":[\"black\"],\"width\":[0.9866666666666664],\"x\":[\"10.36\"],\"y\":[11.0]}},\"id\":\"1e20d252-564b-47f9-b43e-a65d9273848b\",\"type\":\"ColumnDataSource\"},{\"attributes\":{\"callback\":null,\"column_names\":[\"x\",\"y\",\"width\",\"height\",\"color\",\"fill_alpha\",\"line_color\",\"line_alpha\",\"label\"],\"data\":{\"chart_index\":[\"(100.640000, 101.626667]\"],\"color\":[\"#f22c40\"],\"fill_alpha\":[0.8],\"height\":[0.0],\"label\":[\"(100.640000, 101.626667]\"],\"line_alpha\":[1.0],\"line_color\":[\"black\"],\"width\":[0.9866666666666646],\"x\":[\"101.13333349999999\"],\"y\":[0.0]}},\"id\":\"5026f9ec-1dd8-4925-a996-30b64a571f0c\",\"type\":\"ColumnDataSource\"},{\"attributes\":{\"callback\":null,\"column_names\":[\"x\",\"y\",\"width\",\"height\",\"color\",\"fill_alpha\",\"line_color\",\"line_alpha\",\"label\"],\"data\":{\"chart_index\":[\"(17.760000, 18.746667]\"],\"color\":[\"#f22c40\"],\"fill_alpha\":[0.8],\"height\":[3.0],\"label\":[\"(17.760000, 18.746667]\"],\"line_alpha\":[1.0],\"line_color\":[\"black\"],\"width\":[0.9866666666666646],\"x\":[\"18.2533335\"],\"y\":[1.5]}},\"id\":\"74e94a26-8234-4d93-bd44-1ad1f12ae580\",\"type\":\"ColumnDataSource\"},{\"attributes\":{\"callback\":null,\"column_names\":[\"x\",\"y\",\"width\",\"height\",\"color\",\"fill_alpha\",\"line_color\",\"line_alpha\",\"label\"],\"data\":{\"chart_index\":[\"(106.560000, 107.546667]\"],\"color\":[\"#f22c40\"],\"fill_alpha\":[0.8],\"height\":[0.0],\"label\":[\"(106.560000, 107.546667]\"],\"line_alpha\":[1.0],\"line_color\":[\"black\"],\"width\":[0.9866666666666646],\"x\":[\"107.05333350000001\"],\"y\":[0.0]}},\"id\":\"8c4b5019-0bc0-41ba-a6bc-c86198f967d2\",\"type\":\"ColumnDataSource\"},{\"attributes\":{\"fill_alpha\":{\"field\":\"fill_alpha\"},\"fill_color\":{\"field\":\"color\"},\"height\":{\"field\":\"height\",\"units\":\"data\"},\"line_color\":{\"field\":\"line_color\"},\"width\":{\"field\":\"width\",\"units\":\"data\"},\"x\":{\"field\":\"x\"},\"y\":{\"field\":\"y\"}},\"id\":\"af7df961-f062-4be3-8322-b1e96ac056c5\",\"type\":\"Rect\"},{\"attributes\":{\"fill_alpha\":{\"field\":\"fill_alpha\"},\"fill_color\":{\"field\":\"color\"},\"height\":{\"field\":\"height\",\"units\":\"data\"},\"line_color\":{\"field\":\"line_color\"},\"width\":{\"field\":\"width\",\"units\":\"data\"},\"x\":{\"field\":\"x\"},\"y\":{\"field\":\"y\"}},\"id\":\"23e6ad7b-4172-4084-af6c-7b9e654e171d\",\"type\":\"Rect\"},{\"attributes\":{\"data_source\":{\"id\":\"1e20d252-564b-47f9-b43e-a65d9273848b\",\"type\":\"ColumnDataSource\"},\"glyph\":{\"id\":\"bad94559-f914-4acb-b970-55f38934051a\",\"type\":\"Rect\"},\"hover_glyph\":null,\"muted_glyph\":null},\"id\":\"7d9adda9-98f4-4cc4-b79f-e52ef22211db\",\"type\":\"GlyphRenderer\"},{\"attributes\":{\"data_source\":{\"id\":\"e961127a-c848-46d8-bb0d-6b8eabe0903f\",\"type\":\"ColumnDataSource\"},\"glyph\":{\"id\":\"a7c132c9-ed8e-4852-adc8-745b6e19fd42\",\"type\":\"Rect\"},\"hover_glyph\":null,\"muted_glyph\":null},\"id\":\"694d281a-6097-4d2b-b8a0-07ce23664b86\",\"type\":\"GlyphRenderer\"},{\"attributes\":{\"fill_alpha\":{\"field\":\"fill_alpha\"},\"fill_color\":{\"field\":\"color\"},\"height\":{\"field\":\"height\",\"units\":\"data\"},\"line_color\":{\"field\":\"line_color\"},\"width\":{\"field\":\"width\",\"units\":\"data\"},\"x\":{\"field\":\"x\"},\"y\":{\"field\":\"y\"}},\"id\":\"0b66b466-18c6-41c5-9cf4-9460ec8885dd\",\"type\":\"Rect\"},{\"attributes\":{\"fill_alpha\":{\"field\":\"fill_alpha\"},\"fill_color\":{\"field\":\"color\"},\"height\":{\"field\":\"height\",\"units\":\"data\"},\"line_color\":{\"field\":\"line_color\"},\"width\":{\"field\":\"width\",\"units\":\"data\"},\"x\":{\"field\":\"x\"},\"y\":{\"field\":\"y\"}},\"id\":\"3ff45312-f132-4381-98f9-99d07f141386\",\"type\":\"Rect\"},{\"attributes\":{\"callback\":null,\"column_names\":[\"x\",\"y\",\"width\",\"height\",\"color\",\"fill_alpha\",\"line_color\",\"line_alpha\",\"label\"],\"data\":{\"chart_index\":[\"(11.840000, 12.826667]\"],\"color\":[\"#f22c40\"],\"fill_alpha\":[0.8],\"height\":[28.0],\"label\":[\"(11.840000, 12.826667]\"],\"line_alpha\":[1.0],\"line_color\":[\"black\"],\"width\":[0.9866666666666664],\"x\":[\"12.3333335\"],\"y\":[14.0]}},\"id\":\"28021a2a-a500-4d76-93be-168b8193d404\",\"type\":\"ColumnDataSource\"},{\"attributes\":{\"data_source\":{\"id\":\"64cc93f0-f779-4c6f-8f65-c824ad1673cf\",\"type\":\"ColumnDataSource\"},\"glyph\":{\"id\":\"7862b7f8-95ae-4121-8ecc-656c76ec0eca\",\"type\":\"Rect\"},\"hover_glyph\":null,\"muted_glyph\":null},\"id\":\"8f27dbc5-9051-47f7-86f3-aa445c06c303\",\"type\":\"GlyphRenderer\"},{\"attributes\":{\"data_source\":{\"id\":\"fa16e992-f14b-4885-a309-4f87fa65529c\",\"type\":\"ColumnDataSource\"},\"glyph\":{\"id\":\"b0dc577c-9b11-46e2-8907-7c20ea569cc6\",\"type\":\"Rect\"},\"hover_glyph\":null,\"muted_glyph\":null},\"id\":\"714d6cc1-54d3-43a9-b1c6-0ab3403eb4fc\",\"type\":\"GlyphRenderer\"},{\"attributes\":{\"data_source\":{\"id\":\"1783bbee-b8ba-44af-b085-b00f6d190267\",\"type\":\"ColumnDataSource\"},\"glyph\":{\"id\":\"0f944dd7-1a34-47f4-a974-b02c08a73f8c\",\"type\":\"Rect\"},\"hover_glyph\":null,\"muted_glyph\":null},\"id\":\"03d46086-a3ce-4877-905d-6684c51ea6dc\",\"type\":\"GlyphRenderer\"},{\"attributes\":{\"callback\":null,\"column_names\":[\"x\",\"y\",\"width\",\"height\",\"color\",\"fill_alpha\",\"line_color\",\"line_alpha\",\"label\"],\"data\":{\"chart_index\":[\"(22.693333, 23.680000]\"],\"color\":[\"#f22c40\"],\"fill_alpha\":[0.8],\"height\":[4.0],\"label\":[\"(22.693333, 23.680000]\"],\"line_alpha\":[1.0],\"line_color\":[\"black\"],\"width\":[0.9866666666666646],\"x\":[\"23.1866665\"],\"y\":[2.0]}},\"id\":\"13fe4e3a-ad03-4d5e-96ea-c6c84ab694d0\",\"type\":\"ColumnDataSource\"},{\"attributes\":{\"data_source\":{\"id\":\"6df22253-b3c8-4f3f-9d34-fbc7a3c8ea9e\",\"type\":\"ColumnDataSource\"},\"glyph\":{\"id\":\"3aa61156-f6b6-4d99-985f-95fb9b1af9e0\",\"type\":\"Rect\"},\"hover_glyph\":null,\"muted_glyph\":null},\"id\":\"a7fd8319-bc83-42ca-8459-1bbf15e48515\",\"type\":\"GlyphRenderer\"},{\"attributes\":{\"data_source\":{\"id\":\"5026f9ec-1dd8-4925-a996-30b64a571f0c\",\"type\":\"ColumnDataSource\"},\"glyph\":{\"id\":\"d4736e4e-b097-4620-8fe2-f11e3be8e6ca\",\"type\":\"Rect\"},\"hover_glyph\":null,\"muted_glyph\":null},\"id\":\"8476925f-e68d-456d-a150-0cf14c5d5283\",\"type\":\"GlyphRenderer\"},{\"attributes\":{\"fill_alpha\":{\"field\":\"fill_alpha\"},\"fill_color\":{\"field\":\"color\"},\"height\":{\"field\":\"height\",\"units\":\"data\"},\"line_color\":{\"field\":\"line_color\"},\"width\":{\"field\":\"width\",\"units\":\"data\"},\"x\":{\"field\":\"x\"},\"y\":{\"field\":\"y\"}},\"id\":\"c186efd0-a161-48bd-8ddd-6e94ae96f156\",\"type\":\"Rect\"},{\"attributes\":{\"callback\":null,\"column_names\":[\"x\",\"y\",\"width\",\"height\",\"color\",\"fill_alpha\",\"line_color\",\"line_alpha\",\"label\"],\"data\":{\"chart_index\":[\"(101.626667, 102.613333]\"],\"color\":[\"#f22c40\"],\"fill_alpha\":[0.8],\"height\":[0.0],\"label\":[\"(101.626667, 102.613333]\"],\"line_alpha\":[1.0],\"line_color\":[\"black\"],\"width\":[0.9866666666666646],\"x\":[\"102.12\"],\"y\":[0.0]}},\"id\":\"85fd1a7d-c8d9-4a52-9b5a-490980351d17\",\"type\":\"ColumnDataSource\"},{\"attributes\":{\"fill_alpha\":{\"field\":\"fill_alpha\"},\"fill_color\":{\"field\":\"color\"},\"height\":{\"field\":\"height\",\"units\":\"data\"},\"line_color\":{\"field\":\"line_color\"},\"width\":{\"field\":\"width\",\"units\":\"data\"},\"x\":{\"field\":\"x\"},\"y\":{\"field\":\"y\"}},\"id\":\"a16c06ac-f485-43d6-9e7f-ad049b712944\",\"type\":\"Rect\"},{\"attributes\":{\"callback\":null,\"column_names\":[\"x\",\"y\",\"width\",\"height\",\"color\",\"fill_alpha\",\"line_color\",\"line_alpha\",\"label\"],\"data\":{\"chart_index\":[\"(102.613333, 103.600000]\"],\"color\":[\"#f22c40\"],\"fill_alpha\":[0.8],\"height\":[0.0],\"label\":[\"(102.613333, 103.600000]\"],\"line_alpha\":[1.0],\"line_color\":[\"black\"],\"width\":[0.9866666666666788],\"x\":[\"103.10666649999999\"],\"y\":[0.0]}},\"id\":\"0278c563-f3e3-49ad-b779-45552a7b7ae1\",\"type\":\"ColumnDataSource\"},{\"attributes\":{\"fill_alpha\":{\"field\":\"fill_alpha\"},\"fill_color\":{\"field\":\"color\"},\"height\":{\"field\":\"height\",\"units\":\"data\"},\"line_color\":{\"field\":\"line_color\"},\"width\":{\"field\":\"width\",\"units\":\"data\"},\"x\":{\"field\":\"x\"},\"y\":{\"field\":\"y\"}},\"id\":\"9d877ebf-5ed5-45a2-955e-0906b2c28942\",\"type\":\"Rect\"},{\"attributes\":{\"data_source\":{\"id\":\"90fff157-9894-41ec-84e1-f75fdec4ba85\",\"type\":\"ColumnDataSource\"},\"glyph\":{\"id\":\"43c1dd0f-65dd-42e8-9e76-31dfbf6508bd\",\"type\":\"Rect\"},\"hover_glyph\":null,\"muted_glyph\":null},\"id\":\"a53aa891-3d8e-4ff5-b513-281908458565\",\"type\":\"GlyphRenderer\"},{\"attributes\":{\"data_source\":{\"id\":\"28021a2a-a500-4d76-93be-168b8193d404\",\"type\":\"ColumnDataSource\"},\"glyph\":{\"id\":\"0b66b466-18c6-41c5-9cf4-9460ec8885dd\",\"type\":\"Rect\"},\"hover_glyph\":null,\"muted_glyph\":null},\"id\":\"d6de8cde-0c02-4c83-8c57-dd16179f89f9\",\"type\":\"GlyphRenderer\"},{\"attributes\":{\"data_source\":{\"id\":\"85fd1a7d-c8d9-4a52-9b5a-490980351d17\",\"type\":\"ColumnDataSource\"},\"glyph\":{\"id\":\"a16c06ac-f485-43d6-9e7f-ad049b712944\",\"type\":\"Rect\"},\"hover_glyph\":null,\"muted_glyph\":null},\"id\":\"29d250b5-1437-4271-be26-6f388f4e5ba1\",\"type\":\"GlyphRenderer\"},{\"attributes\":{\"callback\":null,\"column_names\":[\"x\",\"y\",\"width\",\"height\",\"color\",\"fill_alpha\",\"line_color\",\"line_alpha\",\"label\"],\"data\":{\"chart_index\":[\"(12.826667, 13.813333]\"],\"color\":[\"#f22c40\"],\"fill_alpha\":[0.8],\"height\":[7.0],\"label\":[\"(12.826667, 13.813333]\"],\"line_alpha\":[1.0],\"line_color\":[\"black\"],\"width\":[0.9866666666666681],\"x\":[\"13.32\"],\"y\":[3.5]}},\"id\":\"17559294-203c-4e94-bd8e-7432af4d9ca6\",\"type\":\"ColumnDataSource\"},{\"attributes\":{\"fill_alpha\":{\"field\":\"fill_alpha\"},\"fill_color\":{\"field\":\"color\"},\"height\":{\"field\":\"height\",\"units\":\"data\"},\"line_color\":{\"field\":\"line_color\"},\"width\":{\"field\":\"width\",\"units\":\"data\"},\"x\":{\"field\":\"x\"},\"y\":{\"field\":\"y\"}},\"id\":\"89244f0e-1139-43f6-a24f-3af218b9dcf4\",\"type\":\"Rect\"},{\"attributes\":{\"callback\":null,\"column_names\":[\"x\",\"y\",\"width\",\"height\",\"color\",\"fill_alpha\",\"line_color\",\"line_alpha\",\"label\"],\"data\":{\"chart_index\":[\"(105.573333, 106.560000]\"],\"color\":[\"#f22c40\"],\"fill_alpha\":[0.8],\"height\":[0.0],\"label\":[\"(105.573333, 106.560000]\"],\"line_alpha\":[1.0],\"line_color\":[\"black\"],\"width\":[0.9866666666666646],\"x\":[\"106.0666665\"],\"y\":[0.0]}},\"id\":\"623f059f-25f2-4913-8a25-1c9014f3090e\",\"type\":\"ColumnDataSource\"},{\"attributes\":{\"callback\":null,\"column_names\":[\"x\",\"y\",\"width\",\"height\",\"color\",\"fill_alpha\",\"line_color\",\"line_alpha\",\"label\"],\"data\":{\"chart_index\":[\"(13.813333, 14.800000]\"],\"color\":[\"#f22c40\"],\"fill_alpha\":[0.8],\"height\":[18.0],\"label\":[\"(13.813333, 14.800000]\"],\"line_alpha\":[1.0],\"line_color\":[\"black\"],\"width\":[0.9866666666666664],\"x\":[\"14.3066665\"],\"y\":[9.0]}},\"id\":\"3023e7b1-759a-43da-b271-bf96ab28e2cf\",\"type\":\"ColumnDataSource\"},{\"attributes\":{\"fill_alpha\":{\"field\":\"fill_alpha\"},\"fill_color\":{\"field\":\"color\"},\"height\":{\"field\":\"height\",\"units\":\"data\"},\"line_color\":{\"field\":\"line_color\"},\"width\":{\"field\":\"width\",\"units\":\"data\"},\"x\":{\"field\":\"x\"},\"y\":{\"field\":\"y\"}},\"id\":\"b0dc577c-9b11-46e2-8907-7c20ea569cc6\",\"type\":\"Rect\"},{\"attributes\":{\"data_source\":{\"id\":\"17559294-203c-4e94-bd8e-7432af4d9ca6\",\"type\":\"ColumnDataSource\"},\"glyph\":{\"id\":\"89244f0e-1139-43f6-a24f-3af218b9dcf4\",\"type\":\"Rect\"},\"hover_glyph\":null,\"muted_glyph\":null},\"id\":\"e05064ca-5a63-4612-8d11-9b1df0b40794\",\"type\":\"GlyphRenderer\"},{\"attributes\":{\"data_source\":{\"id\":\"0278c563-f3e3-49ad-b779-45552a7b7ae1\",\"type\":\"ColumnDataSource\"},\"glyph\":{\"id\":\"3ff45312-f132-4381-98f9-99d07f141386\",\"type\":\"Rect\"},\"hover_glyph\":null,\"muted_glyph\":null},\"id\":\"1aa09ea1-3f2e-46e8-a200-7634eae0764a\",\"type\":\"GlyphRenderer\"},{\"attributes\":{\"callback\":null,\"column_names\":[\"x\",\"y\",\"width\",\"height\",\"color\",\"fill_alpha\",\"line_color\",\"line_alpha\",\"label\"],\"data\":{\"chart_index\":[\"(15.786667, 16.773333]\"],\"color\":[\"#f22c40\"],\"fill_alpha\":[0.8],\"height\":[9.0],\"label\":[\"(15.786667, 16.773333]\"],\"line_alpha\":[1.0],\"line_color\":[\"black\"],\"width\":[0.9866666666666664],\"x\":[\"16.28\"],\"y\":[4.5]}},\"id\":\"64cc93f0-f779-4c6f-8f65-c824ad1673cf\",\"type\":\"ColumnDataSource\"},{\"attributes\":{\"fill_alpha\":{\"field\":\"fill_alpha\"},\"fill_color\":{\"field\":\"color\"},\"height\":{\"field\":\"height\",\"units\":\"data\"},\"line_color\":{\"field\":\"line_color\"},\"width\":{\"field\":\"width\",\"units\":\"data\"},\"x\":{\"field\":\"x\"},\"y\":{\"field\":\"y\"}},\"id\":\"ea4f67fb-391f-44c0-8ab0-0f61d55f6e31\",\"type\":\"Rect\"},{\"attributes\":{\"callback\":null,\"column_names\":[\"x\",\"y\",\"width\",\"height\",\"color\",\"fill_alpha\",\"line_color\",\"line_alpha\",\"label\"],\"data\":{\"chart_index\":[\"(104.586667, 105.573333]\"],\"color\":[\"#f22c40\"],\"fill_alpha\":[0.8],\"height\":[0.0],\"label\":[\"(104.586667, 105.573333]\"],\"line_alpha\":[1.0],\"line_color\":[\"black\"],\"width\":[0.9866666666666646],\"x\":[\"105.08000000000001\"],\"y\":[0.0]}},\"id\":\"fa16e992-f14b-4885-a309-4f87fa65529c\",\"type\":\"ColumnDataSource\"},{\"attributes\":{\"callback\":null,\"column_names\":[\"x\",\"y\",\"width\",\"height\",\"color\",\"fill_alpha\",\"line_color\",\"line_alpha\",\"label\"],\"data\":{\"chart_index\":[\"(16.773333, 17.760000]\"],\"color\":[\"#f22c40\"],\"fill_alpha\":[0.8],\"height\":[10.0],\"label\":[\"(16.773333, 17.760000]\"],\"line_alpha\":[1.0],\"line_color\":[\"black\"],\"width\":[0.9866666666666681],\"x\":[\"17.2666665\"],\"y\":[5.0]}},\"id\":\"5c58b06c-8d1c-4b34-ad33-f5eafac0796f\",\"type\":\"ColumnDataSource\"},{\"attributes\":{\"callback\":null,\"column_names\":[\"x\",\"y\",\"width\",\"height\",\"color\",\"fill_alpha\",\"line_color\",\"line_alpha\",\"label\"],\"data\":{\"chart_index\":[\"(112.480000, 113.466667]\"],\"color\":[\"#f22c40\"],\"fill_alpha\":[0.8],\"height\":[0.0],\"label\":[\"(112.480000, 113.466667]\"],\"line_alpha\":[1.0],\"line_color\":[\"black\"],\"width\":[0.9866666666666646],\"x\":[\"112.9733335\"],\"y\":[0.0]}},\"id\":\"8c9bbe52-1d62-4dab-97ce-7de626555bce\",\"type\":\"ColumnDataSource\"},{\"attributes\":{\"fill_alpha\":{\"field\":\"fill_alpha\"},\"fill_color\":{\"field\":\"color\"},\"height\":{\"field\":\"height\",\"units\":\"data\"},\"line_color\":{\"field\":\"line_color\"},\"width\":{\"field\":\"width\",\"units\":\"data\"},\"x\":{\"field\":\"x\"},\"y\":{\"field\":\"y\"}},\"id\":\"7862b7f8-95ae-4121-8ecc-656c76ec0eca\",\"type\":\"Rect\"},{\"attributes\":{\"data_source\":{\"id\":\"3023e7b1-759a-43da-b271-bf96ab28e2cf\",\"type\":\"ColumnDataSource\"},\"glyph\":{\"id\":\"c186efd0-a161-48bd-8ddd-6e94ae96f156\",\"type\":\"Rect\"},\"hover_glyph\":null,\"muted_glyph\":null},\"id\":\"cff1960d-ab6f-42f6-a101-7bec5ab80bb8\",\"type\":\"GlyphRenderer\"},{\"attributes\":{\"data_source\":{\"id\":\"f82f08e3-3eff-4c8d-bb71-87c3077f6fb2\",\"type\":\"ColumnDataSource\"},\"glyph\":{\"id\":\"39189e1b-8ce1-4a03-9653-6a1690c8deb4\",\"type\":\"Rect\"},\"hover_glyph\":null,\"muted_glyph\":null},\"id\":\"55bd2948-9e88-4c99-89ca-6a9807621ba5\",\"type\":\"GlyphRenderer\"},{\"attributes\":{\"data_source\":{\"id\":\"623f059f-25f2-4913-8a25-1c9014f3090e\",\"type\":\"ColumnDataSource\"},\"glyph\":{\"id\":\"ea4f67fb-391f-44c0-8ab0-0f61d55f6e31\",\"type\":\"Rect\"},\"hover_glyph\":null,\"muted_glyph\":null},\"id\":\"21495e29-3164-4557-a934-e42206f0ae57\",\"type\":\"GlyphRenderer\"},{\"attributes\":{\"fill_alpha\":{\"field\":\"fill_alpha\"},\"fill_color\":{\"field\":\"color\"},\"height\":{\"field\":\"height\",\"units\":\"data\"},\"line_color\":{\"field\":\"line_color\"},\"width\":{\"field\":\"width\",\"units\":\"data\"},\"x\":{\"field\":\"x\"},\"y\":{\"field\":\"y\"}},\"id\":\"d969aebc-914b-470b-a1ca-8c3b0ee855e8\",\"type\":\"Rect\"},{\"attributes\":{\"callback\":null,\"column_names\":[\"x\",\"y\",\"width\",\"height\",\"color\",\"fill_alpha\",\"line_color\",\"line_alpha\",\"label\"],\"data\":{\"chart_index\":[\"(107.546667, 108.533333]\"],\"color\":[\"#f22c40\"],\"fill_alpha\":[0.8],\"height\":[0.0],\"label\":[\"(107.546667, 108.533333]\"],\"line_alpha\":[1.0],\"line_color\":[\"black\"],\"width\":[0.9866666666666646],\"x\":[\"108.03999999999999\"],\"y\":[0.0]}},\"id\":\"96c95dc4-7c45-472a-b0ad-3a324f7fc1f3\",\"type\":\"ColumnDataSource\"},{\"attributes\":{\"fill_alpha\":{\"field\":\"fill_alpha\"},\"fill_color\":{\"field\":\"color\"},\"height\":{\"field\":\"height\",\"units\":\"data\"},\"line_color\":{\"field\":\"line_color\"},\"width\":{\"field\":\"width\",\"units\":\"data\"},\"x\":{\"field\":\"x\"},\"y\":{\"field\":\"y\"}},\"id\":\"59f9def2-03b6-4833-b23e-e1f789879050\",\"type\":\"Rect\"},{\"attributes\":{\"data_source\":{\"id\":\"13fe4e3a-ad03-4d5e-96ea-c6c84ab694d0\",\"type\":\"ColumnDataSource\"},\"glyph\":{\"id\":\"728338d1-8282-432b-b6c2-ad69abb5ceaa\",\"type\":\"Rect\"},\"hover_glyph\":null,\"muted_glyph\":null},\"id\":\"e0fb9d92-36e3-4013-87b6-249bd9a9b1ec\",\"type\":\"GlyphRenderer\"},{\"attributes\":{\"fill_alpha\":{\"field\":\"fill_alpha\"},\"fill_color\":{\"field\":\"color\"},\"height\":{\"field\":\"height\",\"units\":\"data\"},\"line_color\":{\"field\":\"line_color\"},\"width\":{\"field\":\"width\",\"units\":\"data\"},\"x\":{\"field\":\"x\"},\"y\":{\"field\":\"y\"}},\"id\":\"02bd5a56-e530-4d0a-bedf-d554eaf07aa4\",\"type\":\"Rect\"},{\"attributes\":{\"data_source\":{\"id\":\"8c4b5019-0bc0-41ba-a6bc-c86198f967d2\",\"type\":\"ColumnDataSource\"},\"glyph\":{\"id\":\"23e6ad7b-4172-4084-af6c-7b9e654e171d\",\"type\":\"Rect\"},\"hover_glyph\":null,\"muted_glyph\":null},\"id\":\"6c5a7895-5ab6-41d0-a102-146cf38e62c3\",\"type\":\"GlyphRenderer\"},{\"attributes\":{\"data_source\":{\"id\":\"5c58b06c-8d1c-4b34-ad33-f5eafac0796f\",\"type\":\"ColumnDataSource\"},\"glyph\":{\"id\":\"59f9def2-03b6-4833-b23e-e1f789879050\",\"type\":\"Rect\"},\"hover_glyph\":null,\"muted_glyph\":null},\"id\":\"7faa8c2c-5d4a-4566-a1a5-281fa6488a58\",\"type\":\"GlyphRenderer\"},{\"attributes\":{\"fill_alpha\":{\"field\":\"fill_alpha\"},\"fill_color\":{\"field\":\"color\"},\"height\":{\"field\":\"height\",\"units\":\"data\"},\"line_color\":{\"field\":\"line_color\"},\"width\":{\"field\":\"width\",\"units\":\"data\"},\"x\":{\"field\":\"x\"},\"y\":{\"field\":\"y\"}},\"id\":\"f4968413-b00e-400d-9aa3-1e41d32e71e3\",\"type\":\"Rect\"},{\"attributes\":{\"data_source\":{\"id\":\"28791755-3090-44c1-9ccb-da3586271271\",\"type\":\"ColumnDataSource\"},\"glyph\":{\"id\":\"f4968413-b00e-400d-9aa3-1e41d32e71e3\",\"type\":\"Rect\"},\"hover_glyph\":null,\"muted_glyph\":null},\"id\":\"6a742215-0f4f-4abf-9835-6399679925cf\",\"type\":\"GlyphRenderer\"},{\"attributes\":{\"fill_alpha\":{\"field\":\"fill_alpha\"},\"fill_color\":{\"field\":\"color\"},\"height\":{\"field\":\"height\",\"units\":\"data\"},\"line_color\":{\"field\":\"line_color\"},\"width\":{\"field\":\"width\",\"units\":\"data\"},\"x\":{\"field\":\"x\"},\"y\":{\"field\":\"y\"}},\"id\":\"0f944dd7-1a34-47f4-a974-b02c08a73f8c\",\"type\":\"Rect\"},{\"attributes\":{\"callback\":null,\"column_names\":[\"x\",\"y\",\"width\",\"height\",\"color\",\"fill_alpha\",\"line_color\",\"line_alpha\",\"label\"],\"data\":{\"chart_index\":[\"(30.586667, 31.573333]\"],\"color\":[\"#f22c40\"],\"fill_alpha\":[0.8],\"height\":[0.0],\"label\":[\"(30.586667, 31.573333]\"],\"line_alpha\":[1.0],\"line_color\":[\"black\"],\"width\":[0.9866666666666681],\"x\":[\"31.08\"],\"y\":[0.0]}},\"id\":\"cc03096e-2132-423e-9993-16a2e165f9e7\",\"type\":\"ColumnDataSource\"},{\"attributes\":{\"data_source\":{\"id\":\"96c95dc4-7c45-472a-b0ad-3a324f7fc1f3\",\"type\":\"ColumnDataSource\"},\"glyph\":{\"id\":\"d969aebc-914b-470b-a1ca-8c3b0ee855e8\",\"type\":\"Rect\"},\"hover_glyph\":null,\"muted_glyph\":null},\"id\":\"51327304-2610-4f6f-8542-bfc95c423d12\",\"type\":\"GlyphRenderer\"},{\"attributes\":{\"data_source\":{\"id\":\"74e94a26-8234-4d93-bd44-1ad1f12ae580\",\"type\":\"ColumnDataSource\"},\"glyph\":{\"id\":\"af7df961-f062-4be3-8322-b1e96ac056c5\",\"type\":\"Rect\"},\"hover_glyph\":null,\"muted_glyph\":null},\"id\":\"92a0af6d-90a0-4fc0-88eb-b545c33bea6b\",\"type\":\"GlyphRenderer\"},{\"attributes\":{\"fill_alpha\":{\"field\":\"fill_alpha\"},\"fill_color\":{\"field\":\"color\"},\"height\":{\"field\":\"height\",\"units\":\"data\"},\"line_color\":{\"field\":\"line_color\"},\"width\":{\"field\":\"width\",\"units\":\"data\"},\"x\":{\"field\":\"x\"},\"y\":{\"field\":\"y\"}},\"id\":\"8f11a5d7-8ca0-4e90-940a-433fdeb7bde1\",\"type\":\"Rect\"},{\"attributes\":{\"callback\":null,\"column_names\":[\"x\",\"y\",\"width\",\"height\",\"color\",\"fill_alpha\",\"line_color\",\"line_alpha\",\"label\"],\"data\":{\"chart_index\":[\"(111.493333, 112.480000]\"],\"color\":[\"#f22c40\"],\"fill_alpha\":[0.8],\"height\":[0.0],\"label\":[\"(111.493333, 112.480000]\"],\"line_alpha\":[1.0],\"line_color\":[\"black\"],\"width\":[0.9866666666666646],\"x\":[\"111.98666650000001\"],\"y\":[0.0]}},\"id\":\"1783bbee-b8ba-44af-b085-b00f6d190267\",\"type\":\"ColumnDataSource\"},{\"attributes\":{\"callback\":null,\"column_names\":[\"x\",\"y\",\"width\",\"height\",\"color\",\"fill_alpha\",\"line_color\",\"line_alpha\",\"label\"],\"data\":{\"chart_index\":[\"(18.746667, 19.733333]\"],\"color\":[\"#f22c40\"],\"fill_alpha\":[0.8],\"height\":[6.0],\"label\":[\"(18.746667, 19.733333]\"],\"line_alpha\":[1.0],\"line_color\":[\"black\"],\"width\":[0.9866666666666681],\"x\":[\"19.24\"],\"y\":[3.0]}},\"id\":\"4a3d2c24-f4c0-43a9-8d50-2765963360a2\",\"type\":\"ColumnDataSource\"},{\"attributes\":{\"callback\":null,\"column_names\":[\"x\",\"y\",\"width\",\"height\",\"color\",\"fill_alpha\",\"line_color\",\"line_alpha\",\"label\"],\"data\":{\"chart_index\":[\"(108.533333, 109.520000]\"],\"color\":[\"#f22c40\"],\"fill_alpha\":[0.8],\"height\":[0.0],\"label\":[\"(108.533333, 109.520000]\"],\"line_alpha\":[1.0],\"line_color\":[\"black\"],\"width\":[0.9866666666666646],\"x\":[\"109.0266665\"],\"y\":[0.0]}},\"id\":\"28791755-3090-44c1-9ccb-da3586271271\",\"type\":\"ColumnDataSource\"},{\"attributes\":{\"fill_alpha\":{\"field\":\"fill_alpha\"},\"fill_color\":{\"field\":\"color\"},\"height\":{\"field\":\"height\",\"units\":\"data\"},\"line_color\":{\"field\":\"line_color\"},\"width\":{\"field\":\"width\",\"units\":\"data\"},\"x\":{\"field\":\"x\"},\"y\":{\"field\":\"y\"}},\"id\":\"43c1dd0f-65dd-42e8-9e76-31dfbf6508bd\",\"type\":\"Rect\"},{\"attributes\":{\"fill_alpha\":{\"field\":\"fill_alpha\"},\"fill_color\":{\"field\":\"color\"},\"height\":{\"field\":\"height\",\"units\":\"data\"},\"line_color\":{\"field\":\"line_color\"},\"width\":{\"field\":\"width\",\"units\":\"data\"},\"x\":{\"field\":\"x\"},\"y\":{\"field\":\"y\"}},\"id\":\"728338d1-8282-432b-b6c2-ad69abb5ceaa\",\"type\":\"Rect\"},{\"attributes\":{\"callback\":null,\"column_names\":[\"x\",\"y\",\"width\",\"height\",\"color\",\"fill_alpha\",\"line_color\",\"line_alpha\",\"label\"],\"data\":{\"chart_index\":[\"(76.960000, 77.946667]\"],\"color\":[\"#f22c40\"],\"fill_alpha\":[0.8],\"height\":[0.0],\"label\":[\"(76.960000, 77.946667]\"],\"line_alpha\":[1.0],\"line_color\":[\"black\"],\"width\":[0.9866666666666646],\"x\":[\"77.4533335\"],\"y\":[0.0]}},\"id\":\"bb678384-ef46-4285-9e72-21ee1f740044\",\"type\":\"ColumnDataSource\"},{\"attributes\":{\"fill_alpha\":{\"field\":\"fill_alpha\"},\"fill_color\":{\"field\":\"color\"},\"height\":{\"field\":\"height\",\"units\":\"data\"},\"line_color\":{\"field\":\"line_color\"},\"width\":{\"field\":\"width\",\"units\":\"data\"},\"x\":{\"field\":\"x\"},\"y\":{\"field\":\"y\"}},\"id\":\"dd52299f-5a7a-460f-9071-85ffe059618e\",\"type\":\"Rect\"},{\"attributes\":{\"callback\":null,\"column_names\":[\"x\",\"y\",\"width\",\"height\",\"color\",\"fill_alpha\",\"line_color\",\"line_alpha\",\"label\"],\"data\":{\"chart_index\":[\"(75.973333, 76.960000]\"],\"color\":[\"#f22c40\"],\"fill_alpha\":[0.8],\"height\":[0.0],\"label\":[\"(75.973333, 76.960000]\"],\"line_alpha\":[1.0],\"line_color\":[\"black\"],\"width\":[0.9866666666666788],\"x\":[\"76.4666665\"],\"y\":[0.0]}},\"id\":\"3ecd1303-3924-4eb4-984f-17d5f18485b7\",\"type\":\"ColumnDataSource\"},{\"attributes\":{\"fill_alpha\":{\"field\":\"fill_alpha\"},\"fill_color\":{\"field\":\"color\"},\"height\":{\"field\":\"height\",\"units\":\"data\"},\"line_color\":{\"field\":\"line_color\"},\"width\":{\"field\":\"width\",\"units\":\"data\"},\"x\":{\"field\":\"x\"},\"y\":{\"field\":\"y\"}},\"id\":\"989eba05-f0e9-486c-99d9-2c1a45f2139f\",\"type\":\"Rect\"},{\"attributes\":{\"callback\":null,\"column_names\":[\"x\",\"y\",\"width\",\"height\",\"color\",\"fill_alpha\",\"line_color\",\"line_alpha\",\"label\"],\"data\":{\"chart_index\":[\"(123.333333, 124.320000]\"],\"color\":[\"#f22c40\"],\"fill_alpha\":[0.8],\"height\":[0.0],\"label\":[\"(123.333333, 124.320000]\"],\"line_alpha\":[1.0],\"line_color\":[\"black\"],\"width\":[0.9866666666666646],\"x\":[\"123.82666649999999\"],\"y\":[0.0]}},\"id\":\"06bf4fd8-7c45-4c57-ab6c-3207ccaaaa22\",\"type\":\"ColumnDataSource\"},{\"attributes\":{\"fill_alpha\":{\"field\":\"fill_alpha\"},\"fill_color\":{\"field\":\"color\"},\"height\":{\"field\":\"height\",\"units\":\"data\"},\"line_color\":{\"field\":\"line_color\"},\"width\":{\"field\":\"width\",\"units\":\"data\"},\"x\":{\"field\":\"x\"},\"y\":{\"field\":\"y\"}},\"id\":\"05cc2f4d-67c5-42e4-a2da-74c6ab940c52\",\"type\":\"Rect\"},{\"attributes\":{\"data_source\":{\"id\":\"3ecd1303-3924-4eb4-984f-17d5f18485b7\",\"type\":\"ColumnDataSource\"},\"glyph\":{\"id\":\"1e65e021-4824-4b0e-a70b-d562285553b0\",\"type\":\"Rect\"},\"hover_glyph\":null,\"muted_glyph\":null},\"id\":\"a695462e-9fa5-43b2-a204-868ca81c8d11\",\"type\":\"GlyphRenderer\"},{\"attributes\":{\"fill_alpha\":{\"field\":\"fill_alpha\"},\"fill_color\":{\"field\":\"color\"},\"height\":{\"field\":\"height\",\"units\":\"data\"},\"line_color\":{\"field\":\"line_color\"},\"width\":{\"field\":\"width\",\"units\":\"data\"},\"x\":{\"field\":\"x\"},\"y\":{\"field\":\"y\"}},\"id\":\"7a5c038f-1fcd-4aa3-960e-6da078c81337\",\"type\":\"Rect\"},{\"attributes\":{\"callback\":null,\"column_names\":[\"x\",\"y\",\"width\",\"height\",\"color\",\"fill_alpha\",\"line_color\",\"line_alpha\",\"label\"],\"data\":{\"chart_index\":[\"(122.346667, 123.333333]\"],\"color\":[\"#f22c40\"],\"fill_alpha\":[0.8],\"height\":[0.0],\"label\":[\"(122.346667, 123.333333]\"],\"line_alpha\":[1.0],\"line_color\":[\"black\"],\"width\":[0.9866666666666788],\"x\":[\"122.84\"],\"y\":[0.0]}},\"id\":\"d33b7777-7db3-4d99-afdf-7f68125fbdad\",\"type\":\"ColumnDataSource\"},{\"attributes\":{\"fill_alpha\":{\"field\":\"fill_alpha\"},\"fill_color\":{\"field\":\"color\"},\"height\":{\"field\":\"height\",\"units\":\"data\"},\"line_color\":{\"field\":\"line_color\"},\"width\":{\"field\":\"width\",\"units\":\"data\"},\"x\":{\"field\":\"x\"},\"y\":{\"field\":\"y\"}},\"id\":\"2cd39fe3-fe27-4da4-8914-93b68351d78a\",\"type\":\"Rect\"},{\"attributes\":{\"data_source\":{\"id\":\"d33b7777-7db3-4d99-afdf-7f68125fbdad\",\"type\":\"ColumnDataSource\"},\"glyph\":{\"id\":\"989eba05-f0e9-486c-99d9-2c1a45f2139f\",\"type\":\"Rect\"},\"hover_glyph\":null,\"muted_glyph\":null},\"id\":\"ff19ff29-b1da-482d-b65c-5ad14caf055e\",\"type\":\"GlyphRenderer\"},{\"attributes\":{\"fill_alpha\":{\"field\":\"fill_alpha\"},\"fill_color\":{\"field\":\"color\"},\"height\":{\"field\":\"height\",\"units\":\"data\"},\"line_color\":{\"field\":\"line_color\"},\"width\":{\"field\":\"width\",\"units\":\"data\"},\"x\":{\"field\":\"x\"},\"y\":{\"field\":\"y\"}},\"id\":\"306ffeba-3bd6-48c8-9bc3-24e07a8bc20f\",\"type\":\"Rect\"},{\"attributes\":{\"callback\":null,\"column_names\":[\"x\",\"y\",\"width\",\"height\",\"color\",\"fill_alpha\",\"line_color\",\"line_alpha\",\"label\"],\"data\":{\"chart_index\":[\"(84.853333, 85.840000]\"],\"color\":[\"#f22c40\"],\"fill_alpha\":[0.8],\"height\":[0.0],\"label\":[\"(84.853333, 85.840000]\"],\"line_alpha\":[1.0],\"line_color\":[\"black\"],\"width\":[0.9866666666666646],\"x\":[\"85.3466665\"],\"y\":[0.0]}},\"id\":\"ed92f70b-4e08-4883-975b-f8e6d760b23a\",\"type\":\"ColumnDataSource\"},{\"attributes\":{\"callback\":null,\"column_names\":[\"x\",\"y\",\"width\",\"height\",\"color\",\"fill_alpha\",\"line_color\",\"line_alpha\",\"label\"],\"data\":{\"chart_index\":[\"(124.320000, 125.306667]\"],\"color\":[\"#f22c40\"],\"fill_alpha\":[0.8],\"height\":[0.0],\"label\":[\"(124.320000, 125.306667]\"],\"line_alpha\":[1.0],\"line_color\":[\"black\"],\"width\":[0.9866666666666646],\"x\":[\"124.8133335\"],\"y\":[0.0]}},\"id\":\"3e91e56e-30e3-47cd-9328-697a4a1fe45f\",\"type\":\"ColumnDataSource\"},{\"attributes\":{\"fill_alpha\":{\"field\":\"fill_alpha\"},\"fill_color\":{\"field\":\"color\"},\"height\":{\"field\":\"height\",\"units\":\"data\"},\"line_color\":{\"field\":\"line_color\"},\"width\":{\"field\":\"width\",\"units\":\"data\"},\"x\":{\"field\":\"x\"},\"y\":{\"field\":\"y\"}},\"id\":\"147a1d5f-a278-4e2c-94b3-69996ac73d16\",\"type\":\"Rect\"},{\"attributes\":{\"data_source\":{\"id\":\"bb678384-ef46-4285-9e72-21ee1f740044\",\"type\":\"ColumnDataSource\"},\"glyph\":{\"id\":\"05cc2f4d-67c5-42e4-a2da-74c6ab940c52\",\"type\":\"Rect\"},\"hover_glyph\":null,\"muted_glyph\":null},\"id\":\"156bc3cd-9444-4e6e-a307-894aff426834\",\"type\":\"GlyphRenderer\"},{\"attributes\":{\"callback\":null,\"column_names\":[\"x\",\"y\",\"width\",\"height\",\"color\",\"fill_alpha\",\"line_color\",\"line_alpha\",\"label\"],\"data\":{\"chart_index\":[\"(77.946667, 78.933333]\"],\"color\":[\"#f22c40\"],\"fill_alpha\":[0.8],\"height\":[0.0],\"label\":[\"(77.946667, 78.933333]\"],\"line_alpha\":[1.0],\"line_color\":[\"black\"],\"width\":[0.9866666666666646],\"x\":[\"78.44\"],\"y\":[0.0]}},\"id\":\"5d7eeeea-f85e-4b5f-b128-e2dbaeda683f\",\"type\":\"ColumnDataSource\"},{\"attributes\":{\"fill_alpha\":{\"field\":\"fill_alpha\"},\"fill_color\":{\"field\":\"color\"},\"height\":{\"field\":\"height\",\"units\":\"data\"},\"line_color\":{\"field\":\"line_color\"},\"width\":{\"field\":\"width\",\"units\":\"data\"},\"x\":{\"field\":\"x\"},\"y\":{\"field\":\"y\"}},\"id\":\"ac10a7b7-9973-4b81-891c-3eef3417f8cc\",\"type\":\"Rect\"},{\"attributes\":{\"callback\":null,\"column_names\":[\"x\",\"y\",\"width\",\"height\",\"color\",\"fill_alpha\",\"line_color\",\"line_alpha\",\"label\"],\"data\":{\"chart_index\":[\"(128.266667, 129.253333]\"],\"color\":[\"#f22c40\"],\"fill_alpha\":[0.8],\"height\":[0.0],\"label\":[\"(128.266667, 129.253333]\"],\"line_alpha\":[1.0],\"line_color\":[\"black\"],\"width\":[0.9866666666666504],\"x\":[\"128.76\"],\"y\":[0.0]}},\"id\":\"b2095dbd-009c-4863-bb8b-6c6674e8fc93\",\"type\":\"ColumnDataSource\"},{\"attributes\":{\"callback\":null,\"column_names\":[\"x\",\"y\",\"width\",\"height\",\"color\",\"fill_alpha\",\"line_color\",\"line_alpha\",\"label\"],\"data\":{\"chart_index\":[\"(78.933333, 79.920000]\"],\"color\":[\"#f22c40\"],\"fill_alpha\":[0.8],\"height\":[0.0],\"label\":[\"(78.933333, 79.920000]\"],\"line_alpha\":[1.0],\"line_color\":[\"black\"],\"width\":[0.9866666666666646],\"x\":[\"79.42666650000001\"],\"y\":[0.0]}},\"id\":\"a520d84a-d81a-42ca-b359-2653081d6e40\",\"type\":\"ColumnDataSource\"},{\"attributes\":{\"data_source\":{\"id\":\"9aee2286-a7d4-4c50-888c-42c6d95aa858\",\"type\":\"ColumnDataSource\"},\"glyph\":{\"id\":\"0d48d47f-5c9c-4b96-91b3-4eea08175dd2\",\"type\":\"Rect\"},\"hover_glyph\":null,\"muted_glyph\":null},\"id\":\"5fc590e1-dfb5-4e1d-93b9-9f4ae1e46eb3\",\"type\":\"GlyphRenderer\"},{\"attributes\":{\"data_source\":{\"id\":\"06bf4fd8-7c45-4c57-ab6c-3207ccaaaa22\",\"type\":\"ColumnDataSource\"},\"glyph\":{\"id\":\"dd52299f-5a7a-460f-9071-85ffe059618e\",\"type\":\"Rect\"},\"hover_glyph\":null,\"muted_glyph\":null},\"id\":\"28529b9d-f17e-4df5-8ad7-d3a74cf643ca\",\"type\":\"GlyphRenderer\"},{\"attributes\":{\"fill_alpha\":{\"field\":\"fill_alpha\"},\"fill_color\":{\"field\":\"color\"},\"height\":{\"field\":\"height\",\"units\":\"data\"},\"line_color\":{\"field\":\"line_color\"},\"width\":{\"field\":\"width\",\"units\":\"data\"},\"x\":{\"field\":\"x\"},\"y\":{\"field\":\"y\"}},\"id\":\"8bcf4075-b781-4cc2-8ea2-42e240fed27b\",\"type\":\"Rect\"},{\"attributes\":{\"callback\":null,\"column_names\":[\"x\",\"y\",\"width\",\"height\",\"color\",\"fill_alpha\",\"line_color\",\"line_alpha\",\"label\"],\"data\":{\"chart_index\":[\"(125.306667, 126.293333]\"],\"color\":[\"#f22c40\"],\"fill_alpha\":[0.8],\"height\":[0.0],\"label\":[\"(125.306667, 126.293333]\"],\"line_alpha\":[1.0],\"line_color\":[\"black\"],\"width\":[0.9866666666666646],\"x\":[\"125.80000000000001\"],\"y\":[0.0]}},\"id\":\"f5fcdc3a-d58f-43de-ba4f-9cc673ad825a\",\"type\":\"ColumnDataSource\"},{\"attributes\":{\"data_source\":{\"id\":\"85196e6a-2543-4ba1-9758-cc1bf13bebdf\",\"type\":\"ColumnDataSource\"},\"glyph\":{\"id\":\"371db0d0-2715-44e1-9443-3f541a68a1e8\",\"type\":\"Rect\"},\"hover_glyph\":null,\"muted_glyph\":null},\"id\":\"17380e86-7ede-4201-98eb-bd47e7fe4052\",\"type\":\"GlyphRenderer\"},{\"attributes\":{\"fill_alpha\":{\"field\":\"fill_alpha\"},\"fill_color\":{\"field\":\"color\"},\"height\":{\"field\":\"height\",\"units\":\"data\"},\"line_color\":{\"field\":\"line_color\"},\"width\":{\"field\":\"width\",\"units\":\"data\"},\"x\":{\"field\":\"x\"},\"y\":{\"field\":\"y\"}},\"id\":\"76c76220-7772-4f1c-9066-02070bd71aee\",\"type\":\"Rect\"},{\"attributes\":{\"callback\":null,\"end\":2885.3},\"id\":\"0a680db5-3e2e-438c-89ef-3ab4ec4ed074\",\"type\":\"Range1d\"},{\"attributes\":{\"data_source\":{\"id\":\"5d7eeeea-f85e-4b5f-b128-e2dbaeda683f\",\"type\":\"ColumnDataSource\"},\"glyph\":{\"id\":\"ac10a7b7-9973-4b81-891c-3eef3417f8cc\",\"type\":\"Rect\"},\"hover_glyph\":null,\"muted_glyph\":null},\"id\":\"455c8001-59af-4325-8bef-80201ab92e72\",\"type\":\"GlyphRenderer\"},{\"attributes\":{\"fill_alpha\":{\"field\":\"fill_alpha\"},\"fill_color\":{\"field\":\"color\"},\"height\":{\"field\":\"height\",\"units\":\"data\"},\"line_color\":{\"field\":\"line_color\"},\"width\":{\"field\":\"width\",\"units\":\"data\"},\"x\":{\"field\":\"x\"},\"y\":{\"field\":\"y\"}},\"id\":\"5955179a-9fed-4f4c-bac3-322d187cc24f\",\"type\":\"Rect\"},{\"attributes\":{\"fill_alpha\":{\"field\":\"fill_alpha\"},\"fill_color\":{\"field\":\"color\"},\"height\":{\"field\":\"height\",\"units\":\"data\"},\"line_color\":{\"field\":\"line_color\"},\"width\":{\"field\":\"width\",\"units\":\"data\"},\"x\":{\"field\":\"x\"},\"y\":{\"field\":\"y\"}},\"id\":\"5f0abe20-0ea4-4bec-ae02-a79c995de418\",\"type\":\"Rect\"},{\"attributes\":{\"callback\":null,\"column_names\":[\"x\",\"y\",\"width\",\"height\",\"color\",\"fill_alpha\",\"line_color\",\"line_alpha\",\"label\"],\"data\":{\"chart_index\":[\"(79.920000, 80.906667]\"],\"color\":[\"#f22c40\"],\"fill_alpha\":[0.8],\"height\":[0.0],\"label\":[\"(79.920000, 80.906667]\"],\"line_alpha\":[1.0],\"line_color\":[\"black\"],\"width\":[0.9866666666666646],\"x\":[\"80.4133335\"],\"y\":[0.0]}},\"id\":\"4ebc7b74-e0b3-47ee-a8d3-9ed48150870b\",\"type\":\"ColumnDataSource\"},{\"attributes\":{\"callback\":null,\"column_names\":[\"x\",\"y\",\"width\",\"height\",\"color\",\"fill_alpha\",\"line_color\",\"line_alpha\",\"label\"],\"data\":{\"chart_index\":[\"(134.186667, 135.173333]\"],\"color\":[\"#f22c40\"],\"fill_alpha\":[0.8],\"height\":[0.0],\"label\":[\"(134.186667, 135.173333]\"],\"line_alpha\":[1.0],\"line_color\":[\"black\"],\"width\":[0.9866666666666788],\"x\":[\"134.68\"],\"y\":[0.0]}},\"id\":\"237da9e5-d918-4afc-8489-7bf98027ab4a\",\"type\":\"ColumnDataSource\"},{\"attributes\":{\"data_source\":{\"id\":\"3e91e56e-30e3-47cd-9328-697a4a1fe45f\",\"type\":\"ColumnDataSource\"},\"glyph\":{\"id\":\"306ffeba-3bd6-48c8-9bc3-24e07a8bc20f\",\"type\":\"Rect\"},\"hover_glyph\":null,\"muted_glyph\":null},\"id\":\"f742c1a9-f644-4a67-9bf3-12f9171a20dd\",\"type\":\"GlyphRenderer\"},{\"attributes\":{\"fill_alpha\":{\"field\":\"fill_alpha\"},\"fill_color\":{\"field\":\"color\"},\"height\":{\"field\":\"height\",\"units\":\"data\"},\"line_color\":{\"field\":\"line_color\"},\"width\":{\"field\":\"width\",\"units\":\"data\"},\"x\":{\"field\":\"x\"},\"y\":{\"field\":\"y\"}},\"id\":\"0d48d47f-5c9c-4b96-91b3-4eea08175dd2\",\"type\":\"Rect\"},{\"attributes\":{\"callback\":null,\"column_names\":[\"x\",\"y\",\"width\",\"height\",\"color\",\"fill_alpha\",\"line_color\",\"line_alpha\",\"label\"],\"data\":{\"chart_index\":[\"(127.280000, 128.266667]\"],\"color\":[\"#f22c40\"],\"fill_alpha\":[0.8],\"height\":[0.0],\"label\":[\"(127.280000, 128.266667]\"],\"line_alpha\":[1.0],\"line_color\":[\"black\"],\"width\":[0.9866666666666788],\"x\":[\"127.7733335\"],\"y\":[0.0]}},\"id\":\"9aee2286-a7d4-4c50-888c-42c6d95aa858\",\"type\":\"ColumnDataSource\"},{\"attributes\":{\"data_source\":{\"id\":\"a520d84a-d81a-42ca-b359-2653081d6e40\",\"type\":\"ColumnDataSource\"},\"glyph\":{\"id\":\"7a5c038f-1fcd-4aa3-960e-6da078c81337\",\"type\":\"Rect\"},\"hover_glyph\":null,\"muted_glyph\":null},\"id\":\"fa85b7c0-4e8d-4db5-872b-3fe43e43ce7f\",\"type\":\"GlyphRenderer\"},{\"attributes\":{\"fill_alpha\":{\"field\":\"fill_alpha\"},\"fill_color\":{\"field\":\"color\"},\"height\":{\"field\":\"height\",\"units\":\"data\"},\"line_color\":{\"field\":\"line_color\"},\"width\":{\"field\":\"width\",\"units\":\"data\"},\"x\":{\"field\":\"x\"},\"y\":{\"field\":\"y\"}},\"id\":\"371db0d0-2715-44e1-9443-3f541a68a1e8\",\"type\":\"Rect\"},{\"attributes\":{\"data_source\":{\"id\":\"f5fcdc3a-d58f-43de-ba4f-9cc673ad825a\",\"type\":\"ColumnDataSource\"},\"glyph\":{\"id\":\"8bcf4075-b781-4cc2-8ea2-42e240fed27b\",\"type\":\"Rect\"},\"hover_glyph\":null,\"muted_glyph\":null},\"id\":\"ddfb41a9-8cc7-4622-bc7d-ba8e82ec844e\",\"type\":\"GlyphRenderer\"},{\"attributes\":{\"fill_alpha\":{\"field\":\"fill_alpha\"},\"fill_color\":{\"field\":\"color\"},\"height\":{\"field\":\"height\",\"units\":\"data\"},\"line_color\":{\"field\":\"line_color\"},\"width\":{\"field\":\"width\",\"units\":\"data\"},\"x\":{\"field\":\"x\"},\"y\":{\"field\":\"y\"}},\"id\":\"a6636117-0301-46fb-8bbc-82052c7cadac\",\"type\":\"Rect\"},{\"attributes\":{\"callback\":null,\"column_names\":[\"x\",\"y\",\"width\",\"height\",\"color\",\"fill_alpha\",\"line_color\",\"line_alpha\",\"label\"],\"data\":{\"chart_index\":[\"(129.253333, 130.240000]\"],\"color\":[\"#f22c40\"],\"fill_alpha\":[0.8],\"height\":[2.0],\"label\":[\"(129.253333, 130.240000]\"],\"line_alpha\":[1.0],\"line_color\":[\"black\"],\"width\":[0.9866666666666788],\"x\":[\"129.7466665\"],\"y\":[1.0]}},\"id\":\"85411dcd-11ee-4823-a6ae-8d81743a4fb4\",\"type\":\"ColumnDataSource\"},{\"attributes\":{\"data_source\":{\"id\":\"4ebc7b74-e0b3-47ee-a8d3-9ed48150870b\",\"type\":\"ColumnDataSource\"},\"glyph\":{\"id\":\"5955179a-9fed-4f4c-bac3-322d187cc24f\",\"type\":\"Rect\"},\"hover_glyph\":null,\"muted_glyph\":null},\"id\":\"d70961f8-f2ae-4741-b226-7f216aa1aa91\",\"type\":\"GlyphRenderer\"},{\"attributes\":{\"callback\":null,\"column_names\":[\"x\",\"y\",\"width\",\"height\",\"color\",\"fill_alpha\",\"line_color\",\"line_alpha\",\"label\"],\"data\":{\"chart_index\":[\"(80.906667, 81.893333]\"],\"color\":[\"#f22c40\"],\"fill_alpha\":[0.8],\"height\":[0.0],\"label\":[\"(80.906667, 81.893333]\"],\"line_alpha\":[1.0],\"line_color\":[\"black\"],\"width\":[0.9866666666666646],\"x\":[\"81.4\"],\"y\":[0.0]}},\"id\":\"45d0c1f9-356d-4113-9b69-0823857f2903\",\"type\":\"ColumnDataSource\"},{\"attributes\":{\"fill_alpha\":{\"field\":\"fill_alpha\"},\"fill_color\":{\"field\":\"color\"},\"height\":{\"field\":\"height\",\"units\":\"data\"},\"line_color\":{\"field\":\"line_color\"},\"width\":{\"field\":\"width\",\"units\":\"data\"},\"x\":{\"field\":\"x\"},\"y\":{\"field\":\"y\"}},\"id\":\"d2089d06-2281-429e-9e91-1669c9abfc31\",\"type\":\"Rect\"},{\"attributes\":{\"data_source\":{\"id\":\"b2095dbd-009c-4863-bb8b-6c6674e8fc93\",\"type\":\"ColumnDataSource\"},\"glyph\":{\"id\":\"2cd39fe3-fe27-4da4-8914-93b68351d78a\",\"type\":\"Rect\"},\"hover_glyph\":null,\"muted_glyph\":null},\"id\":\"9a1b4571-314e-4f54-a365-ae1ec88b4c04\",\"type\":\"GlyphRenderer\"},{\"attributes\":{\"fill_alpha\":{\"field\":\"fill_alpha\"},\"fill_color\":{\"field\":\"color\"},\"height\":{\"field\":\"height\",\"units\":\"data\"},\"line_color\":{\"field\":\"line_color\"},\"width\":{\"field\":\"width\",\"units\":\"data\"},\"x\":{\"field\":\"x\"},\"y\":{\"field\":\"y\"}},\"id\":\"dd6dc2df-5e25-4a91-9c4b-18228445b414\",\"type\":\"Rect\"},{\"attributes\":{\"callback\":null,\"column_names\":[\"x\",\"y\",\"width\",\"height\",\"color\",\"fill_alpha\",\"line_color\",\"line_alpha\",\"label\"],\"data\":{\"chart_index\":[\"(83.866667, 84.853333]\"],\"color\":[\"#f22c40\"],\"fill_alpha\":[0.8],\"height\":[0.0],\"label\":[\"(83.866667, 84.853333]\"],\"line_alpha\":[1.0],\"line_color\":[\"black\"],\"width\":[0.9866666666666646],\"x\":[\"84.36000000000001\"],\"y\":[0.0]}},\"id\":\"53fe39de-cab0-4c59-a4e8-14f2dd7b1a5f\",\"type\":\"ColumnDataSource\"},{\"attributes\":{\"callback\":null,\"column_names\":[\"x\",\"y\",\"width\",\"height\",\"color\",\"fill_alpha\",\"line_color\",\"line_alpha\",\"label\"],\"data\":{\"chart_index\":[\"(130.240000, 131.226667]\"],\"color\":[\"#f22c40\"],\"fill_alpha\":[0.8],\"height\":[0.0],\"label\":[\"(130.240000, 131.226667]\"],\"line_alpha\":[1.0],\"line_color\":[\"black\"],\"width\":[0.9866666666666504],\"x\":[\"130.73333350000001\"],\"y\":[0.0]}},\"id\":\"d0733342-e105-4195-b07b-48585cd0b19f\",\"type\":\"ColumnDataSource\"},{\"attributes\":{\"fill_alpha\":{\"field\":\"fill_alpha\"},\"fill_color\":{\"field\":\"color\"},\"height\":{\"field\":\"height\",\"units\":\"data\"},\"line_color\":{\"field\":\"line_color\"},\"width\":{\"field\":\"width\",\"units\":\"data\"},\"x\":{\"field\":\"x\"},\"y\":{\"field\":\"y\"}},\"id\":\"91a2ca85-10d3-4fb7-9c16-ffd36a75cec4\",\"type\":\"Rect\"},{\"attributes\":{\"data_source\":{\"id\":\"45d0c1f9-356d-4113-9b69-0823857f2903\",\"type\":\"ColumnDataSource\"},\"glyph\":{\"id\":\"d2089d06-2281-429e-9e91-1669c9abfc31\",\"type\":\"Rect\"},\"hover_glyph\":null,\"muted_glyph\":null},\"id\":\"0df8785f-787d-4ee8-b885-bcd5176a540f\",\"type\":\"GlyphRenderer\"},{\"attributes\":{\"callback\":null,\"column_names\":[\"x\",\"y\",\"width\",\"height\",\"color\",\"fill_alpha\",\"line_color\",\"line_alpha\",\"label\"],\"data\":{\"chart_index\":[\"(81.893333, 82.880000]\"],\"color\":[\"#f22c40\"],\"fill_alpha\":[0.8],\"height\":[0.0],\"label\":[\"(81.893333, 82.880000]\"],\"line_alpha\":[1.0],\"line_color\":[\"black\"],\"width\":[0.9866666666666646],\"x\":[\"82.38666649999999\"],\"y\":[0.0]}},\"id\":\"dc40d8b5-3bcf-4578-8c32-585c2d64d408\",\"type\":\"ColumnDataSource\"},{\"attributes\":{\"data_source\":{\"id\":\"dc40d8b5-3bcf-4578-8c32-585c2d64d408\",\"type\":\"ColumnDataSource\"},\"glyph\":{\"id\":\"2ae1cbb2-243d-4055-8bde-ee66b605dcf3\",\"type\":\"Rect\"},\"hover_glyph\":null,\"muted_glyph\":null},\"id\":\"bc79444c-9512-4c5d-a8b8-4be26ffd1fd9\",\"type\":\"GlyphRenderer\"},{\"attributes\":{\"data_source\":{\"id\":\"3fbd4d14-4648-4b9e-b41b-c50987ccec8f\",\"type\":\"ColumnDataSource\"},\"glyph\":{\"id\":\"87b8fdde-a9d5-4822-8f2f-c829ec439717\",\"type\":\"Rect\"},\"hover_glyph\":null,\"muted_glyph\":null},\"id\":\"c4a62df2-6df3-42ab-9e6d-d052b64d1d13\",\"type\":\"GlyphRenderer\"},{\"attributes\":{\"callback\":null,\"column_names\":[\"x\",\"y\",\"width\",\"height\",\"color\",\"fill_alpha\",\"line_color\",\"line_alpha\",\"label\"],\"data\":{\"chart_index\":[\"(82.880000, 83.866667]\"],\"color\":[\"#f22c40\"],\"fill_alpha\":[0.8],\"height\":[0.0],\"label\":[\"(82.880000, 83.866667]\"],\"line_alpha\":[1.0],\"line_color\":[\"black\"],\"width\":[0.9866666666666788],\"x\":[\"83.3733335\"],\"y\":[0.0]}},\"id\":\"85196e6a-2543-4ba1-9758-cc1bf13bebdf\",\"type\":\"ColumnDataSource\"},{\"attributes\":{\"data_source\":{\"id\":\"85411dcd-11ee-4823-a6ae-8d81743a4fb4\",\"type\":\"ColumnDataSource\"},\"glyph\":{\"id\":\"a6636117-0301-46fb-8bbc-82052c7cadac\",\"type\":\"Rect\"},\"hover_glyph\":null,\"muted_glyph\":null},\"id\":\"cf69da5e-e3f7-42be-8fe2-51c3c43859d2\",\"type\":\"GlyphRenderer\"},{\"attributes\":{\"callback\":null,\"column_names\":[\"x\",\"y\",\"width\",\"height\",\"color\",\"fill_alpha\",\"line_color\",\"line_alpha\",\"label\"],\"data\":{\"chart_index\":[\"(132.213333, 133.200000]\"],\"color\":[\"#f22c40\"],\"fill_alpha\":[0.8],\"height\":[2.0],\"label\":[\"(132.213333, 133.200000]\"],\"line_alpha\":[1.0],\"line_color\":[\"black\"],\"width\":[0.9866666666666788],\"x\":[\"132.70666649999998\"],\"y\":[1.0]}},\"id\":\"6f9d373b-cd7d-486d-90d3-d2970cb07dad\",\"type\":\"ColumnDataSource\"},{\"attributes\":{\"data_source\":{\"id\":\"68a6486d-ac2b-4008-b7f9-2d576a9f2542\",\"type\":\"ColumnDataSource\"},\"glyph\":{\"id\":\"0d544c16-ace7-46f5-ad2a-98879e992c0b\",\"type\":\"Rect\"},\"hover_glyph\":null,\"muted_glyph\":null},\"id\":\"8fe1822c-d4de-4d3d-938a-78aede00525f\",\"type\":\"GlyphRenderer\"},{\"attributes\":{\"fill_alpha\":{\"field\":\"fill_alpha\"},\"fill_color\":{\"field\":\"color\"},\"height\":{\"field\":\"height\",\"units\":\"data\"},\"line_color\":{\"field\":\"line_color\"},\"width\":{\"field\":\"width\",\"units\":\"data\"},\"x\":{\"field\":\"x\"},\"y\":{\"field\":\"y\"}},\"id\":\"0d544c16-ace7-46f5-ad2a-98879e992c0b\",\"type\":\"Rect\"},{\"attributes\":{\"data_source\":{\"id\":\"53fe39de-cab0-4c59-a4e8-14f2dd7b1a5f\",\"type\":\"ColumnDataSource\"},\"glyph\":{\"id\":\"91a2ca85-10d3-4fb7-9c16-ffd36a75cec4\",\"type\":\"Rect\"},\"hover_glyph\":null,\"muted_glyph\":null},\"id\":\"6d974481-e375-4296-b30b-cc615e95f3d4\",\"type\":\"GlyphRenderer\"},{\"attributes\":{\"fill_alpha\":{\"field\":\"fill_alpha\"},\"fill_color\":{\"field\":\"color\"},\"height\":{\"field\":\"height\",\"units\":\"data\"},\"line_color\":{\"field\":\"line_color\"},\"width\":{\"field\":\"width\",\"units\":\"data\"},\"x\":{\"field\":\"x\"},\"y\":{\"field\":\"y\"}},\"id\":\"24be8460-def9-4ab7-975d-0fbdf9122fe6\",\"type\":\"Rect\"},{\"attributes\":{\"fill_alpha\":{\"field\":\"fill_alpha\"},\"fill_color\":{\"field\":\"color\"},\"height\":{\"field\":\"height\",\"units\":\"data\"},\"line_color\":{\"field\":\"line_color\"},\"width\":{\"field\":\"width\",\"units\":\"data\"},\"x\":{\"field\":\"x\"},\"y\":{\"field\":\"y\"}},\"id\":\"87b8fdde-a9d5-4822-8f2f-c829ec439717\",\"type\":\"Rect\"},{\"attributes\":{\"callback\":null,\"column_names\":[\"x\",\"y\",\"width\",\"height\",\"color\",\"fill_alpha\",\"line_color\",\"line_alpha\",\"label\"],\"data\":{\"chart_index\":[\"(85.840000, 86.826667]\"],\"color\":[\"#f22c40\"],\"fill_alpha\":[0.8],\"height\":[0.0],\"label\":[\"(85.840000, 86.826667]\"],\"line_alpha\":[1.0],\"line_color\":[\"black\"],\"width\":[0.9866666666666646],\"x\":[\"86.33333350000001\"],\"y\":[0.0]}},\"id\":\"1dc6f7a8-35c2-4640-b0d9-3d82f5d743d5\",\"type\":\"ColumnDataSource\"},{\"attributes\":{\"callback\":null,\"column_names\":[\"x\",\"y\",\"width\",\"height\",\"color\",\"fill_alpha\",\"line_color\",\"line_alpha\",\"label\"],\"data\":{\"chart_index\":[\"(133.200000, 134.186667]\"],\"color\":[\"#f22c40\"],\"fill_alpha\":[0.8],\"height\":[0.0],\"label\":[\"(133.200000, 134.186667]\"],\"line_alpha\":[1.0],\"line_color\":[\"black\"],\"width\":[0.9866666666666504],\"x\":[\"133.6933335\"],\"y\":[0.0]}},\"id\":\"3fbd4d14-4648-4b9e-b41b-c50987ccec8f\",\"type\":\"ColumnDataSource\"},{\"attributes\":{\"data_source\":{\"id\":\"d0733342-e105-4195-b07b-48585cd0b19f\",\"type\":\"ColumnDataSource\"},\"glyph\":{\"id\":\"dd6dc2df-5e25-4a91-9c4b-18228445b414\",\"type\":\"Rect\"},\"hover_glyph\":null,\"muted_glyph\":null},\"id\":\"bd142706-ca06-4cd9-a036-4463e7953227\",\"type\":\"GlyphRenderer\"},{\"attributes\":{\"callback\":null,\"column_names\":[\"x\",\"y\",\"width\",\"height\",\"color\",\"fill_alpha\",\"line_color\",\"line_alpha\",\"label\"],\"data\":{\"chart_index\":[\"(131.226667, 132.213333]\"],\"color\":[\"#f22c40\"],\"fill_alpha\":[0.8],\"height\":[4.0],\"label\":[\"(131.226667, 132.213333]\"],\"line_alpha\":[1.0],\"line_color\":[\"black\"],\"width\":[0.9866666666666788],\"x\":[\"131.72\"],\"y\":[2.0]}},\"id\":\"7a54f7d2-a47c-4cc3-be77-57e40c219d81\",\"type\":\"ColumnDataSource\"},{\"attributes\":{\"fill_alpha\":{\"field\":\"fill_alpha\"},\"fill_color\":{\"field\":\"color\"},\"height\":{\"field\":\"height\",\"units\":\"data\"},\"line_color\":{\"field\":\"line_color\"},\"width\":{\"field\":\"width\",\"units\":\"data\"},\"x\":{\"field\":\"x\"},\"y\":{\"field\":\"y\"}},\"id\":\"e54169fd-bd10-446b-995c-939980050590\",\"type\":\"Rect\"},{\"attributes\":{\"callback\":null,\"column_names\":[\"x\",\"y\",\"width\",\"height\",\"color\",\"fill_alpha\",\"line_color\",\"line_alpha\",\"label\"],\"data\":{\"chart_index\":[\"(88.800000, 89.786667]\"],\"color\":[\"#f22c40\"],\"fill_alpha\":[0.8],\"height\":[0.0],\"label\":[\"(88.800000, 89.786667]\"],\"line_alpha\":[1.0],\"line_color\":[\"black\"],\"width\":[0.9866666666666788],\"x\":[\"89.29333349999999\"],\"y\":[0.0]}},\"id\":\"68a6486d-ac2b-4008-b7f9-2d576a9f2542\",\"type\":\"ColumnDataSource\"},{\"attributes\":{\"fill_alpha\":{\"field\":\"fill_alpha\"},\"fill_color\":{\"field\":\"color\"},\"height\":{\"field\":\"height\",\"units\":\"data\"},\"line_color\":{\"field\":\"line_color\"},\"width\":{\"field\":\"width\",\"units\":\"data\"},\"x\":{\"field\":\"x\"},\"y\":{\"field\":\"y\"}},\"id\":\"201d47ce-9492-42ee-9e80-f6006954ea42\",\"type\":\"Rect\"},{\"attributes\":{\"data_source\":{\"id\":\"ed92f70b-4e08-4883-975b-f8e6d760b23a\",\"type\":\"ColumnDataSource\"},\"glyph\":{\"id\":\"147a1d5f-a278-4e2c-94b3-69996ac73d16\",\"type\":\"Rect\"},\"hover_glyph\":null,\"muted_glyph\":null},\"id\":\"f901c6f4-3dd3-4982-8f2a-c77853fae913\",\"type\":\"GlyphRenderer\"},{\"attributes\":{\"data_source\":{\"id\":\"7a54f7d2-a47c-4cc3-be77-57e40c219d81\",\"type\":\"ColumnDataSource\"},\"glyph\":{\"id\":\"e54169fd-bd10-446b-995c-939980050590\",\"type\":\"Rect\"},\"hover_glyph\":null,\"muted_glyph\":null},\"id\":\"530547e3-3db0-49a9-adc2-09dc8e605edf\",\"type\":\"GlyphRenderer\"},{\"attributes\":{\"data_source\":{\"id\":\"1dc6f7a8-35c2-4640-b0d9-3d82f5d743d5\",\"type\":\"ColumnDataSource\"},\"glyph\":{\"id\":\"24be8460-def9-4ab7-975d-0fbdf9122fe6\",\"type\":\"Rect\"},\"hover_glyph\":null,\"muted_glyph\":null},\"id\":\"5d1b5bc1-9c96-4957-9f09-0653615e984d\",\"type\":\"GlyphRenderer\"},{\"attributes\":{\"data_source\":{\"id\":\"4a3d2c24-f4c0-43a9-8d50-2765963360a2\",\"type\":\"ColumnDataSource\"},\"glyph\":{\"id\":\"8f11a5d7-8ca0-4e90-940a-433fdeb7bde1\",\"type\":\"Rect\"},\"hover_glyph\":null,\"muted_glyph\":null},\"id\":\"ea172690-4eff-47ea-8434-7f7dfd57aff9\",\"type\":\"GlyphRenderer\"},{\"attributes\":{\"callback\":null,\"column_names\":[\"x\",\"y\",\"width\",\"height\",\"color\",\"fill_alpha\",\"line_color\",\"line_alpha\",\"label\"],\"data\":{\"chart_index\":[\"(114.453333, 115.440000]\"],\"color\":[\"#f22c40\"],\"fill_alpha\":[0.8],\"height\":[1.0],\"label\":[\"(114.453333, 115.440000]\"],\"line_alpha\":[1.0],\"line_color\":[\"black\"],\"width\":[0.9866666666666646],\"x\":[\"114.94666649999999\"],\"y\":[0.5]}},\"id\":\"c43df72e-ae1c-4a5d-809d-385240394284\",\"type\":\"ColumnDataSource\"},{\"attributes\":{\"callback\":null,\"column_names\":[\"x\",\"y\",\"width\",\"height\",\"color\",\"fill_alpha\",\"line_color\",\"line_alpha\",\"label\"],\"data\":{\"chart_index\":[\"(19.733333, 20.720000]\"],\"color\":[\"#f22c40\"],\"fill_alpha\":[0.8],\"height\":[3.0],\"label\":[\"(19.733333, 20.720000]\"],\"line_alpha\":[1.0],\"line_color\":[\"black\"],\"width\":[0.9866666666666646],\"x\":[\"20.2266665\"],\"y\":[1.5]}},\"id\":\"8dc66de9-81db-4517-8efa-ef042aa44e97\",\"type\":\"ColumnDataSource\"},{\"attributes\":{\"fill_alpha\":{\"field\":\"fill_alpha\"},\"fill_color\":{\"field\":\"color\"},\"height\":{\"field\":\"height\",\"units\":\"data\"},\"line_color\":{\"field\":\"line_color\"},\"width\":{\"field\":\"width\",\"units\":\"data\"},\"x\":{\"field\":\"x\"},\"y\":{\"field\":\"y\"}},\"id\":\"b5f65eb9-3cb5-4808-835a-44feebd8fc68\",\"type\":\"Rect\"},{\"attributes\":{\"callback\":null,\"column_names\":[\"x\",\"y\",\"width\",\"height\",\"color\",\"fill_alpha\",\"line_color\",\"line_alpha\",\"label\"],\"data\":{\"chart_index\":[\"(136.160000, 137.146667]\"],\"color\":[\"#f22c40\"],\"fill_alpha\":[0.8],\"height\":[0.0],\"label\":[\"(136.160000, 137.146667]\"],\"line_alpha\":[1.0],\"line_color\":[\"black\"],\"width\":[0.9866666666666788],\"x\":[\"136.6533335\"],\"y\":[0.0]}},\"id\":\"fdb7a0ce-0f3a-45eb-9e5e-73b6aa783f92\",\"type\":\"ColumnDataSource\"},{\"attributes\":{\"fill_alpha\":{\"field\":\"fill_alpha\"},\"fill_color\":{\"field\":\"color\"},\"height\":{\"field\":\"height\",\"units\":\"data\"},\"line_color\":{\"field\":\"line_color\"},\"width\":{\"field\":\"width\",\"units\":\"data\"},\"x\":{\"field\":\"x\"},\"y\":{\"field\":\"y\"}},\"id\":\"730a020b-51fe-47cc-bc84-4d9673b8fbcf\",\"type\":\"Rect\"},{\"attributes\":{\"fill_alpha\":{\"field\":\"fill_alpha\"},\"fill_color\":{\"field\":\"color\"},\"height\":{\"field\":\"height\",\"units\":\"data\"},\"line_color\":{\"field\":\"line_color\"},\"width\":{\"field\":\"width\",\"units\":\"data\"},\"x\":{\"field\":\"x\"},\"y\":{\"field\":\"y\"}},\"id\":\"1558d742-c85d-47d4-a03c-958c072b8bd9\",\"type\":\"Rect\"},{\"attributes\":{\"fill_alpha\":{\"field\":\"fill_alpha\"},\"fill_color\":{\"field\":\"color\"},\"height\":{\"field\":\"height\",\"units\":\"data\"},\"line_color\":{\"field\":\"line_color\"},\"width\":{\"field\":\"width\",\"units\":\"data\"},\"x\":{\"field\":\"x\"},\"y\":{\"field\":\"y\"}},\"id\":\"dab689b1-6680-4722-a872-09ded8c0b81b\",\"type\":\"Rect\"},{\"attributes\":{\"data_source\":{\"id\":\"6f9d373b-cd7d-486d-90d3-d2970cb07dad\",\"type\":\"ColumnDataSource\"},\"glyph\":{\"id\":\"201d47ce-9492-42ee-9e80-f6006954ea42\",\"type\":\"Rect\"},\"hover_glyph\":null,\"muted_glyph\":null},\"id\":\"ef1b614a-5761-4126-a4fe-0dfea0f6709a\",\"type\":\"GlyphRenderer\"},{\"attributes\":{\"fill_alpha\":{\"field\":\"fill_alpha\"},\"fill_color\":{\"field\":\"color\"},\"height\":{\"field\":\"height\",\"units\":\"data\"},\"line_color\":{\"field\":\"line_color\"},\"width\":{\"field\":\"width\",\"units\":\"data\"},\"x\":{\"field\":\"x\"},\"y\":{\"field\":\"y\"}},\"id\":\"2d505837-acb1-4096-a983-ba61a893bd8f\",\"type\":\"Rect\"},{\"attributes\":{\"callback\":null,\"column_names\":[\"x\",\"y\",\"width\",\"height\",\"color\",\"fill_alpha\",\"line_color\",\"line_alpha\",\"label\"],\"data\":{\"chart_index\":[\"(31.573333, 32.560000]\"],\"color\":[\"#f22c40\"],\"fill_alpha\":[0.8],\"height\":[2.0],\"label\":[\"(31.573333, 32.560000]\"],\"line_alpha\":[1.0],\"line_color\":[\"black\"],\"width\":[0.9866666666666681],\"x\":[\"32.066666500000004\"],\"y\":[1.0]}},\"id\":\"52e938c7-d414-4489-b7a6-601485b9791d\",\"type\":\"ColumnDataSource\"},{\"attributes\":{\"callback\":null,\"column_names\":[\"x\",\"y\",\"width\",\"height\",\"color\",\"fill_alpha\",\"line_color\",\"line_alpha\",\"label\"],\"data\":{\"chart_index\":[\"(20.720000, 21.706667]\"],\"color\":[\"#f22c40\"],\"fill_alpha\":[0.8],\"height\":[0.0],\"label\":[\"(20.720000, 21.706667]\"],\"line_alpha\":[1.0],\"line_color\":[\"black\"],\"width\":[0.9866666666666681],\"x\":[\"21.213333499999997\"],\"y\":[0.0]}},\"id\":\"c79caf9b-64ee-4df6-8d1a-17e83b48c71b\",\"type\":\"ColumnDataSource\"},{\"attributes\":{\"fill_alpha\":{\"field\":\"fill_alpha\"},\"fill_color\":{\"field\":\"color\"},\"height\":{\"field\":\"height\",\"units\":\"data\"},\"line_color\":{\"field\":\"line_color\"},\"width\":{\"field\":\"width\",\"units\":\"data\"},\"x\":{\"field\":\"x\"},\"y\":{\"field\":\"y\"}},\"id\":\"7103dd10-6cb7-4938-bbfc-3f7d63868ea0\",\"type\":\"Rect\"},{\"attributes\":{\"fill_alpha\":{\"field\":\"fill_alpha\"},\"fill_color\":{\"field\":\"color\"},\"height\":{\"field\":\"height\",\"units\":\"data\"},\"line_color\":{\"field\":\"line_color\"},\"width\":{\"field\":\"width\",\"units\":\"data\"},\"x\":{\"field\":\"x\"},\"y\":{\"field\":\"y\"}},\"id\":\"3b43ea30-44a9-4511-94a3-9eedaeef3f94\",\"type\":\"Rect\"},{\"attributes\":{\"callback\":null,\"column_names\":[\"x\",\"y\",\"width\",\"height\",\"color\",\"fill_alpha\",\"line_color\",\"line_alpha\",\"label\"],\"data\":{\"chart_index\":[\"(32.560000, 33.546667]\"],\"color\":[\"#f22c40\"],\"fill_alpha\":[0.8],\"height\":[0.0],\"label\":[\"(32.560000, 33.546667]\"],\"line_alpha\":[1.0],\"line_color\":[\"black\"],\"width\":[0.9866666666666646],\"x\":[\"33.0533335\"],\"y\":[0.0]}},\"id\":\"3dde6599-94b1-4219-8891-37e506534000\",\"type\":\"ColumnDataSource\"},{\"attributes\":{\"callback\":null,\"column_names\":[\"x\",\"y\",\"width\",\"height\",\"color\",\"fill_alpha\",\"line_color\",\"line_alpha\",\"label\"],\"data\":{\"chart_index\":[\"(109.520000, 110.506667]\"],\"color\":[\"#f22c40\"],\"fill_alpha\":[0.8],\"height\":[0.0],\"label\":[\"(109.520000, 110.506667]\"],\"line_alpha\":[1.0],\"line_color\":[\"black\"],\"width\":[0.9866666666666788],\"x\":[\"110.01333349999999\"],\"y\":[0.0]}},\"id\":\"8d53fa95-704b-4be9-87c3-9d8be78bb006\",\"type\":\"ColumnDataSource\"},{\"attributes\":{\"data_source\":{\"id\":\"52e938c7-d414-4489-b7a6-601485b9791d\",\"type\":\"ColumnDataSource\"},\"glyph\":{\"id\":\"3e366132-ff79-4eb4-827e-dc4e7664ff8b\",\"type\":\"Rect\"},\"hover_glyph\":null,\"muted_glyph\":null},\"id\":\"7af7a0fe-6832-43bd-af8d-e82523cba5d5\",\"type\":\"GlyphRenderer\"},{\"attributes\":{\"data_source\":{\"id\":\"564e5796-f080-4cde-aaca-059dfe7bf7f9\",\"type\":\"ColumnDataSource\"},\"glyph\":{\"id\":\"f8c91115-92de-489f-8792-79dc5013f839\",\"type\":\"Rect\"},\"hover_glyph\":null,\"muted_glyph\":null},\"id\":\"ba34d253-9179-4e0b-976f-bfbaf3f0cd71\",\"type\":\"GlyphRenderer\"},{\"attributes\":{\"fill_alpha\":{\"field\":\"fill_alpha\"},\"fill_color\":{\"field\":\"color\"},\"height\":{\"field\":\"height\",\"units\":\"data\"},\"line_color\":{\"field\":\"line_color\"},\"width\":{\"field\":\"width\",\"units\":\"data\"},\"x\":{\"field\":\"x\"},\"y\":{\"field\":\"y\"}},\"id\":\"0bfc61e4-27d5-4db4-ba38-ad79784b135e\",\"type\":\"Rect\"},{\"attributes\":{\"data_source\":{\"id\":\"8d53fa95-704b-4be9-87c3-9d8be78bb006\",\"type\":\"ColumnDataSource\"},\"glyph\":{\"id\":\"b5f65eb9-3cb5-4808-835a-44feebd8fc68\",\"type\":\"Rect\"},\"hover_glyph\":null,\"muted_glyph\":null},\"id\":\"0f247e55-9e1f-48c1-935b-86b41245d9be\",\"type\":\"GlyphRenderer\"},{\"attributes\":{\"callback\":null,\"column_names\":[\"x\",\"y\",\"width\",\"height\",\"color\",\"fill_alpha\",\"line_color\",\"line_alpha\",\"label\"],\"data\":{\"chart_index\":[\"(135.173333, 136.160000]\"],\"color\":[\"#f22c40\"],\"fill_alpha\":[0.8],\"height\":[0.0],\"label\":[\"(135.173333, 136.160000]\"],\"line_alpha\":[1.0],\"line_color\":[\"black\"],\"width\":[0.9866666666666504],\"x\":[\"135.66666650000002\"],\"y\":[0.0]}},\"id\":\"aa2679ed-6f84-4883-b640-a604a32d6790\",\"type\":\"ColumnDataSource\"},{\"attributes\":{\"callback\":null,\"column_names\":[\"x\",\"y\",\"width\",\"height\",\"color\",\"fill_alpha\",\"line_color\",\"line_alpha\",\"label\"],\"data\":{\"chart_index\":[\"(110.506667, 111.493333]\"],\"color\":[\"#f22c40\"],\"fill_alpha\":[0.8],\"height\":[0.0],\"label\":[\"(110.506667, 111.493333]\"],\"line_alpha\":[1.0],\"line_color\":[\"black\"],\"width\":[0.9866666666666646],\"x\":[\"111.0\"],\"y\":[0.0]}},\"id\":\"faffd367-a206-412f-9169-c923f80ad299\",\"type\":\"ColumnDataSource\"},{\"attributes\":{\"data_source\":{\"id\":\"8dc66de9-81db-4517-8efa-ef042aa44e97\",\"type\":\"ColumnDataSource\"},\"glyph\":{\"id\":\"730a020b-51fe-47cc-bc84-4d9673b8fbcf\",\"type\":\"Rect\"},\"hover_glyph\":null,\"muted_glyph\":null},\"id\":\"787ee813-4752-4e11-aa05-3866be3be2ee\",\"type\":\"GlyphRenderer\"},{\"attributes\":{\"fill_alpha\":{\"field\":\"fill_alpha\"},\"fill_color\":{\"field\":\"color\"},\"height\":{\"field\":\"height\",\"units\":\"data\"},\"line_color\":{\"field\":\"line_color\"},\"width\":{\"field\":\"width\",\"units\":\"data\"},\"x\":{\"field\":\"x\"},\"y\":{\"field\":\"y\"}},\"id\":\"6876afd5-e17e-4e47-aee0-ee2f9ea138cf\",\"type\":\"Rect\"},{\"attributes\":{\"fill_alpha\":{\"field\":\"fill_alpha\"},\"fill_color\":{\"field\":\"color\"},\"height\":{\"field\":\"height\",\"units\":\"data\"},\"line_color\":{\"field\":\"line_color\"},\"width\":{\"field\":\"width\",\"units\":\"data\"},\"x\":{\"field\":\"x\"},\"y\":{\"field\":\"y\"}},\"id\":\"7cc84806-ca38-4428-9124-3b33ca9b0512\",\"type\":\"Rect\"},{\"attributes\":{\"callback\":null,\"column_names\":[\"x\",\"y\",\"width\",\"height\",\"color\",\"fill_alpha\",\"line_color\",\"line_alpha\",\"label\"],\"data\":{\"chart_index\":[\"(39.466667, 40.453333]\"],\"color\":[\"#f22c40\"],\"fill_alpha\":[0.8],\"height\":[0.0],\"label\":[\"(39.466667, 40.453333]\"],\"line_alpha\":[1.0],\"line_color\":[\"black\"],\"width\":[0.9866666666666646],\"x\":[\"39.96\"],\"y\":[0.0]}},\"id\":\"127548fb-19b0-4f7f-924f-2b5fc122142f\",\"type\":\"ColumnDataSource\"},{\"attributes\":{\"fill_alpha\":{\"field\":\"fill_alpha\"},\"fill_color\":{\"field\":\"color\"},\"height\":{\"field\":\"height\",\"units\":\"data\"},\"line_color\":{\"field\":\"line_color\"},\"width\":{\"field\":\"width\",\"units\":\"data\"},\"x\":{\"field\":\"x\"},\"y\":{\"field\":\"y\"}},\"id\":\"922e7ab0-5c56-4d27-ba45-6259dcd1d959\",\"type\":\"Rect\"},{\"attributes\":{\"data_source\":{\"id\":\"cc03f25c-070d-43d0-a344-e7908f656571\",\"type\":\"ColumnDataSource\"},\"glyph\":{\"id\":\"000dd359-ef84-44fb-9437-dc44912af373\",\"type\":\"Rect\"},\"hover_glyph\":null,\"muted_glyph\":null},\"id\":\"3dc5cf39-f5eb-49ae-bd79-e7557ee5eec5\",\"type\":\"GlyphRenderer\"},{\"attributes\":{\"callback\":null,\"column_names\":[\"x\",\"y\",\"width\",\"height\",\"color\",\"fill_alpha\",\"line_color\",\"line_alpha\",\"label\"],\"data\":{\"chart_index\":[\"(143.066667, 144.053333]\"],\"color\":[\"#f22c40\"],\"fill_alpha\":[0.8],\"height\":[0.0],\"label\":[\"(143.066667, 144.053333]\"],\"line_alpha\":[1.0],\"line_color\":[\"black\"],\"width\":[0.9866666666666788],\"x\":[\"143.56\"],\"y\":[0.0]}},\"id\":\"70b6c2d2-91d1-42e2-a380-2319a0d6c40d\",\"type\":\"ColumnDataSource\"},{\"attributes\":{\"data_source\":{\"id\":\"3dde6599-94b1-4219-8891-37e506534000\",\"type\":\"ColumnDataSource\"},\"glyph\":{\"id\":\"7103dd10-6cb7-4938-bbfc-3f7d63868ea0\",\"type\":\"Rect\"},\"hover_glyph\":null,\"muted_glyph\":null},\"id\":\"3067cc7f-71eb-4478-8976-789c374fd793\",\"type\":\"GlyphRenderer\"},{\"attributes\":{\"data_source\":{\"id\":\"aa2679ed-6f84-4883-b640-a604a32d6790\",\"type\":\"ColumnDataSource\"},\"glyph\":{\"id\":\"dab689b1-6680-4722-a872-09ded8c0b81b\",\"type\":\"Rect\"},\"hover_glyph\":null,\"muted_glyph\":null},\"id\":\"25c146d3-f810-461f-884e-ea8469b5608f\",\"type\":\"GlyphRenderer\"},{\"attributes\":{\"callback\":null,\"column_names\":[\"x\",\"y\",\"width\",\"height\",\"color\",\"fill_alpha\",\"line_color\",\"line_alpha\",\"label\"],\"data\":{\"chart_index\":[\"(33.546667, 34.533333]\"],\"color\":[\"#f22c40\"],\"fill_alpha\":[0.8],\"height\":[1.0],\"label\":[\"(33.546667, 34.533333]\"],\"line_alpha\":[1.0],\"line_color\":[\"black\"],\"width\":[0.9866666666666646],\"x\":[\"34.04\"],\"y\":[0.5]}},\"id\":\"6c39e1b9-4670-477b-9485-4a9df6e3c212\",\"type\":\"ColumnDataSource\"},{\"attributes\":{\"callback\":null,\"column_names\":[\"x\",\"y\",\"width\",\"height\",\"color\",\"fill_alpha\",\"line_color\",\"line_alpha\",\"label\"],\"data\":{\"chart_index\":[\"(113.466667, 114.453333]\"],\"color\":[\"#f22c40\"],\"fill_alpha\":[0.8],\"height\":[0.0],\"label\":[\"(113.466667, 114.453333]\"],\"line_alpha\":[1.0],\"line_color\":[\"black\"],\"width\":[0.9866666666666646],\"x\":[\"113.96000000000001\"],\"y\":[0.0]}},\"id\":\"564e5796-f080-4cde-aaca-059dfe7bf7f9\",\"type\":\"ColumnDataSource\"},{\"attributes\":{\"fill_alpha\":{\"field\":\"fill_alpha\"},\"fill_color\":{\"field\":\"color\"},\"height\":{\"field\":\"height\",\"units\":\"data\"},\"line_color\":{\"field\":\"line_color\"},\"width\":{\"field\":\"width\",\"units\":\"data\"},\"x\":{\"field\":\"x\"},\"y\":{\"field\":\"y\"}},\"id\":\"d9f0f23a-8af0-4af8-9335-a74a6ef38efa\",\"type\":\"Rect\"},{\"attributes\":{\"callback\":null,\"column_names\":[\"x\",\"y\",\"width\",\"height\",\"color\",\"fill_alpha\",\"line_color\",\"line_alpha\",\"label\"],\"data\":{\"chart_index\":[\"(25.653333, 26.640000]\"],\"color\":[\"#f22c40\"],\"fill_alpha\":[0.8],\"height\":[1.0],\"label\":[\"(25.653333, 26.640000]\"],\"line_alpha\":[1.0],\"line_color\":[\"black\"],\"width\":[0.9866666666666681],\"x\":[\"26.146666500000002\"],\"y\":[0.5]}},\"id\":\"6ca6fcd0-28a0-4d66-8d23-fbbc0d30d849\",\"type\":\"ColumnDataSource\"},{\"attributes\":{\"fill_alpha\":{\"field\":\"fill_alpha\"},\"fill_color\":{\"field\":\"color\"},\"height\":{\"field\":\"height\",\"units\":\"data\"},\"line_color\":{\"field\":\"line_color\"},\"width\":{\"field\":\"width\",\"units\":\"data\"},\"x\":{\"field\":\"x\"},\"y\":{\"field\":\"y\"}},\"id\":\"d74892df-b4aa-44ce-98c7-08566eb3e41e\",\"type\":\"Rect\"},{\"attributes\":{\"callback\":null,\"column_names\":[\"x\",\"y\",\"width\",\"height\",\"color\",\"fill_alpha\",\"line_color\",\"line_alpha\",\"label\"],\"data\":{\"chart_index\":[\"(121.360000, 122.346667]\"],\"color\":[\"#f22c40\"],\"fill_alpha\":[0.8],\"height\":[1.0],\"label\":[\"(121.360000, 122.346667]\"],\"line_alpha\":[1.0],\"line_color\":[\"black\"],\"width\":[0.9866666666666646],\"x\":[\"121.85333349999999\"],\"y\":[0.5]}},\"id\":\"1aa7e1b5-e2d6-4788-951f-4923bcb35019\",\"type\":\"ColumnDataSource\"},{\"attributes\":{\"data_source\":{\"id\":\"faffd367-a206-412f-9169-c923f80ad299\",\"type\":\"ColumnDataSource\"},\"glyph\":{\"id\":\"6876afd5-e17e-4e47-aee0-ee2f9ea138cf\",\"type\":\"Rect\"},\"hover_glyph\":null,\"muted_glyph\":null},\"id\":\"62a34b58-ac40-4e0d-b297-b1590a7454bb\",\"type\":\"GlyphRenderer\"},{\"attributes\":{\"fill_alpha\":{\"field\":\"fill_alpha\"},\"fill_color\":{\"field\":\"color\"},\"height\":{\"field\":\"height\",\"units\":\"data\"},\"line_color\":{\"field\":\"line_color\"},\"width\":{\"field\":\"width\",\"units\":\"data\"},\"x\":{\"field\":\"x\"},\"y\":{\"field\":\"y\"}},\"id\":\"62b8922d-b6ac-4cad-9d70-fa47151e4e6e\",\"type\":\"Rect\"},{\"attributes\":{\"callback\":null,\"column_names\":[\"x\",\"y\",\"width\",\"height\",\"color\",\"fill_alpha\",\"line_color\",\"line_alpha\",\"label\"],\"data\":{\"chart_index\":[\"(34.533333, 35.520000]\"],\"color\":[\"#f22c40\"],\"fill_alpha\":[0.8],\"height\":[2.0],\"label\":[\"(34.533333, 35.520000]\"],\"line_alpha\":[1.0],\"line_color\":[\"black\"],\"width\":[0.9866666666666717],\"x\":[\"35.026666500000005\"],\"y\":[1.0]}},\"id\":\"af4e78ce-1366-4843-b300-04000eb4aac9\",\"type\":\"ColumnDataSource\"},{\"attributes\":{\"data_source\":{\"id\":\"c79caf9b-64ee-4df6-8d1a-17e83b48c71b\",\"type\":\"ColumnDataSource\"},\"glyph\":{\"id\":\"2d505837-acb1-4096-a983-ba61a893bd8f\",\"type\":\"Rect\"},\"hover_glyph\":null,\"muted_glyph\":null},\"id\":\"758405cf-fe4f-4d65-ba18-ccde3b2cf510\",\"type\":\"GlyphRenderer\"},{\"attributes\":{\"callback\":null,\"column_names\":[\"x\",\"y\",\"width\",\"height\",\"color\",\"fill_alpha\",\"line_color\",\"line_alpha\",\"label\"],\"data\":{\"chart_index\":[\"(21.706667, 22.693333]\"],\"color\":[\"#f22c40\"],\"fill_alpha\":[0.8],\"height\":[1.0],\"label\":[\"(21.706667, 22.693333]\"],\"line_alpha\":[1.0],\"line_color\":[\"black\"],\"width\":[0.9866666666666681],\"x\":[\"22.2\"],\"y\":[0.5]}},\"id\":\"2e0b0276-b234-403a-bc71-22b36dce7abd\",\"type\":\"ColumnDataSource\"},{\"attributes\":{\"data_source\":{\"id\":\"6079d1c2-ebc4-472e-b12b-09239b65ce98\",\"type\":\"ColumnDataSource\"},\"glyph\":{\"id\":\"5dabffe3-8bf8-4e9d-a94f-88af61162789\",\"type\":\"Rect\"},\"hover_glyph\":null,\"muted_glyph\":null},\"id\":\"d51714cc-4fa6-470a-916e-745d14e838fc\",\"type\":\"GlyphRenderer\"},{\"attributes\":{\"fill_alpha\":{\"field\":\"fill_alpha\"},\"fill_color\":{\"field\":\"color\"},\"height\":{\"field\":\"height\",\"units\":\"data\"},\"line_color\":{\"field\":\"line_color\"},\"width\":{\"field\":\"width\",\"units\":\"data\"},\"x\":{\"field\":\"x\"},\"y\":{\"field\":\"y\"}},\"id\":\"b344cde6-b486-4f9f-9b5c-096dea53faef\",\"type\":\"Rect\"},{\"attributes\":{\"fill_alpha\":{\"field\":\"fill_alpha\"},\"fill_color\":{\"field\":\"color\"},\"height\":{\"field\":\"height\",\"units\":\"data\"},\"line_color\":{\"field\":\"line_color\"},\"width\":{\"field\":\"width\",\"units\":\"data\"},\"x\":{\"field\":\"x\"},\"y\":{\"field\":\"y\"}},\"id\":\"1459dfe9-8b9c-4b61-b097-88a2dc6e8009\",\"type\":\"Rect\"},{\"attributes\":{\"fill_alpha\":{\"field\":\"fill_alpha\"},\"fill_color\":{\"field\":\"color\"},\"height\":{\"field\":\"height\",\"units\":\"data\"},\"line_color\":{\"field\":\"line_color\"},\"width\":{\"field\":\"width\",\"units\":\"data\"},\"x\":{\"field\":\"x\"},\"y\":{\"field\":\"y\"}},\"id\":\"9e709e14-6660-4389-a8d8-7bc91d20afa5\",\"type\":\"Rect\"},{\"attributes\":{\"data_source\":{\"id\":\"afd2b5bb-54ae-4d38-82f0-6adf6945e6c7\",\"type\":\"ColumnDataSource\"},\"glyph\":{\"id\":\"42a2b19d-dff1-48e1-a7c7-a50eb3928b7e\",\"type\":\"Rect\"},\"hover_glyph\":null,\"muted_glyph\":null},\"id\":\"0fef81e7-a844-46a2-acf4-4c345041137a\",\"type\":\"GlyphRenderer\"},{\"attributes\":{\"data_source\":{\"id\":\"fdb7a0ce-0f3a-45eb-9e5e-73b6aa783f92\",\"type\":\"ColumnDataSource\"},\"glyph\":{\"id\":\"3b43ea30-44a9-4511-94a3-9eedaeef3f94\",\"type\":\"Rect\"},\"hover_glyph\":null,\"muted_glyph\":null},\"id\":\"b6b70bd8-8007-4993-8177-e5dcf57b613f\",\"type\":\"GlyphRenderer\"},{\"attributes\":{\"callback\":null,\"column_names\":[\"x\",\"y\",\"width\",\"height\",\"color\",\"fill_alpha\",\"line_color\",\"line_alpha\",\"label\"],\"data\":{\"chart_index\":[\"(115.440000, 116.426667]\"],\"color\":[\"#f22c40\"],\"fill_alpha\":[0.8],\"height\":[0.0],\"label\":[\"(115.440000, 116.426667]\"],\"line_alpha\":[1.0],\"line_color\":[\"black\"],\"width\":[0.9866666666666788],\"x\":[\"115.9333335\"],\"y\":[0.0]}},\"id\":\"f909245d-e6c9-4966-9c3d-93c86e48f4d1\",\"type\":\"ColumnDataSource\"},{\"attributes\":{\"data_source\":{\"id\":\"6c39e1b9-4670-477b-9485-4a9df6e3c212\",\"type\":\"ColumnDataSource\"},\"glyph\":{\"id\":\"d74892df-b4aa-44ce-98c7-08566eb3e41e\",\"type\":\"Rect\"},\"hover_glyph\":null,\"muted_glyph\":null},\"id\":\"dc2df1a4-7e3d-4962-af99-5823fcd14506\",\"type\":\"GlyphRenderer\"},{\"attributes\":{\"callback\":null,\"column_names\":[\"x\",\"y\",\"width\",\"height\",\"color\",\"fill_alpha\",\"line_color\",\"line_alpha\",\"label\"],\"data\":{\"chart_index\":[\"(137.146667, 138.133333]\"],\"color\":[\"#f22c40\"],\"fill_alpha\":[0.8],\"height\":[2.0],\"label\":[\"(137.146667, 138.133333]\"],\"line_alpha\":[1.0],\"line_color\":[\"black\"],\"width\":[0.9866666666666504],\"x\":[\"137.64\"],\"y\":[1.0]}},\"id\":\"1b4dd513-c0f0-448d-88d8-3ee367242129\",\"type\":\"ColumnDataSource\"},{\"attributes\":{\"fill_alpha\":{\"field\":\"fill_alpha\"},\"fill_color\":{\"field\":\"color\"},\"height\":{\"field\":\"height\",\"units\":\"data\"},\"line_color\":{\"field\":\"line_color\"},\"width\":{\"field\":\"width\",\"units\":\"data\"},\"x\":{\"field\":\"x\"},\"y\":{\"field\":\"y\"}},\"id\":\"82296521-3af0-4cf2-931f-1aeddb98d494\",\"type\":\"Rect\"},{\"attributes\":{\"fill_alpha\":{\"field\":\"fill_alpha\"},\"fill_color\":{\"field\":\"color\"},\"height\":{\"field\":\"height\",\"units\":\"data\"},\"line_color\":{\"field\":\"line_color\"},\"width\":{\"field\":\"width\",\"units\":\"data\"},\"x\":{\"field\":\"x\"},\"y\":{\"field\":\"y\"}},\"id\":\"09b54849-35c9-43c1-94d1-7451ee211952\",\"type\":\"Rect\"},{\"attributes\":{\"callback\":null,\"column_names\":[\"x\",\"y\",\"width\",\"height\",\"color\",\"fill_alpha\",\"line_color\",\"line_alpha\",\"label\"],\"data\":{\"chart_index\":[\"(24.666667, 25.653333]\"],\"color\":[\"#f22c40\"],\"fill_alpha\":[0.8],\"height\":[4.0],\"label\":[\"(24.666667, 25.653333]\"],\"line_alpha\":[1.0],\"line_color\":[\"black\"],\"width\":[0.9866666666666646],\"x\":[\"25.16\"],\"y\":[2.0]}},\"id\":\"09e62f44-e4d0-4ce3-84a3-4c00d828a939\",\"type\":\"ColumnDataSource\"},{\"attributes\":{\"callback\":null,\"column_names\":[\"x\",\"y\",\"width\",\"height\",\"color\",\"fill_alpha\",\"line_color\",\"line_alpha\",\"label\"],\"data\":{\"chart_index\":[\"(35.520000, 36.506667]\"],\"color\":[\"#f22c40\"],\"fill_alpha\":[0.8],\"height\":[0.0],\"label\":[\"(35.520000, 36.506667]\"],\"line_alpha\":[1.0],\"line_color\":[\"black\"],\"width\":[0.9866666666666646],\"x\":[\"36.0133335\"],\"y\":[0.0]}},\"id\":\"309d565e-a7cc-46ba-8b7f-4432ba9a20cb\",\"type\":\"ColumnDataSource\"},{\"attributes\":{\"callback\":null,\"column_names\":[\"x\",\"y\",\"width\",\"height\",\"color\",\"fill_alpha\",\"line_color\",\"line_alpha\",\"label\"],\"data\":{\"chart_index\":[\"(138.133333, 139.120000]\"],\"color\":[\"#f22c40\"],\"fill_alpha\":[0.8],\"height\":[0.0],\"label\":[\"(138.133333, 139.120000]\"],\"line_alpha\":[1.0],\"line_color\":[\"black\"],\"width\":[0.9866666666666788],\"x\":[\"138.6266665\"],\"y\":[0.0]}},\"id\":\"85381289-bf28-44a9-9610-472885aad36a\",\"type\":\"ColumnDataSource\"},{\"attributes\":{\"data_source\":{\"id\":\"e193680d-7ed2-4b33-b70e-fe72193c84ef\",\"type\":\"ColumnDataSource\"},\"glyph\":{\"id\":\"9d877ebf-5ed5-45a2-955e-0906b2c28942\",\"type\":\"Rect\"},\"hover_glyph\":null,\"muted_glyph\":null},\"id\":\"d5f914e8-6e06-44fd-8061-d3c13baad074\",\"type\":\"GlyphRenderer\"},{\"attributes\":{\"fill_alpha\":{\"field\":\"fill_alpha\"},\"fill_color\":{\"field\":\"color\"},\"height\":{\"field\":\"height\",\"units\":\"data\"},\"line_color\":{\"field\":\"line_color\"},\"width\":{\"field\":\"width\",\"units\":\"data\"},\"x\":{\"field\":\"x\"},\"y\":{\"field\":\"y\"}},\"id\":\"245cab37-386c-4ef9-9b56-7ef891fcfa06\",\"type\":\"Rect\"},{\"attributes\":{\"data_source\":{\"id\":\"2e0b0276-b234-403a-bc71-22b36dce7abd\",\"type\":\"ColumnDataSource\"},\"glyph\":{\"id\":\"b344cde6-b486-4f9f-9b5c-096dea53faef\",\"type\":\"Rect\"},\"hover_glyph\":null,\"muted_glyph\":null},\"id\":\"46898f3b-148d-40a9-8566-42521ee05cf6\",\"type\":\"GlyphRenderer\"},{\"attributes\":{\"data_source\":{\"id\":\"8b83cf0c-84a2-4b11-bdc2-6632fd8522dd\",\"type\":\"ColumnDataSource\"},\"glyph\":{\"id\":\"1beaf7ae-0860-45c0-ad84-b408d5d03437\",\"type\":\"Rect\"},\"hover_glyph\":null,\"muted_glyph\":null},\"id\":\"33086d64-4c61-43ae-a0c0-b55353f5948c\",\"type\":\"GlyphRenderer\"},{\"attributes\":{\"data_source\":{\"id\":\"c43df72e-ae1c-4a5d-809d-385240394284\",\"type\":\"ColumnDataSource\"},\"glyph\":{\"id\":\"7cc84806-ca38-4428-9124-3b33ca9b0512\",\"type\":\"Rect\"},\"hover_glyph\":null,\"muted_glyph\":null},\"id\":\"61d5924b-61fc-4fa6-8ed7-425e6999af92\",\"type\":\"GlyphRenderer\"},{\"attributes\":{\"fill_alpha\":{\"field\":\"fill_alpha\"},\"fill_color\":{\"field\":\"color\"},\"height\":{\"field\":\"height\",\"units\":\"data\"},\"line_color\":{\"field\":\"line_color\"},\"width\":{\"field\":\"width\",\"units\":\"data\"},\"x\":{\"field\":\"x\"},\"y\":{\"field\":\"y\"}},\"id\":\"3e366132-ff79-4eb4-827e-dc4e7664ff8b\",\"type\":\"Rect\"},{\"attributes\":{\"fill_alpha\":{\"field\":\"fill_alpha\"},\"fill_color\":{\"field\":\"color\"},\"height\":{\"field\":\"height\",\"units\":\"data\"},\"line_color\":{\"field\":\"line_color\"},\"width\":{\"field\":\"width\",\"units\":\"data\"},\"x\":{\"field\":\"x\"},\"y\":{\"field\":\"y\"}},\"id\":\"e103ee85-26c6-4b92-8814-50808a42bf89\",\"type\":\"Rect\"},{\"attributes\":{\"fill_alpha\":{\"field\":\"fill_alpha\"},\"fill_color\":{\"field\":\"color\"},\"height\":{\"field\":\"height\",\"units\":\"data\"},\"line_color\":{\"field\":\"line_color\"},\"width\":{\"field\":\"width\",\"units\":\"data\"},\"x\":{\"field\":\"x\"},\"y\":{\"field\":\"y\"}},\"id\":\"f0bcf116-2fed-4ab0-abc4-990a2b0a6444\",\"type\":\"Rect\"},{\"attributes\":{\"callback\":null,\"column_names\":[\"x\",\"y\",\"width\",\"height\",\"color\",\"fill_alpha\",\"line_color\",\"line_alpha\",\"label\"],\"data\":{\"chart_index\":[\"(23.680000, 24.666667]\"],\"color\":[\"#f22c40\"],\"fill_alpha\":[0.8],\"height\":[2.0],\"label\":[\"(23.680000, 24.666667]\"],\"line_alpha\":[1.0],\"line_color\":[\"black\"],\"width\":[0.9866666666666681],\"x\":[\"24.1733335\"],\"y\":[1.0]}},\"id\":\"e193680d-7ed2-4b33-b70e-fe72193c84ef\",\"type\":\"ColumnDataSource\"},{\"attributes\":{\"callback\":null,\"column_names\":[\"x\",\"y\",\"width\",\"height\",\"color\",\"fill_alpha\",\"line_color\",\"line_alpha\",\"label\"],\"data\":{\"chart_index\":[\"(116.426667, 117.413333]\"],\"color\":[\"#f22c40\"],\"fill_alpha\":[0.8],\"height\":[0.0],\"label\":[\"(116.426667, 117.413333]\"],\"line_alpha\":[1.0],\"line_color\":[\"black\"],\"width\":[0.9866666666666646],\"x\":[\"116.91999999999999\"],\"y\":[0.0]}},\"id\":\"23e7f317-14a9-4892-9df1-996dfe9d2fc7\",\"type\":\"ColumnDataSource\"},{\"attributes\":{\"data_source\":{\"id\":\"af4e78ce-1366-4843-b300-04000eb4aac9\",\"type\":\"ColumnDataSource\"},\"glyph\":{\"id\":\"0bfc61e4-27d5-4db4-ba38-ad79784b135e\",\"type\":\"Rect\"},\"hover_glyph\":null,\"muted_glyph\":null},\"id\":\"b9480b42-55be-40d9-a5ee-649a09b4f2a0\",\"type\":\"GlyphRenderer\"},{\"attributes\":{\"data_source\":{\"id\":\"1b4dd513-c0f0-448d-88d8-3ee367242129\",\"type\":\"ColumnDataSource\"},\"glyph\":{\"id\":\"09b54849-35c9-43c1-94d1-7451ee211952\",\"type\":\"Rect\"},\"hover_glyph\":null,\"muted_glyph\":null},\"id\":\"483784cd-4eda-413b-bff6-f0a772f39f18\",\"type\":\"GlyphRenderer\"},{\"attributes\":{\"data_source\":{\"id\":\"cc03096e-2132-423e-9993-16a2e165f9e7\",\"type\":\"ColumnDataSource\"},\"glyph\":{\"id\":\"5e77d214-c2bf-47ed-bcf7-4fe402cc3030\",\"type\":\"Rect\"},\"hover_glyph\":null,\"muted_glyph\":null},\"id\":\"4b56cbeb-51a8-4f56-bd0b-9237febd88a1\",\"type\":\"GlyphRenderer\"},{\"attributes\":{\"fill_alpha\":{\"field\":\"fill_alpha\"},\"fill_color\":{\"field\":\"color\"},\"height\":{\"field\":\"height\",\"units\":\"data\"},\"line_color\":{\"field\":\"line_color\"},\"width\":{\"field\":\"width\",\"units\":\"data\"},\"x\":{\"field\":\"x\"},\"y\":{\"field\":\"y\"}},\"id\":\"000dd359-ef84-44fb-9437-dc44912af373\",\"type\":\"Rect\"},{\"attributes\":{\"fill_alpha\":{\"field\":\"fill_alpha\"},\"fill_color\":{\"field\":\"color\"},\"height\":{\"field\":\"height\",\"units\":\"data\"},\"line_color\":{\"field\":\"line_color\"},\"width\":{\"field\":\"width\",\"units\":\"data\"},\"x\":{\"field\":\"x\"},\"y\":{\"field\":\"y\"}},\"id\":\"7a5eba94-e705-4572-93c8-11094035e483\",\"type\":\"Rect\"},{\"attributes\":{\"callback\":null,\"column_names\":[\"x\",\"y\",\"width\",\"height\",\"color\",\"fill_alpha\",\"line_color\",\"line_alpha\",\"label\"],\"data\":{\"chart_index\":[\"(139.120000, 140.106667]\"],\"color\":[\"#f22c40\"],\"fill_alpha\":[0.8],\"height\":[0.0],\"label\":[\"(139.120000, 140.106667]\"],\"line_alpha\":[1.0],\"line_color\":[\"black\"],\"width\":[0.9866666666666788],\"x\":[\"139.6133335\"],\"y\":[0.0]}},\"id\":\"310ee5cb-2219-4c20-947a-612b82d81f7c\",\"type\":\"ColumnDataSource\"},{\"attributes\":{\"data_source\":{\"id\":\"09e62f44-e4d0-4ce3-84a3-4c00d828a939\",\"type\":\"ColumnDataSource\"},\"glyph\":{\"id\":\"62b8922d-b6ac-4cad-9d70-fa47151e4e6e\",\"type\":\"Rect\"},\"hover_glyph\":null,\"muted_glyph\":null},\"id\":\"603696a4-775c-484a-93f7-fde5e132642d\",\"type\":\"GlyphRenderer\"},{\"attributes\":{\"callback\":null,\"column_names\":[\"x\",\"y\",\"width\",\"height\",\"color\",\"fill_alpha\",\"line_color\",\"line_alpha\",\"label\"],\"data\":{\"chart_index\":[\"(126.293333, 127.280000]\"],\"color\":[\"#f22c40\"],\"fill_alpha\":[0.8],\"height\":[0.0],\"label\":[\"(126.293333, 127.280000]\"],\"line_alpha\":[1.0],\"line_color\":[\"black\"],\"width\":[0.9866666666666646],\"x\":[\"126.7866665\"],\"y\":[0.0]}},\"id\":\"6651647b-ec3b-442b-bf88-23d00caea450\",\"type\":\"ColumnDataSource\"},{\"attributes\":{\"data_source\":{\"id\":\"6651647b-ec3b-442b-bf88-23d00caea450\",\"type\":\"ColumnDataSource\"},\"glyph\":{\"id\":\"02bd5a56-e530-4d0a-bedf-d554eaf07aa4\",\"type\":\"Rect\"},\"hover_glyph\":null,\"muted_glyph\":null},\"id\":\"4b741e8f-7272-4816-87db-8b5b0ce3d573\",\"type\":\"GlyphRenderer\"},{\"attributes\":{\"fill_alpha\":{\"field\":\"fill_alpha\"},\"fill_color\":{\"field\":\"color\"},\"height\":{\"field\":\"height\",\"units\":\"data\"},\"line_color\":{\"field\":\"line_color\"},\"width\":{\"field\":\"width\",\"units\":\"data\"},\"x\":{\"field\":\"x\"},\"y\":{\"field\":\"y\"}},\"id\":\"93310164-2420-4ba9-9f61-c6debe14628c\",\"type\":\"Rect\"},{\"attributes\":{\"data_source\":{\"id\":\"f909245d-e6c9-4966-9c3d-93c86e48f4d1\",\"type\":\"ColumnDataSource\"},\"glyph\":{\"id\":\"9e709e14-6660-4389-a8d8-7bc91d20afa5\",\"type\":\"Rect\"},\"hover_glyph\":null,\"muted_glyph\":null},\"id\":\"d24251ec-cb44-4e14-9b21-d4745b0b4586\",\"type\":\"GlyphRenderer\"},{\"attributes\":{\"callback\":null,\"column_names\":[\"x\",\"y\",\"width\",\"height\",\"color\",\"fill_alpha\",\"line_color\",\"line_alpha\",\"label\"],\"data\":{\"chart_index\":[\"(26.640000, 27.626667]\"],\"color\":[\"#f22c40\"],\"fill_alpha\":[0.8],\"height\":[0.0],\"label\":[\"(26.640000, 27.626667]\"],\"line_alpha\":[1.0],\"line_color\":[\"black\"],\"width\":[0.9866666666666681],\"x\":[\"27.1333335\"],\"y\":[0.0]}},\"id\":\"f38f228c-c22f-444c-8002-32a6cf0eb5c7\",\"type\":\"ColumnDataSource\"},{\"attributes\":{\"fill_alpha\":{\"field\":\"fill_alpha\"},\"fill_color\":{\"field\":\"color\"},\"height\":{\"field\":\"height\",\"units\":\"data\"},\"line_color\":{\"field\":\"line_color\"},\"width\":{\"field\":\"width\",\"units\":\"data\"},\"x\":{\"field\":\"x\"},\"y\":{\"field\":\"y\"}},\"id\":\"2067ce6b-d1fc-4f5b-bc85-04109a6aac55\",\"type\":\"Rect\"},{\"attributes\":{\"callback\":null,\"column_names\":[\"x\",\"y\",\"width\",\"height\",\"color\",\"fill_alpha\",\"line_color\",\"line_alpha\",\"label\"],\"data\":{\"chart_index\":[\"(117.413333, 118.400000]\"],\"color\":[\"#f22c40\"],\"fill_alpha\":[0.8],\"height\":[0.0],\"label\":[\"(117.413333, 118.400000]\"],\"line_alpha\":[1.0],\"line_color\":[\"black\"],\"width\":[0.9866666666666646],\"x\":[\"117.9066665\"],\"y\":[0.0]}},\"id\":\"bd809dd8-dadb-45bf-966f-553b0939ed7a\",\"type\":\"ColumnDataSource\"},{\"attributes\":{\"data_source\":{\"id\":\"309d565e-a7cc-46ba-8b7f-4432ba9a20cb\",\"type\":\"ColumnDataSource\"},\"glyph\":{\"id\":\"82296521-3af0-4cf2-931f-1aeddb98d494\",\"type\":\"Rect\"},\"hover_glyph\":null,\"muted_glyph\":null},\"id\":\"b3441ad4-3c71-4395-aff3-5c29a5993832\",\"type\":\"GlyphRenderer\"},{\"attributes\":{\"data_source\":{\"id\":\"85381289-bf28-44a9-9610-472885aad36a\",\"type\":\"ColumnDataSource\"},\"glyph\":{\"id\":\"d9f0f23a-8af0-4af8-9335-a74a6ef38efa\",\"type\":\"Rect\"},\"hover_glyph\":null,\"muted_glyph\":null},\"id\":\"6327b895-2a59-40b4-be45-a12035f3b075\",\"type\":\"GlyphRenderer\"},{\"attributes\":{\"callback\":null,\"column_names\":[\"x\",\"y\",\"width\",\"height\",\"color\",\"fill_alpha\",\"line_color\",\"line_alpha\",\"label\"],\"data\":{\"chart_index\":[\"(36.506667, 37.493333]\"],\"color\":[\"#f22c40\"],\"fill_alpha\":[0.8],\"height\":[1.0],\"label\":[\"(36.506667, 37.493333]\"],\"line_alpha\":[1.0],\"line_color\":[\"black\"],\"width\":[0.9866666666666646],\"x\":[\"37.0\"],\"y\":[0.5]}},\"id\":\"65daa4f9-367d-4614-b74f-0bb8b222c728\",\"type\":\"ColumnDataSource\"},{\"attributes\":{\"callback\":null,\"column_names\":[\"x\",\"y\",\"width\",\"height\",\"color\",\"fill_alpha\",\"line_color\",\"line_alpha\",\"label\"],\"data\":{\"chart_index\":[\"(44.400000, 45.386667]\"],\"color\":[\"#f22c40\"],\"fill_alpha\":[0.8],\"height\":[0.0],\"label\":[\"(44.400000, 45.386667]\"],\"line_alpha\":[1.0],\"line_color\":[\"black\"],\"width\":[0.9866666666666717],\"x\":[\"44.8933335\"],\"y\":[0.0]}},\"id\":\"63ae33f8-0063-4ceb-b0b3-71556cf129fb\",\"type\":\"ColumnDataSource\"},{\"attributes\":{\"fill_alpha\":{\"field\":\"fill_alpha\"},\"fill_color\":{\"field\":\"color\"},\"height\":{\"field\":\"height\",\"units\":\"data\"},\"line_color\":{\"field\":\"line_color\"},\"width\":{\"field\":\"width\",\"units\":\"data\"},\"x\":{\"field\":\"x\"},\"y\":{\"field\":\"y\"}},\"id\":\"153b92a1-5f48-40d7-82df-d73be162a500\",\"type\":\"Rect\"},{\"attributes\":{\"data_source\":{\"id\":\"6ca6fcd0-28a0-4d66-8d23-fbbc0d30d849\",\"type\":\"ColumnDataSource\"},\"glyph\":{\"id\":\"e103ee85-26c6-4b92-8814-50808a42bf89\",\"type\":\"Rect\"},\"hover_glyph\":null,\"muted_glyph\":null},\"id\":\"c5cf8959-517e-4376-bbff-0d384a3da96b\",\"type\":\"GlyphRenderer\"},{\"attributes\":{\"callback\":null,\"column_names\":[\"x\",\"y\",\"width\",\"height\",\"color\",\"fill_alpha\",\"line_color\",\"line_alpha\",\"label\"],\"data\":{\"chart_index\":[\"(37.493333, 38.480000]\"],\"color\":[\"#f22c40\"],\"fill_alpha\":[0.8],\"height\":[0.0],\"label\":[\"(37.493333, 38.480000]\"],\"line_alpha\":[1.0],\"line_color\":[\"black\"],\"width\":[0.9866666666666717],\"x\":[\"37.9866665\"],\"y\":[0.0]}},\"id\":\"a48056d4-0740-4d23-a456-2d405a987ae3\",\"type\":\"ColumnDataSource\"},{\"attributes\":{\"fill_alpha\":{\"field\":\"fill_alpha\"},\"fill_color\":{\"field\":\"color\"},\"height\":{\"field\":\"height\",\"units\":\"data\"},\"line_color\":{\"field\":\"line_color\"},\"width\":{\"field\":\"width\",\"units\":\"data\"},\"x\":{\"field\":\"x\"},\"y\":{\"field\":\"y\"}},\"id\":\"ce4730d1-b1f6-4bcb-b722-f058b394b0a2\",\"type\":\"Rect\"},{\"attributes\":{\"data_source\":{\"id\":\"23e7f317-14a9-4892-9df1-996dfe9d2fc7\",\"type\":\"ColumnDataSource\"},\"glyph\":{\"id\":\"f0bcf116-2fed-4ab0-abc4-990a2b0a6444\",\"type\":\"Rect\"},\"hover_glyph\":null,\"muted_glyph\":null},\"id\":\"6cad3045-09f7-47ff-903a-800437cd6ec3\",\"type\":\"GlyphRenderer\"},{\"attributes\":{\"fill_alpha\":{\"field\":\"fill_alpha\"},\"fill_color\":{\"field\":\"color\"},\"height\":{\"field\":\"height\",\"units\":\"data\"},\"line_color\":{\"field\":\"line_color\"},\"width\":{\"field\":\"width\",\"units\":\"data\"},\"x\":{\"field\":\"x\"},\"y\":{\"field\":\"y\"}},\"id\":\"1beaf7ae-0860-45c0-ad84-b408d5d03437\",\"type\":\"Rect\"},{\"attributes\":{\"fill_alpha\":{\"field\":\"fill_alpha\"},\"fill_color\":{\"field\":\"color\"},\"height\":{\"field\":\"height\",\"units\":\"data\"},\"line_color\":{\"field\":\"line_color\"},\"width\":{\"field\":\"width\",\"units\":\"data\"},\"x\":{\"field\":\"x\"},\"y\":{\"field\":\"y\"}},\"id\":\"7b29d209-bf4e-4a58-b562-2630b417e5e8\",\"type\":\"Rect\"},{\"attributes\":{\"fill_alpha\":{\"field\":\"fill_alpha\"},\"fill_color\":{\"field\":\"color\"},\"height\":{\"field\":\"height\",\"units\":\"data\"},\"line_color\":{\"field\":\"line_color\"},\"width\":{\"field\":\"width\",\"units\":\"data\"},\"x\":{\"field\":\"x\"},\"y\":{\"field\":\"y\"}},\"id\":\"375c31c1-3125-4b5c-a348-bf6c2f0f38c5\",\"type\":\"Rect\"},{\"attributes\":{\"callback\":null,\"column_names\":[\"x\",\"y\",\"width\",\"height\",\"color\",\"fill_alpha\",\"line_color\",\"line_alpha\",\"label\"],\"data\":{\"chart_index\":[\"(144.053333, 145.040000]\"],\"color\":[\"#f22c40\"],\"fill_alpha\":[0.8],\"height\":[0.0],\"label\":[\"(144.053333, 145.040000]\"],\"line_alpha\":[1.0],\"line_color\":[\"black\"],\"width\":[0.9866666666666504],\"x\":[\"144.54666650000001\"],\"y\":[0.0]}},\"id\":\"8d86f6e0-f544-4eb9-a797-6ac251238258\",\"type\":\"ColumnDataSource\"},{\"attributes\":{\"data_source\":{\"id\":\"a48056d4-0740-4d23-a456-2d405a987ae3\",\"type\":\"ColumnDataSource\"},\"glyph\":{\"id\":\"2140391f-5c72-4bb3-af16-c2c71583430f\",\"type\":\"Rect\"},\"hover_glyph\":null,\"muted_glyph\":null},\"id\":\"66b0b609-03dc-49d5-b45b-da79a1353401\",\"type\":\"GlyphRenderer\"},{\"attributes\":{\"data_source\":{\"id\":\"310ee5cb-2219-4c20-947a-612b82d81f7c\",\"type\":\"ColumnDataSource\"},\"glyph\":{\"id\":\"7a5eba94-e705-4572-93c8-11094035e483\",\"type\":\"Rect\"},\"hover_glyph\":null,\"muted_glyph\":null},\"id\":\"fa4eec84-b9ba-43ac-a954-c84819a5a315\",\"type\":\"GlyphRenderer\"},{\"attributes\":{\"data_source\":{\"id\":\"65daa4f9-367d-4614-b74f-0bb8b222c728\",\"type\":\"ColumnDataSource\"},\"glyph\":{\"id\":\"153b92a1-5f48-40d7-82df-d73be162a500\",\"type\":\"Rect\"},\"hover_glyph\":null,\"muted_glyph\":null},\"id\":\"09ebaef1-3d63-4f72-9e3d-c221adc65b07\",\"type\":\"GlyphRenderer\"},{\"attributes\":{\"callback\":null,\"column_names\":[\"x\",\"y\",\"width\",\"height\",\"color\",\"fill_alpha\",\"line_color\",\"line_alpha\",\"label\"],\"data\":{\"chart_index\":[\"(140.106667, 141.093333]\"],\"color\":[\"#f22c40\"],\"fill_alpha\":[0.8],\"height\":[0.0],\"label\":[\"(140.106667, 141.093333]\"],\"line_alpha\":[1.0],\"line_color\":[\"black\"],\"width\":[0.9866666666666504],\"x\":[\"140.6\"],\"y\":[0.0]}},\"id\":\"0c06c547-7967-4b6f-b6d7-2c430df556d7\",\"type\":\"ColumnDataSource\"},{\"attributes\":{\"fill_alpha\":{\"field\":\"fill_alpha\"},\"fill_color\":{\"field\":\"color\"},\"height\":{\"field\":\"height\",\"units\":\"data\"},\"line_color\":{\"field\":\"line_color\"},\"width\":{\"field\":\"width\",\"units\":\"data\"},\"x\":{\"field\":\"x\"},\"y\":{\"field\":\"y\"}},\"id\":\"5e77d214-c2bf-47ed-bcf7-4fe402cc3030\",\"type\":\"Rect\"},{\"attributes\":{\"fill_alpha\":{\"field\":\"fill_alpha\"},\"fill_color\":{\"field\":\"color\"},\"height\":{\"field\":\"height\",\"units\":\"data\"},\"line_color\":{\"field\":\"line_color\"},\"width\":{\"field\":\"width\",\"units\":\"data\"},\"x\":{\"field\":\"x\"},\"y\":{\"field\":\"y\"}},\"id\":\"94ec34af-86dd-4c41-b0ca-b475d7bc81c1\",\"type\":\"Rect\"},{\"attributes\":{\"data_source\":{\"id\":\"f38f228c-c22f-444c-8002-32a6cf0eb5c7\",\"type\":\"ColumnDataSource\"},\"glyph\":{\"id\":\"93310164-2420-4ba9-9f61-c6debe14628c\",\"type\":\"Rect\"},\"hover_glyph\":null,\"muted_glyph\":null},\"id\":\"f429db96-7cf8-4dd5-b433-f27ba83fc9ce\",\"type\":\"GlyphRenderer\"},{\"attributes\":{\"callback\":null,\"column_names\":[\"x\",\"y\",\"width\",\"height\",\"color\",\"fill_alpha\",\"line_color\",\"line_alpha\",\"label\"],\"data\":{\"chart_index\":[\"(38.480000, 39.466667]\"],\"color\":[\"#f22c40\"],\"fill_alpha\":[0.8],\"height\":[1.0],\"label\":[\"(38.480000, 39.466667]\"],\"line_alpha\":[1.0],\"line_color\":[\"black\"],\"width\":[0.9866666666666646],\"x\":[\"38.973333499999995\"],\"y\":[0.5]}},\"id\":\"cc03f25c-070d-43d0-a344-e7908f656571\",\"type\":\"ColumnDataSource\"},{\"attributes\":{\"fill_alpha\":{\"field\":\"fill_alpha\"},\"fill_color\":{\"field\":\"color\"},\"height\":{\"field\":\"height\",\"units\":\"data\"},\"line_color\":{\"field\":\"line_color\"},\"width\":{\"field\":\"width\",\"units\":\"data\"},\"x\":{\"field\":\"x\"},\"y\":{\"field\":\"y\"}},\"id\":\"5dabffe3-8bf8-4e9d-a94f-88af61162789\",\"type\":\"Rect\"},{\"attributes\":{\"callback\":null,\"column_names\":[\"x\",\"y\",\"width\",\"height\",\"color\",\"fill_alpha\",\"line_color\",\"line_alpha\",\"label\"],\"data\":{\"chart_index\":[\"(27.626667, 28.613333]\"],\"color\":[\"#f22c40\"],\"fill_alpha\":[0.8],\"height\":[3.0],\"label\":[\"(27.626667, 28.613333]\"],\"line_alpha\":[1.0],\"line_color\":[\"black\"],\"width\":[0.9866666666666646],\"x\":[\"28.12\"],\"y\":[1.5]}},\"id\":\"45649f99-4fe0-4eb6-b82f-54b25cf89b47\",\"type\":\"ColumnDataSource\"},{\"attributes\":{\"callback\":null,\"column_names\":[\"x\",\"y\",\"width\",\"height\",\"color\",\"fill_alpha\",\"line_color\",\"line_alpha\",\"label\"],\"data\":{\"chart_index\":[\"(120.373333, 121.360000]\"],\"color\":[\"#f22c40\"],\"fill_alpha\":[0.8],\"height\":[0.0],\"label\":[\"(120.373333, 121.360000]\"],\"line_alpha\":[1.0],\"line_color\":[\"black\"],\"width\":[0.9866666666666646],\"x\":[\"120.86666650000001\"],\"y\":[0.0]}},\"id\":\"581450ea-c05f-4635-b160-c974554c02ac\",\"type\":\"ColumnDataSource\"},{\"attributes\":{\"data_source\":{\"id\":\"bd809dd8-dadb-45bf-966f-553b0939ed7a\",\"type\":\"ColumnDataSource\"},\"glyph\":{\"id\":\"2067ce6b-d1fc-4f5b-bc85-04109a6aac55\",\"type\":\"Rect\"},\"hover_glyph\":null,\"muted_glyph\":null},\"id\":\"b5bdd7a7-5b27-4519-b783-0a371a07944f\",\"type\":\"GlyphRenderer\"},{\"attributes\":{\"fill_alpha\":{\"field\":\"fill_alpha\"},\"fill_color\":{\"field\":\"color\"},\"height\":{\"field\":\"height\",\"units\":\"data\"},\"line_color\":{\"field\":\"line_color\"},\"width\":{\"field\":\"width\",\"units\":\"data\"},\"x\":{\"field\":\"x\"},\"y\":{\"field\":\"y\"}},\"id\":\"96e772f2-d686-4d6c-9d71-3453f5f3794e\",\"type\":\"Rect\"},{\"attributes\":{\"callback\":null,\"column_names\":[\"x\",\"y\",\"width\",\"height\",\"color\",\"fill_alpha\",\"line_color\",\"line_alpha\",\"label\"],\"data\":{\"chart_index\":[\"(40.453333, 41.440000]\"],\"color\":[\"#f22c40\"],\"fill_alpha\":[0.8],\"height\":[4.0],\"label\":[\"(40.453333, 41.440000]\"],\"line_alpha\":[1.0],\"line_color\":[\"black\"],\"width\":[0.9866666666666646],\"x\":[\"40.9466665\"],\"y\":[2.0]}},\"id\":\"f241b520-004d-4667-90cd-5479f9819adf\",\"type\":\"ColumnDataSource\"},{\"attributes\":{\"callback\":null,\"column_names\":[\"x\",\"y\",\"width\",\"height\",\"color\",\"fill_alpha\",\"line_color\",\"line_alpha\",\"label\"],\"data\":{\"chart_index\":[\"(28.613333, 29.600000]\"],\"color\":[\"#f22c40\"],\"fill_alpha\":[0.8],\"height\":[0.0],\"label\":[\"(28.613333, 29.600000]\"],\"line_alpha\":[1.0],\"line_color\":[\"black\"],\"width\":[0.9866666666666681],\"x\":[\"29.106666500000003\"],\"y\":[0.0]}},\"id\":\"246a5d60-33df-4868-840d-e6fb1441c7cf\",\"type\":\"ColumnDataSource\"},{\"attributes\":{\"callback\":null,\"column_names\":[\"x\",\"y\",\"width\",\"height\",\"color\",\"fill_alpha\",\"line_color\",\"line_alpha\",\"label\"],\"data\":{\"chart_index\":[\"(119.386667, 120.373333]\"],\"color\":[\"#f22c40\"],\"fill_alpha\":[0.8],\"height\":[0.0],\"label\":[\"(119.386667, 120.373333]\"],\"line_alpha\":[1.0],\"line_color\":[\"black\"],\"width\":[0.9866666666666646],\"x\":[\"119.88\"],\"y\":[0.0]}},\"id\":\"8b83cf0c-84a2-4b11-bdc2-6632fd8522dd\",\"type\":\"ColumnDataSource\"},{\"attributes\":{\"data_source\":{\"id\":\"faa3f70c-17e3-4172-ac38-b2050a4ebdeb\",\"type\":\"ColumnDataSource\"},\"glyph\":{\"id\":\"5f0abe20-0ea4-4bec-ae02-a79c995de418\",\"type\":\"Rect\"},\"hover_glyph\":null,\"muted_glyph\":null},\"id\":\"1c14247c-09da-4042-9434-9ea4089147d6\",\"type\":\"GlyphRenderer\"},{\"attributes\":{\"data_source\":{\"id\":\"63ae33f8-0063-4ceb-b0b3-71556cf129fb\",\"type\":\"ColumnDataSource\"},\"glyph\":{\"id\":\"b00e179d-1bde-45a5-8dc0-b71261e9833a\",\"type\":\"Rect\"},\"hover_glyph\":null,\"muted_glyph\":null},\"id\":\"27f26ee0-9b6c-45e4-8c4e-fa8fc84ba3e6\",\"type\":\"GlyphRenderer\"},{\"attributes\":{\"data_source\":{\"id\":\"0c06c547-7967-4b6f-b6d7-2c430df556d7\",\"type\":\"ColumnDataSource\"},\"glyph\":{\"id\":\"94ec34af-86dd-4c41-b0ca-b475d7bc81c1\",\"type\":\"Rect\"},\"hover_glyph\":null,\"muted_glyph\":null},\"id\":\"fbf5da8f-ae1b-4c67-9c9d-6bd41723b438\",\"type\":\"GlyphRenderer\"},{\"attributes\":{\"data_source\":{\"id\":\"2c0096a9-d3eb-4d50-9e47-752fb52ed174\",\"type\":\"ColumnDataSource\"},\"glyph\":{\"id\":\"547fba7f-84e4-4ba3-acf4-397e0a003e5a\",\"type\":\"Rect\"},\"hover_glyph\":null,\"muted_glyph\":null},\"id\":\"913c1808-9dab-4a9e-8c7b-96d64a33f09a\",\"type\":\"GlyphRenderer\"},{\"attributes\":{\"fill_alpha\":{\"field\":\"fill_alpha\"},\"fill_color\":{\"field\":\"color\"},\"height\":{\"field\":\"height\",\"units\":\"data\"},\"line_color\":{\"field\":\"line_color\"},\"width\":{\"field\":\"width\",\"units\":\"data\"},\"x\":{\"field\":\"x\"},\"y\":{\"field\":\"y\"}},\"id\":\"b00e179d-1bde-45a5-8dc0-b71261e9833a\",\"type\":\"Rect\"},{\"attributes\":{\"callback\":null,\"column_names\":[\"x\",\"y\",\"width\",\"height\",\"color\",\"fill_alpha\",\"line_color\",\"line_alpha\",\"label\"],\"data\":{\"chart_index\":[\"(141.093333, 142.080000]\"],\"color\":[\"#f22c40\"],\"fill_alpha\":[0.8],\"height\":[0.0],\"label\":[\"(141.093333, 142.080000]\"],\"line_alpha\":[1.0],\"line_color\":[\"black\"],\"width\":[0.9866666666666788],\"x\":[\"141.5866665\"],\"y\":[0.0]}},\"id\":\"faa3f70c-17e3-4172-ac38-b2050a4ebdeb\",\"type\":\"ColumnDataSource\"},{\"attributes\":{\"data_source\":{\"id\":\"127548fb-19b0-4f7f-924f-2b5fc122142f\",\"type\":\"ColumnDataSource\"},\"glyph\":{\"id\":\"1558d742-c85d-47d4-a03c-958c072b8bd9\",\"type\":\"Rect\"},\"hover_glyph\":null,\"muted_glyph\":null},\"id\":\"b5e02a2f-e968-46ac-b761-6ec6930dc76a\",\"type\":\"GlyphRenderer\"},{\"attributes\":{\"callback\":null,\"column_names\":[\"x\",\"y\",\"width\",\"height\",\"color\",\"fill_alpha\",\"line_color\",\"line_alpha\",\"label\"],\"data\":{\"chart_index\":[\"(142.080000, 143.066667]\"],\"color\":[\"#f22c40\"],\"fill_alpha\":[0.8],\"height\":[1.0],\"label\":[\"(142.080000, 143.066667]\"],\"line_alpha\":[1.0],\"line_color\":[\"black\"],\"width\":[0.9866666666666504],\"x\":[\"142.5733335\"],\"y\":[0.5]}},\"id\":\"6079d1c2-ebc4-472e-b12b-09239b65ce98\",\"type\":\"ColumnDataSource\"},{\"attributes\":{\"data_source\":{\"id\":\"45649f99-4fe0-4eb6-b82f-54b25cf89b47\",\"type\":\"ColumnDataSource\"},\"glyph\":{\"id\":\"96e772f2-d686-4d6c-9d71-3453f5f3794e\",\"type\":\"Rect\"},\"hover_glyph\":null,\"muted_glyph\":null},\"id\":\"ad6105e0-c20b-495f-a9c9-2a92d657d35d\",\"type\":\"GlyphRenderer\"},{\"attributes\":{\"callback\":null,\"column_names\":[\"x\",\"y\",\"width\",\"height\",\"color\",\"fill_alpha\",\"line_color\",\"line_alpha\",\"label\"],\"data\":{\"chart_index\":[\"(41.440000, 42.426667]\"],\"color\":[\"#f22c40\"],\"fill_alpha\":[0.8],\"height\":[0.0],\"label\":[\"(41.440000, 42.426667]\"],\"line_alpha\":[1.0],\"line_color\":[\"black\"],\"width\":[0.9866666666666717],\"x\":[\"41.9333335\"],\"y\":[0.0]}},\"id\":\"032d122f-6f1f-4168-8e60-e58fb9d22c8e\",\"type\":\"ColumnDataSource\"},{\"attributes\":{\"fill_alpha\":{\"field\":\"fill_alpha\"},\"fill_color\":{\"field\":\"color\"},\"height\":{\"field\":\"height\",\"units\":\"data\"},\"line_color\":{\"field\":\"line_color\"},\"width\":{\"field\":\"width\",\"units\":\"data\"},\"x\":{\"field\":\"x\"},\"y\":{\"field\":\"y\"}},\"id\":\"4de66a1f-4f61-43e2-83d3-e456607dc140\",\"type\":\"Rect\"},{\"attributes\":{\"fill_alpha\":{\"field\":\"fill_alpha\"},\"fill_color\":{\"field\":\"color\"},\"height\":{\"field\":\"height\",\"units\":\"data\"},\"line_color\":{\"field\":\"line_color\"},\"width\":{\"field\":\"width\",\"units\":\"data\"},\"x\":{\"field\":\"x\"},\"y\":{\"field\":\"y\"}},\"id\":\"75f3a1be-bd69-450f-9e04-36cc24e61a5b\",\"type\":\"Rect\"},{\"attributes\":{\"callback\":null,\"column_names\":[\"x\",\"y\",\"width\",\"height\",\"color\",\"fill_alpha\",\"line_color\",\"line_alpha\",\"label\"],\"data\":{\"chart_index\":[\"(29.600000, 30.586667]\"],\"color\":[\"#f22c40\"],\"fill_alpha\":[0.8],\"height\":[0.0],\"label\":[\"(29.600000, 30.586667]\"],\"line_alpha\":[1.0],\"line_color\":[\"black\"],\"width\":[0.9866666666666646],\"x\":[\"30.0933335\"],\"y\":[0.0]}},\"id\":\"2c0096a9-d3eb-4d50-9e47-752fb52ed174\",\"type\":\"ColumnDataSource\"},{\"attributes\":{\"data_source\":{\"id\":\"581450ea-c05f-4635-b160-c974554c02ac\",\"type\":\"ColumnDataSource\"},\"glyph\":{\"id\":\"375c31c1-3125-4b5c-a348-bf6c2f0f38c5\",\"type\":\"Rect\"},\"hover_glyph\":null,\"muted_glyph\":null},\"id\":\"4ad976db-7c15-40ed-a621-5b9db4715643\",\"type\":\"GlyphRenderer\"},{\"attributes\":{\"data_source\":{\"id\":\"237da9e5-d918-4afc-8489-7bf98027ab4a\",\"type\":\"ColumnDataSource\"},\"glyph\":{\"id\":\"094bddce-25f4-4a7e-9ca0-2e9e12f6ffa1\",\"type\":\"Rect\"},\"hover_glyph\":null,\"muted_glyph\":null},\"id\":\"2d4becde-1e9b-4f11-8fad-6b7c4991c26c\",\"type\":\"GlyphRenderer\"},{\"attributes\":{\"fill_alpha\":{\"field\":\"fill_alpha\"},\"fill_color\":{\"field\":\"color\"},\"height\":{\"field\":\"height\",\"units\":\"data\"},\"line_color\":{\"field\":\"line_color\"},\"width\":{\"field\":\"width\",\"units\":\"data\"},\"x\":{\"field\":\"x\"},\"y\":{\"field\":\"y\"}},\"id\":\"42a2b19d-dff1-48e1-a7c7-a50eb3928b7e\",\"type\":\"Rect\"},{\"attributes\":{\"data_source\":{\"id\":\"f241b520-004d-4667-90cd-5479f9819adf\",\"type\":\"ColumnDataSource\"},\"glyph\":{\"id\":\"7b29d209-bf4e-4a58-b562-2630b417e5e8\",\"type\":\"Rect\"},\"hover_glyph\":null,\"muted_glyph\":null},\"id\":\"9f9adacd-b24c-47b8-b7a1-67ded74b0810\",\"type\":\"GlyphRenderer\"},{\"attributes\":{\"data_source\":{\"id\":\"70b6c2d2-91d1-42e2-a380-2319a0d6c40d\",\"type\":\"ColumnDataSource\"},\"glyph\":{\"id\":\"922e7ab0-5c56-4d27-ba45-6259dcd1d959\",\"type\":\"Rect\"},\"hover_glyph\":null,\"muted_glyph\":null},\"id\":\"a0ca843d-b84b-4040-837d-9d87cf94c120\",\"type\":\"GlyphRenderer\"},{\"attributes\":{\"fill_alpha\":{\"field\":\"fill_alpha\"},\"fill_color\":{\"field\":\"color\"},\"height\":{\"field\":\"height\",\"units\":\"data\"},\"line_color\":{\"field\":\"line_color\"},\"width\":{\"field\":\"width\",\"units\":\"data\"},\"x\":{\"field\":\"x\"},\"y\":{\"field\":\"y\"}},\"id\":\"547fba7f-84e4-4ba3-acf4-397e0a003e5a\",\"type\":\"Rect\"},{\"attributes\":{\"data_source\":{\"id\":\"246a5d60-33df-4868-840d-e6fb1441c7cf\",\"type\":\"ColumnDataSource\"},\"glyph\":{\"id\":\"ce4730d1-b1f6-4bcb-b722-f058b394b0a2\",\"type\":\"Rect\"},\"hover_glyph\":null,\"muted_glyph\":null},\"id\":\"3a42ffcc-3f1a-413e-9dd6-0b2006908294\",\"type\":\"GlyphRenderer\"},{\"attributes\":{\"fill_alpha\":{\"field\":\"fill_alpha\"},\"fill_color\":{\"field\":\"color\"},\"height\":{\"field\":\"height\",\"units\":\"data\"},\"line_color\":{\"field\":\"line_color\"},\"width\":{\"field\":\"width\",\"units\":\"data\"},\"x\":{\"field\":\"x\"},\"y\":{\"field\":\"y\"}},\"id\":\"b3f9dfbe-5d2b-4dfa-887e-01646628de58\",\"type\":\"Rect\"},{\"attributes\":{\"fill_alpha\":{\"field\":\"fill_alpha\"},\"fill_color\":{\"field\":\"color\"},\"height\":{\"field\":\"height\",\"units\":\"data\"},\"line_color\":{\"field\":\"line_color\"},\"width\":{\"field\":\"width\",\"units\":\"data\"},\"x\":{\"field\":\"x\"},\"y\":{\"field\":\"y\"}},\"id\":\"094bddce-25f4-4a7e-9ca0-2e9e12f6ffa1\",\"type\":\"Rect\"},{\"attributes\":{\"data_source\":{\"id\":\"1aa7e1b5-e2d6-4788-951f-4923bcb35019\",\"type\":\"ColumnDataSource\"},\"glyph\":{\"id\":\"245cab37-386c-4ef9-9b56-7ef891fcfa06\",\"type\":\"Rect\"},\"hover_glyph\":null,\"muted_glyph\":null},\"id\":\"0b42dfb6-b79d-47ba-97ea-f16a5163bee7\",\"type\":\"GlyphRenderer\"},{\"attributes\":{\"fill_alpha\":{\"field\":\"fill_alpha\"},\"fill_color\":{\"field\":\"color\"},\"height\":{\"field\":\"height\",\"units\":\"data\"},\"line_color\":{\"field\":\"line_color\"},\"width\":{\"field\":\"width\",\"units\":\"data\"},\"x\":{\"field\":\"x\"},\"y\":{\"field\":\"y\"}},\"id\":\"11c2e556-46ce-4a2c-b93e-be29426aa7c3\",\"type\":\"Rect\"},{\"attributes\":{\"callback\":null,\"column_names\":[\"x\",\"y\",\"width\",\"height\",\"color\",\"fill_alpha\",\"line_color\",\"line_alpha\",\"label\"],\"data\":{\"chart_index\":[\"(145.040000, 146.026667]\"],\"color\":[\"#f22c40\"],\"fill_alpha\":[0.8],\"height\":[0.0],\"label\":[\"(145.040000, 146.026667]\"],\"line_alpha\":[1.0],\"line_color\":[\"black\"],\"width\":[0.9866666666666788],\"x\":[\"145.5333335\"],\"y\":[0.0]}},\"id\":\"67199bbe-f916-45fd-8943-c2bc3165c9f0\",\"type\":\"ColumnDataSource\"},{\"attributes\":{\"data_source\":{\"id\":\"8d86f6e0-f544-4eb9-a797-6ac251238258\",\"type\":\"ColumnDataSource\"},\"glyph\":{\"id\":\"75f3a1be-bd69-450f-9e04-36cc24e61a5b\",\"type\":\"Rect\"},\"hover_glyph\":null,\"muted_glyph\":null},\"id\":\"94d95e8e-91c5-4efa-be7e-cf587a565625\",\"type\":\"GlyphRenderer\"},{\"attributes\":{\"fill_alpha\":{\"field\":\"fill_alpha\"},\"fill_color\":{\"field\":\"color\"},\"height\":{\"field\":\"height\",\"units\":\"data\"},\"line_color\":{\"field\":\"line_color\"},\"width\":{\"field\":\"width\",\"units\":\"data\"},\"x\":{\"field\":\"x\"},\"y\":{\"field\":\"y\"}},\"id\":\"25350375-4cf2-4349-a427-0f438dbb9699\",\"type\":\"Rect\"},{\"attributes\":{\"callback\":null,\"column_names\":[\"x\",\"y\",\"width\",\"height\",\"color\",\"fill_alpha\",\"line_color\",\"line_alpha\",\"label\"],\"data\":{\"chart_index\":[\"(65.120000, 66.106667]\"],\"color\":[\"#f22c40\"],\"fill_alpha\":[0.8],\"height\":[1.0],\"label\":[\"(65.120000, 66.106667]\"],\"line_alpha\":[1.0],\"line_color\":[\"black\"],\"width\":[0.9866666666666646],\"x\":[\"65.61333350000001\"],\"y\":[0.5]}},\"id\":\"93794583-4fd5-45ab-960c-bf99c5e6ed9e\",\"type\":\"ColumnDataSource\"},{\"attributes\":{\"data_source\":{\"id\":\"032d122f-6f1f-4168-8e60-e58fb9d22c8e\",\"type\":\"ColumnDataSource\"},\"glyph\":{\"id\":\"4de66a1f-4f61-43e2-83d3-e456607dc140\",\"type\":\"Rect\"},\"hover_glyph\":null,\"muted_glyph\":null},\"id\":\"966446e4-42e7-40eb-88ab-4c5a1744b2a8\",\"type\":\"GlyphRenderer\"},{\"attributes\":{\"fill_alpha\":{\"field\":\"fill_alpha\"},\"fill_color\":{\"field\":\"color\"},\"height\":{\"field\":\"height\",\"units\":\"data\"},\"line_color\":{\"field\":\"line_color\"},\"width\":{\"field\":\"width\",\"units\":\"data\"},\"x\":{\"field\":\"x\"},\"y\":{\"field\":\"y\"}},\"id\":\"b50f3060-6af1-408c-997d-7c12f9566818\",\"type\":\"Rect\"},{\"attributes\":{\"callback\":null,\"column_names\":[\"x\",\"y\",\"width\",\"height\",\"color\",\"fill_alpha\",\"line_color\",\"line_alpha\",\"label\"],\"data\":{\"chart_index\":[\"(42.426667, 43.413333]\"],\"color\":[\"#f22c40\"],\"fill_alpha\":[0.8],\"height\":[8.0],\"label\":[\"(42.426667, 43.413333]\"],\"line_alpha\":[1.0],\"line_color\":[\"black\"],\"width\":[0.9866666666666646],\"x\":[\"42.92\"],\"y\":[4.0]}},\"id\":\"8d3df4ef-cbe1-4a28-be0c-897dc7bbbd0c\",\"type\":\"ColumnDataSource\"},{\"attributes\":{\"fill_alpha\":{\"field\":\"fill_alpha\"},\"fill_color\":{\"field\":\"color\"},\"height\":{\"field\":\"height\",\"units\":\"data\"},\"line_color\":{\"field\":\"line_color\"},\"width\":{\"field\":\"width\",\"units\":\"data\"},\"x\":{\"field\":\"x\"},\"y\":{\"field\":\"y\"}},\"id\":\"1e5de8ed-138f-4c84-a77c-f3fd7fe3241b\",\"type\":\"Rect\"},{\"attributes\":{\"callback\":null,\"column_names\":[\"x\",\"y\",\"width\",\"height\",\"color\",\"fill_alpha\",\"line_color\",\"line_alpha\",\"label\"],\"data\":{\"chart_index\":[\"[0.000000, 0.986667]\"],\"color\":[\"#f22c40\"],\"fill_alpha\":[0.8],\"height\":[572.0],\"label\":[\"[0.000000, 0.986667]\"],\"line_alpha\":[1.0],\"line_color\":[\"black\"],\"width\":[0.9866666666666667],\"x\":[\"0.4933335\"],\"y\":[286.0]}},\"id\":\"3012a6c3-b8b1-4a99-abab-73f74ab361b5\",\"type\":\"ColumnDataSource\"},{\"attributes\":{\"fill_alpha\":{\"field\":\"fill_alpha\"},\"fill_color\":{\"field\":\"color\"},\"height\":{\"field\":\"height\",\"units\":\"data\"},\"line_color\":{\"field\":\"line_color\"},\"width\":{\"field\":\"width\",\"units\":\"data\"},\"x\":{\"field\":\"x\"},\"y\":{\"field\":\"y\"}},\"id\":\"01992a2d-0aa1-44dd-9757-4f17fe6e441d\",\"type\":\"Rect\"},{\"attributes\":{\"callback\":null,\"column_names\":[\"x\",\"y\",\"width\",\"height\",\"color\",\"fill_alpha\",\"line_color\",\"line_alpha\",\"label\"],\"data\":{\"chart_index\":[\"(146.026667, 147.013333]\"],\"color\":[\"#f22c40\"],\"fill_alpha\":[0.8],\"height\":[0.0],\"label\":[\"(146.026667, 147.013333]\"],\"line_alpha\":[1.0],\"line_color\":[\"black\"],\"width\":[0.9866666666666788],\"x\":[\"146.51999999999998\"],\"y\":[0.0]}},\"id\":\"480982bb-9fa3-4e61-a317-7a3f26159df7\",\"type\":\"ColumnDataSource\"},{\"attributes\":{\"callback\":null,\"column_names\":[\"x\",\"y\",\"width\",\"height\",\"color\",\"fill_alpha\",\"line_color\",\"line_alpha\",\"label\"],\"data\":{\"chart_index\":[\"(43.413333, 44.400000]\"],\"color\":[\"#f22c40\"],\"fill_alpha\":[0.8],\"height\":[0.0],\"label\":[\"(43.413333, 44.400000]\"],\"line_alpha\":[1.0],\"line_color\":[\"black\"],\"width\":[0.9866666666666646],\"x\":[\"43.9066665\"],\"y\":[0.0]}},\"id\":\"7853e8d4-05f5-493b-8a02-d597b4f317f8\",\"type\":\"ColumnDataSource\"},{\"attributes\":{\"fill_alpha\":{\"field\":\"fill_alpha\"},\"fill_color\":{\"field\":\"color\"},\"height\":{\"field\":\"height\",\"units\":\"data\"},\"line_color\":{\"field\":\"line_color\"},\"width\":{\"field\":\"width\",\"units\":\"data\"},\"x\":{\"field\":\"x\"},\"y\":{\"field\":\"y\"}},\"id\":\"3e3435e4-c46e-43e1-87ff-b44ac02a1fdb\",\"type\":\"Rect\"},{\"attributes\":{\"callback\":null,\"column_names\":[\"x\",\"y\",\"width\",\"height\",\"color\",\"fill_alpha\",\"line_color\",\"line_alpha\",\"label\"],\"data\":{\"chart_index\":[\"(64.133333, 65.120000]\"],\"color\":[\"#f22c40\"],\"fill_alpha\":[0.8],\"height\":[0.0],\"label\":[\"(64.133333, 65.120000]\"],\"line_alpha\":[1.0],\"line_color\":[\"black\"],\"width\":[0.9866666666666646],\"x\":[\"64.6266665\"],\"y\":[0.0]}},\"id\":\"bbe65c95-1a95-4015-816a-7f8fdfb53bd4\",\"type\":\"ColumnDataSource\"},{\"attributes\":{\"data_source\":{\"id\":\"da6b01e9-0f85-4854-8d3a-871147e72da8\",\"type\":\"ColumnDataSource\"},\"glyph\":{\"id\":\"5e843bfa-cb75-4d81-8db8-f1cd48ca30de\",\"type\":\"Rect\"},\"hover_glyph\":null,\"muted_glyph\":null},\"id\":\"c0e9acb0-ff02-4b37-ba51-fb7faeae9885\",\"type\":\"GlyphRenderer\"},{\"attributes\":{\"data_source\":{\"id\":\"bbe65c95-1a95-4015-816a-7f8fdfb53bd4\",\"type\":\"ColumnDataSource\"},\"glyph\":{\"id\":\"150065f8-36ee-4b9a-b34f-4a4aee3a7a2a\",\"type\":\"Rect\"},\"hover_glyph\":null,\"muted_glyph\":null},\"id\":\"ba0ce7d8-957e-4583-9c18-46b57bacaf29\",\"type\":\"GlyphRenderer\"},{\"attributes\":{\"callback\":null,\"column_names\":[\"x\",\"y\",\"width\",\"height\",\"color\",\"fill_alpha\",\"line_color\",\"line_alpha\",\"label\"],\"data\":{\"chart_index\":[\"(47.360000, 48.346667]\"],\"color\":[\"#f22c40\"],\"fill_alpha\":[0.8],\"height\":[1.0],\"label\":[\"(47.360000, 48.346667]\"],\"line_alpha\":[1.0],\"line_color\":[\"black\"],\"width\":[0.9866666666666717],\"x\":[\"47.8533335\"],\"y\":[0.5]}},\"id\":\"816adef3-f3d6-4c58-8e3d-85258db62b6c\",\"type\":\"ColumnDataSource\"},{\"attributes\":{\"data_source\":{\"id\":\"67199bbe-f916-45fd-8943-c2bc3165c9f0\",\"type\":\"ColumnDataSource\"},\"glyph\":{\"id\":\"b50f3060-6af1-408c-997d-7c12f9566818\",\"type\":\"Rect\"},\"hover_glyph\":null,\"muted_glyph\":null},\"id\":\"edf08b36-0250-4da5-ae0c-36ba8238abfe\",\"type\":\"GlyphRenderer\"},{\"attributes\":{\"fill_alpha\":{\"field\":\"fill_alpha\"},\"fill_color\":{\"field\":\"color\"},\"height\":{\"field\":\"height\",\"units\":\"data\"},\"line_color\":{\"field\":\"line_color\"},\"width\":{\"field\":\"width\",\"units\":\"data\"},\"x\":{\"field\":\"x\"},\"y\":{\"field\":\"y\"}},\"id\":\"3a5d29be-1b76-49c2-b143-ebcbece9c8fc\",\"type\":\"Rect\"},{\"attributes\":{\"fill_alpha\":{\"field\":\"fill_alpha\"},\"fill_color\":{\"field\":\"color\"},\"height\":{\"field\":\"height\",\"units\":\"data\"},\"line_color\":{\"field\":\"line_color\"},\"width\":{\"field\":\"width\",\"units\":\"data\"},\"x\":{\"field\":\"x\"},\"y\":{\"field\":\"y\"}},\"id\":\"99be814e-a1e7-4896-8418-13cdba861223\",\"type\":\"Rect\"},{\"attributes\":{\"data_source\":{\"id\":\"8d3df4ef-cbe1-4a28-be0c-897dc7bbbd0c\",\"type\":\"ColumnDataSource\"},\"glyph\":{\"id\":\"01992a2d-0aa1-44dd-9757-4f17fe6e441d\",\"type\":\"Rect\"},\"hover_glyph\":null,\"muted_glyph\":null},\"id\":\"dc7b6616-1f75-4a66-8168-1caf2e2b028b\",\"type\":\"GlyphRenderer\"},{\"attributes\":{\"fill_alpha\":{\"field\":\"fill_alpha\"},\"fill_color\":{\"field\":\"color\"},\"height\":{\"field\":\"height\",\"units\":\"data\"},\"line_color\":{\"field\":\"line_color\"},\"width\":{\"field\":\"width\",\"units\":\"data\"},\"x\":{\"field\":\"x\"},\"y\":{\"field\":\"y\"}},\"id\":\"9b07577c-f835-45e7-928f-16eddbcd9613\",\"type\":\"Rect\"},{\"attributes\":{\"callback\":null,\"column_names\":[\"x\",\"y\",\"width\",\"height\",\"color\",\"fill_alpha\",\"line_color\",\"line_alpha\",\"label\"],\"data\":{\"chart_index\":[\"(45.386667, 46.373333]\"],\"color\":[\"#f22c40\"],\"fill_alpha\":[0.8],\"height\":[0.0],\"label\":[\"(45.386667, 46.373333]\"],\"line_alpha\":[1.0],\"line_color\":[\"black\"],\"width\":[0.9866666666666646],\"x\":[\"45.88\"],\"y\":[0.0]}},\"id\":\"e06127eb-3d62-4454-94bf-b1aa109c72cc\",\"type\":\"ColumnDataSource\"},{\"attributes\":{\"callback\":null,\"column_names\":[\"x\",\"y\",\"width\",\"height\",\"color\",\"fill_alpha\",\"line_color\",\"line_alpha\",\"label\"],\"data\":{\"chart_index\":[\"(147.013333, 148.000000]\"],\"color\":[\"#f22c40\"],\"fill_alpha\":[0.8],\"height\":[1.0],\"label\":[\"(147.013333, 148.000000]\"],\"line_alpha\":[1.0],\"line_color\":[\"black\"],\"width\":[0.9866666666666504],\"x\":[\"147.5066665\"],\"y\":[0.5]}},\"id\":\"3cf5cf75-c6a0-469e-a988-85a111b62295\",\"type\":\"ColumnDataSource\"},{\"attributes\":{\"fill_alpha\":{\"field\":\"fill_alpha\"},\"fill_color\":{\"field\":\"color\"},\"height\":{\"field\":\"height\",\"units\":\"data\"},\"line_color\":{\"field\":\"line_color\"},\"width\":{\"field\":\"width\",\"units\":\"data\"},\"x\":{\"field\":\"x\"},\"y\":{\"field\":\"y\"}},\"id\":\"39189e1b-8ce1-4a03-9653-6a1690c8deb4\",\"type\":\"Rect\"},{\"attributes\":{\"callback\":null,\"column_names\":[\"x\",\"y\",\"width\",\"height\",\"color\",\"fill_alpha\",\"line_color\",\"line_alpha\",\"label\"],\"data\":{\"chart_index\":[\"(69.066667, 70.053333]\"],\"color\":[\"#f22c40\"],\"fill_alpha\":[0.8],\"height\":[0.0],\"label\":[\"(69.066667, 70.053333]\"],\"line_alpha\":[1.0],\"line_color\":[\"black\"],\"width\":[0.9866666666666788],\"x\":[\"69.56\"],\"y\":[0.0]}},\"id\":\"cab15301-45d1-491c-a681-ca8eaaf0d5c1\",\"type\":\"ColumnDataSource\"},{\"attributes\":{\"data_source\":{\"id\":\"5e066ccb-ffcc-4cfd-b5f6-dab8377fd29c\",\"type\":\"ColumnDataSource\"},\"glyph\":{\"id\":\"2e8b0b78-9304-4b2c-b2e2-922002f339a8\",\"type\":\"Rect\"},\"hover_glyph\":null,\"muted_glyph\":null},\"id\":\"8ae8d1d8-6a03-416c-ad87-48dfa6dd294c\",\"type\":\"GlyphRenderer\"},{\"attributes\":{\"data_source\":{\"id\":\"93794583-4fd5-45ab-960c-bf99c5e6ed9e\",\"type\":\"ColumnDataSource\"},\"glyph\":{\"id\":\"11c2e556-46ce-4a2c-b93e-be29426aa7c3\",\"type\":\"Rect\"},\"hover_glyph\":null,\"muted_glyph\":null},\"id\":\"5561ad9e-e052-40e9-a857-6c22ee72a287\",\"type\":\"GlyphRenderer\"},{\"attributes\":{\"callback\":null,\"column_names\":[\"x\",\"y\",\"width\",\"height\",\"color\",\"fill_alpha\",\"line_color\",\"line_alpha\",\"label\"],\"data\":{\"chart_index\":[\"(66.106667, 67.093333]\"],\"color\":[\"#f22c40\"],\"fill_alpha\":[0.8],\"height\":[0.0],\"label\":[\"(66.106667, 67.093333]\"],\"line_alpha\":[1.0],\"line_color\":[\"black\"],\"width\":[0.9866666666666646],\"x\":[\"66.6\"],\"y\":[0.0]}},\"id\":\"78ba2668-84bb-42c5-b1bb-d1567813db69\",\"type\":\"ColumnDataSource\"},{\"attributes\":{\"data_source\":{\"id\":\"3012a6c3-b8b1-4a99-abab-73f74ab361b5\",\"type\":\"ColumnDataSource\"},\"glyph\":{\"id\":\"3a5d29be-1b76-49c2-b143-ebcbece9c8fc\",\"type\":\"Rect\"},\"hover_glyph\":null,\"muted_glyph\":null},\"id\":\"874fbf34-8b0d-41e9-aecb-83724c918ed2\",\"type\":\"GlyphRenderer\"},{\"attributes\":{\"data_source\":{\"id\":\"e06127eb-3d62-4454-94bf-b1aa109c72cc\",\"type\":\"ColumnDataSource\"},\"glyph\":{\"id\":\"1459dfe9-8b9c-4b61-b097-88a2dc6e8009\",\"type\":\"Rect\"},\"hover_glyph\":null,\"muted_glyph\":null},\"id\":\"a7c26da3-c604-4fed-bb36-f50193c9f698\",\"type\":\"GlyphRenderer\"},{\"attributes\":{\"fill_alpha\":{\"field\":\"fill_alpha\"},\"fill_color\":{\"field\":\"color\"},\"height\":{\"field\":\"height\",\"units\":\"data\"},\"line_color\":{\"field\":\"line_color\"},\"width\":{\"field\":\"width\",\"units\":\"data\"},\"x\":{\"field\":\"x\"},\"y\":{\"field\":\"y\"}},\"id\":\"b588cf76-406b-404c-8568-810dc46147d7\",\"type\":\"Rect\"},{\"attributes\":{\"data_source\":{\"id\":\"480982bb-9fa3-4e61-a317-7a3f26159df7\",\"type\":\"ColumnDataSource\"},\"glyph\":{\"id\":\"1e5de8ed-138f-4c84-a77c-f3fd7fe3241b\",\"type\":\"Rect\"},\"hover_glyph\":null,\"muted_glyph\":null},\"id\":\"a9348f90-16ac-481b-858f-05b8f0d150fb\",\"type\":\"GlyphRenderer\"},{\"attributes\":{\"callback\":null,\"column_names\":[\"x\",\"y\",\"width\",\"height\",\"color\",\"fill_alpha\",\"line_color\",\"line_alpha\",\"label\"],\"data\":{\"chart_index\":[\"(0.986667, 1.973333]\"],\"color\":[\"#f22c40\"],\"fill_alpha\":[0.8],\"height\":[2623.0],\"label\":[\"(0.986667, 1.973333]\"],\"line_alpha\":[1.0],\"line_color\":[\"black\"],\"width\":[0.9866666666666667],\"x\":[\"1.48\"],\"y\":[1311.5]}},\"id\":\"da6b01e9-0f85-4854-8d3a-871147e72da8\",\"type\":\"ColumnDataSource\"},{\"attributes\":{\"fill_alpha\":{\"field\":\"fill_alpha\"},\"fill_color\":{\"field\":\"color\"},\"height\":{\"field\":\"height\",\"units\":\"data\"},\"line_color\":{\"field\":\"line_color\"},\"width\":{\"field\":\"width\",\"units\":\"data\"},\"x\":{\"field\":\"x\"},\"y\":{\"field\":\"y\"}},\"id\":\"700f351b-1e34-40a5-b2a7-827aa839a2d3\",\"type\":\"Rect\"},{\"attributes\":{\"fill_alpha\":{\"field\":\"fill_alpha\"},\"fill_color\":{\"field\":\"color\"},\"height\":{\"field\":\"height\",\"units\":\"data\"},\"line_color\":{\"field\":\"line_color\"},\"width\":{\"field\":\"width\",\"units\":\"data\"},\"x\":{\"field\":\"x\"},\"y\":{\"field\":\"y\"}},\"id\":\"c3c3bcb8-e709-4894-ae57-9b8826441668\",\"type\":\"Rect\"},{\"attributes\":{\"data_source\":{\"id\":\"7853e8d4-05f5-493b-8a02-d597b4f317f8\",\"type\":\"ColumnDataSource\"},\"glyph\":{\"id\":\"25350375-4cf2-4349-a427-0f438dbb9699\",\"type\":\"Rect\"},\"hover_glyph\":null,\"muted_glyph\":null},\"id\":\"3efc3ccf-89b0-4ce4-bb2c-65b21787f75b\",\"type\":\"GlyphRenderer\"},{\"attributes\":{\"fill_alpha\":{\"field\":\"fill_alpha\"},\"fill_color\":{\"field\":\"color\"},\"height\":{\"field\":\"height\",\"units\":\"data\"},\"line_color\":{\"field\":\"line_color\"},\"width\":{\"field\":\"width\",\"units\":\"data\"},\"x\":{\"field\":\"x\"},\"y\":{\"field\":\"y\"}},\"id\":\"5e843bfa-cb75-4d81-8db8-f1cd48ca30de\",\"type\":\"Rect\"},{\"attributes\":{\"callback\":null,\"column_names\":[\"x\",\"y\",\"width\",\"height\",\"color\",\"fill_alpha\",\"line_color\",\"line_alpha\",\"label\"],\"data\":{\"chart_index\":[\"(53.280000, 54.266667]\"],\"color\":[\"#f22c40\"],\"fill_alpha\":[0.8],\"height\":[0.0],\"label\":[\"(53.280000, 54.266667]\"],\"line_alpha\":[1.0],\"line_color\":[\"black\"],\"width\":[0.9866666666666646],\"x\":[\"53.7733335\"],\"y\":[0.0]}},\"id\":\"afd2b5bb-54ae-4d38-82f0-6adf6945e6c7\",\"type\":\"ColumnDataSource\"},{\"attributes\":{\"fill_alpha\":{\"field\":\"fill_alpha\"},\"fill_color\":{\"field\":\"color\"},\"height\":{\"field\":\"height\",\"units\":\"data\"},\"line_color\":{\"field\":\"line_color\"},\"width\":{\"field\":\"width\",\"units\":\"data\"},\"x\":{\"field\":\"x\"},\"y\":{\"field\":\"y\"}},\"id\":\"ef109bc9-d6c4-44a1-8a35-34e5b8c0ed9c\",\"type\":\"Rect\"},{\"attributes\":{\"callback\":null,\"column_names\":[\"x\",\"y\",\"width\",\"height\",\"color\",\"fill_alpha\",\"line_color\",\"line_alpha\",\"label\"],\"data\":{\"chart_index\":[\"(68.080000, 69.066667]\"],\"color\":[\"#f22c40\"],\"fill_alpha\":[0.8],\"height\":[0.0],\"label\":[\"(68.080000, 69.066667]\"],\"line_alpha\":[1.0],\"line_color\":[\"black\"],\"width\":[0.9866666666666646],\"x\":[\"68.57333349999999\"],\"y\":[0.0]}},\"id\":\"5e066ccb-ffcc-4cfd-b5f6-dab8377fd29c\",\"type\":\"ColumnDataSource\"},{\"attributes\":{\"axis_label\":\"recipient-country-count\",\"formatter\":{\"id\":\"def0941b-e9a6-4739-b7f8-93e5ef1d7afb\",\"type\":\"BasicTickFormatter\"},\"plot\":{\"id\":\"760fde1f-e998-4cb8-8a13-5fc4e0f114b3\",\"subtype\":\"Chart\",\"type\":\"Plot\"},\"ticker\":{\"id\":\"e191fcea-6c94-465c-a626-b997c0ea4b6c\",\"type\":\"BasicTicker\"}},\"id\":\"41a44d64-40b5-4622-8090-8dda7d80dd7b\",\"type\":\"LinearAxis\"},{\"attributes\":{\"data_source\":{\"id\":\"e337af95-3770-413b-a42d-f02065706cc1\",\"type\":\"ColumnDataSource\"},\"glyph\":{\"id\":\"0ad89fc9-868e-46bd-a4ca-0d7f7729c567\",\"type\":\"Rect\"},\"hover_glyph\":null,\"muted_glyph\":null},\"id\":\"8416e589-b781-46fa-84b4-2a0dba427e3c\",\"type\":\"GlyphRenderer\"},{\"attributes\":{\"data_source\":{\"id\":\"78ba2668-84bb-42c5-b1bb-d1567813db69\",\"type\":\"ColumnDataSource\"},\"glyph\":{\"id\":\"b588cf76-406b-404c-8568-810dc46147d7\",\"type\":\"Rect\"},\"hover_glyph\":null,\"muted_glyph\":null},\"id\":\"7c05ac52-79d0-4840-80c5-a5e5275e53e5\",\"type\":\"GlyphRenderer\"},{\"attributes\":{\"callback\":null,\"column_names\":[\"x\",\"y\",\"width\",\"height\",\"color\",\"fill_alpha\",\"line_color\",\"line_alpha\",\"label\"],\"data\":{\"chart_index\":[\"(46.373333, 47.360000]\"],\"color\":[\"#f22c40\"],\"fill_alpha\":[0.8],\"height\":[1.0],\"label\":[\"(46.373333, 47.360000]\"],\"line_alpha\":[1.0],\"line_color\":[\"black\"],\"width\":[0.9866666666666646],\"x\":[\"46.8666665\"],\"y\":[0.5]}},\"id\":\"d7ea6640-408a-43b0-a34d-03d378b1ac84\",\"type\":\"ColumnDataSource\"},{\"attributes\":{\"callback\":null,\"column_names\":[\"x\",\"y\",\"width\",\"height\",\"color\",\"fill_alpha\",\"line_color\",\"line_alpha\",\"label\"],\"data\":{\"chart_index\":[\"(1.973333, 2.960000]\"],\"color\":[\"#f22c40\"],\"fill_alpha\":[0.8],\"height\":[155.0],\"label\":[\"(1.973333, 2.960000]\"],\"line_alpha\":[1.0],\"line_color\":[\"black\"],\"width\":[0.9866666666666666],\"x\":[\"2.4666665\"],\"y\":[77.5]}},\"id\":\"130ec962-4026-4c16-923f-96a1f748f62f\",\"type\":\"ColumnDataSource\"},{\"attributes\":{\"callback\":null,\"column_names\":[\"x\",\"y\",\"width\",\"height\",\"color\",\"fill_alpha\",\"line_color\",\"line_alpha\",\"label\"],\"data\":{\"chart_index\":[\"(118.400000, 119.386667]\"],\"color\":[\"#f22c40\"],\"fill_alpha\":[0.8],\"height\":[0.0],\"label\":[\"(118.400000, 119.386667]\"],\"line_alpha\":[1.0],\"line_color\":[\"black\"],\"width\":[0.9866666666666646],\"x\":[\"118.89333350000001\"],\"y\":[0.0]}},\"id\":\"90fff157-9894-41ec-84e1-f75fdec4ba85\",\"type\":\"ColumnDataSource\"},{\"attributes\":{\"data_source\":{\"id\":\"3cf5cf75-c6a0-469e-a988-85a111b62295\",\"type\":\"ColumnDataSource\"},\"glyph\":{\"id\":\"9b07577c-f835-45e7-928f-16eddbcd9613\",\"type\":\"Rect\"},\"hover_glyph\":null,\"muted_glyph\":null},\"id\":\"25d18b7e-f7ec-4032-8b88-eeca70222598\",\"type\":\"GlyphRenderer\"},{\"attributes\":{\"fill_alpha\":{\"field\":\"fill_alpha\"},\"fill_color\":{\"field\":\"color\"},\"height\":{\"field\":\"height\",\"units\":\"data\"},\"line_color\":{\"field\":\"line_color\"},\"width\":{\"field\":\"width\",\"units\":\"data\"},\"x\":{\"field\":\"x\"},\"y\":{\"field\":\"y\"}},\"id\":\"42f2641d-a194-44ff-a6cc-ed0f0176edf4\",\"type\":\"Rect\"},{\"attributes\":{\"axis_label\":\"Count( Recipient-Country-Count )\",\"formatter\":{\"id\":\"61021648-35ff-4aa5-835e-38485c600124\",\"type\":\"BasicTickFormatter\"},\"plot\":{\"id\":\"760fde1f-e998-4cb8-8a13-5fc4e0f114b3\",\"subtype\":\"Chart\",\"type\":\"Plot\"},\"ticker\":{\"id\":\"1fd7b385-1a5b-4b5b-921f-de68839a8abe\",\"type\":\"BasicTicker\"}},\"id\":\"d4add964-097f-406d-85ec-46da2b617f5f\",\"type\":\"LinearAxis\"},{\"attributes\":{},\"id\":\"e191fcea-6c94-465c-a626-b997c0ea4b6c\",\"type\":\"BasicTicker\"},{\"attributes\":{\"callback\":null,\"column_names\":[\"x\",\"y\",\"width\",\"height\",\"color\",\"fill_alpha\",\"line_color\",\"line_alpha\",\"label\"],\"data\":{\"chart_index\":[\"(70.053333, 71.040000]\"],\"color\":[\"#f22c40\"],\"fill_alpha\":[0.8],\"height\":[0.0],\"label\":[\"(70.053333, 71.040000]\"],\"line_alpha\":[1.0],\"line_color\":[\"black\"],\"width\":[0.9866666666666646],\"x\":[\"70.5466665\"],\"y\":[0.0]}},\"id\":\"d6bfbf25-65ff-4f57-8337-d690aa113616\",\"type\":\"ColumnDataSource\"},{\"attributes\":{},\"id\":\"1fd7b385-1a5b-4b5b-921f-de68839a8abe\",\"type\":\"BasicTicker\"},{\"attributes\":{\"fill_alpha\":{\"field\":\"fill_alpha\"},\"fill_color\":{\"field\":\"color\"},\"height\":{\"field\":\"height\",\"units\":\"data\"},\"line_color\":{\"field\":\"line_color\"},\"width\":{\"field\":\"width\",\"units\":\"data\"},\"x\":{\"field\":\"x\"},\"y\":{\"field\":\"y\"}},\"id\":\"c56302fd-8e04-4b1c-9f81-8c77baf97610\",\"type\":\"Rect\"},{\"attributes\":{\"data_source\":{\"id\":\"d7ea6640-408a-43b0-a34d-03d378b1ac84\",\"type\":\"ColumnDataSource\"},\"glyph\":{\"id\":\"700f351b-1e34-40a5-b2a7-827aa839a2d3\",\"type\":\"Rect\"},\"hover_glyph\":null,\"muted_glyph\":null},\"id\":\"6359451c-423e-41a7-bb09-6ff751d21bd3\",\"type\":\"GlyphRenderer\"},{\"attributes\":{\"dimension\":1,\"plot\":{\"id\":\"760fde1f-e998-4cb8-8a13-5fc4e0f114b3\",\"subtype\":\"Chart\",\"type\":\"Plot\"},\"ticker\":{\"id\":\"1fd7b385-1a5b-4b5b-921f-de68839a8abe\",\"type\":\"BasicTicker\"}},\"id\":\"7d2669eb-6a4e-4e43-9d47-6c3a20a0c396\",\"type\":\"Grid\"},{\"attributes\":{\"callback\":null,\"column_names\":[\"x\",\"y\",\"width\",\"height\",\"color\",\"fill_alpha\",\"line_color\",\"line_alpha\",\"label\"],\"data\":{\"chart_index\":[\"(2.960000, 3.946667]\"],\"color\":[\"#f22c40\"],\"fill_alpha\":[0.8],\"height\":[113.0],\"label\":[\"(2.960000, 3.946667]\"],\"line_alpha\":[1.0],\"line_color\":[\"black\"],\"width\":[0.9866666666666668],\"x\":[\"3.4533335000000003\"],\"y\":[56.5]}},\"id\":\"3f32dc62-9153-4a65-a17c-445132599199\",\"type\":\"ColumnDataSource\"},{\"attributes\":{\"fill_alpha\":{\"field\":\"fill_alpha\"},\"fill_color\":{\"field\":\"color\"},\"height\":{\"field\":\"height\",\"units\":\"data\"},\"line_color\":{\"field\":\"line_color\"},\"width\":{\"field\":\"width\",\"units\":\"data\"},\"x\":{\"field\":\"x\"},\"y\":{\"field\":\"y\"}},\"id\":\"85328931-2db1-4088-90c5-3631d421576b\",\"type\":\"Rect\"},{\"attributes\":{\"data_source\":{\"id\":\"130ec962-4026-4c16-923f-96a1f748f62f\",\"type\":\"ColumnDataSource\"},\"glyph\":{\"id\":\"ef109bc9-d6c4-44a1-8a35-34e5b8c0ed9c\",\"type\":\"Rect\"},\"hover_glyph\":null,\"muted_glyph\":null},\"id\":\"1b97889f-eebb-4a2a-9eb8-d9911fd10c73\",\"type\":\"GlyphRenderer\"},{\"attributes\":{},\"id\":\"def0941b-e9a6-4739-b7f8-93e5ef1d7afb\",\"type\":\"BasicTickFormatter\"},{\"attributes\":{\"fill_alpha\":{\"field\":\"fill_alpha\"},\"fill_color\":{\"field\":\"color\"},\"height\":{\"field\":\"height\",\"units\":\"data\"},\"line_color\":{\"field\":\"line_color\"},\"width\":{\"field\":\"width\",\"units\":\"data\"},\"x\":{\"field\":\"x\"},\"y\":{\"field\":\"y\"}},\"id\":\"aa6f6094-95f1-4620-9219-bfc6e9a8f4ec\",\"type\":\"Rect\"},{\"attributes\":{\"data_source\":{\"id\":\"cab15301-45d1-491c-a681-ca8eaaf0d5c1\",\"type\":\"ColumnDataSource\"},\"glyph\":{\"id\":\"3e3435e4-c46e-43e1-87ff-b44ac02a1fdb\",\"type\":\"Rect\"},\"hover_glyph\":null,\"muted_glyph\":null},\"id\":\"dc273a55-1d6a-427f-9fa9-db279a3ebf4f\",\"type\":\"GlyphRenderer\"},{\"attributes\":{},\"id\":\"61021648-35ff-4aa5-835e-38485c600124\",\"type\":\"BasicTickFormatter\"},{\"attributes\":{\"fill_alpha\":{\"field\":\"fill_alpha\"},\"fill_color\":{\"field\":\"color\"},\"height\":{\"field\":\"height\",\"units\":\"data\"},\"line_color\":{\"field\":\"line_color\"},\"width\":{\"field\":\"width\",\"units\":\"data\"},\"x\":{\"field\":\"x\"},\"y\":{\"field\":\"y\"}},\"id\":\"c59e16e8-5410-4670-93bc-c72d80eb9682\",\"type\":\"Rect\"},{\"attributes\":{\"fill_alpha\":{\"field\":\"fill_alpha\"},\"fill_color\":{\"field\":\"color\"},\"height\":{\"field\":\"height\",\"units\":\"data\"},\"line_color\":{\"field\":\"line_color\"},\"width\":{\"field\":\"width\",\"units\":\"data\"},\"x\":{\"field\":\"x\"},\"y\":{\"field\":\"y\"}},\"id\":\"a9946192-5d6e-4b09-8011-1a86618be9b0\",\"type\":\"Rect\"},{\"attributes\":{\"data_source\":{\"id\":\"6897cb69-5486-4e98-a797-4d0a2f8815d7\",\"type\":\"ColumnDataSource\"},\"glyph\":{\"id\":\"6e5334b0-44f1-4739-834f-83d65fdb6d7d\",\"type\":\"Rect\"},\"hover_glyph\":null,\"muted_glyph\":null},\"id\":\"86d875f7-8c03-4366-a4a1-056cf1390cbd\",\"type\":\"GlyphRenderer\"},{\"attributes\":{\"callback\":null,\"column_names\":[\"x\",\"y\",\"width\",\"height\",\"color\",\"fill_alpha\",\"line_color\",\"line_alpha\",\"label\"],\"data\":{\"chart_index\":[\"(71.040000, 72.026667]\"],\"color\":[\"#f22c40\"],\"fill_alpha\":[0.8],\"height\":[0.0],\"label\":[\"(71.040000, 72.026667]\"],\"line_alpha\":[1.0],\"line_color\":[\"black\"],\"width\":[0.9866666666666646],\"x\":[\"71.5333335\"],\"y\":[0.0]}},\"id\":\"c6ef66d3-1536-4e7e-9089-de166e198047\",\"type\":\"ColumnDataSource\"},{\"attributes\":{\"data_source\":{\"id\":\"d0f9c435-da09-41a2-b6bd-899a184454aa\",\"type\":\"ColumnDataSource\"},\"glyph\":{\"id\":\"2218cc5a-10ac-4ce7-b280-6e0125dbaca7\",\"type\":\"Rect\"},\"hover_glyph\":null,\"muted_glyph\":null},\"id\":\"dd6b162a-48e8-4758-a7e5-3c3a8293b720\",\"type\":\"GlyphRenderer\"},{\"attributes\":{\"data_source\":{\"id\":\"816adef3-f3d6-4c58-8e3d-85258db62b6c\",\"type\":\"ColumnDataSource\"},\"glyph\":{\"id\":\"99be814e-a1e7-4896-8418-13cdba861223\",\"type\":\"Rect\"},\"hover_glyph\":null,\"muted_glyph\":null},\"id\":\"16f55bf4-4465-4821-92b0-273116315cb1\",\"type\":\"GlyphRenderer\"},{\"attributes\":{\"callback\":null,\"column_names\":[\"x\",\"y\",\"width\",\"height\",\"color\",\"fill_alpha\",\"line_color\",\"line_alpha\",\"label\"],\"data\":{\"chart_index\":[\"(48.346667, 49.333333]\"],\"color\":[\"#f22c40\"],\"fill_alpha\":[0.8],\"height\":[0.0],\"label\":[\"(48.346667, 49.333333]\"],\"line_alpha\":[1.0],\"line_color\":[\"black\"],\"width\":[0.9866666666666646],\"x\":[\"48.84\"],\"y\":[0.0]}},\"id\":\"3e693dd5-c1e5-4f32-8eed-26dfc4d9ac56\",\"type\":\"ColumnDataSource\"},{\"attributes\":{\"data_source\":{\"id\":\"3f32dc62-9153-4a65-a17c-445132599199\",\"type\":\"ColumnDataSource\"},\"glyph\":{\"id\":\"42f2641d-a194-44ff-a6cc-ed0f0176edf4\",\"type\":\"Rect\"},\"hover_glyph\":null,\"muted_glyph\":null},\"id\":\"9f6208cf-adef-49ca-9a30-06a9fa81e887\",\"type\":\"GlyphRenderer\"},{\"attributes\":{\"fill_alpha\":{\"field\":\"fill_alpha\"},\"fill_color\":{\"field\":\"color\"},\"height\":{\"field\":\"height\",\"units\":\"data\"},\"line_color\":{\"field\":\"line_color\"},\"width\":{\"field\":\"width\",\"units\":\"data\"},\"x\":{\"field\":\"x\"},\"y\":{\"field\":\"y\"}},\"id\":\"e643892d-2f73-48ba-986a-f137bd0b79bc\",\"type\":\"Rect\"},{\"attributes\":{\"callback\":null,\"column_names\":[\"x\",\"y\",\"width\",\"height\",\"color\",\"fill_alpha\",\"line_color\",\"line_alpha\",\"label\"],\"data\":{\"chart_index\":[\"(3.946667, 4.933333]\"],\"color\":[\"#f22c40\"],\"fill_alpha\":[0.8],\"height\":[66.0],\"label\":[\"(3.946667, 4.933333]\"],\"line_alpha\":[1.0],\"line_color\":[\"black\"],\"width\":[0.9866666666666668],\"x\":[\"4.44\"],\"y\":[33.0]}},\"id\":\"de107450-33d4-47fa-8dbe-73cd0eddbae9\",\"type\":\"ColumnDataSource\"},{\"attributes\":{\"callback\":null,\"column_names\":[\"x\",\"y\",\"width\",\"height\",\"color\",\"fill_alpha\",\"line_color\",\"line_alpha\",\"label\"],\"data\":{\"chart_index\":[\"(49.333333, 50.320000]\"],\"color\":[\"#f22c40\"],\"fill_alpha\":[0.8],\"height\":[0.0],\"label\":[\"(49.333333, 50.320000]\"],\"line_alpha\":[1.0],\"line_color\":[\"black\"],\"width\":[0.9866666666666646],\"x\":[\"49.8266665\"],\"y\":[0.0]}},\"id\":\"48c15f57-01d2-421c-9a60-e840c3db7333\",\"type\":\"ColumnDataSource\"},{\"attributes\":{\"data_source\":{\"id\":\"d6bfbf25-65ff-4f57-8337-d690aa113616\",\"type\":\"ColumnDataSource\"},\"glyph\":{\"id\":\"c3c3bcb8-e709-4894-ae57-9b8826441668\",\"type\":\"Rect\"},\"hover_glyph\":null,\"muted_glyph\":null},\"id\":\"a01930c3-4c40-49aa-aa15-47264c66a45a\",\"type\":\"GlyphRenderer\"},{\"attributes\":{\"fill_alpha\":{\"field\":\"fill_alpha\"},\"fill_color\":{\"field\":\"color\"},\"height\":{\"field\":\"height\",\"units\":\"data\"},\"line_color\":{\"field\":\"line_color\"},\"width\":{\"field\":\"width\",\"units\":\"data\"},\"x\":{\"field\":\"x\"},\"y\":{\"field\":\"y\"}},\"id\":\"80a7724f-c773-417f-9424-bf20bcc64783\",\"type\":\"Rect\"},{\"attributes\":{\"callback\":null,\"column_names\":[\"x\",\"y\",\"width\",\"height\",\"color\",\"fill_alpha\",\"line_color\",\"line_alpha\",\"label\"],\"data\":{\"chart_index\":[\"(4.933333, 5.920000]\"],\"color\":[\"#f22c40\"],\"fill_alpha\":[0.8],\"height\":[61.0],\"label\":[\"(4.933333, 5.920000]\"],\"line_alpha\":[1.0],\"line_color\":[\"black\"],\"width\":[0.9866666666666664],\"x\":[\"5.4266665\"],\"y\":[30.5]}},\"id\":\"4230540c-96e6-4992-b3da-4663b1cd6926\",\"type\":\"ColumnDataSource\"},{\"attributes\":{\"fill_alpha\":{\"field\":\"fill_alpha\"},\"fill_color\":{\"field\":\"color\"},\"height\":{\"field\":\"height\",\"units\":\"data\"},\"line_color\":{\"field\":\"line_color\"},\"width\":{\"field\":\"width\",\"units\":\"data\"},\"x\":{\"field\":\"x\"},\"y\":{\"field\":\"y\"}},\"id\":\"c2b5120c-bb01-41ea-ac80-3aade6d335a1\",\"type\":\"Rect\"},{\"attributes\":{\"callback\":null,\"column_names\":[\"x\",\"y\",\"width\",\"height\",\"color\",\"fill_alpha\",\"line_color\",\"line_alpha\",\"label\"],\"data\":{\"chart_index\":[\"(72.026667, 73.013333]\"],\"color\":[\"#f22c40\"],\"fill_alpha\":[0.8],\"height\":[0.0],\"label\":[\"(72.026667, 73.013333]\"],\"line_alpha\":[1.0],\"line_color\":[\"black\"],\"width\":[0.9866666666666646],\"x\":[\"72.52000000000001\"],\"y\":[0.0]}},\"id\":\"e211b730-1834-4a38-a297-c1fbc0cc2896\",\"type\":\"ColumnDataSource\"},{\"attributes\":{\"data_source\":{\"id\":\"3e693dd5-c1e5-4f32-8eed-26dfc4d9ac56\",\"type\":\"ColumnDataSource\"},\"glyph\":{\"id\":\"e643892d-2f73-48ba-986a-f137bd0b79bc\",\"type\":\"Rect\"},\"hover_glyph\":null,\"muted_glyph\":null},\"id\":\"11786a15-e5d4-49bf-bd6f-186e25a903ab\",\"type\":\"GlyphRenderer\"},{\"attributes\":{\"fill_alpha\":{\"field\":\"fill_alpha\"},\"fill_color\":{\"field\":\"color\"},\"height\":{\"field\":\"height\",\"units\":\"data\"},\"line_color\":{\"field\":\"line_color\"},\"width\":{\"field\":\"width\",\"units\":\"data\"},\"x\":{\"field\":\"x\"},\"y\":{\"field\":\"y\"}},\"id\":\"9c9edbbd-e356-4672-9d8d-efdfaf31a798\",\"type\":\"Rect\"},{\"attributes\":{\"data_source\":{\"id\":\"de107450-33d4-47fa-8dbe-73cd0eddbae9\",\"type\":\"ColumnDataSource\"},\"glyph\":{\"id\":\"80a7724f-c773-417f-9424-bf20bcc64783\",\"type\":\"Rect\"},\"hover_glyph\":null,\"muted_glyph\":null},\"id\":\"5cf5974c-ecd0-442e-94bd-284ce53707e2\",\"type\":\"GlyphRenderer\"},{\"attributes\":{\"callback\":null,\"column_names\":[\"x\",\"y\",\"width\",\"height\",\"color\",\"fill_alpha\",\"line_color\",\"line_alpha\",\"label\"],\"data\":{\"chart_index\":[\"(50.320000, 51.306667]\"],\"color\":[\"#f22c40\"],\"fill_alpha\":[0.8],\"height\":[0.0],\"label\":[\"(50.320000, 51.306667]\"],\"line_alpha\":[1.0],\"line_color\":[\"black\"],\"width\":[0.9866666666666646],\"x\":[\"50.8133335\"],\"y\":[0.0]}},\"id\":\"99ba76b1-a7c3-412b-befc-5ba8b1bb4890\",\"type\":\"ColumnDataSource\"},{\"attributes\":{\"data_source\":{\"id\":\"c6ef66d3-1536-4e7e-9089-de166e198047\",\"type\":\"ColumnDataSource\"},\"glyph\":{\"id\":\"a9946192-5d6e-4b09-8011-1a86618be9b0\",\"type\":\"Rect\"},\"hover_glyph\":null,\"muted_glyph\":null},\"id\":\"8853bf55-3a55-4ce2-b478-4710d3ded69a\",\"type\":\"GlyphRenderer\"},{\"attributes\":{\"fill_alpha\":{\"field\":\"fill_alpha\"},\"fill_color\":{\"field\":\"color\"},\"height\":{\"field\":\"height\",\"units\":\"data\"},\"line_color\":{\"field\":\"line_color\"},\"width\":{\"field\":\"width\",\"units\":\"data\"},\"x\":{\"field\":\"x\"},\"y\":{\"field\":\"y\"}},\"id\":\"badf0e07-4bc5-43c7-85ef-77dcc89d86f7\",\"type\":\"Rect\"},{\"attributes\":{\"callback\":null,\"column_names\":[\"x\",\"y\",\"width\",\"height\",\"color\",\"fill_alpha\",\"line_color\",\"line_alpha\",\"label\"],\"data\":{\"chart_index\":[\"(5.920000, 6.906667]\"],\"color\":[\"#f22c40\"],\"fill_alpha\":[0.8],\"height\":[56.0],\"label\":[\"(5.920000, 6.906667]\"],\"line_alpha\":[1.0],\"line_color\":[\"black\"],\"width\":[0.9866666666666672],\"x\":[\"6.4133335\"],\"y\":[28.0]}},\"id\":\"03966cac-35d7-42ed-987b-2d2a7a47aab2\",\"type\":\"ColumnDataSource\"},{\"attributes\":{\"fill_alpha\":{\"field\":\"fill_alpha\"},\"fill_color\":{\"field\":\"color\"},\"height\":{\"field\":\"height\",\"units\":\"data\"},\"line_color\":{\"field\":\"line_color\"},\"width\":{\"field\":\"width\",\"units\":\"data\"},\"x\":{\"field\":\"x\"},\"y\":{\"field\":\"y\"}},\"id\":\"74122709-48b2-4a0d-9334-f424e59a1ab3\",\"type\":\"Rect\"},{\"attributes\":{\"callback\":null,\"column_names\":[\"x\",\"y\",\"width\",\"height\",\"color\",\"fill_alpha\",\"line_color\",\"line_alpha\",\"label\"],\"data\":{\"chart_index\":[\"(73.013333, 74.000000]\"],\"color\":[\"#f22c40\"],\"fill_alpha\":[0.8],\"height\":[0.0],\"label\":[\"(73.013333, 74.000000]\"],\"line_alpha\":[1.0],\"line_color\":[\"black\"],\"width\":[0.9866666666666646],\"x\":[\"73.5066665\"],\"y\":[0.0]}},\"id\":\"c7d973aa-4e5d-4513-ab3c-3c824b6b55af\",\"type\":\"ColumnDataSource\"},{\"attributes\":{\"data_source\":{\"id\":\"48c15f57-01d2-421c-9a60-e840c3db7333\",\"type\":\"ColumnDataSource\"},\"glyph\":{\"id\":\"85328931-2db1-4088-90c5-3631d421576b\",\"type\":\"Rect\"},\"hover_glyph\":null,\"muted_glyph\":null},\"id\":\"a0f66d13-578e-4307-af5e-b59c1735aef5\",\"type\":\"GlyphRenderer\"},{\"attributes\":{\"callback\":null,\"column_names\":[\"x\",\"y\",\"width\",\"height\",\"color\",\"fill_alpha\",\"line_color\",\"line_alpha\",\"label\"],\"data\":{\"chart_index\":[\"(14.800000, 15.786667]\"],\"color\":[\"#f22c40\"],\"fill_alpha\":[0.8],\"height\":[17.0],\"label\":[\"(14.800000, 15.786667]\"],\"line_alpha\":[1.0],\"line_color\":[\"black\"],\"width\":[0.9866666666666664],\"x\":[\"15.2933335\"],\"y\":[8.5]}},\"id\":\"f82f08e3-3eff-4c8d-bb71-87c3077f6fb2\",\"type\":\"ColumnDataSource\"},{\"attributes\":{\"fill_alpha\":{\"field\":\"fill_alpha\"},\"fill_color\":{\"field\":\"color\"},\"height\":{\"field\":\"height\",\"units\":\"data\"},\"line_color\":{\"field\":\"line_color\"},\"width\":{\"field\":\"width\",\"units\":\"data\"},\"x\":{\"field\":\"x\"},\"y\":{\"field\":\"y\"}},\"id\":\"6e5334b0-44f1-4739-834f-83d65fdb6d7d\",\"type\":\"Rect\"},{\"attributes\":{\"fill_alpha\":{\"field\":\"fill_alpha\"},\"fill_color\":{\"field\":\"color\"},\"height\":{\"field\":\"height\",\"units\":\"data\"},\"line_color\":{\"field\":\"line_color\"},\"width\":{\"field\":\"width\",\"units\":\"data\"},\"x\":{\"field\":\"x\"},\"y\":{\"field\":\"y\"}},\"id\":\"7d78c366-8846-4a7a-910b-1805b24c4a61\",\"type\":\"Rect\"},{\"attributes\":{\"data_source\":{\"id\":\"d23b6e85-5e77-4e74-9e5c-1c54a74b628a\",\"type\":\"ColumnDataSource\"},\"glyph\":{\"id\":\"f24f55b1-18c6-455e-95a8-17b822115c18\",\"type\":\"Rect\"},\"hover_glyph\":null,\"muted_glyph\":null},\"id\":\"c9e8477b-b719-4b2d-9355-00c8521d0f53\",\"type\":\"GlyphRenderer\"},{\"attributes\":{\"data_source\":{\"id\":\"4230540c-96e6-4992-b3da-4663b1cd6926\",\"type\":\"ColumnDataSource\"},\"glyph\":{\"id\":\"c59e16e8-5410-4670-93bc-c72d80eb9682\",\"type\":\"Rect\"},\"hover_glyph\":null,\"muted_glyph\":null},\"id\":\"7085ae93-464d-4cf8-9d4e-bc9f9ff604c3\",\"type\":\"GlyphRenderer\"},{\"attributes\":{\"data_source\":{\"id\":\"e211b730-1834-4a38-a297-c1fbc0cc2896\",\"type\":\"ColumnDataSource\"},\"glyph\":{\"id\":\"c2b5120c-bb01-41ea-ac80-3aade6d335a1\",\"type\":\"Rect\"},\"hover_glyph\":null,\"muted_glyph\":null},\"id\":\"968c9760-2f5e-4937-b0ff-851908dc5222\",\"type\":\"GlyphRenderer\"},{\"attributes\":{\"fill_alpha\":{\"field\":\"fill_alpha\"},\"fill_color\":{\"field\":\"color\"},\"height\":{\"field\":\"height\",\"units\":\"data\"},\"line_color\":{\"field\":\"line_color\"},\"width\":{\"field\":\"width\",\"units\":\"data\"},\"x\":{\"field\":\"x\"},\"y\":{\"field\":\"y\"}},\"id\":\"f24f55b1-18c6-455e-95a8-17b822115c18\",\"type\":\"Rect\"},{\"attributes\":{\"callback\":null,\"column_names\":[\"x\",\"y\",\"width\",\"height\",\"color\",\"fill_alpha\",\"line_color\",\"line_alpha\",\"label\"],\"data\":{\"chart_index\":[\"(74.000000, 74.986667]\"],\"color\":[\"#f22c40\"],\"fill_alpha\":[0.8],\"height\":[0.0],\"label\":[\"(74.000000, 74.986667]\"],\"line_alpha\":[1.0],\"line_color\":[\"black\"],\"width\":[0.9866666666666646],\"x\":[\"74.4933335\"],\"y\":[0.0]}},\"id\":\"d23b6e85-5e77-4e74-9e5c-1c54a74b628a\",\"type\":\"ColumnDataSource\"},{\"attributes\":{\"callback\":null,\"column_names\":[\"x\",\"y\",\"width\",\"height\",\"color\",\"fill_alpha\",\"line_color\",\"line_alpha\",\"label\"],\"data\":{\"chart_index\":[\"(59.200000, 60.186667]\"],\"color\":[\"#f22c40\"],\"fill_alpha\":[0.8],\"height\":[0.0],\"label\":[\"(59.200000, 60.186667]\"],\"line_alpha\":[1.0],\"line_color\":[\"black\"],\"width\":[0.9866666666666646],\"x\":[\"59.6933335\"],\"y\":[0.0]}},\"id\":\"68d4fdfd-06c8-48c4-9368-3564b3457ad5\",\"type\":\"ColumnDataSource\"},{\"attributes\":{\"data_source\":{\"id\":\"99ba76b1-a7c3-412b-befc-5ba8b1bb4890\",\"type\":\"ColumnDataSource\"},\"glyph\":{\"id\":\"9c9edbbd-e356-4672-9d8d-efdfaf31a798\",\"type\":\"Rect\"},\"hover_glyph\":null,\"muted_glyph\":null},\"id\":\"fa58c04f-dabc-4bf0-868f-2b0cad8a9871\",\"type\":\"GlyphRenderer\"},{\"attributes\":{\"callback\":null,\"column_names\":[\"x\",\"y\",\"width\",\"height\",\"color\",\"fill_alpha\",\"line_color\",\"line_alpha\",\"label\"],\"data\":{\"chart_index\":[\"(8.880000, 9.866667]\"],\"color\":[\"#f22c40\"],\"fill_alpha\":[0.8],\"height\":[35.0],\"label\":[\"(8.880000, 9.866667]\"],\"line_alpha\":[1.0],\"line_color\":[\"black\"],\"width\":[0.9866666666666664],\"x\":[\"9.373333500000001\"],\"y\":[17.5]}},\"id\":\"0c72234e-95bb-4797-aff8-5c1c0b2ab0bd\",\"type\":\"ColumnDataSource\"},{\"attributes\":{\"data_source\":{\"id\":\"45341997-0e71-40ab-9b9e-d798da778320\",\"type\":\"ColumnDataSource\"},\"glyph\":{\"id\":\"330ea02c-24d4-4c54-9701-0e70aa96ee10\",\"type\":\"Rect\"},\"hover_glyph\":null,\"muted_glyph\":null},\"id\":\"94065b9c-9a10-4e6c-a7fc-558b06cebaa7\",\"type\":\"GlyphRenderer\"},{\"attributes\":{\"callback\":null,\"column_names\":[\"x\",\"y\",\"width\",\"height\",\"color\",\"fill_alpha\",\"line_color\",\"line_alpha\",\"label\"],\"data\":{\"chart_index\":[\"(7.893333, 8.880000]\"],\"color\":[\"#f22c40\"],\"fill_alpha\":[0.8],\"height\":[36.0],\"label\":[\"(7.893333, 8.880000]\"],\"line_alpha\":[1.0],\"line_color\":[\"black\"],\"width\":[0.9866666666666672],\"x\":[\"8.3866665\"],\"y\":[18.0]}},\"id\":\"6897cb69-5486-4e98-a797-4d0a2f8815d7\",\"type\":\"ColumnDataSource\"},{\"attributes\":{\"fill_alpha\":{\"field\":\"fill_alpha\"},\"fill_color\":{\"field\":\"color\"},\"height\":{\"field\":\"height\",\"units\":\"data\"},\"line_color\":{\"field\":\"line_color\"},\"width\":{\"field\":\"width\",\"units\":\"data\"},\"x\":{\"field\":\"x\"},\"y\":{\"field\":\"y\"}},\"id\":\"1e65e021-4824-4b0e-a70b-d562285553b0\",\"type\":\"Rect\"},{\"attributes\":{\"data_source\":{\"id\":\"03966cac-35d7-42ed-987b-2d2a7a47aab2\",\"type\":\"ColumnDataSource\"},\"glyph\":{\"id\":\"badf0e07-4bc5-43c7-85ef-77dcc89d86f7\",\"type\":\"Rect\"},\"hover_glyph\":null,\"muted_glyph\":null},\"id\":\"9b351f66-1260-4048-a5ce-b5697fc6a5e3\",\"type\":\"GlyphRenderer\"},{\"attributes\":{\"fill_alpha\":{\"field\":\"fill_alpha\"},\"fill_color\":{\"field\":\"color\"},\"height\":{\"field\":\"height\",\"units\":\"data\"},\"line_color\":{\"field\":\"line_color\"},\"width\":{\"field\":\"width\",\"units\":\"data\"},\"x\":{\"field\":\"x\"},\"y\":{\"field\":\"y\"}},\"id\":\"330ea02c-24d4-4c54-9701-0e70aa96ee10\",\"type\":\"Rect\"},{\"attributes\":{\"data_source\":{\"id\":\"c7d973aa-4e5d-4513-ab3c-3c824b6b55af\",\"type\":\"ColumnDataSource\"},\"glyph\":{\"id\":\"74122709-48b2-4a0d-9334-f424e59a1ab3\",\"type\":\"Rect\"},\"hover_glyph\":null,\"muted_glyph\":null},\"id\":\"996ea6dc-e970-44ac-a7b2-5f9596479d34\",\"type\":\"GlyphRenderer\"},{\"attributes\":{\"fill_alpha\":{\"field\":\"fill_alpha\"},\"fill_color\":{\"field\":\"color\"},\"height\":{\"field\":\"height\",\"units\":\"data\"},\"line_color\":{\"field\":\"line_color\"},\"width\":{\"field\":\"width\",\"units\":\"data\"},\"x\":{\"field\":\"x\"},\"y\":{\"field\":\"y\"}},\"id\":\"2f01520b-ecf2-4c04-8e5a-ad13c05e1c51\",\"type\":\"Rect\"},{\"attributes\":{\"callback\":null,\"column_names\":[\"x\",\"y\",\"width\",\"height\",\"color\",\"fill_alpha\",\"line_color\",\"line_alpha\",\"label\"],\"data\":{\"chart_index\":[\"(52.293333, 53.280000]\"],\"color\":[\"#f22c40\"],\"fill_alpha\":[0.8],\"height\":[6.0],\"label\":[\"(52.293333, 53.280000]\"],\"line_alpha\":[1.0],\"line_color\":[\"black\"],\"width\":[0.9866666666666646],\"x\":[\"52.786666499999995\"],\"y\":[3.0]}},\"id\":\"d0f9c435-da09-41a2-b6bd-899a184454aa\",\"type\":\"ColumnDataSource\"},{\"attributes\":{\"callback\":null,\"column_names\":[\"x\",\"y\",\"width\",\"height\",\"color\",\"fill_alpha\",\"line_color\",\"line_alpha\",\"label\"],\"data\":{\"chart_index\":[\"(6.906667, 7.893333]\"],\"color\":[\"#f22c40\"],\"fill_alpha\":[0.8],\"height\":[41.0],\"label\":[\"(6.906667, 7.893333]\"],\"line_alpha\":[1.0],\"line_color\":[\"black\"],\"width\":[0.9866666666666664],\"x\":[\"7.4\"],\"y\":[20.5]}},\"id\":\"89cc5721-bd81-4ead-86b2-9e4d167262e5\",\"type\":\"ColumnDataSource\"},{\"attributes\":{\"fill_alpha\":{\"field\":\"fill_alpha\"},\"fill_color\":{\"field\":\"color\"},\"height\":{\"field\":\"height\",\"units\":\"data\"},\"line_color\":{\"field\":\"line_color\"},\"width\":{\"field\":\"width\",\"units\":\"data\"},\"x\":{\"field\":\"x\"},\"y\":{\"field\":\"y\"}},\"id\":\"0ad89fc9-868e-46bd-a4ca-0d7f7729c567\",\"type\":\"Rect\"},{\"attributes\":{\"callback\":null,\"column_names\":[\"x\",\"y\",\"width\",\"height\",\"color\",\"fill_alpha\",\"line_color\",\"line_alpha\",\"label\"],\"data\":{\"chart_index\":[\"(51.306667, 52.293333]\"],\"color\":[\"#f22c40\"],\"fill_alpha\":[0.8],\"height\":[2.0],\"label\":[\"(51.306667, 52.293333]\"],\"line_alpha\":[1.0],\"line_color\":[\"black\"],\"width\":[0.9866666666666717],\"x\":[\"51.8\"],\"y\":[1.0]}},\"id\":\"45341997-0e71-40ab-9b9e-d798da778320\",\"type\":\"ColumnDataSource\"},{\"attributes\":{\"fill_alpha\":{\"field\":\"fill_alpha\"},\"fill_color\":{\"field\":\"color\"},\"height\":{\"field\":\"height\",\"units\":\"data\"},\"line_color\":{\"field\":\"line_color\"},\"width\":{\"field\":\"width\",\"units\":\"data\"},\"x\":{\"field\":\"x\"},\"y\":{\"field\":\"y\"}},\"id\":\"2140391f-5c72-4bb3-af16-c2c71583430f\",\"type\":\"Rect\"},{\"attributes\":{\"callback\":null,\"column_names\":[\"x\",\"y\",\"width\",\"height\",\"color\",\"fill_alpha\",\"line_color\",\"line_alpha\",\"label\"],\"data\":{\"chart_index\":[\"(74.986667, 75.973333]\"],\"color\":[\"#f22c40\"],\"fill_alpha\":[0.8],\"height\":[0.0],\"label\":[\"(74.986667, 75.973333]\"],\"line_alpha\":[1.0],\"line_color\":[\"black\"],\"width\":[0.9866666666666646],\"x\":[\"75.47999999999999\"],\"y\":[0.0]}},\"id\":\"e337af95-3770-413b-a42d-f02065706cc1\",\"type\":\"ColumnDataSource\"},{\"attributes\":{\"data_source\":{\"id\":\"8c9bbe52-1d62-4dab-97ce-7de626555bce\",\"type\":\"ColumnDataSource\"},\"glyph\":{\"id\":\"b3f9dfbe-5d2b-4dfa-887e-01646628de58\",\"type\":\"Rect\"},\"hover_glyph\":null,\"muted_glyph\":null},\"id\":\"0eca9f6d-733d-48c5-a1be-1c3f2283ac17\",\"type\":\"GlyphRenderer\"},{\"attributes\":{\"fill_alpha\":{\"field\":\"fill_alpha\"},\"fill_color\":{\"field\":\"color\"},\"height\":{\"field\":\"height\",\"units\":\"data\"},\"line_color\":{\"field\":\"line_color\"},\"width\":{\"field\":\"width\",\"units\":\"data\"},\"x\":{\"field\":\"x\"},\"y\":{\"field\":\"y\"}},\"id\":\"2218cc5a-10ac-4ce7-b280-6e0125dbaca7\",\"type\":\"Rect\"},{\"attributes\":{\"fill_alpha\":{\"field\":\"fill_alpha\"},\"fill_color\":{\"field\":\"color\"},\"height\":{\"field\":\"height\",\"units\":\"data\"},\"line_color\":{\"field\":\"line_color\"},\"width\":{\"field\":\"width\",\"units\":\"data\"},\"x\":{\"field\":\"x\"},\"y\":{\"field\":\"y\"}},\"id\":\"47effe67-6713-4167-8923-a7970d5382eb\",\"type\":\"Rect\"},{\"attributes\":{\"fill_alpha\":{\"field\":\"fill_alpha\"},\"fill_color\":{\"field\":\"color\"},\"height\":{\"field\":\"height\",\"units\":\"data\"},\"line_color\":{\"field\":\"line_color\"},\"width\":{\"field\":\"width\",\"units\":\"data\"},\"x\":{\"field\":\"x\"},\"y\":{\"field\":\"y\"}},\"id\":\"76eaa972-725e-4a17-9d13-761b65b76b62\",\"type\":\"Rect\"},{\"attributes\":{\"callback\":null,\"column_names\":[\"x\",\"y\",\"width\",\"height\",\"color\",\"fill_alpha\",\"line_color\",\"line_alpha\",\"label\"],\"data\":{\"chart_index\":[\"(87.813333, 88.800000]\"],\"color\":[\"#f22c40\"],\"fill_alpha\":[0.8],\"height\":[0.0],\"label\":[\"(87.813333, 88.800000]\"],\"line_alpha\":[1.0],\"line_color\":[\"black\"],\"width\":[0.9866666666666646],\"x\":[\"88.3066665\"],\"y\":[0.0]}},\"id\":\"7ec99f4c-274b-47b9-8023-4e59956eda04\",\"type\":\"ColumnDataSource\"},{\"attributes\":{\"callback\":null,\"column_names\":[\"x\",\"y\",\"width\",\"height\",\"color\",\"fill_alpha\",\"line_color\",\"line_alpha\",\"label\"],\"data\":{\"chart_index\":[\"(86.826667, 87.813333]\"],\"color\":[\"#f22c40\"],\"fill_alpha\":[0.8],\"height\":[1.0],\"label\":[\"(86.826667, 87.813333]\"],\"line_alpha\":[1.0],\"line_color\":[\"black\"],\"width\":[0.9866666666666646],\"x\":[\"87.32\"],\"y\":[0.5]}},\"id\":\"6094e288-fcc4-4cce-94c5-1c96055870ae\",\"type\":\"ColumnDataSource\"},{\"attributes\":{\"callback\":null,\"column_names\":[\"x\",\"y\",\"width\",\"height\",\"color\",\"fill_alpha\",\"line_color\",\"line_alpha\",\"label\"],\"data\":{\"chart_index\":[\"(91.760000, 92.746667]\"],\"color\":[\"#f22c40\"],\"fill_alpha\":[0.8],\"height\":[0.0],\"label\":[\"(91.760000, 92.746667]\"],\"line_alpha\":[1.0],\"line_color\":[\"black\"],\"width\":[0.9866666666666646],\"x\":[\"92.2533335\"],\"y\":[0.0]}},\"id\":\"659ecf6d-871a-453c-8174-33302e3a3b25\",\"type\":\"ColumnDataSource\"},{\"attributes\":{\"data_source\":{\"id\":\"6094e288-fcc4-4cce-94c5-1c96055870ae\",\"type\":\"ColumnDataSource\"},\"glyph\":{\"id\":\"76eaa972-725e-4a17-9d13-761b65b76b62\",\"type\":\"Rect\"},\"hover_glyph\":null,\"muted_glyph\":null},\"id\":\"f997db1c-309f-4055-a8f0-4d450570e029\",\"type\":\"GlyphRenderer\"},{\"attributes\":{\"fill_alpha\":{\"field\":\"fill_alpha\"},\"fill_color\":{\"field\":\"color\"},\"height\":{\"field\":\"height\",\"units\":\"data\"},\"line_color\":{\"field\":\"line_color\"},\"width\":{\"field\":\"width\",\"units\":\"data\"},\"x\":{\"field\":\"x\"},\"y\":{\"field\":\"y\"}},\"id\":\"b847cc7d-0fef-472f-8f21-a09fc3a1f41b\",\"type\":\"Rect\"},{\"attributes\":{\"callback\":null,\"column_names\":[\"x\",\"y\",\"width\",\"height\",\"color\",\"fill_alpha\",\"line_color\",\"line_alpha\",\"label\"],\"data\":{\"chart_index\":[\"(90.773333, 91.760000]\"],\"color\":[\"#f22c40\"],\"fill_alpha\":[0.8],\"height\":[0.0],\"label\":[\"(90.773333, 91.760000]\"],\"line_alpha\":[1.0],\"line_color\":[\"black\"],\"width\":[0.9866666666666646],\"x\":[\"91.2666665\"],\"y\":[0.0]}},\"id\":\"b9ea056f-6b9a-49b2-b14e-5f6ec5addf4e\",\"type\":\"ColumnDataSource\"},{\"attributes\":{\"fill_alpha\":{\"field\":\"fill_alpha\"},\"fill_color\":{\"field\":\"color\"},\"height\":{\"field\":\"height\",\"units\":\"data\"},\"line_color\":{\"field\":\"line_color\"},\"width\":{\"field\":\"width\",\"units\":\"data\"},\"x\":{\"field\":\"x\"},\"y\":{\"field\":\"y\"}},\"id\":\"581515ef-0283-46b6-9f7d-788f41aca190\",\"type\":\"Rect\"},{\"attributes\":{\"data_source\":{\"id\":\"a76a8acb-340b-4470-9e90-5342a380a993\",\"type\":\"ColumnDataSource\"},\"glyph\":{\"id\":\"76c76220-7772-4f1c-9066-02070bd71aee\",\"type\":\"Rect\"},\"hover_glyph\":null,\"muted_glyph\":null},\"id\":\"60ced73e-b253-462f-af66-2d107ed31eb3\",\"type\":\"GlyphRenderer\"},{\"attributes\":{\"data_source\":{\"id\":\"7ec99f4c-274b-47b9-8023-4e59956eda04\",\"type\":\"ColumnDataSource\"},\"glyph\":{\"id\":\"47effe67-6713-4167-8923-a7970d5382eb\",\"type\":\"Rect\"},\"hover_glyph\":null,\"muted_glyph\":null},\"id\":\"93a770d6-5917-4e25-96a1-384245bacf15\",\"type\":\"GlyphRenderer\"},{\"attributes\":{\"callback\":null,\"column_names\":[\"x\",\"y\",\"width\",\"height\",\"color\",\"fill_alpha\",\"line_color\",\"line_alpha\",\"label\"],\"data\":{\"chart_index\":[\"(89.786667, 90.773333]\"],\"color\":[\"#f22c40\"],\"fill_alpha\":[0.8],\"height\":[0.0],\"label\":[\"(89.786667, 90.773333]\"],\"line_alpha\":[1.0],\"line_color\":[\"black\"],\"width\":[0.9866666666666646],\"x\":[\"90.28\"],\"y\":[0.0]}},\"id\":\"a76a8acb-340b-4470-9e90-5342a380a993\",\"type\":\"ColumnDataSource\"},{\"attributes\":{\"data_source\":{\"id\":\"58c9dc6c-e495-4ccf-a574-2033e072fbf2\",\"type\":\"ColumnDataSource\"},\"glyph\":{\"id\":\"94704a66-44c1-47ea-ab04-b9447195df0b\",\"type\":\"Rect\"},\"hover_glyph\":null,\"muted_glyph\":null},\"id\":\"d71f196e-7dde-417c-a488-9c20d6d9a64a\",\"type\":\"GlyphRenderer\"},{\"attributes\":{\"fill_alpha\":{\"field\":\"fill_alpha\"},\"fill_color\":{\"field\":\"color\"},\"height\":{\"field\":\"height\",\"units\":\"data\"},\"line_color\":{\"field\":\"line_color\"},\"width\":{\"field\":\"width\",\"units\":\"data\"},\"x\":{\"field\":\"x\"},\"y\":{\"field\":\"y\"}},\"id\":\"afc49955-468e-407f-be34-2d1f003f3cea\",\"type\":\"Rect\"},{\"attributes\":{\"data_source\":{\"id\":\"b9ea056f-6b9a-49b2-b14e-5f6ec5addf4e\",\"type\":\"ColumnDataSource\"},\"glyph\":{\"id\":\"b847cc7d-0fef-472f-8f21-a09fc3a1f41b\",\"type\":\"Rect\"},\"hover_glyph\":null,\"muted_glyph\":null},\"id\":\"c5dd6076-2d09-47c9-bd7d-045b029b5591\",\"type\":\"GlyphRenderer\"},{\"attributes\":{\"fill_alpha\":{\"field\":\"fill_alpha\"},\"fill_color\":{\"field\":\"color\"},\"height\":{\"field\":\"height\",\"units\":\"data\"},\"line_color\":{\"field\":\"line_color\"},\"width\":{\"field\":\"width\",\"units\":\"data\"},\"x\":{\"field\":\"x\"},\"y\":{\"field\":\"y\"}},\"id\":\"b6a3879b-7693-4c0c-8ef8-5730877be8a7\",\"type\":\"Rect\"},{\"attributes\":{\"callback\":null,\"column_names\":[\"x\",\"y\",\"width\",\"height\",\"color\",\"fill_alpha\",\"line_color\",\"line_alpha\",\"label\"],\"data\":{\"chart_index\":[\"(92.746667, 93.733333]\"],\"color\":[\"#f22c40\"],\"fill_alpha\":[0.8],\"height\":[0.0],\"label\":[\"(92.746667, 93.733333]\"],\"line_alpha\":[1.0],\"line_color\":[\"black\"],\"width\":[0.9866666666666646],\"x\":[\"93.24000000000001\"],\"y\":[0.0]}},\"id\":\"be281c54-4c46-4f18-86d2-5ab840ba9188\",\"type\":\"ColumnDataSource\"},{\"attributes\":{\"data_source\":{\"id\":\"25f1e379-78d6-4ac5-adfb-47207b28d9e7\",\"type\":\"ColumnDataSource\"},\"glyph\":{\"id\":\"6ee51828-ed44-4048-902e-c6aaf85e9adb\",\"type\":\"Rect\"},\"hover_glyph\":null,\"muted_glyph\":null},\"id\":\"2fc81445-ff62-4651-86e4-e33dda2913d5\",\"type\":\"GlyphRenderer\"},{\"attributes\":{\"callback\":null,\"column_names\":[\"x\",\"y\",\"width\",\"height\",\"color\",\"fill_alpha\",\"line_color\",\"line_alpha\",\"label\"],\"data\":{\"chart_index\":[\"(103.600000, 104.586667]\"],\"color\":[\"#f22c40\"],\"fill_alpha\":[0.8],\"height\":[0.0],\"label\":[\"(103.600000, 104.586667]\"],\"line_alpha\":[1.0],\"line_color\":[\"black\"],\"width\":[0.9866666666666646],\"x\":[\"104.0933335\"],\"y\":[0.0]}},\"id\":\"58c9dc6c-e495-4ccf-a574-2033e072fbf2\",\"type\":\"ColumnDataSource\"},{\"attributes\":{\"data_source\":{\"id\":\"659ecf6d-871a-453c-8174-33302e3a3b25\",\"type\":\"ColumnDataSource\"},\"glyph\":{\"id\":\"581515ef-0283-46b6-9f7d-788f41aca190\",\"type\":\"Rect\"},\"hover_glyph\":null,\"muted_glyph\":null},\"id\":\"0d673643-fae1-4317-a574-40986e2ec1a8\",\"type\":\"GlyphRenderer\"},{\"attributes\":{\"fill_alpha\":{\"field\":\"fill_alpha\"},\"fill_color\":{\"field\":\"color\"},\"height\":{\"field\":\"height\",\"units\":\"data\"},\"line_color\":{\"field\":\"line_color\"},\"width\":{\"field\":\"width\",\"units\":\"data\"},\"x\":{\"field\":\"x\"},\"y\":{\"field\":\"y\"}},\"id\":\"fcddae26-eb4f-4e12-8b66-0f4e7c25e6b8\",\"type\":\"Rect\"},{\"attributes\":{\"callback\":null,\"column_names\":[\"x\",\"y\",\"width\",\"height\",\"color\",\"fill_alpha\",\"line_color\",\"line_alpha\",\"label\"],\"data\":{\"chart_index\":[\"(93.733333, 94.720000]\"],\"color\":[\"#f22c40\"],\"fill_alpha\":[0.8],\"height\":[0.0],\"label\":[\"(93.733333, 94.720000]\"],\"line_alpha\":[1.0],\"line_color\":[\"black\"],\"width\":[0.9866666666666646],\"x\":[\"94.2266665\"],\"y\":[0.0]}},\"id\":\"9f9f64f7-e6f7-4c4a-ad03-d3e13de2ea05\",\"type\":\"ColumnDataSource\"},{\"attributes\":{\"fill_alpha\":{\"field\":\"fill_alpha\"},\"fill_color\":{\"field\":\"color\"},\"height\":{\"field\":\"height\",\"units\":\"data\"},\"line_color\":{\"field\":\"line_color\"},\"width\":{\"field\":\"width\",\"units\":\"data\"},\"x\":{\"field\":\"x\"},\"y\":{\"field\":\"y\"}},\"id\":\"f8c91115-92de-489f-8792-79dc5013f839\",\"type\":\"Rect\"},{\"attributes\":{\"data_source\":{\"id\":\"be281c54-4c46-4f18-86d2-5ab840ba9188\",\"type\":\"ColumnDataSource\"},\"glyph\":{\"id\":\"b6a3879b-7693-4c0c-8ef8-5730877be8a7\",\"type\":\"Rect\"},\"hover_glyph\":null,\"muted_glyph\":null},\"id\":\"9b5a6b1b-3829-4ee7-999f-164153a63dc7\",\"type\":\"GlyphRenderer\"},{\"attributes\":{\"fill_alpha\":{\"field\":\"fill_alpha\"},\"fill_color\":{\"field\":\"color\"},\"height\":{\"field\":\"height\",\"units\":\"data\"},\"line_color\":{\"field\":\"line_color\"},\"width\":{\"field\":\"width\",\"units\":\"data\"},\"x\":{\"field\":\"x\"},\"y\":{\"field\":\"y\"}},\"id\":\"602602b3-541c-4ceb-bd03-869932b63976\",\"type\":\"Rect\"},{\"attributes\":{\"callback\":null,\"column_names\":[\"x\",\"y\",\"width\",\"height\",\"color\",\"fill_alpha\",\"line_color\",\"line_alpha\",\"label\"],\"data\":{\"chart_index\":[\"(94.720000, 95.706667]\"],\"color\":[\"#f22c40\"],\"fill_alpha\":[0.8],\"height\":[0.0],\"label\":[\"(94.720000, 95.706667]\"],\"line_alpha\":[1.0],\"line_color\":[\"black\"],\"width\":[0.9866666666666646],\"x\":[\"95.2133335\"],\"y\":[0.0]}},\"id\":\"3acbe0c1-5d01-49ae-adb4-7e9a66edf563\",\"type\":\"ColumnDataSource\"},{\"attributes\":{\"data_source\":{\"id\":\"9f9f64f7-e6f7-4c4a-ad03-d3e13de2ea05\",\"type\":\"ColumnDataSource\"},\"glyph\":{\"id\":\"fcddae26-eb4f-4e12-8b66-0f4e7c25e6b8\",\"type\":\"Rect\"},\"hover_glyph\":null,\"muted_glyph\":null},\"id\":\"67875f4c-da41-402b-852b-dc21e8b7dce9\",\"type\":\"GlyphRenderer\"},{\"attributes\":{\"fill_alpha\":{\"field\":\"fill_alpha\"},\"fill_color\":{\"field\":\"color\"},\"height\":{\"field\":\"height\",\"units\":\"data\"},\"line_color\":{\"field\":\"line_color\"},\"width\":{\"field\":\"width\",\"units\":\"data\"},\"x\":{\"field\":\"x\"},\"y\":{\"field\":\"y\"}},\"id\":\"d51f1f11-a3be-4341-abce-61133c4ef77d\",\"type\":\"Rect\"},{\"attributes\":{\"callback\":null,\"column_names\":[\"x\",\"y\",\"width\",\"height\",\"color\",\"fill_alpha\",\"line_color\",\"line_alpha\",\"label\"],\"data\":{\"chart_index\":[\"(95.706667, 96.693333]\"],\"color\":[\"#f22c40\"],\"fill_alpha\":[0.8],\"height\":[0.0],\"label\":[\"(95.706667, 96.693333]\"],\"line_alpha\":[1.0],\"line_color\":[\"black\"],\"width\":[0.9866666666666788],\"x\":[\"96.19999999999999\"],\"y\":[0.0]}},\"id\":\"7ebbd337-0ad0-478e-af19-10dac51b4478\",\"type\":\"ColumnDataSource\"},{\"attributes\":{\"data_source\":{\"id\":\"3acbe0c1-5d01-49ae-adb4-7e9a66edf563\",\"type\":\"ColumnDataSource\"},\"glyph\":{\"id\":\"602602b3-541c-4ceb-bd03-869932b63976\",\"type\":\"Rect\"},\"hover_glyph\":null,\"muted_glyph\":null},\"id\":\"06faf250-fc68-4270-b0bf-ff93d6f53bc6\",\"type\":\"GlyphRenderer\"},{\"attributes\":{\"fill_alpha\":{\"field\":\"fill_alpha\"},\"fill_color\":{\"field\":\"color\"},\"height\":{\"field\":\"height\",\"units\":\"data\"},\"line_color\":{\"field\":\"line_color\"},\"width\":{\"field\":\"width\",\"units\":\"data\"},\"x\":{\"field\":\"x\"},\"y\":{\"field\":\"y\"}},\"id\":\"94704a66-44c1-47ea-ab04-b9447195df0b\",\"type\":\"Rect\"},{\"attributes\":{\"fill_alpha\":{\"field\":\"fill_alpha\"},\"fill_color\":{\"field\":\"color\"},\"height\":{\"field\":\"height\",\"units\":\"data\"},\"line_color\":{\"field\":\"line_color\"},\"width\":{\"field\":\"width\",\"units\":\"data\"},\"x\":{\"field\":\"x\"},\"y\":{\"field\":\"y\"}},\"id\":\"6ee51828-ed44-4048-902e-c6aaf85e9adb\",\"type\":\"Rect\"},{\"attributes\":{\"data_source\":{\"id\":\"c9bceab9-34eb-42f0-8d6e-a74d73812e5d\",\"type\":\"ColumnDataSource\"},\"glyph\":{\"id\":\"7d78c366-8846-4a7a-910b-1805b24c4a61\",\"type\":\"Rect\"},\"hover_glyph\":null,\"muted_glyph\":null},\"id\":\"2f837a9d-d603-421c-9fd1-08e8162b133b\",\"type\":\"GlyphRenderer\"},{\"attributes\":{\"data_source\":{\"id\":\"7ebbd337-0ad0-478e-af19-10dac51b4478\",\"type\":\"ColumnDataSource\"},\"glyph\":{\"id\":\"d51f1f11-a3be-4341-abce-61133c4ef77d\",\"type\":\"Rect\"},\"hover_glyph\":null,\"muted_glyph\":null},\"id\":\"56dad4de-5d2f-4290-8ff6-760bc4017f90\",\"type\":\"GlyphRenderer\"},{\"attributes\":{\"callback\":null,\"column_names\":[\"x\",\"y\",\"width\",\"height\",\"color\",\"fill_alpha\",\"line_color\",\"line_alpha\",\"label\"],\"data\":{\"chart_index\":[\"(96.693333, 97.680000]\"],\"color\":[\"#f22c40\"],\"fill_alpha\":[0.8],\"height\":[0.0],\"label\":[\"(96.693333, 97.680000]\"],\"line_alpha\":[1.0],\"line_color\":[\"black\"],\"width\":[0.9866666666666646],\"x\":[\"97.1866665\"],\"y\":[0.0]}},\"id\":\"c9bceab9-34eb-42f0-8d6e-a74d73812e5d\",\"type\":\"ColumnDataSource\"},{\"attributes\":{\"callback\":null,\"column_names\":[\"x\",\"y\",\"width\",\"height\",\"color\",\"fill_alpha\",\"line_color\",\"line_alpha\",\"label\"],\"data\":{\"chart_index\":[\"(97.680000, 98.666667]\"],\"color\":[\"#f22c40\"],\"fill_alpha\":[0.8],\"height\":[0.0],\"label\":[\"(97.680000, 98.666667]\"],\"line_alpha\":[1.0],\"line_color\":[\"black\"],\"width\":[0.9866666666666646],\"x\":[\"98.17333350000001\"],\"y\":[0.0]}},\"id\":\"25f1e379-78d6-4ac5-adfb-47207b28d9e7\",\"type\":\"ColumnDataSource\"},{\"attributes\":{\"bottom_units\":\"screen\",\"fill_alpha\":{\"value\":0.5},\"fill_color\":{\"value\":\"lightgrey\"},\"left_units\":\"screen\",\"level\":\"overlay\",\"line_alpha\":{\"value\":1.0},\"line_color\":{\"value\":\"black\"},\"line_dash\":[4,4],\"line_width\":{\"value\":2},\"plot\":null,\"render_mode\":\"css\",\"right_units\":\"screen\",\"top_units\":\"screen\"},\"id\":\"05a19e9f-8df0-418f-97a6-86b739582984\",\"type\":\"BoxAnnotation\"},{\"attributes\":{\"below\":[{\"id\":\"41a44d64-40b5-4622-8090-8dda7d80dd7b\",\"type\":\"LinearAxis\"}],\"css_classes\":null,\"left\":[{\"id\":\"d4add964-097f-406d-85ec-46da2b617f5f\",\"type\":\"LinearAxis\"}],\"renderers\":[{\"id\":\"05a19e9f-8df0-418f-97a6-86b739582984\",\"type\":\"BoxAnnotation\"},{\"id\":\"874fbf34-8b0d-41e9-aecb-83724c918ed2\",\"type\":\"GlyphRenderer\"},{\"id\":\"c0e9acb0-ff02-4b37-ba51-fb7faeae9885\",\"type\":\"GlyphRenderer\"},{\"id\":\"1b97889f-eebb-4a2a-9eb8-d9911fd10c73\",\"type\":\"GlyphRenderer\"},{\"id\":\"9f6208cf-adef-49ca-9a30-06a9fa81e887\",\"type\":\"GlyphRenderer\"},{\"id\":\"5cf5974c-ecd0-442e-94bd-284ce53707e2\",\"type\":\"GlyphRenderer\"},{\"id\":\"7085ae93-464d-4cf8-9d4e-bc9f9ff604c3\",\"type\":\"GlyphRenderer\"},{\"id\":\"9b351f66-1260-4048-a5ce-b5697fc6a5e3\",\"type\":\"GlyphRenderer\"},{\"id\":\"f8a197d0-b418-4cac-86be-b6ca1bf08b27\",\"type\":\"GlyphRenderer\"},{\"id\":\"86d875f7-8c03-4366-a4a1-056cf1390cbd\",\"type\":\"GlyphRenderer\"},{\"id\":\"adf1b8db-2b14-492f-a717-917ae374dcf8\",\"type\":\"GlyphRenderer\"},{\"id\":\"7d9adda9-98f4-4cc4-b79f-e52ef22211db\",\"type\":\"GlyphRenderer\"},{\"id\":\"a7fd8319-bc83-42ca-8459-1bbf15e48515\",\"type\":\"GlyphRenderer\"},{\"id\":\"d6de8cde-0c02-4c83-8c57-dd16179f89f9\",\"type\":\"GlyphRenderer\"},{\"id\":\"e05064ca-5a63-4612-8d11-9b1df0b40794\",\"type\":\"GlyphRenderer\"},{\"id\":\"cff1960d-ab6f-42f6-a101-7bec5ab80bb8\",\"type\":\"GlyphRenderer\"},{\"id\":\"55bd2948-9e88-4c99-89ca-6a9807621ba5\",\"type\":\"GlyphRenderer\"},{\"id\":\"8f27dbc5-9051-47f7-86f3-aa445c06c303\",\"type\":\"GlyphRenderer\"},{\"id\":\"7faa8c2c-5d4a-4566-a1a5-281fa6488a58\",\"type\":\"GlyphRenderer\"},{\"id\":\"92a0af6d-90a0-4fc0-88eb-b545c33bea6b\",\"type\":\"GlyphRenderer\"},{\"id\":\"ea172690-4eff-47ea-8434-7f7dfd57aff9\",\"type\":\"GlyphRenderer\"},{\"id\":\"787ee813-4752-4e11-aa05-3866be3be2ee\",\"type\":\"GlyphRenderer\"},{\"id\":\"758405cf-fe4f-4d65-ba18-ccde3b2cf510\",\"type\":\"GlyphRenderer\"},{\"id\":\"46898f3b-148d-40a9-8566-42521ee05cf6\",\"type\":\"GlyphRenderer\"},{\"id\":\"e0fb9d92-36e3-4013-87b6-249bd9a9b1ec\",\"type\":\"GlyphRenderer\"},{\"id\":\"d5f914e8-6e06-44fd-8061-d3c13baad074\",\"type\":\"GlyphRenderer\"},{\"id\":\"603696a4-775c-484a-93f7-fde5e132642d\",\"type\":\"GlyphRenderer\"},{\"id\":\"c5cf8959-517e-4376-bbff-0d384a3da96b\",\"type\":\"GlyphRenderer\"},{\"id\":\"f429db96-7cf8-4dd5-b433-f27ba83fc9ce\",\"type\":\"GlyphRenderer\"},{\"id\":\"ad6105e0-c20b-495f-a9c9-2a92d657d35d\",\"type\":\"GlyphRenderer\"},{\"id\":\"3a42ffcc-3f1a-413e-9dd6-0b2006908294\",\"type\":\"GlyphRenderer\"},{\"id\":\"913c1808-9dab-4a9e-8c7b-96d64a33f09a\",\"type\":\"GlyphRenderer\"},{\"id\":\"4b56cbeb-51a8-4f56-bd0b-9237febd88a1\",\"type\":\"GlyphRenderer\"},{\"id\":\"7af7a0fe-6832-43bd-af8d-e82523cba5d5\",\"type\":\"GlyphRenderer\"},{\"id\":\"3067cc7f-71eb-4478-8976-789c374fd793\",\"type\":\"GlyphRenderer\"},{\"id\":\"dc2df1a4-7e3d-4962-af99-5823fcd14506\",\"type\":\"GlyphRenderer\"},{\"id\":\"b9480b42-55be-40d9-a5ee-649a09b4f2a0\",\"type\":\"GlyphRenderer\"},{\"id\":\"b3441ad4-3c71-4395-aff3-5c29a5993832\",\"type\":\"GlyphRenderer\"},{\"id\":\"09ebaef1-3d63-4f72-9e3d-c221adc65b07\",\"type\":\"GlyphRenderer\"},{\"id\":\"66b0b609-03dc-49d5-b45b-da79a1353401\",\"type\":\"GlyphRenderer\"},{\"id\":\"3dc5cf39-f5eb-49ae-bd79-e7557ee5eec5\",\"type\":\"GlyphRenderer\"},{\"id\":\"b5e02a2f-e968-46ac-b761-6ec6930dc76a\",\"type\":\"GlyphRenderer\"},{\"id\":\"9f9adacd-b24c-47b8-b7a1-67ded74b0810\",\"type\":\"GlyphRenderer\"},{\"id\":\"966446e4-42e7-40eb-88ab-4c5a1744b2a8\",\"type\":\"GlyphRenderer\"},{\"id\":\"dc7b6616-1f75-4a66-8168-1caf2e2b028b\",\"type\":\"GlyphRenderer\"},{\"id\":\"3efc3ccf-89b0-4ce4-bb2c-65b21787f75b\",\"type\":\"GlyphRenderer\"},{\"id\":\"27f26ee0-9b6c-45e4-8c4e-fa8fc84ba3e6\",\"type\":\"GlyphRenderer\"},{\"id\":\"a7c26da3-c604-4fed-bb36-f50193c9f698\",\"type\":\"GlyphRenderer\"},{\"id\":\"6359451c-423e-41a7-bb09-6ff751d21bd3\",\"type\":\"GlyphRenderer\"},{\"id\":\"16f55bf4-4465-4821-92b0-273116315cb1\",\"type\":\"GlyphRenderer\"},{\"id\":\"11786a15-e5d4-49bf-bd6f-186e25a903ab\",\"type\":\"GlyphRenderer\"},{\"id\":\"a0f66d13-578e-4307-af5e-b59c1735aef5\",\"type\":\"GlyphRenderer\"},{\"id\":\"fa58c04f-dabc-4bf0-868f-2b0cad8a9871\",\"type\":\"GlyphRenderer\"},{\"id\":\"94065b9c-9a10-4e6c-a7fc-558b06cebaa7\",\"type\":\"GlyphRenderer\"},{\"id\":\"dd6b162a-48e8-4758-a7e5-3c3a8293b720\",\"type\":\"GlyphRenderer\"},{\"id\":\"0fef81e7-a844-46a2-acf4-4c345041137a\",\"type\":\"GlyphRenderer\"},{\"id\":\"18bb2658-53e4-4ec2-ad31-e036e0cb26cf\",\"type\":\"GlyphRenderer\"},{\"id\":\"cd1770eb-759a-4541-8e42-36f47f4be999\",\"type\":\"GlyphRenderer\"},{\"id\":\"b4f9e7f8-bdb8-4e39-8abf-ce659142ab1b\",\"type\":\"GlyphRenderer\"},{\"id\":\"17956916-8885-4836-82e1-608d65518159\",\"type\":\"GlyphRenderer\"},{\"id\":\"fffe60e3-1d09-4945-b737-87f28b68d8fb\",\"type\":\"GlyphRenderer\"},{\"id\":\"f7c32b5b-984d-4bb6-99da-ba15fe3dab25\",\"type\":\"GlyphRenderer\"},{\"id\":\"f55c3e32-4fb1-4fe4-a9e0-768ab53a55e2\",\"type\":\"GlyphRenderer\"},{\"id\":\"cade134c-ef80-4bed-a031-99ff9b96903c\",\"type\":\"GlyphRenderer\"},{\"id\":\"1012ab90-326b-42d5-ab72-9e9715f7727f\",\"type\":\"GlyphRenderer\"},{\"id\":\"2d3192ab-32a3-4ba0-93ee-358cda35190f\",\"type\":\"GlyphRenderer\"},{\"id\":\"ba0ce7d8-957e-4583-9c18-46b57bacaf29\",\"type\":\"GlyphRenderer\"},{\"id\":\"5561ad9e-e052-40e9-a857-6c22ee72a287\",\"type\":\"GlyphRenderer\"},{\"id\":\"7c05ac52-79d0-4840-80c5-a5e5275e53e5\",\"type\":\"GlyphRenderer\"},{\"id\":\"f1abf456-4156-49b2-86b1-e11cf8275013\",\"type\":\"GlyphRenderer\"},{\"id\":\"8ae8d1d8-6a03-416c-ad87-48dfa6dd294c\",\"type\":\"GlyphRenderer\"},{\"id\":\"dc273a55-1d6a-427f-9fa9-db279a3ebf4f\",\"type\":\"GlyphRenderer\"},{\"id\":\"a01930c3-4c40-49aa-aa15-47264c66a45a\",\"type\":\"GlyphRenderer\"},{\"id\":\"8853bf55-3a55-4ce2-b478-4710d3ded69a\",\"type\":\"GlyphRenderer\"},{\"id\":\"968c9760-2f5e-4937-b0ff-851908dc5222\",\"type\":\"GlyphRenderer\"},{\"id\":\"996ea6dc-e970-44ac-a7b2-5f9596479d34\",\"type\":\"GlyphRenderer\"},{\"id\":\"c9e8477b-b719-4b2d-9355-00c8521d0f53\",\"type\":\"GlyphRenderer\"},{\"id\":\"8416e589-b781-46fa-84b4-2a0dba427e3c\",\"type\":\"GlyphRenderer\"},{\"id\":\"a695462e-9fa5-43b2-a204-868ca81c8d11\",\"type\":\"GlyphRenderer\"},{\"id\":\"156bc3cd-9444-4e6e-a307-894aff426834\",\"type\":\"GlyphRenderer\"},{\"id\":\"455c8001-59af-4325-8bef-80201ab92e72\",\"type\":\"GlyphRenderer\"},{\"id\":\"fa85b7c0-4e8d-4db5-872b-3fe43e43ce7f\",\"type\":\"GlyphRenderer\"},{\"id\":\"d70961f8-f2ae-4741-b226-7f216aa1aa91\",\"type\":\"GlyphRenderer\"},{\"id\":\"0df8785f-787d-4ee8-b885-bcd5176a540f\",\"type\":\"GlyphRenderer\"},{\"id\":\"bc79444c-9512-4c5d-a8b8-4be26ffd1fd9\",\"type\":\"GlyphRenderer\"},{\"id\":\"17380e86-7ede-4201-98eb-bd47e7fe4052\",\"type\":\"GlyphRenderer\"},{\"id\":\"6d974481-e375-4296-b30b-cc615e95f3d4\",\"type\":\"GlyphRenderer\"},{\"id\":\"f901c6f4-3dd3-4982-8f2a-c77853fae913\",\"type\":\"GlyphRenderer\"},{\"id\":\"5d1b5bc1-9c96-4957-9f09-0653615e984d\",\"type\":\"GlyphRenderer\"},{\"id\":\"f997db1c-309f-4055-a8f0-4d450570e029\",\"type\":\"GlyphRenderer\"},{\"id\":\"93a770d6-5917-4e25-96a1-384245bacf15\",\"type\":\"GlyphRenderer\"},{\"id\":\"8fe1822c-d4de-4d3d-938a-78aede00525f\",\"type\":\"GlyphRenderer\"},{\"id\":\"60ced73e-b253-462f-af66-2d107ed31eb3\",\"type\":\"GlyphRenderer\"},{\"id\":\"c5dd6076-2d09-47c9-bd7d-045b029b5591\",\"type\":\"GlyphRenderer\"},{\"id\":\"0d673643-fae1-4317-a574-40986e2ec1a8\",\"type\":\"GlyphRenderer\"},{\"id\":\"9b5a6b1b-3829-4ee7-999f-164153a63dc7\",\"type\":\"GlyphRenderer\"},{\"id\":\"67875f4c-da41-402b-852b-dc21e8b7dce9\",\"type\":\"GlyphRenderer\"},{\"id\":\"06faf250-fc68-4270-b0bf-ff93d6f53bc6\",\"type\":\"GlyphRenderer\"},{\"id\":\"56dad4de-5d2f-4290-8ff6-760bc4017f90\",\"type\":\"GlyphRenderer\"},{\"id\":\"2f837a9d-d603-421c-9fd1-08e8162b133b\",\"type\":\"GlyphRenderer\"},{\"id\":\"2fc81445-ff62-4651-86e4-e33dda2913d5\",\"type\":\"GlyphRenderer\"},{\"id\":\"bef731fc-b6e6-4164-b311-3c036fe0f346\",\"type\":\"GlyphRenderer\"},{\"id\":\"694d281a-6097-4d2b-b8a0-07ce23664b86\",\"type\":\"GlyphRenderer\"},{\"id\":\"8476925f-e68d-456d-a150-0cf14c5d5283\",\"type\":\"GlyphRenderer\"},{\"id\":\"29d250b5-1437-4271-be26-6f388f4e5ba1\",\"type\":\"GlyphRenderer\"},{\"id\":\"1aa09ea1-3f2e-46e8-a200-7634eae0764a\",\"type\":\"GlyphRenderer\"},{\"id\":\"d71f196e-7dde-417c-a488-9c20d6d9a64a\",\"type\":\"GlyphRenderer\"},{\"id\":\"714d6cc1-54d3-43a9-b1c6-0ab3403eb4fc\",\"type\":\"GlyphRenderer\"},{\"id\":\"21495e29-3164-4557-a934-e42206f0ae57\",\"type\":\"GlyphRenderer\"},{\"id\":\"6c5a7895-5ab6-41d0-a102-146cf38e62c3\",\"type\":\"GlyphRenderer\"},{\"id\":\"51327304-2610-4f6f-8542-bfc95c423d12\",\"type\":\"GlyphRenderer\"},{\"id\":\"6a742215-0f4f-4abf-9835-6399679925cf\",\"type\":\"GlyphRenderer\"},{\"id\":\"0f247e55-9e1f-48c1-935b-86b41245d9be\",\"type\":\"GlyphRenderer\"},{\"id\":\"62a34b58-ac40-4e0d-b297-b1590a7454bb\",\"type\":\"GlyphRenderer\"},{\"id\":\"03d46086-a3ce-4877-905d-6684c51ea6dc\",\"type\":\"GlyphRenderer\"},{\"id\":\"0eca9f6d-733d-48c5-a1be-1c3f2283ac17\",\"type\":\"GlyphRenderer\"},{\"id\":\"ba34d253-9179-4e0b-976f-bfbaf3f0cd71\",\"type\":\"GlyphRenderer\"},{\"id\":\"61d5924b-61fc-4fa6-8ed7-425e6999af92\",\"type\":\"GlyphRenderer\"},{\"id\":\"d24251ec-cb44-4e14-9b21-d4745b0b4586\",\"type\":\"GlyphRenderer\"},{\"id\":\"6cad3045-09f7-47ff-903a-800437cd6ec3\",\"type\":\"GlyphRenderer\"},{\"id\":\"b5bdd7a7-5b27-4519-b783-0a371a07944f\",\"type\":\"GlyphRenderer\"},{\"id\":\"a53aa891-3d8e-4ff5-b513-281908458565\",\"type\":\"GlyphRenderer\"},{\"id\":\"33086d64-4c61-43ae-a0c0-b55353f5948c\",\"type\":\"GlyphRenderer\"},{\"id\":\"4ad976db-7c15-40ed-a621-5b9db4715643\",\"type\":\"GlyphRenderer\"},{\"id\":\"0b42dfb6-b79d-47ba-97ea-f16a5163bee7\",\"type\":\"GlyphRenderer\"},{\"id\":\"ff19ff29-b1da-482d-b65c-5ad14caf055e\",\"type\":\"GlyphRenderer\"},{\"id\":\"28529b9d-f17e-4df5-8ad7-d3a74cf643ca\",\"type\":\"GlyphRenderer\"},{\"id\":\"f742c1a9-f644-4a67-9bf3-12f9171a20dd\",\"type\":\"GlyphRenderer\"},{\"id\":\"ddfb41a9-8cc7-4622-bc7d-ba8e82ec844e\",\"type\":\"GlyphRenderer\"},{\"id\":\"4b741e8f-7272-4816-87db-8b5b0ce3d573\",\"type\":\"GlyphRenderer\"},{\"id\":\"5fc590e1-dfb5-4e1d-93b9-9f4ae1e46eb3\",\"type\":\"GlyphRenderer\"},{\"id\":\"9a1b4571-314e-4f54-a365-ae1ec88b4c04\",\"type\":\"GlyphRenderer\"},{\"id\":\"cf69da5e-e3f7-42be-8fe2-51c3c43859d2\",\"type\":\"GlyphRenderer\"},{\"id\":\"bd142706-ca06-4cd9-a036-4463e7953227\",\"type\":\"GlyphRenderer\"},{\"id\":\"530547e3-3db0-49a9-adc2-09dc8e605edf\",\"type\":\"GlyphRenderer\"},{\"id\":\"ef1b614a-5761-4126-a4fe-0dfea0f6709a\",\"type\":\"GlyphRenderer\"},{\"id\":\"c4a62df2-6df3-42ab-9e6d-d052b64d1d13\",\"type\":\"GlyphRenderer\"},{\"id\":\"2d4becde-1e9b-4f11-8fad-6b7c4991c26c\",\"type\":\"GlyphRenderer\"},{\"id\":\"25c146d3-f810-461f-884e-ea8469b5608f\",\"type\":\"GlyphRenderer\"},{\"id\":\"b6b70bd8-8007-4993-8177-e5dcf57b613f\",\"type\":\"GlyphRenderer\"},{\"id\":\"483784cd-4eda-413b-bff6-f0a772f39f18\",\"type\":\"GlyphRenderer\"},{\"id\":\"6327b895-2a59-40b4-be45-a12035f3b075\",\"type\":\"GlyphRenderer\"},{\"id\":\"fa4eec84-b9ba-43ac-a954-c84819a5a315\",\"type\":\"GlyphRenderer\"},{\"id\":\"fbf5da8f-ae1b-4c67-9c9d-6bd41723b438\",\"type\":\"GlyphRenderer\"},{\"id\":\"1c14247c-09da-4042-9434-9ea4089147d6\",\"type\":\"GlyphRenderer\"},{\"id\":\"d51714cc-4fa6-470a-916e-745d14e838fc\",\"type\":\"GlyphRenderer\"},{\"id\":\"a0ca843d-b84b-4040-837d-9d87cf94c120\",\"type\":\"GlyphRenderer\"},{\"id\":\"94d95e8e-91c5-4efa-be7e-cf587a565625\",\"type\":\"GlyphRenderer\"},{\"id\":\"edf08b36-0250-4da5-ae0c-36ba8238abfe\",\"type\":\"GlyphRenderer\"},{\"id\":\"a9348f90-16ac-481b-858f-05b8f0d150fb\",\"type\":\"GlyphRenderer\"},{\"id\":\"25d18b7e-f7ec-4032-8b88-eeca70222598\",\"type\":\"GlyphRenderer\"},{\"id\":\"207256ee-9af6-4616-a160-5c641ad9cb68\",\"type\":\"Legend\"},{\"id\":\"41a44d64-40b5-4622-8090-8dda7d80dd7b\",\"type\":\"LinearAxis\"},{\"id\":\"d4add964-097f-406d-85ec-46da2b617f5f\",\"type\":\"LinearAxis\"},{\"id\":\"7d2669eb-6a4e-4e43-9d47-6c3a20a0c396\",\"type\":\"Grid\"}],\"title\":{\"id\":\"0e5d4cd8-eaea-4e50-b128-5cf3a710bf05\",\"type\":\"Title\"},\"tool_events\":{\"id\":\"921d3856-132d-46c9-a15f-299772cfbdc0\",\"type\":\"ToolEvents\"},\"toolbar\":{\"id\":\"52e9e4bc-12d9-4a12-bf6f-3ea7c9931b42\",\"type\":\"Toolbar\"},\"x_mapper_type\":\"auto\",\"x_range\":{\"id\":\"26365113-a6a3-40e3-b6b6-9fb31b40ad88\",\"type\":\"Range1d\"},\"y_mapper_type\":\"auto\",\"y_range\":{\"id\":\"0a680db5-3e2e-438c-89ef-3ab4ec4ed074\",\"type\":\"Range1d\"}},\"id\":\"760fde1f-e998-4cb8-8a13-5fc4e0f114b3\",\"subtype\":\"Chart\",\"type\":\"Plot\"},{\"attributes\":{\"plot\":null,\"text\":\"Histogram of Recipient Country Counts\"},\"id\":\"0e5d4cd8-eaea-4e50-b128-5cf3a710bf05\",\"type\":\"Title\"},{\"attributes\":{\"callback\":null,\"end\":151.69999983333332,\"start\":-3.6999998333333335},\"id\":\"26365113-a6a3-40e3-b6b6-9fb31b40ad88\",\"type\":\"Range1d\"},{\"attributes\":{\"overlay\":{\"id\":\"05a19e9f-8df0-418f-97a6-86b739582984\",\"type\":\"BoxAnnotation\"},\"plot\":{\"id\":\"760fde1f-e998-4cb8-8a13-5fc4e0f114b3\",\"subtype\":\"Chart\",\"type\":\"Plot\"}},\"id\":\"f371ca4b-6289-4c95-ab2c-16665f6d0ffd\",\"type\":\"BoxZoomTool\"},{\"attributes\":{\"plot\":{\"id\":\"760fde1f-e998-4cb8-8a13-5fc4e0f114b3\",\"subtype\":\"Chart\",\"type\":\"Plot\"}},\"id\":\"a90cd086-169c-475d-88ca-c77713ca64b4\",\"type\":\"WheelZoomTool\"},{\"attributes\":{\"location\":\"top_left\",\"plot\":{\"id\":\"760fde1f-e998-4cb8-8a13-5fc4e0f114b3\",\"subtype\":\"Chart\",\"type\":\"Plot\"}},\"id\":\"207256ee-9af6-4616-a160-5c641ad9cb68\",\"type\":\"Legend\"},{\"attributes\":{\"active_drag\":\"auto\",\"active_scroll\":\"auto\",\"active_tap\":\"auto\",\"tools\":[{\"id\":\"1fa42424-2dbd-4f02-90cc-a4610a0c7ed3\",\"type\":\"PanTool\"},{\"id\":\"a90cd086-169c-475d-88ca-c77713ca64b4\",\"type\":\"WheelZoomTool\"},{\"id\":\"f371ca4b-6289-4c95-ab2c-16665f6d0ffd\",\"type\":\"BoxZoomTool\"},{\"id\":\"f10f41cc-35c8-4525-b7dd-ccd741d53d43\",\"type\":\"SaveTool\"},{\"id\":\"835aa93d-18e3-4b85-b899-cc596483a538\",\"type\":\"ResetTool\"},{\"id\":\"e202da00-ed2c-4ef0-9660-9ed4bd5091bd\",\"type\":\"HelpTool\"}]},\"id\":\"52e9e4bc-12d9-4a12-bf6f-3ea7c9931b42\",\"type\":\"Toolbar\"},{\"attributes\":{\"plot\":{\"id\":\"760fde1f-e998-4cb8-8a13-5fc4e0f114b3\",\"subtype\":\"Chart\",\"type\":\"Plot\"}},\"id\":\"1fa42424-2dbd-4f02-90cc-a4610a0c7ed3\",\"type\":\"PanTool\"},{\"attributes\":{\"plot\":{\"id\":\"760fde1f-e998-4cb8-8a13-5fc4e0f114b3\",\"subtype\":\"Chart\",\"type\":\"Plot\"}},\"id\":\"e202da00-ed2c-4ef0-9660-9ed4bd5091bd\",\"type\":\"HelpTool\"},{\"attributes\":{\"plot\":{\"id\":\"760fde1f-e998-4cb8-8a13-5fc4e0f114b3\",\"subtype\":\"Chart\",\"type\":\"Plot\"}},\"id\":\"835aa93d-18e3-4b85-b899-cc596483a538\",\"type\":\"ResetTool\"},{\"attributes\":{},\"id\":\"921d3856-132d-46c9-a15f-299772cfbdc0\",\"type\":\"ToolEvents\"},{\"attributes\":{\"plot\":{\"id\":\"760fde1f-e998-4cb8-8a13-5fc4e0f114b3\",\"subtype\":\"Chart\",\"type\":\"Plot\"}},\"id\":\"f10f41cc-35c8-4525-b7dd-ccd741d53d43\",\"type\":\"SaveTool\"},{\"attributes\":{\"fill_alpha\":{\"field\":\"fill_alpha\"},\"fill_color\":{\"field\":\"color\"},\"height\":{\"field\":\"height\",\"units\":\"data\"},\"line_color\":{\"field\":\"line_color\"},\"width\":{\"field\":\"width\",\"units\":\"data\"},\"x\":{\"field\":\"x\"},\"y\":{\"field\":\"y\"}},\"id\":\"aee4731f-6255-45ac-abe7-52bb4d2213ae\",\"type\":\"Rect\"},{\"attributes\":{\"fill_alpha\":{\"field\":\"fill_alpha\"},\"fill_color\":{\"field\":\"color\"},\"height\":{\"field\":\"height\",\"units\":\"data\"},\"line_color\":{\"field\":\"line_color\"},\"width\":{\"field\":\"width\",\"units\":\"data\"},\"x\":{\"field\":\"x\"},\"y\":{\"field\":\"y\"}},\"id\":\"a1c12cd3-393d-4e57-95de-7a703ee49cf5\",\"type\":\"Rect\"},{\"attributes\":{\"callback\":null,\"column_names\":[\"x\",\"y\",\"width\",\"height\",\"color\",\"fill_alpha\",\"line_color\",\"line_alpha\",\"label\"],\"data\":{\"chart_index\":[\"(54.266667, 55.253333]\"],\"color\":[\"#f22c40\"],\"fill_alpha\":[0.8],\"height\":[0.0],\"label\":[\"(54.266667, 55.253333]\"],\"line_alpha\":[1.0],\"line_color\":[\"black\"],\"width\":[0.9866666666666717],\"x\":[\"54.76\"],\"y\":[0.0]}},\"id\":\"b4c85022-2495-4b94-9da4-2b0de6fd376e\",\"type\":\"ColumnDataSource\"},{\"attributes\":{\"callback\":null,\"column_names\":[\"x\",\"y\",\"width\",\"height\",\"color\",\"fill_alpha\",\"line_color\",\"line_alpha\",\"label\"],\"data\":{\"chart_index\":[\"(55.253333, 56.240000]\"],\"color\":[\"#f22c40\"],\"fill_alpha\":[0.8],\"height\":[1.0],\"label\":[\"(55.253333, 56.240000]\"],\"line_alpha\":[1.0],\"line_color\":[\"black\"],\"width\":[0.9866666666666646],\"x\":[\"55.7466665\"],\"y\":[0.5]}},\"id\":\"1a63e8a7-7cbe-4bad-bf18-332903f9ba69\",\"type\":\"ColumnDataSource\"},{\"attributes\":{\"callback\":null,\"column_names\":[\"x\",\"y\",\"width\",\"height\",\"color\",\"fill_alpha\",\"line_color\",\"line_alpha\",\"label\"],\"data\":{\"chart_index\":[\"(62.160000, 63.146667]\"],\"color\":[\"#f22c40\"],\"fill_alpha\":[0.8],\"height\":[0.0],\"label\":[\"(62.160000, 63.146667]\"],\"line_alpha\":[1.0],\"line_color\":[\"black\"],\"width\":[0.9866666666666646],\"x\":[\"62.6533335\"],\"y\":[0.0]}},\"id\":\"520adc99-499f-43d6-888b-c1afeeae93e9\",\"type\":\"ColumnDataSource\"},{\"attributes\":{\"fill_alpha\":{\"field\":\"fill_alpha\"},\"fill_color\":{\"field\":\"color\"},\"height\":{\"field\":\"height\",\"units\":\"data\"},\"line_color\":{\"field\":\"line_color\"},\"width\":{\"field\":\"width\",\"units\":\"data\"},\"x\":{\"field\":\"x\"},\"y\":{\"field\":\"y\"}},\"id\":\"0e9ead94-1fbd-4ac3-a278-aff56aef139a\",\"type\":\"Rect\"},{\"attributes\":{\"data_source\":{\"id\":\"b4c85022-2495-4b94-9da4-2b0de6fd376e\",\"type\":\"ColumnDataSource\"},\"glyph\":{\"id\":\"a1c12cd3-393d-4e57-95de-7a703ee49cf5\",\"type\":\"Rect\"},\"hover_glyph\":null,\"muted_glyph\":null},\"id\":\"18bb2658-53e4-4ec2-ad31-e036e0cb26cf\",\"type\":\"GlyphRenderer\"},{\"attributes\":{\"fill_alpha\":{\"field\":\"fill_alpha\"},\"fill_color\":{\"field\":\"color\"},\"height\":{\"field\":\"height\",\"units\":\"data\"},\"line_color\":{\"field\":\"line_color\"},\"width\":{\"field\":\"width\",\"units\":\"data\"},\"x\":{\"field\":\"x\"},\"y\":{\"field\":\"y\"}},\"id\":\"fcf8695a-d72f-4acc-b4dd-feb822b13a29\",\"type\":\"Rect\"},{\"attributes\":{\"callback\":null,\"column_names\":[\"x\",\"y\",\"width\",\"height\",\"color\",\"fill_alpha\",\"line_color\",\"line_alpha\",\"label\"],\"data\":{\"chart_index\":[\"(56.240000, 57.226667]\"],\"color\":[\"#f22c40\"],\"fill_alpha\":[0.8],\"height\":[0.0],\"label\":[\"(56.240000, 57.226667]\"],\"line_alpha\":[1.0],\"line_color\":[\"black\"],\"width\":[0.9866666666666646],\"x\":[\"56.7333335\"],\"y\":[0.0]}},\"id\":\"3369ecb7-0264-403d-b6df-fbbf583bb284\",\"type\":\"ColumnDataSource\"},{\"attributes\":{\"data_source\":{\"id\":\"715a2403-a6b0-4fb7-99f2-6e8a2dcc0064\",\"type\":\"ColumnDataSource\"},\"glyph\":{\"id\":\"e35aae73-801e-4701-b6cb-d32aa449f0c5\",\"type\":\"Rect\"},\"hover_glyph\":null,\"muted_glyph\":null},\"id\":\"f55c3e32-4fb1-4fe4-a9e0-768ab53a55e2\",\"type\":\"GlyphRenderer\"},{\"attributes\":{\"fill_alpha\":{\"field\":\"fill_alpha\"},\"fill_color\":{\"field\":\"color\"},\"height\":{\"field\":\"height\",\"units\":\"data\"},\"line_color\":{\"field\":\"line_color\"},\"width\":{\"field\":\"width\",\"units\":\"data\"},\"x\":{\"field\":\"x\"},\"y\":{\"field\":\"y\"}},\"id\":\"000fc8d2-c997-4bbf-a18a-1a4369302d59\",\"type\":\"Rect\"},{\"attributes\":{\"data_source\":{\"id\":\"1a63e8a7-7cbe-4bad-bf18-332903f9ba69\",\"type\":\"ColumnDataSource\"},\"glyph\":{\"id\":\"aee4731f-6255-45ac-abe7-52bb4d2213ae\",\"type\":\"Rect\"},\"hover_glyph\":null,\"muted_glyph\":null},\"id\":\"cd1770eb-759a-4541-8e42-36f47f4be999\",\"type\":\"GlyphRenderer\"},{\"attributes\":{\"fill_alpha\":{\"field\":\"fill_alpha\"},\"fill_color\":{\"field\":\"color\"},\"height\":{\"field\":\"height\",\"units\":\"data\"},\"line_color\":{\"field\":\"line_color\"},\"width\":{\"field\":\"width\",\"units\":\"data\"},\"x\":{\"field\":\"x\"},\"y\":{\"field\":\"y\"}},\"id\":\"0315446c-ab22-4c50-a148-84c45a80ef5b\",\"type\":\"Rect\"},{\"attributes\":{\"fill_alpha\":{\"field\":\"fill_alpha\"},\"fill_color\":{\"field\":\"color\"},\"height\":{\"field\":\"height\",\"units\":\"data\"},\"line_color\":{\"field\":\"line_color\"},\"width\":{\"field\":\"width\",\"units\":\"data\"},\"x\":{\"field\":\"x\"},\"y\":{\"field\":\"y\"}},\"id\":\"2e8b0b78-9304-4b2c-b2e2-922002f339a8\",\"type\":\"Rect\"},{\"attributes\":{\"data_source\":{\"id\":\"3369ecb7-0264-403d-b6df-fbbf583bb284\",\"type\":\"ColumnDataSource\"},\"glyph\":{\"id\":\"fcf8695a-d72f-4acc-b4dd-feb822b13a29\",\"type\":\"Rect\"},\"hover_glyph\":null,\"muted_glyph\":null},\"id\":\"b4f9e7f8-bdb8-4e39-8abf-ce659142ab1b\",\"type\":\"GlyphRenderer\"},{\"attributes\":{\"callback\":null,\"column_names\":[\"x\",\"y\",\"width\",\"height\",\"color\",\"fill_alpha\",\"line_color\",\"line_alpha\",\"label\"],\"data\":{\"chart_index\":[\"(57.226667, 58.213333]\"],\"color\":[\"#f22c40\"],\"fill_alpha\":[0.8],\"height\":[0.0],\"label\":[\"(57.226667, 58.213333]\"],\"line_alpha\":[1.0],\"line_color\":[\"black\"],\"width\":[0.9866666666666717],\"x\":[\"57.72\"],\"y\":[0.0]}},\"id\":\"63b4a8f9-63c6-45eb-a762-20e49e09d791\",\"type\":\"ColumnDataSource\"},{\"attributes\":{\"fill_alpha\":{\"field\":\"fill_alpha\"},\"fill_color\":{\"field\":\"color\"},\"height\":{\"field\":\"height\",\"units\":\"data\"},\"line_color\":{\"field\":\"line_color\"},\"width\":{\"field\":\"width\",\"units\":\"data\"},\"x\":{\"field\":\"x\"},\"y\":{\"field\":\"y\"}},\"id\":\"dadcc429-6138-42cc-aace-d7ba9c853f36\",\"type\":\"Rect\"},{\"attributes\":{\"callback\":null,\"column_names\":[\"x\",\"y\",\"width\",\"height\",\"color\",\"fill_alpha\",\"line_color\",\"line_alpha\",\"label\"],\"data\":{\"chart_index\":[\"(58.213333, 59.200000]\"],\"color\":[\"#f22c40\"],\"fill_alpha\":[0.8],\"height\":[0.0],\"label\":[\"(58.213333, 59.200000]\"],\"line_alpha\":[1.0],\"line_color\":[\"black\"],\"width\":[0.9866666666666646],\"x\":[\"58.7066665\"],\"y\":[0.0]}},\"id\":\"46a3ec79-1552-4b9d-83a5-c10df084a64a\",\"type\":\"ColumnDataSource\"},{\"attributes\":{\"data_source\":{\"id\":\"63b4a8f9-63c6-45eb-a762-20e49e09d791\",\"type\":\"ColumnDataSource\"},\"glyph\":{\"id\":\"dadcc429-6138-42cc-aace-d7ba9c853f36\",\"type\":\"Rect\"},\"hover_glyph\":null,\"muted_glyph\":null},\"id\":\"17956916-8885-4836-82e1-608d65518159\",\"type\":\"GlyphRenderer\"},{\"attributes\":{\"callback\":null,\"column_names\":[\"x\",\"y\",\"width\",\"height\",\"color\",\"fill_alpha\",\"line_color\",\"line_alpha\",\"label\"],\"data\":{\"chart_index\":[\"(60.186667, 61.173333]\"],\"color\":[\"#f22c40\"],\"fill_alpha\":[0.8],\"height\":[0.0],\"label\":[\"(60.186667, 61.173333]\"],\"line_alpha\":[1.0],\"line_color\":[\"black\"],\"width\":[0.9866666666666646],\"x\":[\"60.68\"],\"y\":[0.0]}},\"id\":\"715a2403-a6b0-4fb7-99f2-6e8a2dcc0064\",\"type\":\"ColumnDataSource\"},{\"attributes\":{\"callback\":null,\"column_names\":[\"x\",\"y\",\"width\",\"height\",\"color\",\"fill_alpha\",\"line_color\",\"line_alpha\",\"label\"],\"data\":{\"chart_index\":[\"(61.173333, 62.160000]\"],\"color\":[\"#f22c40\"],\"fill_alpha\":[0.8],\"height\":[0.0],\"label\":[\"(61.173333, 62.160000]\"],\"line_alpha\":[1.0],\"line_color\":[\"black\"],\"width\":[0.9866666666666717],\"x\":[\"61.6666665\"],\"y\":[0.0]}},\"id\":\"4cf6e055-8f1b-4766-9ecf-c06e239a7483\",\"type\":\"ColumnDataSource\"},{\"attributes\":{\"fill_alpha\":{\"field\":\"fill_alpha\"},\"fill_color\":{\"field\":\"color\"},\"height\":{\"field\":\"height\",\"units\":\"data\"},\"line_color\":{\"field\":\"line_color\"},\"width\":{\"field\":\"width\",\"units\":\"data\"},\"x\":{\"field\":\"x\"},\"y\":{\"field\":\"y\"}},\"id\":\"e35aae73-801e-4701-b6cb-d32aa449f0c5\",\"type\":\"Rect\"},{\"attributes\":{\"data_source\":{\"id\":\"46a3ec79-1552-4b9d-83a5-c10df084a64a\",\"type\":\"ColumnDataSource\"},\"glyph\":{\"id\":\"0315446c-ab22-4c50-a148-84c45a80ef5b\",\"type\":\"Rect\"},\"hover_glyph\":null,\"muted_glyph\":null},\"id\":\"fffe60e3-1d09-4945-b737-87f28b68d8fb\",\"type\":\"GlyphRenderer\"},{\"attributes\":{\"data_source\":{\"id\":\"68d4fdfd-06c8-48c4-9368-3564b3457ad5\",\"type\":\"ColumnDataSource\"},\"glyph\":{\"id\":\"c56302fd-8e04-4b1c-9f81-8c77baf97610\",\"type\":\"Rect\"},\"hover_glyph\":null,\"muted_glyph\":null},\"id\":\"f7c32b5b-984d-4bb6-99da-ba15fe3dab25\",\"type\":\"GlyphRenderer\"},{\"attributes\":{\"fill_alpha\":{\"field\":\"fill_alpha\"},\"fill_color\":{\"field\":\"color\"},\"height\":{\"field\":\"height\",\"units\":\"data\"},\"line_color\":{\"field\":\"line_color\"},\"width\":{\"field\":\"width\",\"units\":\"data\"},\"x\":{\"field\":\"x\"},\"y\":{\"field\":\"y\"}},\"id\":\"bc9cad67-5852-4187-b8ef-3b5c15c64916\",\"type\":\"Rect\"},{\"attributes\":{\"data_source\":{\"id\":\"4cf6e055-8f1b-4766-9ecf-c06e239a7483\",\"type\":\"ColumnDataSource\"},\"glyph\":{\"id\":\"bc9cad67-5852-4187-b8ef-3b5c15c64916\",\"type\":\"Rect\"},\"hover_glyph\":null,\"muted_glyph\":null},\"id\":\"cade134c-ef80-4bed-a031-99ff9b96903c\",\"type\":\"GlyphRenderer\"},{\"attributes\":{\"callback\":null,\"column_names\":[\"x\",\"y\",\"width\",\"height\",\"color\",\"fill_alpha\",\"line_color\",\"line_alpha\",\"label\"],\"data\":{\"chart_index\":[\"(67.093333, 68.080000]\"],\"color\":[\"#f22c40\"],\"fill_alpha\":[0.8],\"height\":[0.0],\"label\":[\"(67.093333, 68.080000]\"],\"line_alpha\":[1.0],\"line_color\":[\"black\"],\"width\":[0.9866666666666646],\"x\":[\"67.5866665\"],\"y\":[0.0]}},\"id\":\"5caeb24d-e936-4c22-a0d4-ad5fb3d986c4\",\"type\":\"ColumnDataSource\"},{\"attributes\":{\"data_source\":{\"id\":\"5caeb24d-e936-4c22-a0d4-ad5fb3d986c4\",\"type\":\"ColumnDataSource\"},\"glyph\":{\"id\":\"000fc8d2-c997-4bbf-a18a-1a4369302d59\",\"type\":\"Rect\"},\"hover_glyph\":null,\"muted_glyph\":null},\"id\":\"f1abf456-4156-49b2-86b1-e11cf8275013\",\"type\":\"GlyphRenderer\"},{\"attributes\":{\"fill_alpha\":{\"field\":\"fill_alpha\"},\"fill_color\":{\"field\":\"color\"},\"height\":{\"field\":\"height\",\"units\":\"data\"},\"line_color\":{\"field\":\"line_color\"},\"width\":{\"field\":\"width\",\"units\":\"data\"},\"x\":{\"field\":\"x\"},\"y\":{\"field\":\"y\"}},\"id\":\"2ae1cbb2-243d-4055-8bde-ee66b605dcf3\",\"type\":\"Rect\"},{\"attributes\":{\"data_source\":{\"id\":\"520adc99-499f-43d6-888b-c1afeeae93e9\",\"type\":\"ColumnDataSource\"},\"glyph\":{\"id\":\"0e9ead94-1fbd-4ac3-a278-aff56aef139a\",\"type\":\"Rect\"},\"hover_glyph\":null,\"muted_glyph\":null},\"id\":\"1012ab90-326b-42d5-ab72-9e9715f7727f\",\"type\":\"GlyphRenderer\"},{\"attributes\":{\"callback\":null,\"column_names\":[\"x\",\"y\",\"width\",\"height\",\"color\",\"fill_alpha\",\"line_color\",\"line_alpha\",\"label\"],\"data\":{\"chart_index\":[\"(63.146667, 64.133333]\"],\"color\":[\"#f22c40\"],\"fill_alpha\":[0.8],\"height\":[0.0],\"label\":[\"(63.146667, 64.133333]\"],\"line_alpha\":[1.0],\"line_color\":[\"black\"],\"width\":[0.9866666666666717],\"x\":[\"63.64\"],\"y\":[0.0]}},\"id\":\"52148b9a-1d4c-48a9-9fe7-f2c18984bf98\",\"type\":\"ColumnDataSource\"},{\"attributes\":{\"fill_alpha\":{\"field\":\"fill_alpha\"},\"fill_color\":{\"field\":\"color\"},\"height\":{\"field\":\"height\",\"units\":\"data\"},\"line_color\":{\"field\":\"line_color\"},\"width\":{\"field\":\"width\",\"units\":\"data\"},\"x\":{\"field\":\"x\"},\"y\":{\"field\":\"y\"}},\"id\":\"55a45e2f-4782-4067-8071-82631597d617\",\"type\":\"Rect\"},{\"attributes\":{\"fill_alpha\":{\"field\":\"fill_alpha\"},\"fill_color\":{\"field\":\"color\"},\"height\":{\"field\":\"height\",\"units\":\"data\"},\"line_color\":{\"field\":\"line_color\"},\"width\":{\"field\":\"width\",\"units\":\"data\"},\"x\":{\"field\":\"x\"},\"y\":{\"field\":\"y\"}},\"id\":\"150065f8-36ee-4b9a-b34f-4a4aee3a7a2a\",\"type\":\"Rect\"},{\"attributes\":{\"data_source\":{\"id\":\"52148b9a-1d4c-48a9-9fe7-f2c18984bf98\",\"type\":\"ColumnDataSource\"},\"glyph\":{\"id\":\"55a45e2f-4782-4067-8071-82631597d617\",\"type\":\"Rect\"},\"hover_glyph\":null,\"muted_glyph\":null},\"id\":\"2d3192ab-32a3-4ba0-93ee-358cda35190f\",\"type\":\"GlyphRenderer\"}],\"root_ids\":[\"760fde1f-e998-4cb8-8a13-5fc4e0f114b3\"]},\"title\":\"Bokeh Application\",\"version\":\"0.12.5\"}};\n",
       "            var render_items = [{\"docid\":\"79ec7b64-3091-4e82-b04f-640f628ba7e2\",\"elementid\":\"f49b07b6-ddfc-461a-bcbc-54615ed8b7da\",\"modelid\":\"760fde1f-e998-4cb8-8a13-5fc4e0f114b3\"}];\n",
       "            \n",
       "            Bokeh.embed.embed_items(docs_json, render_items);\n",
       "          };\n",
       "          if (document.readyState != \"loading\") fn();\n",
       "          else document.addEventListener(\"DOMContentLoaded\", fn);\n",
       "        })();\n",
       "      },\n",
       "      function(Bokeh) {\n",
       "      }\n",
       "    ];\n",
       "  \n",
       "    function run_inline_js() {\n",
       "      \n",
       "      if ((window.Bokeh !== undefined) || (force === true)) {\n",
       "        for (var i = 0; i < inline_js.length; i++) {\n",
       "          inline_js[i](window.Bokeh);\n",
       "        }if (force === true) {\n",
       "          display_loaded();\n",
       "        }} else if (Date.now() < window._bokeh_timeout) {\n",
       "        setTimeout(run_inline_js, 100);\n",
       "      } else if (!window._bokeh_failed_load) {\n",
       "        console.log(\"Bokeh: BokehJS failed to load within specified timeout.\");\n",
       "        window._bokeh_failed_load = true;\n",
       "      } else if (force !== true) {\n",
       "        var cell = $(document.getElementById(\"f49b07b6-ddfc-461a-bcbc-54615ed8b7da\")).parents('.cell').data().cell;\n",
       "        cell.output_area.append_execute_result(NB_LOAD_WARNING)\n",
       "      }\n",
       "  \n",
       "    }\n",
       "  \n",
       "    if (window._bokeh_is_loading === 0) {\n",
       "      console.log(\"Bokeh: BokehJS loaded, going straight to plotting\");\n",
       "      run_inline_js();\n",
       "    } else {\n",
       "      load_libs(js_urls, function() {\n",
       "        console.log(\"Bokeh: BokehJS plotting callback run at\", now());\n",
       "        run_inline_js();\n",
       "      });\n",
       "    }\n",
       "  }(this));\n",
       "</script>"
      ]
     },
     "metadata": {},
     "output_type": "display_data"
    }
   ],
   "source": [
    "p1 = Histogram( locations_and_partners, 'recipient-country-count', \n",
    "        title = \"Histogram of Recipient Country Counts\", bins=150)\n",
    "\n",
    "show(p1)"
   ]
  },
  {
   "cell_type": "code",
   "execution_count": 819,
   "metadata": {},
   "outputs": [
    {
     "data": {
      "text/plain": [
       "572"
      ]
     },
     "execution_count": 819,
     "metadata": {},
     "output_type": "execute_result"
    }
   ],
   "source": [
    "len(locations_and_partners[\n",
    "    (locations_and_partners['recipient-country-count'] == 0)])"
   ]
  },
  {
   "cell_type": "markdown",
   "metadata": {},
   "source": [
    "Here we can see that indeed, the vast majority of activities have one recipient country. However, 572 do not. \n",
    "\n",
    "These might have a recipient region associated, so let's see if there are any activities which have neither by filtering the above table to include only rows which have none of either:"
   ]
  },
  {
   "cell_type": "code",
   "execution_count": 820,
   "metadata": {},
   "outputs": [
    {
     "data": {
      "text/html": [
       "<div>\n",
       "<style>\n",
       "    .dataframe thead tr:only-child th {\n",
       "        text-align: right;\n",
       "    }\n",
       "\n",
       "    .dataframe thead th {\n",
       "        text-align: left;\n",
       "    }\n",
       "\n",
       "    .dataframe tbody tr th {\n",
       "        vertical-align: top;\n",
       "    }\n",
       "</style>\n",
       "<table border=\"1\" class=\"dataframe\">\n",
       "  <thead>\n",
       "    <tr style=\"text-align: right;\">\n",
       "      <th></th>\n",
       "      <th>iati-identifier</th>\n",
       "      <th>activity-status</th>\n",
       "      <th>recipient-country-count</th>\n",
       "      <th>recipient-region-count</th>\n",
       "      <th>participating-organisation-count</th>\n",
       "    </tr>\n",
       "  </thead>\n",
       "  <tbody>\n",
       "    <tr>\n",
       "      <th>146</th>\n",
       "      <td>CA-3-A033944001</td>\n",
       "      <td>2</td>\n",
       "      <td>0</td>\n",
       "      <td>0</td>\n",
       "      <td>3</td>\n",
       "    </tr>\n",
       "    <tr>\n",
       "      <th>856</th>\n",
       "      <td>CA-3-D002114001</td>\n",
       "      <td>3</td>\n",
       "      <td>0</td>\n",
       "      <td>0</td>\n",
       "      <td>3</td>\n",
       "    </tr>\n",
       "  </tbody>\n",
       "</table>\n",
       "</div>"
      ],
      "text/plain": [
       "     iati-identifier activity-status  recipient-country-count  \\\n",
       "146  CA-3-A033944001               2                        0   \n",
       "856  CA-3-D002114001               3                        0   \n",
       "\n",
       "     recipient-region-count  participating-organisation-count  \n",
       "146                       0                                 3  \n",
       "856                       0                                 3  "
      ]
     },
     "execution_count": 820,
     "metadata": {},
     "output_type": "execute_result"
    }
   ],
   "source": [
    "locations_and_partners[\n",
    "    (locations_and_partners['recipient-country-count'] == 0) & \n",
    "    (locations_and_partners['recipient-region-count'] == 0)].head()"
   ]
  },
  {
   "cell_type": "markdown",
   "metadata": {},
   "source": [
    "As we can see, there are in fact only two activities which have neither element.\n",
    "\n",
    "Let's also look at the activities which have a very high number of recipient countries:"
   ]
  },
  {
   "cell_type": "code",
   "execution_count": 821,
   "metadata": {},
   "outputs": [
    {
     "data": {
      "text/plain": [
       "371"
      ]
     },
     "execution_count": 821,
     "metadata": {},
     "output_type": "execute_result"
    }
   ],
   "source": [
    "len(locations_and_partners[locations_and_partners['recipient-country-count'] > 5])"
   ]
  },
  {
   "cell_type": "code",
   "execution_count": 822,
   "metadata": {},
   "outputs": [
    {
     "data": {
      "text/plain": [
       "181"
      ]
     },
     "execution_count": 822,
     "metadata": {},
     "output_type": "execute_result"
    }
   ],
   "source": [
    "len(locations_and_partners[locations_and_partners['recipient-country-count'] > 10])"
   ]
  },
  {
   "cell_type": "code",
   "execution_count": 823,
   "metadata": {},
   "outputs": [
    {
     "data": {
      "text/plain": [
       "25"
      ]
     },
     "execution_count": 823,
     "metadata": {},
     "output_type": "execute_result"
    }
   ],
   "source": [
    "len(locations_and_partners[locations_and_partners['recipient-country-count'] > 50])"
   ]
  },
  {
   "cell_type": "markdown",
   "metadata": {},
   "source": [
    "Although it is very possible that these activities are legitimately benefiting many countries each, this does make any kind of detailed analysis more difficult."
   ]
  },
  {
   "cell_type": "markdown",
   "metadata": {},
   "source": [
    "### Participating Organisations\n",
    "\n",
    "To look in more detail, let's create a new table of all of the participating organisation details:\n",
    "\n",
    "<div class=\"alert alert-warning\">\n",
    "Note the line below which begins `lambda x: `. This was used to filter out all of the narrative elements which contained a single space for a name i.e. \" \". Including empty names such as this instead of removing the narrative elements all together can be very misleading for data users or third party info systems which are trying to consume GAC data.\n",
    "</div>"
   ]
  },
  {
   "cell_type": "code",
   "execution_count": 824,
   "metadata": {},
   "outputs": [
    {
     "data": {
      "text/html": [
       "<div>\n",
       "<style>\n",
       "    .dataframe thead tr:only-child th {\n",
       "        text-align: right;\n",
       "    }\n",
       "\n",
       "    .dataframe thead th {\n",
       "        text-align: left;\n",
       "    }\n",
       "\n",
       "    .dataframe tbody tr th {\n",
       "        vertical-align: top;\n",
       "    }\n",
       "</style>\n",
       "<table border=\"1\" class=\"dataframe\">\n",
       "  <thead>\n",
       "    <tr style=\"text-align: right;\">\n",
       "      <th></th>\n",
       "      <th>iati-identifier</th>\n",
       "      <th>ref</th>\n",
       "      <th>name</th>\n",
       "      <th>type</th>\n",
       "      <th>role</th>\n",
       "    </tr>\n",
       "  </thead>\n",
       "  <tbody>\n",
       "    <tr>\n",
       "      <th>0</th>\n",
       "      <td>CA-3-A031268001</td>\n",
       "      <td>CA</td>\n",
       "      <td>Canada</td>\n",
       "      <td>10</td>\n",
       "      <td>1</td>\n",
       "    </tr>\n",
       "    <tr>\n",
       "      <th>1</th>\n",
       "      <td>CA-3-A031268001</td>\n",
       "      <td>CA-1</td>\n",
       "      <td>Canadian International Development Agency</td>\n",
       "      <td>10</td>\n",
       "      <td>3</td>\n",
       "    </tr>\n",
       "    <tr>\n",
       "      <th>2</th>\n",
       "      <td>CA-3-A031268001</td>\n",
       "      <td>None</td>\n",
       "      <td>Public Works and Government Services Canada - ...</td>\n",
       "      <td>10</td>\n",
       "      <td>4</td>\n",
       "    </tr>\n",
       "    <tr>\n",
       "      <th>3</th>\n",
       "      <td>CA-3-A031470001</td>\n",
       "      <td>CA</td>\n",
       "      <td>Canada</td>\n",
       "      <td>10</td>\n",
       "      <td>1</td>\n",
       "    </tr>\n",
       "    <tr>\n",
       "      <th>4</th>\n",
       "      <td>CA-3-A031470001</td>\n",
       "      <td>CA-1</td>\n",
       "      <td>Canadian International Development Agency</td>\n",
       "      <td>10</td>\n",
       "      <td>3</td>\n",
       "    </tr>\n",
       "    <tr>\n",
       "      <th>5</th>\n",
       "      <td>CA-3-A031470001</td>\n",
       "      <td>None</td>\n",
       "      <td>Sagem Sécurité</td>\n",
       "      <td>70</td>\n",
       "      <td>4</td>\n",
       "    </tr>\n",
       "    <tr>\n",
       "      <th>6</th>\n",
       "      <td>CA-3-A031708001</td>\n",
       "      <td>CA</td>\n",
       "      <td>Canada</td>\n",
       "      <td>10</td>\n",
       "      <td>1</td>\n",
       "    </tr>\n",
       "    <tr>\n",
       "      <th>7</th>\n",
       "      <td>CA-3-A031708001</td>\n",
       "      <td>CA-1</td>\n",
       "      <td>Canadian International Development Agency</td>\n",
       "      <td>10</td>\n",
       "      <td>3</td>\n",
       "    </tr>\n",
       "    <tr>\n",
       "      <th>8</th>\n",
       "      <td>CA-3-A031708001</td>\n",
       "      <td>None</td>\n",
       "      <td>None</td>\n",
       "      <td>None</td>\n",
       "      <td>4</td>\n",
       "    </tr>\n",
       "    <tr>\n",
       "      <th>9</th>\n",
       "      <td>CA-3-A031708003</td>\n",
       "      <td>CA</td>\n",
       "      <td>Canada</td>\n",
       "      <td>10</td>\n",
       "      <td>1</td>\n",
       "    </tr>\n",
       "  </tbody>\n",
       "</table>\n",
       "</div>"
      ],
      "text/plain": [
       "   iati-identifier   ref                                               name  \\\n",
       "0  CA-3-A031268001    CA                                             Canada   \n",
       "1  CA-3-A031268001  CA-1          Canadian International Development Agency   \n",
       "2  CA-3-A031268001  None  Public Works and Government Services Canada - ...   \n",
       "3  CA-3-A031470001    CA                                             Canada   \n",
       "4  CA-3-A031470001  CA-1          Canadian International Development Agency   \n",
       "5  CA-3-A031470001  None                                    Sagem Sécurité    \n",
       "6  CA-3-A031708001    CA                                             Canada   \n",
       "7  CA-3-A031708001  CA-1          Canadian International Development Agency   \n",
       "8  CA-3-A031708001  None                                               None   \n",
       "9  CA-3-A031708003    CA                                             Canada   \n",
       "\n",
       "   type role  \n",
       "0    10    1  \n",
       "1    10    3  \n",
       "2    10    4  \n",
       "3    10    1  \n",
       "4    10    3  \n",
       "5    70    4  \n",
       "6    10    1  \n",
       "7    10    3  \n",
       "8  None    4  \n",
       "9    10    1  "
      ]
     },
     "execution_count": 824,
     "metadata": {},
     "output_type": "execute_result"
    }
   ],
   "source": [
    "detailed_participating_orgs_country_count = pd.DataFrame(\n",
    "    columns=['iati-identifier','recipient-country-count', 'ref', 'name', 'type', 'role'],\n",
    "    data=[[\n",
    "        participating_org.getparent().find('iati-identifier').text,\n",
    "        len([country.get('code') for country in participating_org.getparent().findall('recipient-country')]),\n",
    "        participating_org.get('ref'),\n",
    "        (lambda x: None if x == \" \" else x)(participating_org.find('narrative').text),\n",
    "        participating_org.get('type'),\n",
    "        participating_org.get('role')\n",
    "    ]\n",
    "          for participating_org in big_iati.findall(\n",
    "              'iati-activity/participating-org')])\n",
    "\n",
    "detailed_participating_orgs_country_count.to_excel(pd_writer, \"Participating Organisations\")\n",
    "\n",
    "detailed_participating_orgs = detailed_participating_orgs_country_count.drop('recipient-country-count', axis=1)\n",
    "\n",
    "detailed_participating_orgs.head(10)"
   ]
  },
  {
   "cell_type": "markdown",
   "metadata": {},
   "source": [
    "Again, looking at the first five rows, this table isn't particularly informative, and we know that currently a row row for each activity. To give a clearer picture, let's reformat this table to show the number of `reporting-org` elements given, broken down by the organisation role, and then type."
   ]
  },
  {
   "cell_type": "code",
   "execution_count": 825,
   "metadata": {
    "scrolled": false
   },
   "outputs": [
    {
     "data": {
      "text/html": [
       "<div>\n",
       "<style>\n",
       "    .dataframe thead tr:only-child th {\n",
       "        text-align: right;\n",
       "    }\n",
       "\n",
       "    .dataframe thead th {\n",
       "        text-align: left;\n",
       "    }\n",
       "\n",
       "    .dataframe tbody tr th {\n",
       "        vertical-align: top;\n",
       "    }\n",
       "</style>\n",
       "<table border=\"1\" class=\"dataframe\">\n",
       "  <thead>\n",
       "    <tr style=\"text-align: right;\">\n",
       "      <th></th>\n",
       "      <th></th>\n",
       "      <th>iati-identifier</th>\n",
       "      <th>name</th>\n",
       "      <th>ref</th>\n",
       "    </tr>\n",
       "    <tr>\n",
       "      <th>role</th>\n",
       "      <th>type</th>\n",
       "      <th></th>\n",
       "      <th></th>\n",
       "      <th></th>\n",
       "    </tr>\n",
       "  </thead>\n",
       "  <tbody>\n",
       "    <tr>\n",
       "      <th>1</th>\n",
       "      <th>10</th>\n",
       "      <td>3961</td>\n",
       "      <td>3961</td>\n",
       "      <td>3961</td>\n",
       "    </tr>\n",
       "    <tr>\n",
       "      <th>3</th>\n",
       "      <th>10</th>\n",
       "      <td>3961</td>\n",
       "      <td>3961</td>\n",
       "      <td>3961</td>\n",
       "    </tr>\n",
       "    <tr>\n",
       "      <th rowspan=\"6\" valign=\"top\">4</th>\n",
       "      <th>10</th>\n",
       "      <td>446</td>\n",
       "      <td>444</td>\n",
       "      <td>63</td>\n",
       "    </tr>\n",
       "    <tr>\n",
       "      <th>21</th>\n",
       "      <td>455</td>\n",
       "      <td>453</td>\n",
       "      <td>375</td>\n",
       "    </tr>\n",
       "    <tr>\n",
       "      <th>22</th>\n",
       "      <td>1225</td>\n",
       "      <td>1225</td>\n",
       "      <td>1049</td>\n",
       "    </tr>\n",
       "    <tr>\n",
       "      <th>30</th>\n",
       "      <td>6</td>\n",
       "      <td>6</td>\n",
       "      <td>4</td>\n",
       "    </tr>\n",
       "    <tr>\n",
       "      <th>40</th>\n",
       "      <td>1405</td>\n",
       "      <td>1405</td>\n",
       "      <td>1234</td>\n",
       "    </tr>\n",
       "    <tr>\n",
       "      <th>70</th>\n",
       "      <td>135</td>\n",
       "      <td>128</td>\n",
       "      <td>116</td>\n",
       "    </tr>\n",
       "  </tbody>\n",
       "</table>\n",
       "</div>"
      ],
      "text/plain": [
       "           iati-identifier  name   ref\n",
       "role type                             \n",
       "1    10               3961  3961  3961\n",
       "3    10               3961  3961  3961\n",
       "4    10                446   444    63\n",
       "     21                455   453   375\n",
       "     22               1225  1225  1049\n",
       "     30                  6     6     4\n",
       "     40               1405  1405  1234\n",
       "     70                135   128   116"
      ]
     },
     "execution_count": 825,
     "metadata": {},
     "output_type": "execute_result"
    }
   ],
   "source": [
    "detailed_participating_orgs.pivot_table(\n",
    "    index=['role', 'type'], aggfunc='count')"
   ]
  },
  {
   "cell_type": "markdown",
   "metadata": {},
   "source": [
    "For every `participating-org` given a role of either Funding or Extending, all of the fields have been provided.\n",
    "\n",
    "Because there are more types of organisation which have played an 'Implementing' role, let's collapse them down:"
   ]
  },
  {
   "cell_type": "code",
   "execution_count": 826,
   "metadata": {
    "scrolled": true
   },
   "outputs": [
    {
     "data": {
      "text/html": [
       "<div>\n",
       "<style>\n",
       "    .dataframe thead tr:only-child th {\n",
       "        text-align: right;\n",
       "    }\n",
       "\n",
       "    .dataframe thead th {\n",
       "        text-align: left;\n",
       "    }\n",
       "\n",
       "    .dataframe tbody tr th {\n",
       "        vertical-align: top;\n",
       "    }\n",
       "</style>\n",
       "<table border=\"1\" class=\"dataframe\">\n",
       "  <thead>\n",
       "    <tr style=\"text-align: right;\">\n",
       "      <th></th>\n",
       "      <th>iati-identifier</th>\n",
       "      <th>name</th>\n",
       "      <th>ref</th>\n",
       "      <th>type</th>\n",
       "    </tr>\n",
       "    <tr>\n",
       "      <th>role</th>\n",
       "      <th></th>\n",
       "      <th></th>\n",
       "      <th></th>\n",
       "      <th></th>\n",
       "    </tr>\n",
       "  </thead>\n",
       "  <tbody>\n",
       "    <tr>\n",
       "      <th>1</th>\n",
       "      <td>3961</td>\n",
       "      <td>3961</td>\n",
       "      <td>3961</td>\n",
       "      <td>3961</td>\n",
       "    </tr>\n",
       "    <tr>\n",
       "      <th>3</th>\n",
       "      <td>3961</td>\n",
       "      <td>3961</td>\n",
       "      <td>3961</td>\n",
       "      <td>3961</td>\n",
       "    </tr>\n",
       "    <tr>\n",
       "      <th>4</th>\n",
       "      <td>3961</td>\n",
       "      <td>3849</td>\n",
       "      <td>2985</td>\n",
       "      <td>3672</td>\n",
       "    </tr>\n",
       "  </tbody>\n",
       "</table>\n",
       "</div>"
      ],
      "text/plain": [
       "      iati-identifier  name   ref  type\n",
       "role                                   \n",
       "1                3961  3961  3961  3961\n",
       "3                3961  3961  3961  3961\n",
       "4                3961  3849  2985  3672"
      ]
     },
     "execution_count": 826,
     "metadata": {},
     "output_type": "execute_result"
    }
   ],
   "source": [
    "detailed_participating_orgs.pivot_table(index=['role'], aggfunc='count')"
   ]
  },
  {
   "cell_type": "markdown",
   "metadata": {},
   "source": [
    "Looking at the 'ref' and 'type' values for the bottom row, it can be seen that 112 (2.82%) Implementing organisation declarations have no name (or rather, have a name of \" \"), 976 (24.64%) no identifying reference, and 289 (7.30%) have no type declared. The identifiers for these activities can be found by filtering the 'Participating Organisations' tab of Appendix 1.\n",
    "\n",
    "Now filtering only to include activities which include at least one recipient country:"
   ]
  },
  {
   "cell_type": "code",
   "execution_count": 827,
   "metadata": {},
   "outputs": [
    {
     "data": {
      "text/html": [
       "<div>\n",
       "<style>\n",
       "    .dataframe thead tr:only-child th {\n",
       "        text-align: right;\n",
       "    }\n",
       "\n",
       "    .dataframe thead th {\n",
       "        text-align: left;\n",
       "    }\n",
       "\n",
       "    .dataframe tbody tr th {\n",
       "        vertical-align: top;\n",
       "    }\n",
       "</style>\n",
       "<table border=\"1\" class=\"dataframe\">\n",
       "  <thead>\n",
       "    <tr style=\"text-align: right;\">\n",
       "      <th></th>\n",
       "      <th>iati-identifier</th>\n",
       "      <th>name</th>\n",
       "      <th>ref</th>\n",
       "      <th>type</th>\n",
       "    </tr>\n",
       "    <tr>\n",
       "      <th>role</th>\n",
       "      <th></th>\n",
       "      <th></th>\n",
       "      <th></th>\n",
       "      <th></th>\n",
       "    </tr>\n",
       "  </thead>\n",
       "  <tbody>\n",
       "    <tr>\n",
       "      <th>1</th>\n",
       "      <td>3389</td>\n",
       "      <td>3389</td>\n",
       "      <td>3389</td>\n",
       "      <td>3389</td>\n",
       "    </tr>\n",
       "    <tr>\n",
       "      <th>3</th>\n",
       "      <td>3389</td>\n",
       "      <td>3389</td>\n",
       "      <td>3389</td>\n",
       "      <td>3389</td>\n",
       "    </tr>\n",
       "    <tr>\n",
       "      <th>4</th>\n",
       "      <td>3389</td>\n",
       "      <td>3286</td>\n",
       "      <td>2522</td>\n",
       "      <td>3147</td>\n",
       "    </tr>\n",
       "  </tbody>\n",
       "</table>\n",
       "</div>"
      ],
      "text/plain": [
       "      iati-identifier  name   ref  type\n",
       "role                                   \n",
       "1                3389  3389  3389  3389\n",
       "3                3389  3389  3389  3389\n",
       "4                3389  3286  2522  3147"
      ]
     },
     "execution_count": 827,
     "metadata": {},
     "output_type": "execute_result"
    }
   ],
   "source": [
    "detailed_participating_orgs_country_count[\n",
    "    detailed_participating_orgs_country_count['recipient-country-count'] >\n",
    "    0].drop('recipient-country-count', axis=1).pivot_table(\n",
    "        index=['role'], aggfunc='count', )"
   ]
  },
  {
   "cell_type": "markdown",
   "metadata": {},
   "source": [
    "## Use Case 2: Identifying Local Partners (Deliverable 3.1.2)\n",
    "\n",
    "### Use Case\n",
    "\n",
    "_Identify local partners by relating the project’s implementing Organisation Identifier and the beneficiary country_\n",
    "\n",
    "The aim of this section is to analyse the structure of the IATI activities and their fields to assess the feasibility of this kind of inference.\n",
    "\n",
    "### Existence of Required Fields\n",
    "\n",
    "The most obvious impediment to this inference is the lack of either a recipient country code, or an implementing organisation's reference. "
   ]
  },
  {
   "cell_type": "code",
   "execution_count": 828,
   "metadata": {},
   "outputs": [
    {
     "name": "stdout",
     "output_type": "stream",
     "text": [
      "Generated Text: \n",
      "\n",
      "Of the the 3961 activities published, 572 (14.44%) do not include a recipient country.\n",
      "\n",
      "All of the 3961 activities analysed include an implementing organisation.\n",
      "Of those however, 976 (24.64%) of them do not include a reference.\n",
      "\n",
      "Of the 1548 activities identified in the above procedures, 1439 (36.33% of the all activities) are unique.\n"
     ]
    }
   ],
   "source": [
    "implementers_without_ref = big_iati.xpath(\n",
    "    \"iati-activity[participating-org[@role='4' and not(@ref)]]\")\n",
    "\n",
    "activities_without_country = big_iati.xpath(\n",
    "    \"iati-activity[not(recipient-country)]\")\n",
    "\n",
    "total_non_inference = implementers_without_ref + activities_without_country\n",
    "\n",
    "print(\n",
    "    \"Generated Text: \\n\\nOf the the {} activities published, {} ({:.2%}) do not include a recipient country.\\n\"\n",
    "    .format(\n",
    "        len(big_iati), len(activities_without_country),\n",
    "        (len(activities_without_country) / len(big_iati))))\n",
    "\n",
    "print(\n",
    "    \"All of the {} activities analysed include an implementing organisation.\\n\"\n",
    "    \"Of those however, {} ({:.2%}) of them do not include a reference.\\n\"\n",
    "    .format(\n",
    "        len(big_iati), len(implementers_without_ref),\n",
    "        (len(implementers_without_ref) / len(big_iati))))\n",
    "\n",
    "print(\n",
    "    \"Of the {} activities identified in the above procedures, {} ({:.2%} of the all activities) are unique.\"\n",
    "    .format(\n",
    "        len(total_non_inference), len(set(total_non_inference)),\n",
    "        len(set(total_non_inference)) / len(big_iati)))"
   ]
  },
  {
   "cell_type": "markdown",
   "metadata": {},
   "source": [
    "It follows from this that for 36.33% of activities, the above reference cannot be made by looking at machine readable data (available on codelists or referring directly to identifiers), and for 14.44% it would be very difficult to make this inference, as there would be no recipient country, only a region."
   ]
  },
  {
   "cell_type": "markdown",
   "metadata": {},
   "source": [
    "### How the Required Fields are Related\n",
    "\n",
    "Another way of assessing the possibility of this inference is to look structurally at the way these elements are used together. To begin with we make a table of all of the recipient countries declared in activities, along with the corresponding implementing organisation information published in their parent activity. "
   ]
  },
  {
   "cell_type": "markdown",
   "metadata": {},
   "source": [
    "Every row in the table below corresponds to a single declaration of a recipient country, so there is a lot of duplication of activity identifiers and implementing organisations, but this is necessary for subsequent analysis.\n",
    "\n",
    "Again, here are the first five rows:"
   ]
  },
  {
   "cell_type": "code",
   "execution_count": 829,
   "metadata": {},
   "outputs": [
    {
     "data": {
      "text/html": [
       "<div>\n",
       "<style>\n",
       "    .dataframe thead tr:only-child th {\n",
       "        text-align: right;\n",
       "    }\n",
       "\n",
       "    .dataframe thead th {\n",
       "        text-align: left;\n",
       "    }\n",
       "\n",
       "    .dataframe tbody tr th {\n",
       "        vertical-align: top;\n",
       "    }\n",
       "</style>\n",
       "<table border=\"1\" class=\"dataframe\">\n",
       "  <thead>\n",
       "    <tr style=\"text-align: right;\">\n",
       "      <th></th>\n",
       "      <th>iati-identifier</th>\n",
       "      <th>implementing-org-name</th>\n",
       "      <th>implementing-org-ref</th>\n",
       "      <th>recipient-country-code</th>\n",
       "    </tr>\n",
       "  </thead>\n",
       "  <tbody>\n",
       "    <tr>\n",
       "      <th>0</th>\n",
       "      <td>CA-3-A031268001</td>\n",
       "      <td>Public Works and Government Services Canada - ...</td>\n",
       "      <td>None</td>\n",
       "      <td>AG</td>\n",
       "    </tr>\n",
       "    <tr>\n",
       "      <th>1</th>\n",
       "      <td>CA-3-A031268001</td>\n",
       "      <td>Public Works and Government Services Canada - ...</td>\n",
       "      <td>None</td>\n",
       "      <td>AI</td>\n",
       "    </tr>\n",
       "    <tr>\n",
       "      <th>2</th>\n",
       "      <td>CA-3-A031268001</td>\n",
       "      <td>Public Works and Government Services Canada - ...</td>\n",
       "      <td>None</td>\n",
       "      <td>BZ</td>\n",
       "    </tr>\n",
       "    <tr>\n",
       "      <th>3</th>\n",
       "      <td>CA-3-A031268001</td>\n",
       "      <td>Public Works and Government Services Canada - ...</td>\n",
       "      <td>None</td>\n",
       "      <td>DM</td>\n",
       "    </tr>\n",
       "    <tr>\n",
       "      <th>4</th>\n",
       "      <td>CA-3-A031268001</td>\n",
       "      <td>Public Works and Government Services Canada - ...</td>\n",
       "      <td>None</td>\n",
       "      <td>GD</td>\n",
       "    </tr>\n",
       "  </tbody>\n",
       "</table>\n",
       "</div>"
      ],
      "text/plain": [
       "   iati-identifier                              implementing-org-name  \\\n",
       "0  CA-3-A031268001  Public Works and Government Services Canada - ...   \n",
       "1  CA-3-A031268001  Public Works and Government Services Canada - ...   \n",
       "2  CA-3-A031268001  Public Works and Government Services Canada - ...   \n",
       "3  CA-3-A031268001  Public Works and Government Services Canada - ...   \n",
       "4  CA-3-A031268001  Public Works and Government Services Canada - ...   \n",
       "\n",
       "  implementing-org-ref recipient-country-code  \n",
       "0                 None                     AG  \n",
       "1                 None                     AI  \n",
       "2                 None                     BZ  \n",
       "3                 None                     DM  \n",
       "4                 None                     GD  "
      ]
     },
     "execution_count": 829,
     "metadata": {},
     "output_type": "execute_result"
    }
   ],
   "source": [
    "implementers_concise = pd.DataFrame(\n",
    "    columns=[\n",
    "        'iati-identifier', 'implementing-org-name', 'implementing-org-ref',\n",
    "        'recipient-country-code'\n",
    "    ],\n",
    "    data=[[\n",
    "        country.getparent().find('iati-identifier').text,\n",
    "        country.getparent().xpath(\"participating-org[@role='4']\")[0].find(\n",
    "            'narrative').text,\n",
    "        country.getparent().xpath(\"participating-org[@role='4']\")[0].get(\n",
    "            'ref'),\n",
    "        country.get('code')\n",
    "    ] for country in big_iati.findall('iati-activity/recipient-country')])\n",
    "\n",
    "implementers_concise.to_excel(pd_writer, 'Implementers by Recip. Country')\n",
    "\n",
    "implementers_concise.head()"
   ]
  },
  {
   "cell_type": "markdown",
   "metadata": {},
   "source": [
    "Again, on its own this table doesn't pain a clear picture, but we can manipulate it to see the number of activities, unique names, an unique countries associated with each `implementing-org`. This list is very long, but this time looking at the first five rows gives more insight:"
   ]
  },
  {
   "cell_type": "code",
   "execution_count": 830,
   "metadata": {
    "scrolled": true
   },
   "outputs": [
    {
     "data": {
      "text/html": [
       "<div>\n",
       "<style>\n",
       "    .dataframe thead tr:only-child th {\n",
       "        text-align: right;\n",
       "    }\n",
       "\n",
       "    .dataframe thead th {\n",
       "        text-align: left;\n",
       "    }\n",
       "\n",
       "    .dataframe tbody tr th {\n",
       "        vertical-align: top;\n",
       "    }\n",
       "</style>\n",
       "<table border=\"1\" class=\"dataframe\">\n",
       "  <thead>\n",
       "    <tr style=\"text-align: right;\">\n",
       "      <th></th>\n",
       "      <th>unique-iati-identifier-count</th>\n",
       "      <th>unique-implementing-org-name-count</th>\n",
       "      <th>unique-recipient-country-code-count</th>\n",
       "    </tr>\n",
       "    <tr>\n",
       "      <th>implementing-org-ref</th>\n",
       "      <th></th>\n",
       "      <th></th>\n",
       "      <th></th>\n",
       "    </tr>\n",
       "  </thead>\n",
       "  <tbody>\n",
       "    <tr>\n",
       "      <th>21009</th>\n",
       "      <td>1</td>\n",
       "      <td>1</td>\n",
       "      <td>52</td>\n",
       "    </tr>\n",
       "    <tr>\n",
       "      <th>21016</th>\n",
       "      <td>80</td>\n",
       "      <td>3</td>\n",
       "      <td>70</td>\n",
       "    </tr>\n",
       "    <tr>\n",
       "      <th>21018</th>\n",
       "      <td>41</td>\n",
       "      <td>3</td>\n",
       "      <td>39</td>\n",
       "    </tr>\n",
       "    <tr>\n",
       "      <th>21020</th>\n",
       "      <td>1</td>\n",
       "      <td>1</td>\n",
       "      <td>41</td>\n",
       "    </tr>\n",
       "    <tr>\n",
       "      <th>21023</th>\n",
       "      <td>1</td>\n",
       "      <td>1</td>\n",
       "      <td>5</td>\n",
       "    </tr>\n",
       "  </tbody>\n",
       "</table>\n",
       "</div>"
      ],
      "text/plain": [
       "                      unique-iati-identifier-count  \\\n",
       "implementing-org-ref                                 \n",
       "21009                                            1   \n",
       "21016                                           80   \n",
       "21018                                           41   \n",
       "21020                                            1   \n",
       "21023                                            1   \n",
       "\n",
       "                      unique-implementing-org-name-count  \\\n",
       "implementing-org-ref                                       \n",
       "21009                                                  1   \n",
       "21016                                                  3   \n",
       "21018                                                  3   \n",
       "21020                                                  1   \n",
       "21023                                                  1   \n",
       "\n",
       "                      unique-recipient-country-code-count  \n",
       "implementing-org-ref                                       \n",
       "21009                                                  52  \n",
       "21016                                                  70  \n",
       "21018                                                  39  \n",
       "21020                                                  41  \n",
       "21023                                                   5  "
      ]
     },
     "execution_count": 830,
     "metadata": {},
     "output_type": "execute_result"
    }
   ],
   "source": [
    "unique_countries_per_organisation = implementers_concise.pivot_table(\n",
    "    index=['implementing-org-ref'], aggfunc=lambda x: len(x.unique()))\n",
    "\n",
    "unique_countries_per_organisation.columns = [\n",
    "    'unique-iati-identifier-count', 'unique-implementing-org-name-count',\n",
    "    'unique-recipient-country-code-count'\n",
    "]\n",
    "\n",
    "unique_countries_per_organisation.head()"
   ]
  },
  {
   "cell_type": "markdown",
   "metadata": {},
   "source": [
    "If the consider the second row of this table, this tells us that the reference '21016' has been used in 80 different activities, alongside 3 different names, and has been the implementing organisation for 70 distinct recipient countries.\n",
    "\n",
    "This organisation is the ICRC - the three organisation names which have been used are as follows: "
   ]
  },
  {
   "cell_type": "code",
   "execution_count": 831,
   "metadata": {},
   "outputs": [
    {
     "name": "stdout",
     "output_type": "stream",
     "text": [
      "ICRC - International Committee of the Red Cross \n",
      "Red Cross International Aid Trust of Canada \n",
      "International Committee of the Red Cross (ICRC) Appeals via the Canadian Red Cross Society (CRCS)\n"
     ]
    }
   ],
   "source": [
    "for name in set(implementers_concise[implementers_concise[\n",
    "        'implementing-org-ref'] == '21016']['implementing-org-name']):\n",
    "    print(name)"
   ]
  },
  {
   "cell_type": "markdown",
   "metadata": {},
   "source": [
    "Following the same approach used above, let's look at the distribution of these counts:"
   ]
  },
  {
   "cell_type": "code",
   "execution_count": 832,
   "metadata": {},
   "outputs": [
    {
     "data": {
      "text/html": [
       "<div>\n",
       "<style>\n",
       "    .dataframe thead tr:only-child th {\n",
       "        text-align: right;\n",
       "    }\n",
       "\n",
       "    .dataframe thead th {\n",
       "        text-align: left;\n",
       "    }\n",
       "\n",
       "    .dataframe tbody tr th {\n",
       "        vertical-align: top;\n",
       "    }\n",
       "</style>\n",
       "<table border=\"1\" class=\"dataframe\">\n",
       "  <thead>\n",
       "    <tr style=\"text-align: right;\">\n",
       "      <th></th>\n",
       "      <th>unique-iati-identifier-count</th>\n",
       "      <th>unique-implementing-org-name-count</th>\n",
       "      <th>unique-recipient-country-code-count</th>\n",
       "    </tr>\n",
       "  </thead>\n",
       "  <tbody>\n",
       "    <tr>\n",
       "      <th>count</th>\n",
       "      <td>392.000000</td>\n",
       "      <td>392.000000</td>\n",
       "      <td>392.000000</td>\n",
       "    </tr>\n",
       "    <tr>\n",
       "      <th>mean</th>\n",
       "      <td>6.433673</td>\n",
       "      <td>1.130102</td>\n",
       "      <td>10.836735</td>\n",
       "    </tr>\n",
       "    <tr>\n",
       "      <th>std</th>\n",
       "      <td>19.229418</td>\n",
       "      <td>0.590558</td>\n",
       "      <td>20.409713</td>\n",
       "    </tr>\n",
       "    <tr>\n",
       "      <th>min</th>\n",
       "      <td>1.000000</td>\n",
       "      <td>1.000000</td>\n",
       "      <td>1.000000</td>\n",
       "    </tr>\n",
       "    <tr>\n",
       "      <th>25%</th>\n",
       "      <td>1.000000</td>\n",
       "      <td>1.000000</td>\n",
       "      <td>1.000000</td>\n",
       "    </tr>\n",
       "    <tr>\n",
       "      <th>50%</th>\n",
       "      <td>2.000000</td>\n",
       "      <td>1.000000</td>\n",
       "      <td>4.000000</td>\n",
       "    </tr>\n",
       "    <tr>\n",
       "      <th>75%</th>\n",
       "      <td>4.000000</td>\n",
       "      <td>1.000000</td>\n",
       "      <td>10.000000</td>\n",
       "    </tr>\n",
       "    <tr>\n",
       "      <th>max</th>\n",
       "      <td>240.000000</td>\n",
       "      <td>9.000000</td>\n",
       "      <td>149.000000</td>\n",
       "    </tr>\n",
       "  </tbody>\n",
       "</table>\n",
       "</div>"
      ],
      "text/plain": [
       "       unique-iati-identifier-count  unique-implementing-org-name-count  \\\n",
       "count                    392.000000                          392.000000   \n",
       "mean                       6.433673                            1.130102   \n",
       "std                       19.229418                            0.590558   \n",
       "min                        1.000000                            1.000000   \n",
       "25%                        1.000000                            1.000000   \n",
       "50%                        2.000000                            1.000000   \n",
       "75%                        4.000000                            1.000000   \n",
       "max                      240.000000                            9.000000   \n",
       "\n",
       "       unique-recipient-country-code-count  \n",
       "count                           392.000000  \n",
       "mean                             10.836735  \n",
       "std                              20.409713  \n",
       "min                               1.000000  \n",
       "25%                               1.000000  \n",
       "50%                               4.000000  \n",
       "75%                              10.000000  \n",
       "max                             149.000000  "
      ]
     },
     "execution_count": 832,
     "metadata": {},
     "output_type": "execute_result"
    }
   ],
   "source": [
    "unique_countries_per_organisation.describe()"
   ]
  },
  {
   "cell_type": "markdown",
   "metadata": {},
   "source": [
    "Looking at the recipient country code figures, we can see that the mean is 10 distinct countries, and the median is 4, with a maximum of 149. This indicates a similar distribution as before, so let's confirm with another histogram: "
   ]
  },
  {
   "cell_type": "code",
   "execution_count": 833,
   "metadata": {
    "scrolled": false
   },
   "outputs": [
    {
     "data": {
      "text/html": [
       "\n",
       "\n",
       "    <div class=\"bk-root\">\n",
       "        <div class=\"bk-plotdiv\" id=\"6951d314-85e5-454f-840f-8dd9a54f5140\"></div>\n",
       "    </div>\n",
       "<script type=\"text/javascript\">\n",
       "  \n",
       "  (function(global) {\n",
       "    function now() {\n",
       "      return new Date();\n",
       "    }\n",
       "  \n",
       "    var force = false;\n",
       "  \n",
       "    if (typeof (window._bokeh_onload_callbacks) === \"undefined\" || force === true) {\n",
       "      window._bokeh_onload_callbacks = [];\n",
       "      window._bokeh_is_loading = undefined;\n",
       "    }\n",
       "  \n",
       "  \n",
       "    \n",
       "    if (typeof (window._bokeh_timeout) === \"undefined\" || force === true) {\n",
       "      window._bokeh_timeout = Date.now() + 0;\n",
       "      window._bokeh_failed_load = false;\n",
       "    }\n",
       "  \n",
       "    var NB_LOAD_WARNING = {'data': {'text/html':\n",
       "       \"<div style='background-color: #fdd'>\\n\"+\n",
       "       \"<p>\\n\"+\n",
       "       \"BokehJS does not appear to have successfully loaded. If loading BokehJS from CDN, this \\n\"+\n",
       "       \"may be due to a slow or bad network connection. Possible fixes:\\n\"+\n",
       "       \"</p>\\n\"+\n",
       "       \"<ul>\\n\"+\n",
       "       \"<li>re-rerun `output_notebook()` to attempt to load from CDN again, or</li>\\n\"+\n",
       "       \"<li>use INLINE resources instead, as so:</li>\\n\"+\n",
       "       \"</ul>\\n\"+\n",
       "       \"<code>\\n\"+\n",
       "       \"from bokeh.resources import INLINE\\n\"+\n",
       "       \"output_notebook(resources=INLINE)\\n\"+\n",
       "       \"</code>\\n\"+\n",
       "       \"</div>\"}};\n",
       "  \n",
       "    function display_loaded() {\n",
       "      if (window.Bokeh !== undefined) {\n",
       "        var el = document.getElementById(\"6951d314-85e5-454f-840f-8dd9a54f5140\");\n",
       "        el.textContent = \"BokehJS \" + Bokeh.version + \" successfully loaded.\";\n",
       "      } else if (Date.now() < window._bokeh_timeout) {\n",
       "        setTimeout(display_loaded, 100)\n",
       "      }\n",
       "    }\n",
       "  \n",
       "    function run_callbacks() {\n",
       "      window._bokeh_onload_callbacks.forEach(function(callback) { callback() });\n",
       "      delete window._bokeh_onload_callbacks\n",
       "      console.info(\"Bokeh: all callbacks have finished\");\n",
       "    }\n",
       "  \n",
       "    function load_libs(js_urls, callback) {\n",
       "      window._bokeh_onload_callbacks.push(callback);\n",
       "      if (window._bokeh_is_loading > 0) {\n",
       "        console.log(\"Bokeh: BokehJS is being loaded, scheduling callback at\", now());\n",
       "        return null;\n",
       "      }\n",
       "      if (js_urls == null || js_urls.length === 0) {\n",
       "        run_callbacks();\n",
       "        return null;\n",
       "      }\n",
       "      console.log(\"Bokeh: BokehJS not loaded, scheduling load and callback at\", now());\n",
       "      window._bokeh_is_loading = js_urls.length;\n",
       "      for (var i = 0; i < js_urls.length; i++) {\n",
       "        var url = js_urls[i];\n",
       "        var s = document.createElement('script');\n",
       "        s.src = url;\n",
       "        s.async = false;\n",
       "        s.onreadystatechange = s.onload = function() {\n",
       "          window._bokeh_is_loading--;\n",
       "          if (window._bokeh_is_loading === 0) {\n",
       "            console.log(\"Bokeh: all BokehJS libraries loaded\");\n",
       "            run_callbacks()\n",
       "          }\n",
       "        };\n",
       "        s.onerror = function() {\n",
       "          console.warn(\"failed to load library \" + url);\n",
       "        };\n",
       "        console.log(\"Bokeh: injecting script tag for BokehJS library: \", url);\n",
       "        document.getElementsByTagName(\"head\")[0].appendChild(s);\n",
       "      }\n",
       "    };var element = document.getElementById(\"6951d314-85e5-454f-840f-8dd9a54f5140\");\n",
       "    if (element == null) {\n",
       "      console.log(\"Bokeh: ERROR: autoload.js configured with elementid '6951d314-85e5-454f-840f-8dd9a54f5140' but no matching script tag was found. \")\n",
       "      return false;\n",
       "    }\n",
       "  \n",
       "    var js_urls = [];\n",
       "  \n",
       "    var inline_js = [\n",
       "      function(Bokeh) {\n",
       "        (function() {\n",
       "          var fn = function() {\n",
       "            var docs_json = {\"0d9d157b-ab98-469a-a122-c2042892820d\":{\"roots\":{\"references\":[{\"attributes\":{\"callback\":null,\"column_names\":[\"x\",\"y\",\"width\",\"height\",\"color\",\"fill_alpha\",\"line_color\",\"line_alpha\",\"label\"],\"data\":{\"chart_index\":[\"[1.000000, 1.986667]\"],\"color\":[\"#f22c40\"],\"fill_alpha\":[0.8],\"height\":[109.0],\"label\":[\"[1.000000, 1.986667]\"],\"line_alpha\":[1.0],\"line_color\":[\"black\"],\"width\":[0.9866666666666668],\"x\":[\"1.4933334999999999\"],\"y\":[54.5]}},\"id\":\"0a2b8209-1bbb-45ec-8c81-9de8dcbfd869\",\"type\":\"ColumnDataSource\"},{\"attributes\":{\"fill_alpha\":{\"field\":\"fill_alpha\"},\"fill_color\":{\"field\":\"color\"},\"height\":{\"field\":\"height\",\"units\":\"data\"},\"line_color\":{\"field\":\"line_color\"},\"width\":{\"field\":\"width\",\"units\":\"data\"},\"x\":{\"field\":\"x\"},\"y\":{\"field\":\"y\"}},\"id\":\"f9b0edab-aa02-4367-8e3f-e8605290ce20\",\"type\":\"Rect\"},{\"attributes\":{\"callback\":null,\"column_names\":[\"x\",\"y\",\"width\",\"height\",\"color\",\"fill_alpha\",\"line_color\",\"line_alpha\",\"label\"],\"data\":{\"chart_index\":[\"(141.106667, 142.093333]\"],\"color\":[\"#f22c40\"],\"fill_alpha\":[0.8],\"height\":[0.0],\"label\":[\"(141.106667, 142.093333]\"],\"line_alpha\":[1.0],\"line_color\":[\"black\"],\"width\":[0.9866666666666504],\"x\":[\"141.6\"],\"y\":[0.0]}},\"id\":\"f12254ab-03e4-4fce-8dc4-8cf3c7f82ef2\",\"type\":\"ColumnDataSource\"},{\"attributes\":{\"fill_alpha\":{\"field\":\"fill_alpha\"},\"fill_color\":{\"field\":\"color\"},\"height\":{\"field\":\"height\",\"units\":\"data\"},\"line_color\":{\"field\":\"line_color\"},\"width\":{\"field\":\"width\",\"units\":\"data\"},\"x\":{\"field\":\"x\"},\"y\":{\"field\":\"y\"}},\"id\":\"7fd6af8f-1992-4366-bf3d-ada30fa10cdc\",\"type\":\"Rect\"},{\"attributes\":{\"fill_alpha\":{\"field\":\"fill_alpha\"},\"fill_color\":{\"field\":\"color\"},\"height\":{\"field\":\"height\",\"units\":\"data\"},\"line_color\":{\"field\":\"line_color\"},\"width\":{\"field\":\"width\",\"units\":\"data\"},\"x\":{\"field\":\"x\"},\"y\":{\"field\":\"y\"}},\"id\":\"be301b28-a4e7-46c5-a1b0-1c559a881764\",\"type\":\"Rect\"},{\"attributes\":{\"callback\":null,\"column_names\":[\"x\",\"y\",\"width\",\"height\",\"color\",\"fill_alpha\",\"line_color\",\"line_alpha\",\"label\"],\"data\":{\"chart_index\":[\"(4.946667, 5.933333]\"],\"color\":[\"#f22c40\"],\"fill_alpha\":[0.8],\"height\":[23.0],\"label\":[\"(4.946667, 5.933333]\"],\"line_alpha\":[1.0],\"line_color\":[\"black\"],\"width\":[0.9866666666666664],\"x\":[\"5.4399999999999995\"],\"y\":[11.5]}},\"id\":\"588504ab-82d5-4ee0-8c50-88b6e7a4ad05\",\"type\":\"ColumnDataSource\"},{\"attributes\":{\"data_source\":{\"id\":\"0a2b8209-1bbb-45ec-8c81-9de8dcbfd869\",\"type\":\"ColumnDataSource\"},\"glyph\":{\"id\":\"7fd6af8f-1992-4366-bf3d-ada30fa10cdc\",\"type\":\"Rect\"},\"hover_glyph\":null,\"muted_glyph\":null},\"id\":\"c29812ab-ec53-4868-90b8-2bc90ffa7266\",\"type\":\"GlyphRenderer\"},{\"attributes\":{\"callback\":null,\"column_names\":[\"x\",\"y\",\"width\",\"height\",\"color\",\"fill_alpha\",\"line_color\",\"line_alpha\",\"label\"],\"data\":{\"chart_index\":[\"(1.986667, 2.973333]\"],\"color\":[\"#f22c40\"],\"fill_alpha\":[0.8],\"height\":[59.0],\"label\":[\"(1.986667, 2.973333]\"],\"line_alpha\":[1.0],\"line_color\":[\"black\"],\"width\":[0.9866666666666668],\"x\":[\"2.48\"],\"y\":[29.5]}},\"id\":\"d123b739-37be-41cd-97f4-8a5fa8b976d7\",\"type\":\"ColumnDataSource\"},{\"attributes\":{\"fill_alpha\":{\"field\":\"fill_alpha\"},\"fill_color\":{\"field\":\"color\"},\"height\":{\"field\":\"height\",\"units\":\"data\"},\"line_color\":{\"field\":\"line_color\"},\"width\":{\"field\":\"width\",\"units\":\"data\"},\"x\":{\"field\":\"x\"},\"y\":{\"field\":\"y\"}},\"id\":\"f9d115f0-09be-4663-9270-373d20d92ab1\",\"type\":\"Rect\"},{\"attributes\":{\"callback\":null,\"column_names\":[\"x\",\"y\",\"width\",\"height\",\"color\",\"fill_alpha\",\"line_color\",\"line_alpha\",\"label\"],\"data\":{\"chart_index\":[\"(2.973333, 3.960000]\"],\"color\":[\"#f22c40\"],\"fill_alpha\":[0.8],\"height\":[24.0],\"label\":[\"(2.973333, 3.960000]\"],\"line_alpha\":[1.0],\"line_color\":[\"black\"],\"width\":[0.9866666666666664],\"x\":[\"3.4666664999999997\"],\"y\":[12.0]}},\"id\":\"79c8d9e0-7e4b-408c-a3e5-4f023b8fe907\",\"type\":\"ColumnDataSource\"},{\"attributes\":{\"data_source\":{\"id\":\"79c8d9e0-7e4b-408c-a3e5-4f023b8fe907\",\"type\":\"ColumnDataSource\"},\"glyph\":{\"id\":\"be301b28-a4e7-46c5-a1b0-1c559a881764\",\"type\":\"Rect\"},\"hover_glyph\":null,\"muted_glyph\":null},\"id\":\"3dc26d35-af11-4b0e-9076-7635bf2ac769\",\"type\":\"GlyphRenderer\"},{\"attributes\":{\"data_source\":{\"id\":\"d123b739-37be-41cd-97f4-8a5fa8b976d7\",\"type\":\"ColumnDataSource\"},\"glyph\":{\"id\":\"f9d115f0-09be-4663-9270-373d20d92ab1\",\"type\":\"Rect\"},\"hover_glyph\":null,\"muted_glyph\":null},\"id\":\"1686440f-23b0-4785-966f-59ae207c0108\",\"type\":\"GlyphRenderer\"},{\"attributes\":{\"fill_alpha\":{\"field\":\"fill_alpha\"},\"fill_color\":{\"field\":\"color\"},\"height\":{\"field\":\"height\",\"units\":\"data\"},\"line_color\":{\"field\":\"line_color\"},\"width\":{\"field\":\"width\",\"units\":\"data\"},\"x\":{\"field\":\"x\"},\"y\":{\"field\":\"y\"}},\"id\":\"1fe14c92-0f36-4091-8616-300a56b38935\",\"type\":\"Rect\"},{\"attributes\":{\"callback\":null,\"column_names\":[\"x\",\"y\",\"width\",\"height\",\"color\",\"fill_alpha\",\"line_color\",\"line_alpha\",\"label\"],\"data\":{\"chart_index\":[\"(3.960000, 4.946667]\"],\"color\":[\"#f22c40\"],\"fill_alpha\":[0.8],\"height\":[23.0],\"label\":[\"(3.960000, 4.946667]\"],\"line_alpha\":[1.0],\"line_color\":[\"black\"],\"width\":[0.9866666666666672],\"x\":[\"4.453333499999999\"],\"y\":[11.5]}},\"id\":\"4c84a3c6-27e3-4709-a260-980aae49b542\",\"type\":\"ColumnDataSource\"},{\"attributes\":{\"fill_alpha\":{\"field\":\"fill_alpha\"},\"fill_color\":{\"field\":\"color\"},\"height\":{\"field\":\"height\",\"units\":\"data\"},\"line_color\":{\"field\":\"line_color\"},\"width\":{\"field\":\"width\",\"units\":\"data\"},\"x\":{\"field\":\"x\"},\"y\":{\"field\":\"y\"}},\"id\":\"2b11c177-8c0b-430c-9dec-f54b23b1ad78\",\"type\":\"Rect\"},{\"attributes\":{\"data_source\":{\"id\":\"4c84a3c6-27e3-4709-a260-980aae49b542\",\"type\":\"ColumnDataSource\"},\"glyph\":{\"id\":\"1fe14c92-0f36-4091-8616-300a56b38935\",\"type\":\"Rect\"},\"hover_glyph\":null,\"muted_glyph\":null},\"id\":\"1c6353e3-6c2b-4e5f-a3d0-a3746389ec04\",\"type\":\"GlyphRenderer\"},{\"attributes\":{\"fill_alpha\":{\"field\":\"fill_alpha\"},\"fill_color\":{\"field\":\"color\"},\"height\":{\"field\":\"height\",\"units\":\"data\"},\"line_color\":{\"field\":\"line_color\"},\"width\":{\"field\":\"width\",\"units\":\"data\"},\"x\":{\"field\":\"x\"},\"y\":{\"field\":\"y\"}},\"id\":\"6e3bbaa6-c0b6-4be2-a2f2-24fcc1538777\",\"type\":\"Rect\"},{\"attributes\":{\"callback\":null,\"column_names\":[\"x\",\"y\",\"width\",\"height\",\"color\",\"fill_alpha\",\"line_color\",\"line_alpha\",\"label\"],\"data\":{\"chart_index\":[\"(5.933333, 6.920000]\"],\"color\":[\"#f22c40\"],\"fill_alpha\":[0.8],\"height\":[13.0],\"label\":[\"(5.933333, 6.920000]\"],\"line_alpha\":[1.0],\"line_color\":[\"black\"],\"width\":[0.9866666666666664],\"x\":[\"6.4266665\"],\"y\":[6.5]}},\"id\":\"c37b92e2-d421-4731-81f7-fc5824280d51\",\"type\":\"ColumnDataSource\"},{\"attributes\":{\"data_source\":{\"id\":\"588504ab-82d5-4ee0-8c50-88b6e7a4ad05\",\"type\":\"ColumnDataSource\"},\"glyph\":{\"id\":\"f9b0edab-aa02-4367-8e3f-e8605290ce20\",\"type\":\"Rect\"},\"hover_glyph\":null,\"muted_glyph\":null},\"id\":\"ce8a0706-c0f4-4176-9df1-9804cbf8a20f\",\"type\":\"GlyphRenderer\"},{\"attributes\":{\"callback\":null,\"column_names\":[\"x\",\"y\",\"width\",\"height\",\"color\",\"fill_alpha\",\"line_color\",\"line_alpha\",\"label\"],\"data\":{\"chart_index\":[\"(6.920000, 7.906667]\"],\"color\":[\"#f22c40\"],\"fill_alpha\":[0.8],\"height\":[14.0],\"label\":[\"(6.920000, 7.906667]\"],\"line_alpha\":[1.0],\"line_color\":[\"black\"],\"width\":[0.9866666666666672],\"x\":[\"7.4133335\"],\"y\":[7.0]}},\"id\":\"fac4e607-41c9-4007-86a1-b3aa6273ed2e\",\"type\":\"ColumnDataSource\"},{\"attributes\":{\"fill_alpha\":{\"field\":\"fill_alpha\"},\"fill_color\":{\"field\":\"color\"},\"height\":{\"field\":\"height\",\"units\":\"data\"},\"line_color\":{\"field\":\"line_color\"},\"width\":{\"field\":\"width\",\"units\":\"data\"},\"x\":{\"field\":\"x\"},\"y\":{\"field\":\"y\"}},\"id\":\"5ebfc349-a835-442a-bdd4-a0620872454f\",\"type\":\"Rect\"},{\"attributes\":{\"callback\":null,\"column_names\":[\"x\",\"y\",\"width\",\"height\",\"color\",\"fill_alpha\",\"line_color\",\"line_alpha\",\"label\"],\"data\":{\"chart_index\":[\"(9.880000, 10.866667]\"],\"color\":[\"#f22c40\"],\"fill_alpha\":[0.8],\"height\":[11.0],\"label\":[\"(9.880000, 10.866667]\"],\"line_alpha\":[1.0],\"line_color\":[\"black\"],\"width\":[0.9866666666666664],\"x\":[\"10.373333500000001\"],\"y\":[5.5]}},\"id\":\"719ee562-8f0f-46ee-a29e-e8eae24ee6ab\",\"type\":\"ColumnDataSource\"},{\"attributes\":{\"callback\":null,\"column_names\":[\"x\",\"y\",\"width\",\"height\",\"color\",\"fill_alpha\",\"line_color\",\"line_alpha\",\"label\"],\"data\":{\"chart_index\":[\"(8.893333, 9.880000]\"],\"color\":[\"#f22c40\"],\"fill_alpha\":[0.8],\"height\":[6.0],\"label\":[\"(8.893333, 9.880000]\"],\"line_alpha\":[1.0],\"line_color\":[\"black\"],\"width\":[0.9866666666666664],\"x\":[\"9.3866665\"],\"y\":[3.0]}},\"id\":\"71ac99c4-faf5-47e6-aa2c-033a50f6bd8f\",\"type\":\"ColumnDataSource\"},{\"attributes\":{\"data_source\":{\"id\":\"c37b92e2-d421-4731-81f7-fc5824280d51\",\"type\":\"ColumnDataSource\"},\"glyph\":{\"id\":\"6e3bbaa6-c0b6-4be2-a2f2-24fcc1538777\",\"type\":\"Rect\"},\"hover_glyph\":null,\"muted_glyph\":null},\"id\":\"9be839d4-0630-409e-aff8-dd4e3617af85\",\"type\":\"GlyphRenderer\"},{\"attributes\":{\"fill_alpha\":{\"field\":\"fill_alpha\"},\"fill_color\":{\"field\":\"color\"},\"height\":{\"field\":\"height\",\"units\":\"data\"},\"line_color\":{\"field\":\"line_color\"},\"width\":{\"field\":\"width\",\"units\":\"data\"},\"x\":{\"field\":\"x\"},\"y\":{\"field\":\"y\"}},\"id\":\"dbb99f19-6ac0-44e3-968c-8c2861f0baef\",\"type\":\"Rect\"},{\"attributes\":{\"data_source\":{\"id\":\"71ac99c4-faf5-47e6-aa2c-033a50f6bd8f\",\"type\":\"ColumnDataSource\"},\"glyph\":{\"id\":\"43be6bb6-cf85-48d5-a90e-c64b696354b3\",\"type\":\"Rect\"},\"hover_glyph\":null,\"muted_glyph\":null},\"id\":\"bfe3f7c3-fc19-4007-80ce-9ea8285a84c4\",\"type\":\"GlyphRenderer\"},{\"attributes\":{\"callback\":null,\"column_names\":[\"x\",\"y\",\"width\",\"height\",\"color\",\"fill_alpha\",\"line_color\",\"line_alpha\",\"label\"],\"data\":{\"chart_index\":[\"(85.853333, 86.840000]\"],\"color\":[\"#f22c40\"],\"fill_alpha\":[0.8],\"height\":[0.0],\"label\":[\"(85.853333, 86.840000]\"],\"line_alpha\":[1.0],\"line_color\":[\"black\"],\"width\":[0.9866666666666646],\"x\":[\"86.3466665\"],\"y\":[0.0]}},\"id\":\"02790bf8-8990-4866-bcc2-216f86468952\",\"type\":\"ColumnDataSource\"},{\"attributes\":{\"fill_alpha\":{\"field\":\"fill_alpha\"},\"fill_color\":{\"field\":\"color\"},\"height\":{\"field\":\"height\",\"units\":\"data\"},\"line_color\":{\"field\":\"line_color\"},\"width\":{\"field\":\"width\",\"units\":\"data\"},\"x\":{\"field\":\"x\"},\"y\":{\"field\":\"y\"}},\"id\":\"5be3176f-c9b0-49e0-bb07-f49131e694a3\",\"type\":\"Rect\"},{\"attributes\":{\"callback\":null,\"column_names\":[\"x\",\"y\",\"width\",\"height\",\"color\",\"fill_alpha\",\"line_color\",\"line_alpha\",\"label\"],\"data\":{\"chart_index\":[\"(86.840000, 87.826667]\"],\"color\":[\"#f22c40\"],\"fill_alpha\":[0.8],\"height\":[0.0],\"label\":[\"(86.840000, 87.826667]\"],\"line_alpha\":[1.0],\"line_color\":[\"black\"],\"width\":[0.9866666666666646],\"x\":[\"87.33333350000001\"],\"y\":[0.0]}},\"id\":\"66d90a3e-e24d-460e-b558-635ae1cf2530\",\"type\":\"ColumnDataSource\"},{\"attributes\":{\"data_source\":{\"id\":\"02790bf8-8990-4866-bcc2-216f86468952\",\"type\":\"ColumnDataSource\"},\"glyph\":{\"id\":\"985eafa3-1d93-485d-99a2-76402363dc17\",\"type\":\"Rect\"},\"hover_glyph\":null,\"muted_glyph\":null},\"id\":\"e3e76fbd-1844-4e28-8680-d66437e7f85b\",\"type\":\"GlyphRenderer\"},{\"attributes\":{\"fill_alpha\":{\"field\":\"fill_alpha\"},\"fill_color\":{\"field\":\"color\"},\"height\":{\"field\":\"height\",\"units\":\"data\"},\"line_color\":{\"field\":\"line_color\"},\"width\":{\"field\":\"width\",\"units\":\"data\"},\"x\":{\"field\":\"x\"},\"y\":{\"field\":\"y\"}},\"id\":\"24f6a595-80a7-4721-a23e-f220c4ae5ee6\",\"type\":\"Rect\"},{\"attributes\":{\"data_source\":{\"id\":\"66d90a3e-e24d-460e-b558-635ae1cf2530\",\"type\":\"ColumnDataSource\"},\"glyph\":{\"id\":\"5be3176f-c9b0-49e0-bb07-f49131e694a3\",\"type\":\"Rect\"},\"hover_glyph\":null,\"muted_glyph\":null},\"id\":\"7041f39e-ccf4-41c2-b6b9-862a9d2c12d0\",\"type\":\"GlyphRenderer\"},{\"attributes\":{\"callback\":null,\"column_names\":[\"x\",\"y\",\"width\",\"height\",\"color\",\"fill_alpha\",\"line_color\",\"line_alpha\",\"label\"],\"data\":{\"chart_index\":[\"(89.800000, 90.786667]\"],\"color\":[\"#f22c40\"],\"fill_alpha\":[0.8],\"height\":[0.0],\"label\":[\"(89.800000, 90.786667]\"],\"line_alpha\":[1.0],\"line_color\":[\"black\"],\"width\":[0.9866666666666788],\"x\":[\"90.29333349999999\"],\"y\":[0.0]}},\"id\":\"0b2edcf5-825f-4bcf-98a9-6a3106c5e71f\",\"type\":\"ColumnDataSource\"},{\"attributes\":{\"data_source\":{\"id\":\"32e66aa8-bc86-413a-a0a9-be6ca5362e10\",\"type\":\"ColumnDataSource\"},\"glyph\":{\"id\":\"4637a3d3-81dc-44a7-a5c1-0a853a66a70f\",\"type\":\"Rect\"},\"hover_glyph\":null,\"muted_glyph\":null},\"id\":\"7a857d83-de2d-4d3f-b3d1-3b04a396d4b8\",\"type\":\"GlyphRenderer\"},{\"attributes\":{\"fill_alpha\":{\"field\":\"fill_alpha\"},\"fill_color\":{\"field\":\"color\"},\"height\":{\"field\":\"height\",\"units\":\"data\"},\"line_color\":{\"field\":\"line_color\"},\"width\":{\"field\":\"width\",\"units\":\"data\"},\"x\":{\"field\":\"x\"},\"y\":{\"field\":\"y\"}},\"id\":\"b9a3a08e-a3b8-4913-8388-28442af237d5\",\"type\":\"Rect\"},{\"attributes\":{\"data_source\":{\"id\":\"8b115ea3-4809-4e5c-97da-8d4e05ebc4e9\",\"type\":\"ColumnDataSource\"},\"glyph\":{\"id\":\"0a1ffe94-0d6e-4854-a57d-5a3f74614dac\",\"type\":\"Rect\"},\"hover_glyph\":null,\"muted_glyph\":null},\"id\":\"fe4cdae8-f201-4f34-9c37-6ed52f099d64\",\"type\":\"GlyphRenderer\"},{\"attributes\":{\"data_source\":{\"id\":\"0b2edcf5-825f-4bcf-98a9-6a3106c5e71f\",\"type\":\"ColumnDataSource\"},\"glyph\":{\"id\":\"b9a3a08e-a3b8-4913-8388-28442af237d5\",\"type\":\"Rect\"},\"hover_glyph\":null,\"muted_glyph\":null},\"id\":\"5d42fbfe-01c1-4373-b49c-f891cadff160\",\"type\":\"GlyphRenderer\"},{\"attributes\":{\"callback\":null,\"column_names\":[\"x\",\"y\",\"width\",\"height\",\"color\",\"fill_alpha\",\"line_color\",\"line_alpha\",\"label\"],\"data\":{\"chart_index\":[\"(90.786667, 91.773333]\"],\"color\":[\"#f22c40\"],\"fill_alpha\":[0.8],\"height\":[0.0],\"label\":[\"(90.786667, 91.773333]\"],\"line_alpha\":[1.0],\"line_color\":[\"black\"],\"width\":[0.9866666666666646],\"x\":[\"91.28\"],\"y\":[0.0]}},\"id\":\"92688b7d-9d48-4a35-843e-d8cd25ae9193\",\"type\":\"ColumnDataSource\"},{\"attributes\":{\"fill_alpha\":{\"field\":\"fill_alpha\"},\"fill_color\":{\"field\":\"color\"},\"height\":{\"field\":\"height\",\"units\":\"data\"},\"line_color\":{\"field\":\"line_color\"},\"width\":{\"field\":\"width\",\"units\":\"data\"},\"x\":{\"field\":\"x\"},\"y\":{\"field\":\"y\"}},\"id\":\"ef37f84f-e14a-4659-af8f-d67d23520b36\",\"type\":\"Rect\"},{\"attributes\":{\"callback\":null,\"column_names\":[\"x\",\"y\",\"width\",\"height\",\"color\",\"fill_alpha\",\"line_color\",\"line_alpha\",\"label\"],\"data\":{\"chart_index\":[\"(91.773333, 92.760000]\"],\"color\":[\"#f22c40\"],\"fill_alpha\":[0.8],\"height\":[0.0],\"label\":[\"(91.773333, 92.760000]\"],\"line_alpha\":[1.0],\"line_color\":[\"black\"],\"width\":[0.9866666666666646],\"x\":[\"92.2666665\"],\"y\":[0.0]}},\"id\":\"06104931-4685-4b8f-9ce3-1b26c09727e4\",\"type\":\"ColumnDataSource\"},{\"attributes\":{\"fill_alpha\":{\"field\":\"fill_alpha\"},\"fill_color\":{\"field\":\"color\"},\"height\":{\"field\":\"height\",\"units\":\"data\"},\"line_color\":{\"field\":\"line_color\"},\"width\":{\"field\":\"width\",\"units\":\"data\"},\"x\":{\"field\":\"x\"},\"y\":{\"field\":\"y\"}},\"id\":\"8eb0854c-3f63-41be-87be-a6e176946942\",\"type\":\"Rect\"},{\"attributes\":{\"fill_alpha\":{\"field\":\"fill_alpha\"},\"fill_color\":{\"field\":\"color\"},\"height\":{\"field\":\"height\",\"units\":\"data\"},\"line_color\":{\"field\":\"line_color\"},\"width\":{\"field\":\"width\",\"units\":\"data\"},\"x\":{\"field\":\"x\"},\"y\":{\"field\":\"y\"}},\"id\":\"abc184e4-ba6d-475e-a262-ba046401b9ce\",\"type\":\"Rect\"},{\"attributes\":{\"data_source\":{\"id\":\"92688b7d-9d48-4a35-843e-d8cd25ae9193\",\"type\":\"ColumnDataSource\"},\"glyph\":{\"id\":\"ef37f84f-e14a-4659-af8f-d67d23520b36\",\"type\":\"Rect\"},\"hover_glyph\":null,\"muted_glyph\":null},\"id\":\"416c7063-f1b3-4cdd-af8f-a449e4cb2184\",\"type\":\"GlyphRenderer\"},{\"attributes\":{\"fill_alpha\":{\"field\":\"fill_alpha\"},\"fill_color\":{\"field\":\"color\"},\"height\":{\"field\":\"height\",\"units\":\"data\"},\"line_color\":{\"field\":\"line_color\"},\"width\":{\"field\":\"width\",\"units\":\"data\"},\"x\":{\"field\":\"x\"},\"y\":{\"field\":\"y\"}},\"id\":\"ff98ad5c-e2e5-4929-8cb5-53902ac098ce\",\"type\":\"Rect\"},{\"attributes\":{\"callback\":null,\"column_names\":[\"x\",\"y\",\"width\",\"height\",\"color\",\"fill_alpha\",\"line_color\",\"line_alpha\",\"label\"],\"data\":{\"chart_index\":[\"(92.760000, 93.746667]\"],\"color\":[\"#f22c40\"],\"fill_alpha\":[0.8],\"height\":[0.0],\"label\":[\"(92.760000, 93.746667]\"],\"line_alpha\":[1.0],\"line_color\":[\"black\"],\"width\":[0.9866666666666646],\"x\":[\"93.2533335\"],\"y\":[0.0]}},\"id\":\"3f4f4bc6-58cd-4971-8bcd-74d90382e51d\",\"type\":\"ColumnDataSource\"},{\"attributes\":{\"data_source\":{\"id\":\"c70c035a-b2f2-4284-91db-9946432721f0\",\"type\":\"ColumnDataSource\"},\"glyph\":{\"id\":\"fd148f41-5d7e-47b4-aa6d-1ee6b9040b58\",\"type\":\"Rect\"},\"hover_glyph\":null,\"muted_glyph\":null},\"id\":\"dda2b11d-a764-41b0-8553-5cf4a9b2dcf9\",\"type\":\"GlyphRenderer\"},{\"attributes\":{\"data_source\":{\"id\":\"06104931-4685-4b8f-9ce3-1b26c09727e4\",\"type\":\"ColumnDataSource\"},\"glyph\":{\"id\":\"24f6a595-80a7-4721-a23e-f220c4ae5ee6\",\"type\":\"Rect\"},\"hover_glyph\":null,\"muted_glyph\":null},\"id\":\"cb83526e-b24c-421c-bb17-c17598366c6d\",\"type\":\"GlyphRenderer\"},{\"attributes\":{\"fill_alpha\":{\"field\":\"fill_alpha\"},\"fill_color\":{\"field\":\"color\"},\"height\":{\"field\":\"height\",\"units\":\"data\"},\"line_color\":{\"field\":\"line_color\"},\"width\":{\"field\":\"width\",\"units\":\"data\"},\"x\":{\"field\":\"x\"},\"y\":{\"field\":\"y\"}},\"id\":\"bcf4b895-71a5-4933-a06d-fafcbaa1f056\",\"type\":\"Rect\"},{\"attributes\":{\"fill_alpha\":{\"field\":\"fill_alpha\"},\"fill_color\":{\"field\":\"color\"},\"height\":{\"field\":\"height\",\"units\":\"data\"},\"line_color\":{\"field\":\"line_color\"},\"width\":{\"field\":\"width\",\"units\":\"data\"},\"x\":{\"field\":\"x\"},\"y\":{\"field\":\"y\"}},\"id\":\"2a5f5bab-e6bd-4f16-be74-ecfb2d3f5727\",\"type\":\"Rect\"},{\"attributes\":{\"callback\":null,\"column_names\":[\"x\",\"y\",\"width\",\"height\",\"color\",\"fill_alpha\",\"line_color\",\"line_alpha\",\"label\"],\"data\":{\"chart_index\":[\"(93.746667, 94.733333]\"],\"color\":[\"#f22c40\"],\"fill_alpha\":[0.8],\"height\":[0.0],\"label\":[\"(93.746667, 94.733333]\"],\"line_alpha\":[1.0],\"line_color\":[\"black\"],\"width\":[0.9866666666666646],\"x\":[\"94.24000000000001\"],\"y\":[0.0]}},\"id\":\"5df9ddc9-eaa5-473d-9842-a3e6b31bb7c7\",\"type\":\"ColumnDataSource\"},{\"attributes\":{\"callback\":null,\"column_names\":[\"x\",\"y\",\"width\",\"height\",\"color\",\"fill_alpha\",\"line_color\",\"line_alpha\",\"label\"],\"data\":{\"chart_index\":[\"(143.080000, 144.066667]\"],\"color\":[\"#f22c40\"],\"fill_alpha\":[0.8],\"height\":[0.0],\"label\":[\"(143.080000, 144.066667]\"],\"line_alpha\":[1.0],\"line_color\":[\"black\"],\"width\":[0.9866666666666504],\"x\":[\"143.5733335\"],\"y\":[0.0]}},\"id\":\"88884f87-7948-4b86-967a-733c6efd8b96\",\"type\":\"ColumnDataSource\"},{\"attributes\":{\"data_source\":{\"id\":\"3f4f4bc6-58cd-4971-8bcd-74d90382e51d\",\"type\":\"ColumnDataSource\"},\"glyph\":{\"id\":\"ff98ad5c-e2e5-4929-8cb5-53902ac098ce\",\"type\":\"Rect\"},\"hover_glyph\":null,\"muted_glyph\":null},\"id\":\"ca3d3053-14ab-4e0f-8cc3-ba43921d8bca\",\"type\":\"GlyphRenderer\"},{\"attributes\":{\"fill_alpha\":{\"field\":\"fill_alpha\"},\"fill_color\":{\"field\":\"color\"},\"height\":{\"field\":\"height\",\"units\":\"data\"},\"line_color\":{\"field\":\"line_color\"},\"width\":{\"field\":\"width\",\"units\":\"data\"},\"x\":{\"field\":\"x\"},\"y\":{\"field\":\"y\"}},\"id\":\"2d0407b0-bd45-4488-b9cb-15e3cc18b411\",\"type\":\"Rect\"},{\"attributes\":{\"fill_alpha\":{\"field\":\"fill_alpha\"},\"fill_color\":{\"field\":\"color\"},\"height\":{\"field\":\"height\",\"units\":\"data\"},\"line_color\":{\"field\":\"line_color\"},\"width\":{\"field\":\"width\",\"units\":\"data\"},\"x\":{\"field\":\"x\"},\"y\":{\"field\":\"y\"}},\"id\":\"0a1ffe94-0d6e-4854-a57d-5a3f74614dac\",\"type\":\"Rect\"},{\"attributes\":{\"data_source\":{\"id\":\"5df9ddc9-eaa5-473d-9842-a3e6b31bb7c7\",\"type\":\"ColumnDataSource\"},\"glyph\":{\"id\":\"2a5f5bab-e6bd-4f16-be74-ecfb2d3f5727\",\"type\":\"Rect\"},\"hover_glyph\":null,\"muted_glyph\":null},\"id\":\"e9e6e750-ec01-43ab-b47e-eddb18258e48\",\"type\":\"GlyphRenderer\"},{\"attributes\":{\"fill_alpha\":{\"field\":\"fill_alpha\"},\"fill_color\":{\"field\":\"color\"},\"height\":{\"field\":\"height\",\"units\":\"data\"},\"line_color\":{\"field\":\"line_color\"},\"width\":{\"field\":\"width\",\"units\":\"data\"},\"x\":{\"field\":\"x\"},\"y\":{\"field\":\"y\"}},\"id\":\"fd148f41-5d7e-47b4-aa6d-1ee6b9040b58\",\"type\":\"Rect\"},{\"attributes\":{\"callback\":null,\"column_names\":[\"x\",\"y\",\"width\",\"height\",\"color\",\"fill_alpha\",\"line_color\",\"line_alpha\",\"label\"],\"data\":{\"chart_index\":[\"(95.720000, 96.706667]\"],\"color\":[\"#f22c40\"],\"fill_alpha\":[0.8],\"height\":[0.0],\"label\":[\"(95.720000, 96.706667]\"],\"line_alpha\":[1.0],\"line_color\":[\"black\"],\"width\":[0.9866666666666646],\"x\":[\"96.2133335\"],\"y\":[0.0]}},\"id\":\"c70c035a-b2f2-4284-91db-9946432721f0\",\"type\":\"ColumnDataSource\"},{\"attributes\":{\"fill_alpha\":{\"field\":\"fill_alpha\"},\"fill_color\":{\"field\":\"color\"},\"height\":{\"field\":\"height\",\"units\":\"data\"},\"line_color\":{\"field\":\"line_color\"},\"width\":{\"field\":\"width\",\"units\":\"data\"},\"x\":{\"field\":\"x\"},\"y\":{\"field\":\"y\"}},\"id\":\"7c9caece-adeb-4663-a98e-68e8884b7e58\",\"type\":\"Rect\"},{\"attributes\":{\"callback\":null,\"column_names\":[\"x\",\"y\",\"width\",\"height\",\"color\",\"fill_alpha\",\"line_color\",\"line_alpha\",\"label\"],\"data\":{\"chart_index\":[\"(96.706667, 97.693333]\"],\"color\":[\"#f22c40\"],\"fill_alpha\":[0.8],\"height\":[0.0],\"label\":[\"(96.706667, 97.693333]\"],\"line_alpha\":[1.0],\"line_color\":[\"black\"],\"width\":[0.9866666666666788],\"x\":[\"97.19999999999999\"],\"y\":[0.0]}},\"id\":\"8a6cc2db-8677-4026-9dfc-8762b6d6df3d\",\"type\":\"ColumnDataSource\"},{\"attributes\":{\"fill_alpha\":{\"field\":\"fill_alpha\"},\"fill_color\":{\"field\":\"color\"},\"height\":{\"field\":\"height\",\"units\":\"data\"},\"line_color\":{\"field\":\"line_color\"},\"width\":{\"field\":\"width\",\"units\":\"data\"},\"x\":{\"field\":\"x\"},\"y\":{\"field\":\"y\"}},\"id\":\"82bf5b2e-a6e2-482b-badf-510101a3d6ed\",\"type\":\"Rect\"},{\"attributes\":{\"data_source\":{\"id\":\"8a6cc2db-8677-4026-9dfc-8762b6d6df3d\",\"type\":\"ColumnDataSource\"},\"glyph\":{\"id\":\"7c9caece-adeb-4663-a98e-68e8884b7e58\",\"type\":\"Rect\"},\"hover_glyph\":null,\"muted_glyph\":null},\"id\":\"8c62c149-7e9b-48a7-b0ce-f23778a5bd10\",\"type\":\"GlyphRenderer\"},{\"attributes\":{\"fill_alpha\":{\"field\":\"fill_alpha\"},\"fill_color\":{\"field\":\"color\"},\"height\":{\"field\":\"height\",\"units\":\"data\"},\"line_color\":{\"field\":\"line_color\"},\"width\":{\"field\":\"width\",\"units\":\"data\"},\"x\":{\"field\":\"x\"},\"y\":{\"field\":\"y\"}},\"id\":\"fcd7eb13-bd57-4621-b196-e632a342a416\",\"type\":\"Rect\"},{\"attributes\":{\"fill_alpha\":{\"field\":\"fill_alpha\"},\"fill_color\":{\"field\":\"color\"},\"height\":{\"field\":\"height\",\"units\":\"data\"},\"line_color\":{\"field\":\"line_color\"},\"width\":{\"field\":\"width\",\"units\":\"data\"},\"x\":{\"field\":\"x\"},\"y\":{\"field\":\"y\"}},\"id\":\"75bc7c6b-2ed7-49a1-a430-6ddcd257731e\",\"type\":\"Rect\"},{\"attributes\":{\"callback\":null,\"column_names\":[\"x\",\"y\",\"width\",\"height\",\"color\",\"fill_alpha\",\"line_color\",\"line_alpha\",\"label\"],\"data\":{\"chart_index\":[\"(110.520000, 111.506667]\"],\"color\":[\"#f22c40\"],\"fill_alpha\":[0.8],\"height\":[0.0],\"label\":[\"(110.520000, 111.506667]\"],\"line_alpha\":[1.0],\"line_color\":[\"black\"],\"width\":[0.9866666666666788],\"x\":[\"111.01333349999999\"],\"y\":[0.0]}},\"id\":\"9a5e1770-157a-468d-b423-4a098800bbb4\",\"type\":\"ColumnDataSource\"},{\"attributes\":{\"fill_alpha\":{\"field\":\"fill_alpha\"},\"fill_color\":{\"field\":\"color\"},\"height\":{\"field\":\"height\",\"units\":\"data\"},\"line_color\":{\"field\":\"line_color\"},\"width\":{\"field\":\"width\",\"units\":\"data\"},\"x\":{\"field\":\"x\"},\"y\":{\"field\":\"y\"}},\"id\":\"57015cfa-ad61-4be9-9be8-48dcc8581b5a\",\"type\":\"Rect\"},{\"attributes\":{\"fill_alpha\":{\"field\":\"fill_alpha\"},\"fill_color\":{\"field\":\"color\"},\"height\":{\"field\":\"height\",\"units\":\"data\"},\"line_color\":{\"field\":\"line_color\"},\"width\":{\"field\":\"width\",\"units\":\"data\"},\"x\":{\"field\":\"x\"},\"y\":{\"field\":\"y\"}},\"id\":\"8274de36-8d1b-4d0a-9bb0-6b46cbb53c92\",\"type\":\"Rect\"},{\"attributes\":{\"callback\":null,\"column_names\":[\"x\",\"y\",\"width\",\"height\",\"color\",\"fill_alpha\",\"line_color\",\"line_alpha\",\"label\"],\"data\":{\"chart_index\":[\"(75.986667, 76.973333]\"],\"color\":[\"#f22c40\"],\"fill_alpha\":[0.8],\"height\":[0.0],\"label\":[\"(75.986667, 76.973333]\"],\"line_alpha\":[1.0],\"line_color\":[\"black\"],\"width\":[0.9866666666666646],\"x\":[\"76.47999999999999\"],\"y\":[0.0]}},\"id\":\"6034eb86-4c58-4d98-a77e-63dd724ed319\",\"type\":\"ColumnDataSource\"},{\"attributes\":{\"fill_alpha\":{\"field\":\"fill_alpha\"},\"fill_color\":{\"field\":\"color\"},\"height\":{\"field\":\"height\",\"units\":\"data\"},\"line_color\":{\"field\":\"line_color\"},\"width\":{\"field\":\"width\",\"units\":\"data\"},\"x\":{\"field\":\"x\"},\"y\":{\"field\":\"y\"}},\"id\":\"8e173d9d-e079-4f49-a512-11b41e6ce996\",\"type\":\"Rect\"},{\"attributes\":{\"data_source\":{\"id\":\"241ddb20-d3fe-4058-a8f2-0f0bca147bab\",\"type\":\"ColumnDataSource\"},\"glyph\":{\"id\":\"83b56029-fcc8-47f2-a96c-ad0cb695e11f\",\"type\":\"Rect\"},\"hover_glyph\":null,\"muted_glyph\":null},\"id\":\"3fc3baee-6434-404d-9c01-631797f2d65e\",\"type\":\"GlyphRenderer\"},{\"attributes\":{\"callback\":null,\"column_names\":[\"x\",\"y\",\"width\",\"height\",\"color\",\"fill_alpha\",\"line_color\",\"line_alpha\",\"label\"],\"data\":{\"chart_index\":[\"(29.613333, 30.600000]\"],\"color\":[\"#f22c40\"],\"fill_alpha\":[0.8],\"height\":[0.0],\"label\":[\"(29.613333, 30.600000]\"],\"line_alpha\":[1.0],\"line_color\":[\"black\"],\"width\":[0.9866666666666681],\"x\":[\"30.106666500000003\"],\"y\":[0.0]}},\"id\":\"ac39ffde-8a1b-4d84-9653-a60f7e3d9546\",\"type\":\"ColumnDataSource\"},{\"attributes\":{\"callback\":null,\"column_names\":[\"x\",\"y\",\"width\",\"height\",\"color\",\"fill_alpha\",\"line_color\",\"line_alpha\",\"label\"],\"data\":{\"chart_index\":[\"(41.453333, 42.440000]\"],\"color\":[\"#f22c40\"],\"fill_alpha\":[0.8],\"height\":[0.0],\"label\":[\"(41.453333, 42.440000]\"],\"line_alpha\":[1.0],\"line_color\":[\"black\"],\"width\":[0.9866666666666646],\"x\":[\"41.9466665\"],\"y\":[0.0]}},\"id\":\"bf669f62-f7e4-451e-99c8-9ad4342a75bf\",\"type\":\"ColumnDataSource\"},{\"attributes\":{\"data_source\":{\"id\":\"908c0f5c-8a76-4781-927c-0d9b65bcf034\",\"type\":\"ColumnDataSource\"},\"glyph\":{\"id\":\"a815b7e2-8378-4d84-b0bd-86d0f9d2cf94\",\"type\":\"Rect\"},\"hover_glyph\":null,\"muted_glyph\":null},\"id\":\"860b5d3d-6acc-46d2-ab1f-6833b9abecac\",\"type\":\"GlyphRenderer\"},{\"attributes\":{\"callback\":null,\"column_names\":[\"x\",\"y\",\"width\",\"height\",\"color\",\"fill_alpha\",\"line_color\",\"line_alpha\",\"label\"],\"data\":{\"chart_index\":[\"(33.560000, 34.546667]\"],\"color\":[\"#f22c40\"],\"fill_alpha\":[0.8],\"height\":[1.0],\"label\":[\"(33.560000, 34.546667]\"],\"line_alpha\":[1.0],\"line_color\":[\"black\"],\"width\":[0.9866666666666646],\"x\":[\"34.0533335\"],\"y\":[0.5]}},\"id\":\"78b9bae1-40be-4aca-a30f-7907a7c04782\",\"type\":\"ColumnDataSource\"},{\"attributes\":{\"fill_alpha\":{\"field\":\"fill_alpha\"},\"fill_color\":{\"field\":\"color\"},\"height\":{\"field\":\"height\",\"units\":\"data\"},\"line_color\":{\"field\":\"line_color\"},\"width\":{\"field\":\"width\",\"units\":\"data\"},\"x\":{\"field\":\"x\"},\"y\":{\"field\":\"y\"}},\"id\":\"393f6414-cf20-49b8-a8d4-7596f830c562\",\"type\":\"Rect\"},{\"attributes\":{\"callback\":null,\"column_names\":[\"x\",\"y\",\"width\",\"height\",\"color\",\"fill_alpha\",\"line_color\",\"line_alpha\",\"label\"],\"data\":{\"chart_index\":[\"(97.693333, 98.680000]\"],\"color\":[\"#f22c40\"],\"fill_alpha\":[0.8],\"height\":[0.0],\"label\":[\"(97.693333, 98.680000]\"],\"line_alpha\":[1.0],\"line_color\":[\"black\"],\"width\":[0.9866666666666646],\"x\":[\"98.1866665\"],\"y\":[0.0]}},\"id\":\"7b1e4088-6ad2-414e-8ab0-30a4169e4b47\",\"type\":\"ColumnDataSource\"},{\"attributes\":{\"data_source\":{\"id\":\"7b1e4088-6ad2-414e-8ab0-30a4169e4b47\",\"type\":\"ColumnDataSource\"},\"glyph\":{\"id\":\"8eb0854c-3f63-41be-87be-a6e176946942\",\"type\":\"Rect\"},\"hover_glyph\":null,\"muted_glyph\":null},\"id\":\"9746d724-5d81-496e-8411-42df30e279a2\",\"type\":\"GlyphRenderer\"},{\"attributes\":{\"data_source\":{\"id\":\"88884f87-7948-4b86-967a-733c6efd8b96\",\"type\":\"ColumnDataSource\"},\"glyph\":{\"id\":\"5d62883e-77ee-455c-a8cd-d5b7d39a1fe2\",\"type\":\"Rect\"},\"hover_glyph\":null,\"muted_glyph\":null},\"id\":\"1ee73275-13b4-4ce6-b1e2-68e931360e97\",\"type\":\"GlyphRenderer\"},{\"attributes\":{\"callback\":null,\"column_names\":[\"x\",\"y\",\"width\",\"height\",\"color\",\"fill_alpha\",\"line_color\",\"line_alpha\",\"label\"],\"data\":{\"chart_index\":[\"(76.973333, 77.960000]\"],\"color\":[\"#f22c40\"],\"fill_alpha\":[0.8],\"height\":[0.0],\"label\":[\"(76.973333, 77.960000]\"],\"line_alpha\":[1.0],\"line_color\":[\"black\"],\"width\":[0.9866666666666788],\"x\":[\"77.4666665\"],\"y\":[0.0]}},\"id\":\"2655c4c4-07a0-4bc8-bb66-dd4942f77026\",\"type\":\"ColumnDataSource\"},{\"attributes\":{\"fill_alpha\":{\"field\":\"fill_alpha\"},\"fill_color\":{\"field\":\"color\"},\"height\":{\"field\":\"height\",\"units\":\"data\"},\"line_color\":{\"field\":\"line_color\"},\"width\":{\"field\":\"width\",\"units\":\"data\"},\"x\":{\"field\":\"x\"},\"y\":{\"field\":\"y\"}},\"id\":\"6d21503b-e21d-4acf-8342-38d09195a61c\",\"type\":\"Rect\"},{\"attributes\":{\"fill_alpha\":{\"field\":\"fill_alpha\"},\"fill_color\":{\"field\":\"color\"},\"height\":{\"field\":\"height\",\"units\":\"data\"},\"line_color\":{\"field\":\"line_color\"},\"width\":{\"field\":\"width\",\"units\":\"data\"},\"x\":{\"field\":\"x\"},\"y\":{\"field\":\"y\"}},\"id\":\"e2520116-6863-49f3-bfef-97b2dea3a3aa\",\"type\":\"Rect\"},{\"attributes\":{\"fill_alpha\":{\"field\":\"fill_alpha\"},\"fill_color\":{\"field\":\"color\"},\"height\":{\"field\":\"height\",\"units\":\"data\"},\"line_color\":{\"field\":\"line_color\"},\"width\":{\"field\":\"width\",\"units\":\"data\"},\"x\":{\"field\":\"x\"},\"y\":{\"field\":\"y\"}},\"id\":\"837302f7-27c5-493b-86c9-6fde38179e74\",\"type\":\"Rect\"},{\"attributes\":{\"callback\":null,\"column_names\":[\"x\",\"y\",\"width\",\"height\",\"color\",\"fill_alpha\",\"line_color\",\"line_alpha\",\"label\"],\"data\":{\"chart_index\":[\"(144.066667, 145.053333]\"],\"color\":[\"#f22c40\"],\"fill_alpha\":[0.8],\"height\":[0.0],\"label\":[\"(144.066667, 145.053333]\"],\"line_alpha\":[1.0],\"line_color\":[\"black\"],\"width\":[0.9866666666666788],\"x\":[\"144.56\"],\"y\":[0.0]}},\"id\":\"6a907041-3ea7-4175-b118-47bb35127f22\",\"type\":\"ColumnDataSource\"},{\"attributes\":{\"data_source\":{\"id\":\"de85216f-f92c-4ef3-ba75-0386f5bcd320\",\"type\":\"ColumnDataSource\"},\"glyph\":{\"id\":\"682f5286-a4ef-499d-a9e4-ddf34b92badc\",\"type\":\"Rect\"},\"hover_glyph\":null,\"muted_glyph\":null},\"id\":\"6c1e8d00-d984-4ab6-99aa-7e159e320321\",\"type\":\"GlyphRenderer\"},{\"attributes\":{\"callback\":null,\"column_names\":[\"x\",\"y\",\"width\",\"height\",\"color\",\"fill_alpha\",\"line_color\",\"line_alpha\",\"label\"],\"data\":{\"chart_index\":[\"(42.440000, 43.426667]\"],\"color\":[\"#f22c40\"],\"fill_alpha\":[0.8],\"height\":[2.0],\"label\":[\"(42.440000, 43.426667]\"],\"line_alpha\":[1.0],\"line_color\":[\"black\"],\"width\":[0.9866666666666717],\"x\":[\"42.9333335\"],\"y\":[1.0]}},\"id\":\"2fc4b89c-4722-4d24-9088-b405ac50e68a\",\"type\":\"ColumnDataSource\"},{\"attributes\":{\"callback\":null,\"column_names\":[\"x\",\"y\",\"width\",\"height\",\"color\",\"fill_alpha\",\"line_color\",\"line_alpha\",\"label\"],\"data\":{\"chart_index\":[\"(134.200000, 135.186667]\"],\"color\":[\"#f22c40\"],\"fill_alpha\":[0.8],\"height\":[0.0],\"label\":[\"(134.200000, 135.186667]\"],\"line_alpha\":[1.0],\"line_color\":[\"black\"],\"width\":[0.9866666666666504],\"x\":[\"134.6933335\"],\"y\":[0.0]}},\"id\":\"d72ec487-7844-465d-a137-77af529e3392\",\"type\":\"ColumnDataSource\"},{\"attributes\":{\"data_source\":{\"id\":\"ac39ffde-8a1b-4d84-9653-a60f7e3d9546\",\"type\":\"ColumnDataSource\"},\"glyph\":{\"id\":\"fcd7eb13-bd57-4621-b196-e632a342a416\",\"type\":\"Rect\"},\"hover_glyph\":null,\"muted_glyph\":null},\"id\":\"8ae90934-60f4-4cc7-82bb-6ff28a1c5c24\",\"type\":\"GlyphRenderer\"},{\"attributes\":{\"data_source\":{\"id\":\"bf669f62-f7e4-451e-99c8-9ad4342a75bf\",\"type\":\"ColumnDataSource\"},\"glyph\":{\"id\":\"75bc7c6b-2ed7-49a1-a430-6ddcd257731e\",\"type\":\"Rect\"},\"hover_glyph\":null,\"muted_glyph\":null},\"id\":\"73bd7a80-6416-440d-a657-68047343c98a\",\"type\":\"GlyphRenderer\"},{\"attributes\":{\"data_source\":{\"id\":\"1386e9d1-ff1e-4163-8865-6e7cfb34d0bd\",\"type\":\"ColumnDataSource\"},\"glyph\":{\"id\":\"57015cfa-ad61-4be9-9be8-48dcc8581b5a\",\"type\":\"Rect\"},\"hover_glyph\":null,\"muted_glyph\":null},\"id\":\"2901b00e-2e17-4366-b4f6-1582054329f3\",\"type\":\"GlyphRenderer\"},{\"attributes\":{\"fill_alpha\":{\"field\":\"fill_alpha\"},\"fill_color\":{\"field\":\"color\"},\"height\":{\"field\":\"height\",\"units\":\"data\"},\"line_color\":{\"field\":\"line_color\"},\"width\":{\"field\":\"width\",\"units\":\"data\"},\"x\":{\"field\":\"x\"},\"y\":{\"field\":\"y\"}},\"id\":\"2a6c5e21-24a8-442c-af57-735ea86439cd\",\"type\":\"Rect\"},{\"attributes\":{\"data_source\":{\"id\":\"63ecb052-7800-44fa-9976-dc45bcb343a0\",\"type\":\"ColumnDataSource\"},\"glyph\":{\"id\":\"988185a0-f3d0-45f0-87f3-6d145378ee4f\",\"type\":\"Rect\"},\"hover_glyph\":null,\"muted_glyph\":null},\"id\":\"0091524c-4e2e-48c9-b74d-4b6f74798eae\",\"type\":\"GlyphRenderer\"},{\"attributes\":{\"fill_alpha\":{\"field\":\"fill_alpha\"},\"fill_color\":{\"field\":\"color\"},\"height\":{\"field\":\"height\",\"units\":\"data\"},\"line_color\":{\"field\":\"line_color\"},\"width\":{\"field\":\"width\",\"units\":\"data\"},\"x\":{\"field\":\"x\"},\"y\":{\"field\":\"y\"}},\"id\":\"3a9b8dba-fe2e-4d6a-b25d-326a80534e30\",\"type\":\"Rect\"},{\"attributes\":{\"fill_alpha\":{\"field\":\"fill_alpha\"},\"fill_color\":{\"field\":\"color\"},\"height\":{\"field\":\"height\",\"units\":\"data\"},\"line_color\":{\"field\":\"line_color\"},\"width\":{\"field\":\"width\",\"units\":\"data\"},\"x\":{\"field\":\"x\"},\"y\":{\"field\":\"y\"}},\"id\":\"ea4dcd24-1c1a-4e98-aedc-6f9af0ad0690\",\"type\":\"Rect\"},{\"attributes\":{\"fill_alpha\":{\"field\":\"fill_alpha\"},\"fill_color\":{\"field\":\"color\"},\"height\":{\"field\":\"height\",\"units\":\"data\"},\"line_color\":{\"field\":\"line_color\"},\"width\":{\"field\":\"width\",\"units\":\"data\"},\"x\":{\"field\":\"x\"},\"y\":{\"field\":\"y\"}},\"id\":\"477127b1-5cea-4437-9962-e29c9ea9c019\",\"type\":\"Rect\"},{\"attributes\":{\"fill_alpha\":{\"field\":\"fill_alpha\"},\"fill_color\":{\"field\":\"color\"},\"height\":{\"field\":\"height\",\"units\":\"data\"},\"line_color\":{\"field\":\"line_color\"},\"width\":{\"field\":\"width\",\"units\":\"data\"},\"x\":{\"field\":\"x\"},\"y\":{\"field\":\"y\"}},\"id\":\"47bcb10d-43cb-435d-8025-b92ac0564fad\",\"type\":\"Rect\"},{\"attributes\":{\"callback\":null,\"column_names\":[\"x\",\"y\",\"width\",\"height\",\"color\",\"fill_alpha\",\"line_color\",\"line_alpha\",\"label\"],\"data\":{\"chart_index\":[\"(147.026667, 148.013333]\"],\"color\":[\"#f22c40\"],\"fill_alpha\":[0.8],\"height\":[0.0],\"label\":[\"(147.026667, 148.013333]\"],\"line_alpha\":[1.0],\"line_color\":[\"black\"],\"width\":[0.9866666666666788],\"x\":[\"147.51999999999998\"],\"y\":[0.0]}},\"id\":\"5fc24ae3-4596-424c-b797-aef2303398b3\",\"type\":\"ColumnDataSource\"},{\"attributes\":{\"data_source\":{\"id\":\"6034eb86-4c58-4d98-a77e-63dd724ed319\",\"type\":\"ColumnDataSource\"},\"glyph\":{\"id\":\"8274de36-8d1b-4d0a-9bb0-6b46cbb53c92\",\"type\":\"Rect\"},\"hover_glyph\":null,\"muted_glyph\":null},\"id\":\"ec2a3acc-6f06-4c1b-9bd9-48cbb184a73d\",\"type\":\"GlyphRenderer\"},{\"attributes\":{\"callback\":null,\"column_names\":[\"x\",\"y\",\"width\",\"height\",\"color\",\"fill_alpha\",\"line_color\",\"line_alpha\",\"label\"],\"data\":{\"chart_index\":[\"(116.440000, 117.426667]\"],\"color\":[\"#f22c40\"],\"fill_alpha\":[0.8],\"height\":[0.0],\"label\":[\"(116.440000, 117.426667]\"],\"line_alpha\":[1.0],\"line_color\":[\"black\"],\"width\":[0.9866666666666788],\"x\":[\"116.9333335\"],\"y\":[0.0]}},\"id\":\"5742ac79-81da-4570-b88e-0448aa0194e7\",\"type\":\"ColumnDataSource\"},{\"attributes\":{\"fill_alpha\":{\"field\":\"fill_alpha\"},\"fill_color\":{\"field\":\"color\"},\"height\":{\"field\":\"height\",\"units\":\"data\"},\"line_color\":{\"field\":\"line_color\"},\"width\":{\"field\":\"width\",\"units\":\"data\"},\"x\":{\"field\":\"x\"},\"y\":{\"field\":\"y\"}},\"id\":\"f26ed243-94ae-4776-a7ad-472dc0ef297e\",\"type\":\"Rect\"},{\"attributes\":{\"callback\":null,\"column_names\":[\"x\",\"y\",\"width\",\"height\",\"color\",\"fill_alpha\",\"line_color\",\"line_alpha\",\"label\"],\"data\":{\"chart_index\":[\"(148.013333, 149.000000]\"],\"color\":[\"#f22c40\"],\"fill_alpha\":[0.8],\"height\":[2.0],\"label\":[\"(148.013333, 149.000000]\"],\"line_alpha\":[1.0],\"line_color\":[\"black\"],\"width\":[0.9866666666666504],\"x\":[\"148.5066665\"],\"y\":[1.0]}},\"id\":\"c773b95b-5d32-4fc1-96ef-e9d8746a71fd\",\"type\":\"ColumnDataSource\"},{\"attributes\":{\"data_source\":{\"id\":\"0265e293-fb99-4b98-bf4d-d0d8c710f184\",\"type\":\"ColumnDataSource\"},\"glyph\":{\"id\":\"8e173d9d-e079-4f49-a512-11b41e6ce996\",\"type\":\"Rect\"},\"hover_glyph\":null,\"muted_glyph\":null},\"id\":\"1aa8af73-174b-4b5e-80d2-89a6eabc3eb8\",\"type\":\"GlyphRenderer\"},{\"attributes\":{\"callback\":null,\"column_names\":[\"x\",\"y\",\"width\",\"height\",\"color\",\"fill_alpha\",\"line_color\",\"line_alpha\",\"label\"],\"data\":{\"chart_index\":[\"(32.573333, 33.560000]\"],\"color\":[\"#f22c40\"],\"fill_alpha\":[0.8],\"height\":[0.0],\"label\":[\"(32.573333, 33.560000]\"],\"line_alpha\":[1.0],\"line_color\":[\"black\"],\"width\":[0.9866666666666646],\"x\":[\"33.0666665\"],\"y\":[0.0]}},\"id\":\"4ac59cc9-d43e-4635-b30b-30ce9784edc2\",\"type\":\"ColumnDataSource\"},{\"attributes\":{\"callback\":null,\"column_names\":[\"x\",\"y\",\"width\",\"height\",\"color\",\"fill_alpha\",\"line_color\",\"line_alpha\",\"label\"],\"data\":{\"chart_index\":[\"(77.960000, 78.946667]\"],\"color\":[\"#f22c40\"],\"fill_alpha\":[0.8],\"height\":[0.0],\"label\":[\"(77.960000, 78.946667]\"],\"line_alpha\":[1.0],\"line_color\":[\"black\"],\"width\":[0.9866666666666646],\"x\":[\"78.4533335\"],\"y\":[0.0]}},\"id\":\"ab06b933-90da-4c30-bc3a-0f4e34f88459\",\"type\":\"ColumnDataSource\"},{\"attributes\":{\"data_source\":{\"id\":\"10dcd958-506b-4e8c-ad61-f4600f4f82a5\",\"type\":\"ColumnDataSource\"},\"glyph\":{\"id\":\"b78ee9c6-eefd-4907-9632-3ebe7d17e2f7\",\"type\":\"Rect\"},\"hover_glyph\":null,\"muted_glyph\":null},\"id\":\"8bdbbc5b-d57a-4db8-b454-be10658d7ed4\",\"type\":\"GlyphRenderer\"},{\"attributes\":{\"data_source\":{\"id\":\"6a907041-3ea7-4175-b118-47bb35127f22\",\"type\":\"ColumnDataSource\"},\"glyph\":{\"id\":\"2a6c5e21-24a8-442c-af57-735ea86439cd\",\"type\":\"Rect\"},\"hover_glyph\":null,\"muted_glyph\":null},\"id\":\"d0ac0e7d-2ccb-44fc-a869-f4714ef83708\",\"type\":\"GlyphRenderer\"},{\"attributes\":{\"callback\":null,\"column_names\":[\"x\",\"y\",\"width\",\"height\",\"color\",\"fill_alpha\",\"line_color\",\"line_alpha\",\"label\"],\"data\":{\"chart_index\":[\"(59.213333, 60.200000]\"],\"color\":[\"#f22c40\"],\"fill_alpha\":[0.8],\"height\":[0.0],\"label\":[\"(59.213333, 60.200000]\"],\"line_alpha\":[1.0],\"line_color\":[\"black\"],\"width\":[0.9866666666666646],\"x\":[\"59.7066665\"],\"y\":[0.0]}},\"id\":\"ae3cf589-1c3a-4822-8548-9c1649ecd928\",\"type\":\"ColumnDataSource\"},{\"attributes\":{\"callback\":null,\"column_names\":[\"x\",\"y\",\"width\",\"height\",\"color\",\"fill_alpha\",\"line_color\",\"line_alpha\",\"label\"],\"data\":{\"chart_index\":[\"(99.666667, 100.653333]\"],\"color\":[\"#f22c40\"],\"fill_alpha\":[0.8],\"height\":[0.0],\"label\":[\"(99.666667, 100.653333]\"],\"line_alpha\":[1.0],\"line_color\":[\"black\"],\"width\":[0.9866666666666646],\"x\":[\"100.16\"],\"y\":[0.0]}},\"id\":\"afcc03a4-1c24-4440-bc79-bd73c3b21287\",\"type\":\"ColumnDataSource\"},{\"attributes\":{\"fill_alpha\":{\"field\":\"fill_alpha\"},\"fill_color\":{\"field\":\"color\"},\"height\":{\"field\":\"height\",\"units\":\"data\"},\"line_color\":{\"field\":\"line_color\"},\"width\":{\"field\":\"width\",\"units\":\"data\"},\"x\":{\"field\":\"x\"},\"y\":{\"field\":\"y\"}},\"id\":\"0cf65ecd-971b-4e5e-83e6-22d4ca38a9e4\",\"type\":\"Rect\"},{\"attributes\":{\"fill_alpha\":{\"field\":\"fill_alpha\"},\"fill_color\":{\"field\":\"color\"},\"height\":{\"field\":\"height\",\"units\":\"data\"},\"line_color\":{\"field\":\"line_color\"},\"width\":{\"field\":\"width\",\"units\":\"data\"},\"x\":{\"field\":\"x\"},\"y\":{\"field\":\"y\"}},\"id\":\"1d996def-12bd-4ffa-bbac-4595560c7d59\",\"type\":\"Rect\"},{\"attributes\":{\"data_source\":{\"id\":\"2fc4b89c-4722-4d24-9088-b405ac50e68a\",\"type\":\"ColumnDataSource\"},\"glyph\":{\"id\":\"6d21503b-e21d-4acf-8342-38d09195a61c\",\"type\":\"Rect\"},\"hover_glyph\":null,\"muted_glyph\":null},\"id\":\"f84af43a-b316-47c2-9794-55f14643b9be\",\"type\":\"GlyphRenderer\"},{\"attributes\":{\"data_source\":{\"id\":\"d72ec487-7844-465d-a137-77af529e3392\",\"type\":\"ColumnDataSource\"},\"glyph\":{\"id\":\"837302f7-27c5-493b-86c9-6fde38179e74\",\"type\":\"Rect\"},\"hover_glyph\":null,\"muted_glyph\":null},\"id\":\"93db4b35-4c8c-46ea-afcf-1caa476cd7ec\",\"type\":\"GlyphRenderer\"},{\"attributes\":{\"data_source\":{\"id\":\"6bd3d3dc-fe33-4a61-8d8c-ffcad265ed7a\",\"type\":\"ColumnDataSource\"},\"glyph\":{\"id\":\"bcf4b895-71a5-4933-a06d-fafcbaa1f056\",\"type\":\"Rect\"},\"hover_glyph\":null,\"muted_glyph\":null},\"id\":\"bb12c655-5937-418e-98f4-ab8fd23b7e58\",\"type\":\"GlyphRenderer\"},{\"attributes\":{\"callback\":null,\"column_names\":[\"x\",\"y\",\"width\",\"height\",\"color\",\"fill_alpha\",\"line_color\",\"line_alpha\",\"label\"],\"data\":{\"chart_index\":[\"(100.653333, 101.640000]\"],\"color\":[\"#f22c40\"],\"fill_alpha\":[0.8],\"height\":[0.0],\"label\":[\"(100.653333, 101.640000]\"],\"line_alpha\":[1.0],\"line_color\":[\"black\"],\"width\":[0.9866666666666646],\"x\":[\"101.14666650000001\"],\"y\":[0.0]}},\"id\":\"66c77836-4d18-4a6b-a89f-f1c3a9ec950f\",\"type\":\"ColumnDataSource\"},{\"attributes\":{\"callback\":null,\"column_names\":[\"x\",\"y\",\"width\",\"height\",\"color\",\"fill_alpha\",\"line_color\",\"line_alpha\",\"label\"],\"data\":{\"chart_index\":[\"(43.426667, 44.413333]\"],\"color\":[\"#f22c40\"],\"fill_alpha\":[0.8],\"height\":[0.0],\"label\":[\"(43.426667, 44.413333]\"],\"line_alpha\":[1.0],\"line_color\":[\"black\"],\"width\":[0.9866666666666646],\"x\":[\"43.92\"],\"y\":[0.0]}},\"id\":\"87963293-acf7-499e-835f-e9f67fdfa9e6\",\"type\":\"ColumnDataSource\"},{\"attributes\":{\"callback\":null,\"column_names\":[\"x\",\"y\",\"width\",\"height\",\"color\",\"fill_alpha\",\"line_color\",\"line_alpha\",\"label\"],\"data\":{\"chart_index\":[\"(88.813333, 89.800000]\"],\"color\":[\"#f22c40\"],\"fill_alpha\":[0.8],\"height\":[0.0],\"label\":[\"(88.813333, 89.800000]\"],\"line_alpha\":[1.0],\"line_color\":[\"black\"],\"width\":[0.9866666666666646],\"x\":[\"89.3066665\"],\"y\":[0.0]}},\"id\":\"32e66aa8-bc86-413a-a0a9-be6ca5362e10\",\"type\":\"ColumnDataSource\"},{\"attributes\":{\"callback\":null,\"column_names\":[\"x\",\"y\",\"width\",\"height\",\"color\",\"fill_alpha\",\"line_color\",\"line_alpha\",\"label\"],\"data\":{\"chart_index\":[\"(135.186667, 136.173333]\"],\"color\":[\"#f22c40\"],\"fill_alpha\":[0.8],\"height\":[0.0],\"label\":[\"(135.186667, 136.173333]\"],\"line_alpha\":[1.0],\"line_color\":[\"black\"],\"width\":[0.9866666666666788],\"x\":[\"135.68\"],\"y\":[0.0]}},\"id\":\"c0efcb6f-0901-4698-8d17-a0a9a0523d68\",\"type\":\"ColumnDataSource\"},{\"attributes\":{\"fill_alpha\":{\"field\":\"fill_alpha\"},\"fill_color\":{\"field\":\"color\"},\"height\":{\"field\":\"height\",\"units\":\"data\"},\"line_color\":{\"field\":\"line_color\"},\"width\":{\"field\":\"width\",\"units\":\"data\"},\"x\":{\"field\":\"x\"},\"y\":{\"field\":\"y\"}},\"id\":\"4364fe21-dbf4-4b46-8519-ed998eb330aa\",\"type\":\"Rect\"},{\"attributes\":{\"fill_alpha\":{\"field\":\"fill_alpha\"},\"fill_color\":{\"field\":\"color\"},\"height\":{\"field\":\"height\",\"units\":\"data\"},\"line_color\":{\"field\":\"line_color\"},\"width\":{\"field\":\"width\",\"units\":\"data\"},\"x\":{\"field\":\"x\"},\"y\":{\"field\":\"y\"}},\"id\":\"6f236757-09ca-4aec-9570-58304eea52ce\",\"type\":\"Rect\"},{\"attributes\":{\"data_source\":{\"id\":\"4ac59cc9-d43e-4635-b30b-30ce9784edc2\",\"type\":\"ColumnDataSource\"},\"glyph\":{\"id\":\"3a9b8dba-fe2e-4d6a-b25d-326a80534e30\",\"type\":\"Rect\"},\"hover_glyph\":null,\"muted_glyph\":null},\"id\":\"71749899-35f6-4371-b454-47004f178ebd\",\"type\":\"GlyphRenderer\"},{\"attributes\":{\"data_source\":{\"id\":\"2655c4c4-07a0-4bc8-bb66-dd4942f77026\",\"type\":\"ColumnDataSource\"},\"glyph\":{\"id\":\"393f6414-cf20-49b8-a8d4-7596f830c562\",\"type\":\"Rect\"},\"hover_glyph\":null,\"muted_glyph\":null},\"id\":\"25ec05ee-ed6c-47d8-9379-06a89b9a3b82\",\"type\":\"GlyphRenderer\"},{\"attributes\":{\"callback\":null,\"column_names\":[\"x\",\"y\",\"width\",\"height\",\"color\",\"fill_alpha\",\"line_color\",\"line_alpha\",\"label\"],\"data\":{\"chart_index\":[\"(44.413333, 45.400000]\"],\"color\":[\"#f22c40\"],\"fill_alpha\":[0.8],\"height\":[3.0],\"label\":[\"(44.413333, 45.400000]\"],\"line_alpha\":[1.0],\"line_color\":[\"black\"],\"width\":[0.9866666666666646],\"x\":[\"44.9066665\"],\"y\":[1.5]}},\"id\":\"c005f190-a718-4dcd-a06b-6e397d218c2a\",\"type\":\"ColumnDataSource\"},{\"attributes\":{\"fill_alpha\":{\"field\":\"fill_alpha\"},\"fill_color\":{\"field\":\"color\"},\"height\":{\"field\":\"height\",\"units\":\"data\"},\"line_color\":{\"field\":\"line_color\"},\"width\":{\"field\":\"width\",\"units\":\"data\"},\"x\":{\"field\":\"x\"},\"y\":{\"field\":\"y\"}},\"id\":\"8a1b9c26-a94d-4899-9e83-3009e566cf63\",\"type\":\"Rect\"},{\"attributes\":{\"fill_alpha\":{\"field\":\"fill_alpha\"},\"fill_color\":{\"field\":\"color\"},\"height\":{\"field\":\"height\",\"units\":\"data\"},\"line_color\":{\"field\":\"line_color\"},\"width\":{\"field\":\"width\",\"units\":\"data\"},\"x\":{\"field\":\"x\"},\"y\":{\"field\":\"y\"}},\"id\":\"4dffc6a7-5f2f-4cc7-9dd4-77ca8640136b\",\"type\":\"Rect\"},{\"attributes\":{\"callback\":null,\"column_names\":[\"x\",\"y\",\"width\",\"height\",\"color\",\"fill_alpha\",\"line_color\",\"line_alpha\",\"label\"],\"data\":{\"chart_index\":[\"(136.173333, 137.160000]\"],\"color\":[\"#f22c40\"],\"fill_alpha\":[0.8],\"height\":[0.0],\"label\":[\"(136.173333, 137.160000]\"],\"line_alpha\":[1.0],\"line_color\":[\"black\"],\"width\":[0.9866666666666504],\"x\":[\"136.66666650000002\"],\"y\":[0.0]}},\"id\":\"d7437de0-7195-4483-9721-69e325be326a\",\"type\":\"ColumnDataSource\"},{\"attributes\":{\"fill_alpha\":{\"field\":\"fill_alpha\"},\"fill_color\":{\"field\":\"color\"},\"height\":{\"field\":\"height\",\"units\":\"data\"},\"line_color\":{\"field\":\"line_color\"},\"width\":{\"field\":\"width\",\"units\":\"data\"},\"x\":{\"field\":\"x\"},\"y\":{\"field\":\"y\"}},\"id\":\"c5e10e2d-30b9-456a-870c-601923adc8d2\",\"type\":\"Rect\"},{\"attributes\":{\"data_source\":{\"id\":\"afcc03a4-1c24-4440-bc79-bd73c3b21287\",\"type\":\"ColumnDataSource\"},\"glyph\":{\"id\":\"0cf65ecd-971b-4e5e-83e6-22d4ca38a9e4\",\"type\":\"Rect\"},\"hover_glyph\":null,\"muted_glyph\":null},\"id\":\"4eff3f72-9c22-4d7e-a2f8-68c0406370f1\",\"type\":\"GlyphRenderer\"},{\"attributes\":{\"fill_alpha\":{\"field\":\"fill_alpha\"},\"fill_color\":{\"field\":\"color\"},\"height\":{\"field\":\"height\",\"units\":\"data\"},\"line_color\":{\"field\":\"line_color\"},\"width\":{\"field\":\"width\",\"units\":\"data\"},\"x\":{\"field\":\"x\"},\"y\":{\"field\":\"y\"}},\"id\":\"17645fb9-f45f-47d5-b930-5170245297a4\",\"type\":\"Rect\"},{\"attributes\":{\"callback\":null,\"column_names\":[\"x\",\"y\",\"width\",\"height\",\"color\",\"fill_alpha\",\"line_color\",\"line_alpha\",\"label\"],\"data\":{\"chart_index\":[\"(146.040000, 147.026667]\"],\"color\":[\"#f22c40\"],\"fill_alpha\":[0.8],\"height\":[0.0],\"label\":[\"(146.040000, 147.026667]\"],\"line_alpha\":[1.0],\"line_color\":[\"black\"],\"width\":[0.9866666666666788],\"x\":[\"146.5333335\"],\"y\":[0.0]}},\"id\":\"6bd3d3dc-fe33-4a61-8d8c-ffcad265ed7a\",\"type\":\"ColumnDataSource\"},{\"attributes\":{\"data_source\":{\"id\":\"5fc24ae3-4596-424c-b797-aef2303398b3\",\"type\":\"ColumnDataSource\"},\"glyph\":{\"id\":\"c5e10e2d-30b9-456a-870c-601923adc8d2\",\"type\":\"Rect\"},\"hover_glyph\":null,\"muted_glyph\":null},\"id\":\"b129e5b6-c628-4faf-b643-f46c3ddabc7f\",\"type\":\"GlyphRenderer\"},{\"attributes\":{\"callback\":null,\"column_names\":[\"x\",\"y\",\"width\",\"height\",\"color\",\"fill_alpha\",\"line_color\",\"line_alpha\",\"label\"],\"data\":{\"chart_index\":[\"(101.640000, 102.626667]\"],\"color\":[\"#f22c40\"],\"fill_alpha\":[0.8],\"height\":[0.0],\"label\":[\"(101.640000, 102.626667]\"],\"line_alpha\":[1.0],\"line_color\":[\"black\"],\"width\":[0.9866666666666646],\"x\":[\"102.13333349999999\"],\"y\":[0.0]}},\"id\":\"710ed0fe-1531-417c-8b74-a13bebdaa794\",\"type\":\"ColumnDataSource\"},{\"attributes\":{\"data_source\":{\"id\":\"87963293-acf7-499e-835f-e9f67fdfa9e6\",\"type\":\"ColumnDataSource\"},\"glyph\":{\"id\":\"4364fe21-dbf4-4b46-8519-ed998eb330aa\",\"type\":\"Rect\"},\"hover_glyph\":null,\"muted_glyph\":null},\"id\":\"f1b0e815-6132-4ee8-b6ba-869af17f8f31\",\"type\":\"GlyphRenderer\"},{\"attributes\":{\"data_source\":{\"id\":\"c0efcb6f-0901-4698-8d17-a0a9a0523d68\",\"type\":\"ColumnDataSource\"},\"glyph\":{\"id\":\"6f236757-09ca-4aec-9570-58304eea52ce\",\"type\":\"Rect\"},\"hover_glyph\":null,\"muted_glyph\":null},\"id\":\"02f6d210-9632-4aff-a69a-38ee6a6ed347\",\"type\":\"GlyphRenderer\"},{\"attributes\":{\"fill_alpha\":{\"field\":\"fill_alpha\"},\"fill_color\":{\"field\":\"color\"},\"height\":{\"field\":\"height\",\"units\":\"data\"},\"line_color\":{\"field\":\"line_color\"},\"width\":{\"field\":\"width\",\"units\":\"data\"},\"x\":{\"field\":\"x\"},\"y\":{\"field\":\"y\"}},\"id\":\"682f5286-a4ef-499d-a9e4-ddf34b92badc\",\"type\":\"Rect\"},{\"attributes\":{\"fill_alpha\":{\"field\":\"fill_alpha\"},\"fill_color\":{\"field\":\"color\"},\"height\":{\"field\":\"height\",\"units\":\"data\"},\"line_color\":{\"field\":\"line_color\"},\"width\":{\"field\":\"width\",\"units\":\"data\"},\"x\":{\"field\":\"x\"},\"y\":{\"field\":\"y\"}},\"id\":\"918a38a8-5e7c-43de-bab3-8821c7f87f66\",\"type\":\"Rect\"},{\"attributes\":{\"fill_alpha\":{\"field\":\"fill_alpha\"},\"fill_color\":{\"field\":\"color\"},\"height\":{\"field\":\"height\",\"units\":\"data\"},\"line_color\":{\"field\":\"line_color\"},\"width\":{\"field\":\"width\",\"units\":\"data\"},\"x\":{\"field\":\"x\"},\"y\":{\"field\":\"y\"}},\"id\":\"aba9cd01-0bc0-4382-84d9-3cd147c2362b\",\"type\":\"Rect\"},{\"attributes\":{\"data_source\":{\"id\":\"78b9bae1-40be-4aca-a30f-7907a7c04782\",\"type\":\"ColumnDataSource\"},\"glyph\":{\"id\":\"477127b1-5cea-4437-9962-e29c9ea9c019\",\"type\":\"Rect\"},\"hover_glyph\":null,\"muted_glyph\":null},\"id\":\"c4bae88a-8c34-48cd-a677-530a9d8fad9b\",\"type\":\"GlyphRenderer\"},{\"attributes\":{\"data_source\":{\"id\":\"ab06b933-90da-4c30-bc3a-0f4e34f88459\",\"type\":\"ColumnDataSource\"},\"glyph\":{\"id\":\"f26ed243-94ae-4776-a7ad-472dc0ef297e\",\"type\":\"Rect\"},\"hover_glyph\":null,\"muted_glyph\":null},\"id\":\"f5aa97d8-9c06-4f6c-88da-36263c385596\",\"type\":\"GlyphRenderer\"},{\"attributes\":{\"fill_alpha\":{\"field\":\"fill_alpha\"},\"fill_color\":{\"field\":\"color\"},\"height\":{\"field\":\"height\",\"units\":\"data\"},\"line_color\":{\"field\":\"line_color\"},\"width\":{\"field\":\"width\",\"units\":\"data\"},\"x\":{\"field\":\"x\"},\"y\":{\"field\":\"y\"}},\"id\":\"47c8d33f-b9c7-4cb3-9af2-2a2eacc0af2a\",\"type\":\"Rect\"},{\"attributes\":{\"callback\":null,\"column_names\":[\"x\",\"y\",\"width\",\"height\",\"color\",\"fill_alpha\",\"line_color\",\"line_alpha\",\"label\"],\"data\":{\"chart_index\":[\"(34.546667, 35.533333]\"],\"color\":[\"#f22c40\"],\"fill_alpha\":[0.8],\"height\":[2.0],\"label\":[\"(34.546667, 35.533333]\"],\"line_alpha\":[1.0],\"line_color\":[\"black\"],\"width\":[0.9866666666666646],\"x\":[\"35.04\"],\"y\":[1.0]}},\"id\":\"60e43d7d-a8bb-4270-98e8-2af83b46e208\",\"type\":\"ColumnDataSource\"},{\"attributes\":{\"callback\":null,\"column_names\":[\"x\",\"y\",\"width\",\"height\",\"color\",\"fill_alpha\",\"line_color\",\"line_alpha\",\"label\"],\"data\":{\"chart_index\":[\"(78.946667, 79.933333]\"],\"color\":[\"#f22c40\"],\"fill_alpha\":[0.8],\"height\":[0.0],\"label\":[\"(78.946667, 79.933333]\"],\"line_alpha\":[1.0],\"line_color\":[\"black\"],\"width\":[0.9866666666666646],\"x\":[\"79.44\"],\"y\":[0.0]}},\"id\":\"be79ce86-401d-4f6a-b085-7559afd24b53\",\"type\":\"ColumnDataSource\"},{\"attributes\":{\"callback\":null,\"column_names\":[\"x\",\"y\",\"width\",\"height\",\"color\",\"fill_alpha\",\"line_color\",\"line_alpha\",\"label\"],\"data\":{\"chart_index\":[\"(105.586667, 106.573333]\"],\"color\":[\"#f22c40\"],\"fill_alpha\":[0.8],\"height\":[0.0],\"label\":[\"(105.586667, 106.573333]\"],\"line_alpha\":[1.0],\"line_color\":[\"black\"],\"width\":[0.9866666666666646],\"x\":[\"106.08000000000001\"],\"y\":[0.0]}},\"id\":\"efbcfc3e-45dd-45a8-9d35-7bf545731296\",\"type\":\"ColumnDataSource\"},{\"attributes\":{\"callback\":null,\"column_names\":[\"x\",\"y\",\"width\",\"height\",\"color\",\"fill_alpha\",\"line_color\",\"line_alpha\",\"label\"],\"data\":{\"chart_index\":[\"(137.160000, 138.146667]\"],\"color\":[\"#f22c40\"],\"fill_alpha\":[0.8],\"height\":[0.0],\"label\":[\"(137.160000, 138.146667]\"],\"line_alpha\":[1.0],\"line_color\":[\"black\"],\"width\":[0.9866666666666788],\"x\":[\"137.6533335\"],\"y\":[0.0]}},\"id\":\"8e4882e9-7cb9-4146-87c4-4d4341061674\",\"type\":\"ColumnDataSource\"},{\"attributes\":{\"axis_label\":\"unique-recipient-country-code-count\",\"formatter\":{\"id\":\"77af5072-479d-4b04-96fa-9d00e333f238\",\"type\":\"BasicTickFormatter\"},\"plot\":{\"id\":\"dd90b127-43a6-4621-888c-240fee07986b\",\"subtype\":\"Chart\",\"type\":\"Plot\"},\"ticker\":{\"id\":\"8a5824b5-0cc7-4291-a587-7b2854f25df9\",\"type\":\"BasicTicker\"}},\"id\":\"aae15bc1-6dcf-4b13-8674-7d0d4f32dd37\",\"type\":\"LinearAxis\"},{\"attributes\":{\"fill_alpha\":{\"field\":\"fill_alpha\"},\"fill_color\":{\"field\":\"color\"},\"height\":{\"field\":\"height\",\"units\":\"data\"},\"line_color\":{\"field\":\"line_color\"},\"width\":{\"field\":\"width\",\"units\":\"data\"},\"x\":{\"field\":\"x\"},\"y\":{\"field\":\"y\"}},\"id\":\"c6a5de89-771d-4500-b3c1-1899c2821ee4\",\"type\":\"Rect\"},{\"attributes\":{\"fill_alpha\":{\"field\":\"fill_alpha\"},\"fill_color\":{\"field\":\"color\"},\"height\":{\"field\":\"height\",\"units\":\"data\"},\"line_color\":{\"field\":\"line_color\"},\"width\":{\"field\":\"width\",\"units\":\"data\"},\"x\":{\"field\":\"x\"},\"y\":{\"field\":\"y\"}},\"id\":\"c6b2924b-5257-44f2-8e06-61a059522e64\",\"type\":\"Rect\"},{\"attributes\":{\"data_source\":{\"id\":\"66c77836-4d18-4a6b-a89f-f1c3a9ec950f\",\"type\":\"ColumnDataSource\"},\"glyph\":{\"id\":\"e2520116-6863-49f3-bfef-97b2dea3a3aa\",\"type\":\"Rect\"},\"hover_glyph\":null,\"muted_glyph\":null},\"id\":\"d3d3b366-cc66-45fb-95f3-1d1cf41936d1\",\"type\":\"GlyphRenderer\"},{\"attributes\":{\"callback\":null,\"column_names\":[\"x\",\"y\",\"width\",\"height\",\"color\",\"fill_alpha\",\"line_color\",\"line_alpha\",\"label\"],\"data\":{\"chart_index\":[\"(35.533333, 36.520000]\"],\"color\":[\"#f22c40\"],\"fill_alpha\":[0.8],\"height\":[0.0],\"label\":[\"(35.533333, 36.520000]\"],\"line_alpha\":[1.0],\"line_color\":[\"black\"],\"width\":[0.9866666666666717],\"x\":[\"36.026666500000005\"],\"y\":[0.0]}},\"id\":\"9081b1f9-49a9-4ab5-ba0f-cee01f21480c\",\"type\":\"ColumnDataSource\"},{\"attributes\":{\"callback\":null,\"column_names\":[\"x\",\"y\",\"width\",\"height\",\"color\",\"fill_alpha\",\"line_color\",\"line_alpha\",\"label\"],\"data\":{\"chart_index\":[\"(79.933333, 80.920000]\"],\"color\":[\"#f22c40\"],\"fill_alpha\":[0.8],\"height\":[0.0],\"label\":[\"(79.933333, 80.920000]\"],\"line_alpha\":[1.0],\"line_color\":[\"black\"],\"width\":[0.9866666666666646],\"x\":[\"80.42666650000001\"],\"y\":[0.0]}},\"id\":\"16254a43-e153-4cf2-ba69-d978830d9417\",\"type\":\"ColumnDataSource\"},{\"attributes\":{\"fill_alpha\":{\"field\":\"fill_alpha\"},\"fill_color\":{\"field\":\"color\"},\"height\":{\"field\":\"height\",\"units\":\"data\"},\"line_color\":{\"field\":\"line_color\"},\"width\":{\"field\":\"width\",\"units\":\"data\"},\"x\":{\"field\":\"x\"},\"y\":{\"field\":\"y\"}},\"id\":\"1f3e73f8-6810-44cd-ad6b-a685b2a457d2\",\"type\":\"Rect\"},{\"attributes\":{\"data_source\":{\"id\":\"c773b95b-5d32-4fc1-96ef-e9d8746a71fd\",\"type\":\"ColumnDataSource\"},\"glyph\":{\"id\":\"1d996def-12bd-4ffa-bbac-4595560c7d59\",\"type\":\"Rect\"},\"hover_glyph\":null,\"muted_glyph\":null},\"id\":\"c75380a3-8e78-4c63-822b-6d143ea14ac3\",\"type\":\"GlyphRenderer\"},{\"attributes\":{\"callback\":null,\"column_names\":[\"x\",\"y\",\"width\",\"height\",\"color\",\"fill_alpha\",\"line_color\",\"line_alpha\",\"label\"],\"data\":{\"chart_index\":[\"(47.373333, 48.360000]\"],\"color\":[\"#f22c40\"],\"fill_alpha\":[0.8],\"height\":[1.0],\"label\":[\"(47.373333, 48.360000]\"],\"line_alpha\":[1.0],\"line_color\":[\"black\"],\"width\":[0.9866666666666646],\"x\":[\"47.8666665\"],\"y\":[0.5]}},\"id\":\"be9ab8a4-2e28-4d90-9725-67e032272d26\",\"type\":\"ColumnDataSource\"},{\"attributes\":{\"data_source\":{\"id\":\"c005f190-a718-4dcd-a06b-6e397d218c2a\",\"type\":\"ColumnDataSource\"},\"glyph\":{\"id\":\"ea4dcd24-1c1a-4e98-aedc-6f9af0ad0690\",\"type\":\"Rect\"},\"hover_glyph\":null,\"muted_glyph\":null},\"id\":\"09f1877c-1bf0-46f7-bb33-ee6285c280a2\",\"type\":\"GlyphRenderer\"},{\"attributes\":{\"axis_label\":\"Count( Unique-Recipient-Country-Code-Count )\",\"formatter\":{\"id\":\"259817ee-b922-46f3-853d-34dc13da5396\",\"type\":\"BasicTickFormatter\"},\"plot\":{\"id\":\"dd90b127-43a6-4621-888c-240fee07986b\",\"subtype\":\"Chart\",\"type\":\"Plot\"},\"ticker\":{\"id\":\"14106d44-5763-4dcb-b748-e99fb0a67850\",\"type\":\"BasicTicker\"}},\"id\":\"959ced93-df0c-4abc-95d1-ea247e3c86bd\",\"type\":\"LinearAxis\"},{\"attributes\":{\"data_source\":{\"id\":\"d7437de0-7195-4483-9721-69e325be326a\",\"type\":\"ColumnDataSource\"},\"glyph\":{\"id\":\"47bcb10d-43cb-435d-8025-b92ac0564fad\",\"type\":\"Rect\"},\"hover_glyph\":null,\"muted_glyph\":null},\"id\":\"844050d4-454e-438a-b933-ac8c867584a9\",\"type\":\"GlyphRenderer\"},{\"attributes\":{\"data_source\":{\"id\":\"898587ca-4073-4f78-8d23-f07bc059fa89\",\"type\":\"ColumnDataSource\"},\"glyph\":{\"id\":\"cd555dc6-ed96-4b9c-b9d5-a2c606812779\",\"type\":\"Rect\"},\"hover_glyph\":null,\"muted_glyph\":null},\"id\":\"0256b3d5-cb20-4c9e-86fb-2fd0cb248fea\",\"type\":\"GlyphRenderer\"},{\"attributes\":{\"data_source\":{\"id\":\"df35b297-1a8b-442b-83cf-9fe859a7f74f\",\"type\":\"ColumnDataSource\"},\"glyph\":{\"id\":\"fac29919-3a05-4c8c-8770-aa3afc1db178\",\"type\":\"Rect\"},\"hover_glyph\":null,\"muted_glyph\":null},\"id\":\"3ff01ab7-9d06-4f34-a005-6ed527d5f79d\",\"type\":\"GlyphRenderer\"},{\"attributes\":{\"callback\":null,\"column_names\":[\"x\",\"y\",\"width\",\"height\",\"color\",\"fill_alpha\",\"line_color\",\"line_alpha\",\"label\"],\"data\":{\"chart_index\":[\"(82.893333, 83.880000]\"],\"color\":[\"#f22c40\"],\"fill_alpha\":[0.8],\"height\":[0.0],\"label\":[\"(82.893333, 83.880000]\"],\"line_alpha\":[1.0],\"line_color\":[\"black\"],\"width\":[0.9866666666666646],\"x\":[\"83.38666649999999\"],\"y\":[0.0]}},\"id\":\"bc5a3f8d-a4f2-440d-8fbd-e8660d9e729d\",\"type\":\"ColumnDataSource\"},{\"attributes\":{},\"id\":\"14106d44-5763-4dcb-b748-e99fb0a67850\",\"type\":\"BasicTicker\"},{\"attributes\":{\"fill_alpha\":{\"field\":\"fill_alpha\"},\"fill_color\":{\"field\":\"color\"},\"height\":{\"field\":\"height\",\"units\":\"data\"},\"line_color\":{\"field\":\"line_color\"},\"width\":{\"field\":\"width\",\"units\":\"data\"},\"x\":{\"field\":\"x\"},\"y\":{\"field\":\"y\"}},\"id\":\"a815b7e2-8378-4d84-b0bd-86d0f9d2cf94\",\"type\":\"Rect\"},{\"attributes\":{\"fill_alpha\":{\"field\":\"fill_alpha\"},\"fill_color\":{\"field\":\"color\"},\"height\":{\"field\":\"height\",\"units\":\"data\"},\"line_color\":{\"field\":\"line_color\"},\"width\":{\"field\":\"width\",\"units\":\"data\"},\"x\":{\"field\":\"x\"},\"y\":{\"field\":\"y\"}},\"id\":\"988185a0-f3d0-45f0-87f3-6d145378ee4f\",\"type\":\"Rect\"},{\"attributes\":{\"data_source\":{\"id\":\"60e43d7d-a8bb-4270-98e8-2af83b46e208\",\"type\":\"ColumnDataSource\"},\"glyph\":{\"id\":\"c6a5de89-771d-4500-b3c1-1899c2821ee4\",\"type\":\"Rect\"},\"hover_glyph\":null,\"muted_glyph\":null},\"id\":\"2ae91b5b-e778-4041-a40f-0762b04bedf2\",\"type\":\"GlyphRenderer\"},{\"attributes\":{\"data_source\":{\"id\":\"be79ce86-401d-4f6a-b085-7559afd24b53\",\"type\":\"ColumnDataSource\"},\"glyph\":{\"id\":\"c6b2924b-5257-44f2-8e06-61a059522e64\",\"type\":\"Rect\"},\"hover_glyph\":null,\"muted_glyph\":null},\"id\":\"f18fea0f-7411-48b7-9992-4ce5ce3e3b28\",\"type\":\"GlyphRenderer\"},{\"attributes\":{\"data_source\":{\"id\":\"bc887ad4-d248-48c9-af7f-fd29edcfaf53\",\"type\":\"ColumnDataSource\"},\"glyph\":{\"id\":\"82bf5b2e-a6e2-482b-badf-510101a3d6ed\",\"type\":\"Rect\"},\"hover_glyph\":null,\"muted_glyph\":null},\"id\":\"82445ee7-1255-4880-97b4-abd2f1cd7a59\",\"type\":\"GlyphRenderer\"},{\"attributes\":{\"dimension\":1,\"plot\":{\"id\":\"dd90b127-43a6-4621-888c-240fee07986b\",\"subtype\":\"Chart\",\"type\":\"Plot\"},\"ticker\":{\"id\":\"14106d44-5763-4dcb-b748-e99fb0a67850\",\"type\":\"BasicTicker\"}},\"id\":\"28206ea6-a3bc-4d2d-8e78-2ef200c81070\",\"type\":\"Grid\"},{\"attributes\":{\"callback\":null,\"column_names\":[\"x\",\"y\",\"width\",\"height\",\"color\",\"fill_alpha\",\"line_color\",\"line_alpha\",\"label\"],\"data\":{\"chart_index\":[\"(46.386667, 47.373333]\"],\"color\":[\"#f22c40\"],\"fill_alpha\":[0.8],\"height\":[2.0],\"label\":[\"(46.386667, 47.373333]\"],\"line_alpha\":[1.0],\"line_color\":[\"black\"],\"width\":[0.9866666666666646],\"x\":[\"46.88\"],\"y\":[1.0]}},\"id\":\"908c0f5c-8a76-4781-927c-0d9b65bcf034\",\"type\":\"ColumnDataSource\"},{\"attributes\":{\"fill_alpha\":{\"field\":\"fill_alpha\"},\"fill_color\":{\"field\":\"color\"},\"height\":{\"field\":\"height\",\"units\":\"data\"},\"line_color\":{\"field\":\"line_color\"},\"width\":{\"field\":\"width\",\"units\":\"data\"},\"x\":{\"field\":\"x\"},\"y\":{\"field\":\"y\"}},\"id\":\"8229eb32-a0d6-41d2-a369-067df0ea4c0c\",\"type\":\"Rect\"},{\"attributes\":{\"fill_alpha\":{\"field\":\"fill_alpha\"},\"fill_color\":{\"field\":\"color\"},\"height\":{\"field\":\"height\",\"units\":\"data\"},\"line_color\":{\"field\":\"line_color\"},\"width\":{\"field\":\"width\",\"units\":\"data\"},\"x\":{\"field\":\"x\"},\"y\":{\"field\":\"y\"}},\"id\":\"bcab6d95-8da9-42c5-a660-6a8b60c83d18\",\"type\":\"Rect\"},{\"attributes\":{\"data_source\":{\"id\":\"710ed0fe-1531-417c-8b74-a13bebdaa794\",\"type\":\"ColumnDataSource\"},\"glyph\":{\"id\":\"17645fb9-f45f-47d5-b930-5170245297a4\",\"type\":\"Rect\"},\"hover_glyph\":null,\"muted_glyph\":null},\"id\":\"94cd2b93-cbbb-44e1-94c8-6fbfd0f3347c\",\"type\":\"GlyphRenderer\"},{\"attributes\":{\"callback\":null,\"column_names\":[\"x\",\"y\",\"width\",\"height\",\"color\",\"fill_alpha\",\"line_color\",\"line_alpha\",\"label\"],\"data\":{\"chart_index\":[\"(36.520000, 37.506667]\"],\"color\":[\"#f22c40\"],\"fill_alpha\":[0.8],\"height\":[0.0],\"label\":[\"(36.520000, 37.506667]\"],\"line_alpha\":[1.0],\"line_color\":[\"black\"],\"width\":[0.9866666666666646],\"x\":[\"37.0133335\"],\"y\":[0.0]}},\"id\":\"4ce3f448-d1f3-4cef-92e7-063344288ef1\",\"type\":\"ColumnDataSource\"},{\"attributes\":{\"callback\":null,\"column_names\":[\"x\",\"y\",\"width\",\"height\",\"color\",\"fill_alpha\",\"line_color\",\"line_alpha\",\"label\"],\"data\":{\"chart_index\":[\"(48.360000, 49.346667]\"],\"color\":[\"#f22c40\"],\"fill_alpha\":[0.8],\"height\":[0.0],\"label\":[\"(48.360000, 49.346667]\"],\"line_alpha\":[1.0],\"line_color\":[\"black\"],\"width\":[0.9866666666666717],\"x\":[\"48.8533335\"],\"y\":[0.0]}},\"id\":\"a96bd22f-03b6-4f71-b34c-4100a94a38de\",\"type\":\"ColumnDataSource\"},{\"attributes\":{\"fill_alpha\":{\"field\":\"fill_alpha\"},\"fill_color\":{\"field\":\"color\"},\"height\":{\"field\":\"height\",\"units\":\"data\"},\"line_color\":{\"field\":\"line_color\"},\"width\":{\"field\":\"width\",\"units\":\"data\"},\"x\":{\"field\":\"x\"},\"y\":{\"field\":\"y\"}},\"id\":\"02f307f4-9d5f-4ddf-975a-ec9eb0be6a49\",\"type\":\"Rect\"},{\"attributes\":{\"fill_alpha\":{\"field\":\"fill_alpha\"},\"fill_color\":{\"field\":\"color\"},\"height\":{\"field\":\"height\",\"units\":\"data\"},\"line_color\":{\"field\":\"line_color\"},\"width\":{\"field\":\"width\",\"units\":\"data\"},\"x\":{\"field\":\"x\"},\"y\":{\"field\":\"y\"}},\"id\":\"a2b8c5a8-6832-418c-a688-52b1f79095c0\",\"type\":\"Rect\"},{\"attributes\":{\"callback\":null,\"column_names\":[\"x\",\"y\",\"width\",\"height\",\"color\",\"fill_alpha\",\"line_color\",\"line_alpha\",\"label\"],\"data\":{\"chart_index\":[\"(103.613333, 104.600000]\"],\"color\":[\"#f22c40\"],\"fill_alpha\":[0.8],\"height\":[0.0],\"label\":[\"(103.613333, 104.600000]\"],\"line_alpha\":[1.0],\"line_color\":[\"black\"],\"width\":[0.9866666666666788],\"x\":[\"104.10666649999999\"],\"y\":[0.0]}},\"id\":\"bc887ad4-d248-48c9-af7f-fd29edcfaf53\",\"type\":\"ColumnDataSource\"},{\"attributes\":{\"callback\":null,\"column_names\":[\"x\",\"y\",\"width\",\"height\",\"color\",\"fill_alpha\",\"line_color\",\"line_alpha\",\"label\"],\"data\":{\"chart_index\":[\"(104.600000, 105.586667]\"],\"color\":[\"#f22c40\"],\"fill_alpha\":[0.8],\"height\":[0.0],\"label\":[\"(104.600000, 105.586667]\"],\"line_alpha\":[1.0],\"line_color\":[\"black\"],\"width\":[0.9866666666666646],\"x\":[\"105.0933335\"],\"y\":[0.0]}},\"id\":\"ae0bee04-20ff-4e70-a678-a6d72431693b\",\"type\":\"ColumnDataSource\"},{\"attributes\":{\"fill_alpha\":{\"field\":\"fill_alpha\"},\"fill_color\":{\"field\":\"color\"},\"height\":{\"field\":\"height\",\"units\":\"data\"},\"line_color\":{\"field\":\"line_color\"},\"width\":{\"field\":\"width\",\"units\":\"data\"},\"x\":{\"field\":\"x\"},\"y\":{\"field\":\"y\"}},\"id\":\"c24fd1df-5454-48ee-a195-0a5cbac74b8d\",\"type\":\"Rect\"},{\"attributes\":{\"callback\":null,\"column_names\":[\"x\",\"y\",\"width\",\"height\",\"color\",\"fill_alpha\",\"line_color\",\"line_alpha\",\"label\"],\"data\":{\"chart_index\":[\"(140.120000, 141.106667]\"],\"color\":[\"#f22c40\"],\"fill_alpha\":[0.8],\"height\":[0.0],\"label\":[\"(140.120000, 141.106667]\"],\"line_alpha\":[1.0],\"line_color\":[\"black\"],\"width\":[0.9866666666666788],\"x\":[\"140.6133335\"],\"y\":[0.0]}},\"id\":\"d896a542-d809-41a5-bc7e-21bbe4e2c7e3\",\"type\":\"ColumnDataSource\"},{\"attributes\":{\"fill_alpha\":{\"field\":\"fill_alpha\"},\"fill_color\":{\"field\":\"color\"},\"height\":{\"field\":\"height\",\"units\":\"data\"},\"line_color\":{\"field\":\"line_color\"},\"width\":{\"field\":\"width\",\"units\":\"data\"},\"x\":{\"field\":\"x\"},\"y\":{\"field\":\"y\"}},\"id\":\"6507b9f3-edc0-43a2-bc73-2c03689fe5f8\",\"type\":\"Rect\"},{\"attributes\":{\"data_source\":{\"id\":\"8e4882e9-7cb9-4146-87c4-4d4341061674\",\"type\":\"ColumnDataSource\"},\"glyph\":{\"id\":\"aba9cd01-0bc0-4382-84d9-3cd147c2362b\",\"type\":\"Rect\"},\"hover_glyph\":null,\"muted_glyph\":null},\"id\":\"9c9a01f6-9b97-4bed-b762-7d6673d55a78\",\"type\":\"GlyphRenderer\"},{\"attributes\":{\"callback\":null,\"column_names\":[\"x\",\"y\",\"width\",\"height\",\"color\",\"fill_alpha\",\"line_color\",\"line_alpha\",\"label\"],\"data\":{\"chart_index\":[\"(81.906667, 82.893333]\"],\"color\":[\"#f22c40\"],\"fill_alpha\":[0.8],\"height\":[0.0],\"label\":[\"(81.906667, 82.893333]\"],\"line_alpha\":[1.0],\"line_color\":[\"black\"],\"width\":[0.9866666666666646],\"x\":[\"82.4\"],\"y\":[0.0]}},\"id\":\"63ecb052-7800-44fa-9976-dc45bcb343a0\",\"type\":\"ColumnDataSource\"},{\"attributes\":{\"callback\":null,\"column_names\":[\"x\",\"y\",\"width\",\"height\",\"color\",\"fill_alpha\",\"line_color\",\"line_alpha\",\"label\"],\"data\":{\"chart_index\":[\"(139.133333, 140.120000]\"],\"color\":[\"#f22c40\"],\"fill_alpha\":[0.8],\"height\":[1.0],\"label\":[\"(139.133333, 140.120000]\"],\"line_alpha\":[1.0],\"line_color\":[\"black\"],\"width\":[0.9866666666666788],\"x\":[\"139.6266665\"],\"y\":[0.5]}},\"id\":\"10dcd958-506b-4e8c-ad61-f4600f4f82a5\",\"type\":\"ColumnDataSource\"},{\"attributes\":{\"data_source\":{\"id\":\"101f6944-39cb-46d9-b4a9-b07fa0272ac5\",\"type\":\"ColumnDataSource\"},\"glyph\":{\"id\":\"1a9050d1-cd5f-4cff-9675-cf8439129cc2\",\"type\":\"Rect\"},\"hover_glyph\":null,\"muted_glyph\":null},\"id\":\"7a5134e0-cfa4-4860-9003-66f4d7537aa2\",\"type\":\"GlyphRenderer\"},{\"attributes\":{\"data_source\":{\"id\":\"f711ede5-dced-4b2a-a19b-445f5eea46f7\",\"type\":\"ColumnDataSource\"},\"glyph\":{\"id\":\"143317cb-8ef4-438c-88ce-4758b8779b4d\",\"type\":\"Rect\"},\"hover_glyph\":null,\"muted_glyph\":null},\"id\":\"bc7c8bf7-d2fc-4279-8ab2-d2e68205c229\",\"type\":\"GlyphRenderer\"},{\"attributes\":{\"data_source\":{\"id\":\"ae0bee04-20ff-4e70-a678-a6d72431693b\",\"type\":\"ColumnDataSource\"},\"glyph\":{\"id\":\"c24fd1df-5454-48ee-a195-0a5cbac74b8d\",\"type\":\"Rect\"},\"hover_glyph\":null,\"muted_glyph\":null},\"id\":\"878b3204-11ec-41e9-a7e2-3887105dcdab\",\"type\":\"GlyphRenderer\"},{\"attributes\":{\"data_source\":{\"id\":\"9081b1f9-49a9-4ab5-ba0f-cee01f21480c\",\"type\":\"ColumnDataSource\"},\"glyph\":{\"id\":\"4dffc6a7-5f2f-4cc7-9dd4-77ca8640136b\",\"type\":\"Rect\"},\"hover_glyph\":null,\"muted_glyph\":null},\"id\":\"627309c3-2851-4960-bbb9-930abcfd1f39\",\"type\":\"GlyphRenderer\"},{\"attributes\":{\"data_source\":{\"id\":\"be9ab8a4-2e28-4d90-9725-67e032272d26\",\"type\":\"ColumnDataSource\"},\"glyph\":{\"id\":\"918a38a8-5e7c-43de-bab3-8821c7f87f66\",\"type\":\"Rect\"},\"hover_glyph\":null,\"muted_glyph\":null},\"id\":\"92564ee7-5797-49be-b9c3-e4c693312c0b\",\"type\":\"GlyphRenderer\"},{\"attributes\":{\"data_source\":{\"id\":\"16254a43-e153-4cf2-ba69-d978830d9417\",\"type\":\"ColumnDataSource\"},\"glyph\":{\"id\":\"8a1b9c26-a94d-4899-9e83-3009e566cf63\",\"type\":\"Rect\"},\"hover_glyph\":null,\"muted_glyph\":null},\"id\":\"4f88db46-97e4-4a45-b219-471a3dc0e80f\",\"type\":\"GlyphRenderer\"},{\"attributes\":{\"fill_alpha\":{\"field\":\"fill_alpha\"},\"fill_color\":{\"field\":\"color\"},\"height\":{\"field\":\"height\",\"units\":\"data\"},\"line_color\":{\"field\":\"line_color\"},\"width\":{\"field\":\"width\",\"units\":\"data\"},\"x\":{\"field\":\"x\"},\"y\":{\"field\":\"y\"}},\"id\":\"0e877840-7553-4686-b0af-03f74267f779\",\"type\":\"Rect\"},{\"attributes\":{\"fill_alpha\":{\"field\":\"fill_alpha\"},\"fill_color\":{\"field\":\"color\"},\"height\":{\"field\":\"height\",\"units\":\"data\"},\"line_color\":{\"field\":\"line_color\"},\"width\":{\"field\":\"width\",\"units\":\"data\"},\"x\":{\"field\":\"x\"},\"y\":{\"field\":\"y\"}},\"id\":\"fac29919-3a05-4c8c-8770-aa3afc1db178\",\"type\":\"Rect\"},{\"attributes\":{\"fill_alpha\":{\"field\":\"fill_alpha\"},\"fill_color\":{\"field\":\"color\"},\"height\":{\"field\":\"height\",\"units\":\"data\"},\"line_color\":{\"field\":\"line_color\"},\"width\":{\"field\":\"width\",\"units\":\"data\"},\"x\":{\"field\":\"x\"},\"y\":{\"field\":\"y\"}},\"id\":\"5f0deda5-1432-4adf-8853-efd5466abedf\",\"type\":\"Rect\"},{\"attributes\":{\"callback\":null,\"column_names\":[\"x\",\"y\",\"width\",\"height\",\"color\",\"fill_alpha\",\"line_color\",\"line_alpha\",\"label\"],\"data\":{\"chart_index\":[\"(106.573333, 107.560000]\"],\"color\":[\"#f22c40\"],\"fill_alpha\":[0.8],\"height\":[0.0],\"label\":[\"(106.573333, 107.560000]\"],\"line_alpha\":[1.0],\"line_color\":[\"black\"],\"width\":[0.9866666666666646],\"x\":[\"107.0666665\"],\"y\":[0.0]}},\"id\":\"737975e4-d2fa-4f4f-9bf5-23c0cdf2b83e\",\"type\":\"ColumnDataSource\"},{\"attributes\":{\"fill_alpha\":{\"field\":\"fill_alpha\"},\"fill_color\":{\"field\":\"color\"},\"height\":{\"field\":\"height\",\"units\":\"data\"},\"line_color\":{\"field\":\"line_color\"},\"width\":{\"field\":\"width\",\"units\":\"data\"},\"x\":{\"field\":\"x\"},\"y\":{\"field\":\"y\"}},\"id\":\"b78ee9c6-eefd-4907-9632-3ebe7d17e2f7\",\"type\":\"Rect\"},{\"attributes\":{\"data_source\":{\"id\":\"1b14a43a-2124-4a84-81b4-a19cb79546b0\",\"type\":\"ColumnDataSource\"},\"glyph\":{\"id\":\"09021364-16f7-4f5c-a049-73117870e9cf\",\"type\":\"Rect\"},\"hover_glyph\":null,\"muted_glyph\":null},\"id\":\"291b8c36-4047-44de-b70c-5292936bf2cd\",\"type\":\"GlyphRenderer\"},{\"attributes\":{\"fill_alpha\":{\"field\":\"fill_alpha\"},\"fill_color\":{\"field\":\"color\"},\"height\":{\"field\":\"height\",\"units\":\"data\"},\"line_color\":{\"field\":\"line_color\"},\"width\":{\"field\":\"width\",\"units\":\"data\"},\"x\":{\"field\":\"x\"},\"y\":{\"field\":\"y\"}},\"id\":\"e73cf3ef-2779-4c63-ae8c-9beafe4a9269\",\"type\":\"Rect\"},{\"attributes\":{\"data_source\":{\"id\":\"3748a0d4-eba1-458b-98e7-b3141d6a30b1\",\"type\":\"ColumnDataSource\"},\"glyph\":{\"id\":\"26f51ea8-da65-454d-bba2-88302b0681fe\",\"type\":\"Rect\"},\"hover_glyph\":null,\"muted_glyph\":null},\"id\":\"f3be4e3d-a1c9-4525-8554-bda6ea222e9d\",\"type\":\"GlyphRenderer\"},{\"attributes\":{\"fill_alpha\":{\"field\":\"fill_alpha\"},\"fill_color\":{\"field\":\"color\"},\"height\":{\"field\":\"height\",\"units\":\"data\"},\"line_color\":{\"field\":\"line_color\"},\"width\":{\"field\":\"width\",\"units\":\"data\"},\"x\":{\"field\":\"x\"},\"y\":{\"field\":\"y\"}},\"id\":\"1a9050d1-cd5f-4cff-9675-cf8439129cc2\",\"type\":\"Rect\"},{\"attributes\":{\"fill_alpha\":{\"field\":\"fill_alpha\"},\"fill_color\":{\"field\":\"color\"},\"height\":{\"field\":\"height\",\"units\":\"data\"},\"line_color\":{\"field\":\"line_color\"},\"width\":{\"field\":\"width\",\"units\":\"data\"},\"x\":{\"field\":\"x\"},\"y\":{\"field\":\"y\"}},\"id\":\"143317cb-8ef4-438c-88ce-4758b8779b4d\",\"type\":\"Rect\"},{\"attributes\":{\"callback\":null,\"column_names\":[\"x\",\"y\",\"width\",\"height\",\"color\",\"fill_alpha\",\"line_color\",\"line_alpha\",\"label\"],\"data\":{\"chart_index\":[\"(83.880000, 84.866667]\"],\"color\":[\"#f22c40\"],\"fill_alpha\":[0.8],\"height\":[0.0],\"label\":[\"(83.880000, 84.866667]\"],\"line_alpha\":[1.0],\"line_color\":[\"black\"],\"width\":[0.9866666666666788],\"x\":[\"84.3733335\"],\"y\":[0.0]}},\"id\":\"66305160-b4c4-4edc-8b6e-0cbb7dbb630f\",\"type\":\"ColumnDataSource\"},{\"attributes\":{\"data_source\":{\"id\":\"efbcfc3e-45dd-45a8-9d35-7bf545731296\",\"type\":\"ColumnDataSource\"},\"glyph\":{\"id\":\"1f3e73f8-6810-44cd-ad6b-a685b2a457d2\",\"type\":\"Rect\"},\"hover_glyph\":null,\"muted_glyph\":null},\"id\":\"60ce7289-c110-4d40-bc72-125377b03b58\",\"type\":\"GlyphRenderer\"},{\"attributes\":{\"data_source\":{\"id\":\"7bd0f167-5d9b-4731-9471-f3675de310d5\",\"type\":\"ColumnDataSource\"},\"glyph\":{\"id\":\"2b11c177-8c0b-430c-9dec-f54b23b1ad78\",\"type\":\"Rect\"},\"hover_glyph\":null,\"muted_glyph\":null},\"id\":\"6e0e2e54-c8de-4dd9-9bb4-c117d5cf7d56\",\"type\":\"GlyphRenderer\"},{\"attributes\":{\"data_source\":{\"id\":\"4ce3f448-d1f3-4cef-92e7-063344288ef1\",\"type\":\"ColumnDataSource\"},\"glyph\":{\"id\":\"a2b8c5a8-6832-418c-a688-52b1f79095c0\",\"type\":\"Rect\"},\"hover_glyph\":null,\"muted_glyph\":null},\"id\":\"99a01547-41f8-41cd-afc3-84dc4e77b5ef\",\"type\":\"GlyphRenderer\"},{\"attributes\":{\"data_source\":{\"id\":\"a96bd22f-03b6-4f71-b34c-4100a94a38de\",\"type\":\"ColumnDataSource\"},\"glyph\":{\"id\":\"8229eb32-a0d6-41d2-a369-067df0ea4c0c\",\"type\":\"Rect\"},\"hover_glyph\":null,\"muted_glyph\":null},\"id\":\"0e30e732-8b25-4395-b414-fd427ab033a8\",\"type\":\"GlyphRenderer\"},{\"attributes\":{\"data_source\":{\"id\":\"d896a542-d809-41a5-bc7e-21bbe4e2c7e3\",\"type\":\"ColumnDataSource\"},\"glyph\":{\"id\":\"6507b9f3-edc0-43a2-bc73-2c03689fe5f8\",\"type\":\"Rect\"},\"hover_glyph\":null,\"muted_glyph\":null},\"id\":\"1bfb2d97-b0bf-447c-b248-c36f81024d85\",\"type\":\"GlyphRenderer\"},{\"attributes\":{\"callback\":null,\"column_names\":[\"x\",\"y\",\"width\",\"height\",\"color\",\"fill_alpha\",\"line_color\",\"line_alpha\",\"label\"],\"data\":{\"chart_index\":[\"(52.306667, 53.293333]\"],\"color\":[\"#f22c40\"],\"fill_alpha\":[0.8],\"height\":[1.0],\"label\":[\"(52.306667, 53.293333]\"],\"line_alpha\":[1.0],\"line_color\":[\"black\"],\"width\":[0.9866666666666717],\"x\":[\"52.8\"],\"y\":[0.5]}},\"id\":\"101f6944-39cb-46d9-b4a9-b07fa0272ac5\",\"type\":\"ColumnDataSource\"},{\"attributes\":{},\"id\":\"8a5824b5-0cc7-4291-a587-7b2854f25df9\",\"type\":\"BasicTicker\"},{\"attributes\":{\"callback\":null,\"column_names\":[\"x\",\"y\",\"width\",\"height\",\"color\",\"fill_alpha\",\"line_color\",\"line_alpha\",\"label\"],\"data\":{\"chart_index\":[\"(45.400000, 46.386667]\"],\"color\":[\"#f22c40\"],\"fill_alpha\":[0.8],\"height\":[0.0],\"label\":[\"(45.400000, 46.386667]\"],\"line_alpha\":[1.0],\"line_color\":[\"black\"],\"width\":[0.9866666666666717],\"x\":[\"45.8933335\"],\"y\":[0.0]}},\"id\":\"898587ca-4073-4f78-8d23-f07bc059fa89\",\"type\":\"ColumnDataSource\"},{\"attributes\":{\"callback\":null,\"column_names\":[\"x\",\"y\",\"width\",\"height\",\"color\",\"fill_alpha\",\"line_color\",\"line_alpha\",\"label\"],\"data\":{\"chart_index\":[\"(49.346667, 50.333333]\"],\"color\":[\"#f22c40\"],\"fill_alpha\":[0.8],\"height\":[1.0],\"label\":[\"(49.346667, 50.333333]\"],\"line_alpha\":[1.0],\"line_color\":[\"black\"],\"width\":[0.9866666666666646],\"x\":[\"49.84\"],\"y\":[0.5]}},\"id\":\"82d574c5-ff0c-4deb-901b-2a9892f4f760\",\"type\":\"ColumnDataSource\"},{\"attributes\":{\"data_source\":{\"id\":\"a3913c9d-2fb7-4b90-a9c0-b158e9628f6f\",\"type\":\"ColumnDataSource\"},\"glyph\":{\"id\":\"a781cbc8-33ec-4fd6-8b1d-3cf3c74648f7\",\"type\":\"Rect\"},\"hover_glyph\":null,\"muted_glyph\":null},\"id\":\"db185de4-e479-4bc7-b84f-460f4eafab02\",\"type\":\"GlyphRenderer\"},{\"attributes\":{},\"id\":\"77af5072-479d-4b04-96fa-9d00e333f238\",\"type\":\"BasicTickFormatter\"},{\"attributes\":{\"fill_alpha\":{\"field\":\"fill_alpha\"},\"fill_color\":{\"field\":\"color\"},\"height\":{\"field\":\"height\",\"units\":\"data\"},\"line_color\":{\"field\":\"line_color\"},\"width\":{\"field\":\"width\",\"units\":\"data\"},\"x\":{\"field\":\"x\"},\"y\":{\"field\":\"y\"}},\"id\":\"bf43ba5f-94d2-4ba7-aa47-67f6b9664b44\",\"type\":\"Rect\"},{\"attributes\":{\"callback\":null,\"column_names\":[\"x\",\"y\",\"width\",\"height\",\"color\",\"fill_alpha\",\"line_color\",\"line_alpha\",\"label\"],\"data\":{\"chart_index\":[\"(107.560000, 108.546667]\"],\"color\":[\"#f22c40\"],\"fill_alpha\":[0.8],\"height\":[0.0],\"label\":[\"(107.560000, 108.546667]\"],\"line_alpha\":[1.0],\"line_color\":[\"black\"],\"width\":[0.9866666666666646],\"x\":[\"108.05333350000001\"],\"y\":[0.0]}},\"id\":\"f4693ee3-05f4-4c9e-bc26-138e8445b93b\",\"type\":\"ColumnDataSource\"},{\"attributes\":{\"data_source\":{\"id\":\"bc5a3f8d-a4f2-440d-8fbd-e8660d9e729d\",\"type\":\"ColumnDataSource\"},\"glyph\":{\"id\":\"02f307f4-9d5f-4ddf-975a-ec9eb0be6a49\",\"type\":\"Rect\"},\"hover_glyph\":null,\"muted_glyph\":null},\"id\":\"f579fba6-d8c0-4fa3-a5b4-1bb1205501fd\",\"type\":\"GlyphRenderer\"},{\"attributes\":{},\"id\":\"259817ee-b922-46f3-853d-34dc13da5396\",\"type\":\"BasicTickFormatter\"},{\"attributes\":{\"callback\":null,\"column_names\":[\"x\",\"y\",\"width\",\"height\",\"color\",\"fill_alpha\",\"line_color\",\"line_alpha\",\"label\"],\"data\":{\"chart_index\":[\"(38.493333, 39.480000]\"],\"color\":[\"#f22c40\"],\"fill_alpha\":[0.8],\"height\":[2.0],\"label\":[\"(38.493333, 39.480000]\"],\"line_alpha\":[1.0],\"line_color\":[\"black\"],\"width\":[0.9866666666666717],\"x\":[\"38.9866665\"],\"y\":[1.0]}},\"id\":\"df35b297-1a8b-442b-83cf-9fe859a7f74f\",\"type\":\"ColumnDataSource\"},{\"attributes\":{\"callback\":null,\"column_names\":[\"x\",\"y\",\"width\",\"height\",\"color\",\"fill_alpha\",\"line_color\",\"line_alpha\",\"label\"],\"data\":{\"chart_index\":[\"(50.333333, 51.320000]\"],\"color\":[\"#f22c40\"],\"fill_alpha\":[0.8],\"height\":[1.0],\"label\":[\"(50.333333, 51.320000]\"],\"line_alpha\":[1.0],\"line_color\":[\"black\"],\"width\":[0.9866666666666646],\"x\":[\"50.8266665\"],\"y\":[0.5]}},\"id\":\"cca35eeb-8bdf-4b18-b2f7-e3c3da253ce5\",\"type\":\"ColumnDataSource\"},{\"attributes\":{\"fill_alpha\":{\"field\":\"fill_alpha\"},\"fill_color\":{\"field\":\"color\"},\"height\":{\"field\":\"height\",\"units\":\"data\"},\"line_color\":{\"field\":\"line_color\"},\"width\":{\"field\":\"width\",\"units\":\"data\"},\"x\":{\"field\":\"x\"},\"y\":{\"field\":\"y\"}},\"id\":\"faab91b1-8668-43e7-a48f-db012fc15a0c\",\"type\":\"Rect\"},{\"attributes\":{\"fill_alpha\":{\"field\":\"fill_alpha\"},\"fill_color\":{\"field\":\"color\"},\"height\":{\"field\":\"height\",\"units\":\"data\"},\"line_color\":{\"field\":\"line_color\"},\"width\":{\"field\":\"width\",\"units\":\"data\"},\"x\":{\"field\":\"x\"},\"y\":{\"field\":\"y\"}},\"id\":\"4a1c9a7e-c594-43b8-aa7a-cb9b8062737c\",\"type\":\"Rect\"},{\"attributes\":{\"callback\":null,\"column_names\":[\"x\",\"y\",\"width\",\"height\",\"color\",\"fill_alpha\",\"line_color\",\"line_alpha\",\"label\"],\"data\":{\"chart_index\":[\"(142.093333, 143.080000]\"],\"color\":[\"#f22c40\"],\"fill_alpha\":[0.8],\"height\":[0.0],\"label\":[\"(142.093333, 143.080000]\"],\"line_alpha\":[1.0],\"line_color\":[\"black\"],\"width\":[0.9866666666666788],\"x\":[\"142.5866665\"],\"y\":[0.0]}},\"id\":\"e19a2f10-f52d-4bb7-8417-663178636e12\",\"type\":\"ColumnDataSource\"},{\"attributes\":{\"callback\":null,\"column_names\":[\"x\",\"y\",\"width\",\"height\",\"color\",\"fill_alpha\",\"line_color\",\"line_alpha\",\"label\"],\"data\":{\"chart_index\":[\"(84.866667, 85.853333]\"],\"color\":[\"#f22c40\"],\"fill_alpha\":[0.8],\"height\":[0.0],\"label\":[\"(84.866667, 85.853333]\"],\"line_alpha\":[1.0],\"line_color\":[\"black\"],\"width\":[0.9866666666666646],\"x\":[\"85.36000000000001\"],\"y\":[0.0]}},\"id\":\"42df90ef-f5af-4535-abc3-00aec5bc2229\",\"type\":\"ColumnDataSource\"},{\"attributes\":{\"fill_alpha\":{\"field\":\"fill_alpha\"},\"fill_color\":{\"field\":\"color\"},\"height\":{\"field\":\"height\",\"units\":\"data\"},\"line_color\":{\"field\":\"line_color\"},\"width\":{\"field\":\"width\",\"units\":\"data\"},\"x\":{\"field\":\"x\"},\"y\":{\"field\":\"y\"}},\"id\":\"26f51ea8-da65-454d-bba2-88302b0681fe\",\"type\":\"Rect\"},{\"attributes\":{\"fill_alpha\":{\"field\":\"fill_alpha\"},\"fill_color\":{\"field\":\"color\"},\"height\":{\"field\":\"height\",\"units\":\"data\"},\"line_color\":{\"field\":\"line_color\"},\"width\":{\"field\":\"width\",\"units\":\"data\"},\"x\":{\"field\":\"x\"},\"y\":{\"field\":\"y\"}},\"id\":\"f9ee27bb-6d41-4390-a3a1-935d17ea2ed4\",\"type\":\"Rect\"},{\"attributes\":{\"callback\":null,\"column_names\":[\"x\",\"y\",\"width\",\"height\",\"color\",\"fill_alpha\",\"line_color\",\"line_alpha\",\"label\"],\"data\":{\"chart_index\":[\"(109.533333, 110.520000]\"],\"color\":[\"#f22c40\"],\"fill_alpha\":[0.8],\"height\":[0.0],\"label\":[\"(109.533333, 110.520000]\"],\"line_alpha\":[1.0],\"line_color\":[\"black\"],\"width\":[0.9866666666666646],\"x\":[\"110.0266665\"],\"y\":[0.0]}},\"id\":\"3748a0d4-eba1-458b-98e7-b3141d6a30b1\",\"type\":\"ColumnDataSource\"},{\"attributes\":{\"data_source\":{\"id\":\"737975e4-d2fa-4f4f-9bf5-23c0cdf2b83e\",\"type\":\"ColumnDataSource\"},\"glyph\":{\"id\":\"0e877840-7553-4686-b0af-03f74267f779\",\"type\":\"Rect\"},\"hover_glyph\":null,\"muted_glyph\":null},\"id\":\"c12e047c-3d94-499a-89a9-1ca892c32e6f\",\"type\":\"GlyphRenderer\"},{\"attributes\":{\"callback\":null,\"column_names\":[\"x\",\"y\",\"width\",\"height\",\"color\",\"fill_alpha\",\"line_color\",\"line_alpha\",\"label\"],\"data\":{\"chart_index\":[\"(39.480000, 40.466667]\"],\"color\":[\"#f22c40\"],\"fill_alpha\":[0.8],\"height\":[1.0],\"label\":[\"(39.480000, 40.466667]\"],\"line_alpha\":[1.0],\"line_color\":[\"black\"],\"width\":[0.9866666666666646],\"x\":[\"39.973333499999995\"],\"y\":[0.5]}},\"id\":\"1c524f36-a871-45bd-95e0-5ad8135b5071\",\"type\":\"ColumnDataSource\"},{\"attributes\":{\"fill_alpha\":{\"field\":\"fill_alpha\"},\"fill_color\":{\"field\":\"color\"},\"height\":{\"field\":\"height\",\"units\":\"data\"},\"line_color\":{\"field\":\"line_color\"},\"width\":{\"field\":\"width\",\"units\":\"data\"},\"x\":{\"field\":\"x\"},\"y\":{\"field\":\"y\"}},\"id\":\"5a5582d5-4168-4277-9465-27784522fad3\",\"type\":\"Rect\"},{\"attributes\":{\"data_source\":{\"id\":\"ae3cf589-1c3a-4822-8548-9c1649ecd928\",\"type\":\"ColumnDataSource\"},\"glyph\":{\"id\":\"79683bee-d295-4722-b8e4-a856a65d0851\",\"type\":\"Rect\"},\"hover_glyph\":null,\"muted_glyph\":null},\"id\":\"a60f9dba-6bb2-405c-a936-b1d03727eae8\",\"type\":\"GlyphRenderer\"},{\"attributes\":{\"callback\":null,\"column_names\":[\"x\",\"y\",\"width\",\"height\",\"color\",\"fill_alpha\",\"line_color\",\"line_alpha\",\"label\"],\"data\":{\"chart_index\":[\"(102.626667, 103.613333]\"],\"color\":[\"#f22c40\"],\"fill_alpha\":[0.8],\"height\":[0.0],\"label\":[\"(102.626667, 103.613333]\"],\"line_alpha\":[1.0],\"line_color\":[\"black\"],\"width\":[0.9866666666666646],\"x\":[\"103.12\"],\"y\":[0.0]}},\"id\":\"8b115ea3-4809-4e5c-97da-8d4e05ebc4e9\",\"type\":\"ColumnDataSource\"},{\"attributes\":{\"callback\":null,\"column_names\":[\"x\",\"y\",\"width\",\"height\",\"color\",\"fill_alpha\",\"line_color\",\"line_alpha\",\"label\"],\"data\":{\"chart_index\":[\"(108.546667, 109.533333]\"],\"color\":[\"#f22c40\"],\"fill_alpha\":[0.8],\"height\":[0.0],\"label\":[\"(108.546667, 109.533333]\"],\"line_alpha\":[1.0],\"line_color\":[\"black\"],\"width\":[0.9866666666666646],\"x\":[\"109.03999999999999\"],\"y\":[0.0]}},\"id\":\"8739871f-c5ef-4ea7-ac9e-da345183181f\",\"type\":\"ColumnDataSource\"},{\"attributes\":{\"callback\":null,\"column_names\":[\"x\",\"y\",\"width\",\"height\",\"color\",\"fill_alpha\",\"line_color\",\"line_alpha\",\"label\"],\"data\":{\"chart_index\":[\"(145.053333, 146.040000]\"],\"color\":[\"#f22c40\"],\"fill_alpha\":[0.8],\"height\":[0.0],\"label\":[\"(145.053333, 146.040000]\"],\"line_alpha\":[1.0],\"line_color\":[\"black\"],\"width\":[0.9866666666666504],\"x\":[\"145.54666650000001\"],\"y\":[0.0]}},\"id\":\"7bd0f167-5d9b-4731-9471-f3675de310d5\",\"type\":\"ColumnDataSource\"},{\"attributes\":{\"data_source\":{\"id\":\"82d574c5-ff0c-4deb-901b-2a9892f4f760\",\"type\":\"ColumnDataSource\"},\"glyph\":{\"id\":\"bf43ba5f-94d2-4ba7-aa47-67f6b9664b44\",\"type\":\"Rect\"},\"hover_glyph\":null,\"muted_glyph\":null},\"id\":\"c15709bd-e1c0-4ea3-ab7e-d7ae8fe84221\",\"type\":\"GlyphRenderer\"},{\"attributes\":{\"data_source\":{\"id\":\"f12254ab-03e4-4fce-8dc4-8cf3c7f82ef2\",\"type\":\"ColumnDataSource\"},\"glyph\":{\"id\":\"4a1c9a7e-c594-43b8-aa7a-cb9b8062737c\",\"type\":\"Rect\"},\"hover_glyph\":null,\"muted_glyph\":null},\"id\":\"cb474ac3-0d6c-4e57-a19d-7819d1f6b966\",\"type\":\"GlyphRenderer\"},{\"attributes\":{\"fill_alpha\":{\"field\":\"fill_alpha\"},\"fill_color\":{\"field\":\"color\"},\"height\":{\"field\":\"height\",\"units\":\"data\"},\"line_color\":{\"field\":\"line_color\"},\"width\":{\"field\":\"width\",\"units\":\"data\"},\"x\":{\"field\":\"x\"},\"y\":{\"field\":\"y\"}},\"id\":\"a781cbc8-33ec-4fd6-8b1d-3cf3c74648f7\",\"type\":\"Rect\"},{\"attributes\":{\"fill_alpha\":{\"field\":\"fill_alpha\"},\"fill_color\":{\"field\":\"color\"},\"height\":{\"field\":\"height\",\"units\":\"data\"},\"line_color\":{\"field\":\"line_color\"},\"width\":{\"field\":\"width\",\"units\":\"data\"},\"x\":{\"field\":\"x\"},\"y\":{\"field\":\"y\"}},\"id\":\"79683bee-d295-4722-b8e4-a856a65d0851\",\"type\":\"Rect\"},{\"attributes\":{\"callback\":null,\"column_names\":[\"x\",\"y\",\"width\",\"height\",\"color\",\"fill_alpha\",\"line_color\",\"line_alpha\",\"label\"],\"data\":{\"chart_index\":[\"(87.826667, 88.813333]\"],\"color\":[\"#f22c40\"],\"fill_alpha\":[0.8],\"height\":[0.0],\"label\":[\"(87.826667, 88.813333]\"],\"line_alpha\":[1.0],\"line_color\":[\"black\"],\"width\":[0.9866666666666646],\"x\":[\"88.32\"],\"y\":[0.0]}},\"id\":\"a3913c9d-2fb7-4b90-a9c0-b158e9628f6f\",\"type\":\"ColumnDataSource\"},{\"attributes\":{\"fill_alpha\":{\"field\":\"fill_alpha\"},\"fill_color\":{\"field\":\"color\"},\"height\":{\"field\":\"height\",\"units\":\"data\"},\"line_color\":{\"field\":\"line_color\"},\"width\":{\"field\":\"width\",\"units\":\"data\"},\"x\":{\"field\":\"x\"},\"y\":{\"field\":\"y\"}},\"id\":\"dedaf1df-cb68-4694-9c79-a82ed5f3543e\",\"type\":\"Rect\"},{\"attributes\":{\"data_source\":{\"id\":\"1c524f36-a871-45bd-95e0-5ad8135b5071\",\"type\":\"ColumnDataSource\"},\"glyph\":{\"id\":\"f9ee27bb-6d41-4390-a3a1-935d17ea2ed4\",\"type\":\"Rect\"},\"hover_glyph\":null,\"muted_glyph\":null},\"id\":\"67af9e04-0185-4d6d-a26d-9e682f0775bf\",\"type\":\"GlyphRenderer\"},{\"attributes\":{\"data_source\":{\"id\":\"66305160-b4c4-4edc-8b6e-0cbb7dbb630f\",\"type\":\"ColumnDataSource\"},\"glyph\":{\"id\":\"bcab6d95-8da9-42c5-a660-6a8b60c83d18\",\"type\":\"Rect\"},\"hover_glyph\":null,\"muted_glyph\":null},\"id\":\"a966d29a-f862-4c2b-8f2e-96f4e20eb218\",\"type\":\"GlyphRenderer\"},{\"attributes\":{\"fill_alpha\":{\"field\":\"fill_alpha\"},\"fill_color\":{\"field\":\"color\"},\"height\":{\"field\":\"height\",\"units\":\"data\"},\"line_color\":{\"field\":\"line_color\"},\"width\":{\"field\":\"width\",\"units\":\"data\"},\"x\":{\"field\":\"x\"},\"y\":{\"field\":\"y\"}},\"id\":\"916af302-a24a-4a86-999d-524a5cca60ea\",\"type\":\"Rect\"},{\"attributes\":{\"callback\":null,\"end\":119.9},\"id\":\"3b2dc0ba-a95e-4338-a7a6-67f5436e06e2\",\"type\":\"Range1d\"},{\"attributes\":{\"data_source\":{\"id\":\"c3e798db-1640-4a40-aa98-4fdb15ba8d3c\",\"type\":\"ColumnDataSource\"},\"glyph\":{\"id\":\"13a0c507-6d36-4cc6-95cb-7bdd39bc98e9\",\"type\":\"Rect\"},\"hover_glyph\":null,\"muted_glyph\":null},\"id\":\"1114a9ea-c7a3-472e-b8d6-d83acb96dee7\",\"type\":\"GlyphRenderer\"},{\"attributes\":{\"fill_alpha\":{\"field\":\"fill_alpha\"},\"fill_color\":{\"field\":\"color\"},\"height\":{\"field\":\"height\",\"units\":\"data\"},\"line_color\":{\"field\":\"line_color\"},\"width\":{\"field\":\"width\",\"units\":\"data\"},\"x\":{\"field\":\"x\"},\"y\":{\"field\":\"y\"}},\"id\":\"5d62883e-77ee-455c-a8cd-d5b7d39a1fe2\",\"type\":\"Rect\"},{\"attributes\":{\"data_source\":{\"id\":\"5742ac79-81da-4570-b88e-0448aa0194e7\",\"type\":\"ColumnDataSource\"},\"glyph\":{\"id\":\"e73cf3ef-2779-4c63-ae8c-9beafe4a9269\",\"type\":\"Rect\"},\"hover_glyph\":null,\"muted_glyph\":null},\"id\":\"d59ffaf1-2665-4748-8828-a37a0e2b712f\",\"type\":\"GlyphRenderer\"},{\"attributes\":{\"fill_alpha\":{\"field\":\"fill_alpha\"},\"fill_color\":{\"field\":\"color\"},\"height\":{\"field\":\"height\",\"units\":\"data\"},\"line_color\":{\"field\":\"line_color\"},\"width\":{\"field\":\"width\",\"units\":\"data\"},\"x\":{\"field\":\"x\"},\"y\":{\"field\":\"y\"}},\"id\":\"13a0c507-6d36-4cc6-95cb-7bdd39bc98e9\",\"type\":\"Rect\"},{\"attributes\":{\"fill_alpha\":{\"field\":\"fill_alpha\"},\"fill_color\":{\"field\":\"color\"},\"height\":{\"field\":\"height\",\"units\":\"data\"},\"line_color\":{\"field\":\"line_color\"},\"width\":{\"field\":\"width\",\"units\":\"data\"},\"x\":{\"field\":\"x\"},\"y\":{\"field\":\"y\"}},\"id\":\"985eafa3-1d93-485d-99a2-76402363dc17\",\"type\":\"Rect\"},{\"attributes\":{\"fill_alpha\":{\"field\":\"fill_alpha\"},\"fill_color\":{\"field\":\"color\"},\"height\":{\"field\":\"height\",\"units\":\"data\"},\"line_color\":{\"field\":\"line_color\"},\"width\":{\"field\":\"width\",\"units\":\"data\"},\"x\":{\"field\":\"x\"},\"y\":{\"field\":\"y\"}},\"id\":\"cd555dc6-ed96-4b9c-b9d5-a2c606812779\",\"type\":\"Rect\"},{\"attributes\":{\"data_source\":{\"id\":\"f4693ee3-05f4-4c9e-bc26-138e8445b93b\",\"type\":\"ColumnDataSource\"},\"glyph\":{\"id\":\"2d0407b0-bd45-4488-b9cb-15e3cc18b411\",\"type\":\"Rect\"},\"hover_glyph\":null,\"muted_glyph\":null},\"id\":\"95a180a5-5a65-4447-a396-b028b0311dbb\",\"type\":\"GlyphRenderer\"},{\"attributes\":{\"fill_alpha\":{\"field\":\"fill_alpha\"},\"fill_color\":{\"field\":\"color\"},\"height\":{\"field\":\"height\",\"units\":\"data\"},\"line_color\":{\"field\":\"line_color\"},\"width\":{\"field\":\"width\",\"units\":\"data\"},\"x\":{\"field\":\"x\"},\"y\":{\"field\":\"y\"}},\"id\":\"9505d765-3475-4d04-b595-5c5b1ab3b453\",\"type\":\"Rect\"},{\"attributes\":{\"data_source\":{\"id\":\"cca35eeb-8bdf-4b18-b2f7-e3c3da253ce5\",\"type\":\"ColumnDataSource\"},\"glyph\":{\"id\":\"5f0deda5-1432-4adf-8853-efd5466abedf\",\"type\":\"Rect\"},\"hover_glyph\":null,\"muted_glyph\":null},\"id\":\"9f47fbd2-b3f8-46ba-a875-76c521ab37a2\",\"type\":\"GlyphRenderer\"},{\"attributes\":{\"data_source\":{\"id\":\"7ae5ed70-34d9-4c59-ad9e-7ad3c1af4cdf\",\"type\":\"ColumnDataSource\"},\"glyph\":{\"id\":\"e1b403f8-b631-45d2-ac22-f01d4d093d96\",\"type\":\"Rect\"},\"hover_glyph\":null,\"muted_glyph\":null},\"id\":\"30658a40-991a-4b9b-9107-da83b342646c\",\"type\":\"GlyphRenderer\"},{\"attributes\":{\"data_source\":{\"id\":\"e19a2f10-f52d-4bb7-8417-663178636e12\",\"type\":\"ColumnDataSource\"},\"glyph\":{\"id\":\"c084936e-7a55-48c9-9ba9-336efef9a9b5\",\"type\":\"Rect\"},\"hover_glyph\":null,\"muted_glyph\":null},\"id\":\"b4e3b854-4f22-4fb4-ae81-e05dbd1bb4d7\",\"type\":\"GlyphRenderer\"},{\"attributes\":{\"callback\":null,\"column_names\":[\"x\",\"y\",\"width\",\"height\",\"color\",\"fill_alpha\",\"line_color\",\"line_alpha\",\"label\"],\"data\":{\"chart_index\":[\"(40.466667, 41.453333]\"],\"color\":[\"#f22c40\"],\"fill_alpha\":[0.8],\"height\":[2.0],\"label\":[\"(40.466667, 41.453333]\"],\"line_alpha\":[1.0],\"line_color\":[\"black\"],\"width\":[0.9866666666666646],\"x\":[\"40.96\"],\"y\":[1.0]}},\"id\":\"c3e798db-1640-4a40-aa98-4fdb15ba8d3c\",\"type\":\"ColumnDataSource\"},{\"attributes\":{\"callback\":null,\"column_names\":[\"x\",\"y\",\"width\",\"height\",\"color\",\"fill_alpha\",\"line_color\",\"line_alpha\",\"label\"],\"data\":{\"chart_index\":[\"(53.293333, 54.280000]\"],\"color\":[\"#f22c40\"],\"fill_alpha\":[0.8],\"height\":[0.0],\"label\":[\"(53.293333, 54.280000]\"],\"line_alpha\":[1.0],\"line_color\":[\"black\"],\"width\":[0.9866666666666646],\"x\":[\"53.786666499999995\"],\"y\":[0.0]}},\"id\":\"c572bfc5-6de4-499d-a3f0-c0430e86ae78\",\"type\":\"ColumnDataSource\"},{\"attributes\":{\"callback\":null,\"column_names\":[\"x\",\"y\",\"width\",\"height\",\"color\",\"fill_alpha\",\"line_color\",\"line_alpha\",\"label\"],\"data\":{\"chart_index\":[\"(94.733333, 95.720000]\"],\"color\":[\"#f22c40\"],\"fill_alpha\":[0.8],\"height\":[0.0],\"label\":[\"(94.733333, 95.720000]\"],\"line_alpha\":[1.0],\"line_color\":[\"black\"],\"width\":[0.9866666666666646],\"x\":[\"95.2266665\"],\"y\":[0.0]}},\"id\":\"7ae5ed70-34d9-4c59-ad9e-7ad3c1af4cdf\",\"type\":\"ColumnDataSource\"},{\"attributes\":{\"data_source\":{\"id\":\"42df90ef-f5af-4535-abc3-00aec5bc2229\",\"type\":\"ColumnDataSource\"},\"glyph\":{\"id\":\"faab91b1-8668-43e7-a48f-db012fc15a0c\",\"type\":\"Rect\"},\"hover_glyph\":null,\"muted_glyph\":null},\"id\":\"1f86e45e-36e3-4afa-a9c6-ea13bf757c64\",\"type\":\"GlyphRenderer\"},{\"attributes\":{\"fill_alpha\":{\"field\":\"fill_alpha\"},\"fill_color\":{\"field\":\"color\"},\"height\":{\"field\":\"height\",\"units\":\"data\"},\"line_color\":{\"field\":\"line_color\"},\"width\":{\"field\":\"width\",\"units\":\"data\"},\"x\":{\"field\":\"x\"},\"y\":{\"field\":\"y\"}},\"id\":\"9e37768d-efdf-42bb-8bb9-0ead06890264\",\"type\":\"Rect\"},{\"attributes\":{\"fill_alpha\":{\"field\":\"fill_alpha\"},\"fill_color\":{\"field\":\"color\"},\"height\":{\"field\":\"height\",\"units\":\"data\"},\"line_color\":{\"field\":\"line_color\"},\"width\":{\"field\":\"width\",\"units\":\"data\"},\"x\":{\"field\":\"x\"},\"y\":{\"field\":\"y\"}},\"id\":\"bbfdfe87-cdb4-4b6b-ad02-e04beeb38b6a\",\"type\":\"Rect\"},{\"attributes\":{\"data_source\":{\"id\":\"8739871f-c5ef-4ea7-ac9e-da345183181f\",\"type\":\"ColumnDataSource\"},\"glyph\":{\"id\":\"dedaf1df-cb68-4694-9c79-a82ed5f3543e\",\"type\":\"Rect\"},\"hover_glyph\":null,\"muted_glyph\":null},\"id\":\"f658fbb0-4080-47ab-85ee-95149a3fb04b\",\"type\":\"GlyphRenderer\"},{\"attributes\":{\"callback\":null,\"column_names\":[\"x\",\"y\",\"width\",\"height\",\"color\",\"fill_alpha\",\"line_color\",\"line_alpha\",\"label\"],\"data\":{\"chart_index\":[\"(112.493333, 113.480000]\"],\"color\":[\"#f22c40\"],\"fill_alpha\":[0.8],\"height\":[0.0],\"label\":[\"(112.493333, 113.480000]\"],\"line_alpha\":[1.0],\"line_color\":[\"black\"],\"width\":[0.9866666666666646],\"x\":[\"112.98666650000001\"],\"y\":[0.0]}},\"id\":\"a1a8be3f-c04c-4e70-8d18-fe9676184e10\",\"type\":\"ColumnDataSource\"},{\"attributes\":{\"callback\":null,\"column_names\":[\"x\",\"y\",\"width\",\"height\",\"color\",\"fill_alpha\",\"line_color\",\"line_alpha\",\"label\"],\"data\":{\"chart_index\":[\"(111.506667, 112.493333]\"],\"color\":[\"#f22c40\"],\"fill_alpha\":[0.8],\"height\":[0.0],\"label\":[\"(111.506667, 112.493333]\"],\"line_alpha\":[1.0],\"line_color\":[\"black\"],\"width\":[0.9866666666666646],\"x\":[\"112.0\"],\"y\":[0.0]}},\"id\":\"207b4eab-c7d7-41db-8fa2-95c80de502f9\",\"type\":\"ColumnDataSource\"},{\"attributes\":{\"data_source\":{\"id\":\"207b4eab-c7d7-41db-8fa2-95c80de502f9\",\"type\":\"ColumnDataSource\"},\"glyph\":{\"id\":\"9e37768d-efdf-42bb-8bb9-0ead06890264\",\"type\":\"Rect\"},\"hover_glyph\":null,\"muted_glyph\":null},\"id\":\"ad2af366-d9f9-4b75-87dc-900e83136025\",\"type\":\"GlyphRenderer\"},{\"attributes\":{\"fill_alpha\":{\"field\":\"fill_alpha\"},\"fill_color\":{\"field\":\"color\"},\"height\":{\"field\":\"height\",\"units\":\"data\"},\"line_color\":{\"field\":\"line_color\"},\"width\":{\"field\":\"width\",\"units\":\"data\"},\"x\":{\"field\":\"x\"},\"y\":{\"field\":\"y\"}},\"id\":\"ee5450fb-e5b0-487c-a0b4-138417e4e14c\",\"type\":\"Rect\"},{\"attributes\":{\"callback\":null,\"column_names\":[\"x\",\"y\",\"width\",\"height\",\"color\",\"fill_alpha\",\"line_color\",\"line_alpha\",\"label\"],\"data\":{\"chart_index\":[\"(113.480000, 114.466667]\"],\"color\":[\"#f22c40\"],\"fill_alpha\":[0.8],\"height\":[0.0],\"label\":[\"(113.480000, 114.466667]\"],\"line_alpha\":[1.0],\"line_color\":[\"black\"],\"width\":[0.9866666666666646],\"x\":[\"113.9733335\"],\"y\":[0.0]}},\"id\":\"fe1f821f-37fa-4b65-b923-46c1219af01f\",\"type\":\"ColumnDataSource\"},{\"attributes\":{\"callback\":null,\"column_names\":[\"x\",\"y\",\"width\",\"height\",\"color\",\"fill_alpha\",\"line_color\",\"line_alpha\",\"label\"],\"data\":{\"chart_index\":[\"(119.400000, 120.386667]\"],\"color\":[\"#f22c40\"],\"fill_alpha\":[0.8],\"height\":[0.0],\"label\":[\"(119.400000, 120.386667]\"],\"line_alpha\":[1.0],\"line_color\":[\"black\"],\"width\":[0.9866666666666646],\"x\":[\"119.89333350000001\"],\"y\":[0.0]}},\"id\":\"ae00d15d-f34a-498f-bcc7-02904a67632a\",\"type\":\"ColumnDataSource\"},{\"attributes\":{\"fill_alpha\":{\"field\":\"fill_alpha\"},\"fill_color\":{\"field\":\"color\"},\"height\":{\"field\":\"height\",\"units\":\"data\"},\"line_color\":{\"field\":\"line_color\"},\"width\":{\"field\":\"width\",\"units\":\"data\"},\"x\":{\"field\":\"x\"},\"y\":{\"field\":\"y\"}},\"id\":\"32f9c2a0-c4c8-4326-8ebb-bfa9cc8a20f7\",\"type\":\"Rect\"},{\"attributes\":{\"data_source\":{\"id\":\"a1a8be3f-c04c-4e70-8d18-fe9676184e10\",\"type\":\"ColumnDataSource\"},\"glyph\":{\"id\":\"bbfdfe87-cdb4-4b6b-ad02-e04beeb38b6a\",\"type\":\"Rect\"},\"hover_glyph\":null,\"muted_glyph\":null},\"id\":\"8332f8a1-04ef-4df0-a243-b94c5afa35c8\",\"type\":\"GlyphRenderer\"},{\"attributes\":{\"fill_alpha\":{\"field\":\"fill_alpha\"},\"fill_color\":{\"field\":\"color\"},\"height\":{\"field\":\"height\",\"units\":\"data\"},\"line_color\":{\"field\":\"line_color\"},\"width\":{\"field\":\"width\",\"units\":\"data\"},\"x\":{\"field\":\"x\"},\"y\":{\"field\":\"y\"}},\"id\":\"8bd28e36-c12e-406f-b88c-98e02241edc1\",\"type\":\"Rect\"},{\"attributes\":{\"callback\":null,\"column_names\":[\"x\",\"y\",\"width\",\"height\",\"color\",\"fill_alpha\",\"line_color\",\"line_alpha\",\"label\"],\"data\":{\"chart_index\":[\"(114.466667, 115.453333]\"],\"color\":[\"#f22c40\"],\"fill_alpha\":[0.8],\"height\":[0.0],\"label\":[\"(114.466667, 115.453333]\"],\"line_alpha\":[1.0],\"line_color\":[\"black\"],\"width\":[0.9866666666666646],\"x\":[\"114.96000000000001\"],\"y\":[0.0]}},\"id\":\"5580f23e-83b8-414c-aeaf-f3df5b2b0f8c\",\"type\":\"ColumnDataSource\"},{\"attributes\":{\"data_source\":{\"id\":\"86d41972-ef8c-4743-aaec-9a0777dafd7d\",\"type\":\"ColumnDataSource\"},\"glyph\":{\"id\":\"a8910c92-ef81-4839-b609-2c2428e1ebe0\",\"type\":\"Rect\"},\"hover_glyph\":null,\"muted_glyph\":null},\"id\":\"4dd06ff8-d8cb-4276-86e6-74960c148c16\",\"type\":\"GlyphRenderer\"},{\"attributes\":{\"data_source\":{\"id\":\"fe1f821f-37fa-4b65-b923-46c1219af01f\",\"type\":\"ColumnDataSource\"},\"glyph\":{\"id\":\"ee5450fb-e5b0-487c-a0b4-138417e4e14c\",\"type\":\"Rect\"},\"hover_glyph\":null,\"muted_glyph\":null},\"id\":\"6754870b-352f-4725-8cd5-2862aef6a10f\",\"type\":\"GlyphRenderer\"},{\"attributes\":{\"fill_alpha\":{\"field\":\"fill_alpha\"},\"fill_color\":{\"field\":\"color\"},\"height\":{\"field\":\"height\",\"units\":\"data\"},\"line_color\":{\"field\":\"line_color\"},\"width\":{\"field\":\"width\",\"units\":\"data\"},\"x\":{\"field\":\"x\"},\"y\":{\"field\":\"y\"}},\"id\":\"2f18f568-b0f4-43b5-bf3b-47aa1d8c166c\",\"type\":\"Rect\"},{\"attributes\":{\"callback\":null,\"column_names\":[\"x\",\"y\",\"width\",\"height\",\"color\",\"fill_alpha\",\"line_color\",\"line_alpha\",\"label\"],\"data\":{\"chart_index\":[\"(115.453333, 116.440000]\"],\"color\":[\"#f22c40\"],\"fill_alpha\":[0.8],\"height\":[0.0],\"label\":[\"(115.453333, 116.440000]\"],\"line_alpha\":[1.0],\"line_color\":[\"black\"],\"width\":[0.9866666666666646],\"x\":[\"115.94666649999999\"],\"y\":[0.0]}},\"id\":\"e61fee03-0503-4070-bb6b-b6be29749163\",\"type\":\"ColumnDataSource\"},{\"attributes\":{\"data_source\":{\"id\":\"5580f23e-83b8-414c-aeaf-f3df5b2b0f8c\",\"type\":\"ColumnDataSource\"},\"glyph\":{\"id\":\"8bd28e36-c12e-406f-b88c-98e02241edc1\",\"type\":\"Rect\"},\"hover_glyph\":null,\"muted_glyph\":null},\"id\":\"fa80d00c-b989-4140-b831-7eeb5a61af84\",\"type\":\"GlyphRenderer\"},{\"attributes\":{\"fill_alpha\":{\"field\":\"fill_alpha\"},\"fill_color\":{\"field\":\"color\"},\"height\":{\"field\":\"height\",\"units\":\"data\"},\"line_color\":{\"field\":\"line_color\"},\"width\":{\"field\":\"width\",\"units\":\"data\"},\"x\":{\"field\":\"x\"},\"y\":{\"field\":\"y\"}},\"id\":\"94254acb-cec8-44fe-bba4-31b97875a462\",\"type\":\"Rect\"},{\"attributes\":{\"data_source\":{\"id\":\"e61fee03-0503-4070-bb6b-b6be29749163\",\"type\":\"ColumnDataSource\"},\"glyph\":{\"id\":\"2f18f568-b0f4-43b5-bf3b-47aa1d8c166c\",\"type\":\"Rect\"},\"hover_glyph\":null,\"muted_glyph\":null},\"id\":\"715b005e-c429-464d-bf93-5174205ab5b5\",\"type\":\"GlyphRenderer\"},{\"attributes\":{\"fill_alpha\":{\"field\":\"fill_alpha\"},\"fill_color\":{\"field\":\"color\"},\"height\":{\"field\":\"height\",\"units\":\"data\"},\"line_color\":{\"field\":\"line_color\"},\"width\":{\"field\":\"width\",\"units\":\"data\"},\"x\":{\"field\":\"x\"},\"y\":{\"field\":\"y\"}},\"id\":\"a8910c92-ef81-4839-b609-2c2428e1ebe0\",\"type\":\"Rect\"},{\"attributes\":{\"callback\":null,\"column_names\":[\"x\",\"y\",\"width\",\"height\",\"color\",\"fill_alpha\",\"line_color\",\"line_alpha\",\"label\"],\"data\":{\"chart_index\":[\"(117.426667, 118.413333]\"],\"color\":[\"#f22c40\"],\"fill_alpha\":[0.8],\"height\":[0.0],\"label\":[\"(117.426667, 118.413333]\"],\"line_alpha\":[1.0],\"line_color\":[\"black\"],\"width\":[0.9866666666666646],\"x\":[\"117.91999999999999\"],\"y\":[0.0]}},\"id\":\"86d41972-ef8c-4743-aaec-9a0777dafd7d\",\"type\":\"ColumnDataSource\"},{\"attributes\":{\"callback\":null,\"column_names\":[\"x\",\"y\",\"width\",\"height\",\"color\",\"fill_alpha\",\"line_color\",\"line_alpha\",\"label\"],\"data\":{\"chart_index\":[\"(118.413333, 119.400000]\"],\"color\":[\"#f22c40\"],\"fill_alpha\":[0.8],\"height\":[0.0],\"label\":[\"(118.413333, 119.400000]\"],\"line_alpha\":[1.0],\"line_color\":[\"black\"],\"width\":[0.9866666666666646],\"x\":[\"118.9066665\"],\"y\":[0.0]}},\"id\":\"38c454b8-f0aa-4aca-9ae9-635caf002549\",\"type\":\"ColumnDataSource\"},{\"attributes\":{\"fill_alpha\":{\"field\":\"fill_alpha\"},\"fill_color\":{\"field\":\"color\"},\"height\":{\"field\":\"height\",\"units\":\"data\"},\"line_color\":{\"field\":\"line_color\"},\"width\":{\"field\":\"width\",\"units\":\"data\"},\"x\":{\"field\":\"x\"},\"y\":{\"field\":\"y\"}},\"id\":\"4c1c8d17-7498-4e64-b000-3143faf19e49\",\"type\":\"Rect\"},{\"attributes\":{\"data_source\":{\"id\":\"38c454b8-f0aa-4aca-9ae9-635caf002549\",\"type\":\"ColumnDataSource\"},\"glyph\":{\"id\":\"94254acb-cec8-44fe-bba4-31b97875a462\",\"type\":\"Rect\"},\"hover_glyph\":null,\"muted_glyph\":null},\"id\":\"7baf3444-d05a-464a-845a-8ee1f77e42bf\",\"type\":\"GlyphRenderer\"},{\"attributes\":{\"callback\":null,\"column_names\":[\"x\",\"y\",\"width\",\"height\",\"color\",\"fill_alpha\",\"line_color\",\"line_alpha\",\"label\"],\"data\":{\"chart_index\":[\"(123.346667, 124.333333]\"],\"color\":[\"#f22c40\"],\"fill_alpha\":[0.8],\"height\":[0.0],\"label\":[\"(123.346667, 124.333333]\"],\"line_alpha\":[1.0],\"line_color\":[\"black\"],\"width\":[0.9866666666666788],\"x\":[\"123.84\"],\"y\":[0.0]}},\"id\":\"66db6c04-d8e9-4bd4-836e-ee96feb00a75\",\"type\":\"ColumnDataSource\"},{\"attributes\":{\"data_source\":{\"id\":\"ae00d15d-f34a-498f-bcc7-02904a67632a\",\"type\":\"ColumnDataSource\"},\"glyph\":{\"id\":\"32f9c2a0-c4c8-4326-8ebb-bfa9cc8a20f7\",\"type\":\"Rect\"},\"hover_glyph\":null,\"muted_glyph\":null},\"id\":\"f06ec6e6-29b7-4fd6-a5ea-df0842d6ca6a\",\"type\":\"GlyphRenderer\"},{\"attributes\":{\"fill_alpha\":{\"field\":\"fill_alpha\"},\"fill_color\":{\"field\":\"color\"},\"height\":{\"field\":\"height\",\"units\":\"data\"},\"line_color\":{\"field\":\"line_color\"},\"width\":{\"field\":\"width\",\"units\":\"data\"},\"x\":{\"field\":\"x\"},\"y\":{\"field\":\"y\"}},\"id\":\"09625914-1b81-4204-bae7-d8b83bc346be\",\"type\":\"Rect\"},{\"attributes\":{\"data_source\":{\"id\":\"66db6c04-d8e9-4bd4-836e-ee96feb00a75\",\"type\":\"ColumnDataSource\"},\"glyph\":{\"id\":\"29401576-6db0-4eb9-83b8-0b1fb3c6cbe3\",\"type\":\"Rect\"},\"hover_glyph\":null,\"muted_glyph\":null},\"id\":\"896fe983-083f-438d-9bee-58a924863558\",\"type\":\"GlyphRenderer\"},{\"attributes\":{\"data_source\":{\"id\":\"41e9a7a2-8693-45d3-9ff3-b1afe93d2a58\",\"type\":\"ColumnDataSource\"},\"glyph\":{\"id\":\"09625914-1b81-4204-bae7-d8b83bc346be\",\"type\":\"Rect\"},\"hover_glyph\":null,\"muted_glyph\":null},\"id\":\"dcbed767-08f4-4f48-8498-1eb0d9f8ca74\",\"type\":\"GlyphRenderer\"},{\"attributes\":{\"callback\":null,\"column_names\":[\"x\",\"y\",\"width\",\"height\",\"color\",\"fill_alpha\",\"line_color\",\"line_alpha\",\"label\"],\"data\":{\"chart_index\":[\"(120.386667, 121.373333]\"],\"color\":[\"#f22c40\"],\"fill_alpha\":[0.8],\"height\":[0.0],\"label\":[\"(120.386667, 121.373333]\"],\"line_alpha\":[1.0],\"line_color\":[\"black\"],\"width\":[0.9866666666666646],\"x\":[\"120.88\"],\"y\":[0.0]}},\"id\":\"41e9a7a2-8693-45d3-9ff3-b1afe93d2a58\",\"type\":\"ColumnDataSource\"},{\"attributes\":{\"callback\":null,\"column_names\":[\"x\",\"y\",\"width\",\"height\",\"color\",\"fill_alpha\",\"line_color\",\"line_alpha\",\"label\"],\"data\":{\"chart_index\":[\"(124.333333, 125.320000]\"],\"color\":[\"#f22c40\"],\"fill_alpha\":[0.8],\"height\":[0.0],\"label\":[\"(124.333333, 125.320000]\"],\"line_alpha\":[1.0],\"line_color\":[\"black\"],\"width\":[0.9866666666666646],\"x\":[\"124.82666649999999\"],\"y\":[0.0]}},\"id\":\"b51cdb55-5a95-46f1-bd4f-baca4198c282\",\"type\":\"ColumnDataSource\"},{\"attributes\":{\"fill_alpha\":{\"field\":\"fill_alpha\"},\"fill_color\":{\"field\":\"color\"},\"height\":{\"field\":\"height\",\"units\":\"data\"},\"line_color\":{\"field\":\"line_color\"},\"width\":{\"field\":\"width\",\"units\":\"data\"},\"x\":{\"field\":\"x\"},\"y\":{\"field\":\"y\"}},\"id\":\"43be6bb6-cf85-48d5-a90e-c64b696354b3\",\"type\":\"Rect\"},{\"attributes\":{\"data_source\":{\"id\":\"fac4e607-41c9-4007-86a1-b3aa6273ed2e\",\"type\":\"ColumnDataSource\"},\"glyph\":{\"id\":\"5ebfc349-a835-442a-bdd4-a0620872454f\",\"type\":\"Rect\"},\"hover_glyph\":null,\"muted_glyph\":null},\"id\":\"11838957-c22c-4f42-abfa-b36c6b7be581\",\"type\":\"GlyphRenderer\"},{\"attributes\":{\"callback\":null,\"column_names\":[\"x\",\"y\",\"width\",\"height\",\"color\",\"fill_alpha\",\"line_color\",\"line_alpha\",\"label\"],\"data\":{\"chart_index\":[\"(7.906667, 8.893333]\"],\"color\":[\"#f22c40\"],\"fill_alpha\":[0.8],\"height\":[13.0],\"label\":[\"(7.906667, 8.893333]\"],\"line_alpha\":[1.0],\"line_color\":[\"black\"],\"width\":[0.9866666666666672],\"x\":[\"8.4\"],\"y\":[6.5]}},\"id\":\"df473952-16ef-4e58-a2ad-45ad662cf69e\",\"type\":\"ColumnDataSource\"},{\"attributes\":{\"fill_alpha\":{\"field\":\"fill_alpha\"},\"fill_color\":{\"field\":\"color\"},\"height\":{\"field\":\"height\",\"units\":\"data\"},\"line_color\":{\"field\":\"line_color\"},\"width\":{\"field\":\"width\",\"units\":\"data\"},\"x\":{\"field\":\"x\"},\"y\":{\"field\":\"y\"}},\"id\":\"c9867b75-1032-4f1d-9ece-21c9e2148ae4\",\"type\":\"Rect\"},{\"attributes\":{\"callback\":null,\"column_names\":[\"x\",\"y\",\"width\",\"height\",\"color\",\"fill_alpha\",\"line_color\",\"line_alpha\",\"label\"],\"data\":{\"chart_index\":[\"(11.853333, 12.840000]\"],\"color\":[\"#f22c40\"],\"fill_alpha\":[0.8],\"height\":[6.0],\"label\":[\"(11.853333, 12.840000]\"],\"line_alpha\":[1.0],\"line_color\":[\"black\"],\"width\":[0.9866666666666664],\"x\":[\"12.3466665\"],\"y\":[3.0]}},\"id\":\"a4978d7f-4d00-4bfb-8259-73a8eae0b3dd\",\"type\":\"ColumnDataSource\"},{\"attributes\":{\"fill_alpha\":{\"field\":\"fill_alpha\"},\"fill_color\":{\"field\":\"color\"},\"height\":{\"field\":\"height\",\"units\":\"data\"},\"line_color\":{\"field\":\"line_color\"},\"width\":{\"field\":\"width\",\"units\":\"data\"},\"x\":{\"field\":\"x\"},\"y\":{\"field\":\"y\"}},\"id\":\"cbe3332c-4591-41b5-8c5d-a1e27bb18a84\",\"type\":\"Rect\"},{\"attributes\":{\"data_source\":{\"id\":\"df473952-16ef-4e58-a2ad-45ad662cf69e\",\"type\":\"ColumnDataSource\"},\"glyph\":{\"id\":\"c9867b75-1032-4f1d-9ece-21c9e2148ae4\",\"type\":\"Rect\"},\"hover_glyph\":null,\"muted_glyph\":null},\"id\":\"a7f201c9-8e52-4240-8102-d7882303ba3e\",\"type\":\"GlyphRenderer\"},{\"attributes\":{\"fill_alpha\":{\"field\":\"fill_alpha\"},\"fill_color\":{\"field\":\"color\"},\"height\":{\"field\":\"height\",\"units\":\"data\"},\"line_color\":{\"field\":\"line_color\"},\"width\":{\"field\":\"width\",\"units\":\"data\"},\"x\":{\"field\":\"x\"},\"y\":{\"field\":\"y\"}},\"id\":\"2f1db757-5756-4c57-afd9-e8a0168ab6de\",\"type\":\"Rect\"},{\"attributes\":{\"callback\":null,\"column_names\":[\"x\",\"y\",\"width\",\"height\",\"color\",\"fill_alpha\",\"line_color\",\"line_alpha\",\"label\"],\"data\":{\"chart_index\":[\"(10.866667, 11.853333]\"],\"color\":[\"#f22c40\"],\"fill_alpha\":[0.8],\"height\":[8.0],\"label\":[\"(10.866667, 11.853333]\"],\"line_alpha\":[1.0],\"line_color\":[\"black\"],\"width\":[0.9866666666666664],\"x\":[\"11.36\"],\"y\":[4.0]}},\"id\":\"6cba7ae1-456a-45b8-bf8e-b0cd4ba9f4f8\",\"type\":\"ColumnDataSource\"},{\"attributes\":{\"callback\":null,\"end\":152.74999983333333,\"start\":-2.7499998333333338},\"id\":\"49d99d8e-7a3b-4931-90e1-6258679ebb7f\",\"type\":\"Range1d\"},{\"attributes\":{\"data_source\":{\"id\":\"719ee562-8f0f-46ee-a29e-e8eae24ee6ab\",\"type\":\"ColumnDataSource\"},\"glyph\":{\"id\":\"dbb99f19-6ac0-44e3-968c-8c2861f0baef\",\"type\":\"Rect\"},\"hover_glyph\":null,\"muted_glyph\":null},\"id\":\"f322d116-1737-4473-9edf-b2d946869a30\",\"type\":\"GlyphRenderer\"},{\"attributes\":{\"data_source\":{\"id\":\"6cba7ae1-456a-45b8-bf8e-b0cd4ba9f4f8\",\"type\":\"ColumnDataSource\"},\"glyph\":{\"id\":\"cbe3332c-4591-41b5-8c5d-a1e27bb18a84\",\"type\":\"Rect\"},\"hover_glyph\":null,\"muted_glyph\":null},\"id\":\"873b5dca-92b8-4259-ac95-90289e4584f6\",\"type\":\"GlyphRenderer\"},{\"attributes\":{\"fill_alpha\":{\"field\":\"fill_alpha\"},\"fill_color\":{\"field\":\"color\"},\"height\":{\"field\":\"height\",\"units\":\"data\"},\"line_color\":{\"field\":\"line_color\"},\"width\":{\"field\":\"width\",\"units\":\"data\"},\"x\":{\"field\":\"x\"},\"y\":{\"field\":\"y\"}},\"id\":\"7d344b4d-e865-47da-b58c-fcc39059e419\",\"type\":\"Rect\"},{\"attributes\":{\"callback\":null,\"column_names\":[\"x\",\"y\",\"width\",\"height\",\"color\",\"fill_alpha\",\"line_color\",\"line_alpha\",\"label\"],\"data\":{\"chart_index\":[\"(12.840000, 13.826667]\"],\"color\":[\"#f22c40\"],\"fill_alpha\":[0.8],\"height\":[8.0],\"label\":[\"(12.840000, 13.826667]\"],\"line_alpha\":[1.0],\"line_color\":[\"black\"],\"width\":[0.9866666666666664],\"x\":[\"13.3333335\"],\"y\":[4.0]}},\"id\":\"697d3521-d72b-4098-ae96-faad5fa8310f\",\"type\":\"ColumnDataSource\"},{\"attributes\":{\"fill_alpha\":{\"field\":\"fill_alpha\"},\"fill_color\":{\"field\":\"color\"},\"height\":{\"field\":\"height\",\"units\":\"data\"},\"line_color\":{\"field\":\"line_color\"},\"width\":{\"field\":\"width\",\"units\":\"data\"},\"x\":{\"field\":\"x\"},\"y\":{\"field\":\"y\"}},\"id\":\"5e569b17-01de-46a9-bc46-e1f54e106b3e\",\"type\":\"Rect\"},{\"attributes\":{\"callback\":null,\"column_names\":[\"x\",\"y\",\"width\",\"height\",\"color\",\"fill_alpha\",\"line_color\",\"line_alpha\",\"label\"],\"data\":{\"chart_index\":[\"(18.760000, 19.746667]\"],\"color\":[\"#f22c40\"],\"fill_alpha\":[0.8],\"height\":[3.0],\"label\":[\"(18.760000, 19.746667]\"],\"line_alpha\":[1.0],\"line_color\":[\"black\"],\"width\":[0.9866666666666646],\"x\":[\"19.2533335\"],\"y\":[1.5]}},\"id\":\"80cd27ed-61f6-4e72-ae00-b791eef3412d\",\"type\":\"ColumnDataSource\"},{\"attributes\":{\"data_source\":{\"id\":\"a4978d7f-4d00-4bfb-8259-73a8eae0b3dd\",\"type\":\"ColumnDataSource\"},\"glyph\":{\"id\":\"2f1db757-5756-4c57-afd9-e8a0168ab6de\",\"type\":\"Rect\"},\"hover_glyph\":null,\"muted_glyph\":null},\"id\":\"474c34e4-9015-43ac-90b9-4c1c234f1d66\",\"type\":\"GlyphRenderer\"},{\"attributes\":{\"fill_alpha\":{\"field\":\"fill_alpha\"},\"fill_color\":{\"field\":\"color\"},\"height\":{\"field\":\"height\",\"units\":\"data\"},\"line_color\":{\"field\":\"line_color\"},\"width\":{\"field\":\"width\",\"units\":\"data\"},\"x\":{\"field\":\"x\"},\"y\":{\"field\":\"y\"}},\"id\":\"9ab27116-6042-45f6-96d6-0a5a925246a2\",\"type\":\"Rect\"},{\"attributes\":{\"data_source\":{\"id\":\"5bcaff59-4364-442d-b4eb-56511935bca9\",\"type\":\"ColumnDataSource\"},\"glyph\":{\"id\":\"47c8d33f-b9c7-4cb3-9af2-2a2eacc0af2a\",\"type\":\"Rect\"},\"hover_glyph\":null,\"muted_glyph\":null},\"id\":\"fd666d16-e71f-4236-b9bd-5fc12ef5eeaa\",\"type\":\"GlyphRenderer\"},{\"attributes\":{\"callback\":null,\"column_names\":[\"x\",\"y\",\"width\",\"height\",\"color\",\"fill_alpha\",\"line_color\",\"line_alpha\",\"label\"],\"data\":{\"chart_index\":[\"(16.786667, 17.773333]\"],\"color\":[\"#f22c40\"],\"fill_alpha\":[0.8],\"height\":[4.0],\"label\":[\"(16.786667, 17.773333]\"],\"line_alpha\":[1.0],\"line_color\":[\"black\"],\"width\":[0.9866666666666646],\"x\":[\"17.28\"],\"y\":[2.0]}},\"id\":\"5bcaff59-4364-442d-b4eb-56511935bca9\",\"type\":\"ColumnDataSource\"},{\"attributes\":{\"data_source\":{\"id\":\"697d3521-d72b-4098-ae96-faad5fa8310f\",\"type\":\"ColumnDataSource\"},\"glyph\":{\"id\":\"7d344b4d-e865-47da-b58c-fcc39059e419\",\"type\":\"Rect\"},\"hover_glyph\":null,\"muted_glyph\":null},\"id\":\"f3ec04a0-3f32-469a-98ae-0a167725c32a\",\"type\":\"GlyphRenderer\"},{\"attributes\":{\"callback\":null,\"column_names\":[\"x\",\"y\",\"width\",\"height\",\"color\",\"fill_alpha\",\"line_color\",\"line_alpha\",\"label\"],\"data\":{\"chart_index\":[\"(13.826667, 14.813333]\"],\"color\":[\"#f22c40\"],\"fill_alpha\":[0.8],\"height\":[5.0],\"label\":[\"(13.826667, 14.813333]\"],\"line_alpha\":[1.0],\"line_color\":[\"black\"],\"width\":[0.9866666666666681],\"x\":[\"14.32\"],\"y\":[2.5]}},\"id\":\"e88fa49b-7e85-4618-9a39-fc3fbc5b2d45\",\"type\":\"ColumnDataSource\"},{\"attributes\":{\"fill_alpha\":{\"field\":\"fill_alpha\"},\"fill_color\":{\"field\":\"color\"},\"height\":{\"field\":\"height\",\"units\":\"data\"},\"line_color\":{\"field\":\"line_color\"},\"width\":{\"field\":\"width\",\"units\":\"data\"},\"x\":{\"field\":\"x\"},\"y\":{\"field\":\"y\"}},\"id\":\"765da7c2-c5b6-4199-8a9c-a42e1ade4e56\",\"type\":\"Rect\"},{\"attributes\":{\"callback\":null,\"column_names\":[\"x\",\"y\",\"width\",\"height\",\"color\",\"fill_alpha\",\"line_color\",\"line_alpha\",\"label\"],\"data\":{\"chart_index\":[\"(14.813333, 15.800000]\"],\"color\":[\"#f22c40\"],\"fill_alpha\":[0.8],\"height\":[6.0],\"label\":[\"(14.813333, 15.800000]\"],\"line_alpha\":[1.0],\"line_color\":[\"black\"],\"width\":[0.9866666666666664],\"x\":[\"15.3066665\"],\"y\":[3.0]}},\"id\":\"02ec0cf8-83c8-4d4e-9208-9bf2f19bb957\",\"type\":\"ColumnDataSource\"},{\"attributes\":{\"callback\":null,\"column_names\":[\"x\",\"y\",\"width\",\"height\",\"color\",\"fill_alpha\",\"line_color\",\"line_alpha\",\"label\"],\"data\":{\"chart_index\":[\"(23.693333, 24.680000]\"],\"color\":[\"#f22c40\"],\"fill_alpha\":[0.8],\"height\":[0.0],\"label\":[\"(23.693333, 24.680000]\"],\"line_alpha\":[1.0],\"line_color\":[\"black\"],\"width\":[0.9866666666666646],\"x\":[\"24.1866665\"],\"y\":[0.0]}},\"id\":\"96430f5e-3e35-4f39-821a-e77e44b144cb\",\"type\":\"ColumnDataSource\"},{\"attributes\":{\"data_source\":{\"id\":\"e88fa49b-7e85-4618-9a39-fc3fbc5b2d45\",\"type\":\"ColumnDataSource\"},\"glyph\":{\"id\":\"765da7c2-c5b6-4199-8a9c-a42e1ade4e56\",\"type\":\"Rect\"},\"hover_glyph\":null,\"muted_glyph\":null},\"id\":\"2992b0d6-065a-4d63-aae9-9f483fd7aedb\",\"type\":\"GlyphRenderer\"},{\"attributes\":{\"fill_alpha\":{\"field\":\"fill_alpha\"},\"fill_color\":{\"field\":\"color\"},\"height\":{\"field\":\"height\",\"units\":\"data\"},\"line_color\":{\"field\":\"line_color\"},\"width\":{\"field\":\"width\",\"units\":\"data\"},\"x\":{\"field\":\"x\"},\"y\":{\"field\":\"y\"}},\"id\":\"9acd1e3d-e1ab-4d8c-84af-12bc2ecb285f\",\"type\":\"Rect\"},{\"attributes\":{\"callback\":null,\"column_names\":[\"x\",\"y\",\"width\",\"height\",\"color\",\"fill_alpha\",\"line_color\",\"line_alpha\",\"label\"],\"data\":{\"chart_index\":[\"(15.800000, 16.786667]\"],\"color\":[\"#f22c40\"],\"fill_alpha\":[0.8],\"height\":[3.0],\"label\":[\"(15.800000, 16.786667]\"],\"line_alpha\":[1.0],\"line_color\":[\"black\"],\"width\":[0.9866666666666681],\"x\":[\"16.293333500000003\"],\"y\":[1.5]}},\"id\":\"408f5cb5-9096-45a5-8446-0162240e1792\",\"type\":\"ColumnDataSource\"},{\"attributes\":{\"data_source\":{\"id\":\"02ec0cf8-83c8-4d4e-9208-9bf2f19bb957\",\"type\":\"ColumnDataSource\"},\"glyph\":{\"id\":\"9ab27116-6042-45f6-96d6-0a5a925246a2\",\"type\":\"Rect\"},\"hover_glyph\":null,\"muted_glyph\":null},\"id\":\"84981841-a0bd-4a2b-a38f-e8c3876ba2c0\",\"type\":\"GlyphRenderer\"},{\"attributes\":{\"data_source\":{\"id\":\"31594111-17f7-42e5-95f5-11d4ff0627a5\",\"type\":\"ColumnDataSource\"},\"glyph\":{\"id\":\"b0fb3f09-648a-4335-98b2-fba74178a521\",\"type\":\"Rect\"},\"hover_glyph\":null,\"muted_glyph\":null},\"id\":\"77c9c9a3-c116-4149-9850-bb70b3f1d894\",\"type\":\"GlyphRenderer\"},{\"attributes\":{\"callback\":null,\"column_names\":[\"x\",\"y\",\"width\",\"height\",\"color\",\"fill_alpha\",\"line_color\",\"line_alpha\",\"label\"],\"data\":{\"chart_index\":[\"(133.213333, 134.200000]\"],\"color\":[\"#f22c40\"],\"fill_alpha\":[0.8],\"height\":[0.0],\"label\":[\"(133.213333, 134.200000]\"],\"line_alpha\":[1.0],\"line_color\":[\"black\"],\"width\":[0.9866666666666788],\"x\":[\"133.70666649999998\"],\"y\":[0.0]}},\"id\":\"1386e9d1-ff1e-4163-8865-6e7cfb34d0bd\",\"type\":\"ColumnDataSource\"},{\"attributes\":{\"fill_alpha\":{\"field\":\"fill_alpha\"},\"fill_color\":{\"field\":\"color\"},\"height\":{\"field\":\"height\",\"units\":\"data\"},\"line_color\":{\"field\":\"line_color\"},\"width\":{\"field\":\"width\",\"units\":\"data\"},\"x\":{\"field\":\"x\"},\"y\":{\"field\":\"y\"}},\"id\":\"b0fb3f09-648a-4335-98b2-fba74178a521\",\"type\":\"Rect\"},{\"attributes\":{\"callback\":null,\"column_names\":[\"x\",\"y\",\"width\",\"height\",\"color\",\"fill_alpha\",\"line_color\",\"line_alpha\",\"label\"],\"data\":{\"chart_index\":[\"(17.773333, 18.760000]\"],\"color\":[\"#f22c40\"],\"fill_alpha\":[0.8],\"height\":[3.0],\"label\":[\"(17.773333, 18.760000]\"],\"line_alpha\":[1.0],\"line_color\":[\"black\"],\"width\":[0.9866666666666681],\"x\":[\"18.2666665\"],\"y\":[1.5]}},\"id\":\"31594111-17f7-42e5-95f5-11d4ff0627a5\",\"type\":\"ColumnDataSource\"},{\"attributes\":{\"data_source\":{\"id\":\"408f5cb5-9096-45a5-8446-0162240e1792\",\"type\":\"ColumnDataSource\"},\"glyph\":{\"id\":\"9acd1e3d-e1ab-4d8c-84af-12bc2ecb285f\",\"type\":\"Rect\"},\"hover_glyph\":null,\"muted_glyph\":null},\"id\":\"1be2ca0a-36b8-4854-8682-6c274a44859b\",\"type\":\"GlyphRenderer\"},{\"attributes\":{\"data_source\":{\"id\":\"96430f5e-3e35-4f39-821a-e77e44b144cb\",\"type\":\"ColumnDataSource\"},\"glyph\":{\"id\":\"0346cfef-ea9f-47d5-ba91-32f867e718ac\",\"type\":\"Rect\"},\"hover_glyph\":null,\"muted_glyph\":null},\"id\":\"3121d6b3-2219-4da6-968f-8024b8ce384b\",\"type\":\"GlyphRenderer\"},{\"attributes\":{\"fill_alpha\":{\"field\":\"fill_alpha\"},\"fill_color\":{\"field\":\"color\"},\"height\":{\"field\":\"height\",\"units\":\"data\"},\"line_color\":{\"field\":\"line_color\"},\"width\":{\"field\":\"width\",\"units\":\"data\"},\"x\":{\"field\":\"x\"},\"y\":{\"field\":\"y\"}},\"id\":\"c084936e-7a55-48c9-9ba9-336efef9a9b5\",\"type\":\"Rect\"},{\"attributes\":{\"fill_alpha\":{\"field\":\"fill_alpha\"},\"fill_color\":{\"field\":\"color\"},\"height\":{\"field\":\"height\",\"units\":\"data\"},\"line_color\":{\"field\":\"line_color\"},\"width\":{\"field\":\"width\",\"units\":\"data\"},\"x\":{\"field\":\"x\"},\"y\":{\"field\":\"y\"}},\"id\":\"0346cfef-ea9f-47d5-ba91-32f867e718ac\",\"type\":\"Rect\"},{\"attributes\":{\"fill_alpha\":{\"field\":\"fill_alpha\"},\"fill_color\":{\"field\":\"color\"},\"height\":{\"field\":\"height\",\"units\":\"data\"},\"line_color\":{\"field\":\"line_color\"},\"width\":{\"field\":\"width\",\"units\":\"data\"},\"x\":{\"field\":\"x\"},\"y\":{\"field\":\"y\"}},\"id\":\"8cb5322a-3d9f-4cf1-b2a4-fd03ba5f742e\",\"type\":\"Rect\"},{\"attributes\":{\"plot\":null,\"text\":\"Histogram of Unique Recipient Countries by Implementing Organisation\"},\"id\":\"5271f1c6-b2e1-4f0d-ac62-64de9db3de4a\",\"type\":\"Title\"},{\"attributes\":{\"fill_alpha\":{\"field\":\"fill_alpha\"},\"fill_color\":{\"field\":\"color\"},\"height\":{\"field\":\"height\",\"units\":\"data\"},\"line_color\":{\"field\":\"line_color\"},\"width\":{\"field\":\"width\",\"units\":\"data\"},\"x\":{\"field\":\"x\"},\"y\":{\"field\":\"y\"}},\"id\":\"f4ed371f-b701-4b21-a08a-c477d3f15171\",\"type\":\"Rect\"},{\"attributes\":{\"fill_alpha\":{\"field\":\"fill_alpha\"},\"fill_color\":{\"field\":\"color\"},\"height\":{\"field\":\"height\",\"units\":\"data\"},\"line_color\":{\"field\":\"line_color\"},\"width\":{\"field\":\"width\",\"units\":\"data\"},\"x\":{\"field\":\"x\"},\"y\":{\"field\":\"y\"}},\"id\":\"f5a9b657-ad08-42bc-957b-88e2e9f1ca6b\",\"type\":\"Rect\"},{\"attributes\":{\"callback\":null,\"column_names\":[\"x\",\"y\",\"width\",\"height\",\"color\",\"fill_alpha\",\"line_color\",\"line_alpha\",\"label\"],\"data\":{\"chart_index\":[\"(64.146667, 65.133333]\"],\"color\":[\"#f22c40\"],\"fill_alpha\":[0.8],\"height\":[0.0],\"label\":[\"(64.146667, 65.133333]\"],\"line_alpha\":[1.0],\"line_color\":[\"black\"],\"width\":[0.9866666666666646],\"x\":[\"64.63999999999999\"],\"y\":[0.0]}},\"id\":\"49b9896c-42fd-4da9-a56f-77142865bf28\",\"type\":\"ColumnDataSource\"},{\"attributes\":{\"callback\":null,\"column_names\":[\"x\",\"y\",\"width\",\"height\",\"color\",\"fill_alpha\",\"line_color\",\"line_alpha\",\"label\"],\"data\":{\"chart_index\":[\"(63.160000, 64.146667]\"],\"color\":[\"#f22c40\"],\"fill_alpha\":[0.8],\"height\":[1.0],\"label\":[\"(63.160000, 64.146667]\"],\"line_alpha\":[1.0],\"line_color\":[\"black\"],\"width\":[0.9866666666666717],\"x\":[\"63.653333499999995\"],\"y\":[0.5]}},\"id\":\"13d4187b-d98e-403c-ae02-d458a22b6285\",\"type\":\"ColumnDataSource\"},{\"attributes\":{\"callback\":null,\"column_names\":[\"x\",\"y\",\"width\",\"height\",\"color\",\"fill_alpha\",\"line_color\",\"line_alpha\",\"label\"],\"data\":{\"chart_index\":[\"(51.320000, 52.306667]\"],\"color\":[\"#f22c40\"],\"fill_alpha\":[0.8],\"height\":[2.0],\"label\":[\"(51.320000, 52.306667]\"],\"line_alpha\":[1.0],\"line_color\":[\"black\"],\"width\":[0.9866666666666646],\"x\":[\"51.8133335\"],\"y\":[1.0]}},\"id\":\"a5b5fd41-6b30-4c2b-be82-b2b9914cddae\",\"type\":\"ColumnDataSource\"},{\"attributes\":{\"data_source\":{\"id\":\"a5b5fd41-6b30-4c2b-be82-b2b9914cddae\",\"type\":\"ColumnDataSource\"},\"glyph\":{\"id\":\"916af302-a24a-4a86-999d-524a5cca60ea\",\"type\":\"Rect\"},\"hover_glyph\":null,\"muted_glyph\":null},\"id\":\"d457cf86-d22c-4e0c-80fd-fd86e9ff9a5a\",\"type\":\"GlyphRenderer\"},{\"attributes\":{\"data_source\":{\"id\":\"13d4187b-d98e-403c-ae02-d458a22b6285\",\"type\":\"ColumnDataSource\"},\"glyph\":{\"id\":\"596d03ff-a223-4360-828c-6f54d1a86313\",\"type\":\"Rect\"},\"hover_glyph\":null,\"muted_glyph\":null},\"id\":\"ed39eb39-966f-4888-bb31-037360c707fe\",\"type\":\"GlyphRenderer\"},{\"attributes\":{\"callback\":null,\"column_names\":[\"x\",\"y\",\"width\",\"height\",\"color\",\"fill_alpha\",\"line_color\",\"line_alpha\",\"label\"],\"data\":{\"chart_index\":[\"(54.280000, 55.266667]\"],\"color\":[\"#f22c40\"],\"fill_alpha\":[0.8],\"height\":[0.0],\"label\":[\"(54.280000, 55.266667]\"],\"line_alpha\":[1.0],\"line_color\":[\"black\"],\"width\":[0.9866666666666646],\"x\":[\"54.7733335\"],\"y\":[0.0]}},\"id\":\"877ee4f2-f9d1-4891-8509-594768efc569\",\"type\":\"ColumnDataSource\"},{\"attributes\":{\"fill_alpha\":{\"field\":\"fill_alpha\"},\"fill_color\":{\"field\":\"color\"},\"height\":{\"field\":\"height\",\"units\":\"data\"},\"line_color\":{\"field\":\"line_color\"},\"width\":{\"field\":\"width\",\"units\":\"data\"},\"x\":{\"field\":\"x\"},\"y\":{\"field\":\"y\"}},\"id\":\"28756c6d-03ae-43ed-a0f4-d90ebe1d1f56\",\"type\":\"Rect\"},{\"attributes\":{\"callback\":null,\"column_names\":[\"x\",\"y\",\"width\",\"height\",\"color\",\"fill_alpha\",\"line_color\",\"line_alpha\",\"label\"],\"data\":{\"chart_index\":[\"(65.133333, 66.120000]\"],\"color\":[\"#f22c40\"],\"fill_alpha\":[0.8],\"height\":[0.0],\"label\":[\"(65.133333, 66.120000]\"],\"line_alpha\":[1.0],\"line_color\":[\"black\"],\"width\":[0.9866666666666646],\"x\":[\"65.6266665\"],\"y\":[0.0]}},\"id\":\"221512dd-37f1-4d8e-905c-9fb3abff96c1\",\"type\":\"ColumnDataSource\"},{\"attributes\":{\"fill_alpha\":{\"field\":\"fill_alpha\"},\"fill_color\":{\"field\":\"color\"},\"height\":{\"field\":\"height\",\"units\":\"data\"},\"line_color\":{\"field\":\"line_color\"},\"width\":{\"field\":\"width\",\"units\":\"data\"},\"x\":{\"field\":\"x\"},\"y\":{\"field\":\"y\"}},\"id\":\"8e76f827-5d5f-4d98-bb59-71632ca9cca9\",\"type\":\"Rect\"},{\"attributes\":{\"callback\":null,\"column_names\":[\"x\",\"y\",\"width\",\"height\",\"color\",\"fill_alpha\",\"line_color\",\"line_alpha\",\"label\"],\"data\":{\"chart_index\":[\"(69.080000, 70.066667]\"],\"color\":[\"#f22c40\"],\"fill_alpha\":[0.8],\"height\":[1.0],\"label\":[\"(69.080000, 70.066667]\"],\"line_alpha\":[1.0],\"line_color\":[\"black\"],\"width\":[0.9866666666666646],\"x\":[\"69.57333349999999\"],\"y\":[0.5]}},\"id\":\"156f1095-bf89-431c-b26d-71b4b0bc7b62\",\"type\":\"ColumnDataSource\"},{\"attributes\":{\"data_source\":{\"id\":\"c572bfc5-6de4-499d-a3f0-c0430e86ae78\",\"type\":\"ColumnDataSource\"},\"glyph\":{\"id\":\"5a5582d5-4168-4277-9465-27784522fad3\",\"type\":\"Rect\"},\"hover_glyph\":null,\"muted_glyph\":null},\"id\":\"dd41f1d2-c016-4e96-af94-79d517794894\",\"type\":\"GlyphRenderer\"},{\"attributes\":{\"fill_alpha\":{\"field\":\"fill_alpha\"},\"fill_color\":{\"field\":\"color\"},\"height\":{\"field\":\"height\",\"units\":\"data\"},\"line_color\":{\"field\":\"line_color\"},\"width\":{\"field\":\"width\",\"units\":\"data\"},\"x\":{\"field\":\"x\"},\"y\":{\"field\":\"y\"}},\"id\":\"6f2a36bc-4ba9-46cc-8a54-73e19f30ccca\",\"type\":\"Rect\"},{\"attributes\":{\"data_source\":{\"id\":\"49b9896c-42fd-4da9-a56f-77142865bf28\",\"type\":\"ColumnDataSource\"},\"glyph\":{\"id\":\"f5a9b657-ad08-42bc-957b-88e2e9f1ca6b\",\"type\":\"Rect\"},\"hover_glyph\":null,\"muted_glyph\":null},\"id\":\"d592aa8f-4685-4fd4-ad1f-775ddd285d42\",\"type\":\"GlyphRenderer\"},{\"attributes\":{\"callback\":null,\"column_names\":[\"x\",\"y\",\"width\",\"height\",\"color\",\"fill_alpha\",\"line_color\",\"line_alpha\",\"label\"],\"data\":{\"chart_index\":[\"(62.173333, 63.160000]\"],\"color\":[\"#f22c40\"],\"fill_alpha\":[0.8],\"height\":[0.0],\"label\":[\"(62.173333, 63.160000]\"],\"line_alpha\":[1.0],\"line_color\":[\"black\"],\"width\":[0.9866666666666717],\"x\":[\"62.6666665\"],\"y\":[0.0]}},\"id\":\"f4711268-2b45-442a-b257-523b46ece816\",\"type\":\"ColumnDataSource\"},{\"attributes\":{\"fill_alpha\":{\"field\":\"fill_alpha\"},\"fill_color\":{\"field\":\"color\"},\"height\":{\"field\":\"height\",\"units\":\"data\"},\"line_color\":{\"field\":\"line_color\"},\"width\":{\"field\":\"width\",\"units\":\"data\"},\"x\":{\"field\":\"x\"},\"y\":{\"field\":\"y\"}},\"id\":\"02a286a0-b164-4c20-8012-5311b81db051\",\"type\":\"Rect\"},{\"attributes\":{\"data_source\":{\"id\":\"877ee4f2-f9d1-4891-8509-594768efc569\",\"type\":\"ColumnDataSource\"},\"glyph\":{\"id\":\"8e76f827-5d5f-4d98-bb59-71632ca9cca9\",\"type\":\"Rect\"},\"hover_glyph\":null,\"muted_glyph\":null},\"id\":\"2c46a965-9ab8-460b-85fa-745804b11c7d\",\"type\":\"GlyphRenderer\"},{\"attributes\":{\"callback\":null,\"column_names\":[\"x\",\"y\",\"width\",\"height\",\"color\",\"fill_alpha\",\"line_color\",\"line_alpha\",\"label\"],\"data\":{\"chart_index\":[\"(55.266667, 56.253333]\"],\"color\":[\"#f22c40\"],\"fill_alpha\":[0.8],\"height\":[0.0],\"label\":[\"(55.266667, 56.253333]\"],\"line_alpha\":[1.0],\"line_color\":[\"black\"],\"width\":[0.9866666666666717],\"x\":[\"55.76\"],\"y\":[0.0]}},\"id\":\"d17fab7b-e010-4ca3-ae61-22d56eb6c26d\",\"type\":\"ColumnDataSource\"},{\"attributes\":{\"fill_alpha\":{\"field\":\"fill_alpha\"},\"fill_color\":{\"field\":\"color\"},\"height\":{\"field\":\"height\",\"units\":\"data\"},\"line_color\":{\"field\":\"line_color\"},\"width\":{\"field\":\"width\",\"units\":\"data\"},\"x\":{\"field\":\"x\"},\"y\":{\"field\":\"y\"}},\"id\":\"c75f8a05-e2a1-4990-abe1-2a36d202556e\",\"type\":\"Rect\"},{\"attributes\":{\"data_source\":{\"id\":\"d25a4345-08b5-4665-aa06-96c1ccf29277\",\"type\":\"ColumnDataSource\"},\"glyph\":{\"id\":\"9505d765-3475-4d04-b595-5c5b1ab3b453\",\"type\":\"Rect\"},\"hover_glyph\":null,\"muted_glyph\":null},\"id\":\"64611f78-dbfb-4a80-8827-bb458929a8b5\",\"type\":\"GlyphRenderer\"},{\"attributes\":{\"callback\":null,\"column_names\":[\"x\",\"y\",\"width\",\"height\",\"color\",\"fill_alpha\",\"line_color\",\"line_alpha\",\"label\"],\"data\":{\"chart_index\":[\"(56.253333, 57.240000]\"],\"color\":[\"#f22c40\"],\"fill_alpha\":[0.8],\"height\":[1.0],\"label\":[\"(56.253333, 57.240000]\"],\"line_alpha\":[1.0],\"line_color\":[\"black\"],\"width\":[0.9866666666666646],\"x\":[\"56.7466665\"],\"y\":[0.5]}},\"id\":\"5104abe2-5086-4a13-8f56-111ac17da1a1\",\"type\":\"ColumnDataSource\"},{\"attributes\":{\"callback\":null,\"column_names\":[\"x\",\"y\",\"width\",\"height\",\"color\",\"fill_alpha\",\"line_color\",\"line_alpha\",\"label\"],\"data\":{\"chart_index\":[\"(67.106667, 68.093333]\"],\"color\":[\"#f22c40\"],\"fill_alpha\":[0.8],\"height\":[1.0],\"label\":[\"(67.106667, 68.093333]\"],\"line_alpha\":[1.0],\"line_color\":[\"black\"],\"width\":[0.9866666666666646],\"x\":[\"67.6\"],\"y\":[0.5]}},\"id\":\"d25a4345-08b5-4665-aa06-96c1ccf29277\",\"type\":\"ColumnDataSource\"},{\"attributes\":{\"data_source\":{\"id\":\"221512dd-37f1-4d8e-905c-9fb3abff96c1\",\"type\":\"ColumnDataSource\"},\"glyph\":{\"id\":\"28756c6d-03ae-43ed-a0f4-d90ebe1d1f56\",\"type\":\"Rect\"},\"hover_glyph\":null,\"muted_glyph\":null},\"id\":\"1e5ae23f-9115-45f8-90fb-49579c6b1652\",\"type\":\"GlyphRenderer\"},{\"attributes\":{\"plot\":{\"id\":\"dd90b127-43a6-4621-888c-240fee07986b\",\"subtype\":\"Chart\",\"type\":\"Plot\"}},\"id\":\"c5be60e1-8bee-45ae-ae02-eb4946ce78b4\",\"type\":\"PanTool\"},{\"attributes\":{\"fill_alpha\":{\"field\":\"fill_alpha\"},\"fill_color\":{\"field\":\"color\"},\"height\":{\"field\":\"height\",\"units\":\"data\"},\"line_color\":{\"field\":\"line_color\"},\"width\":{\"field\":\"width\",\"units\":\"data\"},\"x\":{\"field\":\"x\"},\"y\":{\"field\":\"y\"}},\"id\":\"7fce8c75-002c-4c26-812d-a4e97399e217\",\"type\":\"Rect\"},{\"attributes\":{\"callback\":null,\"column_names\":[\"x\",\"y\",\"width\",\"height\",\"color\",\"fill_alpha\",\"line_color\",\"line_alpha\",\"label\"],\"data\":{\"chart_index\":[\"(61.186667, 62.173333]\"],\"color\":[\"#f22c40\"],\"fill_alpha\":[0.8],\"height\":[0.0],\"label\":[\"(61.186667, 62.173333]\"],\"line_alpha\":[1.0],\"line_color\":[\"black\"],\"width\":[0.9866666666666646],\"x\":[\"61.68\"],\"y\":[0.0]}},\"id\":\"2f24324d-4579-4105-a95e-8ae4b4eb1b69\",\"type\":\"ColumnDataSource\"},{\"attributes\":{\"callback\":null,\"column_names\":[\"x\",\"y\",\"width\",\"height\",\"color\",\"fill_alpha\",\"line_color\",\"line_alpha\",\"label\"],\"data\":{\"chart_index\":[\"(68.093333, 69.080000]\"],\"color\":[\"#f22c40\"],\"fill_alpha\":[0.8],\"height\":[0.0],\"label\":[\"(68.093333, 69.080000]\"],\"line_alpha\":[1.0],\"line_color\":[\"black\"],\"width\":[0.9866666666666646],\"x\":[\"68.5866665\"],\"y\":[0.0]}},\"id\":\"e0db9d24-fafa-42ca-8bea-46a0f50b7dc7\",\"type\":\"ColumnDataSource\"},{\"attributes\":{\"data_source\":{\"id\":\"69488a00-95fd-4d64-90cf-839c43fee8c6\",\"type\":\"ColumnDataSource\"},\"glyph\":{\"id\":\"79b4da15-6906-4198-89e5-8e1f02d7807f\",\"type\":\"Rect\"},\"hover_glyph\":null,\"muted_glyph\":null},\"id\":\"784062c1-a4c2-4350-b75c-349010065a0e\",\"type\":\"GlyphRenderer\"},{\"attributes\":{\"data_source\":{\"id\":\"d17fab7b-e010-4ca3-ae61-22d56eb6c26d\",\"type\":\"ColumnDataSource\"},\"glyph\":{\"id\":\"c75f8a05-e2a1-4990-abe1-2a36d202556e\",\"type\":\"Rect\"},\"hover_glyph\":null,\"muted_glyph\":null},\"id\":\"03403571-4670-44d9-b679-6f4ba136072b\",\"type\":\"GlyphRenderer\"},{\"attributes\":{\"callback\":null,\"column_names\":[\"x\",\"y\",\"width\",\"height\",\"color\",\"fill_alpha\",\"line_color\",\"line_alpha\",\"label\"],\"data\":{\"chart_index\":[\"(98.680000, 99.666667]\"],\"color\":[\"#f22c40\"],\"fill_alpha\":[0.8],\"height\":[1.0],\"label\":[\"(98.680000, 99.666667]\"],\"line_alpha\":[1.0],\"line_color\":[\"black\"],\"width\":[0.9866666666666646],\"x\":[\"99.17333350000001\"],\"y\":[0.5]}},\"id\":\"0265e293-fb99-4b98-bf4d-d0d8c710f184\",\"type\":\"ColumnDataSource\"},{\"attributes\":{\"fill_alpha\":{\"field\":\"fill_alpha\"},\"fill_color\":{\"field\":\"color\"},\"height\":{\"field\":\"height\",\"units\":\"data\"},\"line_color\":{\"field\":\"line_color\"},\"width\":{\"field\":\"width\",\"units\":\"data\"},\"x\":{\"field\":\"x\"},\"y\":{\"field\":\"y\"}},\"id\":\"a3302a51-09d3-45af-bb6b-c2bf545b75fc\",\"type\":\"Rect\"},{\"attributes\":{\"callback\":null,\"column_names\":[\"x\",\"y\",\"width\",\"height\",\"color\",\"fill_alpha\",\"line_color\",\"line_alpha\",\"label\"],\"data\":{\"chart_index\":[\"(57.240000, 58.226667]\"],\"color\":[\"#f22c40\"],\"fill_alpha\":[0.8],\"height\":[0.0],\"label\":[\"(57.240000, 58.226667]\"],\"line_alpha\":[1.0],\"line_color\":[\"black\"],\"width\":[0.9866666666666646],\"x\":[\"57.7333335\"],\"y\":[0.0]}},\"id\":\"cef14ebc-c891-4634-b30f-866d5e06a505\",\"type\":\"ColumnDataSource\"},{\"attributes\":{\"fill_alpha\":{\"field\":\"fill_alpha\"},\"fill_color\":{\"field\":\"color\"},\"height\":{\"field\":\"height\",\"units\":\"data\"},\"line_color\":{\"field\":\"line_color\"},\"width\":{\"field\":\"width\",\"units\":\"data\"},\"x\":{\"field\":\"x\"},\"y\":{\"field\":\"y\"}},\"id\":\"4637a3d3-81dc-44a7-a5c1-0a853a66a70f\",\"type\":\"Rect\"},{\"attributes\":{\"data_source\":{\"id\":\"9a5e1770-157a-468d-b423-4a098800bbb4\",\"type\":\"ColumnDataSource\"},\"glyph\":{\"id\":\"8812ebc9-72d2-4040-bd10-b4f118db8b92\",\"type\":\"Rect\"},\"hover_glyph\":null,\"muted_glyph\":null},\"id\":\"90d5c731-ff93-4ccf-8edf-07443160fd62\",\"type\":\"GlyphRenderer\"},{\"attributes\":{\"bottom_units\":\"screen\",\"fill_alpha\":{\"value\":0.5},\"fill_color\":{\"value\":\"lightgrey\"},\"left_units\":\"screen\",\"level\":\"overlay\",\"line_alpha\":{\"value\":1.0},\"line_color\":{\"value\":\"black\"},\"line_dash\":[4,4],\"line_width\":{\"value\":2},\"plot\":null,\"render_mode\":\"css\",\"right_units\":\"screen\",\"top_units\":\"screen\"},\"id\":\"6400efd2-4ec7-42e3-b950-ef3114025225\",\"type\":\"BoxAnnotation\"},{\"attributes\":{\"data_source\":{\"id\":\"e0db9d24-fafa-42ca-8bea-46a0f50b7dc7\",\"type\":\"ColumnDataSource\"},\"glyph\":{\"id\":\"7fce8c75-002c-4c26-812d-a4e97399e217\",\"type\":\"Rect\"},\"hover_glyph\":null,\"muted_glyph\":null},\"id\":\"69fa550c-2277-4ece-9b94-259d87bc7ee1\",\"type\":\"GlyphRenderer\"},{\"attributes\":{\"fill_alpha\":{\"field\":\"fill_alpha\"},\"fill_color\":{\"field\":\"color\"},\"height\":{\"field\":\"height\",\"units\":\"data\"},\"line_color\":{\"field\":\"line_color\"},\"width\":{\"field\":\"width\",\"units\":\"data\"},\"x\":{\"field\":\"x\"},\"y\":{\"field\":\"y\"}},\"id\":\"e1b403f8-b631-45d2-ac22-f01d4d093d96\",\"type\":\"Rect\"},{\"attributes\":{\"fill_alpha\":{\"field\":\"fill_alpha\"},\"fill_color\":{\"field\":\"color\"},\"height\":{\"field\":\"height\",\"units\":\"data\"},\"line_color\":{\"field\":\"line_color\"},\"width\":{\"field\":\"width\",\"units\":\"data\"},\"x\":{\"field\":\"x\"},\"y\":{\"field\":\"y\"}},\"id\":\"04c91894-6eb7-4cac-b274-b4723ddf4f85\",\"type\":\"Rect\"},{\"attributes\":{\"data_source\":{\"id\":\"5104abe2-5086-4a13-8f56-111ac17da1a1\",\"type\":\"ColumnDataSource\"},\"glyph\":{\"id\":\"f4ed371f-b701-4b21-a08a-c477d3f15171\",\"type\":\"Rect\"},\"hover_glyph\":null,\"muted_glyph\":null},\"id\":\"44eec514-f290-4caa-b9bf-ae387587d643\",\"type\":\"GlyphRenderer\"},{\"attributes\":{},\"id\":\"b057308d-c8f2-4f17-a018-fe9d59d534ec\",\"type\":\"ToolEvents\"},{\"attributes\":{\"below\":[{\"id\":\"aae15bc1-6dcf-4b13-8674-7d0d4f32dd37\",\"type\":\"LinearAxis\"}],\"css_classes\":null,\"left\":[{\"id\":\"959ced93-df0c-4abc-95d1-ea247e3c86bd\",\"type\":\"LinearAxis\"}],\"renderers\":[{\"id\":\"6400efd2-4ec7-42e3-b950-ef3114025225\",\"type\":\"BoxAnnotation\"},{\"id\":\"c29812ab-ec53-4868-90b8-2bc90ffa7266\",\"type\":\"GlyphRenderer\"},{\"id\":\"1686440f-23b0-4785-966f-59ae207c0108\",\"type\":\"GlyphRenderer\"},{\"id\":\"3dc26d35-af11-4b0e-9076-7635bf2ac769\",\"type\":\"GlyphRenderer\"},{\"id\":\"1c6353e3-6c2b-4e5f-a3d0-a3746389ec04\",\"type\":\"GlyphRenderer\"},{\"id\":\"ce8a0706-c0f4-4176-9df1-9804cbf8a20f\",\"type\":\"GlyphRenderer\"},{\"id\":\"9be839d4-0630-409e-aff8-dd4e3617af85\",\"type\":\"GlyphRenderer\"},{\"id\":\"11838957-c22c-4f42-abfa-b36c6b7be581\",\"type\":\"GlyphRenderer\"},{\"id\":\"a7f201c9-8e52-4240-8102-d7882303ba3e\",\"type\":\"GlyphRenderer\"},{\"id\":\"bfe3f7c3-fc19-4007-80ce-9ea8285a84c4\",\"type\":\"GlyphRenderer\"},{\"id\":\"f322d116-1737-4473-9edf-b2d946869a30\",\"type\":\"GlyphRenderer\"},{\"id\":\"873b5dca-92b8-4259-ac95-90289e4584f6\",\"type\":\"GlyphRenderer\"},{\"id\":\"474c34e4-9015-43ac-90b9-4c1c234f1d66\",\"type\":\"GlyphRenderer\"},{\"id\":\"f3ec04a0-3f32-469a-98ae-0a167725c32a\",\"type\":\"GlyphRenderer\"},{\"id\":\"2992b0d6-065a-4d63-aae9-9f483fd7aedb\",\"type\":\"GlyphRenderer\"},{\"id\":\"84981841-a0bd-4a2b-a38f-e8c3876ba2c0\",\"type\":\"GlyphRenderer\"},{\"id\":\"1be2ca0a-36b8-4854-8682-6c274a44859b\",\"type\":\"GlyphRenderer\"},{\"id\":\"fd666d16-e71f-4236-b9bd-5fc12ef5eeaa\",\"type\":\"GlyphRenderer\"},{\"id\":\"77c9c9a3-c116-4149-9850-bb70b3f1d894\",\"type\":\"GlyphRenderer\"},{\"id\":\"3e6121a8-d8bf-4e06-adbc-496c218f09a4\",\"type\":\"GlyphRenderer\"},{\"id\":\"f2477286-33f3-433f-9e92-78787a7c459b\",\"type\":\"GlyphRenderer\"},{\"id\":\"e79ebed2-656a-4924-9046-51dfe2171fed\",\"type\":\"GlyphRenderer\"},{\"id\":\"77cda303-57b0-488c-bef5-d308ce2d0a89\",\"type\":\"GlyphRenderer\"},{\"id\":\"25da1468-bdb5-45c3-887d-58168a51673b\",\"type\":\"GlyphRenderer\"},{\"id\":\"3121d6b3-2219-4da6-968f-8024b8ce384b\",\"type\":\"GlyphRenderer\"},{\"id\":\"c8a291b8-e3c3-4bff-8813-a54205c5c4fc\",\"type\":\"GlyphRenderer\"},{\"id\":\"c4f746c8-6f91-4f54-b02d-96a787db06d8\",\"type\":\"GlyphRenderer\"},{\"id\":\"69047530-044f-4530-8835-47a04b5e7458\",\"type\":\"GlyphRenderer\"},{\"id\":\"5548b091-d90c-4b44-9c7d-49eb66ec0b60\",\"type\":\"GlyphRenderer\"},{\"id\":\"90f32ac0-b70c-4e48-ae78-4fcf42b016ef\",\"type\":\"GlyphRenderer\"},{\"id\":\"8ae90934-60f4-4cc7-82bb-6ff28a1c5c24\",\"type\":\"GlyphRenderer\"},{\"id\":\"f3a26a36-d905-4291-82d5-f9aed9bf22cb\",\"type\":\"GlyphRenderer\"},{\"id\":\"6c1e8d00-d984-4ab6-99aa-7e159e320321\",\"type\":\"GlyphRenderer\"},{\"id\":\"71749899-35f6-4371-b454-47004f178ebd\",\"type\":\"GlyphRenderer\"},{\"id\":\"c4bae88a-8c34-48cd-a677-530a9d8fad9b\",\"type\":\"GlyphRenderer\"},{\"id\":\"2ae91b5b-e778-4041-a40f-0762b04bedf2\",\"type\":\"GlyphRenderer\"},{\"id\":\"627309c3-2851-4960-bbb9-930abcfd1f39\",\"type\":\"GlyphRenderer\"},{\"id\":\"99a01547-41f8-41cd-afc3-84dc4e77b5ef\",\"type\":\"GlyphRenderer\"},{\"id\":\"df8de3a1-4fca-4e0c-8d50-783f8defe334\",\"type\":\"GlyphRenderer\"},{\"id\":\"3ff01ab7-9d06-4f34-a005-6ed527d5f79d\",\"type\":\"GlyphRenderer\"},{\"id\":\"67af9e04-0185-4d6d-a26d-9e682f0775bf\",\"type\":\"GlyphRenderer\"},{\"id\":\"1114a9ea-c7a3-472e-b8d6-d83acb96dee7\",\"type\":\"GlyphRenderer\"},{\"id\":\"73bd7a80-6416-440d-a657-68047343c98a\",\"type\":\"GlyphRenderer\"},{\"id\":\"f84af43a-b316-47c2-9794-55f14643b9be\",\"type\":\"GlyphRenderer\"},{\"id\":\"f1b0e815-6132-4ee8-b6ba-869af17f8f31\",\"type\":\"GlyphRenderer\"},{\"id\":\"09f1877c-1bf0-46f7-bb33-ee6285c280a2\",\"type\":\"GlyphRenderer\"},{\"id\":\"0256b3d5-cb20-4c9e-86fb-2fd0cb248fea\",\"type\":\"GlyphRenderer\"},{\"id\":\"860b5d3d-6acc-46d2-ab1f-6833b9abecac\",\"type\":\"GlyphRenderer\"},{\"id\":\"92564ee7-5797-49be-b9c3-e4c693312c0b\",\"type\":\"GlyphRenderer\"},{\"id\":\"0e30e732-8b25-4395-b414-fd427ab033a8\",\"type\":\"GlyphRenderer\"},{\"id\":\"c15709bd-e1c0-4ea3-ab7e-d7ae8fe84221\",\"type\":\"GlyphRenderer\"},{\"id\":\"9f47fbd2-b3f8-46ba-a875-76c521ab37a2\",\"type\":\"GlyphRenderer\"},{\"id\":\"d457cf86-d22c-4e0c-80fd-fd86e9ff9a5a\",\"type\":\"GlyphRenderer\"},{\"id\":\"7a5134e0-cfa4-4860-9003-66f4d7537aa2\",\"type\":\"GlyphRenderer\"},{\"id\":\"dd41f1d2-c016-4e96-af94-79d517794894\",\"type\":\"GlyphRenderer\"},{\"id\":\"2c46a965-9ab8-460b-85fa-745804b11c7d\",\"type\":\"GlyphRenderer\"},{\"id\":\"03403571-4670-44d9-b679-6f4ba136072b\",\"type\":\"GlyphRenderer\"},{\"id\":\"44eec514-f290-4caa-b9bf-ae387587d643\",\"type\":\"GlyphRenderer\"},{\"id\":\"5e61306e-4eb9-4bfa-ad73-e5589698c6bf\",\"type\":\"GlyphRenderer\"},{\"id\":\"67b8f7d2-28a0-440f-ac22-aae5933b2b88\",\"type\":\"GlyphRenderer\"},{\"id\":\"a60f9dba-6bb2-405c-a936-b1d03727eae8\",\"type\":\"GlyphRenderer\"},{\"id\":\"784062c1-a4c2-4350-b75c-349010065a0e\",\"type\":\"GlyphRenderer\"},{\"id\":\"de532206-91e9-4dd2-92d7-061aac5f8dc8\",\"type\":\"GlyphRenderer\"},{\"id\":\"cea9988e-ae85-4b45-abbd-bf4dcc0f5286\",\"type\":\"GlyphRenderer\"},{\"id\":\"ed39eb39-966f-4888-bb31-037360c707fe\",\"type\":\"GlyphRenderer\"},{\"id\":\"d592aa8f-4685-4fd4-ad1f-775ddd285d42\",\"type\":\"GlyphRenderer\"},{\"id\":\"1e5ae23f-9115-45f8-90fb-49579c6b1652\",\"type\":\"GlyphRenderer\"},{\"id\":\"412747af-3e5b-4d29-abdf-5a7104622df8\",\"type\":\"GlyphRenderer\"},{\"id\":\"64611f78-dbfb-4a80-8827-bb458929a8b5\",\"type\":\"GlyphRenderer\"},{\"id\":\"69fa550c-2277-4ece-9b94-259d87bc7ee1\",\"type\":\"GlyphRenderer\"},{\"id\":\"466bd311-960c-40f4-8a73-fe861c5eb4bb\",\"type\":\"GlyphRenderer\"},{\"id\":\"d4e8c055-4f94-4872-b285-9109dcdfba2d\",\"type\":\"GlyphRenderer\"},{\"id\":\"7ffebb7d-fc69-4dc0-88fa-a06104eef864\",\"type\":\"GlyphRenderer\"},{\"id\":\"425be2e6-e9ca-4f8b-952e-89c009b348aa\",\"type\":\"GlyphRenderer\"},{\"id\":\"526d5c24-4de4-4923-85cd-dbf08977e19a\",\"type\":\"GlyphRenderer\"},{\"id\":\"9a74c56f-8f64-4278-956e-b01f0dccb6fc\",\"type\":\"GlyphRenderer\"},{\"id\":\"3fc3baee-6434-404d-9c01-631797f2d65e\",\"type\":\"GlyphRenderer\"},{\"id\":\"ec2a3acc-6f06-4c1b-9bd9-48cbb184a73d\",\"type\":\"GlyphRenderer\"},{\"id\":\"25ec05ee-ed6c-47d8-9379-06a89b9a3b82\",\"type\":\"GlyphRenderer\"},{\"id\":\"f5aa97d8-9c06-4f6c-88da-36263c385596\",\"type\":\"GlyphRenderer\"},{\"id\":\"f18fea0f-7411-48b7-9992-4ce5ce3e3b28\",\"type\":\"GlyphRenderer\"},{\"id\":\"4f88db46-97e4-4a45-b219-471a3dc0e80f\",\"type\":\"GlyphRenderer\"},{\"id\":\"bc7c8bf7-d2fc-4279-8ab2-d2e68205c229\",\"type\":\"GlyphRenderer\"},{\"id\":\"0091524c-4e2e-48c9-b74d-4b6f74798eae\",\"type\":\"GlyphRenderer\"},{\"id\":\"f579fba6-d8c0-4fa3-a5b4-1bb1205501fd\",\"type\":\"GlyphRenderer\"},{\"id\":\"a966d29a-f862-4c2b-8f2e-96f4e20eb218\",\"type\":\"GlyphRenderer\"},{\"id\":\"1f86e45e-36e3-4afa-a9c6-ea13bf757c64\",\"type\":\"GlyphRenderer\"},{\"id\":\"e3e76fbd-1844-4e28-8680-d66437e7f85b\",\"type\":\"GlyphRenderer\"},{\"id\":\"7041f39e-ccf4-41c2-b6b9-862a9d2c12d0\",\"type\":\"GlyphRenderer\"},{\"id\":\"db185de4-e479-4bc7-b84f-460f4eafab02\",\"type\":\"GlyphRenderer\"},{\"id\":\"7a857d83-de2d-4d3f-b3d1-3b04a396d4b8\",\"type\":\"GlyphRenderer\"},{\"id\":\"5d42fbfe-01c1-4373-b49c-f891cadff160\",\"type\":\"GlyphRenderer\"},{\"id\":\"416c7063-f1b3-4cdd-af8f-a449e4cb2184\",\"type\":\"GlyphRenderer\"},{\"id\":\"cb83526e-b24c-421c-bb17-c17598366c6d\",\"type\":\"GlyphRenderer\"},{\"id\":\"ca3d3053-14ab-4e0f-8cc3-ba43921d8bca\",\"type\":\"GlyphRenderer\"},{\"id\":\"e9e6e750-ec01-43ab-b47e-eddb18258e48\",\"type\":\"GlyphRenderer\"},{\"id\":\"30658a40-991a-4b9b-9107-da83b342646c\",\"type\":\"GlyphRenderer\"},{\"id\":\"dda2b11d-a764-41b0-8553-5cf4a9b2dcf9\",\"type\":\"GlyphRenderer\"},{\"id\":\"8c62c149-7e9b-48a7-b0ce-f23778a5bd10\",\"type\":\"GlyphRenderer\"},{\"id\":\"9746d724-5d81-496e-8411-42df30e279a2\",\"type\":\"GlyphRenderer\"},{\"id\":\"1aa8af73-174b-4b5e-80d2-89a6eabc3eb8\",\"type\":\"GlyphRenderer\"},{\"id\":\"4eff3f72-9c22-4d7e-a2f8-68c0406370f1\",\"type\":\"GlyphRenderer\"},{\"id\":\"d3d3b366-cc66-45fb-95f3-1d1cf41936d1\",\"type\":\"GlyphRenderer\"},{\"id\":\"94cd2b93-cbbb-44e1-94c8-6fbfd0f3347c\",\"type\":\"GlyphRenderer\"},{\"id\":\"fe4cdae8-f201-4f34-9c37-6ed52f099d64\",\"type\":\"GlyphRenderer\"},{\"id\":\"82445ee7-1255-4880-97b4-abd2f1cd7a59\",\"type\":\"GlyphRenderer\"},{\"id\":\"878b3204-11ec-41e9-a7e2-3887105dcdab\",\"type\":\"GlyphRenderer\"},{\"id\":\"60ce7289-c110-4d40-bc72-125377b03b58\",\"type\":\"GlyphRenderer\"},{\"id\":\"c12e047c-3d94-499a-89a9-1ca892c32e6f\",\"type\":\"GlyphRenderer\"},{\"id\":\"95a180a5-5a65-4447-a396-b028b0311dbb\",\"type\":\"GlyphRenderer\"},{\"id\":\"f658fbb0-4080-47ab-85ee-95149a3fb04b\",\"type\":\"GlyphRenderer\"},{\"id\":\"f3be4e3d-a1c9-4525-8554-bda6ea222e9d\",\"type\":\"GlyphRenderer\"},{\"id\":\"90d5c731-ff93-4ccf-8edf-07443160fd62\",\"type\":\"GlyphRenderer\"},{\"id\":\"ad2af366-d9f9-4b75-87dc-900e83136025\",\"type\":\"GlyphRenderer\"},{\"id\":\"8332f8a1-04ef-4df0-a243-b94c5afa35c8\",\"type\":\"GlyphRenderer\"},{\"id\":\"6754870b-352f-4725-8cd5-2862aef6a10f\",\"type\":\"GlyphRenderer\"},{\"id\":\"fa80d00c-b989-4140-b831-7eeb5a61af84\",\"type\":\"GlyphRenderer\"},{\"id\":\"715b005e-c429-464d-bf93-5174205ab5b5\",\"type\":\"GlyphRenderer\"},{\"id\":\"d59ffaf1-2665-4748-8828-a37a0e2b712f\",\"type\":\"GlyphRenderer\"},{\"id\":\"4dd06ff8-d8cb-4276-86e6-74960c148c16\",\"type\":\"GlyphRenderer\"},{\"id\":\"7baf3444-d05a-464a-845a-8ee1f77e42bf\",\"type\":\"GlyphRenderer\"},{\"id\":\"f06ec6e6-29b7-4fd6-a5ea-df0842d6ca6a\",\"type\":\"GlyphRenderer\"},{\"id\":\"dcbed767-08f4-4f48-8498-1eb0d9f8ca74\",\"type\":\"GlyphRenderer\"},{\"id\":\"2da71316-2eea-4e78-a85f-a54ebb4e9cba\",\"type\":\"GlyphRenderer\"},{\"id\":\"2d40f735-6913-4aaa-b1c4-238fdc417adf\",\"type\":\"GlyphRenderer\"},{\"id\":\"896fe983-083f-438d-9bee-58a924863558\",\"type\":\"GlyphRenderer\"},{\"id\":\"ca7fceb0-39da-4488-9856-027c948bd52f\",\"type\":\"GlyphRenderer\"},{\"id\":\"5c39c0f3-51ff-4fd1-8283-ba21eba25a91\",\"type\":\"GlyphRenderer\"},{\"id\":\"ec3a5412-e31b-45d2-864b-2276ca1fe946\",\"type\":\"GlyphRenderer\"},{\"id\":\"b3ef4285-20c8-4409-8516-f3bf8e2ae96c\",\"type\":\"GlyphRenderer\"},{\"id\":\"e838e11b-a543-4453-9c4e-6d6fbfa741b2\",\"type\":\"GlyphRenderer\"},{\"id\":\"98c3bde0-27d9-4513-806e-de8d8c7c3ed0\",\"type\":\"GlyphRenderer\"},{\"id\":\"a9987d99-2c01-47b3-ba73-bf21cb4c3e82\",\"type\":\"GlyphRenderer\"},{\"id\":\"5a01d81a-5cdb-48c9-b352-d14d522fbc12\",\"type\":\"GlyphRenderer\"},{\"id\":\"32a23324-a2f4-44be-9451-74323439d3f1\",\"type\":\"GlyphRenderer\"},{\"id\":\"2901b00e-2e17-4366-b4f6-1582054329f3\",\"type\":\"GlyphRenderer\"},{\"id\":\"93db4b35-4c8c-46ea-afcf-1caa476cd7ec\",\"type\":\"GlyphRenderer\"},{\"id\":\"02f6d210-9632-4aff-a69a-38ee6a6ed347\",\"type\":\"GlyphRenderer\"},{\"id\":\"844050d4-454e-438a-b933-ac8c867584a9\",\"type\":\"GlyphRenderer\"},{\"id\":\"9c9a01f6-9b97-4bed-b762-7d6673d55a78\",\"type\":\"GlyphRenderer\"},{\"id\":\"291b8c36-4047-44de-b70c-5292936bf2cd\",\"type\":\"GlyphRenderer\"},{\"id\":\"8bdbbc5b-d57a-4db8-b454-be10658d7ed4\",\"type\":\"GlyphRenderer\"},{\"id\":\"1bfb2d97-b0bf-447c-b248-c36f81024d85\",\"type\":\"GlyphRenderer\"},{\"id\":\"cb474ac3-0d6c-4e57-a19d-7819d1f6b966\",\"type\":\"GlyphRenderer\"},{\"id\":\"b4e3b854-4f22-4fb4-ae81-e05dbd1bb4d7\",\"type\":\"GlyphRenderer\"},{\"id\":\"1ee73275-13b4-4ce6-b1e2-68e931360e97\",\"type\":\"GlyphRenderer\"},{\"id\":\"d0ac0e7d-2ccb-44fc-a869-f4714ef83708\",\"type\":\"GlyphRenderer\"},{\"id\":\"6e0e2e54-c8de-4dd9-9bb4-c117d5cf7d56\",\"type\":\"GlyphRenderer\"},{\"id\":\"bb12c655-5937-418e-98f4-ab8fd23b7e58\",\"type\":\"GlyphRenderer\"},{\"id\":\"b129e5b6-c628-4faf-b643-f46c3ddabc7f\",\"type\":\"GlyphRenderer\"},{\"id\":\"c75380a3-8e78-4c63-822b-6d143ea14ac3\",\"type\":\"GlyphRenderer\"},{\"id\":\"6dec4a8c-b3d1-438b-9855-c597ffcf596c\",\"type\":\"Legend\"},{\"id\":\"aae15bc1-6dcf-4b13-8674-7d0d4f32dd37\",\"type\":\"LinearAxis\"},{\"id\":\"959ced93-df0c-4abc-95d1-ea247e3c86bd\",\"type\":\"LinearAxis\"},{\"id\":\"28206ea6-a3bc-4d2d-8e78-2ef200c81070\",\"type\":\"Grid\"}],\"title\":{\"id\":\"5271f1c6-b2e1-4f0d-ac62-64de9db3de4a\",\"type\":\"Title\"},\"tool_events\":{\"id\":\"b057308d-c8f2-4f17-a018-fe9d59d534ec\",\"type\":\"ToolEvents\"},\"toolbar\":{\"id\":\"7815ef7b-c23f-4126-812f-16731a786d99\",\"type\":\"Toolbar\"},\"x_mapper_type\":\"auto\",\"x_range\":{\"id\":\"49d99d8e-7a3b-4931-90e1-6258679ebb7f\",\"type\":\"Range1d\"},\"y_mapper_type\":\"auto\",\"y_range\":{\"id\":\"3b2dc0ba-a95e-4338-a7a6-67f5436e06e2\",\"type\":\"Range1d\"}},\"id\":\"dd90b127-43a6-4621-888c-240fee07986b\",\"subtype\":\"Chart\",\"type\":\"Plot\"},{\"attributes\":{\"location\":\"top_left\",\"plot\":{\"id\":\"dd90b127-43a6-4621-888c-240fee07986b\",\"subtype\":\"Chart\",\"type\":\"Plot\"}},\"id\":\"6dec4a8c-b3d1-438b-9855-c597ffcf596c\",\"type\":\"Legend\"},{\"attributes\":{\"callback\":null,\"column_names\":[\"x\",\"y\",\"width\",\"height\",\"color\",\"fill_alpha\",\"line_color\",\"line_alpha\",\"label\"],\"data\":{\"chart_index\":[\"(80.920000, 81.906667]\"],\"color\":[\"#f22c40\"],\"fill_alpha\":[0.8],\"height\":[0.0],\"label\":[\"(80.920000, 81.906667]\"],\"line_alpha\":[1.0],\"line_color\":[\"black\"],\"width\":[0.9866666666666646],\"x\":[\"81.4133335\"],\"y\":[0.0]}},\"id\":\"f711ede5-dced-4b2a-a19b-445f5eea46f7\",\"type\":\"ColumnDataSource\"},{\"attributes\":{\"data_source\":{\"id\":\"e675e827-a29a-4819-96ed-e0d567d5c081\",\"type\":\"ColumnDataSource\"},\"glyph\":{\"id\":\"def9852e-840c-45f3-b74c-a07b9fbfb9b8\",\"type\":\"Rect\"},\"hover_glyph\":null,\"muted_glyph\":null},\"id\":\"9a74c56f-8f64-4278-956e-b01f0dccb6fc\",\"type\":\"GlyphRenderer\"},{\"attributes\":{\"data_source\":{\"id\":\"156f1095-bf89-431c-b26d-71b4b0bc7b62\",\"type\":\"ColumnDataSource\"},\"glyph\":{\"id\":\"6f2a36bc-4ba9-46cc-8a54-73e19f30ccca\",\"type\":\"Rect\"},\"hover_glyph\":null,\"muted_glyph\":null},\"id\":\"466bd311-960c-40f4-8a73-fe861c5eb4bb\",\"type\":\"GlyphRenderer\"},{\"attributes\":{\"plot\":{\"id\":\"dd90b127-43a6-4621-888c-240fee07986b\",\"subtype\":\"Chart\",\"type\":\"Plot\"}},\"id\":\"e8d1ebb8-662a-4364-b488-cfdce4fd52bc\",\"type\":\"WheelZoomTool\"},{\"attributes\":{\"active_drag\":\"auto\",\"active_scroll\":\"auto\",\"active_tap\":\"auto\",\"tools\":[{\"id\":\"c5be60e1-8bee-45ae-ae02-eb4946ce78b4\",\"type\":\"PanTool\"},{\"id\":\"e8d1ebb8-662a-4364-b488-cfdce4fd52bc\",\"type\":\"WheelZoomTool\"},{\"id\":\"211e60ec-bc88-415c-9224-5508009b62ff\",\"type\":\"BoxZoomTool\"},{\"id\":\"40f9558a-966f-4ae2-a48d-4635decb01ee\",\"type\":\"SaveTool\"},{\"id\":\"af72a9b7-3d75-4a3d-894a-55a0bf3abdce\",\"type\":\"ResetTool\"},{\"id\":\"fa0d14ed-3f4e-4b35-b866-2ef881567b38\",\"type\":\"HelpTool\"}]},\"id\":\"7815ef7b-c23f-4126-812f-16731a786d99\",\"type\":\"Toolbar\"},{\"attributes\":{\"data_source\":{\"id\":\"cef14ebc-c891-4634-b30f-866d5e06a505\",\"type\":\"ColumnDataSource\"},\"glyph\":{\"id\":\"a3302a51-09d3-45af-bb6b-c2bf545b75fc\",\"type\":\"Rect\"},\"hover_glyph\":null,\"muted_glyph\":null},\"id\":\"5e61306e-4eb9-4bfa-ad73-e5589698c6bf\",\"type\":\"GlyphRenderer\"},{\"attributes\":{\"callback\":null,\"column_names\":[\"x\",\"y\",\"width\",\"height\",\"color\",\"fill_alpha\",\"line_color\",\"line_alpha\",\"label\"],\"data\":{\"chart_index\":[\"(70.066667, 71.053333]\"],\"color\":[\"#f22c40\"],\"fill_alpha\":[0.8],\"height\":[1.0],\"label\":[\"(70.066667, 71.053333]\"],\"line_alpha\":[1.0],\"line_color\":[\"black\"],\"width\":[0.9866666666666788],\"x\":[\"70.56\"],\"y\":[0.5]}},\"id\":\"9439f322-ffc6-44fc-8ba2-98c6a4cc2391\",\"type\":\"ColumnDataSource\"},{\"attributes\":{\"callback\":null,\"column_names\":[\"x\",\"y\",\"width\",\"height\",\"color\",\"fill_alpha\",\"line_color\",\"line_alpha\",\"label\"],\"data\":{\"chart_index\":[\"(58.226667, 59.213333]\"],\"color\":[\"#f22c40\"],\"fill_alpha\":[0.8],\"height\":[0.0],\"label\":[\"(58.226667, 59.213333]\"],\"line_alpha\":[1.0],\"line_color\":[\"black\"],\"width\":[0.9866666666666717],\"x\":[\"58.72\"],\"y\":[0.0]}},\"id\":\"7d14c4a6-8a4b-4176-b104-de0a62f06f3b\",\"type\":\"ColumnDataSource\"},{\"attributes\":{\"fill_alpha\":{\"field\":\"fill_alpha\"},\"fill_color\":{\"field\":\"color\"},\"height\":{\"field\":\"height\",\"units\":\"data\"},\"line_color\":{\"field\":\"line_color\"},\"width\":{\"field\":\"width\",\"units\":\"data\"},\"x\":{\"field\":\"x\"},\"y\":{\"field\":\"y\"}},\"id\":\"1719e67d-4bd8-4fae-a522-022cf062dd64\",\"type\":\"Rect\"},{\"attributes\":{\"overlay\":{\"id\":\"6400efd2-4ec7-42e3-b950-ef3114025225\",\"type\":\"BoxAnnotation\"},\"plot\":{\"id\":\"dd90b127-43a6-4621-888c-240fee07986b\",\"subtype\":\"Chart\",\"type\":\"Plot\"}},\"id\":\"211e60ec-bc88-415c-9224-5508009b62ff\",\"type\":\"BoxZoomTool\"},{\"attributes\":{\"callback\":null,\"column_names\":[\"x\",\"y\",\"width\",\"height\",\"color\",\"fill_alpha\",\"line_color\",\"line_alpha\",\"label\"],\"data\":{\"chart_index\":[\"(71.053333, 72.040000]\"],\"color\":[\"#f22c40\"],\"fill_alpha\":[0.8],\"height\":[1.0],\"label\":[\"(71.053333, 72.040000]\"],\"line_alpha\":[1.0],\"line_color\":[\"black\"],\"width\":[0.9866666666666646],\"x\":[\"71.5466665\"],\"y\":[0.5]}},\"id\":\"33aa4270-8b3a-4667-a4da-573790bee3b5\",\"type\":\"ColumnDataSource\"},{\"attributes\":{\"fill_alpha\":{\"field\":\"fill_alpha\"},\"fill_color\":{\"field\":\"color\"},\"height\":{\"field\":\"height\",\"units\":\"data\"},\"line_color\":{\"field\":\"line_color\"},\"width\":{\"field\":\"width\",\"units\":\"data\"},\"x\":{\"field\":\"x\"},\"y\":{\"field\":\"y\"}},\"id\":\"a181f774-9bf6-4648-beb0-ed38b9e0b1b1\",\"type\":\"Rect\"},{\"attributes\":{\"callback\":null,\"column_names\":[\"x\",\"y\",\"width\",\"height\",\"color\",\"fill_alpha\",\"line_color\",\"line_alpha\",\"label\"],\"data\":{\"chart_index\":[\"(60.200000, 61.186667]\"],\"color\":[\"#f22c40\"],\"fill_alpha\":[0.8],\"height\":[0.0],\"label\":[\"(60.200000, 61.186667]\"],\"line_alpha\":[1.0],\"line_color\":[\"black\"],\"width\":[0.9866666666666646],\"x\":[\"60.6933335\"],\"y\":[0.0]}},\"id\":\"69488a00-95fd-4d64-90cf-839c43fee8c6\",\"type\":\"ColumnDataSource\"},{\"attributes\":{\"plot\":{\"id\":\"dd90b127-43a6-4621-888c-240fee07986b\",\"subtype\":\"Chart\",\"type\":\"Plot\"}},\"id\":\"40f9558a-966f-4ae2-a48d-4635decb01ee\",\"type\":\"SaveTool\"},{\"attributes\":{\"plot\":{\"id\":\"dd90b127-43a6-4621-888c-240fee07986b\",\"subtype\":\"Chart\",\"type\":\"Plot\"}},\"id\":\"af72a9b7-3d75-4a3d-894a-55a0bf3abdce\",\"type\":\"ResetTool\"},{\"attributes\":{\"plot\":{\"id\":\"dd90b127-43a6-4621-888c-240fee07986b\",\"subtype\":\"Chart\",\"type\":\"Plot\"}},\"id\":\"fa0d14ed-3f4e-4b35-b866-2ef881567b38\",\"type\":\"HelpTool\"},{\"attributes\":{\"fill_alpha\":{\"field\":\"fill_alpha\"},\"fill_color\":{\"field\":\"color\"},\"height\":{\"field\":\"height\",\"units\":\"data\"},\"line_color\":{\"field\":\"line_color\"},\"width\":{\"field\":\"width\",\"units\":\"data\"},\"x\":{\"field\":\"x\"},\"y\":{\"field\":\"y\"}},\"id\":\"83b56029-fcc8-47f2-a96c-ad0cb695e11f\",\"type\":\"Rect\"},{\"attributes\":{\"callback\":null,\"column_names\":[\"x\",\"y\",\"width\",\"height\",\"color\",\"fill_alpha\",\"line_color\",\"line_alpha\",\"label\"],\"data\":{\"chart_index\":[\"(74.013333, 75.000000]\"],\"color\":[\"#f22c40\"],\"fill_alpha\":[0.8],\"height\":[0.0],\"label\":[\"(74.013333, 75.000000]\"],\"line_alpha\":[1.0],\"line_color\":[\"black\"],\"width\":[0.9866666666666646],\"x\":[\"74.5066665\"],\"y\":[0.0]}},\"id\":\"e675e827-a29a-4819-96ed-e0d567d5c081\",\"type\":\"ColumnDataSource\"},{\"attributes\":{\"data_source\":{\"id\":\"9439f322-ffc6-44fc-8ba2-98c6a4cc2391\",\"type\":\"ColumnDataSource\"},\"glyph\":{\"id\":\"1719e67d-4bd8-4fae-a522-022cf062dd64\",\"type\":\"Rect\"},\"hover_glyph\":null,\"muted_glyph\":null},\"id\":\"d4e8c055-4f94-4872-b285-9109dcdfba2d\",\"type\":\"GlyphRenderer\"},{\"attributes\":{\"data_source\":{\"id\":\"7d14c4a6-8a4b-4176-b104-de0a62f06f3b\",\"type\":\"ColumnDataSource\"},\"glyph\":{\"id\":\"a181f774-9bf6-4648-beb0-ed38b9e0b1b1\",\"type\":\"Rect\"},\"hover_glyph\":null,\"muted_glyph\":null},\"id\":\"67b8f7d2-28a0-440f-ac22-aae5933b2b88\",\"type\":\"GlyphRenderer\"},{\"attributes\":{\"fill_alpha\":{\"field\":\"fill_alpha\"},\"fill_color\":{\"field\":\"color\"},\"height\":{\"field\":\"height\",\"units\":\"data\"},\"line_color\":{\"field\":\"line_color\"},\"width\":{\"field\":\"width\",\"units\":\"data\"},\"x\":{\"field\":\"x\"},\"y\":{\"field\":\"y\"}},\"id\":\"31f07ac3-c472-496f-93ac-7dec4075380a\",\"type\":\"Rect\"},{\"attributes\":{\"fill_alpha\":{\"field\":\"fill_alpha\"},\"fill_color\":{\"field\":\"color\"},\"height\":{\"field\":\"height\",\"units\":\"data\"},\"line_color\":{\"field\":\"line_color\"},\"width\":{\"field\":\"width\",\"units\":\"data\"},\"x\":{\"field\":\"x\"},\"y\":{\"field\":\"y\"}},\"id\":\"79b4da15-6906-4198-89e5-8e1f02d7807f\",\"type\":\"Rect\"},{\"attributes\":{\"callback\":null,\"column_names\":[\"x\",\"y\",\"width\",\"height\",\"color\",\"fill_alpha\",\"line_color\",\"line_alpha\",\"label\"],\"data\":{\"chart_index\":[\"(72.040000, 73.026667]\"],\"color\":[\"#f22c40\"],\"fill_alpha\":[0.8],\"height\":[0.0],\"label\":[\"(72.040000, 73.026667]\"],\"line_alpha\":[1.0],\"line_color\":[\"black\"],\"width\":[0.9866666666666646],\"x\":[\"72.5333335\"],\"y\":[0.0]}},\"id\":\"a84de6f5-b0fb-4ee8-bd9e-c557e03478e0\",\"type\":\"ColumnDataSource\"},{\"attributes\":{\"fill_alpha\":{\"field\":\"fill_alpha\"},\"fill_color\":{\"field\":\"color\"},\"height\":{\"field\":\"height\",\"units\":\"data\"},\"line_color\":{\"field\":\"line_color\"},\"width\":{\"field\":\"width\",\"units\":\"data\"},\"x\":{\"field\":\"x\"},\"y\":{\"field\":\"y\"}},\"id\":\"15c51e12-68b6-4932-b49c-bcb50087dc36\",\"type\":\"Rect\"},{\"attributes\":{\"fill_alpha\":{\"field\":\"fill_alpha\"},\"fill_color\":{\"field\":\"color\"},\"height\":{\"field\":\"height\",\"units\":\"data\"},\"line_color\":{\"field\":\"line_color\"},\"width\":{\"field\":\"width\",\"units\":\"data\"},\"x\":{\"field\":\"x\"},\"y\":{\"field\":\"y\"}},\"id\":\"8812ebc9-72d2-4040-bd10-b4f118db8b92\",\"type\":\"Rect\"},{\"attributes\":{\"data_source\":{\"id\":\"33aa4270-8b3a-4667-a4da-573790bee3b5\",\"type\":\"ColumnDataSource\"},\"glyph\":{\"id\":\"04c91894-6eb7-4cac-b274-b4723ddf4f85\",\"type\":\"Rect\"},\"hover_glyph\":null,\"muted_glyph\":null},\"id\":\"7ffebb7d-fc69-4dc0-88fa-a06104eef864\",\"type\":\"GlyphRenderer\"},{\"attributes\":{\"fill_alpha\":{\"field\":\"fill_alpha\"},\"fill_color\":{\"field\":\"color\"},\"height\":{\"field\":\"height\",\"units\":\"data\"},\"line_color\":{\"field\":\"line_color\"},\"width\":{\"field\":\"width\",\"units\":\"data\"},\"x\":{\"field\":\"x\"},\"y\":{\"field\":\"y\"}},\"id\":\"8216ed92-bfce-493d-a971-72f4da173042\",\"type\":\"Rect\"},{\"attributes\":{\"callback\":null,\"column_names\":[\"x\",\"y\",\"width\",\"height\",\"color\",\"fill_alpha\",\"line_color\",\"line_alpha\",\"label\"],\"data\":{\"chart_index\":[\"(66.120000, 67.106667]\"],\"color\":[\"#f22c40\"],\"fill_alpha\":[0.8],\"height\":[1.0],\"label\":[\"(66.120000, 67.106667]\"],\"line_alpha\":[1.0],\"line_color\":[\"black\"],\"width\":[0.9866666666666646],\"x\":[\"66.61333350000001\"],\"y\":[0.5]}},\"id\":\"a368f24c-2350-4333-9dd2-7cb7c5836bc0\",\"type\":\"ColumnDataSource\"},{\"attributes\":{\"data_source\":{\"id\":\"2f24324d-4579-4105-a95e-8ae4b4eb1b69\",\"type\":\"ColumnDataSource\"},\"glyph\":{\"id\":\"02a286a0-b164-4c20-8012-5311b81db051\",\"type\":\"Rect\"},\"hover_glyph\":null,\"muted_glyph\":null},\"id\":\"de532206-91e9-4dd2-92d7-061aac5f8dc8\",\"type\":\"GlyphRenderer\"},{\"attributes\":{\"fill_alpha\":{\"field\":\"fill_alpha\"},\"fill_color\":{\"field\":\"color\"},\"height\":{\"field\":\"height\",\"units\":\"data\"},\"line_color\":{\"field\":\"line_color\"},\"width\":{\"field\":\"width\",\"units\":\"data\"},\"x\":{\"field\":\"x\"},\"y\":{\"field\":\"y\"}},\"id\":\"2942b715-12c2-4b27-9d34-50f7a2e12fcd\",\"type\":\"Rect\"},{\"attributes\":{\"callback\":null,\"column_names\":[\"x\",\"y\",\"width\",\"height\",\"color\",\"fill_alpha\",\"line_color\",\"line_alpha\",\"label\"],\"data\":{\"chart_index\":[\"(75.000000, 75.986667]\"],\"color\":[\"#f22c40\"],\"fill_alpha\":[0.8],\"height\":[0.0],\"label\":[\"(75.000000, 75.986667]\"],\"line_alpha\":[1.0],\"line_color\":[\"black\"],\"width\":[0.9866666666666646],\"x\":[\"75.4933335\"],\"y\":[0.0]}},\"id\":\"241ddb20-d3fe-4058-a8f2-0f0bca147bab\",\"type\":\"ColumnDataSource\"},{\"attributes\":{\"fill_alpha\":{\"field\":\"fill_alpha\"},\"fill_color\":{\"field\":\"color\"},\"height\":{\"field\":\"height\",\"units\":\"data\"},\"line_color\":{\"field\":\"line_color\"},\"width\":{\"field\":\"width\",\"units\":\"data\"},\"x\":{\"field\":\"x\"},\"y\":{\"field\":\"y\"}},\"id\":\"596d03ff-a223-4360-828c-6f54d1a86313\",\"type\":\"Rect\"},{\"attributes\":{\"data_source\":{\"id\":\"a84de6f5-b0fb-4ee8-bd9e-c557e03478e0\",\"type\":\"ColumnDataSource\"},\"glyph\":{\"id\":\"31f07ac3-c472-496f-93ac-7dec4075380a\",\"type\":\"Rect\"},\"hover_glyph\":null,\"muted_glyph\":null},\"id\":\"425be2e6-e9ca-4f8b-952e-89c009b348aa\",\"type\":\"GlyphRenderer\"},{\"attributes\":{\"data_source\":{\"id\":\"a368f24c-2350-4333-9dd2-7cb7c5836bc0\",\"type\":\"ColumnDataSource\"},\"glyph\":{\"id\":\"2942b715-12c2-4b27-9d34-50f7a2e12fcd\",\"type\":\"Rect\"},\"hover_glyph\":null,\"muted_glyph\":null},\"id\":\"412747af-3e5b-4d29-abdf-5a7104622df8\",\"type\":\"GlyphRenderer\"},{\"attributes\":{\"data_source\":{\"id\":\"77b39acd-6593-4906-824a-62f32d36f551\",\"type\":\"ColumnDataSource\"},\"glyph\":{\"id\":\"8216ed92-bfce-493d-a971-72f4da173042\",\"type\":\"Rect\"},\"hover_glyph\":null,\"muted_glyph\":null},\"id\":\"526d5c24-4de4-4923-85cd-dbf08977e19a\",\"type\":\"GlyphRenderer\"},{\"attributes\":{\"callback\":null,\"column_names\":[\"x\",\"y\",\"width\",\"height\",\"color\",\"fill_alpha\",\"line_color\",\"line_alpha\",\"label\"],\"data\":{\"chart_index\":[\"(73.026667, 74.013333]\"],\"color\":[\"#f22c40\"],\"fill_alpha\":[0.8],\"height\":[0.0],\"label\":[\"(73.026667, 74.013333]\"],\"line_alpha\":[1.0],\"line_color\":[\"black\"],\"width\":[0.9866666666666646],\"x\":[\"73.52000000000001\"],\"y\":[0.0]}},\"id\":\"77b39acd-6593-4906-824a-62f32d36f551\",\"type\":\"ColumnDataSource\"},{\"attributes\":{\"data_source\":{\"id\":\"f4711268-2b45-442a-b257-523b46ece816\",\"type\":\"ColumnDataSource\"},\"glyph\":{\"id\":\"15c51e12-68b6-4932-b49c-bcb50087dc36\",\"type\":\"Rect\"},\"hover_glyph\":null,\"muted_glyph\":null},\"id\":\"cea9988e-ae85-4b45-abbd-bf4dcc0f5286\",\"type\":\"GlyphRenderer\"},{\"attributes\":{\"fill_alpha\":{\"field\":\"fill_alpha\"},\"fill_color\":{\"field\":\"color\"},\"height\":{\"field\":\"height\",\"units\":\"data\"},\"line_color\":{\"field\":\"line_color\"},\"width\":{\"field\":\"width\",\"units\":\"data\"},\"x\":{\"field\":\"x\"},\"y\":{\"field\":\"y\"}},\"id\":\"def9852e-840c-45f3-b74c-a07b9fbfb9b8\",\"type\":\"Rect\"},{\"attributes\":{\"callback\":null,\"column_names\":[\"x\",\"y\",\"width\",\"height\",\"color\",\"fill_alpha\",\"line_color\",\"line_alpha\",\"label\"],\"data\":{\"chart_index\":[\"(121.373333, 122.360000]\"],\"color\":[\"#f22c40\"],\"fill_alpha\":[0.8],\"height\":[0.0],\"label\":[\"(121.373333, 122.360000]\"],\"line_alpha\":[1.0],\"line_color\":[\"black\"],\"width\":[0.9866666666666646],\"x\":[\"121.86666650000001\"],\"y\":[0.0]}},\"id\":\"455c147d-8743-402b-81dd-3e20acbac74e\",\"type\":\"ColumnDataSource\"},{\"attributes\":{\"data_source\":{\"id\":\"80cd27ed-61f6-4e72-ae00-b791eef3412d\",\"type\":\"ColumnDataSource\"},\"glyph\":{\"id\":\"5e569b17-01de-46a9-bc46-e1f54e106b3e\",\"type\":\"Rect\"},\"hover_glyph\":null,\"muted_glyph\":null},\"id\":\"3e6121a8-d8bf-4e06-adbc-496c218f09a4\",\"type\":\"GlyphRenderer\"},{\"attributes\":{\"fill_alpha\":{\"field\":\"fill_alpha\"},\"fill_color\":{\"field\":\"color\"},\"height\":{\"field\":\"height\",\"units\":\"data\"},\"line_color\":{\"field\":\"line_color\"},\"width\":{\"field\":\"width\",\"units\":\"data\"},\"x\":{\"field\":\"x\"},\"y\":{\"field\":\"y\"}},\"id\":\"8b0a283a-ee57-43f1-96b0-5d3b4903b066\",\"type\":\"Rect\"},{\"attributes\":{\"fill_alpha\":{\"field\":\"fill_alpha\"},\"fill_color\":{\"field\":\"color\"},\"height\":{\"field\":\"height\",\"units\":\"data\"},\"line_color\":{\"field\":\"line_color\"},\"width\":{\"field\":\"width\",\"units\":\"data\"},\"x\":{\"field\":\"x\"},\"y\":{\"field\":\"y\"}},\"id\":\"93868848-7c7e-483b-a40e-b69d1b09f82d\",\"type\":\"Rect\"},{\"attributes\":{\"fill_alpha\":{\"field\":\"fill_alpha\"},\"fill_color\":{\"field\":\"color\"},\"height\":{\"field\":\"height\",\"units\":\"data\"},\"line_color\":{\"field\":\"line_color\"},\"width\":{\"field\":\"width\",\"units\":\"data\"},\"x\":{\"field\":\"x\"},\"y\":{\"field\":\"y\"}},\"id\":\"1803bd05-e38f-475d-8506-96cb31ca0f2a\",\"type\":\"Rect\"},{\"attributes\":{\"callback\":null,\"column_names\":[\"x\",\"y\",\"width\",\"height\",\"color\",\"fill_alpha\",\"line_color\",\"line_alpha\",\"label\"],\"data\":{\"chart_index\":[\"(19.746667, 20.733333]\"],\"color\":[\"#f22c40\"],\"fill_alpha\":[0.8],\"height\":[2.0],\"label\":[\"(19.746667, 20.733333]\"],\"line_alpha\":[1.0],\"line_color\":[\"black\"],\"width\":[0.9866666666666681],\"x\":[\"20.24\"],\"y\":[1.0]}},\"id\":\"35aaa5bb-9256-44d4-93f8-f499d56ca1e3\",\"type\":\"ColumnDataSource\"},{\"attributes\":{\"callback\":null,\"column_names\":[\"x\",\"y\",\"width\",\"height\",\"color\",\"fill_alpha\",\"line_color\",\"line_alpha\",\"label\"],\"data\":{\"chart_index\":[\"(122.360000, 123.346667]\"],\"color\":[\"#f22c40\"],\"fill_alpha\":[0.8],\"height\":[0.0],\"label\":[\"(122.360000, 123.346667]\"],\"line_alpha\":[1.0],\"line_color\":[\"black\"],\"width\":[0.9866666666666646],\"x\":[\"122.85333349999999\"],\"y\":[0.0]}},\"id\":\"f0b75159-e3c5-43e4-bceb-8067986dc35b\",\"type\":\"ColumnDataSource\"},{\"attributes\":{\"fill_alpha\":{\"field\":\"fill_alpha\"},\"fill_color\":{\"field\":\"color\"},\"height\":{\"field\":\"height\",\"units\":\"data\"},\"line_color\":{\"field\":\"line_color\"},\"width\":{\"field\":\"width\",\"units\":\"data\"},\"x\":{\"field\":\"x\"},\"y\":{\"field\":\"y\"}},\"id\":\"a6ff51a9-13b2-47a0-b38a-bc4841d2e774\",\"type\":\"Rect\"},{\"attributes\":{\"callback\":null,\"column_names\":[\"x\",\"y\",\"width\",\"height\",\"color\",\"fill_alpha\",\"line_color\",\"line_alpha\",\"label\"],\"data\":{\"chart_index\":[\"(20.733333, 21.720000]\"],\"color\":[\"#f22c40\"],\"fill_alpha\":[0.8],\"height\":[1.0],\"label\":[\"(20.733333, 21.720000]\"],\"line_alpha\":[1.0],\"line_color\":[\"black\"],\"width\":[0.9866666666666646],\"x\":[\"21.2266665\"],\"y\":[0.5]}},\"id\":\"d9393043-a100-4aba-8081-6b6b9d0f9986\",\"type\":\"ColumnDataSource\"},{\"attributes\":{\"data_source\":{\"id\":\"c009a5b7-3dd8-4558-b785-2010c69ab287\",\"type\":\"ColumnDataSource\"},\"glyph\":{\"id\":\"a48eca38-69de-48b0-a86a-33628fc3860a\",\"type\":\"Rect\"},\"hover_glyph\":null,\"muted_glyph\":null},\"id\":\"c8a291b8-e3c3-4bff-8813-a54205c5c4fc\",\"type\":\"GlyphRenderer\"},{\"attributes\":{\"data_source\":{\"id\":\"455c147d-8743-402b-81dd-3e20acbac74e\",\"type\":\"ColumnDataSource\"},\"glyph\":{\"id\":\"1803bd05-e38f-475d-8506-96cb31ca0f2a\",\"type\":\"Rect\"},\"hover_glyph\":null,\"muted_glyph\":null},\"id\":\"2da71316-2eea-4e78-a85f-a54ebb4e9cba\",\"type\":\"GlyphRenderer\"},{\"attributes\":{\"fill_alpha\":{\"field\":\"fill_alpha\"},\"fill_color\":{\"field\":\"color\"},\"height\":{\"field\":\"height\",\"units\":\"data\"},\"line_color\":{\"field\":\"line_color\"},\"width\":{\"field\":\"width\",\"units\":\"data\"},\"x\":{\"field\":\"x\"},\"y\":{\"field\":\"y\"}},\"id\":\"c00c1a27-46ea-449c-b122-158507ae8886\",\"type\":\"Rect\"},{\"attributes\":{\"data_source\":{\"id\":\"35aaa5bb-9256-44d4-93f8-f499d56ca1e3\",\"type\":\"ColumnDataSource\"},\"glyph\":{\"id\":\"a6ff51a9-13b2-47a0-b38a-bc4841d2e774\",\"type\":\"Rect\"},\"hover_glyph\":null,\"muted_glyph\":null},\"id\":\"f2477286-33f3-433f-9e92-78787a7c459b\",\"type\":\"GlyphRenderer\"},{\"attributes\":{\"fill_alpha\":{\"field\":\"fill_alpha\"},\"fill_color\":{\"field\":\"color\"},\"height\":{\"field\":\"height\",\"units\":\"data\"},\"line_color\":{\"field\":\"line_color\"},\"width\":{\"field\":\"width\",\"units\":\"data\"},\"x\":{\"field\":\"x\"},\"y\":{\"field\":\"y\"}},\"id\":\"67c3c24b-0a1b-4047-ab1a-da45ff4b7287\",\"type\":\"Rect\"},{\"attributes\":{\"callback\":null,\"column_names\":[\"x\",\"y\",\"width\",\"height\",\"color\",\"fill_alpha\",\"line_color\",\"line_alpha\",\"label\"],\"data\":{\"chart_index\":[\"(21.720000, 22.706667]\"],\"color\":[\"#f22c40\"],\"fill_alpha\":[0.8],\"height\":[0.0],\"label\":[\"(21.720000, 22.706667]\"],\"line_alpha\":[1.0],\"line_color\":[\"black\"],\"width\":[0.9866666666666681],\"x\":[\"22.213333499999997\"],\"y\":[0.0]}},\"id\":\"70815d54-7996-45a3-9769-1f6b173e93e5\",\"type\":\"ColumnDataSource\"},{\"attributes\":{\"callback\":null,\"column_names\":[\"x\",\"y\",\"width\",\"height\",\"color\",\"fill_alpha\",\"line_color\",\"line_alpha\",\"label\"],\"data\":{\"chart_index\":[\"(126.306667, 127.293333]\"],\"color\":[\"#f22c40\"],\"fill_alpha\":[0.8],\"height\":[0.0],\"label\":[\"(126.306667, 127.293333]\"],\"line_alpha\":[1.0],\"line_color\":[\"black\"],\"width\":[0.9866666666666646],\"x\":[\"126.80000000000001\"],\"y\":[0.0]}},\"id\":\"feaf0534-b0ff-4df4-a365-3beb44aa6d51\",\"type\":\"ColumnDataSource\"},{\"attributes\":{\"fill_alpha\":{\"field\":\"fill_alpha\"},\"fill_color\":{\"field\":\"color\"},\"height\":{\"field\":\"height\",\"units\":\"data\"},\"line_color\":{\"field\":\"line_color\"},\"width\":{\"field\":\"width\",\"units\":\"data\"},\"x\":{\"field\":\"x\"},\"y\":{\"field\":\"y\"}},\"id\":\"f08d1951-f250-4442-8710-f7aed06e5f7d\",\"type\":\"Rect\"},{\"attributes\":{\"data_source\":{\"id\":\"f0b75159-e3c5-43e4-bceb-8067986dc35b\",\"type\":\"ColumnDataSource\"},\"glyph\":{\"id\":\"8b0a283a-ee57-43f1-96b0-5d3b4903b066\",\"type\":\"Rect\"},\"hover_glyph\":null,\"muted_glyph\":null},\"id\":\"2d40f735-6913-4aaa-b1c4-238fdc417adf\",\"type\":\"GlyphRenderer\"},{\"attributes\":{\"callback\":null,\"column_names\":[\"x\",\"y\",\"width\",\"height\",\"color\",\"fill_alpha\",\"line_color\",\"line_alpha\",\"label\"],\"data\":{\"chart_index\":[\"(37.506667, 38.493333]\"],\"color\":[\"#f22c40\"],\"fill_alpha\":[0.8],\"height\":[2.0],\"label\":[\"(37.506667, 38.493333]\"],\"line_alpha\":[1.0],\"line_color\":[\"black\"],\"width\":[0.9866666666666646],\"x\":[\"38.0\"],\"y\":[1.0]}},\"id\":\"e2cf7120-314a-4d3c-8392-418533050885\",\"type\":\"ColumnDataSource\"},{\"attributes\":{\"callback\":null,\"column_names\":[\"x\",\"y\",\"width\",\"height\",\"color\",\"fill_alpha\",\"line_color\",\"line_alpha\",\"label\"],\"data\":{\"chart_index\":[\"(132.226667, 133.213333]\"],\"color\":[\"#f22c40\"],\"fill_alpha\":[0.8],\"height\":[1.0],\"label\":[\"(132.226667, 133.213333]\"],\"line_alpha\":[1.0],\"line_color\":[\"black\"],\"width\":[0.9866666666666788],\"x\":[\"132.72\"],\"y\":[0.5]}},\"id\":\"175d9fe2-20d1-4b7f-bf90-011d1741fd62\",\"type\":\"ColumnDataSource\"},{\"attributes\":{\"data_source\":{\"id\":\"d9393043-a100-4aba-8081-6b6b9d0f9986\",\"type\":\"ColumnDataSource\"},\"glyph\":{\"id\":\"93868848-7c7e-483b-a40e-b69d1b09f82d\",\"type\":\"Rect\"},\"hover_glyph\":null,\"muted_glyph\":null},\"id\":\"e79ebed2-656a-4924-9046-51dfe2171fed\",\"type\":\"GlyphRenderer\"},{\"attributes\":{\"fill_alpha\":{\"field\":\"fill_alpha\"},\"fill_color\":{\"field\":\"color\"},\"height\":{\"field\":\"height\",\"units\":\"data\"},\"line_color\":{\"field\":\"line_color\"},\"width\":{\"field\":\"width\",\"units\":\"data\"},\"x\":{\"field\":\"x\"},\"y\":{\"field\":\"y\"}},\"id\":\"29401576-6db0-4eb9-83b8-0b1fb3c6cbe3\",\"type\":\"Rect\"},{\"attributes\":{\"callback\":null,\"column_names\":[\"x\",\"y\",\"width\",\"height\",\"color\",\"fill_alpha\",\"line_color\",\"line_alpha\",\"label\"],\"data\":{\"chart_index\":[\"(25.666667, 26.653333]\"],\"color\":[\"#f22c40\"],\"fill_alpha\":[0.8],\"height\":[2.0],\"label\":[\"(25.666667, 26.653333]\"],\"line_alpha\":[1.0],\"line_color\":[\"black\"],\"width\":[0.9866666666666646],\"x\":[\"26.16\"],\"y\":[1.0]}},\"id\":\"075513de-b8f0-4fa4-8ea1-a5ca23bd70fc\",\"type\":\"ColumnDataSource\"},{\"attributes\":{\"data_source\":{\"id\":\"b51cdb55-5a95-46f1-bd4f-baca4198c282\",\"type\":\"ColumnDataSource\"},\"glyph\":{\"id\":\"abc184e4-ba6d-475e-a262-ba046401b9ce\",\"type\":\"Rect\"},\"hover_glyph\":null,\"muted_glyph\":null},\"id\":\"ca7fceb0-39da-4488-9856-027c948bd52f\",\"type\":\"GlyphRenderer\"},{\"attributes\":{\"callback\":null,\"column_names\":[\"x\",\"y\",\"width\",\"height\",\"color\",\"fill_alpha\",\"line_color\",\"line_alpha\",\"label\"],\"data\":{\"chart_index\":[\"(125.320000, 126.306667]\"],\"color\":[\"#f22c40\"],\"fill_alpha\":[0.8],\"height\":[0.0],\"label\":[\"(125.320000, 126.306667]\"],\"line_alpha\":[1.0],\"line_color\":[\"black\"],\"width\":[0.9866666666666646],\"x\":[\"125.8133335\"],\"y\":[0.0]}},\"id\":\"17d809cf-d99b-4bac-9ea3-9b38c6346b72\",\"type\":\"ColumnDataSource\"},{\"attributes\":{\"data_source\":{\"id\":\"70815d54-7996-45a3-9769-1f6b173e93e5\",\"type\":\"ColumnDataSource\"},\"glyph\":{\"id\":\"67c3c24b-0a1b-4047-ab1a-da45ff4b7287\",\"type\":\"Rect\"},\"hover_glyph\":null,\"muted_glyph\":null},\"id\":\"77cda303-57b0-488c-bef5-d308ce2d0a89\",\"type\":\"GlyphRenderer\"},{\"attributes\":{\"data_source\":{\"id\":\"17d809cf-d99b-4bac-9ea3-9b38c6346b72\",\"type\":\"ColumnDataSource\"},\"glyph\":{\"id\":\"c00c1a27-46ea-449c-b122-158507ae8886\",\"type\":\"Rect\"},\"hover_glyph\":null,\"muted_glyph\":null},\"id\":\"5c39c0f3-51ff-4fd1-8283-ba21eba25a91\",\"type\":\"GlyphRenderer\"},{\"attributes\":{\"callback\":null,\"column_names\":[\"x\",\"y\",\"width\",\"height\",\"color\",\"fill_alpha\",\"line_color\",\"line_alpha\",\"label\"],\"data\":{\"chart_index\":[\"(22.706667, 23.693333]\"],\"color\":[\"#f22c40\"],\"fill_alpha\":[0.8],\"height\":[2.0],\"label\":[\"(22.706667, 23.693333]\"],\"line_alpha\":[1.0],\"line_color\":[\"black\"],\"width\":[0.9866666666666681],\"x\":[\"23.2\"],\"y\":[1.0]}},\"id\":\"0920171f-475d-4815-951b-d2309bcab3a4\",\"type\":\"ColumnDataSource\"},{\"attributes\":{\"fill_alpha\":{\"field\":\"fill_alpha\"},\"fill_color\":{\"field\":\"color\"},\"height\":{\"field\":\"height\",\"units\":\"data\"},\"line_color\":{\"field\":\"line_color\"},\"width\":{\"field\":\"width\",\"units\":\"data\"},\"x\":{\"field\":\"x\"},\"y\":{\"field\":\"y\"}},\"id\":\"9188003e-2113-4926-a12a-841d8ef249f5\",\"type\":\"Rect\"},{\"attributes\":{\"fill_alpha\":{\"field\":\"fill_alpha\"},\"fill_color\":{\"field\":\"color\"},\"height\":{\"field\":\"height\",\"units\":\"data\"},\"line_color\":{\"field\":\"line_color\"},\"width\":{\"field\":\"width\",\"units\":\"data\"},\"x\":{\"field\":\"x\"},\"y\":{\"field\":\"y\"}},\"id\":\"975809dc-122e-4499-adfa-444af7cc65fe\",\"type\":\"Rect\"},{\"attributes\":{\"callback\":null,\"column_names\":[\"x\",\"y\",\"width\",\"height\",\"color\",\"fill_alpha\",\"line_color\",\"line_alpha\",\"label\"],\"data\":{\"chart_index\":[\"(24.680000, 25.666667]\"],\"color\":[\"#f22c40\"],\"fill_alpha\":[0.8],\"height\":[4.0],\"label\":[\"(24.680000, 25.666667]\"],\"line_alpha\":[1.0],\"line_color\":[\"black\"],\"width\":[0.9866666666666681],\"x\":[\"25.1733335\"],\"y\":[2.0]}},\"id\":\"c009a5b7-3dd8-4558-b785-2010c69ab287\",\"type\":\"ColumnDataSource\"},{\"attributes\":{\"callback\":null,\"column_names\":[\"x\",\"y\",\"width\",\"height\",\"color\",\"fill_alpha\",\"line_color\",\"line_alpha\",\"label\"],\"data\":{\"chart_index\":[\"(127.293333, 128.280000]\"],\"color\":[\"#f22c40\"],\"fill_alpha\":[0.8],\"height\":[0.0],\"label\":[\"(127.293333, 128.280000]\"],\"line_alpha\":[1.0],\"line_color\":[\"black\"],\"width\":[0.9866666666666646],\"x\":[\"127.7866665\"],\"y\":[0.0]}},\"id\":\"c6fc0262-c03d-47be-b6b9-98d42249b547\",\"type\":\"ColumnDataSource\"},{\"attributes\":{\"data_source\":{\"id\":\"175d9fe2-20d1-4b7f-bf90-011d1741fd62\",\"type\":\"ColumnDataSource\"},\"glyph\":{\"id\":\"4c1c8d17-7498-4e64-b000-3143faf19e49\",\"type\":\"Rect\"},\"hover_glyph\":null,\"muted_glyph\":null},\"id\":\"32a23324-a2f4-44be-9451-74323439d3f1\",\"type\":\"GlyphRenderer\"},{\"attributes\":{\"fill_alpha\":{\"field\":\"fill_alpha\"},\"fill_color\":{\"field\":\"color\"},\"height\":{\"field\":\"height\",\"units\":\"data\"},\"line_color\":{\"field\":\"line_color\"},\"width\":{\"field\":\"width\",\"units\":\"data\"},\"x\":{\"field\":\"x\"},\"y\":{\"field\":\"y\"}},\"id\":\"9f5efcb7-d6aa-449b-ac82-60e4c91e334c\",\"type\":\"Rect\"},{\"attributes\":{\"fill_alpha\":{\"field\":\"fill_alpha\"},\"fill_color\":{\"field\":\"color\"},\"height\":{\"field\":\"height\",\"units\":\"data\"},\"line_color\":{\"field\":\"line_color\"},\"width\":{\"field\":\"width\",\"units\":\"data\"},\"x\":{\"field\":\"x\"},\"y\":{\"field\":\"y\"}},\"id\":\"09021364-16f7-4f5c-a049-73117870e9cf\",\"type\":\"Rect\"},{\"attributes\":{\"data_source\":{\"id\":\"0920171f-475d-4815-951b-d2309bcab3a4\",\"type\":\"ColumnDataSource\"},\"glyph\":{\"id\":\"9188003e-2113-4926-a12a-841d8ef249f5\",\"type\":\"Rect\"},\"hover_glyph\":null,\"muted_glyph\":null},\"id\":\"25da1468-bdb5-45c3-887d-58168a51673b\",\"type\":\"GlyphRenderer\"},{\"attributes\":{\"data_source\":{\"id\":\"feaf0534-b0ff-4df4-a365-3beb44aa6d51\",\"type\":\"ColumnDataSource\"},\"glyph\":{\"id\":\"f08d1951-f250-4442-8710-f7aed06e5f7d\",\"type\":\"Rect\"},\"hover_glyph\":null,\"muted_glyph\":null},\"id\":\"ec3a5412-e31b-45d2-864b-2276ca1fe946\",\"type\":\"GlyphRenderer\"},{\"attributes\":{\"fill_alpha\":{\"field\":\"fill_alpha\"},\"fill_color\":{\"field\":\"color\"},\"height\":{\"field\":\"height\",\"units\":\"data\"},\"line_color\":{\"field\":\"line_color\"},\"width\":{\"field\":\"width\",\"units\":\"data\"},\"x\":{\"field\":\"x\"},\"y\":{\"field\":\"y\"}},\"id\":\"35fac98d-1047-458c-8603-a964011dc478\",\"type\":\"Rect\"},{\"attributes\":{\"callback\":null,\"column_names\":[\"x\",\"y\",\"width\",\"height\",\"color\",\"fill_alpha\",\"line_color\",\"line_alpha\",\"label\"],\"data\":{\"chart_index\":[\"(128.280000, 129.266667]\"],\"color\":[\"#f22c40\"],\"fill_alpha\":[0.8],\"height\":[0.0],\"label\":[\"(128.280000, 129.266667]\"],\"line_alpha\":[1.0],\"line_color\":[\"black\"],\"width\":[0.9866666666666788],\"x\":[\"128.7733335\"],\"y\":[0.0]}},\"id\":\"4c865551-c6af-4fa7-a064-1e513ad65bf5\",\"type\":\"ColumnDataSource\"},{\"attributes\":{\"fill_alpha\":{\"field\":\"fill_alpha\"},\"fill_color\":{\"field\":\"color\"},\"height\":{\"field\":\"height\",\"units\":\"data\"},\"line_color\":{\"field\":\"line_color\"},\"width\":{\"field\":\"width\",\"units\":\"data\"},\"x\":{\"field\":\"x\"},\"y\":{\"field\":\"y\"}},\"id\":\"a48eca38-69de-48b0-a86a-33628fc3860a\",\"type\":\"Rect\"},{\"attributes\":{\"fill_alpha\":{\"field\":\"fill_alpha\"},\"fill_color\":{\"field\":\"color\"},\"height\":{\"field\":\"height\",\"units\":\"data\"},\"line_color\":{\"field\":\"line_color\"},\"width\":{\"field\":\"width\",\"units\":\"data\"},\"x\":{\"field\":\"x\"},\"y\":{\"field\":\"y\"}},\"id\":\"c3e81441-6317-47fe-bdd0-1ffc3324ce67\",\"type\":\"Rect\"},{\"attributes\":{\"callback\":null,\"column_names\":[\"x\",\"y\",\"width\",\"height\",\"color\",\"fill_alpha\",\"line_color\",\"line_alpha\",\"label\"],\"data\":{\"chart_index\":[\"(26.653333, 27.640000]\"],\"color\":[\"#f22c40\"],\"fill_alpha\":[0.8],\"height\":[1.0],\"label\":[\"(26.653333, 27.640000]\"],\"line_alpha\":[1.0],\"line_color\":[\"black\"],\"width\":[0.9866666666666681],\"x\":[\"27.146666500000002\"],\"y\":[0.5]}},\"id\":\"daecc91f-ff3f-46aa-9697-233f37f9da6b\",\"type\":\"ColumnDataSource\"},{\"attributes\":{\"data_source\":{\"id\":\"c6fc0262-c03d-47be-b6b9-98d42249b547\",\"type\":\"ColumnDataSource\"},\"glyph\":{\"id\":\"975809dc-122e-4499-adfa-444af7cc65fe\",\"type\":\"Rect\"},\"hover_glyph\":null,\"muted_glyph\":null},\"id\":\"b3ef4285-20c8-4409-8516-f3bf8e2ae96c\",\"type\":\"GlyphRenderer\"},{\"attributes\":{\"fill_alpha\":{\"field\":\"fill_alpha\"},\"fill_color\":{\"field\":\"color\"},\"height\":{\"field\":\"height\",\"units\":\"data\"},\"line_color\":{\"field\":\"line_color\"},\"width\":{\"field\":\"width\",\"units\":\"data\"},\"x\":{\"field\":\"x\"},\"y\":{\"field\":\"y\"}},\"id\":\"c9f0f161-7611-40b1-8fea-6dcc1dede29f\",\"type\":\"Rect\"},{\"attributes\":{\"data_source\":{\"id\":\"075513de-b8f0-4fa4-8ea1-a5ca23bd70fc\",\"type\":\"ColumnDataSource\"},\"glyph\":{\"id\":\"c3e81441-6317-47fe-bdd0-1ffc3324ce67\",\"type\":\"Rect\"},\"hover_glyph\":null,\"muted_glyph\":null},\"id\":\"c4f746c8-6f91-4f54-b02d-96a787db06d8\",\"type\":\"GlyphRenderer\"},{\"attributes\":{\"fill_alpha\":{\"field\":\"fill_alpha\"},\"fill_color\":{\"field\":\"color\"},\"height\":{\"field\":\"height\",\"units\":\"data\"},\"line_color\":{\"field\":\"line_color\"},\"width\":{\"field\":\"width\",\"units\":\"data\"},\"x\":{\"field\":\"x\"},\"y\":{\"field\":\"y\"}},\"id\":\"9dca1244-230b-4d9b-9250-31a70178815c\",\"type\":\"Rect\"},{\"attributes\":{\"callback\":null,\"column_names\":[\"x\",\"y\",\"width\",\"height\",\"color\",\"fill_alpha\",\"line_color\",\"line_alpha\",\"label\"],\"data\":{\"chart_index\":[\"(27.640000, 28.626667]\"],\"color\":[\"#f22c40\"],\"fill_alpha\":[0.8],\"height\":[1.0],\"label\":[\"(27.640000, 28.626667]\"],\"line_alpha\":[1.0],\"line_color\":[\"black\"],\"width\":[0.9866666666666681],\"x\":[\"28.1333335\"],\"y\":[0.5]}},\"id\":\"2d3b615c-f7b3-4f15-8b8e-893b5bfb002c\",\"type\":\"ColumnDataSource\"},{\"attributes\":{\"data_source\":{\"id\":\"f83e5ab7-579e-4369-9c1d-4ac568767e0e\",\"type\":\"ColumnDataSource\"},\"glyph\":{\"id\":\"b9c85547-005c-4d16-a65f-486b035fd17f\",\"type\":\"Rect\"},\"hover_glyph\":null,\"muted_glyph\":null},\"id\":\"5a01d81a-5cdb-48c9-b352-d14d522fbc12\",\"type\":\"GlyphRenderer\"},{\"attributes\":{\"data_source\":{\"id\":\"4c865551-c6af-4fa7-a064-1e513ad65bf5\",\"type\":\"ColumnDataSource\"},\"glyph\":{\"id\":\"35fac98d-1047-458c-8603-a964011dc478\",\"type\":\"Rect\"},\"hover_glyph\":null,\"muted_glyph\":null},\"id\":\"e838e11b-a543-4453-9c4e-6d6fbfa741b2\",\"type\":\"GlyphRenderer\"},{\"attributes\":{\"callback\":null,\"column_names\":[\"x\",\"y\",\"width\",\"height\",\"color\",\"fill_alpha\",\"line_color\",\"line_alpha\",\"label\"],\"data\":{\"chart_index\":[\"(129.266667, 130.253333]\"],\"color\":[\"#f22c40\"],\"fill_alpha\":[0.8],\"height\":[0.0],\"label\":[\"(129.266667, 130.253333]\"],\"line_alpha\":[1.0],\"line_color\":[\"black\"],\"width\":[0.9866666666666504],\"x\":[\"129.76\"],\"y\":[0.0]}},\"id\":\"4e517623-6045-4341-af28-5a1048525d21\",\"type\":\"ColumnDataSource\"},{\"attributes\":{\"data_source\":{\"id\":\"2977c9f7-ebe2-4e8e-8c03-2d5e1493df24\",\"type\":\"ColumnDataSource\"},\"glyph\":{\"id\":\"c7fe3bb9-64b3-43be-9109-3a089720be53\",\"type\":\"Rect\"},\"hover_glyph\":null,\"muted_glyph\":null},\"id\":\"f3a26a36-d905-4291-82d5-f9aed9bf22cb\",\"type\":\"GlyphRenderer\"},{\"attributes\":{\"fill_alpha\":{\"field\":\"fill_alpha\"},\"fill_color\":{\"field\":\"color\"},\"height\":{\"field\":\"height\",\"units\":\"data\"},\"line_color\":{\"field\":\"line_color\"},\"width\":{\"field\":\"width\",\"units\":\"data\"},\"x\":{\"field\":\"x\"},\"y\":{\"field\":\"y\"}},\"id\":\"8f4b4b79-43e2-4fee-b33e-5303e9d2a86f\",\"type\":\"Rect\"},{\"attributes\":{\"data_source\":{\"id\":\"daecc91f-ff3f-46aa-9697-233f37f9da6b\",\"type\":\"ColumnDataSource\"},\"glyph\":{\"id\":\"9f5efcb7-d6aa-449b-ac82-60e4c91e334c\",\"type\":\"Rect\"},\"hover_glyph\":null,\"muted_glyph\":null},\"id\":\"69047530-044f-4530-8835-47a04b5e7458\",\"type\":\"GlyphRenderer\"},{\"attributes\":{\"callback\":null,\"column_names\":[\"x\",\"y\",\"width\",\"height\",\"color\",\"fill_alpha\",\"line_color\",\"line_alpha\",\"label\"],\"data\":{\"chart_index\":[\"(130.253333, 131.240000]\"],\"color\":[\"#f22c40\"],\"fill_alpha\":[0.8],\"height\":[0.0],\"label\":[\"(130.253333, 131.240000]\"],\"line_alpha\":[1.0],\"line_color\":[\"black\"],\"width\":[0.9866666666666788],\"x\":[\"130.7466665\"],\"y\":[0.0]}},\"id\":\"c238c82c-ca99-493e-9ea0-a096b4264ecd\",\"type\":\"ColumnDataSource\"},{\"attributes\":{\"data_source\":{\"id\":\"4e517623-6045-4341-af28-5a1048525d21\",\"type\":\"ColumnDataSource\"},\"glyph\":{\"id\":\"8f4b4b79-43e2-4fee-b33e-5303e9d2a86f\",\"type\":\"Rect\"},\"hover_glyph\":null,\"muted_glyph\":null},\"id\":\"98c3bde0-27d9-4513-806e-de8d8c7c3ed0\",\"type\":\"GlyphRenderer\"},{\"attributes\":{\"fill_alpha\":{\"field\":\"fill_alpha\"},\"fill_color\":{\"field\":\"color\"},\"height\":{\"field\":\"height\",\"units\":\"data\"},\"line_color\":{\"field\":\"line_color\"},\"width\":{\"field\":\"width\",\"units\":\"data\"},\"x\":{\"field\":\"x\"},\"y\":{\"field\":\"y\"}},\"id\":\"c7fe3bb9-64b3-43be-9109-3a089720be53\",\"type\":\"Rect\"},{\"attributes\":{\"callback\":null,\"column_names\":[\"x\",\"y\",\"width\",\"height\",\"color\",\"fill_alpha\",\"line_color\",\"line_alpha\",\"label\"],\"data\":{\"chart_index\":[\"(30.600000, 31.586667]\"],\"color\":[\"#f22c40\"],\"fill_alpha\":[0.8],\"height\":[0.0],\"label\":[\"(30.600000, 31.586667]\"],\"line_alpha\":[1.0],\"line_color\":[\"black\"],\"width\":[0.9866666666666646],\"x\":[\"31.0933335\"],\"y\":[0.0]}},\"id\":\"2977c9f7-ebe2-4e8e-8c03-2d5e1493df24\",\"type\":\"ColumnDataSource\"},{\"attributes\":{\"fill_alpha\":{\"field\":\"fill_alpha\"},\"fill_color\":{\"field\":\"color\"},\"height\":{\"field\":\"height\",\"units\":\"data\"},\"line_color\":{\"field\":\"line_color\"},\"width\":{\"field\":\"width\",\"units\":\"data\"},\"x\":{\"field\":\"x\"},\"y\":{\"field\":\"y\"}},\"id\":\"b9c85547-005c-4d16-a65f-486b035fd17f\",\"type\":\"Rect\"},{\"attributes\":{\"data_source\":{\"id\":\"2d3b615c-f7b3-4f15-8b8e-893b5bfb002c\",\"type\":\"ColumnDataSource\"},\"glyph\":{\"id\":\"9dca1244-230b-4d9b-9250-31a70178815c\",\"type\":\"Rect\"},\"hover_glyph\":null,\"muted_glyph\":null},\"id\":\"5548b091-d90c-4b44-9c7d-49eb66ec0b60\",\"type\":\"GlyphRenderer\"},{\"attributes\":{\"callback\":null,\"column_names\":[\"x\",\"y\",\"width\",\"height\",\"color\",\"fill_alpha\",\"line_color\",\"line_alpha\",\"label\"],\"data\":{\"chart_index\":[\"(131.240000, 132.226667]\"],\"color\":[\"#f22c40\"],\"fill_alpha\":[0.8],\"height\":[1.0],\"label\":[\"(131.240000, 132.226667]\"],\"line_alpha\":[1.0],\"line_color\":[\"black\"],\"width\":[0.9866666666666504],\"x\":[\"131.73333350000001\"],\"y\":[0.5]}},\"id\":\"f83e5ab7-579e-4369-9c1d-4ac568767e0e\",\"type\":\"ColumnDataSource\"},{\"attributes\":{\"data_source\":{\"id\":\"29c58f74-a310-4d1f-a8d8-7fe6a912538d\",\"type\":\"ColumnDataSource\"},\"glyph\":{\"id\":\"7740a58f-d812-45dd-a8f6-049a1297bc67\",\"type\":\"Rect\"},\"hover_glyph\":null,\"muted_glyph\":null},\"id\":\"90f32ac0-b70c-4e48-ae78-4fcf42b016ef\",\"type\":\"GlyphRenderer\"},{\"attributes\":{\"fill_alpha\":{\"field\":\"fill_alpha\"},\"fill_color\":{\"field\":\"color\"},\"height\":{\"field\":\"height\",\"units\":\"data\"},\"line_color\":{\"field\":\"line_color\"},\"width\":{\"field\":\"width\",\"units\":\"data\"},\"x\":{\"field\":\"x\"},\"y\":{\"field\":\"y\"}},\"id\":\"7740a58f-d812-45dd-a8f6-049a1297bc67\",\"type\":\"Rect\"},{\"attributes\":{\"callback\":null,\"column_names\":[\"x\",\"y\",\"width\",\"height\",\"color\",\"fill_alpha\",\"line_color\",\"line_alpha\",\"label\"],\"data\":{\"chart_index\":[\"(138.146667, 139.133333]\"],\"color\":[\"#f22c40\"],\"fill_alpha\":[0.8],\"height\":[0.0],\"label\":[\"(138.146667, 139.133333]\"],\"line_alpha\":[1.0],\"line_color\":[\"black\"],\"width\":[0.9866666666666504],\"x\":[\"138.64\"],\"y\":[0.0]}},\"id\":\"1b14a43a-2124-4a84-81b4-a19cb79546b0\",\"type\":\"ColumnDataSource\"},{\"attributes\":{\"data_source\":{\"id\":\"c238c82c-ca99-493e-9ea0-a096b4264ecd\",\"type\":\"ColumnDataSource\"},\"glyph\":{\"id\":\"c9f0f161-7611-40b1-8fea-6dcc1dede29f\",\"type\":\"Rect\"},\"hover_glyph\":null,\"muted_glyph\":null},\"id\":\"a9987d99-2c01-47b3-ba73-bf21cb4c3e82\",\"type\":\"GlyphRenderer\"},{\"attributes\":{\"callback\":null,\"column_names\":[\"x\",\"y\",\"width\",\"height\",\"color\",\"fill_alpha\",\"line_color\",\"line_alpha\",\"label\"],\"data\":{\"chart_index\":[\"(28.626667, 29.613333]\"],\"color\":[\"#f22c40\"],\"fill_alpha\":[0.8],\"height\":[1.0],\"label\":[\"(28.626667, 29.613333]\"],\"line_alpha\":[1.0],\"line_color\":[\"black\"],\"width\":[0.9866666666666646],\"x\":[\"29.12\"],\"y\":[0.5]}},\"id\":\"29c58f74-a310-4d1f-a8d8-7fe6a912538d\",\"type\":\"ColumnDataSource\"},{\"attributes\":{\"data_source\":{\"id\":\"e2cf7120-314a-4d3c-8392-418533050885\",\"type\":\"ColumnDataSource\"},\"glyph\":{\"id\":\"8cb5322a-3d9f-4cf1-b2a4-fd03ba5f742e\",\"type\":\"Rect\"},\"hover_glyph\":null,\"muted_glyph\":null},\"id\":\"df8de3a1-4fca-4e0c-8d50-783f8defe334\",\"type\":\"GlyphRenderer\"},{\"attributes\":{\"callback\":null,\"column_names\":[\"x\",\"y\",\"width\",\"height\",\"color\",\"fill_alpha\",\"line_color\",\"line_alpha\",\"label\"],\"data\":{\"chart_index\":[\"(31.586667, 32.573333]\"],\"color\":[\"#f22c40\"],\"fill_alpha\":[0.8],\"height\":[1.0],\"label\":[\"(31.586667, 32.573333]\"],\"line_alpha\":[1.0],\"line_color\":[\"black\"],\"width\":[0.9866666666666717],\"x\":[\"32.08\"],\"y\":[0.5]}},\"id\":\"de85216f-f92c-4ef3-ba75-0386f5bcd320\",\"type\":\"ColumnDataSource\"}],\"root_ids\":[\"dd90b127-43a6-4621-888c-240fee07986b\"]},\"title\":\"Bokeh Application\",\"version\":\"0.12.5\"}};\n",
       "            var render_items = [{\"docid\":\"0d9d157b-ab98-469a-a122-c2042892820d\",\"elementid\":\"6951d314-85e5-454f-840f-8dd9a54f5140\",\"modelid\":\"dd90b127-43a6-4621-888c-240fee07986b\"}];\n",
       "            \n",
       "            Bokeh.embed.embed_items(docs_json, render_items);\n",
       "          };\n",
       "          if (document.readyState != \"loading\") fn();\n",
       "          else document.addEventListener(\"DOMContentLoaded\", fn);\n",
       "        })();\n",
       "      },\n",
       "      function(Bokeh) {\n",
       "      }\n",
       "    ];\n",
       "  \n",
       "    function run_inline_js() {\n",
       "      \n",
       "      if ((window.Bokeh !== undefined) || (force === true)) {\n",
       "        for (var i = 0; i < inline_js.length; i++) {\n",
       "          inline_js[i](window.Bokeh);\n",
       "        }if (force === true) {\n",
       "          display_loaded();\n",
       "        }} else if (Date.now() < window._bokeh_timeout) {\n",
       "        setTimeout(run_inline_js, 100);\n",
       "      } else if (!window._bokeh_failed_load) {\n",
       "        console.log(\"Bokeh: BokehJS failed to load within specified timeout.\");\n",
       "        window._bokeh_failed_load = true;\n",
       "      } else if (force !== true) {\n",
       "        var cell = $(document.getElementById(\"6951d314-85e5-454f-840f-8dd9a54f5140\")).parents('.cell').data().cell;\n",
       "        cell.output_area.append_execute_result(NB_LOAD_WARNING)\n",
       "      }\n",
       "  \n",
       "    }\n",
       "  \n",
       "    if (window._bokeh_is_loading === 0) {\n",
       "      console.log(\"Bokeh: BokehJS loaded, going straight to plotting\");\n",
       "      run_inline_js();\n",
       "    } else {\n",
       "      load_libs(js_urls, function() {\n",
       "        console.log(\"Bokeh: BokehJS plotting callback run at\", now());\n",
       "        run_inline_js();\n",
       "      });\n",
       "    }\n",
       "  }(this));\n",
       "</script>"
      ]
     },
     "metadata": {},
     "output_type": "display_data"
    }
   ],
   "source": [
    "p2 = Histogram(unique_countries_per_organisation, \n",
    "              'unique-recipient-country-code-count',\n",
    "              title = \"Histogram of Unique Recipient Countries by Implementing Organisation\", \n",
    "              bins=150)\n",
    "\n",
    "show(p2)"
   ]
  },
  {
   "cell_type": "code",
   "execution_count": 834,
   "metadata": {
    "scrolled": true
   },
   "outputs": [
    {
     "name": "stdout",
     "output_type": "stream",
     "text": [
      "Generated Text: \n",
      "\n",
      "Of the 392 implementing organisations, 109 are associated with one recipient country only, and 283 (72.19%) are associated with more than one.\n"
     ]
    }
   ],
   "source": [
    "num_orgs_with_one_recipient_country = len(\n",
    "    unique_countries_per_organisation[pd.to_numeric(\n",
    "        unique_countries_per_organisation[\n",
    "            'unique-recipient-country-code-count'] == 1)])\n",
    "\n",
    "num_orgs_with_more_than_one_recipient_country = len(\n",
    "    unique_countries_per_organisation[pd.to_numeric(\n",
    "        unique_countries_per_organisation['unique-recipient-country-code-count']\n",
    "        > 1)])\n",
    "\n",
    "print(\n",
    "    \"Generated Text: \\n\\nOf the {} implementing organisations, {} are associated with \"\n",
    "    \"one recipient country only, and {} ({:.2%}) are associated with more than one.\"\n",
    "    .format(\n",
    "        len(unique_countries_per_organisation),\n",
    "        num_orgs_with_one_recipient_country,\n",
    "        num_orgs_with_more_than_one_recipient_country,\n",
    "        num_orgs_with_more_than_one_recipient_country /\n",
    "        len(unique_countries_per_organisation)))"
   ]
  },
  {
   "cell_type": "markdown",
   "metadata": {},
   "source": [
    "Exactly how this effects a data user's ability to make the inference in question is not clear.\n",
    "\n",
    "For one of the 109 organisations with only one recipient country associated, the hope is that they are a local organisation themselves. This can't be guaranteed without a more extensive study, but regardless, it the search for local implementers would be easier for organisations which are only associated with one recipient country.\n",
    "\n",
    "For one of the 283 organisations with more than one associated recipient country, there are two possibilities:\n",
    "\n",
    "* It is a federated organisation which has easily identifiable country offices and channels of contact.\n",
    "\n",
    "In this case, for the ~75% of recipient country uses which can be associated with the reference of an implementing organisation, in theory a user could identify the local actors by contacting the country office for that organisation, though it would depend on that user's initiative to find out if any more organisation details.\n",
    "\n",
    "* It is an intermediate-tier organisation which disburses funds to local organisations as subcontractors.\n",
    "\n",
    "In this case, for the same set as above, a user would have to find out through other means. It would be possible, but would likely require information from the implementing organisation directly and would be laborious."
   ]
  },
  {
   "cell_type": "markdown",
   "metadata": {},
   "source": [
    "## Use Case 3: Determine the First Step in the Delivery Chain (Deliverable 3.1.3)\n",
    "\n",
    "### Use Case\n",
    "\n",
    "_Determine at least the first step in the delivery chain, both through the Organization Identifier and the partner’s Activity Identifier_\n",
    "\n",
    "This section analyses the existence and coverage of the relevant fields: participating organisations and transaction / receiver organisations, as well as provider/receiver activity ids. Additional focus will look at other-identifier (type A9)"
   ]
  },
  {
   "cell_type": "markdown",
   "metadata": {},
   "source": [
    "### Other Identifier\n",
    "\n",
    "In light of its separation from the transaction element, it's worth briefly looking at the other identifier first given that it doesn't require much analysis in light of this use case:"
   ]
  },
  {
   "cell_type": "code",
   "execution_count": 835,
   "metadata": {},
   "outputs": [
    {
     "name": "stdout",
     "output_type": "stream",
     "text": [
      "Generated Text: \n",
      "\n",
      "There are 3280 activities which include an other-identifier field, which have 1 unique value among them: {'A2'}\n"
     ]
    }
   ],
   "source": [
    "activities_with_other_identifier = big_iati.xpath(\n",
    "    \"./iati-activity[other-identifier]\")\n",
    "other_identifiers = big_iati.xpath(\"./iati-activity/other-identifier/@type\")\n",
    "\n",
    "print(\n",
    "    \"Generated Text: \\n\\nThere are {} activities which include an other-identifier field, \"\n",
    "    \"which have {} unique value among them: {}\".format(\n",
    "        len(activities_with_other_identifier), len(set(other_identifiers)),\n",
    "        set(other_identifiers)))"
   ]
  },
  {
   "cell_type": "markdown",
   "metadata": {},
   "source": [
    "In virtue of the fact that this code designates a [CRS identifier](http://iatistandard.org/202/codelists/OtherIdentifierType/), it follows that none of these uses of the `other-identifier` element can help with this inference."
   ]
  },
  {
   "cell_type": "markdown",
   "metadata": {},
   "source": [
    "The table below shows all of the publishers who are referenced in GAC IATI data who's organisation id can be found on the IATI registry:"
   ]
  },
  {
   "cell_type": "code",
   "execution_count": 836,
   "metadata": {},
   "outputs": [
    {
     "name": "stdout",
     "output_type": "stream",
     "text": [
      "There are 435 implementing organisations with unique organisation identifiers\n"
     ]
    }
   ],
   "source": [
    "unique_ids_in_big_iati = set(detailed_participating_orgs[\n",
    "    detailed_participating_orgs['role'] == '4']['ref'])\n",
    "\n",
    "print(\n",
    "    \"There are {} implementing organisations with unique organisation identifiers\".\n",
    "    format(len(unique_ids_in_big_iati)))"
   ]
  },
  {
   "cell_type": "code",
   "execution_count": 837,
   "metadata": {
    "scrolled": false
   },
   "outputs": [
    {
     "data": {
      "text/html": [
       "<div>\n",
       "<style>\n",
       "    .dataframe thead tr:only-child th {\n",
       "        text-align: right;\n",
       "    }\n",
       "\n",
       "    .dataframe thead th {\n",
       "        text-align: left;\n",
       "    }\n",
       "\n",
       "    .dataframe tbody tr th {\n",
       "        vertical-align: top;\n",
       "    }\n",
       "</style>\n",
       "<table border=\"1\" class=\"dataframe\">\n",
       "  <thead>\n",
       "    <tr style=\"text-align: right;\">\n",
       "      <th></th>\n",
       "      <th>Publisher Name</th>\n",
       "      <th>Reporting Org on Registry</th>\n",
       "    </tr>\n",
       "  </thead>\n",
       "  <tbody>\n",
       "    <tr>\n",
       "      <th>25</th>\n",
       "      <td>African Development Bank</td>\n",
       "      <td>46002</td>\n",
       "    </tr>\n",
       "    <tr>\n",
       "      <th>63</th>\n",
       "      <td>Asian Development Bank</td>\n",
       "      <td>46004</td>\n",
       "    </tr>\n",
       "    <tr>\n",
       "      <th>217</th>\n",
       "      <td>The Global Alliance for Improved Nutrition</td>\n",
       "      <td>30001</td>\n",
       "    </tr>\n",
       "    <tr>\n",
       "      <th>219</th>\n",
       "      <td>GAVI Alliance</td>\n",
       "      <td>47122</td>\n",
       "    </tr>\n",
       "    <tr>\n",
       "      <th>425</th>\n",
       "      <td>Population Service International</td>\n",
       "      <td>21032</td>\n",
       "    </tr>\n",
       "    <tr>\n",
       "      <th>506</th>\n",
       "      <td>The Global Fund to Fight AIDS, Tuberculosis an...</td>\n",
       "      <td>47045</td>\n",
       "    </tr>\n",
       "    <tr>\n",
       "      <th>515</th>\n",
       "      <td>Transparency International Secretariat</td>\n",
       "      <td>21033</td>\n",
       "    </tr>\n",
       "    <tr>\n",
       "      <th>531</th>\n",
       "      <td>United Nations Capital Development Fund</td>\n",
       "      <td>41111</td>\n",
       "    </tr>\n",
       "    <tr>\n",
       "      <th>533</th>\n",
       "      <td>United Nations Educational, Scientific and Cul...</td>\n",
       "      <td>41304</td>\n",
       "    </tr>\n",
       "    <tr>\n",
       "      <th>535</th>\n",
       "      <td>United Nations Population Fund</td>\n",
       "      <td>41119</td>\n",
       "    </tr>\n",
       "    <tr>\n",
       "      <th>536</th>\n",
       "      <td>UN-Habitat</td>\n",
       "      <td>41120</td>\n",
       "    </tr>\n",
       "    <tr>\n",
       "      <th>537</th>\n",
       "      <td>United Nations Children's Fund (UNICEF)</td>\n",
       "      <td>41122</td>\n",
       "    </tr>\n",
       "  </tbody>\n",
       "</table>\n",
       "</div>"
      ],
      "text/plain": [
       "                                        Publisher Name  \\\n",
       "25                            African Development Bank   \n",
       "63                              Asian Development Bank   \n",
       "217         The Global Alliance for Improved Nutrition   \n",
       "219                                      GAVI Alliance   \n",
       "425                   Population Service International   \n",
       "506  The Global Fund to Fight AIDS, Tuberculosis an...   \n",
       "515             Transparency International Secretariat   \n",
       "531            United Nations Capital Development Fund   \n",
       "533  United Nations Educational, Scientific and Cul...   \n",
       "535                     United Nations Population Fund   \n",
       "536                                         UN-Habitat   \n",
       "537            United Nations Children's Fund (UNICEF)   \n",
       "\n",
       "    Reporting Org on Registry  \n",
       "25                      46002  \n",
       "63                      46004  \n",
       "217                     30001  \n",
       "219                     47122  \n",
       "425                     21032  \n",
       "506                     47045  \n",
       "515                     21033  \n",
       "531                     41111  \n",
       "533                     41304  \n",
       "535                     41119  \n",
       "536                     41120  \n",
       "537                     41122  "
      ]
     },
     "execution_count": 837,
     "metadata": {},
     "output_type": "execute_result"
    }
   ],
   "source": [
    "iati_publishers = pd.read_csv(\n",
    "    'http://dashboard.iatistandard.org/publishers.csv')\n",
    "\n",
    "iati_org_ids = set(iati_publishers['Reporting Org on Registry'])\n",
    "\n",
    "crossover_publishers = iati_publishers[iati_publishers['Reporting Org on Registry'].isin(\n",
    "    unique_ids_in_big_iati)][['Publisher Name', 'Reporting Org on Registry']]\n",
    "\n",
    "crossover_publishers"
   ]
  },
  {
   "cell_type": "code",
   "execution_count": 838,
   "metadata": {},
   "outputs": [
    {
     "name": "stdout",
     "output_type": "stream",
     "text": [
      "263 activitities have implementers who are registered publishers on the IATI registry\n",
      "\n",
      "These have been written to the appendix workbook.\n"
     ]
    }
   ],
   "source": [
    "activities_with_IATI_publisher_implementing = detailed_participating_orgs[detailed_participating_orgs['ref'].isin(\n",
    "    crossover_publishers['Reporting Org on Registry'])]\n",
    "\n",
    "activities_with_IATI_publisher_implementing.to_excel(pd_writer, \"IATI publishers implementing\")\n",
    "\n",
    "print(\"{} activitities have implementers who are registered publishers on the IATI registry\".format(len(activities_with_IATI_publisher_implementing)))\n",
    "print(\"\\nThese have been written to the appendix workbook.\")\n"
   ]
  },
  {
   "cell_type": "markdown",
   "metadata": {},
   "source": [
    "### Transactions"
   ]
  },
  {
   "cell_type": "markdown",
   "metadata": {},
   "source": [
    "#### Transaction Provider Organisation"
   ]
  },
  {
   "cell_type": "code",
   "execution_count": 839,
   "metadata": {},
   "outputs": [
    {
     "name": "stdout",
     "output_type": "stream",
     "text": [
      "There are 0 activities which contain a transaction that includes a provider-org element.\n"
     ]
    }
   ],
   "source": [
    "activities_with_provider_org_transactions = big_iati.xpath(\n",
    "    \"./iati-activity[transaction[provider-org]]\")\n",
    "\n",
    "print(\n",
    "    \"There are {} activities which contain a transaction that includes a provider-org element.\".\n",
    "    format(len(activities_with_provider_org_transactions)))"
   ]
  },
  {
   "cell_type": "markdown",
   "metadata": {},
   "source": [
    "In virtue of the above, there cannot be any uses of the `provider-org/@ref` or the `provider-org/@provider-activity-id` attributes in evaluating the first step of the delivery chain."
   ]
  },
  {
   "cell_type": "markdown",
   "metadata": {},
   "source": [
    "#### Transaction Receiver Organisation\n",
    "\n",
    "Before conducting any analysis, a dataframe of transactions is retrieved from the IATI files. The first five rows of which shown below: "
   ]
  },
  {
   "cell_type": "code",
   "execution_count": 840,
   "metadata": {},
   "outputs": [
    {
     "data": {
      "text/html": [
       "<div>\n",
       "<style>\n",
       "    .dataframe thead tr:only-child th {\n",
       "        text-align: right;\n",
       "    }\n",
       "\n",
       "    .dataframe thead th {\n",
       "        text-align: left;\n",
       "    }\n",
       "\n",
       "    .dataframe tbody tr th {\n",
       "        vertical-align: top;\n",
       "    }\n",
       "</style>\n",
       "<table border=\"1\" class=\"dataframe\">\n",
       "  <thead>\n",
       "    <tr style=\"text-align: right;\">\n",
       "      <th></th>\n",
       "      <th>iati-identifier</th>\n",
       "      <th>value</th>\n",
       "      <th>activity-status</th>\n",
       "      <th>ref</th>\n",
       "      <th>humanitarian</th>\n",
       "      <th>transaction-type</th>\n",
       "      <th>transaction-date</th>\n",
       "      <th>provider-org-ref</th>\n",
       "      <th>provider-org-activity-id</th>\n",
       "      <th>receiver-org-ref</th>\n",
       "      <th>receiver-org-activity-id</th>\n",
       "    </tr>\n",
       "  </thead>\n",
       "  <tbody>\n",
       "    <tr>\n",
       "      <th>0</th>\n",
       "      <td>CA-3-A031268001</td>\n",
       "      <td>17933718.13</td>\n",
       "      <td>3</td>\n",
       "      <td>None</td>\n",
       "      <td>None</td>\n",
       "      <td>2</td>\n",
       "      <td>2003-04-07</td>\n",
       "      <td>None</td>\n",
       "      <td>None</td>\n",
       "      <td>None</td>\n",
       "      <td>None</td>\n",
       "    </tr>\n",
       "    <tr>\n",
       "      <th>1</th>\n",
       "      <td>CA-3-A031268001</td>\n",
       "      <td>500000.00</td>\n",
       "      <td>3</td>\n",
       "      <td>None</td>\n",
       "      <td>None</td>\n",
       "      <td>3</td>\n",
       "      <td>2003-09-18</td>\n",
       "      <td>None</td>\n",
       "      <td>None</td>\n",
       "      <td>None</td>\n",
       "      <td>None</td>\n",
       "    </tr>\n",
       "    <tr>\n",
       "      <th>2</th>\n",
       "      <td>CA-3-A031268001</td>\n",
       "      <td>101000.00</td>\n",
       "      <td>3</td>\n",
       "      <td>None</td>\n",
       "      <td>None</td>\n",
       "      <td>3</td>\n",
       "      <td>2003-12-05</td>\n",
       "      <td>None</td>\n",
       "      <td>None</td>\n",
       "      <td>None</td>\n",
       "      <td>None</td>\n",
       "    </tr>\n",
       "    <tr>\n",
       "      <th>3</th>\n",
       "      <td>CA-3-A031268001</td>\n",
       "      <td>41000.00</td>\n",
       "      <td>3</td>\n",
       "      <td>None</td>\n",
       "      <td>None</td>\n",
       "      <td>3</td>\n",
       "      <td>2004-02-19</td>\n",
       "      <td>None</td>\n",
       "      <td>None</td>\n",
       "      <td>None</td>\n",
       "      <td>None</td>\n",
       "    </tr>\n",
       "    <tr>\n",
       "      <th>4</th>\n",
       "      <td>CA-3-A031268001</td>\n",
       "      <td>250000.00</td>\n",
       "      <td>3</td>\n",
       "      <td>None</td>\n",
       "      <td>None</td>\n",
       "      <td>3</td>\n",
       "      <td>2004-04-05</td>\n",
       "      <td>None</td>\n",
       "      <td>None</td>\n",
       "      <td>None</td>\n",
       "      <td>None</td>\n",
       "    </tr>\n",
       "  </tbody>\n",
       "</table>\n",
       "</div>"
      ],
      "text/plain": [
       "   iati-identifier        value activity-status   ref humanitarian  \\\n",
       "0  CA-3-A031268001  17933718.13               3  None         None   \n",
       "1  CA-3-A031268001    500000.00               3  None         None   \n",
       "2  CA-3-A031268001    101000.00               3  None         None   \n",
       "3  CA-3-A031268001     41000.00               3  None         None   \n",
       "4  CA-3-A031268001    250000.00               3  None         None   \n",
       "\n",
       "  transaction-type transaction-date provider-org-ref provider-org-activity-id  \\\n",
       "0                2       2003-04-07             None                     None   \n",
       "1                3       2003-09-18             None                     None   \n",
       "2                3       2003-12-05             None                     None   \n",
       "3                3       2004-02-19             None                     None   \n",
       "4                3       2004-04-05             None                     None   \n",
       "\n",
       "  receiver-org-ref receiver-org-activity-id  \n",
       "0             None                     None  \n",
       "1             None                     None  \n",
       "2             None                     None  \n",
       "3             None                     None  \n",
       "4             None                     None  "
      ]
     },
     "execution_count": 840,
     "metadata": {},
     "output_type": "execute_result"
    }
   ],
   "source": [
    "transaction_df = pd.DataFrame(\n",
    "    columns=[\n",
    "        'iati-identifier', 'value', 'activity-status', 'ref', 'humanitarian',\n",
    "        'transaction-type', 'transaction-date', 'provider-org-ref',\n",
    "        'provider-org-activity-id','receiver-org-ref',\n",
    "        'receiver-org-activity-id'\n",
    "    ],\n",
    "    data=[[\n",
    "        transaction.getparent().find('iati-identifier').text,\n",
    "        float(transaction.find('value').text),\n",
    "        transaction.getparent().find('activity-status').get('code'),\n",
    "        transaction.get('ref'),\n",
    "        transaction.get('humanitarian'),\n",
    "        transaction.find('transaction-type').get('code'),\n",
    "        transaction.find('transaction-date').get('iso-date'),\n",
    "        (lambda x: x.get('ref') if x is not None else None)(\n",
    "            transaction.find('provider-org')),\n",
    "        (lambda x: x.get('receiver-activity-id') if x is not None else None)(\n",
    "            transaction.find('provider-org')),\n",
    "        (lambda x: x.get('ref') if x is not None else None)(\n",
    "            transaction.find('receiver-org')),\n",
    "        (lambda x: x.get('receiver-activity-id') if x is not None else None)(\n",
    "            transaction.find('receiver-org'))\n",
    "    ] for transaction in big_iati.xpath(\"iati-activity/transaction\")])\n",
    "\n",
    "transaction_df.to_excel(pd_writer, \"Transactions\")\n",
    "\n",
    "transaction_df.head()"
   ]
  },
  {
   "cell_type": "markdown",
   "metadata": {},
   "source": [
    "Firstly, as we have the information to hand, we can see that no transactions have `@ref` identifier or `@humanitarian` flag:"
   ]
  },
  {
   "cell_type": "code",
   "execution_count": 841,
   "metadata": {},
   "outputs": [
    {
     "data": {
      "text/html": [
       "<div>\n",
       "<style>\n",
       "    .dataframe thead tr:only-child th {\n",
       "        text-align: right;\n",
       "    }\n",
       "\n",
       "    .dataframe thead th {\n",
       "        text-align: left;\n",
       "    }\n",
       "\n",
       "    .dataframe tbody tr th {\n",
       "        vertical-align: top;\n",
       "    }\n",
       "</style>\n",
       "<table border=\"1\" class=\"dataframe\">\n",
       "  <thead>\n",
       "    <tr style=\"text-align: right;\">\n",
       "      <th></th>\n",
       "      <th>activity-status</th>\n",
       "      <th>ref</th>\n",
       "      <th>humanitarian</th>\n",
       "      <th>transaction-type</th>\n",
       "      <th>transaction-date</th>\n",
       "    </tr>\n",
       "  </thead>\n",
       "  <tbody>\n",
       "    <tr>\n",
       "      <th>count</th>\n",
       "      <td>23637</td>\n",
       "      <td>0.0</td>\n",
       "      <td>0.0</td>\n",
       "      <td>23637</td>\n",
       "      <td>23637</td>\n",
       "    </tr>\n",
       "    <tr>\n",
       "      <th>unique</th>\n",
       "      <td>3</td>\n",
       "      <td>0.0</td>\n",
       "      <td>0.0</td>\n",
       "      <td>2</td>\n",
       "      <td>3408</td>\n",
       "    </tr>\n",
       "    <tr>\n",
       "      <th>top</th>\n",
       "      <td>4</td>\n",
       "      <td>NaN</td>\n",
       "      <td>NaN</td>\n",
       "      <td>3</td>\n",
       "      <td>2015-03-31</td>\n",
       "    </tr>\n",
       "    <tr>\n",
       "      <th>freq</th>\n",
       "      <td>15168</td>\n",
       "      <td>NaN</td>\n",
       "      <td>NaN</td>\n",
       "      <td>19656</td>\n",
       "      <td>282</td>\n",
       "    </tr>\n",
       "  </tbody>\n",
       "</table>\n",
       "</div>"
      ],
      "text/plain": [
       "       activity-status  ref  humanitarian transaction-type transaction-date\n",
       "count            23637  0.0           0.0            23637            23637\n",
       "unique               3  0.0           0.0                2             3408\n",
       "top                  4  NaN           NaN                3       2015-03-31\n",
       "freq             15168  NaN           NaN            19656              282"
      ]
     },
     "execution_count": 841,
     "metadata": {},
     "output_type": "execute_result"
    }
   ],
   "source": [
    "transaction_df[[\n",
    "    'value', 'activity-status', 'ref', 'humanitarian', 'transaction-type',\n",
    "    'transaction-date'\n",
    "]].describe(exclude=[float])"
   ]
  },
  {
   "cell_type": "markdown",
   "metadata": {},
   "source": [
    "Secondly, we can select only the disbursements, as befits an analysis of receiver organisation data:"
   ]
  },
  {
   "cell_type": "code",
   "execution_count": 842,
   "metadata": {},
   "outputs": [
    {
     "data": {
      "text/html": [
       "<div>\n",
       "<style>\n",
       "    .dataframe thead tr:only-child th {\n",
       "        text-align: right;\n",
       "    }\n",
       "\n",
       "    .dataframe thead th {\n",
       "        text-align: left;\n",
       "    }\n",
       "\n",
       "    .dataframe tbody tr th {\n",
       "        vertical-align: top;\n",
       "    }\n",
       "</style>\n",
       "<table border=\"1\" class=\"dataframe\">\n",
       "  <thead>\n",
       "    <tr style=\"text-align: right;\">\n",
       "      <th></th>\n",
       "      <th>activity-status</th>\n",
       "      <th>transaction-type</th>\n",
       "      <th>receiver-org-ref</th>\n",
       "      <th>receiver-org-activity-id</th>\n",
       "    </tr>\n",
       "  </thead>\n",
       "  <tbody>\n",
       "    <tr>\n",
       "      <th>count</th>\n",
       "      <td>19656</td>\n",
       "      <td>19656</td>\n",
       "      <td>14125</td>\n",
       "      <td>0.0</td>\n",
       "    </tr>\n",
       "    <tr>\n",
       "      <th>unique</th>\n",
       "      <td>3</td>\n",
       "      <td>1</td>\n",
       "      <td>398</td>\n",
       "      <td>0.0</td>\n",
       "    </tr>\n",
       "    <tr>\n",
       "      <th>top</th>\n",
       "      <td>4</td>\n",
       "      <td>3</td>\n",
       "      <td>41140</td>\n",
       "      <td>NaN</td>\n",
       "    </tr>\n",
       "    <tr>\n",
       "      <th>freq</th>\n",
       "      <td>12414</td>\n",
       "      <td>19656</td>\n",
       "      <td>511</td>\n",
       "      <td>NaN</td>\n",
       "    </tr>\n",
       "  </tbody>\n",
       "</table>\n",
       "</div>"
      ],
      "text/plain": [
       "       activity-status transaction-type receiver-org-ref  \\\n",
       "count            19656            19656            14125   \n",
       "unique               3                1              398   \n",
       "top                  4                3            41140   \n",
       "freq             12414            19656              511   \n",
       "\n",
       "        receiver-org-activity-id  \n",
       "count                        0.0  \n",
       "unique                       0.0  \n",
       "top                          NaN  \n",
       "freq                         NaN  "
      ]
     },
     "execution_count": 842,
     "metadata": {},
     "output_type": "execute_result"
    }
   ],
   "source": [
    "transaction_df[transaction_df['transaction-type'] == '3'][[\n",
    "    'activity-status', 'transaction-type', 'receiver-org-ref',\n",
    "    'receiver-org-activity-id'\n",
    "]].describe()"
   ]
  },
  {
   "cell_type": "markdown",
   "metadata": {},
   "source": [
    "As we can see from this, there no usage of the `@receiver-org-activity-id`, but 14,125 (71.86%) transactions of the total 19,656 disbursements do include a `@receiver-org-ref`."
   ]
  },
  {
   "cell_type": "markdown",
   "metadata": {},
   "source": [
    "## Use Case 4: Identify Joint Funding (Deliverable 3.1.4)\n",
    "\n",
    "### Use Case\n",
    "\n",
    "_Identify joint funding and determine the lead donor/implementing agency_\n",
    "\n",
    "This section considers the existence and coverage of the relevant fields: participating organisations, transaction / receiver organisations, and related activity.\n",
    "\n",
    "Looking at the [above section on participating organisations](#Participating-Organisations) we can see that there is full coverage of participating organisations with regard to funding and extending, but that 24.64% of declarations don't include a `@ref` attribute, and 7.30% don't include a `@type` declaration. Both of these could make it more difficult to establish the exact organisation and whether or not it has joint funded an activity.\n",
    "\n",
    "Similarly, looking at the section above [on transaction receiver-orgs](#Transaction-Receiver-Organisation), it can be seen that although there is no prospect of tracing locating a participating organisation's activity, references are available for the recipients of 71.86% of transactions. Although it would be laborious to do, it is possible that in all of these cases, the implementing organisation could be identified.\n",
    "\n",
    "However, because there are no details on the [providing organisations](#Transaction-Provider-Organisation), transactions are assumed not to include any details of lead donors which aren't already available in the activity-level participating organisation details.\n",
    "\n",
    "Let's now consider the related activity fields. First, let's find how many activities have included a related activity element:"
   ]
  },
  {
   "cell_type": "code",
   "execution_count": 843,
   "metadata": {
    "scrolled": true
   },
   "outputs": [
    {
     "data": {
      "text/plain": [
       "607"
      ]
     },
     "execution_count": 843,
     "metadata": {},
     "output_type": "execute_result"
    }
   ],
   "source": [
    "len(big_iati.xpath(\"./iati-activity[related-activity]\"))"
   ]
  },
  {
   "cell_type": "markdown",
   "metadata": {},
   "source": [
    "Now let's what types have been included:"
   ]
  },
  {
   "cell_type": "code",
   "execution_count": 844,
   "metadata": {},
   "outputs": [
    {
     "data": {
      "text/plain": [
       "{'3'}"
      ]
     },
     "execution_count": 844,
     "metadata": {},
     "output_type": "execute_result"
    }
   ],
   "source": [
    "set(big_iati.xpath(\"./iati-activity/related-activity/@type\"))"
   ]
  },
  {
   "cell_type": "markdown",
   "metadata": {},
   "source": [
    "There are 607 (15.32%) of activities which include a ‘related activity’ fields, which can refer to several types of activity including a parent, child, sibling, co-funded, or third party activity (all of which are described in detail [here](http://iatistandard.org/202/codelists/RelatedActivityType/)).\n",
    "\n",
    "All of these are of type 3, meaning ‘sibling’. Without inspecting each of the activities, it is unclear what this means. Given the existence of a ‘co-funded’ type, it seems unlikely that these related activities are in fact part of joint-funding, but even if they are, this way of linking them would be incorrect.\n"
   ]
  },
  {
   "cell_type": "markdown",
   "metadata": {},
   "source": [
    "## Use Case 5: Determine Geography (Deliverable 3.1.5)\n",
    "\n",
    "### Use Case\n",
    "\n",
    "_Determine the geographic area(s) benefiting from the project and, where relevant, the actual location of the project activities_\n",
    "\n",
    "This section considers the existence and coverage of the relevant fields - recipient country & region at the activity and transaction level, as well as locations (national and subnational).\n",
    "\n",
    "### Activity Level Recipient Locations\n",
    "\n",
    "With regards to recipient country and region at the activity level, by referring to [Deliverable 3.1.1 above](#Deliverable-3.1.1) it can be seen that there is nearly 100% coverage of recipient locations as either countries or regions, though the usability of those elements is hindered by the existence of many activities with more than one recipient country. To recap the number of activities with recipient countries and regions:"
   ]
  },
  {
   "cell_type": "code",
   "execution_count": 845,
   "metadata": {},
   "outputs": [
    {
     "name": "stdout",
     "output_type": "stream",
     "text": [
      "Of 3961 activities, 3389 (85.56%) include at least one recipient country\n"
     ]
    }
   ],
   "source": [
    "print(\"Of {} activities, {} ({:.2%}) include at least one recipient country\"\n",
    "      .format(\n",
    "          len(big_iati), \n",
    "          len(big_iati.xpath(\"iati-activity[recipient-country]\")),\n",
    "          len(big_iati.xpath(\"iati-activity[recipient-country]\")) / len(big_iati)))"
   ]
  },
  {
   "cell_type": "code",
   "execution_count": 846,
   "metadata": {},
   "outputs": [
    {
     "name": "stdout",
     "output_type": "stream",
     "text": [
      "Of 3961 activities, 616 (15.55%) include at least one recipient region\n"
     ]
    }
   ],
   "source": [
    "print(\"Of {} activities, {} ({:.2%}) include at least one recipient region\"\n",
    "      .format(\n",
    "          len(big_iati), \n",
    "          len(big_iati.xpath(\"iati-activity[recipient-region]\")),\n",
    "          len(big_iati.xpath(\"iati-activity[recipient-region]\")) / len(big_iati)))"
   ]
  },
  {
   "cell_type": "code",
   "execution_count": 847,
   "metadata": {},
   "outputs": [
    {
     "name": "stdout",
     "output_type": "stream",
     "text": [
      "Together, excluding any duplicates, these 3959 activites comprise 99.95% of the total.\n"
     ]
    }
   ],
   "source": [
    "var = len(\n",
    "    set(\n",
    "        big_iati.xpath(\"iati-activity[recipient-region]\") +\n",
    "        big_iati.xpath(\"iati-activity[recipient-country]\")))\n",
    "\n",
    "print(\n",
    "    \"Together, excluding any duplicates, these {} activites comprise {:.2%} of the total.\".\n",
    "    format(var, var / len(big_iati)))"
   ]
  },
  {
   "cell_type": "markdown",
   "metadata": {},
   "source": [
    "### Transaction Level Recipient Locations"
   ]
  },
  {
   "cell_type": "code",
   "execution_count": 848,
   "metadata": {},
   "outputs": [
    {
     "data": {
      "text/plain": [
       "0"
      ]
     },
     "execution_count": 848,
     "metadata": {},
     "output_type": "execute_result"
    }
   ],
   "source": [
    "len(big_iati.xpath(\"iati-activity[transaction[recipient-country]]\"))"
   ]
  },
  {
   "cell_type": "code",
   "execution_count": 849,
   "metadata": {},
   "outputs": [
    {
     "data": {
      "text/plain": [
       "0"
      ]
     },
     "execution_count": 849,
     "metadata": {},
     "output_type": "execute_result"
    }
   ],
   "source": [
    "len(big_iati.xpath(\"iati-activity[transaction[recipient-country]]\"))"
   ]
  },
  {
   "cell_type": "markdown",
   "metadata": {},
   "source": [
    "In the current data, there are no location details at transaction level. "
   ]
  },
  {
   "cell_type": "markdown",
   "metadata": {},
   "source": [
    "### Locations Elements"
   ]
  },
  {
   "cell_type": "code",
   "execution_count": 850,
   "metadata": {},
   "outputs": [
    {
     "name": "stdout",
     "output_type": "stream",
     "text": [
      "3730 of the 3961 (94.17%) published activities contain location elements.\n"
     ]
    }
   ],
   "source": [
    "print(\"{} of the {} ({:.2%}) published activities contain location elements.\".\n",
    "      format(\n",
    "          len(big_iati.xpath(\"iati-activity[location]\")),\n",
    "          len(big_iati),\n",
    "          len(big_iati.xpath(\"iati-activity[location]\")) / len(big_iati)\n",
    "      ))"
   ]
  },
  {
   "cell_type": "markdown",
   "metadata": {},
   "source": [
    "These can be viewed in more details, as the recipient countries were above. Again, here is every unique declaration of a location at the activity level, clipped at 5 rows.\n",
    "\n",
    "<div class=\"alert alert-info\">\n",
    "**Note**: there are multiple rows per activity, as above.\n",
    "</div>"
   ]
  },
  {
   "cell_type": "code",
   "execution_count": 851,
   "metadata": {
    "scrolled": false
   },
   "outputs": [
    {
     "data": {
      "text/html": [
       "<div>\n",
       "<style>\n",
       "    .dataframe thead tr:only-child th {\n",
       "        text-align: right;\n",
       "    }\n",
       "\n",
       "    .dataframe thead th {\n",
       "        text-align: left;\n",
       "    }\n",
       "\n",
       "    .dataframe tbody tr th {\n",
       "        vertical-align: top;\n",
       "    }\n",
       "</style>\n",
       "<table border=\"1\" class=\"dataframe\">\n",
       "  <thead>\n",
       "    <tr style=\"text-align: right;\">\n",
       "      <th></th>\n",
       "      <th>iati-identifier</th>\n",
       "      <th>activity-status</th>\n",
       "      <th>location-reach-code</th>\n",
       "      <th>location-id-code</th>\n",
       "      <th>location-id-vocabulary</th>\n",
       "      <th>location-point-srs</th>\n",
       "      <th>location-point-pos</th>\n",
       "    </tr>\n",
       "  </thead>\n",
       "  <tbody>\n",
       "    <tr>\n",
       "      <th>0</th>\n",
       "      <td>CA-3-A031268001</td>\n",
       "      <td>3</td>\n",
       "      <td>1</td>\n",
       "      <td>3378644</td>\n",
       "      <td>G1</td>\n",
       "      <td>http://www.opengis.net/def/crs/EPSG/0/4326</td>\n",
       "      <td>6.80448 -58.15527</td>\n",
       "    </tr>\n",
       "    <tr>\n",
       "      <th>1</th>\n",
       "      <td>CA-3-A031268001</td>\n",
       "      <td>3</td>\n",
       "      <td>1</td>\n",
       "      <td>3383330</td>\n",
       "      <td>G1</td>\n",
       "      <td>http://www.opengis.net/def/crs/EPSG/0/4326</td>\n",
       "      <td>5.86638 -55.16682</td>\n",
       "    </tr>\n",
       "    <tr>\n",
       "      <th>2</th>\n",
       "      <td>CA-3-A031268001</td>\n",
       "      <td>3</td>\n",
       "      <td>1</td>\n",
       "      <td>3435910</td>\n",
       "      <td>G1</td>\n",
       "      <td>http://www.opengis.net/def/crs/EPSG/0/4326</td>\n",
       "      <td>-34.61315 -58.37723</td>\n",
       "    </tr>\n",
       "    <tr>\n",
       "      <th>3</th>\n",
       "      <td>CA-3-A031268001</td>\n",
       "      <td>3</td>\n",
       "      <td>1</td>\n",
       "      <td>3439389</td>\n",
       "      <td>G1</td>\n",
       "      <td>http://www.opengis.net/def/crs/EPSG/0/4326</td>\n",
       "      <td>-25.30066 -57.63591</td>\n",
       "    </tr>\n",
       "    <tr>\n",
       "      <th>4</th>\n",
       "      <td>CA-3-A031268001</td>\n",
       "      <td>3</td>\n",
       "      <td>1</td>\n",
       "      <td>3441575</td>\n",
       "      <td>G1</td>\n",
       "      <td>http://www.opengis.net/def/crs/EPSG/0/4326</td>\n",
       "      <td>-34.90328 -56.18816</td>\n",
       "    </tr>\n",
       "  </tbody>\n",
       "</table>\n",
       "</div>"
      ],
      "text/plain": [
       "   iati-identifier activity-status location-reach-code location-id-code  \\\n",
       "0  CA-3-A031268001               3                   1          3378644   \n",
       "1  CA-3-A031268001               3                   1          3383330   \n",
       "2  CA-3-A031268001               3                   1          3435910   \n",
       "3  CA-3-A031268001               3                   1          3439389   \n",
       "4  CA-3-A031268001               3                   1          3441575   \n",
       "\n",
       "  location-id-vocabulary                          location-point-srs  \\\n",
       "0                     G1  http://www.opengis.net/def/crs/EPSG/0/4326   \n",
       "1                     G1  http://www.opengis.net/def/crs/EPSG/0/4326   \n",
       "2                     G1  http://www.opengis.net/def/crs/EPSG/0/4326   \n",
       "3                     G1  http://www.opengis.net/def/crs/EPSG/0/4326   \n",
       "4                     G1  http://www.opengis.net/def/crs/EPSG/0/4326   \n",
       "\n",
       "    location-point-pos  \n",
       "0    6.80448 -58.15527  \n",
       "1    5.86638 -55.16682  \n",
       "2  -34.61315 -58.37723  \n",
       "3  -25.30066 -57.63591  \n",
       "4  -34.90328 -56.18816  "
      ]
     },
     "execution_count": 851,
     "metadata": {},
     "output_type": "execute_result"
    }
   ],
   "source": [
    "detailed_locations = pd.DataFrame(\n",
    "    columns=[\n",
    "        'iati-identifier', 'activity-status',\n",
    "        'location-reach-code', 'location-id-code', 'location-id-vocabulary',\n",
    "        'location-point-srs', 'location-point-pos'\n",
    "    ],\n",
    "    data=[[\n",
    "        location.getparent().find('iati-identifier').text,\n",
    "        location.getparent().find('activity-status').get('code'),\n",
    "        location.find('location-reach').get('code'),\n",
    "        location.find('location-id').get('code'),\n",
    "        location.find('location-id').get('vocabulary'),\n",
    "        location.find('point').get('srsName'),\n",
    "        location.find('point/pos').text\n",
    "    ] for location in big_iati.findall('iati-activity/location')])\n",
    "\n",
    "detailed_locations.to_excel(pd_writer, \"Location Elements\")\n",
    "\n",
    "detailed_locations.head()"
   ]
  },
  {
   "cell_type": "markdown",
   "metadata": {},
   "source": [
    "The table below shows the frequency of use of each of these other elements. There are 11,752 uses of the location element in total, and in each case, all of the available elements have been used. "
   ]
  },
  {
   "cell_type": "code",
   "execution_count": 852,
   "metadata": {},
   "outputs": [
    {
     "data": {
      "text/html": [
       "<div>\n",
       "<style>\n",
       "    .dataframe thead tr:only-child th {\n",
       "        text-align: right;\n",
       "    }\n",
       "\n",
       "    .dataframe thead th {\n",
       "        text-align: left;\n",
       "    }\n",
       "\n",
       "    .dataframe tbody tr th {\n",
       "        vertical-align: top;\n",
       "    }\n",
       "</style>\n",
       "<table border=\"1\" class=\"dataframe\">\n",
       "  <thead>\n",
       "    <tr style=\"text-align: right;\">\n",
       "      <th></th>\n",
       "      <th>iati-identifier</th>\n",
       "      <th>activity-status</th>\n",
       "      <th>location-reach-code</th>\n",
       "      <th>location-id-code</th>\n",
       "      <th>location-id-vocabulary</th>\n",
       "      <th>location-point-srs</th>\n",
       "      <th>location-point-pos</th>\n",
       "    </tr>\n",
       "  </thead>\n",
       "  <tbody>\n",
       "    <tr>\n",
       "      <th>count</th>\n",
       "      <td>11752</td>\n",
       "      <td>11752</td>\n",
       "      <td>11752</td>\n",
       "      <td>11752</td>\n",
       "      <td>11752</td>\n",
       "      <td>11752</td>\n",
       "      <td>11752</td>\n",
       "    </tr>\n",
       "    <tr>\n",
       "      <th>unique</th>\n",
       "      <td>3730</td>\n",
       "      <td>3</td>\n",
       "      <td>2</td>\n",
       "      <td>717</td>\n",
       "      <td>1</td>\n",
       "      <td>1</td>\n",
       "      <td>809</td>\n",
       "    </tr>\n",
       "    <tr>\n",
       "      <th>top</th>\n",
       "      <td>CA-3-D000639001</td>\n",
       "      <td>4</td>\n",
       "      <td>1</td>\n",
       "      <td>6255150</td>\n",
       "      <td>G1</td>\n",
       "      <td>http://www.opengis.net/def/crs/EPSG/0/4326</td>\n",
       "      <td></td>\n",
       "    </tr>\n",
       "    <tr>\n",
       "      <th>freq</th>\n",
       "      <td>191</td>\n",
       "      <td>8037</td>\n",
       "      <td>10066</td>\n",
       "      <td>416</td>\n",
       "      <td>11752</td>\n",
       "      <td>11752</td>\n",
       "      <td>1206</td>\n",
       "    </tr>\n",
       "  </tbody>\n",
       "</table>\n",
       "</div>"
      ],
      "text/plain": [
       "        iati-identifier activity-status location-reach-code location-id-code  \\\n",
       "count             11752           11752               11752            11752   \n",
       "unique             3730               3                   2              717   \n",
       "top     CA-3-D000639001               4                   1          6255150   \n",
       "freq                191            8037               10066              416   \n",
       "\n",
       "       location-id-vocabulary                          location-point-srs  \\\n",
       "count                   11752                                       11752   \n",
       "unique                      1                                           1   \n",
       "top                        G1  http://www.opengis.net/def/crs/EPSG/0/4326   \n",
       "freq                    11752                                       11752   \n",
       "\n",
       "       location-point-pos  \n",
       "count               11752  \n",
       "unique                809  \n",
       "top                        \n",
       "freq                 1206  "
      ]
     },
     "execution_count": 852,
     "metadata": {},
     "output_type": "execute_result"
    }
   ],
   "source": [
    "detailed_locations.describe()"
   ]
  },
  {
   "cell_type": "markdown",
   "metadata": {},
   "source": [
    "When grouped by activity, and counted, the number of locations elements (and all of their sub elements and attributes) can be seen per activity. The table below shows the first five rows:"
   ]
  },
  {
   "cell_type": "code",
   "execution_count": 853,
   "metadata": {},
   "outputs": [
    {
     "data": {
      "text/html": [
       "<div>\n",
       "<style>\n",
       "    .dataframe thead tr:only-child th {\n",
       "        text-align: right;\n",
       "    }\n",
       "\n",
       "    .dataframe thead th {\n",
       "        text-align: left;\n",
       "    }\n",
       "\n",
       "    .dataframe tbody tr th {\n",
       "        vertical-align: top;\n",
       "    }\n",
       "</style>\n",
       "<table border=\"1\" class=\"dataframe\">\n",
       "  <thead>\n",
       "    <tr style=\"text-align: right;\">\n",
       "      <th></th>\n",
       "      <th>activity-status</th>\n",
       "      <th>location-id-code</th>\n",
       "      <th>location-id-vocabulary</th>\n",
       "      <th>location-point-pos</th>\n",
       "      <th>location-point-srs</th>\n",
       "      <th>location-reach-code</th>\n",
       "    </tr>\n",
       "    <tr>\n",
       "      <th>iati-identifier</th>\n",
       "      <th></th>\n",
       "      <th></th>\n",
       "      <th></th>\n",
       "      <th></th>\n",
       "      <th></th>\n",
       "      <th></th>\n",
       "    </tr>\n",
       "  </thead>\n",
       "  <tbody>\n",
       "    <tr>\n",
       "      <th>CA-3-A018823001</th>\n",
       "      <td>1</td>\n",
       "      <td>1</td>\n",
       "      <td>1</td>\n",
       "      <td>1</td>\n",
       "      <td>1</td>\n",
       "      <td>1</td>\n",
       "    </tr>\n",
       "    <tr>\n",
       "      <th>CA-3-A019362001</th>\n",
       "      <td>1</td>\n",
       "      <td>1</td>\n",
       "      <td>1</td>\n",
       "      <td>1</td>\n",
       "      <td>1</td>\n",
       "      <td>1</td>\n",
       "    </tr>\n",
       "    <tr>\n",
       "      <th>CA-3-A020246001</th>\n",
       "      <td>1</td>\n",
       "      <td>1</td>\n",
       "      <td>1</td>\n",
       "      <td>1</td>\n",
       "      <td>1</td>\n",
       "      <td>1</td>\n",
       "    </tr>\n",
       "    <tr>\n",
       "      <th>CA-3-A020252001</th>\n",
       "      <td>1</td>\n",
       "      <td>1</td>\n",
       "      <td>1</td>\n",
       "      <td>1</td>\n",
       "      <td>1</td>\n",
       "      <td>1</td>\n",
       "    </tr>\n",
       "    <tr>\n",
       "      <th>CA-3-A020279001</th>\n",
       "      <td>1</td>\n",
       "      <td>1</td>\n",
       "      <td>1</td>\n",
       "      <td>1</td>\n",
       "      <td>1</td>\n",
       "      <td>1</td>\n",
       "    </tr>\n",
       "  </tbody>\n",
       "</table>\n",
       "</div>"
      ],
      "text/plain": [
       "                 activity-status  location-id-code  location-id-vocabulary  \\\n",
       "iati-identifier                                                              \n",
       "CA-3-A018823001                1                 1                       1   \n",
       "CA-3-A019362001                1                 1                       1   \n",
       "CA-3-A020246001                1                 1                       1   \n",
       "CA-3-A020252001                1                 1                       1   \n",
       "CA-3-A020279001                1                 1                       1   \n",
       "\n",
       "                 location-point-pos  location-point-srs  location-reach-code  \n",
       "iati-identifier                                                               \n",
       "CA-3-A018823001                   1                   1                    1  \n",
       "CA-3-A019362001                   1                   1                    1  \n",
       "CA-3-A020246001                   1                   1                    1  \n",
       "CA-3-A020252001                   1                   1                    1  \n",
       "CA-3-A020279001                   1                   1                    1  "
      ]
     },
     "execution_count": 853,
     "metadata": {},
     "output_type": "execute_result"
    }
   ],
   "source": [
    "location_elements_pivot = detailed_locations.pivot_table(index='iati-identifier', aggfunc = 'count')\n",
    "\n",
    "location_elements_pivot.head()"
   ]
  },
  {
   "cell_type": "markdown",
   "metadata": {},
   "source": [
    "Summarised in a similar way to tables above, each location element has the same distribution, and a similar spread but with a lower mean is observed as with recipient country:"
   ]
  },
  {
   "cell_type": "code",
   "execution_count": 854,
   "metadata": {},
   "outputs": [
    {
     "data": {
      "text/html": [
       "<div>\n",
       "<style>\n",
       "    .dataframe thead tr:only-child th {\n",
       "        text-align: right;\n",
       "    }\n",
       "\n",
       "    .dataframe thead th {\n",
       "        text-align: left;\n",
       "    }\n",
       "\n",
       "    .dataframe tbody tr th {\n",
       "        vertical-align: top;\n",
       "    }\n",
       "</style>\n",
       "<table border=\"1\" class=\"dataframe\">\n",
       "  <thead>\n",
       "    <tr style=\"text-align: right;\">\n",
       "      <th></th>\n",
       "      <th>activity-status</th>\n",
       "      <th>location-id-code</th>\n",
       "      <th>location-id-vocabulary</th>\n",
       "      <th>location-point-pos</th>\n",
       "      <th>location-point-srs</th>\n",
       "      <th>location-reach-code</th>\n",
       "    </tr>\n",
       "  </thead>\n",
       "  <tbody>\n",
       "    <tr>\n",
       "      <th>count</th>\n",
       "      <td>3730.000000</td>\n",
       "      <td>3730.000000</td>\n",
       "      <td>3730.000000</td>\n",
       "      <td>3730.000000</td>\n",
       "      <td>3730.000000</td>\n",
       "      <td>3730.000000</td>\n",
       "    </tr>\n",
       "    <tr>\n",
       "      <th>mean</th>\n",
       "      <td>3.150670</td>\n",
       "      <td>3.150670</td>\n",
       "      <td>3.150670</td>\n",
       "      <td>3.150670</td>\n",
       "      <td>3.150670</td>\n",
       "      <td>3.150670</td>\n",
       "    </tr>\n",
       "    <tr>\n",
       "      <th>std</th>\n",
       "      <td>7.870249</td>\n",
       "      <td>7.870249</td>\n",
       "      <td>7.870249</td>\n",
       "      <td>7.870249</td>\n",
       "      <td>7.870249</td>\n",
       "      <td>7.870249</td>\n",
       "    </tr>\n",
       "    <tr>\n",
       "      <th>min</th>\n",
       "      <td>1.000000</td>\n",
       "      <td>1.000000</td>\n",
       "      <td>1.000000</td>\n",
       "      <td>1.000000</td>\n",
       "      <td>1.000000</td>\n",
       "      <td>1.000000</td>\n",
       "    </tr>\n",
       "    <tr>\n",
       "      <th>25%</th>\n",
       "      <td>1.000000</td>\n",
       "      <td>1.000000</td>\n",
       "      <td>1.000000</td>\n",
       "      <td>1.000000</td>\n",
       "      <td>1.000000</td>\n",
       "      <td>1.000000</td>\n",
       "    </tr>\n",
       "    <tr>\n",
       "      <th>50%</th>\n",
       "      <td>1.000000</td>\n",
       "      <td>1.000000</td>\n",
       "      <td>1.000000</td>\n",
       "      <td>1.000000</td>\n",
       "      <td>1.000000</td>\n",
       "      <td>1.000000</td>\n",
       "    </tr>\n",
       "    <tr>\n",
       "      <th>75%</th>\n",
       "      <td>2.000000</td>\n",
       "      <td>2.000000</td>\n",
       "      <td>2.000000</td>\n",
       "      <td>2.000000</td>\n",
       "      <td>2.000000</td>\n",
       "      <td>2.000000</td>\n",
       "    </tr>\n",
       "    <tr>\n",
       "      <th>max</th>\n",
       "      <td>191.000000</td>\n",
       "      <td>191.000000</td>\n",
       "      <td>191.000000</td>\n",
       "      <td>191.000000</td>\n",
       "      <td>191.000000</td>\n",
       "      <td>191.000000</td>\n",
       "    </tr>\n",
       "  </tbody>\n",
       "</table>\n",
       "</div>"
      ],
      "text/plain": [
       "       activity-status  location-id-code  location-id-vocabulary  \\\n",
       "count      3730.000000       3730.000000             3730.000000   \n",
       "mean          3.150670          3.150670                3.150670   \n",
       "std           7.870249          7.870249                7.870249   \n",
       "min           1.000000          1.000000                1.000000   \n",
       "25%           1.000000          1.000000                1.000000   \n",
       "50%           1.000000          1.000000                1.000000   \n",
       "75%           2.000000          2.000000                2.000000   \n",
       "max         191.000000        191.000000              191.000000   \n",
       "\n",
       "       location-point-pos  location-point-srs  location-reach-code  \n",
       "count         3730.000000         3730.000000          3730.000000  \n",
       "mean             3.150670            3.150670             3.150670  \n",
       "std              7.870249            7.870249             7.870249  \n",
       "min              1.000000            1.000000             1.000000  \n",
       "25%              1.000000            1.000000             1.000000  \n",
       "50%              1.000000            1.000000             1.000000  \n",
       "75%              2.000000            2.000000             2.000000  \n",
       "max            191.000000          191.000000           191.000000  "
      ]
     },
     "execution_count": 854,
     "metadata": {},
     "output_type": "execute_result"
    }
   ],
   "source": [
    "location_elements_pivot.describe()"
   ]
  },
  {
   "cell_type": "markdown",
   "metadata": {},
   "source": [
    "Again, this can be visualised:"
   ]
  },
  {
   "cell_type": "code",
   "execution_count": 855,
   "metadata": {},
   "outputs": [
    {
     "data": {
      "text/html": [
       "\n",
       "\n",
       "    <div class=\"bk-root\">\n",
       "        <div class=\"bk-plotdiv\" id=\"82229706-f279-4f1c-8121-0825573d7f26\"></div>\n",
       "    </div>\n",
       "<script type=\"text/javascript\">\n",
       "  \n",
       "  (function(global) {\n",
       "    function now() {\n",
       "      return new Date();\n",
       "    }\n",
       "  \n",
       "    var force = false;\n",
       "  \n",
       "    if (typeof (window._bokeh_onload_callbacks) === \"undefined\" || force === true) {\n",
       "      window._bokeh_onload_callbacks = [];\n",
       "      window._bokeh_is_loading = undefined;\n",
       "    }\n",
       "  \n",
       "  \n",
       "    \n",
       "    if (typeof (window._bokeh_timeout) === \"undefined\" || force === true) {\n",
       "      window._bokeh_timeout = Date.now() + 0;\n",
       "      window._bokeh_failed_load = false;\n",
       "    }\n",
       "  \n",
       "    var NB_LOAD_WARNING = {'data': {'text/html':\n",
       "       \"<div style='background-color: #fdd'>\\n\"+\n",
       "       \"<p>\\n\"+\n",
       "       \"BokehJS does not appear to have successfully loaded. If loading BokehJS from CDN, this \\n\"+\n",
       "       \"may be due to a slow or bad network connection. Possible fixes:\\n\"+\n",
       "       \"</p>\\n\"+\n",
       "       \"<ul>\\n\"+\n",
       "       \"<li>re-rerun `output_notebook()` to attempt to load from CDN again, or</li>\\n\"+\n",
       "       \"<li>use INLINE resources instead, as so:</li>\\n\"+\n",
       "       \"</ul>\\n\"+\n",
       "       \"<code>\\n\"+\n",
       "       \"from bokeh.resources import INLINE\\n\"+\n",
       "       \"output_notebook(resources=INLINE)\\n\"+\n",
       "       \"</code>\\n\"+\n",
       "       \"</div>\"}};\n",
       "  \n",
       "    function display_loaded() {\n",
       "      if (window.Bokeh !== undefined) {\n",
       "        var el = document.getElementById(\"82229706-f279-4f1c-8121-0825573d7f26\");\n",
       "        el.textContent = \"BokehJS \" + Bokeh.version + \" successfully loaded.\";\n",
       "      } else if (Date.now() < window._bokeh_timeout) {\n",
       "        setTimeout(display_loaded, 100)\n",
       "      }\n",
       "    }\n",
       "  \n",
       "    function run_callbacks() {\n",
       "      window._bokeh_onload_callbacks.forEach(function(callback) { callback() });\n",
       "      delete window._bokeh_onload_callbacks\n",
       "      console.info(\"Bokeh: all callbacks have finished\");\n",
       "    }\n",
       "  \n",
       "    function load_libs(js_urls, callback) {\n",
       "      window._bokeh_onload_callbacks.push(callback);\n",
       "      if (window._bokeh_is_loading > 0) {\n",
       "        console.log(\"Bokeh: BokehJS is being loaded, scheduling callback at\", now());\n",
       "        return null;\n",
       "      }\n",
       "      if (js_urls == null || js_urls.length === 0) {\n",
       "        run_callbacks();\n",
       "        return null;\n",
       "      }\n",
       "      console.log(\"Bokeh: BokehJS not loaded, scheduling load and callback at\", now());\n",
       "      window._bokeh_is_loading = js_urls.length;\n",
       "      for (var i = 0; i < js_urls.length; i++) {\n",
       "        var url = js_urls[i];\n",
       "        var s = document.createElement('script');\n",
       "        s.src = url;\n",
       "        s.async = false;\n",
       "        s.onreadystatechange = s.onload = function() {\n",
       "          window._bokeh_is_loading--;\n",
       "          if (window._bokeh_is_loading === 0) {\n",
       "            console.log(\"Bokeh: all BokehJS libraries loaded\");\n",
       "            run_callbacks()\n",
       "          }\n",
       "        };\n",
       "        s.onerror = function() {\n",
       "          console.warn(\"failed to load library \" + url);\n",
       "        };\n",
       "        console.log(\"Bokeh: injecting script tag for BokehJS library: \", url);\n",
       "        document.getElementsByTagName(\"head\")[0].appendChild(s);\n",
       "      }\n",
       "    };var element = document.getElementById(\"82229706-f279-4f1c-8121-0825573d7f26\");\n",
       "    if (element == null) {\n",
       "      console.log(\"Bokeh: ERROR: autoload.js configured with elementid '82229706-f279-4f1c-8121-0825573d7f26' but no matching script tag was found. \")\n",
       "      return false;\n",
       "    }\n",
       "  \n",
       "    var js_urls = [];\n",
       "  \n",
       "    var inline_js = [\n",
       "      function(Bokeh) {\n",
       "        (function() {\n",
       "          var fn = function() {\n",
       "            var docs_json = {\"9f890008-32ac-466c-ae8b-d4ea3a463717\":{\"roots\":{\"references\":[{\"attributes\":{\"fill_alpha\":{\"field\":\"fill_alpha\"},\"fill_color\":{\"field\":\"color\"},\"height\":{\"field\":\"height\",\"units\":\"data\"},\"line_color\":{\"field\":\"line_color\"},\"width\":{\"field\":\"width\",\"units\":\"data\"},\"x\":{\"field\":\"x\"},\"y\":{\"field\":\"y\"}},\"id\":\"ae7440c8-b60f-4592-ad5b-8146b8e711db\",\"type\":\"Rect\"},{\"attributes\":{\"callback\":null,\"column_names\":[\"x\",\"y\",\"width\",\"height\",\"color\",\"fill_alpha\",\"line_color\",\"line_alpha\",\"label\"],\"data\":{\"chart_index\":[\"(18.905759, 19.900524]\"],\"color\":[\"#f22c40\"],\"fill_alpha\":[0.8],\"height\":[3.0],\"label\":[\"(18.905759, 19.900524]\"],\"line_alpha\":[1.0],\"line_color\":[\"black\"],\"width\":[0.9947643979057581],\"x\":[\"19.4031415\"],\"y\":[1.5]}},\"id\":\"2331526d-a6e8-4ecd-9a22-2c862a66cd20\",\"type\":\"ColumnDataSource\"},{\"attributes\":{\"fill_alpha\":{\"field\":\"fill_alpha\"},\"fill_color\":{\"field\":\"color\"},\"height\":{\"field\":\"height\",\"units\":\"data\"},\"line_color\":{\"field\":\"line_color\"},\"width\":{\"field\":\"width\",\"units\":\"data\"},\"x\":{\"field\":\"x\"},\"y\":{\"field\":\"y\"}},\"id\":\"409e4307-e0ee-4584-bca5-37ca9a095227\",\"type\":\"Rect\"},{\"attributes\":{\"fill_alpha\":{\"field\":\"fill_alpha\"},\"fill_color\":{\"field\":\"color\"},\"height\":{\"field\":\"height\",\"units\":\"data\"},\"line_color\":{\"field\":\"line_color\"},\"width\":{\"field\":\"width\",\"units\":\"data\"},\"x\":{\"field\":\"x\"},\"y\":{\"field\":\"y\"}},\"id\":\"6191ea6d-7013-4d3a-90f0-c1178489195b\",\"type\":\"Rect\"},{\"attributes\":{\"callback\":null,\"column_names\":[\"x\",\"y\",\"width\",\"height\",\"color\",\"fill_alpha\",\"line_color\",\"line_alpha\",\"label\"],\"data\":{\"chart_index\":[\"(115.397906, 116.392670]\"],\"color\":[\"#f22c40\"],\"fill_alpha\":[0.8],\"height\":[0.0],\"label\":[\"(115.397906, 116.392670]\"],\"line_alpha\":[1.0],\"line_color\":[\"black\"],\"width\":[0.9947643979057545],\"x\":[\"115.895288\"],\"y\":[0.0]}},\"id\":\"145ab6d5-66f1-4020-b36d-8b2abeeac42b\",\"type\":\"ColumnDataSource\"},{\"attributes\":{\"data_source\":{\"id\":\"8a76059e-5760-459f-8e5b-297f8c637486\",\"type\":\"ColumnDataSource\"},\"glyph\":{\"id\":\"5647223d-6426-4393-946b-4d0815cce232\",\"type\":\"Rect\"},\"hover_glyph\":null,\"muted_glyph\":null},\"id\":\"c4fa96fa-3aed-4fe9-9d0d-b0f7dc103dc3\",\"type\":\"GlyphRenderer\"},{\"attributes\":{\"fill_alpha\":{\"field\":\"fill_alpha\"},\"fill_color\":{\"field\":\"color\"},\"height\":{\"field\":\"height\",\"units\":\"data\"},\"line_color\":{\"field\":\"line_color\"},\"width\":{\"field\":\"width\",\"units\":\"data\"},\"x\":{\"field\":\"x\"},\"y\":{\"field\":\"y\"}},\"id\":\"642cc08d-3878-4369-9e79-1221eea64cbe\",\"type\":\"Rect\"},{\"attributes\":{\"callback\":null,\"column_names\":[\"x\",\"y\",\"width\",\"height\",\"color\",\"fill_alpha\",\"line_color\",\"line_alpha\",\"label\"],\"data\":{\"chart_index\":[\"(17.910995, 18.905759]\"],\"color\":[\"#f22c40\"],\"fill_alpha\":[0.8],\"height\":[2.0],\"label\":[\"(17.910995, 18.905759]\"],\"line_alpha\":[1.0],\"line_color\":[\"black\"],\"width\":[0.9947643979057617],\"x\":[\"18.408377\"],\"y\":[1.0]}},\"id\":\"e00c700a-764c-462b-bc2e-3ae1e7d14645\",\"type\":\"ColumnDataSource\"},{\"attributes\":{\"callback\":null,\"column_names\":[\"x\",\"y\",\"width\",\"height\",\"color\",\"fill_alpha\",\"line_color\",\"line_alpha\",\"label\"],\"data\":{\"chart_index\":[\"(116.392670, 117.387435]\"],\"color\":[\"#f22c40\"],\"fill_alpha\":[0.8],\"height\":[0.0],\"label\":[\"(116.392670, 117.387435]\"],\"line_alpha\":[1.0],\"line_color\":[\"black\"],\"width\":[0.9947643979057545],\"x\":[\"116.8900525\"],\"y\":[0.0]}},\"id\":\"3914e3b2-bc08-4d77-b518-8d24d826f7e0\",\"type\":\"ColumnDataSource\"},{\"attributes\":{\"callback\":null,\"column_names\":[\"x\",\"y\",\"width\",\"height\",\"color\",\"fill_alpha\",\"line_color\",\"line_alpha\",\"label\"],\"data\":{\"chart_index\":[\"(119.376963, 120.371728]\"],\"color\":[\"#f22c40\"],\"fill_alpha\":[0.8],\"height\":[0.0],\"label\":[\"(119.376963, 120.371728]\"],\"line_alpha\":[1.0],\"line_color\":[\"black\"],\"width\":[0.9947643979057545],\"x\":[\"119.8743455\"],\"y\":[0.0]}},\"id\":\"a948db51-d191-4f96-a771-f57cda8e564c\",\"type\":\"ColumnDataSource\"},{\"attributes\":{\"data_source\":{\"id\":\"e00c700a-764c-462b-bc2e-3ae1e7d14645\",\"type\":\"ColumnDataSource\"},\"glyph\":{\"id\":\"ae7440c8-b60f-4592-ad5b-8146b8e711db\",\"type\":\"Rect\"},\"hover_glyph\":null,\"muted_glyph\":null},\"id\":\"1f6de0a0-cca8-42c1-b1da-a2a95d79b61b\",\"type\":\"GlyphRenderer\"},{\"attributes\":{\"data_source\":{\"id\":\"f703cdcf-b881-448c-83fe-11c80ede4878\",\"type\":\"ColumnDataSource\"},\"glyph\":{\"id\":\"0867f36e-7b5d-4c12-873f-71d7a9f8acc8\",\"type\":\"Rect\"},\"hover_glyph\":null,\"muted_glyph\":null},\"id\":\"566a5d19-db45-47c8-b1bf-029d5cb33091\",\"type\":\"GlyphRenderer\"},{\"attributes\":{\"data_source\":{\"id\":\"145ab6d5-66f1-4020-b36d-8b2abeeac42b\",\"type\":\"ColumnDataSource\"},\"glyph\":{\"id\":\"409e4307-e0ee-4584-bca5-37ca9a095227\",\"type\":\"Rect\"},\"hover_glyph\":null,\"muted_glyph\":null},\"id\":\"06d07483-5d09-4920-94e5-a0e6e89b1e10\",\"type\":\"GlyphRenderer\"},{\"attributes\":{\"callback\":null,\"column_names\":[\"x\",\"y\",\"width\",\"height\",\"color\",\"fill_alpha\",\"line_color\",\"line_alpha\",\"label\"],\"data\":{\"chart_index\":[\"(19.900524, 20.895288]\"],\"color\":[\"#f22c40\"],\"fill_alpha\":[0.8],\"height\":[5.0],\"label\":[\"(19.900524, 20.895288]\"],\"line_alpha\":[1.0],\"line_color\":[\"black\"],\"width\":[0.9947643979057581],\"x\":[\"20.397906\"],\"y\":[2.5]}},\"id\":\"e4f39a79-ed7b-4b84-927d-72a082581d6a\",\"type\":\"ColumnDataSource\"},{\"attributes\":{\"data_source\":{\"id\":\"a948db51-d191-4f96-a771-f57cda8e564c\",\"type\":\"ColumnDataSource\"},\"glyph\":{\"id\":\"b88ee3da-b295-4e94-bb26-e2ac374303aa\",\"type\":\"Rect\"},\"hover_glyph\":null,\"muted_glyph\":null},\"id\":\"a8061383-fb5d-41d7-9eeb-355a6fbf3a08\",\"type\":\"GlyphRenderer\"},{\"attributes\":{\"fill_alpha\":{\"field\":\"fill_alpha\"},\"fill_color\":{\"field\":\"color\"},\"height\":{\"field\":\"height\",\"units\":\"data\"},\"line_color\":{\"field\":\"line_color\"},\"width\":{\"field\":\"width\",\"units\":\"data\"},\"x\":{\"field\":\"x\"},\"y\":{\"field\":\"y\"}},\"id\":\"5095b153-58e1-4c80-b4a2-b5b36f48cad4\",\"type\":\"Rect\"},{\"attributes\":{\"fill_alpha\":{\"field\":\"fill_alpha\"},\"fill_color\":{\"field\":\"color\"},\"height\":{\"field\":\"height\",\"units\":\"data\"},\"line_color\":{\"field\":\"line_color\"},\"width\":{\"field\":\"width\",\"units\":\"data\"},\"x\":{\"field\":\"x\"},\"y\":{\"field\":\"y\"}},\"id\":\"d55c6761-bef7-442e-8edb-ce17ffc4f339\",\"type\":\"Rect\"},{\"attributes\":{\"data_source\":{\"id\":\"40e92108-9328-4e31-822a-a3a4cbbedf32\",\"type\":\"ColumnDataSource\"},\"glyph\":{\"id\":\"2662b55e-44fa-4cbb-91e2-462b6608b437\",\"type\":\"Rect\"},\"hover_glyph\":null,\"muted_glyph\":null},\"id\":\"3a70fb81-40a7-4b4c-9e57-29ce09c0c377\",\"type\":\"GlyphRenderer\"},{\"attributes\":{\"callback\":null,\"column_names\":[\"x\",\"y\",\"width\",\"height\",\"color\",\"fill_alpha\",\"line_color\",\"line_alpha\",\"label\"],\"data\":{\"chart_index\":[\"(32.832461, 33.827225]\"],\"color\":[\"#f22c40\"],\"fill_alpha\":[0.8],\"height\":[6.0],\"label\":[\"(32.832461, 33.827225]\"],\"line_alpha\":[1.0],\"line_color\":[\"black\"],\"width\":[0.9947643979057617],\"x\":[\"33.329843\"],\"y\":[3.0]}},\"id\":\"a524434a-7ca0-4394-886a-97ce5e33b3d6\",\"type\":\"ColumnDataSource\"},{\"attributes\":{\"data_source\":{\"id\":\"2331526d-a6e8-4ecd-9a22-2c862a66cd20\",\"type\":\"ColumnDataSource\"},\"glyph\":{\"id\":\"6191ea6d-7013-4d3a-90f0-c1178489195b\",\"type\":\"Rect\"},\"hover_glyph\":null,\"muted_glyph\":null},\"id\":\"b540cce7-149f-4c38-8f65-3d4590ebf40b\",\"type\":\"GlyphRenderer\"},{\"attributes\":{\"data_source\":{\"id\":\"3914e3b2-bc08-4d77-b518-8d24d826f7e0\",\"type\":\"ColumnDataSource\"},\"glyph\":{\"id\":\"642cc08d-3878-4369-9e79-1221eea64cbe\",\"type\":\"Rect\"},\"hover_glyph\":null,\"muted_glyph\":null},\"id\":\"dd964677-6b0f-4952-8224-def6d5f013ed\",\"type\":\"GlyphRenderer\"},{\"attributes\":{\"fill_alpha\":{\"field\":\"fill_alpha\"},\"fill_color\":{\"field\":\"color\"},\"height\":{\"field\":\"height\",\"units\":\"data\"},\"line_color\":{\"field\":\"line_color\"},\"width\":{\"field\":\"width\",\"units\":\"data\"},\"x\":{\"field\":\"x\"},\"y\":{\"field\":\"y\"}},\"id\":\"20b53685-b682-4e76-a2da-43160549193b\",\"type\":\"Rect\"},{\"attributes\":{\"callback\":null,\"column_names\":[\"x\",\"y\",\"width\",\"height\",\"color\",\"fill_alpha\",\"line_color\",\"line_alpha\",\"label\"],\"data\":{\"chart_index\":[\"(151.209424, 152.204188]\"],\"color\":[\"#f22c40\"],\"fill_alpha\":[0.8],\"height\":[0.0],\"label\":[\"(151.209424, 152.204188]\"],\"line_alpha\":[1.0],\"line_color\":[\"black\"],\"width\":[0.9947643979057545],\"x\":[\"151.706806\"],\"y\":[0.0]}},\"id\":\"f3e2a74e-848e-46a7-a2e1-6ddcec8dbce7\",\"type\":\"ColumnDataSource\"},{\"attributes\":{\"fill_alpha\":{\"field\":\"fill_alpha\"},\"fill_color\":{\"field\":\"color\"},\"height\":{\"field\":\"height\",\"units\":\"data\"},\"line_color\":{\"field\":\"line_color\"},\"width\":{\"field\":\"width\",\"units\":\"data\"},\"x\":{\"field\":\"x\"},\"y\":{\"field\":\"y\"}},\"id\":\"3824fbcd-0060-49a2-b3fe-cfc8dbd2f55a\",\"type\":\"Rect\"},{\"attributes\":{\"fill_alpha\":{\"field\":\"fill_alpha\"},\"fill_color\":{\"field\":\"color\"},\"height\":{\"field\":\"height\",\"units\":\"data\"},\"line_color\":{\"field\":\"line_color\"},\"width\":{\"field\":\"width\",\"units\":\"data\"},\"x\":{\"field\":\"x\"},\"y\":{\"field\":\"y\"}},\"id\":\"d08ec2c9-7cbd-4c2f-a74e-f800fa7430c2\",\"type\":\"Rect\"},{\"attributes\":{\"callback\":null,\"column_names\":[\"x\",\"y\",\"width\",\"height\",\"color\",\"fill_alpha\",\"line_color\",\"line_alpha\",\"label\"],\"data\":{\"chart_index\":[\"(185.031414, 186.026178]\"],\"color\":[\"#f22c40\"],\"fill_alpha\":[0.8],\"height\":[0.0],\"label\":[\"(185.031414, 186.026178]\"],\"line_alpha\":[1.0],\"line_color\":[\"black\"],\"width\":[0.994764397905783],\"x\":[\"185.528796\"],\"y\":[0.0]}},\"id\":\"a1c6e68b-560e-43cd-868b-f44458db2dba\",\"type\":\"ColumnDataSource\"},{\"attributes\":{\"fill_alpha\":{\"field\":\"fill_alpha\"},\"fill_color\":{\"field\":\"color\"},\"height\":{\"field\":\"height\",\"units\":\"data\"},\"line_color\":{\"field\":\"line_color\"},\"width\":{\"field\":\"width\",\"units\":\"data\"},\"x\":{\"field\":\"x\"},\"y\":{\"field\":\"y\"}},\"id\":\"88d80b4a-c302-4859-b8cd-48306a71661d\",\"type\":\"Rect\"},{\"attributes\":{\"fill_alpha\":{\"field\":\"fill_alpha\"},\"fill_color\":{\"field\":\"color\"},\"height\":{\"field\":\"height\",\"units\":\"data\"},\"line_color\":{\"field\":\"line_color\"},\"width\":{\"field\":\"width\",\"units\":\"data\"},\"x\":{\"field\":\"x\"},\"y\":{\"field\":\"y\"}},\"id\":\"4d3afe19-7a05-4fae-a984-6ebbafed9da9\",\"type\":\"Rect\"},{\"attributes\":{\"fill_alpha\":{\"field\":\"fill_alpha\"},\"fill_color\":{\"field\":\"color\"},\"height\":{\"field\":\"height\",\"units\":\"data\"},\"line_color\":{\"field\":\"line_color\"},\"width\":{\"field\":\"width\",\"units\":\"data\"},\"x\":{\"field\":\"x\"},\"y\":{\"field\":\"y\"}},\"id\":\"b7b612cb-cfb6-4734-8b8a-6fa203563edc\",\"type\":\"Rect\"},{\"attributes\":{\"callback\":null,\"column_names\":[\"x\",\"y\",\"width\",\"height\",\"color\",\"fill_alpha\",\"line_color\",\"line_alpha\",\"label\"],\"data\":{\"chart_index\":[\"(85.554974, 86.549738]\"],\"color\":[\"#f22c40\"],\"fill_alpha\":[0.8],\"height\":[0.0],\"label\":[\"(85.554974, 86.549738]\"],\"line_alpha\":[1.0],\"line_color\":[\"black\"],\"width\":[0.9947643979057545],\"x\":[\"86.052356\"],\"y\":[0.0]}},\"id\":\"c4098df1-4870-4dbf-adfe-38857f1276db\",\"type\":\"ColumnDataSource\"},{\"attributes\":{\"callback\":null,\"column_names\":[\"x\",\"y\",\"width\",\"height\",\"color\",\"fill_alpha\",\"line_color\",\"line_alpha\",\"label\"],\"data\":{\"chart_index\":[\"(152.204188, 153.198953]\"],\"color\":[\"#f22c40\"],\"fill_alpha\":[0.8],\"height\":[0.0],\"label\":[\"(152.204188, 153.198953]\"],\"line_alpha\":[1.0],\"line_color\":[\"black\"],\"width\":[0.9947643979057545],\"x\":[\"152.7015705\"],\"y\":[0.0]}},\"id\":\"39f9be3f-8ba8-4294-acb9-9f7d43bec3fe\",\"type\":\"ColumnDataSource\"},{\"attributes\":{\"fill_alpha\":{\"field\":\"fill_alpha\"},\"fill_color\":{\"field\":\"color\"},\"height\":{\"field\":\"height\",\"units\":\"data\"},\"line_color\":{\"field\":\"line_color\"},\"width\":{\"field\":\"width\",\"units\":\"data\"},\"x\":{\"field\":\"x\"},\"y\":{\"field\":\"y\"}},\"id\":\"d3d422ed-592b-4cc2-8683-710520b13d02\",\"type\":\"Rect\"},{\"attributes\":{\"callback\":null,\"column_names\":[\"x\",\"y\",\"width\",\"height\",\"color\",\"fill_alpha\",\"line_color\",\"line_alpha\",\"label\"],\"data\":{\"chart_index\":[\"(84.560209, 85.554974]\"],\"color\":[\"#f22c40\"],\"fill_alpha\":[0.8],\"height\":[0.0],\"label\":[\"(84.560209, 85.554974]\"],\"line_alpha\":[1.0],\"line_color\":[\"black\"],\"width\":[0.9947643979057545],\"x\":[\"85.0575915\"],\"y\":[0.0]}},\"id\":\"668aaa26-22a2-4d65-8572-133033a9140b\",\"type\":\"ColumnDataSource\"},{\"attributes\":{\"callback\":null,\"column_names\":[\"x\",\"y\",\"width\",\"height\",\"color\",\"fill_alpha\",\"line_color\",\"line_alpha\",\"label\"],\"data\":{\"chart_index\":[\"(88.539267, 89.534031]\"],\"color\":[\"#f22c40\"],\"fill_alpha\":[0.8],\"height\":[0.0],\"label\":[\"(88.539267, 89.534031]\"],\"line_alpha\":[1.0],\"line_color\":[\"black\"],\"width\":[0.9947643979057545],\"x\":[\"89.036649\"],\"y\":[0.0]}},\"id\":\"23c8bbba-8261-499c-a6cf-e4c3278d39b1\",\"type\":\"ColumnDataSource\"},{\"attributes\":{\"data_source\":{\"id\":\"f3e2a74e-848e-46a7-a2e1-6ddcec8dbce7\",\"type\":\"ColumnDataSource\"},\"glyph\":{\"id\":\"d08ec2c9-7cbd-4c2f-a74e-f800fa7430c2\",\"type\":\"Rect\"},\"hover_glyph\":null,\"muted_glyph\":null},\"id\":\"1d0a8a1d-e4dc-4118-8de9-a4a12b6b2ccd\",\"type\":\"GlyphRenderer\"},{\"attributes\":{\"callback\":null,\"column_names\":[\"x\",\"y\",\"width\",\"height\",\"color\",\"fill_alpha\",\"line_color\",\"line_alpha\",\"label\"],\"data\":{\"chart_index\":[\"(184.036649, 185.031414]\"],\"color\":[\"#f22c40\"],\"fill_alpha\":[0.8],\"height\":[0.0],\"label\":[\"(184.036649, 185.031414]\"],\"line_alpha\":[1.0],\"line_color\":[\"black\"],\"width\":[0.9947643979057545],\"x\":[\"184.53403150000003\"],\"y\":[0.0]}},\"id\":\"cd74acc1-7ca7-4e83-8633-7bfd8e836502\",\"type\":\"ColumnDataSource\"},{\"attributes\":{\"data_source\":{\"id\":\"668aaa26-22a2-4d65-8572-133033a9140b\",\"type\":\"ColumnDataSource\"},\"glyph\":{\"id\":\"88d80b4a-c302-4859-b8cd-48306a71661d\",\"type\":\"Rect\"},\"hover_glyph\":null,\"muted_glyph\":null},\"id\":\"1e858b36-99f3-4b7b-8a1f-e949e29c6a2d\",\"type\":\"GlyphRenderer\"},{\"attributes\":{\"data_source\":{\"id\":\"cd74acc1-7ca7-4e83-8633-7bfd8e836502\",\"type\":\"ColumnDataSource\"},\"glyph\":{\"id\":\"b7b612cb-cfb6-4734-8b8a-6fa203563edc\",\"type\":\"Rect\"},\"hover_glyph\":null,\"muted_glyph\":null},\"id\":\"67843604-c072-42f2-81f5-45d9a253a9ec\",\"type\":\"GlyphRenderer\"},{\"attributes\":{\"fill_alpha\":{\"field\":\"fill_alpha\"},\"fill_color\":{\"field\":\"color\"},\"height\":{\"field\":\"height\",\"units\":\"data\"},\"line_color\":{\"field\":\"line_color\"},\"width\":{\"field\":\"width\",\"units\":\"data\"},\"x\":{\"field\":\"x\"},\"y\":{\"field\":\"y\"}},\"id\":\"fe11e2d2-6891-481a-89f3-1727a06f7db5\",\"type\":\"Rect\"},{\"attributes\":{\"fill_alpha\":{\"field\":\"fill_alpha\"},\"fill_color\":{\"field\":\"color\"},\"height\":{\"field\":\"height\",\"units\":\"data\"},\"line_color\":{\"field\":\"line_color\"},\"width\":{\"field\":\"width\",\"units\":\"data\"},\"x\":{\"field\":\"x\"},\"y\":{\"field\":\"y\"}},\"id\":\"2077a4a7-323a-4bb6-856b-842f640b28c9\",\"type\":\"Rect\"},{\"attributes\":{\"callback\":null,\"column_names\":[\"x\",\"y\",\"width\",\"height\",\"color\",\"fill_alpha\",\"line_color\",\"line_alpha\",\"label\"],\"data\":{\"chart_index\":[\"(186.026178, 187.020942]\"],\"color\":[\"#f22c40\"],\"fill_alpha\":[0.8],\"height\":[0.0],\"label\":[\"(186.026178, 187.020942]\"],\"line_alpha\":[1.0],\"line_color\":[\"black\"],\"width\":[0.9947643979057545],\"x\":[\"186.52355999999997\"],\"y\":[0.0]}},\"id\":\"d2482a18-4040-4f7b-946b-32c88dcd6cee\",\"type\":\"ColumnDataSource\"},{\"attributes\":{\"fill_alpha\":{\"field\":\"fill_alpha\"},\"fill_color\":{\"field\":\"color\"},\"height\":{\"field\":\"height\",\"units\":\"data\"},\"line_color\":{\"field\":\"line_color\"},\"width\":{\"field\":\"width\",\"units\":\"data\"},\"x\":{\"field\":\"x\"},\"y\":{\"field\":\"y\"}},\"id\":\"8d58fdb0-7b8c-4321-a233-a9450a2d3762\",\"type\":\"Rect\"},{\"attributes\":{\"callback\":null,\"column_names\":[\"x\",\"y\",\"width\",\"height\",\"color\",\"fill_alpha\",\"line_color\",\"line_alpha\",\"label\"],\"data\":{\"chart_index\":[\"(153.198953, 154.193717]\"],\"color\":[\"#f22c40\"],\"fill_alpha\":[0.8],\"height\":[0.0],\"label\":[\"(153.198953, 154.193717]\"],\"line_alpha\":[1.0],\"line_color\":[\"black\"],\"width\":[0.9947643979057545],\"x\":[\"153.69633499999998\"],\"y\":[0.0]}},\"id\":\"dcb0731b-6c40-474c-81e6-39b62ba6eac0\",\"type\":\"ColumnDataSource\"},{\"attributes\":{\"axis_label\":\"Count( Location-Id-Code )\",\"formatter\":{\"id\":\"75a0a6c8-4a18-47e8-8cfd-0f734ad8ae2c\",\"type\":\"BasicTickFormatter\"},\"plot\":{\"id\":\"53d9fb3e-3964-4a30-990b-e28fa9d24964\",\"subtype\":\"Chart\",\"type\":\"Plot\"},\"ticker\":{\"id\":\"e70d7d40-a1e9-4fdb-a6a3-3eedbbefe35c\",\"type\":\"BasicTicker\"}},\"id\":\"9e4304ee-48b6-4a11-86c9-2daa900a054b\",\"type\":\"LinearAxis\"},{\"attributes\":{\"data_source\":{\"id\":\"39f9be3f-8ba8-4294-acb9-9f7d43bec3fe\",\"type\":\"ColumnDataSource\"},\"glyph\":{\"id\":\"4d3afe19-7a05-4fae-a984-6ebbafed9da9\",\"type\":\"Rect\"},\"hover_glyph\":null,\"muted_glyph\":null},\"id\":\"10b09bc5-e517-4abc-a75e-e7a93c231c82\",\"type\":\"GlyphRenderer\"},{\"attributes\":{\"data_source\":{\"id\":\"c4098df1-4870-4dbf-adfe-38857f1276db\",\"type\":\"ColumnDataSource\"},\"glyph\":{\"id\":\"3824fbcd-0060-49a2-b3fe-cfc8dbd2f55a\",\"type\":\"Rect\"},\"hover_glyph\":null,\"muted_glyph\":null},\"id\":\"c9be751d-478a-4ac0-b13d-8e0163088d45\",\"type\":\"GlyphRenderer\"},{\"attributes\":{\"data_source\":{\"id\":\"876c7d1b-a4e9-4982-890e-024d16291bd3\",\"type\":\"ColumnDataSource\"},\"glyph\":{\"id\":\"9311ce6b-0676-4e70-9a82-3ac08879ee2d\",\"type\":\"Rect\"},\"hover_glyph\":null,\"muted_glyph\":null},\"id\":\"30288ba7-56b2-477c-a9ae-86db16ddcb27\",\"type\":\"GlyphRenderer\"},{\"attributes\":{\"data_source\":{\"id\":\"fc78656c-49e5-471c-adb5-4d40fee02abb\",\"type\":\"ColumnDataSource\"},\"glyph\":{\"id\":\"eb157917-50ac-4391-a40c-0374db846bb2\",\"type\":\"Rect\"},\"hover_glyph\":null,\"muted_glyph\":null},\"id\":\"117b349d-a9f4-4c94-8f6f-f2cca58160d5\",\"type\":\"GlyphRenderer\"},{\"attributes\":{\"data_source\":{\"id\":\"a1c6e68b-560e-43cd-868b-f44458db2dba\",\"type\":\"ColumnDataSource\"},\"glyph\":{\"id\":\"d3d422ed-592b-4cc2-8683-710520b13d02\",\"type\":\"Rect\"},\"hover_glyph\":null,\"muted_glyph\":null},\"id\":\"28a9c2d9-7aff-4131-b40e-0bd63df7528c\",\"type\":\"GlyphRenderer\"},{\"attributes\":{\"data_source\":{\"id\":\"714a08ec-be3c-4669-98d3-bb9de7660ffb\",\"type\":\"ColumnDataSource\"},\"glyph\":{\"id\":\"2077a4a7-323a-4bb6-856b-842f640b28c9\",\"type\":\"Rect\"},\"hover_glyph\":null,\"muted_glyph\":null},\"id\":\"e4944d6a-fd6d-43d9-bd24-2ff73a3d16e6\",\"type\":\"GlyphRenderer\"},{\"attributes\":{\"fill_alpha\":{\"field\":\"fill_alpha\"},\"fill_color\":{\"field\":\"color\"},\"height\":{\"field\":\"height\",\"units\":\"data\"},\"line_color\":{\"field\":\"line_color\"},\"width\":{\"field\":\"width\",\"units\":\"data\"},\"x\":{\"field\":\"x\"},\"y\":{\"field\":\"y\"}},\"id\":\"ae06bace-363d-4283-aa19-2d2636995e7f\",\"type\":\"Rect\"},{\"attributes\":{\"callback\":null,\"column_names\":[\"x\",\"y\",\"width\",\"height\",\"color\",\"fill_alpha\",\"line_color\",\"line_alpha\",\"label\"],\"data\":{\"chart_index\":[\"(86.549738, 87.544503]\"],\"color\":[\"#f22c40\"],\"fill_alpha\":[0.8],\"height\":[1.0],\"label\":[\"(86.549738, 87.544503]\"],\"line_alpha\":[1.0],\"line_color\":[\"black\"],\"width\":[0.9947643979057688],\"x\":[\"87.0471205\"],\"y\":[0.5]}},\"id\":\"714a08ec-be3c-4669-98d3-bb9de7660ffb\",\"type\":\"ColumnDataSource\"},{\"attributes\":{\"axis_label\":\"location-id-code\",\"formatter\":{\"id\":\"d7e24eb3-7331-417c-a1ae-f84a29bbd350\",\"type\":\"BasicTickFormatter\"},\"plot\":{\"id\":\"53d9fb3e-3964-4a30-990b-e28fa9d24964\",\"subtype\":\"Chart\",\"type\":\"Plot\"},\"ticker\":{\"id\":\"a619a346-a317-4f1a-8f53-764a29ad24f3\",\"type\":\"BasicTicker\"}},\"id\":\"9d25aa86-2e88-41d5-afc3-e2b0f2b073ba\",\"type\":\"LinearAxis\"},{\"attributes\":{\"data_source\":{\"id\":\"dcb0731b-6c40-474c-81e6-39b62ba6eac0\",\"type\":\"ColumnDataSource\"},\"glyph\":{\"id\":\"fe11e2d2-6891-481a-89f3-1727a06f7db5\",\"type\":\"Rect\"},\"hover_glyph\":null,\"muted_glyph\":null},\"id\":\"2dc97a7a-26df-4e48-9112-17d3a41c4030\",\"type\":\"GlyphRenderer\"},{\"attributes\":{\"data_source\":{\"id\":\"23c8bbba-8261-499c-a6cf-e4c3278d39b1\",\"type\":\"ColumnDataSource\"},\"glyph\":{\"id\":\"45a1c39a-b485-41e4-b113-b7e03260a831\",\"type\":\"Rect\"},\"hover_glyph\":null,\"muted_glyph\":null},\"id\":\"317af6de-20c5-4a16-8b89-5d52f2dfa43b\",\"type\":\"GlyphRenderer\"},{\"attributes\":{\"callback\":null,\"column_names\":[\"x\",\"y\",\"width\",\"height\",\"color\",\"fill_alpha\",\"line_color\",\"line_alpha\",\"label\"],\"data\":{\"chart_index\":[\"(53.722513, 54.717277]\"],\"color\":[\"#f22c40\"],\"fill_alpha\":[0.8],\"height\":[0.0],\"label\":[\"(53.722513, 54.717277]\"],\"line_alpha\":[1.0],\"line_color\":[\"black\"],\"width\":[0.9947643979057545],\"x\":[\"54.219895\"],\"y\":[0.0]}},\"id\":\"9da564a5-7514-4833-b6b4-93c2b4ac0c81\",\"type\":\"ColumnDataSource\"},{\"attributes\":{\"fill_alpha\":{\"field\":\"fill_alpha\"},\"fill_color\":{\"field\":\"color\"},\"height\":{\"field\":\"height\",\"units\":\"data\"},\"line_color\":{\"field\":\"line_color\"},\"width\":{\"field\":\"width\",\"units\":\"data\"},\"x\":{\"field\":\"x\"},\"y\":{\"field\":\"y\"}},\"id\":\"432b1da7-0123-470d-9173-bc4a672632e8\",\"type\":\"Rect\"},{\"attributes\":{\"callback\":null,\"column_names\":[\"x\",\"y\",\"width\",\"height\",\"color\",\"fill_alpha\",\"line_color\",\"line_alpha\",\"label\"],\"data\":{\"chart_index\":[\"(121.366492, 122.361257]\"],\"color\":[\"#f22c40\"],\"fill_alpha\":[0.8],\"height\":[0.0],\"label\":[\"(121.366492, 122.361257]\"],\"line_alpha\":[1.0],\"line_color\":[\"black\"],\"width\":[0.9947643979057545],\"x\":[\"121.8638745\"],\"y\":[0.0]}},\"id\":\"f3b5948b-c962-4a94-94a5-bafe0cf2fe42\",\"type\":\"ColumnDataSource\"},{\"attributes\":{\"callback\":null,\"column_names\":[\"x\",\"y\",\"width\",\"height\",\"color\",\"fill_alpha\",\"line_color\",\"line_alpha\",\"label\"],\"data\":{\"chart_index\":[\"(54.717277, 55.712042]\"],\"color\":[\"#f22c40\"],\"fill_alpha\":[0.8],\"height\":[1.0],\"label\":[\"(54.717277, 55.712042]\"],\"line_alpha\":[1.0],\"line_color\":[\"black\"],\"width\":[0.9947643979057617],\"x\":[\"55.214659499999996\"],\"y\":[0.5]}},\"id\":\"a116e089-0929-4eb6-bdf8-be0d6df0f981\",\"type\":\"ColumnDataSource\"},{\"attributes\":{\"fill_alpha\":{\"field\":\"fill_alpha\"},\"fill_color\":{\"field\":\"color\"},\"height\":{\"field\":\"height\",\"units\":\"data\"},\"line_color\":{\"field\":\"line_color\"},\"width\":{\"field\":\"width\",\"units\":\"data\"},\"x\":{\"field\":\"x\"},\"y\":{\"field\":\"y\"}},\"id\":\"37a02570-8805-45c1-9982-f6a0a751df2f\",\"type\":\"Rect\"},{\"attributes\":{\"callback\":null,\"column_names\":[\"x\",\"y\",\"width\",\"height\",\"color\",\"fill_alpha\",\"line_color\",\"line_alpha\",\"label\"],\"data\":{\"chart_index\":[\"(20.895288, 21.890052]\"],\"color\":[\"#f22c40\"],\"fill_alpha\":[0.8],\"height\":[1.0],\"label\":[\"(20.895288, 21.890052]\"],\"line_alpha\":[1.0],\"line_color\":[\"black\"],\"width\":[0.9947643979057617],\"x\":[\"21.392670000000003\"],\"y\":[0.5]}},\"id\":\"540d6b29-0a77-48ce-896d-ccf9255b3b83\",\"type\":\"ColumnDataSource\"},{\"attributes\":{\"callback\":null,\"column_names\":[\"x\",\"y\",\"width\",\"height\",\"color\",\"fill_alpha\",\"line_color\",\"line_alpha\",\"label\"],\"data\":{\"chart_index\":[\"(187.020942, 188.015707]\"],\"color\":[\"#f22c40\"],\"fill_alpha\":[0.8],\"height\":[0.0],\"label\":[\"(187.020942, 188.015707]\"],\"line_alpha\":[1.0],\"line_color\":[\"black\"],\"width\":[0.9947643979057545],\"x\":[\"187.5183245\"],\"y\":[0.0]}},\"id\":\"06490633-9fb3-4a34-adea-955dad1183b8\",\"type\":\"ColumnDataSource\"},{\"attributes\":{\"data_source\":{\"id\":\"e4f39a79-ed7b-4b84-927d-72a082581d6a\",\"type\":\"ColumnDataSource\"},\"glyph\":{\"id\":\"5095b153-58e1-4c80-b4a2-b5b36f48cad4\",\"type\":\"Rect\"},\"hover_glyph\":null,\"muted_glyph\":null},\"id\":\"66fe5b28-9e5e-410e-9c15-c12731cdfb4c\",\"type\":\"GlyphRenderer\"},{\"attributes\":{\"fill_alpha\":{\"field\":\"fill_alpha\"},\"fill_color\":{\"field\":\"color\"},\"height\":{\"field\":\"height\",\"units\":\"data\"},\"line_color\":{\"field\":\"line_color\"},\"width\":{\"field\":\"width\",\"units\":\"data\"},\"x\":{\"field\":\"x\"},\"y\":{\"field\":\"y\"}},\"id\":\"0d59d542-fd98-48cd-ac78-a0138ffd53c8\",\"type\":\"Rect\"},{\"attributes\":{\"data_source\":{\"id\":\"d2482a18-4040-4f7b-946b-32c88dcd6cee\",\"type\":\"ColumnDataSource\"},\"glyph\":{\"id\":\"8d58fdb0-7b8c-4321-a233-a9450a2d3762\",\"type\":\"Rect\"},\"hover_glyph\":null,\"muted_glyph\":null},\"id\":\"13b11277-3da8-4c56-b7e6-8eec4e2654ed\",\"type\":\"GlyphRenderer\"},{\"attributes\":{\"fill_alpha\":{\"field\":\"fill_alpha\"},\"fill_color\":{\"field\":\"color\"},\"height\":{\"field\":\"height\",\"units\":\"data\"},\"line_color\":{\"field\":\"line_color\"},\"width\":{\"field\":\"width\",\"units\":\"data\"},\"x\":{\"field\":\"x\"},\"y\":{\"field\":\"y\"}},\"id\":\"22df4e89-807b-43ba-9a05-58e69d2f9ce9\",\"type\":\"Rect\"},{\"attributes\":{\"fill_alpha\":{\"field\":\"fill_alpha\"},\"fill_color\":{\"field\":\"color\"},\"height\":{\"field\":\"height\",\"units\":\"data\"},\"line_color\":{\"field\":\"line_color\"},\"width\":{\"field\":\"width\",\"units\":\"data\"},\"x\":{\"field\":\"x\"},\"y\":{\"field\":\"y\"}},\"id\":\"8c1a3247-7e89-4c56-b68a-a0e785470ce2\",\"type\":\"Rect\"},{\"attributes\":{\"fill_alpha\":{\"field\":\"fill_alpha\"},\"fill_color\":{\"field\":\"color\"},\"height\":{\"field\":\"height\",\"units\":\"data\"},\"line_color\":{\"field\":\"line_color\"},\"width\":{\"field\":\"width\",\"units\":\"data\"},\"x\":{\"field\":\"x\"},\"y\":{\"field\":\"y\"}},\"id\":\"48d1e206-8d62-4b9d-a926-973504bdf0cd\",\"type\":\"Rect\"},{\"attributes\":{\"callback\":null,\"column_names\":[\"x\",\"y\",\"width\",\"height\",\"color\",\"fill_alpha\",\"line_color\",\"line_alpha\",\"label\"],\"data\":{\"chart_index\":[\"(21.890052, 22.884817]\"],\"color\":[\"#f22c40\"],\"fill_alpha\":[0.8],\"height\":[3.0],\"label\":[\"(21.890052, 22.884817]\"],\"line_alpha\":[1.0],\"line_color\":[\"black\"],\"width\":[0.9947643979057581],\"x\":[\"22.3874345\"],\"y\":[1.5]}},\"id\":\"54dca098-71a3-4fc4-978d-fdf88a962a29\",\"type\":\"ColumnDataSource\"},{\"attributes\":{\"callback\":null,\"column_names\":[\"x\",\"y\",\"width\",\"height\",\"color\",\"fill_alpha\",\"line_color\",\"line_alpha\",\"label\"],\"data\":{\"chart_index\":[\"(51.732984, 52.727749]\"],\"color\":[\"#f22c40\"],\"fill_alpha\":[0.8],\"height\":[0.0],\"label\":[\"(51.732984, 52.727749]\"],\"line_alpha\":[1.0],\"line_color\":[\"black\"],\"width\":[0.9947643979057617],\"x\":[\"52.2303665\"],\"y\":[0.0]}},\"id\":\"1acd0659-1b9c-4e2c-bc66-d7d6e7960786\",\"type\":\"ColumnDataSource\"},{\"attributes\":{\"callback\":null,\"column_names\":[\"x\",\"y\",\"width\",\"height\",\"color\",\"fill_alpha\",\"line_color\",\"line_alpha\",\"label\"],\"data\":{\"chart_index\":[\"(188.015707, 189.010471]\"],\"color\":[\"#f22c40\"],\"fill_alpha\":[0.8],\"height\":[0.0],\"label\":[\"(188.015707, 189.010471]\"],\"line_alpha\":[1.0],\"line_color\":[\"black\"],\"width\":[0.9947643979057545],\"x\":[\"188.51308899999998\"],\"y\":[0.0]}},\"id\":\"bfbad86e-2649-4ec8-b2b5-6ec10fca8b38\",\"type\":\"ColumnDataSource\"},{\"attributes\":{\"data_source\":{\"id\":\"1acd0659-1b9c-4e2c-bc66-d7d6e7960786\",\"type\":\"ColumnDataSource\"},\"glyph\":{\"id\":\"108dc806-59a5-4430-b2c1-d099a8eddff5\",\"type\":\"Rect\"},\"hover_glyph\":null,\"muted_glyph\":null},\"id\":\"2419e0a8-9095-4f9a-82b3-8d633a7e799e\",\"type\":\"GlyphRenderer\"},{\"attributes\":{\"callback\":null,\"column_names\":[\"x\",\"y\",\"width\",\"height\",\"color\",\"fill_alpha\",\"line_color\",\"line_alpha\",\"label\"],\"data\":{\"chart_index\":[\"(120.371728, 121.366492]\"],\"color\":[\"#f22c40\"],\"fill_alpha\":[0.8],\"height\":[0.0],\"label\":[\"(120.371728, 121.366492]\"],\"line_alpha\":[1.0],\"line_color\":[\"black\"],\"width\":[0.9947643979057688],\"x\":[\"120.86911\"],\"y\":[0.0]}},\"id\":\"ce271297-fc8e-4edd-bfc6-0b8df34b3758\",\"type\":\"ColumnDataSource\"},{\"attributes\":{\"data_source\":{\"id\":\"ce271297-fc8e-4edd-bfc6-0b8df34b3758\",\"type\":\"ColumnDataSource\"},\"glyph\":{\"id\":\"d55c6761-bef7-442e-8edb-ce17ffc4f339\",\"type\":\"Rect\"},\"hover_glyph\":null,\"muted_glyph\":null},\"id\":\"10d415ec-cbb1-4cfd-bba6-0b1239410a06\",\"type\":\"GlyphRenderer\"},{\"attributes\":{\"data_source\":{\"id\":\"9da564a5-7514-4833-b6b4-93c2b4ac0c81\",\"type\":\"ColumnDataSource\"},\"glyph\":{\"id\":\"e641f920-6981-4235-b4db-a7c4cf32eb8f\",\"type\":\"Rect\"},\"hover_glyph\":null,\"muted_glyph\":null},\"id\":\"7172eca6-bd69-4bcf-b4e4-4e5eebcebcc2\",\"type\":\"GlyphRenderer\"},{\"attributes\":{\"fill_alpha\":{\"field\":\"fill_alpha\"},\"fill_color\":{\"field\":\"color\"},\"height\":{\"field\":\"height\",\"units\":\"data\"},\"line_color\":{\"field\":\"line_color\"},\"width\":{\"field\":\"width\",\"units\":\"data\"},\"x\":{\"field\":\"x\"},\"y\":{\"field\":\"y\"}},\"id\":\"b4e84377-4fbc-4b50-9117-2fd99c102b32\",\"type\":\"Rect\"},{\"attributes\":{\"location\":\"top_left\",\"plot\":{\"id\":\"53d9fb3e-3964-4a30-990b-e28fa9d24964\",\"subtype\":\"Chart\",\"type\":\"Plot\"}},\"id\":\"4c47eda1-1a8f-4c7e-94a3-6836547a38c7\",\"type\":\"Legend\"},{\"attributes\":{\"fill_alpha\":{\"field\":\"fill_alpha\"},\"fill_color\":{\"field\":\"color\"},\"height\":{\"field\":\"height\",\"units\":\"data\"},\"line_color\":{\"field\":\"line_color\"},\"width\":{\"field\":\"width\",\"units\":\"data\"},\"x\":{\"field\":\"x\"},\"y\":{\"field\":\"y\"}},\"id\":\"4eaef7f0-239b-414b-80b5-ba14642d685b\",\"type\":\"Rect\"},{\"attributes\":{\"callback\":null,\"column_names\":[\"x\",\"y\",\"width\",\"height\",\"color\",\"fill_alpha\",\"line_color\",\"line_alpha\",\"label\"],\"data\":{\"chart_index\":[\"(122.361257, 123.356021]\"],\"color\":[\"#f22c40\"],\"fill_alpha\":[0.8],\"height\":[0.0],\"label\":[\"(122.361257, 123.356021]\"],\"line_alpha\":[1.0],\"line_color\":[\"black\"],\"width\":[0.9947643979057545],\"x\":[\"122.858639\"],\"y\":[0.0]}},\"id\":\"e8063878-92a1-4191-a14a-4e7a9abfeecc\",\"type\":\"ColumnDataSource\"},{\"attributes\":{\"data_source\":{\"id\":\"a3910924-42eb-4a5c-bb03-bd0f97e44b52\",\"type\":\"ColumnDataSource\"},\"glyph\":{\"id\":\"8c1a3247-7e89-4c56-b68a-a0e785470ce2\",\"type\":\"Rect\"},\"hover_glyph\":null,\"muted_glyph\":null},\"id\":\"0e1d044f-2bd8-4a8f-836e-b574f79b0a6e\",\"type\":\"GlyphRenderer\"},{\"attributes\":{\"data_source\":{\"id\":\"540d6b29-0a77-48ce-896d-ccf9255b3b83\",\"type\":\"ColumnDataSource\"},\"glyph\":{\"id\":\"432b1da7-0123-470d-9173-bc4a672632e8\",\"type\":\"Rect\"},\"hover_glyph\":null,\"muted_glyph\":null},\"id\":\"f99c1d62-f4eb-417e-a654-7807755da00d\",\"type\":\"GlyphRenderer\"},{\"attributes\":{\"data_source\":{\"id\":\"06490633-9fb3-4a34-adea-955dad1183b8\",\"type\":\"ColumnDataSource\"},\"glyph\":{\"id\":\"37a02570-8805-45c1-9982-f6a0a751df2f\",\"type\":\"Rect\"},\"hover_glyph\":null,\"muted_glyph\":null},\"id\":\"1846b0f0-356b-45da-a349-bac51dda5e3c\",\"type\":\"GlyphRenderer\"},{\"attributes\":{\"callback\":null,\"column_names\":[\"x\",\"y\",\"width\",\"height\",\"color\",\"fill_alpha\",\"line_color\",\"line_alpha\",\"label\"],\"data\":{\"chart_index\":[\"(22.884817, 23.879581]\"],\"color\":[\"#f22c40\"],\"fill_alpha\":[0.8],\"height\":[8.0],\"label\":[\"(22.884817, 23.879581]\"],\"line_alpha\":[1.0],\"line_color\":[\"black\"],\"width\":[0.9947643979057581],\"x\":[\"23.382199\"],\"y\":[4.0]}},\"id\":\"9fe4bb3c-3b07-4ea1-bcd4-75a572cbaa41\",\"type\":\"ColumnDataSource\"},{\"attributes\":{\"callback\":null,\"column_names\":[\"x\",\"y\",\"width\",\"height\",\"color\",\"fill_alpha\",\"line_color\",\"line_alpha\",\"label\"],\"data\":{\"chart_index\":[\"(189.010471, 190.005236]\"],\"color\":[\"#f22c40\"],\"fill_alpha\":[0.8],\"height\":[0.0],\"label\":[\"(189.010471, 190.005236]\"],\"line_alpha\":[1.0],\"line_color\":[\"black\"],\"width\":[0.9947643979057545],\"x\":[\"189.5078535\"],\"y\":[0.0]}},\"id\":\"bc1aa530-19e5-4dcc-b7fb-c18d9c4f71a2\",\"type\":\"ColumnDataSource\"},{\"attributes\":{\"fill_alpha\":{\"field\":\"fill_alpha\"},\"fill_color\":{\"field\":\"color\"},\"height\":{\"field\":\"height\",\"units\":\"data\"},\"line_color\":{\"field\":\"line_color\"},\"width\":{\"field\":\"width\",\"units\":\"data\"},\"x\":{\"field\":\"x\"},\"y\":{\"field\":\"y\"}},\"id\":\"9f0990e2-8353-4dea-910e-b2a8c5fee1ad\",\"type\":\"Rect\"},{\"attributes\":{\"fill_alpha\":{\"field\":\"fill_alpha\"},\"fill_color\":{\"field\":\"color\"},\"height\":{\"field\":\"height\",\"units\":\"data\"},\"line_color\":{\"field\":\"line_color\"},\"width\":{\"field\":\"width\",\"units\":\"data\"},\"x\":{\"field\":\"x\"},\"y\":{\"field\":\"y\"}},\"id\":\"acbbaa2f-adad-495c-acb9-c6c19e44ae13\",\"type\":\"Rect\"},{\"attributes\":{\"callback\":null,\"column_names\":[\"x\",\"y\",\"width\",\"height\",\"color\",\"fill_alpha\",\"line_color\",\"line_alpha\",\"label\"],\"data\":{\"chart_index\":[\"(124.350785, 125.345550]\"],\"color\":[\"#f22c40\"],\"fill_alpha\":[0.8],\"height\":[0.0],\"label\":[\"(124.350785, 125.345550]\"],\"line_alpha\":[1.0],\"line_color\":[\"black\"],\"width\":[0.9947643979057545],\"x\":[\"124.8481675\"],\"y\":[0.0]}},\"id\":\"67430aec-fbd0-45fc-a564-2dcb1268e9e4\",\"type\":\"ColumnDataSource\"},{\"attributes\":{\"callback\":null,\"column_names\":[\"x\",\"y\",\"width\",\"height\",\"color\",\"fill_alpha\",\"line_color\",\"line_alpha\",\"label\"],\"data\":{\"chart_index\":[\"(67.649215, 68.643979]\"],\"color\":[\"#f22c40\"],\"fill_alpha\":[0.8],\"height\":[0.0],\"label\":[\"(67.649215, 68.643979]\"],\"line_alpha\":[1.0],\"line_color\":[\"black\"],\"width\":[0.9947643979057545],\"x\":[\"68.146597\"],\"y\":[0.0]}},\"id\":\"25c6f193-931f-4d86-8e4c-c3a6d260d352\",\"type\":\"ColumnDataSource\"},{\"attributes\":{\"data_source\":{\"id\":\"f3b5948b-c962-4a94-94a5-bafe0cf2fe42\",\"type\":\"ColumnDataSource\"},\"glyph\":{\"id\":\"0d59d542-fd98-48cd-ac78-a0138ffd53c8\",\"type\":\"Rect\"},\"hover_glyph\":null,\"muted_glyph\":null},\"id\":\"01a882f9-e0d3-4bdb-9baa-95ab2eeb5780\",\"type\":\"GlyphRenderer\"},{\"attributes\":{\"data_source\":{\"id\":\"a116e089-0929-4eb6-bdf8-be0d6df0f981\",\"type\":\"ColumnDataSource\"},\"glyph\":{\"id\":\"4eaef7f0-239b-414b-80b5-ba14642d685b\",\"type\":\"Rect\"},\"hover_glyph\":null,\"muted_glyph\":null},\"id\":\"a09f7880-c4fd-4895-b84b-972874269115\",\"type\":\"GlyphRenderer\"},{\"attributes\":{\"fill_alpha\":{\"field\":\"fill_alpha\"},\"fill_color\":{\"field\":\"color\"},\"height\":{\"field\":\"height\",\"units\":\"data\"},\"line_color\":{\"field\":\"line_color\"},\"width\":{\"field\":\"width\",\"units\":\"data\"},\"x\":{\"field\":\"x\"},\"y\":{\"field\":\"y\"}},\"id\":\"02efd71a-00dd-46c4-8961-10a0df14753d\",\"type\":\"Rect\"},{\"attributes\":{\"callback\":null,\"column_names\":[\"x\",\"y\",\"width\",\"height\",\"color\",\"fill_alpha\",\"line_color\",\"line_alpha\",\"label\"],\"data\":{\"chart_index\":[\"(37.806283, 38.801047]\"],\"color\":[\"#f22c40\"],\"fill_alpha\":[0.8],\"height\":[0.0],\"label\":[\"(37.806283, 38.801047]\"],\"line_alpha\":[1.0],\"line_color\":[\"black\"],\"width\":[0.9947643979057617],\"x\":[\"38.303664999999995\"],\"y\":[0.0]}},\"id\":\"f661237d-be93-4d06-991a-c6faf9400622\",\"type\":\"ColumnDataSource\"},{\"attributes\":{\"fill_alpha\":{\"field\":\"fill_alpha\"},\"fill_color\":{\"field\":\"color\"},\"height\":{\"field\":\"height\",\"units\":\"data\"},\"line_color\":{\"field\":\"line_color\"},\"width\":{\"field\":\"width\",\"units\":\"data\"},\"x\":{\"field\":\"x\"},\"y\":{\"field\":\"y\"}},\"id\":\"17a890de-a0e2-4b81-92cb-fd0337113f75\",\"type\":\"Rect\"},{\"attributes\":{\"data_source\":{\"id\":\"011f22ee-b91b-4c49-8231-e32cbd43fc3f\",\"type\":\"ColumnDataSource\"},\"glyph\":{\"id\":\"9607f240-35ce-485a-9e56-db1607cf0b50\",\"type\":\"Rect\"},\"hover_glyph\":null,\"muted_glyph\":null},\"id\":\"c3dfca7a-2330-4000-a087-e8e935eaa5b6\",\"type\":\"GlyphRenderer\"},{\"attributes\":{\"data_source\":{\"id\":\"54dca098-71a3-4fc4-978d-fdf88a962a29\",\"type\":\"ColumnDataSource\"},\"glyph\":{\"id\":\"22df4e89-807b-43ba-9a05-58e69d2f9ce9\",\"type\":\"Rect\"},\"hover_glyph\":null,\"muted_glyph\":null},\"id\":\"232e1416-c104-48ff-bf48-014205eebbd4\",\"type\":\"GlyphRenderer\"},{\"attributes\":{\"data_source\":{\"id\":\"bfbad86e-2649-4ec8-b2b5-6ec10fca8b38\",\"type\":\"ColumnDataSource\"},\"glyph\":{\"id\":\"48d1e206-8d62-4b9d-a926-973504bdf0cd\",\"type\":\"Rect\"},\"hover_glyph\":null,\"muted_glyph\":null},\"id\":\"e4f613b7-fe74-4828-9d98-39adca5c2c24\",\"type\":\"GlyphRenderer\"},{\"attributes\":{\"callback\":null,\"column_names\":[\"x\",\"y\",\"width\",\"height\",\"color\",\"fill_alpha\",\"line_color\",\"line_alpha\",\"label\"],\"data\":{\"chart_index\":[\"(55.712042, 56.706806]\"],\"color\":[\"#f22c40\"],\"fill_alpha\":[0.8],\"height\":[0.0],\"label\":[\"(55.712042, 56.706806]\"],\"line_alpha\":[1.0],\"line_color\":[\"black\"],\"width\":[0.9947643979057617],\"x\":[\"56.209424\"],\"y\":[0.0]}},\"id\":\"a3910924-42eb-4a5c-bb03-bd0f97e44b52\",\"type\":\"ColumnDataSource\"},{\"attributes\":{\"data_source\":{\"id\":\"67430aec-fbd0-45fc-a564-2dcb1268e9e4\",\"type\":\"ColumnDataSource\"},\"glyph\":{\"id\":\"02efd71a-00dd-46c4-8961-10a0df14753d\",\"type\":\"Rect\"},\"hover_glyph\":null,\"muted_glyph\":null},\"id\":\"c697b844-b7ec-4a44-a6e8-ef0da911c977\",\"type\":\"GlyphRenderer\"},{\"attributes\":{\"callback\":null,\"column_names\":[\"x\",\"y\",\"width\",\"height\",\"color\",\"fill_alpha\",\"line_color\",\"line_alpha\",\"label\"],\"data\":{\"chart_index\":[\"(60.685864, 61.680628]\"],\"color\":[\"#f22c40\"],\"fill_alpha\":[0.8],\"height\":[0.0],\"label\":[\"(60.685864, 61.680628]\"],\"line_alpha\":[1.0],\"line_color\":[\"black\"],\"width\":[0.9947643979057617],\"x\":[\"61.183246\"],\"y\":[0.0]}},\"id\":\"011f22ee-b91b-4c49-8231-e32cbd43fc3f\",\"type\":\"ColumnDataSource\"},{\"attributes\":{\"data_source\":{\"id\":\"1569b59f-2105-4231-858f-3ea3bd9c0881\",\"type\":\"ColumnDataSource\"},\"glyph\":{\"id\":\"6794412a-456c-4ddb-abcf-b30c328e8319\",\"type\":\"Rect\"},\"hover_glyph\":null,\"muted_glyph\":null},\"id\":\"8fdf2268-9054-419f-b9d1-a66bc6aa2ed4\",\"type\":\"GlyphRenderer\"},{\"attributes\":{\"data_source\":{\"id\":\"f63fd688-5c03-4aec-9548-b6362a43aac5\",\"type\":\"ColumnDataSource\"},\"glyph\":{\"id\":\"20b53685-b682-4e76-a2da-43160549193b\",\"type\":\"Rect\"},\"hover_glyph\":null,\"muted_glyph\":null},\"id\":\"2ab0c337-c4a7-4593-b4a5-c4eb29dcc2df\",\"type\":\"GlyphRenderer\"},{\"attributes\":{\"callback\":null,\"column_names\":[\"x\",\"y\",\"width\",\"height\",\"color\",\"fill_alpha\",\"line_color\",\"line_alpha\",\"label\"],\"data\":{\"chart_index\":[\"(190.005236, 191.000000]\"],\"color\":[\"#f22c40\"],\"fill_alpha\":[0.8],\"height\":[1.0],\"label\":[\"(190.005236, 191.000000]\"],\"line_alpha\":[1.0],\"line_color\":[\"black\"],\"width\":[0.9947643979057545],\"x\":[\"190.50261799999998\"],\"y\":[0.5]}},\"id\":\"fc78656c-49e5-471c-adb5-4d40fee02abb\",\"type\":\"ColumnDataSource\"},{\"attributes\":{\"callback\":null,\"column_names\":[\"x\",\"y\",\"width\",\"height\",\"color\",\"fill_alpha\",\"line_color\",\"line_alpha\",\"label\"],\"data\":{\"chart_index\":[\"(23.879581, 24.874346]\"],\"color\":[\"#f22c40\"],\"fill_alpha\":[0.8],\"height\":[8.0],\"label\":[\"(23.879581, 24.874346]\"],\"line_alpha\":[1.0],\"line_color\":[\"black\"],\"width\":[0.9947643979057617],\"x\":[\"24.376963500000002\"],\"y\":[4.0]}},\"id\":\"40e92108-9328-4e31-822a-a3a4cbbedf32\",\"type\":\"ColumnDataSource\"},{\"attributes\":{\"data_source\":{\"id\":\"e8063878-92a1-4191-a14a-4e7a9abfeecc\",\"type\":\"ColumnDataSource\"},\"glyph\":{\"id\":\"b4e84377-4fbc-4b50-9117-2fd99c102b32\",\"type\":\"Rect\"},\"hover_glyph\":null,\"muted_glyph\":null},\"id\":\"1beaaa87-51f0-4e07-968c-9f10bd95738a\",\"type\":\"GlyphRenderer\"},{\"attributes\":{\"callback\":null,\"column_names\":[\"x\",\"y\",\"width\",\"height\",\"color\",\"fill_alpha\",\"line_color\",\"line_alpha\",\"label\"],\"data\":{\"chart_index\":[\"(87.544503, 88.539267]\"],\"color\":[\"#f22c40\"],\"fill_alpha\":[0.8],\"height\":[0.0],\"label\":[\"(87.544503, 88.539267]\"],\"line_alpha\":[1.0],\"line_color\":[\"black\"],\"width\":[0.9947643979057545],\"x\":[\"88.04188500000001\"],\"y\":[0.0]}},\"id\":\"59c6f565-3b37-478c-89ba-594fd6888edd\",\"type\":\"ColumnDataSource\"},{\"attributes\":{\"fill_alpha\":{\"field\":\"fill_alpha\"},\"fill_color\":{\"field\":\"color\"},\"height\":{\"field\":\"height\",\"units\":\"data\"},\"line_color\":{\"field\":\"line_color\"},\"width\":{\"field\":\"width\",\"units\":\"data\"},\"x\":{\"field\":\"x\"},\"y\":{\"field\":\"y\"}},\"id\":\"f35c680d-632e-4c0c-bbd7-c1b5b9391579\",\"type\":\"Rect\"},{\"attributes\":{\"fill_alpha\":{\"field\":\"fill_alpha\"},\"fill_color\":{\"field\":\"color\"},\"height\":{\"field\":\"height\",\"units\":\"data\"},\"line_color\":{\"field\":\"line_color\"},\"width\":{\"field\":\"width\",\"units\":\"data\"},\"x\":{\"field\":\"x\"},\"y\":{\"field\":\"y\"}},\"id\":\"6f97b6f6-8b1c-4b4e-8a9c-3522f3f23e58\",\"type\":\"Rect\"},{\"attributes\":{\"callback\":null,\"column_names\":[\"x\",\"y\",\"width\",\"height\",\"color\",\"fill_alpha\",\"line_color\",\"line_alpha\",\"label\"],\"data\":{\"chart_index\":[\"(156.183246, 157.178010]\"],\"color\":[\"#f22c40\"],\"fill_alpha\":[0.8],\"height\":[0.0],\"label\":[\"(156.183246, 157.178010]\"],\"line_alpha\":[1.0],\"line_color\":[\"black\"],\"width\":[0.9947643979057545],\"x\":[\"156.680628\"],\"y\":[0.0]}},\"id\":\"fe50f952-e1ab-4cfe-b257-27653cbbd38c\",\"type\":\"ColumnDataSource\"},{\"attributes\":{\"fill_alpha\":{\"field\":\"fill_alpha\"},\"fill_color\":{\"field\":\"color\"},\"height\":{\"field\":\"height\",\"units\":\"data\"},\"line_color\":{\"field\":\"line_color\"},\"width\":{\"field\":\"width\",\"units\":\"data\"},\"x\":{\"field\":\"x\"},\"y\":{\"field\":\"y\"}},\"id\":\"433f21b7-bc52-4dd9-a201-17097273330e\",\"type\":\"Rect\"},{\"attributes\":{\"data_source\":{\"id\":\"90c45ca1-5ec6-414e-a01b-abf89fb01ee8\",\"type\":\"ColumnDataSource\"},\"glyph\":{\"id\":\"6587f676-6a40-40c9-b659-a632ea2fd070\",\"type\":\"Rect\"},\"hover_glyph\":null,\"muted_glyph\":null},\"id\":\"1f2f0a19-81eb-4978-b10e-736d75c6212f\",\"type\":\"GlyphRenderer\"},{\"attributes\":{\"fill_alpha\":{\"field\":\"fill_alpha\"},\"fill_color\":{\"field\":\"color\"},\"height\":{\"field\":\"height\",\"units\":\"data\"},\"line_color\":{\"field\":\"line_color\"},\"width\":{\"field\":\"width\",\"units\":\"data\"},\"x\":{\"field\":\"x\"},\"y\":{\"field\":\"y\"}},\"id\":\"7e893edd-506f-4e51-acee-0c8a9f80be92\",\"type\":\"Rect\"},{\"attributes\":{\"fill_alpha\":{\"field\":\"fill_alpha\"},\"fill_color\":{\"field\":\"color\"},\"height\":{\"field\":\"height\",\"units\":\"data\"},\"line_color\":{\"field\":\"line_color\"},\"width\":{\"field\":\"width\",\"units\":\"data\"},\"x\":{\"field\":\"x\"},\"y\":{\"field\":\"y\"}},\"id\":\"89ec258f-098e-46e1-aca7-f843498c71f8\",\"type\":\"Rect\"},{\"attributes\":{\"callback\":null,\"column_names\":[\"x\",\"y\",\"width\",\"height\",\"color\",\"fill_alpha\",\"line_color\",\"line_alpha\",\"label\"],\"data\":{\"chart_index\":[\"(157.178010, 158.172775]\"],\"color\":[\"#f22c40\"],\"fill_alpha\":[0.8],\"height\":[0.0],\"label\":[\"(157.178010, 158.172775]\"],\"line_alpha\":[1.0],\"line_color\":[\"black\"],\"width\":[0.9947643979057545],\"x\":[\"157.6753925\"],\"y\":[0.0]}},\"id\":\"7010b601-046f-4a4a-9bfd-1a6d77267048\",\"type\":\"ColumnDataSource\"},{\"attributes\":{\"fill_alpha\":{\"field\":\"fill_alpha\"},\"fill_color\":{\"field\":\"color\"},\"height\":{\"field\":\"height\",\"units\":\"data\"},\"line_color\":{\"field\":\"line_color\"},\"width\":{\"field\":\"width\",\"units\":\"data\"},\"x\":{\"field\":\"x\"},\"y\":{\"field\":\"y\"}},\"id\":\"c3706513-abd7-472c-8239-fbf68b4d0c8d\",\"type\":\"Rect\"},{\"attributes\":{\"callback\":null,\"column_names\":[\"x\",\"y\",\"width\",\"height\",\"color\",\"fill_alpha\",\"line_color\",\"line_alpha\",\"label\"],\"data\":{\"chart_index\":[\"(123.356021, 124.350785]\"],\"color\":[\"#f22c40\"],\"fill_alpha\":[0.8],\"height\":[0.0],\"label\":[\"(123.356021, 124.350785]\"],\"line_alpha\":[1.0],\"line_color\":[\"black\"],\"width\":[0.9947643979057688],\"x\":[\"123.853403\"],\"y\":[0.0]}},\"id\":\"01c331d5-2332-4949-b007-e1c00c707753\",\"type\":\"ColumnDataSource\"},{\"attributes\":{\"callback\":null,\"column_names\":[\"x\",\"y\",\"width\",\"height\",\"color\",\"fill_alpha\",\"line_color\",\"line_alpha\",\"label\"],\"data\":{\"chart_index\":[\"(91.523560, 92.518325]\"],\"color\":[\"#f22c40\"],\"fill_alpha\":[0.8],\"height\":[1.0],\"label\":[\"(91.523560, 92.518325]\"],\"line_alpha\":[1.0],\"line_color\":[\"black\"],\"width\":[0.9947643979057545],\"x\":[\"92.0209425\"],\"y\":[0.5]}},\"id\":\"1b94dadf-cfaa-42cc-a156-294e27f36aa4\",\"type\":\"ColumnDataSource\"},{\"attributes\":{\"data_source\":{\"id\":\"01c331d5-2332-4949-b007-e1c00c707753\",\"type\":\"ColumnDataSource\"},\"glyph\":{\"id\":\"17a890de-a0e2-4b81-92cb-fd0337113f75\",\"type\":\"Rect\"},\"hover_glyph\":null,\"muted_glyph\":null},\"id\":\"f2d132f0-1c0f-49bd-9972-84067553164a\",\"type\":\"GlyphRenderer\"},{\"attributes\":{\"data_source\":{\"id\":\"a1a1fa31-acb4-4ed7-bf67-9258d237eb25\",\"type\":\"ColumnDataSource\"},\"glyph\":{\"id\":\"c78c2574-a6db-4ca4-b0d4-8756137f0fe0\",\"type\":\"Rect\"},\"hover_glyph\":null,\"muted_glyph\":null},\"id\":\"8f2f1261-0e7c-4969-9fe7-ea719c23cc62\",\"type\":\"GlyphRenderer\"},{\"attributes\":{\"fill_alpha\":{\"field\":\"fill_alpha\"},\"fill_color\":{\"field\":\"color\"},\"height\":{\"field\":\"height\",\"units\":\"data\"},\"line_color\":{\"field\":\"line_color\"},\"width\":{\"field\":\"width\",\"units\":\"data\"},\"x\":{\"field\":\"x\"},\"y\":{\"field\":\"y\"}},\"id\":\"f7deb35d-8367-4d6c-9070-a202b3360ae0\",\"type\":\"Rect\"},{\"attributes\":{\"data_source\":{\"id\":\"59c6f565-3b37-478c-89ba-594fd6888edd\",\"type\":\"ColumnDataSource\"},\"glyph\":{\"id\":\"6f97b6f6-8b1c-4b4e-8a9c-3522f3f23e58\",\"type\":\"Rect\"},\"hover_glyph\":null,\"muted_glyph\":null},\"id\":\"6ffdbfc4-af00-48b5-97b3-5e8159df3663\",\"type\":\"GlyphRenderer\"},{\"attributes\":{\"data_source\":{\"id\":\"8b85d4d4-3440-4f02-971f-d28a0c29ec4e\",\"type\":\"ColumnDataSource\"},\"glyph\":{\"id\":\"26fb21f1-3091-492d-b356-2c1ce62d924c\",\"type\":\"Rect\"},\"hover_glyph\":null,\"muted_glyph\":null},\"id\":\"6013ec34-efe9-4de2-b2a5-6809b111b2d6\",\"type\":\"GlyphRenderer\"},{\"attributes\":{\"data_source\":{\"id\":\"fe50f952-e1ab-4cfe-b257-27653cbbd38c\",\"type\":\"ColumnDataSource\"},\"glyph\":{\"id\":\"f35c680d-632e-4c0c-bbd7-c1b5b9391579\",\"type\":\"Rect\"},\"hover_glyph\":null,\"muted_glyph\":null},\"id\":\"1340cfc2-9b08-4a60-aa91-07520b9b351d\",\"type\":\"GlyphRenderer\"},{\"attributes\":{\"callback\":null,\"column_names\":[\"x\",\"y\",\"width\",\"height\",\"color\",\"fill_alpha\",\"line_color\",\"line_alpha\",\"label\"],\"data\":{\"chart_index\":[\"(158.172775, 159.167539]\"],\"color\":[\"#f22c40\"],\"fill_alpha\":[0.8],\"height\":[0.0],\"label\":[\"(158.172775, 159.167539]\"],\"line_alpha\":[1.0],\"line_color\":[\"black\"],\"width\":[0.9947643979057545],\"x\":[\"158.67015700000002\"],\"y\":[0.0]}},\"id\":\"cade5266-c22b-4e41-9033-9cfbb932da14\",\"type\":\"ColumnDataSource\"},{\"attributes\":{\"fill_alpha\":{\"field\":\"fill_alpha\"},\"fill_color\":{\"field\":\"color\"},\"height\":{\"field\":\"height\",\"units\":\"data\"},\"line_color\":{\"field\":\"line_color\"},\"width\":{\"field\":\"width\",\"units\":\"data\"},\"x\":{\"field\":\"x\"},\"y\":{\"field\":\"y\"}},\"id\":\"ceafca95-adf2-446a-9406-b0ed099ac889\",\"type\":\"Rect\"},{\"attributes\":{\"callback\":null,\"column_names\":[\"x\",\"y\",\"width\",\"height\",\"color\",\"fill_alpha\",\"line_color\",\"line_alpha\",\"label\"],\"data\":{\"chart_index\":[\"(90.528796, 91.523560]\"],\"color\":[\"#f22c40\"],\"fill_alpha\":[0.8],\"height\":[0.0],\"label\":[\"(90.528796, 91.523560]\"],\"line_alpha\":[1.0],\"line_color\":[\"black\"],\"width\":[0.9947643979057545],\"x\":[\"91.026178\"],\"y\":[0.0]}},\"id\":\"cc422048-99a0-4c1f-81fb-ab90aa4267a1\",\"type\":\"ColumnDataSource\"},{\"attributes\":{\"callback\":null,\"column_names\":[\"x\",\"y\",\"width\",\"height\",\"color\",\"fill_alpha\",\"line_color\",\"line_alpha\",\"label\"],\"data\":{\"chart_index\":[\"(126.340314, 127.335079]\"],\"color\":[\"#f22c40\"],\"fill_alpha\":[0.8],\"height\":[0.0],\"label\":[\"(126.340314, 127.335079]\"],\"line_alpha\":[1.0],\"line_color\":[\"black\"],\"width\":[0.9947643979057688],\"x\":[\"126.83769649999999\"],\"y\":[0.0]}},\"id\":\"c91a0ccb-dc34-49c8-b2cc-9efb3ca939b3\",\"type\":\"ColumnDataSource\"},{\"attributes\":{\"data_source\":{\"id\":\"836ec4e7-90d4-4339-9fda-62008d253f06\",\"type\":\"ColumnDataSource\"},\"glyph\":{\"id\":\"e7fb7f0a-c30c-46a0-9c23-52f85077c557\",\"type\":\"Rect\"},\"hover_glyph\":null,\"muted_glyph\":null},\"id\":\"a3148b60-b747-4dbf-a373-bd0484b7a399\",\"type\":\"GlyphRenderer\"},{\"attributes\":{\"data_source\":{\"id\":\"c91a0ccb-dc34-49c8-b2cc-9efb3ca939b3\",\"type\":\"ColumnDataSource\"},\"glyph\":{\"id\":\"f7deb35d-8367-4d6c-9070-a202b3360ae0\",\"type\":\"Rect\"},\"hover_glyph\":null,\"muted_glyph\":null},\"id\":\"15de3d0f-ba78-44b5-bcf9-37350025ff92\",\"type\":\"GlyphRenderer\"},{\"attributes\":{\"fill_alpha\":{\"field\":\"fill_alpha\"},\"fill_color\":{\"field\":\"color\"},\"height\":{\"field\":\"height\",\"units\":\"data\"},\"line_color\":{\"field\":\"line_color\"},\"width\":{\"field\":\"width\",\"units\":\"data\"},\"x\":{\"field\":\"x\"},\"y\":{\"field\":\"y\"}},\"id\":\"5ff03d6a-db14-4ee4-ba33-331c655f4fef\",\"type\":\"Rect\"},{\"attributes\":{\"callback\":null,\"column_names\":[\"x\",\"y\",\"width\",\"height\",\"color\",\"fill_alpha\",\"line_color\",\"line_alpha\",\"label\"],\"data\":{\"chart_index\":[\"(102.465969, 103.460733]\"],\"color\":[\"#f22c40\"],\"fill_alpha\":[0.8],\"height\":[0.0],\"label\":[\"(102.465969, 103.460733]\"],\"line_alpha\":[1.0],\"line_color\":[\"black\"],\"width\":[0.9947643979057688],\"x\":[\"102.963351\"],\"y\":[0.0]}},\"id\":\"9adcb7fd-0bf7-4cad-a7d2-ef98d1983671\",\"type\":\"ColumnDataSource\"},{\"attributes\":{\"data_source\":{\"id\":\"7010b601-046f-4a4a-9bfd-1a6d77267048\",\"type\":\"ColumnDataSource\"},\"glyph\":{\"id\":\"89ec258f-098e-46e1-aca7-f843498c71f8\",\"type\":\"Rect\"},\"hover_glyph\":null,\"muted_glyph\":null},\"id\":\"4978959a-3e5e-4155-8588-7fc5ffc65640\",\"type\":\"GlyphRenderer\"},{\"attributes\":{\"data_source\":{\"id\":\"cc422048-99a0-4c1f-81fb-ab90aa4267a1\",\"type\":\"ColumnDataSource\"},\"glyph\":{\"id\":\"7e893edd-506f-4e51-acee-0c8a9f80be92\",\"type\":\"Rect\"},\"hover_glyph\":null,\"muted_glyph\":null},\"id\":\"54bfa79b-bca4-4be3-9eee-1e18a8f74245\",\"type\":\"GlyphRenderer\"},{\"attributes\":{\"data_source\":{\"id\":\"7f9080e4-9e2b-45f3-8d2c-1aa7571fc32a\",\"type\":\"ColumnDataSource\"},\"glyph\":{\"id\":\"c3706513-abd7-472c-8239-fbf68b4d0c8d\",\"type\":\"Rect\"},\"hover_glyph\":null,\"muted_glyph\":null},\"id\":\"b270c59b-7cb6-4fa1-b177-bf6a1eb265a8\",\"type\":\"GlyphRenderer\"},{\"attributes\":{\"dimension\":1,\"plot\":{\"id\":\"53d9fb3e-3964-4a30-990b-e28fa9d24964\",\"subtype\":\"Chart\",\"type\":\"Plot\"},\"ticker\":{\"id\":\"e70d7d40-a1e9-4fdb-a6a3-3eedbbefe35c\",\"type\":\"BasicTicker\"}},\"id\":\"4b7d57d6-29dc-49aa-9a6d-4a076c1b68fa\",\"type\":\"Grid\"},{\"attributes\":{\"callback\":null,\"column_names\":[\"x\",\"y\",\"width\",\"height\",\"color\",\"fill_alpha\",\"line_color\",\"line_alpha\",\"label\"],\"data\":{\"chart_index\":[\"(96.497382, 97.492147]\"],\"color\":[\"#f22c40\"],\"fill_alpha\":[0.8],\"height\":[0.0],\"label\":[\"(96.497382, 97.492147]\"],\"line_alpha\":[1.0],\"line_color\":[\"black\"],\"width\":[0.9947643979057545],\"x\":[\"96.9947645\"],\"y\":[0.0]}},\"id\":\"836ec4e7-90d4-4339-9fda-62008d253f06\",\"type\":\"ColumnDataSource\"},{\"attributes\":{\"callback\":null,\"column_names\":[\"x\",\"y\",\"width\",\"height\",\"color\",\"fill_alpha\",\"line_color\",\"line_alpha\",\"label\"],\"data\":{\"chart_index\":[\"(127.335079, 128.329843]\"],\"color\":[\"#f22c40\"],\"fill_alpha\":[0.8],\"height\":[0.0],\"label\":[\"(127.335079, 128.329843]\"],\"line_alpha\":[1.0],\"line_color\":[\"black\"],\"width\":[0.9947643979057545],\"x\":[\"127.832461\"],\"y\":[0.0]}},\"id\":\"7f9080e4-9e2b-45f3-8d2c-1aa7571fc32a\",\"type\":\"ColumnDataSource\"},{\"attributes\":{\"fill_alpha\":{\"field\":\"fill_alpha\"},\"fill_color\":{\"field\":\"color\"},\"height\":{\"field\":\"height\",\"units\":\"data\"},\"line_color\":{\"field\":\"line_color\"},\"width\":{\"field\":\"width\",\"units\":\"data\"},\"x\":{\"field\":\"x\"},\"y\":{\"field\":\"y\"}},\"id\":\"b6a9a304-dc45-40cf-a307-fe58dad2b8e7\",\"type\":\"Rect\"},{\"attributes\":{\"callback\":null,\"column_names\":[\"x\",\"y\",\"width\",\"height\",\"color\",\"fill_alpha\",\"line_color\",\"line_alpha\",\"label\"],\"data\":{\"chart_index\":[\"(24.874346, 25.869110]\"],\"color\":[\"#f22c40\"],\"fill_alpha\":[0.8],\"height\":[9.0],\"label\":[\"(24.874346, 25.869110]\"],\"line_alpha\":[1.0],\"line_color\":[\"black\"],\"width\":[0.9947643979057581],\"x\":[\"25.371727999999997\"],\"y\":[4.5]}},\"id\":\"4245fa1e-c49d-4942-ac99-ee87cfca10f1\",\"type\":\"ColumnDataSource\"},{\"attributes\":{\"fill_alpha\":{\"field\":\"fill_alpha\"},\"fill_color\":{\"field\":\"color\"},\"height\":{\"field\":\"height\",\"units\":\"data\"},\"line_color\":{\"field\":\"line_color\"},\"width\":{\"field\":\"width\",\"units\":\"data\"},\"x\":{\"field\":\"x\"},\"y\":{\"field\":\"y\"}},\"id\":\"c2bd5d87-1dc8-4fca-8063-168c9437454e\",\"type\":\"Rect\"},{\"attributes\":{\"fill_alpha\":{\"field\":\"fill_alpha\"},\"fill_color\":{\"field\":\"color\"},\"height\":{\"field\":\"height\",\"units\":\"data\"},\"line_color\":{\"field\":\"line_color\"},\"width\":{\"field\":\"width\",\"units\":\"data\"},\"x\":{\"field\":\"x\"},\"y\":{\"field\":\"y\"}},\"id\":\"a98fc5b9-129b-428e-9605-7e6cf943ef3e\",\"type\":\"Rect\"},{\"attributes\":{\"data_source\":{\"id\":\"9fe4bb3c-3b07-4ea1-bcd4-75a572cbaa41\",\"type\":\"ColumnDataSource\"},\"glyph\":{\"id\":\"9f0990e2-8353-4dea-910e-b2a8c5fee1ad\",\"type\":\"Rect\"},\"hover_glyph\":null,\"muted_glyph\":null},\"id\":\"02317aae-f1d9-4a28-b6b0-759cd7b6b836\",\"type\":\"GlyphRenderer\"},{\"attributes\":{\"callback\":null,\"column_names\":[\"x\",\"y\",\"width\",\"height\",\"color\",\"fill_alpha\",\"line_color\",\"line_alpha\",\"label\"],\"data\":{\"chart_index\":[\"(57.701571, 58.696335]\"],\"color\":[\"#f22c40\"],\"fill_alpha\":[0.8],\"height\":[0.0],\"label\":[\"(57.701571, 58.696335]\"],\"line_alpha\":[1.0],\"line_color\":[\"black\"],\"width\":[0.9947643979057617],\"x\":[\"58.198953\"],\"y\":[0.0]}},\"id\":\"097e399f-08dc-4131-a6f1-23178c12bfc8\",\"type\":\"ColumnDataSource\"},{\"attributes\":{\"callback\":null,\"column_names\":[\"x\",\"y\",\"width\",\"height\",\"color\",\"fill_alpha\",\"line_color\",\"line_alpha\",\"label\"],\"data\":{\"chart_index\":[\"(159.167539, 160.162304]\"],\"color\":[\"#f22c40\"],\"fill_alpha\":[0.8],\"height\":[0.0],\"label\":[\"(159.167539, 160.162304]\"],\"line_alpha\":[1.0],\"line_color\":[\"black\"],\"width\":[0.9947643979057545],\"x\":[\"159.6649215\"],\"y\":[0.0]}},\"id\":\"f4375adf-51a8-4808-b15d-dbc770b17e0c\",\"type\":\"ColumnDataSource\"},{\"attributes\":{\"data_source\":{\"id\":\"cade5266-c22b-4e41-9033-9cfbb932da14\",\"type\":\"ColumnDataSource\"},\"glyph\":{\"id\":\"ceafca95-adf2-446a-9406-b0ed099ac889\",\"type\":\"Rect\"},\"hover_glyph\":null,\"muted_glyph\":null},\"id\":\"6789e038-490e-4c36-96c4-576717c34c07\",\"type\":\"GlyphRenderer\"},{\"attributes\":{\"data_source\":{\"id\":\"bc1aa530-19e5-4dcc-b7fb-c18d9c4f71a2\",\"type\":\"ColumnDataSource\"},\"glyph\":{\"id\":\"acbbaa2f-adad-495c-acb9-c6c19e44ae13\",\"type\":\"Rect\"},\"hover_glyph\":null,\"muted_glyph\":null},\"id\":\"bda57e46-61db-4e23-8905-4d1b78517766\",\"type\":\"GlyphRenderer\"},{\"attributes\":{\"callback\":null,\"column_names\":[\"x\",\"y\",\"width\",\"height\",\"color\",\"fill_alpha\",\"line_color\",\"line_alpha\",\"label\"],\"data\":{\"chart_index\":[\"(25.869110, 26.863874]\"],\"color\":[\"#f22c40\"],\"fill_alpha\":[0.8],\"height\":[0.0],\"label\":[\"(25.869110, 26.863874]\"],\"line_alpha\":[1.0],\"line_color\":[\"black\"],\"width\":[0.9947643979057581],\"x\":[\"26.366492\"],\"y\":[0.0]}},\"id\":\"bfec895e-b22e-489f-83c0-dff479b3cba3\",\"type\":\"ColumnDataSource\"},{\"attributes\":{\"fill_alpha\":{\"field\":\"fill_alpha\"},\"fill_color\":{\"field\":\"color\"},\"height\":{\"field\":\"height\",\"units\":\"data\"},\"line_color\":{\"field\":\"line_color\"},\"width\":{\"field\":\"width\",\"units\":\"data\"},\"x\":{\"field\":\"x\"},\"y\":{\"field\":\"y\"}},\"id\":\"6acf703f-fc98-44e7-8977-38cc4ec0749f\",\"type\":\"Rect\"},{\"attributes\":{\"fill_alpha\":{\"field\":\"fill_alpha\"},\"fill_color\":{\"field\":\"color\"},\"height\":{\"field\":\"height\",\"units\":\"data\"},\"line_color\":{\"field\":\"line_color\"},\"width\":{\"field\":\"width\",\"units\":\"data\"},\"x\":{\"field\":\"x\"},\"y\":{\"field\":\"y\"}},\"id\":\"e6bd6c4b-9525-491b-8289-e914e4cb29c3\",\"type\":\"Rect\"},{\"attributes\":{\"data_source\":{\"id\":\"4245fa1e-c49d-4942-ac99-ee87cfca10f1\",\"type\":\"ColumnDataSource\"},\"glyph\":{\"id\":\"f2df5cd4-0e5b-4c97-89f3-bb148b196974\",\"type\":\"Rect\"},\"hover_glyph\":null,\"muted_glyph\":null},\"id\":\"945cfbaa-78fa-49cc-a06c-5928b76cd05c\",\"type\":\"GlyphRenderer\"},{\"attributes\":{\"callback\":null,\"column_names\":[\"x\",\"y\",\"width\",\"height\",\"color\",\"fill_alpha\",\"line_color\",\"line_alpha\",\"label\"],\"data\":{\"chart_index\":[\"(56.706806, 57.701571]\"],\"color\":[\"#f22c40\"],\"fill_alpha\":[0.8],\"height\":[0.0],\"label\":[\"(56.706806, 57.701571]\"],\"line_alpha\":[1.0],\"line_color\":[\"black\"],\"width\":[0.9947643979057545],\"x\":[\"57.2041885\"],\"y\":[0.0]}},\"id\":\"30405a2d-1a2d-41d8-92c0-88dcb407ebc6\",\"type\":\"ColumnDataSource\"},{\"attributes\":{\"callback\":null,\"column_names\":[\"x\",\"y\",\"width\",\"height\",\"color\",\"fill_alpha\",\"line_color\",\"line_alpha\",\"label\"],\"data\":{\"chart_index\":[\"(160.162304, 161.157068]\"],\"color\":[\"#f22c40\"],\"fill_alpha\":[0.8],\"height\":[0.0],\"label\":[\"(160.162304, 161.157068]\"],\"line_alpha\":[1.0],\"line_color\":[\"black\"],\"width\":[0.9947643979057545],\"x\":[\"160.65968600000002\"],\"y\":[0.0]}},\"id\":\"dcc3bcaa-1ac9-4b0a-a4b6-388f3122d16b\",\"type\":\"ColumnDataSource\"},{\"attributes\":{\"callback\":null,\"column_names\":[\"x\",\"y\",\"width\",\"height\",\"color\",\"fill_alpha\",\"line_color\",\"line_alpha\",\"label\"],\"data\":{\"chart_index\":[\"(59.691099, 60.685864]\"],\"color\":[\"#f22c40\"],\"fill_alpha\":[0.8],\"height\":[0.0],\"label\":[\"(59.691099, 60.685864]\"],\"line_alpha\":[1.0],\"line_color\":[\"black\"],\"width\":[0.9947643979057545],\"x\":[\"60.1884815\"],\"y\":[0.0]}},\"id\":\"8074617e-9f04-47de-a1bd-eec7c433ebdd\",\"type\":\"ColumnDataSource\"},{\"attributes\":{\"fill_alpha\":{\"field\":\"fill_alpha\"},\"fill_color\":{\"field\":\"color\"},\"height\":{\"field\":\"height\",\"units\":\"data\"},\"line_color\":{\"field\":\"line_color\"},\"width\":{\"field\":\"width\",\"units\":\"data\"},\"x\":{\"field\":\"x\"},\"y\":{\"field\":\"y\"}},\"id\":\"43da8106-f39e-4b3a-8b98-328899aaa633\",\"type\":\"Rect\"},{\"attributes\":{\"callback\":null,\"column_names\":[\"x\",\"y\",\"width\",\"height\",\"color\",\"fill_alpha\",\"line_color\",\"line_alpha\",\"label\"],\"data\":{\"chart_index\":[\"(26.863874, 27.858639]\"],\"color\":[\"#f22c40\"],\"fill_alpha\":[0.8],\"height\":[0.0],\"label\":[\"(26.863874, 27.858639]\"],\"line_alpha\":[1.0],\"line_color\":[\"black\"],\"width\":[0.9947643979057581],\"x\":[\"27.3612565\"],\"y\":[0.0]}},\"id\":\"dcaf15f6-7c8e-4309-a8ac-596807a249cc\",\"type\":\"ColumnDataSource\"},{\"attributes\":{\"data_source\":{\"id\":\"30405a2d-1a2d-41d8-92c0-88dcb407ebc6\",\"type\":\"ColumnDataSource\"},\"glyph\":{\"id\":\"c2bd5d87-1dc8-4fca-8063-168c9437454e\",\"type\":\"Rect\"},\"hover_glyph\":null,\"muted_glyph\":null},\"id\":\"1052394c-8a2d-4cc3-a81f-ed0cc25e3984\",\"type\":\"GlyphRenderer\"},{\"attributes\":{\"fill_alpha\":{\"field\":\"fill_alpha\"},\"fill_color\":{\"field\":\"color\"},\"height\":{\"field\":\"height\",\"units\":\"data\"},\"line_color\":{\"field\":\"line_color\"},\"width\":{\"field\":\"width\",\"units\":\"data\"},\"x\":{\"field\":\"x\"},\"y\":{\"field\":\"y\"}},\"id\":\"1cf6aae5-6ce6-4fae-8a45-58cacc159f2d\",\"type\":\"Rect\"},{\"attributes\":{\"data_source\":{\"id\":\"3273a6d5-db90-4dd4-b533-24234db9f043\",\"type\":\"ColumnDataSource\"},\"glyph\":{\"id\":\"1cf6aae5-6ce6-4fae-8a45-58cacc159f2d\",\"type\":\"Rect\"},\"hover_glyph\":null,\"muted_glyph\":null},\"id\":\"11a455e2-0fb7-4c3e-880b-cf9bd7043a5a\",\"type\":\"GlyphRenderer\"},{\"attributes\":{\"data_source\":{\"id\":\"1b8aa89a-b02a-46fa-82fe-fa2167994e29\",\"type\":\"ColumnDataSource\"},\"glyph\":{\"id\":\"5ff03d6a-db14-4ee4-ba33-331c655f4fef\",\"type\":\"Rect\"},\"hover_glyph\":null,\"muted_glyph\":null},\"id\":\"66b89be9-b5a5-4cc9-9077-c4793d50591a\",\"type\":\"GlyphRenderer\"},{\"attributes\":{\"data_source\":{\"id\":\"f4375adf-51a8-4808-b15d-dbc770b17e0c\",\"type\":\"ColumnDataSource\"},\"glyph\":{\"id\":\"a98fc5b9-129b-428e-9605-7e6cf943ef3e\",\"type\":\"Rect\"},\"hover_glyph\":null,\"muted_glyph\":null},\"id\":\"fed4e39b-9fe9-40a4-8e87-8d5bb03409c6\",\"type\":\"GlyphRenderer\"},{\"attributes\":{\"fill_alpha\":{\"field\":\"fill_alpha\"},\"fill_color\":{\"field\":\"color\"},\"height\":{\"field\":\"height\",\"units\":\"data\"},\"line_color\":{\"field\":\"line_color\"},\"width\":{\"field\":\"width\",\"units\":\"data\"},\"x\":{\"field\":\"x\"},\"y\":{\"field\":\"y\"}},\"id\":\"831eb4d6-e232-4c1d-bfd3-7ea3977349e4\",\"type\":\"Rect\"},{\"attributes\":{\"fill_alpha\":{\"field\":\"fill_alpha\"},\"fill_color\":{\"field\":\"color\"},\"height\":{\"field\":\"height\",\"units\":\"data\"},\"line_color\":{\"field\":\"line_color\"},\"width\":{\"field\":\"width\",\"units\":\"data\"},\"x\":{\"field\":\"x\"},\"y\":{\"field\":\"y\"}},\"id\":\"593fb44d-5a3a-4848-aa78-4fb72123b6f8\",\"type\":\"Rect\"},{\"attributes\":{\"callback\":null,\"column_names\":[\"x\",\"y\",\"width\",\"height\",\"color\",\"fill_alpha\",\"line_color\",\"line_alpha\",\"label\"],\"data\":{\"chart_index\":[\"(31.837696, 32.832461]\"],\"color\":[\"#f22c40\"],\"fill_alpha\":[0.8],\"height\":[15.0],\"label\":[\"(31.837696, 32.832461]\"],\"line_alpha\":[1.0],\"line_color\":[\"black\"],\"width\":[0.9947643979057581],\"x\":[\"32.3350785\"],\"y\":[7.5]}},\"id\":\"1569b59f-2105-4231-858f-3ea3bd9c0881\",\"type\":\"ColumnDataSource\"},{\"attributes\":{\"data_source\":{\"id\":\"bfec895e-b22e-489f-83c0-dff479b3cba3\",\"type\":\"ColumnDataSource\"},\"glyph\":{\"id\":\"6acf703f-fc98-44e7-8977-38cc4ec0749f\",\"type\":\"Rect\"},\"hover_glyph\":null,\"muted_glyph\":null},\"id\":\"f0b7be33-36fc-477c-9d7e-7c5c19ca22f2\",\"type\":\"GlyphRenderer\"},{\"attributes\":{\"callback\":null,\"column_names\":[\"x\",\"y\",\"width\",\"height\",\"color\",\"fill_alpha\",\"line_color\",\"line_alpha\",\"label\"],\"data\":{\"chart_index\":[\"(73.617801, 74.612565]\"],\"color\":[\"#f22c40\"],\"fill_alpha\":[0.8],\"height\":[0.0],\"label\":[\"(73.617801, 74.612565]\"],\"line_alpha\":[1.0],\"line_color\":[\"black\"],\"width\":[0.9947643979057545],\"x\":[\"74.115183\"],\"y\":[0.0]}},\"id\":\"56e8052d-1a9b-4bbc-8f71-5cad6ce93131\",\"type\":\"ColumnDataSource\"},{\"attributes\":{\"fill_alpha\":{\"field\":\"fill_alpha\"},\"fill_color\":{\"field\":\"color\"},\"height\":{\"field\":\"height\",\"units\":\"data\"},\"line_color\":{\"field\":\"line_color\"},\"width\":{\"field\":\"width\",\"units\":\"data\"},\"x\":{\"field\":\"x\"},\"y\":{\"field\":\"y\"}},\"id\":\"3b369a85-f12f-43a3-9c50-ae04ef5906c5\",\"type\":\"Rect\"},{\"attributes\":{\"data_source\":{\"id\":\"097e399f-08dc-4131-a6f1-23178c12bfc8\",\"type\":\"ColumnDataSource\"},\"glyph\":{\"id\":\"b6a9a304-dc45-40cf-a307-fe58dad2b8e7\",\"type\":\"Rect\"},\"hover_glyph\":null,\"muted_glyph\":null},\"id\":\"2b49f04f-6d63-47af-b593-b7860049fbcb\",\"type\":\"GlyphRenderer\"},{\"attributes\":{\"callback\":null,\"column_names\":[\"x\",\"y\",\"width\",\"height\",\"color\",\"fill_alpha\",\"line_color\",\"line_alpha\",\"label\"],\"data\":{\"chart_index\":[\"(162.151832, 163.146597]\"],\"color\":[\"#f22c40\"],\"fill_alpha\":[0.8],\"height\":[0.0],\"label\":[\"(162.151832, 163.146597]\"],\"line_alpha\":[1.0],\"line_color\":[\"black\"],\"width\":[0.9947643979057545],\"x\":[\"162.64921450000003\"],\"y\":[0.0]}},\"id\":\"1b8aa89a-b02a-46fa-82fe-fa2167994e29\",\"type\":\"ColumnDataSource\"},{\"attributes\":{\"data_source\":{\"id\":\"8074617e-9f04-47de-a1bd-eec7c433ebdd\",\"type\":\"ColumnDataSource\"},\"glyph\":{\"id\":\"56d3ce9c-1dc3-4eb4-83f0-a0daac139f2b\",\"type\":\"Rect\"},\"hover_glyph\":null,\"muted_glyph\":null},\"id\":\"7d62f185-eb84-44aa-8c10-3eec261c6360\",\"type\":\"GlyphRenderer\"},{\"attributes\":{\"fill_alpha\":{\"field\":\"fill_alpha\"},\"fill_color\":{\"field\":\"color\"},\"height\":{\"field\":\"height\",\"units\":\"data\"},\"line_color\":{\"field\":\"line_color\"},\"width\":{\"field\":\"width\",\"units\":\"data\"},\"x\":{\"field\":\"x\"},\"y\":{\"field\":\"y\"}},\"id\":\"cd61773f-f57e-4217-82e5-5fa9e6cb49b1\",\"type\":\"Rect\"},{\"attributes\":{\"data_source\":{\"id\":\"dcc3bcaa-1ac9-4b0a-a4b6-388f3122d16b\",\"type\":\"ColumnDataSource\"},\"glyph\":{\"id\":\"e6bd6c4b-9525-491b-8289-e914e4cb29c3\",\"type\":\"Rect\"},\"hover_glyph\":null,\"muted_glyph\":null},\"id\":\"25e55423-e3b5-48dd-92d7-d93a21b393a4\",\"type\":\"GlyphRenderer\"},{\"attributes\":{},\"id\":\"a619a346-a317-4f1a-8f53-764a29ad24f3\",\"type\":\"BasicTicker\"},{\"attributes\":{},\"id\":\"d7e24eb3-7331-417c-a1ae-f84a29bbd350\",\"type\":\"BasicTickFormatter\"},{\"attributes\":{\"fill_alpha\":{\"field\":\"fill_alpha\"},\"fill_color\":{\"field\":\"color\"},\"height\":{\"field\":\"height\",\"units\":\"data\"},\"line_color\":{\"field\":\"line_color\"},\"width\":{\"field\":\"width\",\"units\":\"data\"},\"x\":{\"field\":\"x\"},\"y\":{\"field\":\"y\"}},\"id\":\"d960ab1c-6a95-48b3-aded-899c69ab22d2\",\"type\":\"Rect\"},{\"attributes\":{},\"id\":\"75a0a6c8-4a18-47e8-8cfd-0f734ad8ae2c\",\"type\":\"BasicTickFormatter\"},{\"attributes\":{\"callback\":null,\"column_names\":[\"x\",\"y\",\"width\",\"height\",\"color\",\"fill_alpha\",\"line_color\",\"line_alpha\",\"label\"],\"data\":{\"chart_index\":[\"(58.696335, 59.691099]\"],\"color\":[\"#f22c40\"],\"fill_alpha\":[0.8],\"height\":[0.0],\"label\":[\"(58.696335, 59.691099]\"],\"line_alpha\":[1.0],\"line_color\":[\"black\"],\"width\":[0.9947643979057617],\"x\":[\"59.193717\"],\"y\":[0.0]}},\"id\":\"3273a6d5-db90-4dd4-b533-24234db9f043\",\"type\":\"ColumnDataSource\"},{\"attributes\":{\"data_source\":{\"id\":\"dcaf15f6-7c8e-4309-a8ac-596807a249cc\",\"type\":\"ColumnDataSource\"},\"glyph\":{\"id\":\"43da8106-f39e-4b3a-8b98-328899aaa633\",\"type\":\"Rect\"},\"hover_glyph\":null,\"muted_glyph\":null},\"id\":\"5ec04597-ba64-454f-a5e9-54a59e033ecb\",\"type\":\"GlyphRenderer\"},{\"attributes\":{\"fill_alpha\":{\"field\":\"fill_alpha\"},\"fill_color\":{\"field\":\"color\"},\"height\":{\"field\":\"height\",\"units\":\"data\"},\"line_color\":{\"field\":\"line_color\"},\"width\":{\"field\":\"width\",\"units\":\"data\"},\"x\":{\"field\":\"x\"},\"y\":{\"field\":\"y\"}},\"id\":\"56d3ce9c-1dc3-4eb4-83f0-a0daac139f2b\",\"type\":\"Rect\"},{\"attributes\":{\"callback\":null,\"column_names\":[\"x\",\"y\",\"width\",\"height\",\"color\",\"fill_alpha\",\"line_color\",\"line_alpha\",\"label\"],\"data\":{\"chart_index\":[\"(62.675393, 63.670157]\"],\"color\":[\"#f22c40\"],\"fill_alpha\":[0.8],\"height\":[0.0],\"label\":[\"(62.675393, 63.670157]\"],\"line_alpha\":[1.0],\"line_color\":[\"black\"],\"width\":[0.9947643979057545],\"x\":[\"63.172775\"],\"y\":[0.0]}},\"id\":\"4cb745ba-1a74-4866-bbb5-b28cf2c95578\",\"type\":\"ColumnDataSource\"},{\"attributes\":{\"fill_alpha\":{\"field\":\"fill_alpha\"},\"fill_color\":{\"field\":\"color\"},\"height\":{\"field\":\"height\",\"units\":\"data\"},\"line_color\":{\"field\":\"line_color\"},\"width\":{\"field\":\"width\",\"units\":\"data\"},\"x\":{\"field\":\"x\"},\"y\":{\"field\":\"y\"}},\"id\":\"820a7d7d-ae62-4290-880a-a814fe8729cf\",\"type\":\"Rect\"},{\"attributes\":{\"callback\":null,\"column_names\":[\"x\",\"y\",\"width\",\"height\",\"color\",\"fill_alpha\",\"line_color\",\"line_alpha\",\"label\"],\"data\":{\"chart_index\":[\"(61.680628, 62.675393]\"],\"color\":[\"#f22c40\"],\"fill_alpha\":[0.8],\"height\":[0.0],\"label\":[\"(61.680628, 62.675393]\"],\"line_alpha\":[1.0],\"line_color\":[\"black\"],\"width\":[0.9947643979057617],\"x\":[\"62.1780105\"],\"y\":[0.0]}},\"id\":\"4391f402-e39a-464e-8e9d-07f4d3137cc4\",\"type\":\"ColumnDataSource\"},{\"attributes\":{\"callback\":null,\"column_names\":[\"x\",\"y\",\"width\",\"height\",\"color\",\"fill_alpha\",\"line_color\",\"line_alpha\",\"label\"],\"data\":{\"chart_index\":[\"(92.518325, 93.513089]\"],\"color\":[\"#f22c40\"],\"fill_alpha\":[0.8],\"height\":[0.0],\"label\":[\"(92.518325, 93.513089]\"],\"line_alpha\":[1.0],\"line_color\":[\"black\"],\"width\":[0.9947643979057688],\"x\":[\"93.01570699999999\"],\"y\":[0.0]}},\"id\":\"20a36e80-777e-4d52-85fb-db121f0da967\",\"type\":\"ColumnDataSource\"},{\"attributes\":{\"data_source\":{\"id\":\"1b94dadf-cfaa-42cc-a156-294e27f36aa4\",\"type\":\"ColumnDataSource\"},\"glyph\":{\"id\":\"433f21b7-bc52-4dd9-a201-17097273330e\",\"type\":\"Rect\"},\"hover_glyph\":null,\"muted_glyph\":null},\"id\":\"7465365e-b63d-4e49-aceb-387bb4b27ba2\",\"type\":\"GlyphRenderer\"},{\"attributes\":{\"fill_alpha\":{\"field\":\"fill_alpha\"},\"fill_color\":{\"field\":\"color\"},\"height\":{\"field\":\"height\",\"units\":\"data\"},\"line_color\":{\"field\":\"line_color\"},\"width\":{\"field\":\"width\",\"units\":\"data\"},\"x\":{\"field\":\"x\"},\"y\":{\"field\":\"y\"}},\"id\":\"107d9fed-0112-40f7-80a9-28bb9be3afef\",\"type\":\"Rect\"},{\"attributes\":{\"fill_alpha\":{\"field\":\"fill_alpha\"},\"fill_color\":{\"field\":\"color\"},\"height\":{\"field\":\"height\",\"units\":\"data\"},\"line_color\":{\"field\":\"line_color\"},\"width\":{\"field\":\"width\",\"units\":\"data\"},\"x\":{\"field\":\"x\"},\"y\":{\"field\":\"y\"}},\"id\":\"7741fd62-d588-4b5a-bec0-d3a4ea374a38\",\"type\":\"Rect\"},{\"attributes\":{\"callback\":null,\"column_names\":[\"x\",\"y\",\"width\",\"height\",\"color\",\"fill_alpha\",\"line_color\",\"line_alpha\",\"label\"],\"data\":{\"chart_index\":[\"(93.513089, 94.507853]\"],\"color\":[\"#f22c40\"],\"fill_alpha\":[0.8],\"height\":[0.0],\"label\":[\"(93.513089, 94.507853]\"],\"line_alpha\":[1.0],\"line_color\":[\"black\"],\"width\":[0.9947643979057545],\"x\":[\"94.010471\"],\"y\":[0.0]}},\"id\":\"3a910daa-5f3e-4a68-8345-85b8dfbf94c5\",\"type\":\"ColumnDataSource\"},{\"attributes\":{\"fill_alpha\":{\"field\":\"fill_alpha\"},\"fill_color\":{\"field\":\"color\"},\"height\":{\"field\":\"height\",\"units\":\"data\"},\"line_color\":{\"field\":\"line_color\"},\"width\":{\"field\":\"width\",\"units\":\"data\"},\"x\":{\"field\":\"x\"},\"y\":{\"field\":\"y\"}},\"id\":\"69d1fd63-f143-436d-9f8b-02b154cec164\",\"type\":\"Rect\"},{\"attributes\":{\"fill_alpha\":{\"field\":\"fill_alpha\"},\"fill_color\":{\"field\":\"color\"},\"height\":{\"field\":\"height\",\"units\":\"data\"},\"line_color\":{\"field\":\"line_color\"},\"width\":{\"field\":\"width\",\"units\":\"data\"},\"x\":{\"field\":\"x\"},\"y\":{\"field\":\"y\"}},\"id\":\"e71f847f-c0fc-4c53-9fe5-c8b6c9899c78\",\"type\":\"Rect\"},{\"attributes\":{\"data_source\":{\"id\":\"7cb6cd2d-2148-4972-be2d-6fdf80a19f7a\",\"type\":\"ColumnDataSource\"},\"glyph\":{\"id\":\"b4f383b2-a0f5-4efd-b0b3-e43a71f07bbd\",\"type\":\"Rect\"},\"hover_glyph\":null,\"muted_glyph\":null},\"id\":\"d97e74d1-b309-4f57-b249-982a8139df2d\",\"type\":\"GlyphRenderer\"},{\"attributes\":{\"data_source\":{\"id\":\"4391f402-e39a-464e-8e9d-07f4d3137cc4\",\"type\":\"ColumnDataSource\"},\"glyph\":{\"id\":\"69d1fd63-f143-436d-9f8b-02b154cec164\",\"type\":\"Rect\"},\"hover_glyph\":null,\"muted_glyph\":null},\"id\":\"80d5436f-643d-40da-a631-057c709fd68c\",\"type\":\"GlyphRenderer\"},{\"attributes\":{\"fill_alpha\":{\"field\":\"fill_alpha\"},\"fill_color\":{\"field\":\"color\"},\"height\":{\"field\":\"height\",\"units\":\"data\"},\"line_color\":{\"field\":\"line_color\"},\"width\":{\"field\":\"width\",\"units\":\"data\"},\"x\":{\"field\":\"x\"},\"y\":{\"field\":\"y\"}},\"id\":\"b4f383b2-a0f5-4efd-b0b3-e43a71f07bbd\",\"type\":\"Rect\"},{\"attributes\":{\"callback\":null,\"column_names\":[\"x\",\"y\",\"width\",\"height\",\"color\",\"fill_alpha\",\"line_color\",\"line_alpha\",\"label\"],\"data\":{\"chart_index\":[\"(63.670157, 64.664921]\"],\"color\":[\"#f22c40\"],\"fill_alpha\":[0.8],\"height\":[0.0],\"label\":[\"(63.670157, 64.664921]\"],\"line_alpha\":[1.0],\"line_color\":[\"black\"],\"width\":[0.9947643979057617],\"x\":[\"64.167539\"],\"y\":[0.0]}},\"id\":\"5ba1a20a-e0cd-46e6-8826-935082c39078\",\"type\":\"ColumnDataSource\"},{\"attributes\":{\"data_source\":{\"id\":\"20a36e80-777e-4d52-85fb-db121f0da967\",\"type\":\"ColumnDataSource\"},\"glyph\":{\"id\":\"820a7d7d-ae62-4290-880a-a814fe8729cf\",\"type\":\"Rect\"},\"hover_glyph\":null,\"muted_glyph\":null},\"id\":\"e41e42b6-9938-4e68-8f1f-223c0f071b6f\",\"type\":\"GlyphRenderer\"},{\"attributes\":{\"active_drag\":\"auto\",\"active_scroll\":\"auto\",\"active_tap\":\"auto\",\"tools\":[{\"id\":\"40f05a71-51b8-492b-a815-f8007989c799\",\"type\":\"PanTool\"},{\"id\":\"95681251-2401-4f39-9b6b-6ea161e25cc7\",\"type\":\"WheelZoomTool\"},{\"id\":\"db14d2e8-15f4-402c-b9d8-2effa413486e\",\"type\":\"BoxZoomTool\"},{\"id\":\"f15d4e88-6d97-4e5c-ad4f-f8e22dbff23b\",\"type\":\"SaveTool\"},{\"id\":\"e9aad6ff-ee72-4326-8467-ea6801f37f70\",\"type\":\"ResetTool\"},{\"id\":\"542b0952-9a12-464d-9fb4-ae62c2fe6859\",\"type\":\"HelpTool\"}]},\"id\":\"e426e050-e0bc-4360-9e8d-a68b4544dcee\",\"type\":\"Toolbar\"},{\"attributes\":{\"fill_alpha\":{\"field\":\"fill_alpha\"},\"fill_color\":{\"field\":\"color\"},\"height\":{\"field\":\"height\",\"units\":\"data\"},\"line_color\":{\"field\":\"line_color\"},\"width\":{\"field\":\"width\",\"units\":\"data\"},\"x\":{\"field\":\"x\"},\"y\":{\"field\":\"y\"}},\"id\":\"63928f7a-2f56-4fca-9e96-00747350d93f\",\"type\":\"Rect\"},{\"attributes\":{\"callback\":null,\"column_names\":[\"x\",\"y\",\"width\",\"height\",\"color\",\"fill_alpha\",\"line_color\",\"line_alpha\",\"label\"],\"data\":{\"chart_index\":[\"(94.507853, 95.502618]\"],\"color\":[\"#f22c40\"],\"fill_alpha\":[0.8],\"height\":[0.0],\"label\":[\"(94.507853, 95.502618]\"],\"line_alpha\":[1.0],\"line_color\":[\"black\"],\"width\":[0.9947643979057545],\"x\":[\"95.0052355\"],\"y\":[0.0]}},\"id\":\"bd0a297e-bc46-4c36-86ff-6dcf7164cab7\",\"type\":\"ColumnDataSource\"},{\"attributes\":{\"fill_alpha\":{\"field\":\"fill_alpha\"},\"fill_color\":{\"field\":\"color\"},\"height\":{\"field\":\"height\",\"units\":\"data\"},\"line_color\":{\"field\":\"line_color\"},\"width\":{\"field\":\"width\",\"units\":\"data\"},\"x\":{\"field\":\"x\"},\"y\":{\"field\":\"y\"}},\"id\":\"a73d43e8-4536-4f3c-873b-e8f6bc13aafe\",\"type\":\"Rect\"},{\"attributes\":{\"below\":[{\"id\":\"9d25aa86-2e88-41d5-afc3-e2b0f2b073ba\",\"type\":\"LinearAxis\"}],\"css_classes\":null,\"left\":[{\"id\":\"9e4304ee-48b6-4a11-86c9-2daa900a054b\",\"type\":\"LinearAxis\"}],\"renderers\":[{\"id\":\"ae4e7a78-baf2-4b2f-832a-2c8cae744440\",\"type\":\"BoxAnnotation\"},{\"id\":\"cdea4664-5d14-41a1-9bb1-fb1aed641048\",\"type\":\"GlyphRenderer\"},{\"id\":\"67e00674-4ce3-43b8-8188-503e145f07c4\",\"type\":\"GlyphRenderer\"},{\"id\":\"cabc9ce1-804e-4421-af41-f45743da627e\",\"type\":\"GlyphRenderer\"},{\"id\":\"907d2b9c-9f77-416e-b902-60ce6d8a0fd3\",\"type\":\"GlyphRenderer\"},{\"id\":\"6ef45142-e264-4deb-80be-e81503bce3d6\",\"type\":\"GlyphRenderer\"},{\"id\":\"1df5ebdd-3f8d-4a5b-8c9e-c43f4bc54839\",\"type\":\"GlyphRenderer\"},{\"id\":\"17498439-90f2-4ebd-8fc5-91e585b4dd99\",\"type\":\"GlyphRenderer\"},{\"id\":\"ee15ed98-a872-4f33-8bdb-dd2ab9624646\",\"type\":\"GlyphRenderer\"},{\"id\":\"158db9e1-a781-4e65-930a-b02b3d37c9a5\",\"type\":\"GlyphRenderer\"},{\"id\":\"2c2888bc-a638-45dd-9384-0b119c8da707\",\"type\":\"GlyphRenderer\"},{\"id\":\"69308d67-431f-49ba-9fac-e89d69a94fd1\",\"type\":\"GlyphRenderer\"},{\"id\":\"283c5358-5f3a-4776-ac08-f3235d5241c4\",\"type\":\"GlyphRenderer\"},{\"id\":\"b19678ee-ab2d-49ab-9a05-082e28a8595e\",\"type\":\"GlyphRenderer\"},{\"id\":\"2ef42cbf-49a9-418b-bbd6-896ab57203aa\",\"type\":\"GlyphRenderer\"},{\"id\":\"27f2695f-4675-4837-a05a-c9c27ffa92f5\",\"type\":\"GlyphRenderer\"},{\"id\":\"c6f01c37-2934-4722-becd-e3d0d39c1739\",\"type\":\"GlyphRenderer\"},{\"id\":\"2ee1f6f1-a30f-4729-9af7-7d282f4f36fe\",\"type\":\"GlyphRenderer\"},{\"id\":\"1f6de0a0-cca8-42c1-b1da-a2a95d79b61b\",\"type\":\"GlyphRenderer\"},{\"id\":\"b540cce7-149f-4c38-8f65-3d4590ebf40b\",\"type\":\"GlyphRenderer\"},{\"id\":\"66fe5b28-9e5e-410e-9c15-c12731cdfb4c\",\"type\":\"GlyphRenderer\"},{\"id\":\"f99c1d62-f4eb-417e-a654-7807755da00d\",\"type\":\"GlyphRenderer\"},{\"id\":\"232e1416-c104-48ff-bf48-014205eebbd4\",\"type\":\"GlyphRenderer\"},{\"id\":\"02317aae-f1d9-4a28-b6b0-759cd7b6b836\",\"type\":\"GlyphRenderer\"},{\"id\":\"3a70fb81-40a7-4b4c-9e57-29ce09c0c377\",\"type\":\"GlyphRenderer\"},{\"id\":\"945cfbaa-78fa-49cc-a06c-5928b76cd05c\",\"type\":\"GlyphRenderer\"},{\"id\":\"f0b7be33-36fc-477c-9d7e-7c5c19ca22f2\",\"type\":\"GlyphRenderer\"},{\"id\":\"5ec04597-ba64-454f-a5e9-54a59e033ecb\",\"type\":\"GlyphRenderer\"},{\"id\":\"8878e6a2-aa9c-47ff-924d-c7585e5f213f\",\"type\":\"GlyphRenderer\"},{\"id\":\"fb0e5357-bc05-4984-91ba-ea79fdc05885\",\"type\":\"GlyphRenderer\"},{\"id\":\"e0b176f6-6c6d-49b1-87a5-0caa54063f4a\",\"type\":\"GlyphRenderer\"},{\"id\":\"b693af1a-1a90-47e3-88d0-f8c43e9cebba\",\"type\":\"GlyphRenderer\"},{\"id\":\"8fdf2268-9054-419f-b9d1-a66bc6aa2ed4\",\"type\":\"GlyphRenderer\"},{\"id\":\"a81f5479-aa57-4f9a-bc69-68ce42ede2e9\",\"type\":\"GlyphRenderer\"},{\"id\":\"fb39e2ae-426c-45d7-8084-9f60827c27d1\",\"type\":\"GlyphRenderer\"},{\"id\":\"486efd2c-90ba-43d6-b71e-63f257f60b63\",\"type\":\"GlyphRenderer\"},{\"id\":\"9a70e033-f17c-46a5-92e5-af31955bdc9c\",\"type\":\"GlyphRenderer\"},{\"id\":\"a24d079f-3913-42f1-9b75-ba00d84e2187\",\"type\":\"GlyphRenderer\"},{\"id\":\"49c060b8-07c9-44c4-bd02-a3961faad90d\",\"type\":\"GlyphRenderer\"},{\"id\":\"2fbfd3fb-3957-4181-880e-1cf538e48e9f\",\"type\":\"GlyphRenderer\"},{\"id\":\"3881cc5f-5440-4bd8-9bcf-c1742d3ffcdd\",\"type\":\"GlyphRenderer\"},{\"id\":\"69a083d3-926c-4753-b4d7-836e96186ff2\",\"type\":\"GlyphRenderer\"},{\"id\":\"07e33933-5aa6-462e-8935-905b8eb364d0\",\"type\":\"GlyphRenderer\"},{\"id\":\"78755454-3b2e-43a1-93af-1f2e0907f638\",\"type\":\"GlyphRenderer\"},{\"id\":\"4d5de4f1-1573-47bc-a7af-373a799327b9\",\"type\":\"GlyphRenderer\"},{\"id\":\"d80d406a-2b4e-4aeb-b1d0-c012796eb90d\",\"type\":\"GlyphRenderer\"},{\"id\":\"e6081b39-fd63-4db2-b34c-a835a78c83d0\",\"type\":\"GlyphRenderer\"},{\"id\":\"b59215f3-3949-4c36-8e37-0a7b6eec9c21\",\"type\":\"GlyphRenderer\"},{\"id\":\"8f4a7854-78f2-47c8-be6a-36600a839332\",\"type\":\"GlyphRenderer\"},{\"id\":\"38b1dfee-4333-4180-a388-86f6abfab7bd\",\"type\":\"GlyphRenderer\"},{\"id\":\"1fa11dd8-aea1-4301-b59e-1dfa9fcecebf\",\"type\":\"GlyphRenderer\"},{\"id\":\"7fc06c71-a99b-481c-b720-973005376e24\",\"type\":\"GlyphRenderer\"},{\"id\":\"2419e0a8-9095-4f9a-82b3-8d633a7e799e\",\"type\":\"GlyphRenderer\"},{\"id\":\"25c39482-fa95-4602-ac77-4f987dc358c1\",\"type\":\"GlyphRenderer\"},{\"id\":\"7172eca6-bd69-4bcf-b4e4-4e5eebcebcc2\",\"type\":\"GlyphRenderer\"},{\"id\":\"a09f7880-c4fd-4895-b84b-972874269115\",\"type\":\"GlyphRenderer\"},{\"id\":\"0e1d044f-2bd8-4a8f-836e-b574f79b0a6e\",\"type\":\"GlyphRenderer\"},{\"id\":\"1052394c-8a2d-4cc3-a81f-ed0cc25e3984\",\"type\":\"GlyphRenderer\"},{\"id\":\"2b49f04f-6d63-47af-b593-b7860049fbcb\",\"type\":\"GlyphRenderer\"},{\"id\":\"11a455e2-0fb7-4c3e-880b-cf9bd7043a5a\",\"type\":\"GlyphRenderer\"},{\"id\":\"7d62f185-eb84-44aa-8c10-3eec261c6360\",\"type\":\"GlyphRenderer\"},{\"id\":\"c3dfca7a-2330-4000-a087-e8e935eaa5b6\",\"type\":\"GlyphRenderer\"},{\"id\":\"80d5436f-643d-40da-a631-057c709fd68c\",\"type\":\"GlyphRenderer\"},{\"id\":\"77b8a1c1-5076-4a43-8adb-3eb3b172859d\",\"type\":\"GlyphRenderer\"},{\"id\":\"b3f83a6f-a794-48a5-aa73-9706d15d9ecf\",\"type\":\"GlyphRenderer\"},{\"id\":\"7d59e264-0b9f-4b26-825d-af0263bed5ee\",\"type\":\"GlyphRenderer\"},{\"id\":\"621a3bab-0885-4d46-8fe6-c14f5460d8e6\",\"type\":\"GlyphRenderer\"},{\"id\":\"55150019-c1cb-40f7-bc71-8f0c46e7e307\",\"type\":\"GlyphRenderer\"},{\"id\":\"77b8d9eb-0f4a-4e6a-a63d-c510c2e8811b\",\"type\":\"GlyphRenderer\"},{\"id\":\"11cbd858-51c9-47a2-ab63-b27b6f7c6148\",\"type\":\"GlyphRenderer\"},{\"id\":\"8fccb73a-6c4d-4900-877b-4ddeb365bdd9\",\"type\":\"GlyphRenderer\"},{\"id\":\"8a85ab6d-f32c-44f6-9033-50185e4f5a4e\",\"type\":\"GlyphRenderer\"},{\"id\":\"ea8b87d4-0ede-45d7-af0e-c3ec4f918598\",\"type\":\"GlyphRenderer\"},{\"id\":\"ac3f8c71-281b-4c1d-b17a-f294a07a03ef\",\"type\":\"GlyphRenderer\"},{\"id\":\"f02d3653-0d8f-40e5-9c65-bd2a90a6ee6f\",\"type\":\"GlyphRenderer\"},{\"id\":\"c4573b4c-0763-4fdf-891e-559d164b8225\",\"type\":\"GlyphRenderer\"},{\"id\":\"7ca78306-d66a-485c-a72c-7c38918cec1a\",\"type\":\"GlyphRenderer\"},{\"id\":\"7446727a-286b-4b69-8638-8426c9e3f764\",\"type\":\"GlyphRenderer\"},{\"id\":\"4b123fc7-51b1-46f1-a935-97f70fb8ea08\",\"type\":\"GlyphRenderer\"},{\"id\":\"75c8ed22-5ea6-42f3-b8d6-2677688f102a\",\"type\":\"GlyphRenderer\"},{\"id\":\"c4b1b1c8-b2e9-4ec8-9506-7f1dca6a6972\",\"type\":\"GlyphRenderer\"},{\"id\":\"d53bdbd8-98a2-45fa-aebd-3636c19885ed\",\"type\":\"GlyphRenderer\"},{\"id\":\"a184944c-a54e-4cda-8d81-72c70edd202a\",\"type\":\"GlyphRenderer\"},{\"id\":\"ebdb1226-337e-478b-8a36-96ff3855877b\",\"type\":\"GlyphRenderer\"},{\"id\":\"8b9c7792-15b2-4d91-817c-36b2cd711b24\",\"type\":\"GlyphRenderer\"},{\"id\":\"1e858b36-99f3-4b7b-8a1f-e949e29c6a2d\",\"type\":\"GlyphRenderer\"},{\"id\":\"c9be751d-478a-4ac0-b13d-8e0163088d45\",\"type\":\"GlyphRenderer\"},{\"id\":\"e4944d6a-fd6d-43d9-bd24-2ff73a3d16e6\",\"type\":\"GlyphRenderer\"},{\"id\":\"6ffdbfc4-af00-48b5-97b3-5e8159df3663\",\"type\":\"GlyphRenderer\"},{\"id\":\"317af6de-20c5-4a16-8b89-5d52f2dfa43b\",\"type\":\"GlyphRenderer\"},{\"id\":\"8f2f1261-0e7c-4969-9fe7-ea719c23cc62\",\"type\":\"GlyphRenderer\"},{\"id\":\"54bfa79b-bca4-4be3-9eee-1e18a8f74245\",\"type\":\"GlyphRenderer\"},{\"id\":\"7465365e-b63d-4e49-aceb-387bb4b27ba2\",\"type\":\"GlyphRenderer\"},{\"id\":\"e41e42b6-9938-4e68-8f1f-223c0f071b6f\",\"type\":\"GlyphRenderer\"},{\"id\":\"62782f9d-06d2-466c-b27e-9298d90da3ce\",\"type\":\"GlyphRenderer\"},{\"id\":\"3da7bc70-f5eb-4805-a793-6f4ec3f3b2f5\",\"type\":\"GlyphRenderer\"},{\"id\":\"d97e74d1-b309-4f57-b249-982a8139df2d\",\"type\":\"GlyphRenderer\"},{\"id\":\"a3148b60-b747-4dbf-a373-bd0484b7a399\",\"type\":\"GlyphRenderer\"},{\"id\":\"d65590b7-cd0b-4d2b-b0fd-b57a8805e7cf\",\"type\":\"GlyphRenderer\"},{\"id\":\"6fabc963-c658-41cc-bcea-d6ed4ce314c3\",\"type\":\"GlyphRenderer\"},{\"id\":\"50fe629f-ce7e-49b4-85da-20c11e65a320\",\"type\":\"GlyphRenderer\"},{\"id\":\"76fcba4d-1a8c-4876-817d-9e5a45737b0e\",\"type\":\"GlyphRenderer\"},{\"id\":\"457c9eec-6dfe-48c8-885a-a38fb99fea37\",\"type\":\"GlyphRenderer\"},{\"id\":\"98c6f6c8-6ae1-4e43-a17d-11dcb6b2d150\",\"type\":\"GlyphRenderer\"},{\"id\":\"7b3cc707-522a-45ea-adcd-3823efcf5853\",\"type\":\"GlyphRenderer\"},{\"id\":\"3e48c2f5-39e2-42bb-a77a-8378c7103b5e\",\"type\":\"GlyphRenderer\"},{\"id\":\"d881c6cc-a8b8-43d2-86d3-20e6e1a4067c\",\"type\":\"GlyphRenderer\"},{\"id\":\"c3d53478-b2a4-4330-8cf5-678e0c3f6176\",\"type\":\"GlyphRenderer\"},{\"id\":\"06d05ccb-5ed0-430d-889e-12b32895222c\",\"type\":\"GlyphRenderer\"},{\"id\":\"501436ec-c50d-4ce8-8d6f-c8e8fb86b0fa\",\"type\":\"GlyphRenderer\"},{\"id\":\"15431da1-d64c-48e7-9ea0-e4e3fb6de269\",\"type\":\"GlyphRenderer\"},{\"id\":\"6159c437-6d56-4672-b59e-326e069f0eda\",\"type\":\"GlyphRenderer\"},{\"id\":\"910f33fb-17dc-4ea6-bee3-4bba18220a08\",\"type\":\"GlyphRenderer\"},{\"id\":\"c5f73209-2ff6-494a-a900-fc7f55b83b2f\",\"type\":\"GlyphRenderer\"},{\"id\":\"399e64a8-a52d-4ebc-ad08-2f16f644fa68\",\"type\":\"GlyphRenderer\"},{\"id\":\"c4fa96fa-3aed-4fe9-9d0d-b0f7dc103dc3\",\"type\":\"GlyphRenderer\"},{\"id\":\"06d07483-5d09-4920-94e5-a0e6e89b1e10\",\"type\":\"GlyphRenderer\"},{\"id\":\"dd964677-6b0f-4952-8224-def6d5f013ed\",\"type\":\"GlyphRenderer\"},{\"id\":\"deda529b-fb04-4b8f-b95c-866e15b9f31b\",\"type\":\"GlyphRenderer\"},{\"id\":\"36e33553-b916-42cb-996c-d865041b2c88\",\"type\":\"GlyphRenderer\"},{\"id\":\"a8061383-fb5d-41d7-9eeb-355a6fbf3a08\",\"type\":\"GlyphRenderer\"},{\"id\":\"10d415ec-cbb1-4cfd-bba6-0b1239410a06\",\"type\":\"GlyphRenderer\"},{\"id\":\"01a882f9-e0d3-4bdb-9baa-95ab2eeb5780\",\"type\":\"GlyphRenderer\"},{\"id\":\"1beaaa87-51f0-4e07-968c-9f10bd95738a\",\"type\":\"GlyphRenderer\"},{\"id\":\"f2d132f0-1c0f-49bd-9972-84067553164a\",\"type\":\"GlyphRenderer\"},{\"id\":\"c697b844-b7ec-4a44-a6e8-ef0da911c977\",\"type\":\"GlyphRenderer\"},{\"id\":\"2ab0c337-c4a7-4593-b4a5-c4eb29dcc2df\",\"type\":\"GlyphRenderer\"},{\"id\":\"15de3d0f-ba78-44b5-bcf9-37350025ff92\",\"type\":\"GlyphRenderer\"},{\"id\":\"b270c59b-7cb6-4fa1-b177-bf6a1eb265a8\",\"type\":\"GlyphRenderer\"},{\"id\":\"e0ab3a1d-842f-4349-99c4-ba9c30f1039a\",\"type\":\"GlyphRenderer\"},{\"id\":\"83403fdd-c915-4c7d-8808-9037a6c4c1d6\",\"type\":\"GlyphRenderer\"},{\"id\":\"ea7a6ec8-24ba-4797-9b83-3b54fb4b06a8\",\"type\":\"GlyphRenderer\"},{\"id\":\"22483cf0-dfac-4e8f-b822-d78b90cfec60\",\"type\":\"GlyphRenderer\"},{\"id\":\"6013ec34-efe9-4de2-b2a5-6809b111b2d6\",\"type\":\"GlyphRenderer\"},{\"id\":\"ec380720-f894-449a-8051-c83e57c6a774\",\"type\":\"GlyphRenderer\"},{\"id\":\"c00d0382-6f2b-4d37-ac37-c47d2f1ed675\",\"type\":\"GlyphRenderer\"},{\"id\":\"598964fb-2a31-409c-99d2-b89cbbee7a83\",\"type\":\"GlyphRenderer\"},{\"id\":\"bc849fac-ce2a-41c3-8f2b-eb97adc8990d\",\"type\":\"GlyphRenderer\"},{\"id\":\"29d9f490-642e-403e-a268-0b0fe93f2613\",\"type\":\"GlyphRenderer\"},{\"id\":\"793311af-8173-4817-abf5-c85cc4d46ab0\",\"type\":\"GlyphRenderer\"},{\"id\":\"505e3036-454f-4637-ac95-0c69109d54b0\",\"type\":\"GlyphRenderer\"},{\"id\":\"566a5d19-db45-47c8-b1bf-029d5cb33091\",\"type\":\"GlyphRenderer\"},{\"id\":\"8266336e-e390-4855-be21-2bf7b5836ca9\",\"type\":\"GlyphRenderer\"},{\"id\":\"241b222e-cb42-43b8-829a-0eec07517d16\",\"type\":\"GlyphRenderer\"},{\"id\":\"c104ac00-db31-428b-8bfd-c66c7d139d2e\",\"type\":\"GlyphRenderer\"},{\"id\":\"bcf26b22-ea12-493a-922d-b5df197fdc87\",\"type\":\"GlyphRenderer\"},{\"id\":\"d3a4b5f0-d947-4067-b3fb-0f05f1515a7a\",\"type\":\"GlyphRenderer\"},{\"id\":\"dbbec0e3-dcbf-4e96-a7b1-45e4dcabc274\",\"type\":\"GlyphRenderer\"},{\"id\":\"c4a07b30-3b65-4677-8569-870b1a118355\",\"type\":\"GlyphRenderer\"},{\"id\":\"d0798cbf-30c4-4fb1-879f-d91b1431179e\",\"type\":\"GlyphRenderer\"},{\"id\":\"34f2ac4d-878a-4764-a404-6d5ede8a919f\",\"type\":\"GlyphRenderer\"},{\"id\":\"9f0e4149-71de-48b8-912e-ea43f1243f38\",\"type\":\"GlyphRenderer\"},{\"id\":\"1d0a8a1d-e4dc-4118-8de9-a4a12b6b2ccd\",\"type\":\"GlyphRenderer\"},{\"id\":\"10b09bc5-e517-4abc-a75e-e7a93c231c82\",\"type\":\"GlyphRenderer\"},{\"id\":\"2dc97a7a-26df-4e48-9112-17d3a41c4030\",\"type\":\"GlyphRenderer\"},{\"id\":\"a583442d-56c5-480a-9c01-e6de704c7195\",\"type\":\"GlyphRenderer\"},{\"id\":\"1f2f0a19-81eb-4978-b10e-736d75c6212f\",\"type\":\"GlyphRenderer\"},{\"id\":\"1340cfc2-9b08-4a60-aa91-07520b9b351d\",\"type\":\"GlyphRenderer\"},{\"id\":\"4978959a-3e5e-4155-8588-7fc5ffc65640\",\"type\":\"GlyphRenderer\"},{\"id\":\"6789e038-490e-4c36-96c4-576717c34c07\",\"type\":\"GlyphRenderer\"},{\"id\":\"fed4e39b-9fe9-40a4-8e87-8d5bb03409c6\",\"type\":\"GlyphRenderer\"},{\"id\":\"25e55423-e3b5-48dd-92d7-d93a21b393a4\",\"type\":\"GlyphRenderer\"},{\"id\":\"30288ba7-56b2-477c-a9ae-86db16ddcb27\",\"type\":\"GlyphRenderer\"},{\"id\":\"66b89be9-b5a5-4cc9-9077-c4793d50591a\",\"type\":\"GlyphRenderer\"},{\"id\":\"bcaadfcd-b976-4d4d-bf2e-fd33f735f761\",\"type\":\"GlyphRenderer\"},{\"id\":\"57934c46-1c75-4ceb-89c6-c1fc71eea0b0\",\"type\":\"GlyphRenderer\"},{\"id\":\"a13cb224-7037-44cd-9161-cce29f3be6dc\",\"type\":\"GlyphRenderer\"},{\"id\":\"b0ce898c-6b61-4735-98c8-0b617e87fce1\",\"type\":\"GlyphRenderer\"},{\"id\":\"26a576a1-7cf1-43da-a9ac-e6a960fbcaac\",\"type\":\"GlyphRenderer\"},{\"id\":\"7d4d61fa-2864-4d80-8c19-9e940d8dc00b\",\"type\":\"GlyphRenderer\"},{\"id\":\"2c4aca2f-ae7e-4063-9e2c-b0b3954b9f88\",\"type\":\"GlyphRenderer\"},{\"id\":\"930cb67e-c459-4480-ae5b-1787a1c6e580\",\"type\":\"GlyphRenderer\"},{\"id\":\"3db8da31-41c1-4f47-ac44-9b105f5f991f\",\"type\":\"GlyphRenderer\"},{\"id\":\"2b7c5875-78e3-4ca9-a1a0-09b694fe34c3\",\"type\":\"GlyphRenderer\"},{\"id\":\"eff707a3-3c91-444f-9ec7-064d4a78d495\",\"type\":\"GlyphRenderer\"},{\"id\":\"6e9ad742-07a7-4441-b6b2-674251cf1e13\",\"type\":\"GlyphRenderer\"},{\"id\":\"7b6dac10-ee3b-4757-a79d-53aeb6e0693b\",\"type\":\"GlyphRenderer\"},{\"id\":\"b442a491-102c-4324-bc8b-8d577cef4c0d\",\"type\":\"GlyphRenderer\"},{\"id\":\"6bd1c524-8944-424a-bdf2-bc463eea2a18\",\"type\":\"GlyphRenderer\"},{\"id\":\"edc7eeaf-6abe-4672-9f08-6a970be95dac\",\"type\":\"GlyphRenderer\"},{\"id\":\"81510343-8cb1-4864-a2ec-c09278edf1b3\",\"type\":\"GlyphRenderer\"},{\"id\":\"0255fb48-ad40-4710-9f5d-3bae8079c40c\",\"type\":\"GlyphRenderer\"},{\"id\":\"097d86cd-d1f2-44b3-8988-34e8e8b4c6f3\",\"type\":\"GlyphRenderer\"},{\"id\":\"09b4ed84-8a2b-42e0-8fb8-845414a09739\",\"type\":\"GlyphRenderer\"},{\"id\":\"958aacd2-c439-4013-a924-27199c1f3524\",\"type\":\"GlyphRenderer\"},{\"id\":\"67843604-c072-42f2-81f5-45d9a253a9ec\",\"type\":\"GlyphRenderer\"},{\"id\":\"28a9c2d9-7aff-4131-b40e-0bd63df7528c\",\"type\":\"GlyphRenderer\"},{\"id\":\"13b11277-3da8-4c56-b7e6-8eec4e2654ed\",\"type\":\"GlyphRenderer\"},{\"id\":\"1846b0f0-356b-45da-a349-bac51dda5e3c\",\"type\":\"GlyphRenderer\"},{\"id\":\"e4f613b7-fe74-4828-9d98-39adca5c2c24\",\"type\":\"GlyphRenderer\"},{\"id\":\"bda57e46-61db-4e23-8905-4d1b78517766\",\"type\":\"GlyphRenderer\"},{\"id\":\"117b349d-a9f4-4c94-8f6f-f2cca58160d5\",\"type\":\"GlyphRenderer\"},{\"id\":\"4c47eda1-1a8f-4c7e-94a3-6836547a38c7\",\"type\":\"Legend\"},{\"id\":\"9d25aa86-2e88-41d5-afc3-e2b0f2b073ba\",\"type\":\"LinearAxis\"},{\"id\":\"9e4304ee-48b6-4a11-86c9-2daa900a054b\",\"type\":\"LinearAxis\"},{\"id\":\"4b7d57d6-29dc-49aa-9a6d-4a076c1b68fa\",\"type\":\"Grid\"}],\"title\":{\"id\":\"4eb6ed9b-5d30-464f-807b-880777c11d51\",\"type\":\"Title\"},\"tool_events\":{\"id\":\"48b14401-a4d7-4455-b919-d61a9d31df7f\",\"type\":\"ToolEvents\"},\"toolbar\":{\"id\":\"e426e050-e0bc-4360-9e8d-a68b4544dcee\",\"type\":\"Toolbar\"},\"x_mapper_type\":\"auto\",\"x_range\":{\"id\":\"84b3b8cb-1334-4464-8587-19ac6427db1c\",\"type\":\"Range1d\"},\"y_mapper_type\":\"auto\",\"y_range\":{\"id\":\"20ea25c5-f9f4-460d-a711-0895f40e0981\",\"type\":\"Range1d\"}},\"id\":\"53d9fb3e-3964-4a30-990b-e28fa9d24964\",\"subtype\":\"Chart\",\"type\":\"Plot\"},{\"attributes\":{},\"id\":\"48b14401-a4d7-4455-b919-d61a9d31df7f\",\"type\":\"ToolEvents\"},{\"attributes\":{\"fill_alpha\":{\"field\":\"fill_alpha\"},\"fill_color\":{\"field\":\"color\"},\"height\":{\"field\":\"height\",\"units\":\"data\"},\"line_color\":{\"field\":\"line_color\"},\"width\":{\"field\":\"width\",\"units\":\"data\"},\"x\":{\"field\":\"x\"},\"y\":{\"field\":\"y\"}},\"id\":\"c4d9eb3f-c167-4e24-bf3b-3da7fd6ce66a\",\"type\":\"Rect\"},{\"attributes\":{\"callback\":null,\"column_names\":[\"x\",\"y\",\"width\",\"height\",\"color\",\"fill_alpha\",\"line_color\",\"line_alpha\",\"label\"],\"data\":{\"chart_index\":[\"(95.502618, 96.497382]\"],\"color\":[\"#f22c40\"],\"fill_alpha\":[0.8],\"height\":[1.0],\"label\":[\"(95.502618, 96.497382]\"],\"line_alpha\":[1.0],\"line_color\":[\"black\"],\"width\":[0.9947643979057688],\"x\":[\"96.0\"],\"y\":[0.5]}},\"id\":\"7cb6cd2d-2148-4972-be2d-6fdf80a19f7a\",\"type\":\"ColumnDataSource\"},{\"attributes\":{\"data_source\":{\"id\":\"4cb745ba-1a74-4866-bbb5-b28cf2c95578\",\"type\":\"ColumnDataSource\"},\"glyph\":{\"id\":\"7741fd62-d588-4b5a-bec0-d3a4ea374a38\",\"type\":\"Rect\"},\"hover_glyph\":null,\"muted_glyph\":null},\"id\":\"77b8a1c1-5076-4a43-8adb-3eb3b172859d\",\"type\":\"GlyphRenderer\"},{\"attributes\":{\"fill_alpha\":{\"field\":\"fill_alpha\"},\"fill_color\":{\"field\":\"color\"},\"height\":{\"field\":\"height\",\"units\":\"data\"},\"line_color\":{\"field\":\"line_color\"},\"width\":{\"field\":\"width\",\"units\":\"data\"},\"x\":{\"field\":\"x\"},\"y\":{\"field\":\"y\"}},\"id\":\"6cec53f5-8331-481b-91ec-a8c9623fabd0\",\"type\":\"Rect\"},{\"attributes\":{\"data_source\":{\"id\":\"3a910daa-5f3e-4a68-8345-85b8dfbf94c5\",\"type\":\"ColumnDataSource\"},\"glyph\":{\"id\":\"107d9fed-0112-40f7-80a9-28bb9be3afef\",\"type\":\"Rect\"},\"hover_glyph\":null,\"muted_glyph\":null},\"id\":\"62782f9d-06d2-466c-b27e-9298d90da3ce\",\"type\":\"GlyphRenderer\"},{\"attributes\":{\"data_source\":{\"id\":\"25c6f193-931f-4d86-8e4c-c3a6d260d352\",\"type\":\"ColumnDataSource\"},\"glyph\":{\"id\":\"dfb70895-57f6-4f8a-b7bb-7ac612ac7c35\",\"type\":\"Rect\"},\"hover_glyph\":null,\"muted_glyph\":null},\"id\":\"77b8d9eb-0f4a-4e6a-a63d-c510c2e8811b\",\"type\":\"GlyphRenderer\"},{\"attributes\":{\"fill_alpha\":{\"field\":\"fill_alpha\"},\"fill_color\":{\"field\":\"color\"},\"height\":{\"field\":\"height\",\"units\":\"data\"},\"line_color\":{\"field\":\"line_color\"},\"width\":{\"field\":\"width\",\"units\":\"data\"},\"x\":{\"field\":\"x\"},\"y\":{\"field\":\"y\"}},\"id\":\"e7fb7f0a-c30c-46a0-9c23-52f85077c557\",\"type\":\"Rect\"},{\"attributes\":{\"callback\":null,\"column_names\":[\"x\",\"y\",\"width\",\"height\",\"color\",\"fill_alpha\",\"line_color\",\"line_alpha\",\"label\"],\"data\":{\"chart_index\":[\"(128.329843, 129.324607]\"],\"color\":[\"#f22c40\"],\"fill_alpha\":[0.8],\"height\":[0.0],\"label\":[\"(128.329843, 129.324607]\"],\"line_alpha\":[1.0],\"line_color\":[\"black\"],\"width\":[0.9947643979057545],\"x\":[\"128.827225\"],\"y\":[0.0]}},\"id\":\"eac6737a-34a5-401a-9513-188eaaf2b577\",\"type\":\"ColumnDataSource\"},{\"attributes\":{\"fill_alpha\":{\"field\":\"fill_alpha\"},\"fill_color\":{\"field\":\"color\"},\"height\":{\"field\":\"height\",\"units\":\"data\"},\"line_color\":{\"field\":\"line_color\"},\"width\":{\"field\":\"width\",\"units\":\"data\"},\"x\":{\"field\":\"x\"},\"y\":{\"field\":\"y\"}},\"id\":\"b21721b0-56b5-45f6-8713-683aad17f6f8\",\"type\":\"Rect\"},{\"attributes\":{\"fill_alpha\":{\"field\":\"fill_alpha\"},\"fill_color\":{\"field\":\"color\"},\"height\":{\"field\":\"height\",\"units\":\"data\"},\"line_color\":{\"field\":\"line_color\"},\"width\":{\"field\":\"width\",\"units\":\"data\"},\"x\":{\"field\":\"x\"},\"y\":{\"field\":\"y\"}},\"id\":\"f09e4233-2d8e-4493-a8ce-81dba7ede748\",\"type\":\"Rect\"},{\"attributes\":{\"fill_alpha\":{\"field\":\"fill_alpha\"},\"fill_color\":{\"field\":\"color\"},\"height\":{\"field\":\"height\",\"units\":\"data\"},\"line_color\":{\"field\":\"line_color\"},\"width\":{\"field\":\"width\",\"units\":\"data\"},\"x\":{\"field\":\"x\"},\"y\":{\"field\":\"y\"}},\"id\":\"cce12e6d-b117-41f2-8739-91706f484dc4\",\"type\":\"Rect\"},{\"attributes\":{\"data_source\":{\"id\":\"bd0a297e-bc46-4c36-86ff-6dcf7164cab7\",\"type\":\"ColumnDataSource\"},\"glyph\":{\"id\":\"a73d43e8-4536-4f3c-873b-e8f6bc13aafe\",\"type\":\"Rect\"},\"hover_glyph\":null,\"muted_glyph\":null},\"id\":\"3da7bc70-f5eb-4805-a793-6f4ec3f3b2f5\",\"type\":\"GlyphRenderer\"},{\"attributes\":{\"callback\":null,\"column_names\":[\"x\",\"y\",\"width\",\"height\",\"color\",\"fill_alpha\",\"line_color\",\"line_alpha\",\"label\"],\"data\":{\"chart_index\":[\"(129.324607, 130.319372]\"],\"color\":[\"#f22c40\"],\"fill_alpha\":[0.8],\"height\":[0.0],\"label\":[\"(129.324607, 130.319372]\"],\"line_alpha\":[1.0],\"line_color\":[\"black\"],\"width\":[0.9947643979057545],\"x\":[\"129.82198949999997\"],\"y\":[0.0]}},\"id\":\"51cb7777-6ecf-4c93-876f-efb7e3f9901a\",\"type\":\"ColumnDataSource\"},{\"attributes\":{\"callback\":null,\"column_names\":[\"x\",\"y\",\"width\",\"height\",\"color\",\"fill_alpha\",\"line_color\",\"line_alpha\",\"label\"],\"data\":{\"chart_index\":[\"(98.486911, 99.481675]\"],\"color\":[\"#f22c40\"],\"fill_alpha\":[0.8],\"height\":[0.0],\"label\":[\"(98.486911, 99.481675]\"],\"line_alpha\":[1.0],\"line_color\":[\"black\"],\"width\":[0.9947643979057545],\"x\":[\"98.98429300000001\"],\"y\":[0.0]}},\"id\":\"36f17e1c-af5d-4d7b-806d-781d92d50019\",\"type\":\"ColumnDataSource\"},{\"attributes\":{\"fill_alpha\":{\"field\":\"fill_alpha\"},\"fill_color\":{\"field\":\"color\"},\"height\":{\"field\":\"height\",\"units\":\"data\"},\"line_color\":{\"field\":\"line_color\"},\"width\":{\"field\":\"width\",\"units\":\"data\"},\"x\":{\"field\":\"x\"},\"y\":{\"field\":\"y\"}},\"id\":\"77c8b532-7ddf-4b0b-835d-61caea07df76\",\"type\":\"Rect\"},{\"attributes\":{\"fill_alpha\":{\"field\":\"fill_alpha\"},\"fill_color\":{\"field\":\"color\"},\"height\":{\"field\":\"height\",\"units\":\"data\"},\"line_color\":{\"field\":\"line_color\"},\"width\":{\"field\":\"width\",\"units\":\"data\"},\"x\":{\"field\":\"x\"},\"y\":{\"field\":\"y\"}},\"id\":\"7f372d1f-91db-4292-b437-fba8010b9d9f\",\"type\":\"Rect\"},{\"attributes\":{\"data_source\":{\"id\":\"eac6737a-34a5-401a-9513-188eaaf2b577\",\"type\":\"ColumnDataSource\"},\"glyph\":{\"id\":\"f09e4233-2d8e-4493-a8ce-81dba7ede748\",\"type\":\"Rect\"},\"hover_glyph\":null,\"muted_glyph\":null},\"id\":\"e0ab3a1d-842f-4349-99c4-ba9c30f1039a\",\"type\":\"GlyphRenderer\"},{\"attributes\":{\"callback\":null,\"column_names\":[\"x\",\"y\",\"width\",\"height\",\"color\",\"fill_alpha\",\"line_color\",\"line_alpha\",\"label\"],\"data\":{\"chart_index\":[\"(97.492147, 98.486911]\"],\"color\":[\"#f22c40\"],\"fill_alpha\":[0.8],\"height\":[0.0],\"label\":[\"(97.492147, 98.486911]\"],\"line_alpha\":[1.0],\"line_color\":[\"black\"],\"width\":[0.9947643979057545],\"x\":[\"97.989529\"],\"y\":[0.0]}},\"id\":\"2d95a93b-ef50-44c4-b0d4-df33c141f2ad\",\"type\":\"ColumnDataSource\"},{\"attributes\":{\"fill_alpha\":{\"field\":\"fill_alpha\"},\"fill_color\":{\"field\":\"color\"},\"height\":{\"field\":\"height\",\"units\":\"data\"},\"line_color\":{\"field\":\"line_color\"},\"width\":{\"field\":\"width\",\"units\":\"data\"},\"x\":{\"field\":\"x\"},\"y\":{\"field\":\"y\"}},\"id\":\"b8d6e857-85c2-4e0c-87e9-58bdcddd154d\",\"type\":\"Rect\"},{\"attributes\":{\"fill_alpha\":{\"field\":\"fill_alpha\"},\"fill_color\":{\"field\":\"color\"},\"height\":{\"field\":\"height\",\"units\":\"data\"},\"line_color\":{\"field\":\"line_color\"},\"width\":{\"field\":\"width\",\"units\":\"data\"},\"x\":{\"field\":\"x\"},\"y\":{\"field\":\"y\"}},\"id\":\"0d7f41c5-b392-444f-8559-a89293b564ed\",\"type\":\"Rect\"},{\"attributes\":{\"data_source\":{\"id\":\"2d95a93b-ef50-44c4-b0d4-df33c141f2ad\",\"type\":\"ColumnDataSource\"},\"glyph\":{\"id\":\"7f372d1f-91db-4292-b437-fba8010b9d9f\",\"type\":\"Rect\"},\"hover_glyph\":null,\"muted_glyph\":null},\"id\":\"d65590b7-cd0b-4d2b-b0fd-b57a8805e7cf\",\"type\":\"GlyphRenderer\"},{\"attributes\":{\"fill_alpha\":{\"field\":\"fill_alpha\"},\"fill_color\":{\"field\":\"color\"},\"height\":{\"field\":\"height\",\"units\":\"data\"},\"line_color\":{\"field\":\"line_color\"},\"width\":{\"field\":\"width\",\"units\":\"data\"},\"x\":{\"field\":\"x\"},\"y\":{\"field\":\"y\"}},\"id\":\"02ce86d2-840f-4f7a-8e08-70bb80aa926a\",\"type\":\"Rect\"},{\"attributes\":{\"fill_alpha\":{\"field\":\"fill_alpha\"},\"fill_color\":{\"field\":\"color\"},\"height\":{\"field\":\"height\",\"units\":\"data\"},\"line_color\":{\"field\":\"line_color\"},\"width\":{\"field\":\"width\",\"units\":\"data\"},\"x\":{\"field\":\"x\"},\"y\":{\"field\":\"y\"}},\"id\":\"c67508b0-f596-4627-966e-44b174c7e305\",\"type\":\"Rect\"},{\"attributes\":{\"fill_alpha\":{\"field\":\"fill_alpha\"},\"fill_color\":{\"field\":\"color\"},\"height\":{\"field\":\"height\",\"units\":\"data\"},\"line_color\":{\"field\":\"line_color\"},\"width\":{\"field\":\"width\",\"units\":\"data\"},\"x\":{\"field\":\"x\"},\"y\":{\"field\":\"y\"}},\"id\":\"283f355b-29e3-40da-9005-f6e1f118a50d\",\"type\":\"Rect\"},{\"attributes\":{\"data_source\":{\"id\":\"51cb7777-6ecf-4c93-876f-efb7e3f9901a\",\"type\":\"ColumnDataSource\"},\"glyph\":{\"id\":\"cce12e6d-b117-41f2-8739-91706f484dc4\",\"type\":\"Rect\"},\"hover_glyph\":null,\"muted_glyph\":null},\"id\":\"83403fdd-c915-4c7d-8808-9037a6c4c1d6\",\"type\":\"GlyphRenderer\"},{\"attributes\":{\"data_source\":{\"id\":\"3f68c593-8556-4ba1-a0e3-73bffbbbbea7\",\"type\":\"ColumnDataSource\"},\"glyph\":{\"id\":\"b8d6e857-85c2-4e0c-87e9-58bdcddd154d\",\"type\":\"Rect\"},\"hover_glyph\":null,\"muted_glyph\":null},\"id\":\"ea7a6ec8-24ba-4797-9b83-3b54fb4b06a8\",\"type\":\"GlyphRenderer\"},{\"attributes\":{\"callback\":null,\"column_names\":[\"x\",\"y\",\"width\",\"height\",\"color\",\"fill_alpha\",\"line_color\",\"line_alpha\",\"label\"],\"data\":{\"chart_index\":[\"(103.460733, 104.455497]\"],\"color\":[\"#f22c40\"],\"fill_alpha\":[0.8],\"height\":[0.0],\"label\":[\"(103.460733, 104.455497]\"],\"line_alpha\":[1.0],\"line_color\":[\"black\"],\"width\":[0.9947643979057545],\"x\":[\"103.95811499999999\"],\"y\":[0.0]}},\"id\":\"d9610a5f-d28d-4950-b1b5-30bbf68ca3d9\",\"type\":\"ColumnDataSource\"},{\"attributes\":{\"callback\":null,\"column_names\":[\"x\",\"y\",\"width\",\"height\",\"color\",\"fill_alpha\",\"line_color\",\"line_alpha\",\"label\"],\"data\":{\"chart_index\":[\"(130.319372, 131.314136]\"],\"color\":[\"#f22c40\"],\"fill_alpha\":[0.8],\"height\":[0.0],\"label\":[\"(130.319372, 131.314136]\"],\"line_alpha\":[1.0],\"line_color\":[\"black\"],\"width\":[0.9947643979057545],\"x\":[\"130.816754\"],\"y\":[0.0]}},\"id\":\"3f68c593-8556-4ba1-a0e3-73bffbbbbea7\",\"type\":\"ColumnDataSource\"},{\"attributes\":{\"data_source\":{\"id\":\"36f17e1c-af5d-4d7b-806d-781d92d50019\",\"type\":\"ColumnDataSource\"},\"glyph\":{\"id\":\"b21721b0-56b5-45f6-8713-683aad17f6f8\",\"type\":\"Rect\"},\"hover_glyph\":null,\"muted_glyph\":null},\"id\":\"6fabc963-c658-41cc-bcea-d6ed4ce314c3\",\"type\":\"GlyphRenderer\"},{\"attributes\":{\"callback\":null,\"column_names\":[\"x\",\"y\",\"width\",\"height\",\"color\",\"fill_alpha\",\"line_color\",\"line_alpha\",\"label\"],\"data\":{\"chart_index\":[\"(164.141361, 165.136126]\"],\"color\":[\"#f22c40\"],\"fill_alpha\":[0.8],\"height\":[0.0],\"label\":[\"(164.141361, 165.136126]\"],\"line_alpha\":[1.0],\"line_color\":[\"black\"],\"width\":[0.9947643979057545],\"x\":[\"164.63874349999998\"],\"y\":[0.0]}},\"id\":\"95418e0c-0ecb-414c-b620-550a76d5779b\",\"type\":\"ColumnDataSource\"},{\"attributes\":{\"callback\":null,\"column_names\":[\"x\",\"y\",\"width\",\"height\",\"color\",\"fill_alpha\",\"line_color\",\"line_alpha\",\"label\"],\"data\":{\"chart_index\":[\"(28.853403, 29.848168]\"],\"color\":[\"#f22c40\"],\"fill_alpha\":[0.8],\"height\":[2.0],\"label\":[\"(28.853403, 29.848168]\"],\"line_alpha\":[1.0],\"line_color\":[\"black\"],\"width\":[0.9947643979057581],\"x\":[\"29.3507855\"],\"y\":[1.0]}},\"id\":\"ee67282f-4c24-49b6-a34b-87126aa771e3\",\"type\":\"ColumnDataSource\"},{\"attributes\":{\"callback\":null,\"column_names\":[\"x\",\"y\",\"width\",\"height\",\"color\",\"fill_alpha\",\"line_color\",\"line_alpha\",\"label\"],\"data\":{\"chart_index\":[\"(131.314136, 132.308901]\"],\"color\":[\"#f22c40\"],\"fill_alpha\":[0.8],\"height\":[0.0],\"label\":[\"(131.314136, 132.308901]\"],\"line_alpha\":[1.0],\"line_color\":[\"black\"],\"width\":[0.994764397905783],\"x\":[\"131.81151849999998\"],\"y\":[0.0]}},\"id\":\"75af1520-f130-4807-9f07-0b5e7f23491c\",\"type\":\"ColumnDataSource\"},{\"attributes\":{\"fill_alpha\":{\"field\":\"fill_alpha\"},\"fill_color\":{\"field\":\"color\"},\"height\":{\"field\":\"height\",\"units\":\"data\"},\"line_color\":{\"field\":\"line_color\"},\"width\":{\"field\":\"width\",\"units\":\"data\"},\"x\":{\"field\":\"x\"},\"y\":{\"field\":\"y\"}},\"id\":\"52d0fe74-cf5f-40ca-88a0-cebaf512db8b\",\"type\":\"Rect\"},{\"attributes\":{\"callback\":null,\"column_names\":[\"x\",\"y\",\"width\",\"height\",\"color\",\"fill_alpha\",\"line_color\",\"line_alpha\",\"label\"],\"data\":{\"chart_index\":[\"(168.120419, 169.115183]\"],\"color\":[\"#f22c40\"],\"fill_alpha\":[0.8],\"height\":[0.0],\"label\":[\"(168.120419, 169.115183]\"],\"line_alpha\":[1.0],\"line_color\":[\"black\"],\"width\":[0.9947643979057545],\"x\":[\"168.617801\"],\"y\":[0.0]}},\"id\":\"72bdc84b-3dc6-4575-9122-83940491a9cf\",\"type\":\"ColumnDataSource\"},{\"attributes\":{\"callback\":null,\"column_names\":[\"x\",\"y\",\"width\",\"height\",\"color\",\"fill_alpha\",\"line_color\",\"line_alpha\",\"label\"],\"data\":{\"chart_index\":[\"(133.303665, 134.298429]\"],\"color\":[\"#f22c40\"],\"fill_alpha\":[0.8],\"height\":[0.0],\"label\":[\"(133.303665, 134.298429]\"],\"line_alpha\":[1.0],\"line_color\":[\"black\"],\"width\":[0.9947643979057545],\"x\":[\"133.80104699999998\"],\"y\":[0.0]}},\"id\":\"cf1b439a-0c41-49ac-8052-ae8c2b06ac5a\",\"type\":\"ColumnDataSource\"},{\"attributes\":{\"fill_alpha\":{\"field\":\"fill_alpha\"},\"fill_color\":{\"field\":\"color\"},\"height\":{\"field\":\"height\",\"units\":\"data\"},\"line_color\":{\"field\":\"line_color\"},\"width\":{\"field\":\"width\",\"units\":\"data\"},\"x\":{\"field\":\"x\"},\"y\":{\"field\":\"y\"}},\"id\":\"6794412a-456c-4ddb-abcf-b30c328e8319\",\"type\":\"Rect\"},{\"attributes\":{\"callback\":null,\"column_names\":[\"x\",\"y\",\"width\",\"height\",\"color\",\"fill_alpha\",\"line_color\",\"line_alpha\",\"label\"],\"data\":{\"chart_index\":[\"(163.146597, 164.141361]\"],\"color\":[\"#f22c40\"],\"fill_alpha\":[0.8],\"height\":[0.0],\"label\":[\"(163.146597, 164.141361]\"],\"line_alpha\":[1.0],\"line_color\":[\"black\"],\"width\":[0.9947643979057545],\"x\":[\"163.643979\"],\"y\":[0.0]}},\"id\":\"3197ba3d-0683-4ad0-8dd4-24128ffa47bc\",\"type\":\"ColumnDataSource\"},{\"attributes\":{\"callback\":null,\"column_names\":[\"x\",\"y\",\"width\",\"height\",\"color\",\"fill_alpha\",\"line_color\",\"line_alpha\",\"label\"],\"data\":{\"chart_index\":[\"[1.000000, 1.994764]\"],\"color\":[\"#f22c40\"],\"fill_alpha\":[0.8],\"height\":[2536.0],\"label\":[\"[1.000000, 1.994764]\"],\"line_alpha\":[1.0],\"line_color\":[\"black\"],\"width\":[0.9947643979057592],\"x\":[\"1.497382\"],\"y\":[1268.0]}},\"id\":\"97f08583-8d91-448a-b6f1-4db4bda8fbfa\",\"type\":\"ColumnDataSource\"},{\"attributes\":{\"fill_alpha\":{\"field\":\"fill_alpha\"},\"fill_color\":{\"field\":\"color\"},\"height\":{\"field\":\"height\",\"units\":\"data\"},\"line_color\":{\"field\":\"line_color\"},\"width\":{\"field\":\"width\",\"units\":\"data\"},\"x\":{\"field\":\"x\"},\"y\":{\"field\":\"y\"}},\"id\":\"c1f129af-7f65-4e7c-b8f6-34f69bd97616\",\"type\":\"Rect\"},{\"attributes\":{\"callback\":null,\"column_names\":[\"x\",\"y\",\"width\",\"height\",\"color\",\"fill_alpha\",\"line_color\",\"line_alpha\",\"label\"],\"data\":{\"chart_index\":[\"(27.858639, 28.853403]\"],\"color\":[\"#f22c40\"],\"fill_alpha\":[0.8],\"height\":[3.0],\"label\":[\"(27.858639, 28.853403]\"],\"line_alpha\":[1.0],\"line_color\":[\"black\"],\"width\":[0.9947643979057617],\"x\":[\"28.356021\"],\"y\":[1.5]}},\"id\":\"6273038a-1192-4119-8c4d-299e6979b3b1\",\"type\":\"ColumnDataSource\"},{\"attributes\":{\"fill_alpha\":{\"field\":\"fill_alpha\"},\"fill_color\":{\"field\":\"color\"},\"height\":{\"field\":\"height\",\"units\":\"data\"},\"line_color\":{\"field\":\"line_color\"},\"width\":{\"field\":\"width\",\"units\":\"data\"},\"x\":{\"field\":\"x\"},\"y\":{\"field\":\"y\"}},\"id\":\"5a79f3e1-dfbf-41a3-8053-80c7904b93d2\",\"type\":\"Rect\"},{\"attributes\":{\"data_source\":{\"id\":\"3197ba3d-0683-4ad0-8dd4-24128ffa47bc\",\"type\":\"ColumnDataSource\"},\"glyph\":{\"id\":\"593fb44d-5a3a-4848-aa78-4fb72123b6f8\",\"type\":\"Rect\"},\"hover_glyph\":null,\"muted_glyph\":null},\"id\":\"bcaadfcd-b976-4d4d-bf2e-fd33f735f761\",\"type\":\"GlyphRenderer\"},{\"attributes\":{\"fill_alpha\":{\"field\":\"fill_alpha\"},\"fill_color\":{\"field\":\"color\"},\"height\":{\"field\":\"height\",\"units\":\"data\"},\"line_color\":{\"field\":\"line_color\"},\"width\":{\"field\":\"width\",\"units\":\"data\"},\"x\":{\"field\":\"x\"},\"y\":{\"field\":\"y\"}},\"id\":\"f4ffeb22-2b45-419a-b8eb-4acd8cb28bba\",\"type\":\"Rect\"},{\"attributes\":{\"data_source\":{\"id\":\"6273038a-1192-4119-8c4d-299e6979b3b1\",\"type\":\"ColumnDataSource\"},\"glyph\":{\"id\":\"3b369a85-f12f-43a3-9c50-ae04ef5906c5\",\"type\":\"Rect\"},\"hover_glyph\":null,\"muted_glyph\":null},\"id\":\"8878e6a2-aa9c-47ff-924d-c7585e5f213f\",\"type\":\"GlyphRenderer\"},{\"attributes\":{\"fill_alpha\":{\"field\":\"fill_alpha\"},\"fill_color\":{\"field\":\"color\"},\"height\":{\"field\":\"height\",\"units\":\"data\"},\"line_color\":{\"field\":\"line_color\"},\"width\":{\"field\":\"width\",\"units\":\"data\"},\"x\":{\"field\":\"x\"},\"y\":{\"field\":\"y\"}},\"id\":\"644a9efb-d1d2-4583-8945-c332ef359c06\",\"type\":\"Rect\"},{\"attributes\":{\"callback\":null,\"column_names\":[\"x\",\"y\",\"width\",\"height\",\"color\",\"fill_alpha\",\"line_color\",\"line_alpha\",\"label\"],\"data\":{\"chart_index\":[\"(134.298429, 135.293194]\"],\"color\":[\"#f22c40\"],\"fill_alpha\":[0.8],\"height\":[0.0],\"label\":[\"(134.298429, 135.293194]\"],\"line_alpha\":[1.0],\"line_color\":[\"black\"],\"width\":[0.9947643979057545],\"x\":[\"134.7958115\"],\"y\":[0.0]}},\"id\":\"be3ad51f-b4d1-41d3-84e9-0bbfa211e6a8\",\"type\":\"ColumnDataSource\"},{\"attributes\":{\"fill_alpha\":{\"field\":\"fill_alpha\"},\"fill_color\":{\"field\":\"color\"},\"height\":{\"field\":\"height\",\"units\":\"data\"},\"line_color\":{\"field\":\"line_color\"},\"width\":{\"field\":\"width\",\"units\":\"data\"},\"x\":{\"field\":\"x\"},\"y\":{\"field\":\"y\"}},\"id\":\"f31bbb59-a3b0-482e-a996-27388a9bc69b\",\"type\":\"Rect\"},{\"attributes\":{\"callback\":null,\"column_names\":[\"x\",\"y\",\"width\",\"height\",\"color\",\"fill_alpha\",\"line_color\",\"line_alpha\",\"label\"],\"data\":{\"chart_index\":[\"(165.136126, 166.130890]\"],\"color\":[\"#f22c40\"],\"fill_alpha\":[0.8],\"height\":[0.0],\"label\":[\"(165.136126, 166.130890]\"],\"line_alpha\":[1.0],\"line_color\":[\"black\"],\"width\":[0.9947643979057545],\"x\":[\"165.633508\"],\"y\":[0.0]}},\"id\":\"1add96c7-9a5c-432a-832f-2bb702cdfb2c\",\"type\":\"ColumnDataSource\"},{\"attributes\":{\"callback\":null,\"column_names\":[\"x\",\"y\",\"width\",\"height\",\"color\",\"fill_alpha\",\"line_color\",\"line_alpha\",\"label\"],\"data\":{\"chart_index\":[\"(29.848168, 30.842932]\"],\"color\":[\"#f22c40\"],\"fill_alpha\":[0.8],\"height\":[3.0],\"label\":[\"(29.848168, 30.842932]\"],\"line_alpha\":[1.0],\"line_color\":[\"black\"],\"width\":[0.9947643979057581],\"x\":[\"30.345550000000003\"],\"y\":[1.5]}},\"id\":\"44dd9193-dd23-4613-9a30-8ec8e39d514b\",\"type\":\"ColumnDataSource\"},{\"attributes\":{\"data_source\":{\"id\":\"75af1520-f130-4807-9f07-0b5e7f23491c\",\"type\":\"ColumnDataSource\"},\"glyph\":{\"id\":\"52d0fe74-cf5f-40ca-88a0-cebaf512db8b\",\"type\":\"Rect\"},\"hover_glyph\":null,\"muted_glyph\":null},\"id\":\"22483cf0-dfac-4e8f-b822-d78b90cfec60\",\"type\":\"GlyphRenderer\"},{\"attributes\":{\"fill_alpha\":{\"field\":\"fill_alpha\"},\"fill_color\":{\"field\":\"color\"},\"height\":{\"field\":\"height\",\"units\":\"data\"},\"line_color\":{\"field\":\"line_color\"},\"width\":{\"field\":\"width\",\"units\":\"data\"},\"x\":{\"field\":\"x\"},\"y\":{\"field\":\"y\"}},\"id\":\"61742756-ca22-454b-a0d5-20ff4c00184b\",\"type\":\"Rect\"},{\"attributes\":{\"fill_alpha\":{\"field\":\"fill_alpha\"},\"fill_color\":{\"field\":\"color\"},\"height\":{\"field\":\"height\",\"units\":\"data\"},\"line_color\":{\"field\":\"line_color\"},\"width\":{\"field\":\"width\",\"units\":\"data\"},\"x\":{\"field\":\"x\"},\"y\":{\"field\":\"y\"}},\"id\":\"7f3b95ee-5211-45c5-baf7-9894f6e5af45\",\"type\":\"Rect\"},{\"attributes\":{\"data_source\":{\"id\":\"cf1b439a-0c41-49ac-8052-ae8c2b06ac5a\",\"type\":\"ColumnDataSource\"},\"glyph\":{\"id\":\"283f355b-29e3-40da-9005-f6e1f118a50d\",\"type\":\"Rect\"},\"hover_glyph\":null,\"muted_glyph\":null},\"id\":\"ec380720-f894-449a-8051-c83e57c6a774\",\"type\":\"GlyphRenderer\"},{\"attributes\":{\"data_source\":{\"id\":\"95418e0c-0ecb-414c-b620-550a76d5779b\",\"type\":\"ColumnDataSource\"},\"glyph\":{\"id\":\"5a79f3e1-dfbf-41a3-8053-80c7904b93d2\",\"type\":\"Rect\"},\"hover_glyph\":null,\"muted_glyph\":null},\"id\":\"57934c46-1c75-4ceb-89c6-c1fc71eea0b0\",\"type\":\"GlyphRenderer\"},{\"attributes\":{\"data_source\":{\"id\":\"b369fae2-9613-461a-889b-f560ea4d69a2\",\"type\":\"ColumnDataSource\"},\"glyph\":{\"id\":\"77e2bf99-3e0a-4cf4-929d-aea9169233f2\",\"type\":\"Rect\"},\"hover_glyph\":null,\"muted_glyph\":null},\"id\":\"b442a491-102c-4324-bc8b-8d577cef4c0d\",\"type\":\"GlyphRenderer\"},{\"attributes\":{\"data_source\":{\"id\":\"ee67282f-4c24-49b6-a34b-87126aa771e3\",\"type\":\"ColumnDataSource\"},\"glyph\":{\"id\":\"f4ffeb22-2b45-419a-b8eb-4acd8cb28bba\",\"type\":\"Rect\"},\"hover_glyph\":null,\"muted_glyph\":null},\"id\":\"fb0e5357-bc05-4984-91ba-ea79fdc05885\",\"type\":\"GlyphRenderer\"},{\"attributes\":{\"fill_alpha\":{\"field\":\"fill_alpha\"},\"fill_color\":{\"field\":\"color\"},\"height\":{\"field\":\"height\",\"units\":\"data\"},\"line_color\":{\"field\":\"line_color\"},\"width\":{\"field\":\"width\",\"units\":\"data\"},\"x\":{\"field\":\"x\"},\"y\":{\"field\":\"y\"}},\"id\":\"305fb336-bbdd-4db2-b226-da9c509db4c7\",\"type\":\"Rect\"},{\"attributes\":{\"fill_alpha\":{\"field\":\"fill_alpha\"},\"fill_color\":{\"field\":\"color\"},\"height\":{\"field\":\"height\",\"units\":\"data\"},\"line_color\":{\"field\":\"line_color\"},\"width\":{\"field\":\"width\",\"units\":\"data\"},\"x\":{\"field\":\"x\"},\"y\":{\"field\":\"y\"}},\"id\":\"75732c6e-4b15-4873-8c4b-ea26529a1e64\",\"type\":\"Rect\"},{\"attributes\":{\"callback\":null,\"column_names\":[\"x\",\"y\",\"width\",\"height\",\"color\",\"fill_alpha\",\"line_color\",\"line_alpha\",\"label\"],\"data\":{\"chart_index\":[\"(30.842932, 31.837696]\"],\"color\":[\"#f22c40\"],\"fill_alpha\":[0.8],\"height\":[2.0],\"label\":[\"(30.842932, 31.837696]\"],\"line_alpha\":[1.0],\"line_color\":[\"black\"],\"width\":[0.9947643979057617],\"x\":[\"31.340314\"],\"y\":[1.0]}},\"id\":\"ada5aaa6-b38f-489e-9cf1-5d2187b6585e\",\"type\":\"ColumnDataSource\"},{\"attributes\":{\"data_source\":{\"id\":\"ada5aaa6-b38f-489e-9cf1-5d2187b6585e\",\"type\":\"ColumnDataSource\"},\"glyph\":{\"id\":\"0761e158-53f9-4400-8ff5-1106930e0282\",\"type\":\"Rect\"},\"hover_glyph\":null,\"muted_glyph\":null},\"id\":\"b693af1a-1a90-47e3-88d0-f8c43e9cebba\",\"type\":\"GlyphRenderer\"},{\"attributes\":{\"fill_alpha\":{\"field\":\"fill_alpha\"},\"fill_color\":{\"field\":\"color\"},\"height\":{\"field\":\"height\",\"units\":\"data\"},\"line_color\":{\"field\":\"line_color\"},\"width\":{\"field\":\"width\",\"units\":\"data\"},\"x\":{\"field\":\"x\"},\"y\":{\"field\":\"y\"}},\"id\":\"32d7ee6e-6abd-49c2-a01c-69bf8ca4a994\",\"type\":\"Rect\"},{\"attributes\":{\"data_source\":{\"id\":\"97f08583-8d91-448a-b6f1-4db4bda8fbfa\",\"type\":\"ColumnDataSource\"},\"glyph\":{\"id\":\"61742756-ca22-454b-a0d5-20ff4c00184b\",\"type\":\"Rect\"},\"hover_glyph\":null,\"muted_glyph\":null},\"id\":\"cdea4664-5d14-41a1-9bb1-fb1aed641048\",\"type\":\"GlyphRenderer\"},{\"attributes\":{\"callback\":null,\"column_names\":[\"x\",\"y\",\"width\",\"height\",\"color\",\"fill_alpha\",\"line_color\",\"line_alpha\",\"label\"],\"data\":{\"chart_index\":[\"(1.994764, 2.989529]\"],\"color\":[\"#f22c40\"],\"fill_alpha\":[0.8],\"height\":[292.0],\"label\":[\"(1.994764, 2.989529]\"],\"line_alpha\":[1.0],\"line_color\":[\"black\"],\"width\":[0.9947643979057592],\"x\":[\"2.4921465\"],\"y\":[146.0]}},\"id\":\"703008b0-cce4-4f91-9b69-fcdebbe3ea87\",\"type\":\"ColumnDataSource\"},{\"attributes\":{\"callback\":null,\"column_names\":[\"x\",\"y\",\"width\",\"height\",\"color\",\"fill_alpha\",\"line_color\",\"line_alpha\",\"label\"],\"data\":{\"chart_index\":[\"(140.267016, 141.261780]\"],\"color\":[\"#f22c40\"],\"fill_alpha\":[0.8],\"height\":[0.0],\"label\":[\"(140.267016, 141.261780]\"],\"line_alpha\":[1.0],\"line_color\":[\"black\"],\"width\":[0.9947643979057545],\"x\":[\"140.764398\"],\"y\":[0.0]}},\"id\":\"f703cdcf-b881-448c-83fe-11c80ede4878\",\"type\":\"ColumnDataSource\"},{\"attributes\":{\"data_source\":{\"id\":\"72bdc84b-3dc6-4575-9122-83940491a9cf\",\"type\":\"ColumnDataSource\"},\"glyph\":{\"id\":\"cd61773f-f57e-4217-82e5-5fa9e6cb49b1\",\"type\":\"Rect\"},\"hover_glyph\":null,\"muted_glyph\":null},\"id\":\"7d4d61fa-2864-4d80-8c19-9e940d8dc00b\",\"type\":\"GlyphRenderer\"},{\"attributes\":{\"data_source\":{\"id\":\"be3ad51f-b4d1-41d3-84e9-0bbfa211e6a8\",\"type\":\"ColumnDataSource\"},\"glyph\":{\"id\":\"c1f129af-7f65-4e7c-b8f6-34f69bd97616\",\"type\":\"Rect\"},\"hover_glyph\":null,\"muted_glyph\":null},\"id\":\"c00d0382-6f2b-4d37-ac37-c47d2f1ed675\",\"type\":\"GlyphRenderer\"},{\"attributes\":{\"callback\":null,\"column_names\":[\"x\",\"y\",\"width\",\"height\",\"color\",\"fill_alpha\",\"line_color\",\"line_alpha\",\"label\"],\"data\":{\"chart_index\":[\"(38.801047, 39.795812]\"],\"color\":[\"#f22c40\"],\"fill_alpha\":[0.8],\"height\":[0.0],\"label\":[\"(38.801047, 39.795812]\"],\"line_alpha\":[1.0],\"line_color\":[\"black\"],\"width\":[0.9947643979057617],\"x\":[\"39.2984295\"],\"y\":[0.0]}},\"id\":\"b6ae118f-24d0-45c6-b0cc-b9e1880711db\",\"type\":\"ColumnDataSource\"},{\"attributes\":{\"data_source\":{\"id\":\"1add96c7-9a5c-432a-832f-2bb702cdfb2c\",\"type\":\"ColumnDataSource\"},\"glyph\":{\"id\":\"644a9efb-d1d2-4583-8945-c332ef359c06\",\"type\":\"Rect\"},\"hover_glyph\":null,\"muted_glyph\":null},\"id\":\"a13cb224-7037-44cd-9161-cce29f3be6dc\",\"type\":\"GlyphRenderer\"},{\"attributes\":{\"fill_alpha\":{\"field\":\"fill_alpha\"},\"fill_color\":{\"field\":\"color\"},\"height\":{\"field\":\"height\",\"units\":\"data\"},\"line_color\":{\"field\":\"line_color\"},\"width\":{\"field\":\"width\",\"units\":\"data\"},\"x\":{\"field\":\"x\"},\"y\":{\"field\":\"y\"}},\"id\":\"0761e158-53f9-4400-8ff5-1106930e0282\",\"type\":\"Rect\"},{\"attributes\":{\"fill_alpha\":{\"field\":\"fill_alpha\"},\"fill_color\":{\"field\":\"color\"},\"height\":{\"field\":\"height\",\"units\":\"data\"},\"line_color\":{\"field\":\"line_color\"},\"width\":{\"field\":\"width\",\"units\":\"data\"},\"x\":{\"field\":\"x\"},\"y\":{\"field\":\"y\"}},\"id\":\"c4b406ab-a50b-4335-8209-8b51e0b125f8\",\"type\":\"Rect\"},{\"attributes\":{\"data_source\":{\"id\":\"44dd9193-dd23-4613-9a30-8ec8e39d514b\",\"type\":\"ColumnDataSource\"},\"glyph\":{\"id\":\"f31bbb59-a3b0-482e-a996-27388a9bc69b\",\"type\":\"Rect\"},\"hover_glyph\":null,\"muted_glyph\":null},\"id\":\"e0b176f6-6c6d-49b1-87a5-0caa54063f4a\",\"type\":\"GlyphRenderer\"},{\"attributes\":{\"data_source\":{\"id\":\"703008b0-cce4-4f91-9b69-fcdebbe3ea87\",\"type\":\"ColumnDataSource\"},\"glyph\":{\"id\":\"32d7ee6e-6abd-49c2-a01c-69bf8ca4a994\",\"type\":\"Rect\"},\"hover_glyph\":null,\"muted_glyph\":null},\"id\":\"67e00674-4ce3-43b8-8188-503e145f07c4\",\"type\":\"GlyphRenderer\"},{\"attributes\":{\"callback\":null,\"column_names\":[\"x\",\"y\",\"width\",\"height\",\"color\",\"fill_alpha\",\"line_color\",\"line_alpha\",\"label\"],\"data\":{\"chart_index\":[\"(34.821990, 35.816754]\"],\"color\":[\"#f22c40\"],\"fill_alpha\":[0.8],\"height\":[1.0],\"label\":[\"(34.821990, 35.816754]\"],\"line_alpha\":[1.0],\"line_color\":[\"black\"],\"width\":[0.9947643979057617],\"x\":[\"35.319372\"],\"y\":[0.5]}},\"id\":\"9fcc7ee4-8501-4ec7-a3af-66f119fea1f6\",\"type\":\"ColumnDataSource\"},{\"attributes\":{\"fill_alpha\":{\"field\":\"fill_alpha\"},\"fill_color\":{\"field\":\"color\"},\"height\":{\"field\":\"height\",\"units\":\"data\"},\"line_color\":{\"field\":\"line_color\"},\"width\":{\"field\":\"width\",\"units\":\"data\"},\"x\":{\"field\":\"x\"},\"y\":{\"field\":\"y\"}},\"id\":\"372903c8-9768-4917-bb97-eb84ff2659e1\",\"type\":\"Rect\"},{\"attributes\":{\"callback\":null,\"column_names\":[\"x\",\"y\",\"width\",\"height\",\"color\",\"fill_alpha\",\"line_color\",\"line_alpha\",\"label\"],\"data\":{\"chart_index\":[\"(167.125654, 168.120419]\"],\"color\":[\"#f22c40\"],\"fill_alpha\":[0.8],\"height\":[0.0],\"label\":[\"(167.125654, 168.120419]\"],\"line_alpha\":[1.0],\"line_color\":[\"black\"],\"width\":[0.994764397905783],\"x\":[\"167.6230365\"],\"y\":[0.0]}},\"id\":\"08db121b-38e5-4703-8dcc-a41d296bf97f\",\"type\":\"ColumnDataSource\"},{\"attributes\":{\"fill_alpha\":{\"field\":\"fill_alpha\"},\"fill_color\":{\"field\":\"color\"},\"height\":{\"field\":\"height\",\"units\":\"data\"},\"line_color\":{\"field\":\"line_color\"},\"width\":{\"field\":\"width\",\"units\":\"data\"},\"x\":{\"field\":\"x\"},\"y\":{\"field\":\"y\"}},\"id\":\"f6cc8bda-a6cf-43bc-8ee8-bd3569c7296c\",\"type\":\"Rect\"},{\"attributes\":{\"callback\":null,\"column_names\":[\"x\",\"y\",\"width\",\"height\",\"color\",\"fill_alpha\",\"line_color\",\"line_alpha\",\"label\"],\"data\":{\"chart_index\":[\"(64.664921, 65.659686]\"],\"color\":[\"#f22c40\"],\"fill_alpha\":[0.8],\"height\":[0.0],\"label\":[\"(64.664921, 65.659686]\"],\"line_alpha\":[1.0],\"line_color\":[\"black\"],\"width\":[0.9947643979057545],\"x\":[\"65.16230350000001\"],\"y\":[0.0]}},\"id\":\"a8753ba0-92fa-4574-8918-269375cd1aaf\",\"type\":\"ColumnDataSource\"},{\"attributes\":{\"data_source\":{\"id\":\"5ba1a20a-e0cd-46e6-8826-935082c39078\",\"type\":\"ColumnDataSource\"},\"glyph\":{\"id\":\"63928f7a-2f56-4fca-9e96-00747350d93f\",\"type\":\"Rect\"},\"hover_glyph\":null,\"muted_glyph\":null},\"id\":\"b3f83a6f-a794-48a5-aa73-9706d15d9ecf\",\"type\":\"GlyphRenderer\"},{\"attributes\":{\"fill_alpha\":{\"field\":\"fill_alpha\"},\"fill_color\":{\"field\":\"color\"},\"height\":{\"field\":\"height\",\"units\":\"data\"},\"line_color\":{\"field\":\"line_color\"},\"width\":{\"field\":\"width\",\"units\":\"data\"},\"x\":{\"field\":\"x\"},\"y\":{\"field\":\"y\"}},\"id\":\"c7d3c6da-25bc-4737-9e13-bf538072c567\",\"type\":\"Rect\"},{\"attributes\":{\"fill_alpha\":{\"field\":\"fill_alpha\"},\"fill_color\":{\"field\":\"color\"},\"height\":{\"field\":\"height\",\"units\":\"data\"},\"line_color\":{\"field\":\"line_color\"},\"width\":{\"field\":\"width\",\"units\":\"data\"},\"x\":{\"field\":\"x\"},\"y\":{\"field\":\"y\"}},\"id\":\"0bc032a4-06ff-48fb-b90d-d6f05c8d989c\",\"type\":\"Rect\"},{\"attributes\":{\"callback\":null,\"column_names\":[\"x\",\"y\",\"width\",\"height\",\"color\",\"fill_alpha\",\"line_color\",\"line_alpha\",\"label\"],\"data\":{\"chart_index\":[\"(166.130890, 167.125654]\"],\"color\":[\"#f22c40\"],\"fill_alpha\":[0.8],\"height\":[0.0],\"label\":[\"(166.130890, 167.125654]\"],\"line_alpha\":[1.0],\"line_color\":[\"black\"],\"width\":[0.9947643979057545],\"x\":[\"166.62827199999998\"],\"y\":[0.0]}},\"id\":\"dfbc4f8f-808a-42cb-979f-805249a43416\",\"type\":\"ColumnDataSource\"},{\"attributes\":{\"callback\":null,\"column_names\":[\"x\",\"y\",\"width\",\"height\",\"color\",\"fill_alpha\",\"line_color\",\"line_alpha\",\"label\"],\"data\":{\"chart_index\":[\"(33.827225, 34.821990]\"],\"color\":[\"#f22c40\"],\"fill_alpha\":[0.8],\"height\":[3.0],\"label\":[\"(33.827225, 34.821990]\"],\"line_alpha\":[1.0],\"line_color\":[\"black\"],\"width\":[0.9947643979057545],\"x\":[\"34.3246075\"],\"y\":[1.5]}},\"id\":\"79d1a428-4c73-4b5b-89a1-10db5d2531d3\",\"type\":\"ColumnDataSource\"},{\"attributes\":{\"callback\":null,\"column_names\":[\"x\",\"y\",\"width\",\"height\",\"color\",\"fill_alpha\",\"line_color\",\"line_alpha\",\"label\"],\"data\":{\"chart_index\":[\"(65.659686, 66.654450]\"],\"color\":[\"#f22c40\"],\"fill_alpha\":[0.8],\"height\":[0.0],\"label\":[\"(65.659686, 66.654450]\"],\"line_alpha\":[1.0],\"line_color\":[\"black\"],\"width\":[0.9947643979057688],\"x\":[\"66.157068\"],\"y\":[0.0]}},\"id\":\"04ea56bb-703b-4744-8a62-af1942d2aa52\",\"type\":\"ColumnDataSource\"},{\"attributes\":{\"fill_alpha\":{\"field\":\"fill_alpha\"},\"fill_color\":{\"field\":\"color\"},\"height\":{\"field\":\"height\",\"units\":\"data\"},\"line_color\":{\"field\":\"line_color\"},\"width\":{\"field\":\"width\",\"units\":\"data\"},\"x\":{\"field\":\"x\"},\"y\":{\"field\":\"y\"}},\"id\":\"ee09af8e-48ee-4aa4-920d-d1e35e075edb\",\"type\":\"Rect\"},{\"attributes\":{\"data_source\":{\"id\":\"a524434a-7ca0-4394-886a-97ce5e33b3d6\",\"type\":\"ColumnDataSource\"},\"glyph\":{\"id\":\"d960ab1c-6a95-48b3-aded-899c69ab22d2\",\"type\":\"Rect\"},\"hover_glyph\":null,\"muted_glyph\":null},\"id\":\"a81f5479-aa57-4f9a-bc69-68ce42ede2e9\",\"type\":\"GlyphRenderer\"},{\"attributes\":{\"data_source\":{\"id\":\"dfbc4f8f-808a-42cb-979f-805249a43416\",\"type\":\"ColumnDataSource\"},\"glyph\":{\"id\":\"75732c6e-4b15-4873-8c4b-ea26529a1e64\",\"type\":\"Rect\"},\"hover_glyph\":null,\"muted_glyph\":null},\"id\":\"b0ce898c-6b61-4735-98c8-0b617e87fce1\",\"type\":\"GlyphRenderer\"},{\"attributes\":{\"fill_alpha\":{\"field\":\"fill_alpha\"},\"fill_color\":{\"field\":\"color\"},\"height\":{\"field\":\"height\",\"units\":\"data\"},\"line_color\":{\"field\":\"line_color\"},\"width\":{\"field\":\"width\",\"units\":\"data\"},\"x\":{\"field\":\"x\"},\"y\":{\"field\":\"y\"}},\"id\":\"a5513a51-a597-4c3c-b58f-93fff5f3d706\",\"type\":\"Rect\"},{\"attributes\":{\"callback\":null,\"column_names\":[\"x\",\"y\",\"width\",\"height\",\"color\",\"fill_alpha\",\"line_color\",\"line_alpha\",\"label\"],\"data\":{\"chart_index\":[\"(170.109948, 171.104712]\"],\"color\":[\"#f22c40\"],\"fill_alpha\":[0.8],\"height\":[0.0],\"label\":[\"(170.109948, 171.104712]\"],\"line_alpha\":[1.0],\"line_color\":[\"black\"],\"width\":[0.9947643979057545],\"x\":[\"170.60733\"],\"y\":[0.0]}},\"id\":\"1056bf40-9471-4ef0-8b0b-716471f0c9c0\",\"type\":\"ColumnDataSource\"},{\"attributes\":{\"data_source\":{\"id\":\"2bfde5f8-6099-47c0-bda1-0c976d7f787e\",\"type\":\"ColumnDataSource\"},\"glyph\":{\"id\":\"8868cbe6-8182-47b3-bb73-c81840ad2ca1\",\"type\":\"Rect\"},\"hover_glyph\":null,\"muted_glyph\":null},\"id\":\"55150019-c1cb-40f7-bc71-8f0c46e7e307\",\"type\":\"GlyphRenderer\"},{\"attributes\":{\"data_source\":{\"id\":\"a8753ba0-92fa-4574-8918-269375cd1aaf\",\"type\":\"ColumnDataSource\"},\"glyph\":{\"id\":\"372903c8-9768-4917-bb97-eb84ff2659e1\",\"type\":\"Rect\"},\"hover_glyph\":null,\"muted_glyph\":null},\"id\":\"7d59e264-0b9f-4b26-825d-af0263bed5ee\",\"type\":\"GlyphRenderer\"},{\"attributes\":{\"data_source\":{\"id\":\"f661237d-be93-4d06-991a-c6faf9400622\",\"type\":\"ColumnDataSource\"},\"glyph\":{\"id\":\"735473a4-c8c0-421f-8c78-ce52bd395a76\",\"type\":\"Rect\"},\"hover_glyph\":null,\"muted_glyph\":null},\"id\":\"49c060b8-07c9-44c4-bd02-a3961faad90d\",\"type\":\"GlyphRenderer\"},{\"attributes\":{\"data_source\":{\"id\":\"79d1a428-4c73-4b5b-89a1-10db5d2531d3\",\"type\":\"ColumnDataSource\"},\"glyph\":{\"id\":\"c7d3c6da-25bc-4737-9e13-bf538072c567\",\"type\":\"Rect\"},\"hover_glyph\":null,\"muted_glyph\":null},\"id\":\"fb39e2ae-426c-45d7-8084-9f60827c27d1\",\"type\":\"GlyphRenderer\"},{\"attributes\":{\"data_source\":{\"id\":\"009c3e72-0e63-471b-86f9-7a5fc4755cfc\",\"type\":\"ColumnDataSource\"},\"glyph\":{\"id\":\"7f3b95ee-5211-45c5-baf7-9894f6e5af45\",\"type\":\"Rect\"},\"hover_glyph\":null,\"muted_glyph\":null},\"id\":\"2c4aca2f-ae7e-4063-9e2c-b0b3954b9f88\",\"type\":\"GlyphRenderer\"},{\"attributes\":{\"callback\":null,\"column_names\":[\"x\",\"y\",\"width\",\"height\",\"color\",\"fill_alpha\",\"line_color\",\"line_alpha\",\"label\"],\"data\":{\"chart_index\":[\"(74.612565, 75.607330]\"],\"color\":[\"#f22c40\"],\"fill_alpha\":[0.8],\"height\":[0.0],\"label\":[\"(74.612565, 75.607330]\"],\"line_alpha\":[1.0],\"line_color\":[\"black\"],\"width\":[0.9947643979057688],\"x\":[\"75.1099475\"],\"y\":[0.0]}},\"id\":\"83475e6d-e2a9-4359-967e-7cecc68d4402\",\"type\":\"ColumnDataSource\"},{\"attributes\":{\"callback\":null,\"column_names\":[\"x\",\"y\",\"width\",\"height\",\"color\",\"fill_alpha\",\"line_color\",\"line_alpha\",\"label\"],\"data\":{\"chart_index\":[\"(66.654450, 67.649215]\"],\"color\":[\"#f22c40\"],\"fill_alpha\":[0.8],\"height\":[0.0],\"label\":[\"(66.654450, 67.649215]\"],\"line_alpha\":[1.0],\"line_color\":[\"black\"],\"width\":[0.9947643979057545],\"x\":[\"67.1518325\"],\"y\":[0.0]}},\"id\":\"2bfde5f8-6099-47c0-bda1-0c976d7f787e\",\"type\":\"ColumnDataSource\"},{\"attributes\":{\"fill_alpha\":{\"field\":\"fill_alpha\"},\"fill_color\":{\"field\":\"color\"},\"height\":{\"field\":\"height\",\"units\":\"data\"},\"line_color\":{\"field\":\"line_color\"},\"width\":{\"field\":\"width\",\"units\":\"data\"},\"x\":{\"field\":\"x\"},\"y\":{\"field\":\"y\"}},\"id\":\"f2959eb5-5f5a-4351-878f-1c0d735a42a6\",\"type\":\"Rect\"},{\"attributes\":{\"callback\":null,\"column_names\":[\"x\",\"y\",\"width\",\"height\",\"color\",\"fill_alpha\",\"line_color\",\"line_alpha\",\"label\"],\"data\":{\"chart_index\":[\"(35.816754, 36.811518]\"],\"color\":[\"#f22c40\"],\"fill_alpha\":[0.8],\"height\":[0.0],\"label\":[\"(35.816754, 36.811518]\"],\"line_alpha\":[1.0],\"line_color\":[\"black\"],\"width\":[0.9947643979057617],\"x\":[\"36.314136000000005\"],\"y\":[0.0]}},\"id\":\"140fb457-9e4b-413e-a0d0-054172d27f36\",\"type\":\"ColumnDataSource\"},{\"attributes\":{\"data_source\":{\"id\":\"08db121b-38e5-4703-8dcc-a41d296bf97f\",\"type\":\"ColumnDataSource\"},\"glyph\":{\"id\":\"ee09af8e-48ee-4aa4-920d-d1e35e075edb\",\"type\":\"Rect\"},\"hover_glyph\":null,\"muted_glyph\":null},\"id\":\"26a576a1-7cf1-43da-a9ac-e6a960fbcaac\",\"type\":\"GlyphRenderer\"},{\"attributes\":{\"fill_alpha\":{\"field\":\"fill_alpha\"},\"fill_color\":{\"field\":\"color\"},\"height\":{\"field\":\"height\",\"units\":\"data\"},\"line_color\":{\"field\":\"line_color\"},\"width\":{\"field\":\"width\",\"units\":\"data\"},\"x\":{\"field\":\"x\"},\"y\":{\"field\":\"y\"}},\"id\":\"af016e4b-1ea3-4c04-b84d-69fcc0fab7d5\",\"type\":\"Rect\"},{\"attributes\":{\"fill_alpha\":{\"field\":\"fill_alpha\"},\"fill_color\":{\"field\":\"color\"},\"height\":{\"field\":\"height\",\"units\":\"data\"},\"line_color\":{\"field\":\"line_color\"},\"width\":{\"field\":\"width\",\"units\":\"data\"},\"x\":{\"field\":\"x\"},\"y\":{\"field\":\"y\"}},\"id\":\"8868cbe6-8182-47b3-bb73-c81840ad2ca1\",\"type\":\"Rect\"},{\"attributes\":{\"fill_alpha\":{\"field\":\"fill_alpha\"},\"fill_color\":{\"field\":\"color\"},\"height\":{\"field\":\"height\",\"units\":\"data\"},\"line_color\":{\"field\":\"line_color\"},\"width\":{\"field\":\"width\",\"units\":\"data\"},\"x\":{\"field\":\"x\"},\"y\":{\"field\":\"y\"}},\"id\":\"735473a4-c8c0-421f-8c78-ce52bd395a76\",\"type\":\"Rect\"},{\"attributes\":{\"data_source\":{\"id\":\"04ea56bb-703b-4744-8a62-af1942d2aa52\",\"type\":\"ColumnDataSource\"},\"glyph\":{\"id\":\"0bc032a4-06ff-48fb-b90d-d6f05c8d989c\",\"type\":\"Rect\"},\"hover_glyph\":null,\"muted_glyph\":null},\"id\":\"621a3bab-0885-4d46-8fe6-c14f5460d8e6\",\"type\":\"GlyphRenderer\"},{\"attributes\":{\"callback\":null,\"column_names\":[\"x\",\"y\",\"width\",\"height\",\"color\",\"fill_alpha\",\"line_color\",\"line_alpha\",\"label\"],\"data\":{\"chart_index\":[\"(169.115183, 170.109948]\"],\"color\":[\"#f22c40\"],\"fill_alpha\":[0.8],\"height\":[0.0],\"label\":[\"(169.115183, 170.109948]\"],\"line_alpha\":[1.0],\"line_color\":[\"black\"],\"width\":[0.9947643979057545],\"x\":[\"169.61256550000002\"],\"y\":[0.0]}},\"id\":\"009c3e72-0e63-471b-86f9-7a5fc4755cfc\",\"type\":\"ColumnDataSource\"},{\"attributes\":{\"data_source\":{\"id\":\"9fcc7ee4-8501-4ec7-a3af-66f119fea1f6\",\"type\":\"ColumnDataSource\"},\"glyph\":{\"id\":\"f6cc8bda-a6cf-43bc-8ee8-bd3569c7296c\",\"type\":\"Rect\"},\"hover_glyph\":null,\"muted_glyph\":null},\"id\":\"486efd2c-90ba-43d6-b71e-63f257f60b63\",\"type\":\"GlyphRenderer\"},{\"attributes\":{\"callback\":null,\"column_names\":[\"x\",\"y\",\"width\",\"height\",\"color\",\"fill_alpha\",\"line_color\",\"line_alpha\",\"label\"],\"data\":{\"chart_index\":[\"(176.078534, 177.073298]\"],\"color\":[\"#f22c40\"],\"fill_alpha\":[0.8],\"height\":[0.0],\"label\":[\"(176.078534, 177.073298]\"],\"line_alpha\":[1.0],\"line_color\":[\"black\"],\"width\":[0.9947643979057545],\"x\":[\"176.575916\"],\"y\":[0.0]}},\"id\":\"b369fae2-9613-461a-889b-f560ea4d69a2\",\"type\":\"ColumnDataSource\"},{\"attributes\":{\"data_source\":{\"id\":\"b9c7d0e3-2385-4332-adde-819633507409\",\"type\":\"ColumnDataSource\"},\"glyph\":{\"id\":\"0d361444-fdae-4f60-973f-ba1b99efb779\",\"type\":\"Rect\"},\"hover_glyph\":null,\"muted_glyph\":null},\"id\":\"36e33553-b916-42cb-996c-d865041b2c88\",\"type\":\"GlyphRenderer\"},{\"attributes\":{\"data_source\":{\"id\":\"1056bf40-9471-4ef0-8b0b-716471f0c9c0\",\"type\":\"ColumnDataSource\"},\"glyph\":{\"id\":\"f2959eb5-5f5a-4351-878f-1c0d735a42a6\",\"type\":\"Rect\"},\"hover_glyph\":null,\"muted_glyph\":null},\"id\":\"930cb67e-c459-4480-ae5b-1787a1c6e580\",\"type\":\"GlyphRenderer\"},{\"attributes\":{\"fill_alpha\":{\"field\":\"fill_alpha\"},\"fill_color\":{\"field\":\"color\"},\"height\":{\"field\":\"height\",\"units\":\"data\"},\"line_color\":{\"field\":\"line_color\"},\"width\":{\"field\":\"width\",\"units\":\"data\"},\"x\":{\"field\":\"x\"},\"y\":{\"field\":\"y\"}},\"id\":\"e641f920-6981-4235-b4db-a7c4cf32eb8f\",\"type\":\"Rect\"},{\"attributes\":{\"fill_alpha\":{\"field\":\"fill_alpha\"},\"fill_color\":{\"field\":\"color\"},\"height\":{\"field\":\"height\",\"units\":\"data\"},\"line_color\":{\"field\":\"line_color\"},\"width\":{\"field\":\"width\",\"units\":\"data\"},\"x\":{\"field\":\"x\"},\"y\":{\"field\":\"y\"}},\"id\":\"90cbb8c7-2db4-4bd8-9f1c-efe569af3706\",\"type\":\"Rect\"},{\"attributes\":{\"callback\":null,\"column_names\":[\"x\",\"y\",\"width\",\"height\",\"color\",\"fill_alpha\",\"line_color\",\"line_alpha\",\"label\"],\"data\":{\"chart_index\":[\"(69.638743, 70.633508]\"],\"color\":[\"#f22c40\"],\"fill_alpha\":[0.8],\"height\":[0.0],\"label\":[\"(69.638743, 70.633508]\"],\"line_alpha\":[1.0],\"line_color\":[\"black\"],\"width\":[0.9947643979057545],\"x\":[\"70.1361255\"],\"y\":[0.0]}},\"id\":\"cac08819-ac4d-46cc-b71a-f455aa1a5d6d\",\"type\":\"ColumnDataSource\"},{\"attributes\":{\"callback\":null,\"column_names\":[\"x\",\"y\",\"width\",\"height\",\"color\",\"fill_alpha\",\"line_color\",\"line_alpha\",\"label\"],\"data\":{\"chart_index\":[\"(135.293194, 136.287958]\"],\"color\":[\"#f22c40\"],\"fill_alpha\":[0.8],\"height\":[0.0],\"label\":[\"(135.293194, 136.287958]\"],\"line_alpha\":[1.0],\"line_color\":[\"black\"],\"width\":[0.9947643979057545],\"x\":[\"135.790576\"],\"y\":[0.0]}},\"id\":\"e9e677b2-0181-446e-abf8-62f7364e4471\",\"type\":\"ColumnDataSource\"},{\"attributes\":{\"callback\":null,\"column_names\":[\"x\",\"y\",\"width\",\"height\",\"color\",\"fill_alpha\",\"line_color\",\"line_alpha\",\"label\"],\"data\":{\"chart_index\":[\"(100.476440, 101.471204]\"],\"color\":[\"#f22c40\"],\"fill_alpha\":[0.8],\"height\":[0.0],\"label\":[\"(100.476440, 101.471204]\"],\"line_alpha\":[1.0],\"line_color\":[\"black\"],\"width\":[0.9947643979057545],\"x\":[\"100.973822\"],\"y\":[0.0]}},\"id\":\"e249090e-477d-47f5-a6bb-f6275ef09244\",\"type\":\"ColumnDataSource\"},{\"attributes\":{\"callback\":null,\"column_names\":[\"x\",\"y\",\"width\",\"height\",\"color\",\"fill_alpha\",\"line_color\",\"line_alpha\",\"label\"],\"data\":{\"chart_index\":[\"(68.643979, 69.638743]\"],\"color\":[\"#f22c40\"],\"fill_alpha\":[0.8],\"height\":[1.0],\"label\":[\"(68.643979, 69.638743]\"],\"line_alpha\":[1.0],\"line_color\":[\"black\"],\"width\":[0.9947643979057688],\"x\":[\"69.141361\"],\"y\":[0.5]}},\"id\":\"81cb5bbc-0e0b-4a0a-b571-e61b3a3cbe69\",\"type\":\"ColumnDataSource\"},{\"attributes\":{\"callback\":null,\"column_names\":[\"x\",\"y\",\"width\",\"height\",\"color\",\"fill_alpha\",\"line_color\",\"line_alpha\",\"label\"],\"data\":{\"chart_index\":[\"(2.989529, 3.984293]\"],\"color\":[\"#f22c40\"],\"fill_alpha\":[0.8],\"height\":[350.0],\"label\":[\"(2.989529, 3.984293]\"],\"line_alpha\":[1.0],\"line_color\":[\"black\"],\"width\":[0.9947643979057594],\"x\":[\"3.486911\"],\"y\":[175.0]}},\"id\":\"81de2aed-6761-4773-b5ad-a0bc862e4665\",\"type\":\"ColumnDataSource\"},{\"attributes\":{\"callback\":null,\"column_names\":[\"x\",\"y\",\"width\",\"height\",\"color\",\"fill_alpha\",\"line_color\",\"line_alpha\",\"label\"],\"data\":{\"chart_index\":[\"(136.287958, 137.282723]\"],\"color\":[\"#f22c40\"],\"fill_alpha\":[0.8],\"height\":[0.0],\"label\":[\"(136.287958, 137.282723]\"],\"line_alpha\":[1.0],\"line_color\":[\"black\"],\"width\":[0.9947643979057545],\"x\":[\"136.78534050000002\"],\"y\":[0.0]}},\"id\":\"c5d0aef7-ea6d-4cfd-9df2-39d6514a2b85\",\"type\":\"ColumnDataSource\"},{\"attributes\":{\"fill_alpha\":{\"field\":\"fill_alpha\"},\"fill_color\":{\"field\":\"color\"},\"height\":{\"field\":\"height\",\"units\":\"data\"},\"line_color\":{\"field\":\"line_color\"},\"width\":{\"field\":\"width\",\"units\":\"data\"},\"x\":{\"field\":\"x\"},\"y\":{\"field\":\"y\"}},\"id\":\"59cb20ad-c9ee-4b9d-ab5f-0bc1e9fd8cdb\",\"type\":\"Rect\"},{\"attributes\":{\"fill_alpha\":{\"field\":\"fill_alpha\"},\"fill_color\":{\"field\":\"color\"},\"height\":{\"field\":\"height\",\"units\":\"data\"},\"line_color\":{\"field\":\"line_color\"},\"width\":{\"field\":\"width\",\"units\":\"data\"},\"x\":{\"field\":\"x\"},\"y\":{\"field\":\"y\"}},\"id\":\"22c228b0-e043-4ae4-897a-4b582074d280\",\"type\":\"Rect\"},{\"attributes\":{\"callback\":null,\"column_names\":[\"x\",\"y\",\"width\",\"height\",\"color\",\"fill_alpha\",\"line_color\",\"line_alpha\",\"label\"],\"data\":{\"chart_index\":[\"(3.984293, 4.979058]\"],\"color\":[\"#f22c40\"],\"fill_alpha\":[0.8],\"height\":[105.0],\"label\":[\"(3.984293, 4.979058]\"],\"line_alpha\":[1.0],\"line_color\":[\"black\"],\"width\":[0.994764397905759],\"x\":[\"4.4816755\"],\"y\":[52.5]}},\"id\":\"14ccc222-3b46-4e19-9e7e-24eeeb8f51ab\",\"type\":\"ColumnDataSource\"},{\"attributes\":{\"fill_alpha\":{\"field\":\"fill_alpha\"},\"fill_color\":{\"field\":\"color\"},\"height\":{\"field\":\"height\",\"units\":\"data\"},\"line_color\":{\"field\":\"line_color\"},\"width\":{\"field\":\"width\",\"units\":\"data\"},\"x\":{\"field\":\"x\"},\"y\":{\"field\":\"y\"}},\"id\":\"719576fe-29fe-43fe-900c-05d8c449d06f\",\"type\":\"Rect\"},{\"attributes\":{\"data_source\":{\"id\":\"81de2aed-6761-4773-b5ad-a0bc862e4665\",\"type\":\"ColumnDataSource\"},\"glyph\":{\"id\":\"c4b406ab-a50b-4335-8209-8b51e0b125f8\",\"type\":\"Rect\"},\"hover_glyph\":null,\"muted_glyph\":null},\"id\":\"cabc9ce1-804e-4421-af41-f45743da627e\",\"type\":\"GlyphRenderer\"},{\"attributes\":{\"data_source\":{\"id\":\"81cb5bbc-0e0b-4a0a-b571-e61b3a3cbe69\",\"type\":\"ColumnDataSource\"},\"glyph\":{\"id\":\"c4d9eb3f-c167-4e24-bf3b-3da7fd6ce66a\",\"type\":\"Rect\"},\"hover_glyph\":null,\"muted_glyph\":null},\"id\":\"11cbd858-51c9-47a2-ab63-b27b6f7c6148\",\"type\":\"GlyphRenderer\"},{\"attributes\":{\"data_source\":{\"id\":\"e9e677b2-0181-446e-abf8-62f7364e4471\",\"type\":\"ColumnDataSource\"},\"glyph\":{\"id\":\"305fb336-bbdd-4db2-b226-da9c509db4c7\",\"type\":\"Rect\"},\"hover_glyph\":null,\"muted_glyph\":null},\"id\":\"598964fb-2a31-409c-99d2-b89cbbee7a83\",\"type\":\"GlyphRenderer\"},{\"attributes\":{\"callback\":null,\"column_names\":[\"x\",\"y\",\"width\",\"height\",\"color\",\"fill_alpha\",\"line_color\",\"line_alpha\",\"label\"],\"data\":{\"chart_index\":[\"(9.952880, 10.947644]\"],\"color\":[\"#f22c40\"],\"fill_alpha\":[0.8],\"height\":[12.0],\"label\":[\"(9.952880, 10.947644]\"],\"line_alpha\":[1.0],\"line_color\":[\"black\"],\"width\":[0.9947643979057581],\"x\":[\"10.450262\"],\"y\":[6.0]}},\"id\":\"323a02c3-b284-40a1-9f9c-7f12dc0c403f\",\"type\":\"ColumnDataSource\"},{\"attributes\":{\"fill_alpha\":{\"field\":\"fill_alpha\"},\"fill_color\":{\"field\":\"color\"},\"height\":{\"field\":\"height\",\"units\":\"data\"},\"line_color\":{\"field\":\"line_color\"},\"width\":{\"field\":\"width\",\"units\":\"data\"},\"x\":{\"field\":\"x\"},\"y\":{\"field\":\"y\"}},\"id\":\"09711408-7847-40e6-8c0e-c120e94231fb\",\"type\":\"Rect\"},{\"attributes\":{\"fill_alpha\":{\"field\":\"fill_alpha\"},\"fill_color\":{\"field\":\"color\"},\"height\":{\"field\":\"height\",\"units\":\"data\"},\"line_color\":{\"field\":\"line_color\"},\"width\":{\"field\":\"width\",\"units\":\"data\"},\"x\":{\"field\":\"x\"},\"y\":{\"field\":\"y\"}},\"id\":\"f2df5cd4-0e5b-4c97-89f3-bb148b196974\",\"type\":\"Rect\"},{\"attributes\":{\"fill_alpha\":{\"field\":\"fill_alpha\"},\"fill_color\":{\"field\":\"color\"},\"height\":{\"field\":\"height\",\"units\":\"data\"},\"line_color\":{\"field\":\"line_color\"},\"width\":{\"field\":\"width\",\"units\":\"data\"},\"x\":{\"field\":\"x\"},\"y\":{\"field\":\"y\"}},\"id\":\"85952179-b1c2-48d1-856d-175803e0e349\",\"type\":\"Rect\"},{\"attributes\":{\"callback\":null,\"column_names\":[\"x\",\"y\",\"width\",\"height\",\"color\",\"fill_alpha\",\"line_color\",\"line_alpha\",\"label\"],\"data\":{\"chart_index\":[\"(70.633508, 71.628272]\"],\"color\":[\"#f22c40\"],\"fill_alpha\":[0.8],\"height\":[0.0],\"label\":[\"(70.633508, 71.628272]\"],\"line_alpha\":[1.0],\"line_color\":[\"black\"],\"width\":[0.9947643979057545],\"x\":[\"71.13089\"],\"y\":[0.0]}},\"id\":\"3c2538f8-8737-4e7d-820f-34864046c413\",\"type\":\"ColumnDataSource\"},{\"attributes\":{\"callback\":null,\"column_names\":[\"x\",\"y\",\"width\",\"height\",\"color\",\"fill_alpha\",\"line_color\",\"line_alpha\",\"label\"],\"data\":{\"chart_index\":[\"(99.481675, 100.476440]\"],\"color\":[\"#f22c40\"],\"fill_alpha\":[0.8],\"height\":[0.0],\"label\":[\"(99.481675, 100.476440]\"],\"line_alpha\":[1.0],\"line_color\":[\"black\"],\"width\":[0.9947643979057688],\"x\":[\"99.9790575\"],\"y\":[0.0]}},\"id\":\"d8f2c535-1126-4779-b18f-852cd839b9e3\",\"type\":\"ColumnDataSource\"},{\"attributes\":{\"callback\":null,\"column_names\":[\"x\",\"y\",\"width\",\"height\",\"color\",\"fill_alpha\",\"line_color\",\"line_alpha\",\"label\"],\"data\":{\"chart_index\":[\"(137.282723, 138.277487]\"],\"color\":[\"#f22c40\"],\"fill_alpha\":[0.8],\"height\":[0.0],\"label\":[\"(137.282723, 138.277487]\"],\"line_alpha\":[1.0],\"line_color\":[\"black\"],\"width\":[0.994764397905783],\"x\":[\"137.780105\"],\"y\":[0.0]}},\"id\":\"b34f0990-4c11-4d74-92f2-bccf35c3b5c4\",\"type\":\"ColumnDataSource\"},{\"attributes\":{\"data_source\":{\"id\":\"d8f2c535-1126-4779-b18f-852cd839b9e3\",\"type\":\"ColumnDataSource\"},\"glyph\":{\"id\":\"c67508b0-f596-4627-966e-44b174c7e305\",\"type\":\"Rect\"},\"hover_glyph\":null,\"muted_glyph\":null},\"id\":\"50fe629f-ce7e-49b4-85da-20c11e65a320\",\"type\":\"GlyphRenderer\"},{\"attributes\":{\"fill_alpha\":{\"field\":\"fill_alpha\"},\"fill_color\":{\"field\":\"color\"},\"height\":{\"field\":\"height\",\"units\":\"data\"},\"line_color\":{\"field\":\"line_color\"},\"width\":{\"field\":\"width\",\"units\":\"data\"},\"x\":{\"field\":\"x\"},\"y\":{\"field\":\"y\"}},\"id\":\"e01d4de1-a763-4f34-ae9c-8ce03bf83ad3\",\"type\":\"Rect\"},{\"attributes\":{\"callback\":null,\"column_names\":[\"x\",\"y\",\"width\",\"height\",\"color\",\"fill_alpha\",\"line_color\",\"line_alpha\",\"label\"],\"data\":{\"chart_index\":[\"(101.471204, 102.465969]\"],\"color\":[\"#f22c40\"],\"fill_alpha\":[0.8],\"height\":[0.0],\"label\":[\"(101.471204, 102.465969]\"],\"line_alpha\":[1.0],\"line_color\":[\"black\"],\"width\":[0.9947643979057545],\"x\":[\"101.9685865\"],\"y\":[0.0]}},\"id\":\"181eb9ff-327b-4798-b167-c88bf2ce4dbf\",\"type\":\"ColumnDataSource\"},{\"attributes\":{\"data_source\":{\"id\":\"14ccc222-3b46-4e19-9e7e-24eeeb8f51ab\",\"type\":\"ColumnDataSource\"},\"glyph\":{\"id\":\"90cbb8c7-2db4-4bd8-9f1c-efe569af3706\",\"type\":\"Rect\"},\"hover_glyph\":null,\"muted_glyph\":null},\"id\":\"907d2b9c-9f77-416e-b902-60ce6d8a0fd3\",\"type\":\"GlyphRenderer\"},{\"attributes\":{\"fill_alpha\":{\"field\":\"fill_alpha\"},\"fill_color\":{\"field\":\"color\"},\"height\":{\"field\":\"height\",\"units\":\"data\"},\"line_color\":{\"field\":\"line_color\"},\"width\":{\"field\":\"width\",\"units\":\"data\"},\"x\":{\"field\":\"x\"},\"y\":{\"field\":\"y\"}},\"id\":\"0867f36e-7b5d-4c12-873f-71d7a9f8acc8\",\"type\":\"Rect\"},{\"attributes\":{\"callback\":null,\"column_names\":[\"x\",\"y\",\"width\",\"height\",\"color\",\"fill_alpha\",\"line_color\",\"line_alpha\",\"label\"],\"data\":{\"chart_index\":[\"(4.979058, 5.973822]\"],\"color\":[\"#f22c40\"],\"fill_alpha\":[0.8],\"height\":[68.0],\"label\":[\"(4.979058, 5.973822]\"],\"line_alpha\":[1.0],\"line_color\":[\"black\"],\"width\":[0.994764397905759],\"x\":[\"5.47644\"],\"y\":[34.0]}},\"id\":\"2684fd9f-c06a-45cd-8aa7-bbc3aa07703a\",\"type\":\"ColumnDataSource\"},{\"attributes\":{\"data_source\":{\"id\":\"cac08819-ac4d-46cc-b71a-f455aa1a5d6d\",\"type\":\"ColumnDataSource\"},\"glyph\":{\"id\":\"22c228b0-e043-4ae4-897a-4b582074d280\",\"type\":\"Rect\"},\"hover_glyph\":null,\"muted_glyph\":null},\"id\":\"8fccb73a-6c4d-4900-877b-4ddeb365bdd9\",\"type\":\"GlyphRenderer\"},{\"attributes\":{\"fill_alpha\":{\"field\":\"fill_alpha\"},\"fill_color\":{\"field\":\"color\"},\"height\":{\"field\":\"height\",\"units\":\"data\"},\"line_color\":{\"field\":\"line_color\"},\"width\":{\"field\":\"width\",\"units\":\"data\"},\"x\":{\"field\":\"x\"},\"y\":{\"field\":\"y\"}},\"id\":\"9bebac3b-e763-4696-b0e5-cd27c4e9351d\",\"type\":\"Rect\"},{\"attributes\":{\"data_source\":{\"id\":\"c5d0aef7-ea6d-4cfd-9df2-39d6514a2b85\",\"type\":\"ColumnDataSource\"},\"glyph\":{\"id\":\"719576fe-29fe-43fe-900c-05d8c449d06f\",\"type\":\"Rect\"},\"hover_glyph\":null,\"muted_glyph\":null},\"id\":\"bc849fac-ce2a-41c3-8f2b-eb97adc8990d\",\"type\":\"GlyphRenderer\"},{\"attributes\":{\"data_source\":{\"id\":\"e38c54b5-8259-4a47-8e12-cf0bcb09e975\",\"type\":\"ColumnDataSource\"},\"glyph\":{\"id\":\"99ee432a-465e-4df6-94e1-473b0db75cd3\",\"type\":\"Rect\"},\"hover_glyph\":null,\"muted_glyph\":null},\"id\":\"505e3036-454f-4637-ac95-0c69109d54b0\",\"type\":\"GlyphRenderer\"},{\"attributes\":{\"fill_alpha\":{\"field\":\"fill_alpha\"},\"fill_color\":{\"field\":\"color\"},\"height\":{\"field\":\"height\",\"units\":\"data\"},\"line_color\":{\"field\":\"line_color\"},\"width\":{\"field\":\"width\",\"units\":\"data\"},\"x\":{\"field\":\"x\"},\"y\":{\"field\":\"y\"}},\"id\":\"beaec3f8-1511-44c8-a9b7-50b14c591859\",\"type\":\"Rect\"},{\"attributes\":{\"fill_alpha\":{\"field\":\"fill_alpha\"},\"fill_color\":{\"field\":\"color\"},\"height\":{\"field\":\"height\",\"units\":\"data\"},\"line_color\":{\"field\":\"line_color\"},\"width\":{\"field\":\"width\",\"units\":\"data\"},\"x\":{\"field\":\"x\"},\"y\":{\"field\":\"y\"}},\"id\":\"7da58d09-44b1-4dd3-b4d7-5beb93a37d1c\",\"type\":\"Rect\"},{\"attributes\":{\"callback\":null,\"column_names\":[\"x\",\"y\",\"width\",\"height\",\"color\",\"fill_alpha\",\"line_color\",\"line_alpha\",\"label\"],\"data\":{\"chart_index\":[\"(118.382199, 119.376963]\"],\"color\":[\"#f22c40\"],\"fill_alpha\":[0.8],\"height\":[0.0],\"label\":[\"(118.382199, 119.376963]\"],\"line_alpha\":[1.0],\"line_color\":[\"black\"],\"width\":[0.9947643979057545],\"x\":[\"118.879581\"],\"y\":[0.0]}},\"id\":\"b9c7d0e3-2385-4332-adde-819633507409\",\"type\":\"ColumnDataSource\"},{\"attributes\":{\"fill_alpha\":{\"field\":\"fill_alpha\"},\"fill_color\":{\"field\":\"color\"},\"height\":{\"field\":\"height\",\"units\":\"data\"},\"line_color\":{\"field\":\"line_color\"},\"width\":{\"field\":\"width\",\"units\":\"data\"},\"x\":{\"field\":\"x\"},\"y\":{\"field\":\"y\"}},\"id\":\"322d7c7c-b15d-4e0c-8190-9b93c2177384\",\"type\":\"Rect\"},{\"attributes\":{\"data_source\":{\"id\":\"e249090e-477d-47f5-a6bb-f6275ef09244\",\"type\":\"ColumnDataSource\"},\"glyph\":{\"id\":\"59cb20ad-c9ee-4b9d-ab5f-0bc1e9fd8cdb\",\"type\":\"Rect\"},\"hover_glyph\":null,\"muted_glyph\":null},\"id\":\"76fcba4d-1a8c-4876-817d-9e5a45737b0e\",\"type\":\"GlyphRenderer\"},{\"attributes\":{\"fill_alpha\":{\"field\":\"fill_alpha\"},\"fill_color\":{\"field\":\"color\"},\"height\":{\"field\":\"height\",\"units\":\"data\"},\"line_color\":{\"field\":\"line_color\"},\"width\":{\"field\":\"width\",\"units\":\"data\"},\"x\":{\"field\":\"x\"},\"y\":{\"field\":\"y\"}},\"id\":\"d9bc334b-f471-4add-9fff-be05a6b840fa\",\"type\":\"Rect\"},{\"attributes\":{\"fill_alpha\":{\"field\":\"fill_alpha\"},\"fill_color\":{\"field\":\"color\"},\"height\":{\"field\":\"height\",\"units\":\"data\"},\"line_color\":{\"field\":\"line_color\"},\"width\":{\"field\":\"width\",\"units\":\"data\"},\"x\":{\"field\":\"x\"},\"y\":{\"field\":\"y\"}},\"id\":\"ca06ea31-1bbc-4c0b-9254-af3cd054d182\",\"type\":\"Rect\"},{\"attributes\":{\"callback\":null,\"column_names\":[\"x\",\"y\",\"width\",\"height\",\"color\",\"fill_alpha\",\"line_color\",\"line_alpha\",\"label\"],\"data\":{\"chart_index\":[\"(139.272251, 140.267016]\"],\"color\":[\"#f22c40\"],\"fill_alpha\":[0.8],\"height\":[0.0],\"label\":[\"(139.272251, 140.267016]\"],\"line_alpha\":[1.0],\"line_color\":[\"black\"],\"width\":[0.9947643979057545],\"x\":[\"139.7696335\"],\"y\":[0.0]}},\"id\":\"e38c54b5-8259-4a47-8e12-cf0bcb09e975\",\"type\":\"ColumnDataSource\"},{\"attributes\":{\"data_source\":{\"id\":\"56e8052d-1a9b-4bbc-8f71-5cad6ce93131\",\"type\":\"ColumnDataSource\"},\"glyph\":{\"id\":\"6a891003-c1cc-49a2-9d44-5b9ea895949a\",\"type\":\"Rect\"},\"hover_glyph\":null,\"muted_glyph\":null},\"id\":\"f02d3653-0d8f-40e5-9c65-bd2a90a6ee6f\",\"type\":\"GlyphRenderer\"},{\"attributes\":{\"callback\":null,\"column_names\":[\"x\",\"y\",\"width\",\"height\",\"color\",\"fill_alpha\",\"line_color\",\"line_alpha\",\"label\"],\"data\":{\"chart_index\":[\"(147.230366, 148.225131]\"],\"color\":[\"#f22c40\"],\"fill_alpha\":[0.8],\"height\":[0.0],\"label\":[\"(147.230366, 148.225131]\"],\"line_alpha\":[1.0],\"line_color\":[\"black\"],\"width\":[0.9947643979057545],\"x\":[\"147.72774850000002\"],\"y\":[0.0]}},\"id\":\"32c123d7-88ac-49ee-aed7-3c523161905f\",\"type\":\"ColumnDataSource\"},{\"attributes\":{\"data_source\":{\"id\":\"3c2538f8-8737-4e7d-820f-34864046c413\",\"type\":\"ColumnDataSource\"},\"glyph\":{\"id\":\"09711408-7847-40e6-8c0e-c120e94231fb\",\"type\":\"Rect\"},\"hover_glyph\":null,\"muted_glyph\":null},\"id\":\"8a85ab6d-f32c-44f6-9033-50185e4f5a4e\",\"type\":\"GlyphRenderer\"},{\"attributes\":{\"data_source\":{\"id\":\"323a02c3-b284-40a1-9f9c-7f12dc0c403f\",\"type\":\"ColumnDataSource\"},\"glyph\":{\"id\":\"9534c3ae-0d2b-4619-88a3-ea770d527059\",\"type\":\"Rect\"},\"hover_glyph\":null,\"muted_glyph\":null},\"id\":\"2c2888bc-a638-45dd-9384-0b119c8da707\",\"type\":\"GlyphRenderer\"},{\"attributes\":{\"data_source\":{\"id\":\"b34f0990-4c11-4d74-92f2-bccf35c3b5c4\",\"type\":\"ColumnDataSource\"},\"glyph\":{\"id\":\"85952179-b1c2-48d1-856d-175803e0e349\",\"type\":\"Rect\"},\"hover_glyph\":null,\"muted_glyph\":null},\"id\":\"29d9f490-642e-403e-a268-0b0fe93f2613\",\"type\":\"GlyphRenderer\"},{\"attributes\":{\"data_source\":{\"id\":\"9adcb7fd-0bf7-4cad-a7d2-ef98d1983671\",\"type\":\"ColumnDataSource\"},\"glyph\":{\"id\":\"d9bc334b-f471-4add-9fff-be05a6b840fa\",\"type\":\"Rect\"},\"hover_glyph\":null,\"muted_glyph\":null},\"id\":\"98c6f6c8-6ae1-4e43-a17d-11dcb6b2d150\",\"type\":\"GlyphRenderer\"},{\"attributes\":{\"data_source\":{\"id\":\"2684fd9f-c06a-45cd-8aa7-bbc3aa07703a\",\"type\":\"ColumnDataSource\"},\"glyph\":{\"id\":\"9bebac3b-e763-4696-b0e5-cd27c4e9351d\",\"type\":\"Rect\"},\"hover_glyph\":null,\"muted_glyph\":null},\"id\":\"6ef45142-e264-4deb-80be-e81503bce3d6\",\"type\":\"GlyphRenderer\"},{\"attributes\":{\"fill_alpha\":{\"field\":\"fill_alpha\"},\"fill_color\":{\"field\":\"color\"},\"height\":{\"field\":\"height\",\"units\":\"data\"},\"line_color\":{\"field\":\"line_color\"},\"width\":{\"field\":\"width\",\"units\":\"data\"},\"x\":{\"field\":\"x\"},\"y\":{\"field\":\"y\"}},\"id\":\"6a891003-c1cc-49a2-9d44-5b9ea895949a\",\"type\":\"Rect\"},{\"attributes\":{\"fill_alpha\":{\"field\":\"fill_alpha\"},\"fill_color\":{\"field\":\"color\"},\"height\":{\"field\":\"height\",\"units\":\"data\"},\"line_color\":{\"field\":\"line_color\"},\"width\":{\"field\":\"width\",\"units\":\"data\"},\"x\":{\"field\":\"x\"},\"y\":{\"field\":\"y\"}},\"id\":\"99ee432a-465e-4df6-94e1-473b0db75cd3\",\"type\":\"Rect\"},{\"attributes\":{\"data_source\":{\"id\":\"181eb9ff-327b-4798-b167-c88bf2ce4dbf\",\"type\":\"ColumnDataSource\"},\"glyph\":{\"id\":\"e01d4de1-a763-4f34-ae9c-8ce03bf83ad3\",\"type\":\"Rect\"},\"hover_glyph\":null,\"muted_glyph\":null},\"id\":\"457c9eec-6dfe-48c8-885a-a38fb99fea37\",\"type\":\"GlyphRenderer\"},{\"attributes\":{\"callback\":null,\"column_names\":[\"x\",\"y\",\"width\",\"height\",\"color\",\"fill_alpha\",\"line_color\",\"line_alpha\",\"label\"],\"data\":{\"chart_index\":[\"(105.450262, 106.445026]\"],\"color\":[\"#f22c40\"],\"fill_alpha\":[0.8],\"height\":[0.0],\"label\":[\"(105.450262, 106.445026]\"],\"line_alpha\":[1.0],\"line_color\":[\"black\"],\"width\":[0.9947643979057688],\"x\":[\"105.947644\"],\"y\":[0.0]}},\"id\":\"1e3c411c-3851-4ea6-97fb-70f645b4be48\",\"type\":\"ColumnDataSource\"},{\"attributes\":{\"fill_alpha\":{\"field\":\"fill_alpha\"},\"fill_color\":{\"field\":\"color\"},\"height\":{\"field\":\"height\",\"units\":\"data\"},\"line_color\":{\"field\":\"line_color\"},\"width\":{\"field\":\"width\",\"units\":\"data\"},\"x\":{\"field\":\"x\"},\"y\":{\"field\":\"y\"}},\"id\":\"f2ef7a65-9ad8-4e52-9ca9-d6bcfd86f6c9\",\"type\":\"Rect\"},{\"attributes\":{\"fill_alpha\":{\"field\":\"fill_alpha\"},\"fill_color\":{\"field\":\"color\"},\"height\":{\"field\":\"height\",\"units\":\"data\"},\"line_color\":{\"field\":\"line_color\"},\"width\":{\"field\":\"width\",\"units\":\"data\"},\"x\":{\"field\":\"x\"},\"y\":{\"field\":\"y\"}},\"id\":\"f1d8271d-8bb2-41a2-b926-97efb943d39d\",\"type\":\"Rect\"},{\"attributes\":{\"callback\":null,\"column_names\":[\"x\",\"y\",\"width\",\"height\",\"color\",\"fill_alpha\",\"line_color\",\"line_alpha\",\"label\"],\"data\":{\"chart_index\":[\"(36.811518, 37.806283]\"],\"color\":[\"#f22c40\"],\"fill_alpha\":[0.8],\"height\":[1.0],\"label\":[\"(36.811518, 37.806283]\"],\"line_alpha\":[1.0],\"line_color\":[\"black\"],\"width\":[0.9947643979057545],\"x\":[\"37.3089005\"],\"y\":[0.5]}},\"id\":\"521c6f51-01dd-4c95-bb43-238e131d31ce\",\"type\":\"ColumnDataSource\"},{\"attributes\":{\"data_source\":{\"id\":\"140fb457-9e4b-413e-a0d0-054172d27f36\",\"type\":\"ColumnDataSource\"},\"glyph\":{\"id\":\"af016e4b-1ea3-4c04-b84d-69fcc0fab7d5\",\"type\":\"Rect\"},\"hover_glyph\":null,\"muted_glyph\":null},\"id\":\"9a70e033-f17c-46a5-92e5-af31955bdc9c\",\"type\":\"GlyphRenderer\"},{\"attributes\":{\"fill_alpha\":{\"field\":\"fill_alpha\"},\"fill_color\":{\"field\":\"color\"},\"height\":{\"field\":\"height\",\"units\":\"data\"},\"line_color\":{\"field\":\"line_color\"},\"width\":{\"field\":\"width\",\"units\":\"data\"},\"x\":{\"field\":\"x\"},\"y\":{\"field\":\"y\"}},\"id\":\"d74d216f-2d02-487e-bdc3-0e360e646cd2\",\"type\":\"Rect\"},{\"attributes\":{\"callback\":null,\"column_names\":[\"x\",\"y\",\"width\",\"height\",\"color\",\"fill_alpha\",\"line_color\",\"line_alpha\",\"label\"],\"data\":{\"chart_index\":[\"(111.418848, 112.413613]\"],\"color\":[\"#f22c40\"],\"fill_alpha\":[0.8],\"height\":[0.0],\"label\":[\"(111.418848, 112.413613]\"],\"line_alpha\":[1.0],\"line_color\":[\"black\"],\"width\":[0.9947643979057688],\"x\":[\"111.9162305\"],\"y\":[0.0]}},\"id\":\"04a674d9-1268-43e0-85b2-728477b68417\",\"type\":\"ColumnDataSource\"},{\"attributes\":{\"callback\":null,\"column_names\":[\"x\",\"y\",\"width\",\"height\",\"color\",\"fill_alpha\",\"line_color\",\"line_alpha\",\"label\"],\"data\":{\"chart_index\":[\"(104.455497, 105.450262]\"],\"color\":[\"#f22c40\"],\"fill_alpha\":[0.8],\"height\":[0.0],\"label\":[\"(104.455497, 105.450262]\"],\"line_alpha\":[1.0],\"line_color\":[\"black\"],\"width\":[0.9947643979057545],\"x\":[\"104.9528795\"],\"y\":[0.0]}},\"id\":\"af8f9d3d-6418-4a73-9e00-7fcb5c06812e\",\"type\":\"ColumnDataSource\"},{\"attributes\":{\"data_source\":{\"id\":\"af8f9d3d-6418-4a73-9e00-7fcb5c06812e\",\"type\":\"ColumnDataSource\"},\"glyph\":{\"id\":\"0d7f41c5-b392-444f-8559-a89293b564ed\",\"type\":\"Rect\"},\"hover_glyph\":null,\"muted_glyph\":null},\"id\":\"3e48c2f5-39e2-42bb-a77a-8378c7103b5e\",\"type\":\"GlyphRenderer\"},{\"attributes\":{\"fill_alpha\":{\"field\":\"fill_alpha\"},\"fill_color\":{\"field\":\"color\"},\"height\":{\"field\":\"height\",\"units\":\"data\"},\"line_color\":{\"field\":\"line_color\"},\"width\":{\"field\":\"width\",\"units\":\"data\"},\"x\":{\"field\":\"x\"},\"y\":{\"field\":\"y\"}},\"id\":\"35e9e307-d77e-4fdb-8146-2c40e855f16f\",\"type\":\"Rect\"},{\"attributes\":{\"data_source\":{\"id\":\"521c6f51-01dd-4c95-bb43-238e131d31ce\",\"type\":\"ColumnDataSource\"},\"glyph\":{\"id\":\"f1d8271d-8bb2-41a2-b926-97efb943d39d\",\"type\":\"Rect\"},\"hover_glyph\":null,\"muted_glyph\":null},\"id\":\"a24d079f-3913-42f1-9b75-ba00d84e2187\",\"type\":\"GlyphRenderer\"},{\"attributes\":{\"plot\":{\"id\":\"53d9fb3e-3964-4a30-990b-e28fa9d24964\",\"subtype\":\"Chart\",\"type\":\"Plot\"}},\"id\":\"f15d4e88-6d97-4e5c-ad4f-f8e22dbff23b\",\"type\":\"SaveTool\"},{\"attributes\":{\"callback\":null,\"column_names\":[\"x\",\"y\",\"width\",\"height\",\"color\",\"fill_alpha\",\"line_color\",\"line_alpha\",\"label\"],\"data\":{\"chart_index\":[\"(39.795812, 40.790576]\"],\"color\":[\"#f22c40\"],\"fill_alpha\":[0.8],\"height\":[0.0],\"label\":[\"(39.795812, 40.790576]\"],\"line_alpha\":[1.0],\"line_color\":[\"black\"],\"width\":[0.9947643979057545],\"x\":[\"40.293194\"],\"y\":[0.0]}},\"id\":\"cb7fde40-695c-4acf-bbad-7bc3e71fa4c3\",\"type\":\"ColumnDataSource\"},{\"attributes\":{\"fill_alpha\":{\"field\":\"fill_alpha\"},\"fill_color\":{\"field\":\"color\"},\"height\":{\"field\":\"height\",\"units\":\"data\"},\"line_color\":{\"field\":\"line_color\"},\"width\":{\"field\":\"width\",\"units\":\"data\"},\"x\":{\"field\":\"x\"},\"y\":{\"field\":\"y\"}},\"id\":\"9a8c6ee3-c81d-468e-9e6b-15bf9cc87331\",\"type\":\"Rect\"},{\"attributes\":{\"data_source\":{\"id\":\"e7af4798-c629-4069-89db-bd1eda519516\",\"type\":\"ColumnDataSource\"},\"glyph\":{\"id\":\"02ce86d2-840f-4f7a-8e08-70bb80aa926a\",\"type\":\"Rect\"},\"hover_glyph\":null,\"muted_glyph\":null},\"id\":\"6159c437-6d56-4672-b59e-326e069f0eda\",\"type\":\"GlyphRenderer\"},{\"attributes\":{\"data_source\":{\"id\":\"b6ae118f-24d0-45c6-b0cc-b9e1880711db\",\"type\":\"ColumnDataSource\"},\"glyph\":{\"id\":\"831eb4d6-e232-4c1d-bfd3-7ea3977349e4\",\"type\":\"Rect\"},\"hover_glyph\":null,\"muted_glyph\":null},\"id\":\"2fbfd3fb-3957-4181-880e-1cf538e48e9f\",\"type\":\"GlyphRenderer\"},{\"attributes\":{\"data_source\":{\"id\":\"1e3c411c-3851-4ea6-97fb-70f645b4be48\",\"type\":\"ColumnDataSource\"},\"glyph\":{\"id\":\"f2ef7a65-9ad8-4e52-9ca9-d6bcfd86f6c9\",\"type\":\"Rect\"},\"hover_glyph\":null,\"muted_glyph\":null},\"id\":\"d881c6cc-a8b8-43d2-86d3-20e6e1a4067c\",\"type\":\"GlyphRenderer\"},{\"attributes\":{\"plot\":null,\"text\":\"Histogram of Locations Per Activity\"},\"id\":\"4eb6ed9b-5d30-464f-807b-880777c11d51\",\"type\":\"Title\"},{\"attributes\":{\"fill_alpha\":{\"field\":\"fill_alpha\"},\"fill_color\":{\"field\":\"color\"},\"height\":{\"field\":\"height\",\"units\":\"data\"},\"line_color\":{\"field\":\"line_color\"},\"width\":{\"field\":\"width\",\"units\":\"data\"},\"x\":{\"field\":\"x\"},\"y\":{\"field\":\"y\"}},\"id\":\"0d361444-fdae-4f60-973f-ba1b99efb779\",\"type\":\"Rect\"},{\"attributes\":{\"fill_alpha\":{\"field\":\"fill_alpha\"},\"fill_color\":{\"field\":\"color\"},\"height\":{\"field\":\"height\",\"units\":\"data\"},\"line_color\":{\"field\":\"line_color\"},\"width\":{\"field\":\"width\",\"units\":\"data\"},\"x\":{\"field\":\"x\"},\"y\":{\"field\":\"y\"}},\"id\":\"91cd7c17-5403-4b7d-87a0-f702f9e98ba2\",\"type\":\"Rect\"},{\"attributes\":{\"data_source\":{\"id\":\"2570ca11-a6e4-466b-8c0c-66deb6c450a7\",\"type\":\"ColumnDataSource\"},\"glyph\":{\"id\":\"e7ae8bb9-e70c-4db5-92d7-506aafc543bd\",\"type\":\"Rect\"},\"hover_glyph\":null,\"muted_glyph\":null},\"id\":\"e6081b39-fd63-4db2-b34c-a835a78c83d0\",\"type\":\"GlyphRenderer\"},{\"attributes\":{\"data_source\":{\"id\":\"7bbaac3a-4924-440c-b4e5-912d838d36f6\",\"type\":\"ColumnDataSource\"},\"glyph\":{\"id\":\"35e9e307-d77e-4fdb-8146-2c40e855f16f\",\"type\":\"Rect\"},\"hover_glyph\":null,\"muted_glyph\":null},\"id\":\"c3d53478-b2a4-4330-8cf5-678e0c3f6176\",\"type\":\"GlyphRenderer\"},{\"attributes\":{\"callback\":null,\"column_names\":[\"x\",\"y\",\"width\",\"height\",\"color\",\"fill_alpha\",\"line_color\",\"line_alpha\",\"label\"],\"data\":{\"chart_index\":[\"(45.764398, 46.759162]\"],\"color\":[\"#f22c40\"],\"fill_alpha\":[0.8],\"height\":[0.0],\"label\":[\"(45.764398, 46.759162]\"],\"line_alpha\":[1.0],\"line_color\":[\"black\"],\"width\":[0.9947643979057545],\"x\":[\"46.26178\"],\"y\":[0.0]}},\"id\":\"2570ca11-a6e4-466b-8c0c-66deb6c450a7\",\"type\":\"ColumnDataSource\"},{\"attributes\":{\"data_source\":{\"id\":\"cb7fde40-695c-4acf-bbad-7bc3e71fa4c3\",\"type\":\"ColumnDataSource\"},\"glyph\":{\"id\":\"9a8c6ee3-c81d-468e-9e6b-15bf9cc87331\",\"type\":\"Rect\"},\"hover_glyph\":null,\"muted_glyph\":null},\"id\":\"3881cc5f-5440-4bd8-9bcf-c1742d3ffcdd\",\"type\":\"GlyphRenderer\"},{\"attributes\":{\"callback\":null,\"column_names\":[\"x\",\"y\",\"width\",\"height\",\"color\",\"fill_alpha\",\"line_color\",\"line_alpha\",\"label\"],\"data\":{\"chart_index\":[\"(106.445026, 107.439791]\"],\"color\":[\"#f22c40\"],\"fill_alpha\":[0.8],\"height\":[0.0],\"label\":[\"(106.445026, 107.439791]\"],\"line_alpha\":[1.0],\"line_color\":[\"black\"],\"width\":[0.9947643979057545],\"x\":[\"106.9424085\"],\"y\":[0.0]}},\"id\":\"7bbaac3a-4924-440c-b4e5-912d838d36f6\",\"type\":\"ColumnDataSource\"},{\"attributes\":{\"fill_alpha\":{\"field\":\"fill_alpha\"},\"fill_color\":{\"field\":\"color\"},\"height\":{\"field\":\"height\",\"units\":\"data\"},\"line_color\":{\"field\":\"line_color\"},\"width\":{\"field\":\"width\",\"units\":\"data\"},\"x\":{\"field\":\"x\"},\"y\":{\"field\":\"y\"}},\"id\":\"26fb21f1-3091-492d-b356-2c1ce62d924c\",\"type\":\"Rect\"},{\"attributes\":{\"fill_alpha\":{\"field\":\"fill_alpha\"},\"fill_color\":{\"field\":\"color\"},\"height\":{\"field\":\"height\",\"units\":\"data\"},\"line_color\":{\"field\":\"line_color\"},\"width\":{\"field\":\"width\",\"units\":\"data\"},\"x\":{\"field\":\"x\"},\"y\":{\"field\":\"y\"}},\"id\":\"9c1cd51f-d36d-4ada-a92b-5ed83d8d58d4\",\"type\":\"Rect\"},{\"attributes\":{\"callback\":null,\"column_names\":[\"x\",\"y\",\"width\",\"height\",\"color\",\"fill_alpha\",\"line_color\",\"line_alpha\",\"label\"],\"data\":{\"chart_index\":[\"(5.973822, 6.968586]\"],\"color\":[\"#f22c40\"],\"fill_alpha\":[0.8],\"height\":[54.0],\"label\":[\"(5.973822, 6.968586]\"],\"line_alpha\":[1.0],\"line_color\":[\"black\"],\"width\":[0.9947643979057599],\"x\":[\"6.471204\"],\"y\":[27.0]}},\"id\":\"55b71234-9390-42ec-97cb-8d5db0176822\",\"type\":\"ColumnDataSource\"},{\"attributes\":{\"callback\":null,\"column_names\":[\"x\",\"y\",\"width\",\"height\",\"color\",\"fill_alpha\",\"line_color\",\"line_alpha\",\"label\"],\"data\":{\"chart_index\":[\"(138.277487, 139.272251]\"],\"color\":[\"#f22c40\"],\"fill_alpha\":[0.8],\"height\":[0.0],\"label\":[\"(138.277487, 139.272251]\"],\"line_alpha\":[1.0],\"line_color\":[\"black\"],\"width\":[0.9947643979057545],\"x\":[\"138.77486900000002\"],\"y\":[0.0]}},\"id\":\"9758488d-b6c4-47b4-9e9b-b838b69c4361\",\"type\":\"ColumnDataSource\"},{\"attributes\":{\"callback\":null,\"column_names\":[\"x\",\"y\",\"width\",\"height\",\"color\",\"fill_alpha\",\"line_color\",\"line_alpha\",\"label\"],\"data\":{\"chart_index\":[\"(6.968586, 7.963351]\"],\"color\":[\"#f22c40\"],\"fill_alpha\":[0.8],\"height\":[38.0],\"label\":[\"(6.968586, 7.963351]\"],\"line_alpha\":[1.0],\"line_color\":[\"black\"],\"width\":[0.994764397905759],\"x\":[\"7.465968500000001\"],\"y\":[19.0]}},\"id\":\"c8531183-8f33-4fd1-a4d4-86082e61d937\",\"type\":\"ColumnDataSource\"},{\"attributes\":{\"callback\":null,\"column_names\":[\"x\",\"y\",\"width\",\"height\",\"color\",\"fill_alpha\",\"line_color\",\"line_alpha\",\"label\"],\"data\":{\"chart_index\":[\"(172.099476, 173.094241]\"],\"color\":[\"#f22c40\"],\"fill_alpha\":[0.8],\"height\":[0.0],\"label\":[\"(172.099476, 173.094241]\"],\"line_alpha\":[1.0],\"line_color\":[\"black\"],\"width\":[0.9947643979057545],\"x\":[\"172.5968585\"],\"y\":[0.0]}},\"id\":\"283a3644-21ec-48c7-881b-71f9dedf1ac8\",\"type\":\"ColumnDataSource\"},{\"attributes\":{\"callback\":null,\"column_names\":[\"x\",\"y\",\"width\",\"height\",\"color\",\"fill_alpha\",\"line_color\",\"line_alpha\",\"label\"],\"data\":{\"chart_index\":[\"(141.261780, 142.256545]\"],\"color\":[\"#f22c40\"],\"fill_alpha\":[0.8],\"height\":[0.0],\"label\":[\"(141.261780, 142.256545]\"],\"line_alpha\":[1.0],\"line_color\":[\"black\"],\"width\":[0.9947643979057545],\"x\":[\"141.7591625\"],\"y\":[0.0]}},\"id\":\"9c3c5e02-813f-4316-983b-a97d2689cf14\",\"type\":\"ColumnDataSource\"},{\"attributes\":{\"fill_alpha\":{\"field\":\"fill_alpha\"},\"fill_color\":{\"field\":\"color\"},\"height\":{\"field\":\"height\",\"units\":\"data\"},\"line_color\":{\"field\":\"line_color\"},\"width\":{\"field\":\"width\",\"units\":\"data\"},\"x\":{\"field\":\"x\"},\"y\":{\"field\":\"y\"}},\"id\":\"47602818-d4c4-492e-bb23-2bcfabd27acf\",\"type\":\"Rect\"},{\"attributes\":{\"fill_alpha\":{\"field\":\"fill_alpha\"},\"fill_color\":{\"field\":\"color\"},\"height\":{\"field\":\"height\",\"units\":\"data\"},\"line_color\":{\"field\":\"line_color\"},\"width\":{\"field\":\"width\",\"units\":\"data\"},\"x\":{\"field\":\"x\"},\"y\":{\"field\":\"y\"}},\"id\":\"983db7ae-7b90-4296-a15e-6ecc56fd4f45\",\"type\":\"Rect\"},{\"attributes\":{\"data_source\":{\"id\":\"55b71234-9390-42ec-97cb-8d5db0176822\",\"type\":\"ColumnDataSource\"},\"glyph\":{\"id\":\"beaec3f8-1511-44c8-a9b7-50b14c591859\",\"type\":\"Rect\"},\"hover_glyph\":null,\"muted_glyph\":null},\"id\":\"1df5ebdd-3f8d-4a5b-8c9e-c43f4bc54839\",\"type\":\"GlyphRenderer\"},{\"attributes\":{\"data_source\":{\"id\":\"9758488d-b6c4-47b4-9e9b-b838b69c4361\",\"type\":\"ColumnDataSource\"},\"glyph\":{\"id\":\"322d7c7c-b15d-4e0c-8190-9b93c2177384\",\"type\":\"Rect\"},\"hover_glyph\":null,\"muted_glyph\":null},\"id\":\"793311af-8173-4817-abf5-c85cc4d46ab0\",\"type\":\"GlyphRenderer\"},{\"attributes\":{\"data_source\":{\"id\":\"acb0a8c5-e160-48cb-8774-5403f7b00e22\",\"type\":\"ColumnDataSource\"},\"glyph\":{\"id\":\"aecdf9d3-ffd6-46a5-a5f6-86307e526d18\",\"type\":\"Rect\"},\"hover_glyph\":null,\"muted_glyph\":null},\"id\":\"7b6dac10-ee3b-4757-a79d-53aeb6e0693b\",\"type\":\"GlyphRenderer\"},{\"attributes\":{\"fill_alpha\":{\"field\":\"fill_alpha\"},\"fill_color\":{\"field\":\"color\"},\"height\":{\"field\":\"height\",\"units\":\"data\"},\"line_color\":{\"field\":\"line_color\"},\"width\":{\"field\":\"width\",\"units\":\"data\"},\"x\":{\"field\":\"x\"},\"y\":{\"field\":\"y\"}},\"id\":\"05862073-ef03-40a7-bd92-bab002c8d36c\",\"type\":\"Rect\"},{\"attributes\":{\"callback\":null,\"column_names\":[\"x\",\"y\",\"width\",\"height\",\"color\",\"fill_alpha\",\"line_color\",\"line_alpha\",\"label\"],\"data\":{\"chart_index\":[\"(171.104712, 172.099476]\"],\"color\":[\"#f22c40\"],\"fill_alpha\":[0.8],\"height\":[0.0],\"label\":[\"(171.104712, 172.099476]\"],\"line_alpha\":[1.0],\"line_color\":[\"black\"],\"width\":[0.9947643979057545],\"x\":[\"171.60209400000002\"],\"y\":[0.0]}},\"id\":\"58d7643f-cc63-4194-9924-a0a4af44ccd5\",\"type\":\"ColumnDataSource\"},{\"attributes\":{\"data_source\":{\"id\":\"6816fbb3-3f63-492c-9020-0c328f081622\",\"type\":\"ColumnDataSource\"},\"glyph\":{\"id\":\"05862073-ef03-40a7-bd92-bab002c8d36c\",\"type\":\"Rect\"},\"hover_glyph\":null,\"muted_glyph\":null},\"id\":\"ee15ed98-a872-4f33-8bdb-dd2ab9624646\",\"type\":\"GlyphRenderer\"},{\"attributes\":{\"data_source\":{\"id\":\"58d7643f-cc63-4194-9924-a0a4af44ccd5\",\"type\":\"ColumnDataSource\"},\"glyph\":{\"id\":\"a5513a51-a597-4c3c-b58f-93fff5f3d706\",\"type\":\"Rect\"},\"hover_glyph\":null,\"muted_glyph\":null},\"id\":\"3db8da31-41c1-4f47-ac44-9b105f5f991f\",\"type\":\"GlyphRenderer\"},{\"attributes\":{\"fill_alpha\":{\"field\":\"fill_alpha\"},\"fill_color\":{\"field\":\"color\"},\"height\":{\"field\":\"height\",\"units\":\"data\"},\"line_color\":{\"field\":\"line_color\"},\"width\":{\"field\":\"width\",\"units\":\"data\"},\"x\":{\"field\":\"x\"},\"y\":{\"field\":\"y\"}},\"id\":\"419c8810-95d5-4237-b8b5-418d07ce2ed5\",\"type\":\"Rect\"},{\"attributes\":{\"callback\":null,\"column_names\":[\"x\",\"y\",\"width\",\"height\",\"color\",\"fill_alpha\",\"line_color\",\"line_alpha\",\"label\"],\"data\":{\"chart_index\":[\"(173.094241, 174.089005]\"],\"color\":[\"#f22c40\"],\"fill_alpha\":[0.8],\"height\":[0.0],\"label\":[\"(173.094241, 174.089005]\"],\"line_alpha\":[1.0],\"line_color\":[\"black\"],\"width\":[0.994764397905783],\"x\":[\"173.591623\"],\"y\":[0.0]}},\"id\":\"27e6993d-ce1c-4234-a2cc-c65bb22244fc\",\"type\":\"ColumnDataSource\"},{\"attributes\":{\"fill_alpha\":{\"field\":\"fill_alpha\"},\"fill_color\":{\"field\":\"color\"},\"height\":{\"field\":\"height\",\"units\":\"data\"},\"line_color\":{\"field\":\"line_color\"},\"width\":{\"field\":\"width\",\"units\":\"data\"},\"x\":{\"field\":\"x\"},\"y\":{\"field\":\"y\"}},\"id\":\"66c70deb-b039-4723-9908-8b7d895e30c7\",\"type\":\"Rect\"},{\"attributes\":{\"callback\":null,\"column_names\":[\"x\",\"y\",\"width\",\"height\",\"color\",\"fill_alpha\",\"line_color\",\"line_alpha\",\"label\"],\"data\":{\"chart_index\":[\"(142.256545, 143.251309]\"],\"color\":[\"#f22c40\"],\"fill_alpha\":[0.8],\"height\":[0.0],\"label\":[\"(142.256545, 143.251309]\"],\"line_alpha\":[1.0],\"line_color\":[\"black\"],\"width\":[0.9947643979057545],\"x\":[\"142.75392699999998\"],\"y\":[0.0]}},\"id\":\"85683605-fe40-4d66-ae5e-1a7f586df875\",\"type\":\"ColumnDataSource\"},{\"attributes\":{\"data_source\":{\"id\":\"c6f2deb1-e84e-4021-9a06-0019bbf4320a\",\"type\":\"ColumnDataSource\"},\"glyph\":{\"id\":\"bdba467b-5ed6-47e3-91e6-08f1d7a27db9\",\"type\":\"Rect\"},\"hover_glyph\":null,\"muted_glyph\":null},\"id\":\"158db9e1-a781-4e65-930a-b02b3d37c9a5\",\"type\":\"GlyphRenderer\"},{\"attributes\":{\"fill_alpha\":{\"field\":\"fill_alpha\"},\"fill_color\":{\"field\":\"color\"},\"height\":{\"field\":\"height\",\"units\":\"data\"},\"line_color\":{\"field\":\"line_color\"},\"width\":{\"field\":\"width\",\"units\":\"data\"},\"x\":{\"field\":\"x\"},\"y\":{\"field\":\"y\"}},\"id\":\"aecdf9d3-ffd6-46a5-a5f6-86307e526d18\",\"type\":\"Rect\"},{\"attributes\":{\"fill_alpha\":{\"field\":\"fill_alpha\"},\"fill_color\":{\"field\":\"color\"},\"height\":{\"field\":\"height\",\"units\":\"data\"},\"line_color\":{\"field\":\"line_color\"},\"width\":{\"field\":\"width\",\"units\":\"data\"},\"x\":{\"field\":\"x\"},\"y\":{\"field\":\"y\"}},\"id\":\"bdba467b-5ed6-47e3-91e6-08f1d7a27db9\",\"type\":\"Rect\"},{\"attributes\":{\"callback\":null,\"column_names\":[\"x\",\"y\",\"width\",\"height\",\"color\",\"fill_alpha\",\"line_color\",\"line_alpha\",\"label\"],\"data\":{\"chart_index\":[\"(175.083770, 176.078534]\"],\"color\":[\"#f22c40\"],\"fill_alpha\":[0.8],\"height\":[0.0],\"label\":[\"(175.083770, 176.078534]\"],\"line_alpha\":[1.0],\"line_color\":[\"black\"],\"width\":[0.9947643979057545],\"x\":[\"175.58115199999997\"],\"y\":[0.0]}},\"id\":\"acb0a8c5-e160-48cb-8774-5403f7b00e22\",\"type\":\"ColumnDataSource\"},{\"attributes\":{\"data_source\":{\"id\":\"c8531183-8f33-4fd1-a4d4-86082e61d937\",\"type\":\"ColumnDataSource\"},\"glyph\":{\"id\":\"47602818-d4c4-492e-bb23-2bcfabd27acf\",\"type\":\"Rect\"},\"hover_glyph\":null,\"muted_glyph\":null},\"id\":\"17498439-90f2-4ebd-8fc5-91e585b4dd99\",\"type\":\"GlyphRenderer\"},{\"attributes\":{\"data_source\":{\"id\":\"9c3c5e02-813f-4316-983b-a97d2689cf14\",\"type\":\"ColumnDataSource\"},\"glyph\":{\"id\":\"66c70deb-b039-4723-9908-8b7d895e30c7\",\"type\":\"Rect\"},\"hover_glyph\":null,\"muted_glyph\":null},\"id\":\"8266336e-e390-4855-be21-2bf7b5836ca9\",\"type\":\"GlyphRenderer\"},{\"attributes\":{\"data_source\":{\"id\":\"283a3644-21ec-48c7-881b-71f9dedf1ac8\",\"type\":\"ColumnDataSource\"},\"glyph\":{\"id\":\"9c1cd51f-d36d-4ada-a92b-5ed83d8d58d4\",\"type\":\"Rect\"},\"hover_glyph\":null,\"muted_glyph\":null},\"id\":\"2b7c5875-78e3-4ca9-a1a0-09b694fe34c3\",\"type\":\"GlyphRenderer\"},{\"attributes\":{\"fill_alpha\":{\"field\":\"fill_alpha\"},\"fill_color\":{\"field\":\"color\"},\"height\":{\"field\":\"height\",\"units\":\"data\"},\"line_color\":{\"field\":\"line_color\"},\"width\":{\"field\":\"width\",\"units\":\"data\"},\"x\":{\"field\":\"x\"},\"y\":{\"field\":\"y\"}},\"id\":\"5a23c387-ce3a-4248-9a4d-1d8fd47ef5b7\",\"type\":\"Rect\"},{\"attributes\":{\"fill_alpha\":{\"field\":\"fill_alpha\"},\"fill_color\":{\"field\":\"color\"},\"height\":{\"field\":\"height\",\"units\":\"data\"},\"line_color\":{\"field\":\"line_color\"},\"width\":{\"field\":\"width\",\"units\":\"data\"},\"x\":{\"field\":\"x\"},\"y\":{\"field\":\"y\"}},\"id\":\"77e2bf99-3e0a-4cf4-929d-aea9169233f2\",\"type\":\"Rect\"},{\"attributes\":{\"fill_alpha\":{\"field\":\"fill_alpha\"},\"fill_color\":{\"field\":\"color\"},\"height\":{\"field\":\"height\",\"units\":\"data\"},\"line_color\":{\"field\":\"line_color\"},\"width\":{\"field\":\"width\",\"units\":\"data\"},\"x\":{\"field\":\"x\"},\"y\":{\"field\":\"y\"}},\"id\":\"9534c3ae-0d2b-4619-88a3-ea770d527059\",\"type\":\"Rect\"},{\"attributes\":{\"fill_alpha\":{\"field\":\"fill_alpha\"},\"fill_color\":{\"field\":\"color\"},\"height\":{\"field\":\"height\",\"units\":\"data\"},\"line_color\":{\"field\":\"line_color\"},\"width\":{\"field\":\"width\",\"units\":\"data\"},\"x\":{\"field\":\"x\"},\"y\":{\"field\":\"y\"}},\"id\":\"ae778722-77d7-4942-9bf8-43b7640d5fd8\",\"type\":\"Rect\"},{\"attributes\":{\"fill_alpha\":{\"field\":\"fill_alpha\"},\"fill_color\":{\"field\":\"color\"},\"height\":{\"field\":\"height\",\"units\":\"data\"},\"line_color\":{\"field\":\"line_color\"},\"width\":{\"field\":\"width\",\"units\":\"data\"},\"x\":{\"field\":\"x\"},\"y\":{\"field\":\"y\"}},\"id\":\"4c678e6e-98f6-43ac-9a90-907d56a16f94\",\"type\":\"Rect\"},{\"attributes\":{\"callback\":null,\"column_names\":[\"x\",\"y\",\"width\",\"height\",\"color\",\"fill_alpha\",\"line_color\",\"line_alpha\",\"label\"],\"data\":{\"chart_index\":[\"(7.963351, 8.958115]\"],\"color\":[\"#f22c40\"],\"fill_alpha\":[0.8],\"height\":[37.0],\"label\":[\"(7.963351, 8.958115]\"],\"line_alpha\":[1.0],\"line_color\":[\"black\"],\"width\":[0.994764397905759],\"x\":[\"8.460733\"],\"y\":[18.5]}},\"id\":\"6816fbb3-3f63-492c-9020-0c328f081622\",\"type\":\"ColumnDataSource\"},{\"attributes\":{\"callback\":null,\"column_names\":[\"x\",\"y\",\"width\",\"height\",\"color\",\"fill_alpha\",\"line_color\",\"line_alpha\",\"label\"],\"data\":{\"chart_index\":[\"(8.958115, 9.952880]\"],\"color\":[\"#f22c40\"],\"fill_alpha\":[0.8],\"height\":[30.0],\"label\":[\"(8.958115, 9.952880]\"],\"line_alpha\":[1.0],\"line_color\":[\"black\"],\"width\":[0.9947643979057599],\"x\":[\"9.4554975\"],\"y\":[15.0]}},\"id\":\"c6f2deb1-e84e-4021-9a06-0019bbf4320a\",\"type\":\"ColumnDataSource\"},{\"attributes\":{\"data_source\":{\"id\":\"85683605-fe40-4d66-ae5e-1a7f586df875\",\"type\":\"ColumnDataSource\"},\"glyph\":{\"id\":\"983db7ae-7b90-4296-a15e-6ecc56fd4f45\",\"type\":\"Rect\"},\"hover_glyph\":null,\"muted_glyph\":null},\"id\":\"241b222e-cb42-43b8-829a-0eec07517d16\",\"type\":\"GlyphRenderer\"},{\"attributes\":{\"data_source\":{\"id\":\"27e6993d-ce1c-4234-a2cc-c65bb22244fc\",\"type\":\"ColumnDataSource\"},\"glyph\":{\"id\":\"419c8810-95d5-4237-b8b5-418d07ce2ed5\",\"type\":\"Rect\"},\"hover_glyph\":null,\"muted_glyph\":null},\"id\":\"eff707a3-3c91-444f-9ec7-064d4a78d495\",\"type\":\"GlyphRenderer\"},{\"attributes\":{\"callback\":null,\"column_names\":[\"x\",\"y\",\"width\",\"height\",\"color\",\"fill_alpha\",\"line_color\",\"line_alpha\",\"label\"],\"data\":{\"chart_index\":[\"(71.628272, 72.623037]\"],\"color\":[\"#f22c40\"],\"fill_alpha\":[0.8],\"height\":[0.0],\"label\":[\"(71.628272, 72.623037]\"],\"line_alpha\":[1.0],\"line_color\":[\"black\"],\"width\":[0.9947643979057688],\"x\":[\"72.1256545\"],\"y\":[0.0]}},\"id\":\"75ced609-c5e9-4fa9-ae6c-06558885f403\",\"type\":\"ColumnDataSource\"},{\"attributes\":{\"callback\":null,\"column_names\":[\"x\",\"y\",\"width\",\"height\",\"color\",\"fill_alpha\",\"line_color\",\"line_alpha\",\"label\"],\"data\":{\"chart_index\":[\"(41.785340, 42.780105]\"],\"color\":[\"#f22c40\"],\"fill_alpha\":[0.8],\"height\":[1.0],\"label\":[\"(41.785340, 42.780105]\"],\"line_alpha\":[1.0],\"line_color\":[\"black\"],\"width\":[0.9947643979057617],\"x\":[\"42.2827225\"],\"y\":[0.5]}},\"id\":\"2a598e51-d1e3-4b18-8213-96a2f1b4568a\",\"type\":\"ColumnDataSource\"},{\"attributes\":{\"callback\":null,\"column_names\":[\"x\",\"y\",\"width\",\"height\",\"color\",\"fill_alpha\",\"line_color\",\"line_alpha\",\"label\"],\"data\":{\"chart_index\":[\"(107.439791, 108.434555]\"],\"color\":[\"#f22c40\"],\"fill_alpha\":[0.8],\"height\":[0.0],\"label\":[\"(107.439791, 108.434555]\"],\"line_alpha\":[1.0],\"line_color\":[\"black\"],\"width\":[0.9947643979057545],\"x\":[\"107.937173\"],\"y\":[0.0]}},\"id\":\"43f374d9-7935-4550-9b89-974651dd70de\",\"type\":\"ColumnDataSource\"},{\"attributes\":{\"callback\":null,\"column_names\":[\"x\",\"y\",\"width\",\"height\",\"color\",\"fill_alpha\",\"line_color\",\"line_alpha\",\"label\"],\"data\":{\"chart_index\":[\"(72.623037, 73.617801]\"],\"color\":[\"#f22c40\"],\"fill_alpha\":[0.8],\"height\":[0.0],\"label\":[\"(72.623037, 73.617801]\"],\"line_alpha\":[1.0],\"line_color\":[\"black\"],\"width\":[0.9947643979057545],\"x\":[\"73.120419\"],\"y\":[0.0]}},\"id\":\"64559dea-1ab9-4e7d-91df-4b66a62c2537\",\"type\":\"ColumnDataSource\"},{\"attributes\":{\"fill_alpha\":{\"field\":\"fill_alpha\"},\"fill_color\":{\"field\":\"color\"},\"height\":{\"field\":\"height\",\"units\":\"data\"},\"line_color\":{\"field\":\"line_color\"},\"width\":{\"field\":\"width\",\"units\":\"data\"},\"x\":{\"field\":\"x\"},\"y\":{\"field\":\"y\"}},\"id\":\"a3808571-1e35-4d44-be5f-b0091145e4b6\",\"type\":\"Rect\"},{\"attributes\":{\"fill_alpha\":{\"field\":\"fill_alpha\"},\"fill_color\":{\"field\":\"color\"},\"height\":{\"field\":\"height\",\"units\":\"data\"},\"line_color\":{\"field\":\"line_color\"},\"width\":{\"field\":\"width\",\"units\":\"data\"},\"x\":{\"field\":\"x\"},\"y\":{\"field\":\"y\"}},\"id\":\"332488d3-92fa-47a9-889d-9e509fbeed71\",\"type\":\"Rect\"},{\"attributes\":{\"fill_alpha\":{\"field\":\"fill_alpha\"},\"fill_color\":{\"field\":\"color\"},\"height\":{\"field\":\"height\",\"units\":\"data\"},\"line_color\":{\"field\":\"line_color\"},\"width\":{\"field\":\"width\",\"units\":\"data\"},\"x\":{\"field\":\"x\"},\"y\":{\"field\":\"y\"}},\"id\":\"00acb95a-63fe-43e5-b4b2-1bf9fb2801c1\",\"type\":\"Rect\"},{\"attributes\":{\"callback\":null,\"column_names\":[\"x\",\"y\",\"width\",\"height\",\"color\",\"fill_alpha\",\"line_color\",\"line_alpha\",\"label\"],\"data\":{\"chart_index\":[\"(40.790576, 41.785340]\"],\"color\":[\"#f22c40\"],\"fill_alpha\":[0.8],\"height\":[2.0],\"label\":[\"(40.790576, 41.785340]\"],\"line_alpha\":[1.0],\"line_color\":[\"black\"],\"width\":[0.9947643979057617],\"x\":[\"41.287958\"],\"y\":[1.0]}},\"id\":\"0676562c-5ae8-4e5b-ae38-370be928e6de\",\"type\":\"ColumnDataSource\"},{\"attributes\":{\"callback\":null,\"column_names\":[\"x\",\"y\",\"width\",\"height\",\"color\",\"fill_alpha\",\"line_color\",\"line_alpha\",\"label\"],\"data\":{\"chart_index\":[\"(108.434555, 109.429319]\"],\"color\":[\"#f22c40\"],\"fill_alpha\":[0.8],\"height\":[0.0],\"label\":[\"(108.434555, 109.429319]\"],\"line_alpha\":[1.0],\"line_color\":[\"black\"],\"width\":[0.9947643979057688],\"x\":[\"108.931937\"],\"y\":[0.0]}},\"id\":\"5b9a57d5-87e5-4989-b95f-8f4dbaba6f7c\",\"type\":\"ColumnDataSource\"},{\"attributes\":{\"data_source\":{\"id\":\"75ced609-c5e9-4fa9-ae6c-06558885f403\",\"type\":\"ColumnDataSource\"},\"glyph\":{\"id\":\"7da58d09-44b1-4dd3-b4d7-5beb93a37d1c\",\"type\":\"Rect\"},\"hover_glyph\":null,\"muted_glyph\":null},\"id\":\"ea8b87d4-0ede-45d7-af0e-c3ec4f918598\",\"type\":\"GlyphRenderer\"},{\"attributes\":{\"fill_alpha\":{\"field\":\"fill_alpha\"},\"fill_color\":{\"field\":\"color\"},\"height\":{\"field\":\"height\",\"units\":\"data\"},\"line_color\":{\"field\":\"line_color\"},\"width\":{\"field\":\"width\",\"units\":\"data\"},\"x\":{\"field\":\"x\"},\"y\":{\"field\":\"y\"}},\"id\":\"f90dc6f1-e1de-4c02-8e65-3544c6790cae\",\"type\":\"Rect\"},{\"attributes\":{\"data_source\":{\"id\":\"83475e6d-e2a9-4359-967e-7cecc68d4402\",\"type\":\"ColumnDataSource\"},\"glyph\":{\"id\":\"ca06ea31-1bbc-4c0b-9254-af3cd054d182\",\"type\":\"Rect\"},\"hover_glyph\":null,\"muted_glyph\":null},\"id\":\"c4573b4c-0763-4fdf-891e-559d164b8225\",\"type\":\"GlyphRenderer\"},{\"attributes\":{\"data_source\":{\"id\":\"0676562c-5ae8-4e5b-ae38-370be928e6de\",\"type\":\"ColumnDataSource\"},\"glyph\":{\"id\":\"91cd7c17-5403-4b7d-87a0-f702f9e98ba2\",\"type\":\"Rect\"},\"hover_glyph\":null,\"muted_glyph\":null},\"id\":\"69a083d3-926c-4753-b4d7-836e96186ff2\",\"type\":\"GlyphRenderer\"},{\"attributes\":{\"fill_alpha\":{\"field\":\"fill_alpha\"},\"fill_color\":{\"field\":\"color\"},\"height\":{\"field\":\"height\",\"units\":\"data\"},\"line_color\":{\"field\":\"line_color\"},\"width\":{\"field\":\"width\",\"units\":\"data\"},\"x\":{\"field\":\"x\"},\"y\":{\"field\":\"y\"}},\"id\":\"45a1c39a-b485-41e4-b113-b7e03260a831\",\"type\":\"Rect\"},{\"attributes\":{\"fill_alpha\":{\"field\":\"fill_alpha\"},\"fill_color\":{\"field\":\"color\"},\"height\":{\"field\":\"height\",\"units\":\"data\"},\"line_color\":{\"field\":\"line_color\"},\"width\":{\"field\":\"width\",\"units\":\"data\"},\"x\":{\"field\":\"x\"},\"y\":{\"field\":\"y\"}},\"id\":\"defa09a6-6fa9-4e86-8f5c-6bca2c49428a\",\"type\":\"Rect\"},{\"attributes\":{\"callback\":null,\"column_names\":[\"x\",\"y\",\"width\",\"height\",\"color\",\"fill_alpha\",\"line_color\",\"line_alpha\",\"label\"],\"data\":{\"chart_index\":[\"(42.780105, 43.774869]\"],\"color\":[\"#f22c40\"],\"fill_alpha\":[0.8],\"height\":[0.0],\"label\":[\"(42.780105, 43.774869]\"],\"line_alpha\":[1.0],\"line_color\":[\"black\"],\"width\":[0.9947643979057545],\"x\":[\"43.277487\"],\"y\":[0.0]}},\"id\":\"efb7ed56-e7ea-49ff-8a39-65654e7ed31b\",\"type\":\"ColumnDataSource\"},{\"attributes\":{\"data_source\":{\"id\":\"43f374d9-7935-4550-9b89-974651dd70de\",\"type\":\"ColumnDataSource\"},\"glyph\":{\"id\":\"a3808571-1e35-4d44-be5f-b0091145e4b6\",\"type\":\"Rect\"},\"hover_glyph\":null,\"muted_glyph\":null},\"id\":\"06d05ccb-5ed0-430d-889e-12b32895222c\",\"type\":\"GlyphRenderer\"},{\"attributes\":{\"callback\":null,\"column_names\":[\"x\",\"y\",\"width\",\"height\",\"color\",\"fill_alpha\",\"line_color\",\"line_alpha\",\"label\"],\"data\":{\"chart_index\":[\"(110.424084, 111.418848]\"],\"color\":[\"#f22c40\"],\"fill_alpha\":[0.8],\"height\":[0.0],\"label\":[\"(110.424084, 111.418848]\"],\"line_alpha\":[1.0],\"line_color\":[\"black\"],\"width\":[0.9947643979057545],\"x\":[\"110.921466\"],\"y\":[0.0]}},\"id\":\"e7af4798-c629-4069-89db-bd1eda519516\",\"type\":\"ColumnDataSource\"},{\"attributes\":{\"fill_alpha\":{\"field\":\"fill_alpha\"},\"fill_color\":{\"field\":\"color\"},\"height\":{\"field\":\"height\",\"units\":\"data\"},\"line_color\":{\"field\":\"line_color\"},\"width\":{\"field\":\"width\",\"units\":\"data\"},\"x\":{\"field\":\"x\"},\"y\":{\"field\":\"y\"}},\"id\":\"bb851a8c-6783-419c-9d90-fedc22caeaab\",\"type\":\"Rect\"},{\"attributes\":{\"data_source\":{\"id\":\"64559dea-1ab9-4e7d-91df-4b66a62c2537\",\"type\":\"ColumnDataSource\"},\"glyph\":{\"id\":\"00acb95a-63fe-43e5-b4b2-1bf9fb2801c1\",\"type\":\"Rect\"},\"hover_glyph\":null,\"muted_glyph\":null},\"id\":\"ac3f8c71-281b-4c1d-b17a-f294a07a03ef\",\"type\":\"GlyphRenderer\"},{\"attributes\":{\"callback\":null,\"end\":2789.6000000000004},\"id\":\"20ea25c5-f9f4-460d-a711-0895f40e0981\",\"type\":\"Range1d\"},{\"attributes\":{\"fill_alpha\":{\"field\":\"fill_alpha\"},\"fill_color\":{\"field\":\"color\"},\"height\":{\"field\":\"height\",\"units\":\"data\"},\"line_color\":{\"field\":\"line_color\"},\"width\":{\"field\":\"width\",\"units\":\"data\"},\"x\":{\"field\":\"x\"},\"y\":{\"field\":\"y\"}},\"id\":\"9607f240-35ce-485a-9e56-db1607cf0b50\",\"type\":\"Rect\"},{\"attributes\":{\"callback\":null,\"column_names\":[\"x\",\"y\",\"width\",\"height\",\"color\",\"fill_alpha\",\"line_color\",\"line_alpha\",\"label\"],\"data\":{\"chart_index\":[\"(75.607330, 76.602094]\"],\"color\":[\"#f22c40\"],\"fill_alpha\":[0.8],\"height\":[8.0],\"label\":[\"(75.607330, 76.602094]\"],\"line_alpha\":[1.0],\"line_color\":[\"black\"],\"width\":[0.9947643979057545],\"x\":[\"76.104712\"],\"y\":[4.0]}},\"id\":\"46c0618b-83a8-411b-ae91-7277f916adff\",\"type\":\"ColumnDataSource\"},{\"attributes\":{\"callback\":null,\"end\":195.8000001989529,\"start\":-3.80000019895288},\"id\":\"84b3b8cb-1334-4464-8587-19ac6427db1c\",\"type\":\"Range1d\"},{\"attributes\":{\"data_source\":{\"id\":\"2a598e51-d1e3-4b18-8213-96a2f1b4568a\",\"type\":\"ColumnDataSource\"},\"glyph\":{\"id\":\"f90dc6f1-e1de-4c02-8e65-3544c6790cae\",\"type\":\"Rect\"},\"hover_glyph\":null,\"muted_glyph\":null},\"id\":\"07e33933-5aa6-462e-8935-905b8eb364d0\",\"type\":\"GlyphRenderer\"},{\"attributes\":{\"fill_alpha\":{\"field\":\"fill_alpha\"},\"fill_color\":{\"field\":\"color\"},\"height\":{\"field\":\"height\",\"units\":\"data\"},\"line_color\":{\"field\":\"line_color\"},\"width\":{\"field\":\"width\",\"units\":\"data\"},\"x\":{\"field\":\"x\"},\"y\":{\"field\":\"y\"}},\"id\":\"769f9a79-5e91-4013-8cd0-ce2ed59c1aab\",\"type\":\"Rect\"},{\"attributes\":{\"data_source\":{\"id\":\"ad925b9e-c522-4a31-8ebb-239701a4e25b\",\"type\":\"ColumnDataSource\"},\"glyph\":{\"id\":\"9362ed06-a7a2-4245-ae61-6ff90c0df894\",\"type\":\"Rect\"},\"hover_glyph\":null,\"muted_glyph\":null},\"id\":\"d80d406a-2b4e-4aeb-b1d0-c012796eb90d\",\"type\":\"GlyphRenderer\"},{\"attributes\":{\"callback\":null,\"column_names\":[\"x\",\"y\",\"width\",\"height\",\"color\",\"fill_alpha\",\"line_color\",\"line_alpha\",\"label\"],\"data\":{\"chart_index\":[\"(117.387435, 118.382199]\"],\"color\":[\"#f22c40\"],\"fill_alpha\":[0.8],\"height\":[0.0],\"label\":[\"(117.387435, 118.382199]\"],\"line_alpha\":[1.0],\"line_color\":[\"black\"],\"width\":[0.9947643979057688],\"x\":[\"117.884817\"],\"y\":[0.0]}},\"id\":\"6f72b740-7ef6-46b2-800c-974be317f5f2\",\"type\":\"ColumnDataSource\"},{\"attributes\":{\"fill_alpha\":{\"field\":\"fill_alpha\"},\"fill_color\":{\"field\":\"color\"},\"height\":{\"field\":\"height\",\"units\":\"data\"},\"line_color\":{\"field\":\"line_color\"},\"width\":{\"field\":\"width\",\"units\":\"data\"},\"x\":{\"field\":\"x\"},\"y\":{\"field\":\"y\"}},\"id\":\"01b7ea88-7834-4ba1-8714-8f296dcae675\",\"type\":\"Rect\"},{\"attributes\":{\"data_source\":{\"id\":\"5b9a57d5-87e5-4989-b95f-8f4dbaba6f7c\",\"type\":\"ColumnDataSource\"},\"glyph\":{\"id\":\"332488d3-92fa-47a9-889d-9e509fbeed71\",\"type\":\"Rect\"},\"hover_glyph\":null,\"muted_glyph\":null},\"id\":\"501436ec-c50d-4ce8-8d6f-c8e8fb86b0fa\",\"type\":\"GlyphRenderer\"},{\"attributes\":{\"fill_alpha\":{\"field\":\"fill_alpha\"},\"fill_color\":{\"field\":\"color\"},\"height\":{\"field\":\"height\",\"units\":\"data\"},\"line_color\":{\"field\":\"line_color\"},\"width\":{\"field\":\"width\",\"units\":\"data\"},\"x\":{\"field\":\"x\"},\"y\":{\"field\":\"y\"}},\"id\":\"0a836947-aa10-4dce-bb85-0e893016773c\",\"type\":\"Rect\"},{\"attributes\":{\"callback\":null,\"column_names\":[\"x\",\"y\",\"width\",\"height\",\"color\",\"fill_alpha\",\"line_color\",\"line_alpha\",\"label\"],\"data\":{\"chart_index\":[\"(132.308901, 133.303665]\"],\"color\":[\"#f22c40\"],\"fill_alpha\":[0.8],\"height\":[0.0],\"label\":[\"(132.308901, 133.303665]\"],\"line_alpha\":[1.0],\"line_color\":[\"black\"],\"width\":[0.9947643979057545],\"x\":[\"132.806283\"],\"y\":[0.0]}},\"id\":\"8b85d4d4-3440-4f02-971f-d28a0c29ec4e\",\"type\":\"ColumnDataSource\"},{\"attributes\":{\"data_source\":{\"id\":\"29bef03f-2997-4dd1-9f2f-7fcbcf597d36\",\"type\":\"ColumnDataSource\"},\"glyph\":{\"id\":\"bb851a8c-6783-419c-9d90-fedc22caeaab\",\"type\":\"Rect\"},\"hover_glyph\":null,\"muted_glyph\":null},\"id\":\"15431da1-d64c-48e7-9ea0-e4e3fb6de269\",\"type\":\"GlyphRenderer\"},{\"attributes\":{\"callback\":null,\"column_names\":[\"x\",\"y\",\"width\",\"height\",\"color\",\"fill_alpha\",\"line_color\",\"line_alpha\",\"label\"],\"data\":{\"chart_index\":[\"(44.769634, 45.764398]\"],\"color\":[\"#f22c40\"],\"fill_alpha\":[0.8],\"height\":[0.0],\"label\":[\"(44.769634, 45.764398]\"],\"line_alpha\":[1.0],\"line_color\":[\"black\"],\"width\":[0.9947643979057617],\"x\":[\"45.267016\"],\"y\":[0.0]}},\"id\":\"ad925b9e-c522-4a31-8ebb-239701a4e25b\",\"type\":\"ColumnDataSource\"},{\"attributes\":{\"fill_alpha\":{\"field\":\"fill_alpha\"},\"fill_color\":{\"field\":\"color\"},\"height\":{\"field\":\"height\",\"units\":\"data\"},\"line_color\":{\"field\":\"line_color\"},\"width\":{\"field\":\"width\",\"units\":\"data\"},\"x\":{\"field\":\"x\"},\"y\":{\"field\":\"y\"}},\"id\":\"e7ae8bb9-e70c-4db5-92d7-506aafc543bd\",\"type\":\"Rect\"},{\"attributes\":{\"fill_alpha\":{\"field\":\"fill_alpha\"},\"fill_color\":{\"field\":\"color\"},\"height\":{\"field\":\"height\",\"units\":\"data\"},\"line_color\":{\"field\":\"line_color\"},\"width\":{\"field\":\"width\",\"units\":\"data\"},\"x\":{\"field\":\"x\"},\"y\":{\"field\":\"y\"}},\"id\":\"bcbaa072-4271-429d-ad50-b8ed7815ff6a\",\"type\":\"Rect\"},{\"attributes\":{\"callback\":null,\"column_names\":[\"x\",\"y\",\"width\",\"height\",\"color\",\"fill_alpha\",\"line_color\",\"line_alpha\",\"label\"],\"data\":{\"chart_index\":[\"(109.429319, 110.424084]\"],\"color\":[\"#f22c40\"],\"fill_alpha\":[0.8],\"height\":[0.0],\"label\":[\"(109.429319, 110.424084]\"],\"line_alpha\":[1.0],\"line_color\":[\"black\"],\"width\":[0.9947643979057545],\"x\":[\"109.92670150000001\"],\"y\":[0.0]}},\"id\":\"29bef03f-2997-4dd1-9f2f-7fcbcf597d36\",\"type\":\"ColumnDataSource\"},{\"attributes\":{\"data_source\":{\"id\":\"46c0618b-83a8-411b-ae91-7277f916adff\",\"type\":\"ColumnDataSource\"},\"glyph\":{\"id\":\"769f9a79-5e91-4013-8cd0-ce2ed59c1aab\",\"type\":\"Rect\"},\"hover_glyph\":null,\"muted_glyph\":null},\"id\":\"7ca78306-d66a-485c-a72c-7c38918cec1a\",\"type\":\"GlyphRenderer\"},{\"attributes\":{\"data_source\":{\"id\":\"efb7ed56-e7ea-49ff-8a39-65654e7ed31b\",\"type\":\"ColumnDataSource\"},\"glyph\":{\"id\":\"defa09a6-6fa9-4e86-8f5c-6bca2c49428a\",\"type\":\"Rect\"},\"hover_glyph\":null,\"muted_glyph\":null},\"id\":\"78755454-3b2e-43a1-93af-1f2e0907f638\",\"type\":\"GlyphRenderer\"},{\"attributes\":{\"callback\":null,\"column_names\":[\"x\",\"y\",\"width\",\"height\",\"color\",\"fill_alpha\",\"line_color\",\"line_alpha\",\"label\"],\"data\":{\"chart_index\":[\"(77.596859, 78.591623]\"],\"color\":[\"#f22c40\"],\"fill_alpha\":[0.8],\"height\":[0.0],\"label\":[\"(77.596859, 78.591623]\"],\"line_alpha\":[1.0],\"line_color\":[\"black\"],\"width\":[0.9947643979057688],\"x\":[\"78.094241\"],\"y\":[0.0]}},\"id\":\"4884df4c-fd3e-4e16-918e-0d906f8fa944\",\"type\":\"ColumnDataSource\"},{\"attributes\":{\"fill_alpha\":{\"field\":\"fill_alpha\"},\"fill_color\":{\"field\":\"color\"},\"height\":{\"field\":\"height\",\"units\":\"data\"},\"line_color\":{\"field\":\"line_color\"},\"width\":{\"field\":\"width\",\"units\":\"data\"},\"x\":{\"field\":\"x\"},\"y\":{\"field\":\"y\"}},\"id\":\"d6440430-effa-46c2-ab1d-da08ad68e9ca\",\"type\":\"Rect\"},{\"attributes\":{\"callback\":null,\"column_names\":[\"x\",\"y\",\"width\",\"height\",\"color\",\"fill_alpha\",\"line_color\",\"line_alpha\",\"label\"],\"data\":{\"chart_index\":[\"(144.246073, 145.240838]\"],\"color\":[\"#f22c40\"],\"fill_alpha\":[0.8],\"height\":[0.0],\"label\":[\"(144.246073, 145.240838]\"],\"line_alpha\":[1.0],\"line_color\":[\"black\"],\"width\":[0.9947643979057545],\"x\":[\"144.74345549999998\"],\"y\":[0.0]}},\"id\":\"9169cccc-e740-4c9a-a5a4-dc0b11db0a4a\",\"type\":\"ColumnDataSource\"},{\"attributes\":{\"fill_alpha\":{\"field\":\"fill_alpha\"},\"fill_color\":{\"field\":\"color\"},\"height\":{\"field\":\"height\",\"units\":\"data\"},\"line_color\":{\"field\":\"line_color\"},\"width\":{\"field\":\"width\",\"units\":\"data\"},\"x\":{\"field\":\"x\"},\"y\":{\"field\":\"y\"}},\"id\":\"c9f0f9b3-3f78-47f3-8cd8-5463167db3e4\",\"type\":\"Rect\"},{\"attributes\":{\"fill_alpha\":{\"field\":\"fill_alpha\"},\"fill_color\":{\"field\":\"color\"},\"height\":{\"field\":\"height\",\"units\":\"data\"},\"line_color\":{\"field\":\"line_color\"},\"width\":{\"field\":\"width\",\"units\":\"data\"},\"x\":{\"field\":\"x\"},\"y\":{\"field\":\"y\"}},\"id\":\"eb157917-50ac-4391-a40c-0374db846bb2\",\"type\":\"Rect\"},{\"attributes\":{\"fill_alpha\":{\"field\":\"fill_alpha\"},\"fill_color\":{\"field\":\"color\"},\"height\":{\"field\":\"height\",\"units\":\"data\"},\"line_color\":{\"field\":\"line_color\"},\"width\":{\"field\":\"width\",\"units\":\"data\"},\"x\":{\"field\":\"x\"},\"y\":{\"field\":\"y\"}},\"id\":\"a48de62d-ed5f-4126-852c-f9b0ebd6d2c1\",\"type\":\"Rect\"},{\"attributes\":{\"callback\":null,\"column_names\":[\"x\",\"y\",\"width\",\"height\",\"color\",\"fill_alpha\",\"line_color\",\"line_alpha\",\"label\"],\"data\":{\"chart_index\":[\"(10.947644, 11.942408]\"],\"color\":[\"#f22c40\"],\"fill_alpha\":[0.8],\"height\":[11.0],\"label\":[\"(10.947644, 11.942408]\"],\"line_alpha\":[1.0],\"line_color\":[\"black\"],\"width\":[0.9947643979057599],\"x\":[\"11.445026\"],\"y\":[5.5]}},\"id\":\"db9e5297-ebe4-4f78-9c11-5a78bb3be2c2\",\"type\":\"ColumnDataSource\"},{\"attributes\":{\"callback\":null,\"column_names\":[\"x\",\"y\",\"width\",\"height\",\"color\",\"fill_alpha\",\"line_color\",\"line_alpha\",\"label\"],\"data\":{\"chart_index\":[\"(89.534031, 90.528796]\"],\"color\":[\"#f22c40\"],\"fill_alpha\":[0.8],\"height\":[1.0],\"label\":[\"(89.534031, 90.528796]\"],\"line_alpha\":[1.0],\"line_color\":[\"black\"],\"width\":[0.9947643979057688],\"x\":[\"90.0314135\"],\"y\":[0.5]}},\"id\":\"a1a1fa31-acb4-4ed7-bf67-9258d237eb25\",\"type\":\"ColumnDataSource\"},{\"attributes\":{\"callback\":null,\"column_names\":[\"x\",\"y\",\"width\",\"height\",\"color\",\"fill_alpha\",\"line_color\",\"line_alpha\",\"label\"],\"data\":{\"chart_index\":[\"(76.602094, 77.596859]\"],\"color\":[\"#f22c40\"],\"fill_alpha\":[0.8],\"height\":[0.0],\"label\":[\"(76.602094, 77.596859]\"],\"line_alpha\":[1.0],\"line_color\":[\"black\"],\"width\":[0.9947643979057545],\"x\":[\"77.0994765\"],\"y\":[0.0]}},\"id\":\"ac98715a-816d-486d-b438-9b6564bf15a8\",\"type\":\"ColumnDataSource\"},{\"attributes\":{\"data_source\":{\"id\":\"ac98715a-816d-486d-b438-9b6564bf15a8\",\"type\":\"ColumnDataSource\"},\"glyph\":{\"id\":\"0a836947-aa10-4dce-bb85-0e893016773c\",\"type\":\"Rect\"},\"hover_glyph\":null,\"muted_glyph\":null},\"id\":\"7446727a-286b-4b69-8638-8426c9e3f764\",\"type\":\"GlyphRenderer\"},{\"attributes\":{\"callback\":null,\"column_names\":[\"x\",\"y\",\"width\",\"height\",\"color\",\"fill_alpha\",\"line_color\",\"line_alpha\",\"label\"],\"data\":{\"chart_index\":[\"(143.251309, 144.246073]\"],\"color\":[\"#f22c40\"],\"fill_alpha\":[0.8],\"height\":[0.0],\"label\":[\"(143.251309, 144.246073]\"],\"line_alpha\":[1.0],\"line_color\":[\"black\"],\"width\":[0.994764397905783],\"x\":[\"143.748691\"],\"y\":[0.0]}},\"id\":\"5e321f80-c387-48dd-8f17-618c538ca439\",\"type\":\"ColumnDataSource\"},{\"attributes\":{\"callback\":null,\"column_names\":[\"x\",\"y\",\"width\",\"height\",\"color\",\"fill_alpha\",\"line_color\",\"line_alpha\",\"label\"],\"data\":{\"chart_index\":[\"(174.089005, 175.083770]\"],\"color\":[\"#f22c40\"],\"fill_alpha\":[0.8],\"height\":[0.0],\"label\":[\"(174.089005, 175.083770]\"],\"line_alpha\":[1.0],\"line_color\":[\"black\"],\"width\":[0.9947643979057545],\"x\":[\"174.5863875\"],\"y\":[0.0]}},\"id\":\"2cd0a37a-ee39-46a5-9c5e-efcb75958f28\",\"type\":\"ColumnDataSource\"},{\"attributes\":{\"fill_alpha\":{\"field\":\"fill_alpha\"},\"fill_color\":{\"field\":\"color\"},\"height\":{\"field\":\"height\",\"units\":\"data\"},\"line_color\":{\"field\":\"line_color\"},\"width\":{\"field\":\"width\",\"units\":\"data\"},\"x\":{\"field\":\"x\"},\"y\":{\"field\":\"y\"}},\"id\":\"54e8fb85-c09c-4ead-a0e9-e43f4662eb38\",\"type\":\"Rect\"},{\"attributes\":{\"data_source\":{\"id\":\"5e321f80-c387-48dd-8f17-618c538ca439\",\"type\":\"ColumnDataSource\"},\"glyph\":{\"id\":\"ae778722-77d7-4942-9bf8-43b7640d5fd8\",\"type\":\"Rect\"},\"hover_glyph\":null,\"muted_glyph\":null},\"id\":\"c104ac00-db31-428b-8bfd-c66c7d139d2e\",\"type\":\"GlyphRenderer\"},{\"attributes\":{\"data_source\":{\"id\":\"2cd0a37a-ee39-46a5-9c5e-efcb75958f28\",\"type\":\"ColumnDataSource\"},\"glyph\":{\"id\":\"4c678e6e-98f6-43ac-9a90-907d56a16f94\",\"type\":\"Rect\"},\"hover_glyph\":null,\"muted_glyph\":null},\"id\":\"6e9ad742-07a7-4441-b6b2-674251cf1e13\",\"type\":\"GlyphRenderer\"},{\"attributes\":{\"fill_alpha\":{\"field\":\"fill_alpha\"},\"fill_color\":{\"field\":\"color\"},\"height\":{\"field\":\"height\",\"units\":\"data\"},\"line_color\":{\"field\":\"line_color\"},\"width\":{\"field\":\"width\",\"units\":\"data\"},\"x\":{\"field\":\"x\"},\"y\":{\"field\":\"y\"}},\"id\":\"99115e95-d86d-46bc-b665-7ed33a602fa9\",\"type\":\"Rect\"},{\"attributes\":{\"callback\":null,\"column_names\":[\"x\",\"y\",\"width\",\"height\",\"color\",\"fill_alpha\",\"line_color\",\"line_alpha\",\"label\"],\"data\":{\"chart_index\":[\"(78.591623, 79.586387]\"],\"color\":[\"#f22c40\"],\"fill_alpha\":[0.8],\"height\":[0.0],\"label\":[\"(78.591623, 79.586387]\"],\"line_alpha\":[1.0],\"line_color\":[\"black\"],\"width\":[0.9947643979057545],\"x\":[\"79.089005\"],\"y\":[0.0]}},\"id\":\"ca0c1ffb-4cee-45a3-b19e-3e7d51000f92\",\"type\":\"ColumnDataSource\"},{\"attributes\":{\"fill_alpha\":{\"field\":\"fill_alpha\"},\"fill_color\":{\"field\":\"color\"},\"height\":{\"field\":\"height\",\"units\":\"data\"},\"line_color\":{\"field\":\"line_color\"},\"width\":{\"field\":\"width\",\"units\":\"data\"},\"x\":{\"field\":\"x\"},\"y\":{\"field\":\"y\"}},\"id\":\"9a9e17d1-1e6b-4dd1-82a0-4209f3364720\",\"type\":\"Rect\"},{\"attributes\":{\"callback\":null,\"column_names\":[\"x\",\"y\",\"width\",\"height\",\"color\",\"fill_alpha\",\"line_color\",\"line_alpha\",\"label\"],\"data\":{\"chart_index\":[\"(177.073298, 178.068063]\"],\"color\":[\"#f22c40\"],\"fill_alpha\":[0.8],\"height\":[0.0],\"label\":[\"(177.073298, 178.068063]\"],\"line_alpha\":[1.0],\"line_color\":[\"black\"],\"width\":[0.9947643979057545],\"x\":[\"177.57068049999998\"],\"y\":[0.0]}},\"id\":\"603f4acf-a7aa-4aeb-ac52-129b261117a6\",\"type\":\"ColumnDataSource\"},{\"attributes\":{\"callback\":null,\"column_names\":[\"x\",\"y\",\"width\",\"height\",\"color\",\"fill_alpha\",\"line_color\",\"line_alpha\",\"label\"],\"data\":{\"chart_index\":[\"(145.240838, 146.235602]\"],\"color\":[\"#f22c40\"],\"fill_alpha\":[0.8],\"height\":[0.0],\"label\":[\"(145.240838, 146.235602]\"],\"line_alpha\":[1.0],\"line_color\":[\"black\"],\"width\":[0.9947643979057545],\"x\":[\"145.73822\"],\"y\":[0.0]}},\"id\":\"2c789cdf-2251-4542-b133-46fff7317a8a\",\"type\":\"ColumnDataSource\"},{\"attributes\":{\"fill_alpha\":{\"field\":\"fill_alpha\"},\"fill_color\":{\"field\":\"color\"},\"height\":{\"field\":\"height\",\"units\":\"data\"},\"line_color\":{\"field\":\"line_color\"},\"width\":{\"field\":\"width\",\"units\":\"data\"},\"x\":{\"field\":\"x\"},\"y\":{\"field\":\"y\"}},\"id\":\"00acb915-6629-416d-b295-b77662989f4e\",\"type\":\"Rect\"},{\"attributes\":{\"callback\":null,\"column_names\":[\"x\",\"y\",\"width\",\"height\",\"color\",\"fill_alpha\",\"line_color\",\"line_alpha\",\"label\"],\"data\":{\"chart_index\":[\"(11.942408, 12.937173]\"],\"color\":[\"#f22c40\"],\"fill_alpha\":[0.8],\"height\":[32.0],\"label\":[\"(11.942408, 12.937173]\"],\"line_alpha\":[1.0],\"line_color\":[\"black\"],\"width\":[0.9947643979057599],\"x\":[\"12.4397905\"],\"y\":[16.0]}},\"id\":\"7f39c4a0-dff2-4d5a-ace8-0e33e375e068\",\"type\":\"ColumnDataSource\"},{\"attributes\":{\"callback\":null,\"column_names\":[\"x\",\"y\",\"width\",\"height\",\"color\",\"fill_alpha\",\"line_color\",\"line_alpha\",\"label\"],\"data\":{\"chart_index\":[\"(81.575916, 82.570681]\"],\"color\":[\"#f22c40\"],\"fill_alpha\":[0.8],\"height\":[0.0],\"label\":[\"(81.575916, 82.570681]\"],\"line_alpha\":[1.0],\"line_color\":[\"black\"],\"width\":[0.9947643979057545],\"x\":[\"82.07329849999999\"],\"y\":[0.0]}},\"id\":\"f16bdd08-4bd9-41df-9a5b-c3820fc72122\",\"type\":\"ColumnDataSource\"},{\"attributes\":{\"fill_alpha\":{\"field\":\"fill_alpha\"},\"fill_color\":{\"field\":\"color\"},\"height\":{\"field\":\"height\",\"units\":\"data\"},\"line_color\":{\"field\":\"line_color\"},\"width\":{\"field\":\"width\",\"units\":\"data\"},\"x\":{\"field\":\"x\"},\"y\":{\"field\":\"y\"}},\"id\":\"a34685fd-e5df-432a-805a-66b340777ae0\",\"type\":\"Rect\"},{\"attributes\":{\"data_source\":{\"id\":\"61502843-821a-486b-b13c-ca0ff5c7b6bc\",\"type\":\"ColumnDataSource\"},\"glyph\":{\"id\":\"a7a3af22-d455-4edb-91ff-60dbe7fea30a\",\"type\":\"Rect\"},\"hover_glyph\":null,\"muted_glyph\":null},\"id\":\"dbbec0e3-dcbf-4e96-a7b1-45e4dcabc274\",\"type\":\"GlyphRenderer\"},{\"attributes\":{\"fill_alpha\":{\"field\":\"fill_alpha\"},\"fill_color\":{\"field\":\"color\"},\"height\":{\"field\":\"height\",\"units\":\"data\"},\"line_color\":{\"field\":\"line_color\"},\"width\":{\"field\":\"width\",\"units\":\"data\"},\"x\":{\"field\":\"x\"},\"y\":{\"field\":\"y\"}},\"id\":\"4d0660e7-df5e-4fff-88a5-30fb36f2e6f2\",\"type\":\"Rect\"},{\"attributes\":{\"data_source\":{\"id\":\"4884df4c-fd3e-4e16-918e-0d906f8fa944\",\"type\":\"ColumnDataSource\"},\"glyph\":{\"id\":\"c9f0f9b3-3f78-47f3-8cd8-5463167db3e4\",\"type\":\"Rect\"},\"hover_glyph\":null,\"muted_glyph\":null},\"id\":\"4b123fc7-51b1-46f1-a935-97f70fb8ea08\",\"type\":\"GlyphRenderer\"},{\"attributes\":{\"callback\":null,\"column_names\":[\"x\",\"y\",\"width\",\"height\",\"color\",\"fill_alpha\",\"line_color\",\"line_alpha\",\"label\"],\"data\":{\"chart_index\":[\"(161.157068, 162.151832]\"],\"color\":[\"#f22c40\"],\"fill_alpha\":[0.8],\"height\":[0.0],\"label\":[\"(161.157068, 162.151832]\"],\"line_alpha\":[1.0],\"line_color\":[\"black\"],\"width\":[0.994764397905783],\"x\":[\"161.65445\"],\"y\":[0.0]}},\"id\":\"876c7d1b-a4e9-4982-890e-024d16291bd3\",\"type\":\"ColumnDataSource\"},{\"attributes\":{\"fill_alpha\":{\"field\":\"fill_alpha\"},\"fill_color\":{\"field\":\"color\"},\"height\":{\"field\":\"height\",\"units\":\"data\"},\"line_color\":{\"field\":\"line_color\"},\"width\":{\"field\":\"width\",\"units\":\"data\"},\"x\":{\"field\":\"x\"},\"y\":{\"field\":\"y\"}},\"id\":\"2662b55e-44fa-4cbb-91e2-462b6608b437\",\"type\":\"Rect\"},{\"attributes\":{\"data_source\":{\"id\":\"f16bdd08-4bd9-41df-9a5b-c3820fc72122\",\"type\":\"ColumnDataSource\"},\"glyph\":{\"id\":\"e71f847f-c0fc-4c53-9fe5-c8b6c9899c78\",\"type\":\"Rect\"},\"hover_glyph\":null,\"muted_glyph\":null},\"id\":\"a184944c-a54e-4cda-8d81-72c70edd202a\",\"type\":\"GlyphRenderer\"},{\"attributes\":{\"data_source\":{\"id\":\"9169cccc-e740-4c9a-a5a4-dc0b11db0a4a\",\"type\":\"ColumnDataSource\"},\"glyph\":{\"id\":\"a48de62d-ed5f-4126-852c-f9b0ebd6d2c1\",\"type\":\"Rect\"},\"hover_glyph\":null,\"muted_glyph\":null},\"id\":\"bcf26b22-ea12-493a-922d-b5df197fdc87\",\"type\":\"GlyphRenderer\"},{\"attributes\":{\"data_source\":{\"id\":\"db9e5297-ebe4-4f78-9c11-5a78bb3be2c2\",\"type\":\"ColumnDataSource\"},\"glyph\":{\"id\":\"d6440430-effa-46c2-ab1d-da08ad68e9ca\",\"type\":\"Rect\"},\"hover_glyph\":null,\"muted_glyph\":null},\"id\":\"69308d67-431f-49ba-9fac-e89d69a94fd1\",\"type\":\"GlyphRenderer\"},{\"attributes\":{\"fill_alpha\":{\"field\":\"fill_alpha\"},\"fill_color\":{\"field\":\"color\"},\"height\":{\"field\":\"height\",\"units\":\"data\"},\"line_color\":{\"field\":\"line_color\"},\"width\":{\"field\":\"width\",\"units\":\"data\"},\"x\":{\"field\":\"x\"},\"y\":{\"field\":\"y\"}},\"id\":\"e344606a-afbd-46df-be7b-64f62c25d5ec\",\"type\":\"Rect\"},{\"attributes\":{\"callback\":null,\"column_names\":[\"x\",\"y\",\"width\",\"height\",\"color\",\"fill_alpha\",\"line_color\",\"line_alpha\",\"label\"],\"data\":{\"chart_index\":[\"(155.188482, 156.183246]\"],\"color\":[\"#f22c40\"],\"fill_alpha\":[0.8],\"height\":[0.0],\"label\":[\"(155.188482, 156.183246]\"],\"line_alpha\":[1.0],\"line_color\":[\"black\"],\"width\":[0.994764397905783],\"x\":[\"155.68586399999998\"],\"y\":[0.0]}},\"id\":\"90c45ca1-5ec6-414e-a01b-abf89fb01ee8\",\"type\":\"ColumnDataSource\"},{\"attributes\":{\"callback\":null,\"column_names\":[\"x\",\"y\",\"width\",\"height\",\"color\",\"fill_alpha\",\"line_color\",\"line_alpha\",\"label\"],\"data\":{\"chart_index\":[\"(183.041885, 184.036649]\"],\"color\":[\"#f22c40\"],\"fill_alpha\":[0.8],\"height\":[0.0],\"label\":[\"(183.041885, 184.036649]\"],\"line_alpha\":[1.0],\"line_color\":[\"black\"],\"width\":[0.9947643979057545],\"x\":[\"183.539267\"],\"y\":[0.0]}},\"id\":\"c8b6c290-b8f0-432f-9828-fece040e04ae\",\"type\":\"ColumnDataSource\"},{\"attributes\":{\"data_source\":{\"id\":\"603f4acf-a7aa-4aeb-ac52-129b261117a6\",\"type\":\"ColumnDataSource\"},\"glyph\":{\"id\":\"a34685fd-e5df-432a-805a-66b340777ae0\",\"type\":\"Rect\"},\"hover_glyph\":null,\"muted_glyph\":null},\"id\":\"6bd1c524-8944-424a-bdf2-bc463eea2a18\",\"type\":\"GlyphRenderer\"},{\"attributes\":{\"callback\":null,\"column_names\":[\"x\",\"y\",\"width\",\"height\",\"color\",\"fill_alpha\",\"line_color\",\"line_alpha\",\"label\"],\"data\":{\"chart_index\":[\"(146.235602, 147.230366]\"],\"color\":[\"#f22c40\"],\"fill_alpha\":[0.8],\"height\":[0.0],\"label\":[\"(146.235602, 147.230366]\"],\"line_alpha\":[1.0],\"line_color\":[\"black\"],\"width\":[0.9947643979057545],\"x\":[\"146.732984\"],\"y\":[0.0]}},\"id\":\"61502843-821a-486b-b13c-ca0ff5c7b6bc\",\"type\":\"ColumnDataSource\"},{\"attributes\":{\"fill_alpha\":{\"field\":\"fill_alpha\"},\"fill_color\":{\"field\":\"color\"},\"height\":{\"field\":\"height\",\"units\":\"data\"},\"line_color\":{\"field\":\"line_color\"},\"width\":{\"field\":\"width\",\"units\":\"data\"},\"x\":{\"field\":\"x\"},\"y\":{\"field\":\"y\"}},\"id\":\"7b1ed750-4865-4b09-8d50-f0730ff2f15c\",\"type\":\"Rect\"},{\"attributes\":{\"data_source\":{\"id\":\"047cac01-c944-4745-9790-ad14e067e251\",\"type\":\"ColumnDataSource\"},\"glyph\":{\"id\":\"00acb915-6629-416d-b295-b77662989f4e\",\"type\":\"Rect\"},\"hover_glyph\":null,\"muted_glyph\":null},\"id\":\"edc7eeaf-6abe-4672-9f08-6a970be95dac\",\"type\":\"GlyphRenderer\"},{\"attributes\":{\"fill_alpha\":{\"field\":\"fill_alpha\"},\"fill_color\":{\"field\":\"color\"},\"height\":{\"field\":\"height\",\"units\":\"data\"},\"line_color\":{\"field\":\"line_color\"},\"width\":{\"field\":\"width\",\"units\":\"data\"},\"x\":{\"field\":\"x\"},\"y\":{\"field\":\"y\"}},\"id\":\"a7a3af22-d455-4edb-91ff-60dbe7fea30a\",\"type\":\"Rect\"},{\"attributes\":{\"callback\":null,\"column_names\":[\"x\",\"y\",\"width\",\"height\",\"color\",\"fill_alpha\",\"line_color\",\"line_alpha\",\"label\"],\"data\":{\"chart_index\":[\"(178.068063, 179.062827]\"],\"color\":[\"#f22c40\"],\"fill_alpha\":[0.8],\"height\":[0.0],\"label\":[\"(178.068063, 179.062827]\"],\"line_alpha\":[1.0],\"line_color\":[\"black\"],\"width\":[0.9947643979057545],\"x\":[\"178.565445\"],\"y\":[0.0]}},\"id\":\"047cac01-c944-4745-9790-ad14e067e251\",\"type\":\"ColumnDataSource\"},{\"attributes\":{\"callback\":null,\"column_names\":[\"x\",\"y\",\"width\",\"height\",\"color\",\"fill_alpha\",\"line_color\",\"line_alpha\",\"label\"],\"data\":{\"chart_index\":[\"(16.916230, 17.910995]\"],\"color\":[\"#f22c40\"],\"fill_alpha\":[0.8],\"height\":[5.0],\"label\":[\"(16.916230, 17.910995]\"],\"line_alpha\":[1.0],\"line_color\":[\"black\"],\"width\":[0.9947643979057581],\"x\":[\"17.4136125\"],\"y\":[2.5]}},\"id\":\"6d2934aa-de49-403b-9a37-dd799d93f555\",\"type\":\"ColumnDataSource\"},{\"attributes\":{\"data_source\":{\"id\":\"ca0c1ffb-4cee-45a3-b19e-3e7d51000f92\",\"type\":\"ColumnDataSource\"},\"glyph\":{\"id\":\"99115e95-d86d-46bc-b665-7ed33a602fa9\",\"type\":\"Rect\"},\"hover_glyph\":null,\"muted_glyph\":null},\"id\":\"75c8ed22-5ea6-42f3-b8d6-2677688f102a\",\"type\":\"GlyphRenderer\"},{\"attributes\":{\"data_source\":{\"id\":\"32c123d7-88ac-49ee-aed7-3c523161905f\",\"type\":\"ColumnDataSource\"},\"glyph\":{\"id\":\"77c8b532-7ddf-4b0b-835d-61caea07df76\",\"type\":\"Rect\"},\"hover_glyph\":null,\"muted_glyph\":null},\"id\":\"c4a07b30-3b65-4677-8569-870b1a118355\",\"type\":\"GlyphRenderer\"},{\"attributes\":{\"data_source\":{\"id\":\"6d2934aa-de49-403b-9a37-dd799d93f555\",\"type\":\"ColumnDataSource\"},\"glyph\":{\"id\":\"27703fd1-b30d-4141-997b-a567b494af1f\",\"type\":\"Rect\"},\"hover_glyph\":null,\"muted_glyph\":null},\"id\":\"2ee1f6f1-a30f-4729-9af7-7d282f4f36fe\",\"type\":\"GlyphRenderer\"},{\"attributes\":{\"data_source\":{\"id\":\"2c789cdf-2251-4542-b133-46fff7317a8a\",\"type\":\"ColumnDataSource\"},\"glyph\":{\"id\":\"9a9e17d1-1e6b-4dd1-82a0-4209f3364720\",\"type\":\"Rect\"},\"hover_glyph\":null,\"muted_glyph\":null},\"id\":\"d3a4b5f0-d947-4067-b3fb-0f05f1515a7a\",\"type\":\"GlyphRenderer\"},{\"attributes\":{\"data_source\":{\"id\":\"c8b6c290-b8f0-432f-9828-fece040e04ae\",\"type\":\"ColumnDataSource\"},\"glyph\":{\"id\":\"910dfd25-1443-477b-8b90-f8b22854e33a\",\"type\":\"Rect\"},\"hover_glyph\":null,\"muted_glyph\":null},\"id\":\"958aacd2-c439-4013-a924-27199c1f3524\",\"type\":\"GlyphRenderer\"},{\"attributes\":{\"data_source\":{\"id\":\"7f39c4a0-dff2-4d5a-ace8-0e33e375e068\",\"type\":\"ColumnDataSource\"},\"glyph\":{\"id\":\"54e8fb85-c09c-4ead-a0e9-e43f4662eb38\",\"type\":\"Rect\"},\"hover_glyph\":null,\"muted_glyph\":null},\"id\":\"283c5358-5f3a-4776-ac08-f3235d5241c4\",\"type\":\"GlyphRenderer\"},{\"attributes\":{\"callback\":null,\"column_names\":[\"x\",\"y\",\"width\",\"height\",\"color\",\"fill_alpha\",\"line_color\",\"line_alpha\",\"label\"],\"data\":{\"chart_index\":[\"(179.062827, 180.057592]\"],\"color\":[\"#f22c40\"],\"fill_alpha\":[0.8],\"height\":[0.0],\"label\":[\"(179.062827, 180.057592]\"],\"line_alpha\":[1.0],\"line_color\":[\"black\"],\"width\":[0.994764397905783],\"x\":[\"179.56020949999998\"],\"y\":[0.0]}},\"id\":\"c551ec65-6207-4621-ac7b-38ffedb10fb8\",\"type\":\"ColumnDataSource\"},{\"attributes\":{\"fill_alpha\":{\"field\":\"fill_alpha\"},\"fill_color\":{\"field\":\"color\"},\"height\":{\"field\":\"height\",\"units\":\"data\"},\"line_color\":{\"field\":\"line_color\"},\"width\":{\"field\":\"width\",\"units\":\"data\"},\"x\":{\"field\":\"x\"},\"y\":{\"field\":\"y\"}},\"id\":\"37048086-6dc8-4947-869f-bd350e81ae34\",\"type\":\"Rect\"},{\"attributes\":{\"fill_alpha\":{\"field\":\"fill_alpha\"},\"fill_color\":{\"field\":\"color\"},\"height\":{\"field\":\"height\",\"units\":\"data\"},\"line_color\":{\"field\":\"line_color\"},\"width\":{\"field\":\"width\",\"units\":\"data\"},\"x\":{\"field\":\"x\"},\"y\":{\"field\":\"y\"}},\"id\":\"9362ed06-a7a2-4245-ae61-6ff90c0df894\",\"type\":\"Rect\"},{\"attributes\":{\"fill_alpha\":{\"field\":\"fill_alpha\"},\"fill_color\":{\"field\":\"color\"},\"height\":{\"field\":\"height\",\"units\":\"data\"},\"line_color\":{\"field\":\"line_color\"},\"width\":{\"field\":\"width\",\"units\":\"data\"},\"x\":{\"field\":\"x\"},\"y\":{\"field\":\"y\"}},\"id\":\"8942a636-2e4b-4f0e-b089-23ebc4af58c9\",\"type\":\"Rect\"},{\"attributes\":{\"callback\":null,\"column_names\":[\"x\",\"y\",\"width\",\"height\",\"color\",\"fill_alpha\",\"line_color\",\"line_alpha\",\"label\"],\"data\":{\"chart_index\":[\"(13.931937, 14.926702]\"],\"color\":[\"#f22c40\"],\"fill_alpha\":[0.8],\"height\":[19.0],\"label\":[\"(13.931937, 14.926702]\"],\"line_alpha\":[1.0],\"line_color\":[\"black\"],\"width\":[0.9947643979057599],\"x\":[\"14.4293195\"],\"y\":[9.5]}},\"id\":\"1cdde414-cc1d-46a2-b21a-3ddb28bb2fb2\",\"type\":\"ColumnDataSource\"},{\"attributes\":{\"fill_alpha\":{\"field\":\"fill_alpha\"},\"fill_color\":{\"field\":\"color\"},\"height\":{\"field\":\"height\",\"units\":\"data\"},\"line_color\":{\"field\":\"line_color\"},\"width\":{\"field\":\"width\",\"units\":\"data\"},\"x\":{\"field\":\"x\"},\"y\":{\"field\":\"y\"}},\"id\":\"95381abe-ce8b-4139-8174-a79bdf8563ce\",\"type\":\"Rect\"},{\"attributes\":{\"callback\":null,\"column_names\":[\"x\",\"y\",\"width\",\"height\",\"color\",\"fill_alpha\",\"line_color\",\"line_alpha\",\"label\"],\"data\":{\"chart_index\":[\"(180.057592, 181.052356]\"],\"color\":[\"#f22c40\"],\"fill_alpha\":[0.8],\"height\":[0.0],\"label\":[\"(180.057592, 181.052356]\"],\"line_alpha\":[1.0],\"line_color\":[\"black\"],\"width\":[0.9947643979057545],\"x\":[\"180.55497400000002\"],\"y\":[0.0]}},\"id\":\"9c701f8a-fa0e-47ba-b9f9-6fc233450a86\",\"type\":\"ColumnDataSource\"},{\"attributes\":{\"callback\":null,\"column_names\":[\"x\",\"y\",\"width\",\"height\",\"color\",\"fill_alpha\",\"line_color\",\"line_alpha\",\"label\"],\"data\":{\"chart_index\":[\"(46.759162, 47.753927]\"],\"color\":[\"#f22c40\"],\"fill_alpha\":[0.8],\"height\":[1.0],\"label\":[\"(46.759162, 47.753927]\"],\"line_alpha\":[1.0],\"line_color\":[\"black\"],\"width\":[0.9947643979057617],\"x\":[\"47.256544500000004\"],\"y\":[0.5]}},\"id\":\"2184032c-88aa-4b2c-bcbd-83bcb2ad4852\",\"type\":\"ColumnDataSource\"},{\"attributes\":{\"bottom_units\":\"screen\",\"fill_alpha\":{\"value\":0.5},\"fill_color\":{\"value\":\"lightgrey\"},\"left_units\":\"screen\",\"level\":\"overlay\",\"line_alpha\":{\"value\":1.0},\"line_color\":{\"value\":\"black\"},\"line_dash\":[4,4],\"line_width\":{\"value\":2},\"plot\":null,\"render_mode\":\"css\",\"right_units\":\"screen\",\"top_units\":\"screen\"},\"id\":\"ae4e7a78-baf2-4b2f-832a-2c8cae744440\",\"type\":\"BoxAnnotation\"},{\"attributes\":{\"callback\":null,\"column_names\":[\"x\",\"y\",\"width\",\"height\",\"color\",\"fill_alpha\",\"line_color\",\"line_alpha\",\"label\"],\"data\":{\"chart_index\":[\"(43.774869, 44.769634]\"],\"color\":[\"#f22c40\"],\"fill_alpha\":[0.8],\"height\":[0.0],\"label\":[\"(43.774869, 44.769634]\"],\"line_alpha\":[1.0],\"line_color\":[\"black\"],\"width\":[0.9947643979057617],\"x\":[\"44.2722515\"],\"y\":[0.0]}},\"id\":\"681aca5b-d0d0-434c-9716-8cbcb5e5e30f\",\"type\":\"ColumnDataSource\"},{\"attributes\":{\"data_source\":{\"id\":\"681aca5b-d0d0-434c-9716-8cbcb5e5e30f\",\"type\":\"ColumnDataSource\"},\"glyph\":{\"id\":\"01b7ea88-7834-4ba1-8714-8f296dcae675\",\"type\":\"Rect\"},\"hover_glyph\":null,\"muted_glyph\":null},\"id\":\"4d5de4f1-1573-47bc-a7af-373a799327b9\",\"type\":\"GlyphRenderer\"},{\"attributes\":{\"plot\":{\"id\":\"53d9fb3e-3964-4a30-990b-e28fa9d24964\",\"subtype\":\"Chart\",\"type\":\"Plot\"}},\"id\":\"e9aad6ff-ee72-4326-8467-ea6801f37f70\",\"type\":\"ResetTool\"},{\"attributes\":{\"callback\":null,\"column_names\":[\"x\",\"y\",\"width\",\"height\",\"color\",\"fill_alpha\",\"line_color\",\"line_alpha\",\"label\"],\"data\":{\"chart_index\":[\"(12.937173, 13.931937]\"],\"color\":[\"#f22c40\"],\"fill_alpha\":[0.8],\"height\":[13.0],\"label\":[\"(12.937173, 13.931937]\"],\"line_alpha\":[1.0],\"line_color\":[\"black\"],\"width\":[0.9947643979057581],\"x\":[\"13.434555\"],\"y\":[6.5]}},\"id\":\"a387c12e-45f6-480e-b74e-75a1d14ba57b\",\"type\":\"ColumnDataSource\"},{\"attributes\":{\"fill_alpha\":{\"field\":\"fill_alpha\"},\"fill_color\":{\"field\":\"color\"},\"height\":{\"field\":\"height\",\"units\":\"data\"},\"line_color\":{\"field\":\"line_color\"},\"width\":{\"field\":\"width\",\"units\":\"data\"},\"x\":{\"field\":\"x\"},\"y\":{\"field\":\"y\"}},\"id\":\"3386419b-1f13-431f-b021-70edf2c308e1\",\"type\":\"Rect\"},{\"attributes\":{\"data_source\":{\"id\":\"a387c12e-45f6-480e-b74e-75a1d14ba57b\",\"type\":\"ColumnDataSource\"},\"glyph\":{\"id\":\"7b1ed750-4865-4b09-8d50-f0730ff2f15c\",\"type\":\"Rect\"},\"hover_glyph\":null,\"muted_glyph\":null},\"id\":\"b19678ee-ab2d-49ab-9a05-082e28a8595e\",\"type\":\"GlyphRenderer\"},{\"attributes\":{},\"id\":\"e70d7d40-a1e9-4fdb-a6a3-3eedbbefe35c\",\"type\":\"BasicTicker\"},{\"attributes\":{\"fill_alpha\":{\"field\":\"fill_alpha\"},\"fill_color\":{\"field\":\"color\"},\"height\":{\"field\":\"height\",\"units\":\"data\"},\"line_color\":{\"field\":\"line_color\"},\"width\":{\"field\":\"width\",\"units\":\"data\"},\"x\":{\"field\":\"x\"},\"y\":{\"field\":\"y\"}},\"id\":\"ade635b7-7574-4f1d-b237-fbaaccf9a347\",\"type\":\"Rect\"},{\"attributes\":{\"plot\":{\"id\":\"53d9fb3e-3964-4a30-990b-e28fa9d24964\",\"subtype\":\"Chart\",\"type\":\"Plot\"}},\"id\":\"95681251-2401-4f39-9b6b-6ea161e25cc7\",\"type\":\"WheelZoomTool\"},{\"attributes\":{\"data_source\":{\"id\":\"c551ec65-6207-4621-ac7b-38ffedb10fb8\",\"type\":\"ColumnDataSource\"},\"glyph\":{\"id\":\"8942a636-2e4b-4f0e-b089-23ebc4af58c9\",\"type\":\"Rect\"},\"hover_glyph\":null,\"muted_glyph\":null},\"id\":\"81510343-8cb1-4864-a2ec-c09278edf1b3\",\"type\":\"GlyphRenderer\"},{\"attributes\":{\"fill_alpha\":{\"field\":\"fill_alpha\"},\"fill_color\":{\"field\":\"color\"},\"height\":{\"field\":\"height\",\"units\":\"data\"},\"line_color\":{\"field\":\"line_color\"},\"width\":{\"field\":\"width\",\"units\":\"data\"},\"x\":{\"field\":\"x\"},\"y\":{\"field\":\"y\"}},\"id\":\"9a83d169-f7f3-4168-81f9-43105dd21b71\",\"type\":\"Rect\"},{\"attributes\":{\"fill_alpha\":{\"field\":\"fill_alpha\"},\"fill_color\":{\"field\":\"color\"},\"height\":{\"field\":\"height\",\"units\":\"data\"},\"line_color\":{\"field\":\"line_color\"},\"width\":{\"field\":\"width\",\"units\":\"data\"},\"x\":{\"field\":\"x\"},\"y\":{\"field\":\"y\"}},\"id\":\"24b7fe06-40ab-43d1-99b8-3f27d4875188\",\"type\":\"Rect\"},{\"attributes\":{\"data_source\":{\"id\":\"b06d08ff-9093-4d6e-9c13-45bab38b333a\",\"type\":\"ColumnDataSource\"},\"glyph\":{\"id\":\"9a83d169-f7f3-4168-81f9-43105dd21b71\",\"type\":\"Rect\"},\"hover_glyph\":null,\"muted_glyph\":null},\"id\":\"27f2695f-4675-4837-a05a-c9c27ffa92f5\",\"type\":\"GlyphRenderer\"},{\"attributes\":{\"fill_alpha\":{\"field\":\"fill_alpha\"},\"fill_color\":{\"field\":\"color\"},\"height\":{\"field\":\"height\",\"units\":\"data\"},\"line_color\":{\"field\":\"line_color\"},\"width\":{\"field\":\"width\",\"units\":\"data\"},\"x\":{\"field\":\"x\"},\"y\":{\"field\":\"y\"}},\"id\":\"0ee9cc1d-283a-4523-a596-46cca936cce8\",\"type\":\"Rect\"},{\"attributes\":{\"callback\":null,\"column_names\":[\"x\",\"y\",\"width\",\"height\",\"color\",\"fill_alpha\",\"line_color\",\"line_alpha\",\"label\"],\"data\":{\"chart_index\":[\"(47.753927, 48.748691]\"],\"color\":[\"#f22c40\"],\"fill_alpha\":[0.8],\"height\":[0.0],\"label\":[\"(47.753927, 48.748691]\"],\"line_alpha\":[1.0],\"line_color\":[\"black\"],\"width\":[0.9947643979057617],\"x\":[\"48.251309\"],\"y\":[0.0]}},\"id\":\"8ce222b0-60cd-44a2-8f75-fa8f25a76d84\",\"type\":\"ColumnDataSource\"},{\"attributes\":{\"callback\":null,\"column_names\":[\"x\",\"y\",\"width\",\"height\",\"color\",\"fill_alpha\",\"line_color\",\"line_alpha\",\"label\"],\"data\":{\"chart_index\":[\"(15.921466, 16.916230]\"],\"color\":[\"#f22c40\"],\"fill_alpha\":[0.8],\"height\":[15.0],\"label\":[\"(15.921466, 16.916230]\"],\"line_alpha\":[1.0],\"line_color\":[\"black\"],\"width\":[0.9947643979057599],\"x\":[\"16.418848\"],\"y\":[7.5]}},\"id\":\"eec9a47e-d155-495d-ae58-39a073091b9d\",\"type\":\"ColumnDataSource\"},{\"attributes\":{\"callback\":null,\"column_names\":[\"x\",\"y\",\"width\",\"height\",\"color\",\"fill_alpha\",\"line_color\",\"line_alpha\",\"label\"],\"data\":{\"chart_index\":[\"(182.047120, 183.041885]\"],\"color\":[\"#f22c40\"],\"fill_alpha\":[0.8],\"height\":[0.0],\"label\":[\"(182.047120, 183.041885]\"],\"line_alpha\":[1.0],\"line_color\":[\"black\"],\"width\":[0.9947643979057545],\"x\":[\"182.54450250000002\"],\"y\":[0.0]}},\"id\":\"7e63e00c-44aa-41f4-a478-f7b98ce4d907\",\"type\":\"ColumnDataSource\"},{\"attributes\":{\"data_source\":{\"id\":\"eec9a47e-d155-495d-ae58-39a073091b9d\",\"type\":\"ColumnDataSource\"},\"glyph\":{\"id\":\"9c98a235-0268-4662-9082-e0586ee14cda\",\"type\":\"Rect\"},\"hover_glyph\":null,\"muted_glyph\":null},\"id\":\"c6f01c37-2934-4722-becd-e3d0d39c1739\",\"type\":\"GlyphRenderer\"},{\"attributes\":{\"plot\":{\"id\":\"53d9fb3e-3964-4a30-990b-e28fa9d24964\",\"subtype\":\"Chart\",\"type\":\"Plot\"}},\"id\":\"542b0952-9a12-464d-9fb4-ae62c2fe6859\",\"type\":\"HelpTool\"},{\"attributes\":{\"data_source\":{\"id\":\"7e63e00c-44aa-41f4-a478-f7b98ce4d907\",\"type\":\"ColumnDataSource\"},\"glyph\":{\"id\":\"24b7fe06-40ab-43d1-99b8-3f27d4875188\",\"type\":\"Rect\"},\"hover_glyph\":null,\"muted_glyph\":null},\"id\":\"09b4ed84-8a2b-42e0-8fb8-845414a09739\",\"type\":\"GlyphRenderer\"},{\"attributes\":{\"data_source\":{\"id\":\"1cdde414-cc1d-46a2-b21a-3ddb28bb2fb2\",\"type\":\"ColumnDataSource\"},\"glyph\":{\"id\":\"37048086-6dc8-4947-869f-bd350e81ae34\",\"type\":\"Rect\"},\"hover_glyph\":null,\"muted_glyph\":null},\"id\":\"2ef42cbf-49a9-418b-bbd6-896ab57203aa\",\"type\":\"GlyphRenderer\"},{\"attributes\":{\"data_source\":{\"id\":\"2184032c-88aa-4b2c-bcbd-83bcb2ad4852\",\"type\":\"ColumnDataSource\"},\"glyph\":{\"id\":\"3386419b-1f13-431f-b021-70edf2c308e1\",\"type\":\"Rect\"},\"hover_glyph\":null,\"muted_glyph\":null},\"id\":\"b59215f3-3949-4c36-8e37-0a7b6eec9c21\",\"type\":\"GlyphRenderer\"},{\"attributes\":{\"plot\":{\"id\":\"53d9fb3e-3964-4a30-990b-e28fa9d24964\",\"subtype\":\"Chart\",\"type\":\"Plot\"}},\"id\":\"40f05a71-51b8-492b-a815-f8007989c799\",\"type\":\"PanTool\"},{\"attributes\":{\"data_source\":{\"id\":\"9c701f8a-fa0e-47ba-b9f9-6fc233450a86\",\"type\":\"ColumnDataSource\"},\"glyph\":{\"id\":\"95381abe-ce8b-4139-8174-a79bdf8563ce\",\"type\":\"Rect\"},\"hover_glyph\":null,\"muted_glyph\":null},\"id\":\"0255fb48-ad40-4710-9f5d-3bae8079c40c\",\"type\":\"GlyphRenderer\"},{\"attributes\":{\"fill_alpha\":{\"field\":\"fill_alpha\"},\"fill_color\":{\"field\":\"color\"},\"height\":{\"field\":\"height\",\"units\":\"data\"},\"line_color\":{\"field\":\"line_color\"},\"width\":{\"field\":\"width\",\"units\":\"data\"},\"x\":{\"field\":\"x\"},\"y\":{\"field\":\"y\"}},\"id\":\"dfb70895-57f6-4f8a-b7bb-7ac612ac7c35\",\"type\":\"Rect\"},{\"attributes\":{\"fill_alpha\":{\"field\":\"fill_alpha\"},\"fill_color\":{\"field\":\"color\"},\"height\":{\"field\":\"height\",\"units\":\"data\"},\"line_color\":{\"field\":\"line_color\"},\"width\":{\"field\":\"width\",\"units\":\"data\"},\"x\":{\"field\":\"x\"},\"y\":{\"field\":\"y\"}},\"id\":\"3b1fe846-4480-40ce-aa5f-c1c8bc50a342\",\"type\":\"Rect\"},{\"attributes\":{\"data_source\":{\"id\":\"8ef55f41-b275-43da-a3f4-32b8235f3ac0\",\"type\":\"ColumnDataSource\"},\"glyph\":{\"id\":\"0ee9cc1d-283a-4523-a596-46cca936cce8\",\"type\":\"Rect\"},\"hover_glyph\":null,\"muted_glyph\":null},\"id\":\"097d86cd-d1f2-44b3-8988-34e8e8b4c6f3\",\"type\":\"GlyphRenderer\"},{\"attributes\":{\"data_source\":{\"id\":\"590e2de4-9dac-4abf-8868-b359521f49d2\",\"type\":\"ColumnDataSource\"},\"glyph\":{\"id\":\"d74d216f-2d02-487e-bdc3-0e360e646cd2\",\"type\":\"Rect\"},\"hover_glyph\":null,\"muted_glyph\":null},\"id\":\"25c39482-fa95-4602-ac77-4f987dc358c1\",\"type\":\"GlyphRenderer\"},{\"attributes\":{\"callback\":null,\"column_names\":[\"x\",\"y\",\"width\",\"height\",\"color\",\"fill_alpha\",\"line_color\",\"line_alpha\",\"label\"],\"data\":{\"chart_index\":[\"(14.926702, 15.921466]\"],\"color\":[\"#f22c40\"],\"fill_alpha\":[0.8],\"height\":[7.0],\"label\":[\"(14.926702, 15.921466]\"],\"line_alpha\":[1.0],\"line_color\":[\"black\"],\"width\":[0.9947643979057581],\"x\":[\"15.424084\"],\"y\":[3.5]}},\"id\":\"b06d08ff-9093-4d6e-9c13-45bab38b333a\",\"type\":\"ColumnDataSource\"},{\"attributes\":{\"callback\":null,\"column_names\":[\"x\",\"y\",\"width\",\"height\",\"color\",\"fill_alpha\",\"line_color\",\"line_alpha\",\"label\"],\"data\":{\"chart_index\":[\"(181.052356, 182.047120]\"],\"color\":[\"#f22c40\"],\"fill_alpha\":[0.8],\"height\":[0.0],\"label\":[\"(181.052356, 182.047120]\"],\"line_alpha\":[1.0],\"line_color\":[\"black\"],\"width\":[0.9947643979057545],\"x\":[\"181.549738\"],\"y\":[0.0]}},\"id\":\"8ef55f41-b275-43da-a3f4-32b8235f3ac0\",\"type\":\"ColumnDataSource\"},{\"attributes\":{\"overlay\":{\"id\":\"ae4e7a78-baf2-4b2f-832a-2c8cae744440\",\"type\":\"BoxAnnotation\"},\"plot\":{\"id\":\"53d9fb3e-3964-4a30-990b-e28fa9d24964\",\"subtype\":\"Chart\",\"type\":\"Plot\"}},\"id\":\"db14d2e8-15f4-402c-b9d8-2effa413486e\",\"type\":\"BoxZoomTool\"},{\"attributes\":{\"data_source\":{\"id\":\"8ce222b0-60cd-44a2-8f75-fa8f25a76d84\",\"type\":\"ColumnDataSource\"},\"glyph\":{\"id\":\"ade635b7-7574-4f1d-b237-fbaaccf9a347\",\"type\":\"Rect\"},\"hover_glyph\":null,\"muted_glyph\":null},\"id\":\"8f4a7854-78f2-47c8-be6a-36600a839332\",\"type\":\"GlyphRenderer\"},{\"attributes\":{\"fill_alpha\":{\"field\":\"fill_alpha\"},\"fill_color\":{\"field\":\"color\"},\"height\":{\"field\":\"height\",\"units\":\"data\"},\"line_color\":{\"field\":\"line_color\"},\"width\":{\"field\":\"width\",\"units\":\"data\"},\"x\":{\"field\":\"x\"},\"y\":{\"field\":\"y\"}},\"id\":\"27703fd1-b30d-4141-997b-a567b494af1f\",\"type\":\"Rect\"},{\"attributes\":{\"fill_alpha\":{\"field\":\"fill_alpha\"},\"fill_color\":{\"field\":\"color\"},\"height\":{\"field\":\"height\",\"units\":\"data\"},\"line_color\":{\"field\":\"line_color\"},\"width\":{\"field\":\"width\",\"units\":\"data\"},\"x\":{\"field\":\"x\"},\"y\":{\"field\":\"y\"}},\"id\":\"9c98a235-0268-4662-9082-e0586ee14cda\",\"type\":\"Rect\"},{\"attributes\":{\"fill_alpha\":{\"field\":\"fill_alpha\"},\"fill_color\":{\"field\":\"color\"},\"height\":{\"field\":\"height\",\"units\":\"data\"},\"line_color\":{\"field\":\"line_color\"},\"width\":{\"field\":\"width\",\"units\":\"data\"},\"x\":{\"field\":\"x\"},\"y\":{\"field\":\"y\"}},\"id\":\"910dfd25-1443-477b-8b90-f8b22854e33a\",\"type\":\"Rect\"},{\"attributes\":{\"callback\":null,\"column_names\":[\"x\",\"y\",\"width\",\"height\",\"color\",\"fill_alpha\",\"line_color\",\"line_alpha\",\"label\"],\"data\":{\"chart_index\":[\"(49.743455, 50.738220]\"],\"color\":[\"#f22c40\"],\"fill_alpha\":[0.8],\"height\":[0.0],\"label\":[\"(49.743455, 50.738220]\"],\"line_alpha\":[1.0],\"line_color\":[\"black\"],\"width\":[0.9947643979057617],\"x\":[\"50.2408375\"],\"y\":[0.0]}},\"id\":\"d76468cd-6bd2-474b-8757-3440d279d808\",\"type\":\"ColumnDataSource\"},{\"attributes\":{\"callback\":null,\"column_names\":[\"x\",\"y\",\"width\",\"height\",\"color\",\"fill_alpha\",\"line_color\",\"line_alpha\",\"label\"],\"data\":{\"chart_index\":[\"(80.581152, 81.575916]\"],\"color\":[\"#f22c40\"],\"fill_alpha\":[0.8],\"height\":[0.0],\"label\":[\"(80.581152, 81.575916]\"],\"line_alpha\":[1.0],\"line_color\":[\"black\"],\"width\":[0.9947643979057688],\"x\":[\"81.078534\"],\"y\":[0.0]}},\"id\":\"1b9484b6-fa5d-457f-9d0b-445a2b2a98e9\",\"type\":\"ColumnDataSource\"},{\"attributes\":{\"callback\":null,\"column_names\":[\"x\",\"y\",\"width\",\"height\",\"color\",\"fill_alpha\",\"line_color\",\"line_alpha\",\"label\"],\"data\":{\"chart_index\":[\"(149.219895, 150.214660]\"],\"color\":[\"#f22c40\"],\"fill_alpha\":[0.8],\"height\":[0.0],\"label\":[\"(149.219895, 150.214660]\"],\"line_alpha\":[1.0],\"line_color\":[\"black\"],\"width\":[0.994764397905783],\"x\":[\"149.71727750000002\"],\"y\":[0.0]}},\"id\":\"f3c5e6d5-965b-4cda-9856-8719938c0af8\",\"type\":\"ColumnDataSource\"},{\"attributes\":{\"fill_alpha\":{\"field\":\"fill_alpha\"},\"fill_color\":{\"field\":\"color\"},\"height\":{\"field\":\"height\",\"units\":\"data\"},\"line_color\":{\"field\":\"line_color\"},\"width\":{\"field\":\"width\",\"units\":\"data\"},\"x\":{\"field\":\"x\"},\"y\":{\"field\":\"y\"}},\"id\":\"f34d7720-694a-4c4a-b67a-c5ed9c52b0b9\",\"type\":\"Rect\"},{\"attributes\":{\"fill_alpha\":{\"field\":\"fill_alpha\"},\"fill_color\":{\"field\":\"color\"},\"height\":{\"field\":\"height\",\"units\":\"data\"},\"line_color\":{\"field\":\"line_color\"},\"width\":{\"field\":\"width\",\"units\":\"data\"},\"x\":{\"field\":\"x\"},\"y\":{\"field\":\"y\"}},\"id\":\"8bb3efd7-9dea-4e30-bfd9-b1506c63902a\",\"type\":\"Rect\"},{\"attributes\":{\"fill_alpha\":{\"field\":\"fill_alpha\"},\"fill_color\":{\"field\":\"color\"},\"height\":{\"field\":\"height\",\"units\":\"data\"},\"line_color\":{\"field\":\"line_color\"},\"width\":{\"field\":\"width\",\"units\":\"data\"},\"x\":{\"field\":\"x\"},\"y\":{\"field\":\"y\"}},\"id\":\"a2c64eb2-ee26-4e45-b486-aa70b7fdd61f\",\"type\":\"Rect\"},{\"attributes\":{\"fill_alpha\":{\"field\":\"fill_alpha\"},\"fill_color\":{\"field\":\"color\"},\"height\":{\"field\":\"height\",\"units\":\"data\"},\"line_color\":{\"field\":\"line_color\"},\"width\":{\"field\":\"width\",\"units\":\"data\"},\"x\":{\"field\":\"x\"},\"y\":{\"field\":\"y\"}},\"id\":\"66adad04-5dd1-4424-8007-a75ed8f633c7\",\"type\":\"Rect\"},{\"attributes\":{\"callback\":null,\"column_names\":[\"x\",\"y\",\"width\",\"height\",\"color\",\"fill_alpha\",\"line_color\",\"line_alpha\",\"label\"],\"data\":{\"chart_index\":[\"(112.413613, 113.408377]\"],\"color\":[\"#f22c40\"],\"fill_alpha\":[0.8],\"height\":[0.0],\"label\":[\"(112.413613, 113.408377]\"],\"line_alpha\":[1.0],\"line_color\":[\"black\"],\"width\":[0.9947643979057545],\"x\":[\"112.910995\"],\"y\":[0.0]}},\"id\":\"64dbeedf-1c51-4777-8e01-238d652830c4\",\"type\":\"ColumnDataSource\"},{\"attributes\":{\"fill_alpha\":{\"field\":\"fill_alpha\"},\"fill_color\":{\"field\":\"color\"},\"height\":{\"field\":\"height\",\"units\":\"data\"},\"line_color\":{\"field\":\"line_color\"},\"width\":{\"field\":\"width\",\"units\":\"data\"},\"x\":{\"field\":\"x\"},\"y\":{\"field\":\"y\"}},\"id\":\"66861b83-df89-4cb3-b85a-6f83b4111348\",\"type\":\"Rect\"},{\"attributes\":{\"data_source\":{\"id\":\"04a674d9-1268-43e0-85b2-728477b68417\",\"type\":\"ColumnDataSource\"},\"glyph\":{\"id\":\"4d0660e7-df5e-4fff-88a5-30fb36f2e6f2\",\"type\":\"Rect\"},\"hover_glyph\":null,\"muted_glyph\":null},\"id\":\"910f33fb-17dc-4ea6-bee3-4bba18220a08\",\"type\":\"GlyphRenderer\"},{\"attributes\":{\"callback\":null,\"column_names\":[\"x\",\"y\",\"width\",\"height\",\"color\",\"fill_alpha\",\"line_color\",\"line_alpha\",\"label\"],\"data\":{\"chart_index\":[\"(48.748691, 49.743455]\"],\"color\":[\"#f22c40\"],\"fill_alpha\":[0.8],\"height\":[2.0],\"label\":[\"(48.748691, 49.743455]\"],\"line_alpha\":[1.0],\"line_color\":[\"black\"],\"width\":[0.9947643979057545],\"x\":[\"49.246072999999996\"],\"y\":[1.0]}},\"id\":\"89e23268-44f7-4113-8be7-6d8639798ab6\",\"type\":\"ColumnDataSource\"},{\"attributes\":{\"callback\":null,\"column_names\":[\"x\",\"y\",\"width\",\"height\",\"color\",\"fill_alpha\",\"line_color\",\"line_alpha\",\"label\"],\"data\":{\"chart_index\":[\"(79.586387, 80.581152]\"],\"color\":[\"#f22c40\"],\"fill_alpha\":[0.8],\"height\":[0.0],\"label\":[\"(79.586387, 80.581152]\"],\"line_alpha\":[1.0],\"line_color\":[\"black\"],\"width\":[0.9947643979057545],\"x\":[\"80.0837695\"],\"y\":[0.0]}},\"id\":\"1856d871-175a-4a8e-8352-600c119a7dcc\",\"type\":\"ColumnDataSource\"},{\"attributes\":{\"callback\":null,\"column_names\":[\"x\",\"y\",\"width\",\"height\",\"color\",\"fill_alpha\",\"line_color\",\"line_alpha\",\"label\"],\"data\":{\"chart_index\":[\"(113.408377, 114.403141]\"],\"color\":[\"#f22c40\"],\"fill_alpha\":[0.8],\"height\":[0.0],\"label\":[\"(113.408377, 114.403141]\"],\"line_alpha\":[1.0],\"line_color\":[\"black\"],\"width\":[0.9947643979057545],\"x\":[\"113.905759\"],\"y\":[0.0]}},\"id\":\"72db7de8-90a2-400b-a1a3-300e5ee052df\",\"type\":\"ColumnDataSource\"},{\"attributes\":{\"data_source\":{\"id\":\"89e23268-44f7-4113-8be7-6d8639798ab6\",\"type\":\"ColumnDataSource\"},\"glyph\":{\"id\":\"3b1fe846-4480-40ce-aa5f-c1c8bc50a342\",\"type\":\"Rect\"},\"hover_glyph\":null,\"muted_glyph\":null},\"id\":\"38b1dfee-4333-4180-a388-86f6abfab7bd\",\"type\":\"GlyphRenderer\"},{\"attributes\":{\"data_source\":{\"id\":\"1856d871-175a-4a8e-8352-600c119a7dcc\",\"type\":\"ColumnDataSource\"},\"glyph\":{\"id\":\"e344606a-afbd-46df-be7b-64f62c25d5ec\",\"type\":\"Rect\"},\"hover_glyph\":null,\"muted_glyph\":null},\"id\":\"c4b1b1c8-b2e9-4ec8-9506-7f1dca6a6972\",\"type\":\"GlyphRenderer\"},{\"attributes\":{\"data_source\":{\"id\":\"6df370a5-22cc-4ac4-b3b8-80febf80d1bd\",\"type\":\"ColumnDataSource\"},\"glyph\":{\"id\":\"ae06bace-363d-4283-aa19-2d2636995e7f\",\"type\":\"Rect\"},\"hover_glyph\":null,\"muted_glyph\":null},\"id\":\"a583442d-56c5-480a-9c01-e6de704c7195\",\"type\":\"GlyphRenderer\"},{\"attributes\":{\"fill_alpha\":{\"field\":\"fill_alpha\"},\"fill_color\":{\"field\":\"color\"},\"height\":{\"field\":\"height\",\"units\":\"data\"},\"line_color\":{\"field\":\"line_color\"},\"width\":{\"field\":\"width\",\"units\":\"data\"},\"x\":{\"field\":\"x\"},\"y\":{\"field\":\"y\"}},\"id\":\"45ff225d-75c5-4ad1-98ff-6054d5fc8e56\",\"type\":\"Rect\"},{\"attributes\":{\"fill_alpha\":{\"field\":\"fill_alpha\"},\"fill_color\":{\"field\":\"color\"},\"height\":{\"field\":\"height\",\"units\":\"data\"},\"line_color\":{\"field\":\"line_color\"},\"width\":{\"field\":\"width\",\"units\":\"data\"},\"x\":{\"field\":\"x\"},\"y\":{\"field\":\"y\"}},\"id\":\"f8c91b82-c0b8-4013-bac0-03f92e39bc7b\",\"type\":\"Rect\"},{\"attributes\":{\"data_source\":{\"id\":\"ecb4b186-32b2-4c58-b953-fd156e5814c8\",\"type\":\"ColumnDataSource\"},\"glyph\":{\"id\":\"f8c91b82-c0b8-4013-bac0-03f92e39bc7b\",\"type\":\"Rect\"},\"hover_glyph\":null,\"muted_glyph\":null},\"id\":\"8b9c7792-15b2-4d91-817c-36b2cd711b24\",\"type\":\"GlyphRenderer\"},{\"attributes\":{\"callback\":null,\"column_names\":[\"x\",\"y\",\"width\",\"height\",\"color\",\"fill_alpha\",\"line_color\",\"line_alpha\",\"label\"],\"data\":{\"chart_index\":[\"(50.738220, 51.732984]\"],\"color\":[\"#f22c40\"],\"fill_alpha\":[0.8],\"height\":[0.0],\"label\":[\"(50.738220, 51.732984]\"],\"line_alpha\":[1.0],\"line_color\":[\"black\"],\"width\":[0.9947643979057545],\"x\":[\"51.235602\"],\"y\":[0.0]}},\"id\":\"089cc2b7-d1b8-4486-9fdb-c11ba5c0e362\",\"type\":\"ColumnDataSource\"},{\"attributes\":{\"callback\":null,\"column_names\":[\"x\",\"y\",\"width\",\"height\",\"color\",\"fill_alpha\",\"line_color\",\"line_alpha\",\"label\"],\"data\":{\"chart_index\":[\"(148.225131, 149.219895]\"],\"color\":[\"#f22c40\"],\"fill_alpha\":[0.8],\"height\":[0.0],\"label\":[\"(148.225131, 149.219895]\"],\"line_alpha\":[1.0],\"line_color\":[\"black\"],\"width\":[0.9947643979057545],\"x\":[\"148.722513\"],\"y\":[0.0]}},\"id\":\"da8929bd-c8b1-4778-bf52-cf956594a05f\",\"type\":\"ColumnDataSource\"},{\"attributes\":{\"data_source\":{\"id\":\"da8929bd-c8b1-4778-bf52-cf956594a05f\",\"type\":\"ColumnDataSource\"},\"glyph\":{\"id\":\"5a23c387-ce3a-4248-9a4d-1d8fd47ef5b7\",\"type\":\"Rect\"},\"hover_glyph\":null,\"muted_glyph\":null},\"id\":\"d0798cbf-30c4-4fb1-879f-d91b1431179e\",\"type\":\"GlyphRenderer\"},{\"attributes\":{\"data_source\":{\"id\":\"6f72b740-7ef6-46b2-800c-974be317f5f2\",\"type\":\"ColumnDataSource\"},\"glyph\":{\"id\":\"c45933e1-f92b-401e-a020-2e5d92c14f3d\",\"type\":\"Rect\"},\"hover_glyph\":null,\"muted_glyph\":null},\"id\":\"deda529b-fb04-4b8f-b95c-866e15b9f31b\",\"type\":\"GlyphRenderer\"},{\"attributes\":{\"callback\":null,\"column_names\":[\"x\",\"y\",\"width\",\"height\",\"color\",\"fill_alpha\",\"line_color\",\"line_alpha\",\"label\"],\"data\":{\"chart_index\":[\"(154.193717, 155.188482]\"],\"color\":[\"#f22c40\"],\"fill_alpha\":[0.8],\"height\":[0.0],\"label\":[\"(154.193717, 155.188482]\"],\"line_alpha\":[1.0],\"line_color\":[\"black\"],\"width\":[0.9947643979057545],\"x\":[\"154.6910995\"],\"y\":[0.0]}},\"id\":\"6df370a5-22cc-4ac4-b3b8-80febf80d1bd\",\"type\":\"ColumnDataSource\"},{\"attributes\":{\"fill_alpha\":{\"field\":\"fill_alpha\"},\"fill_color\":{\"field\":\"color\"},\"height\":{\"field\":\"height\",\"units\":\"data\"},\"line_color\":{\"field\":\"line_color\"},\"width\":{\"field\":\"width\",\"units\":\"data\"},\"x\":{\"field\":\"x\"},\"y\":{\"field\":\"y\"}},\"id\":\"b88ee3da-b295-4e94-bb26-e2ac374303aa\",\"type\":\"Rect\"},{\"attributes\":{\"fill_alpha\":{\"field\":\"fill_alpha\"},\"fill_color\":{\"field\":\"color\"},\"height\":{\"field\":\"height\",\"units\":\"data\"},\"line_color\":{\"field\":\"line_color\"},\"width\":{\"field\":\"width\",\"units\":\"data\"},\"x\":{\"field\":\"x\"},\"y\":{\"field\":\"y\"}},\"id\":\"6b0d81ef-09dd-433d-86b2-216d4d4accd3\",\"type\":\"Rect\"},{\"attributes\":{\"data_source\":{\"id\":\"64dbeedf-1c51-4777-8e01-238d652830c4\",\"type\":\"ColumnDataSource\"},\"glyph\":{\"id\":\"66adad04-5dd1-4424-8007-a75ed8f633c7\",\"type\":\"Rect\"},\"hover_glyph\":null,\"muted_glyph\":null},\"id\":\"c5f73209-2ff6-494a-a900-fc7f55b83b2f\",\"type\":\"GlyphRenderer\"},{\"attributes\":{\"data_source\":{\"id\":\"74f240ff-f8ac-419d-8fc1-7625e2eba4f8\",\"type\":\"ColumnDataSource\"},\"glyph\":{\"id\":\"bcbaa072-4271-429d-ad50-b8ed7815ff6a\",\"type\":\"Rect\"},\"hover_glyph\":null,\"muted_glyph\":null},\"id\":\"ebdb1226-337e-478b-8a36-96ff3855877b\",\"type\":\"GlyphRenderer\"},{\"attributes\":{\"callback\":null,\"column_names\":[\"x\",\"y\",\"width\",\"height\",\"color\",\"fill_alpha\",\"line_color\",\"line_alpha\",\"label\"],\"data\":{\"chart_index\":[\"(114.403141, 115.397906]\"],\"color\":[\"#f22c40\"],\"fill_alpha\":[0.8],\"height\":[0.0],\"label\":[\"(114.403141, 115.397906]\"],\"line_alpha\":[1.0],\"line_color\":[\"black\"],\"width\":[0.9947643979057688],\"x\":[\"114.9005235\"],\"y\":[0.0]}},\"id\":\"8a76059e-5760-459f-8e5b-297f8c637486\",\"type\":\"ColumnDataSource\"},{\"attributes\":{\"fill_alpha\":{\"field\":\"fill_alpha\"},\"fill_color\":{\"field\":\"color\"},\"height\":{\"field\":\"height\",\"units\":\"data\"},\"line_color\":{\"field\":\"line_color\"},\"width\":{\"field\":\"width\",\"units\":\"data\"},\"x\":{\"field\":\"x\"},\"y\":{\"field\":\"y\"}},\"id\":\"5647223d-6426-4393-946b-4d0815cce232\",\"type\":\"Rect\"},{\"attributes\":{\"callback\":null,\"column_names\":[\"x\",\"y\",\"width\",\"height\",\"color\",\"fill_alpha\",\"line_color\",\"line_alpha\",\"label\"],\"data\":{\"chart_index\":[\"(82.570681, 83.565445]\"],\"color\":[\"#f22c40\"],\"fill_alpha\":[0.8],\"height\":[0.0],\"label\":[\"(82.570681, 83.565445]\"],\"line_alpha\":[1.0],\"line_color\":[\"black\"],\"width\":[0.9947643979057545],\"x\":[\"83.068063\"],\"y\":[0.0]}},\"id\":\"74f240ff-f8ac-419d-8fc1-7625e2eba4f8\",\"type\":\"ColumnDataSource\"},{\"attributes\":{\"data_source\":{\"id\":\"d76468cd-6bd2-474b-8757-3440d279d808\",\"type\":\"ColumnDataSource\"},\"glyph\":{\"id\":\"f34d7720-694a-4c4a-b67a-c5ed9c52b0b9\",\"type\":\"Rect\"},\"hover_glyph\":null,\"muted_glyph\":null},\"id\":\"1fa11dd8-aea1-4301-b59e-1dfa9fcecebf\",\"type\":\"GlyphRenderer\"},{\"attributes\":{\"data_source\":{\"id\":\"1b9484b6-fa5d-457f-9d0b-445a2b2a98e9\",\"type\":\"ColumnDataSource\"},\"glyph\":{\"id\":\"8bb3efd7-9dea-4e30-bfd9-b1506c63902a\",\"type\":\"Rect\"},\"hover_glyph\":null,\"muted_glyph\":null},\"id\":\"d53bdbd8-98a2-45fa-aebd-3636c19885ed\",\"type\":\"GlyphRenderer\"},{\"attributes\":{\"callback\":null,\"column_names\":[\"x\",\"y\",\"width\",\"height\",\"color\",\"fill_alpha\",\"line_color\",\"line_alpha\",\"label\"],\"data\":{\"chart_index\":[\"(52.727749, 53.722513]\"],\"color\":[\"#f22c40\"],\"fill_alpha\":[0.8],\"height\":[8.0],\"label\":[\"(52.727749, 53.722513]\"],\"line_alpha\":[1.0],\"line_color\":[\"black\"],\"width\":[0.9947643979057617],\"x\":[\"53.225131000000005\"],\"y\":[4.0]}},\"id\":\"590e2de4-9dac-4abf-8868-b359521f49d2\",\"type\":\"ColumnDataSource\"},{\"attributes\":{\"fill_alpha\":{\"field\":\"fill_alpha\"},\"fill_color\":{\"field\":\"color\"},\"height\":{\"field\":\"height\",\"units\":\"data\"},\"line_color\":{\"field\":\"line_color\"},\"width\":{\"field\":\"width\",\"units\":\"data\"},\"x\":{\"field\":\"x\"},\"y\":{\"field\":\"y\"}},\"id\":\"9311ce6b-0676-4e70-9a82-3ac08879ee2d\",\"type\":\"Rect\"},{\"attributes\":{\"fill_alpha\":{\"field\":\"fill_alpha\"},\"fill_color\":{\"field\":\"color\"},\"height\":{\"field\":\"height\",\"units\":\"data\"},\"line_color\":{\"field\":\"line_color\"},\"width\":{\"field\":\"width\",\"units\":\"data\"},\"x\":{\"field\":\"x\"},\"y\":{\"field\":\"y\"}},\"id\":\"108dc806-59a5-4430-b2c1-d099a8eddff5\",\"type\":\"Rect\"},{\"attributes\":{\"data_source\":{\"id\":\"f3c5e6d5-965b-4cda-9856-8719938c0af8\",\"type\":\"ColumnDataSource\"},\"glyph\":{\"id\":\"a2c64eb2-ee26-4e45-b486-aa70b7fdd61f\",\"type\":\"Rect\"},\"hover_glyph\":null,\"muted_glyph\":null},\"id\":\"34f2ac4d-878a-4764-a404-6d5ede8a919f\",\"type\":\"GlyphRenderer\"},{\"attributes\":{\"fill_alpha\":{\"field\":\"fill_alpha\"},\"fill_color\":{\"field\":\"color\"},\"height\":{\"field\":\"height\",\"units\":\"data\"},\"line_color\":{\"field\":\"line_color\"},\"width\":{\"field\":\"width\",\"units\":\"data\"},\"x\":{\"field\":\"x\"},\"y\":{\"field\":\"y\"}},\"id\":\"c78c2574-a6db-4ca4-b0d4-8756137f0fe0\",\"type\":\"Rect\"},{\"attributes\":{\"data_source\":{\"id\":\"67e0b11e-30e9-4b8f-a267-1a589ca4b893\",\"type\":\"ColumnDataSource\"},\"glyph\":{\"id\":\"6b0d81ef-09dd-433d-86b2-216d4d4accd3\",\"type\":\"Rect\"},\"hover_glyph\":null,\"muted_glyph\":null},\"id\":\"9f0e4149-71de-48b8-912e-ea43f1243f38\",\"type\":\"GlyphRenderer\"},{\"attributes\":{\"data_source\":{\"id\":\"72db7de8-90a2-400b-a1a3-300e5ee052df\",\"type\":\"ColumnDataSource\"},\"glyph\":{\"id\":\"66861b83-df89-4cb3-b85a-6f83b4111348\",\"type\":\"Rect\"},\"hover_glyph\":null,\"muted_glyph\":null},\"id\":\"399e64a8-a52d-4ebc-ad08-2f16f644fa68\",\"type\":\"GlyphRenderer\"},{\"attributes\":{\"fill_alpha\":{\"field\":\"fill_alpha\"},\"fill_color\":{\"field\":\"color\"},\"height\":{\"field\":\"height\",\"units\":\"data\"},\"line_color\":{\"field\":\"line_color\"},\"width\":{\"field\":\"width\",\"units\":\"data\"},\"x\":{\"field\":\"x\"},\"y\":{\"field\":\"y\"}},\"id\":\"c45933e1-f92b-401e-a020-2e5d92c14f3d\",\"type\":\"Rect\"},{\"attributes\":{\"callback\":null,\"column_names\":[\"x\",\"y\",\"width\",\"height\",\"color\",\"fill_alpha\",\"line_color\",\"line_alpha\",\"label\"],\"data\":{\"chart_index\":[\"(150.214660, 151.209424]\"],\"color\":[\"#f22c40\"],\"fill_alpha\":[0.8],\"height\":[0.0],\"label\":[\"(150.214660, 151.209424]\"],\"line_alpha\":[1.0],\"line_color\":[\"black\"],\"width\":[0.9947643979057545],\"x\":[\"150.712042\"],\"y\":[0.0]}},\"id\":\"67e0b11e-30e9-4b8f-a267-1a589ca4b893\",\"type\":\"ColumnDataSource\"},{\"attributes\":{\"callback\":null,\"column_names\":[\"x\",\"y\",\"width\",\"height\",\"color\",\"fill_alpha\",\"line_color\",\"line_alpha\",\"label\"],\"data\":{\"chart_index\":[\"(83.565445, 84.560209]\"],\"color\":[\"#f22c40\"],\"fill_alpha\":[0.8],\"height\":[2.0],\"label\":[\"(83.565445, 84.560209]\"],\"line_alpha\":[1.0],\"line_color\":[\"black\"],\"width\":[0.9947643979057688],\"x\":[\"84.062827\"],\"y\":[1.0]}},\"id\":\"ecb4b186-32b2-4c58-b953-fd156e5814c8\",\"type\":\"ColumnDataSource\"},{\"attributes\":{\"data_source\":{\"id\":\"089cc2b7-d1b8-4486-9fdb-c11ba5c0e362\",\"type\":\"ColumnDataSource\"},\"glyph\":{\"id\":\"45ff225d-75c5-4ad1-98ff-6054d5fc8e56\",\"type\":\"Rect\"},\"hover_glyph\":null,\"muted_glyph\":null},\"id\":\"7fc06c71-a99b-481c-b720-973005376e24\",\"type\":\"GlyphRenderer\"},{\"attributes\":{\"fill_alpha\":{\"field\":\"fill_alpha\"},\"fill_color\":{\"field\":\"color\"},\"height\":{\"field\":\"height\",\"units\":\"data\"},\"line_color\":{\"field\":\"line_color\"},\"width\":{\"field\":\"width\",\"units\":\"data\"},\"x\":{\"field\":\"x\"},\"y\":{\"field\":\"y\"}},\"id\":\"6587f676-6a40-40c9-b659-a632ea2fd070\",\"type\":\"Rect\"},{\"attributes\":{\"callback\":null,\"column_names\":[\"x\",\"y\",\"width\",\"height\",\"color\",\"fill_alpha\",\"line_color\",\"line_alpha\",\"label\"],\"data\":{\"chart_index\":[\"(125.345550, 126.340314]\"],\"color\":[\"#f22c40\"],\"fill_alpha\":[0.8],\"height\":[0.0],\"label\":[\"(125.345550, 126.340314]\"],\"line_alpha\":[1.0],\"line_color\":[\"black\"],\"width\":[0.9947643979057545],\"x\":[\"125.842932\"],\"y\":[0.0]}},\"id\":\"f63fd688-5c03-4aec-9548-b6362a43aac5\",\"type\":\"ColumnDataSource\"},{\"attributes\":{\"data_source\":{\"id\":\"d9610a5f-d28d-4950-b1b5-30bbf68ca3d9\",\"type\":\"ColumnDataSource\"},\"glyph\":{\"id\":\"6cec53f5-8331-481b-91ec-a8c9623fabd0\",\"type\":\"Rect\"},\"hover_glyph\":null,\"muted_glyph\":null},\"id\":\"7b3cc707-522a-45ea-adcd-3823efcf5853\",\"type\":\"GlyphRenderer\"}],\"root_ids\":[\"53d9fb3e-3964-4a30-990b-e28fa9d24964\"]},\"title\":\"Bokeh Application\",\"version\":\"0.12.5\"}};\n",
       "            var render_items = [{\"docid\":\"9f890008-32ac-466c-ae8b-d4ea3a463717\",\"elementid\":\"82229706-f279-4f1c-8121-0825573d7f26\",\"modelid\":\"53d9fb3e-3964-4a30-990b-e28fa9d24964\"}];\n",
       "            \n",
       "            Bokeh.embed.embed_items(docs_json, render_items);\n",
       "          };\n",
       "          if (document.readyState != \"loading\") fn();\n",
       "          else document.addEventListener(\"DOMContentLoaded\", fn);\n",
       "        })();\n",
       "      },\n",
       "      function(Bokeh) {\n",
       "      }\n",
       "    ];\n",
       "  \n",
       "    function run_inline_js() {\n",
       "      \n",
       "      if ((window.Bokeh !== undefined) || (force === true)) {\n",
       "        for (var i = 0; i < inline_js.length; i++) {\n",
       "          inline_js[i](window.Bokeh);\n",
       "        }if (force === true) {\n",
       "          display_loaded();\n",
       "        }} else if (Date.now() < window._bokeh_timeout) {\n",
       "        setTimeout(run_inline_js, 100);\n",
       "      } else if (!window._bokeh_failed_load) {\n",
       "        console.log(\"Bokeh: BokehJS failed to load within specified timeout.\");\n",
       "        window._bokeh_failed_load = true;\n",
       "      } else if (force !== true) {\n",
       "        var cell = $(document.getElementById(\"82229706-f279-4f1c-8121-0825573d7f26\")).parents('.cell').data().cell;\n",
       "        cell.output_area.append_execute_result(NB_LOAD_WARNING)\n",
       "      }\n",
       "  \n",
       "    }\n",
       "  \n",
       "    if (window._bokeh_is_loading === 0) {\n",
       "      console.log(\"Bokeh: BokehJS loaded, going straight to plotting\");\n",
       "      run_inline_js();\n",
       "    } else {\n",
       "      load_libs(js_urls, function() {\n",
       "        console.log(\"Bokeh: BokehJS plotting callback run at\", now());\n",
       "        run_inline_js();\n",
       "      });\n",
       "    }\n",
       "  }(this));\n",
       "</script>"
      ]
     },
     "metadata": {},
     "output_type": "display_data"
    }
   ],
   "source": [
    "p3 = Histogram(location_elements_pivot, \n",
    "              'location-id-code',\n",
    "              title = \"Histogram of Locations Per Activity\", \n",
    "              bins=191)\n",
    "\n",
    "show(p3)"
   ]
  },
  {
   "cell_type": "markdown",
   "metadata": {},
   "source": [
    "Here all of the fields are used uniformly, and the distribution looks similar to recipient countries above, which represents the same challenge for usability when there are many locations to a given activity. Especially given that there is no simple way of associating those locations with the recipient-country elements, or the activities transactions."
   ]
  },
  {
   "cell_type": "markdown",
   "metadata": {},
   "source": [
    "#### Locations and Activity Scope\n",
    "\n",
    "Another method of assessing the geographical useability of the data is the check whether, in every activity with an activity scope of 'national' or below, there is a corresponding location element.\n"
   ]
  },
  {
   "cell_type": "code",
   "execution_count": 856,
   "metadata": {},
   "outputs": [
    {
     "name": "stderr",
     "output_type": "stream",
     "text": [
      "/home/rory/anaconda3/envs/py36/lib/python3.6/site-packages/ipykernel_launcher.py:11: FutureWarning: The behavior of this method will change in future versions. Use specific 'len(elem)' or 'elem is not None' test instead.\n",
      "  # This is added back by InteractiveShellApp.init_path()\n"
     ]
    }
   ],
   "source": [
    "locations_by_activity_scope = pd.DataFrame(\n",
    "    columns=[\n",
    "        'iati-identifier', 'activity-status', 'activity-scope',\n",
    "        'location-count'\n",
    "    ],\n",
    "    data=[[\n",
    "        activity.find('iati-identifier').text,\n",
    "        int(activity.find('activity-status').get('code')),\n",
    "        activity.find('activity-scope').get('code'),\n",
    "        len(activity.find('location')) if activity.find('location') else None\n",
    "    ] for activity in big_iati.xpath('iati-activity[activity-scope]')])\n",
    "\n",
    "locations_by_activity_scope.to_excel(pd_writer, \"Location Count by Scope\")\n",
    "\n",
    "locations_by_activity_national_or_lower = locations_by_activity_scope[\n",
    "    locations_by_activity_scope['activity-status'] >= 4]\n",
    "\n",
    "# locations_by_activity_national_or_lower TODO"
   ]
  },
  {
   "cell_type": "markdown",
   "metadata": {},
   "source": [
    "## Use Case 6: Verifying Financials (Deliverable 3.1.6)\n",
    "\n",
    "### Use Case\n",
    "\n",
    "_Verify that the financial data of a project “adds up” (e.g. comparing commitments to budgets and disbursements)_\n",
    "\n",
    "This section considers the existence and coverage of the relevant fields - budgets, commitments and transactions (broken down by type).\n",
    "\n",
    "### Budgets"
   ]
  },
  {
   "cell_type": "code",
   "execution_count": 857,
   "metadata": {},
   "outputs": [
    {
     "name": "stdout",
     "output_type": "stream",
     "text": [
      "3952 of the 3961 (99.77%) published activities contain budgets.\n"
     ]
    }
   ],
   "source": [
    "print(\"{} of the {} ({:.2%}) published activities contain budgets.\".\n",
    "      format(\n",
    "          len(big_iati.xpath(\"iati-activity[budget]\")),\n",
    "          len(big_iati),\n",
    "          len(big_iati.xpath(\"iati-activity[budget]\")) / len(big_iati)\n",
    "      ))"
   ]
  },
  {
   "cell_type": "markdown",
   "metadata": {},
   "source": [
    "### Transactions"
   ]
  },
  {
   "cell_type": "code",
   "execution_count": 858,
   "metadata": {},
   "outputs": [
    {
     "name": "stdout",
     "output_type": "stream",
     "text": [
      "The following transaction types are incuded in the analysed activities: {'2', '3'}\n"
     ]
    }
   ],
   "source": [
    "print(\n",
    "    \"The following transaction types are incuded in the analysed activities: {}\".\n",
    "    format(\n",
    "        set(\n",
    "            big_iati.xpath(\n",
    "                \"iati-activity/transaction/transaction-type/@code\"))))"
   ]
  },
  {
   "cell_type": "markdown",
   "metadata": {},
   "source": [
    "These types correspond to commitment and disbursement respectively (see [here](http://iatistandard.org/202/codelists/TransactionType/))."
   ]
  },
  {
   "cell_type": "code",
   "execution_count": 859,
   "metadata": {},
   "outputs": [
    {
     "name": "stdout",
     "output_type": "stream",
     "text": [
      "3952 of the 3961 (99.77%) published activities contain commitments.\n"
     ]
    }
   ],
   "source": [
    "print(\"{} of the {} ({:.2%}) published activities contain commitments.\".\n",
    "      format(\n",
    "          len(big_iati.xpath(\"iati-activity[transaction[transaction-type[@code='2']]]\")),\n",
    "          len(big_iati),\n",
    "          len(big_iati.xpath(\"iati-activity[transaction[transaction-type[@code='2']]]\")) / len(big_iati)\n",
    "      ))"
   ]
  },
  {
   "cell_type": "code",
   "execution_count": 860,
   "metadata": {},
   "outputs": [
    {
     "name": "stdout",
     "output_type": "stream",
     "text": [
      "3455 of the 3961 (87.23%) published activities contain commitments.\n"
     ]
    }
   ],
   "source": [
    "print(\"{} of the {} ({:.2%}) published activities contain commitments.\".\n",
    "      format(\n",
    "          len(big_iati.xpath(\"iati-activity[transaction[transaction-type[@code='3']]]\")),\n",
    "          len(big_iati),\n",
    "          len(big_iati.xpath(\"iati-activity[transaction[transaction-type[@code='3']]]\")) / len(big_iati)\n",
    "      ))"
   ]
  },
  {
   "cell_type": "markdown",
   "metadata": {},
   "source": [
    "From the above, it's clear that there is good coverage on the considered financial elements, with commitments being the lowest at just under 90% coverage.\n",
    "\n",
    "Without going into much more detail, this gives a prima facie indication of the number of activities for which 'adding' up the financials is possible, and it is possible that the drop in coverage for commitments is due to the timing of activities. Without a deeper analysis, we can't be certain of this at present."
   ]
  },
  {
   "cell_type": "markdown",
   "metadata": {},
   "source": [
    "### Planned Disbursements"
   ]
  },
  {
   "cell_type": "code",
   "execution_count": 861,
   "metadata": {},
   "outputs": [
    {
     "name": "stdout",
     "output_type": "stream",
     "text": [
      "1162 of the 3961 (29.34%) published activities planned disbursements.\n"
     ]
    }
   ],
   "source": [
    "print(\"{} of the {} ({:.2%}) published activities planned disbursements.\".\n",
    "      format(\n",
    "          len(big_iati.xpath(\"iati-activity[planned-disbursement]\")),\n",
    "          len(big_iati),\n",
    "          len(big_iati.xpath(\"iati-activity[planned-disbursement]\")) / len(big_iati)\n",
    "      ))"
   ]
  },
  {
   "cell_type": "markdown",
   "metadata": {},
   "source": [
    "Planned disbursements are an exception, it is possible that this is just a representation of the lower proportion of forward-looking activities."
   ]
  },
  {
   "cell_type": "markdown",
   "metadata": {},
   "source": [
    "### In Combination"
   ]
  },
  {
   "cell_type": "code",
   "execution_count": 862,
   "metadata": {},
   "outputs": [
    {
     "name": "stdout",
     "output_type": "stream",
     "text": [
      "3455 of the 3961 (87.23%) published activities budgets, commitments, and disbursements.\n"
     ]
    }
   ],
   "source": [
    "activities_with_budgets_commitments_disbursements = big_iati.xpath(\n",
    "    \"iati-activity[transaction[transaction-type[@code='2']] and \"\n",
    "    \"transaction[transaction-type[@code='3']] and \"\n",
    "    \"budget]\")\n",
    "\n",
    "print(\"{} of the {} ({:.2%}) published activities budgets, commitments, and disbursements.\".\n",
    "      format(\n",
    "          len(activities_with_budgets_commitments_disbursements),\n",
    "          len(big_iati),\n",
    "          len(activities_with_budgets_commitments_disbursements) / len(big_iati)\n",
    "      ))"
   ]
  },
  {
   "cell_type": "markdown",
   "metadata": {},
   "source": [
    "Disregarding planned disbursements, we can see that there is good coverage of activities which include each of the financial elements considered."
   ]
  },
  {
   "cell_type": "markdown",
   "metadata": {},
   "source": [
    "# Appendix 1: Data Workbook\n",
    "\n",
    "Throughout this report various analytical tables have been stored in separate sheets in the workbook found in the 'final' data folder under 'Compliance Report Data.xlsx'. The following cell saves the file:"
   ]
  },
  {
   "cell_type": "code",
   "execution_count": 863,
   "metadata": {
    "collapsed": true
   },
   "outputs": [],
   "source": [
    "pd_writer.save()"
   ]
  },
  {
   "cell_type": "code",
   "execution_count": 864,
   "metadata": {
    "collapsed": true
   },
   "outputs": [],
   "source": [
    "%%bash\n",
    "\n",
    "cp ../data/final/Compliance-Report-Data.xlsx _static/"
   ]
  },
  {
   "cell_type": "markdown",
   "metadata": {},
   "source": [
    "[Download Appendix One](../_static/Compliance-Report-Data.xlsx)"
   ]
  }
 ],
 "metadata": {
  "kernelspec": {
   "display_name": "Py36",
   "language": "python",
   "name": "py36"
  },
  "language_info": {
   "codemirror_mode": {
    "name": "ipython",
    "version": 3
   },
   "file_extension": ".py",
   "mimetype": "text/x-python",
   "name": "python",
   "nbconvert_exporter": "python",
   "pygments_lexer": "ipython3",
   "version": "3.6.1"
  },
  "toc": {
   "nav_menu": {
    "height": "636px",
    "width": "491px"
   },
   "number_sections": false,
   "sideBar": true,
   "skip_h1_title": false,
   "toc_cell": false,
   "toc_position": {
    "height": "858px",
    "left": "0px",
    "right": "1659px",
    "top": "107px",
    "width": "212px"
   },
   "toc_section_display": "block",
   "toc_window_display": true
  },
  "varInspector": {
   "cols": {
    "lenName": 16,
    "lenType": 16,
    "lenVar": 40
   },
   "kernels_config": {
    "python": {
     "delete_cmd_postfix": "",
     "delete_cmd_prefix": "del ",
     "library": "var_list.py",
     "varRefreshCmd": "print(var_dic_list())"
    },
    "r": {
     "delete_cmd_postfix": ") ",
     "delete_cmd_prefix": "rm(",
     "library": "var_list.r",
     "varRefreshCmd": "cat(var_dic_list()) "
    }
   },
   "position": {
    "height": "542px",
    "left": "868.797px",
    "right": "20px",
    "top": "39px",
    "width": "350px"
   },
   "types_to_exclude": [
    "module",
    "function",
    "builtin_function_or_method",
    "instance",
    "_Feature"
   ],
   "window_display": false
  }
 },
 "nbformat": 4,
 "nbformat_minor": 2
}
