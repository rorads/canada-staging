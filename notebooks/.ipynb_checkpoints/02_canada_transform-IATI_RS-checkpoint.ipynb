{
 "cells": [
  {
   "cell_type": "markdown",
   "metadata": {},
   "source": [
    "[**⬆️ Back to the index notebook**](./00_Index.ipynb)"
   ]
  },
  {
   "cell_type": "code",
   "execution_count": 4,
   "metadata": {},
   "outputs": [
    {
     "data": {
      "text/html": [
       "<script>code_show=true; function code_toggle() { if (code_show){ $('div.input').hide(); } else { $('div.input').show(); } code_show = !code_show} $( document ).ready(code_toggle);</script><form action=\"javascript:code_toggle()\"><input type=\"submit\" value=\"Click here to toggle on/off the raw code.\"></form>"
      ],
      "text/plain": [
       "<IPython.core.display.HTML object>"
      ]
     },
     "execution_count": 4,
     "metadata": {},
     "output_type": "execute_result"
    }
   ],
   "source": [
    "from IPython.display import HTML\n",
    "HTML('''<script>code_show=true; function code_toggle() { if (code_show){ $('div.input').hide(); } else { $('div.input').show(); } code_show = !code_show} $( document ).ready(code_toggle);</script><form action=\"javascript:code_toggle()\"><input type=\"submit\" value=\"Click here to toggle on/off the raw code.\"></form>''')"
   ]
  },
  {
   "cell_type": "markdown",
   "metadata": {},
   "source": [
    "### Setup"
   ]
  },
  {
   "cell_type": "code",
   "execution_count": 5,
   "metadata": {
    "collapsed": true
   },
   "outputs": [],
   "source": [
    "import lxml.etree as ET\n",
    "import bokeh\n",
    "import pandas as pd\n",
    "import os\n",
    "pd.set_option('display.float_format', lambda x: '%.2f' % x)"
   ]
  },
  {
   "cell_type": "code",
   "execution_count": 6,
   "metadata": {
    "collapsed": true
   },
   "outputs": [],
   "source": [
    "# set directories\n",
    "RAW = os.path.join(\"..\",\"data\", \"raw\")\n",
    "INTERMEDIATE = os.path.join(\"..\",\"data\", \"intermediate\")\n",
    "FINAL = os.path.join(\"..\",\"data\", \"final\")"
   ]
  },
  {
   "cell_type": "markdown",
   "metadata": {},
   "source": [
    "### Getting and Merging the files"
   ]
  },
  {
   "cell_type": "code",
   "execution_count": 7,
   "metadata": {},
   "outputs": [
    {
     "name": "stdout",
     "output_type": "stream",
     "text": [
      "['../data/raw/status_2-3.xml', '../data/raw/status_4.xml']\n"
     ]
    }
   ],
   "source": [
    "# Show IATI files available\n",
    "file_names = [os.path.join(RAW,name) for name in os.listdir(RAW) if name.endswith(\".xml\")]\n",
    "print(file_names)"
   ]
  },
  {
   "cell_type": "code",
   "execution_count": 8,
   "metadata": {},
   "outputs": [
    {
     "name": "stdout",
     "output_type": "stream",
     "text": [
      "Combining 2 IATI files\n",
      "Files Merged: \n",
      "|--> ../data/raw/status_2-3.xml\t\t:\t1172\n",
      "|--> ../data/raw/status_4.xml\t\t:\t2718\n",
      "|----> total\t\t\t\t:\t3890\n"
     ]
    }
   ],
   "source": [
    "# This cell takes all of the XML IATI files in the 'raw' directory and merges them into one file\n",
    "\n",
    "print(\"Combining {} IATI files\".format(len(file_names)))\n",
    "\n",
    "big_iati = ET.parse(file_names[0]).getroot()\n",
    "\n",
    "merge_log = {file_names[0]: len(big_iati.getchildren())}\n",
    "\n",
    "for xml_file in file_names[1:]:\n",
    "    data = ET.parse(xml_file).getroot()\n",
    "    merge_log[xml_file] = len(data.getchildren())\n",
    "    big_iati.extend(data.getchildren())\n",
    "\n",
    "print(\"Files Merged: \")\n",
    "\n",
    "for file, activity_count in merge_log.items():\n",
    "    print(\"|--> {}\\t\\t:\\t{}\".format(file, activity_count))\n",
    "\n",
    "print(\"|----> {}\\t\\t:\\t{}\".format(\"total\\t\\t\", len(big_iati.getchildren())))"
   ]
  },
  {
   "cell_type": "code",
   "execution_count": 9,
   "metadata": {
    "collapsed": true
   },
   "outputs": [],
   "source": [
    "with open(os.path.join(INTERMEDIATE,\"combined.xml\"), \"wb\") as out_file:\n",
    "          out_file.write(ET.tostring(big_iati, encoding='utf8', pretty_print=True))"
   ]
  },
  {
   "cell_type": "markdown",
   "metadata": {},
   "source": [
    "### Flattening"
   ]
  },
  {
   "cell_type": "markdown",
   "metadata": {},
   "source": [
    "#### Activities"
   ]
  },
  {
   "cell_type": "code",
   "execution_count": 10,
   "metadata": {},
   "outputs": [
    {
     "data": {
      "text/html": [
       "<div>\n",
       "<style>\n",
       "    .dataframe thead tr:only-child th {\n",
       "        text-align: right;\n",
       "    }\n",
       "\n",
       "    .dataframe thead th {\n",
       "        text-align: left;\n",
       "    }\n",
       "\n",
       "    .dataframe tbody tr th {\n",
       "        vertical-align: top;\n",
       "    }\n",
       "</style>\n",
       "<table border=\"1\" class=\"dataframe\">\n",
       "  <thead>\n",
       "    <tr style=\"text-align: right;\">\n",
       "      <th></th>\n",
       "      <th>iati-identifier</th>\n",
       "    </tr>\n",
       "  </thead>\n",
       "  <tbody>\n",
       "    <tr>\n",
       "      <th>0</th>\n",
       "      <td>CA-3-A031268001</td>\n",
       "    </tr>\n",
       "    <tr>\n",
       "      <th>1</th>\n",
       "      <td>CA-3-A031470001</td>\n",
       "    </tr>\n",
       "    <tr>\n",
       "      <th>2</th>\n",
       "      <td>CA-3-A031708001</td>\n",
       "    </tr>\n",
       "    <tr>\n",
       "      <th>3</th>\n",
       "      <td>CA-3-A031708003</td>\n",
       "    </tr>\n",
       "    <tr>\n",
       "      <th>4</th>\n",
       "      <td>CA-3-A031717001</td>\n",
       "    </tr>\n",
       "  </tbody>\n",
       "</table>\n",
       "</div>"
      ],
      "text/plain": [
       "   iati-identifier\n",
       "0  CA-3-A031268001\n",
       "1  CA-3-A031470001\n",
       "2  CA-3-A031708001\n",
       "3  CA-3-A031708003\n",
       "4  CA-3-A031717001"
      ]
     },
     "execution_count": 10,
     "metadata": {},
     "output_type": "execute_result"
    }
   ],
   "source": [
    "activity_df = pd.DataFrame(\n",
    "    columns=[\n",
    "        'iati-identifier'\n",
    "    ], \n",
    "    data= [\n",
    "        [\n",
    "            activity.find('iati-identifier').text\n",
    "        ] for activity in big_iati.findall('iati-activity')\n",
    "    ])\n",
    "\n",
    "activity_df.head()"
   ]
  },
  {
   "cell_type": "markdown",
   "metadata": {},
   "source": [
    "#### Transactions"
   ]
  },
  {
   "cell_type": "code",
   "execution_count": 11,
   "metadata": {},
   "outputs": [
    {
     "data": {
      "text/html": [
       "<div>\n",
       "<style>\n",
       "    .dataframe thead tr:only-child th {\n",
       "        text-align: right;\n",
       "    }\n",
       "\n",
       "    .dataframe thead th {\n",
       "        text-align: left;\n",
       "    }\n",
       "\n",
       "    .dataframe tbody tr th {\n",
       "        vertical-align: top;\n",
       "    }\n",
       "</style>\n",
       "<table border=\"1\" class=\"dataframe\">\n",
       "  <thead>\n",
       "    <tr style=\"text-align: right;\">\n",
       "      <th></th>\n",
       "      <th>iati-identifier</th>\n",
       "      <th>activity-status</th>\n",
       "      <th>recipient-countries</th>\n",
       "      <th>recipient-regions</th>\n",
       "      <th>ref</th>\n",
       "      <th>humanitarian</th>\n",
       "      <th>transaction-type</th>\n",
       "      <th>transaction-date</th>\n",
       "      <th>value</th>\n",
       "      <th>receiver-org</th>\n",
       "    </tr>\n",
       "  </thead>\n",
       "  <tbody>\n",
       "    <tr>\n",
       "      <th>0</th>\n",
       "      <td>CA-3-A031268001</td>\n",
       "      <td>3</td>\n",
       "      <td>[{'AG': '8.97'}, {'AI': '8.97'}, {'BZ': '6.67'...</td>\n",
       "      <td>[]</td>\n",
       "      <td>None</td>\n",
       "      <td>None</td>\n",
       "      <td>2</td>\n",
       "      <td>2003-04-07</td>\n",
       "      <td>17933718.13</td>\n",
       "      <td>None</td>\n",
       "    </tr>\n",
       "    <tr>\n",
       "      <th>1</th>\n",
       "      <td>CA-3-A031268001</td>\n",
       "      <td>3</td>\n",
       "      <td>[{'AG': '8.97'}, {'AI': '8.97'}, {'BZ': '6.67'...</td>\n",
       "      <td>[]</td>\n",
       "      <td>None</td>\n",
       "      <td>None</td>\n",
       "      <td>3</td>\n",
       "      <td>2003-09-18</td>\n",
       "      <td>500000.00</td>\n",
       "      <td>None</td>\n",
       "    </tr>\n",
       "    <tr>\n",
       "      <th>2</th>\n",
       "      <td>CA-3-A031268001</td>\n",
       "      <td>3</td>\n",
       "      <td>[{'AG': '8.97'}, {'AI': '8.97'}, {'BZ': '6.67'...</td>\n",
       "      <td>[]</td>\n",
       "      <td>None</td>\n",
       "      <td>None</td>\n",
       "      <td>3</td>\n",
       "      <td>2003-12-05</td>\n",
       "      <td>101000.00</td>\n",
       "      <td>None</td>\n",
       "    </tr>\n",
       "    <tr>\n",
       "      <th>3</th>\n",
       "      <td>CA-3-A031268001</td>\n",
       "      <td>3</td>\n",
       "      <td>[{'AG': '8.97'}, {'AI': '8.97'}, {'BZ': '6.67'...</td>\n",
       "      <td>[]</td>\n",
       "      <td>None</td>\n",
       "      <td>None</td>\n",
       "      <td>3</td>\n",
       "      <td>2004-02-19</td>\n",
       "      <td>41000.00</td>\n",
       "      <td>None</td>\n",
       "    </tr>\n",
       "    <tr>\n",
       "      <th>4</th>\n",
       "      <td>CA-3-A031268001</td>\n",
       "      <td>3</td>\n",
       "      <td>[{'AG': '8.97'}, {'AI': '8.97'}, {'BZ': '6.67'...</td>\n",
       "      <td>[]</td>\n",
       "      <td>None</td>\n",
       "      <td>None</td>\n",
       "      <td>3</td>\n",
       "      <td>2004-04-05</td>\n",
       "      <td>250000.00</td>\n",
       "      <td>None</td>\n",
       "    </tr>\n",
       "  </tbody>\n",
       "</table>\n",
       "</div>"
      ],
      "text/plain": [
       "   iati-identifier activity-status  \\\n",
       "0  CA-3-A031268001               3   \n",
       "1  CA-3-A031268001               3   \n",
       "2  CA-3-A031268001               3   \n",
       "3  CA-3-A031268001               3   \n",
       "4  CA-3-A031268001               3   \n",
       "\n",
       "                                 recipient-countries recipient-regions   ref  \\\n",
       "0  [{'AG': '8.97'}, {'AI': '8.97'}, {'BZ': '6.67'...                []  None   \n",
       "1  [{'AG': '8.97'}, {'AI': '8.97'}, {'BZ': '6.67'...                []  None   \n",
       "2  [{'AG': '8.97'}, {'AI': '8.97'}, {'BZ': '6.67'...                []  None   \n",
       "3  [{'AG': '8.97'}, {'AI': '8.97'}, {'BZ': '6.67'...                []  None   \n",
       "4  [{'AG': '8.97'}, {'AI': '8.97'}, {'BZ': '6.67'...                []  None   \n",
       "\n",
       "  humanitarian transaction-type transaction-date       value receiver-org  \n",
       "0         None                2       2003-04-07 17933718.13         None  \n",
       "1         None                3       2003-09-18   500000.00         None  \n",
       "2         None                3       2003-12-05   101000.00         None  \n",
       "3         None                3       2004-02-19    41000.00         None  \n",
       "4         None                3       2004-04-05   250000.00         None  "
      ]
     },
     "execution_count": 11,
     "metadata": {},
     "output_type": "execute_result"
    }
   ],
   "source": [
    "transaction_df = pd.DataFrame(columns=\n",
    "                              [\n",
    "                                  'iati-identifier', \n",
    "                                  'activity-status',\n",
    "                                  'recipient-countries',\n",
    "                                  'recipient-regions',\n",
    "                                  'ref', \n",
    "                                  'humanitarian', \n",
    "                                  'transaction-type', \n",
    "                                  'transaction-date', \n",
    "                                  'value', \n",
    "                                  'receiver-org'\n",
    "                              ], \n",
    "                              data = [\n",
    "                                  [\n",
    "                                      transaction.getparent().find('iati-identifier').text,\n",
    "                                      transaction.getparent().find('activity-status').get('code'),\n",
    "                                      [{country.get('code'): country.get('percentage')} for country in transaction.getparent().findall('recipient-country')],\n",
    "                                      [{region.get('code'): region.get('percentage')} for region in transaction.getparent().findall('recipient-region')],\n",
    "                                      transaction.get('ref'),\n",
    "                                      transaction.get('humanitarian'),\n",
    "                                      transaction.find('transaction-type').get('code'),\n",
    "                                      transaction.find('transaction-date').get('iso-date'),\n",
    "                                      float(transaction.find('value').text),\n",
    "                                      transaction.find('receiver-org').get('ref') if transaction.find('receiver-org') is not None else None\n",
    "                                  ] for transaction in big_iati.findall('iati-activity/transaction')\n",
    "])\n",
    "\n",
    "transaction_df.head()\n"
   ]
  },
  {
   "cell_type": "code",
   "execution_count": 16,
   "metadata": {},
   "outputs": [
    {
     "data": {
      "text/html": [
       "\n",
       "    <div class=\"bk-root\">\n",
       "        <a href=\"http://bokeh.pydata.org\" target=\"_blank\" class=\"bk-logo bk-logo-small bk-logo-notebook\"></a>\n",
       "        <span id=\"eecc81a5-5406-47d8-9c5c-e4272017115d\">Loading BokehJS ...</span>\n",
       "    </div>"
      ]
     },
     "metadata": {},
     "output_type": "display_data"
    },
    {
     "data": {
      "application/javascript": [
       "\n",
       "(function(global) {\n",
       "  function now() {\n",
       "    return new Date();\n",
       "  }\n",
       "\n",
       "  var force = true;\n",
       "\n",
       "  if (typeof (window._bokeh_onload_callbacks) === \"undefined\" || force === true) {\n",
       "    window._bokeh_onload_callbacks = [];\n",
       "    window._bokeh_is_loading = undefined;\n",
       "  }\n",
       "\n",
       "\n",
       "  \n",
       "  if (typeof (window._bokeh_timeout) === \"undefined\" || force === true) {\n",
       "    window._bokeh_timeout = Date.now() + 5000;\n",
       "    window._bokeh_failed_load = false;\n",
       "  }\n",
       "\n",
       "  var NB_LOAD_WARNING = {'data': {'text/html':\n",
       "     \"<div style='background-color: #fdd'>\\n\"+\n",
       "     \"<p>\\n\"+\n",
       "     \"BokehJS does not appear to have successfully loaded. If loading BokehJS from CDN, this \\n\"+\n",
       "     \"may be due to a slow or bad network connection. Possible fixes:\\n\"+\n",
       "     \"</p>\\n\"+\n",
       "     \"<ul>\\n\"+\n",
       "     \"<li>re-rerun `output_notebook()` to attempt to load from CDN again, or</li>\\n\"+\n",
       "     \"<li>use INLINE resources instead, as so:</li>\\n\"+\n",
       "     \"</ul>\\n\"+\n",
       "     \"<code>\\n\"+\n",
       "     \"from bokeh.resources import INLINE\\n\"+\n",
       "     \"output_notebook(resources=INLINE)\\n\"+\n",
       "     \"</code>\\n\"+\n",
       "     \"</div>\"}};\n",
       "\n",
       "  function display_loaded() {\n",
       "    if (window.Bokeh !== undefined) {\n",
       "      var el = document.getElementById(\"eecc81a5-5406-47d8-9c5c-e4272017115d\");\n",
       "      el.textContent = \"BokehJS \" + Bokeh.version + \" successfully loaded.\";\n",
       "    } else if (Date.now() < window._bokeh_timeout) {\n",
       "      setTimeout(display_loaded, 100)\n",
       "    }\n",
       "  }\n",
       "\n",
       "  function run_callbacks() {\n",
       "    window._bokeh_onload_callbacks.forEach(function(callback) { callback() });\n",
       "    delete window._bokeh_onload_callbacks\n",
       "    console.info(\"Bokeh: all callbacks have finished\");\n",
       "  }\n",
       "\n",
       "  function load_libs(js_urls, callback) {\n",
       "    window._bokeh_onload_callbacks.push(callback);\n",
       "    if (window._bokeh_is_loading > 0) {\n",
       "      console.log(\"Bokeh: BokehJS is being loaded, scheduling callback at\", now());\n",
       "      return null;\n",
       "    }\n",
       "    if (js_urls == null || js_urls.length === 0) {\n",
       "      run_callbacks();\n",
       "      return null;\n",
       "    }\n",
       "    console.log(\"Bokeh: BokehJS not loaded, scheduling load and callback at\", now());\n",
       "    window._bokeh_is_loading = js_urls.length;\n",
       "    for (var i = 0; i < js_urls.length; i++) {\n",
       "      var url = js_urls[i];\n",
       "      var s = document.createElement('script');\n",
       "      s.src = url;\n",
       "      s.async = false;\n",
       "      s.onreadystatechange = s.onload = function() {\n",
       "        window._bokeh_is_loading--;\n",
       "        if (window._bokeh_is_loading === 0) {\n",
       "          console.log(\"Bokeh: all BokehJS libraries loaded\");\n",
       "          run_callbacks()\n",
       "        }\n",
       "      };\n",
       "      s.onerror = function() {\n",
       "        console.warn(\"failed to load library \" + url);\n",
       "      };\n",
       "      console.log(\"Bokeh: injecting script tag for BokehJS library: \", url);\n",
       "      document.getElementsByTagName(\"head\")[0].appendChild(s);\n",
       "    }\n",
       "  };var element = document.getElementById(\"eecc81a5-5406-47d8-9c5c-e4272017115d\");\n",
       "  if (element == null) {\n",
       "    console.log(\"Bokeh: ERROR: autoload.js configured with elementid 'eecc81a5-5406-47d8-9c5c-e4272017115d' but no matching script tag was found. \")\n",
       "    return false;\n",
       "  }\n",
       "\n",
       "  var js_urls = [\"https://cdn.pydata.org/bokeh/release/bokeh-0.12.5.min.js\", \"https://cdn.pydata.org/bokeh/release/bokeh-widgets-0.12.5.min.js\"];\n",
       "\n",
       "  var inline_js = [\n",
       "    function(Bokeh) {\n",
       "      Bokeh.set_log_level(\"info\");\n",
       "    },\n",
       "    \n",
       "    function(Bokeh) {\n",
       "      \n",
       "    },\n",
       "    \n",
       "    function(Bokeh) {\n",
       "      \n",
       "      document.getElementById(\"eecc81a5-5406-47d8-9c5c-e4272017115d\").textContent = \"BokehJS is loading...\";\n",
       "    },\n",
       "    function(Bokeh) {\n",
       "      console.log(\"Bokeh: injecting CSS: https://cdn.pydata.org/bokeh/release/bokeh-0.12.5.min.css\");\n",
       "      Bokeh.embed.inject_css(\"https://cdn.pydata.org/bokeh/release/bokeh-0.12.5.min.css\");\n",
       "      console.log(\"Bokeh: injecting CSS: https://cdn.pydata.org/bokeh/release/bokeh-widgets-0.12.5.min.css\");\n",
       "      Bokeh.embed.inject_css(\"https://cdn.pydata.org/bokeh/release/bokeh-widgets-0.12.5.min.css\");\n",
       "    }\n",
       "  ];\n",
       "\n",
       "  function run_inline_js() {\n",
       "    \n",
       "    if ((window.Bokeh !== undefined) || (force === true)) {\n",
       "      for (var i = 0; i < inline_js.length; i++) {\n",
       "        inline_js[i](window.Bokeh);\n",
       "      }if (force === true) {\n",
       "        display_loaded();\n",
       "      }} else if (Date.now() < window._bokeh_timeout) {\n",
       "      setTimeout(run_inline_js, 100);\n",
       "    } else if (!window._bokeh_failed_load) {\n",
       "      console.log(\"Bokeh: BokehJS failed to load within specified timeout.\");\n",
       "      window._bokeh_failed_load = true;\n",
       "    } else if (force !== true) {\n",
       "      var cell = $(document.getElementById(\"eecc81a5-5406-47d8-9c5c-e4272017115d\")).parents('.cell').data().cell;\n",
       "      cell.output_area.append_execute_result(NB_LOAD_WARNING)\n",
       "    }\n",
       "\n",
       "  }\n",
       "\n",
       "  if (window._bokeh_is_loading === 0) {\n",
       "    console.log(\"Bokeh: BokehJS loaded, going straight to plotting\");\n",
       "    run_inline_js();\n",
       "  } else {\n",
       "    load_libs(js_urls, function() {\n",
       "      console.log(\"Bokeh: BokehJS plotting callback run at\", now());\n",
       "      run_inline_js();\n",
       "    });\n",
       "  }\n",
       "}(this));"
      ]
     },
     "metadata": {},
     "output_type": "display_data"
    },
    {
     "data": {
      "text/html": [
       "\n",
       "\n",
       "    <div class=\"bk-root\">\n",
       "        <div class=\"bk-plotdiv\" id=\"1f7b0971-2967-47fe-aab3-0b0fe5f3125b\"></div>\n",
       "    </div>\n",
       "<script type=\"text/javascript\">\n",
       "  \n",
       "  (function(global) {\n",
       "    function now() {\n",
       "      return new Date();\n",
       "    }\n",
       "  \n",
       "    var force = false;\n",
       "  \n",
       "    if (typeof (window._bokeh_onload_callbacks) === \"undefined\" || force === true) {\n",
       "      window._bokeh_onload_callbacks = [];\n",
       "      window._bokeh_is_loading = undefined;\n",
       "    }\n",
       "  \n",
       "  \n",
       "    \n",
       "    if (typeof (window._bokeh_timeout) === \"undefined\" || force === true) {\n",
       "      window._bokeh_timeout = Date.now() + 0;\n",
       "      window._bokeh_failed_load = false;\n",
       "    }\n",
       "  \n",
       "    var NB_LOAD_WARNING = {'data': {'text/html':\n",
       "       \"<div style='background-color: #fdd'>\\n\"+\n",
       "       \"<p>\\n\"+\n",
       "       \"BokehJS does not appear to have successfully loaded. If loading BokehJS from CDN, this \\n\"+\n",
       "       \"may be due to a slow or bad network connection. Possible fixes:\\n\"+\n",
       "       \"</p>\\n\"+\n",
       "       \"<ul>\\n\"+\n",
       "       \"<li>re-rerun `output_notebook()` to attempt to load from CDN again, or</li>\\n\"+\n",
       "       \"<li>use INLINE resources instead, as so:</li>\\n\"+\n",
       "       \"</ul>\\n\"+\n",
       "       \"<code>\\n\"+\n",
       "       \"from bokeh.resources import INLINE\\n\"+\n",
       "       \"output_notebook(resources=INLINE)\\n\"+\n",
       "       \"</code>\\n\"+\n",
       "       \"</div>\"}};\n",
       "  \n",
       "    function display_loaded() {\n",
       "      if (window.Bokeh !== undefined) {\n",
       "        var el = document.getElementById(\"1f7b0971-2967-47fe-aab3-0b0fe5f3125b\");\n",
       "        el.textContent = \"BokehJS \" + Bokeh.version + \" successfully loaded.\";\n",
       "      } else if (Date.now() < window._bokeh_timeout) {\n",
       "        setTimeout(display_loaded, 100)\n",
       "      }\n",
       "    }\n",
       "  \n",
       "    function run_callbacks() {\n",
       "      window._bokeh_onload_callbacks.forEach(function(callback) { callback() });\n",
       "      delete window._bokeh_onload_callbacks\n",
       "      console.info(\"Bokeh: all callbacks have finished\");\n",
       "    }\n",
       "  \n",
       "    function load_libs(js_urls, callback) {\n",
       "      window._bokeh_onload_callbacks.push(callback);\n",
       "      if (window._bokeh_is_loading > 0) {\n",
       "        console.log(\"Bokeh: BokehJS is being loaded, scheduling callback at\", now());\n",
       "        return null;\n",
       "      }\n",
       "      if (js_urls == null || js_urls.length === 0) {\n",
       "        run_callbacks();\n",
       "        return null;\n",
       "      }\n",
       "      console.log(\"Bokeh: BokehJS not loaded, scheduling load and callback at\", now());\n",
       "      window._bokeh_is_loading = js_urls.length;\n",
       "      for (var i = 0; i < js_urls.length; i++) {\n",
       "        var url = js_urls[i];\n",
       "        var s = document.createElement('script');\n",
       "        s.src = url;\n",
       "        s.async = false;\n",
       "        s.onreadystatechange = s.onload = function() {\n",
       "          window._bokeh_is_loading--;\n",
       "          if (window._bokeh_is_loading === 0) {\n",
       "            console.log(\"Bokeh: all BokehJS libraries loaded\");\n",
       "            run_callbacks()\n",
       "          }\n",
       "        };\n",
       "        s.onerror = function() {\n",
       "          console.warn(\"failed to load library \" + url);\n",
       "        };\n",
       "        console.log(\"Bokeh: injecting script tag for BokehJS library: \", url);\n",
       "        document.getElementsByTagName(\"head\")[0].appendChild(s);\n",
       "      }\n",
       "    };var element = document.getElementById(\"1f7b0971-2967-47fe-aab3-0b0fe5f3125b\");\n",
       "    if (element == null) {\n",
       "      console.log(\"Bokeh: ERROR: autoload.js configured with elementid '1f7b0971-2967-47fe-aab3-0b0fe5f3125b' but no matching script tag was found. \")\n",
       "      return false;\n",
       "    }\n",
       "  \n",
       "    var js_urls = [];\n",
       "  \n",
       "    var inline_js = [\n",
       "      function(Bokeh) {\n",
       "        (function() {\n",
       "          var fn = function() {\n",
       "            var docs_json = {\"c92fb03b-18ee-44ab-b479-02b283063ddd\":{\"roots\":{\"references\":[{\"attributes\":{\"bottom_units\":\"screen\",\"fill_alpha\":{\"value\":0.5},\"fill_color\":{\"value\":\"lightgrey\"},\"left_units\":\"screen\",\"level\":\"overlay\",\"line_alpha\":{\"value\":1.0},\"line_color\":{\"value\":\"black\"},\"line_dash\":[4,4],\"line_width\":{\"value\":2},\"plot\":null,\"render_mode\":\"css\",\"right_units\":\"screen\",\"top_units\":\"screen\"},\"id\":\"0e15572b-d2c2-4547-b2c0-e14f8bb33788\",\"type\":\"BoxAnnotation\"},{\"attributes\":{\"plot\":{\"id\":\"89dc9179-d6cc-40ca-b67a-c72593664ced\",\"subtype\":\"Chart\",\"type\":\"Plot\"}},\"id\":\"9d61363c-d4e5-4302-9581-2e69ac67e18e\",\"type\":\"PanTool\"},{\"attributes\":{\"items\":[{\"id\":\"7377f4e4-6fc6-41ed-b3c6-dfb5a8b2f47a\",\"type\":\"LegendItem\"},{\"id\":\"1777b399-4bbe-4c3b-a1f7-5408d1cd0fa6\",\"type\":\"LegendItem\"},{\"id\":\"a9a58788-14ef-4814-98cd-19574f0b6032\",\"type\":\"LegendItem\"}],\"location\":\"top_left\",\"plot\":{\"id\":\"89dc9179-d6cc-40ca-b67a-c72593664ced\",\"subtype\":\"Chart\",\"type\":\"Plot\"}},\"id\":\"07698afb-24ff-4d66-892b-ca8df646803f\",\"type\":\"Legend\"},{\"attributes\":{\"callback\":null,\"column_names\":[\"x\",\"y\",\"width\",\"height\",\"color\",\"fill_alpha\",\"line_color\",\"line_alpha\",\"label\"],\"data\":{\"activity-status\":[\"3\"],\"chart_index\":[{\"activity-status\":\"3\"}],\"color\":[\"#f22c40\"],\"fill_alpha\":[0.8],\"height\":[6422820795.170043],\"label\":[{\"activity-status\":\"3\"}],\"line_alpha\":[1.0],\"line_color\":[\"white\"],\"width\":[0.8],\"x\":[\"3\"],\"y\":[3211410397.5850215]}},\"id\":\"e2a7ce2d-2dc7-4302-8724-9f1763ecdef5\",\"type\":\"ColumnDataSource\"},{\"attributes\":{\"dimension\":1,\"plot\":{\"id\":\"89dc9179-d6cc-40ca-b67a-c72593664ced\",\"subtype\":\"Chart\",\"type\":\"Plot\"},\"ticker\":{\"id\":\"74012be3-2c27-4001-8d01-c209df8378ee\",\"type\":\"BasicTicker\"}},\"id\":\"6cf96d23-fc89-4267-97ea-185454e8cc7e\",\"type\":\"Grid\"},{\"attributes\":{\"callback\":null,\"end\":29844301684.963417},\"id\":\"1cf8966d-e9f7-4c3a-b511-37eb238253fb\",\"type\":\"Range1d\"},{\"attributes\":{\"fill_alpha\":{\"field\":\"fill_alpha\"},\"fill_color\":{\"field\":\"color\"},\"height\":{\"field\":\"height\",\"units\":\"data\"},\"line_color\":{\"field\":\"line_color\"},\"width\":{\"field\":\"width\",\"units\":\"data\"},\"x\":{\"field\":\"x\"},\"y\":{\"field\":\"y\"}},\"id\":\"5ef23b62-69ae-4516-b8eb-141ec4cfc741\",\"type\":\"Rect\"},{\"attributes\":{\"label\":{\"value\":\"4\"},\"renderers\":[{\"id\":\"9c37e40d-e7b3-4c10-b13d-3aa4ab5b9ff3\",\"type\":\"GlyphRenderer\"}]},\"id\":\"a9a58788-14ef-4814-98cd-19574f0b6032\",\"type\":\"LegendItem\"},{\"attributes\":{\"callback\":null,\"column_names\":[\"x\",\"y\",\"width\",\"height\",\"color\",\"fill_alpha\",\"line_color\",\"line_alpha\",\"label\"],\"data\":{\"activity-status\":[\"4\"],\"chart_index\":[{\"activity-status\":\"4\"}],\"color\":[\"#f22c40\"],\"fill_alpha\":[0.8],\"height\":[28423144461.869923],\"label\":[{\"activity-status\":\"4\"}],\"line_alpha\":[1.0],\"line_color\":[\"white\"],\"width\":[0.8],\"x\":[\"4\"],\"y\":[14211572230.934961]}},\"id\":\"439b3547-30c7-43f3-ab40-211678cd4343\",\"type\":\"ColumnDataSource\"},{\"attributes\":{},\"id\":\"cdf86a73-560a-4fd6-a139-629aa96df61c\",\"type\":\"BasicTickFormatter\"},{\"attributes\":{\"data_source\":{\"id\":\"e2a7ce2d-2dc7-4302-8724-9f1763ecdef5\",\"type\":\"ColumnDataSource\"},\"glyph\":{\"id\":\"5ef23b62-69ae-4516-b8eb-141ec4cfc741\",\"type\":\"Rect\"},\"hover_glyph\":null,\"muted_glyph\":null},\"id\":\"d6e4a1cb-19a3-4214-87e9-4c1665a67768\",\"type\":\"GlyphRenderer\"},{\"attributes\":{\"fill_alpha\":{\"field\":\"fill_alpha\"},\"fill_color\":{\"field\":\"color\"},\"height\":{\"field\":\"height\",\"units\":\"data\"},\"line_color\":{\"field\":\"line_color\"},\"width\":{\"field\":\"width\",\"units\":\"data\"},\"x\":{\"field\":\"x\"},\"y\":{\"field\":\"y\"}},\"id\":\"ad08a6ad-8251-4261-b0d0-316fe0b0fbde\",\"type\":\"Rect\"},{\"attributes\":{\"overlay\":{\"id\":\"0e15572b-d2c2-4547-b2c0-e14f8bb33788\",\"type\":\"BoxAnnotation\"},\"plot\":{\"id\":\"89dc9179-d6cc-40ca-b67a-c72593664ced\",\"subtype\":\"Chart\",\"type\":\"Plot\"}},\"id\":\"91644cd8-0d9c-45fe-9ce7-80219cf20bf5\",\"type\":\"BoxZoomTool\"},{\"attributes\":{},\"id\":\"812cb238-319b-445a-bb58-ca9048a9becc\",\"type\":\"CategoricalTicker\"},{\"attributes\":{\"plot\":{\"id\":\"89dc9179-d6cc-40ca-b67a-c72593664ced\",\"subtype\":\"Chart\",\"type\":\"Plot\"}},\"id\":\"1a97a806-bf00-420a-8f5f-055ab8821234\",\"type\":\"SaveTool\"},{\"attributes\":{\"plot\":{\"id\":\"89dc9179-d6cc-40ca-b67a-c72593664ced\",\"subtype\":\"Chart\",\"type\":\"Plot\"}},\"id\":\"d99724fd-4e0d-41ec-89ac-8fab591355f0\",\"type\":\"ResetTool\"},{\"attributes\":{},\"id\":\"1a6991b4-8fdf-43a0-b680-00c286825653\",\"type\":\"ToolEvents\"},{\"attributes\":{\"label\":{\"value\":\"2\"},\"renderers\":[{\"id\":\"c6c6a7a0-5bb7-482c-91f7-baeb71be1438\",\"type\":\"GlyphRenderer\"}]},\"id\":\"1777b399-4bbe-4c3b-a1f7-5408d1cd0fa6\",\"type\":\"LegendItem\"},{\"attributes\":{\"below\":[{\"id\":\"b15df69c-78df-46e5-adeb-1f084acc6760\",\"type\":\"CategoricalAxis\"}],\"css_classes\":null,\"left\":[{\"id\":\"8f1b8aa3-50ce-4d4e-ae79-f4c32ed6acb3\",\"type\":\"LinearAxis\"}],\"renderers\":[{\"id\":\"0e15572b-d2c2-4547-b2c0-e14f8bb33788\",\"type\":\"BoxAnnotation\"},{\"id\":\"d6e4a1cb-19a3-4214-87e9-4c1665a67768\",\"type\":\"GlyphRenderer\"},{\"id\":\"c6c6a7a0-5bb7-482c-91f7-baeb71be1438\",\"type\":\"GlyphRenderer\"},{\"id\":\"9c37e40d-e7b3-4c10-b13d-3aa4ab5b9ff3\",\"type\":\"GlyphRenderer\"},{\"id\":\"07698afb-24ff-4d66-892b-ca8df646803f\",\"type\":\"Legend\"},{\"id\":\"b15df69c-78df-46e5-adeb-1f084acc6760\",\"type\":\"CategoricalAxis\"},{\"id\":\"8f1b8aa3-50ce-4d4e-ae79-f4c32ed6acb3\",\"type\":\"LinearAxis\"},{\"id\":\"6cf96d23-fc89-4267-97ea-185454e8cc7e\",\"type\":\"Grid\"}],\"title\":{\"id\":\"a81d58b5-d4bd-40c6-b293-9a41ffe13a02\",\"type\":\"Title\"},\"tool_events\":{\"id\":\"1a6991b4-8fdf-43a0-b680-00c286825653\",\"type\":\"ToolEvents\"},\"toolbar\":{\"id\":\"1e521c0e-a63a-4a78-a8ff-33c75df35db9\",\"type\":\"Toolbar\"},\"x_mapper_type\":\"auto\",\"x_range\":{\"id\":\"a54d52c7-7a3d-41d4-a445-feac81c82e3e\",\"type\":\"FactorRange\"},\"y_mapper_type\":\"auto\",\"y_range\":{\"id\":\"1cf8966d-e9f7-4c3a-b511-37eb238253fb\",\"type\":\"Range1d\"}},\"id\":\"89dc9179-d6cc-40ca-b67a-c72593664ced\",\"subtype\":\"Chart\",\"type\":\"Plot\"},{\"attributes\":{\"data_source\":{\"id\":\"68c46c6b-41d9-4c2e-9e93-f7a00deb1725\",\"type\":\"ColumnDataSource\"},\"glyph\":{\"id\":\"ad08a6ad-8251-4261-b0d0-316fe0b0fbde\",\"type\":\"Rect\"},\"hover_glyph\":null,\"muted_glyph\":null},\"id\":\"c6c6a7a0-5bb7-482c-91f7-baeb71be1438\",\"type\":\"GlyphRenderer\"},{\"attributes\":{\"axis_label\":\"Activity-Status\",\"formatter\":{\"id\":\"207172e1-c123-4a3a-b70e-7b16ee3df347\",\"type\":\"CategoricalTickFormatter\"},\"major_label_orientation\":0.7853981633974483,\"plot\":{\"id\":\"89dc9179-d6cc-40ca-b67a-c72593664ced\",\"subtype\":\"Chart\",\"type\":\"Plot\"},\"ticker\":{\"id\":\"812cb238-319b-445a-bb58-ca9048a9becc\",\"type\":\"CategoricalTicker\"}},\"id\":\"b15df69c-78df-46e5-adeb-1f084acc6760\",\"type\":\"CategoricalAxis\"},{\"attributes\":{\"plot\":null,\"text\":\"test\"},\"id\":\"a81d58b5-d4bd-40c6-b293-9a41ffe13a02\",\"type\":\"Title\"},{\"attributes\":{\"fill_alpha\":{\"field\":\"fill_alpha\"},\"fill_color\":{\"field\":\"color\"},\"height\":{\"field\":\"height\",\"units\":\"data\"},\"line_color\":{\"field\":\"line_color\"},\"width\":{\"field\":\"width\",\"units\":\"data\"},\"x\":{\"field\":\"x\"},\"y\":{\"field\":\"y\"}},\"id\":\"feff9f17-c213-4c07-adef-10e630d4476c\",\"type\":\"Rect\"},{\"attributes\":{\"active_drag\":\"auto\",\"active_scroll\":\"auto\",\"active_tap\":\"auto\",\"tools\":[{\"id\":\"9d61363c-d4e5-4302-9581-2e69ac67e18e\",\"type\":\"PanTool\"},{\"id\":\"55b3db13-ee08-4cef-9ec8-3f4b5e3bda1b\",\"type\":\"WheelZoomTool\"},{\"id\":\"91644cd8-0d9c-45fe-9ce7-80219cf20bf5\",\"type\":\"BoxZoomTool\"},{\"id\":\"1a97a806-bf00-420a-8f5f-055ab8821234\",\"type\":\"SaveTool\"},{\"id\":\"d99724fd-4e0d-41ec-89ac-8fab591355f0\",\"type\":\"ResetTool\"},{\"id\":\"810955ef-3fa3-4e49-9f2a-809ade2ea322\",\"type\":\"HelpTool\"}]},\"id\":\"1e521c0e-a63a-4a78-a8ff-33c75df35db9\",\"type\":\"Toolbar\"},{\"attributes\":{},\"id\":\"74012be3-2c27-4001-8d01-c209df8378ee\",\"type\":\"BasicTicker\"},{\"attributes\":{\"callback\":null,\"factors\":[\"2\",\"3\",\"4\"]},\"id\":\"a54d52c7-7a3d-41d4-a445-feac81c82e3e\",\"type\":\"FactorRange\"},{\"attributes\":{},\"id\":\"207172e1-c123-4a3a-b70e-7b16ee3df347\",\"type\":\"CategoricalTickFormatter\"},{\"attributes\":{\"data_source\":{\"id\":\"439b3547-30c7-43f3-ab40-211678cd4343\",\"type\":\"ColumnDataSource\"},\"glyph\":{\"id\":\"feff9f17-c213-4c07-adef-10e630d4476c\",\"type\":\"Rect\"},\"hover_glyph\":null,\"muted_glyph\":null},\"id\":\"9c37e40d-e7b3-4c10-b13d-3aa4ab5b9ff3\",\"type\":\"GlyphRenderer\"},{\"attributes\":{\"label\":{\"value\":\"3\"},\"renderers\":[{\"id\":\"d6e4a1cb-19a3-4214-87e9-4c1665a67768\",\"type\":\"GlyphRenderer\"}]},\"id\":\"7377f4e4-6fc6-41ed-b3c6-dfb5a8b2f47a\",\"type\":\"LegendItem\"},{\"attributes\":{\"callback\":null,\"column_names\":[\"x\",\"y\",\"width\",\"height\",\"color\",\"fill_alpha\",\"line_color\",\"line_alpha\",\"label\"],\"data\":{\"activity-status\":[\"2\"],\"chart_index\":[{\"activity-status\":\"2\"}],\"color\":[\"#f22c40\"],\"fill_alpha\":[0.8],\"height\":[23261188070.099884],\"label\":[{\"activity-status\":\"2\"}],\"line_alpha\":[1.0],\"line_color\":[\"white\"],\"width\":[0.8],\"x\":[\"2\"],\"y\":[11630594035.049942]}},\"id\":\"68c46c6b-41d9-4c2e-9e93-f7a00deb1725\",\"type\":\"ColumnDataSource\"},{\"attributes\":{\"axis_label\":\"Sum( Value )\",\"formatter\":{\"id\":\"cdf86a73-560a-4fd6-a139-629aa96df61c\",\"type\":\"BasicTickFormatter\"},\"plot\":{\"id\":\"89dc9179-d6cc-40ca-b67a-c72593664ced\",\"subtype\":\"Chart\",\"type\":\"Plot\"},\"ticker\":{\"id\":\"74012be3-2c27-4001-8d01-c209df8378ee\",\"type\":\"BasicTicker\"}},\"id\":\"8f1b8aa3-50ce-4d4e-ae79-f4c32ed6acb3\",\"type\":\"LinearAxis\"},{\"attributes\":{\"plot\":{\"id\":\"89dc9179-d6cc-40ca-b67a-c72593664ced\",\"subtype\":\"Chart\",\"type\":\"Plot\"}},\"id\":\"810955ef-3fa3-4e49-9f2a-809ade2ea322\",\"type\":\"HelpTool\"},{\"attributes\":{\"plot\":{\"id\":\"89dc9179-d6cc-40ca-b67a-c72593664ced\",\"subtype\":\"Chart\",\"type\":\"Plot\"}},\"id\":\"55b3db13-ee08-4cef-9ec8-3f4b5e3bda1b\",\"type\":\"WheelZoomTool\"}],\"root_ids\":[\"89dc9179-d6cc-40ca-b67a-c72593664ced\"]},\"title\":\"Bokeh Application\",\"version\":\"0.12.5\"}};\n",
       "            var render_items = [{\"docid\":\"c92fb03b-18ee-44ab-b479-02b283063ddd\",\"elementid\":\"1f7b0971-2967-47fe-aab3-0b0fe5f3125b\",\"modelid\":\"89dc9179-d6cc-40ca-b67a-c72593664ced\"}];\n",
       "            \n",
       "            Bokeh.embed.embed_items(docs_json, render_items);\n",
       "          };\n",
       "          if (document.readyState != \"loading\") fn();\n",
       "          else document.addEventListener(\"DOMContentLoaded\", fn);\n",
       "        })();\n",
       "      },\n",
       "      function(Bokeh) {\n",
       "      }\n",
       "    ];\n",
       "  \n",
       "    function run_inline_js() {\n",
       "      \n",
       "      if ((window.Bokeh !== undefined) || (force === true)) {\n",
       "        for (var i = 0; i < inline_js.length; i++) {\n",
       "          inline_js[i](window.Bokeh);\n",
       "        }if (force === true) {\n",
       "          display_loaded();\n",
       "        }} else if (Date.now() < window._bokeh_timeout) {\n",
       "        setTimeout(run_inline_js, 100);\n",
       "      } else if (!window._bokeh_failed_load) {\n",
       "        console.log(\"Bokeh: BokehJS failed to load within specified timeout.\");\n",
       "        window._bokeh_failed_load = true;\n",
       "      } else if (force !== true) {\n",
       "        var cell = $(document.getElementById(\"1f7b0971-2967-47fe-aab3-0b0fe5f3125b\")).parents('.cell').data().cell;\n",
       "        cell.output_area.append_execute_result(NB_LOAD_WARNING)\n",
       "      }\n",
       "  \n",
       "    }\n",
       "  \n",
       "    if (window._bokeh_is_loading === 0) {\n",
       "      console.log(\"Bokeh: BokehJS loaded, going straight to plotting\");\n",
       "      run_inline_js();\n",
       "    } else {\n",
       "      load_libs(js_urls, function() {\n",
       "        console.log(\"Bokeh: BokehJS plotting callback run at\", now());\n",
       "        run_inline_js();\n",
       "      });\n",
       "    }\n",
       "  }(this));\n",
       "</script>"
      ]
     },
     "metadata": {},
     "output_type": "display_data"
    }
   ],
   "source": [
    "from bokeh.charts import Bar, output_file, show\n",
    "from bokeh.io import output_notebook\n",
    "\n",
    "output_notebook()\n",
    "\n",
    "p = Bar(transaction_df, 'activity-status', values='value', title=\"test\")\n",
    "show(p)"
   ]
  },
  {
   "cell_type": "code",
   "execution_count": 32,
   "metadata": {
    "collapsed": true
   },
   "outputs": [],
   "source": [
    "# pd.DataFrame(transaction_df.pivot_table(index=['activity-status', 'transaction-type'], values='value').stack())\n",
    "# transaction_df.drop(['recipient-regions', 'recipient-countries'], axis=1).describe(include='all').transpose()\n"
   ]
  },
  {
   "cell_type": "code",
   "execution_count": 237,
   "metadata": {
    "collapsed": true
   },
   "outputs": [],
   "source": [
    "writer = pd.ExcelWriter(os.path.join(FINAL, 'canada_workbook.xlsx'), engine='xlsxwriter')\n",
    "\n",
    "transaction_df.to_excel(writer, sheet_name='transactions')\n",
    "\n",
    "writer.save()"
   ]
  },
  {
   "cell_type": "code",
   "execution_count": null,
   "metadata": {
    "collapsed": true
   },
   "outputs": [],
   "source": []
  }
 ],
 "metadata": {
  "kernelspec": {
   "display_name": "Python 3",
   "language": "python",
   "name": "python3"
  },
  "language_info": {
   "codemirror_mode": {
    "name": "ipython",
    "version": 3
   },
   "file_extension": ".py",
   "mimetype": "text/x-python",
   "name": "python",
   "nbconvert_exporter": "python",
   "pygments_lexer": "ipython3",
   "version": "3.6.1"
  },
  "toc": {
   "nav_menu": {
    "height": "151px",
    "width": "244px"
   },
   "number_sections": true,
   "sideBar": true,
   "skip_h1_title": false,
   "toc_cell": false,
   "toc_position": {
    "height": "858px",
    "left": "0px",
    "right": "1251.34px",
    "top": "107px",
    "width": "212px"
   },
   "toc_section_display": "block",
   "toc_window_display": true
  },
  "varInspector": {
   "cols": {
    "lenName": 16,
    "lenType": 16,
    "lenVar": 40
   },
   "kernels_config": {
    "python": {
     "delete_cmd_postfix": "",
     "delete_cmd_prefix": "del ",
     "library": "var_list.py",
     "varRefreshCmd": "print(var_dic_list())"
    },
    "r": {
     "delete_cmd_postfix": ") ",
     "delete_cmd_prefix": "rm(",
     "library": "var_list.r",
     "varRefreshCmd": "cat(var_dic_list()) "
    }
   },
   "position": {
    "height": "528px",
    "left": "1445px",
    "right": "20px",
    "top": "114px",
    "width": "396px"
   },
   "types_to_exclude": [
    "module",
    "function",
    "builtin_function_or_method",
    "instance",
    "_Feature"
   ],
   "window_display": true
  }
 },
 "nbformat": 4,
 "nbformat_minor": 1
}
