{
 "cells": [
  {
   "cell_type": "markdown",
   "metadata": {},
   "source": [
    "# Introduction\n",
    "\n",
    "This initial report will give a comprehensive review of the ‘compliance’ of GAC’s IATI activities according to the well established aspects of IATI data quality, namely:\n",
    "\n",
    "* Schema validity: a simple test of adherence to the IATI standard XML syntax\n",
    "* Adherence to IATI rulesets: test all activities for adherence to the IATI Standard machine readable rulesets.\n",
    "* A deeper view of the fields published with respect to the use cases 3.1.1-6 detailed below.\n",
    "\n",
    "\n",
    "# Setup and Data Acquisition\n",
    "\n",
    "This section may be of interest on a technical level, but isn't informative with regards to the analytical scope of this report. In short, it sets up the notebook and then processes the given IATI files and aggregates them for analysis. Some changes will need to be made here if a user or practitioner wishes to supply local IATI XML files rather than using the ones pulled from the IATI Registry."
   ]
  },
  {
   "cell_type": "markdown",
   "metadata": {},
   "source": [
    "## Imports and Housekeeping\n",
    "\n",
    "<div class=\"alert alert-warning\">\n",
    "The following value is **`True`**, the notebook attempts to get files and validate them over the network. If **`False`**, it assumes that these processes have been run before, meaning the required files would be in the raw and intermediate data folders and it can defer to them instead.\n",
    "</div>"
   ]
  },
  {
   "cell_type": "code",
   "execution_count": 867,
   "metadata": {
    "collapsed": true
   },
   "outputs": [],
   "source": [
    "run_from_scratch = False"
   ]
  },
  {
   "cell_type": "markdown",
   "metadata": {},
   "source": [
    "There are several libraries required by Python to conduct the analysis and visualisation in this notebook, which are all imported below.\n",
    "\n",
    "This notebook uses a three part files system to store data:\n",
    "\n",
    "* **`raw`**: this folder should contain all and only the IATI XML of interest. The initial use of this notebook is to analyse live IATI data, hosted at specific URLs. This notebook can be adapted to use only local files, and instructions for this are given in-line.\n",
    "\n",
    "* **`intermediate`**: this folder is used as a store of data which has been processed and might be of interest, is used multiple times, or is useful to have in case it is desirable to run the notebook off-line.\n",
    "\n",
    "* **`final`**: this folder contains any data appendices. For instance, an Excel workbook is built over the course of this notebook, with data tables that might be of interest included."
   ]
  },
  {
   "cell_type": "code",
   "execution_count": 868,
   "metadata": {},
   "outputs": [
    {
     "data": {
      "text/html": [
       "\n",
       "    <div class=\"bk-root\">\n",
       "        <a href=\"http://bokeh.pydata.org\" target=\"_blank\" class=\"bk-logo bk-logo-small bk-logo-notebook\"></a>\n",
       "        <span id=\"a6a72ebc-d748-4ae5-908c-743ac3b52c85\">Loading BokehJS ...</span>\n",
       "    </div>"
      ]
     },
     "metadata": {},
     "output_type": "display_data"
    },
    {
     "data": {
      "application/javascript": [
       "\n",
       "(function(global) {\n",
       "  function now() {\n",
       "    return new Date();\n",
       "  }\n",
       "\n",
       "  var force = true;\n",
       "\n",
       "  if (typeof (window._bokeh_onload_callbacks) === \"undefined\" || force === true) {\n",
       "    window._bokeh_onload_callbacks = [];\n",
       "    window._bokeh_is_loading = undefined;\n",
       "  }\n",
       "\n",
       "\n",
       "  \n",
       "  if (typeof (window._bokeh_timeout) === \"undefined\" || force === true) {\n",
       "    window._bokeh_timeout = Date.now() + 5000;\n",
       "    window._bokeh_failed_load = false;\n",
       "  }\n",
       "\n",
       "  var NB_LOAD_WARNING = {'data': {'text/html':\n",
       "     \"<div style='background-color: #fdd'>\\n\"+\n",
       "     \"<p>\\n\"+\n",
       "     \"BokehJS does not appear to have successfully loaded. If loading BokehJS from CDN, this \\n\"+\n",
       "     \"may be due to a slow or bad network connection. Possible fixes:\\n\"+\n",
       "     \"</p>\\n\"+\n",
       "     \"<ul>\\n\"+\n",
       "     \"<li>re-rerun `output_notebook()` to attempt to load from CDN again, or</li>\\n\"+\n",
       "     \"<li>use INLINE resources instead, as so:</li>\\n\"+\n",
       "     \"</ul>\\n\"+\n",
       "     \"<code>\\n\"+\n",
       "     \"from bokeh.resources import INLINE\\n\"+\n",
       "     \"output_notebook(resources=INLINE)\\n\"+\n",
       "     \"</code>\\n\"+\n",
       "     \"</div>\"}};\n",
       "\n",
       "  function display_loaded() {\n",
       "    if (window.Bokeh !== undefined) {\n",
       "      var el = document.getElementById(\"a6a72ebc-d748-4ae5-908c-743ac3b52c85\");\n",
       "      el.textContent = \"BokehJS \" + Bokeh.version + \" successfully loaded.\";\n",
       "    } else if (Date.now() < window._bokeh_timeout) {\n",
       "      setTimeout(display_loaded, 100)\n",
       "    }\n",
       "  }\n",
       "\n",
       "  function run_callbacks() {\n",
       "    window._bokeh_onload_callbacks.forEach(function(callback) { callback() });\n",
       "    delete window._bokeh_onload_callbacks\n",
       "    console.info(\"Bokeh: all callbacks have finished\");\n",
       "  }\n",
       "\n",
       "  function load_libs(js_urls, callback) {\n",
       "    window._bokeh_onload_callbacks.push(callback);\n",
       "    if (window._bokeh_is_loading > 0) {\n",
       "      console.log(\"Bokeh: BokehJS is being loaded, scheduling callback at\", now());\n",
       "      return null;\n",
       "    }\n",
       "    if (js_urls == null || js_urls.length === 0) {\n",
       "      run_callbacks();\n",
       "      return null;\n",
       "    }\n",
       "    console.log(\"Bokeh: BokehJS not loaded, scheduling load and callback at\", now());\n",
       "    window._bokeh_is_loading = js_urls.length;\n",
       "    for (var i = 0; i < js_urls.length; i++) {\n",
       "      var url = js_urls[i];\n",
       "      var s = document.createElement('script');\n",
       "      s.src = url;\n",
       "      s.async = false;\n",
       "      s.onreadystatechange = s.onload = function() {\n",
       "        window._bokeh_is_loading--;\n",
       "        if (window._bokeh_is_loading === 0) {\n",
       "          console.log(\"Bokeh: all BokehJS libraries loaded\");\n",
       "          run_callbacks()\n",
       "        }\n",
       "      };\n",
       "      s.onerror = function() {\n",
       "        console.warn(\"failed to load library \" + url);\n",
       "      };\n",
       "      console.log(\"Bokeh: injecting script tag for BokehJS library: \", url);\n",
       "      document.getElementsByTagName(\"head\")[0].appendChild(s);\n",
       "    }\n",
       "  };var element = document.getElementById(\"a6a72ebc-d748-4ae5-908c-743ac3b52c85\");\n",
       "  if (element == null) {\n",
       "    console.log(\"Bokeh: ERROR: autoload.js configured with elementid 'a6a72ebc-d748-4ae5-908c-743ac3b52c85' but no matching script tag was found. \")\n",
       "    return false;\n",
       "  }\n",
       "\n",
       "  var js_urls = [\"https://cdn.pydata.org/bokeh/release/bokeh-0.12.5.min.js\", \"https://cdn.pydata.org/bokeh/release/bokeh-widgets-0.12.5.min.js\"];\n",
       "\n",
       "  var inline_js = [\n",
       "    function(Bokeh) {\n",
       "      Bokeh.set_log_level(\"info\");\n",
       "    },\n",
       "    \n",
       "    function(Bokeh) {\n",
       "      \n",
       "    },\n",
       "    \n",
       "    function(Bokeh) {\n",
       "      \n",
       "      document.getElementById(\"a6a72ebc-d748-4ae5-908c-743ac3b52c85\").textContent = \"BokehJS is loading...\";\n",
       "    },\n",
       "    function(Bokeh) {\n",
       "      console.log(\"Bokeh: injecting CSS: https://cdn.pydata.org/bokeh/release/bokeh-0.12.5.min.css\");\n",
       "      Bokeh.embed.inject_css(\"https://cdn.pydata.org/bokeh/release/bokeh-0.12.5.min.css\");\n",
       "      console.log(\"Bokeh: injecting CSS: https://cdn.pydata.org/bokeh/release/bokeh-widgets-0.12.5.min.css\");\n",
       "      Bokeh.embed.inject_css(\"https://cdn.pydata.org/bokeh/release/bokeh-widgets-0.12.5.min.css\");\n",
       "    }\n",
       "  ];\n",
       "\n",
       "  function run_inline_js() {\n",
       "    \n",
       "    if ((window.Bokeh !== undefined) || (force === true)) {\n",
       "      for (var i = 0; i < inline_js.length; i++) {\n",
       "        inline_js[i](window.Bokeh);\n",
       "      }if (force === true) {\n",
       "        display_loaded();\n",
       "      }} else if (Date.now() < window._bokeh_timeout) {\n",
       "      setTimeout(run_inline_js, 100);\n",
       "    } else if (!window._bokeh_failed_load) {\n",
       "      console.log(\"Bokeh: BokehJS failed to load within specified timeout.\");\n",
       "      window._bokeh_failed_load = true;\n",
       "    } else if (force !== true) {\n",
       "      var cell = $(document.getElementById(\"a6a72ebc-d748-4ae5-908c-743ac3b52c85\")).parents('.cell').data().cell;\n",
       "      cell.output_area.append_execute_result(NB_LOAD_WARNING)\n",
       "    }\n",
       "\n",
       "  }\n",
       "\n",
       "  if (window._bokeh_is_loading === 0) {\n",
       "    console.log(\"Bokeh: BokehJS loaded, going straight to plotting\");\n",
       "    run_inline_js();\n",
       "  } else {\n",
       "    load_libs(js_urls, function() {\n",
       "      console.log(\"Bokeh: BokehJS plotting callback run at\", now());\n",
       "      run_inline_js();\n",
       "    });\n",
       "  }\n",
       "}(this));"
      ]
     },
     "metadata": {},
     "output_type": "display_data"
    }
   ],
   "source": [
    "# Import Python libraries\n",
    "import json\n",
    "import re\n",
    "import pandas as pd\n",
    "import requests as rq\n",
    "from bokeh.charts import Histogram, output_notebook, show\n",
    "from datetime import datetime\n",
    "\n",
    "# set directories\n",
    "RAW = \"../data/raw/\"\n",
    "INTERMEDIATE = \"../data/intermediate/\"\n",
    "FINAL = \"../data/final/\"\n",
    "REGISTRY_ID = \"gac-amc\"\n",
    "# Create and Excel Writer to output sheets throughout the analysis\n",
    "appendix_1_filepath = FINAL + 'Compliance-Report-Data.xlsx'\n",
    "pd_writer = pd.ExcelWriter(appendix_1_filepath)\n",
    "\n",
    "output_notebook()"
   ]
  },
  {
   "cell_type": "markdown",
   "metadata": {},
   "source": [
    "## Getting Original IATI Files"
   ]
  },
  {
   "cell_type": "markdown",
   "metadata": {},
   "source": [
    "Retrieving the IATI files from supplied URLs and saving them to the 'raw' data folder. The cell below can be skipped if unpublished / local files are being used. Just save all and only the IATI XML files of interest into the 'raw' data folder."
   ]
  },
  {
   "cell_type": "code",
   "execution_count": 869,
   "metadata": {},
   "outputs": [
    {
     "name": "stdout",
     "output_type": "stream",
     "text": [
      "skipped - to run, change 'run_from_scratch' to true...\n"
     ]
    }
   ],
   "source": [
    "# List of all XML urls to pull and merge\n",
    "registry_files = [\n",
    "    \"http://w05.international.gc.ca/projectbrowser-banqueprojets\"\n",
    "        \"/iita-iati/dfatd-maecd_activit_status_2_3.xml\",\n",
    "    \"http://w05.international.gc.ca/projectbrowser-banqueprojets\"\n",
    "        \"/iita-iati/dfatd-maecd_activit_status_4.xml\"\n",
    "]\n",
    "\n",
    "if run_from_scratch:\n",
    "    for registry_file in registry_files:\n",
    "\n",
    "        # split off after the last dash to create the file name, so http://www.abc/def.xml --> def.xml\n",
    "        registry_xml_name = re.search(r'[^/]*.xml', registry_file).group(0)\n",
    "        output_path = RAW + registry_xml_name\n",
    "\n",
    "        request = rq.get(registry_file)\n",
    "\n",
    "        with open(output_path, \"wb\") as out_file:\n",
    "            out_file.write(request.content)\n",
    "\n",
    "        print(\"{}: file written to {}\".format(registry_xml_name, output_path))\n",
    "else:\n",
    "    print('skipped - to run, change \\'run_from_scratch\\' to true...')"
   ]
  },
  {
   "cell_type": "markdown",
   "metadata": {},
   "source": [
    "## Merging IATI Files"
   ]
  },
  {
   "cell_type": "code",
   "execution_count": 870,
   "metadata": {},
   "outputs": [
    {
     "name": "stdout",
     "output_type": "stream",
     "text": [
      "../data/raw/dfatd-maecd_activit_status_2_3.xml\n",
      "../data/raw/dfatd-maecd_activit_status_4.xml\n"
     ]
    }
   ],
   "source": [
    "# Show IATI files available\n",
    "import os\n",
    "import lxml.etree as ET\n",
    "\n",
    "file_names = [RAW + name for name in os.listdir(RAW) if name.endswith(\".xml\")]\n",
    "for name in file_names:\n",
    "    print(name)"
   ]
  },
  {
   "cell_type": "code",
   "execution_count": 871,
   "metadata": {},
   "outputs": [
    {
     "name": "stdout",
     "output_type": "stream",
     "text": [
      "\n",
      "Combining 2 IATI files \n",
      "\n",
      "Files Merged: \n",
      "|-> 1210 activities from ../data/raw/dfatd-maecd_activit_status_2_3.xml\n",
      "|-> 2751 activities from ../data/raw/dfatd-maecd_activit_status_4.xml\n",
      "|--> 3961 in total\n"
     ]
    }
   ],
   "source": [
    "# This cell takes all of the XML IATI files in\n",
    "# the 'raw' directory and merges them into one file\n",
    "\n",
    "combined_filepath = INTERMEDIATE + \"combined.xml\"\n",
    "\n",
    "print(\"\\nCombining {} IATI files \\n\".format(len(file_names)))\n",
    "\n",
    "# Start with the first file\n",
    "big_iati = ET.parse(file_names[0]).getroot()\n",
    "\n",
    "# Start a dictionary to keep track of the additions\n",
    "merge_log = {file_names[0]: len(big_iati.getchildren())}\n",
    "\n",
    "# Iterate through the 2nd through last file and\n",
    "# insert their activtities to into the first\n",
    "# and update the dictionary\n",
    "for xml_file in file_names[1:]:\n",
    "    data = ET.parse(xml_file).getroot()\n",
    "    merge_log[xml_file] = len(data.getchildren())\n",
    "    big_iati.extend(data.getchildren())\n",
    "\n",
    "# Print a small report on the merging\n",
    "print(\"Files Merged: \")\n",
    "for file, activity_count in merge_log.items():\n",
    "    print(\"|-> {} activities from {}\".format(activity_count, file))\n",
    "print(\"|--> {} in total\".format(len(big_iati.getchildren())))\n",
    "\n",
    "with open(combined_filepath, \"wb\") as out_file:\n",
    "    out_file.write(ET.tostring(big_iati, encoding='utf8', pretty_print=True))"
   ]
  },
  {
   "cell_type": "markdown",
   "metadata": {},
   "source": [
    "# Initial Validation\n",
    "\n",
    "This step uses the CoVE api to validate the combined XML file made above, which yields two sets of outcomes: the traditional schema validation, and validation against the [IATI Rulesets](http://iatistandard.org/202/rulesets/). Using this api, both are returned in structured JSON, which has been used here to create succinct and opinionated tables, for example, by using a pivot table to see how many different rules have been broken, before attempting to list them all.\n",
    "\n",
    "First, we send the file to CoVE and wait for it's response:"
   ]
  },
  {
   "cell_type": "code",
   "execution_count": 872,
   "metadata": {},
   "outputs": [
    {
     "name": "stdout",
     "output_type": "stream",
     "text": [
      "skipped - to run, change 'run_from_scratch' to true...\n"
     ]
    }
   ],
   "source": [
    "import requests as rq\n",
    "\n",
    "json_validation_filepath = INTERMEDIATE + 'validation.json'\n",
    "\n",
    "if run_from_scratch:\n",
    "    url = 'http://localhost:8000/api_test'\n",
    "    files = {'file': open(INTERMEDIATE + \"combined.xml\", 'rb')}\n",
    "    r = rq.post(url, files=files, data={\"name\": \"combined.xml\"})\n",
    "\n",
    "    print(\"CoVE validation was successful.\") if r.ok else print(\n",
    "        \"Something went wrong.\")\n",
    "\n",
    "    validation_json = r.json()\n",
    "\n",
    "    with open(json_validation_filepath, \"w\") as out_file:\n",
    "        json.dump(validation_json, out_file)\n",
    "\n",
    "    print('Validation JSON file has been written to {}.'.format(\n",
    "        json_validation_filepath))\n",
    "\n",
    "else:\n",
    "    validation_json = json.load(open(json_validation_filepath, 'r'))\n",
    "    print('skipped - to run, change \\'run_from_scratch\\' to true...')"
   ]
  },
  {
   "cell_type": "markdown",
   "metadata": {},
   "source": [
    "Now, let's take a look at the data we received back."
   ]
  },
  {
   "cell_type": "code",
   "execution_count": 873,
   "metadata": {},
   "outputs": [
    {
     "name": "stdout",
     "output_type": "stream",
     "text": [
      "CoVE has found 3477 schema errors, and 30 ruleset errors\n"
     ]
    }
   ],
   "source": [
    "ruleset_table = pd.DataFrame(data=validation_json['ruleset_errors'])\n",
    "schema_table = pd.DataFrame(data=validation_json['validation_errors'])\n",
    "\n",
    "print(\"CoVE has found {} schema errors, and {} ruleset errors\".format(\n",
    "    len(schema_table), len(ruleset_table)))"
   ]
  },
  {
   "cell_type": "markdown",
   "metadata": {},
   "source": [
    "## Schema Validation"
   ]
  },
  {
   "cell_type": "markdown",
   "metadata": {},
   "source": [
    "Before looking at all of the specific validation errors, let's use a pivot table to uncover how many types of errors there are:\n",
    "\n",
    "<div class=\"alert alert-info\">\n",
    "The numbers you see under 'path' and 'value' are counts, which allows this function to serve as a count of the number of schema violations associated with each 'description' (each schema rule).\n",
    "</div>"
   ]
  },
  {
   "cell_type": "code",
   "execution_count": 874,
   "metadata": {},
   "outputs": [
    {
     "data": {
      "text/html": [
       "<div>\n",
       "<style>\n",
       "    .dataframe thead tr:only-child th {\n",
       "        text-align: right;\n",
       "    }\n",
       "\n",
       "    .dataframe thead th {\n",
       "        text-align: left;\n",
       "    }\n",
       "\n",
       "    .dataframe tbody tr th {\n",
       "        vertical-align: top;\n",
       "    }\n",
       "</style>\n",
       "<table border=\"1\" class=\"dataframe\">\n",
       "  <thead>\n",
       "    <tr style=\"text-align: right;\">\n",
       "      <th></th>\n",
       "      <th>path</th>\n",
       "      <th>value</th>\n",
       "    </tr>\n",
       "    <tr>\n",
       "      <th>description</th>\n",
       "      <th></th>\n",
       "      <th></th>\n",
       "    </tr>\n",
       "  </thead>\n",
       "  <tbody>\n",
       "    <tr>\n",
       "      <th>'document-link', attribute 'url' is not a valid value of the atomic type 'xs:anyURI'.</th>\n",
       "      <td>2</td>\n",
       "      <td>2</td>\n",
       "    </tr>\n",
       "    <tr>\n",
       "      <th>'result': Missing child element(s), expected is indicator.</th>\n",
       "      <td>3475</td>\n",
       "      <td>3475</td>\n",
       "    </tr>\n",
       "  </tbody>\n",
       "</table>\n",
       "</div>"
      ],
      "text/plain": [
       "                                                    path  value\n",
       "description                                                    \n",
       "'document-link', attribute 'url' is not a valid...     2      2\n",
       "'result': Missing child element(s), expected is...  3475   3475"
      ]
     },
     "execution_count": 874,
     "metadata": {},
     "output_type": "execute_result"
    }
   ],
   "source": [
    "schema_table.pivot_table(index='description', aggfunc='count')"
   ]
  },
  {
   "cell_type": "markdown",
   "metadata": {},
   "source": [
    "Only two types are found. The first two shown below indicate that two activities have invalid URIs. The greater issue which affects more than 85% (3470 / 3961 * 100) of the activities supplied is the lack of an indicator in the results element. The first five rows of the raw table can be seen here, and the whole file has been saved to Appendix 1 under the tab 'Schema Violations'."
   ]
  },
  {
   "cell_type": "code",
   "execution_count": 875,
   "metadata": {
    "scrolled": true
   },
   "outputs": [
    {
     "data": {
      "text/html": [
       "<div>\n",
       "<style>\n",
       "    .dataframe thead tr:only-child th {\n",
       "        text-align: right;\n",
       "    }\n",
       "\n",
       "    .dataframe thead th {\n",
       "        text-align: left;\n",
       "    }\n",
       "\n",
       "    .dataframe tbody tr th {\n",
       "        vertical-align: top;\n",
       "    }\n",
       "</style>\n",
       "<table border=\"1\" class=\"dataframe\">\n",
       "  <thead>\n",
       "    <tr style=\"text-align: right;\">\n",
       "      <th></th>\n",
       "      <th>description</th>\n",
       "      <th>path</th>\n",
       "      <th>value</th>\n",
       "    </tr>\n",
       "  </thead>\n",
       "  <tbody>\n",
       "    <tr>\n",
       "      <th>0</th>\n",
       "      <td>'document-link', attribute 'url' is not a vali...</td>\n",
       "      <td>iati-activity/1513/document-link/2/@url</td>\n",
       "      <td>http://ttp://www.snclavalin.com/fr/index.aspx</td>\n",
       "    </tr>\n",
       "    <tr>\n",
       "      <th>1</th>\n",
       "      <td>'document-link', attribute 'url' is not a vali...</td>\n",
       "      <td>iati-activity/1679/document-link/3/@url</td>\n",
       "      <td>http://ttp://www.snclavalin.com/fr/index.aspx</td>\n",
       "    </tr>\n",
       "    <tr>\n",
       "      <th>2</th>\n",
       "      <td>'result': Missing child element(s), expected i...</td>\n",
       "      <td>iati-activity/0/result</td>\n",
       "      <td></td>\n",
       "    </tr>\n",
       "    <tr>\n",
       "      <th>3</th>\n",
       "      <td>'result': Missing child element(s), expected i...</td>\n",
       "      <td>iati-activity/1/result</td>\n",
       "      <td></td>\n",
       "    </tr>\n",
       "    <tr>\n",
       "      <th>4</th>\n",
       "      <td>'result': Missing child element(s), expected i...</td>\n",
       "      <td>iati-activity/5/result/0</td>\n",
       "      <td></td>\n",
       "    </tr>\n",
       "  </tbody>\n",
       "</table>\n",
       "</div>"
      ],
      "text/plain": [
       "                                         description  \\\n",
       "0  'document-link', attribute 'url' is not a vali...   \n",
       "1  'document-link', attribute 'url' is not a vali...   \n",
       "2  'result': Missing child element(s), expected i...   \n",
       "3  'result': Missing child element(s), expected i...   \n",
       "4  'result': Missing child element(s), expected i...   \n",
       "\n",
       "                                      path  \\\n",
       "0  iati-activity/1513/document-link/2/@url   \n",
       "1  iati-activity/1679/document-link/3/@url   \n",
       "2                   iati-activity/0/result   \n",
       "3                   iati-activity/1/result   \n",
       "4                 iati-activity/5/result/0   \n",
       "\n",
       "                                           value  \n",
       "0  http://ttp://www.snclavalin.com/fr/index.aspx  \n",
       "1  http://ttp://www.snclavalin.com/fr/index.aspx  \n",
       "2                                                 \n",
       "3                                                 \n",
       "4                                                 "
      ]
     },
     "execution_count": 875,
     "metadata": {},
     "output_type": "execute_result"
    }
   ],
   "source": [
    "schema_table.to_excel(pd_writer, \"Schema Violations\")\n",
    "schema_table.head() # show the first five rows"
   ]
  },
  {
   "cell_type": "markdown",
   "metadata": {},
   "source": [
    "If we look at the first result element, we can indeed see that it doesn't contain an indicator element:"
   ]
  },
  {
   "cell_type": "code",
   "execution_count": 876,
   "metadata": {},
   "outputs": [
    {
     "name": "stdout",
     "output_type": "stream",
     "text": [
      "<result type=\"2\">\n",
      "  <title>\n",
      "    <narrative xml:lang=\"en\">Results Achieved</narrative>\n",
      "    <narrative xml:lang=\"fr\">R&#233;sultats atteints</narrative>\n",
      "  </title>\n",
      "  <description>\n",
      "    <narrative xml:lang=\"en\">Results as of March 31, 2011 include: the Fund delivered 62 initiatives or sub-projects before March 31, 2011. The Fund advanced public sector reform and contributed to improving the environment for business development in 13 countries in the Caribbean Region as evidenced by the following: the improvement of service delivery in the health sector, most notably the development of an Enhanced Diabetic Foot Program in Guyana; improved debt structuring and management in Antigua and Barbuda, Belize, Dominica and St. Kitts and Nevis; public sector reform in Grenada through knowledge-sharing of Canada's best practices; private-sector led growth in Jamaica and Guyana resulting in improved quality of products and marketing opportunities; and an improved rule of law in the Eastern Caribbean Supreme Court in St. Lucia that resulted in an enhanced reform agenda that included public legal education and engagement.</narrative>\n",
      "    <narrative xml:lang=\"fr\">Parmi les r&#233;sultats obtenus jusqu&#8217;au 31 mars 2011 : Le Fonds a ex&#233;cut&#233; 62 initiatives ou sous-projets avant le 31 mars 2011. Le Fonds a fait progresser la r&#233;forme du secteur public et a contribu&#233; &#224; am&#233;liorer l&#8217;environnement favorable au d&#233;veloppement commercial dans 13 pays de la r&#233;gion des Cara&#239;bes, comme les r&#233;sultats suivants le d&#233;montrent : l&#8217;am&#233;lioration de la prestation des services dans le secteur de la sant&#233;, plus pr&#233;cis&#233;ment l&#8217;&#233;laboration d&#8217;un programme am&#233;lior&#233; de soins des pieds pour les personnes atteintes de diab&#232;te au Guyana; l&#8217;am&#233;lioration de la structure et de la gestion de la dette &#224; Antigua&#173;et&#173;Barbuda, au Belize, &#224; la Dominique et &#224; Saint&#173;Kitts&#173;et&#173;Nevis; la r&#233;forme du secteur public &#224; la Grenade au moyen de la diffusion des pratiques exemplaires du Canada; la croissance &#233;conomique dirig&#233;e par le secteur priv&#233; en Jama&#239;que et au Guyana, qui a men&#233; &#224; l&#8217;am&#233;lioration de la qualit&#233; des produits et des possibilit&#233;s de commercialisation; l&#8217;am&#233;lioration de la primaut&#233; du droit &#224; la Cour supr&#234;me des Cara&#239;bes orientales &#224; Sainte&#173;Lucie, qui a men&#233; &#224; un programme am&#233;lior&#233; de r&#233;formes qui pr&#233;voit l&#8217;&#233;ducation et la mobilisation du public sur les questions juridiques.</narrative>\n",
      "  </description>\n",
      "</result>\n",
      "\n"
     ]
    }
   ],
   "source": [
    "print(\n",
    "    ET.tostring(big_iati.find('iati-activity/result'),\n",
    "                pretty_print=True).decode())"
   ]
  },
  {
   "cell_type": "markdown",
   "metadata": {},
   "source": [
    "## Ruleset Validation\n",
    "\n",
    "There are 30 ruleset violations in total:"
   ]
  },
  {
   "cell_type": "code",
   "execution_count": 877,
   "metadata": {},
   "outputs": [
    {
     "data": {
      "text/plain": [
       "30"
      ]
     },
     "execution_count": 877,
     "metadata": {},
     "output_type": "execute_result"
    }
   ],
   "source": [
    "len(ruleset_table)"
   ]
  },
  {
   "cell_type": "markdown",
   "metadata": {},
   "source": [
    "Looking at the first five rows of the ruleset violations isn't particularly informative:"
   ]
  },
  {
   "cell_type": "code",
   "execution_count": 878,
   "metadata": {},
   "outputs": [
    {
     "data": {
      "text/html": [
       "<div>\n",
       "<style>\n",
       "    .dataframe thead tr:only-child th {\n",
       "        text-align: right;\n",
       "    }\n",
       "\n",
       "    .dataframe thead th {\n",
       "        text-align: left;\n",
       "    }\n",
       "\n",
       "    .dataframe tbody tr th {\n",
       "        vertical-align: top;\n",
       "    }\n",
       "</style>\n",
       "<table border=\"1\" class=\"dataframe\">\n",
       "  <thead>\n",
       "    <tr style=\"text-align: right;\">\n",
       "      <th></th>\n",
       "      <th>id</th>\n",
       "      <th>message</th>\n",
       "      <th>path</th>\n",
       "      <th>rule</th>\n",
       "    </tr>\n",
       "  </thead>\n",
       "  <tbody>\n",
       "    <tr>\n",
       "      <th>0</th>\n",
       "      <td>CA-3-A034764001</td>\n",
       "      <td>`(recipient-country|recipient-region)/@percent...</td>\n",
       "      <td>/iati-activities/iati-activity[215]/recipient-...</td>\n",
       "      <td>recipient-country/@percentage and recipient-re...</td>\n",
       "    </tr>\n",
       "    <tr>\n",
       "      <th>1</th>\n",
       "      <td>CA-3-A035272001</td>\n",
       "      <td>`(recipient-country|recipient-region)/@percent...</td>\n",
       "      <td>/iati-activities/iati-activity[292]/recipient-...</td>\n",
       "      <td>recipient-country/@percentage and recipient-re...</td>\n",
       "    </tr>\n",
       "    <tr>\n",
       "      <th>2</th>\n",
       "      <td>CA-3-A035470001</td>\n",
       "      <td>`(recipient-country|recipient-region)/@percent...</td>\n",
       "      <td>/iati-activities/iati-activity[331]/recipient-...</td>\n",
       "      <td>recipient-country/@percentage and recipient-re...</td>\n",
       "    </tr>\n",
       "    <tr>\n",
       "      <th>3</th>\n",
       "      <td>CA-3-D002423002</td>\n",
       "      <td>`(recipient-country|recipient-region)/@percent...</td>\n",
       "      <td>/iati-activities/iati-activity[952]/recipient-...</td>\n",
       "      <td>recipient-country/@percentage and recipient-re...</td>\n",
       "    </tr>\n",
       "    <tr>\n",
       "      <th>4</th>\n",
       "      <td>CA-3-D004492001</td>\n",
       "      <td>`(recipient-country|recipient-region)/@percent...</td>\n",
       "      <td>/iati-activities/iati-activity[1178]/recipient...</td>\n",
       "      <td>recipient-country/@percentage and recipient-re...</td>\n",
       "    </tr>\n",
       "  </tbody>\n",
       "</table>\n",
       "</div>"
      ],
      "text/plain": [
       "                id                                            message  \\\n",
       "0  CA-3-A034764001  `(recipient-country|recipient-region)/@percent...   \n",
       "1  CA-3-A035272001  `(recipient-country|recipient-region)/@percent...   \n",
       "2  CA-3-A035470001  `(recipient-country|recipient-region)/@percent...   \n",
       "3  CA-3-D002423002  `(recipient-country|recipient-region)/@percent...   \n",
       "4  CA-3-D004492001  `(recipient-country|recipient-region)/@percent...   \n",
       "\n",
       "                                                path  \\\n",
       "0  /iati-activities/iati-activity[215]/recipient-...   \n",
       "1  /iati-activities/iati-activity[292]/recipient-...   \n",
       "2  /iati-activities/iati-activity[331]/recipient-...   \n",
       "3  /iati-activities/iati-activity[952]/recipient-...   \n",
       "4  /iati-activities/iati-activity[1178]/recipient...   \n",
       "\n",
       "                                                rule  \n",
       "0  recipient-country/@percentage and recipient-re...  \n",
       "1  recipient-country/@percentage and recipient-re...  \n",
       "2  recipient-country/@percentage and recipient-re...  \n",
       "3  recipient-country/@percentage and recipient-re...  \n",
       "4  recipient-country/@percentage and recipient-re...  "
      ]
     },
     "execution_count": 878,
     "metadata": {},
     "output_type": "execute_result"
    }
   ],
   "source": [
    "ruleset_table.head()"
   ]
  },
  {
   "cell_type": "markdown",
   "metadata": {},
   "source": [
    "However, by again using a pivot table and structuring the output first by the type of rule broken, then the specifics of the violation, and then the related activity, we can see a clearer picture:\n",
    "\n",
    "<div class=\"alert alert-info\">\n",
    "N.B. The table below has also been saved to Appendix 1 under the tab 'Ruleset Violations by Rule'.\n",
    "</div>"
   ]
  },
  {
   "cell_type": "code",
   "execution_count": 879,
   "metadata": {
    "scrolled": false
   },
   "outputs": [
    {
     "data": {
      "text/html": [
       "<div>\n",
       "<style>\n",
       "    .dataframe thead tr:only-child th {\n",
       "        text-align: right;\n",
       "    }\n",
       "\n",
       "    .dataframe thead th {\n",
       "        text-align: left;\n",
       "    }\n",
       "\n",
       "    .dataframe tbody tr th {\n",
       "        vertical-align: top;\n",
       "    }\n",
       "</style>\n",
       "<table border=\"1\" class=\"dataframe\">\n",
       "  <thead>\n",
       "    <tr style=\"text-align: right;\">\n",
       "      <th></th>\n",
       "      <th></th>\n",
       "      <th></th>\n",
       "      <th>path</th>\n",
       "    </tr>\n",
       "    <tr>\n",
       "      <th>rule</th>\n",
       "      <th>message</th>\n",
       "      <th>id</th>\n",
       "      <th></th>\n",
       "    </tr>\n",
       "  </thead>\n",
       "  <tbody>\n",
       "    <tr>\n",
       "      <th rowspan=\"13\" valign=\"top\">activity-date[@type=\"2\"]/@iso-date must be before activity-date[@type=\"4\"]/@iso-date</th>\n",
       "      <th>Start date (2007-03-27) must be before end date (2007-03-27)</th>\n",
       "      <th>CA-3-A033637001</th>\n",
       "      <td>1</td>\n",
       "    </tr>\n",
       "    <tr>\n",
       "      <th>Start date (2008-03-20) must be before end date (2008-03-20)</th>\n",
       "      <th>CA-3-M012715001</th>\n",
       "      <td>1</td>\n",
       "    </tr>\n",
       "    <tr>\n",
       "      <th>Start date (2009-01-13) must be before end date (2009-01-13)</th>\n",
       "      <th>CA-3-M012957001</th>\n",
       "      <td>1</td>\n",
       "    </tr>\n",
       "    <tr>\n",
       "      <th>Start date (2009-03-26) must be before end date (2009-03-26)</th>\n",
       "      <th>CA-3-M013025001</th>\n",
       "      <td>1</td>\n",
       "    </tr>\n",
       "    <tr>\n",
       "      <th rowspan=\"3\" valign=\"top\">Start date (2009-03-27) must be before end date (2009-03-27)</th>\n",
       "      <th>CA-3-M013020001</th>\n",
       "      <td>1</td>\n",
       "    </tr>\n",
       "    <tr>\n",
       "      <th>CA-3-M013026001</th>\n",
       "      <td>1</td>\n",
       "    </tr>\n",
       "    <tr>\n",
       "      <th>CA-3-M013029001</th>\n",
       "      <td>1</td>\n",
       "    </tr>\n",
       "    <tr>\n",
       "      <th>Start date (2010-03-24) must be before end date (2010-03-24)</th>\n",
       "      <th>CA-3-M013190001</th>\n",
       "      <td>1</td>\n",
       "    </tr>\n",
       "    <tr>\n",
       "      <th>Start date (2010-03-25) must be before end date (2010-03-25)</th>\n",
       "      <th>CA-3-M013183001</th>\n",
       "      <td>1</td>\n",
       "    </tr>\n",
       "    <tr>\n",
       "      <th>Start date (2011-03-30) must be before end date (2011-03-30)</th>\n",
       "      <th>CA-3-A035214001</th>\n",
       "      <td>1</td>\n",
       "    </tr>\n",
       "    <tr>\n",
       "      <th>Start date (2013-01-02) must be before end date (2013-01-02)</th>\n",
       "      <th>CA-3-M013793001</th>\n",
       "      <td>1</td>\n",
       "    </tr>\n",
       "    <tr>\n",
       "      <th>Start date (2014-03-14) must be before end date (2014-03-14)</th>\n",
       "      <th>CA-3-D000695001</th>\n",
       "      <td>1</td>\n",
       "    </tr>\n",
       "    <tr>\n",
       "      <th>Start date (2014-03-28) must be before end date (2014-03-28)</th>\n",
       "      <th>CA-3-D000578001</th>\n",
       "      <td>1</td>\n",
       "    </tr>\n",
       "    <tr>\n",
       "      <th rowspan=\"7\" valign=\"top\">activity-date[date @type=\"1\"] or activity-date[@type=\"2\"] must be present</th>\n",
       "      <th rowspan=\"7\" valign=\"top\">Neither activity-date[@type=\"1\"] nor activity-date[@type=\"2\"] have been found</th>\n",
       "      <th>CA-3-A033298001</th>\n",
       "      <td>1</td>\n",
       "    </tr>\n",
       "    <tr>\n",
       "      <th>CA-3-A034519001</th>\n",
       "      <td>1</td>\n",
       "    </tr>\n",
       "    <tr>\n",
       "      <th>CA-3-A035113001</th>\n",
       "      <td>1</td>\n",
       "    </tr>\n",
       "    <tr>\n",
       "      <th>CA-3-A035138001</th>\n",
       "      <td>1</td>\n",
       "    </tr>\n",
       "    <tr>\n",
       "      <th>CA-3-D003333001</th>\n",
       "      <td>1</td>\n",
       "    </tr>\n",
       "    <tr>\n",
       "      <th>CA-3-D004965001</th>\n",
       "      <td>1</td>\n",
       "    </tr>\n",
       "    <tr>\n",
       "      <th>CA-3-S065691001</th>\n",
       "      <td>1</td>\n",
       "    </tr>\n",
       "    <tr>\n",
       "      <th rowspan=\"2\" valign=\"top\">either sector or transaction/sector must be present</th>\n",
       "      <th rowspan=\"2\" valign=\"top\">Neither sector nor transaction/sector have been found</th>\n",
       "      <th>CA-3-A033944001</th>\n",
       "      <td>1</td>\n",
       "    </tr>\n",
       "    <tr>\n",
       "      <th>CA-3-D002114001</th>\n",
       "      <td>1</td>\n",
       "    </tr>\n",
       "    <tr>\n",
       "      <th rowspan=\"8\" valign=\"top\">recipient-country/@percentage and recipient-region/@percentage must sum to 100</th>\n",
       "      <th rowspan=\"8\" valign=\"top\">`(recipient-country|recipient-region)/@percentage` should sum to 100</th>\n",
       "      <th>CA-3-A034764001</th>\n",
       "      <td>1</td>\n",
       "    </tr>\n",
       "    <tr>\n",
       "      <th>CA-3-A035272001</th>\n",
       "      <td>1</td>\n",
       "    </tr>\n",
       "    <tr>\n",
       "      <th>CA-3-A035470001</th>\n",
       "      <td>1</td>\n",
       "    </tr>\n",
       "    <tr>\n",
       "      <th>CA-3-D002423002</th>\n",
       "      <td>1</td>\n",
       "    </tr>\n",
       "    <tr>\n",
       "      <th>CA-3-D004492001</th>\n",
       "      <td>1</td>\n",
       "    </tr>\n",
       "    <tr>\n",
       "      <th>CA-3-D004499001</th>\n",
       "      <td>1</td>\n",
       "    </tr>\n",
       "    <tr>\n",
       "      <th>CA-3-D004504001</th>\n",
       "      <td>1</td>\n",
       "    </tr>\n",
       "    <tr>\n",
       "      <th>CA-3-D004505001</th>\n",
       "      <td>1</td>\n",
       "    </tr>\n",
       "  </tbody>\n",
       "</table>\n",
       "</div>"
      ],
      "text/plain": [
       "                                                                                                                       path\n",
       "rule                                               message                                            id                   \n",
       "activity-date[@type=\"2\"]/@iso-date must be befo... Start date (2007-03-27) must be before end date... CA-3-A033637001     1\n",
       "                                                   Start date (2008-03-20) must be before end date... CA-3-M012715001     1\n",
       "                                                   Start date (2009-01-13) must be before end date... CA-3-M012957001     1\n",
       "                                                   Start date (2009-03-26) must be before end date... CA-3-M013025001     1\n",
       "                                                   Start date (2009-03-27) must be before end date... CA-3-M013020001     1\n",
       "                                                                                                      CA-3-M013026001     1\n",
       "                                                                                                      CA-3-M013029001     1\n",
       "                                                   Start date (2010-03-24) must be before end date... CA-3-M013190001     1\n",
       "                                                   Start date (2010-03-25) must be before end date... CA-3-M013183001     1\n",
       "                                                   Start date (2011-03-30) must be before end date... CA-3-A035214001     1\n",
       "                                                   Start date (2013-01-02) must be before end date... CA-3-M013793001     1\n",
       "                                                   Start date (2014-03-14) must be before end date... CA-3-D000695001     1\n",
       "                                                   Start date (2014-03-28) must be before end date... CA-3-D000578001     1\n",
       "activity-date[date @type=\"1\"] or activity-date[... Neither activity-date[@type=\"1\"] nor activity-d... CA-3-A033298001     1\n",
       "                                                                                                      CA-3-A034519001     1\n",
       "                                                                                                      CA-3-A035113001     1\n",
       "                                                                                                      CA-3-A035138001     1\n",
       "                                                                                                      CA-3-D003333001     1\n",
       "                                                                                                      CA-3-D004965001     1\n",
       "                                                                                                      CA-3-S065691001     1\n",
       "either sector or transaction/sector must be pre... Neither sector nor transaction/sector have been... CA-3-A033944001     1\n",
       "                                                                                                      CA-3-D002114001     1\n",
       "recipient-country/@percentage and recipient-reg... `(recipient-country|recipient-region)/@percenta... CA-3-A034764001     1\n",
       "                                                                                                      CA-3-A035272001     1\n",
       "                                                                                                      CA-3-A035470001     1\n",
       "                                                                                                      CA-3-D002423002     1\n",
       "                                                                                                      CA-3-D004492001     1\n",
       "                                                                                                      CA-3-D004499001     1\n",
       "                                                                                                      CA-3-D004504001     1\n",
       "                                                                                                      CA-3-D004505001     1"
      ]
     },
     "execution_count": 879,
     "metadata": {},
     "output_type": "execute_result"
    }
   ],
   "source": [
    "ruleset_validation_by_rule = ruleset_table.pivot_table(\n",
    "    index=['rule', 'message', 'id'], aggfunc='count')\n",
    "\n",
    "ruleset_validation_by_rule.to_excel(pd_writer, \"Ruleset Violations by Rule\")\n",
    "\n",
    "ruleset_validation_by_rule"
   ]
  },
  {
   "cell_type": "code",
   "execution_count": 880,
   "metadata": {},
   "outputs": [
    {
     "name": "stdout",
     "output_type": "stream",
     "text": [
      "\n"
     ]
    }
   ],
   "source": [
    "print(\"\")"
   ]
  },
  {
   "cell_type": "markdown",
   "metadata": {},
   "source": [
    "Here we can see that most of the ruleset violations have been to do with dates - either activities starting and ending on the same day, or not including a start date, although there are also some ruleset violations regarding sectors and recipient countries."
   ]
  },
  {
   "cell_type": "markdown",
   "metadata": {},
   "source": [
    "# Assessing Compliance and Coverage \n",
    "\n",
    "This section assesses the compliance of GAC’s data with the IATI 2.02 standard, with a specific focus on the use and coverage of all elements of the standard (version 2.02) and adherence to rules. There is an initial high level look at timeliness and comprehensiveness (coverage), followed by a deeper analysis informed by 6 specified use-cases use cases in the subsections below.\n",
    "\n",
    "To summarise the following few sections, the IATI data published by Global Affairs Canada performs very well on the general metrics used for compliance. The timeliness and recency of its data is exemplary, and in general the comprehensive use of IATI standard fields puts it at the top five IATI publishers, [according to the IATI Dashboard](http://dashboard.iatistandard.org/summary_stats.html).\n",
    "\n",
    "This is described in more detail in the next few sections. It is important to note, however, that just evaluating the proportion of activities with certain fields does not elaborate on how useful the inclusion of various fields is, hence the [use case driven approach below](#Detailed-Analysis-Method) is required to analyse in more depth."
   ]
  },
  {
   "cell_type": "markdown",
   "metadata": {},
   "source": [
    "## Initial Evaluation at Compliance and Coverage\n",
    "(Deliverable 3.1)\n",
    "\n",
    "This section utilises the data available on the IATI Dashboard [Publishing Statistics](http://dashboard.iatistandard.org/publishing_stats.html) page, filtering and interpreting to evaluate Timeliness and Coverage. As we see in the [sub-sections below](#Detailed-Analysis-Method) however, the dashboard doesn't evaluate the combination of fields required to assess some specific use cases, hence the need for more detailed analysis.\n",
    "\n",
    "### Timeliness\n",
    "\n",
    "Both the frequency of publication and the recency of GAC's IATI data is exemplary, achieving the highest designation from the IATI Dasboard's metrics:"
   ]
  },
  {
   "cell_type": "code",
   "execution_count": 881,
   "metadata": {},
   "outputs": [
    {
     "data": {
      "text/html": [
       "<div>\n",
       "<style>\n",
       "    .dataframe thead tr:only-child th {\n",
       "        text-align: right;\n",
       "    }\n",
       "\n",
       "    .dataframe thead th {\n",
       "        text-align: left;\n",
       "    }\n",
       "\n",
       "    .dataframe tbody tr th {\n",
       "        vertical-align: top;\n",
       "    }\n",
       "</style>\n",
       "<table border=\"1\" class=\"dataframe\">\n",
       "  <thead>\n",
       "    <tr style=\"text-align: right;\">\n",
       "      <th></th>\n",
       "      <th>Publisher Name</th>\n",
       "      <th>Publisher Registry Id</th>\n",
       "      <th>2016-12</th>\n",
       "      <th>2017-01</th>\n",
       "      <th>2017-02</th>\n",
       "      <th>2017-03</th>\n",
       "      <th>2017-04</th>\n",
       "      <th>2017-05</th>\n",
       "      <th>2017-06</th>\n",
       "      <th>2017-07</th>\n",
       "      <th>2017-08</th>\n",
       "      <th>2017-09</th>\n",
       "      <th>2017-10</th>\n",
       "      <th>2017-11</th>\n",
       "      <th>Frequency</th>\n",
       "    </tr>\n",
       "  </thead>\n",
       "  <tbody>\n",
       "    <tr>\n",
       "      <th>5</th>\n",
       "      <td>Canada - Global Affairs Canada | Affaires mond...</td>\n",
       "      <td>gac-amc</td>\n",
       "      <td>1</td>\n",
       "      <td>1</td>\n",
       "      <td>11</td>\n",
       "      <td>20</td>\n",
       "      <td>2</td>\n",
       "      <td>1</td>\n",
       "      <td>3</td>\n",
       "      <td>16</td>\n",
       "      <td>13</td>\n",
       "      <td>17</td>\n",
       "      <td>12</td>\n",
       "      <td>13</td>\n",
       "      <td>Monthly</td>\n",
       "    </tr>\n",
       "  </tbody>\n",
       "</table>\n",
       "</div>"
      ],
      "text/plain": [
       "                                      Publisher Name Publisher Registry Id  \\\n",
       "5  Canada - Global Affairs Canada | Affaires mond...               gac-amc   \n",
       "\n",
       "   2016-12  2017-01  2017-02  2017-03  2017-04  2017-05  2017-06  2017-07  \\\n",
       "5        1        1       11       20        2        1        3       16   \n",
       "\n",
       "   2017-08  2017-09  2017-10  2017-11 Frequency  \n",
       "5       13       17       12       13   Monthly  "
      ]
     },
     "execution_count": 881,
     "metadata": {},
     "output_type": "execute_result"
    }
   ],
   "source": [
    "timeliness = pd.read_csv(\n",
    "    \"http://dashboard.iatistandard.org/timeliness_frequency.csv\")\n",
    "\n",
    "timeliness[timeliness['Publisher Registry Id'] == 'gac-amc']"
   ]
  },
  {
   "cell_type": "markdown",
   "metadata": {},
   "source": [
    "Although the frequency varies a lot by season, there has been consistent publication at least once every month, achieving a score of 'Monthly' which is the highest available score on the IATI Dashboard."
   ]
  },
  {
   "cell_type": "code",
   "execution_count": 882,
   "metadata": {},
   "outputs": [
    {
     "data": {
      "text/html": [
       "<div>\n",
       "<style>\n",
       "    .dataframe thead tr:only-child th {\n",
       "        text-align: right;\n",
       "    }\n",
       "\n",
       "    .dataframe thead th {\n",
       "        text-align: left;\n",
       "    }\n",
       "\n",
       "    .dataframe tbody tr th {\n",
       "        vertical-align: top;\n",
       "    }\n",
       "</style>\n",
       "<table border=\"1\" class=\"dataframe\">\n",
       "  <thead>\n",
       "    <tr style=\"text-align: right;\">\n",
       "      <th></th>\n",
       "      <th>Publisher Name</th>\n",
       "      <th>Publisher Registry Id</th>\n",
       "      <th>2016-12</th>\n",
       "      <th>2017-01</th>\n",
       "      <th>2017-02</th>\n",
       "      <th>2017-03</th>\n",
       "      <th>2017-04</th>\n",
       "      <th>2017-05</th>\n",
       "      <th>2017-06</th>\n",
       "      <th>2017-07</th>\n",
       "      <th>2017-08</th>\n",
       "      <th>2017-09</th>\n",
       "      <th>2017-10</th>\n",
       "      <th>2017-11</th>\n",
       "      <th>Time lag</th>\n",
       "    </tr>\n",
       "  </thead>\n",
       "  <tbody>\n",
       "    <tr>\n",
       "      <th>11</th>\n",
       "      <td>Canada - Global Affairs Canada | Affaires mond...</td>\n",
       "      <td>gac-amc</td>\n",
       "      <td>149</td>\n",
       "      <td>127</td>\n",
       "      <td>151</td>\n",
       "      <td>374</td>\n",
       "      <td>46</td>\n",
       "      <td>153</td>\n",
       "      <td>98</td>\n",
       "      <td>78</td>\n",
       "      <td>95</td>\n",
       "      <td>110</td>\n",
       "      <td>87</td>\n",
       "      <td>100</td>\n",
       "      <td>One month</td>\n",
       "    </tr>\n",
       "  </tbody>\n",
       "</table>\n",
       "</div>"
      ],
      "text/plain": [
       "                                       Publisher Name Publisher Registry Id  \\\n",
       "11  Canada - Global Affairs Canada | Affaires mond...               gac-amc   \n",
       "\n",
       "    2016-12  2017-01  2017-02  2017-03  2017-04  2017-05  2017-06  2017-07  \\\n",
       "11      149      127      151      374       46      153       98       78   \n",
       "\n",
       "    2017-08  2017-09  2017-10  2017-11   Time lag  \n",
       "11       95      110       87      100  One month  "
      ]
     },
     "execution_count": 882,
     "metadata": {},
     "output_type": "execute_result"
    }
   ],
   "source": [
    "timeliness = pd.read_csv(\n",
    "    \"http://dashboard.iatistandard.org/timeliness_timelag.csv\")\n",
    "\n",
    "timeliness[timeliness['Publisher Registry Id'] == 'gac-amc']"
   ]
  },
  {
   "cell_type": "markdown",
   "metadata": {},
   "source": [
    "Again, with the Time Lag measurement, which shows the number of transactions dated in each month, this data achieves the highest measure. This means that the data is very up to date by the standards of the IATI Dashboard."
   ]
  },
  {
   "cell_type": "markdown",
   "metadata": {},
   "source": [
    "### Forward Looking Data\n",
    "\n",
    "The table below shows that GAC has gradual decline in the proportion of activities with budgets over the course of the next three years. This gives an average of 78%, putting GAC at the 37th position on this metric when compared to all IATI publishers, according to the [IATI Dashboard](http://dashboard.iatistandard.org/summary_stats.html)."
   ]
  },
  {
   "cell_type": "code",
   "execution_count": 883,
   "metadata": {},
   "outputs": [
    {
     "data": {
      "text/html": [
       "<div>\n",
       "<style>\n",
       "    .dataframe thead tr:only-child th {\n",
       "        text-align: right;\n",
       "    }\n",
       "\n",
       "    .dataframe thead th {\n",
       "        text-align: left;\n",
       "    }\n",
       "\n",
       "    .dataframe tbody tr th {\n",
       "        vertical-align: top;\n",
       "    }\n",
       "</style>\n",
       "<table border=\"1\" class=\"dataframe\">\n",
       "  <thead>\n",
       "    <tr style=\"text-align: right;\">\n",
       "      <th></th>\n",
       "      <th>Publisher Name</th>\n",
       "      <th>Publisher Registry Id</th>\n",
       "      <th>Percentage of current activities with budgets (2017)</th>\n",
       "      <th>Percentage of current activities with budgets (2018)</th>\n",
       "      <th>Percentage of current activities with budgets (2019)</th>\n",
       "    </tr>\n",
       "  </thead>\n",
       "  <tbody>\n",
       "    <tr>\n",
       "      <th>88</th>\n",
       "      <td>Canada - Global Affairs Canada | Affaires mond...</td>\n",
       "      <td>gac-amc</td>\n",
       "      <td>95</td>\n",
       "      <td>80</td>\n",
       "      <td>60</td>\n",
       "    </tr>\n",
       "  </tbody>\n",
       "</table>\n",
       "</div>"
      ],
      "text/plain": [
       "                                       Publisher Name Publisher Registry Id  \\\n",
       "88  Canada - Global Affairs Canada | Affaires mond...               gac-amc   \n",
       "\n",
       "   Percentage of current activities with budgets (2017)  \\\n",
       "88                                                 95     \n",
       "\n",
       "   Percentage of current activities with budgets (2018)  \\\n",
       "88                                                 80     \n",
       "\n",
       "   Percentage of current activities with budgets (2019)  \n",
       "88                                                 60    "
      ]
     },
     "execution_count": 883,
     "metadata": {},
     "output_type": "execute_result"
    }
   ],
   "source": [
    "forwardlooking = pd.read_csv(\n",
    "    \"http://dashboard.iatistandard.org/forwardlooking.csv\")\n",
    "\n",
    "forwardlooking = forwardlooking[\n",
    "    forwardlooking.columns.drop(\n",
    "        list(forwardlooking.filter(regex='Current activities ')))]\n",
    "\n",
    "forwardlooking[forwardlooking['Publisher Registry Id'] == 'gac-amc']"
   ]
  },
  {
   "cell_type": "markdown",
   "metadata": {},
   "source": [
    "### Coverage Of IATI Standard Elements\n",
    "\n",
    "The tables below show the percentage of GAC's activities which include the fields listed in the headings. They are lifted from the IATI Dashboard.\n",
    "\n",
    "GAC has 100% coverage of the core IATI Elements:"
   ]
  },
  {
   "cell_type": "code",
   "execution_count": 884,
   "metadata": {},
   "outputs": [
    {
     "data": {
      "text/html": [
       "<div>\n",
       "<style>\n",
       "    .dataframe thead tr:only-child th {\n",
       "        text-align: right;\n",
       "    }\n",
       "\n",
       "    .dataframe thead th {\n",
       "        text-align: left;\n",
       "    }\n",
       "\n",
       "    .dataframe tbody tr th {\n",
       "        vertical-align: top;\n",
       "    }\n",
       "</style>\n",
       "<table border=\"1\" class=\"dataframe\">\n",
       "  <thead>\n",
       "    <tr style=\"text-align: right;\">\n",
       "      <th></th>\n",
       "      <th>Publisher Name</th>\n",
       "      <th>Publisher Registry Id</th>\n",
       "      <th>Version (with any data)</th>\n",
       "      <th>Reporting-Org (with any data)</th>\n",
       "      <th>Iati-identifier (with any data)</th>\n",
       "      <th>Participating Organisation (with any data)</th>\n",
       "      <th>Title (with any data)</th>\n",
       "      <th>Description (with any data)</th>\n",
       "      <th>Status (with any data)</th>\n",
       "      <th>Activity Date (with any data)</th>\n",
       "      <th>Sector (with any data)</th>\n",
       "      <th>Country or Region (with any data)</th>\n",
       "      <th>Average (with any data)</th>\n",
       "    </tr>\n",
       "  </thead>\n",
       "  <tbody>\n",
       "    <tr>\n",
       "      <th>88</th>\n",
       "      <td>Canada - Global Affairs Canada | Affaires mond...</td>\n",
       "      <td>gac-amc</td>\n",
       "      <td>100</td>\n",
       "      <td>100</td>\n",
       "      <td>100</td>\n",
       "      <td>100</td>\n",
       "      <td>100</td>\n",
       "      <td>100</td>\n",
       "      <td>100</td>\n",
       "      <td>100</td>\n",
       "      <td>100</td>\n",
       "      <td>100</td>\n",
       "      <td>100</td>\n",
       "    </tr>\n",
       "  </tbody>\n",
       "</table>\n",
       "</div>"
      ],
      "text/plain": [
       "                                       Publisher Name Publisher Registry Id  \\\n",
       "88  Canada - Global Affairs Canada | Affaires mond...               gac-amc   \n",
       "\n",
       "   Version (with any data) Reporting-Org (with any data)  \\\n",
       "88                     100                           100   \n",
       "\n",
       "   Iati-identifier (with any data) Participating Organisation (with any data)  \\\n",
       "88                             100                                        100   \n",
       "\n",
       "   Title (with any data) Description (with any data) Status (with any data)  \\\n",
       "88                   100                         100                    100   \n",
       "\n",
       "   Activity Date (with any data) Sector (with any data)  \\\n",
       "88                           100                    100   \n",
       "\n",
       "   Country or Region (with any data)  Average (with any data)  \n",
       "88                               100                      100  "
      ]
     },
     "execution_count": 884,
     "metadata": {},
     "output_type": "execute_result"
    }
   ],
   "source": [
    "comprehensiveness_core = pd.read_csv(\n",
    "    \"http://dashboard.iatistandard.org/comprehensiveness_core.csv\")\n",
    "\n",
    "comprehensiveness_core = comprehensiveness_core[\n",
    "    comprehensiveness_core.columns.drop(\n",
    "        list(comprehensiveness_core.filter(regex='with valid data')))]\n",
    "\n",
    "comprehensiveness_core[comprehensiveness_core['Publisher Registry Id'] == 'gac-amc']"
   ]
  },
  {
   "cell_type": "markdown",
   "metadata": {},
   "source": [
    "This is nearly true of the financials, though there is a slight dip in disbursements and expenditure transactions. The IATI Dashboard doesn't not consider `planned-disbursements` which have been considered [below](#Deliverable-3.1.6)."
   ]
  },
  {
   "cell_type": "code",
   "execution_count": 885,
   "metadata": {},
   "outputs": [
    {
     "data": {
      "text/html": [
       "<div>\n",
       "<style>\n",
       "    .dataframe thead tr:only-child th {\n",
       "        text-align: right;\n",
       "    }\n",
       "\n",
       "    .dataframe thead th {\n",
       "        text-align: left;\n",
       "    }\n",
       "\n",
       "    .dataframe tbody tr th {\n",
       "        vertical-align: top;\n",
       "    }\n",
       "</style>\n",
       "<table border=\"1\" class=\"dataframe\">\n",
       "  <thead>\n",
       "    <tr style=\"text-align: right;\">\n",
       "      <th></th>\n",
       "      <th>Publisher Name</th>\n",
       "      <th>Publisher Registry Id</th>\n",
       "      <th>Transaction - Commitment (with any data)</th>\n",
       "      <th>Transaction - Disbursement or Expenditure (with any data)</th>\n",
       "      <th>Transaction - Traceability (with any data)</th>\n",
       "      <th>Budget (with any data)</th>\n",
       "      <th>Average (with any data)</th>\n",
       "    </tr>\n",
       "  </thead>\n",
       "  <tbody>\n",
       "    <tr>\n",
       "      <th>88</th>\n",
       "      <td>Canada - Global Affairs Canada | Affaires mond...</td>\n",
       "      <td>gac-amc</td>\n",
       "      <td>100</td>\n",
       "      <td>87</td>\n",
       "      <td>100</td>\n",
       "      <td>100</td>\n",
       "      <td>97</td>\n",
       "    </tr>\n",
       "  </tbody>\n",
       "</table>\n",
       "</div>"
      ],
      "text/plain": [
       "                                       Publisher Name Publisher Registry Id  \\\n",
       "88  Canada - Global Affairs Canada | Affaires mond...               gac-amc   \n",
       "\n",
       "   Transaction - Commitment (with any data)  \\\n",
       "88                                      100   \n",
       "\n",
       "   Transaction - Disbursement or Expenditure (with any data)  \\\n",
       "88                                                 87          \n",
       "\n",
       "   Transaction - Traceability (with any data) Budget (with any data)  \\\n",
       "88                                        100                    100   \n",
       "\n",
       "    Average (with any data)  \n",
       "88                       97  "
      ]
     },
     "execution_count": 885,
     "metadata": {},
     "output_type": "execute_result"
    }
   ],
   "source": [
    "comprehensiveness_financials = pd.read_csv(\n",
    "    \"http://dashboard.iatistandard.org/comprehensiveness_financials.csv\")\n",
    "\n",
    "comprehensiveness_financials = comprehensiveness_financials[\n",
    "    comprehensiveness_financials.columns.drop(\n",
    "        list(comprehensiveness_financials.filter(regex='with valid data')))]\n",
    "\n",
    "comprehensiveness_financials[comprehensiveness_financials['Publisher Registry Id'] == 'gac-amc']"
   ]
  },
  {
   "cell_type": "markdown",
   "metadata": {},
   "source": [
    "With 'Value Added' fields, there is a more pronounced drop. The most significant field here is the `result/indicator`. As seen in the section on [schema validation](#Schema-Valdation) above, this causes the majority of GAC's activities to be invalid."
   ]
  },
  {
   "cell_type": "code",
   "execution_count": 886,
   "metadata": {},
   "outputs": [
    {
     "data": {
      "text/html": [
       "<div>\n",
       "<style>\n",
       "    .dataframe thead tr:only-child th {\n",
       "        text-align: right;\n",
       "    }\n",
       "\n",
       "    .dataframe thead th {\n",
       "        text-align: left;\n",
       "    }\n",
       "\n",
       "    .dataframe tbody tr th {\n",
       "        vertical-align: top;\n",
       "    }\n",
       "</style>\n",
       "<table border=\"1\" class=\"dataframe\">\n",
       "  <thead>\n",
       "    <tr style=\"text-align: right;\">\n",
       "      <th></th>\n",
       "      <th>Publisher Name</th>\n",
       "      <th>Publisher Registry Id</th>\n",
       "      <th>Contacts (with any data)</th>\n",
       "      <th>Location Details (with any data)</th>\n",
       "      <th>Geographic Coordinates (with any data)</th>\n",
       "      <th>DAC Sectors (with any data)</th>\n",
       "      <th>Capital Spend (with any data)</th>\n",
       "      <th>Activity Documents (with any data)</th>\n",
       "      <th>Aid Type (with any data)</th>\n",
       "      <th>Recipient Language (with any data)</th>\n",
       "      <th>Result/ Indicator (with any data)</th>\n",
       "      <th>Average (with any data)</th>\n",
       "    </tr>\n",
       "  </thead>\n",
       "  <tbody>\n",
       "    <tr>\n",
       "      <th>88</th>\n",
       "      <td>Canada - Global Affairs Canada | Affaires mond...</td>\n",
       "      <td>gac-amc</td>\n",
       "      <td>100</td>\n",
       "      <td>95</td>\n",
       "      <td>95</td>\n",
       "      <td>100</td>\n",
       "      <td>23</td>\n",
       "      <td>100</td>\n",
       "      <td>100</td>\n",
       "      <td>55</td>\n",
       "      <td>0</td>\n",
       "      <td>74</td>\n",
       "    </tr>\n",
       "  </tbody>\n",
       "</table>\n",
       "</div>"
      ],
      "text/plain": [
       "                                       Publisher Name Publisher Registry Id  \\\n",
       "88  Canada - Global Affairs Canada | Affaires mond...               gac-amc   \n",
       "\n",
       "   Contacts (with any data) Location Details (with any data)  \\\n",
       "88                      100                               95   \n",
       "\n",
       "   Geographic Coordinates (with any data) DAC Sectors (with any data)  \\\n",
       "88                                     95                         100   \n",
       "\n",
       "   Capital Spend (with any data) Activity Documents (with any data)  \\\n",
       "88                            23                                100   \n",
       "\n",
       "   Aid Type (with any data) Recipient Language (with any data)  \\\n",
       "88                      100                                 55   \n",
       "\n",
       "   Result/ Indicator (with any data)  Average (with any data)  \n",
       "88                                 0                       74  "
      ]
     },
     "execution_count": 886,
     "metadata": {},
     "output_type": "execute_result"
    }
   ],
   "source": [
    "comprehensiveness_valueadded = pd.read_csv(\n",
    "    \"http://dashboard.iatistandard.org/comprehensiveness_valueadded.csv\")\n",
    "\n",
    "comprehensiveness_valueadded = comprehensiveness_valueadded[\n",
    "    comprehensiveness_valueadded.columns.drop(\n",
    "        list(comprehensiveness_valueadded.filter(regex='with valid data')))]\n",
    "\n",
    "comprehensiveness_valueadded[comprehensiveness_valueadded['Publisher Registry Id'] == 'gac-amc']"
   ]
  },
  {
   "cell_type": "code",
   "execution_count": 887,
   "metadata": {},
   "outputs": [
    {
     "data": {
      "text/html": [
       "<div>\n",
       "<style>\n",
       "    .dataframe thead tr:only-child th {\n",
       "        text-align: right;\n",
       "    }\n",
       "\n",
       "    .dataframe thead th {\n",
       "        text-align: left;\n",
       "    }\n",
       "\n",
       "    .dataframe tbody tr th {\n",
       "        vertical-align: top;\n",
       "    }\n",
       "</style>\n",
       "<table border=\"1\" class=\"dataframe\">\n",
       "  <thead>\n",
       "    <tr style=\"text-align: right;\">\n",
       "      <th></th>\n",
       "      <th>Publisher Name</th>\n",
       "      <th>Publisher Registry Id</th>\n",
       "      <th>Publisher Type</th>\n",
       "      <th>Timeliness</th>\n",
       "      <th>Forward looking</th>\n",
       "      <th>Comprehensive</th>\n",
       "      <th>Score</th>\n",
       "      <th>Coverage</th>\n",
       "      <th>Coverage-adjusted score</th>\n",
       "    </tr>\n",
       "  </thead>\n",
       "  <tbody>\n",
       "    <tr>\n",
       "      <th>88</th>\n",
       "      <td>Canada - Global Affairs Canada | Affaires mond...</td>\n",
       "      <td>gac-amc</td>\n",
       "      <td>Government</td>\n",
       "      <td>100</td>\n",
       "      <td>78</td>\n",
       "      <td>92</td>\n",
       "      <td>90</td>\n",
       "      <td>100</td>\n",
       "      <td>90</td>\n",
       "    </tr>\n",
       "  </tbody>\n",
       "</table>\n",
       "</div>"
      ],
      "text/plain": [
       "                                       Publisher Name Publisher Registry Id  \\\n",
       "88  Canada - Global Affairs Canada | Affaires mond...               gac-amc   \n",
       "\n",
       "   Publisher Type  Timeliness  Forward looking  Comprehensive  Score  \\\n",
       "88     Government         100               78             92     90   \n",
       "\n",
       "    Coverage  Coverage-adjusted score  \n",
       "88       100                       90  "
      ]
     },
     "execution_count": 887,
     "metadata": {},
     "output_type": "execute_result"
    }
   ],
   "source": [
    "summary_stats = pd.read_csv(\n",
    "    \"http://dashboard.iatistandard.org/summary_stats.csv\")\n",
    "\n",
    "summary_stats = summary_stats[\n",
    "    summary_stats.columns.drop(\n",
    "        list(summary_stats.filter(regex='with valid data')))]\n",
    "\n",
    "summary_stats[summary_stats['Publisher Registry Id'] == 'gac-amc']"
   ]
  },
  {
   "cell_type": "markdown",
   "metadata": {},
   "source": [
    "## Detailed Analysis Method\n",
    "\n",
    "Each of the deliverables below corresponds to a use case, around which compliance and coverage is framed. These are reflected in the 'Use Case' section which opens each of them.\n",
    "\n",
    "The analytical approaches employed have varied by deliverable, and have generally been grounded in initial exploratory analysis and built depending on the findings.\n",
    "\n",
    "All of the code is visible, so scrutiny on the methods is encouraged."
   ]
  },
  {
   "cell_type": "markdown",
   "metadata": {},
   "source": [
    "## Use-case 1: Identifying Projects and Partners (Deliverable 3.1.1)\n",
    "\n",
    "### Use Case\n",
    "\n",
    "_Identify projects in specific countries, with specific partners, with specific types of partners (eg multilateral organisations, CSOs, private sector)_\n",
    "\n",
    "This section analyses the existence and coverage of the relevant fields: recipient countries, participating organisations, participating organisation (type and role)."
   ]
  },
  {
   "cell_type": "markdown",
   "metadata": {},
   "source": [
    "First, let's extract some information about the fields we're interested in, namely recipient countries and participating organisations.\n",
    "\n",
    "The table below extracted below shows, for each activity, how many instances of each field there are. This will gives us a first pass, and allows us to make more opinionated analyses subsequently.\n",
    "\n",
    "<div class=\"alert alert-info\">\n",
    "\n",
    "**Note**: Although recipient regions aren't the focus of this deliverable, they've been included to help analysis of recipient country below. Please also note that this table has been included in the Appendix Workbook\n",
    "\n",
    "</div>\n",
    "\n"
   ]
  },
  {
   "cell_type": "code",
   "execution_count": 888,
   "metadata": {},
   "outputs": [
    {
     "data": {
      "text/html": [
       "<div>\n",
       "<style>\n",
       "    .dataframe thead tr:only-child th {\n",
       "        text-align: right;\n",
       "    }\n",
       "\n",
       "    .dataframe thead th {\n",
       "        text-align: left;\n",
       "    }\n",
       "\n",
       "    .dataframe tbody tr th {\n",
       "        vertical-align: top;\n",
       "    }\n",
       "</style>\n",
       "<table border=\"1\" class=\"dataframe\">\n",
       "  <thead>\n",
       "    <tr style=\"text-align: right;\">\n",
       "      <th></th>\n",
       "      <th>iati-identifier</th>\n",
       "      <th>activity-status</th>\n",
       "      <th>recipient-country-count</th>\n",
       "      <th>recipient-region-count</th>\n",
       "      <th>participating-organisation-count</th>\n",
       "    </tr>\n",
       "  </thead>\n",
       "  <tbody>\n",
       "    <tr>\n",
       "      <th>0</th>\n",
       "      <td>CA-3-A031268001</td>\n",
       "      <td>3</td>\n",
       "      <td>12</td>\n",
       "      <td>0</td>\n",
       "      <td>3</td>\n",
       "    </tr>\n",
       "    <tr>\n",
       "      <th>1</th>\n",
       "      <td>CA-3-A031470001</td>\n",
       "      <td>2</td>\n",
       "      <td>1</td>\n",
       "      <td>0</td>\n",
       "      <td>3</td>\n",
       "    </tr>\n",
       "    <tr>\n",
       "      <th>2</th>\n",
       "      <td>CA-3-A031708001</td>\n",
       "      <td>2</td>\n",
       "      <td>1</td>\n",
       "      <td>0</td>\n",
       "      <td>3</td>\n",
       "    </tr>\n",
       "    <tr>\n",
       "      <th>3</th>\n",
       "      <td>CA-3-A031708003</td>\n",
       "      <td>3</td>\n",
       "      <td>1</td>\n",
       "      <td>0</td>\n",
       "      <td>3</td>\n",
       "    </tr>\n",
       "    <tr>\n",
       "      <th>4</th>\n",
       "      <td>CA-3-A031717001</td>\n",
       "      <td>3</td>\n",
       "      <td>1</td>\n",
       "      <td>0</td>\n",
       "      <td>3</td>\n",
       "    </tr>\n",
       "  </tbody>\n",
       "</table>\n",
       "</div>"
      ],
      "text/plain": [
       "   iati-identifier activity-status  recipient-country-count  \\\n",
       "0  CA-3-A031268001               3                       12   \n",
       "1  CA-3-A031470001               2                        1   \n",
       "2  CA-3-A031708001               2                        1   \n",
       "3  CA-3-A031708003               3                        1   \n",
       "4  CA-3-A031717001               3                        1   \n",
       "\n",
       "   recipient-region-count  participating-organisation-count  \n",
       "0                       0                                 3  \n",
       "1                       0                                 3  \n",
       "2                       0                                 3  \n",
       "3                       0                                 3  \n",
       "4                       0                                 3  "
      ]
     },
     "execution_count": 888,
     "metadata": {},
     "output_type": "execute_result"
    }
   ],
   "source": [
    "locations_and_partners = pd.DataFrame(\n",
    "    columns=[\n",
    "        'iati-identifier', \n",
    "        'activity-status', \n",
    "        'recipient-country-count',\n",
    "        'recipient-region-count',\n",
    "        'participating-organisation-count'\n",
    "    ],\n",
    "    data=[[\n",
    "        activity.find('iati-identifier').text,\n",
    "        activity.find('activity-status').get('code'), \n",
    "        len(activity.findall('recipient-country')),\n",
    "        len(activity.findall('recipient-region')),\n",
    "        len(activity.findall('participating-org'))\n",
    "    ] for activity in big_iati.findall('iati-activity')])\n",
    "\n",
    "locations_and_partners.to_excel(pd_writer, \"Locations and Partners\")\n",
    "\n",
    "locations_and_partners.head()"
   ]
  },
  {
   "cell_type": "markdown",
   "metadata": {},
   "source": [
    "Now, we can use the 'describe' cuntion to analyse this distribution"
   ]
  },
  {
   "cell_type": "code",
   "execution_count": 889,
   "metadata": {
    "scrolled": true
   },
   "outputs": [
    {
     "data": {
      "text/html": [
       "<div>\n",
       "<style>\n",
       "    .dataframe thead tr:only-child th {\n",
       "        text-align: right;\n",
       "    }\n",
       "\n",
       "    .dataframe thead th {\n",
       "        text-align: left;\n",
       "    }\n",
       "\n",
       "    .dataframe tbody tr th {\n",
       "        vertical-align: top;\n",
       "    }\n",
       "</style>\n",
       "<table border=\"1\" class=\"dataframe\">\n",
       "  <thead>\n",
       "    <tr style=\"text-align: right;\">\n",
       "      <th></th>\n",
       "      <th>recipient-country-count</th>\n",
       "      <th>recipient-region-count</th>\n",
       "      <th>participating-organisation-count</th>\n",
       "    </tr>\n",
       "  </thead>\n",
       "  <tbody>\n",
       "    <tr>\n",
       "      <th>count</th>\n",
       "      <td>3961.000000</td>\n",
       "      <td>3961.00000</td>\n",
       "      <td>3961.0</td>\n",
       "    </tr>\n",
       "    <tr>\n",
       "      <th>mean</th>\n",
       "      <td>2.696289</td>\n",
       "      <td>0.44307</td>\n",
       "      <td>3.0</td>\n",
       "    </tr>\n",
       "    <tr>\n",
       "      <th>std</th>\n",
       "      <td>9.298740</td>\n",
       "      <td>1.15179</td>\n",
       "      <td>0.0</td>\n",
       "    </tr>\n",
       "    <tr>\n",
       "      <th>min</th>\n",
       "      <td>0.000000</td>\n",
       "      <td>0.00000</td>\n",
       "      <td>3.0</td>\n",
       "    </tr>\n",
       "    <tr>\n",
       "      <th>25%</th>\n",
       "      <td>1.000000</td>\n",
       "      <td>0.00000</td>\n",
       "      <td>3.0</td>\n",
       "    </tr>\n",
       "    <tr>\n",
       "      <th>50%</th>\n",
       "      <td>1.000000</td>\n",
       "      <td>0.00000</td>\n",
       "      <td>3.0</td>\n",
       "    </tr>\n",
       "    <tr>\n",
       "      <th>75%</th>\n",
       "      <td>1.000000</td>\n",
       "      <td>0.00000</td>\n",
       "      <td>3.0</td>\n",
       "    </tr>\n",
       "    <tr>\n",
       "      <th>max</th>\n",
       "      <td>148.000000</td>\n",
       "      <td>5.00000</td>\n",
       "      <td>3.0</td>\n",
       "    </tr>\n",
       "  </tbody>\n",
       "</table>\n",
       "</div>"
      ],
      "text/plain": [
       "       recipient-country-count  recipient-region-count  \\\n",
       "count              3961.000000              3961.00000   \n",
       "mean                  2.696289                 0.44307   \n",
       "std                   9.298740                 1.15179   \n",
       "min                   0.000000                 0.00000   \n",
       "25%                   1.000000                 0.00000   \n",
       "50%                   1.000000                 0.00000   \n",
       "75%                   1.000000                 0.00000   \n",
       "max                 148.000000                 5.00000   \n",
       "\n",
       "       participating-organisation-count  \n",
       "count                            3961.0  \n",
       "mean                                3.0  \n",
       "std                                 0.0  \n",
       "min                                 3.0  \n",
       "25%                                 3.0  \n",
       "50%                                 3.0  \n",
       "75%                                 3.0  \n",
       "max                                 3.0  "
      ]
     },
     "execution_count": 889,
     "metadata": {},
     "output_type": "execute_result"
    }
   ],
   "source": [
    "locations_and_partners.describe()"
   ]
  },
  {
   "cell_type": "markdown",
   "metadata": {},
   "source": [
    "The key things to observe here are as follows:\n",
    "\n",
    "* There are exactly three participating organisation elements in every element (max = 3; min = 3). This will allow a more opinionated analysis below.\n",
    "* Although the mean number of recipient countries provided is around 3, there is a lot of variation, and there are some with none, and at least one with 0 and one with 148. Again, this guides analysis below.\n",
    "* The two middle quartiles are constituted entirely of activities with one recipient country."
   ]
  },
  {
   "cell_type": "markdown",
   "metadata": {},
   "source": [
    "### Recipient Countries"
   ]
  },
  {
   "cell_type": "markdown",
   "metadata": {},
   "source": [
    "To get more of a sense of the distribution of recipient country coverage, let's use a histogram."
   ]
  },
  {
   "cell_type": "code",
   "execution_count": 890,
   "metadata": {
    "scrolled": false
   },
   "outputs": [
    {
     "data": {
      "text/html": [
       "\n",
       "\n",
       "    <div class=\"bk-root\">\n",
       "        <div class=\"bk-plotdiv\" id=\"26076872-48f4-4b8d-ab2e-66027990fe74\"></div>\n",
       "    </div>\n",
       "<script type=\"text/javascript\">\n",
       "  \n",
       "  (function(global) {\n",
       "    function now() {\n",
       "      return new Date();\n",
       "    }\n",
       "  \n",
       "    var force = false;\n",
       "  \n",
       "    if (typeof (window._bokeh_onload_callbacks) === \"undefined\" || force === true) {\n",
       "      window._bokeh_onload_callbacks = [];\n",
       "      window._bokeh_is_loading = undefined;\n",
       "    }\n",
       "  \n",
       "  \n",
       "    \n",
       "    if (typeof (window._bokeh_timeout) === \"undefined\" || force === true) {\n",
       "      window._bokeh_timeout = Date.now() + 0;\n",
       "      window._bokeh_failed_load = false;\n",
       "    }\n",
       "  \n",
       "    var NB_LOAD_WARNING = {'data': {'text/html':\n",
       "       \"<div style='background-color: #fdd'>\\n\"+\n",
       "       \"<p>\\n\"+\n",
       "       \"BokehJS does not appear to have successfully loaded. If loading BokehJS from CDN, this \\n\"+\n",
       "       \"may be due to a slow or bad network connection. Possible fixes:\\n\"+\n",
       "       \"</p>\\n\"+\n",
       "       \"<ul>\\n\"+\n",
       "       \"<li>re-rerun `output_notebook()` to attempt to load from CDN again, or</li>\\n\"+\n",
       "       \"<li>use INLINE resources instead, as so:</li>\\n\"+\n",
       "       \"</ul>\\n\"+\n",
       "       \"<code>\\n\"+\n",
       "       \"from bokeh.resources import INLINE\\n\"+\n",
       "       \"output_notebook(resources=INLINE)\\n\"+\n",
       "       \"</code>\\n\"+\n",
       "       \"</div>\"}};\n",
       "  \n",
       "    function display_loaded() {\n",
       "      if (window.Bokeh !== undefined) {\n",
       "        var el = document.getElementById(\"26076872-48f4-4b8d-ab2e-66027990fe74\");\n",
       "        el.textContent = \"BokehJS \" + Bokeh.version + \" successfully loaded.\";\n",
       "      } else if (Date.now() < window._bokeh_timeout) {\n",
       "        setTimeout(display_loaded, 100)\n",
       "      }\n",
       "    }\n",
       "  \n",
       "    function run_callbacks() {\n",
       "      window._bokeh_onload_callbacks.forEach(function(callback) { callback() });\n",
       "      delete window._bokeh_onload_callbacks\n",
       "      console.info(\"Bokeh: all callbacks have finished\");\n",
       "    }\n",
       "  \n",
       "    function load_libs(js_urls, callback) {\n",
       "      window._bokeh_onload_callbacks.push(callback);\n",
       "      if (window._bokeh_is_loading > 0) {\n",
       "        console.log(\"Bokeh: BokehJS is being loaded, scheduling callback at\", now());\n",
       "        return null;\n",
       "      }\n",
       "      if (js_urls == null || js_urls.length === 0) {\n",
       "        run_callbacks();\n",
       "        return null;\n",
       "      }\n",
       "      console.log(\"Bokeh: BokehJS not loaded, scheduling load and callback at\", now());\n",
       "      window._bokeh_is_loading = js_urls.length;\n",
       "      for (var i = 0; i < js_urls.length; i++) {\n",
       "        var url = js_urls[i];\n",
       "        var s = document.createElement('script');\n",
       "        s.src = url;\n",
       "        s.async = false;\n",
       "        s.onreadystatechange = s.onload = function() {\n",
       "          window._bokeh_is_loading--;\n",
       "          if (window._bokeh_is_loading === 0) {\n",
       "            console.log(\"Bokeh: all BokehJS libraries loaded\");\n",
       "            run_callbacks()\n",
       "          }\n",
       "        };\n",
       "        s.onerror = function() {\n",
       "          console.warn(\"failed to load library \" + url);\n",
       "        };\n",
       "        console.log(\"Bokeh: injecting script tag for BokehJS library: \", url);\n",
       "        document.getElementsByTagName(\"head\")[0].appendChild(s);\n",
       "      }\n",
       "    };var element = document.getElementById(\"26076872-48f4-4b8d-ab2e-66027990fe74\");\n",
       "    if (element == null) {\n",
       "      console.log(\"Bokeh: ERROR: autoload.js configured with elementid '26076872-48f4-4b8d-ab2e-66027990fe74' but no matching script tag was found. \")\n",
       "      return false;\n",
       "    }\n",
       "  \n",
       "    var js_urls = [];\n",
       "  \n",
       "    var inline_js = [\n",
       "      function(Bokeh) {\n",
       "        (function() {\n",
       "          var fn = function() {\n",
       "            var docs_json = {\"891c61af-4dc3-40e0-a456-178869b6eeaf\":{\"roots\":{\"references\":[{\"attributes\":{\"fill_alpha\":{\"field\":\"fill_alpha\"},\"fill_color\":{\"field\":\"color\"},\"height\":{\"field\":\"height\",\"units\":\"data\"},\"line_color\":{\"field\":\"line_color\"},\"width\":{\"field\":\"width\",\"units\":\"data\"},\"x\":{\"field\":\"x\"},\"y\":{\"field\":\"y\"}},\"id\":\"beca405c-715a-4b0c-aa2f-38036dacb815\",\"type\":\"Rect\"},{\"attributes\":{\"fill_alpha\":{\"field\":\"fill_alpha\"},\"fill_color\":{\"field\":\"color\"},\"height\":{\"field\":\"height\",\"units\":\"data\"},\"line_color\":{\"field\":\"line_color\"},\"width\":{\"field\":\"width\",\"units\":\"data\"},\"x\":{\"field\":\"x\"},\"y\":{\"field\":\"y\"}},\"id\":\"88a61f43-479e-4d32-8815-942a72e4085c\",\"type\":\"Rect\"},{\"attributes\":{\"callback\":null,\"column_names\":[\"x\",\"y\",\"width\",\"height\",\"color\",\"fill_alpha\",\"line_color\",\"line_alpha\",\"label\"],\"data\":{\"chart_index\":[\"(116.426667, 117.413333]\"],\"color\":[\"#f22c40\"],\"fill_alpha\":[0.8],\"height\":[0.0],\"label\":[\"(116.426667, 117.413333]\"],\"line_alpha\":[1.0],\"line_color\":[\"black\"],\"width\":[0.9866666666666646],\"x\":[\"116.91999999999999\"],\"y\":[0.0]}},\"id\":\"5af6cce4-69c6-4f17-94e3-8348440e93ff\",\"type\":\"ColumnDataSource\"},{\"attributes\":{\"callback\":null,\"column_names\":[\"x\",\"y\",\"width\",\"height\",\"color\",\"fill_alpha\",\"line_color\",\"line_alpha\",\"label\"],\"data\":{\"chart_index\":[\"(71.040000, 72.026667]\"],\"color\":[\"#f22c40\"],\"fill_alpha\":[0.8],\"height\":[0.0],\"label\":[\"(71.040000, 72.026667]\"],\"line_alpha\":[1.0],\"line_color\":[\"black\"],\"width\":[0.9866666666666646],\"x\":[\"71.5333335\"],\"y\":[0.0]}},\"id\":\"7b8b4c1c-be43-4f00-b14b-dbbb8741239d\",\"type\":\"ColumnDataSource\"},{\"attributes\":{\"data_source\":{\"id\":\"19dc8702-0f69-47ce-a2f9-6028a712a274\",\"type\":\"ColumnDataSource\"},\"glyph\":{\"id\":\"09431833-2ab6-4f76-b838-2a96857734c4\",\"type\":\"Rect\"},\"hover_glyph\":null,\"muted_glyph\":null},\"id\":\"eb8646db-e92b-4181-a890-84c015e48c28\",\"type\":\"GlyphRenderer\"},{\"attributes\":{\"callback\":null,\"column_names\":[\"x\",\"y\",\"width\",\"height\",\"color\",\"fill_alpha\",\"line_color\",\"line_alpha\",\"label\"],\"data\":{\"chart_index\":[\"(14.800000, 15.786667]\"],\"color\":[\"#f22c40\"],\"fill_alpha\":[0.8],\"height\":[17.0],\"label\":[\"(14.800000, 15.786667]\"],\"line_alpha\":[1.0],\"line_color\":[\"black\"],\"width\":[0.9866666666666664],\"x\":[\"15.2933335\"],\"y\":[8.5]}},\"id\":\"1e083b82-4fb1-41dc-9da2-f293ab902514\",\"type\":\"ColumnDataSource\"},{\"attributes\":{\"fill_alpha\":{\"field\":\"fill_alpha\"},\"fill_color\":{\"field\":\"color\"},\"height\":{\"field\":\"height\",\"units\":\"data\"},\"line_color\":{\"field\":\"line_color\"},\"width\":{\"field\":\"width\",\"units\":\"data\"},\"x\":{\"field\":\"x\"},\"y\":{\"field\":\"y\"}},\"id\":\"3bfb5e2c-4596-48b3-88f1-4a3ecbad45cc\",\"type\":\"Rect\"},{\"attributes\":{\"data_source\":{\"id\":\"29ee2946-c326-46c9-a879-631330c7693c\",\"type\":\"ColumnDataSource\"},\"glyph\":{\"id\":\"445815b3-5f87-4b90-9639-f00f7839ec2a\",\"type\":\"Rect\"},\"hover_glyph\":null,\"muted_glyph\":null},\"id\":\"23cf69c9-fe3a-49dd-84c6-8239bc44c199\",\"type\":\"GlyphRenderer\"},{\"attributes\":{\"fill_alpha\":{\"field\":\"fill_alpha\"},\"fill_color\":{\"field\":\"color\"},\"height\":{\"field\":\"height\",\"units\":\"data\"},\"line_color\":{\"field\":\"line_color\"},\"width\":{\"field\":\"width\",\"units\":\"data\"},\"x\":{\"field\":\"x\"},\"y\":{\"field\":\"y\"}},\"id\":\"732ebef1-ea66-4837-bb41-365545bf0589\",\"type\":\"Rect\"},{\"attributes\":{\"callback\":null,\"column_names\":[\"x\",\"y\",\"width\",\"height\",\"color\",\"fill_alpha\",\"line_color\",\"line_alpha\",\"label\"],\"data\":{\"chart_index\":[\"(115.440000, 116.426667]\"],\"color\":[\"#f22c40\"],\"fill_alpha\":[0.8],\"height\":[0.0],\"label\":[\"(115.440000, 116.426667]\"],\"line_alpha\":[1.0],\"line_color\":[\"black\"],\"width\":[0.9866666666666788],\"x\":[\"115.9333335\"],\"y\":[0.0]}},\"id\":\"4dcb53bd-801d-490e-ad1b-94388f74b0e6\",\"type\":\"ColumnDataSource\"},{\"attributes\":{\"callback\":null,\"column_names\":[\"x\",\"y\",\"width\",\"height\",\"color\",\"fill_alpha\",\"line_color\",\"line_alpha\",\"label\"],\"data\":{\"chart_index\":[\"(72.026667, 73.013333]\"],\"color\":[\"#f22c40\"],\"fill_alpha\":[0.8],\"height\":[0.0],\"label\":[\"(72.026667, 73.013333]\"],\"line_alpha\":[1.0],\"line_color\":[\"black\"],\"width\":[0.9866666666666646],\"x\":[\"72.52000000000001\"],\"y\":[0.0]}},\"id\":\"abc2bd44-d2ce-4631-a83e-85d14015c1ae\",\"type\":\"ColumnDataSource\"},{\"attributes\":{\"fill_alpha\":{\"field\":\"fill_alpha\"},\"fill_color\":{\"field\":\"color\"},\"height\":{\"field\":\"height\",\"units\":\"data\"},\"line_color\":{\"field\":\"line_color\"},\"width\":{\"field\":\"width\",\"units\":\"data\"},\"x\":{\"field\":\"x\"},\"y\":{\"field\":\"y\"}},\"id\":\"2cac8860-4359-49ed-a452-17d9007567e4\",\"type\":\"Rect\"},{\"attributes\":{\"data_source\":{\"id\":\"4dcb53bd-801d-490e-ad1b-94388f74b0e6\",\"type\":\"ColumnDataSource\"},\"glyph\":{\"id\":\"555e311e-201d-4e54-a754-5f95ad0733f9\",\"type\":\"Rect\"},\"hover_glyph\":null,\"muted_glyph\":null},\"id\":\"5ba91ceb-8874-4692-a190-e291af3ab613\",\"type\":\"GlyphRenderer\"},{\"attributes\":{\"fill_alpha\":{\"field\":\"fill_alpha\"},\"fill_color\":{\"field\":\"color\"},\"height\":{\"field\":\"height\",\"units\":\"data\"},\"line_color\":{\"field\":\"line_color\"},\"width\":{\"field\":\"width\",\"units\":\"data\"},\"x\":{\"field\":\"x\"},\"y\":{\"field\":\"y\"}},\"id\":\"9beee95b-ce52-453b-9726-9b4dcc969419\",\"type\":\"Rect\"},{\"attributes\":{\"callback\":null,\"column_names\":[\"x\",\"y\",\"width\",\"height\",\"color\",\"fill_alpha\",\"line_color\",\"line_alpha\",\"label\"],\"data\":{\"chart_index\":[\"(117.413333, 118.400000]\"],\"color\":[\"#f22c40\"],\"fill_alpha\":[0.8],\"height\":[0.0],\"label\":[\"(117.413333, 118.400000]\"],\"line_alpha\":[1.0],\"line_color\":[\"black\"],\"width\":[0.9866666666666646],\"x\":[\"117.9066665\"],\"y\":[0.0]}},\"id\":\"2f8a8c18-6235-438a-bc86-421a89694403\",\"type\":\"ColumnDataSource\"},{\"attributes\":{\"fill_alpha\":{\"field\":\"fill_alpha\"},\"fill_color\":{\"field\":\"color\"},\"height\":{\"field\":\"height\",\"units\":\"data\"},\"line_color\":{\"field\":\"line_color\"},\"width\":{\"field\":\"width\",\"units\":\"data\"},\"x\":{\"field\":\"x\"},\"y\":{\"field\":\"y\"}},\"id\":\"ce82959f-8823-49dd-973f-25a098f47427\",\"type\":\"Rect\"},{\"attributes\":{\"data_source\":{\"id\":\"99f3b339-195c-499f-aa14-52c82fa33bfb\",\"type\":\"ColumnDataSource\"},\"glyph\":{\"id\":\"61c3639b-91b8-4a76-b86a-fcdca0ac35c6\",\"type\":\"Rect\"},\"hover_glyph\":null,\"muted_glyph\":null},\"id\":\"08641583-d4f4-4ba3-8b14-b90fd5285129\",\"type\":\"GlyphRenderer\"},{\"attributes\":{\"data_source\":{\"id\":\"4f3dc418-7475-4f9b-b869-bbb25aecdcf4\",\"type\":\"ColumnDataSource\"},\"glyph\":{\"id\":\"8b5ffa40-c0cb-4b2e-9bb6-826e3c3f066e\",\"type\":\"Rect\"},\"hover_glyph\":null,\"muted_glyph\":null},\"id\":\"0ca01902-6786-4983-be88-049865368225\",\"type\":\"GlyphRenderer\"},{\"attributes\":{\"data_source\":{\"id\":\"7b8b4c1c-be43-4f00-b14b-dbbb8741239d\",\"type\":\"ColumnDataSource\"},\"glyph\":{\"id\":\"88a61f43-479e-4d32-8815-942a72e4085c\",\"type\":\"Rect\"},\"hover_glyph\":null,\"muted_glyph\":null},\"id\":\"74ee5920-fe87-46fa-90f9-6cb7dfb90aa5\",\"type\":\"GlyphRenderer\"},{\"attributes\":{\"callback\":null,\"column_names\":[\"x\",\"y\",\"width\",\"height\",\"color\",\"fill_alpha\",\"line_color\",\"line_alpha\",\"label\"],\"data\":{\"chart_index\":[\"(17.760000, 18.746667]\"],\"color\":[\"#f22c40\"],\"fill_alpha\":[0.8],\"height\":[3.0],\"label\":[\"(17.760000, 18.746667]\"],\"line_alpha\":[1.0],\"line_color\":[\"black\"],\"width\":[0.9866666666666646],\"x\":[\"18.2533335\"],\"y\":[1.5]}},\"id\":\"7b086c0c-84a8-45a6-bfe8-6a98c4c67ed5\",\"type\":\"ColumnDataSource\"},{\"attributes\":{\"data_source\":{\"id\":\"1e083b82-4fb1-41dc-9da2-f293ab902514\",\"type\":\"ColumnDataSource\"},\"glyph\":{\"id\":\"beca405c-715a-4b0c-aa2f-38036dacb815\",\"type\":\"Rect\"},\"hover_glyph\":null,\"muted_glyph\":null},\"id\":\"d2d63d8f-4810-4d36-8b96-ddb70d3a228a\",\"type\":\"GlyphRenderer\"},{\"attributes\":{\"data_source\":{\"id\":\"8d74a116-4ea3-427f-b1fd-b29a12613102\",\"type\":\"ColumnDataSource\"},\"glyph\":{\"id\":\"2bc5c851-7f85-451b-b023-33bfbed212c4\",\"type\":\"Rect\"},\"hover_glyph\":null,\"muted_glyph\":null},\"id\":\"d83141a5-3a44-4351-8a84-71b02f9c1dae\",\"type\":\"GlyphRenderer\"},{\"attributes\":{\"fill_alpha\":{\"field\":\"fill_alpha\"},\"fill_color\":{\"field\":\"color\"},\"height\":{\"field\":\"height\",\"units\":\"data\"},\"line_color\":{\"field\":\"line_color\"},\"width\":{\"field\":\"width\",\"units\":\"data\"},\"x\":{\"field\":\"x\"},\"y\":{\"field\":\"y\"}},\"id\":\"c70e396b-dbea-447a-9c74-9fe03c50adc6\",\"type\":\"Rect\"},{\"attributes\":{\"callback\":null,\"column_names\":[\"x\",\"y\",\"width\",\"height\",\"color\",\"fill_alpha\",\"line_color\",\"line_alpha\",\"label\"],\"data\":{\"chart_index\":[\"(73.013333, 74.000000]\"],\"color\":[\"#f22c40\"],\"fill_alpha\":[0.8],\"height\":[0.0],\"label\":[\"(73.013333, 74.000000]\"],\"line_alpha\":[1.0],\"line_color\":[\"black\"],\"width\":[0.9866666666666646],\"x\":[\"73.5066665\"],\"y\":[0.0]}},\"id\":\"ef26c7ab-29b3-44ac-921c-461939c548b1\",\"type\":\"ColumnDataSource\"},{\"attributes\":{\"data_source\":{\"id\":\"5af6cce4-69c6-4f17-94e3-8348440e93ff\",\"type\":\"ColumnDataSource\"},\"glyph\":{\"id\":\"2cac8860-4359-49ed-a452-17d9007567e4\",\"type\":\"Rect\"},\"hover_glyph\":null,\"muted_glyph\":null},\"id\":\"6cca0ceb-5abc-4251-8330-e0d55ca7cc51\",\"type\":\"GlyphRenderer\"},{\"attributes\":{\"fill_alpha\":{\"field\":\"fill_alpha\"},\"fill_color\":{\"field\":\"color\"},\"height\":{\"field\":\"height\",\"units\":\"data\"},\"line_color\":{\"field\":\"line_color\"},\"width\":{\"field\":\"width\",\"units\":\"data\"},\"x\":{\"field\":\"x\"},\"y\":{\"field\":\"y\"}},\"id\":\"b74267af-af15-4b18-87e3-35aa3469f37c\",\"type\":\"Rect\"},{\"attributes\":{\"fill_alpha\":{\"field\":\"fill_alpha\"},\"fill_color\":{\"field\":\"color\"},\"height\":{\"field\":\"height\",\"units\":\"data\"},\"line_color\":{\"field\":\"line_color\"},\"width\":{\"field\":\"width\",\"units\":\"data\"},\"x\":{\"field\":\"x\"},\"y\":{\"field\":\"y\"}},\"id\":\"37d60692-2c45-4163-9193-286e11aea31d\",\"type\":\"Rect\"},{\"attributes\":{\"callback\":null,\"column_names\":[\"x\",\"y\",\"width\",\"height\",\"color\",\"fill_alpha\",\"line_color\",\"line_alpha\",\"label\"],\"data\":{\"chart_index\":[\"(118.400000, 119.386667]\"],\"color\":[\"#f22c40\"],\"fill_alpha\":[0.8],\"height\":[0.0],\"label\":[\"(118.400000, 119.386667]\"],\"line_alpha\":[1.0],\"line_color\":[\"black\"],\"width\":[0.9866666666666646],\"x\":[\"118.89333350000001\"],\"y\":[0.0]}},\"id\":\"be4a6b54-72ac-422e-bc91-cfe4f6f71332\",\"type\":\"ColumnDataSource\"},{\"attributes\":{\"fill_alpha\":{\"field\":\"fill_alpha\"},\"fill_color\":{\"field\":\"color\"},\"height\":{\"field\":\"height\",\"units\":\"data\"},\"line_color\":{\"field\":\"line_color\"},\"width\":{\"field\":\"width\",\"units\":\"data\"},\"x\":{\"field\":\"x\"},\"y\":{\"field\":\"y\"}},\"id\":\"e641e22f-53fa-427e-bc40-b3975d1d80e7\",\"type\":\"Rect\"},{\"attributes\":{\"callback\":null,\"column_names\":[\"x\",\"y\",\"width\",\"height\",\"color\",\"fill_alpha\",\"line_color\",\"line_alpha\",\"label\"],\"data\":{\"chart_index\":[\"(82.880000, 83.866667]\"],\"color\":[\"#f22c40\"],\"fill_alpha\":[0.8],\"height\":[0.0],\"label\":[\"(82.880000, 83.866667]\"],\"line_alpha\":[1.0],\"line_color\":[\"black\"],\"width\":[0.9866666666666788],\"x\":[\"83.3733335\"],\"y\":[0.0]}},\"id\":\"cb43007b-ace8-4b35-a6ea-548a48337cc4\",\"type\":\"ColumnDataSource\"},{\"attributes\":{\"data_source\":{\"id\":\"abc2bd44-d2ce-4631-a83e-85d14015c1ae\",\"type\":\"ColumnDataSource\"},\"glyph\":{\"id\":\"732ebef1-ea66-4837-bb41-365545bf0589\",\"type\":\"Rect\"},\"hover_glyph\":null,\"muted_glyph\":null},\"id\":\"d62442a0-f8e5-4416-a122-4aab5cf59e90\",\"type\":\"GlyphRenderer\"},{\"attributes\":{\"fill_alpha\":{\"field\":\"fill_alpha\"},\"fill_color\":{\"field\":\"color\"},\"height\":{\"field\":\"height\",\"units\":\"data\"},\"line_color\":{\"field\":\"line_color\"},\"width\":{\"field\":\"width\",\"units\":\"data\"},\"x\":{\"field\":\"x\"},\"y\":{\"field\":\"y\"}},\"id\":\"2674d61f-b00d-4354-873c-eaa38087f338\",\"type\":\"Rect\"},{\"attributes\":{\"fill_alpha\":{\"field\":\"fill_alpha\"},\"fill_color\":{\"field\":\"color\"},\"height\":{\"field\":\"height\",\"units\":\"data\"},\"line_color\":{\"field\":\"line_color\"},\"width\":{\"field\":\"width\",\"units\":\"data\"},\"x\":{\"field\":\"x\"},\"y\":{\"field\":\"y\"}},\"id\":\"3519b2a3-f426-4f6f-be8e-fefa6850c5f1\",\"type\":\"Rect\"},{\"attributes\":{\"fill_alpha\":{\"field\":\"fill_alpha\"},\"fill_color\":{\"field\":\"color\"},\"height\":{\"field\":\"height\",\"units\":\"data\"},\"line_color\":{\"field\":\"line_color\"},\"width\":{\"field\":\"width\",\"units\":\"data\"},\"x\":{\"field\":\"x\"},\"y\":{\"field\":\"y\"}},\"id\":\"93682ee2-37fc-4f74-8eb6-838ca85012cf\",\"type\":\"Rect\"},{\"attributes\":{\"callback\":null,\"column_names\":[\"x\",\"y\",\"width\",\"height\",\"color\",\"fill_alpha\",\"line_color\",\"line_alpha\",\"label\"],\"data\":{\"chart_index\":[\"(74.000000, 74.986667]\"],\"color\":[\"#f22c40\"],\"fill_alpha\":[0.8],\"height\":[0.0],\"label\":[\"(74.000000, 74.986667]\"],\"line_alpha\":[1.0],\"line_color\":[\"black\"],\"width\":[0.9866666666666646],\"x\":[\"74.4933335\"],\"y\":[0.0]}},\"id\":\"3dab2dee-88a7-4352-aaab-15edb76bc83b\",\"type\":\"ColumnDataSource\"},{\"attributes\":{\"callback\":null,\"column_names\":[\"x\",\"y\",\"width\",\"height\",\"color\",\"fill_alpha\",\"line_color\",\"line_alpha\",\"label\"],\"data\":{\"chart_index\":[\"(120.373333, 121.360000]\"],\"color\":[\"#f22c40\"],\"fill_alpha\":[0.8],\"height\":[0.0],\"label\":[\"(120.373333, 121.360000]\"],\"line_alpha\":[1.0],\"line_color\":[\"black\"],\"width\":[0.9866666666666646],\"x\":[\"120.86666650000001\"],\"y\":[0.0]}},\"id\":\"8d74a116-4ea3-427f-b1fd-b29a12613102\",\"type\":\"ColumnDataSource\"},{\"attributes\":{\"data_source\":{\"id\":\"2f8a8c18-6235-438a-bc86-421a89694403\",\"type\":\"ColumnDataSource\"},\"glyph\":{\"id\":\"9beee95b-ce52-453b-9726-9b4dcc969419\",\"type\":\"Rect\"},\"hover_glyph\":null,\"muted_glyph\":null},\"id\":\"86cd7e6c-9c9c-4e3a-a7a8-06f3bda4fb4c\",\"type\":\"GlyphRenderer\"},{\"attributes\":{\"fill_alpha\":{\"field\":\"fill_alpha\"},\"fill_color\":{\"field\":\"color\"},\"height\":{\"field\":\"height\",\"units\":\"data\"},\"line_color\":{\"field\":\"line_color\"},\"width\":{\"field\":\"width\",\"units\":\"data\"},\"x\":{\"field\":\"x\"},\"y\":{\"field\":\"y\"}},\"id\":\"9a7e55b6-2cd8-4bda-ad87-2ba3b3901528\",\"type\":\"Rect\"},{\"attributes\":{\"data_source\":{\"id\":\"7b086c0c-84a8-45a6-bfe8-6a98c4c67ed5\",\"type\":\"ColumnDataSource\"},\"glyph\":{\"id\":\"e641e22f-53fa-427e-bc40-b3975d1d80e7\",\"type\":\"Rect\"},\"hover_glyph\":null,\"muted_glyph\":null},\"id\":\"b7339fbc-da76-4077-a32b-0872debecbab\",\"type\":\"GlyphRenderer\"},{\"attributes\":{\"callback\":null,\"column_names\":[\"x\",\"y\",\"width\",\"height\",\"color\",\"fill_alpha\",\"line_color\",\"line_alpha\",\"label\"],\"data\":{\"chart_index\":[\"(18.746667, 19.733333]\"],\"color\":[\"#f22c40\"],\"fill_alpha\":[0.8],\"height\":[6.0],\"label\":[\"(18.746667, 19.733333]\"],\"line_alpha\":[1.0],\"line_color\":[\"black\"],\"width\":[0.9866666666666681],\"x\":[\"19.24\"],\"y\":[3.0]}},\"id\":\"9e41030e-65d4-4bb4-b07b-7f67846e5e20\",\"type\":\"ColumnDataSource\"},{\"attributes\":{\"fill_alpha\":{\"field\":\"fill_alpha\"},\"fill_color\":{\"field\":\"color\"},\"height\":{\"field\":\"height\",\"units\":\"data\"},\"line_color\":{\"field\":\"line_color\"},\"width\":{\"field\":\"width\",\"units\":\"data\"},\"x\":{\"field\":\"x\"},\"y\":{\"field\":\"y\"}},\"id\":\"40a82127-5d74-46ea-a5e0-f7109371823c\",\"type\":\"Rect\"},{\"attributes\":{\"callback\":null,\"column_names\":[\"x\",\"y\",\"width\",\"height\",\"color\",\"fill_alpha\",\"line_color\",\"line_alpha\",\"label\"],\"data\":{\"chart_index\":[\"(19.733333, 20.720000]\"],\"color\":[\"#f22c40\"],\"fill_alpha\":[0.8],\"height\":[3.0],\"label\":[\"(19.733333, 20.720000]\"],\"line_alpha\":[1.0],\"line_color\":[\"black\"],\"width\":[0.9866666666666646],\"x\":[\"20.2266665\"],\"y\":[1.5]}},\"id\":\"690a4ba1-c42c-448a-a968-21e6eb737ed8\",\"type\":\"ColumnDataSource\"},{\"attributes\":{\"data_source\":{\"id\":\"ef26c7ab-29b3-44ac-921c-461939c548b1\",\"type\":\"ColumnDataSource\"},\"glyph\":{\"id\":\"c70e396b-dbea-447a-9c74-9fe03c50adc6\",\"type\":\"Rect\"},\"hover_glyph\":null,\"muted_glyph\":null},\"id\":\"1cdc70e8-977d-4f60-b48e-8f3df5debe57\",\"type\":\"GlyphRenderer\"},{\"attributes\":{\"fill_alpha\":{\"field\":\"fill_alpha\"},\"fill_color\":{\"field\":\"color\"},\"height\":{\"field\":\"height\",\"units\":\"data\"},\"line_color\":{\"field\":\"line_color\"},\"width\":{\"field\":\"width\",\"units\":\"data\"},\"x\":{\"field\":\"x\"},\"y\":{\"field\":\"y\"}},\"id\":\"c59a9422-5d60-4a73-b095-af1b89dfc6fe\",\"type\":\"Rect\"},{\"attributes\":{\"callback\":null,\"column_names\":[\"x\",\"y\",\"width\",\"height\",\"color\",\"fill_alpha\",\"line_color\",\"line_alpha\",\"label\"],\"data\":{\"chart_index\":[\"(75.973333, 76.960000]\"],\"color\":[\"#f22c40\"],\"fill_alpha\":[0.8],\"height\":[0.0],\"label\":[\"(75.973333, 76.960000]\"],\"line_alpha\":[1.0],\"line_color\":[\"black\"],\"width\":[0.9866666666666788],\"x\":[\"76.4666665\"],\"y\":[0.0]}},\"id\":\"4f3dc418-7475-4f9b-b869-bbb25aecdcf4\",\"type\":\"ColumnDataSource\"},{\"attributes\":{\"data_source\":{\"id\":\"be4a6b54-72ac-422e-bc91-cfe4f6f71332\",\"type\":\"ColumnDataSource\"},\"glyph\":{\"id\":\"37d60692-2c45-4163-9193-286e11aea31d\",\"type\":\"Rect\"},\"hover_glyph\":null,\"muted_glyph\":null},\"id\":\"fd0f6aff-8c7c-43a2-aba5-7e2739ad5669\",\"type\":\"GlyphRenderer\"},{\"attributes\":{\"callback\":null,\"column_names\":[\"x\",\"y\",\"width\",\"height\",\"color\",\"fill_alpha\",\"line_color\",\"line_alpha\",\"label\"],\"data\":{\"chart_index\":[\"(24.666667, 25.653333]\"],\"color\":[\"#f22c40\"],\"fill_alpha\":[0.8],\"height\":[4.0],\"label\":[\"(24.666667, 25.653333]\"],\"line_alpha\":[1.0],\"line_color\":[\"black\"],\"width\":[0.9866666666666646],\"x\":[\"25.16\"],\"y\":[2.0]}},\"id\":\"5498b5b7-b5e9-4f43-bb7a-e8118c35e72d\",\"type\":\"ColumnDataSource\"},{\"attributes\":{\"data_source\":{\"id\":\"1071b079-9fa5-4d9f-8e06-bd4f9c262981\",\"type\":\"ColumnDataSource\"},\"glyph\":{\"id\":\"bb33d41b-1dc1-4d81-8af7-8b61f3e5883e\",\"type\":\"Rect\"},\"hover_glyph\":null,\"muted_glyph\":null},\"id\":\"eda45d8d-8278-4be2-be23-2b33808c4030\",\"type\":\"GlyphRenderer\"},{\"attributes\":{\"fill_alpha\":{\"field\":\"fill_alpha\"},\"fill_color\":{\"field\":\"color\"},\"height\":{\"field\":\"height\",\"units\":\"data\"},\"line_color\":{\"field\":\"line_color\"},\"width\":{\"field\":\"width\",\"units\":\"data\"},\"x\":{\"field\":\"x\"},\"y\":{\"field\":\"y\"}},\"id\":\"5c5e6ef4-e1fc-4243-8621-e50b3d120f8a\",\"type\":\"Rect\"},{\"attributes\":{\"data_source\":{\"id\":\"9e41030e-65d4-4bb4-b07b-7f67846e5e20\",\"type\":\"ColumnDataSource\"},\"glyph\":{\"id\":\"40a82127-5d74-46ea-a5e0-f7109371823c\",\"type\":\"Rect\"},\"hover_glyph\":null,\"muted_glyph\":null},\"id\":\"c45f006d-34e8-4452-8cca-f4f933d42dc4\",\"type\":\"GlyphRenderer\"},{\"attributes\":{\"callback\":null,\"column_names\":[\"x\",\"y\",\"width\",\"height\",\"color\",\"fill_alpha\",\"line_color\",\"line_alpha\",\"label\"],\"data\":{\"chart_index\":[\"(121.360000, 122.346667]\"],\"color\":[\"#f22c40\"],\"fill_alpha\":[0.8],\"height\":[1.0],\"label\":[\"(121.360000, 122.346667]\"],\"line_alpha\":[1.0],\"line_color\":[\"black\"],\"width\":[0.9866666666666646],\"x\":[\"121.85333349999999\"],\"y\":[0.5]}},\"id\":\"8f6b17e6-a3bf-477c-94ce-4e8933a28764\",\"type\":\"ColumnDataSource\"},{\"attributes\":{\"fill_alpha\":{\"field\":\"fill_alpha\"},\"fill_color\":{\"field\":\"color\"},\"height\":{\"field\":\"height\",\"units\":\"data\"},\"line_color\":{\"field\":\"line_color\"},\"width\":{\"field\":\"width\",\"units\":\"data\"},\"x\":{\"field\":\"x\"},\"y\":{\"field\":\"y\"}},\"id\":\"b2703534-4c4a-4d59-8aaa-f232e570dd09\",\"type\":\"Rect\"},{\"attributes\":{\"callback\":null,\"column_names\":[\"x\",\"y\",\"width\",\"height\",\"color\",\"fill_alpha\",\"line_color\",\"line_alpha\",\"label\"],\"data\":{\"chart_index\":[\"(20.720000, 21.706667]\"],\"color\":[\"#f22c40\"],\"fill_alpha\":[0.8],\"height\":[0.0],\"label\":[\"(20.720000, 21.706667]\"],\"line_alpha\":[1.0],\"line_color\":[\"black\"],\"width\":[0.9866666666666681],\"x\":[\"21.213333499999997\"],\"y\":[0.0]}},\"id\":\"9ea185b8-2581-4e0c-be08-4a5e29707f05\",\"type\":\"ColumnDataSource\"},{\"attributes\":{\"callback\":null,\"column_names\":[\"x\",\"y\",\"width\",\"height\",\"color\",\"fill_alpha\",\"line_color\",\"line_alpha\",\"label\"],\"data\":{\"chart_index\":[\"(76.960000, 77.946667]\"],\"color\":[\"#f22c40\"],\"fill_alpha\":[0.8],\"height\":[0.0],\"label\":[\"(76.960000, 77.946667]\"],\"line_alpha\":[1.0],\"line_color\":[\"black\"],\"width\":[0.9866666666666646],\"x\":[\"77.4533335\"],\"y\":[0.0]}},\"id\":\"3bfdd182-baa7-4f90-a2d0-2d08c74beb31\",\"type\":\"ColumnDataSource\"},{\"attributes\":{\"data_source\":{\"id\":\"3dab2dee-88a7-4352-aaab-15edb76bc83b\",\"type\":\"ColumnDataSource\"},\"glyph\":{\"id\":\"2674d61f-b00d-4354-873c-eaa38087f338\",\"type\":\"Rect\"},\"hover_glyph\":null,\"muted_glyph\":null},\"id\":\"0c68a72f-f9a9-416e-b4fe-ebc829f956e7\",\"type\":\"GlyphRenderer\"},{\"attributes\":{\"fill_alpha\":{\"field\":\"fill_alpha\"},\"fill_color\":{\"field\":\"color\"},\"height\":{\"field\":\"height\",\"units\":\"data\"},\"line_color\":{\"field\":\"line_color\"},\"width\":{\"field\":\"width\",\"units\":\"data\"},\"x\":{\"field\":\"x\"},\"y\":{\"field\":\"y\"}},\"id\":\"2bc5c851-7f85-451b-b023-33bfbed212c4\",\"type\":\"Rect\"},{\"attributes\":{\"callback\":null,\"column_names\":[\"x\",\"y\",\"width\",\"height\",\"color\",\"fill_alpha\",\"line_color\",\"line_alpha\",\"label\"],\"data\":{\"chart_index\":[\"(30.586667, 31.573333]\"],\"color\":[\"#f22c40\"],\"fill_alpha\":[0.8],\"height\":[0.0],\"label\":[\"(30.586667, 31.573333]\"],\"line_alpha\":[1.0],\"line_color\":[\"black\"],\"width\":[0.9866666666666681],\"x\":[\"31.08\"],\"y\":[0.0]}},\"id\":\"d6b96699-60df-47f5-8025-bba3f525ae2f\",\"type\":\"ColumnDataSource\"},{\"attributes\":{\"callback\":null,\"column_names\":[\"x\",\"y\",\"width\",\"height\",\"color\",\"fill_alpha\",\"line_color\",\"line_alpha\",\"label\"],\"data\":{\"chart_index\":[\"(134.186667, 135.173333]\"],\"color\":[\"#f22c40\"],\"fill_alpha\":[0.8],\"height\":[0.0],\"label\":[\"(134.186667, 135.173333]\"],\"line_alpha\":[1.0],\"line_color\":[\"black\"],\"width\":[0.9866666666666788],\"x\":[\"134.68\"],\"y\":[0.0]}},\"id\":\"26ad524c-a04c-465d-9d04-33f9981f4821\",\"type\":\"ColumnDataSource\"},{\"attributes\":{\"data_source\":{\"id\":\"690a4ba1-c42c-448a-a968-21e6eb737ed8\",\"type\":\"ColumnDataSource\"},\"glyph\":{\"id\":\"b74267af-af15-4b18-87e3-35aa3469f37c\",\"type\":\"Rect\"},\"hover_glyph\":null,\"muted_glyph\":null},\"id\":\"ad39ad4c-4953-4b8e-b43b-54503740411d\",\"type\":\"GlyphRenderer\"},{\"attributes\":{\"fill_alpha\":{\"field\":\"fill_alpha\"},\"fill_color\":{\"field\":\"color\"},\"height\":{\"field\":\"height\",\"units\":\"data\"},\"line_color\":{\"field\":\"line_color\"},\"width\":{\"field\":\"width\",\"units\":\"data\"},\"x\":{\"field\":\"x\"},\"y\":{\"field\":\"y\"}},\"id\":\"8b5ffa40-c0cb-4b2e-9bb6-826e3c3f066e\",\"type\":\"Rect\"},{\"attributes\":{\"data_source\":{\"id\":\"8f6b17e6-a3bf-477c-94ce-4e8933a28764\",\"type\":\"ColumnDataSource\"},\"glyph\":{\"id\":\"5c5e6ef4-e1fc-4243-8621-e50b3d120f8a\",\"type\":\"Rect\"},\"hover_glyph\":null,\"muted_glyph\":null},\"id\":\"c8bef998-127e-48ba-92bf-15554edb156a\",\"type\":\"GlyphRenderer\"},{\"attributes\":{\"callback\":null,\"column_names\":[\"x\",\"y\",\"width\",\"height\",\"color\",\"fill_alpha\",\"line_color\",\"line_alpha\",\"label\"],\"data\":{\"chart_index\":[\"(25.653333, 26.640000]\"],\"color\":[\"#f22c40\"],\"fill_alpha\":[0.8],\"height\":[1.0],\"label\":[\"(25.653333, 26.640000]\"],\"line_alpha\":[1.0],\"line_color\":[\"black\"],\"width\":[0.9866666666666681],\"x\":[\"26.146666500000002\"],\"y\":[0.5]}},\"id\":\"2f2b5193-89a8-4862-a0b9-0aafee85eec6\",\"type\":\"ColumnDataSource\"},{\"attributes\":{\"callback\":null,\"column_names\":[\"x\",\"y\",\"width\",\"height\",\"color\",\"fill_alpha\",\"line_color\",\"line_alpha\",\"label\"],\"data\":{\"chart_index\":[\"(122.346667, 123.333333]\"],\"color\":[\"#f22c40\"],\"fill_alpha\":[0.8],\"height\":[0.0],\"label\":[\"(122.346667, 123.333333]\"],\"line_alpha\":[1.0],\"line_color\":[\"black\"],\"width\":[0.9866666666666788],\"x\":[\"122.84\"],\"y\":[0.0]}},\"id\":\"fc75c56c-c7bf-405a-9e7c-83e961e62407\",\"type\":\"ColumnDataSource\"},{\"attributes\":{\"data_source\":{\"id\":\"cb43007b-ace8-4b35-a6ea-548a48337cc4\",\"type\":\"ColumnDataSource\"},\"glyph\":{\"id\":\"2e72fd99-34f4-46ed-a3fa-c111dc10c6bc\",\"type\":\"Rect\"},\"hover_glyph\":null,\"muted_glyph\":null},\"id\":\"c4ff878e-9e2a-46a7-8c18-e90343a5de7d\",\"type\":\"GlyphRenderer\"},{\"attributes\":{\"fill_alpha\":{\"field\":\"fill_alpha\"},\"fill_color\":{\"field\":\"color\"},\"height\":{\"field\":\"height\",\"units\":\"data\"},\"line_color\":{\"field\":\"line_color\"},\"width\":{\"field\":\"width\",\"units\":\"data\"},\"x\":{\"field\":\"x\"},\"y\":{\"field\":\"y\"}},\"id\":\"415a7615-3e75-44dd-850b-539a4de8af5b\",\"type\":\"Rect\"},{\"attributes\":{\"callback\":null,\"column_names\":[\"x\",\"y\",\"width\",\"height\",\"color\",\"fill_alpha\",\"line_color\",\"line_alpha\",\"label\"],\"data\":{\"chart_index\":[\"(89.786667, 90.773333]\"],\"color\":[\"#f22c40\"],\"fill_alpha\":[0.8],\"height\":[0.0],\"label\":[\"(89.786667, 90.773333]\"],\"line_alpha\":[1.0],\"line_color\":[\"black\"],\"width\":[0.9866666666666646],\"x\":[\"90.28\"],\"y\":[0.0]}},\"id\":\"5babe968-4b78-4f64-b1b8-7124b0de1e62\",\"type\":\"ColumnDataSource\"},{\"attributes\":{\"callback\":null,\"column_names\":[\"x\",\"y\",\"width\",\"height\",\"color\",\"fill_alpha\",\"line_color\",\"line_alpha\",\"label\"],\"data\":{\"chart_index\":[\"(123.333333, 124.320000]\"],\"color\":[\"#f22c40\"],\"fill_alpha\":[0.8],\"height\":[0.0],\"label\":[\"(123.333333, 124.320000]\"],\"line_alpha\":[1.0],\"line_color\":[\"black\"],\"width\":[0.9866666666666646],\"x\":[\"123.82666649999999\"],\"y\":[0.0]}},\"id\":\"5a51c15c-d967-46ad-a809-404952bf8fa7\",\"type\":\"ColumnDataSource\"},{\"attributes\":{\"data_source\":{\"id\":\"3bfdd182-baa7-4f90-a2d0-2d08c74beb31\",\"type\":\"ColumnDataSource\"},\"glyph\":{\"id\":\"c59a9422-5d60-4a73-b095-af1b89dfc6fe\",\"type\":\"Rect\"},\"hover_glyph\":null,\"muted_glyph\":null},\"id\":\"b7c42772-05db-4c2c-b42e-2422fbefdc98\",\"type\":\"GlyphRenderer\"},{\"attributes\":{\"callback\":null,\"column_names\":[\"x\",\"y\",\"width\",\"height\",\"color\",\"fill_alpha\",\"line_color\",\"line_alpha\",\"label\"],\"data\":{\"chart_index\":[\"(77.946667, 78.933333]\"],\"color\":[\"#f22c40\"],\"fill_alpha\":[0.8],\"height\":[0.0],\"label\":[\"(77.946667, 78.933333]\"],\"line_alpha\":[1.0],\"line_color\":[\"black\"],\"width\":[0.9866666666666646],\"x\":[\"78.44\"],\"y\":[0.0]}},\"id\":\"a7cc41b2-16ba-470a-bf4f-b3e147213a9a\",\"type\":\"ColumnDataSource\"},{\"attributes\":{\"fill_alpha\":{\"field\":\"fill_alpha\"},\"fill_color\":{\"field\":\"color\"},\"height\":{\"field\":\"height\",\"units\":\"data\"},\"line_color\":{\"field\":\"line_color\"},\"width\":{\"field\":\"width\",\"units\":\"data\"},\"x\":{\"field\":\"x\"},\"y\":{\"field\":\"y\"}},\"id\":\"bf1d1035-7b45-4fee-bd15-f882b154cf55\",\"type\":\"Rect\"},{\"attributes\":{\"callback\":null,\"column_names\":[\"x\",\"y\",\"width\",\"height\",\"color\",\"fill_alpha\",\"line_color\",\"line_alpha\",\"label\"],\"data\":{\"chart_index\":[\"(78.933333, 79.920000]\"],\"color\":[\"#f22c40\"],\"fill_alpha\":[0.8],\"height\":[0.0],\"label\":[\"(78.933333, 79.920000]\"],\"line_alpha\":[1.0],\"line_color\":[\"black\"],\"width\":[0.9866666666666646],\"x\":[\"79.42666650000001\"],\"y\":[0.0]}},\"id\":\"998ece44-95eb-4885-9838-7e38b21292ef\",\"type\":\"ColumnDataSource\"},{\"attributes\":{\"data_source\":{\"id\":\"9ea185b8-2581-4e0c-be08-4a5e29707f05\",\"type\":\"ColumnDataSource\"},\"glyph\":{\"id\":\"b2703534-4c4a-4d59-8aaa-f232e570dd09\",\"type\":\"Rect\"},\"hover_glyph\":null,\"muted_glyph\":null},\"id\":\"ad0f1f3b-04ae-4353-ad97-1a8a74022b13\",\"type\":\"GlyphRenderer\"},{\"attributes\":{\"callback\":null,\"column_names\":[\"x\",\"y\",\"width\",\"height\",\"color\",\"fill_alpha\",\"line_color\",\"line_alpha\",\"label\"],\"data\":{\"chart_index\":[\"(21.706667, 22.693333]\"],\"color\":[\"#f22c40\"],\"fill_alpha\":[0.8],\"height\":[1.0],\"label\":[\"(21.706667, 22.693333]\"],\"line_alpha\":[1.0],\"line_color\":[\"black\"],\"width\":[0.9866666666666681],\"x\":[\"22.2\"],\"y\":[0.5]}},\"id\":\"e5143810-774a-41d1-a8b8-52e5b9bdf5f1\",\"type\":\"ColumnDataSource\"},{\"attributes\":{\"data_source\":{\"id\":\"fc75c56c-c7bf-405a-9e7c-83e961e62407\",\"type\":\"ColumnDataSource\"},\"glyph\":{\"id\":\"415a7615-3e75-44dd-850b-539a4de8af5b\",\"type\":\"Rect\"},\"hover_glyph\":null,\"muted_glyph\":null},\"id\":\"e06b6b5f-6c24-4ce8-9087-800cfb2b8dd4\",\"type\":\"GlyphRenderer\"},{\"attributes\":{\"fill_alpha\":{\"field\":\"fill_alpha\"},\"fill_color\":{\"field\":\"color\"},\"height\":{\"field\":\"height\",\"units\":\"data\"},\"line_color\":{\"field\":\"line_color\"},\"width\":{\"field\":\"width\",\"units\":\"data\"},\"x\":{\"field\":\"x\"},\"y\":{\"field\":\"y\"}},\"id\":\"67a8d36d-054a-4a5c-8766-7e41d9b1c355\",\"type\":\"Rect\"},{\"attributes\":{\"fill_alpha\":{\"field\":\"fill_alpha\"},\"fill_color\":{\"field\":\"color\"},\"height\":{\"field\":\"height\",\"units\":\"data\"},\"line_color\":{\"field\":\"line_color\"},\"width\":{\"field\":\"width\",\"units\":\"data\"},\"x\":{\"field\":\"x\"},\"y\":{\"field\":\"y\"}},\"id\":\"f4892939-b977-4289-93cf-e9f2761bad6a\",\"type\":\"Rect\"},{\"attributes\":{\"fill_alpha\":{\"field\":\"fill_alpha\"},\"fill_color\":{\"field\":\"color\"},\"height\":{\"field\":\"height\",\"units\":\"data\"},\"line_color\":{\"field\":\"line_color\"},\"width\":{\"field\":\"width\",\"units\":\"data\"},\"x\":{\"field\":\"x\"},\"y\":{\"field\":\"y\"}},\"id\":\"1f64015f-2c59-4ad7-8d5c-635faccb5fa1\",\"type\":\"Rect\"},{\"attributes\":{\"callback\":null,\"column_names\":[\"x\",\"y\",\"width\",\"height\",\"color\",\"fill_alpha\",\"line_color\",\"line_alpha\",\"label\"],\"data\":{\"chart_index\":[\"(124.320000, 125.306667]\"],\"color\":[\"#f22c40\"],\"fill_alpha\":[0.8],\"height\":[0.0],\"label\":[\"(124.320000, 125.306667]\"],\"line_alpha\":[1.0],\"line_color\":[\"black\"],\"width\":[0.9866666666666646],\"x\":[\"124.8133335\"],\"y\":[0.0]}},\"id\":\"58174573-2c6a-41b5-91ba-b1a59caf532a\",\"type\":\"ColumnDataSource\"},{\"attributes\":{\"data_source\":{\"id\":\"a7cc41b2-16ba-470a-bf4f-b3e147213a9a\",\"type\":\"ColumnDataSource\"},\"glyph\":{\"id\":\"bf1d1035-7b45-4fee-bd15-f882b154cf55\",\"type\":\"Rect\"},\"hover_glyph\":null,\"muted_glyph\":null},\"id\":\"8f56493f-0ae5-4754-b552-38273702ba8c\",\"type\":\"GlyphRenderer\"},{\"attributes\":{\"fill_alpha\":{\"field\":\"fill_alpha\"},\"fill_color\":{\"field\":\"color\"},\"height\":{\"field\":\"height\",\"units\":\"data\"},\"line_color\":{\"field\":\"line_color\"},\"width\":{\"field\":\"width\",\"units\":\"data\"},\"x\":{\"field\":\"x\"},\"y\":{\"field\":\"y\"}},\"id\":\"a47c194b-09a7-41f7-8530-7722ea56dfc3\",\"type\":\"Rect\"},{\"attributes\":{\"callback\":null,\"column_names\":[\"x\",\"y\",\"width\",\"height\",\"color\",\"fill_alpha\",\"line_color\",\"line_alpha\",\"label\"],\"data\":{\"chart_index\":[\"(79.920000, 80.906667]\"],\"color\":[\"#f22c40\"],\"fill_alpha\":[0.8],\"height\":[0.0],\"label\":[\"(79.920000, 80.906667]\"],\"line_alpha\":[1.0],\"line_color\":[\"black\"],\"width\":[0.9866666666666646],\"x\":[\"80.4133335\"],\"y\":[0.0]}},\"id\":\"4efd4e96-a08a-4c14-a8cc-a505cb0f3f4e\",\"type\":\"ColumnDataSource\"},{\"attributes\":{\"data_source\":{\"id\":\"e5143810-774a-41d1-a8b8-52e5b9bdf5f1\",\"type\":\"ColumnDataSource\"},\"glyph\":{\"id\":\"67a8d36d-054a-4a5c-8766-7e41d9b1c355\",\"type\":\"Rect\"},\"hover_glyph\":null,\"muted_glyph\":null},\"id\":\"bc431401-93e1-4a67-a657-1ce1b6bda88f\",\"type\":\"GlyphRenderer\"},{\"attributes\":{\"callback\":null,\"column_names\":[\"x\",\"y\",\"width\",\"height\",\"color\",\"fill_alpha\",\"line_color\",\"line_alpha\",\"label\"],\"data\":{\"chart_index\":[\"(127.280000, 128.266667]\"],\"color\":[\"#f22c40\"],\"fill_alpha\":[0.8],\"height\":[0.0],\"label\":[\"(127.280000, 128.266667]\"],\"line_alpha\":[1.0],\"line_color\":[\"black\"],\"width\":[0.9866666666666788],\"x\":[\"127.7733335\"],\"y\":[0.0]}},\"id\":\"097d6563-a65c-4fd3-a60d-592cc463488e\",\"type\":\"ColumnDataSource\"},{\"attributes\":{\"data_source\":{\"id\":\"5a51c15c-d967-46ad-a809-404952bf8fa7\",\"type\":\"ColumnDataSource\"},\"glyph\":{\"id\":\"3bfb5e2c-4596-48b3-88f1-4a3ecbad45cc\",\"type\":\"Rect\"},\"hover_glyph\":null,\"muted_glyph\":null},\"id\":\"476d4e70-d1e4-4eae-9d8b-cda1713da6e3\",\"type\":\"GlyphRenderer\"},{\"attributes\":{\"callback\":null,\"column_names\":[\"x\",\"y\",\"width\",\"height\",\"color\",\"fill_alpha\",\"line_color\",\"line_alpha\",\"label\"],\"data\":{\"chart_index\":[\"(23.680000, 24.666667]\"],\"color\":[\"#f22c40\"],\"fill_alpha\":[0.8],\"height\":[2.0],\"label\":[\"(23.680000, 24.666667]\"],\"line_alpha\":[1.0],\"line_color\":[\"black\"],\"width\":[0.9866666666666681],\"x\":[\"24.1733335\"],\"y\":[1.0]}},\"id\":\"1071b079-9fa5-4d9f-8e06-bd4f9c262981\",\"type\":\"ColumnDataSource\"},{\"attributes\":{\"fill_alpha\":{\"field\":\"fill_alpha\"},\"fill_color\":{\"field\":\"color\"},\"height\":{\"field\":\"height\",\"units\":\"data\"},\"line_color\":{\"field\":\"line_color\"},\"width\":{\"field\":\"width\",\"units\":\"data\"},\"x\":{\"field\":\"x\"},\"y\":{\"field\":\"y\"}},\"id\":\"bb33d41b-1dc1-4d81-8af7-8b61f3e5883e\",\"type\":\"Rect\"},{\"attributes\":{\"fill_alpha\":{\"field\":\"fill_alpha\"},\"fill_color\":{\"field\":\"color\"},\"height\":{\"field\":\"height\",\"units\":\"data\"},\"line_color\":{\"field\":\"line_color\"},\"width\":{\"field\":\"width\",\"units\":\"data\"},\"x\":{\"field\":\"x\"},\"y\":{\"field\":\"y\"}},\"id\":\"8aba3e29-8beb-4a23-879e-d1d744f0cd65\",\"type\":\"Rect\"},{\"attributes\":{\"fill_alpha\":{\"field\":\"fill_alpha\"},\"fill_color\":{\"field\":\"color\"},\"height\":{\"field\":\"height\",\"units\":\"data\"},\"line_color\":{\"field\":\"line_color\"},\"width\":{\"field\":\"width\",\"units\":\"data\"},\"x\":{\"field\":\"x\"},\"y\":{\"field\":\"y\"}},\"id\":\"2cdd0f2f-d86b-4a6e-badb-1833030c030a\",\"type\":\"Rect\"},{\"attributes\":{\"callback\":null,\"column_names\":[\"x\",\"y\",\"width\",\"height\",\"color\",\"fill_alpha\",\"line_color\",\"line_alpha\",\"label\"],\"data\":{\"chart_index\":[\"(81.893333, 82.880000]\"],\"color\":[\"#f22c40\"],\"fill_alpha\":[0.8],\"height\":[0.0],\"label\":[\"(81.893333, 82.880000]\"],\"line_alpha\":[1.0],\"line_color\":[\"black\"],\"width\":[0.9866666666666646],\"x\":[\"82.38666649999999\"],\"y\":[0.0]}},\"id\":\"131569f7-2553-40a6-88ec-8b76a31b58a0\",\"type\":\"ColumnDataSource\"},{\"attributes\":{\"data_source\":{\"id\":\"998ece44-95eb-4885-9838-7e38b21292ef\",\"type\":\"ColumnDataSource\"},\"glyph\":{\"id\":\"ce82959f-8823-49dd-973f-25a098f47427\",\"type\":\"Rect\"},\"hover_glyph\":null,\"muted_glyph\":null},\"id\":\"ed47ddbb-9d40-4c1f-85e3-0a69c39531a1\",\"type\":\"GlyphRenderer\"},{\"attributes\":{\"data_source\":{\"id\":\"fd55773b-4004-42d4-a2a7-50d315e94837\",\"type\":\"ColumnDataSource\"},\"glyph\":{\"id\":\"83329c55-97f5-4e9b-8e9b-98dddfe6bd5e\",\"type\":\"Rect\"},\"hover_glyph\":null,\"muted_glyph\":null},\"id\":\"40d4ce99-418a-4570-883a-bd8c17eeb9e9\",\"type\":\"GlyphRenderer\"},{\"attributes\":{\"callback\":null,\"column_names\":[\"x\",\"y\",\"width\",\"height\",\"color\",\"fill_alpha\",\"line_color\",\"line_alpha\",\"label\"],\"data\":{\"chart_index\":[\"(126.293333, 127.280000]\"],\"color\":[\"#f22c40\"],\"fill_alpha\":[0.8],\"height\":[0.0],\"label\":[\"(126.293333, 127.280000]\"],\"line_alpha\":[1.0],\"line_color\":[\"black\"],\"width\":[0.9866666666666646],\"x\":[\"126.7866665\"],\"y\":[0.0]}},\"id\":\"3d52e772-3bde-4675-b1b4-f642e8198851\",\"type\":\"ColumnDataSource\"},{\"attributes\":{\"data_source\":{\"id\":\"3d52e772-3bde-4675-b1b4-f642e8198851\",\"type\":\"ColumnDataSource\"},\"glyph\":{\"id\":\"8aba3e29-8beb-4a23-879e-d1d744f0cd65\",\"type\":\"Rect\"},\"hover_glyph\":null,\"muted_glyph\":null},\"id\":\"bf04c149-6f32-46a2-96ef-7bcd930386a6\",\"type\":\"GlyphRenderer\"},{\"attributes\":{\"data_source\":{\"id\":\"58174573-2c6a-41b5-91ba-b1a59caf532a\",\"type\":\"ColumnDataSource\"},\"glyph\":{\"id\":\"f4892939-b977-4289-93cf-e9f2761bad6a\",\"type\":\"Rect\"},\"hover_glyph\":null,\"muted_glyph\":null},\"id\":\"eb971c5b-b57c-4e39-820b-56726fb7403a\",\"type\":\"GlyphRenderer\"},{\"attributes\":{\"callback\":null,\"column_names\":[\"x\",\"y\",\"width\",\"height\",\"color\",\"fill_alpha\",\"line_color\",\"line_alpha\",\"label\"],\"data\":{\"chart_index\":[\"(52.293333, 53.280000]\"],\"color\":[\"#f22c40\"],\"fill_alpha\":[0.8],\"height\":[6.0],\"label\":[\"(52.293333, 53.280000]\"],\"line_alpha\":[1.0],\"line_color\":[\"black\"],\"width\":[0.9866666666666646],\"x\":[\"52.786666499999995\"],\"y\":[3.0]}},\"id\":\"bac089f7-5952-42a3-80be-180f1bdbf3af\",\"type\":\"ColumnDataSource\"},{\"attributes\":{\"data_source\":{\"id\":\"5498b5b7-b5e9-4f43-bb7a-e8118c35e72d\",\"type\":\"ColumnDataSource\"},\"glyph\":{\"id\":\"9a7e55b6-2cd8-4bda-ad87-2ba3b3901528\",\"type\":\"Rect\"},\"hover_glyph\":null,\"muted_glyph\":null},\"id\":\"ba22d7ea-c168-4e88-a683-df8cb914c267\",\"type\":\"GlyphRenderer\"},{\"attributes\":{\"data_source\":{\"id\":\"131569f7-2553-40a6-88ec-8b76a31b58a0\",\"type\":\"ColumnDataSource\"},\"glyph\":{\"id\":\"292d925a-2539-45e1-82c2-4c938697234b\",\"type\":\"Rect\"},\"hover_glyph\":null,\"muted_glyph\":null},\"id\":\"c3828306-0038-4d8f-96c7-f64c6d991a0d\",\"type\":\"GlyphRenderer\"},{\"attributes\":{\"data_source\":{\"id\":\"3c431192-c16f-44e0-a602-490d2aece64c\",\"type\":\"ColumnDataSource\"},\"glyph\":{\"id\":\"2cdd0f2f-d86b-4a6e-badb-1833030c030a\",\"type\":\"Rect\"},\"hover_glyph\":null,\"muted_glyph\":null},\"id\":\"1ea944a1-2fd5-4107-8e2b-a5c3a0399bf8\",\"type\":\"GlyphRenderer\"},{\"attributes\":{\"fill_alpha\":{\"field\":\"fill_alpha\"},\"fill_color\":{\"field\":\"color\"},\"height\":{\"field\":\"height\",\"units\":\"data\"},\"line_color\":{\"field\":\"line_color\"},\"width\":{\"field\":\"width\",\"units\":\"data\"},\"x\":{\"field\":\"x\"},\"y\":{\"field\":\"y\"}},\"id\":\"ff8fead3-4810-492b-af72-d28a61034140\",\"type\":\"Rect\"},{\"attributes\":{\"data_source\":{\"id\":\"4efd4e96-a08a-4c14-a8cc-a505cb0f3f4e\",\"type\":\"ColumnDataSource\"},\"glyph\":{\"id\":\"a47c194b-09a7-41f7-8530-7722ea56dfc3\",\"type\":\"Rect\"},\"hover_glyph\":null,\"muted_glyph\":null},\"id\":\"628af1e5-1c87-4b42-96d7-adde66b425a5\",\"type\":\"GlyphRenderer\"},{\"attributes\":{\"callback\":null,\"column_names\":[\"x\",\"y\",\"width\",\"height\",\"color\",\"fill_alpha\",\"line_color\",\"line_alpha\",\"label\"],\"data\":{\"chart_index\":[\"(125.306667, 126.293333]\"],\"color\":[\"#f22c40\"],\"fill_alpha\":[0.8],\"height\":[0.0],\"label\":[\"(125.306667, 126.293333]\"],\"line_alpha\":[1.0],\"line_color\":[\"black\"],\"width\":[0.9866666666666646],\"x\":[\"125.80000000000001\"],\"y\":[0.0]}},\"id\":\"3c431192-c16f-44e0-a602-490d2aece64c\",\"type\":\"ColumnDataSource\"},{\"attributes\":{\"fill_alpha\":{\"field\":\"fill_alpha\"},\"fill_color\":{\"field\":\"color\"},\"height\":{\"field\":\"height\",\"units\":\"data\"},\"line_color\":{\"field\":\"line_color\"},\"width\":{\"field\":\"width\",\"units\":\"data\"},\"x\":{\"field\":\"x\"},\"y\":{\"field\":\"y\"}},\"id\":\"8f609348-29dd-4710-8ecb-194ee192f0c6\",\"type\":\"Rect\"},{\"attributes\":{\"data_source\":{\"id\":\"d6b96699-60df-47f5-8025-bba3f525ae2f\",\"type\":\"ColumnDataSource\"},\"glyph\":{\"id\":\"ff8fead3-4810-492b-af72-d28a61034140\",\"type\":\"Rect\"},\"hover_glyph\":null,\"muted_glyph\":null},\"id\":\"2f0c2ca0-498d-4099-bd2e-256146f1fbbf\",\"type\":\"GlyphRenderer\"},{\"attributes\":{\"fill_alpha\":{\"field\":\"fill_alpha\"},\"fill_color\":{\"field\":\"color\"},\"height\":{\"field\":\"height\",\"units\":\"data\"},\"line_color\":{\"field\":\"line_color\"},\"width\":{\"field\":\"width\",\"units\":\"data\"},\"x\":{\"field\":\"x\"},\"y\":{\"field\":\"y\"}},\"id\":\"292d925a-2539-45e1-82c2-4c938697234b\",\"type\":\"Rect\"},{\"attributes\":{\"fill_alpha\":{\"field\":\"fill_alpha\"},\"fill_color\":{\"field\":\"color\"},\"height\":{\"field\":\"height\",\"units\":\"data\"},\"line_color\":{\"field\":\"line_color\"},\"width\":{\"field\":\"width\",\"units\":\"data\"},\"x\":{\"field\":\"x\"},\"y\":{\"field\":\"y\"}},\"id\":\"a1c6581c-1a12-4dbd-9969-fd13fc81a1ac\",\"type\":\"Rect\"},{\"attributes\":{\"plot\":{\"id\":\"7c39d0d2-b506-46c4-ae69-114747625022\",\"subtype\":\"Chart\",\"type\":\"Plot\"}},\"id\":\"6fd2dc08-9a2f-494f-8726-a2ef9a071879\",\"type\":\"WheelZoomTool\"},{\"attributes\":{\"callback\":null,\"column_names\":[\"x\",\"y\",\"width\",\"height\",\"color\",\"fill_alpha\",\"line_color\",\"line_alpha\",\"label\"],\"data\":{\"chart_index\":[\"(84.853333, 85.840000]\"],\"color\":[\"#f22c40\"],\"fill_alpha\":[0.8],\"height\":[0.0],\"label\":[\"(84.853333, 85.840000]\"],\"line_alpha\":[1.0],\"line_color\":[\"black\"],\"width\":[0.9866666666666646],\"x\":[\"85.3466665\"],\"y\":[0.0]}},\"id\":\"4a46af98-e4d9-4a9f-8ecb-037e84d54174\",\"type\":\"ColumnDataSource\"},{\"attributes\":{\"callback\":null,\"end\":151.69999983333332,\"start\":-3.6999998333333335},\"id\":\"2e295f4f-efc8-4087-b2d2-a17845d90fb4\",\"type\":\"Range1d\"},{\"attributes\":{\"callback\":null,\"column_names\":[\"x\",\"y\",\"width\",\"height\",\"color\",\"fill_alpha\",\"line_color\",\"line_alpha\",\"label\"],\"data\":{\"chart_index\":[\"(80.906667, 81.893333]\"],\"color\":[\"#f22c40\"],\"fill_alpha\":[0.8],\"height\":[0.0],\"label\":[\"(80.906667, 81.893333]\"],\"line_alpha\":[1.0],\"line_color\":[\"black\"],\"width\":[0.9866666666666646],\"x\":[\"81.4\"],\"y\":[0.0]}},\"id\":\"90056301-8472-4361-8b29-ee0d09c9aa23\",\"type\":\"ColumnDataSource\"},{\"attributes\":{\"data_source\":{\"id\":\"90056301-8472-4361-8b29-ee0d09c9aa23\",\"type\":\"ColumnDataSource\"},\"glyph\":{\"id\":\"8f609348-29dd-4710-8ecb-194ee192f0c6\",\"type\":\"Rect\"},\"hover_glyph\":null,\"muted_glyph\":null},\"id\":\"09aeb37e-a035-4f91-8e4e-407c0e60e2b2\",\"type\":\"GlyphRenderer\"},{\"attributes\":{\"fill_alpha\":{\"field\":\"fill_alpha\"},\"fill_color\":{\"field\":\"color\"},\"height\":{\"field\":\"height\",\"units\":\"data\"},\"line_color\":{\"field\":\"line_color\"},\"width\":{\"field\":\"width\",\"units\":\"data\"},\"x\":{\"field\":\"x\"},\"y\":{\"field\":\"y\"}},\"id\":\"fb50398a-b312-48ab-bf7f-2d2b8d798c02\",\"type\":\"Rect\"},{\"attributes\":{\"plot\":{\"id\":\"7c39d0d2-b506-46c4-ae69-114747625022\",\"subtype\":\"Chart\",\"type\":\"Plot\"}},\"id\":\"64cb7ff7-7f95-4654-9dc7-132871ac3578\",\"type\":\"HelpTool\"},{\"attributes\":{\"fill_alpha\":{\"field\":\"fill_alpha\"},\"fill_color\":{\"field\":\"color\"},\"height\":{\"field\":\"height\",\"units\":\"data\"},\"line_color\":{\"field\":\"line_color\"},\"width\":{\"field\":\"width\",\"units\":\"data\"},\"x\":{\"field\":\"x\"},\"y\":{\"field\":\"y\"}},\"id\":\"e4ec8214-9271-4f2d-97d0-06040c7902f4\",\"type\":\"Rect\"},{\"attributes\":{\"location\":\"top_left\",\"plot\":{\"id\":\"7c39d0d2-b506-46c4-ae69-114747625022\",\"subtype\":\"Chart\",\"type\":\"Plot\"}},\"id\":\"f51b851f-529f-45dc-b61f-716eb7db730d\",\"type\":\"Legend\"},{\"attributes\":{\"overlay\":{\"id\":\"6fd267de-96fd-4560-aacf-645999411b2a\",\"type\":\"BoxAnnotation\"},\"plot\":{\"id\":\"7c39d0d2-b506-46c4-ae69-114747625022\",\"subtype\":\"Chart\",\"type\":\"Plot\"}},\"id\":\"ac1fd6cf-4f62-4ade-a678-8c830dfe60d8\",\"type\":\"BoxZoomTool\"},{\"attributes\":{\"fill_alpha\":{\"field\":\"fill_alpha\"},\"fill_color\":{\"field\":\"color\"},\"height\":{\"field\":\"height\",\"units\":\"data\"},\"line_color\":{\"field\":\"line_color\"},\"width\":{\"field\":\"width\",\"units\":\"data\"},\"x\":{\"field\":\"x\"},\"y\":{\"field\":\"y\"}},\"id\":\"3362d443-7623-4cfd-91cc-9ff336eaf5dd\",\"type\":\"Rect\"},{\"attributes\":{\"plot\":null,\"text\":\"Histogram of Recipient Country Counts\"},\"id\":\"70b2def8-76ff-4a5c-813f-8259a28adb42\",\"type\":\"Title\"},{\"attributes\":{\"callback\":null,\"column_names\":[\"x\",\"y\",\"width\",\"height\",\"color\",\"fill_alpha\",\"line_color\",\"line_alpha\",\"label\"],\"data\":{\"chart_index\":[\"(83.866667, 84.853333]\"],\"color\":[\"#f22c40\"],\"fill_alpha\":[0.8],\"height\":[0.0],\"label\":[\"(83.866667, 84.853333]\"],\"line_alpha\":[1.0],\"line_color\":[\"black\"],\"width\":[0.9866666666666646],\"x\":[\"84.36000000000001\"],\"y\":[0.0]}},\"id\":\"8741f817-58ea-46be-9e67-a15053eea2f5\",\"type\":\"ColumnDataSource\"},{\"attributes\":{\"active_drag\":\"auto\",\"active_scroll\":\"auto\",\"active_tap\":\"auto\",\"tools\":[{\"id\":\"50b5591c-d51e-43d9-b546-76adec0573aa\",\"type\":\"PanTool\"},{\"id\":\"6fd2dc08-9a2f-494f-8726-a2ef9a071879\",\"type\":\"WheelZoomTool\"},{\"id\":\"ac1fd6cf-4f62-4ade-a678-8c830dfe60d8\",\"type\":\"BoxZoomTool\"},{\"id\":\"56e00873-391d-462b-b072-3413a1b21bba\",\"type\":\"SaveTool\"},{\"id\":\"c40251e9-ab4d-4a04-a8df-7e5bfe6502fd\",\"type\":\"ResetTool\"},{\"id\":\"64cb7ff7-7f95-4654-9dc7-132871ac3578\",\"type\":\"HelpTool\"}]},\"id\":\"559a40d7-6c08-42cb-a9ea-adde8d11320b\",\"type\":\"Toolbar\"},{\"attributes\":{\"data_source\":{\"id\":\"8741f817-58ea-46be-9e67-a15053eea2f5\",\"type\":\"ColumnDataSource\"},\"glyph\":{\"id\":\"fb50398a-b312-48ab-bf7f-2d2b8d798c02\",\"type\":\"Rect\"},\"hover_glyph\":null,\"muted_glyph\":null},\"id\":\"c6dabe94-f4ee-4c69-a91c-85fcfdc00965\",\"type\":\"GlyphRenderer\"},{\"attributes\":{\"fill_alpha\":{\"field\":\"fill_alpha\"},\"fill_color\":{\"field\":\"color\"},\"height\":{\"field\":\"height\",\"units\":\"data\"},\"line_color\":{\"field\":\"line_color\"},\"width\":{\"field\":\"width\",\"units\":\"data\"},\"x\":{\"field\":\"x\"},\"y\":{\"field\":\"y\"}},\"id\":\"fb5c9420-d791-44bd-80cd-8e2e1d703989\",\"type\":\"Rect\"},{\"attributes\":{\"callback\":null,\"column_names\":[\"x\",\"y\",\"width\",\"height\",\"color\",\"fill_alpha\",\"line_color\",\"line_alpha\",\"label\"],\"data\":{\"chart_index\":[\"(85.840000, 86.826667]\"],\"color\":[\"#f22c40\"],\"fill_alpha\":[0.8],\"height\":[0.0],\"label\":[\"(85.840000, 86.826667]\"],\"line_alpha\":[1.0],\"line_color\":[\"black\"],\"width\":[0.9866666666666646],\"x\":[\"86.33333350000001\"],\"y\":[0.0]}},\"id\":\"6046814e-4dab-4c74-acc2-f7da0c1a7eef\",\"type\":\"ColumnDataSource\"},{\"attributes\":{\"data_source\":{\"id\":\"2abcb6d6-05a6-4e20-8b7e-1c5116c89df1\",\"type\":\"ColumnDataSource\"},\"glyph\":{\"id\":\"a9b8f228-61c4-4fe8-9b4b-7ab08887c9cb\",\"type\":\"Rect\"},\"hover_glyph\":null,\"muted_glyph\":null},\"id\":\"6c879290-798e-495e-8cc7-31c622bbd91a\",\"type\":\"GlyphRenderer\"},{\"attributes\":{\"data_source\":{\"id\":\"4a46af98-e4d9-4a9f-8ecb-037e84d54174\",\"type\":\"ColumnDataSource\"},\"glyph\":{\"id\":\"e4ec8214-9271-4f2d-97d0-06040c7902f4\",\"type\":\"Rect\"},\"hover_glyph\":null,\"muted_glyph\":null},\"id\":\"7b8c1c16-0e89-4fee-a696-16a8353b3be2\",\"type\":\"GlyphRenderer\"},{\"attributes\":{\"fill_alpha\":{\"field\":\"fill_alpha\"},\"fill_color\":{\"field\":\"color\"},\"height\":{\"field\":\"height\",\"units\":\"data\"},\"line_color\":{\"field\":\"line_color\"},\"width\":{\"field\":\"width\",\"units\":\"data\"},\"x\":{\"field\":\"x\"},\"y\":{\"field\":\"y\"}},\"id\":\"75cf8ae1-0dbe-4365-acbc-040d2b1e3c30\",\"type\":\"Rect\"},{\"attributes\":{\"data_source\":{\"id\":\"6046814e-4dab-4c74-acc2-f7da0c1a7eef\",\"type\":\"ColumnDataSource\"},\"glyph\":{\"id\":\"fb5c9420-d791-44bd-80cd-8e2e1d703989\",\"type\":\"Rect\"},\"hover_glyph\":null,\"muted_glyph\":null},\"id\":\"d59db4d9-2d08-495a-b30b-5b2d1dc683eb\",\"type\":\"GlyphRenderer\"},{\"attributes\":{\"callback\":null,\"column_names\":[\"x\",\"y\",\"width\",\"height\",\"color\",\"fill_alpha\",\"line_color\",\"line_alpha\",\"label\"],\"data\":{\"chart_index\":[\"(86.826667, 87.813333]\"],\"color\":[\"#f22c40\"],\"fill_alpha\":[0.8],\"height\":[1.0],\"label\":[\"(86.826667, 87.813333]\"],\"line_alpha\":[1.0],\"line_color\":[\"black\"],\"width\":[0.9866666666666646],\"x\":[\"87.32\"],\"y\":[0.5]}},\"id\":\"91e7e668-db42-46cf-b913-1baa06fa0f08\",\"type\":\"ColumnDataSource\"},{\"attributes\":{\"fill_alpha\":{\"field\":\"fill_alpha\"},\"fill_color\":{\"field\":\"color\"},\"height\":{\"field\":\"height\",\"units\":\"data\"},\"line_color\":{\"field\":\"line_color\"},\"width\":{\"field\":\"width\",\"units\":\"data\"},\"x\":{\"field\":\"x\"},\"y\":{\"field\":\"y\"}},\"id\":\"0cdf1756-6d40-426b-bc27-d050bdbe780d\",\"type\":\"Rect\"},{\"attributes\":{\"callback\":null,\"column_names\":[\"x\",\"y\",\"width\",\"height\",\"color\",\"fill_alpha\",\"line_color\",\"line_alpha\",\"label\"],\"data\":{\"chart_index\":[\"(87.813333, 88.800000]\"],\"color\":[\"#f22c40\"],\"fill_alpha\":[0.8],\"height\":[0.0],\"label\":[\"(87.813333, 88.800000]\"],\"line_alpha\":[1.0],\"line_color\":[\"black\"],\"width\":[0.9866666666666646],\"x\":[\"88.3066665\"],\"y\":[0.0]}},\"id\":\"1e3d2389-7434-4e08-9008-80f646ce478b\",\"type\":\"ColumnDataSource\"},{\"attributes\":{\"plot\":{\"id\":\"7c39d0d2-b506-46c4-ae69-114747625022\",\"subtype\":\"Chart\",\"type\":\"Plot\"}},\"id\":\"56e00873-391d-462b-b072-3413a1b21bba\",\"type\":\"SaveTool\"},{\"attributes\":{\"bottom_units\":\"screen\",\"fill_alpha\":{\"value\":0.5},\"fill_color\":{\"value\":\"lightgrey\"},\"left_units\":\"screen\",\"level\":\"overlay\",\"line_alpha\":{\"value\":1.0},\"line_color\":{\"value\":\"black\"},\"line_dash\":[4,4],\"line_width\":{\"value\":2},\"plot\":null,\"render_mode\":\"css\",\"right_units\":\"screen\",\"top_units\":\"screen\"},\"id\":\"6fd267de-96fd-4560-aacf-645999411b2a\",\"type\":\"BoxAnnotation\"},{\"attributes\":{\"data_source\":{\"id\":\"91e7e668-db42-46cf-b913-1baa06fa0f08\",\"type\":\"ColumnDataSource\"},\"glyph\":{\"id\":\"0cdf1756-6d40-426b-bc27-d050bdbe780d\",\"type\":\"Rect\"},\"hover_glyph\":null,\"muted_glyph\":null},\"id\":\"af94ad48-70ec-45d2-9268-051f155e665e\",\"type\":\"GlyphRenderer\"},{\"attributes\":{\"plot\":{\"id\":\"7c39d0d2-b506-46c4-ae69-114747625022\",\"subtype\":\"Chart\",\"type\":\"Plot\"}},\"id\":\"50b5591c-d51e-43d9-b546-76adec0573aa\",\"type\":\"PanTool\"},{\"attributes\":{\"fill_alpha\":{\"field\":\"fill_alpha\"},\"fill_color\":{\"field\":\"color\"},\"height\":{\"field\":\"height\",\"units\":\"data\"},\"line_color\":{\"field\":\"line_color\"},\"width\":{\"field\":\"width\",\"units\":\"data\"},\"x\":{\"field\":\"x\"},\"y\":{\"field\":\"y\"}},\"id\":\"68efe5b8-5b26-45bc-9754-c538a30cd116\",\"type\":\"Rect\"},{\"attributes\":{\"callback\":null,\"column_names\":[\"x\",\"y\",\"width\",\"height\",\"color\",\"fill_alpha\",\"line_color\",\"line_alpha\",\"label\"],\"data\":{\"chart_index\":[\"(88.800000, 89.786667]\"],\"color\":[\"#f22c40\"],\"fill_alpha\":[0.8],\"height\":[0.0],\"label\":[\"(88.800000, 89.786667]\"],\"line_alpha\":[1.0],\"line_color\":[\"black\"],\"width\":[0.9866666666666788],\"x\":[\"89.29333349999999\"],\"y\":[0.0]}},\"id\":\"dd93714d-e9e2-4827-827c-2f740eef4edf\",\"type\":\"ColumnDataSource\"},{\"attributes\":{\"callback\":null,\"column_names\":[\"x\",\"y\",\"width\",\"height\",\"color\",\"fill_alpha\",\"line_color\",\"line_alpha\",\"label\"],\"data\":{\"chart_index\":[\"(91.760000, 92.746667]\"],\"color\":[\"#f22c40\"],\"fill_alpha\":[0.8],\"height\":[0.0],\"label\":[\"(91.760000, 92.746667]\"],\"line_alpha\":[1.0],\"line_color\":[\"black\"],\"width\":[0.9866666666666646],\"x\":[\"92.2533335\"],\"y\":[0.0]}},\"id\":\"4984b3f8-d80d-4aec-9751-358c21858658\",\"type\":\"ColumnDataSource\"},{\"attributes\":{\"fill_alpha\":{\"field\":\"fill_alpha\"},\"fill_color\":{\"field\":\"color\"},\"height\":{\"field\":\"height\",\"units\":\"data\"},\"line_color\":{\"field\":\"line_color\"},\"width\":{\"field\":\"width\",\"units\":\"data\"},\"x\":{\"field\":\"x\"},\"y\":{\"field\":\"y\"}},\"id\":\"a330a5ff-6abf-454c-9a18-2221e3db7545\",\"type\":\"Rect\"},{\"attributes\":{\"data_source\":{\"id\":\"1e3d2389-7434-4e08-9008-80f646ce478b\",\"type\":\"ColumnDataSource\"},\"glyph\":{\"id\":\"75cf8ae1-0dbe-4365-acbc-040d2b1e3c30\",\"type\":\"Rect\"},\"hover_glyph\":null,\"muted_glyph\":null},\"id\":\"fe0f5e1d-2162-4ae4-83bb-4acc16636c73\",\"type\":\"GlyphRenderer\"},{\"attributes\":{\"data_source\":{\"id\":\"5babe968-4b78-4f64-b1b8-7124b0de1e62\",\"type\":\"ColumnDataSource\"},\"glyph\":{\"id\":\"a2a6f68e-1e3f-4a17-9d23-8dfd5c827031\",\"type\":\"Rect\"},\"hover_glyph\":null,\"muted_glyph\":null},\"id\":\"586928fd-1a87-4c5c-8a6d-edbd2e2fe143\",\"type\":\"GlyphRenderer\"},{\"attributes\":{\"fill_alpha\":{\"field\":\"fill_alpha\"},\"fill_color\":{\"field\":\"color\"},\"height\":{\"field\":\"height\",\"units\":\"data\"},\"line_color\":{\"field\":\"line_color\"},\"width\":{\"field\":\"width\",\"units\":\"data\"},\"x\":{\"field\":\"x\"},\"y\":{\"field\":\"y\"}},\"id\":\"a9b8f228-61c4-4fe8-9b4b-7ab08887c9cb\",\"type\":\"Rect\"},{\"attributes\":{\"data_source\":{\"id\":\"dd93714d-e9e2-4827-827c-2f740eef4edf\",\"type\":\"ColumnDataSource\"},\"glyph\":{\"id\":\"68efe5b8-5b26-45bc-9754-c538a30cd116\",\"type\":\"Rect\"},\"hover_glyph\":null,\"muted_glyph\":null},\"id\":\"28288166-958d-47b6-822f-48e941e0159b\",\"type\":\"GlyphRenderer\"},{\"attributes\":{\"callback\":null,\"column_names\":[\"x\",\"y\",\"width\",\"height\",\"color\",\"fill_alpha\",\"line_color\",\"line_alpha\",\"label\"],\"data\":{\"chart_index\":[\"(90.773333, 91.760000]\"],\"color\":[\"#f22c40\"],\"fill_alpha\":[0.8],\"height\":[0.0],\"label\":[\"(90.773333, 91.760000]\"],\"line_alpha\":[1.0],\"line_color\":[\"black\"],\"width\":[0.9866666666666646],\"x\":[\"91.2666665\"],\"y\":[0.0]}},\"id\":\"2abcb6d6-05a6-4e20-8b7e-1c5116c89df1\",\"type\":\"ColumnDataSource\"},{\"attributes\":{\"fill_alpha\":{\"field\":\"fill_alpha\"},\"fill_color\":{\"field\":\"color\"},\"height\":{\"field\":\"height\",\"units\":\"data\"},\"line_color\":{\"field\":\"line_color\"},\"width\":{\"field\":\"width\",\"units\":\"data\"},\"x\":{\"field\":\"x\"},\"y\":{\"field\":\"y\"}},\"id\":\"a2a6f68e-1e3f-4a17-9d23-8dfd5c827031\",\"type\":\"Rect\"},{\"attributes\":{\"fill_alpha\":{\"field\":\"fill_alpha\"},\"fill_color\":{\"field\":\"color\"},\"height\":{\"field\":\"height\",\"units\":\"data\"},\"line_color\":{\"field\":\"line_color\"},\"width\":{\"field\":\"width\",\"units\":\"data\"},\"x\":{\"field\":\"x\"},\"y\":{\"field\":\"y\"}},\"id\":\"d82437bd-752e-44c4-937a-e935593c952a\",\"type\":\"Rect\"},{\"attributes\":{\"fill_alpha\":{\"field\":\"fill_alpha\"},\"fill_color\":{\"field\":\"color\"},\"height\":{\"field\":\"height\",\"units\":\"data\"},\"line_color\":{\"field\":\"line_color\"},\"width\":{\"field\":\"width\",\"units\":\"data\"},\"x\":{\"field\":\"x\"},\"y\":{\"field\":\"y\"}},\"id\":\"b1b10cc8-e51a-4d2e-bbcd-0e3234b9864c\",\"type\":\"Rect\"},{\"attributes\":{\"data_source\":{\"id\":\"bb8d4bee-7a48-46e6-a9aa-81d717ba618c\",\"type\":\"ColumnDataSource\"},\"glyph\":{\"id\":\"50bc4102-9631-4b0c-be78-88ebd4e2eca6\",\"type\":\"Rect\"},\"hover_glyph\":null,\"muted_glyph\":null},\"id\":\"b716c2f6-a151-4ca9-9b6c-42d3ab95fc7a\",\"type\":\"GlyphRenderer\"},{\"attributes\":{\"data_source\":{\"id\":\"4984b3f8-d80d-4aec-9751-358c21858658\",\"type\":\"ColumnDataSource\"},\"glyph\":{\"id\":\"a330a5ff-6abf-454c-9a18-2221e3db7545\",\"type\":\"Rect\"},\"hover_glyph\":null,\"muted_glyph\":null},\"id\":\"fb80bc0d-9152-481f-90e8-df3a985f0af7\",\"type\":\"GlyphRenderer\"},{\"attributes\":{\"fill_alpha\":{\"field\":\"fill_alpha\"},\"fill_color\":{\"field\":\"color\"},\"height\":{\"field\":\"height\",\"units\":\"data\"},\"line_color\":{\"field\":\"line_color\"},\"width\":{\"field\":\"width\",\"units\":\"data\"},\"x\":{\"field\":\"x\"},\"y\":{\"field\":\"y\"}},\"id\":\"50bc4102-9631-4b0c-be78-88ebd4e2eca6\",\"type\":\"Rect\"},{\"attributes\":{\"data_source\":{\"id\":\"3b6cfc45-3517-49ee-9783-20bf0eafe8f5\",\"type\":\"ColumnDataSource\"},\"glyph\":{\"id\":\"1ebd2ddf-4769-4182-85b0-95452d846da8\",\"type\":\"Rect\"},\"hover_glyph\":null,\"muted_glyph\":null},\"id\":\"ef179411-1714-4356-a387-6dd06dcb13bf\",\"type\":\"GlyphRenderer\"},{\"attributes\":{\"callback\":null,\"column_names\":[\"x\",\"y\",\"width\",\"height\",\"color\",\"fill_alpha\",\"line_color\",\"line_alpha\",\"label\"],\"data\":{\"chart_index\":[\"(26.640000, 27.626667]\"],\"color\":[\"#f22c40\"],\"fill_alpha\":[0.8],\"height\":[0.0],\"label\":[\"(26.640000, 27.626667]\"],\"line_alpha\":[1.0],\"line_color\":[\"black\"],\"width\":[0.9866666666666681],\"x\":[\"27.1333335\"],\"y\":[0.0]}},\"id\":\"dda50367-2736-4368-a83f-c3d0ba44031b\",\"type\":\"ColumnDataSource\"},{\"attributes\":{\"fill_alpha\":{\"field\":\"fill_alpha\"},\"fill_color\":{\"field\":\"color\"},\"height\":{\"field\":\"height\",\"units\":\"data\"},\"line_color\":{\"field\":\"line_color\"},\"width\":{\"field\":\"width\",\"units\":\"data\"},\"x\":{\"field\":\"x\"},\"y\":{\"field\":\"y\"}},\"id\":\"ca44df4f-20da-4c0c-a29c-1e7efc5bdf68\",\"type\":\"Rect\"},{\"attributes\":{\"fill_alpha\":{\"field\":\"fill_alpha\"},\"fill_color\":{\"field\":\"color\"},\"height\":{\"field\":\"height\",\"units\":\"data\"},\"line_color\":{\"field\":\"line_color\"},\"width\":{\"field\":\"width\",\"units\":\"data\"},\"x\":{\"field\":\"x\"},\"y\":{\"field\":\"y\"}},\"id\":\"3ba22087-c557-41f3-8c48-8c1145fe0afd\",\"type\":\"Rect\"},{\"attributes\":{\"fill_alpha\":{\"field\":\"fill_alpha\"},\"fill_color\":{\"field\":\"color\"},\"height\":{\"field\":\"height\",\"units\":\"data\"},\"line_color\":{\"field\":\"line_color\"},\"width\":{\"field\":\"width\",\"units\":\"data\"},\"x\":{\"field\":\"x\"},\"y\":{\"field\":\"y\"}},\"id\":\"b4e3e6c9-065e-428c-9cda-83f46dda046f\",\"type\":\"Rect\"},{\"attributes\":{\"data_source\":{\"id\":\"2f2b5193-89a8-4862-a0b9-0aafee85eec6\",\"type\":\"ColumnDataSource\"},\"glyph\":{\"id\":\"93682ee2-37fc-4f74-8eb6-838ca85012cf\",\"type\":\"Rect\"},\"hover_glyph\":null,\"muted_glyph\":null},\"id\":\"a8dc54de-97f0-4513-9ba5-c62d7b8dce27\",\"type\":\"GlyphRenderer\"},{\"attributes\":{\"fill_alpha\":{\"field\":\"fill_alpha\"},\"fill_color\":{\"field\":\"color\"},\"height\":{\"field\":\"height\",\"units\":\"data\"},\"line_color\":{\"field\":\"line_color\"},\"width\":{\"field\":\"width\",\"units\":\"data\"},\"x\":{\"field\":\"x\"},\"y\":{\"field\":\"y\"}},\"id\":\"27c1aa4f-ab16-4883-b249-429956884ea0\",\"type\":\"Rect\"},{\"attributes\":{\"callback\":null,\"column_names\":[\"x\",\"y\",\"width\",\"height\",\"color\",\"fill_alpha\",\"line_color\",\"line_alpha\",\"label\"],\"data\":{\"chart_index\":[\"(103.600000, 104.586667]\"],\"color\":[\"#f22c40\"],\"fill_alpha\":[0.8],\"height\":[0.0],\"label\":[\"(103.600000, 104.586667]\"],\"line_alpha\":[1.0],\"line_color\":[\"black\"],\"width\":[0.9866666666666646],\"x\":[\"104.0933335\"],\"y\":[0.0]}},\"id\":\"649ce678-5820-40c7-8bbd-b7f0db3d41a6\",\"type\":\"ColumnDataSource\"},{\"attributes\":{\"fill_alpha\":{\"field\":\"fill_alpha\"},\"fill_color\":{\"field\":\"color\"},\"height\":{\"field\":\"height\",\"units\":\"data\"},\"line_color\":{\"field\":\"line_color\"},\"width\":{\"field\":\"width\",\"units\":\"data\"},\"x\":{\"field\":\"x\"},\"y\":{\"field\":\"y\"}},\"id\":\"f7f096b3-2a6f-488c-92bd-5f4935794001\",\"type\":\"Rect\"},{\"attributes\":{\"data_source\":{\"id\":\"649ce678-5820-40c7-8bbd-b7f0db3d41a6\",\"type\":\"ColumnDataSource\"},\"glyph\":{\"id\":\"ca44df4f-20da-4c0c-a29c-1e7efc5bdf68\",\"type\":\"Rect\"},\"hover_glyph\":null,\"muted_glyph\":null},\"id\":\"2d1dfcd7-f0b2-4122-bbb5-7a534da1a776\",\"type\":\"GlyphRenderer\"},{\"attributes\":{\"fill_alpha\":{\"field\":\"fill_alpha\"},\"fill_color\":{\"field\":\"color\"},\"height\":{\"field\":\"height\",\"units\":\"data\"},\"line_color\":{\"field\":\"line_color\"},\"width\":{\"field\":\"width\",\"units\":\"data\"},\"x\":{\"field\":\"x\"},\"y\":{\"field\":\"y\"}},\"id\":\"58058239-24c0-4dd6-b2e9-16c6e2336a19\",\"type\":\"Rect\"},{\"attributes\":{\"data_source\":{\"id\":\"96df893b-b0e5-4209-a225-0e7cd23b22f7\",\"type\":\"ColumnDataSource\"},\"glyph\":{\"id\":\"68c7bcb9-d993-426c-9960-df68503c9ade\",\"type\":\"Rect\"},\"hover_glyph\":null,\"muted_glyph\":null},\"id\":\"a67941c1-841c-48ea-8007-ec2769d8196c\",\"type\":\"GlyphRenderer\"},{\"attributes\":{\"data_source\":{\"id\":\"dda50367-2736-4368-a83f-c3d0ba44031b\",\"type\":\"ColumnDataSource\"},\"glyph\":{\"id\":\"3ba22087-c557-41f3-8c48-8c1145fe0afd\",\"type\":\"Rect\"},\"hover_glyph\":null,\"muted_glyph\":null},\"id\":\"a19a9654-5a3a-41e8-a1c6-454e6fdb4f4d\",\"type\":\"GlyphRenderer\"},{\"attributes\":{\"callback\":null,\"column_names\":[\"x\",\"y\",\"width\",\"height\",\"color\",\"fill_alpha\",\"line_color\",\"line_alpha\",\"label\"],\"data\":{\"chart_index\":[\"(27.626667, 28.613333]\"],\"color\":[\"#f22c40\"],\"fill_alpha\":[0.8],\"height\":[3.0],\"label\":[\"(27.626667, 28.613333]\"],\"line_alpha\":[1.0],\"line_color\":[\"black\"],\"width\":[0.9866666666666646],\"x\":[\"28.12\"],\"y\":[1.5]}},\"id\":\"a12103a4-69e1-46be-a7e8-a019765712a9\",\"type\":\"ColumnDataSource\"},{\"attributes\":{\"fill_alpha\":{\"field\":\"fill_alpha\"},\"fill_color\":{\"field\":\"color\"},\"height\":{\"field\":\"height\",\"units\":\"data\"},\"line_color\":{\"field\":\"line_color\"},\"width\":{\"field\":\"width\",\"units\":\"data\"},\"x\":{\"field\":\"x\"},\"y\":{\"field\":\"y\"}},\"id\":\"2f161215-06e7-4063-b99a-81c017e9b420\",\"type\":\"Rect\"},{\"attributes\":{\"callback\":null,\"column_names\":[\"x\",\"y\",\"width\",\"height\",\"color\",\"fill_alpha\",\"line_color\",\"line_alpha\",\"label\"],\"data\":{\"chart_index\":[\"(106.560000, 107.546667]\"],\"color\":[\"#f22c40\"],\"fill_alpha\":[0.8],\"height\":[0.0],\"label\":[\"(106.560000, 107.546667]\"],\"line_alpha\":[1.0],\"line_color\":[\"black\"],\"width\":[0.9866666666666646],\"x\":[\"107.05333350000001\"],\"y\":[0.0]}},\"id\":\"4cd242a7-1338-428c-9172-bea69e4796a3\",\"type\":\"ColumnDataSource\"},{\"attributes\":{\"callback\":null,\"column_names\":[\"x\",\"y\",\"width\",\"height\",\"color\",\"fill_alpha\",\"line_color\",\"line_alpha\",\"label\"],\"data\":{\"chart_index\":[\"(28.613333, 29.600000]\"],\"color\":[\"#f22c40\"],\"fill_alpha\":[0.8],\"height\":[0.0],\"label\":[\"(28.613333, 29.600000]\"],\"line_alpha\":[1.0],\"line_color\":[\"black\"],\"width\":[0.9866666666666681],\"x\":[\"29.106666500000003\"],\"y\":[0.0]}},\"id\":\"1a5d2c1a-da37-49ce-b8ef-dc14416b7378\",\"type\":\"ColumnDataSource\"},{\"attributes\":{\"callback\":null,\"column_names\":[\"x\",\"y\",\"width\",\"height\",\"color\",\"fill_alpha\",\"line_color\",\"line_alpha\",\"label\"],\"data\":{\"chart_index\":[\"(107.546667, 108.533333]\"],\"color\":[\"#f22c40\"],\"fill_alpha\":[0.8],\"height\":[0.0],\"label\":[\"(107.546667, 108.533333]\"],\"line_alpha\":[1.0],\"line_color\":[\"black\"],\"width\":[0.9866666666666646],\"x\":[\"108.03999999999999\"],\"y\":[0.0]}},\"id\":\"bcaa8ff7-133e-451d-a28b-be82424ee6f3\",\"type\":\"ColumnDataSource\"},{\"attributes\":{\"callback\":null,\"column_names\":[\"x\",\"y\",\"width\",\"height\",\"color\",\"fill_alpha\",\"line_color\",\"line_alpha\",\"label\"],\"data\":{\"chart_index\":[\"(114.453333, 115.440000]\"],\"color\":[\"#f22c40\"],\"fill_alpha\":[0.8],\"height\":[1.0],\"label\":[\"(114.453333, 115.440000]\"],\"line_alpha\":[1.0],\"line_color\":[\"black\"],\"width\":[0.9866666666666646],\"x\":[\"114.94666649999999\"],\"y\":[0.5]}},\"id\":\"ce87465f-25b4-490f-9f78-bc33e66b3c31\",\"type\":\"ColumnDataSource\"},{\"attributes\":{\"data_source\":{\"id\":\"4cd242a7-1338-428c-9172-bea69e4796a3\",\"type\":\"ColumnDataSource\"},\"glyph\":{\"id\":\"b4e3e6c9-065e-428c-9cda-83f46dda046f\",\"type\":\"Rect\"},\"hover_glyph\":null,\"muted_glyph\":null},\"id\":\"f99b3a70-6752-4eb5-afb1-d66723572276\",\"type\":\"GlyphRenderer\"},{\"attributes\":{\"callback\":null,\"column_names\":[\"x\",\"y\",\"width\",\"height\",\"color\",\"fill_alpha\",\"line_color\",\"line_alpha\",\"label\"],\"data\":{\"chart_index\":[\"(45.386667, 46.373333]\"],\"color\":[\"#f22c40\"],\"fill_alpha\":[0.8],\"height\":[0.0],\"label\":[\"(45.386667, 46.373333]\"],\"line_alpha\":[1.0],\"line_color\":[\"black\"],\"width\":[0.9866666666666646],\"x\":[\"45.88\"],\"y\":[0.0]}},\"id\":\"45ca290b-3f58-48e4-8b7e-09503ddb41fe\",\"type\":\"ColumnDataSource\"},{\"attributes\":{\"fill_alpha\":{\"field\":\"fill_alpha\"},\"fill_color\":{\"field\":\"color\"},\"height\":{\"field\":\"height\",\"units\":\"data\"},\"line_color\":{\"field\":\"line_color\"},\"width\":{\"field\":\"width\",\"units\":\"data\"},\"x\":{\"field\":\"x\"},\"y\":{\"field\":\"y\"}},\"id\":\"9e3cc4b9-a173-415d-adee-91c880fc2c39\",\"type\":\"Rect\"},{\"attributes\":{\"data_source\":{\"id\":\"a12103a4-69e1-46be-a7e8-a019765712a9\",\"type\":\"ColumnDataSource\"},\"glyph\":{\"id\":\"2f161215-06e7-4063-b99a-81c017e9b420\",\"type\":\"Rect\"},\"hover_glyph\":null,\"muted_glyph\":null},\"id\":\"79071eb5-522b-4459-98fc-7dffaff6fb32\",\"type\":\"GlyphRenderer\"},{\"attributes\":{\"callback\":null,\"column_names\":[\"x\",\"y\",\"width\",\"height\",\"color\",\"fill_alpha\",\"line_color\",\"line_alpha\",\"label\"],\"data\":{\"chart_index\":[\"(108.533333, 109.520000]\"],\"color\":[\"#f22c40\"],\"fill_alpha\":[0.8],\"height\":[0.0],\"label\":[\"(108.533333, 109.520000]\"],\"line_alpha\":[1.0],\"line_color\":[\"black\"],\"width\":[0.9866666666666646],\"x\":[\"109.0266665\"],\"y\":[0.0]}},\"id\":\"f0503774-e1e4-417b-8970-1ba0cab2d2a6\",\"type\":\"ColumnDataSource\"},{\"attributes\":{\"fill_alpha\":{\"field\":\"fill_alpha\"},\"fill_color\":{\"field\":\"color\"},\"height\":{\"field\":\"height\",\"units\":\"data\"},\"line_color\":{\"field\":\"line_color\"},\"width\":{\"field\":\"width\",\"units\":\"data\"},\"x\":{\"field\":\"x\"},\"y\":{\"field\":\"y\"}},\"id\":\"a0c57dab-e756-4653-8044-b04a48a37e98\",\"type\":\"Rect\"},{\"attributes\":{\"callback\":null,\"column_names\":[\"x\",\"y\",\"width\",\"height\",\"color\",\"fill_alpha\",\"line_color\",\"line_alpha\",\"label\"],\"data\":{\"chart_index\":[\"(29.600000, 30.586667]\"],\"color\":[\"#f22c40\"],\"fill_alpha\":[0.8],\"height\":[0.0],\"label\":[\"(29.600000, 30.586667]\"],\"line_alpha\":[1.0],\"line_color\":[\"black\"],\"width\":[0.9866666666666646],\"x\":[\"30.0933335\"],\"y\":[0.0]}},\"id\":\"bd64a5c9-4067-4e98-929c-0981e2b328be\",\"type\":\"ColumnDataSource\"},{\"attributes\":{\"fill_alpha\":{\"field\":\"fill_alpha\"},\"fill_color\":{\"field\":\"color\"},\"height\":{\"field\":\"height\",\"units\":\"data\"},\"line_color\":{\"field\":\"line_color\"},\"width\":{\"field\":\"width\",\"units\":\"data\"},\"x\":{\"field\":\"x\"},\"y\":{\"field\":\"y\"}},\"id\":\"e6c92e41-8333-43f1-9a00-fb925219271d\",\"type\":\"Rect\"},{\"attributes\":{\"data_source\":{\"id\":\"13cf5926-6127-4553-958d-2c10e657885c\",\"type\":\"ColumnDataSource\"},\"glyph\":{\"id\":\"91105934-0079-483e-93db-82cff9edfcc3\",\"type\":\"Rect\"},\"hover_glyph\":null,\"muted_glyph\":null},\"id\":\"4eda6a47-ed27-4413-96f5-1874801f80d8\",\"type\":\"GlyphRenderer\"},{\"attributes\":{\"data_source\":{\"id\":\"bcaa8ff7-133e-451d-a28b-be82424ee6f3\",\"type\":\"ColumnDataSource\"},\"glyph\":{\"id\":\"f7f096b3-2a6f-488c-92bd-5f4935794001\",\"type\":\"Rect\"},\"hover_glyph\":null,\"muted_glyph\":null},\"id\":\"f18ce0ba-b78e-4a9e-b644-a17b7f1cb7e1\",\"type\":\"GlyphRenderer\"},{\"attributes\":{\"fill_alpha\":{\"field\":\"fill_alpha\"},\"fill_color\":{\"field\":\"color\"},\"height\":{\"field\":\"height\",\"units\":\"data\"},\"line_color\":{\"field\":\"line_color\"},\"width\":{\"field\":\"width\",\"units\":\"data\"},\"x\":{\"field\":\"x\"},\"y\":{\"field\":\"y\"}},\"id\":\"922a0dab-91af-4c76-a52d-f352b65eebe8\",\"type\":\"Rect\"},{\"attributes\":{\"data_source\":{\"id\":\"1a5d2c1a-da37-49ce-b8ef-dc14416b7378\",\"type\":\"ColumnDataSource\"},\"glyph\":{\"id\":\"27c1aa4f-ab16-4883-b249-429956884ea0\",\"type\":\"Rect\"},\"hover_glyph\":null,\"muted_glyph\":null},\"id\":\"689f6531-6745-4466-8921-2b7a7fa4f063\",\"type\":\"GlyphRenderer\"},{\"attributes\":{\"callback\":null,\"column_names\":[\"x\",\"y\",\"width\",\"height\",\"color\",\"fill_alpha\",\"line_color\",\"line_alpha\",\"label\"],\"data\":{\"chart_index\":[\"(109.520000, 110.506667]\"],\"color\":[\"#f22c40\"],\"fill_alpha\":[0.8],\"height\":[0.0],\"label\":[\"(109.520000, 110.506667]\"],\"line_alpha\":[1.0],\"line_color\":[\"black\"],\"width\":[0.9866666666666788],\"x\":[\"110.01333349999999\"],\"y\":[0.0]}},\"id\":\"b6659b48-adda-4a0b-8b09-a2c923391c47\",\"type\":\"ColumnDataSource\"},{\"attributes\":{\"fill_alpha\":{\"field\":\"fill_alpha\"},\"fill_color\":{\"field\":\"color\"},\"height\":{\"field\":\"height\",\"units\":\"data\"},\"line_color\":{\"field\":\"line_color\"},\"width\":{\"field\":\"width\",\"units\":\"data\"},\"x\":{\"field\":\"x\"},\"y\":{\"field\":\"y\"}},\"id\":\"d4727be6-e16c-40d9-9da7-2ce187e4b840\",\"type\":\"Rect\"},{\"attributes\":{\"data_source\":{\"id\":\"f0503774-e1e4-417b-8970-1ba0cab2d2a6\",\"type\":\"ColumnDataSource\"},\"glyph\":{\"id\":\"9e3cc4b9-a173-415d-adee-91c880fc2c39\",\"type\":\"Rect\"},\"hover_glyph\":null,\"muted_glyph\":null},\"id\":\"f8429310-33fd-432b-9669-c0031d0335de\",\"type\":\"GlyphRenderer\"},{\"attributes\":{\"callback\":null,\"column_names\":[\"x\",\"y\",\"width\",\"height\",\"color\",\"fill_alpha\",\"line_color\",\"line_alpha\",\"label\"],\"data\":{\"chart_index\":[\"(32.560000, 33.546667]\"],\"color\":[\"#f22c40\"],\"fill_alpha\":[0.8],\"height\":[0.0],\"label\":[\"(32.560000, 33.546667]\"],\"line_alpha\":[1.0],\"line_color\":[\"black\"],\"width\":[0.9866666666666646],\"x\":[\"33.0533335\"],\"y\":[0.0]}},\"id\":\"8a63453e-9d20-4d07-a48e-8a779da06b89\",\"type\":\"ColumnDataSource\"},{\"attributes\":{\"fill_alpha\":{\"field\":\"fill_alpha\"},\"fill_color\":{\"field\":\"color\"},\"height\":{\"field\":\"height\",\"units\":\"data\"},\"line_color\":{\"field\":\"line_color\"},\"width\":{\"field\":\"width\",\"units\":\"data\"},\"x\":{\"field\":\"x\"},\"y\":{\"field\":\"y\"}},\"id\":\"ab70adfd-2d68-4d8d-9cca-46aaa6c19f6e\",\"type\":\"Rect\"},{\"attributes\":{\"data_source\":{\"id\":\"bd64a5c9-4067-4e98-929c-0981e2b328be\",\"type\":\"ColumnDataSource\"},\"glyph\":{\"id\":\"a0c57dab-e756-4653-8044-b04a48a37e98\",\"type\":\"Rect\"},\"hover_glyph\":null,\"muted_glyph\":null},\"id\":\"9d8123b7-05f0-4794-a574-4aa702cc60fb\",\"type\":\"GlyphRenderer\"},{\"attributes\":{\"callback\":null,\"column_names\":[\"x\",\"y\",\"width\",\"height\",\"color\",\"fill_alpha\",\"line_color\",\"line_alpha\",\"label\"],\"data\":{\"chart_index\":[\"(31.573333, 32.560000]\"],\"color\":[\"#f22c40\"],\"fill_alpha\":[0.8],\"height\":[2.0],\"label\":[\"(31.573333, 32.560000]\"],\"line_alpha\":[1.0],\"line_color\":[\"black\"],\"width\":[0.9866666666666681],\"x\":[\"32.066666500000004\"],\"y\":[1.0]}},\"id\":\"96df893b-b0e5-4209-a225-0e7cd23b22f7\",\"type\":\"ColumnDataSource\"},{\"attributes\":{\"fill_alpha\":{\"field\":\"fill_alpha\"},\"fill_color\":{\"field\":\"color\"},\"height\":{\"field\":\"height\",\"units\":\"data\"},\"line_color\":{\"field\":\"line_color\"},\"width\":{\"field\":\"width\",\"units\":\"data\"},\"x\":{\"field\":\"x\"},\"y\":{\"field\":\"y\"}},\"id\":\"7ab3f412-83a5-44fc-bc97-a126d3c5e38c\",\"type\":\"Rect\"},{\"attributes\":{\"data_source\":{\"id\":\"b6659b48-adda-4a0b-8b09-a2c923391c47\",\"type\":\"ColumnDataSource\"},\"glyph\":{\"id\":\"922a0dab-91af-4c76-a52d-f352b65eebe8\",\"type\":\"Rect\"},\"hover_glyph\":null,\"muted_glyph\":null},\"id\":\"024ca330-4e75-40a8-9d65-9b9e87ba29fb\",\"type\":\"GlyphRenderer\"},{\"attributes\":{\"fill_alpha\":{\"field\":\"fill_alpha\"},\"fill_color\":{\"field\":\"color\"},\"height\":{\"field\":\"height\",\"units\":\"data\"},\"line_color\":{\"field\":\"line_color\"},\"width\":{\"field\":\"width\",\"units\":\"data\"},\"x\":{\"field\":\"x\"},\"y\":{\"field\":\"y\"}},\"id\":\"68c7bcb9-d993-426c-9960-df68503c9ade\",\"type\":\"Rect\"},{\"attributes\":{\"callback\":null,\"column_names\":[\"x\",\"y\",\"width\",\"height\",\"color\",\"fill_alpha\",\"line_color\",\"line_alpha\",\"label\"],\"data\":{\"chart_index\":[\"(110.506667, 111.493333]\"],\"color\":[\"#f22c40\"],\"fill_alpha\":[0.8],\"height\":[0.0],\"label\":[\"(110.506667, 111.493333]\"],\"line_alpha\":[1.0],\"line_color\":[\"black\"],\"width\":[0.9866666666666646],\"x\":[\"111.0\"],\"y\":[0.0]}},\"id\":\"5598b43e-046d-46ef-8701-f3bae6266127\",\"type\":\"ColumnDataSource\"},{\"attributes\":{\"fill_alpha\":{\"field\":\"fill_alpha\"},\"fill_color\":{\"field\":\"color\"},\"height\":{\"field\":\"height\",\"units\":\"data\"},\"line_color\":{\"field\":\"line_color\"},\"width\":{\"field\":\"width\",\"units\":\"data\"},\"x\":{\"field\":\"x\"},\"y\":{\"field\":\"y\"}},\"id\":\"2280aad1-9b97-4a21-b945-77d0a9f9ead3\",\"type\":\"Rect\"},{\"attributes\":{\"data_source\":{\"id\":\"8a63453e-9d20-4d07-a48e-8a779da06b89\",\"type\":\"ColumnDataSource\"},\"glyph\":{\"id\":\"7ab3f412-83a5-44fc-bc97-a126d3c5e38c\",\"type\":\"Rect\"},\"hover_glyph\":null,\"muted_glyph\":null},\"id\":\"4178883c-4c09-488a-b7c1-a6b0879117b9\",\"type\":\"GlyphRenderer\"},{\"attributes\":{\"callback\":null,\"column_names\":[\"x\",\"y\",\"width\",\"height\",\"color\",\"fill_alpha\",\"line_color\",\"line_alpha\",\"label\"],\"data\":{\"chart_index\":[\"(33.546667, 34.533333]\"],\"color\":[\"#f22c40\"],\"fill_alpha\":[0.8],\"height\":[1.0],\"label\":[\"(33.546667, 34.533333]\"],\"line_alpha\":[1.0],\"line_color\":[\"black\"],\"width\":[0.9866666666666646],\"x\":[\"34.04\"],\"y\":[0.5]}},\"id\":\"99390a9e-5341-44bb-9b0a-5b4961af72b2\",\"type\":\"ColumnDataSource\"},{\"attributes\":{\"fill_alpha\":{\"field\":\"fill_alpha\"},\"fill_color\":{\"field\":\"color\"},\"height\":{\"field\":\"height\",\"units\":\"data\"},\"line_color\":{\"field\":\"line_color\"},\"width\":{\"field\":\"width\",\"units\":\"data\"},\"x\":{\"field\":\"x\"},\"y\":{\"field\":\"y\"}},\"id\":\"106d7988-e19b-41a1-82de-2e5d740905ca\",\"type\":\"Rect\"},{\"attributes\":{\"callback\":null,\"column_names\":[\"x\",\"y\",\"width\",\"height\",\"color\",\"fill_alpha\",\"line_color\",\"line_alpha\",\"label\"],\"data\":{\"chart_index\":[\"(34.533333, 35.520000]\"],\"color\":[\"#f22c40\"],\"fill_alpha\":[0.8],\"height\":[2.0],\"label\":[\"(34.533333, 35.520000]\"],\"line_alpha\":[1.0],\"line_color\":[\"black\"],\"width\":[0.9866666666666717],\"x\":[\"35.026666500000005\"],\"y\":[1.0]}},\"id\":\"bf62243a-545f-4f94-b7b5-47b09ec4bdf0\",\"type\":\"ColumnDataSource\"},{\"attributes\":{\"callback\":null,\"column_names\":[\"x\",\"y\",\"width\",\"height\",\"color\",\"fill_alpha\",\"line_color\",\"line_alpha\",\"label\"],\"data\":{\"chart_index\":[\"(113.466667, 114.453333]\"],\"color\":[\"#f22c40\"],\"fill_alpha\":[0.8],\"height\":[0.0],\"label\":[\"(113.466667, 114.453333]\"],\"line_alpha\":[1.0],\"line_color\":[\"black\"],\"width\":[0.9866666666666646],\"x\":[\"113.96000000000001\"],\"y\":[0.0]}},\"id\":\"7c73cbc2-7285-46a4-84a7-f382bbae9266\",\"type\":\"ColumnDataSource\"},{\"attributes\":{\"data_source\":{\"id\":\"5598b43e-046d-46ef-8701-f3bae6266127\",\"type\":\"ColumnDataSource\"},\"glyph\":{\"id\":\"2280aad1-9b97-4a21-b945-77d0a9f9ead3\",\"type\":\"Rect\"},\"hover_glyph\":null,\"muted_glyph\":null},\"id\":\"0bc7966b-23a5-4ab0-b288-1583abc0ec29\",\"type\":\"GlyphRenderer\"},{\"attributes\":{\"callback\":null,\"column_names\":[\"x\",\"y\",\"width\",\"height\",\"color\",\"fill_alpha\",\"line_color\",\"line_alpha\",\"label\"],\"data\":{\"chart_index\":[\"(112.480000, 113.466667]\"],\"color\":[\"#f22c40\"],\"fill_alpha\":[0.8],\"height\":[0.0],\"label\":[\"(112.480000, 113.466667]\"],\"line_alpha\":[1.0],\"line_color\":[\"black\"],\"width\":[0.9866666666666646],\"x\":[\"112.9733335\"],\"y\":[0.0]}},\"id\":\"13cf5926-6127-4553-958d-2c10e657885c\",\"type\":\"ColumnDataSource\"},{\"attributes\":{\"fill_alpha\":{\"field\":\"fill_alpha\"},\"fill_color\":{\"field\":\"color\"},\"height\":{\"field\":\"height\",\"units\":\"data\"},\"line_color\":{\"field\":\"line_color\"},\"width\":{\"field\":\"width\",\"units\":\"data\"},\"x\":{\"field\":\"x\"},\"y\":{\"field\":\"y\"}},\"id\":\"91105934-0079-483e-93db-82cff9edfcc3\",\"type\":\"Rect\"},{\"attributes\":{\"callback\":null,\"column_names\":[\"x\",\"y\",\"width\",\"height\",\"color\",\"fill_alpha\",\"line_color\",\"line_alpha\",\"label\"],\"data\":{\"chart_index\":[\"(38.480000, 39.466667]\"],\"color\":[\"#f22c40\"],\"fill_alpha\":[0.8],\"height\":[1.0],\"label\":[\"(38.480000, 39.466667]\"],\"line_alpha\":[1.0],\"line_color\":[\"black\"],\"width\":[0.9866666666666646],\"x\":[\"38.973333499999995\"],\"y\":[0.5]}},\"id\":\"fd55773b-4004-42d4-a2a7-50d315e94837\",\"type\":\"ColumnDataSource\"},{\"attributes\":{\"data_source\":{\"id\":\"99390a9e-5341-44bb-9b0a-5b4961af72b2\",\"type\":\"ColumnDataSource\"},\"glyph\":{\"id\":\"106d7988-e19b-41a1-82de-2e5d740905ca\",\"type\":\"Rect\"},\"hover_glyph\":null,\"muted_glyph\":null},\"id\":\"07f256ce-d87c-48d3-bbe2-c71338d1e9a9\",\"type\":\"GlyphRenderer\"},{\"attributes\":{\"fill_alpha\":{\"field\":\"fill_alpha\"},\"fill_color\":{\"field\":\"color\"},\"height\":{\"field\":\"height\",\"units\":\"data\"},\"line_color\":{\"field\":\"line_color\"},\"width\":{\"field\":\"width\",\"units\":\"data\"},\"x\":{\"field\":\"x\"},\"y\":{\"field\":\"y\"}},\"id\":\"2b5237bb-1b9f-440c-bdfc-b1ae63fca8c7\",\"type\":\"Rect\"},{\"attributes\":{\"data_source\":{\"id\":\"725011d8-3b09-4d0d-ab25-2fa55acc15d2\",\"type\":\"ColumnDataSource\"},\"glyph\":{\"id\":\"2b5237bb-1b9f-440c-bdfc-b1ae63fca8c7\",\"type\":\"Rect\"},\"hover_glyph\":null,\"muted_glyph\":null},\"id\":\"e33d2c86-775b-4d60-a07c-3f027dc88650\",\"type\":\"GlyphRenderer\"},{\"attributes\":{\"fill_alpha\":{\"field\":\"fill_alpha\"},\"fill_color\":{\"field\":\"color\"},\"height\":{\"field\":\"height\",\"units\":\"data\"},\"line_color\":{\"field\":\"line_color\"},\"width\":{\"field\":\"width\",\"units\":\"data\"},\"x\":{\"field\":\"x\"},\"y\":{\"field\":\"y\"}},\"id\":\"9f707bd9-8b1f-4059-bbc0-8dd003496f6a\",\"type\":\"Rect\"},{\"attributes\":{\"data_source\":{\"id\":\"7c73cbc2-7285-46a4-84a7-f382bbae9266\",\"type\":\"ColumnDataSource\"},\"glyph\":{\"id\":\"ab70adfd-2d68-4d8d-9cca-46aaa6c19f6e\",\"type\":\"Rect\"},\"hover_glyph\":null,\"muted_glyph\":null},\"id\":\"35ce82e9-ce0d-48a7-a334-0ce6590214fd\",\"type\":\"GlyphRenderer\"},{\"attributes\":{\"callback\":null,\"column_names\":[\"x\",\"y\",\"width\",\"height\",\"color\",\"fill_alpha\",\"line_color\",\"line_alpha\",\"label\"],\"data\":{\"chart_index\":[\"(37.493333, 38.480000]\"],\"color\":[\"#f22c40\"],\"fill_alpha\":[0.8],\"height\":[0.0],\"label\":[\"(37.493333, 38.480000]\"],\"line_alpha\":[1.0],\"line_color\":[\"black\"],\"width\":[0.9866666666666717],\"x\":[\"37.9866665\"],\"y\":[0.0]}},\"id\":\"2e92a119-ae5b-461b-a136-19b67c051610\",\"type\":\"ColumnDataSource\"},{\"attributes\":{\"callback\":null,\"column_names\":[\"x\",\"y\",\"width\",\"height\",\"color\",\"fill_alpha\",\"line_color\",\"line_alpha\",\"label\"],\"data\":{\"chart_index\":[\"(119.386667, 120.373333]\"],\"color\":[\"#f22c40\"],\"fill_alpha\":[0.8],\"height\":[0.0],\"label\":[\"(119.386667, 120.373333]\"],\"line_alpha\":[1.0],\"line_color\":[\"black\"],\"width\":[0.9866666666666646],\"x\":[\"119.88\"],\"y\":[0.0]}},\"id\":\"90a47ffe-c984-46d3-b6c3-a8ef30d36614\",\"type\":\"ColumnDataSource\"},{\"attributes\":{\"data_source\":{\"id\":\"2e92a119-ae5b-461b-a136-19b67c051610\",\"type\":\"ColumnDataSource\"},\"glyph\":{\"id\":\"47fccf49-b84e-4cb6-b715-fb40b4c591cc\",\"type\":\"Rect\"},\"hover_glyph\":null,\"muted_glyph\":null},\"id\":\"903fa83f-db31-42aa-bdfd-74a0919b0234\",\"type\":\"GlyphRenderer\"},{\"attributes\":{\"fill_alpha\":{\"field\":\"fill_alpha\"},\"fill_color\":{\"field\":\"color\"},\"height\":{\"field\":\"height\",\"units\":\"data\"},\"line_color\":{\"field\":\"line_color\"},\"width\":{\"field\":\"width\",\"units\":\"data\"},\"x\":{\"field\":\"x\"},\"y\":{\"field\":\"y\"}},\"id\":\"555e311e-201d-4e54-a754-5f95ad0733f9\",\"type\":\"Rect\"},{\"attributes\":{\"data_source\":{\"id\":\"bf62243a-545f-4f94-b7b5-47b09ec4bdf0\",\"type\":\"ColumnDataSource\"},\"glyph\":{\"id\":\"58058239-24c0-4dd6-b2e9-16c6e2336a19\",\"type\":\"Rect\"},\"hover_glyph\":null,\"muted_glyph\":null},\"id\":\"0a85c257-103c-4f41-8c62-22a515d222d7\",\"type\":\"GlyphRenderer\"},{\"attributes\":{\"data_source\":{\"id\":\"097d6563-a65c-4fd3-a60d-592cc463488e\",\"type\":\"ColumnDataSource\"},\"glyph\":{\"id\":\"a1c6581c-1a12-4dbd-9969-fd13fc81a1ac\",\"type\":\"Rect\"},\"hover_glyph\":null,\"muted_glyph\":null},\"id\":\"f4230817-e679-48b8-83c1-6ac4fdf2b509\",\"type\":\"GlyphRenderer\"},{\"attributes\":{\"data_source\":{\"id\":\"90a47ffe-c984-46d3-b6c3-a8ef30d36614\",\"type\":\"ColumnDataSource\"},\"glyph\":{\"id\":\"d4727be6-e16c-40d9-9da7-2ce187e4b840\",\"type\":\"Rect\"},\"hover_glyph\":null,\"muted_glyph\":null},\"id\":\"fdd1a472-25d9-45ea-a972-4f13088960de\",\"type\":\"GlyphRenderer\"},{\"attributes\":{\"data_source\":{\"id\":\"ce87465f-25b4-490f-9f78-bc33e66b3c31\",\"type\":\"ColumnDataSource\"},\"glyph\":{\"id\":\"e6c92e41-8333-43f1-9a00-fb925219271d\",\"type\":\"Rect\"},\"hover_glyph\":null,\"muted_glyph\":null},\"id\":\"81992754-422a-47b5-bc23-179cd163737e\",\"type\":\"GlyphRenderer\"},{\"attributes\":{\"callback\":null,\"column_names\":[\"x\",\"y\",\"width\",\"height\",\"color\",\"fill_alpha\",\"line_color\",\"line_alpha\",\"label\"],\"data\":{\"chart_index\":[\"(35.520000, 36.506667]\"],\"color\":[\"#f22c40\"],\"fill_alpha\":[0.8],\"height\":[0.0],\"label\":[\"(35.520000, 36.506667]\"],\"line_alpha\":[1.0],\"line_color\":[\"black\"],\"width\":[0.9866666666666646],\"x\":[\"36.0133335\"],\"y\":[0.0]}},\"id\":\"725011d8-3b09-4d0d-ab25-2fa55acc15d2\",\"type\":\"ColumnDataSource\"},{\"attributes\":{\"fill_alpha\":{\"field\":\"fill_alpha\"},\"fill_color\":{\"field\":\"color\"},\"height\":{\"field\":\"height\",\"units\":\"data\"},\"line_color\":{\"field\":\"line_color\"},\"width\":{\"field\":\"width\",\"units\":\"data\"},\"x\":{\"field\":\"x\"},\"y\":{\"field\":\"y\"}},\"id\":\"83329c55-97f5-4e9b-8e9b-98dddfe6bd5e\",\"type\":\"Rect\"},{\"attributes\":{\"fill_alpha\":{\"field\":\"fill_alpha\"},\"fill_color\":{\"field\":\"color\"},\"height\":{\"field\":\"height\",\"units\":\"data\"},\"line_color\":{\"field\":\"line_color\"},\"width\":{\"field\":\"width\",\"units\":\"data\"},\"x\":{\"field\":\"x\"},\"y\":{\"field\":\"y\"}},\"id\":\"47fccf49-b84e-4cb6-b715-fb40b4c591cc\",\"type\":\"Rect\"},{\"attributes\":{\"callback\":null,\"column_names\":[\"x\",\"y\",\"width\",\"height\",\"color\",\"fill_alpha\",\"line_color\",\"line_alpha\",\"label\"],\"data\":{\"chart_index\":[\"(92.746667, 93.733333]\"],\"color\":[\"#f22c40\"],\"fill_alpha\":[0.8],\"height\":[0.0],\"label\":[\"(92.746667, 93.733333]\"],\"line_alpha\":[1.0],\"line_color\":[\"black\"],\"width\":[0.9866666666666646],\"x\":[\"93.24000000000001\"],\"y\":[0.0]}},\"id\":\"9cc33e50-fee9-4536-911e-73d28254dd12\",\"type\":\"ColumnDataSource\"},{\"attributes\":{\"callback\":null,\"column_names\":[\"x\",\"y\",\"width\",\"height\",\"color\",\"fill_alpha\",\"line_color\",\"line_alpha\",\"label\"],\"data\":{\"chart_index\":[\"(55.253333, 56.240000]\"],\"color\":[\"#f22c40\"],\"fill_alpha\":[0.8],\"height\":[1.0],\"label\":[\"(55.253333, 56.240000]\"],\"line_alpha\":[1.0],\"line_color\":[\"black\"],\"width\":[0.9866666666666646],\"x\":[\"55.7466665\"],\"y\":[0.5]}},\"id\":\"0a6d574b-63ea-4c32-8cbe-8d431b6d2be7\",\"type\":\"ColumnDataSource\"},{\"attributes\":{\"callback\":null,\"column_names\":[\"x\",\"y\",\"width\",\"height\",\"color\",\"fill_alpha\",\"line_color\",\"line_alpha\",\"label\"],\"data\":{\"chart_index\":[\"(93.733333, 94.720000]\"],\"color\":[\"#f22c40\"],\"fill_alpha\":[0.8],\"height\":[0.0],\"label\":[\"(93.733333, 94.720000]\"],\"line_alpha\":[1.0],\"line_color\":[\"black\"],\"width\":[0.9866666666666646],\"x\":[\"94.2266665\"],\"y\":[0.0]}},\"id\":\"a81ca0e7-c377-4b8b-894d-5f0b324d0b5c\",\"type\":\"ColumnDataSource\"},{\"attributes\":{\"callback\":null,\"column_names\":[\"x\",\"y\",\"width\",\"height\",\"color\",\"fill_alpha\",\"line_color\",\"line_alpha\",\"label\"],\"data\":{\"chart_index\":[\"(48.346667, 49.333333]\"],\"color\":[\"#f22c40\"],\"fill_alpha\":[0.8],\"height\":[0.0],\"label\":[\"(48.346667, 49.333333]\"],\"line_alpha\":[1.0],\"line_color\":[\"black\"],\"width\":[0.9866666666666646],\"x\":[\"48.84\"],\"y\":[0.0]}},\"id\":\"22ee55b3-8b05-4fe7-a2e0-83b931564e3d\",\"type\":\"ColumnDataSource\"},{\"attributes\":{\"fill_alpha\":{\"field\":\"fill_alpha\"},\"fill_color\":{\"field\":\"color\"},\"height\":{\"field\":\"height\",\"units\":\"data\"},\"line_color\":{\"field\":\"line_color\"},\"width\":{\"field\":\"width\",\"units\":\"data\"},\"x\":{\"field\":\"x\"},\"y\":{\"field\":\"y\"}},\"id\":\"95c602da-611d-4e8b-98ea-c733b7f5b7be\",\"type\":\"Rect\"},{\"attributes\":{\"fill_alpha\":{\"field\":\"fill_alpha\"},\"fill_color\":{\"field\":\"color\"},\"height\":{\"field\":\"height\",\"units\":\"data\"},\"line_color\":{\"field\":\"line_color\"},\"width\":{\"field\":\"width\",\"units\":\"data\"},\"x\":{\"field\":\"x\"},\"y\":{\"field\":\"y\"}},\"id\":\"26d07744-8b7c-479c-87e6-82a820765f8c\",\"type\":\"Rect\"},{\"attributes\":{\"data_source\":{\"id\":\"9cc33e50-fee9-4536-911e-73d28254dd12\",\"type\":\"ColumnDataSource\"},\"glyph\":{\"id\":\"d82437bd-752e-44c4-937a-e935593c952a\",\"type\":\"Rect\"},\"hover_glyph\":null,\"muted_glyph\":null},\"id\":\"244dc627-dcce-4a1e-964b-5a63b3f84075\",\"type\":\"GlyphRenderer\"},{\"attributes\":{\"callback\":null,\"column_names\":[\"x\",\"y\",\"width\",\"height\",\"color\",\"fill_alpha\",\"line_color\",\"line_alpha\",\"label\"],\"data\":{\"chart_index\":[\"(49.333333, 50.320000]\"],\"color\":[\"#f22c40\"],\"fill_alpha\":[0.8],\"height\":[0.0],\"label\":[\"(49.333333, 50.320000]\"],\"line_alpha\":[1.0],\"line_color\":[\"black\"],\"width\":[0.9866666666666646],\"x\":[\"49.8266665\"],\"y\":[0.0]}},\"id\":\"930c878f-f31d-474a-9916-db62aaacb24d\",\"type\":\"ColumnDataSource\"},{\"attributes\":{\"data_source\":{\"id\":\"22ee55b3-8b05-4fe7-a2e0-83b931564e3d\",\"type\":\"ColumnDataSource\"},\"glyph\":{\"id\":\"17c203ac-4690-4fcc-b9d7-ade8a3e10b36\",\"type\":\"Rect\"},\"hover_glyph\":null,\"muted_glyph\":null},\"id\":\"09ffc67d-578d-4967-8e62-8144673fc15a\",\"type\":\"GlyphRenderer\"},{\"attributes\":{\"fill_alpha\":{\"field\":\"fill_alpha\"},\"fill_color\":{\"field\":\"color\"},\"height\":{\"field\":\"height\",\"units\":\"data\"},\"line_color\":{\"field\":\"line_color\"},\"width\":{\"field\":\"width\",\"units\":\"data\"},\"x\":{\"field\":\"x\"},\"y\":{\"field\":\"y\"}},\"id\":\"fdcc863a-57f9-49b5-893f-1ec9f3cca424\",\"type\":\"Rect\"},{\"attributes\":{\"fill_alpha\":{\"field\":\"fill_alpha\"},\"fill_color\":{\"field\":\"color\"},\"height\":{\"field\":\"height\",\"units\":\"data\"},\"line_color\":{\"field\":\"line_color\"},\"width\":{\"field\":\"width\",\"units\":\"data\"},\"x\":{\"field\":\"x\"},\"y\":{\"field\":\"y\"}},\"id\":\"0e113d57-c38a-4be1-bae2-2b2683a946c1\",\"type\":\"Rect\"},{\"attributes\":{\"callback\":null,\"column_names\":[\"x\",\"y\",\"width\",\"height\",\"color\",\"fill_alpha\",\"line_color\",\"line_alpha\",\"label\"],\"data\":{\"chart_index\":[\"(94.720000, 95.706667]\"],\"color\":[\"#f22c40\"],\"fill_alpha\":[0.8],\"height\":[0.0],\"label\":[\"(94.720000, 95.706667]\"],\"line_alpha\":[1.0],\"line_color\":[\"black\"],\"width\":[0.9866666666666646],\"x\":[\"95.2133335\"],\"y\":[0.0]}},\"id\":\"be326cc3-b686-4c8c-8168-52ae77093fc4\",\"type\":\"ColumnDataSource\"},{\"attributes\":{\"callback\":null,\"column_names\":[\"x\",\"y\",\"width\",\"height\",\"color\",\"fill_alpha\",\"line_color\",\"line_alpha\",\"label\"],\"data\":{\"chart_index\":[\"(50.320000, 51.306667]\"],\"color\":[\"#f22c40\"],\"fill_alpha\":[0.8],\"height\":[0.0],\"label\":[\"(50.320000, 51.306667]\"],\"line_alpha\":[1.0],\"line_color\":[\"black\"],\"width\":[0.9866666666666646],\"x\":[\"50.8133335\"],\"y\":[0.0]}},\"id\":\"24990ef2-1d3f-4605-af9f-5f297593283b\",\"type\":\"ColumnDataSource\"},{\"attributes\":{\"callback\":null,\"column_names\":[\"x\",\"y\",\"width\",\"height\",\"color\",\"fill_alpha\",\"line_color\",\"line_alpha\",\"label\"],\"data\":{\"chart_index\":[\"(99.653333, 100.640000]\"],\"color\":[\"#f22c40\"],\"fill_alpha\":[0.8],\"height\":[0.0],\"label\":[\"(99.653333, 100.640000]\"],\"line_alpha\":[1.0],\"line_color\":[\"black\"],\"width\":[0.9866666666666646],\"x\":[\"100.14666650000001\"],\"y\":[0.0]}},\"id\":\"b0e8805c-3cb2-4c18-a7e6-2a832090d37d\",\"type\":\"ColumnDataSource\"},{\"attributes\":{\"fill_alpha\":{\"field\":\"fill_alpha\"},\"fill_color\":{\"field\":\"color\"},\"height\":{\"field\":\"height\",\"units\":\"data\"},\"line_color\":{\"field\":\"line_color\"},\"width\":{\"field\":\"width\",\"units\":\"data\"},\"x\":{\"field\":\"x\"},\"y\":{\"field\":\"y\"}},\"id\":\"399c7667-3677-45d1-a8d7-ab32dbc2945f\",\"type\":\"Rect\"},{\"attributes\":{\"fill_alpha\":{\"field\":\"fill_alpha\"},\"fill_color\":{\"field\":\"color\"},\"height\":{\"field\":\"height\",\"units\":\"data\"},\"line_color\":{\"field\":\"line_color\"},\"width\":{\"field\":\"width\",\"units\":\"data\"},\"x\":{\"field\":\"x\"},\"y\":{\"field\":\"y\"}},\"id\":\"70f963bb-e390-4644-93fa-9cbb698db3f4\",\"type\":\"Rect\"},{\"attributes\":{\"data_source\":{\"id\":\"a81ca0e7-c377-4b8b-894d-5f0b324d0b5c\",\"type\":\"ColumnDataSource\"},\"glyph\":{\"id\":\"26d07744-8b7c-479c-87e6-82a820765f8c\",\"type\":\"Rect\"},\"hover_glyph\":null,\"muted_glyph\":null},\"id\":\"ebb3e92a-3de0-46ec-ba14-65fd7a5e56fa\",\"type\":\"GlyphRenderer\"},{\"attributes\":{\"callback\":null,\"column_names\":[\"x\",\"y\",\"width\",\"height\",\"color\",\"fill_alpha\",\"line_color\",\"line_alpha\",\"label\"],\"data\":{\"chart_index\":[\"(54.266667, 55.253333]\"],\"color\":[\"#f22c40\"],\"fill_alpha\":[0.8],\"height\":[0.0],\"label\":[\"(54.266667, 55.253333]\"],\"line_alpha\":[1.0],\"line_color\":[\"black\"],\"width\":[0.9866666666666717],\"x\":[\"54.76\"],\"y\":[0.0]}},\"id\":\"fcfdd928-41f5-400a-944c-478684a973c3\",\"type\":\"ColumnDataSource\"},{\"attributes\":{\"data_source\":{\"id\":\"930c878f-f31d-474a-9916-db62aaacb24d\",\"type\":\"ColumnDataSource\"},\"glyph\":{\"id\":\"95c602da-611d-4e8b-98ea-c733b7f5b7be\",\"type\":\"Rect\"},\"hover_glyph\":null,\"muted_glyph\":null},\"id\":\"8a917a57-b832-4410-b018-b1b6960067e2\",\"type\":\"GlyphRenderer\"},{\"attributes\":{\"fill_alpha\":{\"field\":\"fill_alpha\"},\"fill_color\":{\"field\":\"color\"},\"height\":{\"field\":\"height\",\"units\":\"data\"},\"line_color\":{\"field\":\"line_color\"},\"width\":{\"field\":\"width\",\"units\":\"data\"},\"x\":{\"field\":\"x\"},\"y\":{\"field\":\"y\"}},\"id\":\"4f451226-db40-481a-a353-dcd62381a199\",\"type\":\"Rect\"},{\"attributes\":{\"callback\":null,\"column_names\":[\"x\",\"y\",\"width\",\"height\",\"color\",\"fill_alpha\",\"line_color\",\"line_alpha\",\"label\"],\"data\":{\"chart_index\":[\"(95.706667, 96.693333]\"],\"color\":[\"#f22c40\"],\"fill_alpha\":[0.8],\"height\":[0.0],\"label\":[\"(95.706667, 96.693333]\"],\"line_alpha\":[1.0],\"line_color\":[\"black\"],\"width\":[0.9866666666666788],\"x\":[\"96.19999999999999\"],\"y\":[0.0]}},\"id\":\"4ef6c274-6b52-4d75-92f2-0b7afacb1af5\",\"type\":\"ColumnDataSource\"},{\"attributes\":{\"callback\":null,\"column_names\":[\"x\",\"y\",\"width\",\"height\",\"color\",\"fill_alpha\",\"line_color\",\"line_alpha\",\"label\"],\"data\":{\"chart_index\":[\"(98.666667, 99.653333]\"],\"color\":[\"#f22c40\"],\"fill_alpha\":[0.8],\"height\":[0.0],\"label\":[\"(98.666667, 99.653333]\"],\"line_alpha\":[1.0],\"line_color\":[\"black\"],\"width\":[0.9866666666666646],\"x\":[\"99.16\"],\"y\":[0.0]}},\"id\":\"ee0ae403-2d61-4d1b-b2c4-205dab12e488\",\"type\":\"ColumnDataSource\"},{\"attributes\":{\"data_source\":{\"id\":\"db7c6b4d-a019-487c-9dd6-c48a7b45266f\",\"type\":\"ColumnDataSource\"},\"glyph\":{\"id\":\"ebd3fb0c-216d-4c0a-9dfd-41cdcbd39eb9\",\"type\":\"Rect\"},\"hover_glyph\":null,\"muted_glyph\":null},\"id\":\"d3686a13-e99d-4de8-85b3-34d2e2c02fd4\",\"type\":\"GlyphRenderer\"},{\"attributes\":{\"data_source\":{\"id\":\"b7fd71fd-5d64-44ba-baa6-fee0c783ead2\",\"type\":\"ColumnDataSource\"},\"glyph\":{\"id\":\"1f64015f-2c59-4ad7-8d5c-635faccb5fa1\",\"type\":\"Rect\"},\"hover_glyph\":null,\"muted_glyph\":null},\"id\":\"33c663dd-82dc-47ff-a4de-05c4e3b41f37\",\"type\":\"GlyphRenderer\"},{\"attributes\":{\"data_source\":{\"id\":\"be326cc3-b686-4c8c-8168-52ae77093fc4\",\"type\":\"ColumnDataSource\"},\"glyph\":{\"id\":\"fdcc863a-57f9-49b5-893f-1ec9f3cca424\",\"type\":\"Rect\"},\"hover_glyph\":null,\"muted_glyph\":null},\"id\":\"9262e6e7-4017-4538-bdf1-47bf017ad8e5\",\"type\":\"GlyphRenderer\"},{\"attributes\":{\"callback\":null,\"column_names\":[\"x\",\"y\",\"width\",\"height\",\"color\",\"fill_alpha\",\"line_color\",\"line_alpha\",\"label\"],\"data\":{\"chart_index\":[\"(53.280000, 54.266667]\"],\"color\":[\"#f22c40\"],\"fill_alpha\":[0.8],\"height\":[0.0],\"label\":[\"(53.280000, 54.266667]\"],\"line_alpha\":[1.0],\"line_color\":[\"black\"],\"width\":[0.9866666666666646],\"x\":[\"53.7733335\"],\"y\":[0.0]}},\"id\":\"db7c6b4d-a019-487c-9dd6-c48a7b45266f\",\"type\":\"ColumnDataSource\"},{\"attributes\":{\"data_source\":{\"id\":\"24990ef2-1d3f-4605-af9f-5f297593283b\",\"type\":\"ColumnDataSource\"},\"glyph\":{\"id\":\"0e113d57-c38a-4be1-bae2-2b2683a946c1\",\"type\":\"Rect\"},\"hover_glyph\":null,\"muted_glyph\":null},\"id\":\"4e16795b-0c65-4278-bff3-ada12ac03040\",\"type\":\"GlyphRenderer\"},{\"attributes\":{\"data_source\":{\"id\":\"7560d8ad-7a45-44ad-82a9-8b6ba7fc1547\",\"type\":\"ColumnDataSource\"},\"glyph\":{\"id\":\"b1b10cc8-e51a-4d2e-bbcd-0e3234b9864c\",\"type\":\"Rect\"},\"hover_glyph\":null,\"muted_glyph\":null},\"id\":\"beae1cca-9e89-45db-bf86-bb8bd1b3d94d\",\"type\":\"GlyphRenderer\"},{\"attributes\":{\"callback\":null,\"column_names\":[\"x\",\"y\",\"width\",\"height\",\"color\",\"fill_alpha\",\"line_color\",\"line_alpha\",\"label\"],\"data\":{\"chart_index\":[\"(51.306667, 52.293333]\"],\"color\":[\"#f22c40\"],\"fill_alpha\":[0.8],\"height\":[2.0],\"label\":[\"(51.306667, 52.293333]\"],\"line_alpha\":[1.0],\"line_color\":[\"black\"],\"width\":[0.9866666666666717],\"x\":[\"51.8\"],\"y\":[1.0]}},\"id\":\"357714c7-e034-4c7c-9115-c91753e77d8c\",\"type\":\"ColumnDataSource\"},{\"attributes\":{\"fill_alpha\":{\"field\":\"fill_alpha\"},\"fill_color\":{\"field\":\"color\"},\"height\":{\"field\":\"height\",\"units\":\"data\"},\"line_color\":{\"field\":\"line_color\"},\"width\":{\"field\":\"width\",\"units\":\"data\"},\"x\":{\"field\":\"x\"},\"y\":{\"field\":\"y\"}},\"id\":\"156fbbfb-8722-4f83-b847-3d747b5b4f16\",\"type\":\"Rect\"},{\"attributes\":{\"fill_alpha\":{\"field\":\"fill_alpha\"},\"fill_color\":{\"field\":\"color\"},\"height\":{\"field\":\"height\",\"units\":\"data\"},\"line_color\":{\"field\":\"line_color\"},\"width\":{\"field\":\"width\",\"units\":\"data\"},\"x\":{\"field\":\"x\"},\"y\":{\"field\":\"y\"}},\"id\":\"cbbc4731-4f62-414d-8a81-06150030bb1e\",\"type\":\"Rect\"},{\"attributes\":{\"callback\":null,\"column_names\":[\"x\",\"y\",\"width\",\"height\",\"color\",\"fill_alpha\",\"line_color\",\"line_alpha\",\"label\"],\"data\":{\"chart_index\":[\"(97.680000, 98.666667]\"],\"color\":[\"#f22c40\"],\"fill_alpha\":[0.8],\"height\":[0.0],\"label\":[\"(97.680000, 98.666667]\"],\"line_alpha\":[1.0],\"line_color\":[\"black\"],\"width\":[0.9866666666666646],\"x\":[\"98.17333350000001\"],\"y\":[0.0]}},\"id\":\"b7fd71fd-5d64-44ba-baa6-fee0c783ead2\",\"type\":\"ColumnDataSource\"},{\"attributes\":{\"data_source\":{\"id\":\"4ef6c274-6b52-4d75-92f2-0b7afacb1af5\",\"type\":\"ColumnDataSource\"},\"glyph\":{\"id\":\"4f451226-db40-481a-a353-dcd62381a199\",\"type\":\"Rect\"},\"hover_glyph\":null,\"muted_glyph\":null},\"id\":\"bd879df0-3701-4dd3-a2ca-d2bfe210d9f0\",\"type\":\"GlyphRenderer\"},{\"attributes\":{\"data_source\":{\"id\":\"357714c7-e034-4c7c-9115-c91753e77d8c\",\"type\":\"ColumnDataSource\"},\"glyph\":{\"id\":\"156fbbfb-8722-4f83-b847-3d747b5b4f16\",\"type\":\"Rect\"},\"hover_glyph\":null,\"muted_glyph\":null},\"id\":\"3f1b11f9-d95c-42bc-b7bd-581d2296b65e\",\"type\":\"GlyphRenderer\"},{\"attributes\":{\"fill_alpha\":{\"field\":\"fill_alpha\"},\"fill_color\":{\"field\":\"color\"},\"height\":{\"field\":\"height\",\"units\":\"data\"},\"line_color\":{\"field\":\"line_color\"},\"width\":{\"field\":\"width\",\"units\":\"data\"},\"x\":{\"field\":\"x\"},\"y\":{\"field\":\"y\"}},\"id\":\"515d88e7-3c98-4b32-a1ff-9c0b0e271946\",\"type\":\"Rect\"},{\"attributes\":{\"callback\":null,\"column_names\":[\"x\",\"y\",\"width\",\"height\",\"color\",\"fill_alpha\",\"line_color\",\"line_alpha\",\"label\"],\"data\":{\"chart_index\":[\"(128.266667, 129.253333]\"],\"color\":[\"#f22c40\"],\"fill_alpha\":[0.8],\"height\":[0.0],\"label\":[\"(128.266667, 129.253333]\"],\"line_alpha\":[1.0],\"line_color\":[\"black\"],\"width\":[0.9866666666666504],\"x\":[\"128.76\"],\"y\":[0.0]}},\"id\":\"8d841f22-71ca-4ef1-b041-fe660d9ade3a\",\"type\":\"ColumnDataSource\"},{\"attributes\":{\"data_source\":{\"id\":\"8d841f22-71ca-4ef1-b041-fe660d9ade3a\",\"type\":\"ColumnDataSource\"},\"glyph\":{\"id\":\"9f707bd9-8b1f-4059-bbc0-8dd003496f6a\",\"type\":\"Rect\"},\"hover_glyph\":null,\"muted_glyph\":null},\"id\":\"761a3473-edf2-4e1f-b6d6-c541fdb879e8\",\"type\":\"GlyphRenderer\"},{\"attributes\":{\"fill_alpha\":{\"field\":\"fill_alpha\"},\"fill_color\":{\"field\":\"color\"},\"height\":{\"field\":\"height\",\"units\":\"data\"},\"line_color\":{\"field\":\"line_color\"},\"width\":{\"field\":\"width\",\"units\":\"data\"},\"x\":{\"field\":\"x\"},\"y\":{\"field\":\"y\"}},\"id\":\"72e1fc84-a082-450c-8f21-93330494af50\",\"type\":\"Rect\"},{\"attributes\":{\"data_source\":{\"id\":\"ee0ae403-2d61-4d1b-b2c4-205dab12e488\",\"type\":\"ColumnDataSource\"},\"glyph\":{\"id\":\"70f963bb-e390-4644-93fa-9cbb698db3f4\",\"type\":\"Rect\"},\"hover_glyph\":null,\"muted_glyph\":null},\"id\":\"c68cf448-ce20-47cd-9444-855fb47e3651\",\"type\":\"GlyphRenderer\"},{\"attributes\":{\"fill_alpha\":{\"field\":\"fill_alpha\"},\"fill_color\":{\"field\":\"color\"},\"height\":{\"field\":\"height\",\"units\":\"data\"},\"line_color\":{\"field\":\"line_color\"},\"width\":{\"field\":\"width\",\"units\":\"data\"},\"x\":{\"field\":\"x\"},\"y\":{\"field\":\"y\"}},\"id\":\"03ff4386-6fd0-488a-9a1d-ef20018fe123\",\"type\":\"Rect\"},{\"attributes\":{\"data_source\":{\"id\":\"fcfdd928-41f5-400a-944c-478684a973c3\",\"type\":\"ColumnDataSource\"},\"glyph\":{\"id\":\"399c7667-3677-45d1-a8d7-ab32dbc2945f\",\"type\":\"Rect\"},\"hover_glyph\":null,\"muted_glyph\":null},\"id\":\"e4dd82b1-5b24-4ebf-8468-07780ca573bc\",\"type\":\"GlyphRenderer\"},{\"attributes\":{\"callback\":null,\"column_names\":[\"x\",\"y\",\"width\",\"height\",\"color\",\"fill_alpha\",\"line_color\",\"line_alpha\",\"label\"],\"data\":{\"chart_index\":[\"(100.640000, 101.626667]\"],\"color\":[\"#f22c40\"],\"fill_alpha\":[0.8],\"height\":[0.0],\"label\":[\"(100.640000, 101.626667]\"],\"line_alpha\":[1.0],\"line_color\":[\"black\"],\"width\":[0.9866666666666646],\"x\":[\"101.13333349999999\"],\"y\":[0.0]}},\"id\":\"8460fa99-a0c6-4fe7-a292-9493a80bffc1\",\"type\":\"ColumnDataSource\"},{\"attributes\":{\"fill_alpha\":{\"field\":\"fill_alpha\"},\"fill_color\":{\"field\":\"color\"},\"height\":{\"field\":\"height\",\"units\":\"data\"},\"line_color\":{\"field\":\"line_color\"},\"width\":{\"field\":\"width\",\"units\":\"data\"},\"x\":{\"field\":\"x\"},\"y\":{\"field\":\"y\"}},\"id\":\"f702ae7d-e106-4c67-817d-200dc4c2af4a\",\"type\":\"Rect\"},{\"attributes\":{\"callback\":null,\"column_names\":[\"x\",\"y\",\"width\",\"height\",\"color\",\"fill_alpha\",\"line_color\",\"line_alpha\",\"label\"],\"data\":{\"chart_index\":[\"(56.240000, 57.226667]\"],\"color\":[\"#f22c40\"],\"fill_alpha\":[0.8],\"height\":[0.0],\"label\":[\"(56.240000, 57.226667]\"],\"line_alpha\":[1.0],\"line_color\":[\"black\"],\"width\":[0.9866666666666646],\"x\":[\"56.7333335\"],\"y\":[0.0]}},\"id\":\"88327971-935d-4b8b-95a8-3c77c3a74770\",\"type\":\"ColumnDataSource\"},{\"attributes\":{\"data_source\":{\"id\":\"674a70c3-04e0-4186-ba3b-5a8e39b740fc\",\"type\":\"ColumnDataSource\"},\"glyph\":{\"id\":\"ed65b9b8-6fac-4062-9db5-d05788df6538\",\"type\":\"Rect\"},\"hover_glyph\":null,\"muted_glyph\":null},\"id\":\"ae24a439-7ce3-428a-8b72-e01941a9a606\",\"type\":\"GlyphRenderer\"},{\"attributes\":{\"data_source\":{\"id\":\"b0e8805c-3cb2-4c18-a7e6-2a832090d37d\",\"type\":\"ColumnDataSource\"},\"glyph\":{\"id\":\"cbbc4731-4f62-414d-8a81-06150030bb1e\",\"type\":\"Rect\"},\"hover_glyph\":null,\"muted_glyph\":null},\"id\":\"2784c73d-baca-4484-861e-3bff688936ca\",\"type\":\"GlyphRenderer\"},{\"attributes\":{\"data_source\":{\"id\":\"365ded6c-75cc-4482-aaab-d08eb9b3adf6\",\"type\":\"ColumnDataSource\"},\"glyph\":{\"id\":\"bc56b76c-ad60-40f7-b9e6-4650ae011ba9\",\"type\":\"Rect\"},\"hover_glyph\":null,\"muted_glyph\":null},\"id\":\"6b55c635-25d1-420e-8a9c-8610735e403d\",\"type\":\"GlyphRenderer\"},{\"attributes\":{\"fill_alpha\":{\"field\":\"fill_alpha\"},\"fill_color\":{\"field\":\"color\"},\"height\":{\"field\":\"height\",\"units\":\"data\"},\"line_color\":{\"field\":\"line_color\"},\"width\":{\"field\":\"width\",\"units\":\"data\"},\"x\":{\"field\":\"x\"},\"y\":{\"field\":\"y\"}},\"id\":\"bb6dad2f-e154-4eaa-9765-0f0333068abb\",\"type\":\"Rect\"},{\"attributes\":{\"data_source\":{\"id\":\"0a6d574b-63ea-4c32-8cbe-8d431b6d2be7\",\"type\":\"ColumnDataSource\"},\"glyph\":{\"id\":\"515d88e7-3c98-4b32-a1ff-9c0b0e271946\",\"type\":\"Rect\"},\"hover_glyph\":null,\"muted_glyph\":null},\"id\":\"d8788a65-5bbd-433d-b7ba-530774f500cf\",\"type\":\"GlyphRenderer\"},{\"attributes\":{\"plot\":{\"id\":\"7c39d0d2-b506-46c4-ae69-114747625022\",\"subtype\":\"Chart\",\"type\":\"Plot\"}},\"id\":\"c40251e9-ab4d-4a04-a8df-7e5bfe6502fd\",\"type\":\"ResetTool\"},{\"attributes\":{\"callback\":null,\"column_names\":[\"x\",\"y\",\"width\",\"height\",\"color\",\"fill_alpha\",\"line_color\",\"line_alpha\",\"label\"],\"data\":{\"chart_index\":[\"(58.213333, 59.200000]\"],\"color\":[\"#f22c40\"],\"fill_alpha\":[0.8],\"height\":[0.0],\"label\":[\"(58.213333, 59.200000]\"],\"line_alpha\":[1.0],\"line_color\":[\"black\"],\"width\":[0.9866666666666646],\"x\":[\"58.7066665\"],\"y\":[0.0]}},\"id\":\"0e1b5ac2-6195-409d-9db4-fb82b2ccfbb3\",\"type\":\"ColumnDataSource\"},{\"attributes\":{\"data_source\":{\"id\":\"516b2398-cdaa-4e98-91dc-407815d9a958\",\"type\":\"ColumnDataSource\"},\"glyph\":{\"id\":\"7f02d768-1441-4023-a78b-54ca0ff0bad3\",\"type\":\"Rect\"},\"hover_glyph\":null,\"muted_glyph\":null},\"id\":\"02c693c2-bb24-40fe-bd61-038d334eb49e\",\"type\":\"GlyphRenderer\"},{\"attributes\":{\"fill_alpha\":{\"field\":\"fill_alpha\"},\"fill_color\":{\"field\":\"color\"},\"height\":{\"field\":\"height\",\"units\":\"data\"},\"line_color\":{\"field\":\"line_color\"},\"width\":{\"field\":\"width\",\"units\":\"data\"},\"x\":{\"field\":\"x\"},\"y\":{\"field\":\"y\"}},\"id\":\"7f02d768-1441-4023-a78b-54ca0ff0bad3\",\"type\":\"Rect\"},{\"attributes\":{\"data_source\":{\"id\":\"8460fa99-a0c6-4fe7-a292-9493a80bffc1\",\"type\":\"ColumnDataSource\"},\"glyph\":{\"id\":\"03ff4386-6fd0-488a-9a1d-ef20018fe123\",\"type\":\"Rect\"},\"hover_glyph\":null,\"muted_glyph\":null},\"id\":\"fdc475c9-2370-4357-aa26-d14231ab967e\",\"type\":\"GlyphRenderer\"},{\"attributes\":{\"fill_alpha\":{\"field\":\"fill_alpha\"},\"fill_color\":{\"field\":\"color\"},\"height\":{\"field\":\"height\",\"units\":\"data\"},\"line_color\":{\"field\":\"line_color\"},\"width\":{\"field\":\"width\",\"units\":\"data\"},\"x\":{\"field\":\"x\"},\"y\":{\"field\":\"y\"}},\"id\":\"bc56b76c-ad60-40f7-b9e6-4650ae011ba9\",\"type\":\"Rect\"},{\"attributes\":{\"fill_alpha\":{\"field\":\"fill_alpha\"},\"fill_color\":{\"field\":\"color\"},\"height\":{\"field\":\"height\",\"units\":\"data\"},\"line_color\":{\"field\":\"line_color\"},\"width\":{\"field\":\"width\",\"units\":\"data\"},\"x\":{\"field\":\"x\"},\"y\":{\"field\":\"y\"}},\"id\":\"22ecf6fa-6585-4a17-af75-a307eaf67f05\",\"type\":\"Rect\"},{\"attributes\":{\"callback\":null,\"column_names\":[\"x\",\"y\",\"width\",\"height\",\"color\",\"fill_alpha\",\"line_color\",\"line_alpha\",\"label\"],\"data\":{\"chart_index\":[\"(101.626667, 102.613333]\"],\"color\":[\"#f22c40\"],\"fill_alpha\":[0.8],\"height\":[0.0],\"label\":[\"(101.626667, 102.613333]\"],\"line_alpha\":[1.0],\"line_color\":[\"black\"],\"width\":[0.9866666666666646],\"x\":[\"102.12\"],\"y\":[0.0]}},\"id\":\"a0787c0f-9119-4470-aab0-73e62761966e\",\"type\":\"ColumnDataSource\"},{\"attributes\":{\"data_source\":{\"id\":\"88327971-935d-4b8b-95a8-3c77c3a74770\",\"type\":\"ColumnDataSource\"},\"glyph\":{\"id\":\"f702ae7d-e106-4c67-817d-200dc4c2af4a\",\"type\":\"Rect\"},\"hover_glyph\":null,\"muted_glyph\":null},\"id\":\"fe08f8d9-f495-44ad-8646-a7eae275b91f\",\"type\":\"GlyphRenderer\"},{\"attributes\":{\"fill_alpha\":{\"field\":\"fill_alpha\"},\"fill_color\":{\"field\":\"color\"},\"height\":{\"field\":\"height\",\"units\":\"data\"},\"line_color\":{\"field\":\"line_color\"},\"width\":{\"field\":\"width\",\"units\":\"data\"},\"x\":{\"field\":\"x\"},\"y\":{\"field\":\"y\"}},\"id\":\"eed92353-7ade-4a43-ae09-e5b3d8542813\",\"type\":\"Rect\"},{\"attributes\":{\"data_source\":{\"id\":\"219ae633-b0b9-4c52-8de4-383922a1cc53\",\"type\":\"ColumnDataSource\"},\"glyph\":{\"id\":\"bb6dad2f-e154-4eaa-9765-0f0333068abb\",\"type\":\"Rect\"},\"hover_glyph\":null,\"muted_glyph\":null},\"id\":\"328b6392-ada0-4932-b72d-009607b9e6b6\",\"type\":\"GlyphRenderer\"},{\"attributes\":{\"callback\":null,\"column_names\":[\"x\",\"y\",\"width\",\"height\",\"color\",\"fill_alpha\",\"line_color\",\"line_alpha\",\"label\"],\"data\":{\"chart_index\":[\"(57.226667, 58.213333]\"],\"color\":[\"#f22c40\"],\"fill_alpha\":[0.8],\"height\":[0.0],\"label\":[\"(57.226667, 58.213333]\"],\"line_alpha\":[1.0],\"line_color\":[\"black\"],\"width\":[0.9866666666666717],\"x\":[\"57.72\"],\"y\":[0.0]}},\"id\":\"a5fd9c7b-e7e0-4778-8866-412a95ac8477\",\"type\":\"ColumnDataSource\"},{\"attributes\":{\"fill_alpha\":{\"field\":\"fill_alpha\"},\"fill_color\":{\"field\":\"color\"},\"height\":{\"field\":\"height\",\"units\":\"data\"},\"line_color\":{\"field\":\"line_color\"},\"width\":{\"field\":\"width\",\"units\":\"data\"},\"x\":{\"field\":\"x\"},\"y\":{\"field\":\"y\"}},\"id\":\"c896f195-a313-400d-a05f-549d41f3fade\",\"type\":\"Rect\"},{\"attributes\":{\"fill_alpha\":{\"field\":\"fill_alpha\"},\"fill_color\":{\"field\":\"color\"},\"height\":{\"field\":\"height\",\"units\":\"data\"},\"line_color\":{\"field\":\"line_color\"},\"width\":{\"field\":\"width\",\"units\":\"data\"},\"x\":{\"field\":\"x\"},\"y\":{\"field\":\"y\"}},\"id\":\"2f9ea334-9d96-4b7a-bfb9-44e866c22019\",\"type\":\"Rect\"},{\"attributes\":{\"fill_alpha\":{\"field\":\"fill_alpha\"},\"fill_color\":{\"field\":\"color\"},\"height\":{\"field\":\"height\",\"units\":\"data\"},\"line_color\":{\"field\":\"line_color\"},\"width\":{\"field\":\"width\",\"units\":\"data\"},\"x\":{\"field\":\"x\"},\"y\":{\"field\":\"y\"}},\"id\":\"1ebd2ddf-4769-4182-85b0-95452d846da8\",\"type\":\"Rect\"},{\"attributes\":{\"callback\":null,\"column_names\":[\"x\",\"y\",\"width\",\"height\",\"color\",\"fill_alpha\",\"line_color\",\"line_alpha\",\"label\"],\"data\":{\"chart_index\":[\"(105.573333, 106.560000]\"],\"color\":[\"#f22c40\"],\"fill_alpha\":[0.8],\"height\":[0.0],\"label\":[\"(105.573333, 106.560000]\"],\"line_alpha\":[1.0],\"line_color\":[\"black\"],\"width\":[0.9866666666666646],\"x\":[\"106.0666665\"],\"y\":[0.0]}},\"id\":\"3b6cfc45-3517-49ee-9783-20bf0eafe8f5\",\"type\":\"ColumnDataSource\"},{\"attributes\":{\"data_source\":{\"id\":\"a0787c0f-9119-4470-aab0-73e62761966e\",\"type\":\"ColumnDataSource\"},\"glyph\":{\"id\":\"eed92353-7ade-4a43-ae09-e5b3d8542813\",\"type\":\"Rect\"},\"hover_glyph\":null,\"muted_glyph\":null},\"id\":\"85755702-b9a2-479e-aff5-2f0ac6ae0dbb\",\"type\":\"GlyphRenderer\"},{\"attributes\":{\"callback\":null,\"column_names\":[\"x\",\"y\",\"width\",\"height\",\"color\",\"fill_alpha\",\"line_color\",\"line_alpha\",\"label\"],\"data\":{\"chart_index\":[\"(61.173333, 62.160000]\"],\"color\":[\"#f22c40\"],\"fill_alpha\":[0.8],\"height\":[0.0],\"label\":[\"(61.173333, 62.160000]\"],\"line_alpha\":[1.0],\"line_color\":[\"black\"],\"width\":[0.9866666666666717],\"x\":[\"61.6666665\"],\"y\":[0.0]}},\"id\":\"5086e092-bff3-48a8-95cd-9a512ad45ae6\",\"type\":\"ColumnDataSource\"},{\"attributes\":{\"data_source\":{\"id\":\"a5fd9c7b-e7e0-4778-8866-412a95ac8477\",\"type\":\"ColumnDataSource\"},\"glyph\":{\"id\":\"c896f195-a313-400d-a05f-549d41f3fade\",\"type\":\"Rect\"},\"hover_glyph\":null,\"muted_glyph\":null},\"id\":\"1ddeea49-9f8d-4019-a41d-e1214ede77b4\",\"type\":\"GlyphRenderer\"},{\"attributes\":{\"callback\":null,\"column_names\":[\"x\",\"y\",\"width\",\"height\",\"color\",\"fill_alpha\",\"line_color\",\"line_alpha\",\"label\"],\"data\":{\"chart_index\":[\"(104.586667, 105.573333]\"],\"color\":[\"#f22c40\"],\"fill_alpha\":[0.8],\"height\":[0.0],\"label\":[\"(104.586667, 105.573333]\"],\"line_alpha\":[1.0],\"line_color\":[\"black\"],\"width\":[0.9866666666666646],\"x\":[\"105.08000000000001\"],\"y\":[0.0]}},\"id\":\"516b2398-cdaa-4e98-91dc-407815d9a958\",\"type\":\"ColumnDataSource\"},{\"attributes\":{\"callback\":null,\"column_names\":[\"x\",\"y\",\"width\",\"height\",\"color\",\"fill_alpha\",\"line_color\",\"line_alpha\",\"label\"],\"data\":{\"chart_index\":[\"(102.613333, 103.600000]\"],\"color\":[\"#f22c40\"],\"fill_alpha\":[0.8],\"height\":[0.0],\"label\":[\"(102.613333, 103.600000]\"],\"line_alpha\":[1.0],\"line_color\":[\"black\"],\"width\":[0.9866666666666788],\"x\":[\"103.10666649999999\"],\"y\":[0.0]}},\"id\":\"219ae633-b0b9-4c52-8de4-383922a1cc53\",\"type\":\"ColumnDataSource\"},{\"attributes\":{\"callback\":null,\"column_names\":[\"x\",\"y\",\"width\",\"height\",\"color\",\"fill_alpha\",\"line_color\",\"line_alpha\",\"label\"],\"data\":{\"chart_index\":[\"(60.186667, 61.173333]\"],\"color\":[\"#f22c40\"],\"fill_alpha\":[0.8],\"height\":[0.0],\"label\":[\"(60.186667, 61.173333]\"],\"line_alpha\":[1.0],\"line_color\":[\"black\"],\"width\":[0.9866666666666646],\"x\":[\"60.68\"],\"y\":[0.0]}},\"id\":\"365ded6c-75cc-4482-aaab-d08eb9b3adf6\",\"type\":\"ColumnDataSource\"},{\"attributes\":{\"callback\":null,\"column_names\":[\"x\",\"y\",\"width\",\"height\",\"color\",\"fill_alpha\",\"line_color\",\"line_alpha\",\"label\"],\"data\":{\"chart_index\":[\"(67.093333, 68.080000]\"],\"color\":[\"#f22c40\"],\"fill_alpha\":[0.8],\"height\":[0.0],\"label\":[\"(67.093333, 68.080000]\"],\"line_alpha\":[1.0],\"line_color\":[\"black\"],\"width\":[0.9866666666666646],\"x\":[\"67.5866665\"],\"y\":[0.0]}},\"id\":\"674a70c3-04e0-4186-ba3b-5a8e39b740fc\",\"type\":\"ColumnDataSource\"},{\"attributes\":{\"callback\":null,\"column_names\":[\"x\",\"y\",\"width\",\"height\",\"color\",\"fill_alpha\",\"line_color\",\"line_alpha\",\"label\"],\"data\":{\"chart_index\":[\"(111.493333, 112.480000]\"],\"color\":[\"#f22c40\"],\"fill_alpha\":[0.8],\"height\":[0.0],\"label\":[\"(111.493333, 112.480000]\"],\"line_alpha\":[1.0],\"line_color\":[\"black\"],\"width\":[0.9866666666666646],\"x\":[\"111.98666650000001\"],\"y\":[0.0]}},\"id\":\"7560d8ad-7a45-44ad-82a9-8b6ba7fc1547\",\"type\":\"ColumnDataSource\"},{\"attributes\":{\"data_source\":{\"id\":\"5dc3c5b1-1b97-4fc6-a1d9-29f5f7ca66c3\",\"type\":\"ColumnDataSource\"},\"glyph\":{\"id\":\"3519b2a3-f426-4f6f-be8e-fefa6850c5f1\",\"type\":\"Rect\"},\"hover_glyph\":null,\"muted_glyph\":null},\"id\":\"8a05c351-6764-4ed2-a00e-ad92ee33dac4\",\"type\":\"GlyphRenderer\"},{\"attributes\":{\"callback\":null,\"column_names\":[\"x\",\"y\",\"width\",\"height\",\"color\",\"fill_alpha\",\"line_color\",\"line_alpha\",\"label\"],\"data\":{\"chart_index\":[\"(36.506667, 37.493333]\"],\"color\":[\"#f22c40\"],\"fill_alpha\":[0.8],\"height\":[1.0],\"label\":[\"(36.506667, 37.493333]\"],\"line_alpha\":[1.0],\"line_color\":[\"black\"],\"width\":[0.9866666666666646],\"x\":[\"37.0\"],\"y\":[0.5]}},\"id\":\"5616551e-cdaf-462e-af53-a97653ff1789\",\"type\":\"ColumnDataSource\"},{\"attributes\":{\"fill_alpha\":{\"field\":\"fill_alpha\"},\"fill_color\":{\"field\":\"color\"},\"height\":{\"field\":\"height\",\"units\":\"data\"},\"line_color\":{\"field\":\"line_color\"},\"width\":{\"field\":\"width\",\"units\":\"data\"},\"x\":{\"field\":\"x\"},\"y\":{\"field\":\"y\"}},\"id\":\"dd55e23e-2521-42a7-bae4-271d85e8e2cd\",\"type\":\"Rect\"},{\"attributes\":{\"fill_alpha\":{\"field\":\"fill_alpha\"},\"fill_color\":{\"field\":\"color\"},\"height\":{\"field\":\"height\",\"units\":\"data\"},\"line_color\":{\"field\":\"line_color\"},\"width\":{\"field\":\"width\",\"units\":\"data\"},\"x\":{\"field\":\"x\"},\"y\":{\"field\":\"y\"}},\"id\":\"33b11d21-060d-4c57-8a7f-3f75935c5b7d\",\"type\":\"Rect\"},{\"attributes\":{\"callback\":null,\"column_names\":[\"x\",\"y\",\"width\",\"height\",\"color\",\"fill_alpha\",\"line_color\",\"line_alpha\",\"label\"],\"data\":{\"chart_index\":[\"(144.053333, 145.040000]\"],\"color\":[\"#f22c40\"],\"fill_alpha\":[0.8],\"height\":[0.0],\"label\":[\"(144.053333, 145.040000]\"],\"line_alpha\":[1.0],\"line_color\":[\"black\"],\"width\":[0.9866666666666504],\"x\":[\"144.54666650000001\"],\"y\":[0.0]}},\"id\":\"904e9e55-30f2-4c03-b061-b7ef3ddf4c07\",\"type\":\"ColumnDataSource\"},{\"attributes\":{\"callback\":null,\"column_names\":[\"x\",\"y\",\"width\",\"height\",\"color\",\"fill_alpha\",\"line_color\",\"line_alpha\",\"label\"],\"data\":{\"chart_index\":[\"(139.120000, 140.106667]\"],\"color\":[\"#f22c40\"],\"fill_alpha\":[0.8],\"height\":[0.0],\"label\":[\"(139.120000, 140.106667]\"],\"line_alpha\":[1.0],\"line_color\":[\"black\"],\"width\":[0.9866666666666788],\"x\":[\"139.6133335\"],\"y\":[0.0]}},\"id\":\"ecff1326-51a4-40df-bdc8-10933620a7e7\",\"type\":\"ColumnDataSource\"},{\"attributes\":{\"data_source\":{\"id\":\"ecff1326-51a4-40df-bdc8-10933620a7e7\",\"type\":\"ColumnDataSource\"},\"glyph\":{\"id\":\"32dafc1a-7148-4063-8d22-360b9da52de3\",\"type\":\"Rect\"},\"hover_glyph\":null,\"muted_glyph\":null},\"id\":\"22733a50-69d4-4657-994a-a92d2a54e814\",\"type\":\"GlyphRenderer\"},{\"attributes\":{\"callback\":null,\"column_names\":[\"x\",\"y\",\"width\",\"height\",\"color\",\"fill_alpha\",\"line_color\",\"line_alpha\",\"label\"],\"data\":{\"chart_index\":[\"(140.106667, 141.093333]\"],\"color\":[\"#f22c40\"],\"fill_alpha\":[0.8],\"height\":[0.0],\"label\":[\"(140.106667, 141.093333]\"],\"line_alpha\":[1.0],\"line_color\":[\"black\"],\"width\":[0.9866666666666504],\"x\":[\"140.6\"],\"y\":[0.0]}},\"id\":\"b8c6f0c7-ccd0-4622-8219-5b4744b01612\",\"type\":\"ColumnDataSource\"},{\"attributes\":{\"data_source\":{\"id\":\"5616551e-cdaf-462e-af53-a97653ff1789\",\"type\":\"ColumnDataSource\"},\"glyph\":{\"id\":\"dd55e23e-2521-42a7-bae4-271d85e8e2cd\",\"type\":\"Rect\"},\"hover_glyph\":null,\"muted_glyph\":null},\"id\":\"4cad9298-5f00-4e79-8fd6-0c5494c246bf\",\"type\":\"GlyphRenderer\"},{\"attributes\":{\"fill_alpha\":{\"field\":\"fill_alpha\"},\"fill_color\":{\"field\":\"color\"},\"height\":{\"field\":\"height\",\"units\":\"data\"},\"line_color\":{\"field\":\"line_color\"},\"width\":{\"field\":\"width\",\"units\":\"data\"},\"x\":{\"field\":\"x\"},\"y\":{\"field\":\"y\"}},\"id\":\"157e6b11-35a4-4faf-b779-39af9b48d273\",\"type\":\"Rect\"},{\"attributes\":{\"fill_alpha\":{\"field\":\"fill_alpha\"},\"fill_color\":{\"field\":\"color\"},\"height\":{\"field\":\"height\",\"units\":\"data\"},\"line_color\":{\"field\":\"line_color\"},\"width\":{\"field\":\"width\",\"units\":\"data\"},\"x\":{\"field\":\"x\"},\"y\":{\"field\":\"y\"}},\"id\":\"c67a96bf-fb43-4760-a6be-4ad92385b175\",\"type\":\"Rect\"},{\"attributes\":{\"callback\":null,\"column_names\":[\"x\",\"y\",\"width\",\"height\",\"color\",\"fill_alpha\",\"line_color\",\"line_alpha\",\"label\"],\"data\":{\"chart_index\":[\"(40.453333, 41.440000]\"],\"color\":[\"#f22c40\"],\"fill_alpha\":[0.8],\"height\":[4.0],\"label\":[\"(40.453333, 41.440000]\"],\"line_alpha\":[1.0],\"line_color\":[\"black\"],\"width\":[0.9866666666666646],\"x\":[\"40.9466665\"],\"y\":[2.0]}},\"id\":\"156df954-b9c3-43dd-9b8f-aa4955836b80\",\"type\":\"ColumnDataSource\"},{\"attributes\":{\"callback\":null,\"column_names\":[\"x\",\"y\",\"width\",\"height\",\"color\",\"fill_alpha\",\"line_color\",\"line_alpha\",\"label\"],\"data\":{\"chart_index\":[\"(39.466667, 40.453333]\"],\"color\":[\"#f22c40\"],\"fill_alpha\":[0.8],\"height\":[0.0],\"label\":[\"(39.466667, 40.453333]\"],\"line_alpha\":[1.0],\"line_color\":[\"black\"],\"width\":[0.9866666666666646],\"x\":[\"39.96\"],\"y\":[0.0]}},\"id\":\"46b8f029-6216-4a85-ace3-56a7e161d1e0\",\"type\":\"ColumnDataSource\"},{\"attributes\":{\"fill_alpha\":{\"field\":\"fill_alpha\"},\"fill_color\":{\"field\":\"color\"},\"height\":{\"field\":\"height\",\"units\":\"data\"},\"line_color\":{\"field\":\"line_color\"},\"width\":{\"field\":\"width\",\"units\":\"data\"},\"x\":{\"field\":\"x\"},\"y\":{\"field\":\"y\"}},\"id\":\"2fd2c21a-2fd9-4af9-9b23-6b5324470f8e\",\"type\":\"Rect\"},{\"attributes\":{\"callback\":null,\"column_names\":[\"x\",\"y\",\"width\",\"height\",\"color\",\"fill_alpha\",\"line_color\",\"line_alpha\",\"label\"],\"data\":{\"chart_index\":[\"(143.066667, 144.053333]\"],\"color\":[\"#f22c40\"],\"fill_alpha\":[0.8],\"height\":[0.0],\"label\":[\"(143.066667, 144.053333]\"],\"line_alpha\":[1.0],\"line_color\":[\"black\"],\"width\":[0.9866666666666788],\"x\":[\"143.56\"],\"y\":[0.0]}},\"id\":\"58020d6b-d877-4d5b-bb4c-44726882fe27\",\"type\":\"ColumnDataSource\"},{\"attributes\":{\"data_source\":{\"id\":\"b8c6f0c7-ccd0-4622-8219-5b4744b01612\",\"type\":\"ColumnDataSource\"},\"glyph\":{\"id\":\"157e6b11-35a4-4faf-b779-39af9b48d273\",\"type\":\"Rect\"},\"hover_glyph\":null,\"muted_glyph\":null},\"id\":\"e81eac51-5020-454f-a7e4-17e968a29e35\",\"type\":\"GlyphRenderer\"},{\"attributes\":{\"data_source\":{\"id\":\"46b8f029-6216-4a85-ace3-56a7e161d1e0\",\"type\":\"ColumnDataSource\"},\"glyph\":{\"id\":\"ab3e32ac-9f2f-4399-9c03-1073abb10b07\",\"type\":\"Rect\"},\"hover_glyph\":null,\"muted_glyph\":null},\"id\":\"caf1d481-2672-4af8-92ad-ed551721739e\",\"type\":\"GlyphRenderer\"},{\"attributes\":{\"callback\":null,\"column_names\":[\"x\",\"y\",\"width\",\"height\",\"color\",\"fill_alpha\",\"line_color\",\"line_alpha\",\"label\"],\"data\":{\"chart_index\":[\"(41.440000, 42.426667]\"],\"color\":[\"#f22c40\"],\"fill_alpha\":[0.8],\"height\":[0.0],\"label\":[\"(41.440000, 42.426667]\"],\"line_alpha\":[1.0],\"line_color\":[\"black\"],\"width\":[0.9866666666666717],\"x\":[\"41.9333335\"],\"y\":[0.0]}},\"id\":\"3d23a5ef-ce2d-437b-a124-081f27582f01\",\"type\":\"ColumnDataSource\"},{\"attributes\":{\"fill_alpha\":{\"field\":\"fill_alpha\"},\"fill_color\":{\"field\":\"color\"},\"height\":{\"field\":\"height\",\"units\":\"data\"},\"line_color\":{\"field\":\"line_color\"},\"width\":{\"field\":\"width\",\"units\":\"data\"},\"x\":{\"field\":\"x\"},\"y\":{\"field\":\"y\"}},\"id\":\"20791865-0d74-4380-b291-befcabf1bd42\",\"type\":\"Rect\"},{\"attributes\":{\"data_source\":{\"id\":\"372a652f-9e7f-479b-8d05-f0dc24055d07\",\"type\":\"ColumnDataSource\"},\"glyph\":{\"id\":\"2d1546c2-221e-4f13-8504-a32c6b620ded\",\"type\":\"Rect\"},\"hover_glyph\":null,\"muted_glyph\":null},\"id\":\"d45827c2-05ac-40dc-a6bf-645517727958\",\"type\":\"GlyphRenderer\"},{\"attributes\":{\"fill_alpha\":{\"field\":\"fill_alpha\"},\"fill_color\":{\"field\":\"color\"},\"height\":{\"field\":\"height\",\"units\":\"data\"},\"line_color\":{\"field\":\"line_color\"},\"width\":{\"field\":\"width\",\"units\":\"data\"},\"x\":{\"field\":\"x\"},\"y\":{\"field\":\"y\"}},\"id\":\"ebd3fb0c-216d-4c0a-9dfd-41cdcbd39eb9\",\"type\":\"Rect\"},{\"attributes\":{\"data_source\":{\"id\":\"156df954-b9c3-43dd-9b8f-aa4955836b80\",\"type\":\"ColumnDataSource\"},\"glyph\":{\"id\":\"c67a96bf-fb43-4760-a6be-4ad92385b175\",\"type\":\"Rect\"},\"hover_glyph\":null,\"muted_glyph\":null},\"id\":\"8c43ec26-eafe-4e23-93bd-c2aedc27f60c\",\"type\":\"GlyphRenderer\"},{\"attributes\":{\"fill_alpha\":{\"field\":\"fill_alpha\"},\"fill_color\":{\"field\":\"color\"},\"height\":{\"field\":\"height\",\"units\":\"data\"},\"line_color\":{\"field\":\"line_color\"},\"width\":{\"field\":\"width\",\"units\":\"data\"},\"x\":{\"field\":\"x\"},\"y\":{\"field\":\"y\"}},\"id\":\"6fd3bf5c-9b15-4d23-bedb-b3a942fb977c\",\"type\":\"Rect\"},{\"attributes\":{\"data_source\":{\"id\":\"58020d6b-d877-4d5b-bb4c-44726882fe27\",\"type\":\"ColumnDataSource\"},\"glyph\":{\"id\":\"2fd2c21a-2fd9-4af9-9b23-6b5324470f8e\",\"type\":\"Rect\"},\"hover_glyph\":null,\"muted_glyph\":null},\"id\":\"8518df23-7835-432e-901e-7e748d6baca7\",\"type\":\"GlyphRenderer\"},{\"attributes\":{\"fill_alpha\":{\"field\":\"fill_alpha\"},\"fill_color\":{\"field\":\"color\"},\"height\":{\"field\":\"height\",\"units\":\"data\"},\"line_color\":{\"field\":\"line_color\"},\"width\":{\"field\":\"width\",\"units\":\"data\"},\"x\":{\"field\":\"x\"},\"y\":{\"field\":\"y\"}},\"id\":\"15d2d86b-f0f6-4e2c-a702-25f74d73e207\",\"type\":\"Rect\"},{\"attributes\":{\"callback\":null,\"column_names\":[\"x\",\"y\",\"width\",\"height\",\"color\",\"fill_alpha\",\"line_color\",\"line_alpha\",\"label\"],\"data\":{\"chart_index\":[\"(145.040000, 146.026667]\"],\"color\":[\"#f22c40\"],\"fill_alpha\":[0.8],\"height\":[0.0],\"label\":[\"(145.040000, 146.026667]\"],\"line_alpha\":[1.0],\"line_color\":[\"black\"],\"width\":[0.9866666666666788],\"x\":[\"145.5333335\"],\"y\":[0.0]}},\"id\":\"38aec71f-ed6c-495a-af9d-071fb5369466\",\"type\":\"ColumnDataSource\"},{\"attributes\":{\"fill_alpha\":{\"field\":\"fill_alpha\"},\"fill_color\":{\"field\":\"color\"},\"height\":{\"field\":\"height\",\"units\":\"data\"},\"line_color\":{\"field\":\"line_color\"},\"width\":{\"field\":\"width\",\"units\":\"data\"},\"x\":{\"field\":\"x\"},\"y\":{\"field\":\"y\"}},\"id\":\"ed65b9b8-6fac-4062-9db5-d05788df6538\",\"type\":\"Rect\"},{\"attributes\":{\"data_source\":{\"id\":\"3d23a5ef-ce2d-437b-a124-081f27582f01\",\"type\":\"ColumnDataSource\"},\"glyph\":{\"id\":\"33b11d21-060d-4c57-8a7f-3f75935c5b7d\",\"type\":\"Rect\"},\"hover_glyph\":null,\"muted_glyph\":null},\"id\":\"5a0efb96-74d6-439e-af79-bdd4f9aada40\",\"type\":\"GlyphRenderer\"},{\"attributes\":{\"callback\":null,\"column_names\":[\"x\",\"y\",\"width\",\"height\",\"color\",\"fill_alpha\",\"line_color\",\"line_alpha\",\"label\"],\"data\":{\"chart_index\":[\"[0.000000, 0.986667]\"],\"color\":[\"#f22c40\"],\"fill_alpha\":[0.8],\"height\":[572.0],\"label\":[\"[0.000000, 0.986667]\"],\"line_alpha\":[1.0],\"line_color\":[\"black\"],\"width\":[0.9866666666666667],\"x\":[\"0.4933335\"],\"y\":[286.0]}},\"id\":\"e4755115-4030-481c-8c06-c39fab7251b1\",\"type\":\"ColumnDataSource\"},{\"attributes\":{\"callback\":null,\"column_names\":[\"x\",\"y\",\"width\",\"height\",\"color\",\"fill_alpha\",\"line_color\",\"line_alpha\",\"label\"],\"data\":{\"chart_index\":[\"(42.426667, 43.413333]\"],\"color\":[\"#f22c40\"],\"fill_alpha\":[0.8],\"height\":[8.0],\"label\":[\"(42.426667, 43.413333]\"],\"line_alpha\":[1.0],\"line_color\":[\"black\"],\"width\":[0.9866666666666646],\"x\":[\"42.92\"],\"y\":[4.0]}},\"id\":\"dad37665-0d2e-4e68-b143-13740a0edf4c\",\"type\":\"ColumnDataSource\"},{\"attributes\":{\"fill_alpha\":{\"field\":\"fill_alpha\"},\"fill_color\":{\"field\":\"color\"},\"height\":{\"field\":\"height\",\"units\":\"data\"},\"line_color\":{\"field\":\"line_color\"},\"width\":{\"field\":\"width\",\"units\":\"data\"},\"x\":{\"field\":\"x\"},\"y\":{\"field\":\"y\"}},\"id\":\"b52be7fb-ebd4-4e80-9462-58c3c1e7893c\",\"type\":\"Rect\"},{\"attributes\":{\"data_source\":{\"id\":\"904e9e55-30f2-4c03-b061-b7ef3ddf4c07\",\"type\":\"ColumnDataSource\"},\"glyph\":{\"id\":\"20791865-0d74-4380-b291-befcabf1bd42\",\"type\":\"Rect\"},\"hover_glyph\":null,\"muted_glyph\":null},\"id\":\"e0be93b5-20d7-47c7-a109-7f037f5accc1\",\"type\":\"GlyphRenderer\"},{\"attributes\":{\"callback\":null,\"column_names\":[\"x\",\"y\",\"width\",\"height\",\"color\",\"fill_alpha\",\"line_color\",\"line_alpha\",\"label\"],\"data\":{\"chart_index\":[\"(43.413333, 44.400000]\"],\"color\":[\"#f22c40\"],\"fill_alpha\":[0.8],\"height\":[0.0],\"label\":[\"(43.413333, 44.400000]\"],\"line_alpha\":[1.0],\"line_color\":[\"black\"],\"width\":[0.9866666666666646],\"x\":[\"43.9066665\"],\"y\":[0.0]}},\"id\":\"37c3f3da-1009-4190-98f1-2bd0e1618bf8\",\"type\":\"ColumnDataSource\"},{\"attributes\":{\"callback\":null,\"column_names\":[\"x\",\"y\",\"width\",\"height\",\"color\",\"fill_alpha\",\"line_color\",\"line_alpha\",\"label\"],\"data\":{\"chart_index\":[\"(7.893333, 8.880000]\"],\"color\":[\"#f22c40\"],\"fill_alpha\":[0.8],\"height\":[36.0],\"label\":[\"(7.893333, 8.880000]\"],\"line_alpha\":[1.0],\"line_color\":[\"black\"],\"width\":[0.9866666666666672],\"x\":[\"8.3866665\"],\"y\":[18.0]}},\"id\":\"e75f5dc1-b44f-4f6f-b769-c4565a2ec839\",\"type\":\"ColumnDataSource\"},{\"attributes\":{\"fill_alpha\":{\"field\":\"fill_alpha\"},\"fill_color\":{\"field\":\"color\"},\"height\":{\"field\":\"height\",\"units\":\"data\"},\"line_color\":{\"field\":\"line_color\"},\"width\":{\"field\":\"width\",\"units\":\"data\"},\"x\":{\"field\":\"x\"},\"y\":{\"field\":\"y\"}},\"id\":\"a88cf988-5765-45f1-a128-a498be2c6419\",\"type\":\"Rect\"},{\"attributes\":{\"callback\":null,\"column_names\":[\"x\",\"y\",\"width\",\"height\",\"color\",\"fill_alpha\",\"line_color\",\"line_alpha\",\"label\"],\"data\":{\"chart_index\":[\"(146.026667, 147.013333]\"],\"color\":[\"#f22c40\"],\"fill_alpha\":[0.8],\"height\":[0.0],\"label\":[\"(146.026667, 147.013333]\"],\"line_alpha\":[1.0],\"line_color\":[\"black\"],\"width\":[0.9866666666666788],\"x\":[\"146.51999999999998\"],\"y\":[0.0]}},\"id\":\"2b5c28b6-697d-4b0d-9e2d-cafb8cdf3174\",\"type\":\"ColumnDataSource\"},{\"attributes\":{\"fill_alpha\":{\"field\":\"fill_alpha\"},\"fill_color\":{\"field\":\"color\"},\"height\":{\"field\":\"height\",\"units\":\"data\"},\"line_color\":{\"field\":\"line_color\"},\"width\":{\"field\":\"width\",\"units\":\"data\"},\"x\":{\"field\":\"x\"},\"y\":{\"field\":\"y\"}},\"id\":\"aa33ec61-2dce-4130-a905-df7aae4d9168\",\"type\":\"Rect\"},{\"attributes\":{\"fill_alpha\":{\"field\":\"fill_alpha\"},\"fill_color\":{\"field\":\"color\"},\"height\":{\"field\":\"height\",\"units\":\"data\"},\"line_color\":{\"field\":\"line_color\"},\"width\":{\"field\":\"width\",\"units\":\"data\"},\"x\":{\"field\":\"x\"},\"y\":{\"field\":\"y\"}},\"id\":\"ab3e32ac-9f2f-4399-9c03-1073abb10b07\",\"type\":\"Rect\"},{\"attributes\":{\"data_source\":{\"id\":\"dad37665-0d2e-4e68-b143-13740a0edf4c\",\"type\":\"ColumnDataSource\"},\"glyph\":{\"id\":\"b52be7fb-ebd4-4e80-9462-58c3c1e7893c\",\"type\":\"Rect\"},\"hover_glyph\":null,\"muted_glyph\":null},\"id\":\"e184ab77-ed8a-4fb6-a8c3-33c5b42b80d0\",\"type\":\"GlyphRenderer\"},{\"attributes\":{},\"id\":\"88121b1e-53ab-4b9a-8786-cc9e00a1c19d\",\"type\":\"BasicTickFormatter\"},{\"attributes\":{},\"id\":\"dc71e56f-3bbd-495c-8265-04313a074f6e\",\"type\":\"BasicTickFormatter\"},{\"attributes\":{\"fill_alpha\":{\"field\":\"fill_alpha\"},\"fill_color\":{\"field\":\"color\"},\"height\":{\"field\":\"height\",\"units\":\"data\"},\"line_color\":{\"field\":\"line_color\"},\"width\":{\"field\":\"width\",\"units\":\"data\"},\"x\":{\"field\":\"x\"},\"y\":{\"field\":\"y\"}},\"id\":\"07c7b8c2-9050-4e7b-b33f-b35d26e109e1\",\"type\":\"Rect\"},{\"attributes\":{\"fill_alpha\":{\"field\":\"fill_alpha\"},\"fill_color\":{\"field\":\"color\"},\"height\":{\"field\":\"height\",\"units\":\"data\"},\"line_color\":{\"field\":\"line_color\"},\"width\":{\"field\":\"width\",\"units\":\"data\"},\"x\":{\"field\":\"x\"},\"y\":{\"field\":\"y\"}},\"id\":\"56d2fa57-7a1a-476c-a93d-af3f6bdb4442\",\"type\":\"Rect\"},{\"attributes\":{\"data_source\":{\"id\":\"38aec71f-ed6c-495a-af9d-071fb5369466\",\"type\":\"ColumnDataSource\"},\"glyph\":{\"id\":\"15d2d86b-f0f6-4e2c-a702-25f74d73e207\",\"type\":\"Rect\"},\"hover_glyph\":null,\"muted_glyph\":null},\"id\":\"a0de3db0-d0c0-41c1-8e44-983dd741a5bf\",\"type\":\"GlyphRenderer\"},{\"attributes\":{\"callback\":null,\"column_names\":[\"x\",\"y\",\"width\",\"height\",\"color\",\"fill_alpha\",\"line_color\",\"line_alpha\",\"label\"],\"data\":{\"chart_index\":[\"(44.400000, 45.386667]\"],\"color\":[\"#f22c40\"],\"fill_alpha\":[0.8],\"height\":[0.0],\"label\":[\"(44.400000, 45.386667]\"],\"line_alpha\":[1.0],\"line_color\":[\"black\"],\"width\":[0.9866666666666717],\"x\":[\"44.8933335\"],\"y\":[0.0]}},\"id\":\"56e625bb-39be-484a-881d-e9dd9251d189\",\"type\":\"ColumnDataSource\"},{\"attributes\":{\"fill_alpha\":{\"field\":\"fill_alpha\"},\"fill_color\":{\"field\":\"color\"},\"height\":{\"field\":\"height\",\"units\":\"data\"},\"line_color\":{\"field\":\"line_color\"},\"width\":{\"field\":\"width\",\"units\":\"data\"},\"x\":{\"field\":\"x\"},\"y\":{\"field\":\"y\"}},\"id\":\"e21e194d-d3e2-49a8-94f0-65d708de5faf\",\"type\":\"Rect\"},{\"attributes\":{\"callback\":null,\"column_names\":[\"x\",\"y\",\"width\",\"height\",\"color\",\"fill_alpha\",\"line_color\",\"line_alpha\",\"label\"],\"data\":{\"chart_index\":[\"(147.013333, 148.000000]\"],\"color\":[\"#f22c40\"],\"fill_alpha\":[0.8],\"height\":[1.0],\"label\":[\"(147.013333, 148.000000]\"],\"line_alpha\":[1.0],\"line_color\":[\"black\"],\"width\":[0.9866666666666504],\"x\":[\"147.5066665\"],\"y\":[0.5]}},\"id\":\"9fc047db-0bd8-4bba-8840-d95758b2fd46\",\"type\":\"ColumnDataSource\"},{\"attributes\":{\"data_source\":{\"id\":\"e4755115-4030-481c-8c06-c39fab7251b1\",\"type\":\"ColumnDataSource\"},\"glyph\":{\"id\":\"aa33ec61-2dce-4130-a905-df7aae4d9168\",\"type\":\"Rect\"},\"hover_glyph\":null,\"muted_glyph\":null},\"id\":\"f82bea99-fb6c-4c0f-9fc7-5949abb694a8\",\"type\":\"GlyphRenderer\"},{\"attributes\":{\"callback\":null,\"column_names\":[\"x\",\"y\",\"width\",\"height\",\"color\",\"fill_alpha\",\"line_color\",\"line_alpha\",\"label\"],\"data\":{\"chart_index\":[\"(0.986667, 1.973333]\"],\"color\":[\"#f22c40\"],\"fill_alpha\":[0.8],\"height\":[2623.0],\"label\":[\"(0.986667, 1.973333]\"],\"line_alpha\":[1.0],\"line_color\":[\"black\"],\"width\":[0.9866666666666667],\"x\":[\"1.48\"],\"y\":[1311.5]}},\"id\":\"1683191c-fe39-4bf0-aaec-c22e7029b3cd\",\"type\":\"ColumnDataSource\"},{\"attributes\":{\"callback\":null,\"column_names\":[\"x\",\"y\",\"width\",\"height\",\"color\",\"fill_alpha\",\"line_color\",\"line_alpha\",\"label\"],\"data\":{\"chart_index\":[\"(47.360000, 48.346667]\"],\"color\":[\"#f22c40\"],\"fill_alpha\":[0.8],\"height\":[1.0],\"label\":[\"(47.360000, 48.346667]\"],\"line_alpha\":[1.0],\"line_color\":[\"black\"],\"width\":[0.9866666666666717],\"x\":[\"47.8533335\"],\"y\":[0.5]}},\"id\":\"7bffd77f-262c-4011-ae67-370d9abd117a\",\"type\":\"ColumnDataSource\"},{\"attributes\":{\"fill_alpha\":{\"field\":\"fill_alpha\"},\"fill_color\":{\"field\":\"color\"},\"height\":{\"field\":\"height\",\"units\":\"data\"},\"line_color\":{\"field\":\"line_color\"},\"width\":{\"field\":\"width\",\"units\":\"data\"},\"x\":{\"field\":\"x\"},\"y\":{\"field\":\"y\"}},\"id\":\"11b311d0-7504-4af1-bd93-b3b4bee45148\",\"type\":\"Rect\"},{\"attributes\":{\"fill_alpha\":{\"field\":\"fill_alpha\"},\"fill_color\":{\"field\":\"color\"},\"height\":{\"field\":\"height\",\"units\":\"data\"},\"line_color\":{\"field\":\"line_color\"},\"width\":{\"field\":\"width\",\"units\":\"data\"},\"x\":{\"field\":\"x\"},\"y\":{\"field\":\"y\"}},\"id\":\"28a25010-dc41-48f8-9280-6f4c92ee5b4e\",\"type\":\"Rect\"},{\"attributes\":{\"data_source\":{\"id\":\"37c3f3da-1009-4190-98f1-2bd0e1618bf8\",\"type\":\"ColumnDataSource\"},\"glyph\":{\"id\":\"6fd3bf5c-9b15-4d23-bedb-b3a942fb977c\",\"type\":\"Rect\"},\"hover_glyph\":null,\"muted_glyph\":null},\"id\":\"11e415f9-c4b0-4611-a932-66607ef603d3\",\"type\":\"GlyphRenderer\"},{\"attributes\":{},\"id\":\"86da0da1-5ff0-44bd-8d1f-74149eb19fab\",\"type\":\"BasicTicker\"},{\"attributes\":{\"fill_alpha\":{\"field\":\"fill_alpha\"},\"fill_color\":{\"field\":\"color\"},\"height\":{\"field\":\"height\",\"units\":\"data\"},\"line_color\":{\"field\":\"line_color\"},\"width\":{\"field\":\"width\",\"units\":\"data\"},\"x\":{\"field\":\"x\"},\"y\":{\"field\":\"y\"}},\"id\":\"a244e0ed-6f84-438d-8259-ad3cd26aea45\",\"type\":\"Rect\"},{\"attributes\":{\"data_source\":{\"id\":\"2b5c28b6-697d-4b0d-9e2d-cafb8cdf3174\",\"type\":\"ColumnDataSource\"},\"glyph\":{\"id\":\"a88cf988-5765-45f1-a128-a498be2c6419\",\"type\":\"Rect\"},\"hover_glyph\":null,\"muted_glyph\":null},\"id\":\"181a0e34-700c-404e-9fcb-07068a7298dc\",\"type\":\"GlyphRenderer\"},{\"attributes\":{\"callback\":null,\"column_names\":[\"x\",\"y\",\"width\",\"height\",\"color\",\"fill_alpha\",\"line_color\",\"line_alpha\",\"label\"],\"data\":{\"chart_index\":[\"(1.973333, 2.960000]\"],\"color\":[\"#f22c40\"],\"fill_alpha\":[0.8],\"height\":[155.0],\"label\":[\"(1.973333, 2.960000]\"],\"line_alpha\":[1.0],\"line_color\":[\"black\"],\"width\":[0.9866666666666666],\"x\":[\"2.4666665\"],\"y\":[77.5]}},\"id\":\"0f91a374-2eae-455f-9bfd-7bbe9b869f8a\",\"type\":\"ColumnDataSource\"},{\"attributes\":{\"data_source\":{\"id\":\"1683191c-fe39-4bf0-aaec-c22e7029b3cd\",\"type\":\"ColumnDataSource\"},\"glyph\":{\"id\":\"11b311d0-7504-4af1-bd93-b3b4bee45148\",\"type\":\"Rect\"},\"hover_glyph\":null,\"muted_glyph\":null},\"id\":\"024b438f-7e55-46f5-9770-781117aeabdd\",\"type\":\"GlyphRenderer\"},{\"attributes\":{\"data_source\":{\"id\":\"45ca290b-3f58-48e4-8b7e-09503ddb41fe\",\"type\":\"ColumnDataSource\"},\"glyph\":{\"id\":\"62351f23-e6b2-4765-86f9-d4ea10943769\",\"type\":\"Rect\"},\"hover_glyph\":null,\"muted_glyph\":null},\"id\":\"821f1af0-2692-485c-b7fc-d1b6c942941a\",\"type\":\"GlyphRenderer\"},{\"attributes\":{\"axis_label\":\"recipient-country-count\",\"formatter\":{\"id\":\"dc71e56f-3bbd-495c-8265-04313a074f6e\",\"type\":\"BasicTickFormatter\"},\"plot\":{\"id\":\"7c39d0d2-b506-46c4-ae69-114747625022\",\"subtype\":\"Chart\",\"type\":\"Plot\"},\"ticker\":{\"id\":\"86da0da1-5ff0-44bd-8d1f-74149eb19fab\",\"type\":\"BasicTicker\"}},\"id\":\"a98cde72-9f51-4d4f-b411-14724a9df0ce\",\"type\":\"LinearAxis\"},{\"attributes\":{\"fill_alpha\":{\"field\":\"fill_alpha\"},\"fill_color\":{\"field\":\"color\"},\"height\":{\"field\":\"height\",\"units\":\"data\"},\"line_color\":{\"field\":\"line_color\"},\"width\":{\"field\":\"width\",\"units\":\"data\"},\"x\":{\"field\":\"x\"},\"y\":{\"field\":\"y\"}},\"id\":\"2d1546c2-221e-4f13-8504-a32c6b620ded\",\"type\":\"Rect\"},{\"attributes\":{\"data_source\":{\"id\":\"56e625bb-39be-484a-881d-e9dd9251d189\",\"type\":\"ColumnDataSource\"},\"glyph\":{\"id\":\"56d2fa57-7a1a-476c-a93d-af3f6bdb4442\",\"type\":\"Rect\"},\"hover_glyph\":null,\"muted_glyph\":null},\"id\":\"e3626e5d-1405-402e-96b6-1e0c2cb48f07\",\"type\":\"GlyphRenderer\"},{\"attributes\":{\"callback\":null,\"column_names\":[\"x\",\"y\",\"width\",\"height\",\"color\",\"fill_alpha\",\"line_color\",\"line_alpha\",\"label\"],\"data\":{\"chart_index\":[\"(46.373333, 47.360000]\"],\"color\":[\"#f22c40\"],\"fill_alpha\":[0.8],\"height\":[1.0],\"label\":[\"(46.373333, 47.360000]\"],\"line_alpha\":[1.0],\"line_color\":[\"black\"],\"width\":[0.9866666666666646],\"x\":[\"46.8666665\"],\"y\":[0.5]}},\"id\":\"372a652f-9e7f-479b-8d05-f0dc24055d07\",\"type\":\"ColumnDataSource\"},{\"attributes\":{\"data_source\":{\"id\":\"9fc047db-0bd8-4bba-8840-d95758b2fd46\",\"type\":\"ColumnDataSource\"},\"glyph\":{\"id\":\"e21e194d-d3e2-49a8-94f0-65d708de5faf\",\"type\":\"Rect\"},\"hover_glyph\":null,\"muted_glyph\":null},\"id\":\"5bb02e0b-1382-4b0e-b496-9e5e8866c7c8\",\"type\":\"GlyphRenderer\"},{\"attributes\":{\"callback\":null,\"column_names\":[\"x\",\"y\",\"width\",\"height\",\"color\",\"fill_alpha\",\"line_color\",\"line_alpha\",\"label\"],\"data\":{\"chart_index\":[\"(2.960000, 3.946667]\"],\"color\":[\"#f22c40\"],\"fill_alpha\":[0.8],\"height\":[113.0],\"label\":[\"(2.960000, 3.946667]\"],\"line_alpha\":[1.0],\"line_color\":[\"black\"],\"width\":[0.9866666666666668],\"x\":[\"3.4533335000000003\"],\"y\":[56.5]}},\"id\":\"33cb9f6f-fc40-4642-84c1-06518419d220\",\"type\":\"ColumnDataSource\"},{\"attributes\":{\"fill_alpha\":{\"field\":\"fill_alpha\"},\"fill_color\":{\"field\":\"color\"},\"height\":{\"field\":\"height\",\"units\":\"data\"},\"line_color\":{\"field\":\"line_color\"},\"width\":{\"field\":\"width\",\"units\":\"data\"},\"x\":{\"field\":\"x\"},\"y\":{\"field\":\"y\"}},\"id\":\"62351f23-e6b2-4765-86f9-d4ea10943769\",\"type\":\"Rect\"},{\"attributes\":{\"axis_label\":\"Count( Recipient-Country-Count )\",\"formatter\":{\"id\":\"88121b1e-53ab-4b9a-8786-cc9e00a1c19d\",\"type\":\"BasicTickFormatter\"},\"plot\":{\"id\":\"7c39d0d2-b506-46c4-ae69-114747625022\",\"subtype\":\"Chart\",\"type\":\"Plot\"},\"ticker\":{\"id\":\"e61142b6-beab-4c20-a8f3-cab2ed7e5bbc\",\"type\":\"BasicTicker\"}},\"id\":\"8be446e6-83f2-4aa4-a14a-697f66f2cf1a\",\"type\":\"LinearAxis\"},{\"attributes\":{\"data_source\":{\"id\":\"0f91a374-2eae-455f-9bfd-7bbe9b869f8a\",\"type\":\"ColumnDataSource\"},\"glyph\":{\"id\":\"a244e0ed-6f84-438d-8259-ad3cd26aea45\",\"type\":\"Rect\"},\"hover_glyph\":null,\"muted_glyph\":null},\"id\":\"2bde102d-8a2c-4498-a9f3-dea133c250f9\",\"type\":\"GlyphRenderer\"},{\"attributes\":{\"fill_alpha\":{\"field\":\"fill_alpha\"},\"fill_color\":{\"field\":\"color\"},\"height\":{\"field\":\"height\",\"units\":\"data\"},\"line_color\":{\"field\":\"line_color\"},\"width\":{\"field\":\"width\",\"units\":\"data\"},\"x\":{\"field\":\"x\"},\"y\":{\"field\":\"y\"}},\"id\":\"37888318-d156-4e33-ab32-92ca02850436\",\"type\":\"Rect\"},{\"attributes\":{},\"id\":\"e61142b6-beab-4c20-a8f3-cab2ed7e5bbc\",\"type\":\"BasicTicker\"},{\"attributes\":{\"dimension\":1,\"plot\":{\"id\":\"7c39d0d2-b506-46c4-ae69-114747625022\",\"subtype\":\"Chart\",\"type\":\"Plot\"},\"ticker\":{\"id\":\"e61142b6-beab-4c20-a8f3-cab2ed7e5bbc\",\"type\":\"BasicTicker\"}},\"id\":\"56f1662a-c768-4b65-a728-2dc420e59710\",\"type\":\"Grid\"},{\"attributes\":{\"data_source\":{\"id\":\"e75f5dc1-b44f-4f6f-b769-c4565a2ec839\",\"type\":\"ColumnDataSource\"},\"glyph\":{\"id\":\"62815c4b-9ac7-4789-b02a-410755ea3cb6\",\"type\":\"Rect\"},\"hover_glyph\":null,\"muted_glyph\":null},\"id\":\"6a022678-b603-485f-bdda-60463270a9c0\",\"type\":\"GlyphRenderer\"},{\"attributes\":{\"data_source\":{\"id\":\"bac089f7-5952-42a3-80be-180f1bdbf3af\",\"type\":\"ColumnDataSource\"},\"glyph\":{\"id\":\"73b47126-3ab2-4810-b595-a59575136b9b\",\"type\":\"Rect\"},\"hover_glyph\":null,\"muted_glyph\":null},\"id\":\"c5cfef76-5bab-487c-b032-64f055017924\",\"type\":\"GlyphRenderer\"},{\"attributes\":{\"data_source\":{\"id\":\"33cb9f6f-fc40-4642-84c1-06518419d220\",\"type\":\"ColumnDataSource\"},\"glyph\":{\"id\":\"07c7b8c2-9050-4e7b-b33f-b35d26e109e1\",\"type\":\"Rect\"},\"hover_glyph\":null,\"muted_glyph\":null},\"id\":\"6c6ee165-b78d-4953-9f61-343992bc693f\",\"type\":\"GlyphRenderer\"},{\"attributes\":{\"data_source\":{\"id\":\"7bffd77f-262c-4011-ae67-370d9abd117a\",\"type\":\"ColumnDataSource\"},\"glyph\":{\"id\":\"28a25010-dc41-48f8-9280-6f4c92ee5b4e\",\"type\":\"Rect\"},\"hover_glyph\":null,\"muted_glyph\":null},\"id\":\"c73abd40-e71b-49e2-b81e-541491ed2ad3\",\"type\":\"GlyphRenderer\"},{\"attributes\":{\"fill_alpha\":{\"field\":\"fill_alpha\"},\"fill_color\":{\"field\":\"color\"},\"height\":{\"field\":\"height\",\"units\":\"data\"},\"line_color\":{\"field\":\"line_color\"},\"width\":{\"field\":\"width\",\"units\":\"data\"},\"x\":{\"field\":\"x\"},\"y\":{\"field\":\"y\"}},\"id\":\"f4edd23d-22f4-4747-a69d-b6432bf23db3\",\"type\":\"Rect\"},{\"attributes\":{\"fill_alpha\":{\"field\":\"fill_alpha\"},\"fill_color\":{\"field\":\"color\"},\"height\":{\"field\":\"height\",\"units\":\"data\"},\"line_color\":{\"field\":\"line_color\"},\"width\":{\"field\":\"width\",\"units\":\"data\"},\"x\":{\"field\":\"x\"},\"y\":{\"field\":\"y\"}},\"id\":\"17c203ac-4690-4fcc-b9d7-ade8a3e10b36\",\"type\":\"Rect\"},{\"attributes\":{\"fill_alpha\":{\"field\":\"fill_alpha\"},\"fill_color\":{\"field\":\"color\"},\"height\":{\"field\":\"height\",\"units\":\"data\"},\"line_color\":{\"field\":\"line_color\"},\"width\":{\"field\":\"width\",\"units\":\"data\"},\"x\":{\"field\":\"x\"},\"y\":{\"field\":\"y\"}},\"id\":\"62815c4b-9ac7-4789-b02a-410755ea3cb6\",\"type\":\"Rect\"},{\"attributes\":{\"fill_alpha\":{\"field\":\"fill_alpha\"},\"fill_color\":{\"field\":\"color\"},\"height\":{\"field\":\"height\",\"units\":\"data\"},\"line_color\":{\"field\":\"line_color\"},\"width\":{\"field\":\"width\",\"units\":\"data\"},\"x\":{\"field\":\"x\"},\"y\":{\"field\":\"y\"}},\"id\":\"73b47126-3ab2-4810-b595-a59575136b9b\",\"type\":\"Rect\"},{\"attributes\":{\"callback\":null,\"column_names\":[\"x\",\"y\",\"width\",\"height\",\"color\",\"fill_alpha\",\"line_color\",\"line_alpha\",\"label\"],\"data\":{\"chart_index\":[\"(59.200000, 60.186667]\"],\"color\":[\"#f22c40\"],\"fill_alpha\":[0.8],\"height\":[0.0],\"label\":[\"(59.200000, 60.186667]\"],\"line_alpha\":[1.0],\"line_color\":[\"black\"],\"width\":[0.9866666666666646],\"x\":[\"59.6933335\"],\"y\":[0.0]}},\"id\":\"de8751b7-5d83-4cff-9a19-a51bd2c61e13\",\"type\":\"ColumnDataSource\"},{\"attributes\":{\"data_source\":{\"id\":\"0e1b5ac2-6195-409d-9db4-fb82b2ccfbb3\",\"type\":\"ColumnDataSource\"},\"glyph\":{\"id\":\"2f9ea334-9d96-4b7a-bfb9-44e866c22019\",\"type\":\"Rect\"},\"hover_glyph\":null,\"muted_glyph\":null},\"id\":\"8590f728-736c-4431-ac3b-11253fdad049\",\"type\":\"GlyphRenderer\"},{\"attributes\":{\"fill_alpha\":{\"field\":\"fill_alpha\"},\"fill_color\":{\"field\":\"color\"},\"height\":{\"field\":\"height\",\"units\":\"data\"},\"line_color\":{\"field\":\"line_color\"},\"width\":{\"field\":\"width\",\"units\":\"data\"},\"x\":{\"field\":\"x\"},\"y\":{\"field\":\"y\"}},\"id\":\"82a82b53-5504-4744-a2ed-c10796b0c15f\",\"type\":\"Rect\"},{\"attributes\":{\"fill_alpha\":{\"field\":\"fill_alpha\"},\"fill_color\":{\"field\":\"color\"},\"height\":{\"field\":\"height\",\"units\":\"data\"},\"line_color\":{\"field\":\"line_color\"},\"width\":{\"field\":\"width\",\"units\":\"data\"},\"x\":{\"field\":\"x\"},\"y\":{\"field\":\"y\"}},\"id\":\"5e34f3fa-83c8-468f-b114-359c02919ae1\",\"type\":\"Rect\"},{\"attributes\":{\"data_source\":{\"id\":\"5086e092-bff3-48a8-95cd-9a512ad45ae6\",\"type\":\"ColumnDataSource\"},\"glyph\":{\"id\":\"22ecf6fa-6585-4a17-af75-a307eaf67f05\",\"type\":\"Rect\"},\"hover_glyph\":null,\"muted_glyph\":null},\"id\":\"3e96c5b9-bfc8-486e-9068-6b73dd555cf5\",\"type\":\"GlyphRenderer\"},{\"attributes\":{\"data_source\":{\"id\":\"de8751b7-5d83-4cff-9a19-a51bd2c61e13\",\"type\":\"ColumnDataSource\"},\"glyph\":{\"id\":\"82a82b53-5504-4744-a2ed-c10796b0c15f\",\"type\":\"Rect\"},\"hover_glyph\":null,\"muted_glyph\":null},\"id\":\"b1a93006-c9b7-4ad5-8724-7bd045d0b237\",\"type\":\"GlyphRenderer\"},{\"attributes\":{\"callback\":null,\"column_names\":[\"x\",\"y\",\"width\",\"height\",\"color\",\"fill_alpha\",\"line_color\",\"line_alpha\",\"label\"],\"data\":{\"chart_index\":[\"(62.160000, 63.146667]\"],\"color\":[\"#f22c40\"],\"fill_alpha\":[0.8],\"height\":[0.0],\"label\":[\"(62.160000, 63.146667]\"],\"line_alpha\":[1.0],\"line_color\":[\"black\"],\"width\":[0.9866666666666646],\"x\":[\"62.6533335\"],\"y\":[0.0]}},\"id\":\"e479e478-34c4-4bbc-b59c-e841ec3bb103\",\"type\":\"ColumnDataSource\"},{\"attributes\":{\"fill_alpha\":{\"field\":\"fill_alpha\"},\"fill_color\":{\"field\":\"color\"},\"height\":{\"field\":\"height\",\"units\":\"data\"},\"line_color\":{\"field\":\"line_color\"},\"width\":{\"field\":\"width\",\"units\":\"data\"},\"x\":{\"field\":\"x\"},\"y\":{\"field\":\"y\"}},\"id\":\"949380e6-8dea-41a1-acbd-c05f853dcddf\",\"type\":\"Rect\"},{\"attributes\":{\"fill_alpha\":{\"field\":\"fill_alpha\"},\"fill_color\":{\"field\":\"color\"},\"height\":{\"field\":\"height\",\"units\":\"data\"},\"line_color\":{\"field\":\"line_color\"},\"width\":{\"field\":\"width\",\"units\":\"data\"},\"x\":{\"field\":\"x\"},\"y\":{\"field\":\"y\"}},\"id\":\"09431833-2ab6-4f76-b838-2a96857734c4\",\"type\":\"Rect\"},{\"attributes\":{\"fill_alpha\":{\"field\":\"fill_alpha\"},\"fill_color\":{\"field\":\"color\"},\"height\":{\"field\":\"height\",\"units\":\"data\"},\"line_color\":{\"field\":\"line_color\"},\"width\":{\"field\":\"width\",\"units\":\"data\"},\"x\":{\"field\":\"x\"},\"y\":{\"field\":\"y\"}},\"id\":\"4fd80dfe-f24c-4a2d-9931-38b2c828680a\",\"type\":\"Rect\"},{\"attributes\":{\"data_source\":{\"id\":\"e479e478-34c4-4bbc-b59c-e841ec3bb103\",\"type\":\"ColumnDataSource\"},\"glyph\":{\"id\":\"949380e6-8dea-41a1-acbd-c05f853dcddf\",\"type\":\"Rect\"},\"hover_glyph\":null,\"muted_glyph\":null},\"id\":\"fcf2d4b6-a787-4e23-9683-0d653f114d7d\",\"type\":\"GlyphRenderer\"},{\"attributes\":{\"callback\":null,\"column_names\":[\"x\",\"y\",\"width\",\"height\",\"color\",\"fill_alpha\",\"line_color\",\"line_alpha\",\"label\"],\"data\":{\"chart_index\":[\"(63.146667, 64.133333]\"],\"color\":[\"#f22c40\"],\"fill_alpha\":[0.8],\"height\":[0.0],\"label\":[\"(63.146667, 64.133333]\"],\"line_alpha\":[1.0],\"line_color\":[\"black\"],\"width\":[0.9866666666666717],\"x\":[\"63.64\"],\"y\":[0.0]}},\"id\":\"a88ac66a-0a7c-4519-92aa-7cef48063482\",\"type\":\"ColumnDataSource\"},{\"attributes\":{\"fill_alpha\":{\"field\":\"fill_alpha\"},\"fill_color\":{\"field\":\"color\"},\"height\":{\"field\":\"height\",\"units\":\"data\"},\"line_color\":{\"field\":\"line_color\"},\"width\":{\"field\":\"width\",\"units\":\"data\"},\"x\":{\"field\":\"x\"},\"y\":{\"field\":\"y\"}},\"id\":\"65aa614e-fd77-4ce0-8f45-b4a1989ad97d\",\"type\":\"Rect\"},{\"attributes\":{\"callback\":null,\"column_names\":[\"x\",\"y\",\"width\",\"height\",\"color\",\"fill_alpha\",\"line_color\",\"line_alpha\",\"label\"],\"data\":{\"chart_index\":[\"(64.133333, 65.120000]\"],\"color\":[\"#f22c40\"],\"fill_alpha\":[0.8],\"height\":[0.0],\"label\":[\"(64.133333, 65.120000]\"],\"line_alpha\":[1.0],\"line_color\":[\"black\"],\"width\":[0.9866666666666646],\"x\":[\"64.6266665\"],\"y\":[0.0]}},\"id\":\"574193ea-5913-4a52-98cd-67ae71108340\",\"type\":\"ColumnDataSource\"},{\"attributes\":{\"callback\":null,\"column_names\":[\"x\",\"y\",\"width\",\"height\",\"color\",\"fill_alpha\",\"line_color\",\"line_alpha\",\"label\"],\"data\":{\"chart_index\":[\"(69.066667, 70.053333]\"],\"color\":[\"#f22c40\"],\"fill_alpha\":[0.8],\"height\":[0.0],\"label\":[\"(69.066667, 70.053333]\"],\"line_alpha\":[1.0],\"line_color\":[\"black\"],\"width\":[0.9866666666666788],\"x\":[\"69.56\"],\"y\":[0.0]}},\"id\":\"a47a5d4b-68c9-4a57-ae4d-18905c841cba\",\"type\":\"ColumnDataSource\"},{\"attributes\":{\"data_source\":{\"id\":\"d6bfa504-790e-4ad2-9e23-c260fa4245b7\",\"type\":\"ColumnDataSource\"},\"glyph\":{\"id\":\"41477759-b010-449a-b527-780275c255fa\",\"type\":\"Rect\"},\"hover_glyph\":null,\"muted_glyph\":null},\"id\":\"c9946ca1-6ad8-426a-b065-f5e02038f549\",\"type\":\"GlyphRenderer\"},{\"attributes\":{\"data_source\":{\"id\":\"a88ac66a-0a7c-4519-92aa-7cef48063482\",\"type\":\"ColumnDataSource\"},\"glyph\":{\"id\":\"65aa614e-fd77-4ce0-8f45-b4a1989ad97d\",\"type\":\"Rect\"},\"hover_glyph\":null,\"muted_glyph\":null},\"id\":\"85f05ff1-25e8-470c-968c-acb750f746f5\",\"type\":\"GlyphRenderer\"},{\"attributes\":{\"fill_alpha\":{\"field\":\"fill_alpha\"},\"fill_color\":{\"field\":\"color\"},\"height\":{\"field\":\"height\",\"units\":\"data\"},\"line_color\":{\"field\":\"line_color\"},\"width\":{\"field\":\"width\",\"units\":\"data\"},\"x\":{\"field\":\"x\"},\"y\":{\"field\":\"y\"}},\"id\":\"db324fee-66b4-49fb-9594-8fdb2fe2204c\",\"type\":\"Rect\"},{\"attributes\":{\"callback\":null,\"column_names\":[\"x\",\"y\",\"width\",\"height\",\"color\",\"fill_alpha\",\"line_color\",\"line_alpha\",\"label\"],\"data\":{\"chart_index\":[\"(65.120000, 66.106667]\"],\"color\":[\"#f22c40\"],\"fill_alpha\":[0.8],\"height\":[1.0],\"label\":[\"(65.120000, 66.106667]\"],\"line_alpha\":[1.0],\"line_color\":[\"black\"],\"width\":[0.9866666666666646],\"x\":[\"65.61333350000001\"],\"y\":[0.5]}},\"id\":\"5bd15700-f62d-4423-9157-ca9ffb9ce521\",\"type\":\"ColumnDataSource\"},{\"attributes\":{\"callback\":null,\"column_names\":[\"x\",\"y\",\"width\",\"height\",\"color\",\"fill_alpha\",\"line_color\",\"line_alpha\",\"label\"],\"data\":{\"chart_index\":[\"(74.986667, 75.973333]\"],\"color\":[\"#f22c40\"],\"fill_alpha\":[0.8],\"height\":[0.0],\"label\":[\"(74.986667, 75.973333]\"],\"line_alpha\":[1.0],\"line_color\":[\"black\"],\"width\":[0.9866666666666646],\"x\":[\"75.47999999999999\"],\"y\":[0.0]}},\"id\":\"c5474cfa-ccd4-459f-bb65-4642c244e648\",\"type\":\"ColumnDataSource\"},{\"attributes\":{\"data_source\":{\"id\":\"574193ea-5913-4a52-98cd-67ae71108340\",\"type\":\"ColumnDataSource\"},\"glyph\":{\"id\":\"5e34f3fa-83c8-468f-b114-359c02919ae1\",\"type\":\"Rect\"},\"hover_glyph\":null,\"muted_glyph\":null},\"id\":\"c4178485-59d3-463f-a313-ebe2250beca1\",\"type\":\"GlyphRenderer\"},{\"attributes\":{\"callback\":null,\"column_names\":[\"x\",\"y\",\"width\",\"height\",\"color\",\"fill_alpha\",\"line_color\",\"line_alpha\",\"label\"],\"data\":{\"chart_index\":[\"(70.053333, 71.040000]\"],\"color\":[\"#f22c40\"],\"fill_alpha\":[0.8],\"height\":[0.0],\"label\":[\"(70.053333, 71.040000]\"],\"line_alpha\":[1.0],\"line_color\":[\"black\"],\"width\":[0.9866666666666646],\"x\":[\"70.5466665\"],\"y\":[0.0]}},\"id\":\"19dc8702-0f69-47ce-a2f9-6028a712a274\",\"type\":\"ColumnDataSource\"},{\"attributes\":{\"data_source\":{\"id\":\"5bd15700-f62d-4423-9157-ca9ffb9ce521\",\"type\":\"ColumnDataSource\"},\"glyph\":{\"id\":\"db324fee-66b4-49fb-9594-8fdb2fe2204c\",\"type\":\"Rect\"},\"hover_glyph\":null,\"muted_glyph\":null},\"id\":\"429e7f69-354f-44d5-a4e9-d9423791a51b\",\"type\":\"GlyphRenderer\"},{\"attributes\":{\"callback\":null,\"column_names\":[\"x\",\"y\",\"width\",\"height\",\"color\",\"fill_alpha\",\"line_color\",\"line_alpha\",\"label\"],\"data\":{\"chart_index\":[\"(66.106667, 67.093333]\"],\"color\":[\"#f22c40\"],\"fill_alpha\":[0.8],\"height\":[0.0],\"label\":[\"(66.106667, 67.093333]\"],\"line_alpha\":[1.0],\"line_color\":[\"black\"],\"width\":[0.9866666666666646],\"x\":[\"66.6\"],\"y\":[0.0]}},\"id\":\"ddea40ae-1bc1-4dc8-8226-46408bc01767\",\"type\":\"ColumnDataSource\"},{\"attributes\":{\"fill_alpha\":{\"field\":\"fill_alpha\"},\"fill_color\":{\"field\":\"color\"},\"height\":{\"field\":\"height\",\"units\":\"data\"},\"line_color\":{\"field\":\"line_color\"},\"width\":{\"field\":\"width\",\"units\":\"data\"},\"x\":{\"field\":\"x\"},\"y\":{\"field\":\"y\"}},\"id\":\"02a40b2e-b15b-4ead-a1d8-57917d51e797\",\"type\":\"Rect\"},{\"attributes\":{\"data_source\":{\"id\":\"ddea40ae-1bc1-4dc8-8226-46408bc01767\",\"type\":\"ColumnDataSource\"},\"glyph\":{\"id\":\"02a40b2e-b15b-4ead-a1d8-57917d51e797\",\"type\":\"Rect\"},\"hover_glyph\":null,\"muted_glyph\":null},\"id\":\"9de238c2-d338-4caa-9164-287f7f03d712\",\"type\":\"GlyphRenderer\"},{\"attributes\":{\"callback\":null,\"column_names\":[\"x\",\"y\",\"width\",\"height\",\"color\",\"fill_alpha\",\"line_color\",\"line_alpha\",\"label\"],\"data\":{\"chart_index\":[\"(68.080000, 69.066667]\"],\"color\":[\"#f22c40\"],\"fill_alpha\":[0.8],\"height\":[0.0],\"label\":[\"(68.080000, 69.066667]\"],\"line_alpha\":[1.0],\"line_color\":[\"black\"],\"width\":[0.9866666666666646],\"x\":[\"68.57333349999999\"],\"y\":[0.0]}},\"id\":\"d6bfa504-790e-4ad2-9e23-c260fa4245b7\",\"type\":\"ColumnDataSource\"},{\"attributes\":{\"fill_alpha\":{\"field\":\"fill_alpha\"},\"fill_color\":{\"field\":\"color\"},\"height\":{\"field\":\"height\",\"units\":\"data\"},\"line_color\":{\"field\":\"line_color\"},\"width\":{\"field\":\"width\",\"units\":\"data\"},\"x\":{\"field\":\"x\"},\"y\":{\"field\":\"y\"}},\"id\":\"41477759-b010-449a-b527-780275c255fa\",\"type\":\"Rect\"},{\"attributes\":{\"callback\":null,\"column_names\":[\"x\",\"y\",\"width\",\"height\",\"color\",\"fill_alpha\",\"line_color\",\"line_alpha\",\"label\"],\"data\":{\"chart_index\":[\"(96.693333, 97.680000]\"],\"color\":[\"#f22c40\"],\"fill_alpha\":[0.8],\"height\":[0.0],\"label\":[\"(96.693333, 97.680000]\"],\"line_alpha\":[1.0],\"line_color\":[\"black\"],\"width\":[0.9866666666666646],\"x\":[\"97.1866665\"],\"y\":[0.0]}},\"id\":\"bb8d4bee-7a48-46e6-a9aa-81d717ba618c\",\"type\":\"ColumnDataSource\"},{\"attributes\":{\"fill_alpha\":{\"field\":\"fill_alpha\"},\"fill_color\":{\"field\":\"color\"},\"height\":{\"field\":\"height\",\"units\":\"data\"},\"line_color\":{\"field\":\"line_color\"},\"width\":{\"field\":\"width\",\"units\":\"data\"},\"x\":{\"field\":\"x\"},\"y\":{\"field\":\"y\"}},\"id\":\"2e72fd99-34f4-46ed-a3fa-c111dc10c6bc\",\"type\":\"Rect\"},{\"attributes\":{\"data_source\":{\"id\":\"a47a5d4b-68c9-4a57-ae4d-18905c841cba\",\"type\":\"ColumnDataSource\"},\"glyph\":{\"id\":\"4fd80dfe-f24c-4a2d-9931-38b2c828680a\",\"type\":\"Rect\"},\"hover_glyph\":null,\"muted_glyph\":null},\"id\":\"2a368823-2841-45bf-b46e-d47e096d97c1\",\"type\":\"GlyphRenderer\"},{\"attributes\":{\"data_source\":{\"id\":\"c5474cfa-ccd4-459f-bb65-4642c244e648\",\"type\":\"ColumnDataSource\"},\"glyph\":{\"id\":\"4984f591-8b21-45eb-ad7c-fd90464b95d8\",\"type\":\"Rect\"},\"hover_glyph\":null,\"muted_glyph\":null},\"id\":\"507ebd29-2d7f-4808-bd57-319a2db13f17\",\"type\":\"GlyphRenderer\"},{\"attributes\":{\"fill_alpha\":{\"field\":\"fill_alpha\"},\"fill_color\":{\"field\":\"color\"},\"height\":{\"field\":\"height\",\"units\":\"data\"},\"line_color\":{\"field\":\"line_color\"},\"width\":{\"field\":\"width\",\"units\":\"data\"},\"x\":{\"field\":\"x\"},\"y\":{\"field\":\"y\"}},\"id\":\"4984f591-8b21-45eb-ad7c-fd90464b95d8\",\"type\":\"Rect\"},{\"attributes\":{\"callback\":null,\"column_names\":[\"x\",\"y\",\"width\",\"height\",\"color\",\"fill_alpha\",\"line_color\",\"line_alpha\",\"label\"],\"data\":{\"chart_index\":[\"(10.853333, 11.840000]\"],\"color\":[\"#f22c40\"],\"fill_alpha\":[0.8],\"height\":[19.0],\"label\":[\"(10.853333, 11.840000]\"],\"line_alpha\":[1.0],\"line_color\":[\"black\"],\"width\":[0.9866666666666664],\"x\":[\"11.3466665\"],\"y\":[9.5]}},\"id\":\"f9c9867c-ac0c-4f67-a743-475756ccf26c\",\"type\":\"ColumnDataSource\"},{\"attributes\":{\"callback\":null,\"column_names\":[\"x\",\"y\",\"width\",\"height\",\"color\",\"fill_alpha\",\"line_color\",\"line_alpha\",\"label\"],\"data\":{\"chart_index\":[\"(3.946667, 4.933333]\"],\"color\":[\"#f22c40\"],\"fill_alpha\":[0.8],\"height\":[66.0],\"label\":[\"(3.946667, 4.933333]\"],\"line_alpha\":[1.0],\"line_color\":[\"black\"],\"width\":[0.9866666666666668],\"x\":[\"4.44\"],\"y\":[33.0]}},\"id\":\"47da62a0-2cc9-4bb9-8ced-7fb079eb88fc\",\"type\":\"ColumnDataSource\"},{\"attributes\":{\"fill_alpha\":{\"field\":\"fill_alpha\"},\"fill_color\":{\"field\":\"color\"},\"height\":{\"field\":\"height\",\"units\":\"data\"},\"line_color\":{\"field\":\"line_color\"},\"width\":{\"field\":\"width\",\"units\":\"data\"},\"x\":{\"field\":\"x\"},\"y\":{\"field\":\"y\"}},\"id\":\"969a2f00-aca5-4271-896c-f9489f03a388\",\"type\":\"Rect\"},{\"attributes\":{\"callback\":null,\"column_names\":[\"x\",\"y\",\"width\",\"height\",\"color\",\"fill_alpha\",\"line_color\",\"line_alpha\",\"label\"],\"data\":{\"chart_index\":[\"(4.933333, 5.920000]\"],\"color\":[\"#f22c40\"],\"fill_alpha\":[0.8],\"height\":[61.0],\"label\":[\"(4.933333, 5.920000]\"],\"line_alpha\":[1.0],\"line_color\":[\"black\"],\"width\":[0.9866666666666664],\"x\":[\"5.4266665\"],\"y\":[30.5]}},\"id\":\"83d16d54-b293-48ca-b4d8-855ed272fb36\",\"type\":\"ColumnDataSource\"},{\"attributes\":{\"data_source\":{\"id\":\"47da62a0-2cc9-4bb9-8ced-7fb079eb88fc\",\"type\":\"ColumnDataSource\"},\"glyph\":{\"id\":\"f4edd23d-22f4-4747-a69d-b6432bf23db3\",\"type\":\"Rect\"},\"hover_glyph\":null,\"muted_glyph\":null},\"id\":\"74384bdd-ea4c-43e9-9382-b93b1b72157d\",\"type\":\"GlyphRenderer\"},{\"attributes\":{\"fill_alpha\":{\"field\":\"fill_alpha\"},\"fill_color\":{\"field\":\"color\"},\"height\":{\"field\":\"height\",\"units\":\"data\"},\"line_color\":{\"field\":\"line_color\"},\"width\":{\"field\":\"width\",\"units\":\"data\"},\"x\":{\"field\":\"x\"},\"y\":{\"field\":\"y\"}},\"id\":\"58ee66d1-9916-4367-8a24-46d01ec84ef9\",\"type\":\"Rect\"},{\"attributes\":{\"callback\":null,\"column_names\":[\"x\",\"y\",\"width\",\"height\",\"color\",\"fill_alpha\",\"line_color\",\"line_alpha\",\"label\"],\"data\":{\"chart_index\":[\"(5.920000, 6.906667]\"],\"color\":[\"#f22c40\"],\"fill_alpha\":[0.8],\"height\":[56.0],\"label\":[\"(5.920000, 6.906667]\"],\"line_alpha\":[1.0],\"line_color\":[\"black\"],\"width\":[0.9866666666666672],\"x\":[\"6.4133335\"],\"y\":[28.0]}},\"id\":\"4adfec05-9d76-43e1-a292-28f3156bc3d6\",\"type\":\"ColumnDataSource\"},{\"attributes\":{\"fill_alpha\":{\"field\":\"fill_alpha\"},\"fill_color\":{\"field\":\"color\"},\"height\":{\"field\":\"height\",\"units\":\"data\"},\"line_color\":{\"field\":\"line_color\"},\"width\":{\"field\":\"width\",\"units\":\"data\"},\"x\":{\"field\":\"x\"},\"y\":{\"field\":\"y\"}},\"id\":\"163edb4b-9d41-4740-979e-0dc9d51cc0e4\",\"type\":\"Rect\"},{\"attributes\":{\"callback\":null,\"column_names\":[\"x\",\"y\",\"width\",\"height\",\"color\",\"fill_alpha\",\"line_color\",\"line_alpha\",\"label\"],\"data\":{\"chart_index\":[\"(9.866667, 10.853333]\"],\"color\":[\"#f22c40\"],\"fill_alpha\":[0.8],\"height\":[22.0],\"label\":[\"(9.866667, 10.853333]\"],\"line_alpha\":[1.0],\"line_color\":[\"black\"],\"width\":[0.9866666666666664],\"x\":[\"10.36\"],\"y\":[11.0]}},\"id\":\"83f16df6-15fd-40db-9d27-c15c93555254\",\"type\":\"ColumnDataSource\"},{\"attributes\":{\"data_source\":{\"id\":\"83d16d54-b293-48ca-b4d8-855ed272fb36\",\"type\":\"ColumnDataSource\"},\"glyph\":{\"id\":\"969a2f00-aca5-4271-896c-f9489f03a388\",\"type\":\"Rect\"},\"hover_glyph\":null,\"muted_glyph\":null},\"id\":\"97737a67-2636-4534-a6b3-e383b63db106\",\"type\":\"GlyphRenderer\"},{\"attributes\":{\"data_source\":{\"id\":\"a75dd860-913d-40cc-bcbb-f34c6aca3dff\",\"type\":\"ColumnDataSource\"},\"glyph\":{\"id\":\"f427c5e3-dba3-4a3c-9ba5-4ea69288e7ad\",\"type\":\"Rect\"},\"hover_glyph\":null,\"muted_glyph\":null},\"id\":\"ce19b2ac-d49f-4edc-a418-3d4987ef95de\",\"type\":\"GlyphRenderer\"},{\"attributes\":{\"data_source\":{\"id\":\"4adfec05-9d76-43e1-a292-28f3156bc3d6\",\"type\":\"ColumnDataSource\"},\"glyph\":{\"id\":\"58ee66d1-9916-4367-8a24-46d01ec84ef9\",\"type\":\"Rect\"},\"hover_glyph\":null,\"muted_glyph\":null},\"id\":\"7ca6a3c7-d670-4b09-af8d-efee8f55bb99\",\"type\":\"GlyphRenderer\"},{\"attributes\":{\"callback\":null,\"column_names\":[\"x\",\"y\",\"width\",\"height\",\"color\",\"fill_alpha\",\"line_color\",\"line_alpha\",\"label\"],\"data\":{\"chart_index\":[\"(6.906667, 7.893333]\"],\"color\":[\"#f22c40\"],\"fill_alpha\":[0.8],\"height\":[41.0],\"label\":[\"(6.906667, 7.893333]\"],\"line_alpha\":[1.0],\"line_color\":[\"black\"],\"width\":[0.9866666666666664],\"x\":[\"7.4\"],\"y\":[20.5]}},\"id\":\"4bba9fa0-7987-4da1-a065-b58410de09f9\",\"type\":\"ColumnDataSource\"},{\"attributes\":{\"fill_alpha\":{\"field\":\"fill_alpha\"},\"fill_color\":{\"field\":\"color\"},\"height\":{\"field\":\"height\",\"units\":\"data\"},\"line_color\":{\"field\":\"line_color\"},\"width\":{\"field\":\"width\",\"units\":\"data\"},\"x\":{\"field\":\"x\"},\"y\":{\"field\":\"y\"}},\"id\":\"a174e7f4-870c-46af-9f22-41834f3529c6\",\"type\":\"Rect\"},{\"attributes\":{\"callback\":null,\"column_names\":[\"x\",\"y\",\"width\",\"height\",\"color\",\"fill_alpha\",\"line_color\",\"line_alpha\",\"label\"],\"data\":{\"chart_index\":[\"(8.880000, 9.866667]\"],\"color\":[\"#f22c40\"],\"fill_alpha\":[0.8],\"height\":[35.0],\"label\":[\"(8.880000, 9.866667]\"],\"line_alpha\":[1.0],\"line_color\":[\"black\"],\"width\":[0.9866666666666664],\"x\":[\"9.373333500000001\"],\"y\":[17.5]}},\"id\":\"a75dd860-913d-40cc-bcbb-f34c6aca3dff\",\"type\":\"ColumnDataSource\"},{\"attributes\":{\"data_source\":{\"id\":\"4bba9fa0-7987-4da1-a065-b58410de09f9\",\"type\":\"ColumnDataSource\"},\"glyph\":{\"id\":\"a174e7f4-870c-46af-9f22-41834f3529c6\",\"type\":\"Rect\"},\"hover_glyph\":null,\"muted_glyph\":null},\"id\":\"193542fe-0519-4908-bfe4-2f1611c59279\",\"type\":\"GlyphRenderer\"},{\"attributes\":{\"fill_alpha\":{\"field\":\"fill_alpha\"},\"fill_color\":{\"field\":\"color\"},\"height\":{\"field\":\"height\",\"units\":\"data\"},\"line_color\":{\"field\":\"line_color\"},\"width\":{\"field\":\"width\",\"units\":\"data\"},\"x\":{\"field\":\"x\"},\"y\":{\"field\":\"y\"}},\"id\":\"f427c5e3-dba3-4a3c-9ba5-4ea69288e7ad\",\"type\":\"Rect\"},{\"attributes\":{\"fill_alpha\":{\"field\":\"fill_alpha\"},\"fill_color\":{\"field\":\"color\"},\"height\":{\"field\":\"height\",\"units\":\"data\"},\"line_color\":{\"field\":\"line_color\"},\"width\":{\"field\":\"width\",\"units\":\"data\"},\"x\":{\"field\":\"x\"},\"y\":{\"field\":\"y\"}},\"id\":\"56bad4de-6472-480a-9fe3-9ba0abd9ce3d\",\"type\":\"Rect\"},{\"attributes\":{\"data_source\":{\"id\":\"83f16df6-15fd-40db-9d27-c15c93555254\",\"type\":\"ColumnDataSource\"},\"glyph\":{\"id\":\"163edb4b-9d41-4740-979e-0dc9d51cc0e4\",\"type\":\"Rect\"},\"hover_glyph\":null,\"muted_glyph\":null},\"id\":\"87c681ca-8074-4902-bc88-e1908fd1bafe\",\"type\":\"GlyphRenderer\"},{\"attributes\":{\"fill_alpha\":{\"field\":\"fill_alpha\"},\"fill_color\":{\"field\":\"color\"},\"height\":{\"field\":\"height\",\"units\":\"data\"},\"line_color\":{\"field\":\"line_color\"},\"width\":{\"field\":\"width\",\"units\":\"data\"},\"x\":{\"field\":\"x\"},\"y\":{\"field\":\"y\"}},\"id\":\"1e8b0cc9-8cbe-40cd-85a3-ea85f7b653df\",\"type\":\"Rect\"},{\"attributes\":{\"callback\":null,\"column_names\":[\"x\",\"y\",\"width\",\"height\",\"color\",\"fill_alpha\",\"line_color\",\"line_alpha\",\"label\"],\"data\":{\"chart_index\":[\"(11.840000, 12.826667]\"],\"color\":[\"#f22c40\"],\"fill_alpha\":[0.8],\"height\":[28.0],\"label\":[\"(11.840000, 12.826667]\"],\"line_alpha\":[1.0],\"line_color\":[\"black\"],\"width\":[0.9866666666666664],\"x\":[\"12.3333335\"],\"y\":[14.0]}},\"id\":\"aa51a788-0ed2-4ba8-93a5-e9c9951c3837\",\"type\":\"ColumnDataSource\"},{\"attributes\":{\"data_source\":{\"id\":\"76d179b5-cc73-4edf-9c0c-1cd67f51881f\",\"type\":\"ColumnDataSource\"},\"glyph\":{\"id\":\"37888318-d156-4e33-ab32-92ca02850436\",\"type\":\"Rect\"},\"hover_glyph\":null,\"muted_glyph\":null},\"id\":\"0cf382d8-63d6-4d9d-a33f-292d98853524\",\"type\":\"GlyphRenderer\"},{\"attributes\":{\"data_source\":{\"id\":\"2afb4627-84ef-4d2d-99fb-ecc1c03dddaa\",\"type\":\"ColumnDataSource\"},\"glyph\":{\"id\":\"b3389ac8-9a23-402d-a321-a68821d951d2\",\"type\":\"Rect\"},\"hover_glyph\":null,\"muted_glyph\":null},\"id\":\"1ddb41af-1b69-476e-b70f-eb8b7cc92c0c\",\"type\":\"GlyphRenderer\"},{\"attributes\":{\"data_source\":{\"id\":\"f9c9867c-ac0c-4f67-a743-475756ccf26c\",\"type\":\"ColumnDataSource\"},\"glyph\":{\"id\":\"56bad4de-6472-480a-9fe3-9ba0abd9ce3d\",\"type\":\"Rect\"},\"hover_glyph\":null,\"muted_glyph\":null},\"id\":\"314e13bf-d968-4f5a-b66d-9059005990d1\",\"type\":\"GlyphRenderer\"},{\"attributes\":{\"callback\":null,\"column_names\":[\"x\",\"y\",\"width\",\"height\",\"color\",\"fill_alpha\",\"line_color\",\"line_alpha\",\"label\"],\"data\":{\"chart_index\":[\"(13.813333, 14.800000]\"],\"color\":[\"#f22c40\"],\"fill_alpha\":[0.8],\"height\":[18.0],\"label\":[\"(13.813333, 14.800000]\"],\"line_alpha\":[1.0],\"line_color\":[\"black\"],\"width\":[0.9866666666666664],\"x\":[\"14.3066665\"],\"y\":[9.0]}},\"id\":\"29ee2946-c326-46c9-a879-631330c7693c\",\"type\":\"ColumnDataSource\"},{\"attributes\":{\"fill_alpha\":{\"field\":\"fill_alpha\"},\"fill_color\":{\"field\":\"color\"},\"height\":{\"field\":\"height\",\"units\":\"data\"},\"line_color\":{\"field\":\"line_color\"},\"width\":{\"field\":\"width\",\"units\":\"data\"},\"x\":{\"field\":\"x\"},\"y\":{\"field\":\"y\"}},\"id\":\"b3389ac8-9a23-402d-a321-a68821d951d2\",\"type\":\"Rect\"},{\"attributes\":{\"fill_alpha\":{\"field\":\"fill_alpha\"},\"fill_color\":{\"field\":\"color\"},\"height\":{\"field\":\"height\",\"units\":\"data\"},\"line_color\":{\"field\":\"line_color\"},\"width\":{\"field\":\"width\",\"units\":\"data\"},\"x\":{\"field\":\"x\"},\"y\":{\"field\":\"y\"}},\"id\":\"61c3639b-91b8-4a76-b86a-fcdca0ac35c6\",\"type\":\"Rect\"},{\"attributes\":{\"data_source\":{\"id\":\"aa51a788-0ed2-4ba8-93a5-e9c9951c3837\",\"type\":\"ColumnDataSource\"},\"glyph\":{\"id\":\"1e8b0cc9-8cbe-40cd-85a3-ea85f7b653df\",\"type\":\"Rect\"},\"hover_glyph\":null,\"muted_glyph\":null},\"id\":\"5e1e113c-2423-4543-b0ef-ec6e29e4e347\",\"type\":\"GlyphRenderer\"},{\"attributes\":{\"callback\":null,\"column_names\":[\"x\",\"y\",\"width\",\"height\",\"color\",\"fill_alpha\",\"line_color\",\"line_alpha\",\"label\"],\"data\":{\"chart_index\":[\"(12.826667, 13.813333]\"],\"color\":[\"#f22c40\"],\"fill_alpha\":[0.8],\"height\":[7.0],\"label\":[\"(12.826667, 13.813333]\"],\"line_alpha\":[1.0],\"line_color\":[\"black\"],\"width\":[0.9866666666666681],\"x\":[\"13.32\"],\"y\":[3.5]}},\"id\":\"072ab8c1-c651-47b8-abe0-c38c1125fb53\",\"type\":\"ColumnDataSource\"},{\"attributes\":{\"fill_alpha\":{\"field\":\"fill_alpha\"},\"fill_color\":{\"field\":\"color\"},\"height\":{\"field\":\"height\",\"units\":\"data\"},\"line_color\":{\"field\":\"line_color\"},\"width\":{\"field\":\"width\",\"units\":\"data\"},\"x\":{\"field\":\"x\"},\"y\":{\"field\":\"y\"}},\"id\":\"424e6a37-8a18-4887-98b6-3f37838b4eb4\",\"type\":\"Rect\"},{\"attributes\":{\"fill_alpha\":{\"field\":\"fill_alpha\"},\"fill_color\":{\"field\":\"color\"},\"height\":{\"field\":\"height\",\"units\":\"data\"},\"line_color\":{\"field\":\"line_color\"},\"width\":{\"field\":\"width\",\"units\":\"data\"},\"x\":{\"field\":\"x\"},\"y\":{\"field\":\"y\"}},\"id\":\"445815b3-5f87-4b90-9639-f00f7839ec2a\",\"type\":\"Rect\"},{\"attributes\":{\"callback\":null,\"column_names\":[\"x\",\"y\",\"width\",\"height\",\"color\",\"fill_alpha\",\"line_color\",\"line_alpha\",\"label\"],\"data\":{\"chart_index\":[\"(16.773333, 17.760000]\"],\"color\":[\"#f22c40\"],\"fill_alpha\":[0.8],\"height\":[10.0],\"label\":[\"(16.773333, 17.760000]\"],\"line_alpha\":[1.0],\"line_color\":[\"black\"],\"width\":[0.9866666666666681],\"x\":[\"17.2666665\"],\"y\":[5.0]}},\"id\":\"99f3b339-195c-499f-aa14-52c82fa33bfb\",\"type\":\"ColumnDataSource\"},{\"attributes\":{\"data_source\":{\"id\":\"072ab8c1-c651-47b8-abe0-c38c1125fb53\",\"type\":\"ColumnDataSource\"},\"glyph\":{\"id\":\"424e6a37-8a18-4887-98b6-3f37838b4eb4\",\"type\":\"Rect\"},\"hover_glyph\":null,\"muted_glyph\":null},\"id\":\"a621c0bf-357a-42bb-8c03-48f8a19433ce\",\"type\":\"GlyphRenderer\"},{\"attributes\":{\"callback\":null,\"column_names\":[\"x\",\"y\",\"width\",\"height\",\"color\",\"fill_alpha\",\"line_color\",\"line_alpha\",\"label\"],\"data\":{\"chart_index\":[\"(22.693333, 23.680000]\"],\"color\":[\"#f22c40\"],\"fill_alpha\":[0.8],\"height\":[4.0],\"label\":[\"(22.693333, 23.680000]\"],\"line_alpha\":[1.0],\"line_color\":[\"black\"],\"width\":[0.9866666666666646],\"x\":[\"23.1866665\"],\"y\":[2.0]}},\"id\":\"76d179b5-cc73-4edf-9c0c-1cd67f51881f\",\"type\":\"ColumnDataSource\"},{\"attributes\":{\"callback\":null,\"column_names\":[\"x\",\"y\",\"width\",\"height\",\"color\",\"fill_alpha\",\"line_color\",\"line_alpha\",\"label\"],\"data\":{\"chart_index\":[\"(15.786667, 16.773333]\"],\"color\":[\"#f22c40\"],\"fill_alpha\":[0.8],\"height\":[9.0],\"label\":[\"(15.786667, 16.773333]\"],\"line_alpha\":[1.0],\"line_color\":[\"black\"],\"width\":[0.9866666666666664],\"x\":[\"16.28\"],\"y\":[4.5]}},\"id\":\"2afb4627-84ef-4d2d-99fb-ecc1c03dddaa\",\"type\":\"ColumnDataSource\"},{\"attributes\":{\"callback\":null,\"column_names\":[\"x\",\"y\",\"width\",\"height\",\"color\",\"fill_alpha\",\"line_color\",\"line_alpha\",\"label\"],\"data\":{\"chart_index\":[\"(129.253333, 130.240000]\"],\"color\":[\"#f22c40\"],\"fill_alpha\":[0.8],\"height\":[2.0],\"label\":[\"(129.253333, 130.240000]\"],\"line_alpha\":[1.0],\"line_color\":[\"black\"],\"width\":[0.9866666666666788],\"x\":[\"129.7466665\"],\"y\":[1.0]}},\"id\":\"097bbc23-0cf7-4385-a7fa-daacfdaf9460\",\"type\":\"ColumnDataSource\"},{\"attributes\":{\"fill_alpha\":{\"field\":\"fill_alpha\"},\"fill_color\":{\"field\":\"color\"},\"height\":{\"field\":\"height\",\"units\":\"data\"},\"line_color\":{\"field\":\"line_color\"},\"width\":{\"field\":\"width\",\"units\":\"data\"},\"x\":{\"field\":\"x\"},\"y\":{\"field\":\"y\"}},\"id\":\"2dad99f5-9d81-4471-a841-3b261bf2c8f3\",\"type\":\"Rect\"},{\"attributes\":{\"callback\":null,\"column_names\":[\"x\",\"y\",\"width\",\"height\",\"color\",\"fill_alpha\",\"line_color\",\"line_alpha\",\"label\"],\"data\":{\"chart_index\":[\"(130.240000, 131.226667]\"],\"color\":[\"#f22c40\"],\"fill_alpha\":[0.8],\"height\":[0.0],\"label\":[\"(130.240000, 131.226667]\"],\"line_alpha\":[1.0],\"line_color\":[\"black\"],\"width\":[0.9866666666666504],\"x\":[\"130.73333350000001\"],\"y\":[0.0]}},\"id\":\"22192684-badc-4740-8444-14072e92493e\",\"type\":\"ColumnDataSource\"},{\"attributes\":{\"callback\":null,\"end\":2885.3},\"id\":\"cc86666e-6d08-45df-b5aa-89e9b88cd6ac\",\"type\":\"Range1d\"},{\"attributes\":{\"fill_alpha\":{\"field\":\"fill_alpha\"},\"fill_color\":{\"field\":\"color\"},\"height\":{\"field\":\"height\",\"units\":\"data\"},\"line_color\":{\"field\":\"line_color\"},\"width\":{\"field\":\"width\",\"units\":\"data\"},\"x\":{\"field\":\"x\"},\"y\":{\"field\":\"y\"}},\"id\":\"3029c7da-3049-47fa-905e-7763c17214f5\",\"type\":\"Rect\"},{\"attributes\":{\"data_source\":{\"id\":\"097bbc23-0cf7-4385-a7fa-daacfdaf9460\",\"type\":\"ColumnDataSource\"},\"glyph\":{\"id\":\"72e1fc84-a082-450c-8f21-93330494af50\",\"type\":\"Rect\"},\"hover_glyph\":null,\"muted_glyph\":null},\"id\":\"b5318a98-8de3-4099-92de-8102477fa1c4\",\"type\":\"GlyphRenderer\"},{\"attributes\":{\"fill_alpha\":{\"field\":\"fill_alpha\"},\"fill_color\":{\"field\":\"color\"},\"height\":{\"field\":\"height\",\"units\":\"data\"},\"line_color\":{\"field\":\"line_color\"},\"width\":{\"field\":\"width\",\"units\":\"data\"},\"x\":{\"field\":\"x\"},\"y\":{\"field\":\"y\"}},\"id\":\"014fdf3c-37d5-419f-8f90-7552880b158d\",\"type\":\"Rect\"},{\"attributes\":{\"data_source\":{\"id\":\"3c115bbc-fba2-431c-a451-2f7a64b82ac3\",\"type\":\"ColumnDataSource\"},\"glyph\":{\"id\":\"62fb6d4c-12a3-40e8-8cdd-a6321a5541d6\",\"type\":\"Rect\"},\"hover_glyph\":null,\"muted_glyph\":null},\"id\":\"37f6bfe9-f203-44f9-938f-b457c07e4ac3\",\"type\":\"GlyphRenderer\"},{\"attributes\":{\"data_source\":{\"id\":\"22192684-badc-4740-8444-14072e92493e\",\"type\":\"ColumnDataSource\"},\"glyph\":{\"id\":\"2dad99f5-9d81-4471-a841-3b261bf2c8f3\",\"type\":\"Rect\"},\"hover_glyph\":null,\"muted_glyph\":null},\"id\":\"8cdb2f43-cda3-43d5-afdd-c5050ec6b0db\",\"type\":\"GlyphRenderer\"},{\"attributes\":{\"callback\":null,\"column_names\":[\"x\",\"y\",\"width\",\"height\",\"color\",\"fill_alpha\",\"line_color\",\"line_alpha\",\"label\"],\"data\":{\"chart_index\":[\"(131.226667, 132.213333]\"],\"color\":[\"#f22c40\"],\"fill_alpha\":[0.8],\"height\":[4.0],\"label\":[\"(131.226667, 132.213333]\"],\"line_alpha\":[1.0],\"line_color\":[\"black\"],\"width\":[0.9866666666666788],\"x\":[\"131.72\"],\"y\":[2.0]}},\"id\":\"0819f760-8c91-44cb-9e29-14e93628ee6f\",\"type\":\"ColumnDataSource\"},{\"attributes\":{\"fill_alpha\":{\"field\":\"fill_alpha\"},\"fill_color\":{\"field\":\"color\"},\"height\":{\"field\":\"height\",\"units\":\"data\"},\"line_color\":{\"field\":\"line_color\"},\"width\":{\"field\":\"width\",\"units\":\"data\"},\"x\":{\"field\":\"x\"},\"y\":{\"field\":\"y\"}},\"id\":\"d43688d8-f055-4d62-863c-f3ac904e4401\",\"type\":\"Rect\"},{\"attributes\":{\"callback\":null,\"column_names\":[\"x\",\"y\",\"width\",\"height\",\"color\",\"fill_alpha\",\"line_color\",\"line_alpha\",\"label\"],\"data\":{\"chart_index\":[\"(132.213333, 133.200000]\"],\"color\":[\"#f22c40\"],\"fill_alpha\":[0.8],\"height\":[2.0],\"label\":[\"(132.213333, 133.200000]\"],\"line_alpha\":[1.0],\"line_color\":[\"black\"],\"width\":[0.9866666666666788],\"x\":[\"132.70666649999998\"],\"y\":[1.0]}},\"id\":\"209aa3dd-d12e-4d6d-81a7-991f23ad6d0c\",\"type\":\"ColumnDataSource\"},{\"attributes\":{},\"id\":\"fc2cf335-3da5-4dd9-b0a1-3ab7f47c33c6\",\"type\":\"ToolEvents\"},{\"attributes\":{\"data_source\":{\"id\":\"0819f760-8c91-44cb-9e29-14e93628ee6f\",\"type\":\"ColumnDataSource\"},\"glyph\":{\"id\":\"d43688d8-f055-4d62-863c-f3ac904e4401\",\"type\":\"Rect\"},\"hover_glyph\":null,\"muted_glyph\":null},\"id\":\"c54176df-1fbb-424d-acef-043aed7f2528\",\"type\":\"GlyphRenderer\"},{\"attributes\":{\"fill_alpha\":{\"field\":\"fill_alpha\"},\"fill_color\":{\"field\":\"color\"},\"height\":{\"field\":\"height\",\"units\":\"data\"},\"line_color\":{\"field\":\"line_color\"},\"width\":{\"field\":\"width\",\"units\":\"data\"},\"x\":{\"field\":\"x\"},\"y\":{\"field\":\"y\"}},\"id\":\"f72562ff-e9a9-4e6c-8d25-fc6e3f511f57\",\"type\":\"Rect\"},{\"attributes\":{\"callback\":null,\"column_names\":[\"x\",\"y\",\"width\",\"height\",\"color\",\"fill_alpha\",\"line_color\",\"line_alpha\",\"label\"],\"data\":{\"chart_index\":[\"(133.200000, 134.186667]\"],\"color\":[\"#f22c40\"],\"fill_alpha\":[0.8],\"height\":[0.0],\"label\":[\"(133.200000, 134.186667]\"],\"line_alpha\":[1.0],\"line_color\":[\"black\"],\"width\":[0.9866666666666504],\"x\":[\"133.6933335\"],\"y\":[0.0]}},\"id\":\"f53f6a7f-6f74-4e2c-b0a2-03c08b5f357c\",\"type\":\"ColumnDataSource\"},{\"attributes\":{\"below\":[{\"id\":\"a98cde72-9f51-4d4f-b411-14724a9df0ce\",\"type\":\"LinearAxis\"}],\"css_classes\":null,\"left\":[{\"id\":\"8be446e6-83f2-4aa4-a14a-697f66f2cf1a\",\"type\":\"LinearAxis\"}],\"renderers\":[{\"id\":\"6fd267de-96fd-4560-aacf-645999411b2a\",\"type\":\"BoxAnnotation\"},{\"id\":\"f82bea99-fb6c-4c0f-9fc7-5949abb694a8\",\"type\":\"GlyphRenderer\"},{\"id\":\"024b438f-7e55-46f5-9770-781117aeabdd\",\"type\":\"GlyphRenderer\"},{\"id\":\"2bde102d-8a2c-4498-a9f3-dea133c250f9\",\"type\":\"GlyphRenderer\"},{\"id\":\"6c6ee165-b78d-4953-9f61-343992bc693f\",\"type\":\"GlyphRenderer\"},{\"id\":\"74384bdd-ea4c-43e9-9382-b93b1b72157d\",\"type\":\"GlyphRenderer\"},{\"id\":\"97737a67-2636-4534-a6b3-e383b63db106\",\"type\":\"GlyphRenderer\"},{\"id\":\"7ca6a3c7-d670-4b09-af8d-efee8f55bb99\",\"type\":\"GlyphRenderer\"},{\"id\":\"193542fe-0519-4908-bfe4-2f1611c59279\",\"type\":\"GlyphRenderer\"},{\"id\":\"6a022678-b603-485f-bdda-60463270a9c0\",\"type\":\"GlyphRenderer\"},{\"id\":\"ce19b2ac-d49f-4edc-a418-3d4987ef95de\",\"type\":\"GlyphRenderer\"},{\"id\":\"87c681ca-8074-4902-bc88-e1908fd1bafe\",\"type\":\"GlyphRenderer\"},{\"id\":\"314e13bf-d968-4f5a-b66d-9059005990d1\",\"type\":\"GlyphRenderer\"},{\"id\":\"5e1e113c-2423-4543-b0ef-ec6e29e4e347\",\"type\":\"GlyphRenderer\"},{\"id\":\"a621c0bf-357a-42bb-8c03-48f8a19433ce\",\"type\":\"GlyphRenderer\"},{\"id\":\"23cf69c9-fe3a-49dd-84c6-8239bc44c199\",\"type\":\"GlyphRenderer\"},{\"id\":\"d2d63d8f-4810-4d36-8b96-ddb70d3a228a\",\"type\":\"GlyphRenderer\"},{\"id\":\"1ddb41af-1b69-476e-b70f-eb8b7cc92c0c\",\"type\":\"GlyphRenderer\"},{\"id\":\"08641583-d4f4-4ba3-8b14-b90fd5285129\",\"type\":\"GlyphRenderer\"},{\"id\":\"b7339fbc-da76-4077-a32b-0872debecbab\",\"type\":\"GlyphRenderer\"},{\"id\":\"c45f006d-34e8-4452-8cca-f4f933d42dc4\",\"type\":\"GlyphRenderer\"},{\"id\":\"ad39ad4c-4953-4b8e-b43b-54503740411d\",\"type\":\"GlyphRenderer\"},{\"id\":\"ad0f1f3b-04ae-4353-ad97-1a8a74022b13\",\"type\":\"GlyphRenderer\"},{\"id\":\"bc431401-93e1-4a67-a657-1ce1b6bda88f\",\"type\":\"GlyphRenderer\"},{\"id\":\"0cf382d8-63d6-4d9d-a33f-292d98853524\",\"type\":\"GlyphRenderer\"},{\"id\":\"eda45d8d-8278-4be2-be23-2b33808c4030\",\"type\":\"GlyphRenderer\"},{\"id\":\"ba22d7ea-c168-4e88-a683-df8cb914c267\",\"type\":\"GlyphRenderer\"},{\"id\":\"a8dc54de-97f0-4513-9ba5-c62d7b8dce27\",\"type\":\"GlyphRenderer\"},{\"id\":\"a19a9654-5a3a-41e8-a1c6-454e6fdb4f4d\",\"type\":\"GlyphRenderer\"},{\"id\":\"79071eb5-522b-4459-98fc-7dffaff6fb32\",\"type\":\"GlyphRenderer\"},{\"id\":\"689f6531-6745-4466-8921-2b7a7fa4f063\",\"type\":\"GlyphRenderer\"},{\"id\":\"9d8123b7-05f0-4794-a574-4aa702cc60fb\",\"type\":\"GlyphRenderer\"},{\"id\":\"2f0c2ca0-498d-4099-bd2e-256146f1fbbf\",\"type\":\"GlyphRenderer\"},{\"id\":\"a67941c1-841c-48ea-8007-ec2769d8196c\",\"type\":\"GlyphRenderer\"},{\"id\":\"4178883c-4c09-488a-b7c1-a6b0879117b9\",\"type\":\"GlyphRenderer\"},{\"id\":\"07f256ce-d87c-48d3-bbe2-c71338d1e9a9\",\"type\":\"GlyphRenderer\"},{\"id\":\"0a85c257-103c-4f41-8c62-22a515d222d7\",\"type\":\"GlyphRenderer\"},{\"id\":\"e33d2c86-775b-4d60-a07c-3f027dc88650\",\"type\":\"GlyphRenderer\"},{\"id\":\"4cad9298-5f00-4e79-8fd6-0c5494c246bf\",\"type\":\"GlyphRenderer\"},{\"id\":\"903fa83f-db31-42aa-bdfd-74a0919b0234\",\"type\":\"GlyphRenderer\"},{\"id\":\"40d4ce99-418a-4570-883a-bd8c17eeb9e9\",\"type\":\"GlyphRenderer\"},{\"id\":\"caf1d481-2672-4af8-92ad-ed551721739e\",\"type\":\"GlyphRenderer\"},{\"id\":\"8c43ec26-eafe-4e23-93bd-c2aedc27f60c\",\"type\":\"GlyphRenderer\"},{\"id\":\"5a0efb96-74d6-439e-af79-bdd4f9aada40\",\"type\":\"GlyphRenderer\"},{\"id\":\"e184ab77-ed8a-4fb6-a8c3-33c5b42b80d0\",\"type\":\"GlyphRenderer\"},{\"id\":\"11e415f9-c4b0-4611-a932-66607ef603d3\",\"type\":\"GlyphRenderer\"},{\"id\":\"e3626e5d-1405-402e-96b6-1e0c2cb48f07\",\"type\":\"GlyphRenderer\"},{\"id\":\"821f1af0-2692-485c-b7fc-d1b6c942941a\",\"type\":\"GlyphRenderer\"},{\"id\":\"d45827c2-05ac-40dc-a6bf-645517727958\",\"type\":\"GlyphRenderer\"},{\"id\":\"c73abd40-e71b-49e2-b81e-541491ed2ad3\",\"type\":\"GlyphRenderer\"},{\"id\":\"09ffc67d-578d-4967-8e62-8144673fc15a\",\"type\":\"GlyphRenderer\"},{\"id\":\"8a917a57-b832-4410-b018-b1b6960067e2\",\"type\":\"GlyphRenderer\"},{\"id\":\"4e16795b-0c65-4278-bff3-ada12ac03040\",\"type\":\"GlyphRenderer\"},{\"id\":\"3f1b11f9-d95c-42bc-b7bd-581d2296b65e\",\"type\":\"GlyphRenderer\"},{\"id\":\"c5cfef76-5bab-487c-b032-64f055017924\",\"type\":\"GlyphRenderer\"},{\"id\":\"d3686a13-e99d-4de8-85b3-34d2e2c02fd4\",\"type\":\"GlyphRenderer\"},{\"id\":\"e4dd82b1-5b24-4ebf-8468-07780ca573bc\",\"type\":\"GlyphRenderer\"},{\"id\":\"d8788a65-5bbd-433d-b7ba-530774f500cf\",\"type\":\"GlyphRenderer\"},{\"id\":\"fe08f8d9-f495-44ad-8646-a7eae275b91f\",\"type\":\"GlyphRenderer\"},{\"id\":\"1ddeea49-9f8d-4019-a41d-e1214ede77b4\",\"type\":\"GlyphRenderer\"},{\"id\":\"8590f728-736c-4431-ac3b-11253fdad049\",\"type\":\"GlyphRenderer\"},{\"id\":\"b1a93006-c9b7-4ad5-8724-7bd045d0b237\",\"type\":\"GlyphRenderer\"},{\"id\":\"6b55c635-25d1-420e-8a9c-8610735e403d\",\"type\":\"GlyphRenderer\"},{\"id\":\"3e96c5b9-bfc8-486e-9068-6b73dd555cf5\",\"type\":\"GlyphRenderer\"},{\"id\":\"fcf2d4b6-a787-4e23-9683-0d653f114d7d\",\"type\":\"GlyphRenderer\"},{\"id\":\"85f05ff1-25e8-470c-968c-acb750f746f5\",\"type\":\"GlyphRenderer\"},{\"id\":\"c4178485-59d3-463f-a313-ebe2250beca1\",\"type\":\"GlyphRenderer\"},{\"id\":\"429e7f69-354f-44d5-a4e9-d9423791a51b\",\"type\":\"GlyphRenderer\"},{\"id\":\"9de238c2-d338-4caa-9164-287f7f03d712\",\"type\":\"GlyphRenderer\"},{\"id\":\"ae24a439-7ce3-428a-8b72-e01941a9a606\",\"type\":\"GlyphRenderer\"},{\"id\":\"c9946ca1-6ad8-426a-b065-f5e02038f549\",\"type\":\"GlyphRenderer\"},{\"id\":\"2a368823-2841-45bf-b46e-d47e096d97c1\",\"type\":\"GlyphRenderer\"},{\"id\":\"eb8646db-e92b-4181-a890-84c015e48c28\",\"type\":\"GlyphRenderer\"},{\"id\":\"74ee5920-fe87-46fa-90f9-6cb7dfb90aa5\",\"type\":\"GlyphRenderer\"},{\"id\":\"d62442a0-f8e5-4416-a122-4aab5cf59e90\",\"type\":\"GlyphRenderer\"},{\"id\":\"1cdc70e8-977d-4f60-b48e-8f3df5debe57\",\"type\":\"GlyphRenderer\"},{\"id\":\"0c68a72f-f9a9-416e-b4fe-ebc829f956e7\",\"type\":\"GlyphRenderer\"},{\"id\":\"507ebd29-2d7f-4808-bd57-319a2db13f17\",\"type\":\"GlyphRenderer\"},{\"id\":\"0ca01902-6786-4983-be88-049865368225\",\"type\":\"GlyphRenderer\"},{\"id\":\"b7c42772-05db-4c2c-b42e-2422fbefdc98\",\"type\":\"GlyphRenderer\"},{\"id\":\"8f56493f-0ae5-4754-b552-38273702ba8c\",\"type\":\"GlyphRenderer\"},{\"id\":\"ed47ddbb-9d40-4c1f-85e3-0a69c39531a1\",\"type\":\"GlyphRenderer\"},{\"id\":\"628af1e5-1c87-4b42-96d7-adde66b425a5\",\"type\":\"GlyphRenderer\"},{\"id\":\"09aeb37e-a035-4f91-8e4e-407c0e60e2b2\",\"type\":\"GlyphRenderer\"},{\"id\":\"c3828306-0038-4d8f-96c7-f64c6d991a0d\",\"type\":\"GlyphRenderer\"},{\"id\":\"c4ff878e-9e2a-46a7-8c18-e90343a5de7d\",\"type\":\"GlyphRenderer\"},{\"id\":\"c6dabe94-f4ee-4c69-a91c-85fcfdc00965\",\"type\":\"GlyphRenderer\"},{\"id\":\"7b8c1c16-0e89-4fee-a696-16a8353b3be2\",\"type\":\"GlyphRenderer\"},{\"id\":\"d59db4d9-2d08-495a-b30b-5b2d1dc683eb\",\"type\":\"GlyphRenderer\"},{\"id\":\"af94ad48-70ec-45d2-9268-051f155e665e\",\"type\":\"GlyphRenderer\"},{\"id\":\"fe0f5e1d-2162-4ae4-83bb-4acc16636c73\",\"type\":\"GlyphRenderer\"},{\"id\":\"28288166-958d-47b6-822f-48e941e0159b\",\"type\":\"GlyphRenderer\"},{\"id\":\"586928fd-1a87-4c5c-8a6d-edbd2e2fe143\",\"type\":\"GlyphRenderer\"},{\"id\":\"6c879290-798e-495e-8cc7-31c622bbd91a\",\"type\":\"GlyphRenderer\"},{\"id\":\"fb80bc0d-9152-481f-90e8-df3a985f0af7\",\"type\":\"GlyphRenderer\"},{\"id\":\"244dc627-dcce-4a1e-964b-5a63b3f84075\",\"type\":\"GlyphRenderer\"},{\"id\":\"ebb3e92a-3de0-46ec-ba14-65fd7a5e56fa\",\"type\":\"GlyphRenderer\"},{\"id\":\"9262e6e7-4017-4538-bdf1-47bf017ad8e5\",\"type\":\"GlyphRenderer\"},{\"id\":\"bd879df0-3701-4dd3-a2ca-d2bfe210d9f0\",\"type\":\"GlyphRenderer\"},{\"id\":\"b716c2f6-a151-4ca9-9b6c-42d3ab95fc7a\",\"type\":\"GlyphRenderer\"},{\"id\":\"33c663dd-82dc-47ff-a4de-05c4e3b41f37\",\"type\":\"GlyphRenderer\"},{\"id\":\"c68cf448-ce20-47cd-9444-855fb47e3651\",\"type\":\"GlyphRenderer\"},{\"id\":\"2784c73d-baca-4484-861e-3bff688936ca\",\"type\":\"GlyphRenderer\"},{\"id\":\"fdc475c9-2370-4357-aa26-d14231ab967e\",\"type\":\"GlyphRenderer\"},{\"id\":\"85755702-b9a2-479e-aff5-2f0ac6ae0dbb\",\"type\":\"GlyphRenderer\"},{\"id\":\"328b6392-ada0-4932-b72d-009607b9e6b6\",\"type\":\"GlyphRenderer\"},{\"id\":\"2d1dfcd7-f0b2-4122-bbb5-7a534da1a776\",\"type\":\"GlyphRenderer\"},{\"id\":\"02c693c2-bb24-40fe-bd61-038d334eb49e\",\"type\":\"GlyphRenderer\"},{\"id\":\"ef179411-1714-4356-a387-6dd06dcb13bf\",\"type\":\"GlyphRenderer\"},{\"id\":\"f99b3a70-6752-4eb5-afb1-d66723572276\",\"type\":\"GlyphRenderer\"},{\"id\":\"f18ce0ba-b78e-4a9e-b644-a17b7f1cb7e1\",\"type\":\"GlyphRenderer\"},{\"id\":\"f8429310-33fd-432b-9669-c0031d0335de\",\"type\":\"GlyphRenderer\"},{\"id\":\"024ca330-4e75-40a8-9d65-9b9e87ba29fb\",\"type\":\"GlyphRenderer\"},{\"id\":\"0bc7966b-23a5-4ab0-b288-1583abc0ec29\",\"type\":\"GlyphRenderer\"},{\"id\":\"beae1cca-9e89-45db-bf86-bb8bd1b3d94d\",\"type\":\"GlyphRenderer\"},{\"id\":\"4eda6a47-ed27-4413-96f5-1874801f80d8\",\"type\":\"GlyphRenderer\"},{\"id\":\"35ce82e9-ce0d-48a7-a334-0ce6590214fd\",\"type\":\"GlyphRenderer\"},{\"id\":\"81992754-422a-47b5-bc23-179cd163737e\",\"type\":\"GlyphRenderer\"},{\"id\":\"5ba91ceb-8874-4692-a190-e291af3ab613\",\"type\":\"GlyphRenderer\"},{\"id\":\"6cca0ceb-5abc-4251-8330-e0d55ca7cc51\",\"type\":\"GlyphRenderer\"},{\"id\":\"86cd7e6c-9c9c-4e3a-a7a8-06f3bda4fb4c\",\"type\":\"GlyphRenderer\"},{\"id\":\"fd0f6aff-8c7c-43a2-aba5-7e2739ad5669\",\"type\":\"GlyphRenderer\"},{\"id\":\"fdd1a472-25d9-45ea-a972-4f13088960de\",\"type\":\"GlyphRenderer\"},{\"id\":\"d83141a5-3a44-4351-8a84-71b02f9c1dae\",\"type\":\"GlyphRenderer\"},{\"id\":\"c8bef998-127e-48ba-92bf-15554edb156a\",\"type\":\"GlyphRenderer\"},{\"id\":\"e06b6b5f-6c24-4ce8-9087-800cfb2b8dd4\",\"type\":\"GlyphRenderer\"},{\"id\":\"476d4e70-d1e4-4eae-9d8b-cda1713da6e3\",\"type\":\"GlyphRenderer\"},{\"id\":\"eb971c5b-b57c-4e39-820b-56726fb7403a\",\"type\":\"GlyphRenderer\"},{\"id\":\"1ea944a1-2fd5-4107-8e2b-a5c3a0399bf8\",\"type\":\"GlyphRenderer\"},{\"id\":\"bf04c149-6f32-46a2-96ef-7bcd930386a6\",\"type\":\"GlyphRenderer\"},{\"id\":\"f4230817-e679-48b8-83c1-6ac4fdf2b509\",\"type\":\"GlyphRenderer\"},{\"id\":\"761a3473-edf2-4e1f-b6d6-c541fdb879e8\",\"type\":\"GlyphRenderer\"},{\"id\":\"b5318a98-8de3-4099-92de-8102477fa1c4\",\"type\":\"GlyphRenderer\"},{\"id\":\"8cdb2f43-cda3-43d5-afdd-c5050ec6b0db\",\"type\":\"GlyphRenderer\"},{\"id\":\"c54176df-1fbb-424d-acef-043aed7f2528\",\"type\":\"GlyphRenderer\"},{\"id\":\"22115183-ca90-40d2-ad5f-4d36b0c19651\",\"type\":\"GlyphRenderer\"},{\"id\":\"cebc6b66-b702-4420-95da-b672e122f34b\",\"type\":\"GlyphRenderer\"},{\"id\":\"2b73b392-a233-4569-8de9-9354bbd51d83\",\"type\":\"GlyphRenderer\"},{\"id\":\"37f6bfe9-f203-44f9-938f-b457c07e4ac3\",\"type\":\"GlyphRenderer\"},{\"id\":\"0dbc55d3-10ea-4aa6-a0f5-046cba629fa0\",\"type\":\"GlyphRenderer\"},{\"id\":\"d32be76f-3f63-4daa-a281-922019cf54da\",\"type\":\"GlyphRenderer\"},{\"id\":\"38c50e86-935d-4002-a80d-44aa82fc7a83\",\"type\":\"GlyphRenderer\"},{\"id\":\"22733a50-69d4-4657-994a-a92d2a54e814\",\"type\":\"GlyphRenderer\"},{\"id\":\"e81eac51-5020-454f-a7e4-17e968a29e35\",\"type\":\"GlyphRenderer\"},{\"id\":\"f9d2b2e3-93cb-4c6a-b2ef-1785d3781f50\",\"type\":\"GlyphRenderer\"},{\"id\":\"8a05c351-6764-4ed2-a00e-ad92ee33dac4\",\"type\":\"GlyphRenderer\"},{\"id\":\"8518df23-7835-432e-901e-7e748d6baca7\",\"type\":\"GlyphRenderer\"},{\"id\":\"e0be93b5-20d7-47c7-a109-7f037f5accc1\",\"type\":\"GlyphRenderer\"},{\"id\":\"a0de3db0-d0c0-41c1-8e44-983dd741a5bf\",\"type\":\"GlyphRenderer\"},{\"id\":\"181a0e34-700c-404e-9fcb-07068a7298dc\",\"type\":\"GlyphRenderer\"},{\"id\":\"5bb02e0b-1382-4b0e-b496-9e5e8866c7c8\",\"type\":\"GlyphRenderer\"},{\"id\":\"f51b851f-529f-45dc-b61f-716eb7db730d\",\"type\":\"Legend\"},{\"id\":\"a98cde72-9f51-4d4f-b411-14724a9df0ce\",\"type\":\"LinearAxis\"},{\"id\":\"8be446e6-83f2-4aa4-a14a-697f66f2cf1a\",\"type\":\"LinearAxis\"},{\"id\":\"56f1662a-c768-4b65-a728-2dc420e59710\",\"type\":\"Grid\"}],\"title\":{\"id\":\"70b2def8-76ff-4a5c-813f-8259a28adb42\",\"type\":\"Title\"},\"tool_events\":{\"id\":\"fc2cf335-3da5-4dd9-b0a1-3ab7f47c33c6\",\"type\":\"ToolEvents\"},\"toolbar\":{\"id\":\"559a40d7-6c08-42cb-a9ea-adde8d11320b\",\"type\":\"Toolbar\"},\"x_mapper_type\":\"auto\",\"x_range\":{\"id\":\"2e295f4f-efc8-4087-b2d2-a17845d90fb4\",\"type\":\"Range1d\"},\"y_mapper_type\":\"auto\",\"y_range\":{\"id\":\"cc86666e-6d08-45df-b5aa-89e9b88cd6ac\",\"type\":\"Range1d\"}},\"id\":\"7c39d0d2-b506-46c4-ae69-114747625022\",\"subtype\":\"Chart\",\"type\":\"Plot\"},{\"attributes\":{\"data_source\":{\"id\":\"209aa3dd-d12e-4d6d-81a7-991f23ad6d0c\",\"type\":\"ColumnDataSource\"},\"glyph\":{\"id\":\"014fdf3c-37d5-419f-8f90-7552880b158d\",\"type\":\"Rect\"},\"hover_glyph\":null,\"muted_glyph\":null},\"id\":\"22115183-ca90-40d2-ad5f-4d36b0c19651\",\"type\":\"GlyphRenderer\"},{\"attributes\":{\"callback\":null,\"column_names\":[\"x\",\"y\",\"width\",\"height\",\"color\",\"fill_alpha\",\"line_color\",\"line_alpha\",\"label\"],\"data\":{\"chart_index\":[\"(136.160000, 137.146667]\"],\"color\":[\"#f22c40\"],\"fill_alpha\":[0.8],\"height\":[0.0],\"label\":[\"(136.160000, 137.146667]\"],\"line_alpha\":[1.0],\"line_color\":[\"black\"],\"width\":[0.9866666666666788],\"x\":[\"136.6533335\"],\"y\":[0.0]}},\"id\":\"8bffe221-a4c5-418e-8c9f-0a59aca01847\",\"type\":\"ColumnDataSource\"},{\"attributes\":{\"fill_alpha\":{\"field\":\"fill_alpha\"},\"fill_color\":{\"field\":\"color\"},\"height\":{\"field\":\"height\",\"units\":\"data\"},\"line_color\":{\"field\":\"line_color\"},\"width\":{\"field\":\"width\",\"units\":\"data\"},\"x\":{\"field\":\"x\"},\"y\":{\"field\":\"y\"}},\"id\":\"0d3fb36d-c3d0-48ca-9a11-2a6a1e06dce2\",\"type\":\"Rect\"},{\"attributes\":{\"data_source\":{\"id\":\"f53f6a7f-6f74-4e2c-b0a2-03c08b5f357c\",\"type\":\"ColumnDataSource\"},\"glyph\":{\"id\":\"f72562ff-e9a9-4e6c-8d25-fc6e3f511f57\",\"type\":\"Rect\"},\"hover_glyph\":null,\"muted_glyph\":null},\"id\":\"cebc6b66-b702-4420-95da-b672e122f34b\",\"type\":\"GlyphRenderer\"},{\"attributes\":{\"fill_alpha\":{\"field\":\"fill_alpha\"},\"fill_color\":{\"field\":\"color\"},\"height\":{\"field\":\"height\",\"units\":\"data\"},\"line_color\":{\"field\":\"line_color\"},\"width\":{\"field\":\"width\",\"units\":\"data\"},\"x\":{\"field\":\"x\"},\"y\":{\"field\":\"y\"}},\"id\":\"62fb6d4c-12a3-40e8-8cdd-a6321a5541d6\",\"type\":\"Rect\"},{\"attributes\":{\"data_source\":{\"id\":\"26ad524c-a04c-465d-9d04-33f9981f4821\",\"type\":\"ColumnDataSource\"},\"glyph\":{\"id\":\"3362d443-7623-4cfd-91cc-9ff336eaf5dd\",\"type\":\"Rect\"},\"hover_glyph\":null,\"muted_glyph\":null},\"id\":\"2b73b392-a233-4569-8de9-9354bbd51d83\",\"type\":\"GlyphRenderer\"},{\"attributes\":{\"callback\":null,\"column_names\":[\"x\",\"y\",\"width\",\"height\",\"color\",\"fill_alpha\",\"line_color\",\"line_alpha\",\"label\"],\"data\":{\"chart_index\":[\"(135.173333, 136.160000]\"],\"color\":[\"#f22c40\"],\"fill_alpha\":[0.8],\"height\":[0.0],\"label\":[\"(135.173333, 136.160000]\"],\"line_alpha\":[1.0],\"line_color\":[\"black\"],\"width\":[0.9866666666666504],\"x\":[\"135.66666650000002\"],\"y\":[0.0]}},\"id\":\"3c115bbc-fba2-431c-a451-2f7a64b82ac3\",\"type\":\"ColumnDataSource\"},{\"attributes\":{\"callback\":null,\"column_names\":[\"x\",\"y\",\"width\",\"height\",\"color\",\"fill_alpha\",\"line_color\",\"line_alpha\",\"label\"],\"data\":{\"chart_index\":[\"(142.080000, 143.066667]\"],\"color\":[\"#f22c40\"],\"fill_alpha\":[0.8],\"height\":[1.0],\"label\":[\"(142.080000, 143.066667]\"],\"line_alpha\":[1.0],\"line_color\":[\"black\"],\"width\":[0.9866666666666504],\"x\":[\"142.5733335\"],\"y\":[0.5]}},\"id\":\"5dc3c5b1-1b97-4fc6-a1d9-29f5f7ca66c3\",\"type\":\"ColumnDataSource\"},{\"attributes\":{\"data_source\":{\"id\":\"8bffe221-a4c5-418e-8c9f-0a59aca01847\",\"type\":\"ColumnDataSource\"},\"glyph\":{\"id\":\"0d3fb36d-c3d0-48ca-9a11-2a6a1e06dce2\",\"type\":\"Rect\"},\"hover_glyph\":null,\"muted_glyph\":null},\"id\":\"0dbc55d3-10ea-4aa6-a0f5-046cba629fa0\",\"type\":\"GlyphRenderer\"},{\"attributes\":{\"callback\":null,\"column_names\":[\"x\",\"y\",\"width\",\"height\",\"color\",\"fill_alpha\",\"line_color\",\"line_alpha\",\"label\"],\"data\":{\"chart_index\":[\"(137.146667, 138.133333]\"],\"color\":[\"#f22c40\"],\"fill_alpha\":[0.8],\"height\":[2.0],\"label\":[\"(137.146667, 138.133333]\"],\"line_alpha\":[1.0],\"line_color\":[\"black\"],\"width\":[0.9866666666666504],\"x\":[\"137.64\"],\"y\":[1.0]}},\"id\":\"0c3f2c00-a1fe-4cea-b22f-812e06d8b5f7\",\"type\":\"ColumnDataSource\"},{\"attributes\":{\"fill_alpha\":{\"field\":\"fill_alpha\"},\"fill_color\":{\"field\":\"color\"},\"height\":{\"field\":\"height\",\"units\":\"data\"},\"line_color\":{\"field\":\"line_color\"},\"width\":{\"field\":\"width\",\"units\":\"data\"},\"x\":{\"field\":\"x\"},\"y\":{\"field\":\"y\"}},\"id\":\"d4788ae3-d593-4b18-9d13-8ed0437ea4a2\",\"type\":\"Rect\"},{\"attributes\":{\"callback\":null,\"column_names\":[\"x\",\"y\",\"width\",\"height\",\"color\",\"fill_alpha\",\"line_color\",\"line_alpha\",\"label\"],\"data\":{\"chart_index\":[\"(138.133333, 139.120000]\"],\"color\":[\"#f22c40\"],\"fill_alpha\":[0.8],\"height\":[0.0],\"label\":[\"(138.133333, 139.120000]\"],\"line_alpha\":[1.0],\"line_color\":[\"black\"],\"width\":[0.9866666666666788],\"x\":[\"138.6266665\"],\"y\":[0.0]}},\"id\":\"af407df3-ffd2-41fe-90de-50551c4c267a\",\"type\":\"ColumnDataSource\"},{\"attributes\":{\"callback\":null,\"column_names\":[\"x\",\"y\",\"width\",\"height\",\"color\",\"fill_alpha\",\"line_color\",\"line_alpha\",\"label\"],\"data\":{\"chart_index\":[\"(141.093333, 142.080000]\"],\"color\":[\"#f22c40\"],\"fill_alpha\":[0.8],\"height\":[0.0],\"label\":[\"(141.093333, 142.080000]\"],\"line_alpha\":[1.0],\"line_color\":[\"black\"],\"width\":[0.9866666666666788],\"x\":[\"141.5866665\"],\"y\":[0.0]}},\"id\":\"322d4065-5c1d-4308-ba77-f0debef08bf0\",\"type\":\"ColumnDataSource\"},{\"attributes\":{\"data_source\":{\"id\":\"0c3f2c00-a1fe-4cea-b22f-812e06d8b5f7\",\"type\":\"ColumnDataSource\"},\"glyph\":{\"id\":\"d4788ae3-d593-4b18-9d13-8ed0437ea4a2\",\"type\":\"Rect\"},\"hover_glyph\":null,\"muted_glyph\":null},\"id\":\"d32be76f-3f63-4daa-a281-922019cf54da\",\"type\":\"GlyphRenderer\"},{\"attributes\":{\"fill_alpha\":{\"field\":\"fill_alpha\"},\"fill_color\":{\"field\":\"color\"},\"height\":{\"field\":\"height\",\"units\":\"data\"},\"line_color\":{\"field\":\"line_color\"},\"width\":{\"field\":\"width\",\"units\":\"data\"},\"x\":{\"field\":\"x\"},\"y\":{\"field\":\"y\"}},\"id\":\"7bb78e28-0901-4d8d-819d-d41eb386a9f2\",\"type\":\"Rect\"},{\"attributes\":{\"fill_alpha\":{\"field\":\"fill_alpha\"},\"fill_color\":{\"field\":\"color\"},\"height\":{\"field\":\"height\",\"units\":\"data\"},\"line_color\":{\"field\":\"line_color\"},\"width\":{\"field\":\"width\",\"units\":\"data\"},\"x\":{\"field\":\"x\"},\"y\":{\"field\":\"y\"}},\"id\":\"32dafc1a-7148-4063-8d22-360b9da52de3\",\"type\":\"Rect\"},{\"attributes\":{\"data_source\":{\"id\":\"322d4065-5c1d-4308-ba77-f0debef08bf0\",\"type\":\"ColumnDataSource\"},\"glyph\":{\"id\":\"7bb78e28-0901-4d8d-819d-d41eb386a9f2\",\"type\":\"Rect\"},\"hover_glyph\":null,\"muted_glyph\":null},\"id\":\"f9d2b2e3-93cb-4c6a-b2ef-1785d3781f50\",\"type\":\"GlyphRenderer\"},{\"attributes\":{\"data_source\":{\"id\":\"af407df3-ffd2-41fe-90de-50551c4c267a\",\"type\":\"ColumnDataSource\"},\"glyph\":{\"id\":\"3029c7da-3049-47fa-905e-7763c17214f5\",\"type\":\"Rect\"},\"hover_glyph\":null,\"muted_glyph\":null},\"id\":\"38c50e86-935d-4002-a80d-44aa82fc7a83\",\"type\":\"GlyphRenderer\"}],\"root_ids\":[\"7c39d0d2-b506-46c4-ae69-114747625022\"]},\"title\":\"Bokeh Application\",\"version\":\"0.12.5\"}};\n",
       "            var render_items = [{\"docid\":\"891c61af-4dc3-40e0-a456-178869b6eeaf\",\"elementid\":\"26076872-48f4-4b8d-ab2e-66027990fe74\",\"modelid\":\"7c39d0d2-b506-46c4-ae69-114747625022\"}];\n",
       "            \n",
       "            Bokeh.embed.embed_items(docs_json, render_items);\n",
       "          };\n",
       "          if (document.readyState != \"loading\") fn();\n",
       "          else document.addEventListener(\"DOMContentLoaded\", fn);\n",
       "        })();\n",
       "      },\n",
       "      function(Bokeh) {\n",
       "      }\n",
       "    ];\n",
       "  \n",
       "    function run_inline_js() {\n",
       "      \n",
       "      if ((window.Bokeh !== undefined) || (force === true)) {\n",
       "        for (var i = 0; i < inline_js.length; i++) {\n",
       "          inline_js[i](window.Bokeh);\n",
       "        }if (force === true) {\n",
       "          display_loaded();\n",
       "        }} else if (Date.now() < window._bokeh_timeout) {\n",
       "        setTimeout(run_inline_js, 100);\n",
       "      } else if (!window._bokeh_failed_load) {\n",
       "        console.log(\"Bokeh: BokehJS failed to load within specified timeout.\");\n",
       "        window._bokeh_failed_load = true;\n",
       "      } else if (force !== true) {\n",
       "        var cell = $(document.getElementById(\"26076872-48f4-4b8d-ab2e-66027990fe74\")).parents('.cell').data().cell;\n",
       "        cell.output_area.append_execute_result(NB_LOAD_WARNING)\n",
       "      }\n",
       "  \n",
       "    }\n",
       "  \n",
       "    if (window._bokeh_is_loading === 0) {\n",
       "      console.log(\"Bokeh: BokehJS loaded, going straight to plotting\");\n",
       "      run_inline_js();\n",
       "    } else {\n",
       "      load_libs(js_urls, function() {\n",
       "        console.log(\"Bokeh: BokehJS plotting callback run at\", now());\n",
       "        run_inline_js();\n",
       "      });\n",
       "    }\n",
       "  }(this));\n",
       "</script>"
      ]
     },
     "metadata": {},
     "output_type": "display_data"
    }
   ],
   "source": [
    "p1 = Histogram( locations_and_partners, 'recipient-country-count', \n",
    "        title = \"Histogram of Recipient Country Counts\", bins=150)\n",
    "\n",
    "show(p1)"
   ]
  },
  {
   "cell_type": "code",
   "execution_count": 891,
   "metadata": {},
   "outputs": [
    {
     "data": {
      "text/plain": [
       "572"
      ]
     },
     "execution_count": 891,
     "metadata": {},
     "output_type": "execute_result"
    }
   ],
   "source": [
    "len(locations_and_partners[\n",
    "    (locations_and_partners['recipient-country-count'] == 0)])"
   ]
  },
  {
   "cell_type": "markdown",
   "metadata": {},
   "source": [
    "Here we can see that indeed, the vast majority of activities have one recipient country. However, 572 do not. \n",
    "\n",
    "These might have a recipient region associated, so let's see if there are any activities which have neither by filtering the above table to include only rows which have none of either:"
   ]
  },
  {
   "cell_type": "code",
   "execution_count": 892,
   "metadata": {},
   "outputs": [
    {
     "data": {
      "text/html": [
       "<div>\n",
       "<style>\n",
       "    .dataframe thead tr:only-child th {\n",
       "        text-align: right;\n",
       "    }\n",
       "\n",
       "    .dataframe thead th {\n",
       "        text-align: left;\n",
       "    }\n",
       "\n",
       "    .dataframe tbody tr th {\n",
       "        vertical-align: top;\n",
       "    }\n",
       "</style>\n",
       "<table border=\"1\" class=\"dataframe\">\n",
       "  <thead>\n",
       "    <tr style=\"text-align: right;\">\n",
       "      <th></th>\n",
       "      <th>iati-identifier</th>\n",
       "      <th>activity-status</th>\n",
       "      <th>recipient-country-count</th>\n",
       "      <th>recipient-region-count</th>\n",
       "      <th>participating-organisation-count</th>\n",
       "    </tr>\n",
       "  </thead>\n",
       "  <tbody>\n",
       "    <tr>\n",
       "      <th>146</th>\n",
       "      <td>CA-3-A033944001</td>\n",
       "      <td>2</td>\n",
       "      <td>0</td>\n",
       "      <td>0</td>\n",
       "      <td>3</td>\n",
       "    </tr>\n",
       "    <tr>\n",
       "      <th>856</th>\n",
       "      <td>CA-3-D002114001</td>\n",
       "      <td>3</td>\n",
       "      <td>0</td>\n",
       "      <td>0</td>\n",
       "      <td>3</td>\n",
       "    </tr>\n",
       "  </tbody>\n",
       "</table>\n",
       "</div>"
      ],
      "text/plain": [
       "     iati-identifier activity-status  recipient-country-count  \\\n",
       "146  CA-3-A033944001               2                        0   \n",
       "856  CA-3-D002114001               3                        0   \n",
       "\n",
       "     recipient-region-count  participating-organisation-count  \n",
       "146                       0                                 3  \n",
       "856                       0                                 3  "
      ]
     },
     "execution_count": 892,
     "metadata": {},
     "output_type": "execute_result"
    }
   ],
   "source": [
    "locations_and_partners[\n",
    "    (locations_and_partners['recipient-country-count'] == 0) & \n",
    "    (locations_and_partners['recipient-region-count'] == 0)].head()"
   ]
  },
  {
   "cell_type": "markdown",
   "metadata": {},
   "source": [
    "As we can see, there are in fact only two activities which have neither element.\n",
    "\n",
    "Let's also look at the activities which have a very high number of recipient countries:"
   ]
  },
  {
   "cell_type": "code",
   "execution_count": 893,
   "metadata": {},
   "outputs": [
    {
     "data": {
      "text/plain": [
       "371"
      ]
     },
     "execution_count": 893,
     "metadata": {},
     "output_type": "execute_result"
    }
   ],
   "source": [
    "len(locations_and_partners[locations_and_partners['recipient-country-count'] > 5])"
   ]
  },
  {
   "cell_type": "code",
   "execution_count": 894,
   "metadata": {},
   "outputs": [
    {
     "data": {
      "text/plain": [
       "181"
      ]
     },
     "execution_count": 894,
     "metadata": {},
     "output_type": "execute_result"
    }
   ],
   "source": [
    "len(locations_and_partners[locations_and_partners['recipient-country-count'] > 10])"
   ]
  },
  {
   "cell_type": "code",
   "execution_count": 895,
   "metadata": {},
   "outputs": [
    {
     "data": {
      "text/plain": [
       "25"
      ]
     },
     "execution_count": 895,
     "metadata": {},
     "output_type": "execute_result"
    }
   ],
   "source": [
    "len(locations_and_partners[locations_and_partners['recipient-country-count'] > 50])"
   ]
  },
  {
   "cell_type": "markdown",
   "metadata": {},
   "source": [
    "Although it is very possible that these activities are legitimately benefiting many countries each, this does make any kind of detailed analysis more difficult."
   ]
  },
  {
   "cell_type": "markdown",
   "metadata": {},
   "source": [
    "### Participating Organisations\n",
    "\n",
    "To look in more detail, let's create a new table of all of the participating organisation details:\n",
    "\n",
    "<div class=\"alert alert-warning\">\n",
    "Note the line below which begins `lambda x: `. This was used to filter out all of the narrative elements which contained a single space for a name i.e. \" \". Including empty names such as this instead of removing the narrative elements all together can be very misleading for data users or third party info systems which are trying to consume GAC data.\n",
    "</div>"
   ]
  },
  {
   "cell_type": "code",
   "execution_count": 896,
   "metadata": {},
   "outputs": [
    {
     "data": {
      "text/html": [
       "<div>\n",
       "<style>\n",
       "    .dataframe thead tr:only-child th {\n",
       "        text-align: right;\n",
       "    }\n",
       "\n",
       "    .dataframe thead th {\n",
       "        text-align: left;\n",
       "    }\n",
       "\n",
       "    .dataframe tbody tr th {\n",
       "        vertical-align: top;\n",
       "    }\n",
       "</style>\n",
       "<table border=\"1\" class=\"dataframe\">\n",
       "  <thead>\n",
       "    <tr style=\"text-align: right;\">\n",
       "      <th></th>\n",
       "      <th>iati-identifier</th>\n",
       "      <th>ref</th>\n",
       "      <th>name</th>\n",
       "      <th>type</th>\n",
       "      <th>role</th>\n",
       "    </tr>\n",
       "  </thead>\n",
       "  <tbody>\n",
       "    <tr>\n",
       "      <th>0</th>\n",
       "      <td>CA-3-A031268001</td>\n",
       "      <td>CA</td>\n",
       "      <td>Canada</td>\n",
       "      <td>10</td>\n",
       "      <td>1</td>\n",
       "    </tr>\n",
       "    <tr>\n",
       "      <th>1</th>\n",
       "      <td>CA-3-A031268001</td>\n",
       "      <td>CA-1</td>\n",
       "      <td>Canadian International Development Agency</td>\n",
       "      <td>10</td>\n",
       "      <td>3</td>\n",
       "    </tr>\n",
       "    <tr>\n",
       "      <th>2</th>\n",
       "      <td>CA-3-A031268001</td>\n",
       "      <td>None</td>\n",
       "      <td>Public Works and Government Services Canada - ...</td>\n",
       "      <td>10</td>\n",
       "      <td>4</td>\n",
       "    </tr>\n",
       "    <tr>\n",
       "      <th>3</th>\n",
       "      <td>CA-3-A031470001</td>\n",
       "      <td>CA</td>\n",
       "      <td>Canada</td>\n",
       "      <td>10</td>\n",
       "      <td>1</td>\n",
       "    </tr>\n",
       "    <tr>\n",
       "      <th>4</th>\n",
       "      <td>CA-3-A031470001</td>\n",
       "      <td>CA-1</td>\n",
       "      <td>Canadian International Development Agency</td>\n",
       "      <td>10</td>\n",
       "      <td>3</td>\n",
       "    </tr>\n",
       "    <tr>\n",
       "      <th>5</th>\n",
       "      <td>CA-3-A031470001</td>\n",
       "      <td>None</td>\n",
       "      <td>Sagem Sécurité</td>\n",
       "      <td>70</td>\n",
       "      <td>4</td>\n",
       "    </tr>\n",
       "    <tr>\n",
       "      <th>6</th>\n",
       "      <td>CA-3-A031708001</td>\n",
       "      <td>CA</td>\n",
       "      <td>Canada</td>\n",
       "      <td>10</td>\n",
       "      <td>1</td>\n",
       "    </tr>\n",
       "    <tr>\n",
       "      <th>7</th>\n",
       "      <td>CA-3-A031708001</td>\n",
       "      <td>CA-1</td>\n",
       "      <td>Canadian International Development Agency</td>\n",
       "      <td>10</td>\n",
       "      <td>3</td>\n",
       "    </tr>\n",
       "    <tr>\n",
       "      <th>8</th>\n",
       "      <td>CA-3-A031708001</td>\n",
       "      <td>None</td>\n",
       "      <td>None</td>\n",
       "      <td>None</td>\n",
       "      <td>4</td>\n",
       "    </tr>\n",
       "    <tr>\n",
       "      <th>9</th>\n",
       "      <td>CA-3-A031708003</td>\n",
       "      <td>CA</td>\n",
       "      <td>Canada</td>\n",
       "      <td>10</td>\n",
       "      <td>1</td>\n",
       "    </tr>\n",
       "  </tbody>\n",
       "</table>\n",
       "</div>"
      ],
      "text/plain": [
       "   iati-identifier   ref                                               name  \\\n",
       "0  CA-3-A031268001    CA                                             Canada   \n",
       "1  CA-3-A031268001  CA-1          Canadian International Development Agency   \n",
       "2  CA-3-A031268001  None  Public Works and Government Services Canada - ...   \n",
       "3  CA-3-A031470001    CA                                             Canada   \n",
       "4  CA-3-A031470001  CA-1          Canadian International Development Agency   \n",
       "5  CA-3-A031470001  None                                    Sagem Sécurité    \n",
       "6  CA-3-A031708001    CA                                             Canada   \n",
       "7  CA-3-A031708001  CA-1          Canadian International Development Agency   \n",
       "8  CA-3-A031708001  None                                               None   \n",
       "9  CA-3-A031708003    CA                                             Canada   \n",
       "\n",
       "   type role  \n",
       "0    10    1  \n",
       "1    10    3  \n",
       "2    10    4  \n",
       "3    10    1  \n",
       "4    10    3  \n",
       "5    70    4  \n",
       "6    10    1  \n",
       "7    10    3  \n",
       "8  None    4  \n",
       "9    10    1  "
      ]
     },
     "execution_count": 896,
     "metadata": {},
     "output_type": "execute_result"
    }
   ],
   "source": [
    "detailed_participating_orgs_country_count = pd.DataFrame(\n",
    "    columns=['iati-identifier','recipient-country-count', 'ref', 'name', 'type', 'role'],\n",
    "    data=[[\n",
    "        participating_org.getparent().find('iati-identifier').text,\n",
    "        len([country.get('code') for country in participating_org.getparent().findall('recipient-country')]),\n",
    "        participating_org.get('ref'),\n",
    "        (lambda x: None if x == \" \" else x)(participating_org.find('narrative').text),\n",
    "        participating_org.get('type'),\n",
    "        participating_org.get('role')\n",
    "    ]\n",
    "          for participating_org in big_iati.findall(\n",
    "              'iati-activity/participating-org')])\n",
    "\n",
    "detailed_participating_orgs_country_count.to_excel(pd_writer, \"Participating Organisations\")\n",
    "\n",
    "detailed_participating_orgs = detailed_participating_orgs_country_count.drop('recipient-country-count', axis=1)\n",
    "\n",
    "detailed_participating_orgs.head(10)"
   ]
  },
  {
   "cell_type": "markdown",
   "metadata": {},
   "source": [
    "Again, looking at the first five rows, this table isn't particularly informative, and we know that currently a row row for each activity. To give a clearer picture, let's reformat this table to show the number of `reporting-org` elements given, broken down by the organisation role, and then type."
   ]
  },
  {
   "cell_type": "code",
   "execution_count": 897,
   "metadata": {
    "scrolled": false
   },
   "outputs": [
    {
     "data": {
      "text/html": [
       "<div>\n",
       "<style>\n",
       "    .dataframe thead tr:only-child th {\n",
       "        text-align: right;\n",
       "    }\n",
       "\n",
       "    .dataframe thead th {\n",
       "        text-align: left;\n",
       "    }\n",
       "\n",
       "    .dataframe tbody tr th {\n",
       "        vertical-align: top;\n",
       "    }\n",
       "</style>\n",
       "<table border=\"1\" class=\"dataframe\">\n",
       "  <thead>\n",
       "    <tr style=\"text-align: right;\">\n",
       "      <th></th>\n",
       "      <th></th>\n",
       "      <th>iati-identifier</th>\n",
       "      <th>name</th>\n",
       "      <th>ref</th>\n",
       "    </tr>\n",
       "    <tr>\n",
       "      <th>role</th>\n",
       "      <th>type</th>\n",
       "      <th></th>\n",
       "      <th></th>\n",
       "      <th></th>\n",
       "    </tr>\n",
       "  </thead>\n",
       "  <tbody>\n",
       "    <tr>\n",
       "      <th>1</th>\n",
       "      <th>10</th>\n",
       "      <td>3961</td>\n",
       "      <td>3961</td>\n",
       "      <td>3961</td>\n",
       "    </tr>\n",
       "    <tr>\n",
       "      <th>3</th>\n",
       "      <th>10</th>\n",
       "      <td>3961</td>\n",
       "      <td>3961</td>\n",
       "      <td>3961</td>\n",
       "    </tr>\n",
       "    <tr>\n",
       "      <th rowspan=\"6\" valign=\"top\">4</th>\n",
       "      <th>10</th>\n",
       "      <td>446</td>\n",
       "      <td>444</td>\n",
       "      <td>63</td>\n",
       "    </tr>\n",
       "    <tr>\n",
       "      <th>21</th>\n",
       "      <td>455</td>\n",
       "      <td>453</td>\n",
       "      <td>375</td>\n",
       "    </tr>\n",
       "    <tr>\n",
       "      <th>22</th>\n",
       "      <td>1225</td>\n",
       "      <td>1225</td>\n",
       "      <td>1049</td>\n",
       "    </tr>\n",
       "    <tr>\n",
       "      <th>30</th>\n",
       "      <td>6</td>\n",
       "      <td>6</td>\n",
       "      <td>4</td>\n",
       "    </tr>\n",
       "    <tr>\n",
       "      <th>40</th>\n",
       "      <td>1405</td>\n",
       "      <td>1405</td>\n",
       "      <td>1234</td>\n",
       "    </tr>\n",
       "    <tr>\n",
       "      <th>70</th>\n",
       "      <td>135</td>\n",
       "      <td>128</td>\n",
       "      <td>116</td>\n",
       "    </tr>\n",
       "  </tbody>\n",
       "</table>\n",
       "</div>"
      ],
      "text/plain": [
       "           iati-identifier  name   ref\n",
       "role type                             \n",
       "1    10               3961  3961  3961\n",
       "3    10               3961  3961  3961\n",
       "4    10                446   444    63\n",
       "     21                455   453   375\n",
       "     22               1225  1225  1049\n",
       "     30                  6     6     4\n",
       "     40               1405  1405  1234\n",
       "     70                135   128   116"
      ]
     },
     "execution_count": 897,
     "metadata": {},
     "output_type": "execute_result"
    }
   ],
   "source": [
    "detailed_participating_orgs.pivot_table(\n",
    "    index=['role', 'type'], aggfunc='count')"
   ]
  },
  {
   "cell_type": "markdown",
   "metadata": {},
   "source": [
    "For every `participating-org` given a role of either Funding or Extending, all of the fields have been provided.\n",
    "\n",
    "Because there are more types of organisation which have played an 'Implementing' role, let's collapse them down:"
   ]
  },
  {
   "cell_type": "code",
   "execution_count": 898,
   "metadata": {
    "scrolled": true
   },
   "outputs": [
    {
     "data": {
      "text/html": [
       "<div>\n",
       "<style>\n",
       "    .dataframe thead tr:only-child th {\n",
       "        text-align: right;\n",
       "    }\n",
       "\n",
       "    .dataframe thead th {\n",
       "        text-align: left;\n",
       "    }\n",
       "\n",
       "    .dataframe tbody tr th {\n",
       "        vertical-align: top;\n",
       "    }\n",
       "</style>\n",
       "<table border=\"1\" class=\"dataframe\">\n",
       "  <thead>\n",
       "    <tr style=\"text-align: right;\">\n",
       "      <th></th>\n",
       "      <th>iati-identifier</th>\n",
       "      <th>name</th>\n",
       "      <th>ref</th>\n",
       "      <th>type</th>\n",
       "    </tr>\n",
       "    <tr>\n",
       "      <th>role</th>\n",
       "      <th></th>\n",
       "      <th></th>\n",
       "      <th></th>\n",
       "      <th></th>\n",
       "    </tr>\n",
       "  </thead>\n",
       "  <tbody>\n",
       "    <tr>\n",
       "      <th>1</th>\n",
       "      <td>3961</td>\n",
       "      <td>3961</td>\n",
       "      <td>3961</td>\n",
       "      <td>3961</td>\n",
       "    </tr>\n",
       "    <tr>\n",
       "      <th>3</th>\n",
       "      <td>3961</td>\n",
       "      <td>3961</td>\n",
       "      <td>3961</td>\n",
       "      <td>3961</td>\n",
       "    </tr>\n",
       "    <tr>\n",
       "      <th>4</th>\n",
       "      <td>3961</td>\n",
       "      <td>3849</td>\n",
       "      <td>2985</td>\n",
       "      <td>3672</td>\n",
       "    </tr>\n",
       "  </tbody>\n",
       "</table>\n",
       "</div>"
      ],
      "text/plain": [
       "      iati-identifier  name   ref  type\n",
       "role                                   \n",
       "1                3961  3961  3961  3961\n",
       "3                3961  3961  3961  3961\n",
       "4                3961  3849  2985  3672"
      ]
     },
     "execution_count": 898,
     "metadata": {},
     "output_type": "execute_result"
    }
   ],
   "source": [
    "detailed_participating_orgs.pivot_table(index=['role'], aggfunc='count')"
   ]
  },
  {
   "cell_type": "markdown",
   "metadata": {},
   "source": [
    "Looking at the 'ref' and 'type' values for the bottom row, it can be seen that 112 (2.82%) Implementing organisation declarations have no name (or rather, have a name of \" \"), 976 (24.64%) no identifying reference, and 289 (7.30%) have no type declared. The identifiers for these activities can be found by filtering the 'Participating Organisations' tab of Appendix 1.\n",
    "\n",
    "Now filtering only to include activities which include at least one recipient country:"
   ]
  },
  {
   "cell_type": "code",
   "execution_count": 899,
   "metadata": {},
   "outputs": [
    {
     "data": {
      "text/html": [
       "<div>\n",
       "<style>\n",
       "    .dataframe thead tr:only-child th {\n",
       "        text-align: right;\n",
       "    }\n",
       "\n",
       "    .dataframe thead th {\n",
       "        text-align: left;\n",
       "    }\n",
       "\n",
       "    .dataframe tbody tr th {\n",
       "        vertical-align: top;\n",
       "    }\n",
       "</style>\n",
       "<table border=\"1\" class=\"dataframe\">\n",
       "  <thead>\n",
       "    <tr style=\"text-align: right;\">\n",
       "      <th></th>\n",
       "      <th>iati-identifier</th>\n",
       "      <th>name</th>\n",
       "      <th>ref</th>\n",
       "      <th>type</th>\n",
       "    </tr>\n",
       "    <tr>\n",
       "      <th>role</th>\n",
       "      <th></th>\n",
       "      <th></th>\n",
       "      <th></th>\n",
       "      <th></th>\n",
       "    </tr>\n",
       "  </thead>\n",
       "  <tbody>\n",
       "    <tr>\n",
       "      <th>1</th>\n",
       "      <td>3389</td>\n",
       "      <td>3389</td>\n",
       "      <td>3389</td>\n",
       "      <td>3389</td>\n",
       "    </tr>\n",
       "    <tr>\n",
       "      <th>3</th>\n",
       "      <td>3389</td>\n",
       "      <td>3389</td>\n",
       "      <td>3389</td>\n",
       "      <td>3389</td>\n",
       "    </tr>\n",
       "    <tr>\n",
       "      <th>4</th>\n",
       "      <td>3389</td>\n",
       "      <td>3286</td>\n",
       "      <td>2522</td>\n",
       "      <td>3147</td>\n",
       "    </tr>\n",
       "  </tbody>\n",
       "</table>\n",
       "</div>"
      ],
      "text/plain": [
       "      iati-identifier  name   ref  type\n",
       "role                                   \n",
       "1                3389  3389  3389  3389\n",
       "3                3389  3389  3389  3389\n",
       "4                3389  3286  2522  3147"
      ]
     },
     "execution_count": 899,
     "metadata": {},
     "output_type": "execute_result"
    }
   ],
   "source": [
    "detailed_participating_orgs_country_count[\n",
    "    detailed_participating_orgs_country_count['recipient-country-count'] >\n",
    "    0].drop('recipient-country-count', axis=1).pivot_table(\n",
    "        index=['role'], aggfunc='count', )"
   ]
  },
  {
   "cell_type": "markdown",
   "metadata": {},
   "source": [
    "## Use Case 2: Identifying Local Partners (Deliverable 3.1.2)\n",
    "\n",
    "### Use Case\n",
    "\n",
    "_Identify local partners by relating the project’s implementing Organisation Identifier and the beneficiary country_\n",
    "\n",
    "The aim of this section is to analyse the structure of the IATI activities and their fields to assess the feasibility of this kind of inference.\n",
    "\n",
    "### Existence of Required Fields\n",
    "\n",
    "The most obvious impediment to this inference is the lack of either a recipient country code, or an implementing organisation's reference. "
   ]
  },
  {
   "cell_type": "code",
   "execution_count": 900,
   "metadata": {},
   "outputs": [
    {
     "name": "stdout",
     "output_type": "stream",
     "text": [
      "Generated Text: \n",
      "\n",
      "Of the the 3961 activities published, 572 (14.44%) do not include a recipient country.\n",
      "\n",
      "All of the 3961 activities analysed include an implementing organisation.\n",
      "Of those however, 976 (24.64%) of them do not include a reference.\n",
      "\n",
      "Of the 1548 activities identified in the above procedures, 1439 (36.33% of the all activities) are unique.\n"
     ]
    }
   ],
   "source": [
    "implementers_without_ref = big_iati.xpath(\n",
    "    \"iati-activity[participating-org[@role='4' and not(@ref)]]\")\n",
    "\n",
    "activities_without_country = big_iati.xpath(\n",
    "    \"iati-activity[not(recipient-country)]\")\n",
    "\n",
    "total_non_inference = implementers_without_ref + activities_without_country\n",
    "\n",
    "print(\n",
    "    \"Generated Text: \\n\\nOf the the {} activities published, {} ({:.2%}) do not include a recipient country.\\n\"\n",
    "    .format(\n",
    "        len(big_iati), len(activities_without_country),\n",
    "        (len(activities_without_country) / len(big_iati))))\n",
    "\n",
    "print(\n",
    "    \"All of the {} activities analysed include an implementing organisation.\\n\"\n",
    "    \"Of those however, {} ({:.2%}) of them do not include a reference.\\n\"\n",
    "    .format(\n",
    "        len(big_iati), len(implementers_without_ref),\n",
    "        (len(implementers_without_ref) / len(big_iati))))\n",
    "\n",
    "print(\n",
    "    \"Of the {} activities identified in the above procedures, {} ({:.2%} of the all activities) are unique.\"\n",
    "    .format(\n",
    "        len(total_non_inference), len(set(total_non_inference)),\n",
    "        len(set(total_non_inference)) / len(big_iati)))"
   ]
  },
  {
   "cell_type": "markdown",
   "metadata": {},
   "source": [
    "It follows from this that for 36.33% of activities, the above reference cannot be made by looking at machine readable data (available on codelists or referring directly to identifiers), and for 14.44% it would be very difficult to make this inference, as there would be no recipient country, only a region."
   ]
  },
  {
   "cell_type": "markdown",
   "metadata": {},
   "source": [
    "### How the Required Fields are Related\n",
    "\n",
    "Another way of assessing the possibility of this inference is to look structurally at the way these elements are used together. To begin with we make a table of all of the recipient countries declared in activities, along with the corresponding implementing organisation information published in their parent activity. "
   ]
  },
  {
   "cell_type": "markdown",
   "metadata": {},
   "source": [
    "Every row in the table below corresponds to a single declaration of a recipient country, so there is a lot of duplication of activity identifiers and implementing organisations, but this is necessary for subsequent analysis.\n",
    "\n",
    "Again, here are the first five rows:"
   ]
  },
  {
   "cell_type": "code",
   "execution_count": 901,
   "metadata": {},
   "outputs": [
    {
     "data": {
      "text/html": [
       "<div>\n",
       "<style>\n",
       "    .dataframe thead tr:only-child th {\n",
       "        text-align: right;\n",
       "    }\n",
       "\n",
       "    .dataframe thead th {\n",
       "        text-align: left;\n",
       "    }\n",
       "\n",
       "    .dataframe tbody tr th {\n",
       "        vertical-align: top;\n",
       "    }\n",
       "</style>\n",
       "<table border=\"1\" class=\"dataframe\">\n",
       "  <thead>\n",
       "    <tr style=\"text-align: right;\">\n",
       "      <th></th>\n",
       "      <th>iati-identifier</th>\n",
       "      <th>implementing-org-name</th>\n",
       "      <th>implementing-org-ref</th>\n",
       "      <th>recipient-country-code</th>\n",
       "    </tr>\n",
       "  </thead>\n",
       "  <tbody>\n",
       "    <tr>\n",
       "      <th>0</th>\n",
       "      <td>CA-3-A031268001</td>\n",
       "      <td>Public Works and Government Services Canada - ...</td>\n",
       "      <td>None</td>\n",
       "      <td>AG</td>\n",
       "    </tr>\n",
       "    <tr>\n",
       "      <th>1</th>\n",
       "      <td>CA-3-A031268001</td>\n",
       "      <td>Public Works and Government Services Canada - ...</td>\n",
       "      <td>None</td>\n",
       "      <td>AI</td>\n",
       "    </tr>\n",
       "    <tr>\n",
       "      <th>2</th>\n",
       "      <td>CA-3-A031268001</td>\n",
       "      <td>Public Works and Government Services Canada - ...</td>\n",
       "      <td>None</td>\n",
       "      <td>BZ</td>\n",
       "    </tr>\n",
       "    <tr>\n",
       "      <th>3</th>\n",
       "      <td>CA-3-A031268001</td>\n",
       "      <td>Public Works and Government Services Canada - ...</td>\n",
       "      <td>None</td>\n",
       "      <td>DM</td>\n",
       "    </tr>\n",
       "    <tr>\n",
       "      <th>4</th>\n",
       "      <td>CA-3-A031268001</td>\n",
       "      <td>Public Works and Government Services Canada - ...</td>\n",
       "      <td>None</td>\n",
       "      <td>GD</td>\n",
       "    </tr>\n",
       "  </tbody>\n",
       "</table>\n",
       "</div>"
      ],
      "text/plain": [
       "   iati-identifier                              implementing-org-name  \\\n",
       "0  CA-3-A031268001  Public Works and Government Services Canada - ...   \n",
       "1  CA-3-A031268001  Public Works and Government Services Canada - ...   \n",
       "2  CA-3-A031268001  Public Works and Government Services Canada - ...   \n",
       "3  CA-3-A031268001  Public Works and Government Services Canada - ...   \n",
       "4  CA-3-A031268001  Public Works and Government Services Canada - ...   \n",
       "\n",
       "  implementing-org-ref recipient-country-code  \n",
       "0                 None                     AG  \n",
       "1                 None                     AI  \n",
       "2                 None                     BZ  \n",
       "3                 None                     DM  \n",
       "4                 None                     GD  "
      ]
     },
     "execution_count": 901,
     "metadata": {},
     "output_type": "execute_result"
    }
   ],
   "source": [
    "implementers_concise = pd.DataFrame(\n",
    "    columns=[\n",
    "        'iati-identifier', 'implementing-org-name', 'implementing-org-ref',\n",
    "        'recipient-country-code'\n",
    "    ],\n",
    "    data=[[\n",
    "        country.getparent().find('iati-identifier').text,\n",
    "        country.getparent().xpath(\"participating-org[@role='4']\")[0].find(\n",
    "            'narrative').text,\n",
    "        country.getparent().xpath(\"participating-org[@role='4']\")[0].get(\n",
    "            'ref'),\n",
    "        country.get('code')\n",
    "    ] for country in big_iati.findall('iati-activity/recipient-country')])\n",
    "\n",
    "implementers_concise.to_excel(pd_writer, 'Implementers by Recip. Country')\n",
    "\n",
    "implementers_concise.head()"
   ]
  },
  {
   "cell_type": "markdown",
   "metadata": {},
   "source": [
    "Again, on its own this table doesn't pain a clear picture, but we can manipulate it to see the number of activities, unique names, an unique countries associated with each `implementing-org`. This list is very long, but this time looking at the first five rows gives more insight:"
   ]
  },
  {
   "cell_type": "code",
   "execution_count": 902,
   "metadata": {
    "scrolled": true
   },
   "outputs": [
    {
     "data": {
      "text/html": [
       "<div>\n",
       "<style>\n",
       "    .dataframe thead tr:only-child th {\n",
       "        text-align: right;\n",
       "    }\n",
       "\n",
       "    .dataframe thead th {\n",
       "        text-align: left;\n",
       "    }\n",
       "\n",
       "    .dataframe tbody tr th {\n",
       "        vertical-align: top;\n",
       "    }\n",
       "</style>\n",
       "<table border=\"1\" class=\"dataframe\">\n",
       "  <thead>\n",
       "    <tr style=\"text-align: right;\">\n",
       "      <th></th>\n",
       "      <th>unique-iati-identifier-count</th>\n",
       "      <th>unique-implementing-org-name-count</th>\n",
       "      <th>unique-recipient-country-code-count</th>\n",
       "    </tr>\n",
       "    <tr>\n",
       "      <th>implementing-org-ref</th>\n",
       "      <th></th>\n",
       "      <th></th>\n",
       "      <th></th>\n",
       "    </tr>\n",
       "  </thead>\n",
       "  <tbody>\n",
       "    <tr>\n",
       "      <th>21009</th>\n",
       "      <td>1</td>\n",
       "      <td>1</td>\n",
       "      <td>52</td>\n",
       "    </tr>\n",
       "    <tr>\n",
       "      <th>21016</th>\n",
       "      <td>80</td>\n",
       "      <td>3</td>\n",
       "      <td>70</td>\n",
       "    </tr>\n",
       "    <tr>\n",
       "      <th>21018</th>\n",
       "      <td>41</td>\n",
       "      <td>3</td>\n",
       "      <td>39</td>\n",
       "    </tr>\n",
       "    <tr>\n",
       "      <th>21020</th>\n",
       "      <td>1</td>\n",
       "      <td>1</td>\n",
       "      <td>41</td>\n",
       "    </tr>\n",
       "    <tr>\n",
       "      <th>21023</th>\n",
       "      <td>1</td>\n",
       "      <td>1</td>\n",
       "      <td>5</td>\n",
       "    </tr>\n",
       "  </tbody>\n",
       "</table>\n",
       "</div>"
      ],
      "text/plain": [
       "                      unique-iati-identifier-count  \\\n",
       "implementing-org-ref                                 \n",
       "21009                                            1   \n",
       "21016                                           80   \n",
       "21018                                           41   \n",
       "21020                                            1   \n",
       "21023                                            1   \n",
       "\n",
       "                      unique-implementing-org-name-count  \\\n",
       "implementing-org-ref                                       \n",
       "21009                                                  1   \n",
       "21016                                                  3   \n",
       "21018                                                  3   \n",
       "21020                                                  1   \n",
       "21023                                                  1   \n",
       "\n",
       "                      unique-recipient-country-code-count  \n",
       "implementing-org-ref                                       \n",
       "21009                                                  52  \n",
       "21016                                                  70  \n",
       "21018                                                  39  \n",
       "21020                                                  41  \n",
       "21023                                                   5  "
      ]
     },
     "execution_count": 902,
     "metadata": {},
     "output_type": "execute_result"
    }
   ],
   "source": [
    "unique_countries_per_organisation = implementers_concise.pivot_table(\n",
    "    index=['implementing-org-ref'], aggfunc=lambda x: len(x.unique()))\n",
    "\n",
    "unique_countries_per_organisation.columns = [\n",
    "    'unique-iati-identifier-count', 'unique-implementing-org-name-count',\n",
    "    'unique-recipient-country-code-count'\n",
    "]\n",
    "\n",
    "unique_countries_per_organisation.head()"
   ]
  },
  {
   "cell_type": "markdown",
   "metadata": {},
   "source": [
    "If the consider the second row of this table, this tells us that the reference '21016' has been used in 80 different activities, alongside 3 different names, and has been the implementing organisation for 70 distinct recipient countries.\n",
    "\n",
    "This organisation is the ICRC - the three organisation names which have been used are as follows: "
   ]
  },
  {
   "cell_type": "code",
   "execution_count": 903,
   "metadata": {},
   "outputs": [
    {
     "name": "stdout",
     "output_type": "stream",
     "text": [
      "ICRC - International Committee of the Red Cross \n",
      "Red Cross International Aid Trust of Canada \n",
      "International Committee of the Red Cross (ICRC) Appeals via the Canadian Red Cross Society (CRCS)\n"
     ]
    }
   ],
   "source": [
    "for name in set(implementers_concise[implementers_concise[\n",
    "        'implementing-org-ref'] == '21016']['implementing-org-name']):\n",
    "    print(name)"
   ]
  },
  {
   "cell_type": "markdown",
   "metadata": {},
   "source": [
    "Following the same approach used above, let's look at the distribution of these counts:"
   ]
  },
  {
   "cell_type": "code",
   "execution_count": 904,
   "metadata": {},
   "outputs": [
    {
     "data": {
      "text/html": [
       "<div>\n",
       "<style>\n",
       "    .dataframe thead tr:only-child th {\n",
       "        text-align: right;\n",
       "    }\n",
       "\n",
       "    .dataframe thead th {\n",
       "        text-align: left;\n",
       "    }\n",
       "\n",
       "    .dataframe tbody tr th {\n",
       "        vertical-align: top;\n",
       "    }\n",
       "</style>\n",
       "<table border=\"1\" class=\"dataframe\">\n",
       "  <thead>\n",
       "    <tr style=\"text-align: right;\">\n",
       "      <th></th>\n",
       "      <th>unique-iati-identifier-count</th>\n",
       "      <th>unique-implementing-org-name-count</th>\n",
       "      <th>unique-recipient-country-code-count</th>\n",
       "    </tr>\n",
       "  </thead>\n",
       "  <tbody>\n",
       "    <tr>\n",
       "      <th>count</th>\n",
       "      <td>392.000000</td>\n",
       "      <td>392.000000</td>\n",
       "      <td>392.000000</td>\n",
       "    </tr>\n",
       "    <tr>\n",
       "      <th>mean</th>\n",
       "      <td>6.433673</td>\n",
       "      <td>1.130102</td>\n",
       "      <td>10.836735</td>\n",
       "    </tr>\n",
       "    <tr>\n",
       "      <th>std</th>\n",
       "      <td>19.229418</td>\n",
       "      <td>0.590558</td>\n",
       "      <td>20.409713</td>\n",
       "    </tr>\n",
       "    <tr>\n",
       "      <th>min</th>\n",
       "      <td>1.000000</td>\n",
       "      <td>1.000000</td>\n",
       "      <td>1.000000</td>\n",
       "    </tr>\n",
       "    <tr>\n",
       "      <th>25%</th>\n",
       "      <td>1.000000</td>\n",
       "      <td>1.000000</td>\n",
       "      <td>1.000000</td>\n",
       "    </tr>\n",
       "    <tr>\n",
       "      <th>50%</th>\n",
       "      <td>2.000000</td>\n",
       "      <td>1.000000</td>\n",
       "      <td>4.000000</td>\n",
       "    </tr>\n",
       "    <tr>\n",
       "      <th>75%</th>\n",
       "      <td>4.000000</td>\n",
       "      <td>1.000000</td>\n",
       "      <td>10.000000</td>\n",
       "    </tr>\n",
       "    <tr>\n",
       "      <th>max</th>\n",
       "      <td>240.000000</td>\n",
       "      <td>9.000000</td>\n",
       "      <td>149.000000</td>\n",
       "    </tr>\n",
       "  </tbody>\n",
       "</table>\n",
       "</div>"
      ],
      "text/plain": [
       "       unique-iati-identifier-count  unique-implementing-org-name-count  \\\n",
       "count                    392.000000                          392.000000   \n",
       "mean                       6.433673                            1.130102   \n",
       "std                       19.229418                            0.590558   \n",
       "min                        1.000000                            1.000000   \n",
       "25%                        1.000000                            1.000000   \n",
       "50%                        2.000000                            1.000000   \n",
       "75%                        4.000000                            1.000000   \n",
       "max                      240.000000                            9.000000   \n",
       "\n",
       "       unique-recipient-country-code-count  \n",
       "count                           392.000000  \n",
       "mean                             10.836735  \n",
       "std                              20.409713  \n",
       "min                               1.000000  \n",
       "25%                               1.000000  \n",
       "50%                               4.000000  \n",
       "75%                              10.000000  \n",
       "max                             149.000000  "
      ]
     },
     "execution_count": 904,
     "metadata": {},
     "output_type": "execute_result"
    }
   ],
   "source": [
    "unique_countries_per_organisation.describe()"
   ]
  },
  {
   "cell_type": "markdown",
   "metadata": {},
   "source": [
    "Looking at the recipient country code figures, we can see that the mean is 10 distinct countries, and the median is 4, with a maximum of 149. This indicates a similar distribution as before, so let's confirm with another histogram: "
   ]
  },
  {
   "cell_type": "code",
   "execution_count": 905,
   "metadata": {
    "scrolled": false
   },
   "outputs": [
    {
     "data": {
      "text/html": [
       "\n",
       "\n",
       "    <div class=\"bk-root\">\n",
       "        <div class=\"bk-plotdiv\" id=\"e3c16ba5-3c82-4b4c-9d82-0665d16297b3\"></div>\n",
       "    </div>\n",
       "<script type=\"text/javascript\">\n",
       "  \n",
       "  (function(global) {\n",
       "    function now() {\n",
       "      return new Date();\n",
       "    }\n",
       "  \n",
       "    var force = false;\n",
       "  \n",
       "    if (typeof (window._bokeh_onload_callbacks) === \"undefined\" || force === true) {\n",
       "      window._bokeh_onload_callbacks = [];\n",
       "      window._bokeh_is_loading = undefined;\n",
       "    }\n",
       "  \n",
       "  \n",
       "    \n",
       "    if (typeof (window._bokeh_timeout) === \"undefined\" || force === true) {\n",
       "      window._bokeh_timeout = Date.now() + 0;\n",
       "      window._bokeh_failed_load = false;\n",
       "    }\n",
       "  \n",
       "    var NB_LOAD_WARNING = {'data': {'text/html':\n",
       "       \"<div style='background-color: #fdd'>\\n\"+\n",
       "       \"<p>\\n\"+\n",
       "       \"BokehJS does not appear to have successfully loaded. If loading BokehJS from CDN, this \\n\"+\n",
       "       \"may be due to a slow or bad network connection. Possible fixes:\\n\"+\n",
       "       \"</p>\\n\"+\n",
       "       \"<ul>\\n\"+\n",
       "       \"<li>re-rerun `output_notebook()` to attempt to load from CDN again, or</li>\\n\"+\n",
       "       \"<li>use INLINE resources instead, as so:</li>\\n\"+\n",
       "       \"</ul>\\n\"+\n",
       "       \"<code>\\n\"+\n",
       "       \"from bokeh.resources import INLINE\\n\"+\n",
       "       \"output_notebook(resources=INLINE)\\n\"+\n",
       "       \"</code>\\n\"+\n",
       "       \"</div>\"}};\n",
       "  \n",
       "    function display_loaded() {\n",
       "      if (window.Bokeh !== undefined) {\n",
       "        var el = document.getElementById(\"e3c16ba5-3c82-4b4c-9d82-0665d16297b3\");\n",
       "        el.textContent = \"BokehJS \" + Bokeh.version + \" successfully loaded.\";\n",
       "      } else if (Date.now() < window._bokeh_timeout) {\n",
       "        setTimeout(display_loaded, 100)\n",
       "      }\n",
       "    }\n",
       "  \n",
       "    function run_callbacks() {\n",
       "      window._bokeh_onload_callbacks.forEach(function(callback) { callback() });\n",
       "      delete window._bokeh_onload_callbacks\n",
       "      console.info(\"Bokeh: all callbacks have finished\");\n",
       "    }\n",
       "  \n",
       "    function load_libs(js_urls, callback) {\n",
       "      window._bokeh_onload_callbacks.push(callback);\n",
       "      if (window._bokeh_is_loading > 0) {\n",
       "        console.log(\"Bokeh: BokehJS is being loaded, scheduling callback at\", now());\n",
       "        return null;\n",
       "      }\n",
       "      if (js_urls == null || js_urls.length === 0) {\n",
       "        run_callbacks();\n",
       "        return null;\n",
       "      }\n",
       "      console.log(\"Bokeh: BokehJS not loaded, scheduling load and callback at\", now());\n",
       "      window._bokeh_is_loading = js_urls.length;\n",
       "      for (var i = 0; i < js_urls.length; i++) {\n",
       "        var url = js_urls[i];\n",
       "        var s = document.createElement('script');\n",
       "        s.src = url;\n",
       "        s.async = false;\n",
       "        s.onreadystatechange = s.onload = function() {\n",
       "          window._bokeh_is_loading--;\n",
       "          if (window._bokeh_is_loading === 0) {\n",
       "            console.log(\"Bokeh: all BokehJS libraries loaded\");\n",
       "            run_callbacks()\n",
       "          }\n",
       "        };\n",
       "        s.onerror = function() {\n",
       "          console.warn(\"failed to load library \" + url);\n",
       "        };\n",
       "        console.log(\"Bokeh: injecting script tag for BokehJS library: \", url);\n",
       "        document.getElementsByTagName(\"head\")[0].appendChild(s);\n",
       "      }\n",
       "    };var element = document.getElementById(\"e3c16ba5-3c82-4b4c-9d82-0665d16297b3\");\n",
       "    if (element == null) {\n",
       "      console.log(\"Bokeh: ERROR: autoload.js configured with elementid 'e3c16ba5-3c82-4b4c-9d82-0665d16297b3' but no matching script tag was found. \")\n",
       "      return false;\n",
       "    }\n",
       "  \n",
       "    var js_urls = [];\n",
       "  \n",
       "    var inline_js = [\n",
       "      function(Bokeh) {\n",
       "        (function() {\n",
       "          var fn = function() {\n",
       "            var docs_json = {\"e9f36af6-5584-4a09-b12c-c1dbadf09193\":{\"roots\":{\"references\":[{\"attributes\":{\"fill_alpha\":{\"field\":\"fill_alpha\"},\"fill_color\":{\"field\":\"color\"},\"height\":{\"field\":\"height\",\"units\":\"data\"},\"line_color\":{\"field\":\"line_color\"},\"width\":{\"field\":\"width\",\"units\":\"data\"},\"x\":{\"field\":\"x\"},\"y\":{\"field\":\"y\"}},\"id\":\"50432345-d47b-4460-9734-c0108508bc35\",\"type\":\"Rect\"},{\"attributes\":{\"fill_alpha\":{\"field\":\"fill_alpha\"},\"fill_color\":{\"field\":\"color\"},\"height\":{\"field\":\"height\",\"units\":\"data\"},\"line_color\":{\"field\":\"line_color\"},\"width\":{\"field\":\"width\",\"units\":\"data\"},\"x\":{\"field\":\"x\"},\"y\":{\"field\":\"y\"}},\"id\":\"7b92a6c4-a84c-4d64-a2f0-a3142821bc0d\",\"type\":\"Rect\"},{\"attributes\":{\"callback\":null,\"column_names\":[\"x\",\"y\",\"width\",\"height\",\"color\",\"fill_alpha\",\"line_color\",\"line_alpha\",\"label\"],\"data\":{\"chart_index\":[\"(143.080000, 144.066667]\"],\"color\":[\"#f22c40\"],\"fill_alpha\":[0.8],\"height\":[0.0],\"label\":[\"(143.080000, 144.066667]\"],\"line_alpha\":[1.0],\"line_color\":[\"black\"],\"width\":[0.9866666666666504],\"x\":[\"143.5733335\"],\"y\":[0.0]}},\"id\":\"2c0b81fd-9e0d-4cb3-a058-fc585e8382e4\",\"type\":\"ColumnDataSource\"},{\"attributes\":{\"callback\":null,\"column_names\":[\"x\",\"y\",\"width\",\"height\",\"color\",\"fill_alpha\",\"line_color\",\"line_alpha\",\"label\"],\"data\":{\"chart_index\":[\"(40.466667, 41.453333]\"],\"color\":[\"#f22c40\"],\"fill_alpha\":[0.8],\"height\":[2.0],\"label\":[\"(40.466667, 41.453333]\"],\"line_alpha\":[1.0],\"line_color\":[\"black\"],\"width\":[0.9866666666666646],\"x\":[\"40.96\"],\"y\":[1.0]}},\"id\":\"b47b600f-00b1-4fe9-b53b-8ae4a5e1d811\",\"type\":\"ColumnDataSource\"},{\"attributes\":{\"fill_alpha\":{\"field\":\"fill_alpha\"},\"fill_color\":{\"field\":\"color\"},\"height\":{\"field\":\"height\",\"units\":\"data\"},\"line_color\":{\"field\":\"line_color\"},\"width\":{\"field\":\"width\",\"units\":\"data\"},\"x\":{\"field\":\"x\"},\"y\":{\"field\":\"y\"}},\"id\":\"09befa6b-a063-4841-ad9e-c26dd1ebe02d\",\"type\":\"Rect\"},{\"attributes\":{\"callback\":null,\"column_names\":[\"x\",\"y\",\"width\",\"height\",\"color\",\"fill_alpha\",\"line_color\",\"line_alpha\",\"label\"],\"data\":{\"chart_index\":[\"(41.453333, 42.440000]\"],\"color\":[\"#f22c40\"],\"fill_alpha\":[0.8],\"height\":[0.0],\"label\":[\"(41.453333, 42.440000]\"],\"line_alpha\":[1.0],\"line_color\":[\"black\"],\"width\":[0.9866666666666646],\"x\":[\"41.9466665\"],\"y\":[0.0]}},\"id\":\"a646497d-0662-4472-ac52-4af4f139dbe8\",\"type\":\"ColumnDataSource\"},{\"attributes\":{\"callback\":null,\"column_names\":[\"x\",\"y\",\"width\",\"height\",\"color\",\"fill_alpha\",\"line_color\",\"line_alpha\",\"label\"],\"data\":{\"chart_index\":[\"(142.093333, 143.080000]\"],\"color\":[\"#f22c40\"],\"fill_alpha\":[0.8],\"height\":[0.0],\"label\":[\"(142.093333, 143.080000]\"],\"line_alpha\":[1.0],\"line_color\":[\"black\"],\"width\":[0.9866666666666788],\"x\":[\"142.5866665\"],\"y\":[0.0]}},\"id\":\"c81319c6-91dc-4074-8fec-bdef18bdc6f5\",\"type\":\"ColumnDataSource\"},{\"attributes\":{\"data_source\":{\"id\":\"c81319c6-91dc-4074-8fec-bdef18bdc6f5\",\"type\":\"ColumnDataSource\"},\"glyph\":{\"id\":\"7bd9cbc3-df6d-47ea-a97c-fd66e8abf393\",\"type\":\"Rect\"},\"hover_glyph\":null,\"muted_glyph\":null},\"id\":\"3cc81baa-0667-4474-a1ca-94b912b79fc8\",\"type\":\"GlyphRenderer\"},{\"attributes\":{\"data_source\":{\"id\":\"b47b600f-00b1-4fe9-b53b-8ae4a5e1d811\",\"type\":\"ColumnDataSource\"},\"glyph\":{\"id\":\"09befa6b-a063-4841-ad9e-c26dd1ebe02d\",\"type\":\"Rect\"},\"hover_glyph\":null,\"muted_glyph\":null},\"id\":\"ca051b43-cfc0-4ce0-9630-3b0293c74e50\",\"type\":\"GlyphRenderer\"},{\"attributes\":{\"fill_alpha\":{\"field\":\"fill_alpha\"},\"fill_color\":{\"field\":\"color\"},\"height\":{\"field\":\"height\",\"units\":\"data\"},\"line_color\":{\"field\":\"line_color\"},\"width\":{\"field\":\"width\",\"units\":\"data\"},\"x\":{\"field\":\"x\"},\"y\":{\"field\":\"y\"}},\"id\":\"598dc7b9-a200-4705-858e-6a8ae1a79434\",\"type\":\"Rect\"},{\"attributes\":{\"callback\":null,\"column_names\":[\"x\",\"y\",\"width\",\"height\",\"color\",\"fill_alpha\",\"line_color\",\"line_alpha\",\"label\"],\"data\":{\"chart_index\":[\"(42.440000, 43.426667]\"],\"color\":[\"#f22c40\"],\"fill_alpha\":[0.8],\"height\":[2.0],\"label\":[\"(42.440000, 43.426667]\"],\"line_alpha\":[1.0],\"line_color\":[\"black\"],\"width\":[0.9866666666666717],\"x\":[\"42.9333335\"],\"y\":[1.0]}},\"id\":\"b8e0c24e-ef35-463a-9f82-7abfe99c56b4\",\"type\":\"ColumnDataSource\"},{\"attributes\":{\"callback\":null,\"column_names\":[\"x\",\"y\",\"width\",\"height\",\"color\",\"fill_alpha\",\"line_color\",\"line_alpha\",\"label\"],\"data\":{\"chart_index\":[\"(148.013333, 149.000000]\"],\"color\":[\"#f22c40\"],\"fill_alpha\":[0.8],\"height\":[2.0],\"label\":[\"(148.013333, 149.000000]\"],\"line_alpha\":[1.0],\"line_color\":[\"black\"],\"width\":[0.9866666666666504],\"x\":[\"148.5066665\"],\"y\":[1.0]}},\"id\":\"37b0d5ec-c15d-4505-9c42-c275de9a279d\",\"type\":\"ColumnDataSource\"},{\"attributes\":{\"fill_alpha\":{\"field\":\"fill_alpha\"},\"fill_color\":{\"field\":\"color\"},\"height\":{\"field\":\"height\",\"units\":\"data\"},\"line_color\":{\"field\":\"line_color\"},\"width\":{\"field\":\"width\",\"units\":\"data\"},\"x\":{\"field\":\"x\"},\"y\":{\"field\":\"y\"}},\"id\":\"31297815-39d9-42a2-b36b-0c6757d1cd2a\",\"type\":\"Rect\"},{\"attributes\":{\"data_source\":{\"id\":\"2c0b81fd-9e0d-4cb3-a058-fc585e8382e4\",\"type\":\"ColumnDataSource\"},\"glyph\":{\"id\":\"7b92a6c4-a84c-4d64-a2f0-a3142821bc0d\",\"type\":\"Rect\"},\"hover_glyph\":null,\"muted_glyph\":null},\"id\":\"2d7a6893-216e-4314-897f-e9a659dba755\",\"type\":\"GlyphRenderer\"},{\"attributes\":{\"callback\":null,\"column_names\":[\"x\",\"y\",\"width\",\"height\",\"color\",\"fill_alpha\",\"line_color\",\"line_alpha\",\"label\"],\"data\":{\"chart_index\":[\"(47.373333, 48.360000]\"],\"color\":[\"#f22c40\"],\"fill_alpha\":[0.8],\"height\":[1.0],\"label\":[\"(47.373333, 48.360000]\"],\"line_alpha\":[1.0],\"line_color\":[\"black\"],\"width\":[0.9866666666666646],\"x\":[\"47.8666665\"],\"y\":[0.5]}},\"id\":\"cf1c870a-d09c-43d5-84cf-5bf7c7dabfd9\",\"type\":\"ColumnDataSource\"},{\"attributes\":{\"callback\":null,\"column_names\":[\"x\",\"y\",\"width\",\"height\",\"color\",\"fill_alpha\",\"line_color\",\"line_alpha\",\"label\"],\"data\":{\"chart_index\":[\"(144.066667, 145.053333]\"],\"color\":[\"#f22c40\"],\"fill_alpha\":[0.8],\"height\":[0.0],\"label\":[\"(144.066667, 145.053333]\"],\"line_alpha\":[1.0],\"line_color\":[\"black\"],\"width\":[0.9866666666666788],\"x\":[\"144.56\"],\"y\":[0.0]}},\"id\":\"371cbfea-5d9c-442c-9337-cc37d50d4ace\",\"type\":\"ColumnDataSource\"},{\"attributes\":{\"fill_alpha\":{\"field\":\"fill_alpha\"},\"fill_color\":{\"field\":\"color\"},\"height\":{\"field\":\"height\",\"units\":\"data\"},\"line_color\":{\"field\":\"line_color\"},\"width\":{\"field\":\"width\",\"units\":\"data\"},\"x\":{\"field\":\"x\"},\"y\":{\"field\":\"y\"}},\"id\":\"2112252f-63bc-4f88-8279-07a6081c95d4\",\"type\":\"Rect\"},{\"attributes\":{\"fill_alpha\":{\"field\":\"fill_alpha\"},\"fill_color\":{\"field\":\"color\"},\"height\":{\"field\":\"height\",\"units\":\"data\"},\"line_color\":{\"field\":\"line_color\"},\"width\":{\"field\":\"width\",\"units\":\"data\"},\"x\":{\"field\":\"x\"},\"y\":{\"field\":\"y\"}},\"id\":\"8e7cb0bc-77c4-4ae6-a464-2da8af27d87c\",\"type\":\"Rect\"},{\"attributes\":{\"data_source\":{\"id\":\"a646497d-0662-4472-ac52-4af4f139dbe8\",\"type\":\"ColumnDataSource\"},\"glyph\":{\"id\":\"50432345-d47b-4460-9734-c0108508bc35\",\"type\":\"Rect\"},\"hover_glyph\":null,\"muted_glyph\":null},\"id\":\"52585591-4cb7-45ae-a066-3e38f511c292\",\"type\":\"GlyphRenderer\"},{\"attributes\":{\"fill_alpha\":{\"field\":\"fill_alpha\"},\"fill_color\":{\"field\":\"color\"},\"height\":{\"field\":\"height\",\"units\":\"data\"},\"line_color\":{\"field\":\"line_color\"},\"width\":{\"field\":\"width\",\"units\":\"data\"},\"x\":{\"field\":\"x\"},\"y\":{\"field\":\"y\"}},\"id\":\"a21f9c6a-8515-4a28-ac96-ab3ae6000bdc\",\"type\":\"Rect\"},{\"attributes\":{\"data_source\":{\"id\":\"e22152b3-e922-4606-a37e-3cdc014da98a\",\"type\":\"ColumnDataSource\"},\"glyph\":{\"id\":\"c7d63d37-590b-47ca-a76e-d39293149ddf\",\"type\":\"Rect\"},\"hover_glyph\":null,\"muted_glyph\":null},\"id\":\"dca8d83a-af6f-403c-abcc-03670b6b02b2\",\"type\":\"GlyphRenderer\"},{\"attributes\":{\"fill_alpha\":{\"field\":\"fill_alpha\"},\"fill_color\":{\"field\":\"color\"},\"height\":{\"field\":\"height\",\"units\":\"data\"},\"line_color\":{\"field\":\"line_color\"},\"width\":{\"field\":\"width\",\"units\":\"data\"},\"x\":{\"field\":\"x\"},\"y\":{\"field\":\"y\"}},\"id\":\"7474b890-c8b6-423a-b779-399128296897\",\"type\":\"Rect\"},{\"attributes\":{\"data_source\":{\"id\":\"371cbfea-5d9c-442c-9337-cc37d50d4ace\",\"type\":\"ColumnDataSource\"},\"glyph\":{\"id\":\"8e7cb0bc-77c4-4ae6-a464-2da8af27d87c\",\"type\":\"Rect\"},\"hover_glyph\":null,\"muted_glyph\":null},\"id\":\"86724283-c26b-47bc-a00e-0a7870fa448d\",\"type\":\"GlyphRenderer\"},{\"attributes\":{\"callback\":null,\"column_names\":[\"x\",\"y\",\"width\",\"height\",\"color\",\"fill_alpha\",\"line_color\",\"line_alpha\",\"label\"],\"data\":{\"chart_index\":[\"(46.386667, 47.373333]\"],\"color\":[\"#f22c40\"],\"fill_alpha\":[0.8],\"height\":[2.0],\"label\":[\"(46.386667, 47.373333]\"],\"line_alpha\":[1.0],\"line_color\":[\"black\"],\"width\":[0.9866666666666646],\"x\":[\"46.88\"],\"y\":[1.0]}},\"id\":\"8906a80e-4219-42bb-a0c4-353f7674e026\",\"type\":\"ColumnDataSource\"},{\"attributes\":{\"data_source\":{\"id\":\"53d9b8cd-d7fe-492c-89bd-bfbf58e45a54\",\"type\":\"ColumnDataSource\"},\"glyph\":{\"id\":\"7c0a4c5d-97a0-4e0b-a3b5-f01cbfdf55ba\",\"type\":\"Rect\"},\"hover_glyph\":null,\"muted_glyph\":null},\"id\":\"45a4b0b6-993f-420c-99c6-df05467cb61f\",\"type\":\"GlyphRenderer\"},{\"attributes\":{\"callback\":null,\"column_names\":[\"x\",\"y\",\"width\",\"height\",\"color\",\"fill_alpha\",\"line_color\",\"line_alpha\",\"label\"],\"data\":{\"chart_index\":[\"(147.026667, 148.013333]\"],\"color\":[\"#f22c40\"],\"fill_alpha\":[0.8],\"height\":[0.0],\"label\":[\"(147.026667, 148.013333]\"],\"line_alpha\":[1.0],\"line_color\":[\"black\"],\"width\":[0.9866666666666788],\"x\":[\"147.51999999999998\"],\"y\":[0.0]}},\"id\":\"447384ca-fd1a-43d3-9044-5d3b35fcf59c\",\"type\":\"ColumnDataSource\"},{\"attributes\":{\"data_source\":{\"id\":\"b8e0c24e-ef35-463a-9f82-7abfe99c56b4\",\"type\":\"ColumnDataSource\"},\"glyph\":{\"id\":\"598dc7b9-a200-4705-858e-6a8ae1a79434\",\"type\":\"Rect\"},\"hover_glyph\":null,\"muted_glyph\":null},\"id\":\"8c5625f5-35de-400b-a950-de685c169543\",\"type\":\"GlyphRenderer\"},{\"attributes\":{\"callback\":null,\"column_names\":[\"x\",\"y\",\"width\",\"height\",\"color\",\"fill_alpha\",\"line_color\",\"line_alpha\",\"label\"],\"data\":{\"chart_index\":[\"(146.040000, 147.026667]\"],\"color\":[\"#f22c40\"],\"fill_alpha\":[0.8],\"height\":[0.0],\"label\":[\"(146.040000, 147.026667]\"],\"line_alpha\":[1.0],\"line_color\":[\"black\"],\"width\":[0.9866666666666788],\"x\":[\"146.5333335\"],\"y\":[0.0]}},\"id\":\"e22152b3-e922-4606-a37e-3cdc014da98a\",\"type\":\"ColumnDataSource\"},{\"attributes\":{\"callback\":null,\"column_names\":[\"x\",\"y\",\"width\",\"height\",\"color\",\"fill_alpha\",\"line_color\",\"line_alpha\",\"label\"],\"data\":{\"chart_index\":[\"(43.426667, 44.413333]\"],\"color\":[\"#f22c40\"],\"fill_alpha\":[0.8],\"height\":[0.0],\"label\":[\"(43.426667, 44.413333]\"],\"line_alpha\":[1.0],\"line_color\":[\"black\"],\"width\":[0.9866666666666646],\"x\":[\"43.92\"],\"y\":[0.0]}},\"id\":\"215c6d5a-3328-4774-9010-4549f48e61be\",\"type\":\"ColumnDataSource\"},{\"attributes\":{\"fill_alpha\":{\"field\":\"fill_alpha\"},\"fill_color\":{\"field\":\"color\"},\"height\":{\"field\":\"height\",\"units\":\"data\"},\"line_color\":{\"field\":\"line_color\"},\"width\":{\"field\":\"width\",\"units\":\"data\"},\"x\":{\"field\":\"x\"},\"y\":{\"field\":\"y\"}},\"id\":\"1fbc4af3-ccfe-410e-9d14-0d5c65bab5f9\",\"type\":\"Rect\"},{\"attributes\":{\"callback\":null,\"column_names\":[\"x\",\"y\",\"width\",\"height\",\"color\",\"fill_alpha\",\"line_color\",\"line_alpha\",\"label\"],\"data\":{\"chart_index\":[\"(45.400000, 46.386667]\"],\"color\":[\"#f22c40\"],\"fill_alpha\":[0.8],\"height\":[0.0],\"label\":[\"(45.400000, 46.386667]\"],\"line_alpha\":[1.0],\"line_color\":[\"black\"],\"width\":[0.9866666666666717],\"x\":[\"45.8933335\"],\"y\":[0.0]}},\"id\":\"53d9b8cd-d7fe-492c-89bd-bfbf58e45a54\",\"type\":\"ColumnDataSource\"},{\"attributes\":{\"data_source\":{\"id\":\"447384ca-fd1a-43d3-9044-5d3b35fcf59c\",\"type\":\"ColumnDataSource\"},\"glyph\":{\"id\":\"7474b890-c8b6-423a-b779-399128296897\",\"type\":\"Rect\"},\"hover_glyph\":null,\"muted_glyph\":null},\"id\":\"f984587b-d5d8-44fb-9fa4-344986f71d07\",\"type\":\"GlyphRenderer\"},{\"attributes\":{\"data_source\":{\"id\":\"215c6d5a-3328-4774-9010-4549f48e61be\",\"type\":\"ColumnDataSource\"},\"glyph\":{\"id\":\"1fbc4af3-ccfe-410e-9d14-0d5c65bab5f9\",\"type\":\"Rect\"},\"hover_glyph\":null,\"muted_glyph\":null},\"id\":\"0f10ec3e-5ced-459f-99b5-2cafc5d4e3a4\",\"type\":\"GlyphRenderer\"},{\"attributes\":{\"fill_alpha\":{\"field\":\"fill_alpha\"},\"fill_color\":{\"field\":\"color\"},\"height\":{\"field\":\"height\",\"units\":\"data\"},\"line_color\":{\"field\":\"line_color\"},\"width\":{\"field\":\"width\",\"units\":\"data\"},\"x\":{\"field\":\"x\"},\"y\":{\"field\":\"y\"}},\"id\":\"5eef03e5-58f8-4f91-9367-30f649b19d6f\",\"type\":\"Rect\"},{\"attributes\":{\"axis_label\":\"unique-recipient-country-code-count\",\"formatter\":{\"id\":\"fc0efd95-20ca-4d20-9fe4-6fd12ec90f1e\",\"type\":\"BasicTickFormatter\"},\"plot\":{\"id\":\"f42fec9d-f593-4007-b93a-0da4dcfc48cd\",\"subtype\":\"Chart\",\"type\":\"Plot\"},\"ticker\":{\"id\":\"7ac34758-2e4e-41e5-b14a-c002f9de1b20\",\"type\":\"BasicTicker\"}},\"id\":\"80c80362-0c29-4fb0-ad58-b6c765a45835\",\"type\":\"LinearAxis\"},{\"attributes\":{\"data_source\":{\"id\":\"b2e6a628-c178-4c7e-a74b-f934263e4f42\",\"type\":\"ColumnDataSource\"},\"glyph\":{\"id\":\"89875fe7-a8ca-4fb0-bc93-1a09c48875cf\",\"type\":\"Rect\"},\"hover_glyph\":null,\"muted_glyph\":null},\"id\":\"e43628d5-658c-47a3-8e15-bcc088786e2a\",\"type\":\"GlyphRenderer\"},{\"attributes\":{\"data_source\":{\"id\":\"37b0d5ec-c15d-4505-9c42-c275de9a279d\",\"type\":\"ColumnDataSource\"},\"glyph\":{\"id\":\"31297815-39d9-42a2-b36b-0c6757d1cd2a\",\"type\":\"Rect\"},\"hover_glyph\":null,\"muted_glyph\":null},\"id\":\"abd7f68a-f501-45bd-94ce-ce7b06147ee5\",\"type\":\"GlyphRenderer\"},{\"attributes\":{\"axis_label\":\"Count( Unique-Recipient-Country-Code-Count )\",\"formatter\":{\"id\":\"29710c41-ffed-4b46-ae12-08fff1336507\",\"type\":\"BasicTickFormatter\"},\"plot\":{\"id\":\"f42fec9d-f593-4007-b93a-0da4dcfc48cd\",\"subtype\":\"Chart\",\"type\":\"Plot\"},\"ticker\":{\"id\":\"e73d4a63-35fc-4682-ae5b-b2e775fe7d84\",\"type\":\"BasicTicker\"}},\"id\":\"d3a61cc8-824c-4ed5-ba09-2d8f3bf28b72\",\"type\":\"LinearAxis\"},{\"attributes\":{\"data_source\":{\"id\":\"5c810ac5-20ad-455d-a854-f8d9a6593460\",\"type\":\"ColumnDataSource\"},\"glyph\":{\"id\":\"2c31b7df-73a3-4461-abaf-59dc1918b3a1\",\"type\":\"Rect\"},\"hover_glyph\":null,\"muted_glyph\":null},\"id\":\"8a3e2e96-4a20-42cf-aed9-58fd007071ba\",\"type\":\"GlyphRenderer\"},{\"attributes\":{},\"id\":\"e73d4a63-35fc-4682-ae5b-b2e775fe7d84\",\"type\":\"BasicTicker\"},{\"attributes\":{\"fill_alpha\":{\"field\":\"fill_alpha\"},\"fill_color\":{\"field\":\"color\"},\"height\":{\"field\":\"height\",\"units\":\"data\"},\"line_color\":{\"field\":\"line_color\"},\"width\":{\"field\":\"width\",\"units\":\"data\"},\"x\":{\"field\":\"x\"},\"y\":{\"field\":\"y\"}},\"id\":\"07d28621-eedf-4db6-923e-0e707ecc2472\",\"type\":\"Rect\"},{\"attributes\":{\"data_source\":{\"id\":\"8906a80e-4219-42bb-a0c4-353f7674e026\",\"type\":\"ColumnDataSource\"},\"glyph\":{\"id\":\"2112252f-63bc-4f88-8279-07a6081c95d4\",\"type\":\"Rect\"},\"hover_glyph\":null,\"muted_glyph\":null},\"id\":\"faef9e93-97d1-4555-9f80-ac3b099fa6a0\",\"type\":\"GlyphRenderer\"},{\"attributes\":{\"dimension\":1,\"plot\":{\"id\":\"f42fec9d-f593-4007-b93a-0da4dcfc48cd\",\"subtype\":\"Chart\",\"type\":\"Plot\"},\"ticker\":{\"id\":\"e73d4a63-35fc-4682-ae5b-b2e775fe7d84\",\"type\":\"BasicTicker\"}},\"id\":\"4d537f19-9475-4c41-9d09-5a374f47edcb\",\"type\":\"Grid\"},{\"attributes\":{\"fill_alpha\":{\"field\":\"fill_alpha\"},\"fill_color\":{\"field\":\"color\"},\"height\":{\"field\":\"height\",\"units\":\"data\"},\"line_color\":{\"field\":\"line_color\"},\"width\":{\"field\":\"width\",\"units\":\"data\"},\"x\":{\"field\":\"x\"},\"y\":{\"field\":\"y\"}},\"id\":\"384f39b5-b1d0-4d1a-a24d-b51434d7aefe\",\"type\":\"Rect\"},{\"attributes\":{\"callback\":null,\"column_names\":[\"x\",\"y\",\"width\",\"height\",\"color\",\"fill_alpha\",\"line_color\",\"line_alpha\",\"label\"],\"data\":{\"chart_index\":[\"(48.360000, 49.346667]\"],\"color\":[\"#f22c40\"],\"fill_alpha\":[0.8],\"height\":[0.0],\"label\":[\"(48.360000, 49.346667]\"],\"line_alpha\":[1.0],\"line_color\":[\"black\"],\"width\":[0.9866666666666717],\"x\":[\"48.8533335\"],\"y\":[0.0]}},\"id\":\"0f6ab080-3eb9-408e-a99d-d6a0460d8da2\",\"type\":\"ColumnDataSource\"},{\"attributes\":{\"callback\":null,\"column_names\":[\"x\",\"y\",\"width\",\"height\",\"color\",\"fill_alpha\",\"line_color\",\"line_alpha\",\"label\"],\"data\":{\"chart_index\":[\"(52.306667, 53.293333]\"],\"color\":[\"#f22c40\"],\"fill_alpha\":[0.8],\"height\":[1.0],\"label\":[\"(52.306667, 53.293333]\"],\"line_alpha\":[1.0],\"line_color\":[\"black\"],\"width\":[0.9866666666666717],\"x\":[\"52.8\"],\"y\":[0.5]}},\"id\":\"5c810ac5-20ad-455d-a854-f8d9a6593460\",\"type\":\"ColumnDataSource\"},{\"attributes\":{\"data_source\":{\"id\":\"cf1c870a-d09c-43d5-84cf-5bf7c7dabfd9\",\"type\":\"ColumnDataSource\"},\"glyph\":{\"id\":\"5eef03e5-58f8-4f91-9367-30f649b19d6f\",\"type\":\"Rect\"},\"hover_glyph\":null,\"muted_glyph\":null},\"id\":\"398b3a88-c7d7-402a-b574-a89523b4b23d\",\"type\":\"GlyphRenderer\"},{\"attributes\":{\"callback\":null,\"column_names\":[\"x\",\"y\",\"width\",\"height\",\"color\",\"fill_alpha\",\"line_color\",\"line_alpha\",\"label\"],\"data\":{\"chart_index\":[\"(59.213333, 60.200000]\"],\"color\":[\"#f22c40\"],\"fill_alpha\":[0.8],\"height\":[0.0],\"label\":[\"(59.213333, 60.200000]\"],\"line_alpha\":[1.0],\"line_color\":[\"black\"],\"width\":[0.9866666666666646],\"x\":[\"59.7066665\"],\"y\":[0.0]}},\"id\":\"ed4dff0e-1290-4b0a-8dc2-d8f16b730214\",\"type\":\"ColumnDataSource\"},{\"attributes\":{\"data_source\":{\"id\":\"0f6ab080-3eb9-408e-a99d-d6a0460d8da2\",\"type\":\"ColumnDataSource\"},\"glyph\":{\"id\":\"384f39b5-b1d0-4d1a-a24d-b51434d7aefe\",\"type\":\"Rect\"},\"hover_glyph\":null,\"muted_glyph\":null},\"id\":\"b6073658-0a2c-4bf9-ab70-e659e4529693\",\"type\":\"GlyphRenderer\"},{\"attributes\":{\"callback\":null,\"column_names\":[\"x\",\"y\",\"width\",\"height\",\"color\",\"fill_alpha\",\"line_color\",\"line_alpha\",\"label\"],\"data\":{\"chart_index\":[\"(49.346667, 50.333333]\"],\"color\":[\"#f22c40\"],\"fill_alpha\":[0.8],\"height\":[1.0],\"label\":[\"(49.346667, 50.333333]\"],\"line_alpha\":[1.0],\"line_color\":[\"black\"],\"width\":[0.9866666666666646],\"x\":[\"49.84\"],\"y\":[0.5]}},\"id\":\"d0030125-f8e8-4ef2-9439-9d08ac023836\",\"type\":\"ColumnDataSource\"},{\"attributes\":{\"fill_alpha\":{\"field\":\"fill_alpha\"},\"fill_color\":{\"field\":\"color\"},\"height\":{\"field\":\"height\",\"units\":\"data\"},\"line_color\":{\"field\":\"line_color\"},\"width\":{\"field\":\"width\",\"units\":\"data\"},\"x\":{\"field\":\"x\"},\"y\":{\"field\":\"y\"}},\"id\":\"3b4a496d-9800-434d-b71b-043baccc34dd\",\"type\":\"Rect\"},{\"attributes\":{\"fill_alpha\":{\"field\":\"fill_alpha\"},\"fill_color\":{\"field\":\"color\"},\"height\":{\"field\":\"height\",\"units\":\"data\"},\"line_color\":{\"field\":\"line_color\"},\"width\":{\"field\":\"width\",\"units\":\"data\"},\"x\":{\"field\":\"x\"},\"y\":{\"field\":\"y\"}},\"id\":\"5dba3ea6-4a63-469b-9e66-2ed660994df3\",\"type\":\"Rect\"},{\"attributes\":{},\"id\":\"7ac34758-2e4e-41e5-b14a-c002f9de1b20\",\"type\":\"BasicTicker\"},{\"attributes\":{},\"id\":\"fc0efd95-20ca-4d20-9fe4-6fd12ec90f1e\",\"type\":\"BasicTickFormatter\"},{\"attributes\":{},\"id\":\"29710c41-ffed-4b46-ae12-08fff1336507\",\"type\":\"BasicTickFormatter\"},{\"attributes\":{\"fill_alpha\":{\"field\":\"fill_alpha\"},\"fill_color\":{\"field\":\"color\"},\"height\":{\"field\":\"height\",\"units\":\"data\"},\"line_color\":{\"field\":\"line_color\"},\"width\":{\"field\":\"width\",\"units\":\"data\"},\"x\":{\"field\":\"x\"},\"y\":{\"field\":\"y\"}},\"id\":\"2c31b7df-73a3-4461-abaf-59dc1918b3a1\",\"type\":\"Rect\"},{\"attributes\":{\"data_source\":{\"id\":\"d0030125-f8e8-4ef2-9439-9d08ac023836\",\"type\":\"ColumnDataSource\"},\"glyph\":{\"id\":\"3b4a496d-9800-434d-b71b-043baccc34dd\",\"type\":\"Rect\"},\"hover_glyph\":null,\"muted_glyph\":null},\"id\":\"5ad805c7-35e1-42e8-b5ec-f5f0a70d8566\",\"type\":\"GlyphRenderer\"},{\"attributes\":{\"fill_alpha\":{\"field\":\"fill_alpha\"},\"fill_color\":{\"field\":\"color\"},\"height\":{\"field\":\"height\",\"units\":\"data\"},\"line_color\":{\"field\":\"line_color\"},\"width\":{\"field\":\"width\",\"units\":\"data\"},\"x\":{\"field\":\"x\"},\"y\":{\"field\":\"y\"}},\"id\":\"d9dd9436-ff83-468d-9e2c-6074d6180b7b\",\"type\":\"Rect\"},{\"attributes\":{\"fill_alpha\":{\"field\":\"fill_alpha\"},\"fill_color\":{\"field\":\"color\"},\"height\":{\"field\":\"height\",\"units\":\"data\"},\"line_color\":{\"field\":\"line_color\"},\"width\":{\"field\":\"width\",\"units\":\"data\"},\"x\":{\"field\":\"x\"},\"y\":{\"field\":\"y\"}},\"id\":\"904f193c-f737-49e9-beb0-5410a6857eba\",\"type\":\"Rect\"},{\"attributes\":{\"callback\":null,\"column_names\":[\"x\",\"y\",\"width\",\"height\",\"color\",\"fill_alpha\",\"line_color\",\"line_alpha\",\"label\"],\"data\":{\"chart_index\":[\"(63.160000, 64.146667]\"],\"color\":[\"#f22c40\"],\"fill_alpha\":[0.8],\"height\":[1.0],\"label\":[\"(63.160000, 64.146667]\"],\"line_alpha\":[1.0],\"line_color\":[\"black\"],\"width\":[0.9866666666666717],\"x\":[\"63.653333499999995\"],\"y\":[0.5]}},\"id\":\"14e2a332-d945-4433-a19d-c03d36bac80b\",\"type\":\"ColumnDataSource\"},{\"attributes\":{\"callback\":null,\"column_names\":[\"x\",\"y\",\"width\",\"height\",\"color\",\"fill_alpha\",\"line_color\",\"line_alpha\",\"label\"],\"data\":{\"chart_index\":[\"(84.866667, 85.853333]\"],\"color\":[\"#f22c40\"],\"fill_alpha\":[0.8],\"height\":[0.0],\"label\":[\"(84.866667, 85.853333]\"],\"line_alpha\":[1.0],\"line_color\":[\"black\"],\"width\":[0.9866666666666646],\"x\":[\"85.36000000000001\"],\"y\":[0.0]}},\"id\":\"97ec3e90-8833-4798-be7d-af8094d66ada\",\"type\":\"ColumnDataSource\"},{\"attributes\":{\"fill_alpha\":{\"field\":\"fill_alpha\"},\"fill_color\":{\"field\":\"color\"},\"height\":{\"field\":\"height\",\"units\":\"data\"},\"line_color\":{\"field\":\"line_color\"},\"width\":{\"field\":\"width\",\"units\":\"data\"},\"x\":{\"field\":\"x\"},\"y\":{\"field\":\"y\"}},\"id\":\"697e7211-2d0a-4e3c-803d-1f6bdba75100\",\"type\":\"Rect\"},{\"attributes\":{\"callback\":null,\"column_names\":[\"x\",\"y\",\"width\",\"height\",\"color\",\"fill_alpha\",\"line_color\",\"line_alpha\",\"label\"],\"data\":{\"chart_index\":[\"(85.853333, 86.840000]\"],\"color\":[\"#f22c40\"],\"fill_alpha\":[0.8],\"height\":[0.0],\"label\":[\"(85.853333, 86.840000]\"],\"line_alpha\":[1.0],\"line_color\":[\"black\"],\"width\":[0.9866666666666646],\"x\":[\"86.3466665\"],\"y\":[0.0]}},\"id\":\"00b690d3-c515-4970-9b14-56fd6ead70eb\",\"type\":\"ColumnDataSource\"},{\"attributes\":{\"callback\":null,\"column_names\":[\"x\",\"y\",\"width\",\"height\",\"color\",\"fill_alpha\",\"line_color\",\"line_alpha\",\"label\"],\"data\":{\"chart_index\":[\"(69.080000, 70.066667]\"],\"color\":[\"#f22c40\"],\"fill_alpha\":[0.8],\"height\":[1.0],\"label\":[\"(69.080000, 70.066667]\"],\"line_alpha\":[1.0],\"line_color\":[\"black\"],\"width\":[0.9866666666666646],\"x\":[\"69.57333349999999\"],\"y\":[0.5]}},\"id\":\"483efdcf-6c36-4600-8d76-f7b31254bd76\",\"type\":\"ColumnDataSource\"},{\"attributes\":{\"callback\":null,\"column_names\":[\"x\",\"y\",\"width\",\"height\",\"color\",\"fill_alpha\",\"line_color\",\"line_alpha\",\"label\"],\"data\":{\"chart_index\":[\"(62.173333, 63.160000]\"],\"color\":[\"#f22c40\"],\"fill_alpha\":[0.8],\"height\":[0.0],\"label\":[\"(62.173333, 63.160000]\"],\"line_alpha\":[1.0],\"line_color\":[\"black\"],\"width\":[0.9866666666666717],\"x\":[\"62.6666665\"],\"y\":[0.0]}},\"id\":\"633f81a8-f174-43b5-9585-905abcda4d92\",\"type\":\"ColumnDataSource\"},{\"attributes\":{\"data_source\":{\"id\":\"633f81a8-f174-43b5-9585-905abcda4d92\",\"type\":\"ColumnDataSource\"},\"glyph\":{\"id\":\"9e700bfc-9427-4177-9ed3-a7d93ab7f3a4\",\"type\":\"Rect\"},\"hover_glyph\":null,\"muted_glyph\":null},\"id\":\"9ebea603-98bd-48d1-b67b-b7e34fc874a6\",\"type\":\"GlyphRenderer\"},{\"attributes\":{\"fill_alpha\":{\"field\":\"fill_alpha\"},\"fill_color\":{\"field\":\"color\"},\"height\":{\"field\":\"height\",\"units\":\"data\"},\"line_color\":{\"field\":\"line_color\"},\"width\":{\"field\":\"width\",\"units\":\"data\"},\"x\":{\"field\":\"x\"},\"y\":{\"field\":\"y\"}},\"id\":\"db738c5d-fdff-49e4-91dc-7a878a355d4e\",\"type\":\"Rect\"},{\"attributes\":{\"data_source\":{\"id\":\"8707acaf-30f7-46fa-812c-5de4abd9040b\",\"type\":\"ColumnDataSource\"},\"glyph\":{\"id\":\"25d675d3-c6ff-4386-a809-3747eebdf104\",\"type\":\"Rect\"},\"hover_glyph\":null,\"muted_glyph\":null},\"id\":\"2abbad4a-ea6f-4a26-bc8a-2ffabc8b1848\",\"type\":\"GlyphRenderer\"},{\"attributes\":{\"fill_alpha\":{\"field\":\"fill_alpha\"},\"fill_color\":{\"field\":\"color\"},\"height\":{\"field\":\"height\",\"units\":\"data\"},\"line_color\":{\"field\":\"line_color\"},\"width\":{\"field\":\"width\",\"units\":\"data\"},\"x\":{\"field\":\"x\"},\"y\":{\"field\":\"y\"}},\"id\":\"ff15aec5-b46c-4851-9990-9301831ddac9\",\"type\":\"Rect\"},{\"attributes\":{\"callback\":null,\"end\":119.9},\"id\":\"d0a0c9d1-9349-4325-bb45-f56e82a7be7a\",\"type\":\"Range1d\"},{\"attributes\":{\"data_source\":{\"id\":\"97ec3e90-8833-4798-be7d-af8094d66ada\",\"type\":\"ColumnDataSource\"},\"glyph\":{\"id\":\"904f193c-f737-49e9-beb0-5410a6857eba\",\"type\":\"Rect\"},\"hover_glyph\":null,\"muted_glyph\":null},\"id\":\"ed9f757a-4bdd-4122-84cc-fafda190ec3e\",\"type\":\"GlyphRenderer\"},{\"attributes\":{\"callback\":null,\"column_names\":[\"x\",\"y\",\"width\",\"height\",\"color\",\"fill_alpha\",\"line_color\",\"line_alpha\",\"label\"],\"data\":{\"chart_index\":[\"(64.146667, 65.133333]\"],\"color\":[\"#f22c40\"],\"fill_alpha\":[0.8],\"height\":[0.0],\"label\":[\"(64.146667, 65.133333]\"],\"line_alpha\":[1.0],\"line_color\":[\"black\"],\"width\":[0.9866666666666646],\"x\":[\"64.63999999999999\"],\"y\":[0.0]}},\"id\":\"0297a084-3f7f-4777-85e7-3ee78019041e\",\"type\":\"ColumnDataSource\"},{\"attributes\":{\"fill_alpha\":{\"field\":\"fill_alpha\"},\"fill_color\":{\"field\":\"color\"},\"height\":{\"field\":\"height\",\"units\":\"data\"},\"line_color\":{\"field\":\"line_color\"},\"width\":{\"field\":\"width\",\"units\":\"data\"},\"x\":{\"field\":\"x\"},\"y\":{\"field\":\"y\"}},\"id\":\"77d1d21d-422e-465b-8844-335cfdd6098c\",\"type\":\"Rect\"},{\"attributes\":{\"callback\":null,\"column_names\":[\"x\",\"y\",\"width\",\"height\",\"color\",\"fill_alpha\",\"line_color\",\"line_alpha\",\"label\"],\"data\":{\"chart_index\":[\"(86.840000, 87.826667]\"],\"color\":[\"#f22c40\"],\"fill_alpha\":[0.8],\"height\":[0.0],\"label\":[\"(86.840000, 87.826667]\"],\"line_alpha\":[1.0],\"line_color\":[\"black\"],\"width\":[0.9866666666666646],\"x\":[\"87.33333350000001\"],\"y\":[0.0]}},\"id\":\"4647df91-9281-4934-ba74-ae2e0389462f\",\"type\":\"ColumnDataSource\"},{\"attributes\":{\"fill_alpha\":{\"field\":\"fill_alpha\"},\"fill_color\":{\"field\":\"color\"},\"height\":{\"field\":\"height\",\"units\":\"data\"},\"line_color\":{\"field\":\"line_color\"},\"width\":{\"field\":\"width\",\"units\":\"data\"},\"x\":{\"field\":\"x\"},\"y\":{\"field\":\"y\"}},\"id\":\"6002f3fd-cdfb-490b-8427-582fc8a53ad4\",\"type\":\"Rect\"},{\"attributes\":{\"data_source\":{\"id\":\"4d8e5ea6-71a7-4cd8-9563-91df69a69e42\",\"type\":\"ColumnDataSource\"},\"glyph\":{\"id\":\"e26fa714-7cec-40c6-9ee7-7565fc8e3a6b\",\"type\":\"Rect\"},\"hover_glyph\":null,\"muted_glyph\":null},\"id\":\"c7db6272-0296-4d14-8400-eb670c75eb8c\",\"type\":\"GlyphRenderer\"},{\"attributes\":{\"data_source\":{\"id\":\"14e2a332-d945-4433-a19d-c03d36bac80b\",\"type\":\"ColumnDataSource\"},\"glyph\":{\"id\":\"d9dd9436-ff83-468d-9e2c-6074d6180b7b\",\"type\":\"Rect\"},\"hover_glyph\":null,\"muted_glyph\":null},\"id\":\"3fd80b1f-df99-45a8-8805-5cd48be3dd88\",\"type\":\"GlyphRenderer\"},{\"attributes\":{\"callback\":null,\"column_names\":[\"x\",\"y\",\"width\",\"height\",\"color\",\"fill_alpha\",\"line_color\",\"line_alpha\",\"label\"],\"data\":{\"chart_index\":[\"(88.813333, 89.800000]\"],\"color\":[\"#f22c40\"],\"fill_alpha\":[0.8],\"height\":[0.0],\"label\":[\"(88.813333, 89.800000]\"],\"line_alpha\":[1.0],\"line_color\":[\"black\"],\"width\":[0.9866666666666646],\"x\":[\"89.3066665\"],\"y\":[0.0]}},\"id\":\"8707acaf-30f7-46fa-812c-5de4abd9040b\",\"type\":\"ColumnDataSource\"},{\"attributes\":{\"data_source\":{\"id\":\"a9369476-572d-4064-8424-c292ad655661\",\"type\":\"ColumnDataSource\"},\"glyph\":{\"id\":\"ce0bff8a-9744-4ee7-b733-f94632e90f17\",\"type\":\"Rect\"},\"hover_glyph\":null,\"muted_glyph\":null},\"id\":\"69e53d77-2db1-4f7e-9185-5452e3c69dff\",\"type\":\"GlyphRenderer\"},{\"attributes\":{\"fill_alpha\":{\"field\":\"fill_alpha\"},\"fill_color\":{\"field\":\"color\"},\"height\":{\"field\":\"height\",\"units\":\"data\"},\"line_color\":{\"field\":\"line_color\"},\"width\":{\"field\":\"width\",\"units\":\"data\"},\"x\":{\"field\":\"x\"},\"y\":{\"field\":\"y\"}},\"id\":\"1fecfb52-4e9a-4da2-b064-549e17940937\",\"type\":\"Rect\"},{\"attributes\":{\"data_source\":{\"id\":\"00b690d3-c515-4970-9b14-56fd6ead70eb\",\"type\":\"ColumnDataSource\"},\"glyph\":{\"id\":\"697e7211-2d0a-4e3c-803d-1f6bdba75100\",\"type\":\"Rect\"},\"hover_glyph\":null,\"muted_glyph\":null},\"id\":\"78bfc6ed-bad1-4999-97be-4bb44e63ad87\",\"type\":\"GlyphRenderer\"},{\"attributes\":{\"callback\":null,\"column_names\":[\"x\",\"y\",\"width\",\"height\",\"color\",\"fill_alpha\",\"line_color\",\"line_alpha\",\"label\"],\"data\":{\"chart_index\":[\"(65.133333, 66.120000]\"],\"color\":[\"#f22c40\"],\"fill_alpha\":[0.8],\"height\":[0.0],\"label\":[\"(65.133333, 66.120000]\"],\"line_alpha\":[1.0],\"line_color\":[\"black\"],\"width\":[0.9866666666666646],\"x\":[\"65.6266665\"],\"y\":[0.0]}},\"id\":\"9f42636d-e2ee-410d-a7a1-ee127ef71fc8\",\"type\":\"ColumnDataSource\"},{\"attributes\":{\"callback\":null,\"column_names\":[\"x\",\"y\",\"width\",\"height\",\"color\",\"fill_alpha\",\"line_color\",\"line_alpha\",\"label\"],\"data\":{\"chart_index\":[\"(74.013333, 75.000000]\"],\"color\":[\"#f22c40\"],\"fill_alpha\":[0.8],\"height\":[0.0],\"label\":[\"(74.013333, 75.000000]\"],\"line_alpha\":[1.0],\"line_color\":[\"black\"],\"width\":[0.9866666666666646],\"x\":[\"74.5066665\"],\"y\":[0.0]}},\"id\":\"af3d47e1-0400-4211-b81e-cb73ebf7b706\",\"type\":\"ColumnDataSource\"},{\"attributes\":{\"data_source\":{\"id\":\"0297a084-3f7f-4777-85e7-3ee78019041e\",\"type\":\"ColumnDataSource\"},\"glyph\":{\"id\":\"ff15aec5-b46c-4851-9990-9301831ddac9\",\"type\":\"Rect\"},\"hover_glyph\":null,\"muted_glyph\":null},\"id\":\"c7b62845-54f1-4051-9721-a2a91ee376fc\",\"type\":\"GlyphRenderer\"},{\"attributes\":{\"data_source\":{\"id\":\"4647df91-9281-4934-ba74-ae2e0389462f\",\"type\":\"ColumnDataSource\"},\"glyph\":{\"id\":\"77d1d21d-422e-465b-8844-335cfdd6098c\",\"type\":\"Rect\"},\"hover_glyph\":null,\"muted_glyph\":null},\"id\":\"23c65e53-b52d-482a-86c1-423ea47fc69d\",\"type\":\"GlyphRenderer\"},{\"attributes\":{\"callback\":null,\"column_names\":[\"x\",\"y\",\"width\",\"height\",\"color\",\"fill_alpha\",\"line_color\",\"line_alpha\",\"label\"],\"data\":{\"chart_index\":[\"(68.093333, 69.080000]\"],\"color\":[\"#f22c40\"],\"fill_alpha\":[0.8],\"height\":[0.0],\"label\":[\"(68.093333, 69.080000]\"],\"line_alpha\":[1.0],\"line_color\":[\"black\"],\"width\":[0.9866666666666646],\"x\":[\"68.5866665\"],\"y\":[0.0]}},\"id\":\"0f588907-7f52-4fdc-acae-ad889cad5d32\",\"type\":\"ColumnDataSource\"},{\"attributes\":{\"callback\":null,\"column_names\":[\"x\",\"y\",\"width\",\"height\",\"color\",\"fill_alpha\",\"line_color\",\"line_alpha\",\"label\"],\"data\":{\"chart_index\":[\"(89.800000, 90.786667]\"],\"color\":[\"#f22c40\"],\"fill_alpha\":[0.8],\"height\":[0.0],\"label\":[\"(89.800000, 90.786667]\"],\"line_alpha\":[1.0],\"line_color\":[\"black\"],\"width\":[0.9866666666666788],\"x\":[\"90.29333349999999\"],\"y\":[0.0]}},\"id\":\"ba4f2f81-a283-4109-94bb-24991226b632\",\"type\":\"ColumnDataSource\"},{\"attributes\":{\"callback\":null,\"column_names\":[\"x\",\"y\",\"width\",\"height\",\"color\",\"fill_alpha\",\"line_color\",\"line_alpha\",\"label\"],\"data\":{\"chart_index\":[\"(67.106667, 68.093333]\"],\"color\":[\"#f22c40\"],\"fill_alpha\":[0.8],\"height\":[1.0],\"label\":[\"(67.106667, 68.093333]\"],\"line_alpha\":[1.0],\"line_color\":[\"black\"],\"width\":[0.9866666666666646],\"x\":[\"67.6\"],\"y\":[0.5]}},\"id\":\"4d8e5ea6-71a7-4cd8-9563-91df69a69e42\",\"type\":\"ColumnDataSource\"},{\"attributes\":{\"data_source\":{\"id\":\"9f42636d-e2ee-410d-a7a1-ee127ef71fc8\",\"type\":\"ColumnDataSource\"},\"glyph\":{\"id\":\"1fecfb52-4e9a-4da2-b064-549e17940937\",\"type\":\"Rect\"},\"hover_glyph\":null,\"muted_glyph\":null},\"id\":\"55f1904e-31fe-4520-88c4-d40441cfa80f\",\"type\":\"GlyphRenderer\"},{\"attributes\":{\"fill_alpha\":{\"field\":\"fill_alpha\"},\"fill_color\":{\"field\":\"color\"},\"height\":{\"field\":\"height\",\"units\":\"data\"},\"line_color\":{\"field\":\"line_color\"},\"width\":{\"field\":\"width\",\"units\":\"data\"},\"x\":{\"field\":\"x\"},\"y\":{\"field\":\"y\"}},\"id\":\"696f9154-79ae-4adc-b555-ef613b74c8e0\",\"type\":\"Rect\"},{\"attributes\":{\"fill_alpha\":{\"field\":\"fill_alpha\"},\"fill_color\":{\"field\":\"color\"},\"height\":{\"field\":\"height\",\"units\":\"data\"},\"line_color\":{\"field\":\"line_color\"},\"width\":{\"field\":\"width\",\"units\":\"data\"},\"x\":{\"field\":\"x\"},\"y\":{\"field\":\"y\"}},\"id\":\"59f49ce4-c280-4805-b43a-6a24b1eb5c17\",\"type\":\"Rect\"},{\"attributes\":{\"data_source\":{\"id\":\"ba4f2f81-a283-4109-94bb-24991226b632\",\"type\":\"ColumnDataSource\"},\"glyph\":{\"id\":\"696f9154-79ae-4adc-b555-ef613b74c8e0\",\"type\":\"Rect\"},\"hover_glyph\":null,\"muted_glyph\":null},\"id\":\"d0656f67-8034-4261-8b10-75a20f4b967e\",\"type\":\"GlyphRenderer\"},{\"attributes\":{\"fill_alpha\":{\"field\":\"fill_alpha\"},\"fill_color\":{\"field\":\"color\"},\"height\":{\"field\":\"height\",\"units\":\"data\"},\"line_color\":{\"field\":\"line_color\"},\"width\":{\"field\":\"width\",\"units\":\"data\"},\"x\":{\"field\":\"x\"},\"y\":{\"field\":\"y\"}},\"id\":\"e26fa714-7cec-40c6-9ee7-7565fc8e3a6b\",\"type\":\"Rect\"},{\"attributes\":{\"callback\":null,\"column_names\":[\"x\",\"y\",\"width\",\"height\",\"color\",\"fill_alpha\",\"line_color\",\"line_alpha\",\"label\"],\"data\":{\"chart_index\":[\"(90.786667, 91.773333]\"],\"color\":[\"#f22c40\"],\"fill_alpha\":[0.8],\"height\":[0.0],\"label\":[\"(90.786667, 91.773333]\"],\"line_alpha\":[1.0],\"line_color\":[\"black\"],\"width\":[0.9866666666666646],\"x\":[\"91.28\"],\"y\":[0.0]}},\"id\":\"ab5f3e74-f032-4c74-bb4c-db1c3e078d7f\",\"type\":\"ColumnDataSource\"},{\"attributes\":{\"fill_alpha\":{\"field\":\"fill_alpha\"},\"fill_color\":{\"field\":\"color\"},\"height\":{\"field\":\"height\",\"units\":\"data\"},\"line_color\":{\"field\":\"line_color\"},\"width\":{\"field\":\"width\",\"units\":\"data\"},\"x\":{\"field\":\"x\"},\"y\":{\"field\":\"y\"}},\"id\":\"89875fe7-a8ca-4fb0-bc93-1a09c48875cf\",\"type\":\"Rect\"},{\"attributes\":{\"fill_alpha\":{\"field\":\"fill_alpha\"},\"fill_color\":{\"field\":\"color\"},\"height\":{\"field\":\"height\",\"units\":\"data\"},\"line_color\":{\"field\":\"line_color\"},\"width\":{\"field\":\"width\",\"units\":\"data\"},\"x\":{\"field\":\"x\"},\"y\":{\"field\":\"y\"}},\"id\":\"f03e4d37-8cb7-4786-9492-287050c2b3c7\",\"type\":\"Rect\"},{\"attributes\":{\"callback\":null,\"column_names\":[\"x\",\"y\",\"width\",\"height\",\"color\",\"fill_alpha\",\"line_color\",\"line_alpha\",\"label\"],\"data\":{\"chart_index\":[\"(91.773333, 92.760000]\"],\"color\":[\"#f22c40\"],\"fill_alpha\":[0.8],\"height\":[0.0],\"label\":[\"(91.773333, 92.760000]\"],\"line_alpha\":[1.0],\"line_color\":[\"black\"],\"width\":[0.9866666666666646],\"x\":[\"92.2666665\"],\"y\":[0.0]}},\"id\":\"94f8a21d-cc42-49ea-a5a1-7a71e7c9e97c\",\"type\":\"ColumnDataSource\"},{\"attributes\":{\"data_source\":{\"id\":\"af3d47e1-0400-4211-b81e-cb73ebf7b706\",\"type\":\"ColumnDataSource\"},\"glyph\":{\"id\":\"63a709d2-5192-4691-b894-cd4b893289ec\",\"type\":\"Rect\"},\"hover_glyph\":null,\"muted_glyph\":null},\"id\":\"2ba3a331-5740-4898-b53e-74ec6e7c8544\",\"type\":\"GlyphRenderer\"},{\"attributes\":{\"data_source\":{\"id\":\"0f588907-7f52-4fdc-acae-ad889cad5d32\",\"type\":\"ColumnDataSource\"},\"glyph\":{\"id\":\"59f49ce4-c280-4805-b43a-6a24b1eb5c17\",\"type\":\"Rect\"},\"hover_glyph\":null,\"muted_glyph\":null},\"id\":\"d96ab99b-2cec-4ea6-b661-b53efaf763c9\",\"type\":\"GlyphRenderer\"},{\"attributes\":{\"fill_alpha\":{\"field\":\"fill_alpha\"},\"fill_color\":{\"field\":\"color\"},\"height\":{\"field\":\"height\",\"units\":\"data\"},\"line_color\":{\"field\":\"line_color\"},\"width\":{\"field\":\"width\",\"units\":\"data\"},\"x\":{\"field\":\"x\"},\"y\":{\"field\":\"y\"}},\"id\":\"95ecf8bc-013c-4fbd-8f9f-5cab1906f3f9\",\"type\":\"Rect\"},{\"attributes\":{\"data_source\":{\"id\":\"ca88d1f5-80ed-41e4-a47b-7a68c65fb257\",\"type\":\"ColumnDataSource\"},\"glyph\":{\"id\":\"487ca57d-8e15-4397-98d1-b38c27e77ee6\",\"type\":\"Rect\"},\"hover_glyph\":null,\"muted_glyph\":null},\"id\":\"312106cb-ddcc-44c5-8e45-26041c0df894\",\"type\":\"GlyphRenderer\"},{\"attributes\":{\"data_source\":{\"id\":\"ab5f3e74-f032-4c74-bb4c-db1c3e078d7f\",\"type\":\"ColumnDataSource\"},\"glyph\":{\"id\":\"f03e4d37-8cb7-4786-9492-287050c2b3c7\",\"type\":\"Rect\"},\"hover_glyph\":null,\"muted_glyph\":null},\"id\":\"003198ae-40ad-47fb-b963-e1013f348b52\",\"type\":\"GlyphRenderer\"},{\"attributes\":{\"fill_alpha\":{\"field\":\"fill_alpha\"},\"fill_color\":{\"field\":\"color\"},\"height\":{\"field\":\"height\",\"units\":\"data\"},\"line_color\":{\"field\":\"line_color\"},\"width\":{\"field\":\"width\",\"units\":\"data\"},\"x\":{\"field\":\"x\"},\"y\":{\"field\":\"y\"}},\"id\":\"bf1dcb38-69ff-4a15-b204-f85a017031cd\",\"type\":\"Rect\"},{\"attributes\":{\"callback\":null,\"column_names\":[\"x\",\"y\",\"width\",\"height\",\"color\",\"fill_alpha\",\"line_color\",\"line_alpha\",\"label\"],\"data\":{\"chart_index\":[\"(92.760000, 93.746667]\"],\"color\":[\"#f22c40\"],\"fill_alpha\":[0.8],\"height\":[0.0],\"label\":[\"(92.760000, 93.746667]\"],\"line_alpha\":[1.0],\"line_color\":[\"black\"],\"width\":[0.9866666666666646],\"x\":[\"93.2533335\"],\"y\":[0.0]}},\"id\":\"9629821b-acee-4a50-8ed5-7ee81bca36fe\",\"type\":\"ColumnDataSource\"},{\"attributes\":{\"callback\":null,\"column_names\":[\"x\",\"y\",\"width\",\"height\",\"color\",\"fill_alpha\",\"line_color\",\"line_alpha\",\"label\"],\"data\":{\"chart_index\":[\"(95.720000, 96.706667]\"],\"color\":[\"#f22c40\"],\"fill_alpha\":[0.8],\"height\":[0.0],\"label\":[\"(95.720000, 96.706667]\"],\"line_alpha\":[1.0],\"line_color\":[\"black\"],\"width\":[0.9866666666666646],\"x\":[\"96.2133335\"],\"y\":[0.0]}},\"id\":\"ca88d1f5-80ed-41e4-a47b-7a68c65fb257\",\"type\":\"ColumnDataSource\"},{\"attributes\":{\"data_source\":{\"id\":\"483efdcf-6c36-4600-8d76-f7b31254bd76\",\"type\":\"ColumnDataSource\"},\"glyph\":{\"id\":\"6002f3fd-cdfb-490b-8427-582fc8a53ad4\",\"type\":\"Rect\"},\"hover_glyph\":null,\"muted_glyph\":null},\"id\":\"a07845c0-1c62-4960-84f2-c0e97cfac363\",\"type\":\"GlyphRenderer\"},{\"attributes\":{\"callback\":null,\"column_names\":[\"x\",\"y\",\"width\",\"height\",\"color\",\"fill_alpha\",\"line_color\",\"line_alpha\",\"label\"],\"data\":{\"chart_index\":[\"(70.066667, 71.053333]\"],\"color\":[\"#f22c40\"],\"fill_alpha\":[0.8],\"height\":[1.0],\"label\":[\"(70.066667, 71.053333]\"],\"line_alpha\":[1.0],\"line_color\":[\"black\"],\"width\":[0.9866666666666788],\"x\":[\"70.56\"],\"y\":[0.5]}},\"id\":\"749aceac-5a05-489f-9a35-2a287efea151\",\"type\":\"ColumnDataSource\"},{\"attributes\":{\"fill_alpha\":{\"field\":\"fill_alpha\"},\"fill_color\":{\"field\":\"color\"},\"height\":{\"field\":\"height\",\"units\":\"data\"},\"line_color\":{\"field\":\"line_color\"},\"width\":{\"field\":\"width\",\"units\":\"data\"},\"x\":{\"field\":\"x\"},\"y\":{\"field\":\"y\"}},\"id\":\"e8725dc9-664f-4434-aa0d-8f10b6d4da57\",\"type\":\"Rect\"},{\"attributes\":{\"data_source\":{\"id\":\"94f8a21d-cc42-49ea-a5a1-7a71e7c9e97c\",\"type\":\"ColumnDataSource\"},\"glyph\":{\"id\":\"db738c5d-fdff-49e4-91dc-7a878a355d4e\",\"type\":\"Rect\"},\"hover_glyph\":null,\"muted_glyph\":null},\"id\":\"0d83f8a9-2892-4828-bb57-01a1f1c27cec\",\"type\":\"GlyphRenderer\"},{\"attributes\":{\"callback\":null,\"column_names\":[\"x\",\"y\",\"width\",\"height\",\"color\",\"fill_alpha\",\"line_color\",\"line_alpha\",\"label\"],\"data\":{\"chart_index\":[\"(71.053333, 72.040000]\"],\"color\":[\"#f22c40\"],\"fill_alpha\":[0.8],\"height\":[1.0],\"label\":[\"(71.053333, 72.040000]\"],\"line_alpha\":[1.0],\"line_color\":[\"black\"],\"width\":[0.9866666666666646],\"x\":[\"71.5466665\"],\"y\":[0.5]}},\"id\":\"ecdea981-9c1b-4801-8dd3-947b6b423c8c\",\"type\":\"ColumnDataSource\"},{\"attributes\":{\"fill_alpha\":{\"field\":\"fill_alpha\"},\"fill_color\":{\"field\":\"color\"},\"height\":{\"field\":\"height\",\"units\":\"data\"},\"line_color\":{\"field\":\"line_color\"},\"width\":{\"field\":\"width\",\"units\":\"data\"},\"x\":{\"field\":\"x\"},\"y\":{\"field\":\"y\"}},\"id\":\"c4f3892d-7202-46f0-86c2-27362d762bb1\",\"type\":\"Rect\"},{\"attributes\":{\"callback\":null,\"column_names\":[\"x\",\"y\",\"width\",\"height\",\"color\",\"fill_alpha\",\"line_color\",\"line_alpha\",\"label\"],\"data\":{\"chart_index\":[\"(93.746667, 94.733333]\"],\"color\":[\"#f22c40\"],\"fill_alpha\":[0.8],\"height\":[0.0],\"label\":[\"(93.746667, 94.733333]\"],\"line_alpha\":[1.0],\"line_color\":[\"black\"],\"width\":[0.9866666666666646],\"x\":[\"94.24000000000001\"],\"y\":[0.0]}},\"id\":\"2f2ee860-fc55-4522-adfd-05708a319680\",\"type\":\"ColumnDataSource\"},{\"attributes\":{\"data_source\":{\"id\":\"749aceac-5a05-489f-9a35-2a287efea151\",\"type\":\"ColumnDataSource\"},\"glyph\":{\"id\":\"e8725dc9-664f-4434-aa0d-8f10b6d4da57\",\"type\":\"Rect\"},\"hover_glyph\":null,\"muted_glyph\":null},\"id\":\"98e95c27-e460-430c-b923-a3f938f87d6c\",\"type\":\"GlyphRenderer\"},{\"attributes\":{\"data_source\":{\"id\":\"91a44165-e9bb-47e4-997c-090ca8b53c26\",\"type\":\"ColumnDataSource\"},\"glyph\":{\"id\":\"cdf8e13c-e479-41a4-a521-8f8353cc8270\",\"type\":\"Rect\"},\"hover_glyph\":null,\"muted_glyph\":null},\"id\":\"a17c71cd-6894-47b0-927d-7d47555d6625\",\"type\":\"GlyphRenderer\"},{\"attributes\":{\"callback\":null,\"column_names\":[\"x\",\"y\",\"width\",\"height\",\"color\",\"fill_alpha\",\"line_color\",\"line_alpha\",\"label\"],\"data\":{\"chart_index\":[\"(72.040000, 73.026667]\"],\"color\":[\"#f22c40\"],\"fill_alpha\":[0.8],\"height\":[0.0],\"label\":[\"(72.040000, 73.026667]\"],\"line_alpha\":[1.0],\"line_color\":[\"black\"],\"width\":[0.9866666666666646],\"x\":[\"72.5333335\"],\"y\":[0.0]}},\"id\":\"ec2653f6-f1b9-43b2-9f7b-01416bc0b009\",\"type\":\"ColumnDataSource\"},{\"attributes\":{\"callback\":null,\"column_names\":[\"x\",\"y\",\"width\",\"height\",\"color\",\"fill_alpha\",\"line_color\",\"line_alpha\",\"label\"],\"data\":{\"chart_index\":[\"(101.640000, 102.626667]\"],\"color\":[\"#f22c40\"],\"fill_alpha\":[0.8],\"height\":[0.0],\"label\":[\"(101.640000, 102.626667]\"],\"line_alpha\":[1.0],\"line_color\":[\"black\"],\"width\":[0.9866666666666646],\"x\":[\"102.13333349999999\"],\"y\":[0.0]}},\"id\":\"a9369476-572d-4064-8424-c292ad655661\",\"type\":\"ColumnDataSource\"},{\"attributes\":{\"data_source\":{\"id\":\"9629821b-acee-4a50-8ed5-7ee81bca36fe\",\"type\":\"ColumnDataSource\"},\"glyph\":{\"id\":\"bf1dcb38-69ff-4a15-b204-f85a017031cd\",\"type\":\"Rect\"},\"hover_glyph\":null,\"muted_glyph\":null},\"id\":\"745ac6da-cf3c-45c8-8810-a750b401bb36\",\"type\":\"GlyphRenderer\"},{\"attributes\":{\"fill_alpha\":{\"field\":\"fill_alpha\"},\"fill_color\":{\"field\":\"color\"},\"height\":{\"field\":\"height\",\"units\":\"data\"},\"line_color\":{\"field\":\"line_color\"},\"width\":{\"field\":\"width\",\"units\":\"data\"},\"x\":{\"field\":\"x\"},\"y\":{\"field\":\"y\"}},\"id\":\"3d6cb44f-a4ec-422c-8721-a09acf59a2f8\",\"type\":\"Rect\"},{\"attributes\":{\"callback\":null,\"column_names\":[\"x\",\"y\",\"width\",\"height\",\"color\",\"fill_alpha\",\"line_color\",\"line_alpha\",\"label\"],\"data\":{\"chart_index\":[\"(94.733333, 95.720000]\"],\"color\":[\"#f22c40\"],\"fill_alpha\":[0.8],\"height\":[0.0],\"label\":[\"(94.733333, 95.720000]\"],\"line_alpha\":[1.0],\"line_color\":[\"black\"],\"width\":[0.9866666666666646],\"x\":[\"95.2266665\"],\"y\":[0.0]}},\"id\":\"91a44165-e9bb-47e4-997c-090ca8b53c26\",\"type\":\"ColumnDataSource\"},{\"attributes\":{\"callback\":null,\"column_names\":[\"x\",\"y\",\"width\",\"height\",\"color\",\"fill_alpha\",\"line_color\",\"line_alpha\",\"label\"],\"data\":{\"chart_index\":[\"(73.026667, 74.013333]\"],\"color\":[\"#f22c40\"],\"fill_alpha\":[0.8],\"height\":[0.0],\"label\":[\"(73.026667, 74.013333]\"],\"line_alpha\":[1.0],\"line_color\":[\"black\"],\"width\":[0.9866666666666646],\"x\":[\"73.52000000000001\"],\"y\":[0.0]}},\"id\":\"143d2977-f59c-48f5-9d1b-1aea7cc403d4\",\"type\":\"ColumnDataSource\"},{\"attributes\":{\"data_source\":{\"id\":\"143d2977-f59c-48f5-9d1b-1aea7cc403d4\",\"type\":\"ColumnDataSource\"},\"glyph\":{\"id\":\"fe792498-fe26-4321-9cf0-5331a3271494\",\"type\":\"Rect\"},\"hover_glyph\":null,\"muted_glyph\":null},\"id\":\"f7d11c3b-1289-43a9-8fc3-f50a9e71609e\",\"type\":\"GlyphRenderer\"},{\"attributes\":{\"data_source\":{\"id\":\"ecdea981-9c1b-4801-8dd3-947b6b423c8c\",\"type\":\"ColumnDataSource\"},\"glyph\":{\"id\":\"95ecf8bc-013c-4fbd-8f9f-5cab1906f3f9\",\"type\":\"Rect\"},\"hover_glyph\":null,\"muted_glyph\":null},\"id\":\"9b94b6c8-c3de-445e-aad7-073f341e67f5\",\"type\":\"GlyphRenderer\"},{\"attributes\":{\"fill_alpha\":{\"field\":\"fill_alpha\"},\"fill_color\":{\"field\":\"color\"},\"height\":{\"field\":\"height\",\"units\":\"data\"},\"line_color\":{\"field\":\"line_color\"},\"width\":{\"field\":\"width\",\"units\":\"data\"},\"x\":{\"field\":\"x\"},\"y\":{\"field\":\"y\"}},\"id\":\"cdf8e13c-e479-41a4-a521-8f8353cc8270\",\"type\":\"Rect\"},{\"attributes\":{\"fill_alpha\":{\"field\":\"fill_alpha\"},\"fill_color\":{\"field\":\"color\"},\"height\":{\"field\":\"height\",\"units\":\"data\"},\"line_color\":{\"field\":\"line_color\"},\"width\":{\"field\":\"width\",\"units\":\"data\"},\"x\":{\"field\":\"x\"},\"y\":{\"field\":\"y\"}},\"id\":\"79759d1e-ec23-4881-b609-988ce7e1f2e3\",\"type\":\"Rect\"},{\"attributes\":{\"data_source\":{\"id\":\"2f2ee860-fc55-4522-adfd-05708a319680\",\"type\":\"ColumnDataSource\"},\"glyph\":{\"id\":\"c4f3892d-7202-46f0-86c2-27362d762bb1\",\"type\":\"Rect\"},\"hover_glyph\":null,\"muted_glyph\":null},\"id\":\"ed15a335-4790-4ff0-b907-bf092428dbb5\",\"type\":\"GlyphRenderer\"},{\"attributes\":{\"fill_alpha\":{\"field\":\"fill_alpha\"},\"fill_color\":{\"field\":\"color\"},\"height\":{\"field\":\"height\",\"units\":\"data\"},\"line_color\":{\"field\":\"line_color\"},\"width\":{\"field\":\"width\",\"units\":\"data\"},\"x\":{\"field\":\"x\"},\"y\":{\"field\":\"y\"}},\"id\":\"fe792498-fe26-4321-9cf0-5331a3271494\",\"type\":\"Rect\"},{\"attributes\":{\"data_source\":{\"id\":\"e0d6e339-2dfa-41ab-a576-3411d79e9898\",\"type\":\"ColumnDataSource\"},\"glyph\":{\"id\":\"b3edd1be-acfc-45a1-968b-c1f960b35e8b\",\"type\":\"Rect\"},\"hover_glyph\":null,\"muted_glyph\":null},\"id\":\"e94a4d6f-2fa1-47d4-a4fa-dc64d3c8505e\",\"type\":\"GlyphRenderer\"},{\"attributes\":{\"fill_alpha\":{\"field\":\"fill_alpha\"},\"fill_color\":{\"field\":\"color\"},\"height\":{\"field\":\"height\",\"units\":\"data\"},\"line_color\":{\"field\":\"line_color\"},\"width\":{\"field\":\"width\",\"units\":\"data\"},\"x\":{\"field\":\"x\"},\"y\":{\"field\":\"y\"}},\"id\":\"8b71cadc-baa2-411b-aa39-14db811d62c3\",\"type\":\"Rect\"},{\"attributes\":{\"callback\":null,\"column_names\":[\"x\",\"y\",\"width\",\"height\",\"color\",\"fill_alpha\",\"line_color\",\"line_alpha\",\"label\"],\"data\":{\"chart_index\":[\"(133.213333, 134.200000]\"],\"color\":[\"#f22c40\"],\"fill_alpha\":[0.8],\"height\":[0.0],\"label\":[\"(133.213333, 134.200000]\"],\"line_alpha\":[1.0],\"line_color\":[\"black\"],\"width\":[0.9866666666666788],\"x\":[\"133.70666649999998\"],\"y\":[0.0]}},\"id\":\"b276e4ad-90dc-4b56-8156-ed74a8e5ee4d\",\"type\":\"ColumnDataSource\"},{\"attributes\":{\"callback\":null,\"column_names\":[\"x\",\"y\",\"width\",\"height\",\"color\",\"fill_alpha\",\"line_color\",\"line_alpha\",\"label\"],\"data\":{\"chart_index\":[\"(120.386667, 121.373333]\"],\"color\":[\"#f22c40\"],\"fill_alpha\":[0.8],\"height\":[0.0],\"label\":[\"(120.386667, 121.373333]\"],\"line_alpha\":[1.0],\"line_color\":[\"black\"],\"width\":[0.9866666666666646],\"x\":[\"120.88\"],\"y\":[0.0]}},\"id\":\"337718a4-4cdb-406c-b660-dcfab3a90963\",\"type\":\"ColumnDataSource\"},{\"attributes\":{\"fill_alpha\":{\"field\":\"fill_alpha\"},\"fill_color\":{\"field\":\"color\"},\"height\":{\"field\":\"height\",\"units\":\"data\"},\"line_color\":{\"field\":\"line_color\"},\"width\":{\"field\":\"width\",\"units\":\"data\"},\"x\":{\"field\":\"x\"},\"y\":{\"field\":\"y\"}},\"id\":\"36d78d80-a6a3-4df8-ba62-cc471d4b8ba2\",\"type\":\"Rect\"},{\"attributes\":{\"callback\":null,\"column_names\":[\"x\",\"y\",\"width\",\"height\",\"color\",\"fill_alpha\",\"line_color\",\"line_alpha\",\"label\"],\"data\":{\"chart_index\":[\"(130.253333, 131.240000]\"],\"color\":[\"#f22c40\"],\"fill_alpha\":[0.8],\"height\":[0.0],\"label\":[\"(130.253333, 131.240000]\"],\"line_alpha\":[1.0],\"line_color\":[\"black\"],\"width\":[0.9866666666666788],\"x\":[\"130.7466665\"],\"y\":[0.0]}},\"id\":\"d8d0e13e-b831-4be0-b20e-885666904cc4\",\"type\":\"ColumnDataSource\"},{\"attributes\":{\"data_source\":{\"id\":\"165b727e-7c77-424e-8b45-6019dba31bc0\",\"type\":\"ColumnDataSource\"},\"glyph\":{\"id\":\"37270cfa-3c9d-4fe0-84d7-2ac91600e708\",\"type\":\"Rect\"},\"hover_glyph\":null,\"muted_glyph\":null},\"id\":\"68ee718c-ca44-49fd-b19c-895ee8d15a4d\",\"type\":\"GlyphRenderer\"},{\"attributes\":{\"callback\":null,\"column_names\":[\"x\",\"y\",\"width\",\"height\",\"color\",\"fill_alpha\",\"line_color\",\"line_alpha\",\"label\"],\"data\":{\"chart_index\":[\"(121.373333, 122.360000]\"],\"color\":[\"#f22c40\"],\"fill_alpha\":[0.8],\"height\":[0.0],\"label\":[\"(121.373333, 122.360000]\"],\"line_alpha\":[1.0],\"line_color\":[\"black\"],\"width\":[0.9866666666666646],\"x\":[\"121.86666650000001\"],\"y\":[0.0]}},\"id\":\"62fd1f30-aa58-4eac-b759-5796aceff986\",\"type\":\"ColumnDataSource\"},{\"attributes\":{\"fill_alpha\":{\"field\":\"fill_alpha\"},\"fill_color\":{\"field\":\"color\"},\"height\":{\"field\":\"height\",\"units\":\"data\"},\"line_color\":{\"field\":\"line_color\"},\"width\":{\"field\":\"width\",\"units\":\"data\"},\"x\":{\"field\":\"x\"},\"y\":{\"field\":\"y\"}},\"id\":\"8353f505-f127-4105-9e33-173bf0e837eb\",\"type\":\"Rect\"},{\"attributes\":{\"data_source\":{\"id\":\"d8d0e13e-b831-4be0-b20e-885666904cc4\",\"type\":\"ColumnDataSource\"},\"glyph\":{\"id\":\"8193d149-ca2b-448f-b77a-05deee490a37\",\"type\":\"Rect\"},\"hover_glyph\":null,\"muted_glyph\":null},\"id\":\"cb0ece24-37c4-4b6f-9540-911bd45ea6a7\",\"type\":\"GlyphRenderer\"},{\"attributes\":{\"callback\":null,\"column_names\":[\"x\",\"y\",\"width\",\"height\",\"color\",\"fill_alpha\",\"line_color\",\"line_alpha\",\"label\"],\"data\":{\"chart_index\":[\"(126.306667, 127.293333]\"],\"color\":[\"#f22c40\"],\"fill_alpha\":[0.8],\"height\":[0.0],\"label\":[\"(126.306667, 127.293333]\"],\"line_alpha\":[1.0],\"line_color\":[\"black\"],\"width\":[0.9866666666666646],\"x\":[\"126.80000000000001\"],\"y\":[0.0]}},\"id\":\"793e619b-0b54-4819-90d9-b00f95ac90ee\",\"type\":\"ColumnDataSource\"},{\"attributes\":{\"callback\":null,\"column_names\":[\"x\",\"y\",\"width\",\"height\",\"color\",\"fill_alpha\",\"line_color\",\"line_alpha\",\"label\"],\"data\":{\"chart_index\":[\"(132.226667, 133.213333]\"],\"color\":[\"#f22c40\"],\"fill_alpha\":[0.8],\"height\":[1.0],\"label\":[\"(132.226667, 133.213333]\"],\"line_alpha\":[1.0],\"line_color\":[\"black\"],\"width\":[0.9866666666666788],\"x\":[\"132.72\"],\"y\":[0.5]}},\"id\":\"dfb968c8-63a5-414e-9edb-daecdeed4b6b\",\"type\":\"ColumnDataSource\"},{\"attributes\":{\"data_source\":{\"id\":\"dfb968c8-63a5-414e-9edb-daecdeed4b6b\",\"type\":\"ColumnDataSource\"},\"glyph\":{\"id\":\"effecdba-33d4-4236-be9e-d40e47a9aabd\",\"type\":\"Rect\"},\"hover_glyph\":null,\"muted_glyph\":null},\"id\":\"a5aff3cd-60bc-451a-bca8-ab6b1f9b25f4\",\"type\":\"GlyphRenderer\"},{\"attributes\":{\"fill_alpha\":{\"field\":\"fill_alpha\"},\"fill_color\":{\"field\":\"color\"},\"height\":{\"field\":\"height\",\"units\":\"data\"},\"line_color\":{\"field\":\"line_color\"},\"width\":{\"field\":\"width\",\"units\":\"data\"},\"x\":{\"field\":\"x\"},\"y\":{\"field\":\"y\"}},\"id\":\"1b9de229-c264-41b6-a66a-7a22f7645ad2\",\"type\":\"Rect\"},{\"attributes\":{\"data_source\":{\"id\":\"337718a4-4cdb-406c-b660-dcfab3a90963\",\"type\":\"ColumnDataSource\"},\"glyph\":{\"id\":\"36d78d80-a6a3-4df8-ba62-cc471d4b8ba2\",\"type\":\"Rect\"},\"hover_glyph\":null,\"muted_glyph\":null},\"id\":\"0fc54dff-05a3-4abb-8836-10155a5eb9eb\",\"type\":\"GlyphRenderer\"},{\"attributes\":{\"fill_alpha\":{\"field\":\"fill_alpha\"},\"fill_color\":{\"field\":\"color\"},\"height\":{\"field\":\"height\",\"units\":\"data\"},\"line_color\":{\"field\":\"line_color\"},\"width\":{\"field\":\"width\",\"units\":\"data\"},\"x\":{\"field\":\"x\"},\"y\":{\"field\":\"y\"}},\"id\":\"27c3a598-4dee-49c2-810b-ef01168f514f\",\"type\":\"Rect\"},{\"attributes\":{\"fill_alpha\":{\"field\":\"fill_alpha\"},\"fill_color\":{\"field\":\"color\"},\"height\":{\"field\":\"height\",\"units\":\"data\"},\"line_color\":{\"field\":\"line_color\"},\"width\":{\"field\":\"width\",\"units\":\"data\"},\"x\":{\"field\":\"x\"},\"y\":{\"field\":\"y\"}},\"id\":\"f219b608-9981-4903-b26b-49ffe54a79b9\",\"type\":\"Rect\"},{\"attributes\":{\"callback\":null,\"column_names\":[\"x\",\"y\",\"width\",\"height\",\"color\",\"fill_alpha\",\"line_color\",\"line_alpha\",\"label\"],\"data\":{\"chart_index\":[\"(134.200000, 135.186667]\"],\"color\":[\"#f22c40\"],\"fill_alpha\":[0.8],\"height\":[0.0],\"label\":[\"(134.200000, 135.186667]\"],\"line_alpha\":[1.0],\"line_color\":[\"black\"],\"width\":[0.9866666666666504],\"x\":[\"134.6933335\"],\"y\":[0.0]}},\"id\":\"c79a3892-c468-4ea9-99bb-aedad5f2015d\",\"type\":\"ColumnDataSource\"},{\"attributes\":{\"callback\":null,\"column_names\":[\"x\",\"y\",\"width\",\"height\",\"color\",\"fill_alpha\",\"line_color\",\"line_alpha\",\"label\"],\"data\":{\"chart_index\":[\"(122.360000, 123.346667]\"],\"color\":[\"#f22c40\"],\"fill_alpha\":[0.8],\"height\":[0.0],\"label\":[\"(122.360000, 123.346667]\"],\"line_alpha\":[1.0],\"line_color\":[\"black\"],\"width\":[0.9866666666666646],\"x\":[\"122.85333349999999\"],\"y\":[0.0]}},\"id\":\"332ab0c3-618f-4b51-af0e-cdb8f57967db\",\"type\":\"ColumnDataSource\"},{\"attributes\":{\"data_source\":{\"id\":\"fda63c3d-cb52-4a6c-9f36-9f9c743fee17\",\"type\":\"ColumnDataSource\"},\"glyph\":{\"id\":\"e96e86a7-6ee2-47bb-9b2d-d675d551f4b7\",\"type\":\"Rect\"},\"hover_glyph\":null,\"muted_glyph\":null},\"id\":\"b8526acb-1de2-431f-8466-5430fa45992e\",\"type\":\"GlyphRenderer\"},{\"attributes\":{\"data_source\":{\"id\":\"b3e0bd5e-75bd-446a-8cd1-8cd536734876\",\"type\":\"ColumnDataSource\"},\"glyph\":{\"id\":\"38ea3d2b-f721-4784-bd78-5af2442df457\",\"type\":\"Rect\"},\"hover_glyph\":null,\"muted_glyph\":null},\"id\":\"535e1723-150e-4b42-b78d-50a1694424af\",\"type\":\"GlyphRenderer\"},{\"attributes\":{\"data_source\":{\"id\":\"b276e4ad-90dc-4b56-8156-ed74a8e5ee4d\",\"type\":\"ColumnDataSource\"},\"glyph\":{\"id\":\"8353f505-f127-4105-9e33-173bf0e837eb\",\"type\":\"Rect\"},\"hover_glyph\":null,\"muted_glyph\":null},\"id\":\"69859c35-d66e-4934-b6a4-8fd6aed38e2f\",\"type\":\"GlyphRenderer\"},{\"attributes\":{\"fill_alpha\":{\"field\":\"fill_alpha\"},\"fill_color\":{\"field\":\"color\"},\"height\":{\"field\":\"height\",\"units\":\"data\"},\"line_color\":{\"field\":\"line_color\"},\"width\":{\"field\":\"width\",\"units\":\"data\"},\"x\":{\"field\":\"x\"},\"y\":{\"field\":\"y\"}},\"id\":\"3bc4edfd-338e-4d5f-ac8e-70304e591870\",\"type\":\"Rect\"},{\"attributes\":{\"data_source\":{\"id\":\"62fd1f30-aa58-4eac-b759-5796aceff986\",\"type\":\"ColumnDataSource\"},\"glyph\":{\"id\":\"8b71cadc-baa2-411b-aa39-14db811d62c3\",\"type\":\"Rect\"},\"hover_glyph\":null,\"muted_glyph\":null},\"id\":\"ba38ec68-74d9-45a1-bb43-d18d064cb5ca\",\"type\":\"GlyphRenderer\"},{\"attributes\":{\"fill_alpha\":{\"field\":\"fill_alpha\"},\"fill_color\":{\"field\":\"color\"},\"height\":{\"field\":\"height\",\"units\":\"data\"},\"line_color\":{\"field\":\"line_color\"},\"width\":{\"field\":\"width\",\"units\":\"data\"},\"x\":{\"field\":\"x\"},\"y\":{\"field\":\"y\"}},\"id\":\"c8b295c4-42d7-4c0c-afb7-b8a138003978\",\"type\":\"Rect\"},{\"attributes\":{\"callback\":null,\"column_names\":[\"x\",\"y\",\"width\",\"height\",\"color\",\"fill_alpha\",\"line_color\",\"line_alpha\",\"label\"],\"data\":{\"chart_index\":[\"(124.333333, 125.320000]\"],\"color\":[\"#f22c40\"],\"fill_alpha\":[0.8],\"height\":[0.0],\"label\":[\"(124.333333, 125.320000]\"],\"line_alpha\":[1.0],\"line_color\":[\"black\"],\"width\":[0.9866666666666646],\"x\":[\"124.82666649999999\"],\"y\":[0.0]}},\"id\":\"b3e0bd5e-75bd-446a-8cd1-8cd536734876\",\"type\":\"ColumnDataSource\"},{\"attributes\":{\"data_source\":{\"id\":\"c79a3892-c468-4ea9-99bb-aedad5f2015d\",\"type\":\"ColumnDataSource\"},\"glyph\":{\"id\":\"27c3a598-4dee-49c2-810b-ef01168f514f\",\"type\":\"Rect\"},\"hover_glyph\":null,\"muted_glyph\":null},\"id\":\"17d87531-000c-4449-988a-bcb8961e3d3a\",\"type\":\"GlyphRenderer\"},{\"attributes\":{\"data_source\":{\"id\":\"332ab0c3-618f-4b51-af0e-cdb8f57967db\",\"type\":\"ColumnDataSource\"},\"glyph\":{\"id\":\"f219b608-9981-4903-b26b-49ffe54a79b9\",\"type\":\"Rect\"},\"hover_glyph\":null,\"muted_glyph\":null},\"id\":\"5fb6c9c1-07ea-4db0-8ba7-00aeab1b981b\",\"type\":\"GlyphRenderer\"},{\"attributes\":{\"callback\":null,\"column_names\":[\"x\",\"y\",\"width\",\"height\",\"color\",\"fill_alpha\",\"line_color\",\"line_alpha\",\"label\"],\"data\":{\"chart_index\":[\"(135.186667, 136.173333]\"],\"color\":[\"#f22c40\"],\"fill_alpha\":[0.8],\"height\":[0.0],\"label\":[\"(135.186667, 136.173333]\"],\"line_alpha\":[1.0],\"line_color\":[\"black\"],\"width\":[0.9866666666666788],\"x\":[\"135.68\"],\"y\":[0.0]}},\"id\":\"faf2425b-ec82-4157-a8a1-9d583d9eb1f5\",\"type\":\"ColumnDataSource\"},{\"attributes\":{\"fill_alpha\":{\"field\":\"fill_alpha\"},\"fill_color\":{\"field\":\"color\"},\"height\":{\"field\":\"height\",\"units\":\"data\"},\"line_color\":{\"field\":\"line_color\"},\"width\":{\"field\":\"width\",\"units\":\"data\"},\"x\":{\"field\":\"x\"},\"y\":{\"field\":\"y\"}},\"id\":\"effecdba-33d4-4236-be9e-d40e47a9aabd\",\"type\":\"Rect\"},{\"attributes\":{\"fill_alpha\":{\"field\":\"fill_alpha\"},\"fill_color\":{\"field\":\"color\"},\"height\":{\"field\":\"height\",\"units\":\"data\"},\"line_color\":{\"field\":\"line_color\"},\"width\":{\"field\":\"width\",\"units\":\"data\"},\"x\":{\"field\":\"x\"},\"y\":{\"field\":\"y\"}},\"id\":\"3f09b48e-4d99-431c-a6dd-f8f509e27624\",\"type\":\"Rect\"},{\"attributes\":{\"callback\":null,\"column_names\":[\"x\",\"y\",\"width\",\"height\",\"color\",\"fill_alpha\",\"line_color\",\"line_alpha\",\"label\"],\"data\":{\"chart_index\":[\"(136.173333, 137.160000]\"],\"color\":[\"#f22c40\"],\"fill_alpha\":[0.8],\"height\":[0.0],\"label\":[\"(136.173333, 137.160000]\"],\"line_alpha\":[1.0],\"line_color\":[\"black\"],\"width\":[0.9866666666666504],\"x\":[\"136.66666650000002\"],\"y\":[0.0]}},\"id\":\"93683816-96cb-4f48-91f4-b3bf1f440366\",\"type\":\"ColumnDataSource\"},{\"attributes\":{\"callback\":null,\"column_names\":[\"x\",\"y\",\"width\",\"height\",\"color\",\"fill_alpha\",\"line_color\",\"line_alpha\",\"label\"],\"data\":{\"chart_index\":[\"(125.320000, 126.306667]\"],\"color\":[\"#f22c40\"],\"fill_alpha\":[0.8],\"height\":[0.0],\"label\":[\"(125.320000, 126.306667]\"],\"line_alpha\":[1.0],\"line_color\":[\"black\"],\"width\":[0.9866666666666646],\"x\":[\"125.8133335\"],\"y\":[0.0]}},\"id\":\"f2a898d7-af75-4553-aeb2-19d016d6a240\",\"type\":\"ColumnDataSource\"},{\"attributes\":{\"callback\":null,\"column_names\":[\"x\",\"y\",\"width\",\"height\",\"color\",\"fill_alpha\",\"line_color\",\"line_alpha\",\"label\"],\"data\":{\"chart_index\":[\"(140.120000, 141.106667]\"],\"color\":[\"#f22c40\"],\"fill_alpha\":[0.8],\"height\":[0.0],\"label\":[\"(140.120000, 141.106667]\"],\"line_alpha\":[1.0],\"line_color\":[\"black\"],\"width\":[0.9866666666666788],\"x\":[\"140.6133335\"],\"y\":[0.0]}},\"id\":\"e4a20201-eb8d-4cd9-bf7f-c62d2eafffb3\",\"type\":\"ColumnDataSource\"},{\"attributes\":{\"data_source\":{\"id\":\"faf2425b-ec82-4157-a8a1-9d583d9eb1f5\",\"type\":\"ColumnDataSource\"},\"glyph\":{\"id\":\"3f09b48e-4d99-431c-a6dd-f8f509e27624\",\"type\":\"Rect\"},\"hover_glyph\":null,\"muted_glyph\":null},\"id\":\"84507ed4-bf0e-4e8d-aa36-361c2abc793f\",\"type\":\"GlyphRenderer\"},{\"attributes\":{\"fill_alpha\":{\"field\":\"fill_alpha\"},\"fill_color\":{\"field\":\"color\"},\"height\":{\"field\":\"height\",\"units\":\"data\"},\"line_color\":{\"field\":\"line_color\"},\"width\":{\"field\":\"width\",\"units\":\"data\"},\"x\":{\"field\":\"x\"},\"y\":{\"field\":\"y\"}},\"id\":\"0ceca9db-5fa0-467e-bbad-bd3e226a008f\",\"type\":\"Rect\"},{\"attributes\":{\"data_source\":{\"id\":\"077efbfd-17ad-48e0-82e2-452b612d8750\",\"type\":\"ColumnDataSource\"},\"glyph\":{\"id\":\"e135ac99-f93c-4837-886d-7b346afb4f1a\",\"type\":\"Rect\"},\"hover_glyph\":null,\"muted_glyph\":null},\"id\":\"ec2ef5e4-2cb1-4772-a7ae-9e9b210f1c26\",\"type\":\"GlyphRenderer\"},{\"attributes\":{\"callback\":null,\"column_names\":[\"x\",\"y\",\"width\",\"height\",\"color\",\"fill_alpha\",\"line_color\",\"line_alpha\",\"label\"],\"data\":{\"chart_index\":[\"(137.160000, 138.146667]\"],\"color\":[\"#f22c40\"],\"fill_alpha\":[0.8],\"height\":[0.0],\"label\":[\"(137.160000, 138.146667]\"],\"line_alpha\":[1.0],\"line_color\":[\"black\"],\"width\":[0.9866666666666788],\"x\":[\"137.6533335\"],\"y\":[0.0]}},\"id\":\"e1330d7f-938b-451f-acde-2396c829f427\",\"type\":\"ColumnDataSource\"},{\"attributes\":{\"data_source\":{\"id\":\"f2a898d7-af75-4553-aeb2-19d016d6a240\",\"type\":\"ColumnDataSource\"},\"glyph\":{\"id\":\"3bc4edfd-338e-4d5f-ac8e-70304e591870\",\"type\":\"Rect\"},\"hover_glyph\":null,\"muted_glyph\":null},\"id\":\"a9573246-89e0-47dc-ba30-65c99ac517d0\",\"type\":\"GlyphRenderer\"},{\"attributes\":{\"fill_alpha\":{\"field\":\"fill_alpha\"},\"fill_color\":{\"field\":\"color\"},\"height\":{\"field\":\"height\",\"units\":\"data\"},\"line_color\":{\"field\":\"line_color\"},\"width\":{\"field\":\"width\",\"units\":\"data\"},\"x\":{\"field\":\"x\"},\"y\":{\"field\":\"y\"}},\"id\":\"69c2b15b-9a32-415e-b4e7-73ccb6c58fdf\",\"type\":\"Rect\"},{\"attributes\":{\"callback\":null,\"column_names\":[\"x\",\"y\",\"width\",\"height\",\"color\",\"fill_alpha\",\"line_color\",\"line_alpha\",\"label\"],\"data\":{\"chart_index\":[\"(127.293333, 128.280000]\"],\"color\":[\"#f22c40\"],\"fill_alpha\":[0.8],\"height\":[0.0],\"label\":[\"(127.293333, 128.280000]\"],\"line_alpha\":[1.0],\"line_color\":[\"black\"],\"width\":[0.9866666666666646],\"x\":[\"127.7866665\"],\"y\":[0.0]}},\"id\":\"0a597ac0-4186-4bab-8552-07881fdf42df\",\"type\":\"ColumnDataSource\"},{\"attributes\":{\"fill_alpha\":{\"field\":\"fill_alpha\"},\"fill_color\":{\"field\":\"color\"},\"height\":{\"field\":\"height\",\"units\":\"data\"},\"line_color\":{\"field\":\"line_color\"},\"width\":{\"field\":\"width\",\"units\":\"data\"},\"x\":{\"field\":\"x\"},\"y\":{\"field\":\"y\"}},\"id\":\"60987f3a-bf6a-4ab4-bbfe-ce1c17c609ec\",\"type\":\"Rect\"},{\"attributes\":{\"data_source\":{\"id\":\"e8716360-c27a-4de7-abfb-1d92f63df368\",\"type\":\"ColumnDataSource\"},\"glyph\":{\"id\":\"ab42105a-b8ff-440a-b948-f824c4b8ef7f\",\"type\":\"Rect\"},\"hover_glyph\":null,\"muted_glyph\":null},\"id\":\"b72d68c6-9a58-4c49-a86e-3fe2ecae0605\",\"type\":\"GlyphRenderer\"},{\"attributes\":{\"data_source\":{\"id\":\"93683816-96cb-4f48-91f4-b3bf1f440366\",\"type\":\"ColumnDataSource\"},\"glyph\":{\"id\":\"c8b295c4-42d7-4c0c-afb7-b8a138003978\",\"type\":\"Rect\"},\"hover_glyph\":null,\"muted_glyph\":null},\"id\":\"40c16d14-9b73-4e5c-be75-a6960def36f6\",\"type\":\"GlyphRenderer\"},{\"attributes\":{\"callback\":null,\"column_names\":[\"x\",\"y\",\"width\",\"height\",\"color\",\"fill_alpha\",\"line_color\",\"line_alpha\",\"label\"],\"data\":{\"chart_index\":[\"(138.146667, 139.133333]\"],\"color\":[\"#f22c40\"],\"fill_alpha\":[0.8],\"height\":[0.0],\"label\":[\"(138.146667, 139.133333]\"],\"line_alpha\":[1.0],\"line_color\":[\"black\"],\"width\":[0.9866666666666504],\"x\":[\"138.64\"],\"y\":[0.0]}},\"id\":\"e8716360-c27a-4de7-abfb-1d92f63df368\",\"type\":\"ColumnDataSource\"},{\"attributes\":{\"data_source\":{\"id\":\"793e619b-0b54-4819-90d9-b00f95ac90ee\",\"type\":\"ColumnDataSource\"},\"glyph\":{\"id\":\"1b9de229-c264-41b6-a66a-7a22f7645ad2\",\"type\":\"Rect\"},\"hover_glyph\":null,\"muted_glyph\":null},\"id\":\"0dadfc8c-9da2-4d43-bc2b-599cf045ad62\",\"type\":\"GlyphRenderer\"},{\"attributes\":{\"fill_alpha\":{\"field\":\"fill_alpha\"},\"fill_color\":{\"field\":\"color\"},\"height\":{\"field\":\"height\",\"units\":\"data\"},\"line_color\":{\"field\":\"line_color\"},\"width\":{\"field\":\"width\",\"units\":\"data\"},\"x\":{\"field\":\"x\"},\"y\":{\"field\":\"y\"}},\"id\":\"2cb90f58-cd3d-4c4f-9316-3362858e4630\",\"type\":\"Rect\"},{\"attributes\":{\"callback\":null,\"column_names\":[\"x\",\"y\",\"width\",\"height\",\"color\",\"fill_alpha\",\"line_color\",\"line_alpha\",\"label\"],\"data\":{\"chart_index\":[\"(128.280000, 129.266667]\"],\"color\":[\"#f22c40\"],\"fill_alpha\":[0.8],\"height\":[0.0],\"label\":[\"(128.280000, 129.266667]\"],\"line_alpha\":[1.0],\"line_color\":[\"black\"],\"width\":[0.9866666666666788],\"x\":[\"128.7733335\"],\"y\":[0.0]}},\"id\":\"ace03ba4-8e78-4002-b4c5-efd8a6cc1c38\",\"type\":\"ColumnDataSource\"},{\"attributes\":{\"fill_alpha\":{\"field\":\"fill_alpha\"},\"fill_color\":{\"field\":\"color\"},\"height\":{\"field\":\"height\",\"units\":\"data\"},\"line_color\":{\"field\":\"line_color\"},\"width\":{\"field\":\"width\",\"units\":\"data\"},\"x\":{\"field\":\"x\"},\"y\":{\"field\":\"y\"}},\"id\":\"37270cfa-3c9d-4fe0-84d7-2ac91600e708\",\"type\":\"Rect\"},{\"attributes\":{\"fill_alpha\":{\"field\":\"fill_alpha\"},\"fill_color\":{\"field\":\"color\"},\"height\":{\"field\":\"height\",\"units\":\"data\"},\"line_color\":{\"field\":\"line_color\"},\"width\":{\"field\":\"width\",\"units\":\"data\"},\"x\":{\"field\":\"x\"},\"y\":{\"field\":\"y\"}},\"id\":\"ab42105a-b8ff-440a-b948-f824c4b8ef7f\",\"type\":\"Rect\"},{\"attributes\":{\"data_source\":{\"id\":\"e1330d7f-938b-451f-acde-2396c829f427\",\"type\":\"ColumnDataSource\"},\"glyph\":{\"id\":\"0ceca9db-5fa0-467e-bbad-bd3e226a008f\",\"type\":\"Rect\"},\"hover_glyph\":null,\"muted_glyph\":null},\"id\":\"b1eead8b-9148-4fe8-b015-91f28fdd6d3c\",\"type\":\"GlyphRenderer\"},{\"attributes\":{\"callback\":null,\"column_names\":[\"x\",\"y\",\"width\",\"height\",\"color\",\"fill_alpha\",\"line_color\",\"line_alpha\",\"label\"],\"data\":{\"chart_index\":[\"(139.133333, 140.120000]\"],\"color\":[\"#f22c40\"],\"fill_alpha\":[0.8],\"height\":[1.0],\"label\":[\"(139.133333, 140.120000]\"],\"line_alpha\":[1.0],\"line_color\":[\"black\"],\"width\":[0.9866666666666788],\"x\":[\"139.6266665\"],\"y\":[0.5]}},\"id\":\"165b727e-7c77-424e-8b45-6019dba31bc0\",\"type\":\"ColumnDataSource\"},{\"attributes\":{\"fill_alpha\":{\"field\":\"fill_alpha\"},\"fill_color\":{\"field\":\"color\"},\"height\":{\"field\":\"height\",\"units\":\"data\"},\"line_color\":{\"field\":\"line_color\"},\"width\":{\"field\":\"width\",\"units\":\"data\"},\"x\":{\"field\":\"x\"},\"y\":{\"field\":\"y\"}},\"id\":\"c7d63d37-590b-47ca-a76e-d39293149ddf\",\"type\":\"Rect\"},{\"attributes\":{\"data_source\":{\"id\":\"0a597ac0-4186-4bab-8552-07881fdf42df\",\"type\":\"ColumnDataSource\"},\"glyph\":{\"id\":\"69c2b15b-9a32-415e-b4e7-73ccb6c58fdf\",\"type\":\"Rect\"},\"hover_glyph\":null,\"muted_glyph\":null},\"id\":\"a5f3e3b6-9de1-4af9-892e-41ee3afc1999\",\"type\":\"GlyphRenderer\"},{\"attributes\":{\"callback\":null,\"column_names\":[\"x\",\"y\",\"width\",\"height\",\"color\",\"fill_alpha\",\"line_color\",\"line_alpha\",\"label\"],\"data\":{\"chart_index\":[\"(131.240000, 132.226667]\"],\"color\":[\"#f22c40\"],\"fill_alpha\":[0.8],\"height\":[1.0],\"label\":[\"(131.240000, 132.226667]\"],\"line_alpha\":[1.0],\"line_color\":[\"black\"],\"width\":[0.9866666666666504],\"x\":[\"131.73333350000001\"],\"y\":[0.5]}},\"id\":\"077efbfd-17ad-48e0-82e2-452b612d8750\",\"type\":\"ColumnDataSource\"},{\"attributes\":{\"fill_alpha\":{\"field\":\"fill_alpha\"},\"fill_color\":{\"field\":\"color\"},\"height\":{\"field\":\"height\",\"units\":\"data\"},\"line_color\":{\"field\":\"line_color\"},\"width\":{\"field\":\"width\",\"units\":\"data\"},\"x\":{\"field\":\"x\"},\"y\":{\"field\":\"y\"}},\"id\":\"e96e86a7-6ee2-47bb-9b2d-d675d551f4b7\",\"type\":\"Rect\"},{\"attributes\":{\"callback\":null,\"column_names\":[\"x\",\"y\",\"width\",\"height\",\"color\",\"fill_alpha\",\"line_color\",\"line_alpha\",\"label\"],\"data\":{\"chart_index\":[\"(145.053333, 146.040000]\"],\"color\":[\"#f22c40\"],\"fill_alpha\":[0.8],\"height\":[0.0],\"label\":[\"(145.053333, 146.040000]\"],\"line_alpha\":[1.0],\"line_color\":[\"black\"],\"width\":[0.9866666666666504],\"x\":[\"145.54666650000001\"],\"y\":[0.0]}},\"id\":\"fda63c3d-cb52-4a6c-9f36-9f9c743fee17\",\"type\":\"ColumnDataSource\"},{\"attributes\":{\"data_source\":{\"id\":\"ace03ba4-8e78-4002-b4c5-efd8a6cc1c38\",\"type\":\"ColumnDataSource\"},\"glyph\":{\"id\":\"2cb90f58-cd3d-4c4f-9316-3362858e4630\",\"type\":\"Rect\"},\"hover_glyph\":null,\"muted_glyph\":null},\"id\":\"4e7509c0-2eaa-46a3-bf62-965394d41319\",\"type\":\"GlyphRenderer\"},{\"attributes\":{\"data_source\":{\"id\":\"e4a20201-eb8d-4cd9-bf7f-c62d2eafffb3\",\"type\":\"ColumnDataSource\"},\"glyph\":{\"id\":\"60987f3a-bf6a-4ab4-bbfe-ce1c17c609ec\",\"type\":\"Rect\"},\"hover_glyph\":null,\"muted_glyph\":null},\"id\":\"880ff9cc-770a-472a-a80e-97504cd5ab1d\",\"type\":\"GlyphRenderer\"},{\"attributes\":{\"callback\":null,\"column_names\":[\"x\",\"y\",\"width\",\"height\",\"color\",\"fill_alpha\",\"line_color\",\"line_alpha\",\"label\"],\"data\":{\"chart_index\":[\"(129.266667, 130.253333]\"],\"color\":[\"#f22c40\"],\"fill_alpha\":[0.8],\"height\":[0.0],\"label\":[\"(129.266667, 130.253333]\"],\"line_alpha\":[1.0],\"line_color\":[\"black\"],\"width\":[0.9866666666666504],\"x\":[\"129.76\"],\"y\":[0.0]}},\"id\":\"63ce75c9-000c-46d0-a80d-49939755ac88\",\"type\":\"ColumnDataSource\"},{\"attributes\":{\"callback\":null,\"column_names\":[\"x\",\"y\",\"width\",\"height\",\"color\",\"fill_alpha\",\"line_color\",\"line_alpha\",\"label\"],\"data\":{\"chart_index\":[\"(141.106667, 142.093333]\"],\"color\":[\"#f22c40\"],\"fill_alpha\":[0.8],\"height\":[0.0],\"label\":[\"(141.106667, 142.093333]\"],\"line_alpha\":[1.0],\"line_color\":[\"black\"],\"width\":[0.9866666666666504],\"x\":[\"141.6\"],\"y\":[0.0]}},\"id\":\"66ed083f-7b19-44f5-a3a3-9ac11cae1ad4\",\"type\":\"ColumnDataSource\"},{\"attributes\":{\"fill_alpha\":{\"field\":\"fill_alpha\"},\"fill_color\":{\"field\":\"color\"},\"height\":{\"field\":\"height\",\"units\":\"data\"},\"line_color\":{\"field\":\"line_color\"},\"width\":{\"field\":\"width\",\"units\":\"data\"},\"x\":{\"field\":\"x\"},\"y\":{\"field\":\"y\"}},\"id\":\"ae53445d-2a66-4c5d-92f0-5ef61b190596\",\"type\":\"Rect\"},{\"attributes\":{\"fill_alpha\":{\"field\":\"fill_alpha\"},\"fill_color\":{\"field\":\"color\"},\"height\":{\"field\":\"height\",\"units\":\"data\"},\"line_color\":{\"field\":\"line_color\"},\"width\":{\"field\":\"width\",\"units\":\"data\"},\"x\":{\"field\":\"x\"},\"y\":{\"field\":\"y\"}},\"id\":\"04a79afd-6da6-4d09-850f-1f27cd58f30c\",\"type\":\"Rect\"},{\"attributes\":{\"fill_alpha\":{\"field\":\"fill_alpha\"},\"fill_color\":{\"field\":\"color\"},\"height\":{\"field\":\"height\",\"units\":\"data\"},\"line_color\":{\"field\":\"line_color\"},\"width\":{\"field\":\"width\",\"units\":\"data\"},\"x\":{\"field\":\"x\"},\"y\":{\"field\":\"y\"}},\"id\":\"8193d149-ca2b-448f-b77a-05deee490a37\",\"type\":\"Rect\"},{\"attributes\":{\"fill_alpha\":{\"field\":\"fill_alpha\"},\"fill_color\":{\"field\":\"color\"},\"height\":{\"field\":\"height\",\"units\":\"data\"},\"line_color\":{\"field\":\"line_color\"},\"width\":{\"field\":\"width\",\"units\":\"data\"},\"x\":{\"field\":\"x\"},\"y\":{\"field\":\"y\"}},\"id\":\"7bd9cbc3-df6d-47ea-a97c-fd66e8abf393\",\"type\":\"Rect\"},{\"attributes\":{\"fill_alpha\":{\"field\":\"fill_alpha\"},\"fill_color\":{\"field\":\"color\"},\"height\":{\"field\":\"height\",\"units\":\"data\"},\"line_color\":{\"field\":\"line_color\"},\"width\":{\"field\":\"width\",\"units\":\"data\"},\"x\":{\"field\":\"x\"},\"y\":{\"field\":\"y\"}},\"id\":\"e135ac99-f93c-4837-886d-7b346afb4f1a\",\"type\":\"Rect\"},{\"attributes\":{\"data_source\":{\"id\":\"63ce75c9-000c-46d0-a80d-49939755ac88\",\"type\":\"ColumnDataSource\"},\"glyph\":{\"id\":\"ae53445d-2a66-4c5d-92f0-5ef61b190596\",\"type\":\"Rect\"},\"hover_glyph\":null,\"muted_glyph\":null},\"id\":\"2b559ea8-7dfc-4c9d-8d33-b2fdad1f0a90\",\"type\":\"GlyphRenderer\"},{\"attributes\":{\"data_source\":{\"id\":\"66ed083f-7b19-44f5-a3a3-9ac11cae1ad4\",\"type\":\"ColumnDataSource\"},\"glyph\":{\"id\":\"04a79afd-6da6-4d09-850f-1f27cd58f30c\",\"type\":\"Rect\"},\"hover_glyph\":null,\"muted_glyph\":null},\"id\":\"a274ccc0-2dd5-4bc5-8ab7-d14743009ba5\",\"type\":\"GlyphRenderer\"},{\"attributes\":{\"fill_alpha\":{\"field\":\"fill_alpha\"},\"fill_color\":{\"field\":\"color\"},\"height\":{\"field\":\"height\",\"units\":\"data\"},\"line_color\":{\"field\":\"line_color\"},\"width\":{\"field\":\"width\",\"units\":\"data\"},\"x\":{\"field\":\"x\"},\"y\":{\"field\":\"y\"}},\"id\":\"91ce0448-b827-4a0f-ad0b-88e1ce6126ea\",\"type\":\"Rect\"},{\"attributes\":{\"callback\":null,\"column_names\":[\"x\",\"y\",\"width\",\"height\",\"color\",\"fill_alpha\",\"line_color\",\"line_alpha\",\"label\"],\"data\":{\"chart_index\":[\"(107.560000, 108.546667]\"],\"color\":[\"#f22c40\"],\"fill_alpha\":[0.8],\"height\":[0.0],\"label\":[\"(107.560000, 108.546667]\"],\"line_alpha\":[1.0],\"line_color\":[\"black\"],\"width\":[0.9866666666666646],\"x\":[\"108.05333350000001\"],\"y\":[0.0]}},\"id\":\"3c129943-faaa-46d2-aede-9f7c62860be6\",\"type\":\"ColumnDataSource\"},{\"attributes\":{\"callback\":null,\"column_names\":[\"x\",\"y\",\"width\",\"height\",\"color\",\"fill_alpha\",\"line_color\",\"line_alpha\",\"label\"],\"data\":{\"chart_index\":[\"(51.320000, 52.306667]\"],\"color\":[\"#f22c40\"],\"fill_alpha\":[0.8],\"height\":[2.0],\"label\":[\"(51.320000, 52.306667]\"],\"line_alpha\":[1.0],\"line_color\":[\"black\"],\"width\":[0.9866666666666646],\"x\":[\"51.8133335\"],\"y\":[1.0]}},\"id\":\"8a4a3943-f09c-4a2e-b1a8-14b72156f107\",\"type\":\"ColumnDataSource\"},{\"attributes\":{\"fill_alpha\":{\"field\":\"fill_alpha\"},\"fill_color\":{\"field\":\"color\"},\"height\":{\"field\":\"height\",\"units\":\"data\"},\"line_color\":{\"field\":\"line_color\"},\"width\":{\"field\":\"width\",\"units\":\"data\"},\"x\":{\"field\":\"x\"},\"y\":{\"field\":\"y\"}},\"id\":\"cd0f3cd3-cdc7-4700-86d3-bda10cb48704\",\"type\":\"Rect\"},{\"attributes\":{\"data_source\":{\"id\":\"9ff98abd-3fec-469e-840d-a51850d35f7f\",\"type\":\"ColumnDataSource\"},\"glyph\":{\"id\":\"10b8cf4b-468e-4459-8a3d-e1737b8261d7\",\"type\":\"Rect\"},\"hover_glyph\":null,\"muted_glyph\":null},\"id\":\"99fe8f1e-2d39-4535-9962-1bb96a896c97\",\"type\":\"GlyphRenderer\"},{\"attributes\":{\"fill_alpha\":{\"field\":\"fill_alpha\"},\"fill_color\":{\"field\":\"color\"},\"height\":{\"field\":\"height\",\"units\":\"data\"},\"line_color\":{\"field\":\"line_color\"},\"width\":{\"field\":\"width\",\"units\":\"data\"},\"x\":{\"field\":\"x\"},\"y\":{\"field\":\"y\"}},\"id\":\"d3ef024f-3cf9-456c-868a-b7840c79e2f9\",\"type\":\"Rect\"},{\"attributes\":{\"fill_alpha\":{\"field\":\"fill_alpha\"},\"fill_color\":{\"field\":\"color\"},\"height\":{\"field\":\"height\",\"units\":\"data\"},\"line_color\":{\"field\":\"line_color\"},\"width\":{\"field\":\"width\",\"units\":\"data\"},\"x\":{\"field\":\"x\"},\"y\":{\"field\":\"y\"}},\"id\":\"a43c13f5-f9ba-4483-8bf0-5d100ce5714c\",\"type\":\"Rect\"},{\"attributes\":{\"fill_alpha\":{\"field\":\"fill_alpha\"},\"fill_color\":{\"field\":\"color\"},\"height\":{\"field\":\"height\",\"units\":\"data\"},\"line_color\":{\"field\":\"line_color\"},\"width\":{\"field\":\"width\",\"units\":\"data\"},\"x\":{\"field\":\"x\"},\"y\":{\"field\":\"y\"}},\"id\":\"25403706-2954-447a-a500-10e3ddc5f863\",\"type\":\"Rect\"},{\"attributes\":{\"callback\":null,\"column_names\":[\"x\",\"y\",\"width\",\"height\",\"color\",\"fill_alpha\",\"line_color\",\"line_alpha\",\"label\"],\"data\":{\"chart_index\":[\"(108.546667, 109.533333]\"],\"color\":[\"#f22c40\"],\"fill_alpha\":[0.8],\"height\":[0.0],\"label\":[\"(108.546667, 109.533333]\"],\"line_alpha\":[1.0],\"line_color\":[\"black\"],\"width\":[0.9866666666666646],\"x\":[\"109.03999999999999\"],\"y\":[0.0]}},\"id\":\"64279a5b-5bc7-4ee2-93a5-e09518444aad\",\"type\":\"ColumnDataSource\"},{\"attributes\":{\"callback\":null,\"column_names\":[\"x\",\"y\",\"width\",\"height\",\"color\",\"fill_alpha\",\"line_color\",\"line_alpha\",\"label\"],\"data\":{\"chart_index\":[\"(50.333333, 51.320000]\"],\"color\":[\"#f22c40\"],\"fill_alpha\":[0.8],\"height\":[1.0],\"label\":[\"(50.333333, 51.320000]\"],\"line_alpha\":[1.0],\"line_color\":[\"black\"],\"width\":[0.9866666666666646],\"x\":[\"50.8266665\"],\"y\":[0.5]}},\"id\":\"052163d5-2d50-4476-8f78-e3bf4f2bbb63\",\"type\":\"ColumnDataSource\"},{\"attributes\":{\"data_source\":{\"id\":\"052163d5-2d50-4476-8f78-e3bf4f2bbb63\",\"type\":\"ColumnDataSource\"},\"glyph\":{\"id\":\"5dba3ea6-4a63-469b-9e66-2ed660994df3\",\"type\":\"Rect\"},\"hover_glyph\":null,\"muted_glyph\":null},\"id\":\"65abbe63-401e-45b5-b30f-a2d1d18b9ff4\",\"type\":\"GlyphRenderer\"},{\"attributes\":{\"callback\":null,\"column_names\":[\"x\",\"y\",\"width\",\"height\",\"color\",\"fill_alpha\",\"line_color\",\"line_alpha\",\"label\"],\"data\":{\"chart_index\":[\"(111.506667, 112.493333]\"],\"color\":[\"#f22c40\"],\"fill_alpha\":[0.8],\"height\":[0.0],\"label\":[\"(111.506667, 112.493333]\"],\"line_alpha\":[1.0],\"line_color\":[\"black\"],\"width\":[0.9866666666666646],\"x\":[\"112.0\"],\"y\":[0.0]}},\"id\":\"7fe1cc1c-9eca-4988-b39f-6db2b3a57af7\",\"type\":\"ColumnDataSource\"},{\"attributes\":{\"data_source\":{\"id\":\"ef0bd79e-b369-4588-92c6-c9d7e87e999d\",\"type\":\"ColumnDataSource\"},\"glyph\":{\"id\":\"309236d2-1d0b-4383-9a4c-93ba9220ed52\",\"type\":\"Rect\"},\"hover_glyph\":null,\"muted_glyph\":null},\"id\":\"6b913ca9-99c9-4504-b2eb-ada31c223492\",\"type\":\"GlyphRenderer\"},{\"attributes\":{\"data_source\":{\"id\":\"3c129943-faaa-46d2-aede-9f7c62860be6\",\"type\":\"ColumnDataSource\"},\"glyph\":{\"id\":\"cd0f3cd3-cdc7-4700-86d3-bda10cb48704\",\"type\":\"Rect\"},\"hover_glyph\":null,\"muted_glyph\":null},\"id\":\"cd4e880c-a4bd-4427-8e08-172152db1f19\",\"type\":\"GlyphRenderer\"},{\"attributes\":{\"data_source\":{\"id\":\"a5afc530-5adc-4010-ba72-2a5e930987ec\",\"type\":\"ColumnDataSource\"},\"glyph\":{\"id\":\"07d28621-eedf-4db6-923e-0e707ecc2472\",\"type\":\"Rect\"},\"hover_glyph\":null,\"muted_glyph\":null},\"id\":\"fc6831af-5840-4620-b09e-4e1490bcf131\",\"type\":\"GlyphRenderer\"},{\"attributes\":{\"fill_alpha\":{\"field\":\"fill_alpha\"},\"fill_color\":{\"field\":\"color\"},\"height\":{\"field\":\"height\",\"units\":\"data\"},\"line_color\":{\"field\":\"line_color\"},\"width\":{\"field\":\"width\",\"units\":\"data\"},\"x\":{\"field\":\"x\"},\"y\":{\"field\":\"y\"}},\"id\":\"fbef38af-8796-470a-aa2d-2b086a21f73b\",\"type\":\"Rect\"},{\"attributes\":{\"callback\":null,\"column_names\":[\"x\",\"y\",\"width\",\"height\",\"color\",\"fill_alpha\",\"line_color\",\"line_alpha\",\"label\"],\"data\":{\"chart_index\":[\"(53.293333, 54.280000]\"],\"color\":[\"#f22c40\"],\"fill_alpha\":[0.8],\"height\":[0.0],\"label\":[\"(53.293333, 54.280000]\"],\"line_alpha\":[1.0],\"line_color\":[\"black\"],\"width\":[0.9866666666666646],\"x\":[\"53.786666499999995\"],\"y\":[0.0]}},\"id\":\"a5afc530-5adc-4010-ba72-2a5e930987ec\",\"type\":\"ColumnDataSource\"},{\"attributes\":{\"data_source\":{\"id\":\"8a4a3943-f09c-4a2e-b1a8-14b72156f107\",\"type\":\"ColumnDataSource\"},\"glyph\":{\"id\":\"91ce0448-b827-4a0f-ad0b-88e1ce6126ea\",\"type\":\"Rect\"},\"hover_glyph\":null,\"muted_glyph\":null},\"id\":\"0eee55db-2209-41af-923c-4f0c5c301ff4\",\"type\":\"GlyphRenderer\"},{\"attributes\":{\"callback\":null,\"column_names\":[\"x\",\"y\",\"width\",\"height\",\"color\",\"fill_alpha\",\"line_color\",\"line_alpha\",\"label\"],\"data\":{\"chart_index\":[\"(54.280000, 55.266667]\"],\"color\":[\"#f22c40\"],\"fill_alpha\":[0.8],\"height\":[0.0],\"label\":[\"(54.280000, 55.266667]\"],\"line_alpha\":[1.0],\"line_color\":[\"black\"],\"width\":[0.9866666666666646],\"x\":[\"54.7733335\"],\"y\":[0.0]}},\"id\":\"a0134a99-9954-4bfd-8b04-c86ca649faeb\",\"type\":\"ColumnDataSource\"},{\"attributes\":{\"fill_alpha\":{\"field\":\"fill_alpha\"},\"fill_color\":{\"field\":\"color\"},\"height\":{\"field\":\"height\",\"units\":\"data\"},\"line_color\":{\"field\":\"line_color\"},\"width\":{\"field\":\"width\",\"units\":\"data\"},\"x\":{\"field\":\"x\"},\"y\":{\"field\":\"y\"}},\"id\":\"ca68bcfb-bbc8-4cf6-a868-fbba088e1686\",\"type\":\"Rect\"},{\"attributes\":{\"callback\":null,\"column_names\":[\"x\",\"y\",\"width\",\"height\",\"color\",\"fill_alpha\",\"line_color\",\"line_alpha\",\"label\"],\"data\":{\"chart_index\":[\"(110.520000, 111.506667]\"],\"color\":[\"#f22c40\"],\"fill_alpha\":[0.8],\"height\":[0.0],\"label\":[\"(110.520000, 111.506667]\"],\"line_alpha\":[1.0],\"line_color\":[\"black\"],\"width\":[0.9866666666666788],\"x\":[\"111.01333349999999\"],\"y\":[0.0]}},\"id\":\"ef0bd79e-b369-4588-92c6-c9d7e87e999d\",\"type\":\"ColumnDataSource\"},{\"attributes\":{\"data_source\":{\"id\":\"9270fe21-ef61-40d4-b61e-0fab86e002c6\",\"type\":\"ColumnDataSource\"},\"glyph\":{\"id\":\"b7a802c5-18c5-472c-a109-00e42bf3915e\",\"type\":\"Rect\"},\"hover_glyph\":null,\"muted_glyph\":null},\"id\":\"c151233e-00fd-4e29-bbd5-afda944f41c8\",\"type\":\"GlyphRenderer\"},{\"attributes\":{\"callback\":null,\"column_names\":[\"x\",\"y\",\"width\",\"height\",\"color\",\"fill_alpha\",\"line_color\",\"line_alpha\",\"label\"],\"data\":{\"chart_index\":[\"(61.186667, 62.173333]\"],\"color\":[\"#f22c40\"],\"fill_alpha\":[0.8],\"height\":[0.0],\"label\":[\"(61.186667, 62.173333]\"],\"line_alpha\":[1.0],\"line_color\":[\"black\"],\"width\":[0.9866666666666646],\"x\":[\"61.68\"],\"y\":[0.0]}},\"id\":\"e47f1cb3-f02d-43e1-839b-274131288e55\",\"type\":\"ColumnDataSource\"},{\"attributes\":{\"data_source\":{\"id\":\"64279a5b-5bc7-4ee2-93a5-e09518444aad\",\"type\":\"ColumnDataSource\"},\"glyph\":{\"id\":\"a43c13f5-f9ba-4483-8bf0-5d100ce5714c\",\"type\":\"Rect\"},\"hover_glyph\":null,\"muted_glyph\":null},\"id\":\"66754c16-95f6-4be5-bb13-04da5c244d44\",\"type\":\"GlyphRenderer\"},{\"attributes\":{\"fill_alpha\":{\"field\":\"fill_alpha\"},\"fill_color\":{\"field\":\"color\"},\"height\":{\"field\":\"height\",\"units\":\"data\"},\"line_color\":{\"field\":\"line_color\"},\"width\":{\"field\":\"width\",\"units\":\"data\"},\"x\":{\"field\":\"x\"},\"y\":{\"field\":\"y\"}},\"id\":\"3576acfa-93fa-4907-bf72-7bc91c0afcee\",\"type\":\"Rect\"},{\"attributes\":{\"data_source\":{\"id\":\"fba9b284-dcd5-4ad3-af70-d9948c3f6206\",\"type\":\"ColumnDataSource\"},\"glyph\":{\"id\":\"22ba4070-67d3-4965-a56a-a13d71fd3b2f\",\"type\":\"Rect\"},\"hover_glyph\":null,\"muted_glyph\":null},\"id\":\"565a5dbd-75b8-48a7-8f5d-1c897babebb7\",\"type\":\"GlyphRenderer\"},{\"attributes\":{\"callback\":null,\"column_names\":[\"x\",\"y\",\"width\",\"height\",\"color\",\"fill_alpha\",\"line_color\",\"line_alpha\",\"label\"],\"data\":{\"chart_index\":[\"(112.493333, 113.480000]\"],\"color\":[\"#f22c40\"],\"fill_alpha\":[0.8],\"height\":[0.0],\"label\":[\"(112.493333, 113.480000]\"],\"line_alpha\":[1.0],\"line_color\":[\"black\"],\"width\":[0.9866666666666646],\"x\":[\"112.98666650000001\"],\"y\":[0.0]}},\"id\":\"08067e06-e54e-40db-9e70-8ad105b3f3e2\",\"type\":\"ColumnDataSource\"},{\"attributes\":{\"data_source\":{\"id\":\"a0134a99-9954-4bfd-8b04-c86ca649faeb\",\"type\":\"ColumnDataSource\"},\"glyph\":{\"id\":\"ca68bcfb-bbc8-4cf6-a868-fbba088e1686\",\"type\":\"Rect\"},\"hover_glyph\":null,\"muted_glyph\":null},\"id\":\"17c96c96-b871-4210-b71c-fba4337a0c17\",\"type\":\"GlyphRenderer\"},{\"attributes\":{\"callback\":null,\"column_names\":[\"x\",\"y\",\"width\",\"height\",\"color\",\"fill_alpha\",\"line_color\",\"line_alpha\",\"label\"],\"data\":{\"chart_index\":[\"[1.000000, 1.986667]\"],\"color\":[\"#f22c40\"],\"fill_alpha\":[0.8],\"height\":[109.0],\"label\":[\"[1.000000, 1.986667]\"],\"line_alpha\":[1.0],\"line_color\":[\"black\"],\"width\":[0.9866666666666668],\"x\":[\"1.4933334999999999\"],\"y\":[54.5]}},\"id\":\"72c85bb1-3bf6-433c-b7a4-5f6e7b4d58b9\",\"type\":\"ColumnDataSource\"},{\"attributes\":{\"callback\":null,\"column_names\":[\"x\",\"y\",\"width\",\"height\",\"color\",\"fill_alpha\",\"line_color\",\"line_alpha\",\"label\"],\"data\":{\"chart_index\":[\"(55.266667, 56.253333]\"],\"color\":[\"#f22c40\"],\"fill_alpha\":[0.8],\"height\":[0.0],\"label\":[\"(55.266667, 56.253333]\"],\"line_alpha\":[1.0],\"line_color\":[\"black\"],\"width\":[0.9866666666666717],\"x\":[\"55.76\"],\"y\":[0.0]}},\"id\":\"b3565e9d-1531-4642-9699-f8dde246b927\",\"type\":\"ColumnDataSource\"},{\"attributes\":{\"fill_alpha\":{\"field\":\"fill_alpha\"},\"fill_color\":{\"field\":\"color\"},\"height\":{\"field\":\"height\",\"units\":\"data\"},\"line_color\":{\"field\":\"line_color\"},\"width\":{\"field\":\"width\",\"units\":\"data\"},\"x\":{\"field\":\"x\"},\"y\":{\"field\":\"y\"}},\"id\":\"8b8c00ce-beb5-4fba-92ad-edad24f7f827\",\"type\":\"Rect\"},{\"attributes\":{\"callback\":null,\"column_names\":[\"x\",\"y\",\"width\",\"height\",\"color\",\"fill_alpha\",\"line_color\",\"line_alpha\",\"label\"],\"data\":{\"chart_index\":[\"(123.346667, 124.333333]\"],\"color\":[\"#f22c40\"],\"fill_alpha\":[0.8],\"height\":[0.0],\"label\":[\"(123.346667, 124.333333]\"],\"line_alpha\":[1.0],\"line_color\":[\"black\"],\"width\":[0.9866666666666788],\"x\":[\"123.84\"],\"y\":[0.0]}},\"id\":\"9270fe21-ef61-40d4-b61e-0fab86e002c6\",\"type\":\"ColumnDataSource\"},{\"attributes\":{\"fill_alpha\":{\"field\":\"fill_alpha\"},\"fill_color\":{\"field\":\"color\"},\"height\":{\"field\":\"height\",\"units\":\"data\"},\"line_color\":{\"field\":\"line_color\"},\"width\":{\"field\":\"width\",\"units\":\"data\"},\"x\":{\"field\":\"x\"},\"y\":{\"field\":\"y\"}},\"id\":\"40447077-7629-429e-8d86-b68d5d78f6bc\",\"type\":\"Rect\"},{\"attributes\":{\"callback\":null,\"column_names\":[\"x\",\"y\",\"width\",\"height\",\"color\",\"fill_alpha\",\"line_color\",\"line_alpha\",\"label\"],\"data\":{\"chart_index\":[\"(56.253333, 57.240000]\"],\"color\":[\"#f22c40\"],\"fill_alpha\":[0.8],\"height\":[1.0],\"label\":[\"(56.253333, 57.240000]\"],\"line_alpha\":[1.0],\"line_color\":[\"black\"],\"width\":[0.9866666666666646],\"x\":[\"56.7466665\"],\"y\":[0.5]}},\"id\":\"85f8823e-a02b-4dd7-90c2-96f70dc60dc8\",\"type\":\"ColumnDataSource\"},{\"attributes\":{\"data_source\":{\"id\":\"7fe1cc1c-9eca-4988-b39f-6db2b3a57af7\",\"type\":\"ColumnDataSource\"},\"glyph\":{\"id\":\"3576acfa-93fa-4907-bf72-7bc91c0afcee\",\"type\":\"Rect\"},\"hover_glyph\":null,\"muted_glyph\":null},\"id\":\"c0012dec-9bc6-401d-a677-f2f9eb3d51d4\",\"type\":\"GlyphRenderer\"},{\"attributes\":{\"fill_alpha\":{\"field\":\"fill_alpha\"},\"fill_color\":{\"field\":\"color\"},\"height\":{\"field\":\"height\",\"units\":\"data\"},\"line_color\":{\"field\":\"line_color\"},\"width\":{\"field\":\"width\",\"units\":\"data\"},\"x\":{\"field\":\"x\"},\"y\":{\"field\":\"y\"}},\"id\":\"e273ae7f-4feb-47a6-9a7c-fe3cbb29d484\",\"type\":\"Rect\"},{\"attributes\":{\"fill_alpha\":{\"field\":\"fill_alpha\"},\"fill_color\":{\"field\":\"color\"},\"height\":{\"field\":\"height\",\"units\":\"data\"},\"line_color\":{\"field\":\"line_color\"},\"width\":{\"field\":\"width\",\"units\":\"data\"},\"x\":{\"field\":\"x\"},\"y\":{\"field\":\"y\"}},\"id\":\"ac267025-1c36-4248-97d2-409c1dff8956\",\"type\":\"Rect\"},{\"attributes\":{\"callback\":null,\"column_names\":[\"x\",\"y\",\"width\",\"height\",\"color\",\"fill_alpha\",\"line_color\",\"line_alpha\",\"label\"],\"data\":{\"chart_index\":[\"(113.480000, 114.466667]\"],\"color\":[\"#f22c40\"],\"fill_alpha\":[0.8],\"height\":[0.0],\"label\":[\"(113.480000, 114.466667]\"],\"line_alpha\":[1.0],\"line_color\":[\"black\"],\"width\":[0.9866666666666646],\"x\":[\"113.9733335\"],\"y\":[0.0]}},\"id\":\"4f1a9a14-6462-4003-b3e4-1973b01f1189\",\"type\":\"ColumnDataSource\"},{\"attributes\":{\"fill_alpha\":{\"field\":\"fill_alpha\"},\"fill_color\":{\"field\":\"color\"},\"height\":{\"field\":\"height\",\"units\":\"data\"},\"line_color\":{\"field\":\"line_color\"},\"width\":{\"field\":\"width\",\"units\":\"data\"},\"x\":{\"field\":\"x\"},\"y\":{\"field\":\"y\"}},\"id\":\"31922853-6a94-4043-9562-a7270fa64b73\",\"type\":\"Rect\"},{\"attributes\":{\"data_source\":{\"id\":\"b3565e9d-1531-4642-9699-f8dde246b927\",\"type\":\"ColumnDataSource\"},\"glyph\":{\"id\":\"8b8c00ce-beb5-4fba-92ad-edad24f7f827\",\"type\":\"Rect\"},\"hover_glyph\":null,\"muted_glyph\":null},\"id\":\"73f3d85a-9272-497f-ae36-31254f038cd7\",\"type\":\"GlyphRenderer\"},{\"attributes\":{\"fill_alpha\":{\"field\":\"fill_alpha\"},\"fill_color\":{\"field\":\"color\"},\"height\":{\"field\":\"height\",\"units\":\"data\"},\"line_color\":{\"field\":\"line_color\"},\"width\":{\"field\":\"width\",\"units\":\"data\"},\"x\":{\"field\":\"x\"},\"y\":{\"field\":\"y\"}},\"id\":\"d0bf3567-5e3b-49d1-a114-d694fc77be61\",\"type\":\"Rect\"},{\"attributes\":{\"fill_alpha\":{\"field\":\"fill_alpha\"},\"fill_color\":{\"field\":\"color\"},\"height\":{\"field\":\"height\",\"units\":\"data\"},\"line_color\":{\"field\":\"line_color\"},\"width\":{\"field\":\"width\",\"units\":\"data\"},\"x\":{\"field\":\"x\"},\"y\":{\"field\":\"y\"}},\"id\":\"9489dda7-2dce-4f57-8ca8-1f819579babe\",\"type\":\"Rect\"},{\"attributes\":{\"callback\":null,\"column_names\":[\"x\",\"y\",\"width\",\"height\",\"color\",\"fill_alpha\",\"line_color\",\"line_alpha\",\"label\"],\"data\":{\"chart_index\":[\"(57.240000, 58.226667]\"],\"color\":[\"#f22c40\"],\"fill_alpha\":[0.8],\"height\":[0.0],\"label\":[\"(57.240000, 58.226667]\"],\"line_alpha\":[1.0],\"line_color\":[\"black\"],\"width\":[0.9866666666666646],\"x\":[\"57.7333335\"],\"y\":[0.0]}},\"id\":\"176d9ad3-725b-4970-84ce-5e8c638ffd10\",\"type\":\"ColumnDataSource\"},{\"attributes\":{\"data_source\":{\"id\":\"08067e06-e54e-40db-9e70-8ad105b3f3e2\",\"type\":\"ColumnDataSource\"},\"glyph\":{\"id\":\"fbef38af-8796-470a-aa2d-2b086a21f73b\",\"type\":\"Rect\"},\"hover_glyph\":null,\"muted_glyph\":null},\"id\":\"4d90855c-1b99-47e4-8d53-65bbbf537e2b\",\"type\":\"GlyphRenderer\"},{\"attributes\":{\"data_source\":{\"id\":\"72c85bb1-3bf6-433c-b7a4-5f6e7b4d58b9\",\"type\":\"ColumnDataSource\"},\"glyph\":{\"id\":\"ac267025-1c36-4248-97d2-409c1dff8956\",\"type\":\"Rect\"},\"hover_glyph\":null,\"muted_glyph\":null},\"id\":\"cb212350-85b2-412b-85b1-fb0405cb11dc\",\"type\":\"GlyphRenderer\"},{\"attributes\":{\"fill_alpha\":{\"field\":\"fill_alpha\"},\"fill_color\":{\"field\":\"color\"},\"height\":{\"field\":\"height\",\"units\":\"data\"},\"line_color\":{\"field\":\"line_color\"},\"width\":{\"field\":\"width\",\"units\":\"data\"},\"x\":{\"field\":\"x\"},\"y\":{\"field\":\"y\"}},\"id\":\"cb7d9869-0ad8-4089-bf24-46615a69a34b\",\"type\":\"Rect\"},{\"attributes\":{\"callback\":null,\"column_names\":[\"x\",\"y\",\"width\",\"height\",\"color\",\"fill_alpha\",\"line_color\",\"line_alpha\",\"label\"],\"data\":{\"chart_index\":[\"(1.986667, 2.973333]\"],\"color\":[\"#f22c40\"],\"fill_alpha\":[0.8],\"height\":[59.0],\"label\":[\"(1.986667, 2.973333]\"],\"line_alpha\":[1.0],\"line_color\":[\"black\"],\"width\":[0.9866666666666668],\"x\":[\"2.48\"],\"y\":[29.5]}},\"id\":\"3d784632-63a8-4378-9ee7-d4b472d55f12\",\"type\":\"ColumnDataSource\"},{\"attributes\":{\"callback\":null,\"column_names\":[\"x\",\"y\",\"width\",\"height\",\"color\",\"fill_alpha\",\"line_color\",\"line_alpha\",\"label\"],\"data\":{\"chart_index\":[\"(114.466667, 115.453333]\"],\"color\":[\"#f22c40\"],\"fill_alpha\":[0.8],\"height\":[0.0],\"label\":[\"(114.466667, 115.453333]\"],\"line_alpha\":[1.0],\"line_color\":[\"black\"],\"width\":[0.9866666666666646],\"x\":[\"114.96000000000001\"],\"y\":[0.0]}},\"id\":\"a18134c2-331d-42cd-bfa8-c45b32ce16bd\",\"type\":\"ColumnDataSource\"},{\"attributes\":{\"fill_alpha\":{\"field\":\"fill_alpha\"},\"fill_color\":{\"field\":\"color\"},\"height\":{\"field\":\"height\",\"units\":\"data\"},\"line_color\":{\"field\":\"line_color\"},\"width\":{\"field\":\"width\",\"units\":\"data\"},\"x\":{\"field\":\"x\"},\"y\":{\"field\":\"y\"}},\"id\":\"fe00937d-7c5a-47ed-9af7-f15376c6ae7f\",\"type\":\"Rect\"},{\"attributes\":{\"callback\":null,\"column_names\":[\"x\",\"y\",\"width\",\"height\",\"color\",\"fill_alpha\",\"line_color\",\"line_alpha\",\"label\"],\"data\":{\"chart_index\":[\"(3.960000, 4.946667]\"],\"color\":[\"#f22c40\"],\"fill_alpha\":[0.8],\"height\":[23.0],\"label\":[\"(3.960000, 4.946667]\"],\"line_alpha\":[1.0],\"line_color\":[\"black\"],\"width\":[0.9866666666666672],\"x\":[\"4.453333499999999\"],\"y\":[11.5]}},\"id\":\"44ee905e-8cda-4aff-bb4f-fc3c744e5803\",\"type\":\"ColumnDataSource\"},{\"attributes\":{\"data_source\":{\"id\":\"85f8823e-a02b-4dd7-90c2-96f70dc60dc8\",\"type\":\"ColumnDataSource\"},\"glyph\":{\"id\":\"25403706-2954-447a-a500-10e3ddc5f863\",\"type\":\"Rect\"},\"hover_glyph\":null,\"muted_glyph\":null},\"id\":\"77a3d469-e936-4c67-a594-46b273558745\",\"type\":\"GlyphRenderer\"},{\"attributes\":{\"fill_alpha\":{\"field\":\"fill_alpha\"},\"fill_color\":{\"field\":\"color\"},\"height\":{\"field\":\"height\",\"units\":\"data\"},\"line_color\":{\"field\":\"line_color\"},\"width\":{\"field\":\"width\",\"units\":\"data\"},\"x\":{\"field\":\"x\"},\"y\":{\"field\":\"y\"}},\"id\":\"6423b750-1fb8-44cc-9056-65519323b153\",\"type\":\"Rect\"},{\"attributes\":{\"fill_alpha\":{\"field\":\"fill_alpha\"},\"fill_color\":{\"field\":\"color\"},\"height\":{\"field\":\"height\",\"units\":\"data\"},\"line_color\":{\"field\":\"line_color\"},\"width\":{\"field\":\"width\",\"units\":\"data\"},\"x\":{\"field\":\"x\"},\"y\":{\"field\":\"y\"}},\"id\":\"b3edd1be-acfc-45a1-968b-c1f960b35e8b\",\"type\":\"Rect\"},{\"attributes\":{\"callback\":null,\"column_names\":[\"x\",\"y\",\"width\",\"height\",\"color\",\"fill_alpha\",\"line_color\",\"line_alpha\",\"label\"],\"data\":{\"chart_index\":[\"(119.400000, 120.386667]\"],\"color\":[\"#f22c40\"],\"fill_alpha\":[0.8],\"height\":[0.0],\"label\":[\"(119.400000, 120.386667]\"],\"line_alpha\":[1.0],\"line_color\":[\"black\"],\"width\":[0.9866666666666646],\"x\":[\"119.89333350000001\"],\"y\":[0.0]}},\"id\":\"e0d6e339-2dfa-41ab-a576-3411d79e9898\",\"type\":\"ColumnDataSource\"},{\"attributes\":{\"data_source\":{\"id\":\"4f1a9a14-6462-4003-b3e4-1973b01f1189\",\"type\":\"ColumnDataSource\"},\"glyph\":{\"id\":\"e273ae7f-4feb-47a6-9a7c-fe3cbb29d484\",\"type\":\"Rect\"},\"hover_glyph\":null,\"muted_glyph\":null},\"id\":\"c9fd4fc4-fec0-4b8d-a6c3-0ff5220dd441\",\"type\":\"GlyphRenderer\"},{\"attributes\":{\"callback\":null,\"column_names\":[\"x\",\"y\",\"width\",\"height\",\"color\",\"fill_alpha\",\"line_color\",\"line_alpha\",\"label\"],\"data\":{\"chart_index\":[\"(2.973333, 3.960000]\"],\"color\":[\"#f22c40\"],\"fill_alpha\":[0.8],\"height\":[24.0],\"label\":[\"(2.973333, 3.960000]\"],\"line_alpha\":[1.0],\"line_color\":[\"black\"],\"width\":[0.9866666666666664],\"x\":[\"3.4666664999999997\"],\"y\":[12.0]}},\"id\":\"cc00afb0-6bc7-4a6e-890a-6e9a031858f4\",\"type\":\"ColumnDataSource\"},{\"attributes\":{\"fill_alpha\":{\"field\":\"fill_alpha\"},\"fill_color\":{\"field\":\"color\"},\"height\":{\"field\":\"height\",\"units\":\"data\"},\"line_color\":{\"field\":\"line_color\"},\"width\":{\"field\":\"width\",\"units\":\"data\"},\"x\":{\"field\":\"x\"},\"y\":{\"field\":\"y\"}},\"id\":\"cadcfb35-2aba-4765-b5eb-878bfc9c79e6\",\"type\":\"Rect\"},{\"attributes\":{\"data_source\":{\"id\":\"3d784632-63a8-4378-9ee7-d4b472d55f12\",\"type\":\"ColumnDataSource\"},\"glyph\":{\"id\":\"fe00937d-7c5a-47ed-9af7-f15376c6ae7f\",\"type\":\"Rect\"},\"hover_glyph\":null,\"muted_glyph\":null},\"id\":\"a0d4cb44-9a9a-4faa-97c2-8c15ede44e05\",\"type\":\"GlyphRenderer\"},{\"attributes\":{\"callback\":null,\"column_names\":[\"x\",\"y\",\"width\",\"height\",\"color\",\"fill_alpha\",\"line_color\",\"line_alpha\",\"label\"],\"data\":{\"chart_index\":[\"(115.453333, 116.440000]\"],\"color\":[\"#f22c40\"],\"fill_alpha\":[0.8],\"height\":[0.0],\"label\":[\"(115.453333, 116.440000]\"],\"line_alpha\":[1.0],\"line_color\":[\"black\"],\"width\":[0.9866666666666646],\"x\":[\"115.94666649999999\"],\"y\":[0.0]}},\"id\":\"059de206-15bb-4a7c-8cce-cc9d6d1b41ec\",\"type\":\"ColumnDataSource\"},{\"attributes\":{\"data_source\":{\"id\":\"176d9ad3-725b-4970-84ce-5e8c638ffd10\",\"type\":\"ColumnDataSource\"},\"glyph\":{\"id\":\"9489dda7-2dce-4f57-8ca8-1f819579babe\",\"type\":\"Rect\"},\"hover_glyph\":null,\"muted_glyph\":null},\"id\":\"7854b479-90e3-413a-aa02-54877a15fde6\",\"type\":\"GlyphRenderer\"},{\"attributes\":{\"data_source\":{\"id\":\"f3e6e73b-c65b-427c-8029-cd0f915ec7f5\",\"type\":\"ColumnDataSource\"},\"glyph\":{\"id\":\"a2f87108-7ce3-4cca-a1ba-bb943cd5b105\",\"type\":\"Rect\"},\"hover_glyph\":null,\"muted_glyph\":null},\"id\":\"064bac7c-f52b-4668-a6da-a2c567ec7e00\",\"type\":\"GlyphRenderer\"},{\"attributes\":{\"fill_alpha\":{\"field\":\"fill_alpha\"},\"fill_color\":{\"field\":\"color\"},\"height\":{\"field\":\"height\",\"units\":\"data\"},\"line_color\":{\"field\":\"line_color\"},\"width\":{\"field\":\"width\",\"units\":\"data\"},\"x\":{\"field\":\"x\"},\"y\":{\"field\":\"y\"}},\"id\":\"c146ac6c-dbf9-46e0-b1cc-a748586792a3\",\"type\":\"Rect\"},{\"attributes\":{\"callback\":null,\"column_names\":[\"x\",\"y\",\"width\",\"height\",\"color\",\"fill_alpha\",\"line_color\",\"line_alpha\",\"label\"],\"data\":{\"chart_index\":[\"(58.226667, 59.213333]\"],\"color\":[\"#f22c40\"],\"fill_alpha\":[0.8],\"height\":[0.0],\"label\":[\"(58.226667, 59.213333]\"],\"line_alpha\":[1.0],\"line_color\":[\"black\"],\"width\":[0.9866666666666717],\"x\":[\"58.72\"],\"y\":[0.0]}},\"id\":\"f3310499-2274-4a03-9aff-0c25deef86e5\",\"type\":\"ColumnDataSource\"},{\"attributes\":{\"data_source\":{\"id\":\"cc00afb0-6bc7-4a6e-890a-6e9a031858f4\",\"type\":\"ColumnDataSource\"},\"glyph\":{\"id\":\"d0bf3567-5e3b-49d1-a114-d694fc77be61\",\"type\":\"Rect\"},\"hover_glyph\":null,\"muted_glyph\":null},\"id\":\"4a9ac825-136d-4831-a466-da51b3d79c03\",\"type\":\"GlyphRenderer\"},{\"attributes\":{\"fill_alpha\":{\"field\":\"fill_alpha\"},\"fill_color\":{\"field\":\"color\"},\"height\":{\"field\":\"height\",\"units\":\"data\"},\"line_color\":{\"field\":\"line_color\"},\"width\":{\"field\":\"width\",\"units\":\"data\"},\"x\":{\"field\":\"x\"},\"y\":{\"field\":\"y\"}},\"id\":\"3b3d0eab-c06b-45cd-a243-08aba678834b\",\"type\":\"Rect\"},{\"attributes\":{\"callback\":null,\"column_names\":[\"x\",\"y\",\"width\",\"height\",\"color\",\"fill_alpha\",\"line_color\",\"line_alpha\",\"label\"],\"data\":{\"chart_index\":[\"(117.426667, 118.413333]\"],\"color\":[\"#f22c40\"],\"fill_alpha\":[0.8],\"height\":[0.0],\"label\":[\"(117.426667, 118.413333]\"],\"line_alpha\":[1.0],\"line_color\":[\"black\"],\"width\":[0.9866666666666646],\"x\":[\"117.91999999999999\"],\"y\":[0.0]}},\"id\":\"f3e6e73b-c65b-427c-8029-cd0f915ec7f5\",\"type\":\"ColumnDataSource\"},{\"attributes\":{\"data_source\":{\"id\":\"a18134c2-331d-42cd-bfa8-c45b32ce16bd\",\"type\":\"ColumnDataSource\"},\"glyph\":{\"id\":\"cb7d9869-0ad8-4089-bf24-46615a69a34b\",\"type\":\"Rect\"},\"hover_glyph\":null,\"muted_glyph\":null},\"id\":\"a3cae78e-89a5-44fe-aa74-a95cd702156a\",\"type\":\"GlyphRenderer\"},{\"attributes\":{\"fill_alpha\":{\"field\":\"fill_alpha\"},\"fill_color\":{\"field\":\"color\"},\"height\":{\"field\":\"height\",\"units\":\"data\"},\"line_color\":{\"field\":\"line_color\"},\"width\":{\"field\":\"width\",\"units\":\"data\"},\"x\":{\"field\":\"x\"},\"y\":{\"field\":\"y\"}},\"id\":\"808c0a96-9a32-4b5b-ac76-e4d18f0dd906\",\"type\":\"Rect\"},{\"attributes\":{\"fill_alpha\":{\"field\":\"fill_alpha\"},\"fill_color\":{\"field\":\"color\"},\"height\":{\"field\":\"height\",\"units\":\"data\"},\"line_color\":{\"field\":\"line_color\"},\"width\":{\"field\":\"width\",\"units\":\"data\"},\"x\":{\"field\":\"x\"},\"y\":{\"field\":\"y\"}},\"id\":\"22ba4070-67d3-4965-a56a-a13d71fd3b2f\",\"type\":\"Rect\"},{\"attributes\":{\"data_source\":{\"id\":\"6985511a-5d6b-4d6f-95d6-cd050aecaa1b\",\"type\":\"ColumnDataSource\"},\"glyph\":{\"id\":\"3a7d7528-2d7d-48ca-b922-d3b22669ba91\",\"type\":\"Rect\"},\"hover_glyph\":null,\"muted_glyph\":null},\"id\":\"92bb8a41-47ec-4b11-ad29-95135a332463\",\"type\":\"GlyphRenderer\"},{\"attributes\":{\"callback\":null,\"column_names\":[\"x\",\"y\",\"width\",\"height\",\"color\",\"fill_alpha\",\"line_color\",\"line_alpha\",\"label\"],\"data\":{\"chart_index\":[\"(4.946667, 5.933333]\"],\"color\":[\"#f22c40\"],\"fill_alpha\":[0.8],\"height\":[23.0],\"label\":[\"(4.946667, 5.933333]\"],\"line_alpha\":[1.0],\"line_color\":[\"black\"],\"width\":[0.9866666666666664],\"x\":[\"5.4399999999999995\"],\"y\":[11.5]}},\"id\":\"8f6cc50d-44ff-4f65-abd3-daa5ca13741c\",\"type\":\"ColumnDataSource\"},{\"attributes\":{\"fill_alpha\":{\"field\":\"fill_alpha\"},\"fill_color\":{\"field\":\"color\"},\"height\":{\"field\":\"height\",\"units\":\"data\"},\"line_color\":{\"field\":\"line_color\"},\"width\":{\"field\":\"width\",\"units\":\"data\"},\"x\":{\"field\":\"x\"},\"y\":{\"field\":\"y\"}},\"id\":\"3a7d7528-2d7d-48ca-b922-d3b22669ba91\",\"type\":\"Rect\"},{\"attributes\":{\"data_source\":{\"id\":\"ed4dff0e-1290-4b0a-8dc2-d8f16b730214\",\"type\":\"ColumnDataSource\"},\"glyph\":{\"id\":\"df9e1c44-284f-49b5-b241-beed2f333d5f\",\"type\":\"Rect\"},\"hover_glyph\":null,\"muted_glyph\":null},\"id\":\"0a7e5b0d-d982-4a0a-a332-e9ce3d04ad8b\",\"type\":\"GlyphRenderer\"},{\"attributes\":{\"data_source\":{\"id\":\"0aca39ad-f5c8-4050-8278-241146c4a57e\",\"type\":\"ColumnDataSource\"},\"glyph\":{\"id\":\"31922853-6a94-4043-9562-a7270fa64b73\",\"type\":\"Rect\"},\"hover_glyph\":null,\"muted_glyph\":null},\"id\":\"0585779a-96cb-42d7-9aad-22eba2fa05b1\",\"type\":\"GlyphRenderer\"},{\"attributes\":{\"data_source\":{\"id\":\"8da59fa8-cd0b-434f-9519-c40c794ed8ab\",\"type\":\"ColumnDataSource\"},\"glyph\":{\"id\":\"81b8995a-3d97-4830-8d8e-368afb63390e\",\"type\":\"Rect\"},\"hover_glyph\":null,\"muted_glyph\":null},\"id\":\"945b7fa4-a86b-4535-93c6-f404602a799d\",\"type\":\"GlyphRenderer\"},{\"attributes\":{\"data_source\":{\"id\":\"f3310499-2274-4a03-9aff-0c25deef86e5\",\"type\":\"ColumnDataSource\"},\"glyph\":{\"id\":\"3b3d0eab-c06b-45cd-a243-08aba678834b\",\"type\":\"Rect\"},\"hover_glyph\":null,\"muted_glyph\":null},\"id\":\"8b44e65f-a676-4fb2-a9d9-f8cb547a2b0b\",\"type\":\"GlyphRenderer\"},{\"attributes\":{\"fill_alpha\":{\"field\":\"fill_alpha\"},\"fill_color\":{\"field\":\"color\"},\"height\":{\"field\":\"height\",\"units\":\"data\"},\"line_color\":{\"field\":\"line_color\"},\"width\":{\"field\":\"width\",\"units\":\"data\"},\"x\":{\"field\":\"x\"},\"y\":{\"field\":\"y\"}},\"id\":\"81b8995a-3d97-4830-8d8e-368afb63390e\",\"type\":\"Rect\"},{\"attributes\":{\"data_source\":{\"id\":\"44ee905e-8cda-4aff-bb4f-fc3c744e5803\",\"type\":\"ColumnDataSource\"},\"glyph\":{\"id\":\"40447077-7629-429e-8d86-b68d5d78f6bc\",\"type\":\"Rect\"},\"hover_glyph\":null,\"muted_glyph\":null},\"id\":\"26debf42-76b6-4519-93fd-cdfbe59fe65c\",\"type\":\"GlyphRenderer\"},{\"attributes\":{\"data_source\":{\"id\":\"b23304c2-872a-4d5e-b291-e57384a7b7ae\",\"type\":\"ColumnDataSource\"},\"glyph\":{\"id\":\"c146ac6c-dbf9-46e0-b1cc-a748586792a3\",\"type\":\"Rect\"},\"hover_glyph\":null,\"muted_glyph\":null},\"id\":\"7dd4047a-6860-4b1c-b505-2ce5879646e5\",\"type\":\"GlyphRenderer\"},{\"attributes\":{\"data_source\":{\"id\":\"059de206-15bb-4a7c-8cce-cc9d6d1b41ec\",\"type\":\"ColumnDataSource\"},\"glyph\":{\"id\":\"cadcfb35-2aba-4765-b5eb-878bfc9c79e6\",\"type\":\"Rect\"},\"hover_glyph\":null,\"muted_glyph\":null},\"id\":\"60f8370d-5b91-4157-99fe-f7e5b4a71fbc\",\"type\":\"GlyphRenderer\"},{\"attributes\":{\"fill_alpha\":{\"field\":\"fill_alpha\"},\"fill_color\":{\"field\":\"color\"},\"height\":{\"field\":\"height\",\"units\":\"data\"},\"line_color\":{\"field\":\"line_color\"},\"width\":{\"field\":\"width\",\"units\":\"data\"},\"x\":{\"field\":\"x\"},\"y\":{\"field\":\"y\"}},\"id\":\"0f087cd5-8e4a-4f47-915b-d70d76bb443a\",\"type\":\"Rect\"},{\"attributes\":{\"callback\":null,\"column_names\":[\"x\",\"y\",\"width\",\"height\",\"color\",\"fill_alpha\",\"line_color\",\"line_alpha\",\"label\"],\"data\":{\"chart_index\":[\"(60.200000, 61.186667]\"],\"color\":[\"#f22c40\"],\"fill_alpha\":[0.8],\"height\":[0.0],\"label\":[\"(60.200000, 61.186667]\"],\"line_alpha\":[1.0],\"line_color\":[\"black\"],\"width\":[0.9866666666666646],\"x\":[\"60.6933335\"],\"y\":[0.0]}},\"id\":\"fba9b284-dcd5-4ad3-af70-d9948c3f6206\",\"type\":\"ColumnDataSource\"},{\"attributes\":{\"fill_alpha\":{\"field\":\"fill_alpha\"},\"fill_color\":{\"field\":\"color\"},\"height\":{\"field\":\"height\",\"units\":\"data\"},\"line_color\":{\"field\":\"line_color\"},\"width\":{\"field\":\"width\",\"units\":\"data\"},\"x\":{\"field\":\"x\"},\"y\":{\"field\":\"y\"}},\"id\":\"df9e1c44-284f-49b5-b241-beed2f333d5f\",\"type\":\"Rect\"},{\"attributes\":{\"callback\":null,\"column_names\":[\"x\",\"y\",\"width\",\"height\",\"color\",\"fill_alpha\",\"line_color\",\"line_alpha\",\"label\"],\"data\":{\"chart_index\":[\"(8.893333, 9.880000]\"],\"color\":[\"#f22c40\"],\"fill_alpha\":[0.8],\"height\":[6.0],\"label\":[\"(8.893333, 9.880000]\"],\"line_alpha\":[1.0],\"line_color\":[\"black\"],\"width\":[0.9866666666666664],\"x\":[\"9.3866665\"],\"y\":[3.0]}},\"id\":\"8da59fa8-cd0b-434f-9519-c40c794ed8ab\",\"type\":\"ColumnDataSource\"},{\"attributes\":{\"fill_alpha\":{\"field\":\"fill_alpha\"},\"fill_color\":{\"field\":\"color\"},\"height\":{\"field\":\"height\",\"units\":\"data\"},\"line_color\":{\"field\":\"line_color\"},\"width\":{\"field\":\"width\",\"units\":\"data\"},\"x\":{\"field\":\"x\"},\"y\":{\"field\":\"y\"}},\"id\":\"9e700bfc-9427-4177-9ed3-a7d93ab7f3a4\",\"type\":\"Rect\"},{\"attributes\":{\"callback\":null,\"column_names\":[\"x\",\"y\",\"width\",\"height\",\"color\",\"fill_alpha\",\"line_color\",\"line_alpha\",\"label\"],\"data\":{\"chart_index\":[\"(118.413333, 119.400000]\"],\"color\":[\"#f22c40\"],\"fill_alpha\":[0.8],\"height\":[0.0],\"label\":[\"(118.413333, 119.400000]\"],\"line_alpha\":[1.0],\"line_color\":[\"black\"],\"width\":[0.9866666666666646],\"x\":[\"118.9066665\"],\"y\":[0.0]}},\"id\":\"6985511a-5d6b-4d6f-95d6-cd050aecaa1b\",\"type\":\"ColumnDataSource\"},{\"attributes\":{\"fill_alpha\":{\"field\":\"fill_alpha\"},\"fill_color\":{\"field\":\"color\"},\"height\":{\"field\":\"height\",\"units\":\"data\"},\"line_color\":{\"field\":\"line_color\"},\"width\":{\"field\":\"width\",\"units\":\"data\"},\"x\":{\"field\":\"x\"},\"y\":{\"field\":\"y\"}},\"id\":\"127df408-b974-4566-a4b8-e8c1158000dc\",\"type\":\"Rect\"},{\"attributes\":{\"data_source\":{\"id\":\"8f6cc50d-44ff-4f65-abd3-daa5ca13741c\",\"type\":\"ColumnDataSource\"},\"glyph\":{\"id\":\"808c0a96-9a32-4b5b-ac76-e4d18f0dd906\",\"type\":\"Rect\"},\"hover_glyph\":null,\"muted_glyph\":null},\"id\":\"740b3a8c-d452-4602-aec7-6bf4f76f433c\",\"type\":\"GlyphRenderer\"},{\"attributes\":{\"fill_alpha\":{\"field\":\"fill_alpha\"},\"fill_color\":{\"field\":\"color\"},\"height\":{\"field\":\"height\",\"units\":\"data\"},\"line_color\":{\"field\":\"line_color\"},\"width\":{\"field\":\"width\",\"units\":\"data\"},\"x\":{\"field\":\"x\"},\"y\":{\"field\":\"y\"}},\"id\":\"63a709d2-5192-4691-b894-cd4b893289ec\",\"type\":\"Rect\"},{\"attributes\":{\"fill_alpha\":{\"field\":\"fill_alpha\"},\"fill_color\":{\"field\":\"color\"},\"height\":{\"field\":\"height\",\"units\":\"data\"},\"line_color\":{\"field\":\"line_color\"},\"width\":{\"field\":\"width\",\"units\":\"data\"},\"x\":{\"field\":\"x\"},\"y\":{\"field\":\"y\"}},\"id\":\"e2adddc2-2d21-4bba-8d71-cc7caf43c537\",\"type\":\"Rect\"},{\"attributes\":{\"fill_alpha\":{\"field\":\"fill_alpha\"},\"fill_color\":{\"field\":\"color\"},\"height\":{\"field\":\"height\",\"units\":\"data\"},\"line_color\":{\"field\":\"line_color\"},\"width\":{\"field\":\"width\",\"units\":\"data\"},\"x\":{\"field\":\"x\"},\"y\":{\"field\":\"y\"}},\"id\":\"b7a802c5-18c5-472c-a109-00e42bf3915e\",\"type\":\"Rect\"},{\"attributes\":{\"data_source\":{\"id\":\"e47f1cb3-f02d-43e1-839b-274131288e55\",\"type\":\"ColumnDataSource\"},\"glyph\":{\"id\":\"6423b750-1fb8-44cc-9056-65519323b153\",\"type\":\"Rect\"},\"hover_glyph\":null,\"muted_glyph\":null},\"id\":\"fda316df-b734-4d7e-a75e-e9559dd12e30\",\"type\":\"GlyphRenderer\"},{\"attributes\":{\"fill_alpha\":{\"field\":\"fill_alpha\"},\"fill_color\":{\"field\":\"color\"},\"height\":{\"field\":\"height\",\"units\":\"data\"},\"line_color\":{\"field\":\"line_color\"},\"width\":{\"field\":\"width\",\"units\":\"data\"},\"x\":{\"field\":\"x\"},\"y\":{\"field\":\"y\"}},\"id\":\"38ea3d2b-f721-4784-bd78-5af2442df457\",\"type\":\"Rect\"},{\"attributes\":{\"fill_alpha\":{\"field\":\"fill_alpha\"},\"fill_color\":{\"field\":\"color\"},\"height\":{\"field\":\"height\",\"units\":\"data\"},\"line_color\":{\"field\":\"line_color\"},\"width\":{\"field\":\"width\",\"units\":\"data\"},\"x\":{\"field\":\"x\"},\"y\":{\"field\":\"y\"}},\"id\":\"15c338dc-ac26-420a-a034-31732eb5010e\",\"type\":\"Rect\"},{\"attributes\":{\"callback\":null,\"column_names\":[\"x\",\"y\",\"width\",\"height\",\"color\",\"fill_alpha\",\"line_color\",\"line_alpha\",\"label\"],\"data\":{\"chart_index\":[\"(75.986667, 76.973333]\"],\"color\":[\"#f22c40\"],\"fill_alpha\":[0.8],\"height\":[0.0],\"label\":[\"(75.986667, 76.973333]\"],\"line_alpha\":[1.0],\"line_color\":[\"black\"],\"width\":[0.9866666666666646],\"x\":[\"76.47999999999999\"],\"y\":[0.0]}},\"id\":\"61407195-7d02-44c7-b859-11cd3ccd803e\",\"type\":\"ColumnDataSource\"},{\"attributes\":{\"fill_alpha\":{\"field\":\"fill_alpha\"},\"fill_color\":{\"field\":\"color\"},\"height\":{\"field\":\"height\",\"units\":\"data\"},\"line_color\":{\"field\":\"line_color\"},\"width\":{\"field\":\"width\",\"units\":\"data\"},\"x\":{\"field\":\"x\"},\"y\":{\"field\":\"y\"}},\"id\":\"ac149a05-c61a-445e-9615-dcde31e6a01d\",\"type\":\"Rect\"},{\"attributes\":{\"data_source\":{\"id\":\"3ee05e22-8a8c-41de-828e-ec198210cfd4\",\"type\":\"ColumnDataSource\"},\"glyph\":{\"id\":\"26699696-0e69-4b64-bd3c-105bb43cf494\",\"type\":\"Rect\"},\"hover_glyph\":null,\"muted_glyph\":null},\"id\":\"8b256ef5-3d66-4a52-b441-2fde11d2e032\",\"type\":\"GlyphRenderer\"},{\"attributes\":{\"callback\":null,\"column_names\":[\"x\",\"y\",\"width\",\"height\",\"color\",\"fill_alpha\",\"line_color\",\"line_alpha\",\"label\"],\"data\":{\"chart_index\":[\"(5.933333, 6.920000]\"],\"color\":[\"#f22c40\"],\"fill_alpha\":[0.8],\"height\":[13.0],\"label\":[\"(5.933333, 6.920000]\"],\"line_alpha\":[1.0],\"line_color\":[\"black\"],\"width\":[0.9866666666666664],\"x\":[\"6.4266665\"],\"y\":[6.5]}},\"id\":\"979142fb-acd2-46d5-9eee-a37fbac28cf4\",\"type\":\"ColumnDataSource\"},{\"attributes\":{\"callback\":null,\"column_names\":[\"x\",\"y\",\"width\",\"height\",\"color\",\"fill_alpha\",\"line_color\",\"line_alpha\",\"label\"],\"data\":{\"chart_index\":[\"(18.760000, 19.746667]\"],\"color\":[\"#f22c40\"],\"fill_alpha\":[0.8],\"height\":[3.0],\"label\":[\"(18.760000, 19.746667]\"],\"line_alpha\":[1.0],\"line_color\":[\"black\"],\"width\":[0.9866666666666646],\"x\":[\"19.2533335\"],\"y\":[1.5]}},\"id\":\"80cf2031-9902-4ed4-aa1d-32f849ebb274\",\"type\":\"ColumnDataSource\"},{\"attributes\":{\"data_source\":{\"id\":\"ec2653f6-f1b9-43b2-9f7b-01416bc0b009\",\"type\":\"ColumnDataSource\"},\"glyph\":{\"id\":\"3d6cb44f-a4ec-422c-8721-a09acf59a2f8\",\"type\":\"Rect\"},\"hover_glyph\":null,\"muted_glyph\":null},\"id\":\"06a4fc61-d33b-44aa-af9c-4e94eedb4a3b\",\"type\":\"GlyphRenderer\"},{\"attributes\":{\"fill_alpha\":{\"field\":\"fill_alpha\"},\"fill_color\":{\"field\":\"color\"},\"height\":{\"field\":\"height\",\"units\":\"data\"},\"line_color\":{\"field\":\"line_color\"},\"width\":{\"field\":\"width\",\"units\":\"data\"},\"x\":{\"field\":\"x\"},\"y\":{\"field\":\"y\"}},\"id\":\"4920bf92-d0a7-44e2-81b6-654d0bd6ba14\",\"type\":\"Rect\"},{\"attributes\":{\"fill_alpha\":{\"field\":\"fill_alpha\"},\"fill_color\":{\"field\":\"color\"},\"height\":{\"field\":\"height\",\"units\":\"data\"},\"line_color\":{\"field\":\"line_color\"},\"width\":{\"field\":\"width\",\"units\":\"data\"},\"x\":{\"field\":\"x\"},\"y\":{\"field\":\"y\"}},\"id\":\"1ee14dce-48b5-4202-8e55-3683f0803abf\",\"type\":\"Rect\"},{\"attributes\":{\"callback\":null,\"column_names\":[\"x\",\"y\",\"width\",\"height\",\"color\",\"fill_alpha\",\"line_color\",\"line_alpha\",\"label\"],\"data\":{\"chart_index\":[\"(6.920000, 7.906667]\"],\"color\":[\"#f22c40\"],\"fill_alpha\":[0.8],\"height\":[14.0],\"label\":[\"(6.920000, 7.906667]\"],\"line_alpha\":[1.0],\"line_color\":[\"black\"],\"width\":[0.9866666666666672],\"x\":[\"7.4133335\"],\"y\":[7.0]}},\"id\":\"bf2d880a-37ba-4f72-8675-fb6985500c7e\",\"type\":\"ColumnDataSource\"},{\"attributes\":{\"callback\":null,\"column_names\":[\"x\",\"y\",\"width\",\"height\",\"color\",\"fill_alpha\",\"line_color\",\"line_alpha\",\"label\"],\"data\":{\"chart_index\":[\"(27.640000, 28.626667]\"],\"color\":[\"#f22c40\"],\"fill_alpha\":[0.8],\"height\":[1.0],\"label\":[\"(27.640000, 28.626667]\"],\"line_alpha\":[1.0],\"line_color\":[\"black\"],\"width\":[0.9866666666666681],\"x\":[\"28.1333335\"],\"y\":[0.5]}},\"id\":\"5a768553-a02b-42f7-b597-9a76b0a63244\",\"type\":\"ColumnDataSource\"},{\"attributes\":{\"fill_alpha\":{\"field\":\"fill_alpha\"},\"fill_color\":{\"field\":\"color\"},\"height\":{\"field\":\"height\",\"units\":\"data\"},\"line_color\":{\"field\":\"line_color\"},\"width\":{\"field\":\"width\",\"units\":\"data\"},\"x\":{\"field\":\"x\"},\"y\":{\"field\":\"y\"}},\"id\":\"ae73126a-8b39-4ecd-a542-e473bfdd56e6\",\"type\":\"Rect\"},{\"attributes\":{\"fill_alpha\":{\"field\":\"fill_alpha\"},\"fill_color\":{\"field\":\"color\"},\"height\":{\"field\":\"height\",\"units\":\"data\"},\"line_color\":{\"field\":\"line_color\"},\"width\":{\"field\":\"width\",\"units\":\"data\"},\"x\":{\"field\":\"x\"},\"y\":{\"field\":\"y\"}},\"id\":\"5ae15882-09f6-450e-8fe9-ea7b147b93ec\",\"type\":\"Rect\"},{\"attributes\":{\"data_source\":{\"id\":\"979142fb-acd2-46d5-9eee-a37fbac28cf4\",\"type\":\"ColumnDataSource\"},\"glyph\":{\"id\":\"0f087cd5-8e4a-4f47-915b-d70d76bb443a\",\"type\":\"Rect\"},\"hover_glyph\":null,\"muted_glyph\":null},\"id\":\"73cd444c-4c5e-4099-bd85-e70165974056\",\"type\":\"GlyphRenderer\"},{\"attributes\":{\"callback\":null,\"column_names\":[\"x\",\"y\",\"width\",\"height\",\"color\",\"fill_alpha\",\"line_color\",\"line_alpha\",\"label\"],\"data\":{\"chart_index\":[\"(17.773333, 18.760000]\"],\"color\":[\"#f22c40\"],\"fill_alpha\":[0.8],\"height\":[3.0],\"label\":[\"(17.773333, 18.760000]\"],\"line_alpha\":[1.0],\"line_color\":[\"black\"],\"width\":[0.9866666666666681],\"x\":[\"18.2666665\"],\"y\":[1.5]}},\"id\":\"87dce7ee-0bc8-48dd-9c03-f8f19c7c8da6\",\"type\":\"ColumnDataSource\"},{\"attributes\":{\"fill_alpha\":{\"field\":\"fill_alpha\"},\"fill_color\":{\"field\":\"color\"},\"height\":{\"field\":\"height\",\"units\":\"data\"},\"line_color\":{\"field\":\"line_color\"},\"width\":{\"field\":\"width\",\"units\":\"data\"},\"x\":{\"field\":\"x\"},\"y\":{\"field\":\"y\"}},\"id\":\"4874d69f-c150-4586-918a-15381ba2109d\",\"type\":\"Rect\"},{\"attributes\":{\"data_source\":{\"id\":\"5a768553-a02b-42f7-b597-9a76b0a63244\",\"type\":\"ColumnDataSource\"},\"glyph\":{\"id\":\"140c0554-e5aa-43fa-8d24-4b8918232336\",\"type\":\"Rect\"},\"hover_glyph\":null,\"muted_glyph\":null},\"id\":\"d39ef823-3604-4654-96c0-8c670dca3154\",\"type\":\"GlyphRenderer\"},{\"attributes\":{\"callback\":null,\"column_names\":[\"x\",\"y\",\"width\",\"height\",\"color\",\"fill_alpha\",\"line_color\",\"line_alpha\",\"label\"],\"data\":{\"chart_index\":[\"(11.853333, 12.840000]\"],\"color\":[\"#f22c40\"],\"fill_alpha\":[0.8],\"height\":[6.0],\"label\":[\"(11.853333, 12.840000]\"],\"line_alpha\":[1.0],\"line_color\":[\"black\"],\"width\":[0.9866666666666664],\"x\":[\"12.3466665\"],\"y\":[3.0]}},\"id\":\"159083d3-5a87-4263-a338-af5f6fa84b47\",\"type\":\"ColumnDataSource\"},{\"attributes\":{\"callback\":null,\"column_names\":[\"x\",\"y\",\"width\",\"height\",\"color\",\"fill_alpha\",\"line_color\",\"line_alpha\",\"label\"],\"data\":{\"chart_index\":[\"(28.626667, 29.613333]\"],\"color\":[\"#f22c40\"],\"fill_alpha\":[0.8],\"height\":[1.0],\"label\":[\"(28.626667, 29.613333]\"],\"line_alpha\":[1.0],\"line_color\":[\"black\"],\"width\":[0.9866666666666646],\"x\":[\"29.12\"],\"y\":[0.5]}},\"id\":\"249ad4b1-1e5c-41f3-8279-70e0e77331bb\",\"type\":\"ColumnDataSource\"},{\"attributes\":{\"data_source\":{\"id\":\"87dce7ee-0bc8-48dd-9c03-f8f19c7c8da6\",\"type\":\"ColumnDataSource\"},\"glyph\":{\"id\":\"1ee14dce-48b5-4202-8e55-3683f0803abf\",\"type\":\"Rect\"},\"hover_glyph\":null,\"muted_glyph\":null},\"id\":\"083293b1-c645-4b5a-abc7-191eb3cfe119\",\"type\":\"GlyphRenderer\"},{\"attributes\":{\"fill_alpha\":{\"field\":\"fill_alpha\"},\"fill_color\":{\"field\":\"color\"},\"height\":{\"field\":\"height\",\"units\":\"data\"},\"line_color\":{\"field\":\"line_color\"},\"width\":{\"field\":\"width\",\"units\":\"data\"},\"x\":{\"field\":\"x\"},\"y\":{\"field\":\"y\"}},\"id\":\"d5171316-bf39-4f4e-a76e-8c4e910f14d4\",\"type\":\"Rect\"},{\"attributes\":{\"fill_alpha\":{\"field\":\"fill_alpha\"},\"fill_color\":{\"field\":\"color\"},\"height\":{\"field\":\"height\",\"units\":\"data\"},\"line_color\":{\"field\":\"line_color\"},\"width\":{\"field\":\"width\",\"units\":\"data\"},\"x\":{\"field\":\"x\"},\"y\":{\"field\":\"y\"}},\"id\":\"de47a037-520b-4e02-8cc9-d8f80c28713b\",\"type\":\"Rect\"},{\"attributes\":{\"callback\":null,\"column_names\":[\"x\",\"y\",\"width\",\"height\",\"color\",\"fill_alpha\",\"line_color\",\"line_alpha\",\"label\"],\"data\":{\"chart_index\":[\"(29.613333, 30.600000]\"],\"color\":[\"#f22c40\"],\"fill_alpha\":[0.8],\"height\":[0.0],\"label\":[\"(29.613333, 30.600000]\"],\"line_alpha\":[1.0],\"line_color\":[\"black\"],\"width\":[0.9866666666666681],\"x\":[\"30.106666500000003\"],\"y\":[0.0]}},\"id\":\"88e9b830-7cfe-43ab-8a69-b8f222a223a2\",\"type\":\"ColumnDataSource\"},{\"attributes\":{\"callback\":null,\"column_names\":[\"x\",\"y\",\"width\",\"height\",\"color\",\"fill_alpha\",\"line_color\",\"line_alpha\",\"label\"],\"data\":{\"chart_index\":[\"(116.440000, 117.426667]\"],\"color\":[\"#f22c40\"],\"fill_alpha\":[0.8],\"height\":[0.0],\"label\":[\"(116.440000, 117.426667]\"],\"line_alpha\":[1.0],\"line_color\":[\"black\"],\"width\":[0.9866666666666788],\"x\":[\"116.9333335\"],\"y\":[0.0]}},\"id\":\"b2e6a628-c178-4c7e-a74b-f934263e4f42\",\"type\":\"ColumnDataSource\"},{\"attributes\":{\"callback\":null,\"column_names\":[\"x\",\"y\",\"width\",\"height\",\"color\",\"fill_alpha\",\"line_color\",\"line_alpha\",\"label\"],\"data\":{\"chart_index\":[\"(10.866667, 11.853333]\"],\"color\":[\"#f22c40\"],\"fill_alpha\":[0.8],\"height\":[8.0],\"label\":[\"(10.866667, 11.853333]\"],\"line_alpha\":[1.0],\"line_color\":[\"black\"],\"width\":[0.9866666666666664],\"x\":[\"11.36\"],\"y\":[4.0]}},\"id\":\"78580c68-960c-446e-80be-9846eae4ca47\",\"type\":\"ColumnDataSource\"},{\"attributes\":{\"callback\":null,\"column_names\":[\"x\",\"y\",\"width\",\"height\",\"color\",\"fill_alpha\",\"line_color\",\"line_alpha\",\"label\"],\"data\":{\"chart_index\":[\"(75.000000, 75.986667]\"],\"color\":[\"#f22c40\"],\"fill_alpha\":[0.8],\"height\":[0.0],\"label\":[\"(75.000000, 75.986667]\"],\"line_alpha\":[1.0],\"line_color\":[\"black\"],\"width\":[0.9866666666666646],\"x\":[\"75.4933335\"],\"y\":[0.0]}},\"id\":\"253fbe4c-765f-4cb9-86d7-b52696032f5c\",\"type\":\"ColumnDataSource\"},{\"attributes\":{\"data_source\":{\"id\":\"98157edf-a4a0-4424-a0c6-6ab1f60b6a02\",\"type\":\"ColumnDataSource\"},\"glyph\":{\"id\":\"127df408-b974-4566-a4b8-e8c1158000dc\",\"type\":\"Rect\"},\"hover_glyph\":null,\"muted_glyph\":null},\"id\":\"4b612356-fa0c-4b0d-92d0-ee26a56244f1\",\"type\":\"GlyphRenderer\"},{\"attributes\":{\"data_source\":{\"id\":\"253fbe4c-765f-4cb9-86d7-b52696032f5c\",\"type\":\"ColumnDataSource\"},\"glyph\":{\"id\":\"5ae15882-09f6-450e-8fe9-ea7b147b93ec\",\"type\":\"Rect\"},\"hover_glyph\":null,\"muted_glyph\":null},\"id\":\"975eb9b8-78aa-44a2-ab37-a814f5461d25\",\"type\":\"GlyphRenderer\"},{\"attributes\":{\"data_source\":{\"id\":\"bf2d880a-37ba-4f72-8675-fb6985500c7e\",\"type\":\"ColumnDataSource\"},\"glyph\":{\"id\":\"4920bf92-d0a7-44e2-81b6-654d0bd6ba14\",\"type\":\"Rect\"},\"hover_glyph\":null,\"muted_glyph\":null},\"id\":\"afffcaac-60d2-49c2-97e5-8ac0680eeba3\",\"type\":\"GlyphRenderer\"},{\"attributes\":{\"callback\":null,\"column_names\":[\"x\",\"y\",\"width\",\"height\",\"color\",\"fill_alpha\",\"line_color\",\"line_alpha\",\"label\"],\"data\":{\"chart_index\":[\"(7.906667, 8.893333]\"],\"color\":[\"#f22c40\"],\"fill_alpha\":[0.8],\"height\":[13.0],\"label\":[\"(7.906667, 8.893333]\"],\"line_alpha\":[1.0],\"line_color\":[\"black\"],\"width\":[0.9866666666666672],\"x\":[\"8.4\"],\"y\":[6.5]}},\"id\":\"ae5c6f14-ae9c-4998-ae08-21efe992024f\",\"type\":\"ColumnDataSource\"},{\"attributes\":{\"callback\":null,\"column_names\":[\"x\",\"y\",\"width\",\"height\",\"color\",\"fill_alpha\",\"line_color\",\"line_alpha\",\"label\"],\"data\":{\"chart_index\":[\"(33.560000, 34.546667]\"],\"color\":[\"#f22c40\"],\"fill_alpha\":[0.8],\"height\":[1.0],\"label\":[\"(33.560000, 34.546667]\"],\"line_alpha\":[1.0],\"line_color\":[\"black\"],\"width\":[0.9866666666666646],\"x\":[\"34.0533335\"],\"y\":[0.5]}},\"id\":\"f059e685-c0b4-49dc-9802-9d1c8f087b6d\",\"type\":\"ColumnDataSource\"},{\"attributes\":{\"fill_alpha\":{\"field\":\"fill_alpha\"},\"fill_color\":{\"field\":\"color\"},\"height\":{\"field\":\"height\",\"units\":\"data\"},\"line_color\":{\"field\":\"line_color\"},\"width\":{\"field\":\"width\",\"units\":\"data\"},\"x\":{\"field\":\"x\"},\"y\":{\"field\":\"y\"}},\"id\":\"5c1f7400-d4c6-4adb-bf3a-2187686a9602\",\"type\":\"Rect\"},{\"attributes\":{\"data_source\":{\"id\":\"249ad4b1-1e5c-41f3-8279-70e0e77331bb\",\"type\":\"ColumnDataSource\"},\"glyph\":{\"id\":\"d5171316-bf39-4f4e-a76e-8c4e910f14d4\",\"type\":\"Rect\"},\"hover_glyph\":null,\"muted_glyph\":null},\"id\":\"dc10d331-f43e-4c5d-98a0-f32e62a9caa5\",\"type\":\"GlyphRenderer\"},{\"attributes\":{\"fill_alpha\":{\"field\":\"fill_alpha\"},\"fill_color\":{\"field\":\"color\"},\"height\":{\"field\":\"height\",\"units\":\"data\"},\"line_color\":{\"field\":\"line_color\"},\"width\":{\"field\":\"width\",\"units\":\"data\"},\"x\":{\"field\":\"x\"},\"y\":{\"field\":\"y\"}},\"id\":\"a1130be5-5533-4872-8820-ef070b17522a\",\"type\":\"Rect\"},{\"attributes\":{\"fill_alpha\":{\"field\":\"fill_alpha\"},\"fill_color\":{\"field\":\"color\"},\"height\":{\"field\":\"height\",\"units\":\"data\"},\"line_color\":{\"field\":\"line_color\"},\"width\":{\"field\":\"width\",\"units\":\"data\"},\"x\":{\"field\":\"x\"},\"y\":{\"field\":\"y\"}},\"id\":\"3361a381-9653-46d5-88d4-f26cabee9390\",\"type\":\"Rect\"},{\"attributes\":{\"data_source\":{\"id\":\"80cf2031-9902-4ed4-aa1d-32f849ebb274\",\"type\":\"ColumnDataSource\"},\"glyph\":{\"id\":\"ac149a05-c61a-445e-9615-dcde31e6a01d\",\"type\":\"Rect\"},\"hover_glyph\":null,\"muted_glyph\":null},\"id\":\"9e942cf6-ddb0-42bb-a6e1-a38ccbf71bc0\",\"type\":\"GlyphRenderer\"},{\"attributes\":{\"callback\":null,\"column_names\":[\"x\",\"y\",\"width\",\"height\",\"color\",\"fill_alpha\",\"line_color\",\"line_alpha\",\"label\"],\"data\":{\"chart_index\":[\"(76.973333, 77.960000]\"],\"color\":[\"#f22c40\"],\"fill_alpha\":[0.8],\"height\":[0.0],\"label\":[\"(76.973333, 77.960000]\"],\"line_alpha\":[1.0],\"line_color\":[\"black\"],\"width\":[0.9866666666666788],\"x\":[\"77.4666665\"],\"y\":[0.0]}},\"id\":\"dee13627-36c3-40c2-8e6f-f0dfe96da502\",\"type\":\"ColumnDataSource\"},{\"attributes\":{\"callback\":null,\"column_names\":[\"x\",\"y\",\"width\",\"height\",\"color\",\"fill_alpha\",\"line_color\",\"line_alpha\",\"label\"],\"data\":{\"chart_index\":[\"(19.746667, 20.733333]\"],\"color\":[\"#f22c40\"],\"fill_alpha\":[0.8],\"height\":[2.0],\"label\":[\"(19.746667, 20.733333]\"],\"line_alpha\":[1.0],\"line_color\":[\"black\"],\"width\":[0.9866666666666681],\"x\":[\"20.24\"],\"y\":[1.0]}},\"id\":\"d79328c3-8a4b-4272-bdf7-2c8d76ac9e3e\",\"type\":\"ColumnDataSource\"},{\"attributes\":{\"fill_alpha\":{\"field\":\"fill_alpha\"},\"fill_color\":{\"field\":\"color\"},\"height\":{\"field\":\"height\",\"units\":\"data\"},\"line_color\":{\"field\":\"line_color\"},\"width\":{\"field\":\"width\",\"units\":\"data\"},\"x\":{\"field\":\"x\"},\"y\":{\"field\":\"y\"}},\"id\":\"c70b2824-0fc6-4909-8fac-febfd1b7e9bc\",\"type\":\"Rect\"},{\"attributes\":{\"fill_alpha\":{\"field\":\"fill_alpha\"},\"fill_color\":{\"field\":\"color\"},\"height\":{\"field\":\"height\",\"units\":\"data\"},\"line_color\":{\"field\":\"line_color\"},\"width\":{\"field\":\"width\",\"units\":\"data\"},\"x\":{\"field\":\"x\"},\"y\":{\"field\":\"y\"}},\"id\":\"cb423b08-c439-4ca9-86b2-64608ae7fb7f\",\"type\":\"Rect\"},{\"attributes\":{\"callback\":null,\"column_names\":[\"x\",\"y\",\"width\",\"height\",\"color\",\"fill_alpha\",\"line_color\",\"line_alpha\",\"label\"],\"data\":{\"chart_index\":[\"(20.733333, 21.720000]\"],\"color\":[\"#f22c40\"],\"fill_alpha\":[0.8],\"height\":[1.0],\"label\":[\"(20.733333, 21.720000]\"],\"line_alpha\":[1.0],\"line_color\":[\"black\"],\"width\":[0.9866666666666646],\"x\":[\"21.2266665\"],\"y\":[0.5]}},\"id\":\"f25130c9-21f8-4a18-b63d-5f7e98260327\",\"type\":\"ColumnDataSource\"},{\"attributes\":{\"callback\":null,\"column_names\":[\"x\",\"y\",\"width\",\"height\",\"color\",\"fill_alpha\",\"line_color\",\"line_alpha\",\"label\"],\"data\":{\"chart_index\":[\"(87.826667, 88.813333]\"],\"color\":[\"#f22c40\"],\"fill_alpha\":[0.8],\"height\":[0.0],\"label\":[\"(87.826667, 88.813333]\"],\"line_alpha\":[1.0],\"line_color\":[\"black\"],\"width\":[0.9866666666666646],\"x\":[\"88.32\"],\"y\":[0.0]}},\"id\":\"82b966d7-02c8-4c83-b7d2-fc4329fcb403\",\"type\":\"ColumnDataSource\"},{\"attributes\":{\"callback\":null,\"column_names\":[\"x\",\"y\",\"width\",\"height\",\"color\",\"fill_alpha\",\"line_color\",\"line_alpha\",\"label\"],\"data\":{\"chart_index\":[\"(9.880000, 10.866667]\"],\"color\":[\"#f22c40\"],\"fill_alpha\":[0.8],\"height\":[11.0],\"label\":[\"(9.880000, 10.866667]\"],\"line_alpha\":[1.0],\"line_color\":[\"black\"],\"width\":[0.9866666666666664],\"x\":[\"10.373333500000001\"],\"y\":[5.5]}},\"id\":\"98157edf-a4a0-4424-a0c6-6ab1f60b6a02\",\"type\":\"ColumnDataSource\"},{\"attributes\":{\"fill_alpha\":{\"field\":\"fill_alpha\"},\"fill_color\":{\"field\":\"color\"},\"height\":{\"field\":\"height\",\"units\":\"data\"},\"line_color\":{\"field\":\"line_color\"},\"width\":{\"field\":\"width\",\"units\":\"data\"},\"x\":{\"field\":\"x\"},\"y\":{\"field\":\"y\"}},\"id\":\"f02fb009-1c22-41f0-b9c2-dfc94107edbd\",\"type\":\"Rect\"},{\"attributes\":{\"data_source\":{\"id\":\"61407195-7d02-44c7-b859-11cd3ccd803e\",\"type\":\"ColumnDataSource\"},\"glyph\":{\"id\":\"4874d69f-c150-4586-918a-15381ba2109d\",\"type\":\"Rect\"},\"hover_glyph\":null,\"muted_glyph\":null},\"id\":\"096b9824-ddd5-4d8f-bfb7-e7fc807b6318\",\"type\":\"GlyphRenderer\"},{\"attributes\":{\"fill_alpha\":{\"field\":\"fill_alpha\"},\"fill_color\":{\"field\":\"color\"},\"height\":{\"field\":\"height\",\"units\":\"data\"},\"line_color\":{\"field\":\"line_color\"},\"width\":{\"field\":\"width\",\"units\":\"data\"},\"x\":{\"field\":\"x\"},\"y\":{\"field\":\"y\"}},\"id\":\"0d81b399-acbf-47a7-9202-0474ff2e9e08\",\"type\":\"Rect\"},{\"attributes\":{\"data_source\":{\"id\":\"ae5c6f14-ae9c-4998-ae08-21efe992024f\",\"type\":\"ColumnDataSource\"},\"glyph\":{\"id\":\"a1130be5-5533-4872-8820-ef070b17522a\",\"type\":\"Rect\"},\"hover_glyph\":null,\"muted_glyph\":null},\"id\":\"4d768b11-3802-4e26-842f-0c74b1a1ae41\",\"type\":\"GlyphRenderer\"},{\"attributes\":{\"data_source\":{\"id\":\"da117a1d-f064-4d8a-ad5c-af969aab00ad\",\"type\":\"ColumnDataSource\"},\"glyph\":{\"id\":\"60c4160f-0774-476b-9d7d-d44db5826f8a\",\"type\":\"Rect\"},\"hover_glyph\":null,\"muted_glyph\":null},\"id\":\"57b592a9-6d39-411d-ae1a-7401a365f9bd\",\"type\":\"GlyphRenderer\"},{\"attributes\":{\"fill_alpha\":{\"field\":\"fill_alpha\"},\"fill_color\":{\"field\":\"color\"},\"height\":{\"field\":\"height\",\"units\":\"data\"},\"line_color\":{\"field\":\"line_color\"},\"width\":{\"field\":\"width\",\"units\":\"data\"},\"x\":{\"field\":\"x\"},\"y\":{\"field\":\"y\"}},\"id\":\"e91d4d84-9804-4be6-bc86-6c7fd70ef227\",\"type\":\"Rect\"},{\"attributes\":{\"data_source\":{\"id\":\"5831c25e-4381-4240-9cc2-42a262ee62b8\",\"type\":\"ColumnDataSource\"},\"glyph\":{\"id\":\"570113ef-534b-4c57-a52e-fda7a1007e38\",\"type\":\"Rect\"},\"hover_glyph\":null,\"muted_glyph\":null},\"id\":\"39363b13-311f-47a7-8dcd-962ecde40a81\",\"type\":\"GlyphRenderer\"},{\"attributes\":{\"data_source\":{\"id\":\"88e9b830-7cfe-43ab-8a69-b8f222a223a2\",\"type\":\"ColumnDataSource\"},\"glyph\":{\"id\":\"ae73126a-8b39-4ecd-a542-e473bfdd56e6\",\"type\":\"Rect\"},\"hover_glyph\":null,\"muted_glyph\":null},\"id\":\"b6466855-4d9f-4c15-a66f-bc1e87370d3c\",\"type\":\"GlyphRenderer\"},{\"attributes\":{\"callback\":null,\"column_names\":[\"x\",\"y\",\"width\",\"height\",\"color\",\"fill_alpha\",\"line_color\",\"line_alpha\",\"label\"],\"data\":{\"chart_index\":[\"(77.960000, 78.946667]\"],\"color\":[\"#f22c40\"],\"fill_alpha\":[0.8],\"height\":[0.0],\"label\":[\"(77.960000, 78.946667]\"],\"line_alpha\":[1.0],\"line_color\":[\"black\"],\"width\":[0.9866666666666646],\"x\":[\"78.4533335\"],\"y\":[0.0]}},\"id\":\"f26eacd9-157c-43dd-9f35-a2fb9a44f423\",\"type\":\"ColumnDataSource\"},{\"attributes\":{\"data_source\":{\"id\":\"c25473cd-0552-4ac4-801d-849025f77edc\",\"type\":\"ColumnDataSource\"},\"glyph\":{\"id\":\"c70b2824-0fc6-4909-8fac-febfd1b7e9bc\",\"type\":\"Rect\"},\"hover_glyph\":null,\"muted_glyph\":null},\"id\":\"90f31f68-1cf2-4b95-a801-a76d08f1404b\",\"type\":\"GlyphRenderer\"},{\"attributes\":{\"fill_alpha\":{\"field\":\"fill_alpha\"},\"fill_color\":{\"field\":\"color\"},\"height\":{\"field\":\"height\",\"units\":\"data\"},\"line_color\":{\"field\":\"line_color\"},\"width\":{\"field\":\"width\",\"units\":\"data\"},\"x\":{\"field\":\"x\"},\"y\":{\"field\":\"y\"}},\"id\":\"5a2e173e-78ce-46da-9235-1739d5f3ede0\",\"type\":\"Rect\"},{\"attributes\":{\"callback\":null,\"column_names\":[\"x\",\"y\",\"width\",\"height\",\"color\",\"fill_alpha\",\"line_color\",\"line_alpha\",\"label\"],\"data\":{\"chart_index\":[\"(23.693333, 24.680000]\"],\"color\":[\"#f22c40\"],\"fill_alpha\":[0.8],\"height\":[0.0],\"label\":[\"(23.693333, 24.680000]\"],\"line_alpha\":[1.0],\"line_color\":[\"black\"],\"width\":[0.9866666666666646],\"x\":[\"24.1866665\"],\"y\":[0.0]}},\"id\":\"5831c25e-4381-4240-9cc2-42a262ee62b8\",\"type\":\"ColumnDataSource\"},{\"attributes\":{\"data_source\":{\"id\":\"d79328c3-8a4b-4272-bdf7-2c8d76ac9e3e\",\"type\":\"ColumnDataSource\"},\"glyph\":{\"id\":\"cb423b08-c439-4ca9-86b2-64608ae7fb7f\",\"type\":\"Rect\"},\"hover_glyph\":null,\"muted_glyph\":null},\"id\":\"d62010de-8411-44c7-bea2-ac6ab5592eee\",\"type\":\"GlyphRenderer\"},{\"attributes\":{\"fill_alpha\":{\"field\":\"fill_alpha\"},\"fill_color\":{\"field\":\"color\"},\"height\":{\"field\":\"height\",\"units\":\"data\"},\"line_color\":{\"field\":\"line_color\"},\"width\":{\"field\":\"width\",\"units\":\"data\"},\"x\":{\"field\":\"x\"},\"y\":{\"field\":\"y\"}},\"id\":\"27f15f4d-5840-4a90-ad09-c521b9bbbd8d\",\"type\":\"Rect\"},{\"attributes\":{\"fill_alpha\":{\"field\":\"fill_alpha\"},\"fill_color\":{\"field\":\"color\"},\"height\":{\"field\":\"height\",\"units\":\"data\"},\"line_color\":{\"field\":\"line_color\"},\"width\":{\"field\":\"width\",\"units\":\"data\"},\"x\":{\"field\":\"x\"},\"y\":{\"field\":\"y\"}},\"id\":\"3c2c2502-f7e0-47ac-ad6a-ddcec0e2cb76\",\"type\":\"Rect\"},{\"attributes\":{\"callback\":null,\"column_names\":[\"x\",\"y\",\"width\",\"height\",\"color\",\"fill_alpha\",\"line_color\",\"line_alpha\",\"label\"],\"data\":{\"chart_index\":[\"(21.720000, 22.706667]\"],\"color\":[\"#f22c40\"],\"fill_alpha\":[0.8],\"height\":[0.0],\"label\":[\"(21.720000, 22.706667]\"],\"line_alpha\":[1.0],\"line_color\":[\"black\"],\"width\":[0.9866666666666681],\"x\":[\"22.213333499999997\"],\"y\":[0.0]}},\"id\":\"aab6913c-8ff4-4639-91b1-696e8c7cee03\",\"type\":\"ColumnDataSource\"},{\"attributes\":{\"callback\":null,\"column_names\":[\"x\",\"y\",\"width\",\"height\",\"color\",\"fill_alpha\",\"line_color\",\"line_alpha\",\"label\"],\"data\":{\"chart_index\":[\"(32.573333, 33.560000]\"],\"color\":[\"#f22c40\"],\"fill_alpha\":[0.8],\"height\":[0.0],\"label\":[\"(32.573333, 33.560000]\"],\"line_alpha\":[1.0],\"line_color\":[\"black\"],\"width\":[0.9866666666666646],\"x\":[\"33.0666665\"],\"y\":[0.0]}},\"id\":\"c25473cd-0552-4ac4-801d-849025f77edc\",\"type\":\"ColumnDataSource\"},{\"attributes\":{\"callback\":null,\"column_names\":[\"x\",\"y\",\"width\",\"height\",\"color\",\"fill_alpha\",\"line_color\",\"line_alpha\",\"label\"],\"data\":{\"chart_index\":[\"(44.413333, 45.400000]\"],\"color\":[\"#f22c40\"],\"fill_alpha\":[0.8],\"height\":[3.0],\"label\":[\"(44.413333, 45.400000]\"],\"line_alpha\":[1.0],\"line_color\":[\"black\"],\"width\":[0.9866666666666646],\"x\":[\"44.9066665\"],\"y\":[1.5]}},\"id\":\"e5bcbe7f-0ef0-4020-a2db-043fd5d00686\",\"type\":\"ColumnDataSource\"},{\"attributes\":{\"data_source\":{\"id\":\"dee13627-36c3-40c2-8e6f-f0dfe96da502\",\"type\":\"ColumnDataSource\"},\"glyph\":{\"id\":\"5c1f7400-d4c6-4adb-bf3a-2187686a9602\",\"type\":\"Rect\"},\"hover_glyph\":null,\"muted_glyph\":null},\"id\":\"98c2c938-9f58-40a3-8cdc-f39594eaedb7\",\"type\":\"GlyphRenderer\"},{\"attributes\":{\"callback\":null,\"column_names\":[\"x\",\"y\",\"width\",\"height\",\"color\",\"fill_alpha\",\"line_color\",\"line_alpha\",\"label\"],\"data\":{\"chart_index\":[\"(39.480000, 40.466667]\"],\"color\":[\"#f22c40\"],\"fill_alpha\":[0.8],\"height\":[1.0],\"label\":[\"(39.480000, 40.466667]\"],\"line_alpha\":[1.0],\"line_color\":[\"black\"],\"width\":[0.9866666666666646],\"x\":[\"39.973333499999995\"],\"y\":[0.5]}},\"id\":\"372a3c45-c1d6-422f-83dd-6aa2102660c3\",\"type\":\"ColumnDataSource\"},{\"attributes\":{\"fill_alpha\":{\"field\":\"fill_alpha\"},\"fill_color\":{\"field\":\"color\"},\"height\":{\"field\":\"height\",\"units\":\"data\"},\"line_color\":{\"field\":\"line_color\"},\"width\":{\"field\":\"width\",\"units\":\"data\"},\"x\":{\"field\":\"x\"},\"y\":{\"field\":\"y\"}},\"id\":\"07e8358c-6f41-4367-950f-5b59ea684849\",\"type\":\"Rect\"},{\"attributes\":{\"data_source\":{\"id\":\"43faa132-eac6-411d-9c41-55b342dfeb31\",\"type\":\"ColumnDataSource\"},\"glyph\":{\"id\":\"e5cb8107-f82f-458f-8ac6-229c37fbb094\",\"type\":\"Rect\"},\"hover_glyph\":null,\"muted_glyph\":null},\"id\":\"0ae0af87-10fa-4215-b8cd-1a03f4fb9faf\",\"type\":\"GlyphRenderer\"},{\"attributes\":{\"data_source\":{\"id\":\"f25130c9-21f8-4a18-b63d-5f7e98260327\",\"type\":\"ColumnDataSource\"},\"glyph\":{\"id\":\"de47a037-520b-4e02-8cc9-d8f80c28713b\",\"type\":\"Rect\"},\"hover_glyph\":null,\"muted_glyph\":null},\"id\":\"79f07244-513e-49bc-b1cb-d21116f477b4\",\"type\":\"GlyphRenderer\"},{\"attributes\":{\"callback\":null,\"column_names\":[\"x\",\"y\",\"width\",\"height\",\"color\",\"fill_alpha\",\"line_color\",\"line_alpha\",\"label\"],\"data\":{\"chart_index\":[\"(16.786667, 17.773333]\"],\"color\":[\"#f22c40\"],\"fill_alpha\":[0.8],\"height\":[4.0],\"label\":[\"(16.786667, 17.773333]\"],\"line_alpha\":[1.0],\"line_color\":[\"black\"],\"width\":[0.9866666666666646],\"x\":[\"17.28\"],\"y\":[2.0]}},\"id\":\"92eb608a-0001-4662-ae1d-39dbc8df117d\",\"type\":\"ColumnDataSource\"},{\"attributes\":{\"fill_alpha\":{\"field\":\"fill_alpha\"},\"fill_color\":{\"field\":\"color\"},\"height\":{\"field\":\"height\",\"units\":\"data\"},\"line_color\":{\"field\":\"line_color\"},\"width\":{\"field\":\"width\",\"units\":\"data\"},\"x\":{\"field\":\"x\"},\"y\":{\"field\":\"y\"}},\"id\":\"e5cb8107-f82f-458f-8ac6-229c37fbb094\",\"type\":\"Rect\"},{\"attributes\":{\"data_source\":{\"id\":\"372a3c45-c1d6-422f-83dd-6aa2102660c3\",\"type\":\"ColumnDataSource\"},\"glyph\":{\"id\":\"86af987f-bcd4-4d26-ac5b-610561c0b04b\",\"type\":\"Rect\"},\"hover_glyph\":null,\"muted_glyph\":null},\"id\":\"06abf6b6-9484-4070-afa3-43f8a87b1559\",\"type\":\"GlyphRenderer\"},{\"attributes\":{\"data_source\":{\"id\":\"78580c68-960c-446e-80be-9846eae4ca47\",\"type\":\"ColumnDataSource\"},\"glyph\":{\"id\":\"15c338dc-ac26-420a-a034-31732eb5010e\",\"type\":\"Rect\"},\"hover_glyph\":null,\"muted_glyph\":null},\"id\":\"7e4e523d-6796-4318-90b0-837c2918a5d5\",\"type\":\"GlyphRenderer\"},{\"attributes\":{\"fill_alpha\":{\"field\":\"fill_alpha\"},\"fill_color\":{\"field\":\"color\"},\"height\":{\"field\":\"height\",\"units\":\"data\"},\"line_color\":{\"field\":\"line_color\"},\"width\":{\"field\":\"width\",\"units\":\"data\"},\"x\":{\"field\":\"x\"},\"y\":{\"field\":\"y\"}},\"id\":\"6064c0d7-25d8-4033-9d98-3ab6249ed8fc\",\"type\":\"Rect\"},{\"attributes\":{\"callback\":null,\"column_names\":[\"x\",\"y\",\"width\",\"height\",\"color\",\"fill_alpha\",\"line_color\",\"line_alpha\",\"label\"],\"data\":{\"chart_index\":[\"(82.893333, 83.880000]\"],\"color\":[\"#f22c40\"],\"fill_alpha\":[0.8],\"height\":[0.0],\"label\":[\"(82.893333, 83.880000]\"],\"line_alpha\":[1.0],\"line_color\":[\"black\"],\"width\":[0.9866666666666646],\"x\":[\"83.38666649999999\"],\"y\":[0.0]}},\"id\":\"ec193e9b-7cb6-4169-af65-43a91fed6feb\",\"type\":\"ColumnDataSource\"},{\"attributes\":{\"data_source\":{\"id\":\"f059e685-c0b4-49dc-9802-9d1c8f087b6d\",\"type\":\"ColumnDataSource\"},\"glyph\":{\"id\":\"0d81b399-acbf-47a7-9202-0474ff2e9e08\",\"type\":\"Rect\"},\"hover_glyph\":null,\"muted_glyph\":null},\"id\":\"2c535088-993b-4e79-891d-db14c5c3afb2\",\"type\":\"GlyphRenderer\"},{\"attributes\":{\"data_source\":{\"id\":\"f26eacd9-157c-43dd-9f35-a2fb9a44f423\",\"type\":\"ColumnDataSource\"},\"glyph\":{\"id\":\"e91d4d84-9804-4be6-bc86-6c7fd70ef227\",\"type\":\"Rect\"},\"hover_glyph\":null,\"muted_glyph\":null},\"id\":\"8375f2e9-6092-4656-894c-01a8f3a549cf\",\"type\":\"GlyphRenderer\"},{\"attributes\":{\"callback\":null,\"column_names\":[\"x\",\"y\",\"width\",\"height\",\"color\",\"fill_alpha\",\"line_color\",\"line_alpha\",\"label\"],\"data\":{\"chart_index\":[\"(12.840000, 13.826667]\"],\"color\":[\"#f22c40\"],\"fill_alpha\":[0.8],\"height\":[8.0],\"label\":[\"(12.840000, 13.826667]\"],\"line_alpha\":[1.0],\"line_color\":[\"black\"],\"width\":[0.9866666666666664],\"x\":[\"13.3333335\"],\"y\":[4.0]}},\"id\":\"210fc0b3-e004-4940-ac0b-9a3d32960342\",\"type\":\"ColumnDataSource\"},{\"attributes\":{\"callback\":null,\"column_names\":[\"x\",\"y\",\"width\",\"height\",\"color\",\"fill_alpha\",\"line_color\",\"line_alpha\",\"label\"],\"data\":{\"chart_index\":[\"(34.546667, 35.533333]\"],\"color\":[\"#f22c40\"],\"fill_alpha\":[0.8],\"height\":[2.0],\"label\":[\"(34.546667, 35.533333]\"],\"line_alpha\":[1.0],\"line_color\":[\"black\"],\"width\":[0.9866666666666646],\"x\":[\"35.04\"],\"y\":[1.0]}},\"id\":\"ec03639f-b3bd-4e60-a53d-eeb22ed3fbeb\",\"type\":\"ColumnDataSource\"},{\"attributes\":{\"callback\":null,\"column_names\":[\"x\",\"y\",\"width\",\"height\",\"color\",\"fill_alpha\",\"line_color\",\"line_alpha\",\"label\"],\"data\":{\"chart_index\":[\"(78.946667, 79.933333]\"],\"color\":[\"#f22c40\"],\"fill_alpha\":[0.8],\"height\":[0.0],\"label\":[\"(78.946667, 79.933333]\"],\"line_alpha\":[1.0],\"line_color\":[\"black\"],\"width\":[0.9866666666666646],\"x\":[\"79.44\"],\"y\":[0.0]}},\"id\":\"a36c6e74-c8b7-4edc-978e-42f5021c0f00\",\"type\":\"ColumnDataSource\"},{\"attributes\":{\"fill_alpha\":{\"field\":\"fill_alpha\"},\"fill_color\":{\"field\":\"color\"},\"height\":{\"field\":\"height\",\"units\":\"data\"},\"line_color\":{\"field\":\"line_color\"},\"width\":{\"field\":\"width\",\"units\":\"data\"},\"x\":{\"field\":\"x\"},\"y\":{\"field\":\"y\"}},\"id\":\"13f4e876-1fb4-4c07-aa20-a3f06d1c40fe\",\"type\":\"Rect\"},{\"attributes\":{\"fill_alpha\":{\"field\":\"fill_alpha\"},\"fill_color\":{\"field\":\"color\"},\"height\":{\"field\":\"height\",\"units\":\"data\"},\"line_color\":{\"field\":\"line_color\"},\"width\":{\"field\":\"width\",\"units\":\"data\"},\"x\":{\"field\":\"x\"},\"y\":{\"field\":\"y\"}},\"id\":\"ce0d95a2-79a1-497b-a9d4-adeff126343d\",\"type\":\"Rect\"},{\"attributes\":{\"callback\":null,\"column_names\":[\"x\",\"y\",\"width\",\"height\",\"color\",\"fill_alpha\",\"line_color\",\"line_alpha\",\"label\"],\"data\":{\"chart_index\":[\"(35.533333, 36.520000]\"],\"color\":[\"#f22c40\"],\"fill_alpha\":[0.8],\"height\":[0.0],\"label\":[\"(35.533333, 36.520000]\"],\"line_alpha\":[1.0],\"line_color\":[\"black\"],\"width\":[0.9866666666666717],\"x\":[\"36.026666500000005\"],\"y\":[0.0]}},\"id\":\"3fb18214-f1bf-4a20-ab47-1ccd9ab47688\",\"type\":\"ColumnDataSource\"},{\"attributes\":{\"callback\":null,\"column_names\":[\"x\",\"y\",\"width\",\"height\",\"color\",\"fill_alpha\",\"line_color\",\"line_alpha\",\"label\"],\"data\":{\"chart_index\":[\"(79.933333, 80.920000]\"],\"color\":[\"#f22c40\"],\"fill_alpha\":[0.8],\"height\":[0.0],\"label\":[\"(79.933333, 80.920000]\"],\"line_alpha\":[1.0],\"line_color\":[\"black\"],\"width\":[0.9866666666666646],\"x\":[\"80.42666650000001\"],\"y\":[0.0]}},\"id\":\"1768d987-8ed7-485b-8b5b-64a54dab273b\",\"type\":\"ColumnDataSource\"},{\"attributes\":{\"data_source\":{\"id\":\"aab6913c-8ff4-4639-91b1-696e8c7cee03\",\"type\":\"ColumnDataSource\"},\"glyph\":{\"id\":\"3c2c2502-f7e0-47ac-ad6a-ddcec0e2cb76\",\"type\":\"Rect\"},\"hover_glyph\":null,\"muted_glyph\":null},\"id\":\"46aada79-4177-4a8b-a5a8-1a6afb0f1054\",\"type\":\"GlyphRenderer\"},{\"attributes\":{\"callback\":null,\"column_names\":[\"x\",\"y\",\"width\",\"height\",\"color\",\"fill_alpha\",\"line_color\",\"line_alpha\",\"label\"],\"data\":{\"chart_index\":[\"(22.706667, 23.693333]\"],\"color\":[\"#f22c40\"],\"fill_alpha\":[0.8],\"height\":[2.0],\"label\":[\"(22.706667, 23.693333]\"],\"line_alpha\":[1.0],\"line_color\":[\"black\"],\"width\":[0.9866666666666681],\"x\":[\"23.2\"],\"y\":[1.0]}},\"id\":\"107f9714-93f0-44c2-9477-fba21bbffaf2\",\"type\":\"ColumnDataSource\"},{\"attributes\":{\"data_source\":{\"id\":\"159083d3-5a87-4263-a338-af5f6fa84b47\",\"type\":\"ColumnDataSource\"},\"glyph\":{\"id\":\"5a2e173e-78ce-46da-9235-1739d5f3ede0\",\"type\":\"Rect\"},\"hover_glyph\":null,\"muted_glyph\":null},\"id\":\"5f48f325-1c91-4fa1-a7aa-5f061ac070f1\",\"type\":\"GlyphRenderer\"},{\"attributes\":{\"fill_alpha\":{\"field\":\"fill_alpha\"},\"fill_color\":{\"field\":\"color\"},\"height\":{\"field\":\"height\",\"units\":\"data\"},\"line_color\":{\"field\":\"line_color\"},\"width\":{\"field\":\"width\",\"units\":\"data\"},\"x\":{\"field\":\"x\"},\"y\":{\"field\":\"y\"}},\"id\":\"fe7e3876-7a93-4008-9018-de9f2835e4f8\",\"type\":\"Rect\"},{\"attributes\":{},\"id\":\"127432e9-0613-4f81-b2ad-575b9e889d58\",\"type\":\"ToolEvents\"},{\"attributes\":{\"data_source\":{\"id\":\"5faaa277-82be-49ba-875e-35723e4571a0\",\"type\":\"ColumnDataSource\"},\"glyph\":{\"id\":\"a445d2c3-b6e4-44c7-a580-a7552c4e1270\",\"type\":\"Rect\"},\"hover_glyph\":null,\"muted_glyph\":null},\"id\":\"c785e3a6-5911-456e-ba00-36312e0c4090\",\"type\":\"GlyphRenderer\"},{\"attributes\":{\"fill_alpha\":{\"field\":\"fill_alpha\"},\"fill_color\":{\"field\":\"color\"},\"height\":{\"field\":\"height\",\"units\":\"data\"},\"line_color\":{\"field\":\"line_color\"},\"width\":{\"field\":\"width\",\"units\":\"data\"},\"x\":{\"field\":\"x\"},\"y\":{\"field\":\"y\"}},\"id\":\"504a55e2-4391-4540-80a3-bc94a6d6c075\",\"type\":\"Rect\"},{\"attributes\":{\"fill_alpha\":{\"field\":\"fill_alpha\"},\"fill_color\":{\"field\":\"color\"},\"height\":{\"field\":\"height\",\"units\":\"data\"},\"line_color\":{\"field\":\"line_color\"},\"width\":{\"field\":\"width\",\"units\":\"data\"},\"x\":{\"field\":\"x\"},\"y\":{\"field\":\"y\"}},\"id\":\"26699696-0e69-4b64-bd3c-105bb43cf494\",\"type\":\"Rect\"},{\"attributes\":{\"callback\":null,\"column_names\":[\"x\",\"y\",\"width\",\"height\",\"color\",\"fill_alpha\",\"line_color\",\"line_alpha\",\"label\"],\"data\":{\"chart_index\":[\"(81.906667, 82.893333]\"],\"color\":[\"#f22c40\"],\"fill_alpha\":[0.8],\"height\":[0.0],\"label\":[\"(81.906667, 82.893333]\"],\"line_alpha\":[1.0],\"line_color\":[\"black\"],\"width\":[0.9866666666666646],\"x\":[\"82.4\"],\"y\":[0.0]}},\"id\":\"3ee05e22-8a8c-41de-828e-ec198210cfd4\",\"type\":\"ColumnDataSource\"},{\"attributes\":{\"below\":[{\"id\":\"80c80362-0c29-4fb0-ad58-b6c765a45835\",\"type\":\"LinearAxis\"}],\"css_classes\":null,\"left\":[{\"id\":\"d3a61cc8-824c-4ed5-ba09-2d8f3bf28b72\",\"type\":\"LinearAxis\"}],\"renderers\":[{\"id\":\"1e8a6bc3-6a06-4499-8c79-177f0de8a36d\",\"type\":\"BoxAnnotation\"},{\"id\":\"cb212350-85b2-412b-85b1-fb0405cb11dc\",\"type\":\"GlyphRenderer\"},{\"id\":\"a0d4cb44-9a9a-4faa-97c2-8c15ede44e05\",\"type\":\"GlyphRenderer\"},{\"id\":\"4a9ac825-136d-4831-a466-da51b3d79c03\",\"type\":\"GlyphRenderer\"},{\"id\":\"26debf42-76b6-4519-93fd-cdfbe59fe65c\",\"type\":\"GlyphRenderer\"},{\"id\":\"740b3a8c-d452-4602-aec7-6bf4f76f433c\",\"type\":\"GlyphRenderer\"},{\"id\":\"73cd444c-4c5e-4099-bd85-e70165974056\",\"type\":\"GlyphRenderer\"},{\"id\":\"afffcaac-60d2-49c2-97e5-8ac0680eeba3\",\"type\":\"GlyphRenderer\"},{\"id\":\"4d768b11-3802-4e26-842f-0c74b1a1ae41\",\"type\":\"GlyphRenderer\"},{\"id\":\"945b7fa4-a86b-4535-93c6-f404602a799d\",\"type\":\"GlyphRenderer\"},{\"id\":\"4b612356-fa0c-4b0d-92d0-ee26a56244f1\",\"type\":\"GlyphRenderer\"},{\"id\":\"7e4e523d-6796-4318-90b0-837c2918a5d5\",\"type\":\"GlyphRenderer\"},{\"id\":\"5f48f325-1c91-4fa1-a7aa-5f061ac070f1\",\"type\":\"GlyphRenderer\"},{\"id\":\"ce8a5b82-51e3-4510-a2d7-47aafc1fee75\",\"type\":\"GlyphRenderer\"},{\"id\":\"b40c92a3-59d1-41ba-8064-8a0ec1e293ed\",\"type\":\"GlyphRenderer\"},{\"id\":\"b7600991-066a-4565-bbac-86b5c7baee92\",\"type\":\"GlyphRenderer\"},{\"id\":\"7dd4047a-6860-4b1c-b505-2ce5879646e5\",\"type\":\"GlyphRenderer\"},{\"id\":\"8e986485-b725-4557-9f36-ff742965949d\",\"type\":\"GlyphRenderer\"},{\"id\":\"083293b1-c645-4b5a-abc7-191eb3cfe119\",\"type\":\"GlyphRenderer\"},{\"id\":\"9e942cf6-ddb0-42bb-a6e1-a38ccbf71bc0\",\"type\":\"GlyphRenderer\"},{\"id\":\"d62010de-8411-44c7-bea2-ac6ab5592eee\",\"type\":\"GlyphRenderer\"},{\"id\":\"79f07244-513e-49bc-b1cb-d21116f477b4\",\"type\":\"GlyphRenderer\"},{\"id\":\"46aada79-4177-4a8b-a5a8-1a6afb0f1054\",\"type\":\"GlyphRenderer\"},{\"id\":\"d95bdb94-735e-434f-b32c-6b895ed94386\",\"type\":\"GlyphRenderer\"},{\"id\":\"39363b13-311f-47a7-8dcd-962ecde40a81\",\"type\":\"GlyphRenderer\"},{\"id\":\"1e445123-86d8-4f5e-8315-64d18d1a2ffd\",\"type\":\"GlyphRenderer\"},{\"id\":\"8444e442-807d-4693-802a-b713afdfa684\",\"type\":\"GlyphRenderer\"},{\"id\":\"d242d2a6-b630-4840-aa48-b6f5174949fd\",\"type\":\"GlyphRenderer\"},{\"id\":\"d39ef823-3604-4654-96c0-8c670dca3154\",\"type\":\"GlyphRenderer\"},{\"id\":\"dc10d331-f43e-4c5d-98a0-f32e62a9caa5\",\"type\":\"GlyphRenderer\"},{\"id\":\"b6466855-4d9f-4c15-a66f-bc1e87370d3c\",\"type\":\"GlyphRenderer\"},{\"id\":\"0ae0af87-10fa-4215-b8cd-1a03f4fb9faf\",\"type\":\"GlyphRenderer\"},{\"id\":\"57b592a9-6d39-411d-ae1a-7401a365f9bd\",\"type\":\"GlyphRenderer\"},{\"id\":\"90f31f68-1cf2-4b95-a801-a76d08f1404b\",\"type\":\"GlyphRenderer\"},{\"id\":\"2c535088-993b-4e79-891d-db14c5c3afb2\",\"type\":\"GlyphRenderer\"},{\"id\":\"21283c79-d016-4705-8fcc-9afdb1c192cf\",\"type\":\"GlyphRenderer\"},{\"id\":\"cb6af507-df6c-4220-870f-ab215029d382\",\"type\":\"GlyphRenderer\"},{\"id\":\"56c9c705-cf1b-4b9a-9dbb-452ad3742e37\",\"type\":\"GlyphRenderer\"},{\"id\":\"c6945881-97a8-4c4e-8611-349c295d55d8\",\"type\":\"GlyphRenderer\"},{\"id\":\"c785e3a6-5911-456e-ba00-36312e0c4090\",\"type\":\"GlyphRenderer\"},{\"id\":\"06abf6b6-9484-4070-afa3-43f8a87b1559\",\"type\":\"GlyphRenderer\"},{\"id\":\"ca051b43-cfc0-4ce0-9630-3b0293c74e50\",\"type\":\"GlyphRenderer\"},{\"id\":\"52585591-4cb7-45ae-a066-3e38f511c292\",\"type\":\"GlyphRenderer\"},{\"id\":\"8c5625f5-35de-400b-a950-de685c169543\",\"type\":\"GlyphRenderer\"},{\"id\":\"0f10ec3e-5ced-459f-99b5-2cafc5d4e3a4\",\"type\":\"GlyphRenderer\"},{\"id\":\"2fc49d2c-bf4e-40bc-96fb-2793af39e620\",\"type\":\"GlyphRenderer\"},{\"id\":\"45a4b0b6-993f-420c-99c6-df05467cb61f\",\"type\":\"GlyphRenderer\"},{\"id\":\"faef9e93-97d1-4555-9f80-ac3b099fa6a0\",\"type\":\"GlyphRenderer\"},{\"id\":\"398b3a88-c7d7-402a-b574-a89523b4b23d\",\"type\":\"GlyphRenderer\"},{\"id\":\"b6073658-0a2c-4bf9-ab70-e659e4529693\",\"type\":\"GlyphRenderer\"},{\"id\":\"5ad805c7-35e1-42e8-b5ec-f5f0a70d8566\",\"type\":\"GlyphRenderer\"},{\"id\":\"65abbe63-401e-45b5-b30f-a2d1d18b9ff4\",\"type\":\"GlyphRenderer\"},{\"id\":\"0eee55db-2209-41af-923c-4f0c5c301ff4\",\"type\":\"GlyphRenderer\"},{\"id\":\"8a3e2e96-4a20-42cf-aed9-58fd007071ba\",\"type\":\"GlyphRenderer\"},{\"id\":\"fc6831af-5840-4620-b09e-4e1490bcf131\",\"type\":\"GlyphRenderer\"},{\"id\":\"17c96c96-b871-4210-b71c-fba4337a0c17\",\"type\":\"GlyphRenderer\"},{\"id\":\"73f3d85a-9272-497f-ae36-31254f038cd7\",\"type\":\"GlyphRenderer\"},{\"id\":\"77a3d469-e936-4c67-a594-46b273558745\",\"type\":\"GlyphRenderer\"},{\"id\":\"7854b479-90e3-413a-aa02-54877a15fde6\",\"type\":\"GlyphRenderer\"},{\"id\":\"8b44e65f-a676-4fb2-a9d9-f8cb547a2b0b\",\"type\":\"GlyphRenderer\"},{\"id\":\"0a7e5b0d-d982-4a0a-a332-e9ce3d04ad8b\",\"type\":\"GlyphRenderer\"},{\"id\":\"565a5dbd-75b8-48a7-8f5d-1c897babebb7\",\"type\":\"GlyphRenderer\"},{\"id\":\"fda316df-b734-4d7e-a75e-e9559dd12e30\",\"type\":\"GlyphRenderer\"},{\"id\":\"9ebea603-98bd-48d1-b67b-b7e34fc874a6\",\"type\":\"GlyphRenderer\"},{\"id\":\"3fd80b1f-df99-45a8-8805-5cd48be3dd88\",\"type\":\"GlyphRenderer\"},{\"id\":\"c7b62845-54f1-4051-9721-a2a91ee376fc\",\"type\":\"GlyphRenderer\"},{\"id\":\"55f1904e-31fe-4520-88c4-d40441cfa80f\",\"type\":\"GlyphRenderer\"},{\"id\":\"0585779a-96cb-42d7-9aad-22eba2fa05b1\",\"type\":\"GlyphRenderer\"},{\"id\":\"c7db6272-0296-4d14-8400-eb670c75eb8c\",\"type\":\"GlyphRenderer\"},{\"id\":\"d96ab99b-2cec-4ea6-b661-b53efaf763c9\",\"type\":\"GlyphRenderer\"},{\"id\":\"a07845c0-1c62-4960-84f2-c0e97cfac363\",\"type\":\"GlyphRenderer\"},{\"id\":\"98e95c27-e460-430c-b923-a3f938f87d6c\",\"type\":\"GlyphRenderer\"},{\"id\":\"9b94b6c8-c3de-445e-aad7-073f341e67f5\",\"type\":\"GlyphRenderer\"},{\"id\":\"06a4fc61-d33b-44aa-af9c-4e94eedb4a3b\",\"type\":\"GlyphRenderer\"},{\"id\":\"f7d11c3b-1289-43a9-8fc3-f50a9e71609e\",\"type\":\"GlyphRenderer\"},{\"id\":\"2ba3a331-5740-4898-b53e-74ec6e7c8544\",\"type\":\"GlyphRenderer\"},{\"id\":\"975eb9b8-78aa-44a2-ab37-a814f5461d25\",\"type\":\"GlyphRenderer\"},{\"id\":\"096b9824-ddd5-4d8f-bfb7-e7fc807b6318\",\"type\":\"GlyphRenderer\"},{\"id\":\"98c2c938-9f58-40a3-8cdc-f39594eaedb7\",\"type\":\"GlyphRenderer\"},{\"id\":\"8375f2e9-6092-4656-894c-01a8f3a549cf\",\"type\":\"GlyphRenderer\"},{\"id\":\"266a4e21-47a9-4529-a5b6-bdf215b8785b\",\"type\":\"GlyphRenderer\"},{\"id\":\"4a231783-202b-44e5-be4a-f2d103655e2d\",\"type\":\"GlyphRenderer\"},{\"id\":\"6a4f5be2-ea9c-44f5-b7da-c0a58793cd28\",\"type\":\"GlyphRenderer\"},{\"id\":\"8b256ef5-3d66-4a52-b441-2fde11d2e032\",\"type\":\"GlyphRenderer\"},{\"id\":\"42c56cb8-0123-46b8-80a7-96b837f4357c\",\"type\":\"GlyphRenderer\"},{\"id\":\"eeecc26d-8df3-4c57-ba14-d753482f0cc2\",\"type\":\"GlyphRenderer\"},{\"id\":\"ed9f757a-4bdd-4122-84cc-fafda190ec3e\",\"type\":\"GlyphRenderer\"},{\"id\":\"78bfc6ed-bad1-4999-97be-4bb44e63ad87\",\"type\":\"GlyphRenderer\"},{\"id\":\"23c65e53-b52d-482a-86c1-423ea47fc69d\",\"type\":\"GlyphRenderer\"},{\"id\":\"37167538-01fc-42cc-a1ef-56f743ebf888\",\"type\":\"GlyphRenderer\"},{\"id\":\"2abbad4a-ea6f-4a26-bc8a-2ffabc8b1848\",\"type\":\"GlyphRenderer\"},{\"id\":\"d0656f67-8034-4261-8b10-75a20f4b967e\",\"type\":\"GlyphRenderer\"},{\"id\":\"003198ae-40ad-47fb-b963-e1013f348b52\",\"type\":\"GlyphRenderer\"},{\"id\":\"0d83f8a9-2892-4828-bb57-01a1f1c27cec\",\"type\":\"GlyphRenderer\"},{\"id\":\"745ac6da-cf3c-45c8-8810-a750b401bb36\",\"type\":\"GlyphRenderer\"},{\"id\":\"ed15a335-4790-4ff0-b907-bf092428dbb5\",\"type\":\"GlyphRenderer\"},{\"id\":\"a17c71cd-6894-47b0-927d-7d47555d6625\",\"type\":\"GlyphRenderer\"},{\"id\":\"312106cb-ddcc-44c5-8e45-26041c0df894\",\"type\":\"GlyphRenderer\"},{\"id\":\"b4a3a9fe-69ef-47da-a0e9-844199363ec8\",\"type\":\"GlyphRenderer\"},{\"id\":\"b4ec6ec2-fa6c-4412-b9e2-ad3d726206c2\",\"type\":\"GlyphRenderer\"},{\"id\":\"3aaf75eb-3fa1-4f79-81b3-3e7f776df127\",\"type\":\"GlyphRenderer\"},{\"id\":\"e2ce179e-9214-469f-a587-4122e738d07d\",\"type\":\"GlyphRenderer\"},{\"id\":\"e8e76bdb-6f7c-4b13-8e8c-29c9bc715d36\",\"type\":\"GlyphRenderer\"},{\"id\":\"69e53d77-2db1-4f7e-9185-5452e3c69dff\",\"type\":\"GlyphRenderer\"},{\"id\":\"8b244636-d639-4356-8ae1-9efbef083ee4\",\"type\":\"GlyphRenderer\"},{\"id\":\"f02da48a-4a2b-4974-9ce6-2431c7399b2b\",\"type\":\"GlyphRenderer\"},{\"id\":\"468323c0-03d7-48d9-b454-19dfbf8643e7\",\"type\":\"GlyphRenderer\"},{\"id\":\"5f0510e7-e7cd-42a1-b5a1-f1be90c07a3e\",\"type\":\"GlyphRenderer\"},{\"id\":\"99fe8f1e-2d39-4535-9962-1bb96a896c97\",\"type\":\"GlyphRenderer\"},{\"id\":\"cd4e880c-a4bd-4427-8e08-172152db1f19\",\"type\":\"GlyphRenderer\"},{\"id\":\"66754c16-95f6-4be5-bb13-04da5c244d44\",\"type\":\"GlyphRenderer\"},{\"id\":\"2f1e3195-c995-4367-a1ad-a65b9d56419b\",\"type\":\"GlyphRenderer\"},{\"id\":\"6b913ca9-99c9-4504-b2eb-ada31c223492\",\"type\":\"GlyphRenderer\"},{\"id\":\"c0012dec-9bc6-401d-a677-f2f9eb3d51d4\",\"type\":\"GlyphRenderer\"},{\"id\":\"4d90855c-1b99-47e4-8d53-65bbbf537e2b\",\"type\":\"GlyphRenderer\"},{\"id\":\"c9fd4fc4-fec0-4b8d-a6c3-0ff5220dd441\",\"type\":\"GlyphRenderer\"},{\"id\":\"a3cae78e-89a5-44fe-aa74-a95cd702156a\",\"type\":\"GlyphRenderer\"},{\"id\":\"60f8370d-5b91-4157-99fe-f7e5b4a71fbc\",\"type\":\"GlyphRenderer\"},{\"id\":\"e43628d5-658c-47a3-8e15-bcc088786e2a\",\"type\":\"GlyphRenderer\"},{\"id\":\"064bac7c-f52b-4668-a6da-a2c567ec7e00\",\"type\":\"GlyphRenderer\"},{\"id\":\"92bb8a41-47ec-4b11-ad29-95135a332463\",\"type\":\"GlyphRenderer\"},{\"id\":\"e94a4d6f-2fa1-47d4-a4fa-dc64d3c8505e\",\"type\":\"GlyphRenderer\"},{\"id\":\"0fc54dff-05a3-4abb-8836-10155a5eb9eb\",\"type\":\"GlyphRenderer\"},{\"id\":\"ba38ec68-74d9-45a1-bb43-d18d064cb5ca\",\"type\":\"GlyphRenderer\"},{\"id\":\"5fb6c9c1-07ea-4db0-8ba7-00aeab1b981b\",\"type\":\"GlyphRenderer\"},{\"id\":\"c151233e-00fd-4e29-bbd5-afda944f41c8\",\"type\":\"GlyphRenderer\"},{\"id\":\"535e1723-150e-4b42-b78d-50a1694424af\",\"type\":\"GlyphRenderer\"},{\"id\":\"a9573246-89e0-47dc-ba30-65c99ac517d0\",\"type\":\"GlyphRenderer\"},{\"id\":\"0dadfc8c-9da2-4d43-bc2b-599cf045ad62\",\"type\":\"GlyphRenderer\"},{\"id\":\"a5f3e3b6-9de1-4af9-892e-41ee3afc1999\",\"type\":\"GlyphRenderer\"},{\"id\":\"4e7509c0-2eaa-46a3-bf62-965394d41319\",\"type\":\"GlyphRenderer\"},{\"id\":\"2b559ea8-7dfc-4c9d-8d33-b2fdad1f0a90\",\"type\":\"GlyphRenderer\"},{\"id\":\"cb0ece24-37c4-4b6f-9540-911bd45ea6a7\",\"type\":\"GlyphRenderer\"},{\"id\":\"ec2ef5e4-2cb1-4772-a7ae-9e9b210f1c26\",\"type\":\"GlyphRenderer\"},{\"id\":\"a5aff3cd-60bc-451a-bca8-ab6b1f9b25f4\",\"type\":\"GlyphRenderer\"},{\"id\":\"69859c35-d66e-4934-b6a4-8fd6aed38e2f\",\"type\":\"GlyphRenderer\"},{\"id\":\"17d87531-000c-4449-988a-bcb8961e3d3a\",\"type\":\"GlyphRenderer\"},{\"id\":\"84507ed4-bf0e-4e8d-aa36-361c2abc793f\",\"type\":\"GlyphRenderer\"},{\"id\":\"40c16d14-9b73-4e5c-be75-a6960def36f6\",\"type\":\"GlyphRenderer\"},{\"id\":\"b1eead8b-9148-4fe8-b015-91f28fdd6d3c\",\"type\":\"GlyphRenderer\"},{\"id\":\"b72d68c6-9a58-4c49-a86e-3fe2ecae0605\",\"type\":\"GlyphRenderer\"},{\"id\":\"68ee718c-ca44-49fd-b19c-895ee8d15a4d\",\"type\":\"GlyphRenderer\"},{\"id\":\"880ff9cc-770a-472a-a80e-97504cd5ab1d\",\"type\":\"GlyphRenderer\"},{\"id\":\"a274ccc0-2dd5-4bc5-8ab7-d14743009ba5\",\"type\":\"GlyphRenderer\"},{\"id\":\"3cc81baa-0667-4474-a1ca-94b912b79fc8\",\"type\":\"GlyphRenderer\"},{\"id\":\"2d7a6893-216e-4314-897f-e9a659dba755\",\"type\":\"GlyphRenderer\"},{\"id\":\"86724283-c26b-47bc-a00e-0a7870fa448d\",\"type\":\"GlyphRenderer\"},{\"id\":\"b8526acb-1de2-431f-8466-5430fa45992e\",\"type\":\"GlyphRenderer\"},{\"id\":\"dca8d83a-af6f-403c-abcc-03670b6b02b2\",\"type\":\"GlyphRenderer\"},{\"id\":\"f984587b-d5d8-44fb-9fa4-344986f71d07\",\"type\":\"GlyphRenderer\"},{\"id\":\"abd7f68a-f501-45bd-94ce-ce7b06147ee5\",\"type\":\"GlyphRenderer\"},{\"id\":\"b07ab031-dda5-4ee4-ae9e-af6ec4d9122d\",\"type\":\"Legend\"},{\"id\":\"80c80362-0c29-4fb0-ad58-b6c765a45835\",\"type\":\"LinearAxis\"},{\"id\":\"d3a61cc8-824c-4ed5-ba09-2d8f3bf28b72\",\"type\":\"LinearAxis\"},{\"id\":\"4d537f19-9475-4c41-9d09-5a374f47edcb\",\"type\":\"Grid\"}],\"title\":{\"id\":\"55362b5e-62e9-40b6-a4e2-a80b1e7f9f8a\",\"type\":\"Title\"},\"tool_events\":{\"id\":\"127432e9-0613-4f81-b2ad-575b9e889d58\",\"type\":\"ToolEvents\"},\"toolbar\":{\"id\":\"bcb6f2bb-c4e7-4cc0-a487-234443fd590f\",\"type\":\"Toolbar\"},\"x_mapper_type\":\"auto\",\"x_range\":{\"id\":\"02447f27-137e-4a75-a786-34ac8f953b75\",\"type\":\"Range1d\"},\"y_mapper_type\":\"auto\",\"y_range\":{\"id\":\"d0a0c9d1-9349-4325-bb45-f56e82a7be7a\",\"type\":\"Range1d\"}},\"id\":\"f42fec9d-f593-4007-b93a-0da4dcfc48cd\",\"subtype\":\"Chart\",\"type\":\"Plot\"},{\"attributes\":{\"fill_alpha\":{\"field\":\"fill_alpha\"},\"fill_color\":{\"field\":\"color\"},\"height\":{\"field\":\"height\",\"units\":\"data\"},\"line_color\":{\"field\":\"line_color\"},\"width\":{\"field\":\"width\",\"units\":\"data\"},\"x\":{\"field\":\"x\"},\"y\":{\"field\":\"y\"}},\"id\":\"7c0a4c5d-97a0-4e0b-a3b5-f01cbfdf55ba\",\"type\":\"Rect\"},{\"attributes\":{\"data_source\":{\"id\":\"ec03639f-b3bd-4e60-a53d-eeb22ed3fbeb\",\"type\":\"ColumnDataSource\"},\"glyph\":{\"id\":\"13f4e876-1fb4-4c07-aa20-a3f06d1c40fe\",\"type\":\"Rect\"},\"hover_glyph\":null,\"muted_glyph\":null},\"id\":\"21283c79-d016-4705-8fcc-9afdb1c192cf\",\"type\":\"GlyphRenderer\"},{\"attributes\":{\"data_source\":{\"id\":\"a36c6e74-c8b7-4edc-978e-42f5021c0f00\",\"type\":\"ColumnDataSource\"},\"glyph\":{\"id\":\"ce0d95a2-79a1-497b-a9d4-adeff126343d\",\"type\":\"Rect\"},\"hover_glyph\":null,\"muted_glyph\":null},\"id\":\"266a4e21-47a9-4529-a5b6-bdf215b8785b\",\"type\":\"GlyphRenderer\"},{\"attributes\":{\"callback\":null,\"end\":152.74999983333333,\"start\":-2.7499998333333338},\"id\":\"02447f27-137e-4a75-a786-34ac8f953b75\",\"type\":\"Range1d\"},{\"attributes\":{\"data_source\":{\"id\":\"82b966d7-02c8-4c83-b7d2-fc4329fcb403\",\"type\":\"ColumnDataSource\"},\"glyph\":{\"id\":\"f02fb009-1c22-41f0-b9c2-dfc94107edbd\",\"type\":\"Rect\"},\"hover_glyph\":null,\"muted_glyph\":null},\"id\":\"37167538-01fc-42cc-a1ef-56f743ebf888\",\"type\":\"GlyphRenderer\"},{\"attributes\":{\"fill_alpha\":{\"field\":\"fill_alpha\"},\"fill_color\":{\"field\":\"color\"},\"height\":{\"field\":\"height\",\"units\":\"data\"},\"line_color\":{\"field\":\"line_color\"},\"width\":{\"field\":\"width\",\"units\":\"data\"},\"x\":{\"field\":\"x\"},\"y\":{\"field\":\"y\"}},\"id\":\"4f3c1157-6768-4b68-85d4-3ea4b7960fbe\",\"type\":\"Rect\"},{\"attributes\":{\"plot\":null,\"text\":\"Histogram of Unique Recipient Countries by Implementing Organisation\"},\"id\":\"55362b5e-62e9-40b6-a4e2-a80b1e7f9f8a\",\"type\":\"Title\"},{\"attributes\":{\"callback\":null,\"column_names\":[\"x\",\"y\",\"width\",\"height\",\"color\",\"fill_alpha\",\"line_color\",\"line_alpha\",\"label\"],\"data\":{\"chart_index\":[\"(24.680000, 25.666667]\"],\"color\":[\"#f22c40\"],\"fill_alpha\":[0.8],\"height\":[4.0],\"label\":[\"(24.680000, 25.666667]\"],\"line_alpha\":[1.0],\"line_color\":[\"black\"],\"width\":[0.9866666666666681],\"x\":[\"25.1733335\"],\"y\":[2.0]}},\"id\":\"289912b3-31e1-4746-9f92-d6ed2a608a00\",\"type\":\"ColumnDataSource\"},{\"attributes\":{\"callback\":null,\"column_names\":[\"x\",\"y\",\"width\",\"height\",\"color\",\"fill_alpha\",\"line_color\",\"line_alpha\",\"label\"],\"data\":{\"chart_index\":[\"(36.520000, 37.506667]\"],\"color\":[\"#f22c40\"],\"fill_alpha\":[0.8],\"height\":[0.0],\"label\":[\"(36.520000, 37.506667]\"],\"line_alpha\":[1.0],\"line_color\":[\"black\"],\"width\":[0.9866666666666646],\"x\":[\"37.0133335\"],\"y\":[0.0]}},\"id\":\"2217f2bb-0d34-49ad-b410-3083c88669a1\",\"type\":\"ColumnDataSource\"},{\"attributes\":{\"fill_alpha\":{\"field\":\"fill_alpha\"},\"fill_color\":{\"field\":\"color\"},\"height\":{\"field\":\"height\",\"units\":\"data\"},\"line_color\":{\"field\":\"line_color\"},\"width\":{\"field\":\"width\",\"units\":\"data\"},\"x\":{\"field\":\"x\"},\"y\":{\"field\":\"y\"}},\"id\":\"044545e9-647b-4c1e-a1c1-8fa28e090fd6\",\"type\":\"Rect\"},{\"attributes\":{\"active_drag\":\"auto\",\"active_scroll\":\"auto\",\"active_tap\":\"auto\",\"tools\":[{\"id\":\"74b7d1de-b65e-4f91-b958-fada61aeecd1\",\"type\":\"PanTool\"},{\"id\":\"58eed41f-2549-4471-af90-c7f7feb13594\",\"type\":\"WheelZoomTool\"},{\"id\":\"22e12375-851f-43f6-9b95-13794364ca1a\",\"type\":\"BoxZoomTool\"},{\"id\":\"84190b12-f75c-45db-b3e2-01d4ed66e446\",\"type\":\"SaveTool\"},{\"id\":\"b99f5f04-9fde-4ce7-965a-9381d17c4827\",\"type\":\"ResetTool\"},{\"id\":\"afb37f32-7a72-4945-ad93-23381c6b4c8d\",\"type\":\"HelpTool\"}]},\"id\":\"bcb6f2bb-c4e7-4cc0-a487-234443fd590f\",\"type\":\"Toolbar\"},{\"attributes\":{\"fill_alpha\":{\"field\":\"fill_alpha\"},\"fill_color\":{\"field\":\"color\"},\"height\":{\"field\":\"height\",\"units\":\"data\"},\"line_color\":{\"field\":\"line_color\"},\"width\":{\"field\":\"width\",\"units\":\"data\"},\"x\":{\"field\":\"x\"},\"y\":{\"field\":\"y\"}},\"id\":\"f86bb96f-3b6b-49cb-8e4c-fb718c31b928\",\"type\":\"Rect\"},{\"attributes\":{\"fill_alpha\":{\"field\":\"fill_alpha\"},\"fill_color\":{\"field\":\"color\"},\"height\":{\"field\":\"height\",\"units\":\"data\"},\"line_color\":{\"field\":\"line_color\"},\"width\":{\"field\":\"width\",\"units\":\"data\"},\"x\":{\"field\":\"x\"},\"y\":{\"field\":\"y\"}},\"id\":\"60c4160f-0774-476b-9d7d-d44db5826f8a\",\"type\":\"Rect\"},{\"attributes\":{\"data_source\":{\"id\":\"92eb608a-0001-4662-ae1d-39dbc8df117d\",\"type\":\"ColumnDataSource\"},\"glyph\":{\"id\":\"f86bb96f-3b6b-49cb-8e4c-fb718c31b928\",\"type\":\"Rect\"},\"hover_glyph\":null,\"muted_glyph\":null},\"id\":\"8e986485-b725-4557-9f36-ff742965949d\",\"type\":\"GlyphRenderer\"},{\"attributes\":{\"data_source\":{\"id\":\"107f9714-93f0-44c2-9477-fba21bbffaf2\",\"type\":\"ColumnDataSource\"},\"glyph\":{\"id\":\"fe7e3876-7a93-4008-9018-de9f2835e4f8\",\"type\":\"Rect\"},\"hover_glyph\":null,\"muted_glyph\":null},\"id\":\"d95bdb94-735e-434f-b32c-6b895ed94386\",\"type\":\"GlyphRenderer\"},{\"attributes\":{\"location\":\"top_left\",\"plot\":{\"id\":\"f42fec9d-f593-4007-b93a-0da4dcfc48cd\",\"subtype\":\"Chart\",\"type\":\"Plot\"}},\"id\":\"b07ab031-dda5-4ee4-ae9e-af6ec4d9122d\",\"type\":\"Legend\"},{\"attributes\":{\"data_source\":{\"id\":\"210fc0b3-e004-4940-ac0b-9a3d32960342\",\"type\":\"ColumnDataSource\"},\"glyph\":{\"id\":\"6064c0d7-25d8-4033-9d98-3ab6249ed8fc\",\"type\":\"Rect\"},\"hover_glyph\":null,\"muted_glyph\":null},\"id\":\"ce8a5b82-51e3-4510-a2d7-47aafc1fee75\",\"type\":\"GlyphRenderer\"},{\"attributes\":{\"data_source\":{\"id\":\"97e3ff70-adc6-47d6-9d94-2c1c8cde72fb\",\"type\":\"ColumnDataSource\"},\"glyph\":{\"id\":\"e2adddc2-2d21-4bba-8d71-cc7caf43c537\",\"type\":\"Rect\"},\"hover_glyph\":null,\"muted_glyph\":null},\"id\":\"6a4f5be2-ea9c-44f5-b7da-c0a58793cd28\",\"type\":\"GlyphRenderer\"},{\"attributes\":{\"callback\":null,\"column_names\":[\"x\",\"y\",\"width\",\"height\",\"color\",\"fill_alpha\",\"line_color\",\"line_alpha\",\"label\"],\"data\":{\"chart_index\":[\"(13.826667, 14.813333]\"],\"color\":[\"#f22c40\"],\"fill_alpha\":[0.8],\"height\":[5.0],\"label\":[\"(13.826667, 14.813333]\"],\"line_alpha\":[1.0],\"line_color\":[\"black\"],\"width\":[0.9866666666666681],\"x\":[\"14.32\"],\"y\":[2.5]}},\"id\":\"7d4a80d7-afc7-4f63-b107-24838e318fc6\",\"type\":\"ColumnDataSource\"},{\"attributes\":{\"callback\":null,\"column_names\":[\"x\",\"y\",\"width\",\"height\",\"color\",\"fill_alpha\",\"line_color\",\"line_alpha\",\"label\"],\"data\":{\"chart_index\":[\"(66.120000, 67.106667]\"],\"color\":[\"#f22c40\"],\"fill_alpha\":[0.8],\"height\":[1.0],\"label\":[\"(66.120000, 67.106667]\"],\"line_alpha\":[1.0],\"line_color\":[\"black\"],\"width\":[0.9866666666666646],\"x\":[\"66.61333350000001\"],\"y\":[0.5]}},\"id\":\"0aca39ad-f5c8-4050-8278-241146c4a57e\",\"type\":\"ColumnDataSource\"},{\"attributes\":{\"bottom_units\":\"screen\",\"fill_alpha\":{\"value\":0.5},\"fill_color\":{\"value\":\"lightgrey\"},\"left_units\":\"screen\",\"level\":\"overlay\",\"line_alpha\":{\"value\":1.0},\"line_color\":{\"value\":\"black\"},\"line_dash\":[4,4],\"line_width\":{\"value\":2},\"plot\":null,\"render_mode\":\"css\",\"right_units\":\"screen\",\"top_units\":\"screen\"},\"id\":\"1e8a6bc3-6a06-4499-8c79-177f0de8a36d\",\"type\":\"BoxAnnotation\"},{\"attributes\":{\"data_source\":{\"id\":\"289912b3-31e1-4746-9f92-d6ed2a608a00\",\"type\":\"ColumnDataSource\"},\"glyph\":{\"id\":\"4f3c1157-6768-4b68-85d4-3ea4b7960fbe\",\"type\":\"Rect\"},\"hover_glyph\":null,\"muted_glyph\":null},\"id\":\"1e445123-86d8-4f5e-8315-64d18d1a2ffd\",\"type\":\"GlyphRenderer\"},{\"attributes\":{\"fill_alpha\":{\"field\":\"fill_alpha\"},\"fill_color\":{\"field\":\"color\"},\"height\":{\"field\":\"height\",\"units\":\"data\"},\"line_color\":{\"field\":\"line_color\"},\"width\":{\"field\":\"width\",\"units\":\"data\"},\"x\":{\"field\":\"x\"},\"y\":{\"field\":\"y\"}},\"id\":\"265a0d5d-77e6-4006-8402-c6272e2c2728\",\"type\":\"Rect\"},{\"attributes\":{\"data_source\":{\"id\":\"3fb18214-f1bf-4a20-ab47-1ccd9ab47688\",\"type\":\"ColumnDataSource\"},\"glyph\":{\"id\":\"27f15f4d-5840-4a90-ad09-c521b9bbbd8d\",\"type\":\"Rect\"},\"hover_glyph\":null,\"muted_glyph\":null},\"id\":\"cb6af507-df6c-4220-870f-ab215029d382\",\"type\":\"GlyphRenderer\"},{\"attributes\":{\"data_source\":{\"id\":\"1768d987-8ed7-485b-8b5b-64a54dab273b\",\"type\":\"ColumnDataSource\"},\"glyph\":{\"id\":\"07e8358c-6f41-4367-950f-5b59ea684849\",\"type\":\"Rect\"},\"hover_glyph\":null,\"muted_glyph\":null},\"id\":\"4a231783-202b-44e5-be4a-f2d103655e2d\",\"type\":\"GlyphRenderer\"},{\"attributes\":{\"plot\":{\"id\":\"f42fec9d-f593-4007-b93a-0da4dcfc48cd\",\"subtype\":\"Chart\",\"type\":\"Plot\"}},\"id\":\"74b7d1de-b65e-4f91-b958-fada61aeecd1\",\"type\":\"PanTool\"},{\"attributes\":{\"callback\":null,\"column_names\":[\"x\",\"y\",\"width\",\"height\",\"color\",\"fill_alpha\",\"line_color\",\"line_alpha\",\"label\"],\"data\":{\"chart_index\":[\"(14.813333, 15.800000]\"],\"color\":[\"#f22c40\"],\"fill_alpha\":[0.8],\"height\":[6.0],\"label\":[\"(14.813333, 15.800000]\"],\"line_alpha\":[1.0],\"line_color\":[\"black\"],\"width\":[0.9866666666666664],\"x\":[\"15.3066665\"],\"y\":[3.0]}},\"id\":\"c08b9c0a-7408-4b40-be9d-e3bca6e45605\",\"type\":\"ColumnDataSource\"},{\"attributes\":{\"callback\":null,\"column_names\":[\"x\",\"y\",\"width\",\"height\",\"color\",\"fill_alpha\",\"line_color\",\"line_alpha\",\"label\"],\"data\":{\"chart_index\":[\"(25.666667, 26.653333]\"],\"color\":[\"#f22c40\"],\"fill_alpha\":[0.8],\"height\":[2.0],\"label\":[\"(25.666667, 26.653333]\"],\"line_alpha\":[1.0],\"line_color\":[\"black\"],\"width\":[0.9866666666666646],\"x\":[\"26.16\"],\"y\":[1.0]}},\"id\":\"6acabfe4-413d-4916-a9f8-b47d5e64b0e6\",\"type\":\"ColumnDataSource\"},{\"attributes\":{\"fill_alpha\":{\"field\":\"fill_alpha\"},\"fill_color\":{\"field\":\"color\"},\"height\":{\"field\":\"height\",\"units\":\"data\"},\"line_color\":{\"field\":\"line_color\"},\"width\":{\"field\":\"width\",\"units\":\"data\"},\"x\":{\"field\":\"x\"},\"y\":{\"field\":\"y\"}},\"id\":\"eb2eaa8e-57d4-42c9-bece-86866c51c819\",\"type\":\"Rect\"},{\"attributes\":{\"fill_alpha\":{\"field\":\"fill_alpha\"},\"fill_color\":{\"field\":\"color\"},\"height\":{\"field\":\"height\",\"units\":\"data\"},\"line_color\":{\"field\":\"line_color\"},\"width\":{\"field\":\"width\",\"units\":\"data\"},\"x\":{\"field\":\"x\"},\"y\":{\"field\":\"y\"}},\"id\":\"a445d2c3-b6e4-44c7-a580-a7552c4e1270\",\"type\":\"Rect\"},{\"attributes\":{\"plot\":{\"id\":\"f42fec9d-f593-4007-b93a-0da4dcfc48cd\",\"subtype\":\"Chart\",\"type\":\"Plot\"}},\"id\":\"58eed41f-2549-4471-af90-c7f7feb13594\",\"type\":\"WheelZoomTool\"},{\"attributes\":{\"callback\":null,\"column_names\":[\"x\",\"y\",\"width\",\"height\",\"color\",\"fill_alpha\",\"line_color\",\"line_alpha\",\"label\"],\"data\":{\"chart_index\":[\"(26.653333, 27.640000]\"],\"color\":[\"#f22c40\"],\"fill_alpha\":[0.8],\"height\":[1.0],\"label\":[\"(26.653333, 27.640000]\"],\"line_alpha\":[1.0],\"line_color\":[\"black\"],\"width\":[0.9866666666666681],\"x\":[\"27.146666500000002\"],\"y\":[0.5]}},\"id\":\"938f5ff5-b8c0-4785-b15a-e4a8f20ff680\",\"type\":\"ColumnDataSource\"},{\"attributes\":{\"callback\":null,\"column_names\":[\"x\",\"y\",\"width\",\"height\",\"color\",\"fill_alpha\",\"line_color\",\"line_alpha\",\"label\"],\"data\":{\"chart_index\":[\"(80.920000, 81.906667]\"],\"color\":[\"#f22c40\"],\"fill_alpha\":[0.8],\"height\":[0.0],\"label\":[\"(80.920000, 81.906667]\"],\"line_alpha\":[1.0],\"line_color\":[\"black\"],\"width\":[0.9866666666666646],\"x\":[\"81.4133335\"],\"y\":[0.0]}},\"id\":\"97e3ff70-adc6-47d6-9d94-2c1c8cde72fb\",\"type\":\"ColumnDataSource\"},{\"attributes\":{\"overlay\":{\"id\":\"1e8a6bc3-6a06-4499-8c79-177f0de8a36d\",\"type\":\"BoxAnnotation\"},\"plot\":{\"id\":\"f42fec9d-f593-4007-b93a-0da4dcfc48cd\",\"subtype\":\"Chart\",\"type\":\"Plot\"}},\"id\":\"22e12375-851f-43f6-9b95-13794364ca1a\",\"type\":\"BoxZoomTool\"},{\"attributes\":{\"plot\":{\"id\":\"f42fec9d-f593-4007-b93a-0da4dcfc48cd\",\"subtype\":\"Chart\",\"type\":\"Plot\"}},\"id\":\"84190b12-f75c-45db-b3e2-01d4ed66e446\",\"type\":\"SaveTool\"},{\"attributes\":{\"plot\":{\"id\":\"f42fec9d-f593-4007-b93a-0da4dcfc48cd\",\"subtype\":\"Chart\",\"type\":\"Plot\"}},\"id\":\"b99f5f04-9fde-4ce7-965a-9381d17c4827\",\"type\":\"ResetTool\"},{\"attributes\":{\"fill_alpha\":{\"field\":\"fill_alpha\"},\"fill_color\":{\"field\":\"color\"},\"height\":{\"field\":\"height\",\"units\":\"data\"},\"line_color\":{\"field\":\"line_color\"},\"width\":{\"field\":\"width\",\"units\":\"data\"},\"x\":{\"field\":\"x\"},\"y\":{\"field\":\"y\"}},\"id\":\"aa7939f4-aeff-42e7-8aa9-1daba11ac3b9\",\"type\":\"Rect\"},{\"attributes\":{\"data_source\":{\"id\":\"7d4a80d7-afc7-4f63-b107-24838e318fc6\",\"type\":\"ColumnDataSource\"},\"glyph\":{\"id\":\"265a0d5d-77e6-4006-8402-c6272e2c2728\",\"type\":\"Rect\"},\"hover_glyph\":null,\"muted_glyph\":null},\"id\":\"b40c92a3-59d1-41ba-8064-8a0ec1e293ed\",\"type\":\"GlyphRenderer\"},{\"attributes\":{\"plot\":{\"id\":\"f42fec9d-f593-4007-b93a-0da4dcfc48cd\",\"subtype\":\"Chart\",\"type\":\"Plot\"}},\"id\":\"afb37f32-7a72-4945-ad93-23381c6b4c8d\",\"type\":\"HelpTool\"},{\"attributes\":{\"callback\":null,\"column_names\":[\"x\",\"y\",\"width\",\"height\",\"color\",\"fill_alpha\",\"line_color\",\"line_alpha\",\"label\"],\"data\":{\"chart_index\":[\"(37.506667, 38.493333]\"],\"color\":[\"#f22c40\"],\"fill_alpha\":[0.8],\"height\":[2.0],\"label\":[\"(37.506667, 38.493333]\"],\"line_alpha\":[1.0],\"line_color\":[\"black\"],\"width\":[0.9866666666666646],\"x\":[\"38.0\"],\"y\":[1.0]}},\"id\":\"5edf0af4-7d04-4f23-93c9-eaf4146b2d55\",\"type\":\"ColumnDataSource\"},{\"attributes\":{\"data_source\":{\"id\":\"5edf0af4-7d04-4f23-93c9-eaf4146b2d55\",\"type\":\"ColumnDataSource\"},\"glyph\":{\"id\":\"421e567a-d4e2-42c7-ae6b-32cbfe62f030\",\"type\":\"Rect\"},\"hover_glyph\":null,\"muted_glyph\":null},\"id\":\"c6945881-97a8-4c4e-8611-349c295d55d8\",\"type\":\"GlyphRenderer\"},{\"attributes\":{\"callback\":null,\"column_names\":[\"x\",\"y\",\"width\",\"height\",\"color\",\"fill_alpha\",\"line_color\",\"line_alpha\",\"label\"],\"data\":{\"chart_index\":[\"(31.586667, 32.573333]\"],\"color\":[\"#f22c40\"],\"fill_alpha\":[0.8],\"height\":[1.0],\"label\":[\"(31.586667, 32.573333]\"],\"line_alpha\":[1.0],\"line_color\":[\"black\"],\"width\":[0.9866666666666717],\"x\":[\"32.08\"],\"y\":[0.5]}},\"id\":\"da117a1d-f064-4d8a-ad5c-af969aab00ad\",\"type\":\"ColumnDataSource\"},{\"attributes\":{\"data_source\":{\"id\":\"6acabfe4-413d-4916-a9f8-b47d5e64b0e6\",\"type\":\"ColumnDataSource\"},\"glyph\":{\"id\":\"eb2eaa8e-57d4-42c9-bece-86866c51c819\",\"type\":\"Rect\"},\"hover_glyph\":null,\"muted_glyph\":null},\"id\":\"8444e442-807d-4693-802a-b713afdfa684\",\"type\":\"GlyphRenderer\"},{\"attributes\":{\"data_source\":{\"id\":\"2217f2bb-0d34-49ad-b410-3083c88669a1\",\"type\":\"ColumnDataSource\"},\"glyph\":{\"id\":\"044545e9-647b-4c1e-a1c1-8fa28e090fd6\",\"type\":\"Rect\"},\"hover_glyph\":null,\"muted_glyph\":null},\"id\":\"56c9c705-cf1b-4b9a-9dbb-452ad3742e37\",\"type\":\"GlyphRenderer\"},{\"attributes\":{\"fill_alpha\":{\"field\":\"fill_alpha\"},\"fill_color\":{\"field\":\"color\"},\"height\":{\"field\":\"height\",\"units\":\"data\"},\"line_color\":{\"field\":\"line_color\"},\"width\":{\"field\":\"width\",\"units\":\"data\"},\"x\":{\"field\":\"x\"},\"y\":{\"field\":\"y\"}},\"id\":\"570113ef-534b-4c57-a52e-fda7a1007e38\",\"type\":\"Rect\"},{\"attributes\":{\"data_source\":{\"id\":\"e5bcbe7f-0ef0-4020-a2db-043fd5d00686\",\"type\":\"ColumnDataSource\"},\"glyph\":{\"id\":\"a21f9c6a-8515-4a28-ac96-ab3ae6000bdc\",\"type\":\"Rect\"},\"hover_glyph\":null,\"muted_glyph\":null},\"id\":\"2fc49d2c-bf4e-40bc-96fb-2793af39e620\",\"type\":\"GlyphRenderer\"},{\"attributes\":{\"fill_alpha\":{\"field\":\"fill_alpha\"},\"fill_color\":{\"field\":\"color\"},\"height\":{\"field\":\"height\",\"units\":\"data\"},\"line_color\":{\"field\":\"line_color\"},\"width\":{\"field\":\"width\",\"units\":\"data\"},\"x\":{\"field\":\"x\"},\"y\":{\"field\":\"y\"}},\"id\":\"25d675d3-c6ff-4386-a809-3747eebdf104\",\"type\":\"Rect\"},{\"attributes\":{\"fill_alpha\":{\"field\":\"fill_alpha\"},\"fill_color\":{\"field\":\"color\"},\"height\":{\"field\":\"height\",\"units\":\"data\"},\"line_color\":{\"field\":\"line_color\"},\"width\":{\"field\":\"width\",\"units\":\"data\"},\"x\":{\"field\":\"x\"},\"y\":{\"field\":\"y\"}},\"id\":\"140c0554-e5aa-43fa-8d24-4b8918232336\",\"type\":\"Rect\"},{\"attributes\":{\"fill_alpha\":{\"field\":\"fill_alpha\"},\"fill_color\":{\"field\":\"color\"},\"height\":{\"field\":\"height\",\"units\":\"data\"},\"line_color\":{\"field\":\"line_color\"},\"width\":{\"field\":\"width\",\"units\":\"data\"},\"x\":{\"field\":\"x\"},\"y\":{\"field\":\"y\"}},\"id\":\"ce0bff8a-9744-4ee7-b733-f94632e90f17\",\"type\":\"Rect\"},{\"attributes\":{\"data_source\":{\"id\":\"ec193e9b-7cb6-4169-af65-43a91fed6feb\",\"type\":\"ColumnDataSource\"},\"glyph\":{\"id\":\"d3ef024f-3cf9-456c-868a-b7840c79e2f9\",\"type\":\"Rect\"},\"hover_glyph\":null,\"muted_glyph\":null},\"id\":\"42c56cb8-0123-46b8-80a7-96b837f4357c\",\"type\":\"GlyphRenderer\"},{\"attributes\":{\"callback\":null,\"column_names\":[\"x\",\"y\",\"width\",\"height\",\"color\",\"fill_alpha\",\"line_color\",\"line_alpha\",\"label\"],\"data\":{\"chart_index\":[\"(38.493333, 39.480000]\"],\"color\":[\"#f22c40\"],\"fill_alpha\":[0.8],\"height\":[2.0],\"label\":[\"(38.493333, 39.480000]\"],\"line_alpha\":[1.0],\"line_color\":[\"black\"],\"width\":[0.9866666666666717],\"x\":[\"38.9866665\"],\"y\":[1.0]}},\"id\":\"5faaa277-82be-49ba-875e-35723e4571a0\",\"type\":\"ColumnDataSource\"},{\"attributes\":{\"callback\":null,\"column_names\":[\"x\",\"y\",\"width\",\"height\",\"color\",\"fill_alpha\",\"line_color\",\"line_alpha\",\"label\"],\"data\":{\"chart_index\":[\"(15.800000, 16.786667]\"],\"color\":[\"#f22c40\"],\"fill_alpha\":[0.8],\"height\":[3.0],\"label\":[\"(15.800000, 16.786667]\"],\"line_alpha\":[1.0],\"line_color\":[\"black\"],\"width\":[0.9866666666666681],\"x\":[\"16.293333500000003\"],\"y\":[1.5]}},\"id\":\"b23304c2-872a-4d5e-b291-e57384a7b7ae\",\"type\":\"ColumnDataSource\"},{\"attributes\":{\"data_source\":{\"id\":\"607945d2-bfb8-4b4d-8187-bd5c8b50ac10\",\"type\":\"ColumnDataSource\"},\"glyph\":{\"id\":\"aa7939f4-aeff-42e7-8aa9-1daba11ac3b9\",\"type\":\"Rect\"},\"hover_glyph\":null,\"muted_glyph\":null},\"id\":\"eeecc26d-8df3-4c57-ba14-d753482f0cc2\",\"type\":\"GlyphRenderer\"},{\"attributes\":{\"data_source\":{\"id\":\"c08b9c0a-7408-4b40-be9d-e3bca6e45605\",\"type\":\"ColumnDataSource\"},\"glyph\":{\"id\":\"504a55e2-4391-4540-80a3-bc94a6d6c075\",\"type\":\"Rect\"},\"hover_glyph\":null,\"muted_glyph\":null},\"id\":\"b7600991-066a-4565-bbac-86b5c7baee92\",\"type\":\"GlyphRenderer\"},{\"attributes\":{\"fill_alpha\":{\"field\":\"fill_alpha\"},\"fill_color\":{\"field\":\"color\"},\"height\":{\"field\":\"height\",\"units\":\"data\"},\"line_color\":{\"field\":\"line_color\"},\"width\":{\"field\":\"width\",\"units\":\"data\"},\"x\":{\"field\":\"x\"},\"y\":{\"field\":\"y\"}},\"id\":\"421e567a-d4e2-42c7-ae6b-32cbfe62f030\",\"type\":\"Rect\"},{\"attributes\":{\"callback\":null,\"column_names\":[\"x\",\"y\",\"width\",\"height\",\"color\",\"fill_alpha\",\"line_color\",\"line_alpha\",\"label\"],\"data\":{\"chart_index\":[\"(30.600000, 31.586667]\"],\"color\":[\"#f22c40\"],\"fill_alpha\":[0.8],\"height\":[0.0],\"label\":[\"(30.600000, 31.586667]\"],\"line_alpha\":[1.0],\"line_color\":[\"black\"],\"width\":[0.9866666666666646],\"x\":[\"31.0933335\"],\"y\":[0.0]}},\"id\":\"43faa132-eac6-411d-9c41-55b342dfeb31\",\"type\":\"ColumnDataSource\"},{\"attributes\":{\"callback\":null,\"column_names\":[\"x\",\"y\",\"width\",\"height\",\"color\",\"fill_alpha\",\"line_color\",\"line_alpha\",\"label\"],\"data\":{\"chart_index\":[\"(83.880000, 84.866667]\"],\"color\":[\"#f22c40\"],\"fill_alpha\":[0.8],\"height\":[0.0],\"label\":[\"(83.880000, 84.866667]\"],\"line_alpha\":[1.0],\"line_color\":[\"black\"],\"width\":[0.9866666666666788],\"x\":[\"84.3733335\"],\"y\":[0.0]}},\"id\":\"607945d2-bfb8-4b4d-8187-bd5c8b50ac10\",\"type\":\"ColumnDataSource\"},{\"attributes\":{\"data_source\":{\"id\":\"938f5ff5-b8c0-4785-b15a-e4a8f20ff680\",\"type\":\"ColumnDataSource\"},\"glyph\":{\"id\":\"3361a381-9653-46d5-88d4-f26cabee9390\",\"type\":\"Rect\"},\"hover_glyph\":null,\"muted_glyph\":null},\"id\":\"d242d2a6-b630-4840-aa48-b6f5174949fd\",\"type\":\"GlyphRenderer\"},{\"attributes\":{\"fill_alpha\":{\"field\":\"fill_alpha\"},\"fill_color\":{\"field\":\"color\"},\"height\":{\"field\":\"height\",\"units\":\"data\"},\"line_color\":{\"field\":\"line_color\"},\"width\":{\"field\":\"width\",\"units\":\"data\"},\"x\":{\"field\":\"x\"},\"y\":{\"field\":\"y\"}},\"id\":\"86af987f-bcd4-4d26-ac5b-610561c0b04b\",\"type\":\"Rect\"},{\"attributes\":{\"fill_alpha\":{\"field\":\"fill_alpha\"},\"fill_color\":{\"field\":\"color\"},\"height\":{\"field\":\"height\",\"units\":\"data\"},\"line_color\":{\"field\":\"line_color\"},\"width\":{\"field\":\"width\",\"units\":\"data\"},\"x\":{\"field\":\"x\"},\"y\":{\"field\":\"y\"}},\"id\":\"487ca57d-8e15-4397-98d1-b38c27e77ee6\",\"type\":\"Rect\"},{\"attributes\":{\"fill_alpha\":{\"field\":\"fill_alpha\"},\"fill_color\":{\"field\":\"color\"},\"height\":{\"field\":\"height\",\"units\":\"data\"},\"line_color\":{\"field\":\"line_color\"},\"width\":{\"field\":\"width\",\"units\":\"data\"},\"x\":{\"field\":\"x\"},\"y\":{\"field\":\"y\"}},\"id\":\"a2f87108-7ce3-4cca-a1ba-bb943cd5b105\",\"type\":\"Rect\"},{\"attributes\":{\"callback\":null,\"column_names\":[\"x\",\"y\",\"width\",\"height\",\"color\",\"fill_alpha\",\"line_color\",\"line_alpha\",\"label\"],\"data\":{\"chart_index\":[\"(97.693333, 98.680000]\"],\"color\":[\"#f22c40\"],\"fill_alpha\":[0.8],\"height\":[0.0],\"label\":[\"(97.693333, 98.680000]\"],\"line_alpha\":[1.0],\"line_color\":[\"black\"],\"width\":[0.9866666666666646],\"x\":[\"98.1866665\"],\"y\":[0.0]}},\"id\":\"d1e07cb8-63e9-457f-8447-5c1f5e48dfeb\",\"type\":\"ColumnDataSource\"},{\"attributes\":{\"fill_alpha\":{\"field\":\"fill_alpha\"},\"fill_color\":{\"field\":\"color\"},\"height\":{\"field\":\"height\",\"units\":\"data\"},\"line_color\":{\"field\":\"line_color\"},\"width\":{\"field\":\"width\",\"units\":\"data\"},\"x\":{\"field\":\"x\"},\"y\":{\"field\":\"y\"}},\"id\":\"91213dc6-e2c8-483d-8f75-69d337911538\",\"type\":\"Rect\"},{\"attributes\":{\"callback\":null,\"column_names\":[\"x\",\"y\",\"width\",\"height\",\"color\",\"fill_alpha\",\"line_color\",\"line_alpha\",\"label\"],\"data\":{\"chart_index\":[\"(96.706667, 97.693333]\"],\"color\":[\"#f22c40\"],\"fill_alpha\":[0.8],\"height\":[0.0],\"label\":[\"(96.706667, 97.693333]\"],\"line_alpha\":[1.0],\"line_color\":[\"black\"],\"width\":[0.9866666666666788],\"x\":[\"97.19999999999999\"],\"y\":[0.0]}},\"id\":\"525cb696-473a-45c0-933b-90f0f278dc49\",\"type\":\"ColumnDataSource\"},{\"attributes\":{\"data_source\":{\"id\":\"525cb696-473a-45c0-933b-90f0f278dc49\",\"type\":\"ColumnDataSource\"},\"glyph\":{\"id\":\"79759d1e-ec23-4881-b609-988ce7e1f2e3\",\"type\":\"Rect\"},\"hover_glyph\":null,\"muted_glyph\":null},\"id\":\"b4a3a9fe-69ef-47da-a0e9-844199363ec8\",\"type\":\"GlyphRenderer\"},{\"attributes\":{\"fill_alpha\":{\"field\":\"fill_alpha\"},\"fill_color\":{\"field\":\"color\"},\"height\":{\"field\":\"height\",\"units\":\"data\"},\"line_color\":{\"field\":\"line_color\"},\"width\":{\"field\":\"width\",\"units\":\"data\"},\"x\":{\"field\":\"x\"},\"y\":{\"field\":\"y\"}},\"id\":\"8a9c05d1-242e-4aae-be95-442b2e481ecd\",\"type\":\"Rect\"},{\"attributes\":{\"callback\":null,\"column_names\":[\"x\",\"y\",\"width\",\"height\",\"color\",\"fill_alpha\",\"line_color\",\"line_alpha\",\"label\"],\"data\":{\"chart_index\":[\"(98.680000, 99.666667]\"],\"color\":[\"#f22c40\"],\"fill_alpha\":[0.8],\"height\":[1.0],\"label\":[\"(98.680000, 99.666667]\"],\"line_alpha\":[1.0],\"line_color\":[\"black\"],\"width\":[0.9866666666666646],\"x\":[\"99.17333350000001\"],\"y\":[0.5]}},\"id\":\"91315bc3-02c7-4ed1-8730-58b542ae2619\",\"type\":\"ColumnDataSource\"},{\"attributes\":{\"callback\":null,\"column_names\":[\"x\",\"y\",\"width\",\"height\",\"color\",\"fill_alpha\",\"line_color\",\"line_alpha\",\"label\"],\"data\":{\"chart_index\":[\"(104.600000, 105.586667]\"],\"color\":[\"#f22c40\"],\"fill_alpha\":[0.8],\"height\":[0.0],\"label\":[\"(104.600000, 105.586667]\"],\"line_alpha\":[1.0],\"line_color\":[\"black\"],\"width\":[0.9866666666666646],\"x\":[\"105.0933335\"],\"y\":[0.0]}},\"id\":\"938e03c8-2161-4e04-9649-56e73872cd8b\",\"type\":\"ColumnDataSource\"},{\"attributes\":{\"fill_alpha\":{\"field\":\"fill_alpha\"},\"fill_color\":{\"field\":\"color\"},\"height\":{\"field\":\"height\",\"units\":\"data\"},\"line_color\":{\"field\":\"line_color\"},\"width\":{\"field\":\"width\",\"units\":\"data\"},\"x\":{\"field\":\"x\"},\"y\":{\"field\":\"y\"}},\"id\":\"6c12af7f-21a9-437d-bbd1-22a06137c7f6\",\"type\":\"Rect\"},{\"attributes\":{\"data_source\":{\"id\":\"d1e07cb8-63e9-457f-8447-5c1f5e48dfeb\",\"type\":\"ColumnDataSource\"},\"glyph\":{\"id\":\"91213dc6-e2c8-483d-8f75-69d337911538\",\"type\":\"Rect\"},\"hover_glyph\":null,\"muted_glyph\":null},\"id\":\"b4ec6ec2-fa6c-4412-b9e2-ad3d726206c2\",\"type\":\"GlyphRenderer\"},{\"attributes\":{\"fill_alpha\":{\"field\":\"fill_alpha\"},\"fill_color\":{\"field\":\"color\"},\"height\":{\"field\":\"height\",\"units\":\"data\"},\"line_color\":{\"field\":\"line_color\"},\"width\":{\"field\":\"width\",\"units\":\"data\"},\"x\":{\"field\":\"x\"},\"y\":{\"field\":\"y\"}},\"id\":\"717feded-5d17-46ce-9e17-da6704a2c893\",\"type\":\"Rect\"},{\"attributes\":{\"data_source\":{\"id\":\"b4f25c6f-8344-4160-8d7d-0ae26d89d6fa\",\"type\":\"ColumnDataSource\"},\"glyph\":{\"id\":\"58803ae6-9663-4b5b-ac91-36f57c1ea01b\",\"type\":\"Rect\"},\"hover_glyph\":null,\"muted_glyph\":null},\"id\":\"8b244636-d639-4356-8ae1-9efbef083ee4\",\"type\":\"GlyphRenderer\"},{\"attributes\":{\"fill_alpha\":{\"field\":\"fill_alpha\"},\"fill_color\":{\"field\":\"color\"},\"height\":{\"field\":\"height\",\"units\":\"data\"},\"line_color\":{\"field\":\"line_color\"},\"width\":{\"field\":\"width\",\"units\":\"data\"},\"x\":{\"field\":\"x\"},\"y\":{\"field\":\"y\"}},\"id\":\"309236d2-1d0b-4383-9a4c-93ba9220ed52\",\"type\":\"Rect\"},{\"attributes\":{\"data_source\":{\"id\":\"91315bc3-02c7-4ed1-8730-58b542ae2619\",\"type\":\"ColumnDataSource\"},\"glyph\":{\"id\":\"8a9c05d1-242e-4aae-be95-442b2e481ecd\",\"type\":\"Rect\"},\"hover_glyph\":null,\"muted_glyph\":null},\"id\":\"3aaf75eb-3fa1-4f79-81b3-3e7f776df127\",\"type\":\"GlyphRenderer\"},{\"attributes\":{\"callback\":null,\"column_names\":[\"x\",\"y\",\"width\",\"height\",\"color\",\"fill_alpha\",\"line_color\",\"line_alpha\",\"label\"],\"data\":{\"chart_index\":[\"(99.666667, 100.653333]\"],\"color\":[\"#f22c40\"],\"fill_alpha\":[0.8],\"height\":[0.0],\"label\":[\"(99.666667, 100.653333]\"],\"line_alpha\":[1.0],\"line_color\":[\"black\"],\"width\":[0.9866666666666646],\"x\":[\"100.16\"],\"y\":[0.0]}},\"id\":\"4ba36d4b-491b-4994-9c19-6774cde70887\",\"type\":\"ColumnDataSource\"},{\"attributes\":{\"fill_alpha\":{\"field\":\"fill_alpha\"},\"fill_color\":{\"field\":\"color\"},\"height\":{\"field\":\"height\",\"units\":\"data\"},\"line_color\":{\"field\":\"line_color\"},\"width\":{\"field\":\"width\",\"units\":\"data\"},\"x\":{\"field\":\"x\"},\"y\":{\"field\":\"y\"}},\"id\":\"3396385d-0bb4-465c-9c49-95adbf20ca3a\",\"type\":\"Rect\"},{\"attributes\":{\"callback\":null,\"column_names\":[\"x\",\"y\",\"width\",\"height\",\"color\",\"fill_alpha\",\"line_color\",\"line_alpha\",\"label\"],\"data\":{\"chart_index\":[\"(100.653333, 101.640000]\"],\"color\":[\"#f22c40\"],\"fill_alpha\":[0.8],\"height\":[0.0],\"label\":[\"(100.653333, 101.640000]\"],\"line_alpha\":[1.0],\"line_color\":[\"black\"],\"width\":[0.9866666666666646],\"x\":[\"101.14666650000001\"],\"y\":[0.0]}},\"id\":\"a7cc23d1-faba-44d3-b756-8dce0a935c13\",\"type\":\"ColumnDataSource\"},{\"attributes\":{\"data_source\":{\"id\":\"72600ddf-d0f9-44df-a1e2-d8088261c1c1\",\"type\":\"ColumnDataSource\"},\"glyph\":{\"id\":\"b68ddd82-61b2-45a2-978e-50afbb534dc8\",\"type\":\"Rect\"},\"hover_glyph\":null,\"muted_glyph\":null},\"id\":\"2f1e3195-c995-4367-a1ad-a65b9d56419b\",\"type\":\"GlyphRenderer\"},{\"attributes\":{\"data_source\":{\"id\":\"4ba36d4b-491b-4994-9c19-6774cde70887\",\"type\":\"ColumnDataSource\"},\"glyph\":{\"id\":\"3396385d-0bb4-465c-9c49-95adbf20ca3a\",\"type\":\"Rect\"},\"hover_glyph\":null,\"muted_glyph\":null},\"id\":\"e2ce179e-9214-469f-a587-4122e738d07d\",\"type\":\"GlyphRenderer\"},{\"attributes\":{\"callback\":null,\"column_names\":[\"x\",\"y\",\"width\",\"height\",\"color\",\"fill_alpha\",\"line_color\",\"line_alpha\",\"label\"],\"data\":{\"chart_index\":[\"(102.626667, 103.613333]\"],\"color\":[\"#f22c40\"],\"fill_alpha\":[0.8],\"height\":[0.0],\"label\":[\"(102.626667, 103.613333]\"],\"line_alpha\":[1.0],\"line_color\":[\"black\"],\"width\":[0.9866666666666646],\"x\":[\"103.12\"],\"y\":[0.0]}},\"id\":\"b4f25c6f-8344-4160-8d7d-0ae26d89d6fa\",\"type\":\"ColumnDataSource\"},{\"attributes\":{\"data_source\":{\"id\":\"a7cc23d1-faba-44d3-b756-8dce0a935c13\",\"type\":\"ColumnDataSource\"},\"glyph\":{\"id\":\"717feded-5d17-46ce-9e17-da6704a2c893\",\"type\":\"Rect\"},\"hover_glyph\":null,\"muted_glyph\":null},\"id\":\"e8e76bdb-6f7c-4b13-8e8c-29c9bc715d36\",\"type\":\"GlyphRenderer\"},{\"attributes\":{\"fill_alpha\":{\"field\":\"fill_alpha\"},\"fill_color\":{\"field\":\"color\"},\"height\":{\"field\":\"height\",\"units\":\"data\"},\"line_color\":{\"field\":\"line_color\"},\"width\":{\"field\":\"width\",\"units\":\"data\"},\"x\":{\"field\":\"x\"},\"y\":{\"field\":\"y\"}},\"id\":\"269cd302-529c-4acd-9879-f1d8337563b7\",\"type\":\"Rect\"},{\"attributes\":{\"fill_alpha\":{\"field\":\"fill_alpha\"},\"fill_color\":{\"field\":\"color\"},\"height\":{\"field\":\"height\",\"units\":\"data\"},\"line_color\":{\"field\":\"line_color\"},\"width\":{\"field\":\"width\",\"units\":\"data\"},\"x\":{\"field\":\"x\"},\"y\":{\"field\":\"y\"}},\"id\":\"58803ae6-9663-4b5b-ac91-36f57c1ea01b\",\"type\":\"Rect\"},{\"attributes\":{\"callback\":null,\"column_names\":[\"x\",\"y\",\"width\",\"height\",\"color\",\"fill_alpha\",\"line_color\",\"line_alpha\",\"label\"],\"data\":{\"chart_index\":[\"(103.613333, 104.600000]\"],\"color\":[\"#f22c40\"],\"fill_alpha\":[0.8],\"height\":[0.0],\"label\":[\"(103.613333, 104.600000]\"],\"line_alpha\":[1.0],\"line_color\":[\"black\"],\"width\":[0.9866666666666788],\"x\":[\"104.10666649999999\"],\"y\":[0.0]}},\"id\":\"edae3498-f9ff-416c-805e-ecfc0d82fa01\",\"type\":\"ColumnDataSource\"},{\"attributes\":{\"data_source\":{\"id\":\"edae3498-f9ff-416c-805e-ecfc0d82fa01\",\"type\":\"ColumnDataSource\"},\"glyph\":{\"id\":\"269cd302-529c-4acd-9879-f1d8337563b7\",\"type\":\"Rect\"},\"hover_glyph\":null,\"muted_glyph\":null},\"id\":\"f02da48a-4a2b-4974-9ce6-2431c7399b2b\",\"type\":\"GlyphRenderer\"},{\"attributes\":{\"fill_alpha\":{\"field\":\"fill_alpha\"},\"fill_color\":{\"field\":\"color\"},\"height\":{\"field\":\"height\",\"units\":\"data\"},\"line_color\":{\"field\":\"line_color\"},\"width\":{\"field\":\"width\",\"units\":\"data\"},\"x\":{\"field\":\"x\"},\"y\":{\"field\":\"y\"}},\"id\":\"2602cf86-8b95-4c66-93a3-bf62981ec05a\",\"type\":\"Rect\"},{\"attributes\":{\"callback\":null,\"column_names\":[\"x\",\"y\",\"width\",\"height\",\"color\",\"fill_alpha\",\"line_color\",\"line_alpha\",\"label\"],\"data\":{\"chart_index\":[\"(105.586667, 106.573333]\"],\"color\":[\"#f22c40\"],\"fill_alpha\":[0.8],\"height\":[0.0],\"label\":[\"(105.586667, 106.573333]\"],\"line_alpha\":[1.0],\"line_color\":[\"black\"],\"width\":[0.9866666666666646],\"x\":[\"106.08000000000001\"],\"y\":[0.0]}},\"id\":\"c1ad8f5f-10d2-4cef-957a-8402e5120301\",\"type\":\"ColumnDataSource\"},{\"attributes\":{\"fill_alpha\":{\"field\":\"fill_alpha\"},\"fill_color\":{\"field\":\"color\"},\"height\":{\"field\":\"height\",\"units\":\"data\"},\"line_color\":{\"field\":\"line_color\"},\"width\":{\"field\":\"width\",\"units\":\"data\"},\"x\":{\"field\":\"x\"},\"y\":{\"field\":\"y\"}},\"id\":\"b68ddd82-61b2-45a2-978e-50afbb534dc8\",\"type\":\"Rect\"},{\"attributes\":{\"data_source\":{\"id\":\"938e03c8-2161-4e04-9649-56e73872cd8b\",\"type\":\"ColumnDataSource\"},\"glyph\":{\"id\":\"6c12af7f-21a9-437d-bbd1-22a06137c7f6\",\"type\":\"Rect\"},\"hover_glyph\":null,\"muted_glyph\":null},\"id\":\"468323c0-03d7-48d9-b454-19dfbf8643e7\",\"type\":\"GlyphRenderer\"},{\"attributes\":{\"callback\":null,\"column_names\":[\"x\",\"y\",\"width\",\"height\",\"color\",\"fill_alpha\",\"line_color\",\"line_alpha\",\"label\"],\"data\":{\"chart_index\":[\"(106.573333, 107.560000]\"],\"color\":[\"#f22c40\"],\"fill_alpha\":[0.8],\"height\":[0.0],\"label\":[\"(106.573333, 107.560000]\"],\"line_alpha\":[1.0],\"line_color\":[\"black\"],\"width\":[0.9866666666666646],\"x\":[\"107.0666665\"],\"y\":[0.0]}},\"id\":\"9ff98abd-3fec-469e-840d-a51850d35f7f\",\"type\":\"ColumnDataSource\"},{\"attributes\":{\"fill_alpha\":{\"field\":\"fill_alpha\"},\"fill_color\":{\"field\":\"color\"},\"height\":{\"field\":\"height\",\"units\":\"data\"},\"line_color\":{\"field\":\"line_color\"},\"width\":{\"field\":\"width\",\"units\":\"data\"},\"x\":{\"field\":\"x\"},\"y\":{\"field\":\"y\"}},\"id\":\"10b8cf4b-468e-4459-8a3d-e1737b8261d7\",\"type\":\"Rect\"},{\"attributes\":{\"data_source\":{\"id\":\"c1ad8f5f-10d2-4cef-957a-8402e5120301\",\"type\":\"ColumnDataSource\"},\"glyph\":{\"id\":\"2602cf86-8b95-4c66-93a3-bf62981ec05a\",\"type\":\"Rect\"},\"hover_glyph\":null,\"muted_glyph\":null},\"id\":\"5f0510e7-e7cd-42a1-b5a1-f1be90c07a3e\",\"type\":\"GlyphRenderer\"},{\"attributes\":{\"callback\":null,\"column_names\":[\"x\",\"y\",\"width\",\"height\",\"color\",\"fill_alpha\",\"line_color\",\"line_alpha\",\"label\"],\"data\":{\"chart_index\":[\"(109.533333, 110.520000]\"],\"color\":[\"#f22c40\"],\"fill_alpha\":[0.8],\"height\":[0.0],\"label\":[\"(109.533333, 110.520000]\"],\"line_alpha\":[1.0],\"line_color\":[\"black\"],\"width\":[0.9866666666666646],\"x\":[\"110.0266665\"],\"y\":[0.0]}},\"id\":\"72600ddf-d0f9-44df-a1e2-d8088261c1c1\",\"type\":\"ColumnDataSource\"}],\"root_ids\":[\"f42fec9d-f593-4007-b93a-0da4dcfc48cd\"]},\"title\":\"Bokeh Application\",\"version\":\"0.12.5\"}};\n",
       "            var render_items = [{\"docid\":\"e9f36af6-5584-4a09-b12c-c1dbadf09193\",\"elementid\":\"e3c16ba5-3c82-4b4c-9d82-0665d16297b3\",\"modelid\":\"f42fec9d-f593-4007-b93a-0da4dcfc48cd\"}];\n",
       "            \n",
       "            Bokeh.embed.embed_items(docs_json, render_items);\n",
       "          };\n",
       "          if (document.readyState != \"loading\") fn();\n",
       "          else document.addEventListener(\"DOMContentLoaded\", fn);\n",
       "        })();\n",
       "      },\n",
       "      function(Bokeh) {\n",
       "      }\n",
       "    ];\n",
       "  \n",
       "    function run_inline_js() {\n",
       "      \n",
       "      if ((window.Bokeh !== undefined) || (force === true)) {\n",
       "        for (var i = 0; i < inline_js.length; i++) {\n",
       "          inline_js[i](window.Bokeh);\n",
       "        }if (force === true) {\n",
       "          display_loaded();\n",
       "        }} else if (Date.now() < window._bokeh_timeout) {\n",
       "        setTimeout(run_inline_js, 100);\n",
       "      } else if (!window._bokeh_failed_load) {\n",
       "        console.log(\"Bokeh: BokehJS failed to load within specified timeout.\");\n",
       "        window._bokeh_failed_load = true;\n",
       "      } else if (force !== true) {\n",
       "        var cell = $(document.getElementById(\"e3c16ba5-3c82-4b4c-9d82-0665d16297b3\")).parents('.cell').data().cell;\n",
       "        cell.output_area.append_execute_result(NB_LOAD_WARNING)\n",
       "      }\n",
       "  \n",
       "    }\n",
       "  \n",
       "    if (window._bokeh_is_loading === 0) {\n",
       "      console.log(\"Bokeh: BokehJS loaded, going straight to plotting\");\n",
       "      run_inline_js();\n",
       "    } else {\n",
       "      load_libs(js_urls, function() {\n",
       "        console.log(\"Bokeh: BokehJS plotting callback run at\", now());\n",
       "        run_inline_js();\n",
       "      });\n",
       "    }\n",
       "  }(this));\n",
       "</script>"
      ]
     },
     "metadata": {},
     "output_type": "display_data"
    }
   ],
   "source": [
    "p2 = Histogram(unique_countries_per_organisation, \n",
    "              'unique-recipient-country-code-count',\n",
    "              title = \"Histogram of Unique Recipient Countries by Implementing Organisation\", \n",
    "              bins=150)\n",
    "\n",
    "show(p2)"
   ]
  },
  {
   "cell_type": "code",
   "execution_count": 906,
   "metadata": {
    "scrolled": true
   },
   "outputs": [
    {
     "name": "stdout",
     "output_type": "stream",
     "text": [
      "Generated Text: \n",
      "\n",
      "Of the 392 implementing organisations, 109 are associated with one recipient country only, and 283 (72.19%) are associated with more than one.\n"
     ]
    }
   ],
   "source": [
    "num_orgs_with_one_recipient_country = len(\n",
    "    unique_countries_per_organisation[pd.to_numeric(\n",
    "        unique_countries_per_organisation[\n",
    "            'unique-recipient-country-code-count'] == 1)])\n",
    "\n",
    "num_orgs_with_more_than_one_recipient_country = len(\n",
    "    unique_countries_per_organisation[pd.to_numeric(\n",
    "        unique_countries_per_organisation['unique-recipient-country-code-count']\n",
    "        > 1)])\n",
    "\n",
    "print(\n",
    "    \"Generated Text: \\n\\nOf the {} implementing organisations, {} are associated with \"\n",
    "    \"one recipient country only, and {} ({:.2%}) are associated with more than one.\"\n",
    "    .format(\n",
    "        len(unique_countries_per_organisation),\n",
    "        num_orgs_with_one_recipient_country,\n",
    "        num_orgs_with_more_than_one_recipient_country,\n",
    "        num_orgs_with_more_than_one_recipient_country /\n",
    "        len(unique_countries_per_organisation)))"
   ]
  },
  {
   "cell_type": "markdown",
   "metadata": {},
   "source": [
    "Exactly how this effects a data user's ability to make the inference in question is not clear.\n",
    "\n",
    "For one of the 109 organisations with only one recipient country associated, the hope is that they are a local organisation themselves. This can't be guaranteed without a more extensive study, but regardless, it the search for local implementers would be easier for organisations which are only associated with one recipient country.\n",
    "\n",
    "For one of the 283 organisations with more than one associated recipient country, there are two possibilities:\n",
    "\n",
    "* It is a federated organisation which has easily identifiable country offices and channels of contact.\n",
    "\n",
    "In this case, for the ~75% of recipient country uses which can be associated with the reference of an implementing organisation, in theory a user could identify the local actors by contacting the country office for that organisation, though it would depend on that user's initiative to find out if any more organisation details.\n",
    "\n",
    "* It is an intermediate-tier organisation which disburses funds to local organisations as subcontractors.\n",
    "\n",
    "In this case, for the same set as above, a user would have to find out through other means. It would be possible, but would likely require information from the implementing organisation directly and would be laborious."
   ]
  },
  {
   "cell_type": "markdown",
   "metadata": {},
   "source": [
    "## Use Case 3: Determine the First Step in the Delivery Chain (Deliverable 3.1.3)\n",
    "\n",
    "### Use Case\n",
    "\n",
    "_Determine at least the first step in the delivery chain, both through the Organization Identifier and the partner’s Activity Identifier_\n",
    "\n",
    "This section analyses the existence and coverage of the relevant fields: participating organisations and transaction / receiver organisations, as well as provider/receiver activity ids. Additional focus will look at other-identifier (type A9)"
   ]
  },
  {
   "cell_type": "markdown",
   "metadata": {},
   "source": [
    "### Other Identifier\n",
    "\n",
    "In light of its separation from the transaction element, it's worth briefly looking at the other identifier first given that it doesn't require much analysis in light of this use case:"
   ]
  },
  {
   "cell_type": "code",
   "execution_count": 907,
   "metadata": {},
   "outputs": [
    {
     "name": "stdout",
     "output_type": "stream",
     "text": [
      "Generated Text: \n",
      "\n",
      "There are 3280 activities which include an other-identifier field, which have 1 unique value among them: {'A2'}\n"
     ]
    }
   ],
   "source": [
    "activities_with_other_identifier = big_iati.xpath(\n",
    "    \"./iati-activity[other-identifier]\")\n",
    "other_identifiers = big_iati.xpath(\"./iati-activity/other-identifier/@type\")\n",
    "\n",
    "print(\n",
    "    \"Generated Text: \\n\\nThere are {} activities which include an other-identifier field, \"\n",
    "    \"which have {} unique value among them: {}\".format(\n",
    "        len(activities_with_other_identifier), len(set(other_identifiers)),\n",
    "        set(other_identifiers)))"
   ]
  },
  {
   "cell_type": "markdown",
   "metadata": {},
   "source": [
    "In virtue of the fact that this code designates a [CRS identifier](http://iatistandard.org/202/codelists/OtherIdentifierType/), it follows that none of these uses of the `other-identifier` element can help with this inference."
   ]
  },
  {
   "cell_type": "markdown",
   "metadata": {},
   "source": [
    "The table below shows all of the publishers who are referenced in GAC IATI data who's organisation id can be found on the IATI registry:"
   ]
  },
  {
   "cell_type": "code",
   "execution_count": 908,
   "metadata": {},
   "outputs": [
    {
     "name": "stdout",
     "output_type": "stream",
     "text": [
      "There are 435 implementing organisations with unique organisation identifiers\n"
     ]
    }
   ],
   "source": [
    "unique_ids_in_big_iati = set(detailed_participating_orgs[\n",
    "    detailed_participating_orgs['role'] == '4']['ref'])\n",
    "\n",
    "print(\n",
    "    \"There are {} implementing organisations with unique organisation identifiers\".\n",
    "    format(len(unique_ids_in_big_iati)))"
   ]
  },
  {
   "cell_type": "code",
   "execution_count": 909,
   "metadata": {
    "scrolled": false
   },
   "outputs": [
    {
     "data": {
      "text/html": [
       "<div>\n",
       "<style>\n",
       "    .dataframe thead tr:only-child th {\n",
       "        text-align: right;\n",
       "    }\n",
       "\n",
       "    .dataframe thead th {\n",
       "        text-align: left;\n",
       "    }\n",
       "\n",
       "    .dataframe tbody tr th {\n",
       "        vertical-align: top;\n",
       "    }\n",
       "</style>\n",
       "<table border=\"1\" class=\"dataframe\">\n",
       "  <thead>\n",
       "    <tr style=\"text-align: right;\">\n",
       "      <th></th>\n",
       "      <th>Publisher Name</th>\n",
       "      <th>Reporting Org on Registry</th>\n",
       "    </tr>\n",
       "  </thead>\n",
       "  <tbody>\n",
       "    <tr>\n",
       "      <th>25</th>\n",
       "      <td>African Development Bank</td>\n",
       "      <td>46002</td>\n",
       "    </tr>\n",
       "    <tr>\n",
       "      <th>63</th>\n",
       "      <td>Asian Development Bank</td>\n",
       "      <td>46004</td>\n",
       "    </tr>\n",
       "    <tr>\n",
       "      <th>217</th>\n",
       "      <td>The Global Alliance for Improved Nutrition</td>\n",
       "      <td>30001</td>\n",
       "    </tr>\n",
       "    <tr>\n",
       "      <th>219</th>\n",
       "      <td>GAVI Alliance</td>\n",
       "      <td>47122</td>\n",
       "    </tr>\n",
       "    <tr>\n",
       "      <th>425</th>\n",
       "      <td>Population Service International</td>\n",
       "      <td>21032</td>\n",
       "    </tr>\n",
       "    <tr>\n",
       "      <th>506</th>\n",
       "      <td>The Global Fund to Fight AIDS, Tuberculosis an...</td>\n",
       "      <td>47045</td>\n",
       "    </tr>\n",
       "    <tr>\n",
       "      <th>515</th>\n",
       "      <td>Transparency International Secretariat</td>\n",
       "      <td>21033</td>\n",
       "    </tr>\n",
       "    <tr>\n",
       "      <th>531</th>\n",
       "      <td>United Nations Capital Development Fund</td>\n",
       "      <td>41111</td>\n",
       "    </tr>\n",
       "    <tr>\n",
       "      <th>533</th>\n",
       "      <td>United Nations Educational, Scientific and Cul...</td>\n",
       "      <td>41304</td>\n",
       "    </tr>\n",
       "    <tr>\n",
       "      <th>535</th>\n",
       "      <td>United Nations Population Fund</td>\n",
       "      <td>41119</td>\n",
       "    </tr>\n",
       "    <tr>\n",
       "      <th>536</th>\n",
       "      <td>UN-Habitat</td>\n",
       "      <td>41120</td>\n",
       "    </tr>\n",
       "    <tr>\n",
       "      <th>537</th>\n",
       "      <td>United Nations Children's Fund (UNICEF)</td>\n",
       "      <td>41122</td>\n",
       "    </tr>\n",
       "  </tbody>\n",
       "</table>\n",
       "</div>"
      ],
      "text/plain": [
       "                                        Publisher Name  \\\n",
       "25                            African Development Bank   \n",
       "63                              Asian Development Bank   \n",
       "217         The Global Alliance for Improved Nutrition   \n",
       "219                                      GAVI Alliance   \n",
       "425                   Population Service International   \n",
       "506  The Global Fund to Fight AIDS, Tuberculosis an...   \n",
       "515             Transparency International Secretariat   \n",
       "531            United Nations Capital Development Fund   \n",
       "533  United Nations Educational, Scientific and Cul...   \n",
       "535                     United Nations Population Fund   \n",
       "536                                         UN-Habitat   \n",
       "537            United Nations Children's Fund (UNICEF)   \n",
       "\n",
       "    Reporting Org on Registry  \n",
       "25                      46002  \n",
       "63                      46004  \n",
       "217                     30001  \n",
       "219                     47122  \n",
       "425                     21032  \n",
       "506                     47045  \n",
       "515                     21033  \n",
       "531                     41111  \n",
       "533                     41304  \n",
       "535                     41119  \n",
       "536                     41120  \n",
       "537                     41122  "
      ]
     },
     "execution_count": 909,
     "metadata": {},
     "output_type": "execute_result"
    }
   ],
   "source": [
    "iati_publishers = pd.read_csv(\n",
    "    'http://dashboard.iatistandard.org/publishers.csv')\n",
    "\n",
    "iati_org_ids = set(iati_publishers['Reporting Org on Registry'])\n",
    "\n",
    "crossover_publishers = iati_publishers[iati_publishers['Reporting Org on Registry'].isin(\n",
    "    unique_ids_in_big_iati)][['Publisher Name', 'Reporting Org on Registry']]\n",
    "\n",
    "crossover_publishers"
   ]
  },
  {
   "cell_type": "code",
   "execution_count": 910,
   "metadata": {},
   "outputs": [
    {
     "name": "stdout",
     "output_type": "stream",
     "text": [
      "263 activitities have implementers who are registered publishers on the IATI registry\n",
      "\n",
      "These have been written to the appendix workbook.\n"
     ]
    }
   ],
   "source": [
    "activities_with_IATI_publisher_implementing = detailed_participating_orgs[detailed_participating_orgs['ref'].isin(\n",
    "    crossover_publishers['Reporting Org on Registry'])]\n",
    "\n",
    "activities_with_IATI_publisher_implementing.to_excel(pd_writer, \"IATI Publishers Implementing\")\n",
    "\n",
    "print(\"{} activitities have implementers who are registered publishers on the IATI registry\".format(len(activities_with_IATI_publisher_implementing)))\n",
    "print(\"\\nThese have been written to the appendix workbook.\")\n"
   ]
  },
  {
   "cell_type": "markdown",
   "metadata": {},
   "source": [
    "### Transactions"
   ]
  },
  {
   "cell_type": "markdown",
   "metadata": {},
   "source": [
    "#### Transaction Provider Organisation"
   ]
  },
  {
   "cell_type": "code",
   "execution_count": 911,
   "metadata": {},
   "outputs": [
    {
     "name": "stdout",
     "output_type": "stream",
     "text": [
      "There are 0 activities which contain a transaction that includes a provider-org element.\n"
     ]
    }
   ],
   "source": [
    "activities_with_provider_org_transactions = big_iati.xpath(\n",
    "    \"./iati-activity[transaction[provider-org]]\")\n",
    "\n",
    "print(\n",
    "    \"There are {} activities which contain a transaction that includes a provider-org element.\".\n",
    "    format(len(activities_with_provider_org_transactions)))"
   ]
  },
  {
   "cell_type": "markdown",
   "metadata": {},
   "source": [
    "In virtue of the above, there cannot be any uses of the `provider-org/@ref` or the `provider-org/@provider-activity-id` attributes in evaluating the first step of the delivery chain."
   ]
  },
  {
   "cell_type": "markdown",
   "metadata": {},
   "source": [
    "#### Transaction Receiver Organisation\n",
    "\n",
    "Before conducting any analysis, a dataframe of transactions is retrieved from the IATI files. The first five rows of which shown below: "
   ]
  },
  {
   "cell_type": "code",
   "execution_count": 912,
   "metadata": {},
   "outputs": [
    {
     "data": {
      "text/html": [
       "<div>\n",
       "<style>\n",
       "    .dataframe thead tr:only-child th {\n",
       "        text-align: right;\n",
       "    }\n",
       "\n",
       "    .dataframe thead th {\n",
       "        text-align: left;\n",
       "    }\n",
       "\n",
       "    .dataframe tbody tr th {\n",
       "        vertical-align: top;\n",
       "    }\n",
       "</style>\n",
       "<table border=\"1\" class=\"dataframe\">\n",
       "  <thead>\n",
       "    <tr style=\"text-align: right;\">\n",
       "      <th></th>\n",
       "      <th>iati-identifier</th>\n",
       "      <th>value</th>\n",
       "      <th>activity-status</th>\n",
       "      <th>ref</th>\n",
       "      <th>humanitarian</th>\n",
       "      <th>transaction-type</th>\n",
       "      <th>transaction-date</th>\n",
       "      <th>provider-org-ref</th>\n",
       "      <th>provider-org-activity-id</th>\n",
       "      <th>receiver-org-ref</th>\n",
       "      <th>receiver-org-activity-id</th>\n",
       "    </tr>\n",
       "  </thead>\n",
       "  <tbody>\n",
       "    <tr>\n",
       "      <th>0</th>\n",
       "      <td>CA-3-A031268001</td>\n",
       "      <td>17933718.13</td>\n",
       "      <td>3</td>\n",
       "      <td>None</td>\n",
       "      <td>None</td>\n",
       "      <td>2</td>\n",
       "      <td>2003-04-07</td>\n",
       "      <td>None</td>\n",
       "      <td>None</td>\n",
       "      <td>None</td>\n",
       "      <td>None</td>\n",
       "    </tr>\n",
       "    <tr>\n",
       "      <th>1</th>\n",
       "      <td>CA-3-A031268001</td>\n",
       "      <td>500000.00</td>\n",
       "      <td>3</td>\n",
       "      <td>None</td>\n",
       "      <td>None</td>\n",
       "      <td>3</td>\n",
       "      <td>2003-09-18</td>\n",
       "      <td>None</td>\n",
       "      <td>None</td>\n",
       "      <td>None</td>\n",
       "      <td>None</td>\n",
       "    </tr>\n",
       "    <tr>\n",
       "      <th>2</th>\n",
       "      <td>CA-3-A031268001</td>\n",
       "      <td>101000.00</td>\n",
       "      <td>3</td>\n",
       "      <td>None</td>\n",
       "      <td>None</td>\n",
       "      <td>3</td>\n",
       "      <td>2003-12-05</td>\n",
       "      <td>None</td>\n",
       "      <td>None</td>\n",
       "      <td>None</td>\n",
       "      <td>None</td>\n",
       "    </tr>\n",
       "    <tr>\n",
       "      <th>3</th>\n",
       "      <td>CA-3-A031268001</td>\n",
       "      <td>41000.00</td>\n",
       "      <td>3</td>\n",
       "      <td>None</td>\n",
       "      <td>None</td>\n",
       "      <td>3</td>\n",
       "      <td>2004-02-19</td>\n",
       "      <td>None</td>\n",
       "      <td>None</td>\n",
       "      <td>None</td>\n",
       "      <td>None</td>\n",
       "    </tr>\n",
       "    <tr>\n",
       "      <th>4</th>\n",
       "      <td>CA-3-A031268001</td>\n",
       "      <td>250000.00</td>\n",
       "      <td>3</td>\n",
       "      <td>None</td>\n",
       "      <td>None</td>\n",
       "      <td>3</td>\n",
       "      <td>2004-04-05</td>\n",
       "      <td>None</td>\n",
       "      <td>None</td>\n",
       "      <td>None</td>\n",
       "      <td>None</td>\n",
       "    </tr>\n",
       "  </tbody>\n",
       "</table>\n",
       "</div>"
      ],
      "text/plain": [
       "   iati-identifier        value activity-status   ref humanitarian  \\\n",
       "0  CA-3-A031268001  17933718.13               3  None         None   \n",
       "1  CA-3-A031268001    500000.00               3  None         None   \n",
       "2  CA-3-A031268001    101000.00               3  None         None   \n",
       "3  CA-3-A031268001     41000.00               3  None         None   \n",
       "4  CA-3-A031268001    250000.00               3  None         None   \n",
       "\n",
       "  transaction-type transaction-date provider-org-ref provider-org-activity-id  \\\n",
       "0                2       2003-04-07             None                     None   \n",
       "1                3       2003-09-18             None                     None   \n",
       "2                3       2003-12-05             None                     None   \n",
       "3                3       2004-02-19             None                     None   \n",
       "4                3       2004-04-05             None                     None   \n",
       "\n",
       "  receiver-org-ref receiver-org-activity-id  \n",
       "0             None                     None  \n",
       "1             None                     None  \n",
       "2             None                     None  \n",
       "3             None                     None  \n",
       "4             None                     None  "
      ]
     },
     "execution_count": 912,
     "metadata": {},
     "output_type": "execute_result"
    }
   ],
   "source": [
    "transaction_df = pd.DataFrame(\n",
    "    columns=[\n",
    "        'iati-identifier', 'value', 'activity-status', 'ref', 'humanitarian',\n",
    "        'transaction-type', 'transaction-date', 'provider-org-ref',\n",
    "        'provider-org-activity-id','receiver-org-ref',\n",
    "        'receiver-org-activity-id'\n",
    "    ],\n",
    "    data=[[\n",
    "        transaction.getparent().find('iati-identifier').text,\n",
    "        float(transaction.find('value').text),\n",
    "        transaction.getparent().find('activity-status').get('code'),\n",
    "        transaction.get('ref'),\n",
    "        transaction.get('humanitarian'),\n",
    "        transaction.find('transaction-type').get('code'),\n",
    "        transaction.find('transaction-date').get('iso-date'),\n",
    "        (lambda x: x.get('ref') if x is not None else None)(\n",
    "            transaction.find('provider-org')),\n",
    "        (lambda x: x.get('receiver-activity-id') if x is not None else None)(\n",
    "            transaction.find('provider-org')),\n",
    "        (lambda x: x.get('ref') if x is not None else None)(\n",
    "            transaction.find('receiver-org')),\n",
    "        (lambda x: x.get('receiver-activity-id') if x is not None else None)(\n",
    "            transaction.find('receiver-org'))\n",
    "    ] for transaction in big_iati.xpath(\"iati-activity/transaction\")])\n",
    "\n",
    "transaction_df.to_excel(pd_writer, \"Transactions\")\n",
    "\n",
    "transaction_df.head()"
   ]
  },
  {
   "cell_type": "markdown",
   "metadata": {},
   "source": [
    "Firstly, as we have the information to hand, we can see that no transactions have `@ref` identifier or `@humanitarian` flag:"
   ]
  },
  {
   "cell_type": "code",
   "execution_count": 913,
   "metadata": {},
   "outputs": [
    {
     "data": {
      "text/html": [
       "<div>\n",
       "<style>\n",
       "    .dataframe thead tr:only-child th {\n",
       "        text-align: right;\n",
       "    }\n",
       "\n",
       "    .dataframe thead th {\n",
       "        text-align: left;\n",
       "    }\n",
       "\n",
       "    .dataframe tbody tr th {\n",
       "        vertical-align: top;\n",
       "    }\n",
       "</style>\n",
       "<table border=\"1\" class=\"dataframe\">\n",
       "  <thead>\n",
       "    <tr style=\"text-align: right;\">\n",
       "      <th></th>\n",
       "      <th>activity-status</th>\n",
       "      <th>ref</th>\n",
       "      <th>humanitarian</th>\n",
       "      <th>transaction-type</th>\n",
       "      <th>transaction-date</th>\n",
       "    </tr>\n",
       "  </thead>\n",
       "  <tbody>\n",
       "    <tr>\n",
       "      <th>count</th>\n",
       "      <td>23637</td>\n",
       "      <td>0.0</td>\n",
       "      <td>0.0</td>\n",
       "      <td>23637</td>\n",
       "      <td>23637</td>\n",
       "    </tr>\n",
       "    <tr>\n",
       "      <th>unique</th>\n",
       "      <td>3</td>\n",
       "      <td>0.0</td>\n",
       "      <td>0.0</td>\n",
       "      <td>2</td>\n",
       "      <td>3408</td>\n",
       "    </tr>\n",
       "    <tr>\n",
       "      <th>top</th>\n",
       "      <td>4</td>\n",
       "      <td>NaN</td>\n",
       "      <td>NaN</td>\n",
       "      <td>3</td>\n",
       "      <td>2015-03-31</td>\n",
       "    </tr>\n",
       "    <tr>\n",
       "      <th>freq</th>\n",
       "      <td>15168</td>\n",
       "      <td>NaN</td>\n",
       "      <td>NaN</td>\n",
       "      <td>19656</td>\n",
       "      <td>282</td>\n",
       "    </tr>\n",
       "  </tbody>\n",
       "</table>\n",
       "</div>"
      ],
      "text/plain": [
       "       activity-status  ref  humanitarian transaction-type transaction-date\n",
       "count            23637  0.0           0.0            23637            23637\n",
       "unique               3  0.0           0.0                2             3408\n",
       "top                  4  NaN           NaN                3       2015-03-31\n",
       "freq             15168  NaN           NaN            19656              282"
      ]
     },
     "execution_count": 913,
     "metadata": {},
     "output_type": "execute_result"
    }
   ],
   "source": [
    "transaction_df[[\n",
    "    'value', 'activity-status', 'ref', 'humanitarian', 'transaction-type',\n",
    "    'transaction-date'\n",
    "]].describe(exclude=[float])"
   ]
  },
  {
   "cell_type": "markdown",
   "metadata": {},
   "source": [
    "Secondly, we can select only the disbursements, as befits an analysis of receiver organisation data:"
   ]
  },
  {
   "cell_type": "code",
   "execution_count": 914,
   "metadata": {},
   "outputs": [
    {
     "data": {
      "text/html": [
       "<div>\n",
       "<style>\n",
       "    .dataframe thead tr:only-child th {\n",
       "        text-align: right;\n",
       "    }\n",
       "\n",
       "    .dataframe thead th {\n",
       "        text-align: left;\n",
       "    }\n",
       "\n",
       "    .dataframe tbody tr th {\n",
       "        vertical-align: top;\n",
       "    }\n",
       "</style>\n",
       "<table border=\"1\" class=\"dataframe\">\n",
       "  <thead>\n",
       "    <tr style=\"text-align: right;\">\n",
       "      <th></th>\n",
       "      <th>activity-status</th>\n",
       "      <th>transaction-type</th>\n",
       "      <th>receiver-org-ref</th>\n",
       "      <th>receiver-org-activity-id</th>\n",
       "    </tr>\n",
       "  </thead>\n",
       "  <tbody>\n",
       "    <tr>\n",
       "      <th>count</th>\n",
       "      <td>19656</td>\n",
       "      <td>19656</td>\n",
       "      <td>14125</td>\n",
       "      <td>0.0</td>\n",
       "    </tr>\n",
       "    <tr>\n",
       "      <th>unique</th>\n",
       "      <td>3</td>\n",
       "      <td>1</td>\n",
       "      <td>398</td>\n",
       "      <td>0.0</td>\n",
       "    </tr>\n",
       "    <tr>\n",
       "      <th>top</th>\n",
       "      <td>4</td>\n",
       "      <td>3</td>\n",
       "      <td>41140</td>\n",
       "      <td>NaN</td>\n",
       "    </tr>\n",
       "    <tr>\n",
       "      <th>freq</th>\n",
       "      <td>12414</td>\n",
       "      <td>19656</td>\n",
       "      <td>511</td>\n",
       "      <td>NaN</td>\n",
       "    </tr>\n",
       "  </tbody>\n",
       "</table>\n",
       "</div>"
      ],
      "text/plain": [
       "       activity-status transaction-type receiver-org-ref  \\\n",
       "count            19656            19656            14125   \n",
       "unique               3                1              398   \n",
       "top                  4                3            41140   \n",
       "freq             12414            19656              511   \n",
       "\n",
       "        receiver-org-activity-id  \n",
       "count                        0.0  \n",
       "unique                       0.0  \n",
       "top                          NaN  \n",
       "freq                         NaN  "
      ]
     },
     "execution_count": 914,
     "metadata": {},
     "output_type": "execute_result"
    }
   ],
   "source": [
    "transaction_df[transaction_df['transaction-type'] == '3'][[\n",
    "    'activity-status', 'transaction-type', 'receiver-org-ref',\n",
    "    'receiver-org-activity-id'\n",
    "]].describe()"
   ]
  },
  {
   "cell_type": "markdown",
   "metadata": {},
   "source": [
    "As we can see from this, there no usage of the `@receiver-org-activity-id`, but 14,125 (71.86%) transactions of the total 19,656 disbursements do include a `@receiver-org-ref`."
   ]
  },
  {
   "cell_type": "markdown",
   "metadata": {},
   "source": [
    "## Use Case 4: Identify Joint Funding (Deliverable 3.1.4)\n",
    "\n",
    "### Use Case\n",
    "\n",
    "_Identify joint funding and determine the lead donor/implementing agency_\n",
    "\n",
    "This section considers the existence and coverage of the relevant fields: participating organisations, transaction / receiver organisations, and related activity.\n",
    "\n",
    "Looking at the [above section on participating organisations](#Participating-Organisations) we can see that there is full coverage of participating organisations with regard to funding and extending, but that 24.64% of declarations don't include a `@ref` attribute, and 7.30% don't include a `@type` declaration. Both of these could make it more difficult to establish the exact organisation and whether or not it has joint funded an activity.\n",
    "\n",
    "Similarly, looking at the section above [on transaction receiver-orgs](#Transaction-Receiver-Organisation), it can be seen that although there is no prospect of tracing locating a participating organisation's activity, references are available for the recipients of 71.86% of transactions. Although it would be laborious to do, it is possible that in all of these cases, the implementing organisation could be identified.\n",
    "\n",
    "However, because there are no details on the [providing organisations](#Transaction-Provider-Organisation), transactions are assumed not to include any details of lead donors which aren't already available in the activity-level participating organisation details.\n",
    "\n",
    "Let's now consider the related activity fields. First, let's find how many activities have included a related activity element:"
   ]
  },
  {
   "cell_type": "code",
   "execution_count": 915,
   "metadata": {
    "scrolled": true
   },
   "outputs": [
    {
     "data": {
      "text/plain": [
       "607"
      ]
     },
     "execution_count": 915,
     "metadata": {},
     "output_type": "execute_result"
    }
   ],
   "source": [
    "len(big_iati.xpath(\"./iati-activity[related-activity]\"))"
   ]
  },
  {
   "cell_type": "markdown",
   "metadata": {},
   "source": [
    "Now let's what types have been included:"
   ]
  },
  {
   "cell_type": "code",
   "execution_count": 916,
   "metadata": {},
   "outputs": [
    {
     "data": {
      "text/plain": [
       "{'3'}"
      ]
     },
     "execution_count": 916,
     "metadata": {},
     "output_type": "execute_result"
    }
   ],
   "source": [
    "set(big_iati.xpath(\"./iati-activity/related-activity/@type\"))"
   ]
  },
  {
   "cell_type": "markdown",
   "metadata": {},
   "source": [
    "There are 607 (15.32%) of activities which include a ‘related activity’ fields, which can refer to several types of activity including a parent, child, sibling, co-funded, or third party activity (all of which are described in detail [here](http://iatistandard.org/202/codelists/RelatedActivityType/)).\n",
    "\n",
    "All of these are of type 3, meaning ‘sibling’. Without inspecting each of the activities, it is unclear what this means. Given the existence of a ‘co-funded’ type, it seems unlikely that these related activities are in fact part of joint-funding, but even if they are, this way of linking them would be incorrect.\n"
   ]
  },
  {
   "cell_type": "markdown",
   "metadata": {},
   "source": [
    "## Use Case 5: Determine Geography (Deliverable 3.1.5)\n",
    "\n",
    "### Use Case\n",
    "\n",
    "_Determine the geographic area(s) benefiting from the project and, where relevant, the actual location of the project activities_\n",
    "\n",
    "This section considers the existence and coverage of the relevant fields - recipient country & region at the activity and transaction level, as well as locations (national and subnational).\n",
    "\n",
    "### Activity Level Recipient Locations\n",
    "\n",
    "With regards to recipient country and region at the activity level, by referring to [Deliverable 3.1.1 above](#Deliverable-3.1.1) it can be seen that there is nearly 100% coverage of recipient locations as either countries or regions, though the usability of those elements is hindered by the existence of many activities with more than one recipient country. To recap the number of activities with recipient countries and regions:"
   ]
  },
  {
   "cell_type": "code",
   "execution_count": 917,
   "metadata": {},
   "outputs": [
    {
     "name": "stdout",
     "output_type": "stream",
     "text": [
      "Of 3961 activities, 3389 (85.56%) include at least one recipient country\n"
     ]
    }
   ],
   "source": [
    "print(\"Of {} activities, {} ({:.2%}) include at least one recipient country\"\n",
    "      .format(\n",
    "          len(big_iati), \n",
    "          len(big_iati.xpath(\"iati-activity[recipient-country]\")),\n",
    "          len(big_iati.xpath(\"iati-activity[recipient-country]\")) / len(big_iati)))"
   ]
  },
  {
   "cell_type": "code",
   "execution_count": 918,
   "metadata": {},
   "outputs": [
    {
     "name": "stdout",
     "output_type": "stream",
     "text": [
      "Of 3961 activities, 616 (15.55%) include at least one recipient region\n"
     ]
    }
   ],
   "source": [
    "print(\"Of {} activities, {} ({:.2%}) include at least one recipient region\"\n",
    "      .format(\n",
    "          len(big_iati), \n",
    "          len(big_iati.xpath(\"iati-activity[recipient-region]\")),\n",
    "          len(big_iati.xpath(\"iati-activity[recipient-region]\")) / len(big_iati)))"
   ]
  },
  {
   "cell_type": "code",
   "execution_count": 919,
   "metadata": {},
   "outputs": [
    {
     "name": "stdout",
     "output_type": "stream",
     "text": [
      "Together, excluding any duplicates, these 3959 activites comprise 99.95% of the total.\n"
     ]
    }
   ],
   "source": [
    "var = len(\n",
    "    set(\n",
    "        big_iati.xpath(\"iati-activity[recipient-region]\") +\n",
    "        big_iati.xpath(\"iati-activity[recipient-country]\")))\n",
    "\n",
    "print(\n",
    "    \"Together, excluding any duplicates, these {} activites comprise {:.2%} of the total.\".\n",
    "    format(var, var / len(big_iati)))"
   ]
  },
  {
   "cell_type": "markdown",
   "metadata": {},
   "source": [
    "### Transaction Level Recipient Locations"
   ]
  },
  {
   "cell_type": "code",
   "execution_count": 920,
   "metadata": {},
   "outputs": [
    {
     "data": {
      "text/plain": [
       "0"
      ]
     },
     "execution_count": 920,
     "metadata": {},
     "output_type": "execute_result"
    }
   ],
   "source": [
    "len(big_iati.xpath(\"iati-activity[transaction[recipient-country]]\"))"
   ]
  },
  {
   "cell_type": "code",
   "execution_count": 921,
   "metadata": {},
   "outputs": [
    {
     "data": {
      "text/plain": [
       "0"
      ]
     },
     "execution_count": 921,
     "metadata": {},
     "output_type": "execute_result"
    }
   ],
   "source": [
    "len(big_iati.xpath(\"iati-activity[transaction[recipient-country]]\"))"
   ]
  },
  {
   "cell_type": "markdown",
   "metadata": {},
   "source": [
    "In the current data, there are no location details at transaction level. "
   ]
  },
  {
   "cell_type": "markdown",
   "metadata": {},
   "source": [
    "### Locations Elements"
   ]
  },
  {
   "cell_type": "code",
   "execution_count": 922,
   "metadata": {},
   "outputs": [
    {
     "name": "stdout",
     "output_type": "stream",
     "text": [
      "3730 of the 3961 (94.17%) published activities contain location elements.\n"
     ]
    }
   ],
   "source": [
    "print(\"{} of the {} ({:.2%}) published activities contain location elements.\".\n",
    "      format(\n",
    "          len(big_iati.xpath(\"iati-activity[location]\")),\n",
    "          len(big_iati),\n",
    "          len(big_iati.xpath(\"iati-activity[location]\")) / len(big_iati)\n",
    "      ))"
   ]
  },
  {
   "cell_type": "markdown",
   "metadata": {},
   "source": [
    "These can be viewed in more details, as the recipient countries were above. Again, here is every unique declaration of a location at the activity level, clipped at 5 rows.\n",
    "\n",
    "<div class=\"alert alert-info\">\n",
    "**Note**: there are multiple rows per activity, as above.\n",
    "</div>"
   ]
  },
  {
   "cell_type": "code",
   "execution_count": 923,
   "metadata": {
    "scrolled": false
   },
   "outputs": [
    {
     "data": {
      "text/html": [
       "<div>\n",
       "<style>\n",
       "    .dataframe thead tr:only-child th {\n",
       "        text-align: right;\n",
       "    }\n",
       "\n",
       "    .dataframe thead th {\n",
       "        text-align: left;\n",
       "    }\n",
       "\n",
       "    .dataframe tbody tr th {\n",
       "        vertical-align: top;\n",
       "    }\n",
       "</style>\n",
       "<table border=\"1\" class=\"dataframe\">\n",
       "  <thead>\n",
       "    <tr style=\"text-align: right;\">\n",
       "      <th></th>\n",
       "      <th>iati-identifier</th>\n",
       "      <th>activity-status</th>\n",
       "      <th>location-reach-code</th>\n",
       "      <th>location-id-code</th>\n",
       "      <th>location-id-vocabulary</th>\n",
       "      <th>location-point-srs</th>\n",
       "      <th>location-point-pos</th>\n",
       "    </tr>\n",
       "  </thead>\n",
       "  <tbody>\n",
       "    <tr>\n",
       "      <th>0</th>\n",
       "      <td>CA-3-A031268001</td>\n",
       "      <td>3</td>\n",
       "      <td>1</td>\n",
       "      <td>3378644</td>\n",
       "      <td>G1</td>\n",
       "      <td>http://www.opengis.net/def/crs/EPSG/0/4326</td>\n",
       "      <td>6.80448 -58.15527</td>\n",
       "    </tr>\n",
       "    <tr>\n",
       "      <th>1</th>\n",
       "      <td>CA-3-A031268001</td>\n",
       "      <td>3</td>\n",
       "      <td>1</td>\n",
       "      <td>3383330</td>\n",
       "      <td>G1</td>\n",
       "      <td>http://www.opengis.net/def/crs/EPSG/0/4326</td>\n",
       "      <td>5.86638 -55.16682</td>\n",
       "    </tr>\n",
       "    <tr>\n",
       "      <th>2</th>\n",
       "      <td>CA-3-A031268001</td>\n",
       "      <td>3</td>\n",
       "      <td>1</td>\n",
       "      <td>3435910</td>\n",
       "      <td>G1</td>\n",
       "      <td>http://www.opengis.net/def/crs/EPSG/0/4326</td>\n",
       "      <td>-34.61315 -58.37723</td>\n",
       "    </tr>\n",
       "    <tr>\n",
       "      <th>3</th>\n",
       "      <td>CA-3-A031268001</td>\n",
       "      <td>3</td>\n",
       "      <td>1</td>\n",
       "      <td>3439389</td>\n",
       "      <td>G1</td>\n",
       "      <td>http://www.opengis.net/def/crs/EPSG/0/4326</td>\n",
       "      <td>-25.30066 -57.63591</td>\n",
       "    </tr>\n",
       "    <tr>\n",
       "      <th>4</th>\n",
       "      <td>CA-3-A031268001</td>\n",
       "      <td>3</td>\n",
       "      <td>1</td>\n",
       "      <td>3441575</td>\n",
       "      <td>G1</td>\n",
       "      <td>http://www.opengis.net/def/crs/EPSG/0/4326</td>\n",
       "      <td>-34.90328 -56.18816</td>\n",
       "    </tr>\n",
       "  </tbody>\n",
       "</table>\n",
       "</div>"
      ],
      "text/plain": [
       "   iati-identifier activity-status location-reach-code location-id-code  \\\n",
       "0  CA-3-A031268001               3                   1          3378644   \n",
       "1  CA-3-A031268001               3                   1          3383330   \n",
       "2  CA-3-A031268001               3                   1          3435910   \n",
       "3  CA-3-A031268001               3                   1          3439389   \n",
       "4  CA-3-A031268001               3                   1          3441575   \n",
       "\n",
       "  location-id-vocabulary                          location-point-srs  \\\n",
       "0                     G1  http://www.opengis.net/def/crs/EPSG/0/4326   \n",
       "1                     G1  http://www.opengis.net/def/crs/EPSG/0/4326   \n",
       "2                     G1  http://www.opengis.net/def/crs/EPSG/0/4326   \n",
       "3                     G1  http://www.opengis.net/def/crs/EPSG/0/4326   \n",
       "4                     G1  http://www.opengis.net/def/crs/EPSG/0/4326   \n",
       "\n",
       "    location-point-pos  \n",
       "0    6.80448 -58.15527  \n",
       "1    5.86638 -55.16682  \n",
       "2  -34.61315 -58.37723  \n",
       "3  -25.30066 -57.63591  \n",
       "4  -34.90328 -56.18816  "
      ]
     },
     "execution_count": 923,
     "metadata": {},
     "output_type": "execute_result"
    }
   ],
   "source": [
    "detailed_locations = pd.DataFrame(\n",
    "    columns=[\n",
    "        'iati-identifier', 'activity-status',\n",
    "        'location-reach-code', 'location-id-code', 'location-id-vocabulary',\n",
    "        'location-point-srs', 'location-point-pos'\n",
    "    ],\n",
    "    data=[[\n",
    "        location.getparent().find('iati-identifier').text,\n",
    "        location.getparent().find('activity-status').get('code'),\n",
    "        location.find('location-reach').get('code'),\n",
    "        location.find('location-id').get('code'),\n",
    "        location.find('location-id').get('vocabulary'),\n",
    "        location.find('point').get('srsName'),\n",
    "        location.find('point/pos').text\n",
    "    ] for location in big_iati.findall('iati-activity/location')])\n",
    "\n",
    "detailed_locations.to_excel(pd_writer, \"Location Elements\")\n",
    "\n",
    "detailed_locations.head()"
   ]
  },
  {
   "cell_type": "markdown",
   "metadata": {},
   "source": [
    "The table below shows the frequency of use of each of these other elements. There are 11,752 uses of the location element in total, and in each case, all of the available elements have been used. "
   ]
  },
  {
   "cell_type": "code",
   "execution_count": 924,
   "metadata": {},
   "outputs": [
    {
     "data": {
      "text/html": [
       "<div>\n",
       "<style>\n",
       "    .dataframe thead tr:only-child th {\n",
       "        text-align: right;\n",
       "    }\n",
       "\n",
       "    .dataframe thead th {\n",
       "        text-align: left;\n",
       "    }\n",
       "\n",
       "    .dataframe tbody tr th {\n",
       "        vertical-align: top;\n",
       "    }\n",
       "</style>\n",
       "<table border=\"1\" class=\"dataframe\">\n",
       "  <thead>\n",
       "    <tr style=\"text-align: right;\">\n",
       "      <th></th>\n",
       "      <th>iati-identifier</th>\n",
       "      <th>activity-status</th>\n",
       "      <th>location-reach-code</th>\n",
       "      <th>location-id-code</th>\n",
       "      <th>location-id-vocabulary</th>\n",
       "      <th>location-point-srs</th>\n",
       "      <th>location-point-pos</th>\n",
       "    </tr>\n",
       "  </thead>\n",
       "  <tbody>\n",
       "    <tr>\n",
       "      <th>count</th>\n",
       "      <td>11752</td>\n",
       "      <td>11752</td>\n",
       "      <td>11752</td>\n",
       "      <td>11752</td>\n",
       "      <td>11752</td>\n",
       "      <td>11752</td>\n",
       "      <td>11752</td>\n",
       "    </tr>\n",
       "    <tr>\n",
       "      <th>unique</th>\n",
       "      <td>3730</td>\n",
       "      <td>3</td>\n",
       "      <td>2</td>\n",
       "      <td>717</td>\n",
       "      <td>1</td>\n",
       "      <td>1</td>\n",
       "      <td>809</td>\n",
       "    </tr>\n",
       "    <tr>\n",
       "      <th>top</th>\n",
       "      <td>CA-3-D000639001</td>\n",
       "      <td>4</td>\n",
       "      <td>1</td>\n",
       "      <td>6255150</td>\n",
       "      <td>G1</td>\n",
       "      <td>http://www.opengis.net/def/crs/EPSG/0/4326</td>\n",
       "      <td></td>\n",
       "    </tr>\n",
       "    <tr>\n",
       "      <th>freq</th>\n",
       "      <td>191</td>\n",
       "      <td>8037</td>\n",
       "      <td>10066</td>\n",
       "      <td>416</td>\n",
       "      <td>11752</td>\n",
       "      <td>11752</td>\n",
       "      <td>1206</td>\n",
       "    </tr>\n",
       "  </tbody>\n",
       "</table>\n",
       "</div>"
      ],
      "text/plain": [
       "        iati-identifier activity-status location-reach-code location-id-code  \\\n",
       "count             11752           11752               11752            11752   \n",
       "unique             3730               3                   2              717   \n",
       "top     CA-3-D000639001               4                   1          6255150   \n",
       "freq                191            8037               10066              416   \n",
       "\n",
       "       location-id-vocabulary                          location-point-srs  \\\n",
       "count                   11752                                       11752   \n",
       "unique                      1                                           1   \n",
       "top                        G1  http://www.opengis.net/def/crs/EPSG/0/4326   \n",
       "freq                    11752                                       11752   \n",
       "\n",
       "       location-point-pos  \n",
       "count               11752  \n",
       "unique                809  \n",
       "top                        \n",
       "freq                 1206  "
      ]
     },
     "execution_count": 924,
     "metadata": {},
     "output_type": "execute_result"
    }
   ],
   "source": [
    "detailed_locations.describe()"
   ]
  },
  {
   "cell_type": "markdown",
   "metadata": {},
   "source": [
    "When grouped by activity, and counted, the number of locations elements (and all of their sub elements and attributes) can be seen per activity. The table below shows the first five rows:"
   ]
  },
  {
   "cell_type": "code",
   "execution_count": 925,
   "metadata": {},
   "outputs": [
    {
     "data": {
      "text/html": [
       "<div>\n",
       "<style>\n",
       "    .dataframe thead tr:only-child th {\n",
       "        text-align: right;\n",
       "    }\n",
       "\n",
       "    .dataframe thead th {\n",
       "        text-align: left;\n",
       "    }\n",
       "\n",
       "    .dataframe tbody tr th {\n",
       "        vertical-align: top;\n",
       "    }\n",
       "</style>\n",
       "<table border=\"1\" class=\"dataframe\">\n",
       "  <thead>\n",
       "    <tr style=\"text-align: right;\">\n",
       "      <th></th>\n",
       "      <th>activity-status</th>\n",
       "      <th>location-id-code</th>\n",
       "      <th>location-id-vocabulary</th>\n",
       "      <th>location-point-pos</th>\n",
       "      <th>location-point-srs</th>\n",
       "      <th>location-reach-code</th>\n",
       "    </tr>\n",
       "    <tr>\n",
       "      <th>iati-identifier</th>\n",
       "      <th></th>\n",
       "      <th></th>\n",
       "      <th></th>\n",
       "      <th></th>\n",
       "      <th></th>\n",
       "      <th></th>\n",
       "    </tr>\n",
       "  </thead>\n",
       "  <tbody>\n",
       "    <tr>\n",
       "      <th>CA-3-A018823001</th>\n",
       "      <td>1</td>\n",
       "      <td>1</td>\n",
       "      <td>1</td>\n",
       "      <td>1</td>\n",
       "      <td>1</td>\n",
       "      <td>1</td>\n",
       "    </tr>\n",
       "    <tr>\n",
       "      <th>CA-3-A019362001</th>\n",
       "      <td>1</td>\n",
       "      <td>1</td>\n",
       "      <td>1</td>\n",
       "      <td>1</td>\n",
       "      <td>1</td>\n",
       "      <td>1</td>\n",
       "    </tr>\n",
       "    <tr>\n",
       "      <th>CA-3-A020246001</th>\n",
       "      <td>1</td>\n",
       "      <td>1</td>\n",
       "      <td>1</td>\n",
       "      <td>1</td>\n",
       "      <td>1</td>\n",
       "      <td>1</td>\n",
       "    </tr>\n",
       "    <tr>\n",
       "      <th>CA-3-A020252001</th>\n",
       "      <td>1</td>\n",
       "      <td>1</td>\n",
       "      <td>1</td>\n",
       "      <td>1</td>\n",
       "      <td>1</td>\n",
       "      <td>1</td>\n",
       "    </tr>\n",
       "    <tr>\n",
       "      <th>CA-3-A020279001</th>\n",
       "      <td>1</td>\n",
       "      <td>1</td>\n",
       "      <td>1</td>\n",
       "      <td>1</td>\n",
       "      <td>1</td>\n",
       "      <td>1</td>\n",
       "    </tr>\n",
       "  </tbody>\n",
       "</table>\n",
       "</div>"
      ],
      "text/plain": [
       "                 activity-status  location-id-code  location-id-vocabulary  \\\n",
       "iati-identifier                                                              \n",
       "CA-3-A018823001                1                 1                       1   \n",
       "CA-3-A019362001                1                 1                       1   \n",
       "CA-3-A020246001                1                 1                       1   \n",
       "CA-3-A020252001                1                 1                       1   \n",
       "CA-3-A020279001                1                 1                       1   \n",
       "\n",
       "                 location-point-pos  location-point-srs  location-reach-code  \n",
       "iati-identifier                                                               \n",
       "CA-3-A018823001                   1                   1                    1  \n",
       "CA-3-A019362001                   1                   1                    1  \n",
       "CA-3-A020246001                   1                   1                    1  \n",
       "CA-3-A020252001                   1                   1                    1  \n",
       "CA-3-A020279001                   1                   1                    1  "
      ]
     },
     "execution_count": 925,
     "metadata": {},
     "output_type": "execute_result"
    }
   ],
   "source": [
    "location_elements_pivot = detailed_locations.pivot_table(index='iati-identifier', aggfunc = 'count')\n",
    "\n",
    "location_elements_pivot.head()"
   ]
  },
  {
   "cell_type": "markdown",
   "metadata": {},
   "source": [
    "Summarised in a similar way to tables above, each location element has the same distribution, and a similar spread but with a lower mean is observed as with recipient country:"
   ]
  },
  {
   "cell_type": "code",
   "execution_count": 926,
   "metadata": {},
   "outputs": [
    {
     "data": {
      "text/html": [
       "<div>\n",
       "<style>\n",
       "    .dataframe thead tr:only-child th {\n",
       "        text-align: right;\n",
       "    }\n",
       "\n",
       "    .dataframe thead th {\n",
       "        text-align: left;\n",
       "    }\n",
       "\n",
       "    .dataframe tbody tr th {\n",
       "        vertical-align: top;\n",
       "    }\n",
       "</style>\n",
       "<table border=\"1\" class=\"dataframe\">\n",
       "  <thead>\n",
       "    <tr style=\"text-align: right;\">\n",
       "      <th></th>\n",
       "      <th>activity-status</th>\n",
       "      <th>location-id-code</th>\n",
       "      <th>location-id-vocabulary</th>\n",
       "      <th>location-point-pos</th>\n",
       "      <th>location-point-srs</th>\n",
       "      <th>location-reach-code</th>\n",
       "    </tr>\n",
       "  </thead>\n",
       "  <tbody>\n",
       "    <tr>\n",
       "      <th>count</th>\n",
       "      <td>3730.000000</td>\n",
       "      <td>3730.000000</td>\n",
       "      <td>3730.000000</td>\n",
       "      <td>3730.000000</td>\n",
       "      <td>3730.000000</td>\n",
       "      <td>3730.000000</td>\n",
       "    </tr>\n",
       "    <tr>\n",
       "      <th>mean</th>\n",
       "      <td>3.150670</td>\n",
       "      <td>3.150670</td>\n",
       "      <td>3.150670</td>\n",
       "      <td>3.150670</td>\n",
       "      <td>3.150670</td>\n",
       "      <td>3.150670</td>\n",
       "    </tr>\n",
       "    <tr>\n",
       "      <th>std</th>\n",
       "      <td>7.870249</td>\n",
       "      <td>7.870249</td>\n",
       "      <td>7.870249</td>\n",
       "      <td>7.870249</td>\n",
       "      <td>7.870249</td>\n",
       "      <td>7.870249</td>\n",
       "    </tr>\n",
       "    <tr>\n",
       "      <th>min</th>\n",
       "      <td>1.000000</td>\n",
       "      <td>1.000000</td>\n",
       "      <td>1.000000</td>\n",
       "      <td>1.000000</td>\n",
       "      <td>1.000000</td>\n",
       "      <td>1.000000</td>\n",
       "    </tr>\n",
       "    <tr>\n",
       "      <th>25%</th>\n",
       "      <td>1.000000</td>\n",
       "      <td>1.000000</td>\n",
       "      <td>1.000000</td>\n",
       "      <td>1.000000</td>\n",
       "      <td>1.000000</td>\n",
       "      <td>1.000000</td>\n",
       "    </tr>\n",
       "    <tr>\n",
       "      <th>50%</th>\n",
       "      <td>1.000000</td>\n",
       "      <td>1.000000</td>\n",
       "      <td>1.000000</td>\n",
       "      <td>1.000000</td>\n",
       "      <td>1.000000</td>\n",
       "      <td>1.000000</td>\n",
       "    </tr>\n",
       "    <tr>\n",
       "      <th>75%</th>\n",
       "      <td>2.000000</td>\n",
       "      <td>2.000000</td>\n",
       "      <td>2.000000</td>\n",
       "      <td>2.000000</td>\n",
       "      <td>2.000000</td>\n",
       "      <td>2.000000</td>\n",
       "    </tr>\n",
       "    <tr>\n",
       "      <th>max</th>\n",
       "      <td>191.000000</td>\n",
       "      <td>191.000000</td>\n",
       "      <td>191.000000</td>\n",
       "      <td>191.000000</td>\n",
       "      <td>191.000000</td>\n",
       "      <td>191.000000</td>\n",
       "    </tr>\n",
       "  </tbody>\n",
       "</table>\n",
       "</div>"
      ],
      "text/plain": [
       "       activity-status  location-id-code  location-id-vocabulary  \\\n",
       "count      3730.000000       3730.000000             3730.000000   \n",
       "mean          3.150670          3.150670                3.150670   \n",
       "std           7.870249          7.870249                7.870249   \n",
       "min           1.000000          1.000000                1.000000   \n",
       "25%           1.000000          1.000000                1.000000   \n",
       "50%           1.000000          1.000000                1.000000   \n",
       "75%           2.000000          2.000000                2.000000   \n",
       "max         191.000000        191.000000              191.000000   \n",
       "\n",
       "       location-point-pos  location-point-srs  location-reach-code  \n",
       "count         3730.000000         3730.000000          3730.000000  \n",
       "mean             3.150670            3.150670             3.150670  \n",
       "std              7.870249            7.870249             7.870249  \n",
       "min              1.000000            1.000000             1.000000  \n",
       "25%              1.000000            1.000000             1.000000  \n",
       "50%              1.000000            1.000000             1.000000  \n",
       "75%              2.000000            2.000000             2.000000  \n",
       "max            191.000000          191.000000           191.000000  "
      ]
     },
     "execution_count": 926,
     "metadata": {},
     "output_type": "execute_result"
    }
   ],
   "source": [
    "location_elements_pivot.describe()"
   ]
  },
  {
   "cell_type": "markdown",
   "metadata": {},
   "source": [
    "Again, this can be visualised:"
   ]
  },
  {
   "cell_type": "code",
   "execution_count": 927,
   "metadata": {},
   "outputs": [
    {
     "data": {
      "text/html": [
       "\n",
       "\n",
       "    <div class=\"bk-root\">\n",
       "        <div class=\"bk-plotdiv\" id=\"65dd2f20-3f99-429b-a787-39b9f236a84c\"></div>\n",
       "    </div>\n",
       "<script type=\"text/javascript\">\n",
       "  \n",
       "  (function(global) {\n",
       "    function now() {\n",
       "      return new Date();\n",
       "    }\n",
       "  \n",
       "    var force = false;\n",
       "  \n",
       "    if (typeof (window._bokeh_onload_callbacks) === \"undefined\" || force === true) {\n",
       "      window._bokeh_onload_callbacks = [];\n",
       "      window._bokeh_is_loading = undefined;\n",
       "    }\n",
       "  \n",
       "  \n",
       "    \n",
       "    if (typeof (window._bokeh_timeout) === \"undefined\" || force === true) {\n",
       "      window._bokeh_timeout = Date.now() + 0;\n",
       "      window._bokeh_failed_load = false;\n",
       "    }\n",
       "  \n",
       "    var NB_LOAD_WARNING = {'data': {'text/html':\n",
       "       \"<div style='background-color: #fdd'>\\n\"+\n",
       "       \"<p>\\n\"+\n",
       "       \"BokehJS does not appear to have successfully loaded. If loading BokehJS from CDN, this \\n\"+\n",
       "       \"may be due to a slow or bad network connection. Possible fixes:\\n\"+\n",
       "       \"</p>\\n\"+\n",
       "       \"<ul>\\n\"+\n",
       "       \"<li>re-rerun `output_notebook()` to attempt to load from CDN again, or</li>\\n\"+\n",
       "       \"<li>use INLINE resources instead, as so:</li>\\n\"+\n",
       "       \"</ul>\\n\"+\n",
       "       \"<code>\\n\"+\n",
       "       \"from bokeh.resources import INLINE\\n\"+\n",
       "       \"output_notebook(resources=INLINE)\\n\"+\n",
       "       \"</code>\\n\"+\n",
       "       \"</div>\"}};\n",
       "  \n",
       "    function display_loaded() {\n",
       "      if (window.Bokeh !== undefined) {\n",
       "        var el = document.getElementById(\"65dd2f20-3f99-429b-a787-39b9f236a84c\");\n",
       "        el.textContent = \"BokehJS \" + Bokeh.version + \" successfully loaded.\";\n",
       "      } else if (Date.now() < window._bokeh_timeout) {\n",
       "        setTimeout(display_loaded, 100)\n",
       "      }\n",
       "    }\n",
       "  \n",
       "    function run_callbacks() {\n",
       "      window._bokeh_onload_callbacks.forEach(function(callback) { callback() });\n",
       "      delete window._bokeh_onload_callbacks\n",
       "      console.info(\"Bokeh: all callbacks have finished\");\n",
       "    }\n",
       "  \n",
       "    function load_libs(js_urls, callback) {\n",
       "      window._bokeh_onload_callbacks.push(callback);\n",
       "      if (window._bokeh_is_loading > 0) {\n",
       "        console.log(\"Bokeh: BokehJS is being loaded, scheduling callback at\", now());\n",
       "        return null;\n",
       "      }\n",
       "      if (js_urls == null || js_urls.length === 0) {\n",
       "        run_callbacks();\n",
       "        return null;\n",
       "      }\n",
       "      console.log(\"Bokeh: BokehJS not loaded, scheduling load and callback at\", now());\n",
       "      window._bokeh_is_loading = js_urls.length;\n",
       "      for (var i = 0; i < js_urls.length; i++) {\n",
       "        var url = js_urls[i];\n",
       "        var s = document.createElement('script');\n",
       "        s.src = url;\n",
       "        s.async = false;\n",
       "        s.onreadystatechange = s.onload = function() {\n",
       "          window._bokeh_is_loading--;\n",
       "          if (window._bokeh_is_loading === 0) {\n",
       "            console.log(\"Bokeh: all BokehJS libraries loaded\");\n",
       "            run_callbacks()\n",
       "          }\n",
       "        };\n",
       "        s.onerror = function() {\n",
       "          console.warn(\"failed to load library \" + url);\n",
       "        };\n",
       "        console.log(\"Bokeh: injecting script tag for BokehJS library: \", url);\n",
       "        document.getElementsByTagName(\"head\")[0].appendChild(s);\n",
       "      }\n",
       "    };var element = document.getElementById(\"65dd2f20-3f99-429b-a787-39b9f236a84c\");\n",
       "    if (element == null) {\n",
       "      console.log(\"Bokeh: ERROR: autoload.js configured with elementid '65dd2f20-3f99-429b-a787-39b9f236a84c' but no matching script tag was found. \")\n",
       "      return false;\n",
       "    }\n",
       "  \n",
       "    var js_urls = [];\n",
       "  \n",
       "    var inline_js = [\n",
       "      function(Bokeh) {\n",
       "        (function() {\n",
       "          var fn = function() {\n",
       "            var docs_json = {\"de08bf4d-d714-4a72-82c6-6215f87eca1a\":{\"roots\":{\"references\":[{\"attributes\":{\"callback\":null,\"column_names\":[\"x\",\"y\",\"width\",\"height\",\"color\",\"fill_alpha\",\"line_color\",\"line_alpha\",\"label\"],\"data\":{\"chart_index\":[\"(50.738220, 51.732984]\"],\"color\":[\"#f22c40\"],\"fill_alpha\":[0.8],\"height\":[0.0],\"label\":[\"(50.738220, 51.732984]\"],\"line_alpha\":[1.0],\"line_color\":[\"black\"],\"width\":[0.9947643979057545],\"x\":[\"51.235602\"],\"y\":[0.0]}},\"id\":\"f925b752-80b9-4f64-af7e-12b97cbd5d75\",\"type\":\"ColumnDataSource\"},{\"attributes\":{\"fill_alpha\":{\"field\":\"fill_alpha\"},\"fill_color\":{\"field\":\"color\"},\"height\":{\"field\":\"height\",\"units\":\"data\"},\"line_color\":{\"field\":\"line_color\"},\"width\":{\"field\":\"width\",\"units\":\"data\"},\"x\":{\"field\":\"x\"},\"y\":{\"field\":\"y\"}},\"id\":\"4353a798-44e2-496c-8b8a-57fc98b781bc\",\"type\":\"Rect\"},{\"attributes\":{\"fill_alpha\":{\"field\":\"fill_alpha\"},\"fill_color\":{\"field\":\"color\"},\"height\":{\"field\":\"height\",\"units\":\"data\"},\"line_color\":{\"field\":\"line_color\"},\"width\":{\"field\":\"width\",\"units\":\"data\"},\"x\":{\"field\":\"x\"},\"y\":{\"field\":\"y\"}},\"id\":\"38193e20-357f-4625-8114-055cb9447f0f\",\"type\":\"Rect\"},{\"attributes\":{\"callback\":null,\"column_names\":[\"x\",\"y\",\"width\",\"height\",\"color\",\"fill_alpha\",\"line_color\",\"line_alpha\",\"label\"],\"data\":{\"chart_index\":[\"(51.732984, 52.727749]\"],\"color\":[\"#f22c40\"],\"fill_alpha\":[0.8],\"height\":[0.0],\"label\":[\"(51.732984, 52.727749]\"],\"line_alpha\":[1.0],\"line_color\":[\"black\"],\"width\":[0.9947643979057617],\"x\":[\"52.2303665\"],\"y\":[0.0]}},\"id\":\"e47a175b-08d4-40fe-bcbc-0eb12604b1db\",\"type\":\"ColumnDataSource\"},{\"attributes\":{\"callback\":null,\"column_names\":[\"x\",\"y\",\"width\",\"height\",\"color\",\"fill_alpha\",\"line_color\",\"line_alpha\",\"label\"],\"data\":{\"chart_index\":[\"(186.026178, 187.020942]\"],\"color\":[\"#f22c40\"],\"fill_alpha\":[0.8],\"height\":[0.0],\"label\":[\"(186.026178, 187.020942]\"],\"line_alpha\":[1.0],\"line_color\":[\"black\"],\"width\":[0.9947643979057545],\"x\":[\"186.52355999999997\"],\"y\":[0.0]}},\"id\":\"2d43f8b2-ddff-4f87-b341-a54768cb64bf\",\"type\":\"ColumnDataSource\"},{\"attributes\":{\"callback\":null,\"column_names\":[\"x\",\"y\",\"width\",\"height\",\"color\",\"fill_alpha\",\"line_color\",\"line_alpha\",\"label\"],\"data\":{\"chart_index\":[\"(120.371728, 121.366492]\"],\"color\":[\"#f22c40\"],\"fill_alpha\":[0.8],\"height\":[0.0],\"label\":[\"(120.371728, 121.366492]\"],\"line_alpha\":[1.0],\"line_color\":[\"black\"],\"width\":[0.9947643979057688],\"x\":[\"120.86911\"],\"y\":[0.0]}},\"id\":\"2c7d58e6-365e-4945-8082-b984adb6c722\",\"type\":\"ColumnDataSource\"},{\"attributes\":{\"data_source\":{\"id\":\"bd2bdb4b-6b16-4539-9249-e1b54c7994f5\",\"type\":\"ColumnDataSource\"},\"glyph\":{\"id\":\"812a4ae2-be5f-4507-a0f3-1877aa718032\",\"type\":\"Rect\"},\"hover_glyph\":null,\"muted_glyph\":null},\"id\":\"dc5e15bb-ea57-4dcb-bbb0-203a2524d045\",\"type\":\"GlyphRenderer\"},{\"attributes\":{\"fill_alpha\":{\"field\":\"fill_alpha\"},\"fill_color\":{\"field\":\"color\"},\"height\":{\"field\":\"height\",\"units\":\"data\"},\"line_color\":{\"field\":\"line_color\"},\"width\":{\"field\":\"width\",\"units\":\"data\"},\"x\":{\"field\":\"x\"},\"y\":{\"field\":\"y\"}},\"id\":\"8ff5c892-8c07-43ed-8a2b-4962894f6224\",\"type\":\"Rect\"},{\"attributes\":{\"fill_alpha\":{\"field\":\"fill_alpha\"},\"fill_color\":{\"field\":\"color\"},\"height\":{\"field\":\"height\",\"units\":\"data\"},\"line_color\":{\"field\":\"line_color\"},\"width\":{\"field\":\"width\",\"units\":\"data\"},\"x\":{\"field\":\"x\"},\"y\":{\"field\":\"y\"}},\"id\":\"3580958e-c906-455a-9207-b3844ac9d44e\",\"type\":\"Rect\"},{\"attributes\":{\"data_source\":{\"id\":\"f925b752-80b9-4f64-af7e-12b97cbd5d75\",\"type\":\"ColumnDataSource\"},\"glyph\":{\"id\":\"fe1ac4a2-a7e8-406d-b2c3-d2ae46765531\",\"type\":\"Rect\"},\"hover_glyph\":null,\"muted_glyph\":null},\"id\":\"d08c9d32-5446-45fe-93f5-a3960027d220\",\"type\":\"GlyphRenderer\"},{\"attributes\":{\"callback\":null,\"column_names\":[\"x\",\"y\",\"width\",\"height\",\"color\",\"fill_alpha\",\"line_color\",\"line_alpha\",\"label\"],\"data\":{\"chart_index\":[\"(187.020942, 188.015707]\"],\"color\":[\"#f22c40\"],\"fill_alpha\":[0.8],\"height\":[0.0],\"label\":[\"(187.020942, 188.015707]\"],\"line_alpha\":[1.0],\"line_color\":[\"black\"],\"width\":[0.9947643979057545],\"x\":[\"187.5183245\"],\"y\":[0.0]}},\"id\":\"1803629e-2eff-4202-8def-7a9f3212f5e5\",\"type\":\"ColumnDataSource\"},{\"attributes\":{\"callback\":null,\"column_names\":[\"x\",\"y\",\"width\",\"height\",\"color\",\"fill_alpha\",\"line_color\",\"line_alpha\",\"label\"],\"data\":{\"chart_index\":[\"(54.717277, 55.712042]\"],\"color\":[\"#f22c40\"],\"fill_alpha\":[0.8],\"height\":[1.0],\"label\":[\"(54.717277, 55.712042]\"],\"line_alpha\":[1.0],\"line_color\":[\"black\"],\"width\":[0.9947643979057617],\"x\":[\"55.214659499999996\"],\"y\":[0.5]}},\"id\":\"06e333b7-fbd4-454e-a6e5-fadde9193aef\",\"type\":\"ColumnDataSource\"},{\"attributes\":{\"callback\":null,\"column_names\":[\"x\",\"y\",\"width\",\"height\",\"color\",\"fill_alpha\",\"line_color\",\"line_alpha\",\"label\"],\"data\":{\"chart_index\":[\"(119.376963, 120.371728]\"],\"color\":[\"#f22c40\"],\"fill_alpha\":[0.8],\"height\":[0.0],\"label\":[\"(119.376963, 120.371728]\"],\"line_alpha\":[1.0],\"line_color\":[\"black\"],\"width\":[0.9947643979057545],\"x\":[\"119.8743455\"],\"y\":[0.0]}},\"id\":\"137a5265-b926-4f99-a358-42639ffdbf4e\",\"type\":\"ColumnDataSource\"},{\"attributes\":{\"fill_alpha\":{\"field\":\"fill_alpha\"},\"fill_color\":{\"field\":\"color\"},\"height\":{\"field\":\"height\",\"units\":\"data\"},\"line_color\":{\"field\":\"line_color\"},\"width\":{\"field\":\"width\",\"units\":\"data\"},\"x\":{\"field\":\"x\"},\"y\":{\"field\":\"y\"}},\"id\":\"982cd0d2-3043-4deb-b135-0a393684770c\",\"type\":\"Rect\"},{\"attributes\":{\"fill_alpha\":{\"field\":\"fill_alpha\"},\"fill_color\":{\"field\":\"color\"},\"height\":{\"field\":\"height\",\"units\":\"data\"},\"line_color\":{\"field\":\"line_color\"},\"width\":{\"field\":\"width\",\"units\":\"data\"},\"x\":{\"field\":\"x\"},\"y\":{\"field\":\"y\"}},\"id\":\"d6db228c-68ba-4940-9d81-a6d52c441724\",\"type\":\"Rect\"},{\"attributes\":{\"data_source\":{\"id\":\"2d43f8b2-ddff-4f87-b341-a54768cb64bf\",\"type\":\"ColumnDataSource\"},\"glyph\":{\"id\":\"4353a798-44e2-496c-8b8a-57fc98b781bc\",\"type\":\"Rect\"},\"hover_glyph\":null,\"muted_glyph\":null},\"id\":\"4fd8ec0d-36b0-44eb-956e-e478f8fc80dc\",\"type\":\"GlyphRenderer\"},{\"attributes\":{\"fill_alpha\":{\"field\":\"fill_alpha\"},\"fill_color\":{\"field\":\"color\"},\"height\":{\"field\":\"height\",\"units\":\"data\"},\"line_color\":{\"field\":\"line_color\"},\"width\":{\"field\":\"width\",\"units\":\"data\"},\"x\":{\"field\":\"x\"},\"y\":{\"field\":\"y\"}},\"id\":\"fe0e3c0d-5b4b-44c5-8ad0-44a462a947d7\",\"type\":\"Rect\"},{\"attributes\":{\"callback\":null,\"column_names\":[\"x\",\"y\",\"width\",\"height\",\"color\",\"fill_alpha\",\"line_color\",\"line_alpha\",\"label\"],\"data\":{\"chart_index\":[\"(60.685864, 61.680628]\"],\"color\":[\"#f22c40\"],\"fill_alpha\":[0.8],\"height\":[0.0],\"label\":[\"(60.685864, 61.680628]\"],\"line_alpha\":[1.0],\"line_color\":[\"black\"],\"width\":[0.9947643979057617],\"x\":[\"61.183246\"],\"y\":[0.0]}},\"id\":\"a74f26ce-8d0c-49a8-8607-710d20baf47f\",\"type\":\"ColumnDataSource\"},{\"attributes\":{\"callback\":null,\"column_names\":[\"x\",\"y\",\"width\",\"height\",\"color\",\"fill_alpha\",\"line_color\",\"line_alpha\",\"label\"],\"data\":{\"chart_index\":[\"(188.015707, 189.010471]\"],\"color\":[\"#f22c40\"],\"fill_alpha\":[0.8],\"height\":[0.0],\"label\":[\"(188.015707, 189.010471]\"],\"line_alpha\":[1.0],\"line_color\":[\"black\"],\"width\":[0.9947643979057545],\"x\":[\"188.51308899999998\"],\"y\":[0.0]}},\"id\":\"a30da47c-20a7-47fc-935d-a6d722b9e9e3\",\"type\":\"ColumnDataSource\"},{\"attributes\":{\"data_source\":{\"id\":\"137a5265-b926-4f99-a358-42639ffdbf4e\",\"type\":\"ColumnDataSource\"},\"glyph\":{\"id\":\"38193e20-357f-4625-8114-055cb9447f0f\",\"type\":\"Rect\"},\"hover_glyph\":null,\"muted_glyph\":null},\"id\":\"911af5fe-ee0d-4c05-800b-e8c42e56ccfb\",\"type\":\"GlyphRenderer\"},{\"attributes\":{\"data_source\":{\"id\":\"e47a175b-08d4-40fe-bcbc-0eb12604b1db\",\"type\":\"ColumnDataSource\"},\"glyph\":{\"id\":\"8ff5c892-8c07-43ed-8a2b-4962894f6224\",\"type\":\"Rect\"},\"hover_glyph\":null,\"muted_glyph\":null},\"id\":\"35bae0ea-fde0-415c-b44b-f94052c3f1f7\",\"type\":\"GlyphRenderer\"},{\"attributes\":{\"fill_alpha\":{\"field\":\"fill_alpha\"},\"fill_color\":{\"field\":\"color\"},\"height\":{\"field\":\"height\",\"units\":\"data\"},\"line_color\":{\"field\":\"line_color\"},\"width\":{\"field\":\"width\",\"units\":\"data\"},\"x\":{\"field\":\"x\"},\"y\":{\"field\":\"y\"}},\"id\":\"2c0f85c3-9de1-4711-841f-d7cbf71aa9ee\",\"type\":\"Rect\"},{\"attributes\":{\"fill_alpha\":{\"field\":\"fill_alpha\"},\"fill_color\":{\"field\":\"color\"},\"height\":{\"field\":\"height\",\"units\":\"data\"},\"line_color\":{\"field\":\"line_color\"},\"width\":{\"field\":\"width\",\"units\":\"data\"},\"x\":{\"field\":\"x\"},\"y\":{\"field\":\"y\"}},\"id\":\"f647414d-60aa-4543-9d0c-f245d4cadd6c\",\"type\":\"Rect\"},{\"attributes\":{\"fill_alpha\":{\"field\":\"fill_alpha\"},\"fill_color\":{\"field\":\"color\"},\"height\":{\"field\":\"height\",\"units\":\"data\"},\"line_color\":{\"field\":\"line_color\"},\"width\":{\"field\":\"width\",\"units\":\"data\"},\"x\":{\"field\":\"x\"},\"y\":{\"field\":\"y\"}},\"id\":\"2b0a2323-a3f7-4cec-af27-e089c7aaed12\",\"type\":\"Rect\"},{\"attributes\":{\"fill_alpha\":{\"field\":\"fill_alpha\"},\"fill_color\":{\"field\":\"color\"},\"height\":{\"field\":\"height\",\"units\":\"data\"},\"line_color\":{\"field\":\"line_color\"},\"width\":{\"field\":\"width\",\"units\":\"data\"},\"x\":{\"field\":\"x\"},\"y\":{\"field\":\"y\"}},\"id\":\"cf687f7d-e889-47ec-bff6-20e07fe0b116\",\"type\":\"Rect\"},{\"attributes\":{\"data_source\":{\"id\":\"171366a0-a149-47ac-99b0-3f76c160527c\",\"type\":\"ColumnDataSource\"},\"glyph\":{\"id\":\"8f563db7-0857-4e17-8eea-494200b472ab\",\"type\":\"Rect\"},\"hover_glyph\":null,\"muted_glyph\":null},\"id\":\"64923163-af9a-427e-8c56-093ba182d9f4\",\"type\":\"GlyphRenderer\"},{\"attributes\":{\"callback\":null,\"column_names\":[\"x\",\"y\",\"width\",\"height\",\"color\",\"fill_alpha\",\"line_color\",\"line_alpha\",\"label\"],\"data\":{\"chart_index\":[\"(189.010471, 190.005236]\"],\"color\":[\"#f22c40\"],\"fill_alpha\":[0.8],\"height\":[0.0],\"label\":[\"(189.010471, 190.005236]\"],\"line_alpha\":[1.0],\"line_color\":[\"black\"],\"width\":[0.9947643979057545],\"x\":[\"189.5078535\"],\"y\":[0.0]}},\"id\":\"e35d0a9b-6ae6-488a-8a10-65732863c499\",\"type\":\"ColumnDataSource\"},{\"attributes\":{\"data_source\":{\"id\":\"e35d0a9b-6ae6-488a-8a10-65732863c499\",\"type\":\"ColumnDataSource\"},\"glyph\":{\"id\":\"e089bfd2-281f-49ff-bbf6-1d8cebe18afa\",\"type\":\"Rect\"},\"hover_glyph\":null,\"muted_glyph\":null},\"id\":\"6ca8d418-6082-44e3-a3a1-0b3c4a2d38a7\",\"type\":\"GlyphRenderer\"},{\"attributes\":{\"data_source\":{\"id\":\"977077ef-0bfe-45be-96a5-243f36f7ab96\",\"type\":\"ColumnDataSource\"},\"glyph\":{\"id\":\"995130b0-8a95-4513-abb0-509f727eea94\",\"type\":\"Rect\"},\"hover_glyph\":null,\"muted_glyph\":null},\"id\":\"62763b4f-e467-45cc-b5f0-7c703176abf0\",\"type\":\"GlyphRenderer\"},{\"attributes\":{\"data_source\":{\"id\":\"1803629e-2eff-4202-8def-7a9f3212f5e5\",\"type\":\"ColumnDataSource\"},\"glyph\":{\"id\":\"3580958e-c906-455a-9207-b3844ac9d44e\",\"type\":\"Rect\"},\"hover_glyph\":null,\"muted_glyph\":null},\"id\":\"69b3f58b-d4ec-4ed7-a7fa-66ed3647ebc5\",\"type\":\"GlyphRenderer\"},{\"attributes\":{\"callback\":null,\"column_names\":[\"x\",\"y\",\"width\",\"height\",\"color\",\"fill_alpha\",\"line_color\",\"line_alpha\",\"label\"],\"data\":{\"chart_index\":[\"(53.722513, 54.717277]\"],\"color\":[\"#f22c40\"],\"fill_alpha\":[0.8],\"height\":[0.0],\"label\":[\"(53.722513, 54.717277]\"],\"line_alpha\":[1.0],\"line_color\":[\"black\"],\"width\":[0.9947643979057545],\"x\":[\"54.219895\"],\"y\":[0.0]}},\"id\":\"171366a0-a149-47ac-99b0-3f76c160527c\",\"type\":\"ColumnDataSource\"},{\"attributes\":{\"data_source\":{\"id\":\"2c7d58e6-365e-4945-8082-b984adb6c722\",\"type\":\"ColumnDataSource\"},\"glyph\":{\"id\":\"982cd0d2-3043-4deb-b135-0a393684770c\",\"type\":\"Rect\"},\"hover_glyph\":null,\"muted_glyph\":null},\"id\":\"16e4c408-e1f7-4c79-ba1f-dac28c888e7a\",\"type\":\"GlyphRenderer\"},{\"attributes\":{\"data_source\":{\"id\":\"06e333b7-fbd4-454e-a6e5-fadde9193aef\",\"type\":\"ColumnDataSource\"},\"glyph\":{\"id\":\"f647414d-60aa-4543-9d0c-f245d4cadd6c\",\"type\":\"Rect\"},\"hover_glyph\":null,\"muted_glyph\":null},\"id\":\"6de1928b-7916-433e-8463-e9d5d4a8b7d3\",\"type\":\"GlyphRenderer\"},{\"attributes\":{\"fill_alpha\":{\"field\":\"fill_alpha\"},\"fill_color\":{\"field\":\"color\"},\"height\":{\"field\":\"height\",\"units\":\"data\"},\"line_color\":{\"field\":\"line_color\"},\"width\":{\"field\":\"width\",\"units\":\"data\"},\"x\":{\"field\":\"x\"},\"y\":{\"field\":\"y\"}},\"id\":\"e089bfd2-281f-49ff-bbf6-1d8cebe18afa\",\"type\":\"Rect\"},{\"attributes\":{\"fill_alpha\":{\"field\":\"fill_alpha\"},\"fill_color\":{\"field\":\"color\"},\"height\":{\"field\":\"height\",\"units\":\"data\"},\"line_color\":{\"field\":\"line_color\"},\"width\":{\"field\":\"width\",\"units\":\"data\"},\"x\":{\"field\":\"x\"},\"y\":{\"field\":\"y\"}},\"id\":\"7feb6f92-f6e7-4764-969e-dfc80f197145\",\"type\":\"Rect\"},{\"attributes\":{\"callback\":null,\"column_names\":[\"x\",\"y\",\"width\",\"height\",\"color\",\"fill_alpha\",\"line_color\",\"line_alpha\",\"label\"],\"data\":{\"chart_index\":[\"(121.366492, 122.361257]\"],\"color\":[\"#f22c40\"],\"fill_alpha\":[0.8],\"height\":[0.0],\"label\":[\"(121.366492, 122.361257]\"],\"line_alpha\":[1.0],\"line_color\":[\"black\"],\"width\":[0.9947643979057545],\"x\":[\"121.8638745\"],\"y\":[0.0]}},\"id\":\"92fe70bb-3642-49a5-ba67-b511d6d7bd14\",\"type\":\"ColumnDataSource\"},{\"attributes\":{\"fill_alpha\":{\"field\":\"fill_alpha\"},\"fill_color\":{\"field\":\"color\"},\"height\":{\"field\":\"height\",\"units\":\"data\"},\"line_color\":{\"field\":\"line_color\"},\"width\":{\"field\":\"width\",\"units\":\"data\"},\"x\":{\"field\":\"x\"},\"y\":{\"field\":\"y\"}},\"id\":\"7206255f-13a7-4daf-97d1-9005dbf59b29\",\"type\":\"Rect\"},{\"attributes\":{\"callback\":null,\"column_names\":[\"x\",\"y\",\"width\",\"height\",\"color\",\"fill_alpha\",\"line_color\",\"line_alpha\",\"label\"],\"data\":{\"chart_index\":[\"(19.900524, 20.895288]\"],\"color\":[\"#f22c40\"],\"fill_alpha\":[0.8],\"height\":[5.0],\"label\":[\"(19.900524, 20.895288]\"],\"line_alpha\":[1.0],\"line_color\":[\"black\"],\"width\":[0.9947643979057581],\"x\":[\"20.397906\"],\"y\":[2.5]}},\"id\":\"7a656891-842d-4ab3-b91a-c996e13832e5\",\"type\":\"ColumnDataSource\"},{\"attributes\":{\"fill_alpha\":{\"field\":\"fill_alpha\"},\"fill_color\":{\"field\":\"color\"},\"height\":{\"field\":\"height\",\"units\":\"data\"},\"line_color\":{\"field\":\"line_color\"},\"width\":{\"field\":\"width\",\"units\":\"data\"},\"x\":{\"field\":\"x\"},\"y\":{\"field\":\"y\"}},\"id\":\"75d30206-fe37-4efd-8547-50e5955e81f0\",\"type\":\"Rect\"},{\"attributes\":{\"callback\":null,\"column_names\":[\"x\",\"y\",\"width\",\"height\",\"color\",\"fill_alpha\",\"line_color\",\"line_alpha\",\"label\"],\"data\":{\"chart_index\":[\"(122.361257, 123.356021]\"],\"color\":[\"#f22c40\"],\"fill_alpha\":[0.8],\"height\":[0.0],\"label\":[\"(122.361257, 123.356021]\"],\"line_alpha\":[1.0],\"line_color\":[\"black\"],\"width\":[0.9947643979057545],\"x\":[\"122.858639\"],\"y\":[0.0]}},\"id\":\"14066dee-b3b0-4aa0-8d73-37e3e080f9da\",\"type\":\"ColumnDataSource\"},{\"attributes\":{\"fill_alpha\":{\"field\":\"fill_alpha\"},\"fill_color\":{\"field\":\"color\"},\"height\":{\"field\":\"height\",\"units\":\"data\"},\"line_color\":{\"field\":\"line_color\"},\"width\":{\"field\":\"width\",\"units\":\"data\"},\"x\":{\"field\":\"x\"},\"y\":{\"field\":\"y\"}},\"id\":\"d1f18dd6-2101-4e7a-9642-3f57afb92e70\",\"type\":\"Rect\"},{\"attributes\":{\"callback\":null,\"column_names\":[\"x\",\"y\",\"width\",\"height\",\"color\",\"fill_alpha\",\"line_color\",\"line_alpha\",\"label\"],\"data\":{\"chart_index\":[\"(87.544503, 88.539267]\"],\"color\":[\"#f22c40\"],\"fill_alpha\":[0.8],\"height\":[0.0],\"label\":[\"(87.544503, 88.539267]\"],\"line_alpha\":[1.0],\"line_color\":[\"black\"],\"width\":[0.9947643979057545],\"x\":[\"88.04188500000001\"],\"y\":[0.0]}},\"id\":\"64737055-890d-4dcd-a20a-389ab82279c7\",\"type\":\"ColumnDataSource\"},{\"attributes\":{\"fill_alpha\":{\"field\":\"fill_alpha\"},\"fill_color\":{\"field\":\"color\"},\"height\":{\"field\":\"height\",\"units\":\"data\"},\"line_color\":{\"field\":\"line_color\"},\"width\":{\"field\":\"width\",\"units\":\"data\"},\"x\":{\"field\":\"x\"},\"y\":{\"field\":\"y\"}},\"id\":\"ad1da3c6-cd55-4997-94ad-5d9bf7372337\",\"type\":\"Rect\"},{\"attributes\":{\"fill_alpha\":{\"field\":\"fill_alpha\"},\"fill_color\":{\"field\":\"color\"},\"height\":{\"field\":\"height\",\"units\":\"data\"},\"line_color\":{\"field\":\"line_color\"},\"width\":{\"field\":\"width\",\"units\":\"data\"},\"x\":{\"field\":\"x\"},\"y\":{\"field\":\"y\"}},\"id\":\"eb3d6bd1-7e48-49c2-a44d-676fdabde9a2\",\"type\":\"Rect\"},{\"attributes\":{\"callback\":null,\"column_names\":[\"x\",\"y\",\"width\",\"height\",\"color\",\"fill_alpha\",\"line_color\",\"line_alpha\",\"label\"],\"data\":{\"chart_index\":[\"(20.895288, 21.890052]\"],\"color\":[\"#f22c40\"],\"fill_alpha\":[0.8],\"height\":[1.0],\"label\":[\"(20.895288, 21.890052]\"],\"line_alpha\":[1.0],\"line_color\":[\"black\"],\"width\":[0.9947643979057617],\"x\":[\"21.392670000000003\"],\"y\":[0.5]}},\"id\":\"8575d7e1-d34e-40ba-bf4f-da4c15422bb5\",\"type\":\"ColumnDataSource\"},{\"attributes\":{\"data_source\":{\"id\":\"92fe70bb-3642-49a5-ba67-b511d6d7bd14\",\"type\":\"ColumnDataSource\"},\"glyph\":{\"id\":\"2b0a2323-a3f7-4cec-af27-e089c7aaed12\",\"type\":\"Rect\"},\"hover_glyph\":null,\"muted_glyph\":null},\"id\":\"747445d3-d432-4124-9dcb-4b540731308e\",\"type\":\"GlyphRenderer\"},{\"attributes\":{\"fill_alpha\":{\"field\":\"fill_alpha\"},\"fill_color\":{\"field\":\"color\"},\"height\":{\"field\":\"height\",\"units\":\"data\"},\"line_color\":{\"field\":\"line_color\"},\"width\":{\"field\":\"width\",\"units\":\"data\"},\"x\":{\"field\":\"x\"},\"y\":{\"field\":\"y\"}},\"id\":\"52e88bae-a86b-43ab-bf22-3846c446ed88\",\"type\":\"Rect\"},{\"attributes\":{\"callback\":null,\"column_names\":[\"x\",\"y\",\"width\",\"height\",\"color\",\"fill_alpha\",\"line_color\",\"line_alpha\",\"label\"],\"data\":{\"chart_index\":[\"(156.183246, 157.178010]\"],\"color\":[\"#f22c40\"],\"fill_alpha\":[0.8],\"height\":[0.0],\"label\":[\"(156.183246, 157.178010]\"],\"line_alpha\":[1.0],\"line_color\":[\"black\"],\"width\":[0.9947643979057545],\"x\":[\"156.680628\"],\"y\":[0.0]}},\"id\":\"a5095f0b-16c8-4c95-8836-04e08e9e01a0\",\"type\":\"ColumnDataSource\"},{\"attributes\":{\"callback\":null,\"column_names\":[\"x\",\"y\",\"width\",\"height\",\"color\",\"fill_alpha\",\"line_color\",\"line_alpha\",\"label\"],\"data\":{\"chart_index\":[\"(123.356021, 124.350785]\"],\"color\":[\"#f22c40\"],\"fill_alpha\":[0.8],\"height\":[0.0],\"label\":[\"(123.356021, 124.350785]\"],\"line_alpha\":[1.0],\"line_color\":[\"black\"],\"width\":[0.9947643979057688],\"x\":[\"123.853403\"],\"y\":[0.0]}},\"id\":\"d26c88ef-70d7-4c93-8240-677d4538f5aa\",\"type\":\"ColumnDataSource\"},{\"attributes\":{\"callback\":null,\"column_names\":[\"x\",\"y\",\"width\",\"height\",\"color\",\"fill_alpha\",\"line_color\",\"line_alpha\",\"label\"],\"data\":{\"chart_index\":[\"(86.549738, 87.544503]\"],\"color\":[\"#f22c40\"],\"fill_alpha\":[0.8],\"height\":[1.0],\"label\":[\"(86.549738, 87.544503]\"],\"line_alpha\":[1.0],\"line_color\":[\"black\"],\"width\":[0.9947643979057688],\"x\":[\"87.0471205\"],\"y\":[0.5]}},\"id\":\"d7491dcc-01d9-4f3a-ba3b-2b54330c052e\",\"type\":\"ColumnDataSource\"},{\"attributes\":{\"data_source\":{\"id\":\"d7491dcc-01d9-4f3a-ba3b-2b54330c052e\",\"type\":\"ColumnDataSource\"},\"glyph\":{\"id\":\"ce95a505-8629-4fd7-ae21-c64cda1fc517\",\"type\":\"Rect\"},\"hover_glyph\":null,\"muted_glyph\":null},\"id\":\"225696c2-1790-46bf-9587-661cae0b81c6\",\"type\":\"GlyphRenderer\"},{\"attributes\":{\"data_source\":{\"id\":\"51190591-3647-47ba-809f-982992d8cb05\",\"type\":\"ColumnDataSource\"},\"glyph\":{\"id\":\"f6ddd466-3601-4fae-bec2-03e877d37794\",\"type\":\"Rect\"},\"hover_glyph\":null,\"muted_glyph\":null},\"id\":\"e70fefce-46ae-4951-abb3-2756e1c2c08c\",\"type\":\"GlyphRenderer\"},{\"attributes\":{\"data_source\":{\"id\":\"bed9c9ed-fee5-4e2f-9c02-2117d4053b66\",\"type\":\"ColumnDataSource\"},\"glyph\":{\"id\":\"e9134f33-242e-42ab-b405-9c5704a666ab\",\"type\":\"Rect\"},\"hover_glyph\":null,\"muted_glyph\":null},\"id\":\"0890138f-aa01-40df-9e4b-f44c84c4a756\",\"type\":\"GlyphRenderer\"},{\"attributes\":{\"callback\":null,\"column_names\":[\"x\",\"y\",\"width\",\"height\",\"color\",\"fill_alpha\",\"line_color\",\"line_alpha\",\"label\"],\"data\":{\"chart_index\":[\"(31.837696, 32.832461]\"],\"color\":[\"#f22c40\"],\"fill_alpha\":[0.8],\"height\":[15.0],\"label\":[\"(31.837696, 32.832461]\"],\"line_alpha\":[1.0],\"line_color\":[\"black\"],\"width\":[0.9947643979057581],\"x\":[\"32.3350785\"],\"y\":[7.5]}},\"id\":\"8fb7a3f0-06c7-45f8-8150-dfc1246f8537\",\"type\":\"ColumnDataSource\"},{\"attributes\":{\"callback\":null,\"column_names\":[\"x\",\"y\",\"width\",\"height\",\"color\",\"fill_alpha\",\"line_color\",\"line_alpha\",\"label\"],\"data\":{\"chart_index\":[\"(155.188482, 156.183246]\"],\"color\":[\"#f22c40\"],\"fill_alpha\":[0.8],\"height\":[0.0],\"label\":[\"(155.188482, 156.183246]\"],\"line_alpha\":[1.0],\"line_color\":[\"black\"],\"width\":[0.994764397905783],\"x\":[\"155.68586399999998\"],\"y\":[0.0]}},\"id\":\"976bdc40-259b-43cf-8ad0-803bb027d87b\",\"type\":\"ColumnDataSource\"},{\"attributes\":{\"data_source\":{\"id\":\"7a656891-842d-4ab3-b91a-c996e13832e5\",\"type\":\"ColumnDataSource\"},\"glyph\":{\"id\":\"d1f18dd6-2101-4e7a-9642-3f57afb92e70\",\"type\":\"Rect\"},\"hover_glyph\":null,\"muted_glyph\":null},\"id\":\"b4125147-b91a-4a38-88d1-9eeb7ad055e4\",\"type\":\"GlyphRenderer\"},{\"attributes\":{\"fill_alpha\":{\"field\":\"fill_alpha\"},\"fill_color\":{\"field\":\"color\"},\"height\":{\"field\":\"height\",\"units\":\"data\"},\"line_color\":{\"field\":\"line_color\"},\"width\":{\"field\":\"width\",\"units\":\"data\"},\"x\":{\"field\":\"x\"},\"y\":{\"field\":\"y\"}},\"id\":\"e9134f33-242e-42ab-b405-9c5704a666ab\",\"type\":\"Rect\"},{\"attributes\":{\"data_source\":{\"id\":\"765e4fb8-7fb8-4aa5-af46-37e633d9c1ab\",\"type\":\"ColumnDataSource\"},\"glyph\":{\"id\":\"11057193-c73f-45cf-a674-b2fa732532ab\",\"type\":\"Rect\"},\"hover_glyph\":null,\"muted_glyph\":null},\"id\":\"51b99215-e6fe-4622-9092-77e51bdb5414\",\"type\":\"GlyphRenderer\"},{\"attributes\":{\"data_source\":{\"id\":\"976bdc40-259b-43cf-8ad0-803bb027d87b\",\"type\":\"ColumnDataSource\"},\"glyph\":{\"id\":\"5c09e597-1358-4d3f-820c-21bcf997e9a3\",\"type\":\"Rect\"},\"hover_glyph\":null,\"muted_glyph\":null},\"id\":\"acb9e317-0762-4145-bf28-4d34f3a4ad7b\",\"type\":\"GlyphRenderer\"},{\"attributes\":{\"callback\":null,\"column_names\":[\"x\",\"y\",\"width\",\"height\",\"color\",\"fill_alpha\",\"line_color\",\"line_alpha\",\"label\"],\"data\":{\"chart_index\":[\"(157.178010, 158.172775]\"],\"color\":[\"#f22c40\"],\"fill_alpha\":[0.8],\"height\":[0.0],\"label\":[\"(157.178010, 158.172775]\"],\"line_alpha\":[1.0],\"line_color\":[\"black\"],\"width\":[0.9947643979057545],\"x\":[\"157.6753925\"],\"y\":[0.0]}},\"id\":\"2542427e-8a38-409b-8d16-f4ffb817f812\",\"type\":\"ColumnDataSource\"},{\"attributes\":{\"fill_alpha\":{\"field\":\"fill_alpha\"},\"fill_color\":{\"field\":\"color\"},\"height\":{\"field\":\"height\",\"units\":\"data\"},\"line_color\":{\"field\":\"line_color\"},\"width\":{\"field\":\"width\",\"units\":\"data\"},\"x\":{\"field\":\"x\"},\"y\":{\"field\":\"y\"}},\"id\":\"c52f954a-22a0-4ef4-8796-64cb4afc5304\",\"type\":\"Rect\"},{\"attributes\":{\"data_source\":{\"id\":\"14066dee-b3b0-4aa0-8d73-37e3e080f9da\",\"type\":\"ColumnDataSource\"},\"glyph\":{\"id\":\"eb3d6bd1-7e48-49c2-a44d-676fdabde9a2\",\"type\":\"Rect\"},\"hover_glyph\":null,\"muted_glyph\":null},\"id\":\"8da53f97-2dcf-4e8e-abda-114c6ed42be9\",\"type\":\"GlyphRenderer\"},{\"attributes\":{\"fill_alpha\":{\"field\":\"fill_alpha\"},\"fill_color\":{\"field\":\"color\"},\"height\":{\"field\":\"height\",\"units\":\"data\"},\"line_color\":{\"field\":\"line_color\"},\"width\":{\"field\":\"width\",\"units\":\"data\"},\"x\":{\"field\":\"x\"},\"y\":{\"field\":\"y\"}},\"id\":\"27c45967-27f7-4cd0-9131-4d6b28e0cdac\",\"type\":\"Rect\"},{\"attributes\":{\"fill_alpha\":{\"field\":\"fill_alpha\"},\"fill_color\":{\"field\":\"color\"},\"height\":{\"field\":\"height\",\"units\":\"data\"},\"line_color\":{\"field\":\"line_color\"},\"width\":{\"field\":\"width\",\"units\":\"data\"},\"x\":{\"field\":\"x\"},\"y\":{\"field\":\"y\"}},\"id\":\"c6a1b88e-2a91-47f8-9080-ee3c7bb1f5af\",\"type\":\"Rect\"},{\"attributes\":{\"data_source\":{\"id\":\"9c538300-385b-4e8d-ab2b-50559467615b\",\"type\":\"ColumnDataSource\"},\"glyph\":{\"id\":\"81cf8314-d8c2-4b9b-a27e-c56a14f82e09\",\"type\":\"Rect\"},\"hover_glyph\":null,\"muted_glyph\":null},\"id\":\"987c3197-846b-4b58-83da-df22bd7c122b\",\"type\":\"GlyphRenderer\"},{\"attributes\":{\"callback\":null,\"column_names\":[\"x\",\"y\",\"width\",\"height\",\"color\",\"fill_alpha\",\"line_color\",\"line_alpha\",\"label\"],\"data\":{\"chart_index\":[\"(124.350785, 125.345550]\"],\"color\":[\"#f22c40\"],\"fill_alpha\":[0.8],\"height\":[0.0],\"label\":[\"(124.350785, 125.345550]\"],\"line_alpha\":[1.0],\"line_color\":[\"black\"],\"width\":[0.9947643979057545],\"x\":[\"124.8481675\"],\"y\":[0.0]}},\"id\":\"765e4fb8-7fb8-4aa5-af46-37e633d9c1ab\",\"type\":\"ColumnDataSource\"},{\"attributes\":{\"callback\":null,\"column_names\":[\"x\",\"y\",\"width\",\"height\",\"color\",\"fill_alpha\",\"line_color\",\"line_alpha\",\"label\"],\"data\":{\"chart_index\":[\"(95.502618, 96.497382]\"],\"color\":[\"#f22c40\"],\"fill_alpha\":[0.8],\"height\":[1.0],\"label\":[\"(95.502618, 96.497382]\"],\"line_alpha\":[1.0],\"line_color\":[\"black\"],\"width\":[0.9947643979057688],\"x\":[\"96.0\"],\"y\":[0.5]}},\"id\":\"e573ce25-56e0-4327-a84b-1e432d9649c0\",\"type\":\"ColumnDataSource\"},{\"attributes\":{\"data_source\":{\"id\":\"64737055-890d-4dcd-a20a-389ab82279c7\",\"type\":\"ColumnDataSource\"},\"glyph\":{\"id\":\"75d30206-fe37-4efd-8547-50e5955e81f0\",\"type\":\"Rect\"},\"hover_glyph\":null,\"muted_glyph\":null},\"id\":\"cf729c79-bbfe-4378-9f07-e6aebde28d57\",\"type\":\"GlyphRenderer\"},{\"attributes\":{\"callback\":null,\"column_names\":[\"x\",\"y\",\"width\",\"height\",\"color\",\"fill_alpha\",\"line_color\",\"line_alpha\",\"label\"],\"data\":{\"chart_index\":[\"(90.528796, 91.523560]\"],\"color\":[\"#f22c40\"],\"fill_alpha\":[0.8],\"height\":[0.0],\"label\":[\"(90.528796, 91.523560]\"],\"line_alpha\":[1.0],\"line_color\":[\"black\"],\"width\":[0.9947643979057545],\"x\":[\"91.026178\"],\"y\":[0.0]}},\"id\":\"bed9c9ed-fee5-4e2f-9c02-2117d4053b66\",\"type\":\"ColumnDataSource\"},{\"attributes\":{\"data_source\":{\"id\":\"8575d7e1-d34e-40ba-bf4f-da4c15422bb5\",\"type\":\"ColumnDataSource\"},\"glyph\":{\"id\":\"ad1da3c6-cd55-4997-94ad-5d9bf7372337\",\"type\":\"Rect\"},\"hover_glyph\":null,\"muted_glyph\":null},\"id\":\"66249b1b-624e-4f7a-971c-57b992e1175d\",\"type\":\"GlyphRenderer\"},{\"attributes\":{\"fill_alpha\":{\"field\":\"fill_alpha\"},\"fill_color\":{\"field\":\"color\"},\"height\":{\"field\":\"height\",\"units\":\"data\"},\"line_color\":{\"field\":\"line_color\"},\"width\":{\"field\":\"width\",\"units\":\"data\"},\"x\":{\"field\":\"x\"},\"y\":{\"field\":\"y\"}},\"id\":\"11057193-c73f-45cf-a674-b2fa732532ab\",\"type\":\"Rect\"},{\"attributes\":{\"data_source\":{\"id\":\"a5095f0b-16c8-4c95-8836-04e08e9e01a0\",\"type\":\"ColumnDataSource\"},\"glyph\":{\"id\":\"7206255f-13a7-4daf-97d1-9005dbf59b29\",\"type\":\"Rect\"},\"hover_glyph\":null,\"muted_glyph\":null},\"id\":\"cdba3636-b2c5-450d-8382-c05048666837\",\"type\":\"GlyphRenderer\"},{\"attributes\":{\"fill_alpha\":{\"field\":\"fill_alpha\"},\"fill_color\":{\"field\":\"color\"},\"height\":{\"field\":\"height\",\"units\":\"data\"},\"line_color\":{\"field\":\"line_color\"},\"width\":{\"field\":\"width\",\"units\":\"data\"},\"x\":{\"field\":\"x\"},\"y\":{\"field\":\"y\"}},\"id\":\"995130b0-8a95-4513-abb0-509f727eea94\",\"type\":\"Rect\"},{\"attributes\":{\"data_source\":{\"id\":\"9bb6e7e1-46f9-45ab-aee6-96d93f83da36\",\"type\":\"ColumnDataSource\"},\"glyph\":{\"id\":\"c52f954a-22a0-4ef4-8796-64cb4afc5304\",\"type\":\"Rect\"},\"hover_glyph\":null,\"muted_glyph\":null},\"id\":\"3821b239-c5d3-46e0-956d-587395659899\",\"type\":\"GlyphRenderer\"},{\"attributes\":{\"data_source\":{\"id\":\"d26c88ef-70d7-4c93-8240-677d4538f5aa\",\"type\":\"ColumnDataSource\"},\"glyph\":{\"id\":\"52e88bae-a86b-43ab-bf22-3846c446ed88\",\"type\":\"Rect\"},\"hover_glyph\":null,\"muted_glyph\":null},\"id\":\"9d096cd7-8ed5-42f1-bcd4-190937d55714\",\"type\":\"GlyphRenderer\"},{\"attributes\":{\"callback\":null,\"column_names\":[\"x\",\"y\",\"width\",\"height\",\"color\",\"fill_alpha\",\"line_color\",\"line_alpha\",\"label\"],\"data\":{\"chart_index\":[\"(89.534031, 90.528796]\"],\"color\":[\"#f22c40\"],\"fill_alpha\":[0.8],\"height\":[1.0],\"label\":[\"(89.534031, 90.528796]\"],\"line_alpha\":[1.0],\"line_color\":[\"black\"],\"width\":[0.9947643979057688],\"x\":[\"90.0314135\"],\"y\":[0.5]}},\"id\":\"9c538300-385b-4e8d-ab2b-50559467615b\",\"type\":\"ColumnDataSource\"},{\"attributes\":{\"callback\":null,\"column_names\":[\"x\",\"y\",\"width\",\"height\",\"color\",\"fill_alpha\",\"line_color\",\"line_alpha\",\"label\"],\"data\":{\"chart_index\":[\"(21.890052, 22.884817]\"],\"color\":[\"#f22c40\"],\"fill_alpha\":[0.8],\"height\":[3.0],\"label\":[\"(21.890052, 22.884817]\"],\"line_alpha\":[1.0],\"line_color\":[\"black\"],\"width\":[0.9947643979057581],\"x\":[\"22.3874345\"],\"y\":[1.5]}},\"id\":\"9bb6e7e1-46f9-45ab-aee6-96d93f83da36\",\"type\":\"ColumnDataSource\"},{\"attributes\":{\"data_source\":{\"id\":\"76b30b7c-b168-4a65-ab66-fc53bf4a14b6\",\"type\":\"ColumnDataSource\"},\"glyph\":{\"id\":\"0fc1d29d-dfc6-4fc1-a810-746669ca6332\",\"type\":\"Rect\"},\"hover_glyph\":null,\"muted_glyph\":null},\"id\":\"a05f503f-faba-4b90-abf9-617a58abd8c2\",\"type\":\"GlyphRenderer\"},{\"attributes\":{\"callback\":null,\"column_names\":[\"x\",\"y\",\"width\",\"height\",\"color\",\"fill_alpha\",\"line_color\",\"line_alpha\",\"label\"],\"data\":{\"chart_index\":[\"(22.884817, 23.879581]\"],\"color\":[\"#f22c40\"],\"fill_alpha\":[0.8],\"height\":[8.0],\"label\":[\"(22.884817, 23.879581]\"],\"line_alpha\":[1.0],\"line_color\":[\"black\"],\"width\":[0.9947643979057581],\"x\":[\"23.382199\"],\"y\":[4.0]}},\"id\":\"0a358fad-add0-4314-be4d-91a2d16e1394\",\"type\":\"ColumnDataSource\"},{\"attributes\":{\"callback\":null,\"column_names\":[\"x\",\"y\",\"width\",\"height\",\"color\",\"fill_alpha\",\"line_color\",\"line_alpha\",\"label\"],\"data\":{\"chart_index\":[\"(56.706806, 57.701571]\"],\"color\":[\"#f22c40\"],\"fill_alpha\":[0.8],\"height\":[0.0],\"label\":[\"(56.706806, 57.701571]\"],\"line_alpha\":[1.0],\"line_color\":[\"black\"],\"width\":[0.9947643979057545],\"x\":[\"57.2041885\"],\"y\":[0.0]}},\"id\":\"56d29dfa-2d11-444c-bd8c-625c14af4b72\",\"type\":\"ColumnDataSource\"},{\"attributes\":{\"fill_alpha\":{\"field\":\"fill_alpha\"},\"fill_color\":{\"field\":\"color\"},\"height\":{\"field\":\"height\",\"units\":\"data\"},\"line_color\":{\"field\":\"line_color\"},\"width\":{\"field\":\"width\",\"units\":\"data\"},\"x\":{\"field\":\"x\"},\"y\":{\"field\":\"y\"}},\"id\":\"310beea2-91de-41c2-ba59-49c5113bdc74\",\"type\":\"Rect\"},{\"attributes\":{\"fill_alpha\":{\"field\":\"fill_alpha\"},\"fill_color\":{\"field\":\"color\"},\"height\":{\"field\":\"height\",\"units\":\"data\"},\"line_color\":{\"field\":\"line_color\"},\"width\":{\"field\":\"width\",\"units\":\"data\"},\"x\":{\"field\":\"x\"},\"y\":{\"field\":\"y\"}},\"id\":\"13b4d5d6-bcb3-4ea8-8d02-52f6268610b3\",\"type\":\"Rect\"},{\"attributes\":{\"callback\":null,\"column_names\":[\"x\",\"y\",\"width\",\"height\",\"color\",\"fill_alpha\",\"line_color\",\"line_alpha\",\"label\"],\"data\":{\"chart_index\":[\"(158.172775, 159.167539]\"],\"color\":[\"#f22c40\"],\"fill_alpha\":[0.8],\"height\":[0.0],\"label\":[\"(158.172775, 159.167539]\"],\"line_alpha\":[1.0],\"line_color\":[\"black\"],\"width\":[0.9947643979057545],\"x\":[\"158.67015700000002\"],\"y\":[0.0]}},\"id\":\"bae0df21-5096-43c0-8330-f7e38d26ee46\",\"type\":\"ColumnDataSource\"},{\"attributes\":{\"fill_alpha\":{\"field\":\"fill_alpha\"},\"fill_color\":{\"field\":\"color\"},\"height\":{\"field\":\"height\",\"units\":\"data\"},\"line_color\":{\"field\":\"line_color\"},\"width\":{\"field\":\"width\",\"units\":\"data\"},\"x\":{\"field\":\"x\"},\"y\":{\"field\":\"y\"}},\"id\":\"807ec0ab-b065-4645-a309-a489ce8d360e\",\"type\":\"Rect\"},{\"attributes\":{\"data_source\":{\"id\":\"2542427e-8a38-409b-8d16-f4ffb817f812\",\"type\":\"ColumnDataSource\"},\"glyph\":{\"id\":\"27c45967-27f7-4cd0-9131-4d6b28e0cdac\",\"type\":\"Rect\"},\"hover_glyph\":null,\"muted_glyph\":null},\"id\":\"74ca5bfd-c368-46e7-8522-546311f8522a\",\"type\":\"GlyphRenderer\"},{\"attributes\":{\"data_source\":{\"id\":\"a30da47c-20a7-47fc-935d-a6d722b9e9e3\",\"type\":\"ColumnDataSource\"},\"glyph\":{\"id\":\"2c0f85c3-9de1-4711-841f-d7cbf71aa9ee\",\"type\":\"Rect\"},\"hover_glyph\":null,\"muted_glyph\":null},\"id\":\"79569137-457a-4dbf-9b4d-b048364e514f\",\"type\":\"GlyphRenderer\"},{\"attributes\":{\"fill_alpha\":{\"field\":\"fill_alpha\"},\"fill_color\":{\"field\":\"color\"},\"height\":{\"field\":\"height\",\"units\":\"data\"},\"line_color\":{\"field\":\"line_color\"},\"width\":{\"field\":\"width\",\"units\":\"data\"},\"x\":{\"field\":\"x\"},\"y\":{\"field\":\"y\"}},\"id\":\"1996a1da-021f-436b-bfa2-0bc365fb0a62\",\"type\":\"Rect\"},{\"attributes\":{\"axis_label\":\"Count( Location-Id-Code )\",\"formatter\":{\"id\":\"eb90885b-3b00-424b-b19c-757eefd94253\",\"type\":\"BasicTickFormatter\"},\"plot\":{\"id\":\"26f21670-34ce-47ab-9fe3-3443f913aa5a\",\"subtype\":\"Chart\",\"type\":\"Plot\"},\"ticker\":{\"id\":\"204ff31f-ee48-4fc0-ac89-717b85660c1d\",\"type\":\"BasicTicker\"}},\"id\":\"e99a6ba1-8c0c-474f-accc-8fd89c2845c5\",\"type\":\"LinearAxis\"},{\"attributes\":{\"data_source\":{\"id\":\"da2a2394-4383-4914-96c9-2b5861f37695\",\"type\":\"ColumnDataSource\"},\"glyph\":{\"id\":\"8bab8fb3-8c6e-477f-85e6-e8f65ce75974\",\"type\":\"Rect\"},\"hover_glyph\":null,\"muted_glyph\":null},\"id\":\"efdde0fe-77b3-4c32-aae1-dd5e6ea966ba\",\"type\":\"GlyphRenderer\"},{\"attributes\":{\"callback\":null,\"column_names\":[\"x\",\"y\",\"width\",\"height\",\"color\",\"fill_alpha\",\"line_color\",\"line_alpha\",\"label\"],\"data\":{\"chart_index\":[\"(159.167539, 160.162304]\"],\"color\":[\"#f22c40\"],\"fill_alpha\":[0.8],\"height\":[0.0],\"label\":[\"(159.167539, 160.162304]\"],\"line_alpha\":[1.0],\"line_color\":[\"black\"],\"width\":[0.9947643979057545],\"x\":[\"159.6649215\"],\"y\":[0.0]}},\"id\":\"2580dca3-5af4-43bd-9d0c-b10a9e52ac40\",\"type\":\"ColumnDataSource\"},{\"attributes\":{\"callback\":null,\"column_names\":[\"x\",\"y\",\"width\",\"height\",\"color\",\"fill_alpha\",\"line_color\",\"line_alpha\",\"label\"],\"data\":{\"chart_index\":[\"(55.712042, 56.706806]\"],\"color\":[\"#f22c40\"],\"fill_alpha\":[0.8],\"height\":[0.0],\"label\":[\"(55.712042, 56.706806]\"],\"line_alpha\":[1.0],\"line_color\":[\"black\"],\"width\":[0.9947643979057617],\"x\":[\"56.209424\"],\"y\":[0.0]}},\"id\":\"e03b969e-c021-4b62-bf56-110e7a4ee33d\",\"type\":\"ColumnDataSource\"},{\"attributes\":{\"data_source\":{\"id\":\"e03b969e-c021-4b62-bf56-110e7a4ee33d\",\"type\":\"ColumnDataSource\"},\"glyph\":{\"id\":\"fe0e3c0d-5b4b-44c5-8ad0-44a462a947d7\",\"type\":\"Rect\"},\"hover_glyph\":null,\"muted_glyph\":null},\"id\":\"dab2497a-c4d1-459b-a6d5-0c2641205dd1\",\"type\":\"GlyphRenderer\"},{\"attributes\":{\"callback\":null,\"column_names\":[\"x\",\"y\",\"width\",\"height\",\"color\",\"fill_alpha\",\"line_color\",\"line_alpha\",\"label\"],\"data\":{\"chart_index\":[\"(25.869110, 26.863874]\"],\"color\":[\"#f22c40\"],\"fill_alpha\":[0.8],\"height\":[0.0],\"label\":[\"(25.869110, 26.863874]\"],\"line_alpha\":[1.0],\"line_color\":[\"black\"],\"width\":[0.9947643979057581],\"x\":[\"26.366492\"],\"y\":[0.0]}},\"id\":\"e7bd1a0e-ab2e-46d2-943a-a70c8722b432\",\"type\":\"ColumnDataSource\"},{\"attributes\":{},\"id\":\"204ff31f-ee48-4fc0-ac89-717b85660c1d\",\"type\":\"BasicTicker\"},{\"attributes\":{\"fill_alpha\":{\"field\":\"fill_alpha\"},\"fill_color\":{\"field\":\"color\"},\"height\":{\"field\":\"height\",\"units\":\"data\"},\"line_color\":{\"field\":\"line_color\"},\"width\":{\"field\":\"width\",\"units\":\"data\"},\"x\":{\"field\":\"x\"},\"y\":{\"field\":\"y\"}},\"id\":\"85d48b13-09ee-491a-a58f-cb86312f1b18\",\"type\":\"Rect\"},{\"attributes\":{\"fill_alpha\":{\"field\":\"fill_alpha\"},\"fill_color\":{\"field\":\"color\"},\"height\":{\"field\":\"height\",\"units\":\"data\"},\"line_color\":{\"field\":\"line_color\"},\"width\":{\"field\":\"width\",\"units\":\"data\"},\"x\":{\"field\":\"x\"},\"y\":{\"field\":\"y\"}},\"id\":\"b40864d0-1df6-4328-a07f-a66e07a4100a\",\"type\":\"Rect\"},{\"attributes\":{\"dimension\":1,\"plot\":{\"id\":\"26f21670-34ce-47ab-9fe3-3443f913aa5a\",\"subtype\":\"Chart\",\"type\":\"Plot\"},\"ticker\":{\"id\":\"204ff31f-ee48-4fc0-ac89-717b85660c1d\",\"type\":\"BasicTicker\"}},\"id\":\"ba619490-ea0a-468a-8169-bac8e3e6a4a5\",\"type\":\"Grid\"},{\"attributes\":{\"callback\":null,\"column_names\":[\"x\",\"y\",\"width\",\"height\",\"color\",\"fill_alpha\",\"line_color\",\"line_alpha\",\"label\"],\"data\":{\"chart_index\":[\"(57.701571, 58.696335]\"],\"color\":[\"#f22c40\"],\"fill_alpha\":[0.8],\"height\":[0.0],\"label\":[\"(57.701571, 58.696335]\"],\"line_alpha\":[1.0],\"line_color\":[\"black\"],\"width\":[0.9947643979057617],\"x\":[\"58.198953\"],\"y\":[0.0]}},\"id\":\"27f3d040-de71-449e-ac10-efd62d9c0ab5\",\"type\":\"ColumnDataSource\"},{\"attributes\":{\"callback\":null,\"column_names\":[\"x\",\"y\",\"width\",\"height\",\"color\",\"fill_alpha\",\"line_color\",\"line_alpha\",\"label\"],\"data\":{\"chart_index\":[\"(169.115183, 170.109948]\"],\"color\":[\"#f22c40\"],\"fill_alpha\":[0.8],\"height\":[0.0],\"label\":[\"(169.115183, 170.109948]\"],\"line_alpha\":[1.0],\"line_color\":[\"black\"],\"width\":[0.9947643979057545],\"x\":[\"169.61256550000002\"],\"y\":[0.0]}},\"id\":\"e8ca27d9-76a2-4190-9a06-412fbf57fbdc\",\"type\":\"ColumnDataSource\"},{\"attributes\":{\"data_source\":{\"id\":\"0a358fad-add0-4314-be4d-91a2d16e1394\",\"type\":\"ColumnDataSource\"},\"glyph\":{\"id\":\"807ec0ab-b065-4645-a309-a489ce8d360e\",\"type\":\"Rect\"},\"hover_glyph\":null,\"muted_glyph\":null},\"id\":\"87fcd48a-0452-4408-a233-a02cafd86fc0\",\"type\":\"GlyphRenderer\"},{\"attributes\":{\"data_source\":{\"id\":\"bae0df21-5096-43c0-8330-f7e38d26ee46\",\"type\":\"ColumnDataSource\"},\"glyph\":{\"id\":\"310beea2-91de-41c2-ba59-49c5113bdc74\",\"type\":\"Rect\"},\"hover_glyph\":null,\"muted_glyph\":null},\"id\":\"765bfc84-4cda-4652-b838-1ee3b6d2b332\",\"type\":\"GlyphRenderer\"},{\"attributes\":{\"callback\":null,\"column_names\":[\"x\",\"y\",\"width\",\"height\",\"color\",\"fill_alpha\",\"line_color\",\"line_alpha\",\"label\"],\"data\":{\"chart_index\":[\"(24.874346, 25.869110]\"],\"color\":[\"#f22c40\"],\"fill_alpha\":[0.8],\"height\":[9.0],\"label\":[\"(24.874346, 25.869110]\"],\"line_alpha\":[1.0],\"line_color\":[\"black\"],\"width\":[0.9947643979057581],\"x\":[\"25.371727999999997\"],\"y\":[4.5]}},\"id\":\"87fe758e-a052-4c0c-944b-6928a0665ee2\",\"type\":\"ColumnDataSource\"},{\"attributes\":{\"data_source\":{\"id\":\"87fe758e-a052-4c0c-944b-6928a0665ee2\",\"type\":\"ColumnDataSource\"},\"glyph\":{\"id\":\"145fa46d-617e-49dc-9f17-bd3be6b43cf4\",\"type\":\"Rect\"},\"hover_glyph\":null,\"muted_glyph\":null},\"id\":\"b0f49f6c-b9f1-4a1b-95a7-9e73c6e30be8\",\"type\":\"GlyphRenderer\"},{\"attributes\":{\"fill_alpha\":{\"field\":\"fill_alpha\"},\"fill_color\":{\"field\":\"color\"},\"height\":{\"field\":\"height\",\"units\":\"data\"},\"line_color\":{\"field\":\"line_color\"},\"width\":{\"field\":\"width\",\"units\":\"data\"},\"x\":{\"field\":\"x\"},\"y\":{\"field\":\"y\"}},\"id\":\"61e107e0-8496-4ed9-8d7c-ee42e9edb77b\",\"type\":\"Rect\"},{\"attributes\":{\"fill_alpha\":{\"field\":\"fill_alpha\"},\"fill_color\":{\"field\":\"color\"},\"height\":{\"field\":\"height\",\"units\":\"data\"},\"line_color\":{\"field\":\"line_color\"},\"width\":{\"field\":\"width\",\"units\":\"data\"},\"x\":{\"field\":\"x\"},\"y\":{\"field\":\"y\"}},\"id\":\"e62014b9-99c9-4034-9a50-e2619906e8df\",\"type\":\"Rect\"},{\"attributes\":{\"data_source\":{\"id\":\"56d29dfa-2d11-444c-bd8c-625c14af4b72\",\"type\":\"ColumnDataSource\"},\"glyph\":{\"id\":\"13b4d5d6-bcb3-4ea8-8d02-52f6268610b3\",\"type\":\"Rect\"},\"hover_glyph\":null,\"muted_glyph\":null},\"id\":\"1ede2099-8c1f-4d51-b846-a3f1feef3d23\",\"type\":\"GlyphRenderer\"},{\"attributes\":{\"fill_alpha\":{\"field\":\"fill_alpha\"},\"fill_color\":{\"field\":\"color\"},\"height\":{\"field\":\"height\",\"units\":\"data\"},\"line_color\":{\"field\":\"line_color\"},\"width\":{\"field\":\"width\",\"units\":\"data\"},\"x\":{\"field\":\"x\"},\"y\":{\"field\":\"y\"}},\"id\":\"4bdf1dde-a8ea-463e-bf6e-e7e366c38ded\",\"type\":\"Rect\"},{\"attributes\":{\"fill_alpha\":{\"field\":\"fill_alpha\"},\"fill_color\":{\"field\":\"color\"},\"height\":{\"field\":\"height\",\"units\":\"data\"},\"line_color\":{\"field\":\"line_color\"},\"width\":{\"field\":\"width\",\"units\":\"data\"},\"x\":{\"field\":\"x\"},\"y\":{\"field\":\"y\"}},\"id\":\"263bfafe-e219-4613-a738-8833cfdb500f\",\"type\":\"Rect\"},{\"attributes\":{\"fill_alpha\":{\"field\":\"fill_alpha\"},\"fill_color\":{\"field\":\"color\"},\"height\":{\"field\":\"height\",\"units\":\"data\"},\"line_color\":{\"field\":\"line_color\"},\"width\":{\"field\":\"width\",\"units\":\"data\"},\"x\":{\"field\":\"x\"},\"y\":{\"field\":\"y\"}},\"id\":\"e356245f-798d-459f-bd8f-834aafb0040d\",\"type\":\"Rect\"},{\"attributes\":{\"callback\":null,\"column_names\":[\"x\",\"y\",\"width\",\"height\",\"color\",\"fill_alpha\",\"line_color\",\"line_alpha\",\"label\"],\"data\":{\"chart_index\":[\"(160.162304, 161.157068]\"],\"color\":[\"#f22c40\"],\"fill_alpha\":[0.8],\"height\":[0.0],\"label\":[\"(160.162304, 161.157068]\"],\"line_alpha\":[1.0],\"line_color\":[\"black\"],\"width\":[0.9947643979057545],\"x\":[\"160.65968600000002\"],\"y\":[0.0]}},\"id\":\"a77b31fe-ba70-46a6-b8d8-1483e227fee2\",\"type\":\"ColumnDataSource\"},{\"attributes\":{\"data_source\":{\"id\":\"a77b31fe-ba70-46a6-b8d8-1483e227fee2\",\"type\":\"ColumnDataSource\"},\"glyph\":{\"id\":\"e62014b9-99c9-4034-9a50-e2619906e8df\",\"type\":\"Rect\"},\"hover_glyph\":null,\"muted_glyph\":null},\"id\":\"89bfd09f-8024-4656-aeaf-26949779aa6f\",\"type\":\"GlyphRenderer\"},{\"attributes\":{\"data_source\":{\"id\":\"2580dca3-5af4-43bd-9d0c-b10a9e52ac40\",\"type\":\"ColumnDataSource\"},\"glyph\":{\"id\":\"1996a1da-021f-436b-bfa2-0bc365fb0a62\",\"type\":\"Rect\"},\"hover_glyph\":null,\"muted_glyph\":null},\"id\":\"4da128a9-0d8b-4ac1-b056-9c0b70ad42ce\",\"type\":\"GlyphRenderer\"},{\"attributes\":{\"callback\":null,\"column_names\":[\"x\",\"y\",\"width\",\"height\",\"color\",\"fill_alpha\",\"line_color\",\"line_alpha\",\"label\"],\"data\":{\"chart_index\":[\"(59.691099, 60.685864]\"],\"color\":[\"#f22c40\"],\"fill_alpha\":[0.8],\"height\":[0.0],\"label\":[\"(59.691099, 60.685864]\"],\"line_alpha\":[1.0],\"line_color\":[\"black\"],\"width\":[0.9947643979057545],\"x\":[\"60.1884815\"],\"y\":[0.0]}},\"id\":\"da2a2394-4383-4914-96c9-2b5861f37695\",\"type\":\"ColumnDataSource\"},{\"attributes\":{\"data_source\":{\"id\":\"e7bd1a0e-ab2e-46d2-943a-a70c8722b432\",\"type\":\"ColumnDataSource\"},\"glyph\":{\"id\":\"85d48b13-09ee-491a-a58f-cb86312f1b18\",\"type\":\"Rect\"},\"hover_glyph\":null,\"muted_glyph\":null},\"id\":\"6430af13-e1a7-4150-95b6-e70ef44201f7\",\"type\":\"GlyphRenderer\"},{\"attributes\":{\"fill_alpha\":{\"field\":\"fill_alpha\"},\"fill_color\":{\"field\":\"color\"},\"height\":{\"field\":\"height\",\"units\":\"data\"},\"line_color\":{\"field\":\"line_color\"},\"width\":{\"field\":\"width\",\"units\":\"data\"},\"x\":{\"field\":\"x\"},\"y\":{\"field\":\"y\"}},\"id\":\"8bab8fb3-8c6e-477f-85e6-e8f65ce75974\",\"type\":\"Rect\"},{\"attributes\":{\"data_source\":{\"id\":\"27f3d040-de71-449e-ac10-efd62d9c0ab5\",\"type\":\"ColumnDataSource\"},\"glyph\":{\"id\":\"b40864d0-1df6-4328-a07f-a66e07a4100a\",\"type\":\"Rect\"},\"hover_glyph\":null,\"muted_glyph\":null},\"id\":\"c8323544-9e54-4fc6-934d-c3c91c3bbd92\",\"type\":\"GlyphRenderer\"},{\"attributes\":{\"active_drag\":\"auto\",\"active_scroll\":\"auto\",\"active_tap\":\"auto\",\"tools\":[{\"id\":\"afcd95c3-266f-42af-9e8d-e9a79a843fc8\",\"type\":\"PanTool\"},{\"id\":\"2f61c5a2-56ca-419b-9963-16ec923ea522\",\"type\":\"WheelZoomTool\"},{\"id\":\"d821546f-1473-4108-a25d-fd424b31eb53\",\"type\":\"BoxZoomTool\"},{\"id\":\"ae3417c2-49b1-4813-ba15-1507b3be66af\",\"type\":\"SaveTool\"},{\"id\":\"b5bd67e8-75a6-4b9d-aa0f-d96a2c71c325\",\"type\":\"ResetTool\"},{\"id\":\"528fe7b6-9ee5-431a-95e2-e86b6f1b8562\",\"type\":\"HelpTool\"}]},\"id\":\"b5f4a8c4-05bb-4e14-a03a-cb1cfbfc12b3\",\"type\":\"Toolbar\"},{\"attributes\":{\"callback\":null,\"column_names\":[\"x\",\"y\",\"width\",\"height\",\"color\",\"fill_alpha\",\"line_color\",\"line_alpha\",\"label\"],\"data\":{\"chart_index\":[\"(61.680628, 62.675393]\"],\"color\":[\"#f22c40\"],\"fill_alpha\":[0.8],\"height\":[0.0],\"label\":[\"(61.680628, 62.675393]\"],\"line_alpha\":[1.0],\"line_color\":[\"black\"],\"width\":[0.9947643979057617],\"x\":[\"62.1780105\"],\"y\":[0.0]}},\"id\":\"25f99d16-0c20-4c91-8b6b-fa4767f9a884\",\"type\":\"ColumnDataSource\"},{\"attributes\":{\"callback\":null,\"column_names\":[\"x\",\"y\",\"width\",\"height\",\"color\",\"fill_alpha\",\"line_color\",\"line_alpha\",\"label\"],\"data\":{\"chart_index\":[\"(91.523560, 92.518325]\"],\"color\":[\"#f22c40\"],\"fill_alpha\":[0.8],\"height\":[1.0],\"label\":[\"(91.523560, 92.518325]\"],\"line_alpha\":[1.0],\"line_color\":[\"black\"],\"width\":[0.9947643979057545],\"x\":[\"92.0209425\"],\"y\":[0.5]}},\"id\":\"e7e8c7ef-6d02-43d2-9ab8-498f7a4e6396\",\"type\":\"ColumnDataSource\"},{\"attributes\":{\"data_source\":{\"id\":\"4fbe886a-ce40-499e-bc29-bc27fb15ce29\",\"type\":\"ColumnDataSource\"},\"glyph\":{\"id\":\"09aa323a-7ffc-4c71-8389-0eea59209e18\",\"type\":\"Rect\"},\"hover_glyph\":null,\"muted_glyph\":null},\"id\":\"2ebbdeba-7c73-4de7-8f7a-98335c2bf887\",\"type\":\"GlyphRenderer\"},{\"attributes\":{\"fill_alpha\":{\"field\":\"fill_alpha\"},\"fill_color\":{\"field\":\"color\"},\"height\":{\"field\":\"height\",\"units\":\"data\"},\"line_color\":{\"field\":\"line_color\"},\"width\":{\"field\":\"width\",\"units\":\"data\"},\"x\":{\"field\":\"x\"},\"y\":{\"field\":\"y\"}},\"id\":\"ad96709f-60ff-4540-95b8-345e87d94588\",\"type\":\"Rect\"},{\"attributes\":{\"fill_alpha\":{\"field\":\"fill_alpha\"},\"fill_color\":{\"field\":\"color\"},\"height\":{\"field\":\"height\",\"units\":\"data\"},\"line_color\":{\"field\":\"line_color\"},\"width\":{\"field\":\"width\",\"units\":\"data\"},\"x\":{\"field\":\"x\"},\"y\":{\"field\":\"y\"}},\"id\":\"f95ee752-c96e-465a-b9d4-1a77af6a080d\",\"type\":\"Rect\"},{\"attributes\":{\"callback\":null,\"column_names\":[\"x\",\"y\",\"width\",\"height\",\"color\",\"fill_alpha\",\"line_color\",\"line_alpha\",\"label\"],\"data\":{\"chart_index\":[\"(92.518325, 93.513089]\"],\"color\":[\"#f22c40\"],\"fill_alpha\":[0.8],\"height\":[0.0],\"label\":[\"(92.518325, 93.513089]\"],\"line_alpha\":[1.0],\"line_color\":[\"black\"],\"width\":[0.9947643979057688],\"x\":[\"93.01570699999999\"],\"y\":[0.0]}},\"id\":\"61028d81-4533-4c4e-93e2-5902c84d0f17\",\"type\":\"ColumnDataSource\"},{\"attributes\":{\"fill_alpha\":{\"field\":\"fill_alpha\"},\"fill_color\":{\"field\":\"color\"},\"height\":{\"field\":\"height\",\"units\":\"data\"},\"line_color\":{\"field\":\"line_color\"},\"width\":{\"field\":\"width\",\"units\":\"data\"},\"x\":{\"field\":\"x\"},\"y\":{\"field\":\"y\"}},\"id\":\"09aa323a-7ffc-4c71-8389-0eea59209e18\",\"type\":\"Rect\"},{\"attributes\":{\"callback\":null,\"column_names\":[\"x\",\"y\",\"width\",\"height\",\"color\",\"fill_alpha\",\"line_color\",\"line_alpha\",\"label\"],\"data\":{\"chart_index\":[\"(58.696335, 59.691099]\"],\"color\":[\"#f22c40\"],\"fill_alpha\":[0.8],\"height\":[0.0],\"label\":[\"(58.696335, 59.691099]\"],\"line_alpha\":[1.0],\"line_color\":[\"black\"],\"width\":[0.9947643979057617],\"x\":[\"59.193717\"],\"y\":[0.0]}},\"id\":\"7466d01c-eed3-4a90-8e03-d8a7b0042163\",\"type\":\"ColumnDataSource\"},{\"attributes\":{\"data_source\":{\"id\":\"7466d01c-eed3-4a90-8e03-d8a7b0042163\",\"type\":\"ColumnDataSource\"},\"glyph\":{\"id\":\"e356245f-798d-459f-bd8f-834aafb0040d\",\"type\":\"Rect\"},\"hover_glyph\":null,\"muted_glyph\":null},\"id\":\"3f89e881-a8b2-4542-ad31-6d5efea86ec5\",\"type\":\"GlyphRenderer\"},{\"attributes\":{\"data_source\":{\"id\":\"e573ce25-56e0-4327-a84b-1e432d9649c0\",\"type\":\"ColumnDataSource\"},\"glyph\":{\"id\":\"d068eb7e-e126-4738-afc2-c4f4c04c913d\",\"type\":\"Rect\"},\"hover_glyph\":null,\"muted_glyph\":null},\"id\":\"e90592a9-5309-4b45-8b83-f0c8ef781a95\",\"type\":\"GlyphRenderer\"},{\"attributes\":{\"fill_alpha\":{\"field\":\"fill_alpha\"},\"fill_color\":{\"field\":\"color\"},\"height\":{\"field\":\"height\",\"units\":\"data\"},\"line_color\":{\"field\":\"line_color\"},\"width\":{\"field\":\"width\",\"units\":\"data\"},\"x\":{\"field\":\"x\"},\"y\":{\"field\":\"y\"}},\"id\":\"d068eb7e-e126-4738-afc2-c4f4c04c913d\",\"type\":\"Rect\"},{\"attributes\":{\"data_source\":{\"id\":\"e7e8c7ef-6d02-43d2-9ab8-498f7a4e6396\",\"type\":\"ColumnDataSource\"},\"glyph\":{\"id\":\"ad96709f-60ff-4540-95b8-345e87d94588\",\"type\":\"Rect\"},\"hover_glyph\":null,\"muted_glyph\":null},\"id\":\"c5614726-f09c-4268-bf2b-8bbbafe3b02b\",\"type\":\"GlyphRenderer\"},{\"attributes\":{\"fill_alpha\":{\"field\":\"fill_alpha\"},\"fill_color\":{\"field\":\"color\"},\"height\":{\"field\":\"height\",\"units\":\"data\"},\"line_color\":{\"field\":\"line_color\"},\"width\":{\"field\":\"width\",\"units\":\"data\"},\"x\":{\"field\":\"x\"},\"y\":{\"field\":\"y\"}},\"id\":\"950dff48-e35b-4ebf-bd95-eaef9a0ff5c7\",\"type\":\"Rect\"},{\"attributes\":{\"fill_alpha\":{\"field\":\"fill_alpha\"},\"fill_color\":{\"field\":\"color\"},\"height\":{\"field\":\"height\",\"units\":\"data\"},\"line_color\":{\"field\":\"line_color\"},\"width\":{\"field\":\"width\",\"units\":\"data\"},\"x\":{\"field\":\"x\"},\"y\":{\"field\":\"y\"}},\"id\":\"ea95d187-8547-4218-a8b3-462bfe1333f2\",\"type\":\"Rect\"},{\"attributes\":{\"data_source\":{\"id\":\"a74f26ce-8d0c-49a8-8607-710d20baf47f\",\"type\":\"ColumnDataSource\"},\"glyph\":{\"id\":\"61e107e0-8496-4ed9-8d7c-ee42e9edb77b\",\"type\":\"Rect\"},\"hover_glyph\":null,\"muted_glyph\":null},\"id\":\"fc45a0e7-8a25-4116-a2a9-a173166854a9\",\"type\":\"GlyphRenderer\"},{\"attributes\":{\"fill_alpha\":{\"field\":\"fill_alpha\"},\"fill_color\":{\"field\":\"color\"},\"height\":{\"field\":\"height\",\"units\":\"data\"},\"line_color\":{\"field\":\"line_color\"},\"width\":{\"field\":\"width\",\"units\":\"data\"},\"x\":{\"field\":\"x\"},\"y\":{\"field\":\"y\"}},\"id\":\"d25c1ca7-a3a1-4989-8a40-6a71d5e90cda\",\"type\":\"Rect\"},{\"attributes\":{\"data_source\":{\"id\":\"25f99d16-0c20-4c91-8b6b-fa4767f9a884\",\"type\":\"ColumnDataSource\"},\"glyph\":{\"id\":\"950dff48-e35b-4ebf-bd95-eaef9a0ff5c7\",\"type\":\"Rect\"},\"hover_glyph\":null,\"muted_glyph\":null},\"id\":\"926eb1aa-85db-4aa9-916d-cded79873396\",\"type\":\"GlyphRenderer\"},{\"attributes\":{\"data_source\":{\"id\":\"396a37d0-51e4-4303-8e72-ac35c88fc812\",\"type\":\"ColumnDataSource\"},\"glyph\":{\"id\":\"924b7474-688d-456e-82ed-0a5ceda1051a\",\"type\":\"Rect\"},\"hover_glyph\":null,\"muted_glyph\":null},\"id\":\"80d4353e-5f5c-4b6d-adb9-cb8b50cf8504\",\"type\":\"GlyphRenderer\"},{\"attributes\":{\"data_source\":{\"id\":\"61028d81-4533-4c4e-93e2-5902c84d0f17\",\"type\":\"ColumnDataSource\"},\"glyph\":{\"id\":\"f95ee752-c96e-465a-b9d4-1a77af6a080d\",\"type\":\"Rect\"},\"hover_glyph\":null,\"muted_glyph\":null},\"id\":\"c47ecaa7-1500-4476-9705-359212b953c5\",\"type\":\"GlyphRenderer\"},{\"attributes\":{\"data_source\":{\"id\":\"4fbc66ac-8420-4818-b6a1-652cd528a2aa\",\"type\":\"ColumnDataSource\"},\"glyph\":{\"id\":\"ea95d187-8547-4218-a8b3-462bfe1333f2\",\"type\":\"Rect\"},\"hover_glyph\":null,\"muted_glyph\":null},\"id\":\"09950ae8-45d6-415f-979c-56af85d9daae\",\"type\":\"GlyphRenderer\"},{\"attributes\":{\"callback\":null,\"column_names\":[\"x\",\"y\",\"width\",\"height\",\"color\",\"fill_alpha\",\"line_color\",\"line_alpha\",\"label\"],\"data\":{\"chart_index\":[\"(62.675393, 63.670157]\"],\"color\":[\"#f22c40\"],\"fill_alpha\":[0.8],\"height\":[0.0],\"label\":[\"(62.675393, 63.670157]\"],\"line_alpha\":[1.0],\"line_color\":[\"black\"],\"width\":[0.9947643979057545],\"x\":[\"63.172775\"],\"y\":[0.0]}},\"id\":\"4fbe886a-ce40-499e-bc29-bc27fb15ce29\",\"type\":\"ColumnDataSource\"},{\"attributes\":{\"callback\":null,\"column_names\":[\"x\",\"y\",\"width\",\"height\",\"color\",\"fill_alpha\",\"line_color\",\"line_alpha\",\"label\"],\"data\":{\"chart_index\":[\"(93.513089, 94.507853]\"],\"color\":[\"#f22c40\"],\"fill_alpha\":[0.8],\"height\":[0.0],\"label\":[\"(93.513089, 94.507853]\"],\"line_alpha\":[1.0],\"line_color\":[\"black\"],\"width\":[0.9947643979057545],\"x\":[\"94.010471\"],\"y\":[0.0]}},\"id\":\"4fbc66ac-8420-4818-b6a1-652cd528a2aa\",\"type\":\"ColumnDataSource\"},{\"attributes\":{\"callback\":null,\"column_names\":[\"x\",\"y\",\"width\",\"height\",\"color\",\"fill_alpha\",\"line_color\",\"line_alpha\",\"label\"],\"data\":{\"chart_index\":[\"(67.649215, 68.643979]\"],\"color\":[\"#f22c40\"],\"fill_alpha\":[0.8],\"height\":[0.0],\"label\":[\"(67.649215, 68.643979]\"],\"line_alpha\":[1.0],\"line_color\":[\"black\"],\"width\":[0.9947643979057545],\"x\":[\"68.146597\"],\"y\":[0.0]}},\"id\":\"7840e017-3e1c-4b81-9b79-acb39a06064e\",\"type\":\"ColumnDataSource\"},{\"attributes\":{\"fill_alpha\":{\"field\":\"fill_alpha\"},\"fill_color\":{\"field\":\"color\"},\"height\":{\"field\":\"height\",\"units\":\"data\"},\"line_color\":{\"field\":\"line_color\"},\"width\":{\"field\":\"width\",\"units\":\"data\"},\"x\":{\"field\":\"x\"},\"y\":{\"field\":\"y\"}},\"id\":\"911f426b-a34a-4b7d-be17-393debcf7f26\",\"type\":\"Rect\"},{\"attributes\":{\"callback\":null,\"column_names\":[\"x\",\"y\",\"width\",\"height\",\"color\",\"fill_alpha\",\"line_color\",\"line_alpha\",\"label\"],\"data\":{\"chart_index\":[\"(27.858639, 28.853403]\"],\"color\":[\"#f22c40\"],\"fill_alpha\":[0.8],\"height\":[3.0],\"label\":[\"(27.858639, 28.853403]\"],\"line_alpha\":[1.0],\"line_color\":[\"black\"],\"width\":[0.9947643979057617],\"x\":[\"28.356021\"],\"y\":[1.5]}},\"id\":\"c004a1f9-0479-47d7-8427-53b1ce6cefb3\",\"type\":\"ColumnDataSource\"},{\"attributes\":{\"callback\":null,\"column_names\":[\"x\",\"y\",\"width\",\"height\",\"color\",\"fill_alpha\",\"line_color\",\"line_alpha\",\"label\"],\"data\":{\"chart_index\":[\"(94.507853, 95.502618]\"],\"color\":[\"#f22c40\"],\"fill_alpha\":[0.8],\"height\":[0.0],\"label\":[\"(94.507853, 95.502618]\"],\"line_alpha\":[1.0],\"line_color\":[\"black\"],\"width\":[0.9947643979057545],\"x\":[\"95.0052355\"],\"y\":[0.0]}},\"id\":\"6939c22c-4ea2-4be1-b290-6490c87f4689\",\"type\":\"ColumnDataSource\"},{\"attributes\":{\"fill_alpha\":{\"field\":\"fill_alpha\"},\"fill_color\":{\"field\":\"color\"},\"height\":{\"field\":\"height\",\"units\":\"data\"},\"line_color\":{\"field\":\"line_color\"},\"width\":{\"field\":\"width\",\"units\":\"data\"},\"x\":{\"field\":\"x\"},\"y\":{\"field\":\"y\"}},\"id\":\"41fc5ebc-2f7f-41b8-941e-c3e09caba199\",\"type\":\"Rect\"},{\"attributes\":{\"fill_alpha\":{\"field\":\"fill_alpha\"},\"fill_color\":{\"field\":\"color\"},\"height\":{\"field\":\"height\",\"units\":\"data\"},\"line_color\":{\"field\":\"line_color\"},\"width\":{\"field\":\"width\",\"units\":\"data\"},\"x\":{\"field\":\"x\"},\"y\":{\"field\":\"y\"}},\"id\":\"40b2d488-b0d0-43b6-bd20-85fbc6352f4c\",\"type\":\"Rect\"},{\"attributes\":{\"fill_alpha\":{\"field\":\"fill_alpha\"},\"fill_color\":{\"field\":\"color\"},\"height\":{\"field\":\"height\",\"units\":\"data\"},\"line_color\":{\"field\":\"line_color\"},\"width\":{\"field\":\"width\",\"units\":\"data\"},\"x\":{\"field\":\"x\"},\"y\":{\"field\":\"y\"}},\"id\":\"429adbc4-82b7-4856-8ff0-1fc658142aaa\",\"type\":\"Rect\"},{\"attributes\":{\"fill_alpha\":{\"field\":\"fill_alpha\"},\"fill_color\":{\"field\":\"color\"},\"height\":{\"field\":\"height\",\"units\":\"data\"},\"line_color\":{\"field\":\"line_color\"},\"width\":{\"field\":\"width\",\"units\":\"data\"},\"x\":{\"field\":\"x\"},\"y\":{\"field\":\"y\"}},\"id\":\"d0ce381c-68c3-4c3e-bca2-117b1b8611f2\",\"type\":\"Rect\"},{\"attributes\":{\"callback\":null,\"column_names\":[\"x\",\"y\",\"width\",\"height\",\"color\",\"fill_alpha\",\"line_color\",\"line_alpha\",\"label\"],\"data\":{\"chart_index\":[\"(26.863874, 27.858639]\"],\"color\":[\"#f22c40\"],\"fill_alpha\":[0.8],\"height\":[0.0],\"label\":[\"(26.863874, 27.858639]\"],\"line_alpha\":[1.0],\"line_color\":[\"black\"],\"width\":[0.9947643979057581],\"x\":[\"27.3612565\"],\"y\":[0.0]}},\"id\":\"fce772b7-9af3-41aa-b8a4-e86361fb9602\",\"type\":\"ColumnDataSource\"},{\"attributes\":{\"callback\":null,\"column_names\":[\"x\",\"y\",\"width\",\"height\",\"color\",\"fill_alpha\",\"line_color\",\"line_alpha\",\"label\"],\"data\":{\"chart_index\":[\"(127.335079, 128.329843]\"],\"color\":[\"#f22c40\"],\"fill_alpha\":[0.8],\"height\":[0.0],\"label\":[\"(127.335079, 128.329843]\"],\"line_alpha\":[1.0],\"line_color\":[\"black\"],\"width\":[0.9947643979057545],\"x\":[\"127.832461\"],\"y\":[0.0]}},\"id\":\"cc3294dd-d155-43fd-9012-ade03b11dab4\",\"type\":\"ColumnDataSource\"},{\"attributes\":{\"fill_alpha\":{\"field\":\"fill_alpha\"},\"fill_color\":{\"field\":\"color\"},\"height\":{\"field\":\"height\",\"units\":\"data\"},\"line_color\":{\"field\":\"line_color\"},\"width\":{\"field\":\"width\",\"units\":\"data\"},\"x\":{\"field\":\"x\"},\"y\":{\"field\":\"y\"}},\"id\":\"8939780a-34b2-498d-b9bb-2b5830227c66\",\"type\":\"Rect\"},{\"attributes\":{\"callback\":null,\"column_names\":[\"x\",\"y\",\"width\",\"height\",\"color\",\"fill_alpha\",\"line_color\",\"line_alpha\",\"label\"],\"data\":{\"chart_index\":[\"(161.157068, 162.151832]\"],\"color\":[\"#f22c40\"],\"fill_alpha\":[0.8],\"height\":[0.0],\"label\":[\"(161.157068, 162.151832]\"],\"line_alpha\":[1.0],\"line_color\":[\"black\"],\"width\":[0.994764397905783],\"x\":[\"161.65445\"],\"y\":[0.0]}},\"id\":\"51190591-3647-47ba-809f-982992d8cb05\",\"type\":\"ColumnDataSource\"},{\"attributes\":{\"data_source\":{\"id\":\"fce772b7-9af3-41aa-b8a4-e86361fb9602\",\"type\":\"ColumnDataSource\"},\"glyph\":{\"id\":\"4bdf1dde-a8ea-463e-bf6e-e7e366c38ded\",\"type\":\"Rect\"},\"hover_glyph\":null,\"muted_glyph\":null},\"id\":\"0831f8c8-421d-4e11-a92d-b8b3caa6496f\",\"type\":\"GlyphRenderer\"},{\"attributes\":{\"callback\":null,\"column_names\":[\"x\",\"y\",\"width\",\"height\",\"color\",\"fill_alpha\",\"line_color\",\"line_alpha\",\"label\"],\"data\":{\"chart_index\":[\"(126.340314, 127.335079]\"],\"color\":[\"#f22c40\"],\"fill_alpha\":[0.8],\"height\":[0.0],\"label\":[\"(126.340314, 127.335079]\"],\"line_alpha\":[1.0],\"line_color\":[\"black\"],\"width\":[0.9947643979057688],\"x\":[\"126.83769649999999\"],\"y\":[0.0]}},\"id\":\"abd66b3b-5be2-46f1-a7e7-e3c94fe31393\",\"type\":\"ColumnDataSource\"},{\"attributes\":{\"data_source\":{\"id\":\"abd66b3b-5be2-46f1-a7e7-e3c94fe31393\",\"type\":\"ColumnDataSource\"},\"glyph\":{\"id\":\"d6db228c-68ba-4940-9d81-a6d52c441724\",\"type\":\"Rect\"},\"hover_glyph\":null,\"muted_glyph\":null},\"id\":\"7f6abae4-5244-4c71-8f73-c512a0940693\",\"type\":\"GlyphRenderer\"},{\"attributes\":{\"fill_alpha\":{\"field\":\"fill_alpha\"},\"fill_color\":{\"field\":\"color\"},\"height\":{\"field\":\"height\",\"units\":\"data\"},\"line_color\":{\"field\":\"line_color\"},\"width\":{\"field\":\"width\",\"units\":\"data\"},\"x\":{\"field\":\"x\"},\"y\":{\"field\":\"y\"}},\"id\":\"021d539e-3ac1-4c89-94f4-945d88987b10\",\"type\":\"Rect\"},{\"attributes\":{\"callback\":null,\"column_names\":[\"x\",\"y\",\"width\",\"height\",\"color\",\"fill_alpha\",\"line_color\",\"line_alpha\",\"label\"],\"data\":{\"chart_index\":[\"(28.853403, 29.848168]\"],\"color\":[\"#f22c40\"],\"fill_alpha\":[0.8],\"height\":[2.0],\"label\":[\"(28.853403, 29.848168]\"],\"line_alpha\":[1.0],\"line_color\":[\"black\"],\"width\":[0.9947643979057581],\"x\":[\"29.3507855\"],\"y\":[1.0]}},\"id\":\"81c64106-5013-4b18-8bf8-1e97a42ac66d\",\"type\":\"ColumnDataSource\"},{\"attributes\":{\"fill_alpha\":{\"field\":\"fill_alpha\"},\"fill_color\":{\"field\":\"color\"},\"height\":{\"field\":\"height\",\"units\":\"data\"},\"line_color\":{\"field\":\"line_color\"},\"width\":{\"field\":\"width\",\"units\":\"data\"},\"x\":{\"field\":\"x\"},\"y\":{\"field\":\"y\"}},\"id\":\"c1be248e-8d87-414a-9675-3490dc6850d8\",\"type\":\"Rect\"},{\"attributes\":{\"callback\":null,\"column_names\":[\"x\",\"y\",\"width\",\"height\",\"color\",\"fill_alpha\",\"line_color\",\"line_alpha\",\"label\"],\"data\":{\"chart_index\":[\"(128.329843, 129.324607]\"],\"color\":[\"#f22c40\"],\"fill_alpha\":[0.8],\"height\":[0.0],\"label\":[\"(128.329843, 129.324607]\"],\"line_alpha\":[1.0],\"line_color\":[\"black\"],\"width\":[0.9947643979057545],\"x\":[\"128.827225\"],\"y\":[0.0]}},\"id\":\"e8398aae-5a3e-4a45-8b55-1e0c5d9ddf6f\",\"type\":\"ColumnDataSource\"},{\"attributes\":{\"fill_alpha\":{\"field\":\"fill_alpha\"},\"fill_color\":{\"field\":\"color\"},\"height\":{\"field\":\"height\",\"units\":\"data\"},\"line_color\":{\"field\":\"line_color\"},\"width\":{\"field\":\"width\",\"units\":\"data\"},\"x\":{\"field\":\"x\"},\"y\":{\"field\":\"y\"}},\"id\":\"fdc9c8b3-6daf-4abf-92a0-e1bdf2a5749f\",\"type\":\"Rect\"},{\"attributes\":{\"data_source\":{\"id\":\"6939c22c-4ea2-4be1-b290-6490c87f4689\",\"type\":\"ColumnDataSource\"},\"glyph\":{\"id\":\"40b2d488-b0d0-43b6-bd20-85fbc6352f4c\",\"type\":\"Rect\"},\"hover_glyph\":null,\"muted_glyph\":null},\"id\":\"7e63ef00-e939-4301-bbbe-9816cbf784b6\",\"type\":\"GlyphRenderer\"},{\"attributes\":{\"data_source\":{\"id\":\"38ac0d45-f7b5-453f-90de-ea9f90f387de\",\"type\":\"ColumnDataSource\"},\"glyph\":{\"id\":\"c14bbbb8-867c-486e-b388-a701069d37f4\",\"type\":\"Rect\"},\"hover_glyph\":null,\"muted_glyph\":null},\"id\":\"a9f77549-7dbe-4ec2-b361-de6fb5447b66\",\"type\":\"GlyphRenderer\"},{\"attributes\":{\"callback\":null,\"column_names\":[\"x\",\"y\",\"width\",\"height\",\"color\",\"fill_alpha\",\"line_color\",\"line_alpha\",\"label\"],\"data\":{\"chart_index\":[\"(132.308901, 133.303665]\"],\"color\":[\"#f22c40\"],\"fill_alpha\":[0.8],\"height\":[0.0],\"label\":[\"(132.308901, 133.303665]\"],\"line_alpha\":[1.0],\"line_color\":[\"black\"],\"width\":[0.9947643979057545],\"x\":[\"132.806283\"],\"y\":[0.0]}},\"id\":\"d220d3a9-f283-46fa-be25-4d9f32bf5d93\",\"type\":\"ColumnDataSource\"},{\"attributes\":{\"callback\":null,\"column_names\":[\"x\",\"y\",\"width\",\"height\",\"color\",\"fill_alpha\",\"line_color\",\"line_alpha\",\"label\"],\"data\":{\"chart_index\":[\"(30.842932, 31.837696]\"],\"color\":[\"#f22c40\"],\"fill_alpha\":[0.8],\"height\":[2.0],\"label\":[\"(30.842932, 31.837696]\"],\"line_alpha\":[1.0],\"line_color\":[\"black\"],\"width\":[0.9947643979057617],\"x\":[\"31.340314\"],\"y\":[1.0]}},\"id\":\"2649d50b-b5b4-4bf8-9b07-81f542d4c012\",\"type\":\"ColumnDataSource\"},{\"attributes\":{\"data_source\":{\"id\":\"c004a1f9-0479-47d7-8427-53b1ce6cefb3\",\"type\":\"ColumnDataSource\"},\"glyph\":{\"id\":\"8939780a-34b2-498d-b9bb-2b5830227c66\",\"type\":\"Rect\"},\"hover_glyph\":null,\"muted_glyph\":null},\"id\":\"de41f868-8f13-4be3-ab66-10984f756c05\",\"type\":\"GlyphRenderer\"},{\"attributes\":{\"data_source\":{\"id\":\"cc3294dd-d155-43fd-9012-ade03b11dab4\",\"type\":\"ColumnDataSource\"},\"glyph\":{\"id\":\"41fc5ebc-2f7f-41b8-941e-c3e09caba199\",\"type\":\"Rect\"},\"hover_glyph\":null,\"muted_glyph\":null},\"id\":\"10e40929-7871-4fcf-9e26-e9b6d6750d9d\",\"type\":\"GlyphRenderer\"},{\"attributes\":{\"fill_alpha\":{\"field\":\"fill_alpha\"},\"fill_color\":{\"field\":\"color\"},\"height\":{\"field\":\"height\",\"units\":\"data\"},\"line_color\":{\"field\":\"line_color\"},\"width\":{\"field\":\"width\",\"units\":\"data\"},\"x\":{\"field\":\"x\"},\"y\":{\"field\":\"y\"}},\"id\":\"fabe1bdc-5be3-492b-a411-0afb97a87a2a\",\"type\":\"Rect\"},{\"attributes\":{\"fill_alpha\":{\"field\":\"fill_alpha\"},\"fill_color\":{\"field\":\"color\"},\"height\":{\"field\":\"height\",\"units\":\"data\"},\"line_color\":{\"field\":\"line_color\"},\"width\":{\"field\":\"width\",\"units\":\"data\"},\"x\":{\"field\":\"x\"},\"y\":{\"field\":\"y\"}},\"id\":\"b66db094-1398-495b-834e-a20ffc24d666\",\"type\":\"Rect\"},{\"attributes\":{\"fill_alpha\":{\"field\":\"fill_alpha\"},\"fill_color\":{\"field\":\"color\"},\"height\":{\"field\":\"height\",\"units\":\"data\"},\"line_color\":{\"field\":\"line_color\"},\"width\":{\"field\":\"width\",\"units\":\"data\"},\"x\":{\"field\":\"x\"},\"y\":{\"field\":\"y\"}},\"id\":\"97ddccb2-f451-4828-b6e9-909fdc43dea7\",\"type\":\"Rect\"},{\"attributes\":{\"callback\":null,\"column_names\":[\"x\",\"y\",\"width\",\"height\",\"color\",\"fill_alpha\",\"line_color\",\"line_alpha\",\"label\"],\"data\":{\"chart_index\":[\"(97.492147, 98.486911]\"],\"color\":[\"#f22c40\"],\"fill_alpha\":[0.8],\"height\":[0.0],\"label\":[\"(97.492147, 98.486911]\"],\"line_alpha\":[1.0],\"line_color\":[\"black\"],\"width\":[0.9947643979057545],\"x\":[\"97.989529\"],\"y\":[0.0]}},\"id\":\"75026e0e-74d2-46b4-9859-37bddb172310\",\"type\":\"ColumnDataSource\"},{\"attributes\":{\"fill_alpha\":{\"field\":\"fill_alpha\"},\"fill_color\":{\"field\":\"color\"},\"height\":{\"field\":\"height\",\"units\":\"data\"},\"line_color\":{\"field\":\"line_color\"},\"width\":{\"field\":\"width\",\"units\":\"data\"},\"x\":{\"field\":\"x\"},\"y\":{\"field\":\"y\"}},\"id\":\"1773e3f4-1b5c-456e-9e82-937a98d84c81\",\"type\":\"Rect\"},{\"attributes\":{\"data_source\":{\"id\":\"d220d3a9-f283-46fa-be25-4d9f32bf5d93\",\"type\":\"ColumnDataSource\"},\"glyph\":{\"id\":\"0c1dd333-1625-41af-9159-562553b5911f\",\"type\":\"Rect\"},\"hover_glyph\":null,\"muted_glyph\":null},\"id\":\"34835234-95e0-49b4-a022-3f921874db9e\",\"type\":\"GlyphRenderer\"},{\"attributes\":{\"fill_alpha\":{\"field\":\"fill_alpha\"},\"fill_color\":{\"field\":\"color\"},\"height\":{\"field\":\"height\",\"units\":\"data\"},\"line_color\":{\"field\":\"line_color\"},\"width\":{\"field\":\"width\",\"units\":\"data\"},\"x\":{\"field\":\"x\"},\"y\":{\"field\":\"y\"}},\"id\":\"f94dbe6a-6f89-4916-9061-0186323071bf\",\"type\":\"Rect\"},{\"attributes\":{\"callback\":null,\"column_names\":[\"x\",\"y\",\"width\",\"height\",\"color\",\"fill_alpha\",\"line_color\",\"line_alpha\",\"label\"],\"data\":{\"chart_index\":[\"(38.801047, 39.795812]\"],\"color\":[\"#f22c40\"],\"fill_alpha\":[0.8],\"height\":[0.0],\"label\":[\"(38.801047, 39.795812]\"],\"line_alpha\":[1.0],\"line_color\":[\"black\"],\"width\":[0.9947643979057617],\"x\":[\"39.2984295\"],\"y\":[0.0]}},\"id\":\"9aaffd26-d5d2-4b70-842d-c47a4ea94296\",\"type\":\"ColumnDataSource\"},{\"attributes\":{\"callback\":null,\"column_names\":[\"x\",\"y\",\"width\",\"height\",\"color\",\"fill_alpha\",\"line_color\",\"line_alpha\",\"label\"],\"data\":{\"chart_index\":[\"(103.460733, 104.455497]\"],\"color\":[\"#f22c40\"],\"fill_alpha\":[0.8],\"height\":[0.0],\"label\":[\"(103.460733, 104.455497]\"],\"line_alpha\":[1.0],\"line_color\":[\"black\"],\"width\":[0.9947643979057545],\"x\":[\"103.95811499999999\"],\"y\":[0.0]}},\"id\":\"396a37d0-51e4-4303-8e72-ac35c88fc812\",\"type\":\"ColumnDataSource\"},{\"attributes\":{\"data_source\":{\"id\":\"4d66217f-5687-4adf-a81d-dcf63ae93d58\",\"type\":\"ColumnDataSource\"},\"glyph\":{\"id\":\"b66db094-1398-495b-834e-a20ffc24d666\",\"type\":\"Rect\"},\"hover_glyph\":null,\"muted_glyph\":null},\"id\":\"3d422c39-30b0-41f1-a338-884e78f98223\",\"type\":\"GlyphRenderer\"},{\"attributes\":{\"data_source\":{\"id\":\"2649d50b-b5b4-4bf8-9b07-81f542d4c012\",\"type\":\"ColumnDataSource\"},\"glyph\":{\"id\":\"fabe1bdc-5be3-492b-a411-0afb97a87a2a\",\"type\":\"Rect\"},\"hover_glyph\":null,\"muted_glyph\":null},\"id\":\"8f01fed5-b0a6-494e-ad17-92d7a589890b\",\"type\":\"GlyphRenderer\"},{\"attributes\":{\"data_source\":{\"id\":\"75026e0e-74d2-46b4-9859-37bddb172310\",\"type\":\"ColumnDataSource\"},\"glyph\":{\"id\":\"d0ce381c-68c3-4c3e-bca2-117b1b8611f2\",\"type\":\"Rect\"},\"hover_glyph\":null,\"muted_glyph\":null},\"id\":\"28637683-088d-451d-a09e-ed5f93e3d385\",\"type\":\"GlyphRenderer\"},{\"attributes\":{\"data_source\":{\"id\":\"81c64106-5013-4b18-8bf8-1e97a42ac66d\",\"type\":\"ColumnDataSource\"},\"glyph\":{\"id\":\"021d539e-3ac1-4c89-94f4-945d88987b10\",\"type\":\"Rect\"},\"hover_glyph\":null,\"muted_glyph\":null},\"id\":\"a3984c43-edc1-4b94-b87c-c1845f5c5b72\",\"type\":\"GlyphRenderer\"},{\"attributes\":{\"data_source\":{\"id\":\"e8398aae-5a3e-4a45-8b55-1e0c5d9ddf6f\",\"type\":\"ColumnDataSource\"},\"glyph\":{\"id\":\"c1be248e-8d87-414a-9675-3490dc6850d8\",\"type\":\"Rect\"},\"hover_glyph\":null,\"muted_glyph\":null},\"id\":\"055191c9-2374-463e-8cf5-b24f74a20fbd\",\"type\":\"GlyphRenderer\"},{\"attributes\":{\"callback\":null,\"column_names\":[\"x\",\"y\",\"width\",\"height\",\"color\",\"fill_alpha\",\"line_color\",\"line_alpha\",\"label\"],\"data\":{\"chart_index\":[\"(162.151832, 163.146597]\"],\"color\":[\"#f22c40\"],\"fill_alpha\":[0.8],\"height\":[0.0],\"label\":[\"(162.151832, 163.146597]\"],\"line_alpha\":[1.0],\"line_color\":[\"black\"],\"width\":[0.9947643979057545],\"x\":[\"162.64921450000003\"],\"y\":[0.0]}},\"id\":\"a67b4f54-e431-4740-8046-60934d6c44b8\",\"type\":\"ColumnDataSource\"},{\"attributes\":{\"callback\":null,\"column_names\":[\"x\",\"y\",\"width\",\"height\",\"color\",\"fill_alpha\",\"line_color\",\"line_alpha\",\"label\"],\"data\":{\"chart_index\":[\"(163.146597, 164.141361]\"],\"color\":[\"#f22c40\"],\"fill_alpha\":[0.8],\"height\":[0.0],\"label\":[\"(163.146597, 164.141361]\"],\"line_alpha\":[1.0],\"line_color\":[\"black\"],\"width\":[0.9947643979057545],\"x\":[\"163.643979\"],\"y\":[0.0]}},\"id\":\"fbdbb71a-ec5f-4ae4-9db8-ea24111c9a9d\",\"type\":\"ColumnDataSource\"},{\"attributes\":{\"fill_alpha\":{\"field\":\"fill_alpha\"},\"fill_color\":{\"field\":\"color\"},\"height\":{\"field\":\"height\",\"units\":\"data\"},\"line_color\":{\"field\":\"line_color\"},\"width\":{\"field\":\"width\",\"units\":\"data\"},\"x\":{\"field\":\"x\"},\"y\":{\"field\":\"y\"}},\"id\":\"b8fe4c20-e22a-420d-8246-dc76027ff235\",\"type\":\"Rect\"},{\"attributes\":{\"data_source\":{\"id\":\"a67b4f54-e431-4740-8046-60934d6c44b8\",\"type\":\"ColumnDataSource\"},\"glyph\":{\"id\":\"7fc13cb2-ffcb-43de-a556-4c061d5e810f\",\"type\":\"Rect\"},\"hover_glyph\":null,\"muted_glyph\":null},\"id\":\"5d70a82b-dc46-4d74-b9b4-ac4677880e08\",\"type\":\"GlyphRenderer\"},{\"attributes\":{},\"id\":\"be1b0b5f-2e82-4159-a430-a35892fed906\",\"type\":\"BasicTicker\"},{\"attributes\":{\"fill_alpha\":{\"field\":\"fill_alpha\"},\"fill_color\":{\"field\":\"color\"},\"height\":{\"field\":\"height\",\"units\":\"data\"},\"line_color\":{\"field\":\"line_color\"},\"width\":{\"field\":\"width\",\"units\":\"data\"},\"x\":{\"field\":\"x\"},\"y\":{\"field\":\"y\"}},\"id\":\"adca4d7a-bb61-4c31-9fc2-0564d4ebce64\",\"type\":\"Rect\"},{\"attributes\":{},\"id\":\"5d2ed1cb-f0ef-449f-afb6-2ffa3e8b4912\",\"type\":\"BasicTickFormatter\"},{\"attributes\":{\"callback\":null,\"column_names\":[\"x\",\"y\",\"width\",\"height\",\"color\",\"fill_alpha\",\"line_color\",\"line_alpha\",\"label\"],\"data\":{\"chart_index\":[\"(164.141361, 165.136126]\"],\"color\":[\"#f22c40\"],\"fill_alpha\":[0.8],\"height\":[0.0],\"label\":[\"(164.141361, 165.136126]\"],\"line_alpha\":[1.0],\"line_color\":[\"black\"],\"width\":[0.9947643979057545],\"x\":[\"164.63874349999998\"],\"y\":[0.0]}},\"id\":\"a98ebb87-198d-4faa-96fd-acf1b02b3116\",\"type\":\"ColumnDataSource\"},{\"attributes\":{},\"id\":\"eb90885b-3b00-424b-b19c-757eefd94253\",\"type\":\"BasicTickFormatter\"},{\"attributes\":{\"fill_alpha\":{\"field\":\"fill_alpha\"},\"fill_color\":{\"field\":\"color\"},\"height\":{\"field\":\"height\",\"units\":\"data\"},\"line_color\":{\"field\":\"line_color\"},\"width\":{\"field\":\"width\",\"units\":\"data\"},\"x\":{\"field\":\"x\"},\"y\":{\"field\":\"y\"}},\"id\":\"c6ac8e53-e52b-4233-9cbb-664a0065345d\",\"type\":\"Rect\"},{\"attributes\":{\"fill_alpha\":{\"field\":\"fill_alpha\"},\"fill_color\":{\"field\":\"color\"},\"height\":{\"field\":\"height\",\"units\":\"data\"},\"line_color\":{\"field\":\"line_color\"},\"width\":{\"field\":\"width\",\"units\":\"data\"},\"x\":{\"field\":\"x\"},\"y\":{\"field\":\"y\"}},\"id\":\"ab033d3a-f4f0-4a07-a789-d2d0fadabe35\",\"type\":\"Rect\"},{\"attributes\":{\"data_source\":{\"id\":\"fbdbb71a-ec5f-4ae4-9db8-ea24111c9a9d\",\"type\":\"ColumnDataSource\"},\"glyph\":{\"id\":\"b8fe4c20-e22a-420d-8246-dc76027ff235\",\"type\":\"Rect\"},\"hover_glyph\":null,\"muted_glyph\":null},\"id\":\"fc8ed24c-83fb-49ff-bc77-314e3e8d9ccc\",\"type\":\"GlyphRenderer\"},{\"attributes\":{\"callback\":null,\"column_names\":[\"x\",\"y\",\"width\",\"height\",\"color\",\"fill_alpha\",\"line_color\",\"line_alpha\",\"label\"],\"data\":{\"chart_index\":[\"(175.083770, 176.078534]\"],\"color\":[\"#f22c40\"],\"fill_alpha\":[0.8],\"height\":[0.0],\"label\":[\"(175.083770, 176.078534]\"],\"line_alpha\":[1.0],\"line_color\":[\"black\"],\"width\":[0.9947643979057545],\"x\":[\"175.58115199999997\"],\"y\":[0.0]}},\"id\":\"b435c040-2224-41cd-9128-0bf293d6f8a8\",\"type\":\"ColumnDataSource\"},{\"attributes\":{\"callback\":null,\"column_names\":[\"x\",\"y\",\"width\",\"height\",\"color\",\"fill_alpha\",\"line_color\",\"line_alpha\",\"label\"],\"data\":{\"chart_index\":[\"[1.000000, 1.994764]\"],\"color\":[\"#f22c40\"],\"fill_alpha\":[0.8],\"height\":[2536.0],\"label\":[\"[1.000000, 1.994764]\"],\"line_alpha\":[1.0],\"line_color\":[\"black\"],\"width\":[0.9947643979057592],\"x\":[\"1.497382\"],\"y\":[1268.0]}},\"id\":\"a5e0eb80-61e1-46e4-a367-3db985dfae00\",\"type\":\"ColumnDataSource\"},{\"attributes\":{\"fill_alpha\":{\"field\":\"fill_alpha\"},\"fill_color\":{\"field\":\"color\"},\"height\":{\"field\":\"height\",\"units\":\"data\"},\"line_color\":{\"field\":\"line_color\"},\"width\":{\"field\":\"width\",\"units\":\"data\"},\"x\":{\"field\":\"x\"},\"y\":{\"field\":\"y\"}},\"id\":\"3d22f532-0be9-47cf-8d15-c6f614e670d4\",\"type\":\"Rect\"},{\"attributes\":{\"callback\":null,\"column_names\":[\"x\",\"y\",\"width\",\"height\",\"color\",\"fill_alpha\",\"line_color\",\"line_alpha\",\"label\"],\"data\":{\"chart_index\":[\"(1.994764, 2.989529]\"],\"color\":[\"#f22c40\"],\"fill_alpha\":[0.8],\"height\":[292.0],\"label\":[\"(1.994764, 2.989529]\"],\"line_alpha\":[1.0],\"line_color\":[\"black\"],\"width\":[0.9947643979057592],\"x\":[\"2.4921465\"],\"y\":[146.0]}},\"id\":\"b0dbeb79-632d-4a3f-8b06-1d14bb0c519b\",\"type\":\"ColumnDataSource\"},{\"attributes\":{\"data_source\":{\"id\":\"e8ca27d9-76a2-4190-9a06-412fbf57fbdc\",\"type\":\"ColumnDataSource\"},\"glyph\":{\"id\":\"1b9c9db5-35cb-4a66-9ce3-976d9b87586f\",\"type\":\"Rect\"},\"hover_glyph\":null,\"muted_glyph\":null},\"id\":\"73359938-3fb8-4ac0-8c25-cc52e6f6f267\",\"type\":\"GlyphRenderer\"},{\"attributes\":{\"data_source\":{\"id\":\"a98ebb87-198d-4faa-96fd-acf1b02b3116\",\"type\":\"ColumnDataSource\"},\"glyph\":{\"id\":\"adca4d7a-bb61-4c31-9fc2-0564d4ebce64\",\"type\":\"Rect\"},\"hover_glyph\":null,\"muted_glyph\":null},\"id\":\"2006a7bd-6ff4-4cc6-8a42-99541ec5776f\",\"type\":\"GlyphRenderer\"},{\"attributes\":{\"data_source\":{\"id\":\"a5e0eb80-61e1-46e4-a367-3db985dfae00\",\"type\":\"ColumnDataSource\"},\"glyph\":{\"id\":\"c6ac8e53-e52b-4233-9cbb-664a0065345d\",\"type\":\"Rect\"},\"hover_glyph\":null,\"muted_glyph\":null},\"id\":\"57716fa2-43eb-453f-9de5-6181212aaa94\",\"type\":\"GlyphRenderer\"},{\"attributes\":{\"callback\":null,\"column_names\":[\"x\",\"y\",\"width\",\"height\",\"color\",\"fill_alpha\",\"line_color\",\"line_alpha\",\"label\"],\"data\":{\"chart_index\":[\"(130.319372, 131.314136]\"],\"color\":[\"#f22c40\"],\"fill_alpha\":[0.8],\"height\":[0.0],\"label\":[\"(130.319372, 131.314136]\"],\"line_alpha\":[1.0],\"line_color\":[\"black\"],\"width\":[0.9947643979057545],\"x\":[\"130.816754\"],\"y\":[0.0]}},\"id\":\"a2ab857f-02df-483b-8165-9d669c09a448\",\"type\":\"ColumnDataSource\"},{\"attributes\":{\"fill_alpha\":{\"field\":\"fill_alpha\"},\"fill_color\":{\"field\":\"color\"},\"height\":{\"field\":\"height\",\"units\":\"data\"},\"line_color\":{\"field\":\"line_color\"},\"width\":{\"field\":\"width\",\"units\":\"data\"},\"x\":{\"field\":\"x\"},\"y\":{\"field\":\"y\"}},\"id\":\"559cf0d4-5fbd-470d-9204-692d99b67fb0\",\"type\":\"Rect\"},{\"attributes\":{\"fill_alpha\":{\"field\":\"fill_alpha\"},\"fill_color\":{\"field\":\"color\"},\"height\":{\"field\":\"height\",\"units\":\"data\"},\"line_color\":{\"field\":\"line_color\"},\"width\":{\"field\":\"width\",\"units\":\"data\"},\"x\":{\"field\":\"x\"},\"y\":{\"field\":\"y\"}},\"id\":\"13545307-6f5a-434b-bff5-a02daee63cd4\",\"type\":\"Rect\"},{\"attributes\":{\"fill_alpha\":{\"field\":\"fill_alpha\"},\"fill_color\":{\"field\":\"color\"},\"height\":{\"field\":\"height\",\"units\":\"data\"},\"line_color\":{\"field\":\"line_color\"},\"width\":{\"field\":\"width\",\"units\":\"data\"},\"x\":{\"field\":\"x\"},\"y\":{\"field\":\"y\"}},\"id\":\"3ed9d56d-bf7b-48cb-a47f-be648619b1f1\",\"type\":\"Rect\"},{\"attributes\":{\"fill_alpha\":{\"field\":\"fill_alpha\"},\"fill_color\":{\"field\":\"color\"},\"height\":{\"field\":\"height\",\"units\":\"data\"},\"line_color\":{\"field\":\"line_color\"},\"width\":{\"field\":\"width\",\"units\":\"data\"},\"x\":{\"field\":\"x\"},\"y\":{\"field\":\"y\"}},\"id\":\"d0d74924-0f8f-4558-9d18-2faa9c566acd\",\"type\":\"Rect\"},{\"attributes\":{\"callback\":null,\"column_names\":[\"x\",\"y\",\"width\",\"height\",\"color\",\"fill_alpha\",\"line_color\",\"line_alpha\",\"label\"],\"data\":{\"chart_index\":[\"(64.664921, 65.659686]\"],\"color\":[\"#f22c40\"],\"fill_alpha\":[0.8],\"height\":[0.0],\"label\":[\"(64.664921, 65.659686]\"],\"line_alpha\":[1.0],\"line_color\":[\"black\"],\"width\":[0.9947643979057545],\"x\":[\"65.16230350000001\"],\"y\":[0.0]}},\"id\":\"e2848e35-1d64-499c-93b2-3de9d31a6b97\",\"type\":\"ColumnDataSource\"},{\"attributes\":{\"data_source\":{\"id\":\"8fb7a3f0-06c7-45f8-8150-dfc1246f8537\",\"type\":\"ColumnDataSource\"},\"glyph\":{\"id\":\"429adbc4-82b7-4856-8ff0-1fc658142aaa\",\"type\":\"Rect\"},\"hover_glyph\":null,\"muted_glyph\":null},\"id\":\"4e2ee018-4ee1-4218-86bf-8e13083cd7da\",\"type\":\"GlyphRenderer\"},{\"attributes\":{\"callback\":null,\"column_names\":[\"x\",\"y\",\"width\",\"height\",\"color\",\"fill_alpha\",\"line_color\",\"line_alpha\",\"label\"],\"data\":{\"chart_index\":[\"(29.848168, 30.842932]\"],\"color\":[\"#f22c40\"],\"fill_alpha\":[0.8],\"height\":[3.0],\"label\":[\"(29.848168, 30.842932]\"],\"line_alpha\":[1.0],\"line_color\":[\"black\"],\"width\":[0.9947643979057581],\"x\":[\"30.345550000000003\"],\"y\":[1.5]}},\"id\":\"99a5dd09-a367-432e-8798-3ea2239ac37c\",\"type\":\"ColumnDataSource\"},{\"attributes\":{\"fill_alpha\":{\"field\":\"fill_alpha\"},\"fill_color\":{\"field\":\"color\"},\"height\":{\"field\":\"height\",\"units\":\"data\"},\"line_color\":{\"field\":\"line_color\"},\"width\":{\"field\":\"width\",\"units\":\"data\"},\"x\":{\"field\":\"x\"},\"y\":{\"field\":\"y\"}},\"id\":\"72c7c499-a7ac-42f9-9429-eefb785c60db\",\"type\":\"Rect\"},{\"attributes\":{\"callback\":null,\"column_names\":[\"x\",\"y\",\"width\",\"height\",\"color\",\"fill_alpha\",\"line_color\",\"line_alpha\",\"label\"],\"data\":{\"chart_index\":[\"(129.324607, 130.319372]\"],\"color\":[\"#f22c40\"],\"fill_alpha\":[0.8],\"height\":[0.0],\"label\":[\"(129.324607, 130.319372]\"],\"line_alpha\":[1.0],\"line_color\":[\"black\"],\"width\":[0.9947643979057545],\"x\":[\"129.82198949999997\"],\"y\":[0.0]}},\"id\":\"d7d86cd4-bebd-4521-bae1-59eb3aa1cfed\",\"type\":\"ColumnDataSource\"},{\"attributes\":{\"callback\":null,\"column_names\":[\"x\",\"y\",\"width\",\"height\",\"color\",\"fill_alpha\",\"line_color\",\"line_alpha\",\"label\"],\"data\":{\"chart_index\":[\"(63.670157, 64.664921]\"],\"color\":[\"#f22c40\"],\"fill_alpha\":[0.8],\"height\":[0.0],\"label\":[\"(63.670157, 64.664921]\"],\"line_alpha\":[1.0],\"line_color\":[\"black\"],\"width\":[0.9947643979057617],\"x\":[\"64.167539\"],\"y\":[0.0]}},\"id\":\"a37353af-d147-49a9-aa5d-7dfd9c14667a\",\"type\":\"ColumnDataSource\"},{\"attributes\":{\"data_source\":{\"id\":\"99a5dd09-a367-432e-8798-3ea2239ac37c\",\"type\":\"ColumnDataSource\"},\"glyph\":{\"id\":\"97ddccb2-f451-4828-b6e9-909fdc43dea7\",\"type\":\"Rect\"},\"hover_glyph\":null,\"muted_glyph\":null},\"id\":\"dd9906c9-79ce-422f-8db4-3dedb9fb7250\",\"type\":\"GlyphRenderer\"},{\"attributes\":{\"data_source\":{\"id\":\"d7d86cd4-bebd-4521-bae1-59eb3aa1cfed\",\"type\":\"ColumnDataSource\"},\"glyph\":{\"id\":\"1773e3f4-1b5c-456e-9e82-937a98d84c81\",\"type\":\"Rect\"},\"hover_glyph\":null,\"muted_glyph\":null},\"id\":\"4c4dd445-2ed2-4c36-8023-1a3caa0a821a\",\"type\":\"GlyphRenderer\"},{\"attributes\":{\"data_source\":{\"id\":\"57a62181-1480-4511-b927-224c74560561\",\"type\":\"ColumnDataSource\"},\"glyph\":{\"id\":\"85c1a4c4-d3bb-4464-af41-25b0f4d8e0f6\",\"type\":\"Rect\"},\"hover_glyph\":null,\"muted_glyph\":null},\"id\":\"94eac4d3-d58a-45c7-acbb-114b422f9b29\",\"type\":\"GlyphRenderer\"},{\"attributes\":{\"data_source\":{\"id\":\"a37353af-d147-49a9-aa5d-7dfd9c14667a\",\"type\":\"ColumnDataSource\"},\"glyph\":{\"id\":\"d0d74924-0f8f-4558-9d18-2faa9c566acd\",\"type\":\"Rect\"},\"hover_glyph\":null,\"muted_glyph\":null},\"id\":\"84bf9705-5230-49b7-8e05-b8b97f9bc034\",\"type\":\"GlyphRenderer\"},{\"attributes\":{\"fill_alpha\":{\"field\":\"fill_alpha\"},\"fill_color\":{\"field\":\"color\"},\"height\":{\"field\":\"height\",\"units\":\"data\"},\"line_color\":{\"field\":\"line_color\"},\"width\":{\"field\":\"width\",\"units\":\"data\"},\"x\":{\"field\":\"x\"},\"y\":{\"field\":\"y\"}},\"id\":\"a76c5e05-0785-48c1-81f4-beaeb291e86a\",\"type\":\"Rect\"},{\"attributes\":{\"data_source\":{\"id\":\"5d67ebc7-8bde-4d73-8ee0-3791f18c575e\",\"type\":\"ColumnDataSource\"},\"glyph\":{\"id\":\"a76c5e05-0785-48c1-81f4-beaeb291e86a\",\"type\":\"Rect\"},\"hover_glyph\":null,\"muted_glyph\":null},\"id\":\"fc270b6d-be1c-48c7-afa9-325b312d80cb\",\"type\":\"GlyphRenderer\"},{\"attributes\":{\"callback\":null,\"column_names\":[\"x\",\"y\",\"width\",\"height\",\"color\",\"fill_alpha\",\"line_color\",\"line_alpha\",\"label\"],\"data\":{\"chart_index\":[\"(32.832461, 33.827225]\"],\"color\":[\"#f22c40\"],\"fill_alpha\":[0.8],\"height\":[6.0],\"label\":[\"(32.832461, 33.827225]\"],\"line_alpha\":[1.0],\"line_color\":[\"black\"],\"width\":[0.9947643979057617],\"x\":[\"33.329843\"],\"y\":[3.0]}},\"id\":\"d34bba50-3977-40a1-9b40-71163b6dbbb5\",\"type\":\"ColumnDataSource\"},{\"attributes\":{\"callback\":null,\"column_names\":[\"x\",\"y\",\"width\",\"height\",\"color\",\"fill_alpha\",\"line_color\",\"line_alpha\",\"label\"],\"data\":{\"chart_index\":[\"(33.827225, 34.821990]\"],\"color\":[\"#f22c40\"],\"fill_alpha\":[0.8],\"height\":[3.0],\"label\":[\"(33.827225, 34.821990]\"],\"line_alpha\":[1.0],\"line_color\":[\"black\"],\"width\":[0.9947643979057545],\"x\":[\"34.3246075\"],\"y\":[1.5]}},\"id\":\"9fceb2f1-dab8-415c-aeab-07415cd8ee5e\",\"type\":\"ColumnDataSource\"},{\"attributes\":{\"data_source\":{\"id\":\"be992fc1-22bc-4fa3-8e85-69cf5784ce8a\",\"type\":\"ColumnDataSource\"},\"glyph\":{\"id\":\"9deedb82-ddcb-433d-a81b-5b851bcfe17d\",\"type\":\"Rect\"},\"hover_glyph\":null,\"muted_glyph\":null},\"id\":\"26efe69c-038d-4d6a-9cdc-a51780b4b251\",\"type\":\"GlyphRenderer\"},{\"attributes\":{\"callback\":null,\"column_names\":[\"x\",\"y\",\"width\",\"height\",\"color\",\"fill_alpha\",\"line_color\",\"line_alpha\",\"label\"],\"data\":{\"chart_index\":[\"(133.303665, 134.298429]\"],\"color\":[\"#f22c40\"],\"fill_alpha\":[0.8],\"height\":[0.0],\"label\":[\"(133.303665, 134.298429]\"],\"line_alpha\":[1.0],\"line_color\":[\"black\"],\"width\":[0.9947643979057545],\"x\":[\"133.80104699999998\"],\"y\":[0.0]}},\"id\":\"be992fc1-22bc-4fa3-8e85-69cf5784ce8a\",\"type\":\"ColumnDataSource\"},{\"attributes\":{\"callback\":null,\"column_names\":[\"x\",\"y\",\"width\",\"height\",\"color\",\"fill_alpha\",\"line_color\",\"line_alpha\",\"label\"],\"data\":{\"chart_index\":[\"(52.727749, 53.722513]\"],\"color\":[\"#f22c40\"],\"fill_alpha\":[0.8],\"height\":[8.0],\"label\":[\"(52.727749, 53.722513]\"],\"line_alpha\":[1.0],\"line_color\":[\"black\"],\"width\":[0.9947643979057617],\"x\":[\"53.225131000000005\"],\"y\":[4.0]}},\"id\":\"112c1e72-f75c-4a1c-aa2b-ce5915fba145\",\"type\":\"ColumnDataSource\"},{\"attributes\":{\"data_source\":{\"id\":\"a2ab857f-02df-483b-8165-9d669c09a448\",\"type\":\"ColumnDataSource\"},\"glyph\":{\"id\":\"3ed9d56d-bf7b-48cb-a47f-be648619b1f1\",\"type\":\"Rect\"},\"hover_glyph\":null,\"muted_glyph\":null},\"id\":\"1ade8712-f835-45ea-9a71-a39fa4e8bb7f\",\"type\":\"GlyphRenderer\"},{\"attributes\":{\"fill_alpha\":{\"field\":\"fill_alpha\"},\"fill_color\":{\"field\":\"color\"},\"height\":{\"field\":\"height\",\"units\":\"data\"},\"line_color\":{\"field\":\"line_color\"},\"width\":{\"field\":\"width\",\"units\":\"data\"},\"x\":{\"field\":\"x\"},\"y\":{\"field\":\"y\"}},\"id\":\"85c1a4c4-d3bb-4464-af41-25b0f4d8e0f6\",\"type\":\"Rect\"},{\"attributes\":{\"callback\":null,\"column_names\":[\"x\",\"y\",\"width\",\"height\",\"color\",\"fill_alpha\",\"line_color\",\"line_alpha\",\"label\"],\"data\":{\"chart_index\":[\"(134.298429, 135.293194]\"],\"color\":[\"#f22c40\"],\"fill_alpha\":[0.8],\"height\":[0.0],\"label\":[\"(134.298429, 135.293194]\"],\"line_alpha\":[1.0],\"line_color\":[\"black\"],\"width\":[0.9947643979057545],\"x\":[\"134.7958115\"],\"y\":[0.0]}},\"id\":\"690660c3-c119-4048-a97b-63d4cf8ba29a\",\"type\":\"ColumnDataSource\"},{\"attributes\":{\"data_source\":{\"id\":\"d34bba50-3977-40a1-9b40-71163b6dbbb5\",\"type\":\"ColumnDataSource\"},\"glyph\":{\"id\":\"13545307-6f5a-434b-bff5-a02daee63cd4\",\"type\":\"Rect\"},\"hover_glyph\":null,\"muted_glyph\":null},\"id\":\"e079771c-ead2-4963-8249-267a6c653cba\",\"type\":\"GlyphRenderer\"},{\"attributes\":{\"fill_alpha\":{\"field\":\"fill_alpha\"},\"fill_color\":{\"field\":\"color\"},\"height\":{\"field\":\"height\",\"units\":\"data\"},\"line_color\":{\"field\":\"line_color\"},\"width\":{\"field\":\"width\",\"units\":\"data\"},\"x\":{\"field\":\"x\"},\"y\":{\"field\":\"y\"}},\"id\":\"2a532539-fac0-4d3d-b5a0-5e6168468a65\",\"type\":\"Rect\"},{\"attributes\":{\"fill_alpha\":{\"field\":\"fill_alpha\"},\"fill_color\":{\"field\":\"color\"},\"height\":{\"field\":\"height\",\"units\":\"data\"},\"line_color\":{\"field\":\"line_color\"},\"width\":{\"field\":\"width\",\"units\":\"data\"},\"x\":{\"field\":\"x\"},\"y\":{\"field\":\"y\"}},\"id\":\"332e4cc8-6158-4030-93be-3465984e28d5\",\"type\":\"Rect\"},{\"attributes\":{\"data_source\":{\"id\":\"e2848e35-1d64-499c-93b2-3de9d31a6b97\",\"type\":\"ColumnDataSource\"},\"glyph\":{\"id\":\"559cf0d4-5fbd-470d-9204-692d99b67fb0\",\"type\":\"Rect\"},\"hover_glyph\":null,\"muted_glyph\":null},\"id\":\"5cab5082-08d6-4be8-9903-8a5a02145b90\",\"type\":\"GlyphRenderer\"},{\"attributes\":{\"fill_alpha\":{\"field\":\"fill_alpha\"},\"fill_color\":{\"field\":\"color\"},\"height\":{\"field\":\"height\",\"units\":\"data\"},\"line_color\":{\"field\":\"line_color\"},\"width\":{\"field\":\"width\",\"units\":\"data\"},\"x\":{\"field\":\"x\"},\"y\":{\"field\":\"y\"}},\"id\":\"859aaa83-20de-499e-bae1-6b69b53c8932\",\"type\":\"Rect\"},{\"attributes\":{\"fill_alpha\":{\"field\":\"fill_alpha\"},\"fill_color\":{\"field\":\"color\"},\"height\":{\"field\":\"height\",\"units\":\"data\"},\"line_color\":{\"field\":\"line_color\"},\"width\":{\"field\":\"width\",\"units\":\"data\"},\"x\":{\"field\":\"x\"},\"y\":{\"field\":\"y\"}},\"id\":\"8117968b-6f51-47d1-882a-6d19e0fb5946\",\"type\":\"Rect\"},{\"attributes\":{\"data_source\":{\"id\":\"7711c6a0-75bd-4fc2-916e-3cb0c1965f12\",\"type\":\"ColumnDataSource\"},\"glyph\":{\"id\":\"2789b48c-c1cd-4035-a616-51eb0dce55c6\",\"type\":\"Rect\"},\"hover_glyph\":null,\"muted_glyph\":null},\"id\":\"79c16688-8e2b-48b3-ab03-97314a5015ed\",\"type\":\"GlyphRenderer\"},{\"attributes\":{\"callback\":null,\"column_names\":[\"x\",\"y\",\"width\",\"height\",\"color\",\"fill_alpha\",\"line_color\",\"line_alpha\",\"label\"],\"data\":{\"chart_index\":[\"(65.659686, 66.654450]\"],\"color\":[\"#f22c40\"],\"fill_alpha\":[0.8],\"height\":[0.0],\"label\":[\"(65.659686, 66.654450]\"],\"line_alpha\":[1.0],\"line_color\":[\"black\"],\"width\":[0.9947643979057688],\"x\":[\"66.157068\"],\"y\":[0.0]}},\"id\":\"5d67ebc7-8bde-4d73-8ee0-3791f18c575e\",\"type\":\"ColumnDataSource\"},{\"attributes\":{\"callback\":null,\"column_names\":[\"x\",\"y\",\"width\",\"height\",\"color\",\"fill_alpha\",\"line_color\",\"line_alpha\",\"label\"],\"data\":{\"chart_index\":[\"(45.764398, 46.759162]\"],\"color\":[\"#f22c40\"],\"fill_alpha\":[0.8],\"height\":[0.0],\"label\":[\"(45.764398, 46.759162]\"],\"line_alpha\":[1.0],\"line_color\":[\"black\"],\"width\":[0.9947643979057545],\"x\":[\"46.26178\"],\"y\":[0.0]}},\"id\":\"061654ac-3199-401d-96f8-be544ea254e2\",\"type\":\"ColumnDataSource\"},{\"attributes\":{\"callback\":null,\"column_names\":[\"x\",\"y\",\"width\",\"height\",\"color\",\"fill_alpha\",\"line_color\",\"line_alpha\",\"label\"],\"data\":{\"chart_index\":[\"(66.654450, 67.649215]\"],\"color\":[\"#f22c40\"],\"fill_alpha\":[0.8],\"height\":[0.0],\"label\":[\"(66.654450, 67.649215]\"],\"line_alpha\":[1.0],\"line_color\":[\"black\"],\"width\":[0.9947643979057545],\"x\":[\"67.1518325\"],\"y\":[0.0]}},\"id\":\"57a62181-1480-4511-b927-224c74560561\",\"type\":\"ColumnDataSource\"},{\"attributes\":{\"data_source\":{\"id\":\"7840e017-3e1c-4b81-9b79-acb39a06064e\",\"type\":\"ColumnDataSource\"},\"glyph\":{\"id\":\"263bfafe-e219-4613-a738-8833cfdb500f\",\"type\":\"Rect\"},\"hover_glyph\":null,\"muted_glyph\":null},\"id\":\"f7bdf2ee-c8e8-45e6-9c83-486160a37536\",\"type\":\"GlyphRenderer\"},{\"attributes\":{\"data_source\":{\"id\":\"9fceb2f1-dab8-415c-aeab-07415cd8ee5e\",\"type\":\"ColumnDataSource\"},\"glyph\":{\"id\":\"72c7c499-a7ac-42f9-9429-eefb785c60db\",\"type\":\"Rect\"},\"hover_glyph\":null,\"muted_glyph\":null},\"id\":\"5de913a5-f4a4-44be-92ec-56be59e529ab\",\"type\":\"GlyphRenderer\"},{\"attributes\":{\"callback\":null,\"column_names\":[\"x\",\"y\",\"width\",\"height\",\"color\",\"fill_alpha\",\"line_color\",\"line_alpha\",\"label\"],\"data\":{\"chart_index\":[\"(99.481675, 100.476440]\"],\"color\":[\"#f22c40\"],\"fill_alpha\":[0.8],\"height\":[0.0],\"label\":[\"(99.481675, 100.476440]\"],\"line_alpha\":[1.0],\"line_color\":[\"black\"],\"width\":[0.9947643979057688],\"x\":[\"99.9790575\"],\"y\":[0.0]}},\"id\":\"9cb84c8e-51db-4f52-9b03-d210ba7ea881\",\"type\":\"ColumnDataSource\"},{\"attributes\":{\"fill_alpha\":{\"field\":\"fill_alpha\"},\"fill_color\":{\"field\":\"color\"},\"height\":{\"field\":\"height\",\"units\":\"data\"},\"line_color\":{\"field\":\"line_color\"},\"width\":{\"field\":\"width\",\"units\":\"data\"},\"x\":{\"field\":\"x\"},\"y\":{\"field\":\"y\"}},\"id\":\"6a654b2a-fce3-48f5-97cf-888bf1545417\",\"type\":\"Rect\"},{\"attributes\":{\"callback\":null,\"column_names\":[\"x\",\"y\",\"width\",\"height\",\"color\",\"fill_alpha\",\"line_color\",\"line_alpha\",\"label\"],\"data\":{\"chart_index\":[\"(165.136126, 166.130890]\"],\"color\":[\"#f22c40\"],\"fill_alpha\":[0.8],\"height\":[0.0],\"label\":[\"(165.136126, 166.130890]\"],\"line_alpha\":[1.0],\"line_color\":[\"black\"],\"width\":[0.9947643979057545],\"x\":[\"165.633508\"],\"y\":[0.0]}},\"id\":\"9822af4d-b95c-4269-a29e-29068b705155\",\"type\":\"ColumnDataSource\"},{\"attributes\":{\"fill_alpha\":{\"field\":\"fill_alpha\"},\"fill_color\":{\"field\":\"color\"},\"height\":{\"field\":\"height\",\"units\":\"data\"},\"line_color\":{\"field\":\"line_color\"},\"width\":{\"field\":\"width\",\"units\":\"data\"},\"x\":{\"field\":\"x\"},\"y\":{\"field\":\"y\"}},\"id\":\"2faf99fd-2c36-466a-a050-4ac64f4773c9\",\"type\":\"Rect\"},{\"attributes\":{\"callback\":null,\"column_names\":[\"x\",\"y\",\"width\",\"height\",\"color\",\"fill_alpha\",\"line_color\",\"line_alpha\",\"label\"],\"data\":{\"chart_index\":[\"(166.130890, 167.125654]\"],\"color\":[\"#f22c40\"],\"fill_alpha\":[0.8],\"height\":[0.0],\"label\":[\"(166.130890, 167.125654]\"],\"line_alpha\":[1.0],\"line_color\":[\"black\"],\"width\":[0.9947643979057545],\"x\":[\"166.62827199999998\"],\"y\":[0.0]}},\"id\":\"706b5634-6f80-4211-a3a9-36c1c4baaa93\",\"type\":\"ColumnDataSource\"},{\"attributes\":{\"fill_alpha\":{\"field\":\"fill_alpha\"},\"fill_color\":{\"field\":\"color\"},\"height\":{\"field\":\"height\",\"units\":\"data\"},\"line_color\":{\"field\":\"line_color\"},\"width\":{\"field\":\"width\",\"units\":\"data\"},\"x\":{\"field\":\"x\"},\"y\":{\"field\":\"y\"}},\"id\":\"9f4d0374-aedd-40d8-ad35-bf55ee8904e5\",\"type\":\"Rect\"},{\"attributes\":{\"plot\":{\"id\":\"26f21670-34ce-47ab-9fe3-3443f913aa5a\",\"subtype\":\"Chart\",\"type\":\"Plot\"}},\"id\":\"528fe7b6-9ee5-431a-95e2-e86b6f1b8562\",\"type\":\"HelpTool\"},{\"attributes\":{\"callback\":null,\"column_names\":[\"x\",\"y\",\"width\",\"height\",\"color\",\"fill_alpha\",\"line_color\",\"line_alpha\",\"label\"],\"data\":{\"chart_index\":[\"(46.759162, 47.753927]\"],\"color\":[\"#f22c40\"],\"fill_alpha\":[0.8],\"height\":[1.0],\"label\":[\"(46.759162, 47.753927]\"],\"line_alpha\":[1.0],\"line_color\":[\"black\"],\"width\":[0.9947643979057617],\"x\":[\"47.256544500000004\"],\"y\":[0.5]}},\"id\":\"b8e5b6b0-d711-44fd-8c20-8d2bbcfa6f45\",\"type\":\"ColumnDataSource\"},{\"attributes\":{\"plot\":{\"id\":\"26f21670-34ce-47ab-9fe3-3443f913aa5a\",\"subtype\":\"Chart\",\"type\":\"Plot\"}},\"id\":\"afcd95c3-266f-42af-9e8d-e9a79a843fc8\",\"type\":\"PanTool\"},{\"attributes\":{\"callback\":null,\"column_names\":[\"x\",\"y\",\"width\",\"height\",\"color\",\"fill_alpha\",\"line_color\",\"line_alpha\",\"label\"],\"data\":{\"chart_index\":[\"(135.293194, 136.287958]\"],\"color\":[\"#f22c40\"],\"fill_alpha\":[0.8],\"height\":[0.0],\"label\":[\"(135.293194, 136.287958]\"],\"line_alpha\":[1.0],\"line_color\":[\"black\"],\"width\":[0.9947643979057545],\"x\":[\"135.790576\"],\"y\":[0.0]}},\"id\":\"61da8ab1-003f-4408-ba63-c6032bc0bb61\",\"type\":\"ColumnDataSource\"},{\"attributes\":{\"callback\":null,\"column_names\":[\"x\",\"y\",\"width\",\"height\",\"color\",\"fill_alpha\",\"line_color\",\"line_alpha\",\"label\"],\"data\":{\"chart_index\":[\"(98.486911, 99.481675]\"],\"color\":[\"#f22c40\"],\"fill_alpha\":[0.8],\"height\":[0.0],\"label\":[\"(98.486911, 99.481675]\"],\"line_alpha\":[1.0],\"line_color\":[\"black\"],\"width\":[0.9947643979057545],\"x\":[\"98.98429300000001\"],\"y\":[0.0]}},\"id\":\"9a10d06a-a718-4f4c-b688-421eeb878412\",\"type\":\"ColumnDataSource\"},{\"attributes\":{\"overlay\":{\"id\":\"f79f5202-8542-439d-b509-7765bf14f1b4\",\"type\":\"BoxAnnotation\"},\"plot\":{\"id\":\"26f21670-34ce-47ab-9fe3-3443f913aa5a\",\"subtype\":\"Chart\",\"type\":\"Plot\"}},\"id\":\"d821546f-1473-4108-a25d-fd424b31eb53\",\"type\":\"BoxZoomTool\"},{\"attributes\":{\"callback\":null,\"column_names\":[\"x\",\"y\",\"width\",\"height\",\"color\",\"fill_alpha\",\"line_color\",\"line_alpha\",\"label\"],\"data\":{\"chart_index\":[\"(2.989529, 3.984293]\"],\"color\":[\"#f22c40\"],\"fill_alpha\":[0.8],\"height\":[350.0],\"label\":[\"(2.989529, 3.984293]\"],\"line_alpha\":[1.0],\"line_color\":[\"black\"],\"width\":[0.9947643979057594],\"x\":[\"3.486911\"],\"y\":[175.0]}},\"id\":\"38b3e8fc-a7c3-4bac-89e8-6c1008d5c784\",\"type\":\"ColumnDataSource\"},{\"attributes\":{\"fill_alpha\":{\"field\":\"fill_alpha\"},\"fill_color\":{\"field\":\"color\"},\"height\":{\"field\":\"height\",\"units\":\"data\"},\"line_color\":{\"field\":\"line_color\"},\"width\":{\"field\":\"width\",\"units\":\"data\"},\"x\":{\"field\":\"x\"},\"y\":{\"field\":\"y\"}},\"id\":\"9a2bce39-d6f5-436d-acf2-40dda48982de\",\"type\":\"Rect\"},{\"attributes\":{\"data_source\":{\"id\":\"690660c3-c119-4048-a97b-63d4cf8ba29a\",\"type\":\"ColumnDataSource\"},\"glyph\":{\"id\":\"332e4cc8-6158-4030-93be-3465984e28d5\",\"type\":\"Rect\"},\"hover_glyph\":null,\"muted_glyph\":null},\"id\":\"db9c55bb-13bc-4f5a-99bb-b1721f3074b7\",\"type\":\"GlyphRenderer\"},{\"attributes\":{\"fill_alpha\":{\"field\":\"fill_alpha\"},\"fill_color\":{\"field\":\"color\"},\"height\":{\"field\":\"height\",\"units\":\"data\"},\"line_color\":{\"field\":\"line_color\"},\"width\":{\"field\":\"width\",\"units\":\"data\"},\"x\":{\"field\":\"x\"},\"y\":{\"field\":\"y\"}},\"id\":\"4be42622-d6a6-4fab-91f8-763fa2bb0ebb\",\"type\":\"Rect\"},{\"attributes\":{\"data_source\":{\"id\":\"9822af4d-b95c-4269-a29e-29068b705155\",\"type\":\"ColumnDataSource\"},\"glyph\":{\"id\":\"3d22f532-0be9-47cf-8d15-c6f614e670d4\",\"type\":\"Rect\"},\"hover_glyph\":null,\"muted_glyph\":null},\"id\":\"7e2c034b-a881-4dcb-bb2a-798fbe05f0b7\",\"type\":\"GlyphRenderer\"},{\"attributes\":{\"plot\":{\"id\":\"26f21670-34ce-47ab-9fe3-3443f913aa5a\",\"subtype\":\"Chart\",\"type\":\"Plot\"}},\"id\":\"2f61c5a2-56ca-419b-9963-16ec923ea522\",\"type\":\"WheelZoomTool\"},{\"attributes\":{\"fill_alpha\":{\"field\":\"fill_alpha\"},\"fill_color\":{\"field\":\"color\"},\"height\":{\"field\":\"height\",\"units\":\"data\"},\"line_color\":{\"field\":\"line_color\"},\"width\":{\"field\":\"width\",\"units\":\"data\"},\"x\":{\"field\":\"x\"},\"y\":{\"field\":\"y\"}},\"id\":\"0b7fecb8-5df4-4d49-8a7a-1d0e4e2a389b\",\"type\":\"Rect\"},{\"attributes\":{\"data_source\":{\"id\":\"9a10d06a-a718-4f4c-b688-421eeb878412\",\"type\":\"ColumnDataSource\"},\"glyph\":{\"id\":\"fdc9c8b3-6daf-4abf-92a0-e1bdf2a5749f\",\"type\":\"Rect\"},\"hover_glyph\":null,\"muted_glyph\":null},\"id\":\"b8180f09-a078-48e0-ae5f-83c460e6ab17\",\"type\":\"GlyphRenderer\"},{\"attributes\":{\"fill_alpha\":{\"field\":\"fill_alpha\"},\"fill_color\":{\"field\":\"color\"},\"height\":{\"field\":\"height\",\"units\":\"data\"},\"line_color\":{\"field\":\"line_color\"},\"width\":{\"field\":\"width\",\"units\":\"data\"},\"x\":{\"field\":\"x\"},\"y\":{\"field\":\"y\"}},\"id\":\"4c26a853-05c0-4874-9463-391f793c003b\",\"type\":\"Rect\"},{\"attributes\":{\"callback\":null,\"column_names\":[\"x\",\"y\",\"width\",\"height\",\"color\",\"fill_alpha\",\"line_color\",\"line_alpha\",\"label\"],\"data\":{\"chart_index\":[\"(69.638743, 70.633508]\"],\"color\":[\"#f22c40\"],\"fill_alpha\":[0.8],\"height\":[0.0],\"label\":[\"(69.638743, 70.633508]\"],\"line_alpha\":[1.0],\"line_color\":[\"black\"],\"width\":[0.9947643979057545],\"x\":[\"70.1361255\"],\"y\":[0.0]}},\"id\":\"13184497-e2dd-4091-b1c3-d3849739f948\",\"type\":\"ColumnDataSource\"},{\"attributes\":{\"fill_alpha\":{\"field\":\"fill_alpha\"},\"fill_color\":{\"field\":\"color\"},\"height\":{\"field\":\"height\",\"units\":\"data\"},\"line_color\":{\"field\":\"line_color\"},\"width\":{\"field\":\"width\",\"units\":\"data\"},\"x\":{\"field\":\"x\"},\"y\":{\"field\":\"y\"}},\"id\":\"896bff3d-1768-4d93-bf80-11729060589d\",\"type\":\"Rect\"},{\"attributes\":{\"callback\":null,\"column_names\":[\"x\",\"y\",\"width\",\"height\",\"color\",\"fill_alpha\",\"line_color\",\"line_alpha\",\"label\"],\"data\":{\"chart_index\":[\"(136.287958, 137.282723]\"],\"color\":[\"#f22c40\"],\"fill_alpha\":[0.8],\"height\":[0.0],\"label\":[\"(136.287958, 137.282723]\"],\"line_alpha\":[1.0],\"line_color\":[\"black\"],\"width\":[0.9947643979057545],\"x\":[\"136.78534050000002\"],\"y\":[0.0]}},\"id\":\"815a9b64-0669-4442-a805-00af31465477\",\"type\":\"ColumnDataSource\"},{\"attributes\":{\"plot\":{\"id\":\"26f21670-34ce-47ab-9fe3-3443f913aa5a\",\"subtype\":\"Chart\",\"type\":\"Plot\"}},\"id\":\"b5bd67e8-75a6-4b9d-aa0f-d96a2c71c325\",\"type\":\"ResetTool\"},{\"attributes\":{\"fill_alpha\":{\"field\":\"fill_alpha\"},\"fill_color\":{\"field\":\"color\"},\"height\":{\"field\":\"height\",\"units\":\"data\"},\"line_color\":{\"field\":\"line_color\"},\"width\":{\"field\":\"width\",\"units\":\"data\"},\"x\":{\"field\":\"x\"},\"y\":{\"field\":\"y\"}},\"id\":\"9cad0443-eb46-4b9b-92dc-e9f9053206ff\",\"type\":\"Rect\"},{\"attributes\":{\"callback\":null,\"column_names\":[\"x\",\"y\",\"width\",\"height\",\"color\",\"fill_alpha\",\"line_color\",\"line_alpha\",\"label\"],\"data\":{\"chart_index\":[\"(167.125654, 168.120419]\"],\"color\":[\"#f22c40\"],\"fill_alpha\":[0.8],\"height\":[0.0],\"label\":[\"(167.125654, 168.120419]\"],\"line_alpha\":[1.0],\"line_color\":[\"black\"],\"width\":[0.994764397905783],\"x\":[\"167.6230365\"],\"y\":[0.0]}},\"id\":\"8d66ef61-8df0-41ba-b7cd-0565487f7db6\",\"type\":\"ColumnDataSource\"},{\"attributes\":{\"plot\":{\"id\":\"26f21670-34ce-47ab-9fe3-3443f913aa5a\",\"subtype\":\"Chart\",\"type\":\"Plot\"}},\"id\":\"ae3417c2-49b1-4813-ba15-1507b3be66af\",\"type\":\"SaveTool\"},{\"attributes\":{\"callback\":null,\"column_names\":[\"x\",\"y\",\"width\",\"height\",\"color\",\"fill_alpha\",\"line_color\",\"line_alpha\",\"label\"],\"data\":{\"chart_index\":[\"(100.476440, 101.471204]\"],\"color\":[\"#f22c40\"],\"fill_alpha\":[0.8],\"height\":[0.0],\"label\":[\"(100.476440, 101.471204]\"],\"line_alpha\":[1.0],\"line_color\":[\"black\"],\"width\":[0.9947643979057545],\"x\":[\"100.973822\"],\"y\":[0.0]}},\"id\":\"d2a498ba-a2bc-4df6-a713-5d4e81472602\",\"type\":\"ColumnDataSource\"},{\"attributes\":{\"fill_alpha\":{\"field\":\"fill_alpha\"},\"fill_color\":{\"field\":\"color\"},\"height\":{\"field\":\"height\",\"units\":\"data\"},\"line_color\":{\"field\":\"line_color\"},\"width\":{\"field\":\"width\",\"units\":\"data\"},\"x\":{\"field\":\"x\"},\"y\":{\"field\":\"y\"}},\"id\":\"c2786ea4-d5d9-47d8-a24f-eb530c70c4e3\",\"type\":\"Rect\"},{\"attributes\":{\"data_source\":{\"id\":\"b0dbeb79-632d-4a3f-8b06-1d14bb0c519b\",\"type\":\"ColumnDataSource\"},\"glyph\":{\"id\":\"2faf99fd-2c36-466a-a050-4ac64f4773c9\",\"type\":\"Rect\"},\"hover_glyph\":null,\"muted_glyph\":null},\"id\":\"9614b949-a257-41af-84c1-4923d07f6e83\",\"type\":\"GlyphRenderer\"},{\"attributes\":{\"data_source\":{\"id\":\"64de32f7-aa2f-492a-8a0c-b29a5c2cded7\",\"type\":\"ColumnDataSource\"},\"glyph\":{\"id\":\"d25c1ca7-a3a1-4989-8a40-6a71d5e90cda\",\"type\":\"Rect\"},\"hover_glyph\":null,\"muted_glyph\":null},\"id\":\"40ba1cbb-76f0-4f6c-ab67-3d523b2c9cb8\",\"type\":\"GlyphRenderer\"},{\"attributes\":{\"callback\":null,\"column_names\":[\"x\",\"y\",\"width\",\"height\",\"color\",\"fill_alpha\",\"line_color\",\"line_alpha\",\"label\"],\"data\":{\"chart_index\":[\"(68.643979, 69.638743]\"],\"color\":[\"#f22c40\"],\"fill_alpha\":[0.8],\"height\":[1.0],\"label\":[\"(68.643979, 69.638743]\"],\"line_alpha\":[1.0],\"line_color\":[\"black\"],\"width\":[0.9947643979057688],\"x\":[\"69.141361\"],\"y\":[0.5]}},\"id\":\"b34494d7-b635-4eaf-985f-4802415fa2ac\",\"type\":\"ColumnDataSource\"},{\"attributes\":{\"below\":[{\"id\":\"3fd576df-409c-4bd9-a547-caf9ddc102e6\",\"type\":\"LinearAxis\"}],\"css_classes\":null,\"left\":[{\"id\":\"e99a6ba1-8c0c-474f-accc-8fd89c2845c5\",\"type\":\"LinearAxis\"}],\"renderers\":[{\"id\":\"f79f5202-8542-439d-b509-7765bf14f1b4\",\"type\":\"BoxAnnotation\"},{\"id\":\"57716fa2-43eb-453f-9de5-6181212aaa94\",\"type\":\"GlyphRenderer\"},{\"id\":\"9614b949-a257-41af-84c1-4923d07f6e83\",\"type\":\"GlyphRenderer\"},{\"id\":\"c9dea659-ec30-4cc3-984a-6919517e01b3\",\"type\":\"GlyphRenderer\"},{\"id\":\"7fd8e3c4-17e8-4c3f-bb58-b95a68a7a757\",\"type\":\"GlyphRenderer\"},{\"id\":\"459fc8ab-1698-4bac-b8e2-f803190920fe\",\"type\":\"GlyphRenderer\"},{\"id\":\"8273151a-3fa3-490e-bcfe-82269ade83dc\",\"type\":\"GlyphRenderer\"},{\"id\":\"91c3fb4a-1059-4e5e-b9e2-897cc8de44bf\",\"type\":\"GlyphRenderer\"},{\"id\":\"37d958b8-b607-442e-8d91-bd393c65766a\",\"type\":\"GlyphRenderer\"},{\"id\":\"0ec3ca62-fad0-4e62-8fca-046425ad5587\",\"type\":\"GlyphRenderer\"},{\"id\":\"07878045-7063-4c1d-b194-57315c493073\",\"type\":\"GlyphRenderer\"},{\"id\":\"5d05a301-beea-45f0-87b2-61e4a2f4f4b4\",\"type\":\"GlyphRenderer\"},{\"id\":\"5d1cb359-237b-4904-83a8-1e1655bf624e\",\"type\":\"GlyphRenderer\"},{\"id\":\"4c7e0269-1da2-4721-ad8e-f1be71789008\",\"type\":\"GlyphRenderer\"},{\"id\":\"dc5a17cd-b1f4-40de-8152-13ec4a374329\",\"type\":\"GlyphRenderer\"},{\"id\":\"a5eaf60a-ef57-4bf1-8b83-194feab9fa49\",\"type\":\"GlyphRenderer\"},{\"id\":\"2a0074e6-8598-485b-8855-37bc60293280\",\"type\":\"GlyphRenderer\"},{\"id\":\"4798c304-1ec4-4ac8-844c-0c7d7d309c72\",\"type\":\"GlyphRenderer\"},{\"id\":\"d6c00c04-208c-4a5c-a27d-70ad60ab2c62\",\"type\":\"GlyphRenderer\"},{\"id\":\"c193558f-a3a6-45ce-93c0-5831711fbb92\",\"type\":\"GlyphRenderer\"},{\"id\":\"b4125147-b91a-4a38-88d1-9eeb7ad055e4\",\"type\":\"GlyphRenderer\"},{\"id\":\"66249b1b-624e-4f7a-971c-57b992e1175d\",\"type\":\"GlyphRenderer\"},{\"id\":\"3821b239-c5d3-46e0-956d-587395659899\",\"type\":\"GlyphRenderer\"},{\"id\":\"87fcd48a-0452-4408-a233-a02cafd86fc0\",\"type\":\"GlyphRenderer\"},{\"id\":\"a05f503f-faba-4b90-abf9-617a58abd8c2\",\"type\":\"GlyphRenderer\"},{\"id\":\"b0f49f6c-b9f1-4a1b-95a7-9e73c6e30be8\",\"type\":\"GlyphRenderer\"},{\"id\":\"6430af13-e1a7-4150-95b6-e70ef44201f7\",\"type\":\"GlyphRenderer\"},{\"id\":\"0831f8c8-421d-4e11-a92d-b8b3caa6496f\",\"type\":\"GlyphRenderer\"},{\"id\":\"de41f868-8f13-4be3-ab66-10984f756c05\",\"type\":\"GlyphRenderer\"},{\"id\":\"a3984c43-edc1-4b94-b87c-c1845f5c5b72\",\"type\":\"GlyphRenderer\"},{\"id\":\"dd9906c9-79ce-422f-8db4-3dedb9fb7250\",\"type\":\"GlyphRenderer\"},{\"id\":\"8f01fed5-b0a6-494e-ad17-92d7a589890b\",\"type\":\"GlyphRenderer\"},{\"id\":\"4e2ee018-4ee1-4218-86bf-8e13083cd7da\",\"type\":\"GlyphRenderer\"},{\"id\":\"e079771c-ead2-4963-8249-267a6c653cba\",\"type\":\"GlyphRenderer\"},{\"id\":\"5de913a5-f4a4-44be-92ec-56be59e529ab\",\"type\":\"GlyphRenderer\"},{\"id\":\"68c8f27a-5e3a-45b2-8a86-a033bcf9474f\",\"type\":\"GlyphRenderer\"},{\"id\":\"6958160b-7f6c-42e3-b5ba-efc548c46cf0\",\"type\":\"GlyphRenderer\"},{\"id\":\"56daa4ff-19c2-4063-b680-935c7aa0b824\",\"type\":\"GlyphRenderer\"},{\"id\":\"8af520ce-0ee2-444d-8c74-f7e996f40a84\",\"type\":\"GlyphRenderer\"},{\"id\":\"0a42e3b1-dfad-48c7-a31f-8d8dad7a4956\",\"type\":\"GlyphRenderer\"},{\"id\":\"512b2df0-566f-4100-a043-91ccc20b6452\",\"type\":\"GlyphRenderer\"},{\"id\":\"b69648c4-8f5b-478a-84c9-d0279c6a55e7\",\"type\":\"GlyphRenderer\"},{\"id\":\"40251ad0-96e7-46ba-8c0a-e832391b6525\",\"type\":\"GlyphRenderer\"},{\"id\":\"caf4c7e6-ffa5-402f-950e-250df9c6c864\",\"type\":\"GlyphRenderer\"},{\"id\":\"f0877033-13d0-4090-a67f-a7467db8e2bb\",\"type\":\"GlyphRenderer\"},{\"id\":\"f41a28f1-b438-4fdc-bb84-6b6e45fd3761\",\"type\":\"GlyphRenderer\"},{\"id\":\"6a587369-1807-4b2e-bade-9f7e58046f4f\",\"type\":\"GlyphRenderer\"},{\"id\":\"705dadc6-6475-470d-bb01-2271d97e7b9b\",\"type\":\"GlyphRenderer\"},{\"id\":\"d54b5f75-a936-4fb3-b0e7-985fe9216413\",\"type\":\"GlyphRenderer\"},{\"id\":\"4edddd60-9609-4e11-8791-6f9e25e756a0\",\"type\":\"GlyphRenderer\"},{\"id\":\"c8730d88-482d-4aca-b72a-106d2771e693\",\"type\":\"GlyphRenderer\"},{\"id\":\"d08c9d32-5446-45fe-93f5-a3960027d220\",\"type\":\"GlyphRenderer\"},{\"id\":\"35bae0ea-fde0-415c-b44b-f94052c3f1f7\",\"type\":\"GlyphRenderer\"},{\"id\":\"574a1bcf-dc7a-47f7-bfa5-dd31b598670e\",\"type\":\"GlyphRenderer\"},{\"id\":\"64923163-af9a-427e-8c56-093ba182d9f4\",\"type\":\"GlyphRenderer\"},{\"id\":\"6de1928b-7916-433e-8463-e9d5d4a8b7d3\",\"type\":\"GlyphRenderer\"},{\"id\":\"dab2497a-c4d1-459b-a6d5-0c2641205dd1\",\"type\":\"GlyphRenderer\"},{\"id\":\"1ede2099-8c1f-4d51-b846-a3f1feef3d23\",\"type\":\"GlyphRenderer\"},{\"id\":\"c8323544-9e54-4fc6-934d-c3c91c3bbd92\",\"type\":\"GlyphRenderer\"},{\"id\":\"3f89e881-a8b2-4542-ad31-6d5efea86ec5\",\"type\":\"GlyphRenderer\"},{\"id\":\"efdde0fe-77b3-4c32-aae1-dd5e6ea966ba\",\"type\":\"GlyphRenderer\"},{\"id\":\"fc45a0e7-8a25-4116-a2a9-a173166854a9\",\"type\":\"GlyphRenderer\"},{\"id\":\"926eb1aa-85db-4aa9-916d-cded79873396\",\"type\":\"GlyphRenderer\"},{\"id\":\"2ebbdeba-7c73-4de7-8f7a-98335c2bf887\",\"type\":\"GlyphRenderer\"},{\"id\":\"84bf9705-5230-49b7-8e05-b8b97f9bc034\",\"type\":\"GlyphRenderer\"},{\"id\":\"5cab5082-08d6-4be8-9903-8a5a02145b90\",\"type\":\"GlyphRenderer\"},{\"id\":\"fc270b6d-be1c-48c7-afa9-325b312d80cb\",\"type\":\"GlyphRenderer\"},{\"id\":\"94eac4d3-d58a-45c7-acbb-114b422f9b29\",\"type\":\"GlyphRenderer\"},{\"id\":\"f7bdf2ee-c8e8-45e6-9c83-486160a37536\",\"type\":\"GlyphRenderer\"},{\"id\":\"aee2f1b3-957d-4950-8e41-8830590ff327\",\"type\":\"GlyphRenderer\"},{\"id\":\"1335aad4-ce61-4339-9584-6827dabcec4f\",\"type\":\"GlyphRenderer\"},{\"id\":\"5f7740b4-1776-42d5-b7ed-30b3dd3cee0e\",\"type\":\"GlyphRenderer\"},{\"id\":\"203f5e81-9120-4537-9945-499712e207af\",\"type\":\"GlyphRenderer\"},{\"id\":\"95ab39b0-5d45-4f2a-8fe0-dce345bf8337\",\"type\":\"GlyphRenderer\"},{\"id\":\"0aa8a1b6-8e6f-4870-ac02-13b48a923306\",\"type\":\"GlyphRenderer\"},{\"id\":\"40ba1cbb-76f0-4f6c-ab67-3d523b2c9cb8\",\"type\":\"GlyphRenderer\"},{\"id\":\"6ac55683-59c3-4a91-95c0-3785fe9b741d\",\"type\":\"GlyphRenderer\"},{\"id\":\"14d0352c-5595-4d46-b87a-84792742a4c3\",\"type\":\"GlyphRenderer\"},{\"id\":\"0a51a4e7-dbff-4fef-b89d-d2c9cca18d8e\",\"type\":\"GlyphRenderer\"},{\"id\":\"aacb015d-c4f2-4fef-bd2e-8997248fbde3\",\"type\":\"GlyphRenderer\"},{\"id\":\"b6421b53-21c5-4f97-8100-e3d6e1269221\",\"type\":\"GlyphRenderer\"},{\"id\":\"eb6480c5-aa92-4ca0-8770-cbcc460e384f\",\"type\":\"GlyphRenderer\"},{\"id\":\"241661f7-e64b-49b7-9217-dd1b69891b76\",\"type\":\"GlyphRenderer\"},{\"id\":\"4e00b3c1-0365-4e64-8157-3b414d8cc05d\",\"type\":\"GlyphRenderer\"},{\"id\":\"15ffb10e-dad1-4a1c-9660-969fc8cdc538\",\"type\":\"GlyphRenderer\"},{\"id\":\"13c5aebc-db2d-4b5f-8e6e-c6185aaef4fb\",\"type\":\"GlyphRenderer\"},{\"id\":\"1b258509-1feb-48e8-bc01-3e0c763e4cf4\",\"type\":\"GlyphRenderer\"},{\"id\":\"225696c2-1790-46bf-9587-661cae0b81c6\",\"type\":\"GlyphRenderer\"},{\"id\":\"cf729c79-bbfe-4378-9f07-e6aebde28d57\",\"type\":\"GlyphRenderer\"},{\"id\":\"f8afd7cf-f651-485c-b2cd-d577074a604e\",\"type\":\"GlyphRenderer\"},{\"id\":\"987c3197-846b-4b58-83da-df22bd7c122b\",\"type\":\"GlyphRenderer\"},{\"id\":\"0890138f-aa01-40df-9e4b-f44c84c4a756\",\"type\":\"GlyphRenderer\"},{\"id\":\"c5614726-f09c-4268-bf2b-8bbbafe3b02b\",\"type\":\"GlyphRenderer\"},{\"id\":\"c47ecaa7-1500-4476-9705-359212b953c5\",\"type\":\"GlyphRenderer\"},{\"id\":\"09950ae8-45d6-415f-979c-56af85d9daae\",\"type\":\"GlyphRenderer\"},{\"id\":\"7e63ef00-e939-4301-bbbe-9816cbf784b6\",\"type\":\"GlyphRenderer\"},{\"id\":\"e90592a9-5309-4b45-8b83-f0c8ef781a95\",\"type\":\"GlyphRenderer\"},{\"id\":\"a9f77549-7dbe-4ec2-b361-de6fb5447b66\",\"type\":\"GlyphRenderer\"},{\"id\":\"28637683-088d-451d-a09e-ed5f93e3d385\",\"type\":\"GlyphRenderer\"},{\"id\":\"b8180f09-a078-48e0-ae5f-83c460e6ab17\",\"type\":\"GlyphRenderer\"},{\"id\":\"abf909b2-8950-4da8-9d28-088bd91cfde1\",\"type\":\"GlyphRenderer\"},{\"id\":\"8764ba16-9652-415f-b350-76471cadd2e6\",\"type\":\"GlyphRenderer\"},{\"id\":\"f1fd162d-1057-4866-b98e-01fb78af4722\",\"type\":\"GlyphRenderer\"},{\"id\":\"dbbbb921-3c7d-4e8c-ad16-c2d4a6edcd1e\",\"type\":\"GlyphRenderer\"},{\"id\":\"80d4353e-5f5c-4b6d-adb9-cb8b50cf8504\",\"type\":\"GlyphRenderer\"},{\"id\":\"497811e0-3d38-4313-abc5-3a6af6053441\",\"type\":\"GlyphRenderer\"},{\"id\":\"18ac9138-9fd9-4ebe-bec7-0448dc3e1db6\",\"type\":\"GlyphRenderer\"},{\"id\":\"f1e80e11-d5f5-4cf3-816f-16293192b261\",\"type\":\"GlyphRenderer\"},{\"id\":\"fb1cf68f-4e2b-4d99-acb7-95befa02b84b\",\"type\":\"GlyphRenderer\"},{\"id\":\"19e618d2-7655-4443-9e58-b0366868268e\",\"type\":\"GlyphRenderer\"},{\"id\":\"b4326e28-3d0a-4265-be93-161e32cbf76a\",\"type\":\"GlyphRenderer\"},{\"id\":\"0c799b65-dde3-4b7a-b336-bb3eb7410504\",\"type\":\"GlyphRenderer\"},{\"id\":\"2a24c796-d435-4851-a1b4-c43808406686\",\"type\":\"GlyphRenderer\"},{\"id\":\"da69be9d-c90d-4217-b5eb-73fb2819b745\",\"type\":\"GlyphRenderer\"},{\"id\":\"ebe3909b-98c5-46f9-a671-4bffd078be4f\",\"type\":\"GlyphRenderer\"},{\"id\":\"2dab0ec6-7fb5-495b-9c95-adc2ca8bd40c\",\"type\":\"GlyphRenderer\"},{\"id\":\"033bede5-3b96-4737-82e0-dd03fe01a7c2\",\"type\":\"GlyphRenderer\"},{\"id\":\"986b9b53-0456-48eb-b5a8-888eba869161\",\"type\":\"GlyphRenderer\"},{\"id\":\"1cc1d195-1280-4b37-8e1d-2fc611e275e7\",\"type\":\"GlyphRenderer\"},{\"id\":\"2a25e56d-b574-49a1-abc1-d4a26f47db27\",\"type\":\"GlyphRenderer\"},{\"id\":\"911af5fe-ee0d-4c05-800b-e8c42e56ccfb\",\"type\":\"GlyphRenderer\"},{\"id\":\"16e4c408-e1f7-4c79-ba1f-dac28c888e7a\",\"type\":\"GlyphRenderer\"},{\"id\":\"747445d3-d432-4124-9dcb-4b540731308e\",\"type\":\"GlyphRenderer\"},{\"id\":\"8da53f97-2dcf-4e8e-abda-114c6ed42be9\",\"type\":\"GlyphRenderer\"},{\"id\":\"9d096cd7-8ed5-42f1-bcd4-190937d55714\",\"type\":\"GlyphRenderer\"},{\"id\":\"51b99215-e6fe-4622-9092-77e51bdb5414\",\"type\":\"GlyphRenderer\"},{\"id\":\"62763b4f-e467-45cc-b5f0-7c703176abf0\",\"type\":\"GlyphRenderer\"},{\"id\":\"7f6abae4-5244-4c71-8f73-c512a0940693\",\"type\":\"GlyphRenderer\"},{\"id\":\"10e40929-7871-4fcf-9e26-e9b6d6750d9d\",\"type\":\"GlyphRenderer\"},{\"id\":\"055191c9-2374-463e-8cf5-b24f74a20fbd\",\"type\":\"GlyphRenderer\"},{\"id\":\"4c4dd445-2ed2-4c36-8023-1a3caa0a821a\",\"type\":\"GlyphRenderer\"},{\"id\":\"1ade8712-f835-45ea-9a71-a39fa4e8bb7f\",\"type\":\"GlyphRenderer\"},{\"id\":\"3d422c39-30b0-41f1-a338-884e78f98223\",\"type\":\"GlyphRenderer\"},{\"id\":\"34835234-95e0-49b4-a022-3f921874db9e\",\"type\":\"GlyphRenderer\"},{\"id\":\"26efe69c-038d-4d6a-9cdc-a51780b4b251\",\"type\":\"GlyphRenderer\"},{\"id\":\"db9c55bb-13bc-4f5a-99bb-b1721f3074b7\",\"type\":\"GlyphRenderer\"},{\"id\":\"7a3fea7d-c582-4269-8770-9861254e40e7\",\"type\":\"GlyphRenderer\"},{\"id\":\"9071fc8a-01c2-4b70-a00b-ad5679705805\",\"type\":\"GlyphRenderer\"},{\"id\":\"bdf52c58-d307-4e50-b1a9-d1308b931b09\",\"type\":\"GlyphRenderer\"},{\"id\":\"8a2d8e6b-9222-4367-94f3-3a1f767ff6f9\",\"type\":\"GlyphRenderer\"},{\"id\":\"79c16688-8e2b-48b3-ab03-97314a5015ed\",\"type\":\"GlyphRenderer\"},{\"id\":\"3c9ce9bd-4add-4100-ad1f-3d335d1dbb9c\",\"type\":\"GlyphRenderer\"},{\"id\":\"571279f7-091c-4acf-8318-816c466a9358\",\"type\":\"GlyphRenderer\"},{\"id\":\"e55f5026-c49e-4583-8697-bb96f10ef328\",\"type\":\"GlyphRenderer\"},{\"id\":\"79e88c2a-8317-4fd3-b651-80378aaeb586\",\"type\":\"GlyphRenderer\"},{\"id\":\"0c00e99a-eca0-41a7-9d03-c3cb6aa71db7\",\"type\":\"GlyphRenderer\"},{\"id\":\"3305e2d3-5716-41e6-8f89-30c8dc600b64\",\"type\":\"GlyphRenderer\"},{\"id\":\"d6bb1fb6-afca-41ab-82d8-9a33beb185bf\",\"type\":\"GlyphRenderer\"},{\"id\":\"d227857b-4e84-492d-bd22-4f88ccf6f3ba\",\"type\":\"GlyphRenderer\"},{\"id\":\"ed7e142d-4b07-4be2-b743-c35d44034555\",\"type\":\"GlyphRenderer\"},{\"id\":\"a64b9b10-1d5e-4831-adbd-73c917fafaaf\",\"type\":\"GlyphRenderer\"},{\"id\":\"5344a60e-ce5f-49e1-8e0f-d02ce286791a\",\"type\":\"GlyphRenderer\"},{\"id\":\"daa81615-98ab-4c03-afe8-ba0477e4cb26\",\"type\":\"GlyphRenderer\"},{\"id\":\"f1a3aacb-1452-43b0-bc00-1e245257f755\",\"type\":\"GlyphRenderer\"},{\"id\":\"d381b732-a2fc-4468-b5ea-1e409df8b02e\",\"type\":\"GlyphRenderer\"},{\"id\":\"a9b7b009-baa8-43f5-9941-8ac02329c622\",\"type\":\"GlyphRenderer\"},{\"id\":\"acb9e317-0762-4145-bf28-4d34f3a4ad7b\",\"type\":\"GlyphRenderer\"},{\"id\":\"cdba3636-b2c5-450d-8382-c05048666837\",\"type\":\"GlyphRenderer\"},{\"id\":\"74ca5bfd-c368-46e7-8522-546311f8522a\",\"type\":\"GlyphRenderer\"},{\"id\":\"765bfc84-4cda-4652-b838-1ee3b6d2b332\",\"type\":\"GlyphRenderer\"},{\"id\":\"4da128a9-0d8b-4ac1-b056-9c0b70ad42ce\",\"type\":\"GlyphRenderer\"},{\"id\":\"89bfd09f-8024-4656-aeaf-26949779aa6f\",\"type\":\"GlyphRenderer\"},{\"id\":\"e70fefce-46ae-4951-abb3-2756e1c2c08c\",\"type\":\"GlyphRenderer\"},{\"id\":\"5d70a82b-dc46-4d74-b9b4-ac4677880e08\",\"type\":\"GlyphRenderer\"},{\"id\":\"fc8ed24c-83fb-49ff-bc77-314e3e8d9ccc\",\"type\":\"GlyphRenderer\"},{\"id\":\"2006a7bd-6ff4-4cc6-8a42-99541ec5776f\",\"type\":\"GlyphRenderer\"},{\"id\":\"7e2c034b-a881-4dcb-bb2a-798fbe05f0b7\",\"type\":\"GlyphRenderer\"},{\"id\":\"1b2fd8f3-7a6b-45d4-8c4a-01e1adee666a\",\"type\":\"GlyphRenderer\"},{\"id\":\"49de9b8b-a4ce-4809-9478-5e02d4401570\",\"type\":\"GlyphRenderer\"},{\"id\":\"08624833-9d5c-4aa2-94ca-6cb740caa6a2\",\"type\":\"GlyphRenderer\"},{\"id\":\"73359938-3fb8-4ac0-8c25-cc52e6f6f267\",\"type\":\"GlyphRenderer\"},{\"id\":\"7a5078e7-0699-41a9-8f9f-48582000b072\",\"type\":\"GlyphRenderer\"},{\"id\":\"d9ebb731-7adc-4eaf-bbe5-9f2361a94515\",\"type\":\"GlyphRenderer\"},{\"id\":\"66fc2eb8-b864-49b6-9c95-1acbe3941542\",\"type\":\"GlyphRenderer\"},{\"id\":\"897399c9-5dea-4e62-9104-3280c3dde960\",\"type\":\"GlyphRenderer\"},{\"id\":\"cd31f6c3-a8e1-449d-bd5a-0fef93b19ea2\",\"type\":\"GlyphRenderer\"},{\"id\":\"c13b42f0-7fb9-478f-9e1b-d41c5351e000\",\"type\":\"GlyphRenderer\"},{\"id\":\"9b0b6c79-2d51-45c2-af54-2a876f8c8f2a\",\"type\":\"GlyphRenderer\"},{\"id\":\"c20f7c15-bbdc-4d04-8ff6-0eeb9e8bd7e9\",\"type\":\"GlyphRenderer\"},{\"id\":\"d659fc7e-4873-4ec8-b2c3-8bc527858208\",\"type\":\"GlyphRenderer\"},{\"id\":\"26507771-1555-4b74-83d5-6ea2d428c8c4\",\"type\":\"GlyphRenderer\"},{\"id\":\"c645e352-6547-485f-958b-0611765af309\",\"type\":\"GlyphRenderer\"},{\"id\":\"2be6330b-f0d8-41d1-b8e6-51fb3af2d536\",\"type\":\"GlyphRenderer\"},{\"id\":\"ba35d515-7515-482c-9ae1-8d7df51115b3\",\"type\":\"GlyphRenderer\"},{\"id\":\"8837a67e-3e97-45a5-af10-1c5632afdf3f\",\"type\":\"GlyphRenderer\"},{\"id\":\"d808f3a1-64cb-4423-a12a-66e1f83be0c6\",\"type\":\"GlyphRenderer\"},{\"id\":\"dc5e15bb-ea57-4dcb-bbb0-203a2524d045\",\"type\":\"GlyphRenderer\"},{\"id\":\"4fd8ec0d-36b0-44eb-956e-e478f8fc80dc\",\"type\":\"GlyphRenderer\"},{\"id\":\"69b3f58b-d4ec-4ed7-a7fa-66ed3647ebc5\",\"type\":\"GlyphRenderer\"},{\"id\":\"79569137-457a-4dbf-9b4d-b048364e514f\",\"type\":\"GlyphRenderer\"},{\"id\":\"6ca8d418-6082-44e3-a3a1-0b3c4a2d38a7\",\"type\":\"GlyphRenderer\"},{\"id\":\"a0a7a7b5-784a-47b0-a683-fe0d811fe06c\",\"type\":\"GlyphRenderer\"},{\"id\":\"8588ac08-be88-42fe-a11a-bd79dfe35bfb\",\"type\":\"Legend\"},{\"id\":\"3fd576df-409c-4bd9-a547-caf9ddc102e6\",\"type\":\"LinearAxis\"},{\"id\":\"e99a6ba1-8c0c-474f-accc-8fd89c2845c5\",\"type\":\"LinearAxis\"},{\"id\":\"ba619490-ea0a-468a-8169-bac8e3e6a4a5\",\"type\":\"Grid\"}],\"title\":{\"id\":\"87865718-5e93-4552-9b8f-37afd07204d8\",\"type\":\"Title\"},\"tool_events\":{\"id\":\"fbc13aee-f856-443c-a35e-1dd7682a5eaa\",\"type\":\"ToolEvents\"},\"toolbar\":{\"id\":\"b5f4a8c4-05bb-4e14-a03a-cb1cfbfc12b3\",\"type\":\"Toolbar\"},\"x_mapper_type\":\"auto\",\"x_range\":{\"id\":\"821315f7-2a09-424f-a598-fc75e73f3016\",\"type\":\"Range1d\"},\"y_mapper_type\":\"auto\",\"y_range\":{\"id\":\"db4e7e2c-a701-46f1-ac99-cd382701ea75\",\"type\":\"Range1d\"}},\"id\":\"26f21670-34ce-47ab-9fe3-3443f913aa5a\",\"subtype\":\"Chart\",\"type\":\"Plot\"},{\"attributes\":{\"data_source\":{\"id\":\"b34494d7-b635-4eaf-985f-4802415fa2ac\",\"type\":\"ColumnDataSource\"},\"glyph\":{\"id\":\"911f426b-a34a-4b7d-be17-393debcf7f26\",\"type\":\"Rect\"},\"hover_glyph\":null,\"muted_glyph\":null},\"id\":\"aee2f1b3-957d-4950-8e41-8830590ff327\",\"type\":\"GlyphRenderer\"},{\"attributes\":{\"callback\":null,\"column_names\":[\"x\",\"y\",\"width\",\"height\",\"color\",\"fill_alpha\",\"line_color\",\"line_alpha\",\"label\"],\"data\":{\"chart_index\":[\"(3.984293, 4.979058]\"],\"color\":[\"#f22c40\"],\"fill_alpha\":[0.8],\"height\":[105.0],\"label\":[\"(3.984293, 4.979058]\"],\"line_alpha\":[1.0],\"line_color\":[\"black\"],\"width\":[0.994764397905759],\"x\":[\"4.4816755\"],\"y\":[52.5]}},\"id\":\"e0d5a218-9bc7-4ad4-9147-8d267f433ecd\",\"type\":\"ColumnDataSource\"},{\"attributes\":{\"callback\":null,\"column_names\":[\"x\",\"y\",\"width\",\"height\",\"color\",\"fill_alpha\",\"line_color\",\"line_alpha\",\"label\"],\"data\":{\"chart_index\":[\"(139.272251, 140.267016]\"],\"color\":[\"#f22c40\"],\"fill_alpha\":[0.8],\"height\":[0.0],\"label\":[\"(139.272251, 140.267016]\"],\"line_alpha\":[1.0],\"line_color\":[\"black\"],\"width\":[0.9947643979057545],\"x\":[\"139.7696335\"],\"y\":[0.0]}},\"id\":\"7711c6a0-75bd-4fc2-916e-3cb0c1965f12\",\"type\":\"ColumnDataSource\"},{\"attributes\":{\"location\":\"top_left\",\"plot\":{\"id\":\"26f21670-34ce-47ab-9fe3-3443f913aa5a\",\"subtype\":\"Chart\",\"type\":\"Plot\"}},\"id\":\"8588ac08-be88-42fe-a11a-bd79dfe35bfb\",\"type\":\"Legend\"},{\"attributes\":{\"data_source\":{\"id\":\"38b3e8fc-a7c3-4bac-89e8-6c1008d5c784\",\"type\":\"ColumnDataSource\"},\"glyph\":{\"id\":\"c2786ea4-d5d9-47d8-a24f-eb530c70c4e3\",\"type\":\"Rect\"},\"hover_glyph\":null,\"muted_glyph\":null},\"id\":\"c9dea659-ec30-4cc3-984a-6919517e01b3\",\"type\":\"GlyphRenderer\"},{\"attributes\":{\"callback\":null,\"column_names\":[\"x\",\"y\",\"width\",\"height\",\"color\",\"fill_alpha\",\"line_color\",\"line_alpha\",\"label\"],\"data\":{\"chart_index\":[\"(70.633508, 71.628272]\"],\"color\":[\"#f22c40\"],\"fill_alpha\":[0.8],\"height\":[0.0],\"label\":[\"(70.633508, 71.628272]\"],\"line_alpha\":[1.0],\"line_color\":[\"black\"],\"width\":[0.9947643979057545],\"x\":[\"71.13089\"],\"y\":[0.0]}},\"id\":\"7e8fd578-4e94-4f85-a345-29cb99fa6479\",\"type\":\"ColumnDataSource\"},{\"attributes\":{\"fill_alpha\":{\"field\":\"fill_alpha\"},\"fill_color\":{\"field\":\"color\"},\"height\":{\"field\":\"height\",\"units\":\"data\"},\"line_color\":{\"field\":\"line_color\"},\"width\":{\"field\":\"width\",\"units\":\"data\"},\"x\":{\"field\":\"x\"},\"y\":{\"field\":\"y\"}},\"id\":\"463a6494-9c24-4e08-8252-f3de13055ff7\",\"type\":\"Rect\"},{\"attributes\":{\"data_source\":{\"id\":\"61da8ab1-003f-4408-ba63-c6032bc0bb61\",\"type\":\"ColumnDataSource\"},\"glyph\":{\"id\":\"9f4d0374-aedd-40d8-ad35-bf55ee8904e5\",\"type\":\"Rect\"},\"hover_glyph\":null,\"muted_glyph\":null},\"id\":\"7a3fea7d-c582-4269-8770-9861254e40e7\",\"type\":\"GlyphRenderer\"},{\"attributes\":{\"bottom_units\":\"screen\",\"fill_alpha\":{\"value\":0.5},\"fill_color\":{\"value\":\"lightgrey\"},\"left_units\":\"screen\",\"level\":\"overlay\",\"line_alpha\":{\"value\":1.0},\"line_color\":{\"value\":\"black\"},\"line_dash\":[4,4],\"line_width\":{\"value\":2},\"plot\":null,\"render_mode\":\"css\",\"right_units\":\"screen\",\"top_units\":\"screen\"},\"id\":\"f79f5202-8542-439d-b509-7765bf14f1b4\",\"type\":\"BoxAnnotation\"},{\"attributes\":{\"data_source\":{\"id\":\"7ab21a0f-4b5d-4ef1-ba60-59b2103b9bb7\",\"type\":\"ColumnDataSource\"},\"glyph\":{\"id\":\"97269f6f-9174-4a91-8bc2-86573b36c446\",\"type\":\"Rect\"},\"hover_glyph\":null,\"muted_glyph\":null},\"id\":\"4798c304-1ec4-4ac8-844c-0c7d7d309c72\",\"type\":\"GlyphRenderer\"},{\"attributes\":{\"data_source\":{\"id\":\"706b5634-6f80-4211-a3a9-36c1c4baaa93\",\"type\":\"ColumnDataSource\"},\"glyph\":{\"id\":\"9a2bce39-d6f5-436d-acf2-40dda48982de\",\"type\":\"Rect\"},\"hover_glyph\":null,\"muted_glyph\":null},\"id\":\"1b2fd8f3-7a6b-45d4-8c4a-01e1adee666a\",\"type\":\"GlyphRenderer\"},{\"attributes\":{\"fill_alpha\":{\"field\":\"fill_alpha\"},\"fill_color\":{\"field\":\"color\"},\"height\":{\"field\":\"height\",\"units\":\"data\"},\"line_color\":{\"field\":\"line_color\"},\"width\":{\"field\":\"width\",\"units\":\"data\"},\"x\":{\"field\":\"x\"},\"y\":{\"field\":\"y\"}},\"id\":\"6aa53bce-e7f2-4e6f-ae01-0dfcef5927ae\",\"type\":\"Rect\"},{\"attributes\":{\"callback\":null,\"column_names\":[\"x\",\"y\",\"width\",\"height\",\"color\",\"fill_alpha\",\"line_color\",\"line_alpha\",\"label\"],\"data\":{\"chart_index\":[\"(102.465969, 103.460733]\"],\"color\":[\"#f22c40\"],\"fill_alpha\":[0.8],\"height\":[0.0],\"label\":[\"(102.465969, 103.460733]\"],\"line_alpha\":[1.0],\"line_color\":[\"black\"],\"width\":[0.9947643979057688],\"x\":[\"102.963351\"],\"y\":[0.0]}},\"id\":\"a0dfb70e-1494-4848-ba5b-73ff26e578c6\",\"type\":\"ColumnDataSource\"},{\"attributes\":{\"callback\":null,\"column_names\":[\"x\",\"y\",\"width\",\"height\",\"color\",\"fill_alpha\",\"line_color\",\"line_alpha\",\"label\"],\"data\":{\"chart_index\":[\"(9.952880, 10.947644]\"],\"color\":[\"#f22c40\"],\"fill_alpha\":[0.8],\"height\":[12.0],\"label\":[\"(9.952880, 10.947644]\"],\"line_alpha\":[1.0],\"line_color\":[\"black\"],\"width\":[0.9947643979057581],\"x\":[\"10.450262\"],\"y\":[6.0]}},\"id\":\"78c615ce-8d87-4d2e-86f1-4100c4f1dc11\",\"type\":\"ColumnDataSource\"},{\"attributes\":{\"data_source\":{\"id\":\"9cb84c8e-51db-4f52-9b03-d210ba7ea881\",\"type\":\"ColumnDataSource\"},\"glyph\":{\"id\":\"4be42622-d6a6-4fab-91f8-763fa2bb0ebb\",\"type\":\"Rect\"},\"hover_glyph\":null,\"muted_glyph\":null},\"id\":\"abf909b2-8950-4da8-9d28-088bd91cfde1\",\"type\":\"GlyphRenderer\"},{\"attributes\":{\"fill_alpha\":{\"field\":\"fill_alpha\"},\"fill_color\":{\"field\":\"color\"},\"height\":{\"field\":\"height\",\"units\":\"data\"},\"line_color\":{\"field\":\"line_color\"},\"width\":{\"field\":\"width\",\"units\":\"data\"},\"x\":{\"field\":\"x\"},\"y\":{\"field\":\"y\"}},\"id\":\"3098cafd-9397-4bc4-85f6-bc7b0a4153bd\",\"type\":\"Rect\"},{\"attributes\":{\"fill_alpha\":{\"field\":\"fill_alpha\"},\"fill_color\":{\"field\":\"color\"},\"height\":{\"field\":\"height\",\"units\":\"data\"},\"line_color\":{\"field\":\"line_color\"},\"width\":{\"field\":\"width\",\"units\":\"data\"},\"x\":{\"field\":\"x\"},\"y\":{\"field\":\"y\"}},\"id\":\"ccfa991d-030a-4b7f-b153-aa1585cadc52\",\"type\":\"Rect\"},{\"attributes\":{\"data_source\":{\"id\":\"783aa5a0-99d6-41e7-949a-4716017c614c\",\"type\":\"ColumnDataSource\"},\"glyph\":{\"id\":\"3098cafd-9397-4bc4-85f6-bc7b0a4153bd\",\"type\":\"Rect\"},\"hover_glyph\":null,\"muted_glyph\":null},\"id\":\"08624833-9d5c-4aa2-94ca-6cb740caa6a2\",\"type\":\"GlyphRenderer\"},{\"attributes\":{\"fill_alpha\":{\"field\":\"fill_alpha\"},\"fill_color\":{\"field\":\"color\"},\"height\":{\"field\":\"height\",\"units\":\"data\"},\"line_color\":{\"field\":\"line_color\"},\"width\":{\"field\":\"width\",\"units\":\"data\"},\"x\":{\"field\":\"x\"},\"y\":{\"field\":\"y\"}},\"id\":\"9f86a2d8-1297-4b76-89ef-68cfab20b9fc\",\"type\":\"Rect\"},{\"attributes\":{\"fill_alpha\":{\"field\":\"fill_alpha\"},\"fill_color\":{\"field\":\"color\"},\"height\":{\"field\":\"height\",\"units\":\"data\"},\"line_color\":{\"field\":\"line_color\"},\"width\":{\"field\":\"width\",\"units\":\"data\"},\"x\":{\"field\":\"x\"},\"y\":{\"field\":\"y\"}},\"id\":\"941505fe-04aa-4a47-b430-1ad1e0dca1d3\",\"type\":\"Rect\"},{\"attributes\":{\"data_source\":{\"id\":\"e0d5a218-9bc7-4ad4-9147-8d267f433ecd\",\"type\":\"ColumnDataSource\"},\"glyph\":{\"id\":\"4c26a853-05c0-4874-9463-391f793c003b\",\"type\":\"Rect\"},\"hover_glyph\":null,\"muted_glyph\":null},\"id\":\"7fd8e3c4-17e8-4c3f-bb58-b95a68a7a757\",\"type\":\"GlyphRenderer\"},{\"attributes\":{\"data_source\":{\"id\":\"13184497-e2dd-4091-b1c3-d3849739f948\",\"type\":\"ColumnDataSource\"},\"glyph\":{\"id\":\"6a654b2a-fce3-48f5-97cf-888bf1545417\",\"type\":\"Rect\"},\"hover_glyph\":null,\"muted_glyph\":null},\"id\":\"1335aad4-ce61-4339-9584-6827dabcec4f\",\"type\":\"GlyphRenderer\"},{\"attributes\":{\"fill_alpha\":{\"field\":\"fill_alpha\"},\"fill_color\":{\"field\":\"color\"},\"height\":{\"field\":\"height\",\"units\":\"data\"},\"line_color\":{\"field\":\"line_color\"},\"width\":{\"field\":\"width\",\"units\":\"data\"},\"x\":{\"field\":\"x\"},\"y\":{\"field\":\"y\"}},\"id\":\"ec386baf-4f21-4ec4-acc9-81824a9555b5\",\"type\":\"Rect\"},{\"attributes\":{\"callback\":null,\"column_names\":[\"x\",\"y\",\"width\",\"height\",\"color\",\"fill_alpha\",\"line_color\",\"line_alpha\",\"label\"],\"data\":{\"chart_index\":[\"(168.120419, 169.115183]\"],\"color\":[\"#f22c40\"],\"fill_alpha\":[0.8],\"height\":[0.0],\"label\":[\"(168.120419, 169.115183]\"],\"line_alpha\":[1.0],\"line_color\":[\"black\"],\"width\":[0.9947643979057545],\"x\":[\"168.617801\"],\"y\":[0.0]}},\"id\":\"783aa5a0-99d6-41e7-949a-4716017c614c\",\"type\":\"ColumnDataSource\"},{\"attributes\":{\"fill_alpha\":{\"field\":\"fill_alpha\"},\"fill_color\":{\"field\":\"color\"},\"height\":{\"field\":\"height\",\"units\":\"data\"},\"line_color\":{\"field\":\"line_color\"},\"width\":{\"field\":\"width\",\"units\":\"data\"},\"x\":{\"field\":\"x\"},\"y\":{\"field\":\"y\"}},\"id\":\"2789b48c-c1cd-4035-a616-51eb0dce55c6\",\"type\":\"Rect\"},{\"attributes\":{\"data_source\":{\"id\":\"a0dfb70e-1494-4848-ba5b-73ff26e578c6\",\"type\":\"ColumnDataSource\"},\"glyph\":{\"id\":\"9f86a2d8-1297-4b76-89ef-68cfab20b9fc\",\"type\":\"Rect\"},\"hover_glyph\":null,\"muted_glyph\":null},\"id\":\"dbbbb921-3c7d-4e8c-ad16-c2d4a6edcd1e\",\"type\":\"GlyphRenderer\"},{\"attributes\":{\"callback\":null,\"column_names\":[\"x\",\"y\",\"width\",\"height\",\"color\",\"fill_alpha\",\"line_color\",\"line_alpha\",\"label\"],\"data\":{\"chart_index\":[\"(4.979058, 5.973822]\"],\"color\":[\"#f22c40\"],\"fill_alpha\":[0.8],\"height\":[68.0],\"label\":[\"(4.979058, 5.973822]\"],\"line_alpha\":[1.0],\"line_color\":[\"black\"],\"width\":[0.994764397905759],\"x\":[\"5.47644\"],\"y\":[34.0]}},\"id\":\"7b44407e-7150-4902-ac52-02311576d24e\",\"type\":\"ColumnDataSource\"},{\"attributes\":{\"plot\":null,\"text\":\"Histogram of Locations Per Activity\"},\"id\":\"87865718-5e93-4552-9b8f-37afd07204d8\",\"type\":\"Title\"},{\"attributes\":{\"data_source\":{\"id\":\"815a9b64-0669-4442-a805-00af31465477\",\"type\":\"ColumnDataSource\"},\"glyph\":{\"id\":\"0b7fecb8-5df4-4d49-8a7a-1d0e4e2a389b\",\"type\":\"Rect\"},\"hover_glyph\":null,\"muted_glyph\":null},\"id\":\"9071fc8a-01c2-4b70-a00b-ad5679705805\",\"type\":\"GlyphRenderer\"},{\"attributes\":{\"data_source\":{\"id\":\"8d66ef61-8df0-41ba-b7cd-0565487f7db6\",\"type\":\"ColumnDataSource\"},\"glyph\":{\"id\":\"896bff3d-1768-4d93-bf80-11729060589d\",\"type\":\"Rect\"},\"hover_glyph\":null,\"muted_glyph\":null},\"id\":\"49de9b8b-a4ce-4809-9478-5e02d4401570\",\"type\":\"GlyphRenderer\"},{\"attributes\":{\"fill_alpha\":{\"field\":\"fill_alpha\"},\"fill_color\":{\"field\":\"color\"},\"height\":{\"field\":\"height\",\"units\":\"data\"},\"line_color\":{\"field\":\"line_color\"},\"width\":{\"field\":\"width\",\"units\":\"data\"},\"x\":{\"field\":\"x\"},\"y\":{\"field\":\"y\"}},\"id\":\"924b7474-688d-456e-82ed-0a5ceda1051a\",\"type\":\"Rect\"},{\"attributes\":{\"data_source\":{\"id\":\"d2a498ba-a2bc-4df6-a713-5d4e81472602\",\"type\":\"ColumnDataSource\"},\"glyph\":{\"id\":\"9cad0443-eb46-4b9b-92dc-e9f9053206ff\",\"type\":\"Rect\"},\"hover_glyph\":null,\"muted_glyph\":null},\"id\":\"8764ba16-9652-415f-b350-76471cadd2e6\",\"type\":\"GlyphRenderer\"},{\"attributes\":{},\"id\":\"fbc13aee-f856-443c-a35e-1dd7682a5eaa\",\"type\":\"ToolEvents\"},{\"attributes\":{\"callback\":null,\"column_names\":[\"x\",\"y\",\"width\",\"height\",\"color\",\"fill_alpha\",\"line_color\",\"line_alpha\",\"label\"],\"data\":{\"chart_index\":[\"(147.230366, 148.225131]\"],\"color\":[\"#f22c40\"],\"fill_alpha\":[0.8],\"height\":[0.0],\"label\":[\"(147.230366, 148.225131]\"],\"line_alpha\":[1.0],\"line_color\":[\"black\"],\"width\":[0.9947643979057545],\"x\":[\"147.72774850000002\"],\"y\":[0.0]}},\"id\":\"b882d210-73b8-4de5-a2ad-8028c081d8a2\",\"type\":\"ColumnDataSource\"},{\"attributes\":{\"callback\":null,\"end\":195.8000001989529,\"start\":-3.80000019895288},\"id\":\"821315f7-2a09-424f-a598-fc75e73f3016\",\"type\":\"Range1d\"},{\"attributes\":{\"callback\":null,\"column_names\":[\"x\",\"y\",\"width\",\"height\",\"color\",\"fill_alpha\",\"line_color\",\"line_alpha\",\"label\"],\"data\":{\"chart_index\":[\"(82.570681, 83.565445]\"],\"color\":[\"#f22c40\"],\"fill_alpha\":[0.8],\"height\":[0.0],\"label\":[\"(82.570681, 83.565445]\"],\"line_alpha\":[1.0],\"line_color\":[\"black\"],\"width\":[0.9947643979057545],\"x\":[\"83.068063\"],\"y\":[0.0]}},\"id\":\"1e8a3f0f-9348-4b7c-9ee3-6992b2f15291\",\"type\":\"ColumnDataSource\"},{\"attributes\":{\"fill_alpha\":{\"field\":\"fill_alpha\"},\"fill_color\":{\"field\":\"color\"},\"height\":{\"field\":\"height\",\"units\":\"data\"},\"line_color\":{\"field\":\"line_color\"},\"width\":{\"field\":\"width\",\"units\":\"data\"},\"x\":{\"field\":\"x\"},\"y\":{\"field\":\"y\"}},\"id\":\"1b9c9db5-35cb-4a66-9ce3-976d9b87586f\",\"type\":\"Rect\"},{\"attributes\":{\"fill_alpha\":{\"field\":\"fill_alpha\"},\"fill_color\":{\"field\":\"color\"},\"height\":{\"field\":\"height\",\"units\":\"data\"},\"line_color\":{\"field\":\"line_color\"},\"width\":{\"field\":\"width\",\"units\":\"data\"},\"x\":{\"field\":\"x\"},\"y\":{\"field\":\"y\"}},\"id\":\"76a1e7ed-1a87-4f9f-9ba2-88cee41e3c36\",\"type\":\"Rect\"},{\"attributes\":{\"fill_alpha\":{\"field\":\"fill_alpha\"},\"fill_color\":{\"field\":\"color\"},\"height\":{\"field\":\"height\",\"units\":\"data\"},\"line_color\":{\"field\":\"line_color\"},\"width\":{\"field\":\"width\",\"units\":\"data\"},\"x\":{\"field\":\"x\"},\"y\":{\"field\":\"y\"}},\"id\":\"b061b8aa-9f0f-4b16-9b1f-cd4334f8bf7a\",\"type\":\"Rect\"},{\"attributes\":{\"callback\":null,\"column_names\":[\"x\",\"y\",\"width\",\"height\",\"color\",\"fill_alpha\",\"line_color\",\"line_alpha\",\"label\"],\"data\":{\"chart_index\":[\"(35.816754, 36.811518]\"],\"color\":[\"#f22c40\"],\"fill_alpha\":[0.8],\"height\":[0.0],\"label\":[\"(35.816754, 36.811518]\"],\"line_alpha\":[1.0],\"line_color\":[\"black\"],\"width\":[0.9947643979057617],\"x\":[\"36.314136000000005\"],\"y\":[0.0]}},\"id\":\"a5b1bb7f-eaf6-44cb-b668-ae906185b822\",\"type\":\"ColumnDataSource\"},{\"attributes\":{\"callback\":null,\"column_names\":[\"x\",\"y\",\"width\",\"height\",\"color\",\"fill_alpha\",\"line_color\",\"line_alpha\",\"label\"],\"data\":{\"chart_index\":[\"(34.821990, 35.816754]\"],\"color\":[\"#f22c40\"],\"fill_alpha\":[0.8],\"height\":[1.0],\"label\":[\"(34.821990, 35.816754]\"],\"line_alpha\":[1.0],\"line_color\":[\"black\"],\"width\":[0.9947643979057617],\"x\":[\"35.319372\"],\"y\":[0.5]}},\"id\":\"454d93f7-1d06-4a53-9850-d50f30ea6bac\",\"type\":\"ColumnDataSource\"},{\"attributes\":{\"data_source\":{\"id\":\"454d93f7-1d06-4a53-9850-d50f30ea6bac\",\"type\":\"ColumnDataSource\"},\"glyph\":{\"id\":\"8117968b-6f51-47d1-882a-6d19e0fb5946\",\"type\":\"Rect\"},\"hover_glyph\":null,\"muted_glyph\":null},\"id\":\"68c8f27a-5e3a-45b2-8a86-a033bcf9474f\",\"type\":\"GlyphRenderer\"},{\"attributes\":{\"fill_alpha\":{\"field\":\"fill_alpha\"},\"fill_color\":{\"field\":\"color\"},\"height\":{\"field\":\"height\",\"units\":\"data\"},\"line_color\":{\"field\":\"line_color\"},\"width\":{\"field\":\"width\",\"units\":\"data\"},\"x\":{\"field\":\"x\"},\"y\":{\"field\":\"y\"}},\"id\":\"29304e04-c026-4f22-8ffd-8302e2526eaa\",\"type\":\"Rect\"},{\"attributes\":{\"callback\":null,\"column_names\":[\"x\",\"y\",\"width\",\"height\",\"color\",\"fill_alpha\",\"line_color\",\"line_alpha\",\"label\"],\"data\":{\"chart_index\":[\"(36.811518, 37.806283]\"],\"color\":[\"#f22c40\"],\"fill_alpha\":[0.8],\"height\":[1.0],\"label\":[\"(36.811518, 37.806283]\"],\"line_alpha\":[1.0],\"line_color\":[\"black\"],\"width\":[0.9947643979057545],\"x\":[\"37.3089005\"],\"y\":[0.5]}},\"id\":\"aad8c64a-b4c8-4b4b-b160-7bf96cbceacf\",\"type\":\"ColumnDataSource\"},{\"attributes\":{\"data_source\":{\"id\":\"39fb5535-7f0f-445d-832c-c0f978095414\",\"type\":\"ColumnDataSource\"},\"glyph\":{\"id\":\"a861e885-ab6e-446e-b701-8c589e2ac0f7\",\"type\":\"Rect\"},\"hover_glyph\":null,\"muted_glyph\":null},\"id\":\"8af520ce-0ee2-444d-8c74-f7e996f40a84\",\"type\":\"GlyphRenderer\"},{\"attributes\":{\"fill_alpha\":{\"field\":\"fill_alpha\"},\"fill_color\":{\"field\":\"color\"},\"height\":{\"field\":\"height\",\"units\":\"data\"},\"line_color\":{\"field\":\"line_color\"},\"width\":{\"field\":\"width\",\"units\":\"data\"},\"x\":{\"field\":\"x\"},\"y\":{\"field\":\"y\"}},\"id\":\"623977d7-69ce-460c-8a33-41cc1995e84f\",\"type\":\"Rect\"},{\"attributes\":{\"data_source\":{\"id\":\"a5b1bb7f-eaf6-44cb-b668-ae906185b822\",\"type\":\"ColumnDataSource\"},\"glyph\":{\"id\":\"b061b8aa-9f0f-4b16-9b1f-cd4334f8bf7a\",\"type\":\"Rect\"},\"hover_glyph\":null,\"muted_glyph\":null},\"id\":\"6958160b-7f6c-42e3-b5ba-efc548c46cf0\",\"type\":\"GlyphRenderer\"},{\"attributes\":{\"data_source\":{\"id\":\"061654ac-3199-401d-96f8-be544ea254e2\",\"type\":\"ColumnDataSource\"},\"glyph\":{\"id\":\"623977d7-69ce-460c-8a33-41cc1995e84f\",\"type\":\"Rect\"},\"hover_glyph\":null,\"muted_glyph\":null},\"id\":\"6a587369-1807-4b2e-bade-9f7e58046f4f\",\"type\":\"GlyphRenderer\"},{\"attributes\":{\"callback\":null,\"column_names\":[\"x\",\"y\",\"width\",\"height\",\"color\",\"fill_alpha\",\"line_color\",\"line_alpha\",\"label\"],\"data\":{\"chart_index\":[\"(37.806283, 38.801047]\"],\"color\":[\"#f22c40\"],\"fill_alpha\":[0.8],\"height\":[0.0],\"label\":[\"(37.806283, 38.801047]\"],\"line_alpha\":[1.0],\"line_color\":[\"black\"],\"width\":[0.9947643979057617],\"x\":[\"38.303664999999995\"],\"y\":[0.0]}},\"id\":\"39fb5535-7f0f-445d-832c-c0f978095414\",\"type\":\"ColumnDataSource\"},{\"attributes\":{\"fill_alpha\":{\"field\":\"fill_alpha\"},\"fill_color\":{\"field\":\"color\"},\"height\":{\"field\":\"height\",\"units\":\"data\"},\"line_color\":{\"field\":\"line_color\"},\"width\":{\"field\":\"width\",\"units\":\"data\"},\"x\":{\"field\":\"x\"},\"y\":{\"field\":\"y\"}},\"id\":\"a861e885-ab6e-446e-b701-8c589e2ac0f7\",\"type\":\"Rect\"},{\"attributes\":{\"data_source\":{\"id\":\"9aaffd26-d5d2-4b70-842d-c47a4ea94296\",\"type\":\"ColumnDataSource\"},\"glyph\":{\"id\":\"4f93fca3-e22b-4d47-99ef-f1909fd30389\",\"type\":\"Rect\"},\"hover_glyph\":null,\"muted_glyph\":null},\"id\":\"0a42e3b1-dfad-48c7-a31f-8d8dad7a4956\",\"type\":\"GlyphRenderer\"},{\"attributes\":{\"data_source\":{\"id\":\"aad8c64a-b4c8-4b4b-b160-7bf96cbceacf\",\"type\":\"ColumnDataSource\"},\"glyph\":{\"id\":\"29304e04-c026-4f22-8ffd-8302e2526eaa\",\"type\":\"Rect\"},\"hover_glyph\":null,\"muted_glyph\":null},\"id\":\"56daa4ff-19c2-4063-b680-935c7aa0b824\",\"type\":\"GlyphRenderer\"},{\"attributes\":{\"callback\":null,\"column_names\":[\"x\",\"y\",\"width\",\"height\",\"color\",\"fill_alpha\",\"line_color\",\"line_alpha\",\"label\"],\"data\":{\"chart_index\":[\"(137.282723, 138.277487]\"],\"color\":[\"#f22c40\"],\"fill_alpha\":[0.8],\"height\":[0.0],\"label\":[\"(137.282723, 138.277487]\"],\"line_alpha\":[1.0],\"line_color\":[\"black\"],\"width\":[0.994764397905783],\"x\":[\"137.780105\"],\"y\":[0.0]}},\"id\":\"2fe3b5b5-5b23-49f5-a822-0b91dd5e5098\",\"type\":\"ColumnDataSource\"},{\"attributes\":{\"fill_alpha\":{\"field\":\"fill_alpha\"},\"fill_color\":{\"field\":\"color\"},\"height\":{\"field\":\"height\",\"units\":\"data\"},\"line_color\":{\"field\":\"line_color\"},\"width\":{\"field\":\"width\",\"units\":\"data\"},\"x\":{\"field\":\"x\"},\"y\":{\"field\":\"y\"}},\"id\":\"115f4778-1651-49ff-82a2-103554bb310e\",\"type\":\"Rect\"},{\"attributes\":{\"callback\":null,\"column_names\":[\"x\",\"y\",\"width\",\"height\",\"color\",\"fill_alpha\",\"line_color\",\"line_alpha\",\"label\"],\"data\":{\"chart_index\":[\"(171.104712, 172.099476]\"],\"color\":[\"#f22c40\"],\"fill_alpha\":[0.8],\"height\":[0.0],\"label\":[\"(171.104712, 172.099476]\"],\"line_alpha\":[1.0],\"line_color\":[\"black\"],\"width\":[0.9947643979057545],\"x\":[\"171.60209400000002\"],\"y\":[0.0]}},\"id\":\"0abec5e3-b5cf-4678-a90d-ed87266f33de\",\"type\":\"ColumnDataSource\"},{\"attributes\":{\"callback\":null,\"column_names\":[\"x\",\"y\",\"width\",\"height\",\"color\",\"fill_alpha\",\"line_color\",\"line_alpha\",\"label\"],\"data\":{\"chart_index\":[\"(138.277487, 139.272251]\"],\"color\":[\"#f22c40\"],\"fill_alpha\":[0.8],\"height\":[0.0],\"label\":[\"(138.277487, 139.272251]\"],\"line_alpha\":[1.0],\"line_color\":[\"black\"],\"width\":[0.9947643979057545],\"x\":[\"138.77486900000002\"],\"y\":[0.0]}},\"id\":\"9e3e367d-5ece-4d23-992e-283a52066b59\",\"type\":\"ColumnDataSource\"},{\"attributes\":{\"callback\":null,\"column_names\":[\"x\",\"y\",\"width\",\"height\",\"color\",\"fill_alpha\",\"line_color\",\"line_alpha\",\"label\"],\"data\":{\"chart_index\":[\"(71.628272, 72.623037]\"],\"color\":[\"#f22c40\"],\"fill_alpha\":[0.8],\"height\":[0.0],\"label\":[\"(71.628272, 72.623037]\"],\"line_alpha\":[1.0],\"line_color\":[\"black\"],\"width\":[0.9947643979057688],\"x\":[\"72.1256545\"],\"y\":[0.0]}},\"id\":\"94a737d6-fa35-472f-807a-e79b4294c4f8\",\"type\":\"ColumnDataSource\"},{\"attributes\":{\"fill_alpha\":{\"field\":\"fill_alpha\"},\"fill_color\":{\"field\":\"color\"},\"height\":{\"field\":\"height\",\"units\":\"data\"},\"line_color\":{\"field\":\"line_color\"},\"width\":{\"field\":\"width\",\"units\":\"data\"},\"x\":{\"field\":\"x\"},\"y\":{\"field\":\"y\"}},\"id\":\"1e694dde-406b-472b-8fc1-f34b50fc446a\",\"type\":\"Rect\"},{\"attributes\":{\"data_source\":{\"id\":\"7e8fd578-4e94-4f85-a345-29cb99fa6479\",\"type\":\"ColumnDataSource\"},\"glyph\":{\"id\":\"6aa53bce-e7f2-4e6f-ae01-0dfcef5927ae\",\"type\":\"Rect\"},\"hover_glyph\":null,\"muted_glyph\":null},\"id\":\"5f7740b4-1776-42d5-b7ed-30b3dd3cee0e\",\"type\":\"GlyphRenderer\"},{\"attributes\":{\"fill_alpha\":{\"field\":\"fill_alpha\"},\"fill_color\":{\"field\":\"color\"},\"height\":{\"field\":\"height\",\"units\":\"data\"},\"line_color\":{\"field\":\"line_color\"},\"width\":{\"field\":\"width\",\"units\":\"data\"},\"x\":{\"field\":\"x\"},\"y\":{\"field\":\"y\"}},\"id\":\"7c4db316-e79a-4629-bd2a-d66a87b5a5bb\",\"type\":\"Rect\"},{\"attributes\":{\"fill_alpha\":{\"field\":\"fill_alpha\"},\"fill_color\":{\"field\":\"color\"},\"height\":{\"field\":\"height\",\"units\":\"data\"},\"line_color\":{\"field\":\"line_color\"},\"width\":{\"field\":\"width\",\"units\":\"data\"},\"x\":{\"field\":\"x\"},\"y\":{\"field\":\"y\"}},\"id\":\"c27015b6-a4db-468d-bf34-bff01199e718\",\"type\":\"Rect\"},{\"attributes\":{\"fill_alpha\":{\"field\":\"fill_alpha\"},\"fill_color\":{\"field\":\"color\"},\"height\":{\"field\":\"height\",\"units\":\"data\"},\"line_color\":{\"field\":\"line_color\"},\"width\":{\"field\":\"width\",\"units\":\"data\"},\"x\":{\"field\":\"x\"},\"y\":{\"field\":\"y\"}},\"id\":\"7ac12af4-8821-4bb9-b424-99bfd86d15d3\",\"type\":\"Rect\"},{\"attributes\":{\"callback\":null,\"column_names\":[\"x\",\"y\",\"width\",\"height\",\"color\",\"fill_alpha\",\"line_color\",\"line_alpha\",\"label\"],\"data\":{\"chart_index\":[\"(101.471204, 102.465969]\"],\"color\":[\"#f22c40\"],\"fill_alpha\":[0.8],\"height\":[0.0],\"label\":[\"(101.471204, 102.465969]\"],\"line_alpha\":[1.0],\"line_color\":[\"black\"],\"width\":[0.9947643979057545],\"x\":[\"101.9685865\"],\"y\":[0.0]}},\"id\":\"4e2f0963-c323-4fd6-891f-5b8429d34699\",\"type\":\"ColumnDataSource\"},{\"attributes\":{\"callback\":null,\"column_names\":[\"x\",\"y\",\"width\",\"height\",\"color\",\"fill_alpha\",\"line_color\",\"line_alpha\",\"label\"],\"data\":{\"chart_index\":[\"(5.973822, 6.968586]\"],\"color\":[\"#f22c40\"],\"fill_alpha\":[0.8],\"height\":[54.0],\"label\":[\"(5.973822, 6.968586]\"],\"line_alpha\":[1.0],\"line_color\":[\"black\"],\"width\":[0.9947643979057599],\"x\":[\"6.471204\"],\"y\":[27.0]}},\"id\":\"bd6ba248-1be1-4eed-84f5-5eef49665d21\",\"type\":\"ColumnDataSource\"},{\"attributes\":{\"data_source\":{\"id\":\"2fe3b5b5-5b23-49f5-a822-0b91dd5e5098\",\"type\":\"ColumnDataSource\"},\"glyph\":{\"id\":\"ccfa991d-030a-4b7f-b153-aa1585cadc52\",\"type\":\"Rect\"},\"hover_glyph\":null,\"muted_glyph\":null},\"id\":\"bdf52c58-d307-4e50-b1a9-d1308b931b09\",\"type\":\"GlyphRenderer\"},{\"attributes\":{\"data_source\":{\"id\":\"b435c040-2224-41cd-9128-0bf293d6f8a8\",\"type\":\"ColumnDataSource\"},\"glyph\":{\"id\":\"c14a530b-6431-4c12-b0a0-1ca34c06891f\",\"type\":\"Rect\"},\"hover_glyph\":null,\"muted_glyph\":null},\"id\":\"c13b42f0-7fb9-478f-9e1b-d41c5351e000\",\"type\":\"GlyphRenderer\"},{\"attributes\":{\"callback\":null,\"column_names\":[\"x\",\"y\",\"width\",\"height\",\"color\",\"fill_alpha\",\"line_color\",\"line_alpha\",\"label\"],\"data\":{\"chart_index\":[\"(72.623037, 73.617801]\"],\"color\":[\"#f22c40\"],\"fill_alpha\":[0.8],\"height\":[0.0],\"label\":[\"(72.623037, 73.617801]\"],\"line_alpha\":[1.0],\"line_color\":[\"black\"],\"width\":[0.9947643979057545],\"x\":[\"73.120419\"],\"y\":[0.0]}},\"id\":\"cc15bb4b-da7b-4756-b6b4-a0b9ead85fae\",\"type\":\"ColumnDataSource\"},{\"attributes\":{\"fill_alpha\":{\"field\":\"fill_alpha\"},\"fill_color\":{\"field\":\"color\"},\"height\":{\"field\":\"height\",\"units\":\"data\"},\"line_color\":{\"field\":\"line_color\"},\"width\":{\"field\":\"width\",\"units\":\"data\"},\"x\":{\"field\":\"x\"},\"y\":{\"field\":\"y\"}},\"id\":\"df46330c-1d1f-4bfc-98e4-e34043f612f9\",\"type\":\"Rect\"},{\"attributes\":{\"data_source\":{\"id\":\"7b44407e-7150-4902-ac52-02311576d24e\",\"type\":\"ColumnDataSource\"},\"glyph\":{\"id\":\"ec386baf-4f21-4ec4-acc9-81824a9555b5\",\"type\":\"Rect\"},\"hover_glyph\":null,\"muted_glyph\":null},\"id\":\"459fc8ab-1698-4bac-b8e2-f803190920fe\",\"type\":\"GlyphRenderer\"},{\"attributes\":{\"data_source\":{\"id\":\"4e2f0963-c323-4fd6-891f-5b8429d34699\",\"type\":\"ColumnDataSource\"},\"glyph\":{\"id\":\"941505fe-04aa-4a47-b430-1ad1e0dca1d3\",\"type\":\"Rect\"},\"hover_glyph\":null,\"muted_glyph\":null},\"id\":\"f1fd162d-1057-4866-b98e-01fb78af4722\",\"type\":\"GlyphRenderer\"},{\"attributes\":{\"callback\":null,\"column_names\":[\"x\",\"y\",\"width\",\"height\",\"color\",\"fill_alpha\",\"line_color\",\"line_alpha\",\"label\"],\"data\":{\"chart_index\":[\"(170.109948, 171.104712]\"],\"color\":[\"#f22c40\"],\"fill_alpha\":[0.8],\"height\":[0.0],\"label\":[\"(170.109948, 171.104712]\"],\"line_alpha\":[1.0],\"line_color\":[\"black\"],\"width\":[0.9947643979057545],\"x\":[\"170.60733\"],\"y\":[0.0]}},\"id\":\"58f575ad-faf1-438f-97b7-a9a3b74f62f8\",\"type\":\"ColumnDataSource\"},{\"attributes\":{\"fill_alpha\":{\"field\":\"fill_alpha\"},\"fill_color\":{\"field\":\"color\"},\"height\":{\"field\":\"height\",\"units\":\"data\"},\"line_color\":{\"field\":\"line_color\"},\"width\":{\"field\":\"width\",\"units\":\"data\"},\"x\":{\"field\":\"x\"},\"y\":{\"field\":\"y\"}},\"id\":\"5dcb4a94-8478-4f8f-ae76-91b0f07d243b\",\"type\":\"Rect\"},{\"attributes\":{\"callback\":null,\"column_names\":[\"x\",\"y\",\"width\",\"height\",\"color\",\"fill_alpha\",\"line_color\",\"line_alpha\",\"label\"],\"data\":{\"chart_index\":[\"(141.261780, 142.256545]\"],\"color\":[\"#f22c40\"],\"fill_alpha\":[0.8],\"height\":[0.0],\"label\":[\"(141.261780, 142.256545]\"],\"line_alpha\":[1.0],\"line_color\":[\"black\"],\"width\":[0.9947643979057545],\"x\":[\"141.7591625\"],\"y\":[0.0]}},\"id\":\"115f9810-b35d-42d8-812a-ce487039caac\",\"type\":\"ColumnDataSource\"},{\"attributes\":{\"data_source\":{\"id\":\"58f575ad-faf1-438f-97b7-a9a3b74f62f8\",\"type\":\"ColumnDataSource\"},\"glyph\":{\"id\":\"ab033d3a-f4f0-4a07-a789-d2d0fadabe35\",\"type\":\"Rect\"},\"hover_glyph\":null,\"muted_glyph\":null},\"id\":\"7a5078e7-0699-41a9-8f9f-48582000b072\",\"type\":\"GlyphRenderer\"},{\"attributes\":{\"callback\":null,\"column_names\":[\"x\",\"y\",\"width\",\"height\",\"color\",\"fill_alpha\",\"line_color\",\"line_alpha\",\"label\"],\"data\":{\"chart_index\":[\"(6.968586, 7.963351]\"],\"color\":[\"#f22c40\"],\"fill_alpha\":[0.8],\"height\":[38.0],\"label\":[\"(6.968586, 7.963351]\"],\"line_alpha\":[1.0],\"line_color\":[\"black\"],\"width\":[0.994764397905759],\"x\":[\"7.465968500000001\"],\"y\":[19.0]}},\"id\":\"73fc46f6-d224-475f-842b-b11365e1f5c8\",\"type\":\"ColumnDataSource\"},{\"attributes\":{\"fill_alpha\":{\"field\":\"fill_alpha\"},\"fill_color\":{\"field\":\"color\"},\"height\":{\"field\":\"height\",\"units\":\"data\"},\"line_color\":{\"field\":\"line_color\"},\"width\":{\"field\":\"width\",\"units\":\"data\"},\"x\":{\"field\":\"x\"},\"y\":{\"field\":\"y\"}},\"id\":\"915e67a9-2abe-4269-b2d2-705ff0945c63\",\"type\":\"Rect\"},{\"attributes\":{\"callback\":null,\"column_names\":[\"x\",\"y\",\"width\",\"height\",\"color\",\"fill_alpha\",\"line_color\",\"line_alpha\",\"label\"],\"data\":{\"chart_index\":[\"(104.455497, 105.450262]\"],\"color\":[\"#f22c40\"],\"fill_alpha\":[0.8],\"height\":[0.0],\"label\":[\"(104.455497, 105.450262]\"],\"line_alpha\":[1.0],\"line_color\":[\"black\"],\"width\":[0.9947643979057545],\"x\":[\"104.9528795\"],\"y\":[0.0]}},\"id\":\"0cd1fa25-cb70-499c-b671-6440d2a4e54e\",\"type\":\"ColumnDataSource\"},{\"attributes\":{\"fill_alpha\":{\"field\":\"fill_alpha\"},\"fill_color\":{\"field\":\"color\"},\"height\":{\"field\":\"height\",\"units\":\"data\"},\"line_color\":{\"field\":\"line_color\"},\"width\":{\"field\":\"width\",\"units\":\"data\"},\"x\":{\"field\":\"x\"},\"y\":{\"field\":\"y\"}},\"id\":\"6665bef5-d3ef-4983-af6f-70d81c7bb3af\",\"type\":\"Rect\"},{\"attributes\":{\"callback\":null,\"column_names\":[\"x\",\"y\",\"width\",\"height\",\"color\",\"fill_alpha\",\"line_color\",\"line_alpha\",\"label\"],\"data\":{\"chart_index\":[\"(172.099476, 173.094241]\"],\"color\":[\"#f22c40\"],\"fill_alpha\":[0.8],\"height\":[0.0],\"label\":[\"(172.099476, 173.094241]\"],\"line_alpha\":[1.0],\"line_color\":[\"black\"],\"width\":[0.9947643979057545],\"x\":[\"172.5968585\"],\"y\":[0.0]}},\"id\":\"55558265-8b19-4335-94a1-ea2a4dbef67c\",\"type\":\"ColumnDataSource\"},{\"attributes\":{\"fill_alpha\":{\"field\":\"fill_alpha\"},\"fill_color\":{\"field\":\"color\"},\"height\":{\"field\":\"height\",\"units\":\"data\"},\"line_color\":{\"field\":\"line_color\"},\"width\":{\"field\":\"width\",\"units\":\"data\"},\"x\":{\"field\":\"x\"},\"y\":{\"field\":\"y\"}},\"id\":\"1c291bc9-bdad-47b8-a073-187b65c6c0e5\",\"type\":\"Rect\"},{\"attributes\":{\"data_source\":{\"id\":\"94a737d6-fa35-472f-807a-e79b4294c4f8\",\"type\":\"ColumnDataSource\"},\"glyph\":{\"id\":\"115f4778-1651-49ff-82a2-103554bb310e\",\"type\":\"Rect\"},\"hover_glyph\":null,\"muted_glyph\":null},\"id\":\"203f5e81-9120-4537-9945-499712e207af\",\"type\":\"GlyphRenderer\"},{\"attributes\":{\"callback\":null,\"column_names\":[\"x\",\"y\",\"width\",\"height\",\"color\",\"fill_alpha\",\"line_color\",\"line_alpha\",\"label\"],\"data\":{\"chart_index\":[\"(105.450262, 106.445026]\"],\"color\":[\"#f22c40\"],\"fill_alpha\":[0.8],\"height\":[0.0],\"label\":[\"(105.450262, 106.445026]\"],\"line_alpha\":[1.0],\"line_color\":[\"black\"],\"width\":[0.9947643979057688],\"x\":[\"105.947644\"],\"y\":[0.0]}},\"id\":\"aaae5b83-9d55-406b-b9f1-4c4279136a60\",\"type\":\"ColumnDataSource\"},{\"attributes\":{\"data_source\":{\"id\":\"bb491ae9-d6d5-4ea0-8016-b42a19567b49\",\"type\":\"ColumnDataSource\"},\"glyph\":{\"id\":\"c6a1b88e-2a91-47f8-9080-ee3c7bb1f5af\",\"type\":\"Rect\"},\"hover_glyph\":null,\"muted_glyph\":null},\"id\":\"3c9ce9bd-4add-4100-ad1f-3d335d1dbb9c\",\"type\":\"GlyphRenderer\"},{\"attributes\":{\"data_source\":{\"id\":\"1e8a3f0f-9348-4b7c-9ee3-6992b2f15291\",\"type\":\"ColumnDataSource\"},\"glyph\":{\"id\":\"cf687f7d-e889-47ec-bff6-20e07fe0b116\",\"type\":\"Rect\"},\"hover_glyph\":null,\"muted_glyph\":null},\"id\":\"4e00b3c1-0365-4e64-8157-3b414d8cc05d\",\"type\":\"GlyphRenderer\"},{\"attributes\":{\"data_source\":{\"id\":\"bd6ba248-1be1-4eed-84f5-5eef49665d21\",\"type\":\"ColumnDataSource\"},\"glyph\":{\"id\":\"7c4db316-e79a-4629-bd2a-d66a87b5a5bb\",\"type\":\"Rect\"},\"hover_glyph\":null,\"muted_glyph\":null},\"id\":\"8273151a-3fa3-490e-bcfe-82269ade83dc\",\"type\":\"GlyphRenderer\"},{\"attributes\":{\"data_source\":{\"id\":\"9e3e367d-5ece-4d23-992e-283a52066b59\",\"type\":\"ColumnDataSource\"},\"glyph\":{\"id\":\"c27015b6-a4db-468d-bf34-bff01199e718\",\"type\":\"Rect\"},\"hover_glyph\":null,\"muted_glyph\":null},\"id\":\"8a2d8e6b-9222-4367-94f3-3a1f767ff6f9\",\"type\":\"GlyphRenderer\"},{\"attributes\":{\"fill_alpha\":{\"field\":\"fill_alpha\"},\"fill_color\":{\"field\":\"color\"},\"height\":{\"field\":\"height\",\"units\":\"data\"},\"line_color\":{\"field\":\"line_color\"},\"width\":{\"field\":\"width\",\"units\":\"data\"},\"x\":{\"field\":\"x\"},\"y\":{\"field\":\"y\"}},\"id\":\"03286641-6d63-4a99-b8d4-92cbc9788e7f\",\"type\":\"Rect\"},{\"attributes\":{\"fill_alpha\":{\"field\":\"fill_alpha\"},\"fill_color\":{\"field\":\"color\"},\"height\":{\"field\":\"height\",\"units\":\"data\"},\"line_color\":{\"field\":\"line_color\"},\"width\":{\"field\":\"width\",\"units\":\"data\"},\"x\":{\"field\":\"x\"},\"y\":{\"field\":\"y\"}},\"id\":\"9deedb82-ddcb-433d-a81b-5b851bcfe17d\",\"type\":\"Rect\"},{\"attributes\":{\"fill_alpha\":{\"field\":\"fill_alpha\"},\"fill_color\":{\"field\":\"color\"},\"height\":{\"field\":\"height\",\"units\":\"data\"},\"line_color\":{\"field\":\"line_color\"},\"width\":{\"field\":\"width\",\"units\":\"data\"},\"x\":{\"field\":\"x\"},\"y\":{\"field\":\"y\"}},\"id\":\"2134110e-084d-41e9-8bd7-5c5d1bccbd3c\",\"type\":\"Rect\"},{\"attributes\":{\"data_source\":{\"id\":\"9ae8b2ba-6bbd-4888-954b-5d73c72bbc6f\",\"type\":\"ColumnDataSource\"},\"glyph\":{\"id\":\"9431c714-d169-428f-b398-a23b7278e4cc\",\"type\":\"Rect\"},\"hover_glyph\":null,\"muted_glyph\":null},\"id\":\"0c799b65-dde3-4b7a-b336-bb3eb7410504\",\"type\":\"GlyphRenderer\"},{\"attributes\":{\"data_source\":{\"id\":\"0abec5e3-b5cf-4678-a90d-ed87266f33de\",\"type\":\"ColumnDataSource\"},\"glyph\":{\"id\":\"1e694dde-406b-472b-8fc1-f34b50fc446a\",\"type\":\"Rect\"},\"hover_glyph\":null,\"muted_glyph\":null},\"id\":\"d9ebb731-7adc-4eaf-bbe5-9f2361a94515\",\"type\":\"GlyphRenderer\"},{\"attributes\":{\"fill_alpha\":{\"field\":\"fill_alpha\"},\"fill_color\":{\"field\":\"color\"},\"height\":{\"field\":\"height\",\"units\":\"data\"},\"line_color\":{\"field\":\"line_color\"},\"width\":{\"field\":\"width\",\"units\":\"data\"},\"x\":{\"field\":\"x\"},\"y\":{\"field\":\"y\"}},\"id\":\"09cdde81-3b23-4fcc-a73b-7d8993b4c17e\",\"type\":\"Rect\"},{\"attributes\":{\"data_source\":{\"id\":\"0cd1fa25-cb70-499c-b671-6440d2a4e54e\",\"type\":\"ColumnDataSource\"},\"glyph\":{\"id\":\"915e67a9-2abe-4269-b2d2-705ff0945c63\",\"type\":\"Rect\"},\"hover_glyph\":null,\"muted_glyph\":null},\"id\":\"497811e0-3d38-4313-abc5-3a6af6053441\",\"type\":\"GlyphRenderer\"},{\"attributes\":{\"data_source\":{\"id\":\"1ac9e336-0a88-40e8-b189-1a8bed9d8aee\",\"type\":\"ColumnDataSource\"},\"glyph\":{\"id\":\"549187a9-2ea4-4e69-837c-617d26ca4c26\",\"type\":\"Rect\"},\"hover_glyph\":null,\"muted_glyph\":null},\"id\":\"8837a67e-3e97-45a5-af10-1c5632afdf3f\",\"type\":\"GlyphRenderer\"},{\"attributes\":{\"callback\":null,\"column_names\":[\"x\",\"y\",\"width\",\"height\",\"color\",\"fill_alpha\",\"line_color\",\"line_alpha\",\"label\"],\"data\":{\"chart_index\":[\"(73.617801, 74.612565]\"],\"color\":[\"#f22c40\"],\"fill_alpha\":[0.8],\"height\":[0.0],\"label\":[\"(73.617801, 74.612565]\"],\"line_alpha\":[1.0],\"line_color\":[\"black\"],\"width\":[0.9947643979057545],\"x\":[\"74.115183\"],\"y\":[0.0]}},\"id\":\"bddb7c67-26d2-4f75-b962-5431699e7c6a\",\"type\":\"ColumnDataSource\"},{\"attributes\":{\"fill_alpha\":{\"field\":\"fill_alpha\"},\"fill_color\":{\"field\":\"color\"},\"height\":{\"field\":\"height\",\"units\":\"data\"},\"line_color\":{\"field\":\"line_color\"},\"width\":{\"field\":\"width\",\"units\":\"data\"},\"x\":{\"field\":\"x\"},\"y\":{\"field\":\"y\"}},\"id\":\"11810288-a9dd-4b6b-9e00-4fa5eaf411df\",\"type\":\"Rect\"},{\"attributes\":{\"data_source\":{\"id\":\"bddb7c67-26d2-4f75-b962-5431699e7c6a\",\"type\":\"ColumnDataSource\"},\"glyph\":{\"id\":\"03286641-6d63-4a99-b8d4-92cbc9788e7f\",\"type\":\"Rect\"},\"hover_glyph\":null,\"muted_glyph\":null},\"id\":\"0aa8a1b6-8e6f-4870-ac02-13b48a923306\",\"type\":\"GlyphRenderer\"},{\"attributes\":{\"fill_alpha\":{\"field\":\"fill_alpha\"},\"fill_color\":{\"field\":\"color\"},\"height\":{\"field\":\"height\",\"units\":\"data\"},\"line_color\":{\"field\":\"line_color\"},\"width\":{\"field\":\"width\",\"units\":\"data\"},\"x\":{\"field\":\"x\"},\"y\":{\"field\":\"y\"}},\"id\":\"bee537aa-7292-4479-bd0b-448f5dc756db\",\"type\":\"Rect\"},{\"attributes\":{\"fill_alpha\":{\"field\":\"fill_alpha\"},\"fill_color\":{\"field\":\"color\"},\"height\":{\"field\":\"height\",\"units\":\"data\"},\"line_color\":{\"field\":\"line_color\"},\"width\":{\"field\":\"width\",\"units\":\"data\"},\"x\":{\"field\":\"x\"},\"y\":{\"field\":\"y\"}},\"id\":\"5a2f9b0f-28ca-4026-b310-8d09a50d038f\",\"type\":\"Rect\"},{\"attributes\":{\"data_source\":{\"id\":\"cc15bb4b-da7b-4756-b6b4-a0b9ead85fae\",\"type\":\"ColumnDataSource\"},\"glyph\":{\"id\":\"7ac12af4-8821-4bb9-b424-99bfd86d15d3\",\"type\":\"Rect\"},\"hover_glyph\":null,\"muted_glyph\":null},\"id\":\"95ab39b0-5d45-4f2a-8fe0-dce345bf8337\",\"type\":\"GlyphRenderer\"},{\"attributes\":{\"callback\":null,\"column_names\":[\"x\",\"y\",\"width\",\"height\",\"color\",\"fill_alpha\",\"line_color\",\"line_alpha\",\"label\"],\"data\":{\"chart_index\":[\"(140.267016, 141.261780]\"],\"color\":[\"#f22c40\"],\"fill_alpha\":[0.8],\"height\":[0.0],\"label\":[\"(140.267016, 141.261780]\"],\"line_alpha\":[1.0],\"line_color\":[\"black\"],\"width\":[0.9947643979057545],\"x\":[\"140.764398\"],\"y\":[0.0]}},\"id\":\"bb491ae9-d6d5-4ea0-8016-b42a19567b49\",\"type\":\"ColumnDataSource\"},{\"attributes\":{\"callback\":null,\"column_names\":[\"x\",\"y\",\"width\",\"height\",\"color\",\"fill_alpha\",\"line_color\",\"line_alpha\",\"label\"],\"data\":{\"chart_index\":[\"(8.958115, 9.952880]\"],\"color\":[\"#f22c40\"],\"fill_alpha\":[0.8],\"height\":[30.0],\"label\":[\"(8.958115, 9.952880]\"],\"line_alpha\":[1.0],\"line_color\":[\"black\"],\"width\":[0.9947643979057599],\"x\":[\"9.4554975\"],\"y\":[15.0]}},\"id\":\"7a81bda2-df00-4d45-b9c4-1dfd1e9c54ce\",\"type\":\"ColumnDataSource\"},{\"attributes\":{\"fill_alpha\":{\"field\":\"fill_alpha\"},\"fill_color\":{\"field\":\"color\"},\"height\":{\"field\":\"height\",\"units\":\"data\"},\"line_color\":{\"field\":\"line_color\"},\"width\":{\"field\":\"width\",\"units\":\"data\"},\"x\":{\"field\":\"x\"},\"y\":{\"field\":\"y\"}},\"id\":\"c51a40b7-15f7-4302-9f2a-12705f2cc8f9\",\"type\":\"Rect\"},{\"attributes\":{\"data_source\":{\"id\":\"7a81bda2-df00-4d45-b9c4-1dfd1e9c54ce\",\"type\":\"ColumnDataSource\"},\"glyph\":{\"id\":\"1c291bc9-bdad-47b8-a073-187b65c6c0e5\",\"type\":\"Rect\"},\"hover_glyph\":null,\"muted_glyph\":null},\"id\":\"0ec3ca62-fad0-4e62-8fca-046425ad5587\",\"type\":\"GlyphRenderer\"},{\"attributes\":{\"callback\":null,\"column_names\":[\"x\",\"y\",\"width\",\"height\",\"color\",\"fill_alpha\",\"line_color\",\"line_alpha\",\"label\"],\"data\":{\"chart_index\":[\"(154.193717, 155.188482]\"],\"color\":[\"#f22c40\"],\"fill_alpha\":[0.8],\"height\":[0.0],\"label\":[\"(154.193717, 155.188482]\"],\"line_alpha\":[1.0],\"line_color\":[\"black\"],\"width\":[0.9947643979057545],\"x\":[\"154.6910995\"],\"y\":[0.0]}},\"id\":\"f39cb98e-1b0b-4ce7-adaf-369e3f143cff\",\"type\":\"ColumnDataSource\"},{\"attributes\":{\"fill_alpha\":{\"field\":\"fill_alpha\"},\"fill_color\":{\"field\":\"color\"},\"height\":{\"field\":\"height\",\"units\":\"data\"},\"line_color\":{\"field\":\"line_color\"},\"width\":{\"field\":\"width\",\"units\":\"data\"},\"x\":{\"field\":\"x\"},\"y\":{\"field\":\"y\"}},\"id\":\"c14a530b-6431-4c12-b0a0-1ca34c06891f\",\"type\":\"Rect\"},{\"attributes\":{\"data_source\":{\"id\":\"73fc46f6-d224-475f-842b-b11365e1f5c8\",\"type\":\"ColumnDataSource\"},\"glyph\":{\"id\":\"5dcb4a94-8478-4f8f-ae76-91b0f07d243b\",\"type\":\"Rect\"},\"hover_glyph\":null,\"muted_glyph\":null},\"id\":\"91c3fb4a-1059-4e5e-b9e2-897cc8de44bf\",\"type\":\"GlyphRenderer\"},{\"attributes\":{\"data_source\":{\"id\":\"115f9810-b35d-42d8-812a-ce487039caac\",\"type\":\"ColumnDataSource\"},\"glyph\":{\"id\":\"2134110e-084d-41e9-8bd7-5c5d1bccbd3c\",\"type\":\"Rect\"},\"hover_glyph\":null,\"muted_glyph\":null},\"id\":\"571279f7-091c-4acf-8318-816c466a9358\",\"type\":\"GlyphRenderer\"},{\"attributes\":{\"data_source\":{\"id\":\"eb342a7b-8453-4ea5-99b9-3d294bd47041\",\"type\":\"ColumnDataSource\"},\"glyph\":{\"id\":\"f94dbe6a-6f89-4916-9061-0186323071bf\",\"type\":\"Rect\"},\"hover_glyph\":null,\"muted_glyph\":null},\"id\":\"2a25e56d-b574-49a1-abc1-d4a26f47db27\",\"type\":\"GlyphRenderer\"},{\"attributes\":{\"data_source\":{\"id\":\"55558265-8b19-4335-94a1-ea2a4dbef67c\",\"type\":\"ColumnDataSource\"},\"glyph\":{\"id\":\"6665bef5-d3ef-4983-af6f-70d81c7bb3af\",\"type\":\"Rect\"},\"hover_glyph\":null,\"muted_glyph\":null},\"id\":\"66fc2eb8-b864-49b6-9c95-1acbe3941542\",\"type\":\"GlyphRenderer\"},{\"attributes\":{\"fill_alpha\":{\"field\":\"fill_alpha\"},\"fill_color\":{\"field\":\"color\"},\"height\":{\"field\":\"height\",\"units\":\"data\"},\"line_color\":{\"field\":\"line_color\"},\"width\":{\"field\":\"width\",\"units\":\"data\"},\"x\":{\"field\":\"x\"},\"y\":{\"field\":\"y\"}},\"id\":\"0c1dd333-1625-41af-9159-562553b5911f\",\"type\":\"Rect\"},{\"attributes\":{\"data_source\":{\"id\":\"aaae5b83-9d55-406b-b9f1-4c4279136a60\",\"type\":\"ColumnDataSource\"},\"glyph\":{\"id\":\"df46330c-1d1f-4bfc-98e4-e34043f612f9\",\"type\":\"Rect\"},\"hover_glyph\":null,\"muted_glyph\":null},\"id\":\"18ac9138-9fd9-4ebe-bec7-0448dc3e1db6\",\"type\":\"GlyphRenderer\"},{\"attributes\":{\"fill_alpha\":{\"field\":\"fill_alpha\"},\"fill_color\":{\"field\":\"color\"},\"height\":{\"field\":\"height\",\"units\":\"data\"},\"line_color\":{\"field\":\"line_color\"},\"width\":{\"field\":\"width\",\"units\":\"data\"},\"x\":{\"field\":\"x\"},\"y\":{\"field\":\"y\"}},\"id\":\"4d3413c6-79a9-44c0-b08c-494233373f70\",\"type\":\"Rect\"},{\"attributes\":{\"callback\":null,\"column_names\":[\"x\",\"y\",\"width\",\"height\",\"color\",\"fill_alpha\",\"line_color\",\"line_alpha\",\"label\"],\"data\":{\"chart_index\":[\"(40.790576, 41.785340]\"],\"color\":[\"#f22c40\"],\"fill_alpha\":[0.8],\"height\":[2.0],\"label\":[\"(40.790576, 41.785340]\"],\"line_alpha\":[1.0],\"line_color\":[\"black\"],\"width\":[0.9947643979057617],\"x\":[\"41.287958\"],\"y\":[1.0]}},\"id\":\"016249a3-91f3-4db0-b55d-a860affef231\",\"type\":\"ColumnDataSource\"},{\"attributes\":{\"callback\":null,\"column_names\":[\"x\",\"y\",\"width\",\"height\",\"color\",\"fill_alpha\",\"line_color\",\"line_alpha\",\"label\"],\"data\":{\"chart_index\":[\"(107.439791, 108.434555]\"],\"color\":[\"#f22c40\"],\"fill_alpha\":[0.8],\"height\":[0.0],\"label\":[\"(107.439791, 108.434555]\"],\"line_alpha\":[1.0],\"line_color\":[\"black\"],\"width\":[0.9947643979057545],\"x\":[\"107.937173\"],\"y\":[0.0]}},\"id\":\"fd8b31fb-eade-486f-94bb-28298b7e1d8a\",\"type\":\"ColumnDataSource\"},{\"attributes\":{\"fill_alpha\":{\"field\":\"fill_alpha\"},\"fill_color\":{\"field\":\"color\"},\"height\":{\"field\":\"height\",\"units\":\"data\"},\"line_color\":{\"field\":\"line_color\"},\"width\":{\"field\":\"width\",\"units\":\"data\"},\"x\":{\"field\":\"x\"},\"y\":{\"field\":\"y\"}},\"id\":\"e3a43418-da5d-4569-bc45-e39d834c9e35\",\"type\":\"Rect\"},{\"attributes\":{\"callback\":null,\"column_names\":[\"x\",\"y\",\"width\",\"height\",\"color\",\"fill_alpha\",\"line_color\",\"line_alpha\",\"label\"],\"data\":{\"chart_index\":[\"(106.445026, 107.439791]\"],\"color\":[\"#f22c40\"],\"fill_alpha\":[0.8],\"height\":[0.0],\"label\":[\"(106.445026, 107.439791]\"],\"line_alpha\":[1.0],\"line_color\":[\"black\"],\"width\":[0.9947643979057545],\"x\":[\"106.9424085\"],\"y\":[0.0]}},\"id\":\"82f61acc-48e5-475a-8f72-c694240f3d15\",\"type\":\"ColumnDataSource\"},{\"attributes\":{\"data_source\":{\"id\":\"82f61acc-48e5-475a-8f72-c694240f3d15\",\"type\":\"ColumnDataSource\"},\"glyph\":{\"id\":\"bee537aa-7292-4479-bd0b-448f5dc756db\",\"type\":\"Rect\"},\"hover_glyph\":null,\"muted_glyph\":null},\"id\":\"f1e80e11-d5f5-4cf3-816f-16293192b261\",\"type\":\"GlyphRenderer\"},{\"attributes\":{\"data_source\":{\"id\":\"f39cb98e-1b0b-4ce7-adaf-369e3f143cff\",\"type\":\"ColumnDataSource\"},\"glyph\":{\"id\":\"d1f6f291-2a8d-40b6-b1ae-1e631add486a\",\"type\":\"Rect\"},\"hover_glyph\":null,\"muted_glyph\":null},\"id\":\"a9b7b009-baa8-43f5-9941-8ac02329c622\",\"type\":\"GlyphRenderer\"},{\"attributes\":{\"callback\":null,\"column_names\":[\"x\",\"y\",\"width\",\"height\",\"color\",\"fill_alpha\",\"line_color\",\"line_alpha\",\"label\"],\"data\":{\"chart_index\":[\"(39.795812, 40.790576]\"],\"color\":[\"#f22c40\"],\"fill_alpha\":[0.8],\"height\":[0.0],\"label\":[\"(39.795812, 40.790576]\"],\"line_alpha\":[1.0],\"line_color\":[\"black\"],\"width\":[0.9947643979057545],\"x\":[\"40.293194\"],\"y\":[0.0]}},\"id\":\"4a5f6794-1deb-44d1-ae29-2cb09e7771a7\",\"type\":\"ColumnDataSource\"},{\"attributes\":{\"fill_alpha\":{\"field\":\"fill_alpha\"},\"fill_color\":{\"field\":\"color\"},\"height\":{\"field\":\"height\",\"units\":\"data\"},\"line_color\":{\"field\":\"line_color\"},\"width\":{\"field\":\"width\",\"units\":\"data\"},\"x\":{\"field\":\"x\"},\"y\":{\"field\":\"y\"}},\"id\":\"3d134f9e-48b3-4413-a4cf-6977d4a07656\",\"type\":\"Rect\"},{\"attributes\":{\"data_source\":{\"id\":\"4a5f6794-1deb-44d1-ae29-2cb09e7771a7\",\"type\":\"ColumnDataSource\"},\"glyph\":{\"id\":\"859aaa83-20de-499e-bae1-6b69b53c8932\",\"type\":\"Rect\"},\"hover_glyph\":null,\"muted_glyph\":null},\"id\":\"512b2df0-566f-4100-a043-91ccc20b6452\",\"type\":\"GlyphRenderer\"},{\"attributes\":{\"callback\":null,\"column_names\":[\"x\",\"y\",\"width\",\"height\",\"color\",\"fill_alpha\",\"line_color\",\"line_alpha\",\"label\"],\"data\":{\"chart_index\":[\"(108.434555, 109.429319]\"],\"color\":[\"#f22c40\"],\"fill_alpha\":[0.8],\"height\":[0.0],\"label\":[\"(108.434555, 109.429319]\"],\"line_alpha\":[1.0],\"line_color\":[\"black\"],\"width\":[0.9947643979057688],\"x\":[\"108.931937\"],\"y\":[0.0]}},\"id\":\"319158a9-8eff-4072-8c3b-154581a28738\",\"type\":\"ColumnDataSource\"},{\"attributes\":{\"callback\":null,\"column_names\":[\"x\",\"y\",\"width\",\"height\",\"color\",\"fill_alpha\",\"line_color\",\"line_alpha\",\"label\"],\"data\":{\"chart_index\":[\"(41.785340, 42.780105]\"],\"color\":[\"#f22c40\"],\"fill_alpha\":[0.8],\"height\":[1.0],\"label\":[\"(41.785340, 42.780105]\"],\"line_alpha\":[1.0],\"line_color\":[\"black\"],\"width\":[0.9947643979057617],\"x\":[\"42.2827225\"],\"y\":[0.5]}},\"id\":\"a38cb379-6ff9-4439-baed-08d4099f6815\",\"type\":\"ColumnDataSource\"},{\"attributes\":{\"fill_alpha\":{\"field\":\"fill_alpha\"},\"fill_color\":{\"field\":\"color\"},\"height\":{\"field\":\"height\",\"units\":\"data\"},\"line_color\":{\"field\":\"line_color\"},\"width\":{\"field\":\"width\",\"units\":\"data\"},\"x\":{\"field\":\"x\"},\"y\":{\"field\":\"y\"}},\"id\":\"60cbb1b3-8b87-445d-a179-3e1c8270c959\",\"type\":\"Rect\"},{\"attributes\":{\"callback\":null,\"column_names\":[\"x\",\"y\",\"width\",\"height\",\"color\",\"fill_alpha\",\"line_color\",\"line_alpha\",\"label\"],\"data\":{\"chart_index\":[\"(110.424084, 111.418848]\"],\"color\":[\"#f22c40\"],\"fill_alpha\":[0.8],\"height\":[0.0],\"label\":[\"(110.424084, 111.418848]\"],\"line_alpha\":[1.0],\"line_color\":[\"black\"],\"width\":[0.9947643979057545],\"x\":[\"110.921466\"],\"y\":[0.0]}},\"id\":\"9ae8b2ba-6bbd-4888-954b-5d73c72bbc6f\",\"type\":\"ColumnDataSource\"},{\"attributes\":{\"data_source\":{\"id\":\"fd8b31fb-eade-486f-94bb-28298b7e1d8a\",\"type\":\"ColumnDataSource\"},\"glyph\":{\"id\":\"4d3413c6-79a9-44c0-b08c-494233373f70\",\"type\":\"Rect\"},\"hover_glyph\":null,\"muted_glyph\":null},\"id\":\"fb1cf68f-4e2b-4d99-acb7-95befa02b84b\",\"type\":\"GlyphRenderer\"},{\"attributes\":{\"fill_alpha\":{\"field\":\"fill_alpha\"},\"fill_color\":{\"field\":\"color\"},\"height\":{\"field\":\"height\",\"units\":\"data\"},\"line_color\":{\"field\":\"line_color\"},\"width\":{\"field\":\"width\",\"units\":\"data\"},\"x\":{\"field\":\"x\"},\"y\":{\"field\":\"y\"}},\"id\":\"9431c714-d169-428f-b398-a23b7278e4cc\",\"type\":\"Rect\"},{\"attributes\":{\"fill_alpha\":{\"field\":\"fill_alpha\"},\"fill_color\":{\"field\":\"color\"},\"height\":{\"field\":\"height\",\"units\":\"data\"},\"line_color\":{\"field\":\"line_color\"},\"width\":{\"field\":\"width\",\"units\":\"data\"},\"x\":{\"field\":\"x\"},\"y\":{\"field\":\"y\"}},\"id\":\"4502fdb4-e120-482e-88f0-4b30d1ea60a2\",\"type\":\"Rect\"},{\"attributes\":{\"fill_alpha\":{\"field\":\"fill_alpha\"},\"fill_color\":{\"field\":\"color\"},\"height\":{\"field\":\"height\",\"units\":\"data\"},\"line_color\":{\"field\":\"line_color\"},\"width\":{\"field\":\"width\",\"units\":\"data\"},\"x\":{\"field\":\"x\"},\"y\":{\"field\":\"y\"}},\"id\":\"51cf4297-1c34-4889-8b3f-eecb50670856\",\"type\":\"Rect\"},{\"attributes\":{\"data_source\":{\"id\":\"016249a3-91f3-4db0-b55d-a860affef231\",\"type\":\"ColumnDataSource\"},\"glyph\":{\"id\":\"e3a43418-da5d-4569-bc45-e39d834c9e35\",\"type\":\"Rect\"},\"hover_glyph\":null,\"muted_glyph\":null},\"id\":\"b69648c4-8f5b-478a-84c9-d0279c6a55e7\",\"type\":\"GlyphRenderer\"},{\"attributes\":{\"callback\":null,\"end\":2789.6000000000004},\"id\":\"db4e7e2c-a701-46f1-ac99-cd382701ea75\",\"type\":\"Range1d\"},{\"attributes\":{\"fill_alpha\":{\"field\":\"fill_alpha\"},\"fill_color\":{\"field\":\"color\"},\"height\":{\"field\":\"height\",\"units\":\"data\"},\"line_color\":{\"field\":\"line_color\"},\"width\":{\"field\":\"width\",\"units\":\"data\"},\"x\":{\"field\":\"x\"},\"y\":{\"field\":\"y\"}},\"id\":\"a798a7fc-e9c5-465c-983b-99ad97fde772\",\"type\":\"Rect\"},{\"attributes\":{\"data_source\":{\"id\":\"319158a9-8eff-4072-8c3b-154581a28738\",\"type\":\"ColumnDataSource\"},\"glyph\":{\"id\":\"3d134f9e-48b3-4413-a4cf-6977d4a07656\",\"type\":\"Rect\"},\"hover_glyph\":null,\"muted_glyph\":null},\"id\":\"19e618d2-7655-4443-9e58-b0366868268e\",\"type\":\"GlyphRenderer\"},{\"attributes\":{\"fill_alpha\":{\"field\":\"fill_alpha\"},\"fill_color\":{\"field\":\"color\"},\"height\":{\"field\":\"height\",\"units\":\"data\"},\"line_color\":{\"field\":\"line_color\"},\"width\":{\"field\":\"width\",\"units\":\"data\"},\"x\":{\"field\":\"x\"},\"y\":{\"field\":\"y\"}},\"id\":\"2d78ce97-29a9-4e32-9abd-3409720da783\",\"type\":\"Rect\"},{\"attributes\":{\"callback\":null,\"column_names\":[\"x\",\"y\",\"width\",\"height\",\"color\",\"fill_alpha\",\"line_color\",\"line_alpha\",\"label\"],\"data\":{\"chart_index\":[\"(143.251309, 144.246073]\"],\"color\":[\"#f22c40\"],\"fill_alpha\":[0.8],\"height\":[0.0],\"label\":[\"(143.251309, 144.246073]\"],\"line_alpha\":[1.0],\"line_color\":[\"black\"],\"width\":[0.994764397905783],\"x\":[\"143.748691\"],\"y\":[0.0]}},\"id\":\"377380f4-97ee-4e8f-be30-228019be3a4b\",\"type\":\"ColumnDataSource\"},{\"attributes\":{\"callback\":null,\"column_names\":[\"x\",\"y\",\"width\",\"height\",\"color\",\"fill_alpha\",\"line_color\",\"line_alpha\",\"label\"],\"data\":{\"chart_index\":[\"(174.089005, 175.083770]\"],\"color\":[\"#f22c40\"],\"fill_alpha\":[0.8],\"height\":[0.0],\"label\":[\"(174.089005, 175.083770]\"],\"line_alpha\":[1.0],\"line_color\":[\"black\"],\"width\":[0.9947643979057545],\"x\":[\"174.5863875\"],\"y\":[0.0]}},\"id\":\"5bda18f1-08e3-40cc-8a70-a3a2f398d31c\",\"type\":\"ColumnDataSource\"},{\"attributes\":{\"fill_alpha\":{\"field\":\"fill_alpha\"},\"fill_color\":{\"field\":\"color\"},\"height\":{\"field\":\"height\",\"units\":\"data\"},\"line_color\":{\"field\":\"line_color\"},\"width\":{\"field\":\"width\",\"units\":\"data\"},\"x\":{\"field\":\"x\"},\"y\":{\"field\":\"y\"}},\"id\":\"74dbf3bd-be1d-43ae-9e13-3019ed55728e\",\"type\":\"Rect\"},{\"attributes\":{\"callback\":null,\"column_names\":[\"x\",\"y\",\"width\",\"height\",\"color\",\"fill_alpha\",\"line_color\",\"line_alpha\",\"label\"],\"data\":{\"chart_index\":[\"(16.916230, 17.910995]\"],\"color\":[\"#f22c40\"],\"fill_alpha\":[0.8],\"height\":[5.0],\"label\":[\"(16.916230, 17.910995]\"],\"line_alpha\":[1.0],\"line_color\":[\"black\"],\"width\":[0.9947643979057581],\"x\":[\"17.4136125\"],\"y\":[2.5]}},\"id\":\"7ab21a0f-4b5d-4ef1-ba60-59b2103b9bb7\",\"type\":\"ColumnDataSource\"},{\"attributes\":{\"fill_alpha\":{\"field\":\"fill_alpha\"},\"fill_color\":{\"field\":\"color\"},\"height\":{\"field\":\"height\",\"units\":\"data\"},\"line_color\":{\"field\":\"line_color\"},\"width\":{\"field\":\"width\",\"units\":\"data\"},\"x\":{\"field\":\"x\"},\"y\":{\"field\":\"y\"}},\"id\":\"a4383617-31f1-479a-bf36-1de1d32a10ad\",\"type\":\"Rect\"},{\"attributes\":{\"data_source\":{\"id\":\"d19146be-7c09-4c9c-abb8-387c539c67a8\",\"type\":\"ColumnDataSource\"},\"glyph\":{\"id\":\"3ecd84b7-36a2-4d3a-bca5-3a3e63bb574c\",\"type\":\"Rect\"},\"hover_glyph\":null,\"muted_glyph\":null},\"id\":\"d6bb1fb6-afca-41ab-82d8-9a33beb185bf\",\"type\":\"GlyphRenderer\"},{\"attributes\":{\"callback\":null,\"column_names\":[\"x\",\"y\",\"width\",\"height\",\"color\",\"fill_alpha\",\"line_color\",\"line_alpha\",\"label\"],\"data\":{\"chart_index\":[\"(10.947644, 11.942408]\"],\"color\":[\"#f22c40\"],\"fill_alpha\":[0.8],\"height\":[11.0],\"label\":[\"(10.947644, 11.942408]\"],\"line_alpha\":[1.0],\"line_color\":[\"black\"],\"width\":[0.9947643979057599],\"x\":[\"11.445026\"],\"y\":[5.5]}},\"id\":\"bb27c144-4468-47e7-b053-9174ed5b10ea\",\"type\":\"ColumnDataSource\"},{\"attributes\":{\"callback\":null,\"column_names\":[\"x\",\"y\",\"width\",\"height\",\"color\",\"fill_alpha\",\"line_color\",\"line_alpha\",\"label\"],\"data\":{\"chart_index\":[\"(142.256545, 143.251309]\"],\"color\":[\"#f22c40\"],\"fill_alpha\":[0.8],\"height\":[0.0],\"label\":[\"(142.256545, 143.251309]\"],\"line_alpha\":[1.0],\"line_color\":[\"black\"],\"width\":[0.9947643979057545],\"x\":[\"142.75392699999998\"],\"y\":[0.0]}},\"id\":\"2c6348e2-2e33-43ad-8391-bad248456161\",\"type\":\"ColumnDataSource\"},{\"attributes\":{\"callback\":null,\"column_names\":[\"x\",\"y\",\"width\",\"height\",\"color\",\"fill_alpha\",\"line_color\",\"line_alpha\",\"label\"],\"data\":{\"chart_index\":[\"(173.094241, 174.089005]\"],\"color\":[\"#f22c40\"],\"fill_alpha\":[0.8],\"height\":[0.0],\"label\":[\"(173.094241, 174.089005]\"],\"line_alpha\":[1.0],\"line_color\":[\"black\"],\"width\":[0.994764397905783],\"x\":[\"173.591623\"],\"y\":[0.0]}},\"id\":\"0d930e04-fd37-400e-a415-7f21344a2795\",\"type\":\"ColumnDataSource\"},{\"attributes\":{\"data_source\":{\"id\":\"2c6348e2-2e33-43ad-8391-bad248456161\",\"type\":\"ColumnDataSource\"},\"glyph\":{\"id\":\"5a2f9b0f-28ca-4026-b310-8d09a50d038f\",\"type\":\"Rect\"},\"hover_glyph\":null,\"muted_glyph\":null},\"id\":\"e55f5026-c49e-4583-8697-bb96f10ef328\",\"type\":\"GlyphRenderer\"},{\"attributes\":{\"data_source\":{\"id\":\"0d930e04-fd37-400e-a415-7f21344a2795\",\"type\":\"ColumnDataSource\"},\"glyph\":{\"id\":\"11810288-a9dd-4b6b-9e00-4fa5eaf411df\",\"type\":\"Rect\"},\"hover_glyph\":null,\"muted_glyph\":null},\"id\":\"897399c9-5dea-4e62-9104-3280c3dde960\",\"type\":\"GlyphRenderer\"},{\"attributes\":{\"callback\":null,\"column_names\":[\"x\",\"y\",\"width\",\"height\",\"color\",\"fill_alpha\",\"line_color\",\"line_alpha\",\"label\"],\"data\":{\"chart_index\":[\"(7.963351, 8.958115]\"],\"color\":[\"#f22c40\"],\"fill_alpha\":[0.8],\"height\":[37.0],\"label\":[\"(7.963351, 8.958115]\"],\"line_alpha\":[1.0],\"line_color\":[\"black\"],\"width\":[0.994764397905759],\"x\":[\"8.460733\"],\"y\":[18.5]}},\"id\":\"651ab2c5-cee4-46f4-bfb1-30b17722576c\",\"type\":\"ColumnDataSource\"},{\"attributes\":{\"fill_alpha\":{\"field\":\"fill_alpha\"},\"fill_color\":{\"field\":\"color\"},\"height\":{\"field\":\"height\",\"units\":\"data\"},\"line_color\":{\"field\":\"line_color\"},\"width\":{\"field\":\"width\",\"units\":\"data\"},\"x\":{\"field\":\"x\"},\"y\":{\"field\":\"y\"}},\"id\":\"3d6a4b20-8788-43be-b790-892758786852\",\"type\":\"Rect\"},{\"attributes\":{\"data_source\":{\"id\":\"651ab2c5-cee4-46f4-bfb1-30b17722576c\",\"type\":\"ColumnDataSource\"},\"glyph\":{\"id\":\"09cdde81-3b23-4fcc-a73b-7d8993b4c17e\",\"type\":\"Rect\"},\"hover_glyph\":null,\"muted_glyph\":null},\"id\":\"37d958b8-b607-442e-8d91-bd393c65766a\",\"type\":\"GlyphRenderer\"},{\"attributes\":{\"callback\":null,\"column_names\":[\"x\",\"y\",\"width\",\"height\",\"color\",\"fill_alpha\",\"line_color\",\"line_alpha\",\"label\"],\"data\":{\"chart_index\":[\"(144.246073, 145.240838]\"],\"color\":[\"#f22c40\"],\"fill_alpha\":[0.8],\"height\":[0.0],\"label\":[\"(144.246073, 145.240838]\"],\"line_alpha\":[1.0],\"line_color\":[\"black\"],\"width\":[0.9947643979057545],\"x\":[\"144.74345549999998\"],\"y\":[0.0]}},\"id\":\"748de79c-1fe1-4bb5-bb6d-fa0ac6331060\",\"type\":\"ColumnDataSource\"},{\"attributes\":{\"data_source\":{\"id\":\"a1d1edda-ea95-4306-96c4-53d0e634f1f4\",\"type\":\"ColumnDataSource\"},\"glyph\":{\"id\":\"476008b5-1a6e-47be-8623-4d31311c5c2a\",\"type\":\"Rect\"},\"hover_glyph\":null,\"muted_glyph\":null},\"id\":\"c20f7c15-bbdc-4d04-8ff6-0eeb9e8bd7e9\",\"type\":\"GlyphRenderer\"},{\"attributes\":{\"data_source\":{\"id\":\"78c615ce-8d87-4d2e-86f1-4100c4f1dc11\",\"type\":\"ColumnDataSource\"},\"glyph\":{\"id\":\"76a1e7ed-1a87-4f9f-9ba2-88cee41e3c36\",\"type\":\"Rect\"},\"hover_glyph\":null,\"muted_glyph\":null},\"id\":\"07878045-7063-4c1d-b194-57315c493073\",\"type\":\"GlyphRenderer\"},{\"attributes\":{\"fill_alpha\":{\"field\":\"fill_alpha\"},\"fill_color\":{\"field\":\"color\"},\"height\":{\"field\":\"height\",\"units\":\"data\"},\"line_color\":{\"field\":\"line_color\"},\"width\":{\"field\":\"width\",\"units\":\"data\"},\"x\":{\"field\":\"x\"},\"y\":{\"field\":\"y\"}},\"id\":\"23ccfb4c-51e2-4786-84e9-c02cd4513c28\",\"type\":\"Rect\"},{\"attributes\":{\"data_source\":{\"id\":\"241b41cc-15d3-40aa-a9b9-00b092afdf3e\",\"type\":\"ColumnDataSource\"},\"glyph\":{\"id\":\"c51a40b7-15f7-4302-9f2a-12705f2cc8f9\",\"type\":\"Rect\"},\"hover_glyph\":null,\"muted_glyph\":null},\"id\":\"9b0b6c79-2d51-45c2-af54-2a876f8c8f2a\",\"type\":\"GlyphRenderer\"},{\"attributes\":{\"fill_alpha\":{\"field\":\"fill_alpha\"},\"fill_color\":{\"field\":\"color\"},\"height\":{\"field\":\"height\",\"units\":\"data\"},\"line_color\":{\"field\":\"line_color\"},\"width\":{\"field\":\"width\",\"units\":\"data\"},\"x\":{\"field\":\"x\"},\"y\":{\"field\":\"y\"}},\"id\":\"4caad8cf-d4fd-4853-8a73-94dc26dab41d\",\"type\":\"Rect\"},{\"attributes\":{\"fill_alpha\":{\"field\":\"fill_alpha\"},\"fill_color\":{\"field\":\"color\"},\"height\":{\"field\":\"height\",\"units\":\"data\"},\"line_color\":{\"field\":\"line_color\"},\"width\":{\"field\":\"width\",\"units\":\"data\"},\"x\":{\"field\":\"x\"},\"y\":{\"field\":\"y\"}},\"id\":\"476008b5-1a6e-47be-8623-4d31311c5c2a\",\"type\":\"Rect\"},{\"attributes\":{\"data_source\":{\"id\":\"377380f4-97ee-4e8f-be30-228019be3a4b\",\"type\":\"ColumnDataSource\"},\"glyph\":{\"id\":\"74dbf3bd-be1d-43ae-9e13-3019ed55728e\",\"type\":\"Rect\"},\"hover_glyph\":null,\"muted_glyph\":null},\"id\":\"79e88c2a-8317-4fd3-b651-80378aaeb586\",\"type\":\"GlyphRenderer\"},{\"attributes\":{\"data_source\":{\"id\":\"5bda18f1-08e3-40cc-8a70-a3a2f398d31c\",\"type\":\"ColumnDataSource\"},\"glyph\":{\"id\":\"a4383617-31f1-479a-bf36-1de1d32a10ad\",\"type\":\"Rect\"},\"hover_glyph\":null,\"muted_glyph\":null},\"id\":\"cd31f6c3-a8e1-449d-bd5a-0fef93b19ea2\",\"type\":\"GlyphRenderer\"},{\"attributes\":{\"fill_alpha\":{\"field\":\"fill_alpha\"},\"fill_color\":{\"field\":\"color\"},\"height\":{\"field\":\"height\",\"units\":\"data\"},\"line_color\":{\"field\":\"line_color\"},\"width\":{\"field\":\"width\",\"units\":\"data\"},\"x\":{\"field\":\"x\"},\"y\":{\"field\":\"y\"}},\"id\":\"6086fa88-c8f4-458b-9217-0b69f0b7eaef\",\"type\":\"Rect\"},{\"attributes\":{\"fill_alpha\":{\"field\":\"fill_alpha\"},\"fill_color\":{\"field\":\"color\"},\"height\":{\"field\":\"height\",\"units\":\"data\"},\"line_color\":{\"field\":\"line_color\"},\"width\":{\"field\":\"width\",\"units\":\"data\"},\"x\":{\"field\":\"x\"},\"y\":{\"field\":\"y\"}},\"id\":\"d1f6f291-2a8d-40b6-b1ae-1e631add486a\",\"type\":\"Rect\"},{\"attributes\":{\"fill_alpha\":{\"field\":\"fill_alpha\"},\"fill_color\":{\"field\":\"color\"},\"height\":{\"field\":\"height\",\"units\":\"data\"},\"line_color\":{\"field\":\"line_color\"},\"width\":{\"field\":\"width\",\"units\":\"data\"},\"x\":{\"field\":\"x\"},\"y\":{\"field\":\"y\"}},\"id\":\"98f968b1-7ec9-4ad9-8b0c-4b2fa514f967\",\"type\":\"Rect\"},{\"attributes\":{\"callback\":null,\"column_names\":[\"x\",\"y\",\"width\",\"height\",\"color\",\"fill_alpha\",\"line_color\",\"line_alpha\",\"label\"],\"data\":{\"chart_index\":[\"(177.073298, 178.068063]\"],\"color\":[\"#f22c40\"],\"fill_alpha\":[0.8],\"height\":[0.0],\"label\":[\"(177.073298, 178.068063]\"],\"line_alpha\":[1.0],\"line_color\":[\"black\"],\"width\":[0.9947643979057545],\"x\":[\"177.57068049999998\"],\"y\":[0.0]}},\"id\":\"a1d1edda-ea95-4306-96c4-53d0e634f1f4\",\"type\":\"ColumnDataSource\"},{\"attributes\":{\"callback\":null,\"column_names\":[\"x\",\"y\",\"width\",\"height\",\"color\",\"fill_alpha\",\"line_color\",\"line_alpha\",\"label\"],\"data\":{\"chart_index\":[\"(176.078534, 177.073298]\"],\"color\":[\"#f22c40\"],\"fill_alpha\":[0.8],\"height\":[0.0],\"label\":[\"(176.078534, 177.073298]\"],\"line_alpha\":[1.0],\"line_color\":[\"black\"],\"width\":[0.9947643979057545],\"x\":[\"176.575916\"],\"y\":[0.0]}},\"id\":\"241b41cc-15d3-40aa-a9b9-00b092afdf3e\",\"type\":\"ColumnDataSource\"},{\"attributes\":{\"callback\":null,\"column_names\":[\"x\",\"y\",\"width\",\"height\",\"color\",\"fill_alpha\",\"line_color\",\"line_alpha\",\"label\"],\"data\":{\"chart_index\":[\"(146.235602, 147.230366]\"],\"color\":[\"#f22c40\"],\"fill_alpha\":[0.8],\"height\":[0.0],\"label\":[\"(146.235602, 147.230366]\"],\"line_alpha\":[1.0],\"line_color\":[\"black\"],\"width\":[0.9947643979057545],\"x\":[\"146.732984\"],\"y\":[0.0]}},\"id\":\"d19146be-7c09-4c9c-abb8-387c539c67a8\",\"type\":\"ColumnDataSource\"},{\"attributes\":{\"fill_alpha\":{\"field\":\"fill_alpha\"},\"fill_color\":{\"field\":\"color\"},\"height\":{\"field\":\"height\",\"units\":\"data\"},\"line_color\":{\"field\":\"line_color\"},\"width\":{\"field\":\"width\",\"units\":\"data\"},\"x\":{\"field\":\"x\"},\"y\":{\"field\":\"y\"}},\"id\":\"3ecd84b7-36a2-4d3a-bca5-3a3e63bb574c\",\"type\":\"Rect\"},{\"attributes\":{\"fill_alpha\":{\"field\":\"fill_alpha\"},\"fill_color\":{\"field\":\"color\"},\"height\":{\"field\":\"height\",\"units\":\"data\"},\"line_color\":{\"field\":\"line_color\"},\"width\":{\"field\":\"width\",\"units\":\"data\"},\"x\":{\"field\":\"x\"},\"y\":{\"field\":\"y\"}},\"id\":\"0fc1d29d-dfc6-4fc1-a810-746669ca6332\",\"type\":\"Rect\"},{\"attributes\":{\"data_source\":{\"id\":\"748de79c-1fe1-4bb5-bb6d-fa0ac6331060\",\"type\":\"ColumnDataSource\"},\"glyph\":{\"id\":\"3d6a4b20-8788-43be-b790-892758786852\",\"type\":\"Rect\"},\"hover_glyph\":null,\"muted_glyph\":null},\"id\":\"0c00e99a-eca0-41a7-9d03-c3cb6aa71db7\",\"type\":\"GlyphRenderer\"},{\"attributes\":{\"callback\":null,\"column_names\":[\"x\",\"y\",\"width\",\"height\",\"color\",\"fill_alpha\",\"line_color\",\"line_alpha\",\"label\"],\"data\":{\"chart_index\":[\"(183.041885, 184.036649]\"],\"color\":[\"#f22c40\"],\"fill_alpha\":[0.8],\"height\":[0.0],\"label\":[\"(183.041885, 184.036649]\"],\"line_alpha\":[1.0],\"line_color\":[\"black\"],\"width\":[0.9947643979057545],\"x\":[\"183.539267\"],\"y\":[0.0]}},\"id\":\"1ac9e336-0a88-40e8-b189-1a8bed9d8aee\",\"type\":\"ColumnDataSource\"},{\"attributes\":{\"data_source\":{\"id\":\"bb27c144-4468-47e7-b053-9174ed5b10ea\",\"type\":\"ColumnDataSource\"},\"glyph\":{\"id\":\"2d78ce97-29a9-4e32-9abd-3409720da783\",\"type\":\"Rect\"},\"hover_glyph\":null,\"muted_glyph\":null},\"id\":\"5d05a301-beea-45f0-87b2-61e4a2f4f4b4\",\"type\":\"GlyphRenderer\"},{\"attributes\":{\"fill_alpha\":{\"field\":\"fill_alpha\"},\"fill_color\":{\"field\":\"color\"},\"height\":{\"field\":\"height\",\"units\":\"data\"},\"line_color\":{\"field\":\"line_color\"},\"width\":{\"field\":\"width\",\"units\":\"data\"},\"x\":{\"field\":\"x\"},\"y\":{\"field\":\"y\"}},\"id\":\"197b9855-82a7-42ff-a93a-e89edeabe77f\",\"type\":\"Rect\"},{\"attributes\":{\"fill_alpha\":{\"field\":\"fill_alpha\"},\"fill_color\":{\"field\":\"color\"},\"height\":{\"field\":\"height\",\"units\":\"data\"},\"line_color\":{\"field\":\"line_color\"},\"width\":{\"field\":\"width\",\"units\":\"data\"},\"x\":{\"field\":\"x\"},\"y\":{\"field\":\"y\"}},\"id\":\"21618505-0790-489a-a370-3f1cfe4a62f5\",\"type\":\"Rect\"},{\"attributes\":{\"fill_alpha\":{\"field\":\"fill_alpha\"},\"fill_color\":{\"field\":\"color\"},\"height\":{\"field\":\"height\",\"units\":\"data\"},\"line_color\":{\"field\":\"line_color\"},\"width\":{\"field\":\"width\",\"units\":\"data\"},\"x\":{\"field\":\"x\"},\"y\":{\"field\":\"y\"}},\"id\":\"4e0f959c-4810-4b79-be3d-c881a891d58a\",\"type\":\"Rect\"},{\"attributes\":{\"callback\":null,\"column_names\":[\"x\",\"y\",\"width\",\"height\",\"color\",\"fill_alpha\",\"line_color\",\"line_alpha\",\"label\"],\"data\":{\"chart_index\":[\"(12.937173, 13.931937]\"],\"color\":[\"#f22c40\"],\"fill_alpha\":[0.8],\"height\":[13.0],\"label\":[\"(12.937173, 13.931937]\"],\"line_alpha\":[1.0],\"line_color\":[\"black\"],\"width\":[0.9947643979057581],\"x\":[\"13.434555\"],\"y\":[6.5]}},\"id\":\"44748daf-7506-4a34-a65e-cfa99be3ea62\",\"type\":\"ColumnDataSource\"},{\"attributes\":{\"callback\":null,\"column_names\":[\"x\",\"y\",\"width\",\"height\",\"color\",\"fill_alpha\",\"line_color\",\"line_alpha\",\"label\"],\"data\":{\"chart_index\":[\"(112.413613, 113.408377]\"],\"color\":[\"#f22c40\"],\"fill_alpha\":[0.8],\"height\":[0.0],\"label\":[\"(112.413613, 113.408377]\"],\"line_alpha\":[1.0],\"line_color\":[\"black\"],\"width\":[0.9947643979057545],\"x\":[\"112.910995\"],\"y\":[0.0]}},\"id\":\"8dc6d107-c4c9-4d66-9604-4134147fc6e4\",\"type\":\"ColumnDataSource\"},{\"attributes\":{\"callback\":null,\"column_names\":[\"x\",\"y\",\"width\",\"height\",\"color\",\"fill_alpha\",\"line_color\",\"line_alpha\",\"label\"],\"data\":{\"chart_index\":[\"(42.780105, 43.774869]\"],\"color\":[\"#f22c40\"],\"fill_alpha\":[0.8],\"height\":[0.0],\"label\":[\"(42.780105, 43.774869]\"],\"line_alpha\":[1.0],\"line_color\":[\"black\"],\"width\":[0.9947643979057545],\"x\":[\"43.277487\"],\"y\":[0.0]}},\"id\":\"7a78d2c5-15c5-460c-86cd-7d3c7097c5a4\",\"type\":\"ColumnDataSource\"},{\"attributes\":{\"callback\":null,\"column_names\":[\"x\",\"y\",\"width\",\"height\",\"color\",\"fill_alpha\",\"line_color\",\"line_alpha\",\"label\"],\"data\":{\"chart_index\":[\"(75.607330, 76.602094]\"],\"color\":[\"#f22c40\"],\"fill_alpha\":[0.8],\"height\":[8.0],\"label\":[\"(75.607330, 76.602094]\"],\"line_alpha\":[1.0],\"line_color\":[\"black\"],\"width\":[0.9947643979057545],\"x\":[\"76.104712\"],\"y\":[4.0]}},\"id\":\"c72695a7-0076-45bc-add1-7bc1462181d7\",\"type\":\"ColumnDataSource\"},{\"attributes\":{\"fill_alpha\":{\"field\":\"fill_alpha\"},\"fill_color\":{\"field\":\"color\"},\"height\":{\"field\":\"height\",\"units\":\"data\"},\"line_color\":{\"field\":\"line_color\"},\"width\":{\"field\":\"width\",\"units\":\"data\"},\"x\":{\"field\":\"x\"},\"y\":{\"field\":\"y\"}},\"id\":\"dd351d74-6724-4c92-a6a2-e44d7be007d2\",\"type\":\"Rect\"},{\"attributes\":{\"callback\":null,\"column_names\":[\"x\",\"y\",\"width\",\"height\",\"color\",\"fill_alpha\",\"line_color\",\"line_alpha\",\"label\"],\"data\":{\"chart_index\":[\"(111.418848, 112.413613]\"],\"color\":[\"#f22c40\"],\"fill_alpha\":[0.8],\"height\":[0.0],\"label\":[\"(111.418848, 112.413613]\"],\"line_alpha\":[1.0],\"line_color\":[\"black\"],\"width\":[0.9947643979057688],\"x\":[\"111.9162305\"],\"y\":[0.0]}},\"id\":\"aed14385-bbed-4889-9c78-d012a049711d\",\"type\":\"ColumnDataSource\"},{\"attributes\":{\"data_source\":{\"id\":\"a38cb379-6ff9-4439-baed-08d4099f6815\",\"type\":\"ColumnDataSource\"},\"glyph\":{\"id\":\"60cbb1b3-8b87-445d-a179-3e1c8270c959\",\"type\":\"Rect\"},\"hover_glyph\":null,\"muted_glyph\":null},\"id\":\"40251ad0-96e7-46ba-8c0a-e832391b6525\",\"type\":\"GlyphRenderer\"},{\"attributes\":{\"callback\":null,\"column_names\":[\"x\",\"y\",\"width\",\"height\",\"color\",\"fill_alpha\",\"line_color\",\"line_alpha\",\"label\"],\"data\":{\"chart_index\":[\"(76.602094, 77.596859]\"],\"color\":[\"#f22c40\"],\"fill_alpha\":[0.8],\"height\":[0.0],\"label\":[\"(76.602094, 77.596859]\"],\"line_alpha\":[1.0],\"line_color\":[\"black\"],\"width\":[0.9947643979057545],\"x\":[\"77.0994765\"],\"y\":[0.0]}},\"id\":\"150ec6f1-2adb-432a-8b62-8a5801527f52\",\"type\":\"ColumnDataSource\"},{\"attributes\":{\"callback\":null,\"column_names\":[\"x\",\"y\",\"width\",\"height\",\"color\",\"fill_alpha\",\"line_color\",\"line_alpha\",\"label\"],\"data\":{\"chart_index\":[\"(179.062827, 180.057592]\"],\"color\":[\"#f22c40\"],\"fill_alpha\":[0.8],\"height\":[0.0],\"label\":[\"(179.062827, 180.057592]\"],\"line_alpha\":[1.0],\"line_color\":[\"black\"],\"width\":[0.994764397905783],\"x\":[\"179.56020949999998\"],\"y\":[0.0]}},\"id\":\"cfaf3e72-919a-4da0-b7e2-ccd61e256e6f\",\"type\":\"ColumnDataSource\"},{\"attributes\":{\"fill_alpha\":{\"field\":\"fill_alpha\"},\"fill_color\":{\"field\":\"color\"},\"height\":{\"field\":\"height\",\"units\":\"data\"},\"line_color\":{\"field\":\"line_color\"},\"width\":{\"field\":\"width\",\"units\":\"data\"},\"x\":{\"field\":\"x\"},\"y\":{\"field\":\"y\"}},\"id\":\"a05e39db-fd15-45d1-a672-2a21060c6469\",\"type\":\"Rect\"},{\"attributes\":{\"fill_alpha\":{\"field\":\"fill_alpha\"},\"fill_color\":{\"field\":\"color\"},\"height\":{\"field\":\"height\",\"units\":\"data\"},\"line_color\":{\"field\":\"line_color\"},\"width\":{\"field\":\"width\",\"units\":\"data\"},\"x\":{\"field\":\"x\"},\"y\":{\"field\":\"y\"}},\"id\":\"ed2086fd-d528-4ead-97f3-c77bfb40a5c5\",\"type\":\"Rect\"},{\"attributes\":{\"callback\":null,\"column_names\":[\"x\",\"y\",\"width\",\"height\",\"color\",\"fill_alpha\",\"line_color\",\"line_alpha\",\"label\"],\"data\":{\"chart_index\":[\"(43.774869, 44.769634]\"],\"color\":[\"#f22c40\"],\"fill_alpha\":[0.8],\"height\":[0.0],\"label\":[\"(43.774869, 44.769634]\"],\"line_alpha\":[1.0],\"line_color\":[\"black\"],\"width\":[0.9947643979057617],\"x\":[\"44.2722515\"],\"y\":[0.0]}},\"id\":\"0ca9ddef-5c34-41ef-8c9e-0844c0cd7c18\",\"type\":\"ColumnDataSource\"},{\"attributes\":{\"data_source\":{\"id\":\"c72695a7-0076-45bc-add1-7bc1462181d7\",\"type\":\"ColumnDataSource\"},\"glyph\":{\"id\":\"2a532539-fac0-4d3d-b5a0-5e6168468a65\",\"type\":\"Rect\"},\"hover_glyph\":null,\"muted_glyph\":null},\"id\":\"6ac55683-59c3-4a91-95c0-3785fe9b741d\",\"type\":\"GlyphRenderer\"},{\"attributes\":{\"fill_alpha\":{\"field\":\"fill_alpha\"},\"fill_color\":{\"field\":\"color\"},\"height\":{\"field\":\"height\",\"units\":\"data\"},\"line_color\":{\"field\":\"line_color\"},\"width\":{\"field\":\"width\",\"units\":\"data\"},\"x\":{\"field\":\"x\"},\"y\":{\"field\":\"y\"}},\"id\":\"785f7104-4979-4bb8-9e2c-2672b4cbdca4\",\"type\":\"Rect\"},{\"attributes\":{\"callback\":null,\"column_names\":[\"x\",\"y\",\"width\",\"height\",\"color\",\"fill_alpha\",\"line_color\",\"line_alpha\",\"label\"],\"data\":{\"chart_index\":[\"(178.068063, 179.062827]\"],\"color\":[\"#f22c40\"],\"fill_alpha\":[0.8],\"height\":[0.0],\"label\":[\"(178.068063, 179.062827]\"],\"line_alpha\":[1.0],\"line_color\":[\"black\"],\"width\":[0.9947643979057545],\"x\":[\"178.565445\"],\"y\":[0.0]}},\"id\":\"b05e7a9b-2f9c-4511-a4c0-51c9b32d695d\",\"type\":\"ColumnDataSource\"},{\"attributes\":{\"callback\":null,\"column_names\":[\"x\",\"y\",\"width\",\"height\",\"color\",\"fill_alpha\",\"line_color\",\"line_alpha\",\"label\"],\"data\":{\"chart_index\":[\"(11.942408, 12.937173]\"],\"color\":[\"#f22c40\"],\"fill_alpha\":[0.8],\"height\":[32.0],\"label\":[\"(11.942408, 12.937173]\"],\"line_alpha\":[1.0],\"line_color\":[\"black\"],\"width\":[0.9947643979057599],\"x\":[\"12.4397905\"],\"y\":[16.0]}},\"id\":\"a448038b-52ef-4efa-9b14-7132d0c6202e\",\"type\":\"ColumnDataSource\"},{\"attributes\":{\"data_source\":{\"id\":\"f65a0ab2-9c1f-4a4d-9ad3-37f9228c48c9\",\"type\":\"ColumnDataSource\"},\"glyph\":{\"id\":\"3e35b882-2c80-458b-83e5-b0c6c7da54f8\",\"type\":\"Rect\"},\"hover_glyph\":null,\"muted_glyph\":null},\"id\":\"ba35d515-7515-482c-9ae1-8d7df51115b3\",\"type\":\"GlyphRenderer\"},{\"attributes\":{\"callback\":null,\"column_names\":[\"x\",\"y\",\"width\",\"height\",\"color\",\"fill_alpha\",\"line_color\",\"line_alpha\",\"label\"],\"data\":{\"chart_index\":[\"(77.596859, 78.591623]\"],\"color\":[\"#f22c40\"],\"fill_alpha\":[0.8],\"height\":[0.0],\"label\":[\"(77.596859, 78.591623]\"],\"line_alpha\":[1.0],\"line_color\":[\"black\"],\"width\":[0.9947643979057688],\"x\":[\"78.094241\"],\"y\":[0.0]}},\"id\":\"52443f48-b563-4b96-8bd6-825a51d6dd1e\",\"type\":\"ColumnDataSource\"},{\"attributes\":{\"data_source\":{\"id\":\"a448038b-52ef-4efa-9b14-7132d0c6202e\",\"type\":\"ColumnDataSource\"},\"glyph\":{\"id\":\"23ccfb4c-51e2-4786-84e9-c02cd4513c28\",\"type\":\"Rect\"},\"hover_glyph\":null,\"muted_glyph\":null},\"id\":\"5d1cb359-237b-4904-83a8-1e1655bf624e\",\"type\":\"GlyphRenderer\"},{\"attributes\":{\"callback\":null,\"column_names\":[\"x\",\"y\",\"width\",\"height\",\"color\",\"fill_alpha\",\"line_color\",\"line_alpha\",\"label\"],\"data\":{\"chart_index\":[\"(109.429319, 110.424084]\"],\"color\":[\"#f22c40\"],\"fill_alpha\":[0.8],\"height\":[0.0],\"label\":[\"(109.429319, 110.424084]\"],\"line_alpha\":[1.0],\"line_color\":[\"black\"],\"width\":[0.9947643979057545],\"x\":[\"109.92670150000001\"],\"y\":[0.0]}},\"id\":\"5159ef1f-e389-4a8a-9372-2882fd5278bc\",\"type\":\"ColumnDataSource\"},{\"attributes\":{\"data_source\":{\"id\":\"5159ef1f-e389-4a8a-9372-2882fd5278bc\",\"type\":\"ColumnDataSource\"},\"glyph\":{\"id\":\"51cf4297-1c34-4889-8b3f-eecb50670856\",\"type\":\"Rect\"},\"hover_glyph\":null,\"muted_glyph\":null},\"id\":\"b4326e28-3d0a-4265-be93-161e32cbf76a\",\"type\":\"GlyphRenderer\"},{\"attributes\":{\"fill_alpha\":{\"field\":\"fill_alpha\"},\"fill_color\":{\"field\":\"color\"},\"height\":{\"field\":\"height\",\"units\":\"data\"},\"line_color\":{\"field\":\"line_color\"},\"width\":{\"field\":\"width\",\"units\":\"data\"},\"x\":{\"field\":\"x\"},\"y\":{\"field\":\"y\"}},\"id\":\"eb2b9549-f140-405d-92de-c39a3665d4d5\",\"type\":\"Rect\"},{\"attributes\":{\"data_source\":{\"id\":\"b05e7a9b-2f9c-4511-a4c0-51c9b32d695d\",\"type\":\"ColumnDataSource\"},\"glyph\":{\"id\":\"dd351d74-6724-4c92-a6a2-e44d7be007d2\",\"type\":\"Rect\"},\"hover_glyph\":null,\"muted_glyph\":null},\"id\":\"d659fc7e-4873-4ec8-b2c3-8bc527858208\",\"type\":\"GlyphRenderer\"},{\"attributes\":{\"callback\":null,\"column_names\":[\"x\",\"y\",\"width\",\"height\",\"color\",\"fill_alpha\",\"line_color\",\"line_alpha\",\"label\"],\"data\":{\"chart_index\":[\"(13.931937, 14.926702]\"],\"color\":[\"#f22c40\"],\"fill_alpha\":[0.8],\"height\":[19.0],\"label\":[\"(13.931937, 14.926702]\"],\"line_alpha\":[1.0],\"line_color\":[\"black\"],\"width\":[0.9947643979057599],\"x\":[\"14.4293195\"],\"y\":[9.5]}},\"id\":\"3e42f99c-3c90-4f7e-9c2d-9b2259ab396b\",\"type\":\"ColumnDataSource\"},{\"attributes\":{\"fill_alpha\":{\"field\":\"fill_alpha\"},\"fill_color\":{\"field\":\"color\"},\"height\":{\"field\":\"height\",\"units\":\"data\"},\"line_color\":{\"field\":\"line_color\"},\"width\":{\"field\":\"width\",\"units\":\"data\"},\"x\":{\"field\":\"x\"},\"y\":{\"field\":\"y\"}},\"id\":\"8f563db7-0857-4e17-8eea-494200b472ab\",\"type\":\"Rect\"},{\"attributes\":{\"fill_alpha\":{\"field\":\"fill_alpha\"},\"fill_color\":{\"field\":\"color\"},\"height\":{\"field\":\"height\",\"units\":\"data\"},\"line_color\":{\"field\":\"line_color\"},\"width\":{\"field\":\"width\",\"units\":\"data\"},\"x\":{\"field\":\"x\"},\"y\":{\"field\":\"y\"}},\"id\":\"5e356a9a-13f3-4755-9eba-10f1b7131df9\",\"type\":\"Rect\"},{\"attributes\":{\"data_source\":{\"id\":\"aed14385-bbed-4889-9c78-d012a049711d\",\"type\":\"ColumnDataSource\"},\"glyph\":{\"id\":\"463a6494-9c24-4e08-8252-f3de13055ff7\",\"type\":\"Rect\"},\"hover_glyph\":null,\"muted_glyph\":null},\"id\":\"2a24c796-d435-4851-a1b4-c43808406686\",\"type\":\"GlyphRenderer\"},{\"attributes\":{\"data_source\":{\"id\":\"7a78d2c5-15c5-460c-86cd-7d3c7097c5a4\",\"type\":\"ColumnDataSource\"},\"glyph\":{\"id\":\"21618505-0790-489a-a370-3f1cfe4a62f5\",\"type\":\"Rect\"},\"hover_glyph\":null,\"muted_glyph\":null},\"id\":\"caf4c7e6-ffa5-402f-950e-250df9c6c864\",\"type\":\"GlyphRenderer\"},{\"attributes\":{\"data_source\":{\"id\":\"5ed1dc35-ddbd-40ef-9728-f7cbdd9e9b49\",\"type\":\"ColumnDataSource\"},\"glyph\":{\"id\":\"5e356a9a-13f3-4755-9eba-10f1b7131df9\",\"type\":\"Rect\"},\"hover_glyph\":null,\"muted_glyph\":null},\"id\":\"c645e352-6547-485f-958b-0611765af309\",\"type\":\"GlyphRenderer\"},{\"attributes\":{\"fill_alpha\":{\"field\":\"fill_alpha\"},\"fill_color\":{\"field\":\"color\"},\"height\":{\"field\":\"height\",\"units\":\"data\"},\"line_color\":{\"field\":\"line_color\"},\"width\":{\"field\":\"width\",\"units\":\"data\"},\"x\":{\"field\":\"x\"},\"y\":{\"field\":\"y\"}},\"id\":\"81cf8314-d8c2-4b9b-a27e-c56a14f82e09\",\"type\":\"Rect\"},{\"attributes\":{\"fill_alpha\":{\"field\":\"fill_alpha\"},\"fill_color\":{\"field\":\"color\"},\"height\":{\"field\":\"height\",\"units\":\"data\"},\"line_color\":{\"field\":\"line_color\"},\"width\":{\"field\":\"width\",\"units\":\"data\"},\"x\":{\"field\":\"x\"},\"y\":{\"field\":\"y\"}},\"id\":\"30395870-1d22-4c0d-895c-4aec3f88532e\",\"type\":\"Rect\"},{\"attributes\":{\"fill_alpha\":{\"field\":\"fill_alpha\"},\"fill_color\":{\"field\":\"color\"},\"height\":{\"field\":\"height\",\"units\":\"data\"},\"line_color\":{\"field\":\"line_color\"},\"width\":{\"field\":\"width\",\"units\":\"data\"},\"x\":{\"field\":\"x\"},\"y\":{\"field\":\"y\"}},\"id\":\"c14bbbb8-867c-486e-b388-a701069d37f4\",\"type\":\"Rect\"},{\"attributes\":{\"fill_alpha\":{\"field\":\"fill_alpha\"},\"fill_color\":{\"field\":\"color\"},\"height\":{\"field\":\"height\",\"units\":\"data\"},\"line_color\":{\"field\":\"line_color\"},\"width\":{\"field\":\"width\",\"units\":\"data\"},\"x\":{\"field\":\"x\"},\"y\":{\"field\":\"y\"}},\"id\":\"ca4955a6-748f-478f-b644-5dd82957528f\",\"type\":\"Rect\"},{\"attributes\":{\"data_source\":{\"id\":\"150ec6f1-2adb-432a-8b62-8a5801527f52\",\"type\":\"ColumnDataSource\"},\"glyph\":{\"id\":\"ed2086fd-d528-4ead-97f3-c77bfb40a5c5\",\"type\":\"Rect\"},\"hover_glyph\":null,\"muted_glyph\":null},\"id\":\"14d0352c-5595-4d46-b87a-84792742a4c3\",\"type\":\"GlyphRenderer\"},{\"attributes\":{\"fill_alpha\":{\"field\":\"fill_alpha\"},\"fill_color\":{\"field\":\"color\"},\"height\":{\"field\":\"height\",\"units\":\"data\"},\"line_color\":{\"field\":\"line_color\"},\"width\":{\"field\":\"width\",\"units\":\"data\"},\"x\":{\"field\":\"x\"},\"y\":{\"field\":\"y\"}},\"id\":\"5afb9095-42f5-40f9-bd2f-13f5d37568ce\",\"type\":\"Rect\"},{\"attributes\":{\"callback\":null,\"column_names\":[\"x\",\"y\",\"width\",\"height\",\"color\",\"fill_alpha\",\"line_color\",\"line_alpha\",\"label\"],\"data\":{\"chart_index\":[\"(23.879581, 24.874346]\"],\"color\":[\"#f22c40\"],\"fill_alpha\":[0.8],\"height\":[8.0],\"label\":[\"(23.879581, 24.874346]\"],\"line_alpha\":[1.0],\"line_color\":[\"black\"],\"width\":[0.9947643979057617],\"x\":[\"24.376963500000002\"],\"y\":[4.0]}},\"id\":\"76b30b7c-b168-4a65-ab66-fc53bf4a14b6\",\"type\":\"ColumnDataSource\"},{\"attributes\":{\"callback\":null,\"column_names\":[\"x\",\"y\",\"width\",\"height\",\"color\",\"fill_alpha\",\"line_color\",\"line_alpha\",\"label\"],\"data\":{\"chart_index\":[\"(15.921466, 16.916230]\"],\"color\":[\"#f22c40\"],\"fill_alpha\":[0.8],\"height\":[15.0],\"label\":[\"(15.921466, 16.916230]\"],\"line_alpha\":[1.0],\"line_color\":[\"black\"],\"width\":[0.9947643979057599],\"x\":[\"16.418848\"],\"y\":[7.5]}},\"id\":\"e05f8f69-30a6-458b-97e6-316802836fa2\",\"type\":\"ColumnDataSource\"},{\"attributes\":{\"fill_alpha\":{\"field\":\"fill_alpha\"},\"fill_color\":{\"field\":\"color\"},\"height\":{\"field\":\"height\",\"units\":\"data\"},\"line_color\":{\"field\":\"line_color\"},\"width\":{\"field\":\"width\",\"units\":\"data\"},\"x\":{\"field\":\"x\"},\"y\":{\"field\":\"y\"}},\"id\":\"f8a85edd-658f-4751-b62d-6e069f2fbe9e\",\"type\":\"Rect\"},{\"attributes\":{\"fill_alpha\":{\"field\":\"fill_alpha\"},\"fill_color\":{\"field\":\"color\"},\"height\":{\"field\":\"height\",\"units\":\"data\"},\"line_color\":{\"field\":\"line_color\"},\"width\":{\"field\":\"width\",\"units\":\"data\"},\"x\":{\"field\":\"x\"},\"y\":{\"field\":\"y\"}},\"id\":\"3e35b882-2c80-458b-83e5-b0c6c7da54f8\",\"type\":\"Rect\"},{\"attributes\":{\"data_source\":{\"id\":\"44748daf-7506-4a34-a65e-cfa99be3ea62\",\"type\":\"ColumnDataSource\"},\"glyph\":{\"id\":\"197b9855-82a7-42ff-a93a-e89edeabe77f\",\"type\":\"Rect\"},\"hover_glyph\":null,\"muted_glyph\":null},\"id\":\"4c7e0269-1da2-4721-ad8e-f1be71789008\",\"type\":\"GlyphRenderer\"},{\"attributes\":{\"callback\":null,\"column_names\":[\"x\",\"y\",\"width\",\"height\",\"color\",\"fill_alpha\",\"line_color\",\"line_alpha\",\"label\"],\"data\":{\"chart_index\":[\"(182.047120, 183.041885]\"],\"color\":[\"#f22c40\"],\"fill_alpha\":[0.8],\"height\":[0.0],\"label\":[\"(182.047120, 183.041885]\"],\"line_alpha\":[1.0],\"line_color\":[\"black\"],\"width\":[0.9947643979057545],\"x\":[\"182.54450250000002\"],\"y\":[0.0]}},\"id\":\"f65a0ab2-9c1f-4a4d-9ad3-37f9228c48c9\",\"type\":\"ColumnDataSource\"},{\"attributes\":{\"callback\":null,\"column_names\":[\"x\",\"y\",\"width\",\"height\",\"color\",\"fill_alpha\",\"line_color\",\"line_alpha\",\"label\"],\"data\":{\"chart_index\":[\"(118.382199, 119.376963]\"],\"color\":[\"#f22c40\"],\"fill_alpha\":[0.8],\"height\":[0.0],\"label\":[\"(118.382199, 119.376963]\"],\"line_alpha\":[1.0],\"line_color\":[\"black\"],\"width\":[0.9947643979057545],\"x\":[\"118.879581\"],\"y\":[0.0]}},\"id\":\"eb342a7b-8453-4ea5-99b9-3d294bd47041\",\"type\":\"ColumnDataSource\"},{\"attributes\":{\"data_source\":{\"id\":\"cfaf3e72-919a-4da0-b7e2-ccd61e256e6f\",\"type\":\"ColumnDataSource\"},\"glyph\":{\"id\":\"4e0f959c-4810-4b79-be3d-c881a891d58a\",\"type\":\"Rect\"},\"hover_glyph\":null,\"muted_glyph\":null},\"id\":\"26507771-1555-4b74-83d5-6ea2d428c8c4\",\"type\":\"GlyphRenderer\"},{\"attributes\":{\"fill_alpha\":{\"field\":\"fill_alpha\"},\"fill_color\":{\"field\":\"color\"},\"height\":{\"field\":\"height\",\"units\":\"data\"},\"line_color\":{\"field\":\"line_color\"},\"width\":{\"field\":\"width\",\"units\":\"data\"},\"x\":{\"field\":\"x\"},\"y\":{\"field\":\"y\"}},\"id\":\"8b4d34b1-997a-4ce6-b63a-db8ca95f5e45\",\"type\":\"Rect\"},{\"attributes\":{\"callback\":null,\"column_names\":[\"x\",\"y\",\"width\",\"height\",\"color\",\"fill_alpha\",\"line_color\",\"line_alpha\",\"label\"],\"data\":{\"chart_index\":[\"(44.769634, 45.764398]\"],\"color\":[\"#f22c40\"],\"fill_alpha\":[0.8],\"height\":[0.0],\"label\":[\"(44.769634, 45.764398]\"],\"line_alpha\":[1.0],\"line_color\":[\"black\"],\"width\":[0.9947643979057617],\"x\":[\"45.267016\"],\"y\":[0.0]}},\"id\":\"5a491ada-7051-466e-b4d4-7a1bce1215c3\",\"type\":\"ColumnDataSource\"},{\"attributes\":{\"callback\":null,\"column_names\":[\"x\",\"y\",\"width\",\"height\",\"color\",\"fill_alpha\",\"line_color\",\"line_alpha\",\"label\"],\"data\":{\"chart_index\":[\"(131.314136, 132.308901]\"],\"color\":[\"#f22c40\"],\"fill_alpha\":[0.8],\"height\":[0.0],\"label\":[\"(131.314136, 132.308901]\"],\"line_alpha\":[1.0],\"line_color\":[\"black\"],\"width\":[0.994764397905783],\"x\":[\"131.81151849999998\"],\"y\":[0.0]}},\"id\":\"4d66217f-5687-4adf-a81d-dcf63ae93d58\",\"type\":\"ColumnDataSource\"},{\"attributes\":{\"data_source\":{\"id\":\"5a491ada-7051-466e-b4d4-7a1bce1215c3\",\"type\":\"ColumnDataSource\"},\"glyph\":{\"id\":\"5afb9095-42f5-40f9-bd2f-13f5d37568ce\",\"type\":\"Rect\"},\"hover_glyph\":null,\"muted_glyph\":null},\"id\":\"f41a28f1-b438-4fdc-bb84-6b6e45fd3761\",\"type\":\"GlyphRenderer\"},{\"attributes\":{\"data_source\":{\"id\":\"8dc6d107-c4c9-4d66-9604-4134147fc6e4\",\"type\":\"ColumnDataSource\"},\"glyph\":{\"id\":\"30395870-1d22-4c0d-895c-4aec3f88532e\",\"type\":\"Rect\"},\"hover_glyph\":null,\"muted_glyph\":null},\"id\":\"da69be9d-c90d-4217-b5eb-73fb2819b745\",\"type\":\"GlyphRenderer\"},{\"attributes\":{\"fill_alpha\":{\"field\":\"fill_alpha\"},\"fill_color\":{\"field\":\"color\"},\"height\":{\"field\":\"height\",\"units\":\"data\"},\"line_color\":{\"field\":\"line_color\"},\"width\":{\"field\":\"width\",\"units\":\"data\"},\"x\":{\"field\":\"x\"},\"y\":{\"field\":\"y\"}},\"id\":\"ed1cec3d-9351-4ec5-8858-1541d762f934\",\"type\":\"Rect\"},{\"attributes\":{\"fill_alpha\":{\"field\":\"fill_alpha\"},\"fill_color\":{\"field\":\"color\"},\"height\":{\"field\":\"height\",\"units\":\"data\"},\"line_color\":{\"field\":\"line_color\"},\"width\":{\"field\":\"width\",\"units\":\"data\"},\"x\":{\"field\":\"x\"},\"y\":{\"field\":\"y\"}},\"id\":\"d5efa3e2-d9a0-40b9-8714-0fb3a7d80bff\",\"type\":\"Rect\"},{\"attributes\":{\"fill_alpha\":{\"field\":\"fill_alpha\"},\"fill_color\":{\"field\":\"color\"},\"height\":{\"field\":\"height\",\"units\":\"data\"},\"line_color\":{\"field\":\"line_color\"},\"width\":{\"field\":\"width\",\"units\":\"data\"},\"x\":{\"field\":\"x\"},\"y\":{\"field\":\"y\"}},\"id\":\"549187a9-2ea4-4e69-837c-617d26ca4c26\",\"type\":\"Rect\"},{\"attributes\":{\"data_source\":{\"id\":\"0ca9ddef-5c34-41ef-8c9e-0844c0cd7c18\",\"type\":\"ColumnDataSource\"},\"glyph\":{\"id\":\"a05e39db-fd15-45d1-a672-2a21060c6469\",\"type\":\"Rect\"},\"hover_glyph\":null,\"muted_glyph\":null},\"id\":\"f0877033-13d0-4090-a67f-a7467db8e2bb\",\"type\":\"GlyphRenderer\"},{\"attributes\":{\"data_source\":{\"id\":\"506ab76a-8e56-4092-a64f-fb03653c6d0d\",\"type\":\"ColumnDataSource\"},\"glyph\":{\"id\":\"ca4955a6-748f-478f-b644-5dd82957528f\",\"type\":\"Rect\"},\"hover_glyph\":null,\"muted_glyph\":null},\"id\":\"ebe3909b-98c5-46f9-a671-4bffd078be4f\",\"type\":\"GlyphRenderer\"},{\"attributes\":{\"data_source\":{\"id\":\"52443f48-b563-4b96-8bd6-825a51d6dd1e\",\"type\":\"ColumnDataSource\"},\"glyph\":{\"id\":\"785f7104-4979-4bb8-9e2c-2672b4cbdca4\",\"type\":\"Rect\"},\"hover_glyph\":null,\"muted_glyph\":null},\"id\":\"0a51a4e7-dbff-4fef-b89d-d2c9cca18d8e\",\"type\":\"GlyphRenderer\"},{\"attributes\":{\"callback\":null,\"column_names\":[\"x\",\"y\",\"width\",\"height\",\"color\",\"fill_alpha\",\"line_color\",\"line_alpha\",\"label\"],\"data\":{\"chart_index\":[\"(180.057592, 181.052356]\"],\"color\":[\"#f22c40\"],\"fill_alpha\":[0.8],\"height\":[0.0],\"label\":[\"(180.057592, 181.052356]\"],\"line_alpha\":[1.0],\"line_color\":[\"black\"],\"width\":[0.9947643979057545],\"x\":[\"180.55497400000002\"],\"y\":[0.0]}},\"id\":\"5ed1dc35-ddbd-40ef-9728-f7cbdd9e9b49\",\"type\":\"ColumnDataSource\"},{\"attributes\":{\"callback\":null,\"column_names\":[\"x\",\"y\",\"width\",\"height\",\"color\",\"fill_alpha\",\"line_color\",\"line_alpha\",\"label\"],\"data\":{\"chart_index\":[\"(113.408377, 114.403141]\"],\"color\":[\"#f22c40\"],\"fill_alpha\":[0.8],\"height\":[0.0],\"label\":[\"(113.408377, 114.403141]\"],\"line_alpha\":[1.0],\"line_color\":[\"black\"],\"width\":[0.9947643979057545],\"x\":[\"113.905759\"],\"y\":[0.0]}},\"id\":\"506ab76a-8e56-4092-a64f-fb03653c6d0d\",\"type\":\"ColumnDataSource\"},{\"attributes\":{\"data_source\":{\"id\":\"e05f8f69-30a6-458b-97e6-316802836fa2\",\"type\":\"ColumnDataSource\"},\"glyph\":{\"id\":\"8b4d34b1-997a-4ce6-b63a-db8ca95f5e45\",\"type\":\"Rect\"},\"hover_glyph\":null,\"muted_glyph\":null},\"id\":\"2a0074e6-8598-485b-8855-37bc60293280\",\"type\":\"GlyphRenderer\"},{\"attributes\":{\"fill_alpha\":{\"field\":\"fill_alpha\"},\"fill_color\":{\"field\":\"color\"},\"height\":{\"field\":\"height\",\"units\":\"data\"},\"line_color\":{\"field\":\"line_color\"},\"width\":{\"field\":\"width\",\"units\":\"data\"},\"x\":{\"field\":\"x\"},\"y\":{\"field\":\"y\"}},\"id\":\"97269f6f-9174-4a91-8bc2-86573b36c446\",\"type\":\"Rect\"},{\"attributes\":{\"data_source\":{\"id\":\"3e42f99c-3c90-4f7e-9c2d-9b2259ab396b\",\"type\":\"ColumnDataSource\"},\"glyph\":{\"id\":\"eb2b9549-f140-405d-92de-c39a3665d4d5\",\"type\":\"Rect\"},\"hover_glyph\":null,\"muted_glyph\":null},\"id\":\"dc5a17cd-b1f4-40de-8152-13ec4a374329\",\"type\":\"GlyphRenderer\"},{\"attributes\":{\"callback\":null,\"column_names\":[\"x\",\"y\",\"width\",\"height\",\"color\",\"fill_alpha\",\"line_color\",\"line_alpha\",\"label\"],\"data\":{\"chart_index\":[\"(78.591623, 79.586387]\"],\"color\":[\"#f22c40\"],\"fill_alpha\":[0.8],\"height\":[0.0],\"label\":[\"(78.591623, 79.586387]\"],\"line_alpha\":[1.0],\"line_color\":[\"black\"],\"width\":[0.9947643979057545],\"x\":[\"79.089005\"],\"y\":[0.0]}},\"id\":\"95e5a129-4a46-40d4-841b-1269ac18a186\",\"type\":\"ColumnDataSource\"},{\"attributes\":{\"callback\":null,\"column_names\":[\"x\",\"y\",\"width\",\"height\",\"color\",\"fill_alpha\",\"line_color\",\"line_alpha\",\"label\"],\"data\":{\"chart_index\":[\"(148.225131, 149.219895]\"],\"color\":[\"#f22c40\"],\"fill_alpha\":[0.8],\"height\":[0.0],\"label\":[\"(148.225131, 149.219895]\"],\"line_alpha\":[1.0],\"line_color\":[\"black\"],\"width\":[0.9947643979057545],\"x\":[\"148.722513\"],\"y\":[0.0]}},\"id\":\"d7a261c0-765c-43e9-8c35-e9360232bc73\",\"type\":\"ColumnDataSource\"},{\"attributes\":{\"data_source\":{\"id\":\"ef0ebd30-c030-4e61-b82b-f1d8ab441160\",\"type\":\"ColumnDataSource\"},\"glyph\":{\"id\":\"94661051-8d56-43e5-886e-cb18a900b67a\",\"type\":\"Rect\"},\"hover_glyph\":null,\"muted_glyph\":null},\"id\":\"a64b9b10-1d5e-4831-adbd-73c917fafaaf\",\"type\":\"GlyphRenderer\"},{\"attributes\":{\"callback\":null,\"column_names\":[\"x\",\"y\",\"width\",\"height\",\"color\",\"fill_alpha\",\"line_color\",\"line_alpha\",\"label\"],\"data\":{\"chart_index\":[\"(79.586387, 80.581152]\"],\"color\":[\"#f22c40\"],\"fill_alpha\":[0.8],\"height\":[0.0],\"label\":[\"(79.586387, 80.581152]\"],\"line_alpha\":[1.0],\"line_color\":[\"black\"],\"width\":[0.9947643979057545],\"x\":[\"80.0837695\"],\"y\":[0.0]}},\"id\":\"e17359dc-f890-4577-a098-d78b55d82f01\",\"type\":\"ColumnDataSource\"},{\"attributes\":{\"fill_alpha\":{\"field\":\"fill_alpha\"},\"fill_color\":{\"field\":\"color\"},\"height\":{\"field\":\"height\",\"units\":\"data\"},\"line_color\":{\"field\":\"line_color\"},\"width\":{\"field\":\"width\",\"units\":\"data\"},\"x\":{\"field\":\"x\"},\"y\":{\"field\":\"y\"}},\"id\":\"5fbfc51e-e2ce-408f-888c-5bd264ed5083\",\"type\":\"Rect\"},{\"attributes\":{\"data_source\":{\"id\":\"95e5a129-4a46-40d4-841b-1269ac18a186\",\"type\":\"ColumnDataSource\"},\"glyph\":{\"id\":\"f8a85edd-658f-4751-b62d-6e069f2fbe9e\",\"type\":\"Rect\"},\"hover_glyph\":null,\"muted_glyph\":null},\"id\":\"aacb015d-c4f2-4fef-bd2e-8997248fbde3\",\"type\":\"GlyphRenderer\"},{\"attributes\":{\"fill_alpha\":{\"field\":\"fill_alpha\"},\"fill_color\":{\"field\":\"color\"},\"height\":{\"field\":\"height\",\"units\":\"data\"},\"line_color\":{\"field\":\"line_color\"},\"width\":{\"field\":\"width\",\"units\":\"data\"},\"x\":{\"field\":\"x\"},\"y\":{\"field\":\"y\"}},\"id\":\"94661051-8d56-43e5-886e-cb18a900b67a\",\"type\":\"Rect\"},{\"attributes\":{\"fill_alpha\":{\"field\":\"fill_alpha\"},\"fill_color\":{\"field\":\"color\"},\"height\":{\"field\":\"height\",\"units\":\"data\"},\"line_color\":{\"field\":\"line_color\"},\"width\":{\"field\":\"width\",\"units\":\"data\"},\"x\":{\"field\":\"x\"},\"y\":{\"field\":\"y\"}},\"id\":\"5bfa93d9-27d3-4a84-abae-d2fbef664c4e\",\"type\":\"Rect\"},{\"attributes\":{\"callback\":null,\"column_names\":[\"x\",\"y\",\"width\",\"height\",\"color\",\"fill_alpha\",\"line_color\",\"line_alpha\",\"label\"],\"data\":{\"chart_index\":[\"(145.240838, 146.235602]\"],\"color\":[\"#f22c40\"],\"fill_alpha\":[0.8],\"height\":[0.0],\"label\":[\"(145.240838, 146.235602]\"],\"line_alpha\":[1.0],\"line_color\":[\"black\"],\"width\":[0.9947643979057545],\"x\":[\"145.73822\"],\"y\":[0.0]}},\"id\":\"bc89daaf-90a5-4be2-b781-75f3adfa33ec\",\"type\":\"ColumnDataSource\"},{\"attributes\":{\"data_source\":{\"id\":\"bc89daaf-90a5-4be2-b781-75f3adfa33ec\",\"type\":\"ColumnDataSource\"},\"glyph\":{\"id\":\"98f968b1-7ec9-4ad9-8b0c-4b2fa514f967\",\"type\":\"Rect\"},\"hover_glyph\":null,\"muted_glyph\":null},\"id\":\"3305e2d3-5716-41e6-8f89-30c8dc600b64\",\"type\":\"GlyphRenderer\"},{\"attributes\":{\"callback\":null,\"column_names\":[\"x\",\"y\",\"width\",\"height\",\"color\",\"fill_alpha\",\"line_color\",\"line_alpha\",\"label\"],\"data\":{\"chart_index\":[\"(80.581152, 81.575916]\"],\"color\":[\"#f22c40\"],\"fill_alpha\":[0.8],\"height\":[0.0],\"label\":[\"(80.581152, 81.575916]\"],\"line_alpha\":[1.0],\"line_color\":[\"black\"],\"width\":[0.9947643979057688],\"x\":[\"81.078534\"],\"y\":[0.0]}},\"id\":\"619f1c96-cd29-4be7-8232-3b673e40a3b8\",\"type\":\"ColumnDataSource\"},{\"attributes\":{\"callback\":null,\"column_names\":[\"x\",\"y\",\"width\",\"height\",\"color\",\"fill_alpha\",\"line_color\",\"line_alpha\",\"label\"],\"data\":{\"chart_index\":[\"(81.575916, 82.570681]\"],\"color\":[\"#f22c40\"],\"fill_alpha\":[0.8],\"height\":[0.0],\"label\":[\"(81.575916, 82.570681]\"],\"line_alpha\":[1.0],\"line_color\":[\"black\"],\"width\":[0.9947643979057545],\"x\":[\"82.07329849999999\"],\"y\":[0.0]}},\"id\":\"27b8d03a-803e-4150-a7e4-1205960dac30\",\"type\":\"ColumnDataSource\"},{\"attributes\":{\"data_source\":{\"id\":\"27b8d03a-803e-4150-a7e4-1205960dac30\",\"type\":\"ColumnDataSource\"},\"glyph\":{\"id\":\"b87bf9c2-82fe-47d1-9b5f-9bd2d56cb014\",\"type\":\"Rect\"},\"hover_glyph\":null,\"muted_glyph\":null},\"id\":\"241661f7-e64b-49b7-9217-dd1b69891b76\",\"type\":\"GlyphRenderer\"},{\"attributes\":{\"fill_alpha\":{\"field\":\"fill_alpha\"},\"fill_color\":{\"field\":\"color\"},\"height\":{\"field\":\"height\",\"units\":\"data\"},\"line_color\":{\"field\":\"line_color\"},\"width\":{\"field\":\"width\",\"units\":\"data\"},\"x\":{\"field\":\"x\"},\"y\":{\"field\":\"y\"}},\"id\":\"33efbca5-35fe-4fcd-a527-affc3d99008d\",\"type\":\"Rect\"},{\"attributes\":{\"data_source\":{\"id\":\"e17359dc-f890-4577-a098-d78b55d82f01\",\"type\":\"ColumnDataSource\"},\"glyph\":{\"id\":\"5fbfc51e-e2ce-408f-888c-5bd264ed5083\",\"type\":\"Rect\"},\"hover_glyph\":null,\"muted_glyph\":null},\"id\":\"b6421b53-21c5-4f97-8100-e3d6e1269221\",\"type\":\"GlyphRenderer\"},{\"attributes\":{\"data_source\":{\"id\":\"b882d210-73b8-4de5-a2ad-8028c081d8a2\",\"type\":\"ColumnDataSource\"},\"glyph\":{\"id\":\"4caad8cf-d4fd-4853-8a73-94dc26dab41d\",\"type\":\"Rect\"},\"hover_glyph\":null,\"muted_glyph\":null},\"id\":\"d227857b-4e84-492d-bd22-4f88ccf6f3ba\",\"type\":\"GlyphRenderer\"},{\"attributes\":{\"fill_alpha\":{\"field\":\"fill_alpha\"},\"fill_color\":{\"field\":\"color\"},\"height\":{\"field\":\"height\",\"units\":\"data\"},\"line_color\":{\"field\":\"line_color\"},\"width\":{\"field\":\"width\",\"units\":\"data\"},\"x\":{\"field\":\"x\"},\"y\":{\"field\":\"y\"}},\"id\":\"b87bf9c2-82fe-47d1-9b5f-9bd2d56cb014\",\"type\":\"Rect\"},{\"attributes\":{\"fill_alpha\":{\"field\":\"fill_alpha\"},\"fill_color\":{\"field\":\"color\"},\"height\":{\"field\":\"height\",\"units\":\"data\"},\"line_color\":{\"field\":\"line_color\"},\"width\":{\"field\":\"width\",\"units\":\"data\"},\"x\":{\"field\":\"x\"},\"y\":{\"field\":\"y\"}},\"id\":\"f6ddd466-3601-4fae-bec2-03e877d37794\",\"type\":\"Rect\"},{\"attributes\":{\"data_source\":{\"id\":\"d7a261c0-765c-43e9-8c35-e9360232bc73\",\"type\":\"ColumnDataSource\"},\"glyph\":{\"id\":\"33efbca5-35fe-4fcd-a527-affc3d99008d\",\"type\":\"Rect\"},\"hover_glyph\":null,\"muted_glyph\":null},\"id\":\"ed7e142d-4b07-4be2-b743-c35d44034555\",\"type\":\"GlyphRenderer\"},{\"attributes\":{\"data_source\":{\"id\":\"619f1c96-cd29-4be7-8232-3b673e40a3b8\",\"type\":\"ColumnDataSource\"},\"glyph\":{\"id\":\"5bfa93d9-27d3-4a84-abae-d2fbef664c4e\",\"type\":\"Rect\"},\"hover_glyph\":null,\"muted_glyph\":null},\"id\":\"eb6480c5-aa92-4ca0-8770-cbcc460e384f\",\"type\":\"GlyphRenderer\"},{\"attributes\":{\"callback\":null,\"column_names\":[\"x\",\"y\",\"width\",\"height\",\"color\",\"fill_alpha\",\"line_color\",\"line_alpha\",\"label\"],\"data\":{\"chart_index\":[\"(149.219895, 150.214660]\"],\"color\":[\"#f22c40\"],\"fill_alpha\":[0.8],\"height\":[0.0],\"label\":[\"(149.219895, 150.214660]\"],\"line_alpha\":[1.0],\"line_color\":[\"black\"],\"width\":[0.994764397905783],\"x\":[\"149.71727750000002\"],\"y\":[0.0]}},\"id\":\"ef0ebd30-c030-4e61-b82b-f1d8ab441160\",\"type\":\"ColumnDataSource\"},{\"attributes\":{\"fill_alpha\":{\"field\":\"fill_alpha\"},\"fill_color\":{\"field\":\"color\"},\"height\":{\"field\":\"height\",\"units\":\"data\"},\"line_color\":{\"field\":\"line_color\"},\"width\":{\"field\":\"width\",\"units\":\"data\"},\"x\":{\"field\":\"x\"},\"y\":{\"field\":\"y\"}},\"id\":\"5c09e597-1358-4d3f-820c-21bcf997e9a3\",\"type\":\"Rect\"},{\"attributes\":{\"fill_alpha\":{\"field\":\"fill_alpha\"},\"fill_color\":{\"field\":\"color\"},\"height\":{\"field\":\"height\",\"units\":\"data\"},\"line_color\":{\"field\":\"line_color\"},\"width\":{\"field\":\"width\",\"units\":\"data\"},\"x\":{\"field\":\"x\"},\"y\":{\"field\":\"y\"}},\"id\":\"dd3d0022-0ccf-4b48-913e-be3c66e18331\",\"type\":\"Rect\"},{\"attributes\":{\"callback\":null,\"column_names\":[\"x\",\"y\",\"width\",\"height\",\"color\",\"fill_alpha\",\"line_color\",\"line_alpha\",\"label\"],\"data\":{\"chart_index\":[\"(114.403141, 115.397906]\"],\"color\":[\"#f22c40\"],\"fill_alpha\":[0.8],\"height\":[0.0],\"label\":[\"(114.403141, 115.397906]\"],\"line_alpha\":[1.0],\"line_color\":[\"black\"],\"width\":[0.9947643979057688],\"x\":[\"114.9005235\"],\"y\":[0.0]}},\"id\":\"75971010-5d7b-446d-aadd-8a45f03bb68d\",\"type\":\"ColumnDataSource\"},{\"attributes\":{\"callback\":null,\"column_names\":[\"x\",\"y\",\"width\",\"height\",\"color\",\"fill_alpha\",\"line_color\",\"line_alpha\",\"label\"],\"data\":{\"chart_index\":[\"(48.748691, 49.743455]\"],\"color\":[\"#f22c40\"],\"fill_alpha\":[0.8],\"height\":[2.0],\"label\":[\"(48.748691, 49.743455]\"],\"line_alpha\":[1.0],\"line_color\":[\"black\"],\"width\":[0.9947643979057545],\"x\":[\"49.246072999999996\"],\"y\":[1.0]}},\"id\":\"bddaacf1-ae21-4509-bdf4-ee76594a78bb\",\"type\":\"ColumnDataSource\"},{\"attributes\":{\"fill_alpha\":{\"field\":\"fill_alpha\"},\"fill_color\":{\"field\":\"color\"},\"height\":{\"field\":\"height\",\"units\":\"data\"},\"line_color\":{\"field\":\"line_color\"},\"width\":{\"field\":\"width\",\"units\":\"data\"},\"x\":{\"field\":\"x\"},\"y\":{\"field\":\"y\"}},\"id\":\"5f36e62e-a53e-4d7b-8b71-2d90bd461ddb\",\"type\":\"Rect\"},{\"attributes\":{\"fill_alpha\":{\"field\":\"fill_alpha\"},\"fill_color\":{\"field\":\"color\"},\"height\":{\"field\":\"height\",\"units\":\"data\"},\"line_color\":{\"field\":\"line_color\"},\"width\":{\"field\":\"width\",\"units\":\"data\"},\"x\":{\"field\":\"x\"},\"y\":{\"field\":\"y\"}},\"id\":\"1df0c098-6275-49d8-a9a6-ffb6ce2ccf78\",\"type\":\"Rect\"},{\"attributes\":{\"fill_alpha\":{\"field\":\"fill_alpha\"},\"fill_color\":{\"field\":\"color\"},\"height\":{\"field\":\"height\",\"units\":\"data\"},\"line_color\":{\"field\":\"line_color\"},\"width\":{\"field\":\"width\",\"units\":\"data\"},\"x\":{\"field\":\"x\"},\"y\":{\"field\":\"y\"}},\"id\":\"52fe0f5e-8a48-4a9b-97c6-bc4882d5acf0\",\"type\":\"Rect\"},{\"attributes\":{\"callback\":null,\"column_names\":[\"x\",\"y\",\"width\",\"height\",\"color\",\"fill_alpha\",\"line_color\",\"line_alpha\",\"label\"],\"data\":{\"chart_index\":[\"(47.753927, 48.748691]\"],\"color\":[\"#f22c40\"],\"fill_alpha\":[0.8],\"height\":[0.0],\"label\":[\"(47.753927, 48.748691]\"],\"line_alpha\":[1.0],\"line_color\":[\"black\"],\"width\":[0.9947643979057617],\"x\":[\"48.251309\"],\"y\":[0.0]}},\"id\":\"8c110f59-0f02-4a7f-9d0a-ba297acf8c78\",\"type\":\"ColumnDataSource\"},{\"attributes\":{\"callback\":null,\"column_names\":[\"x\",\"y\",\"width\",\"height\",\"color\",\"fill_alpha\",\"line_color\",\"line_alpha\",\"label\"],\"data\":{\"chart_index\":[\"(115.397906, 116.392670]\"],\"color\":[\"#f22c40\"],\"fill_alpha\":[0.8],\"height\":[0.0],\"label\":[\"(115.397906, 116.392670]\"],\"line_alpha\":[1.0],\"line_color\":[\"black\"],\"width\":[0.9947643979057545],\"x\":[\"115.895288\"],\"y\":[0.0]}},\"id\":\"c7bdd6a5-8693-42d1-8a8f-b07da9ff34c6\",\"type\":\"ColumnDataSource\"},{\"attributes\":{\"data_source\":{\"id\":\"8c110f59-0f02-4a7f-9d0a-ba297acf8c78\",\"type\":\"ColumnDataSource\"},\"glyph\":{\"id\":\"4502fdb4-e120-482e-88f0-4b30d1ea60a2\",\"type\":\"Rect\"},\"hover_glyph\":null,\"muted_glyph\":null},\"id\":\"d54b5f75-a936-4fb3-b0e7-985fe9216413\",\"type\":\"GlyphRenderer\"},{\"attributes\":{\"fill_alpha\":{\"field\":\"fill_alpha\"},\"fill_color\":{\"field\":\"color\"},\"height\":{\"field\":\"height\",\"units\":\"data\"},\"line_color\":{\"field\":\"line_color\"},\"width\":{\"field\":\"width\",\"units\":\"data\"},\"x\":{\"field\":\"x\"},\"y\":{\"field\":\"y\"}},\"id\":\"c632e2f3-577f-4de9-b1f0-5ef856a9f043\",\"type\":\"Rect\"},{\"attributes\":{\"fill_alpha\":{\"field\":\"fill_alpha\"},\"fill_color\":{\"field\":\"color\"},\"height\":{\"field\":\"height\",\"units\":\"data\"},\"line_color\":{\"field\":\"line_color\"},\"width\":{\"field\":\"width\",\"units\":\"data\"},\"x\":{\"field\":\"x\"},\"y\":{\"field\":\"y\"}},\"id\":\"145fa46d-617e-49dc-9f17-bd3be6b43cf4\",\"type\":\"Rect\"},{\"attributes\":{\"callback\":null,\"column_names\":[\"x\",\"y\",\"width\",\"height\",\"color\",\"fill_alpha\",\"line_color\",\"line_alpha\",\"label\"],\"data\":{\"chart_index\":[\"(14.926702, 15.921466]\"],\"color\":[\"#f22c40\"],\"fill_alpha\":[0.8],\"height\":[7.0],\"label\":[\"(14.926702, 15.921466]\"],\"line_alpha\":[1.0],\"line_color\":[\"black\"],\"width\":[0.9947643979057581],\"x\":[\"15.424084\"],\"y\":[3.5]}},\"id\":\"b192e1f8-e926-492c-aea9-c3f06607ea6f\",\"type\":\"ColumnDataSource\"},{\"attributes\":{\"callback\":null,\"column_names\":[\"x\",\"y\",\"width\",\"height\",\"color\",\"fill_alpha\",\"line_color\",\"line_alpha\",\"label\"],\"data\":{\"chart_index\":[\"(49.743455, 50.738220]\"],\"color\":[\"#f22c40\"],\"fill_alpha\":[0.8],\"height\":[0.0],\"label\":[\"(49.743455, 50.738220]\"],\"line_alpha\":[1.0],\"line_color\":[\"black\"],\"width\":[0.9947643979057617],\"x\":[\"50.2408375\"],\"y\":[0.0]}},\"id\":\"85450d93-04da-48bc-a9d5-3b7ec532c633\",\"type\":\"ColumnDataSource\"},{\"attributes\":{\"data_source\":{\"id\":\"b192e1f8-e926-492c-aea9-c3f06607ea6f\",\"type\":\"ColumnDataSource\"},\"glyph\":{\"id\":\"ed1cec3d-9351-4ec5-8858-1541d762f934\",\"type\":\"Rect\"},\"hover_glyph\":null,\"muted_glyph\":null},\"id\":\"a5eaf60a-ef57-4bf1-8b83-194feab9fa49\",\"type\":\"GlyphRenderer\"},{\"attributes\":{\"fill_alpha\":{\"field\":\"fill_alpha\"},\"fill_color\":{\"field\":\"color\"},\"height\":{\"field\":\"height\",\"units\":\"data\"},\"line_color\":{\"field\":\"line_color\"},\"width\":{\"field\":\"width\",\"units\":\"data\"},\"x\":{\"field\":\"x\"},\"y\":{\"field\":\"y\"}},\"id\":\"95b5d2ab-5291-4144-897c-dff02196ace7\",\"type\":\"Rect\"},{\"attributes\":{\"fill_alpha\":{\"field\":\"fill_alpha\"},\"fill_color\":{\"field\":\"color\"},\"height\":{\"field\":\"height\",\"units\":\"data\"},\"line_color\":{\"field\":\"line_color\"},\"width\":{\"field\":\"width\",\"units\":\"data\"},\"x\":{\"field\":\"x\"},\"y\":{\"field\":\"y\"}},\"id\":\"ad3d8fff-03a8-4c27-9375-df502e7123f5\",\"type\":\"Rect\"},{\"attributes\":{\"callback\":null,\"column_names\":[\"x\",\"y\",\"width\",\"height\",\"color\",\"fill_alpha\",\"line_color\",\"line_alpha\",\"label\"],\"data\":{\"chart_index\":[\"(117.387435, 118.382199]\"],\"color\":[\"#f22c40\"],\"fill_alpha\":[0.8],\"height\":[0.0],\"label\":[\"(117.387435, 118.382199]\"],\"line_alpha\":[1.0],\"line_color\":[\"black\"],\"width\":[0.9947643979057688],\"x\":[\"117.884817\"],\"y\":[0.0]}},\"id\":\"28e0a77b-390e-43f9-b317-9ea753226f7d\",\"type\":\"ColumnDataSource\"},{\"attributes\":{\"callback\":null,\"column_names\":[\"x\",\"y\",\"width\",\"height\",\"color\",\"fill_alpha\",\"line_color\",\"line_alpha\",\"label\"],\"data\":{\"chart_index\":[\"(17.910995, 18.905759]\"],\"color\":[\"#f22c40\"],\"fill_alpha\":[0.8],\"height\":[2.0],\"label\":[\"(17.910995, 18.905759]\"],\"line_alpha\":[1.0],\"line_color\":[\"black\"],\"width\":[0.9947643979057617],\"x\":[\"18.408377\"],\"y\":[1.0]}},\"id\":\"9ef589a5-12fc-4aeb-b999-eaf31375b90b\",\"type\":\"ColumnDataSource\"},{\"attributes\":{\"data_source\":{\"id\":\"75971010-5d7b-446d-aadd-8a45f03bb68d\",\"type\":\"ColumnDataSource\"},\"glyph\":{\"id\":\"1df0c098-6275-49d8-a9a6-ffb6ce2ccf78\",\"type\":\"Rect\"},\"hover_glyph\":null,\"muted_glyph\":null},\"id\":\"2dab0ec6-7fb5-495b-9c95-adc2ca8bd40c\",\"type\":\"GlyphRenderer\"},{\"attributes\":{\"fill_alpha\":{\"field\":\"fill_alpha\"},\"fill_color\":{\"field\":\"color\"},\"height\":{\"field\":\"height\",\"units\":\"data\"},\"line_color\":{\"field\":\"line_color\"},\"width\":{\"field\":\"width\",\"units\":\"data\"},\"x\":{\"field\":\"x\"},\"y\":{\"field\":\"y\"}},\"id\":\"39822c5f-a4ca-4e81-b4dc-20010f1468ae\",\"type\":\"Rect\"},{\"attributes\":{\"data_source\":{\"id\":\"bddaacf1-ae21-4509-bdf4-ee76594a78bb\",\"type\":\"ColumnDataSource\"},\"glyph\":{\"id\":\"5f36e62e-a53e-4d7b-8b71-2d90bd461ddb\",\"type\":\"Rect\"},\"hover_glyph\":null,\"muted_glyph\":null},\"id\":\"4edddd60-9609-4e11-8791-6f9e25e756a0\",\"type\":\"GlyphRenderer\"},{\"attributes\":{\"data_source\":{\"id\":\"b8e5b6b0-d711-44fd-8c20-8d2bbcfa6f45\",\"type\":\"ColumnDataSource\"},\"glyph\":{\"id\":\"6086fa88-c8f4-458b-9217-0b69f0b7eaef\",\"type\":\"Rect\"},\"hover_glyph\":null,\"muted_glyph\":null},\"id\":\"705dadc6-6475-470d-bb01-2271d97e7b9b\",\"type\":\"GlyphRenderer\"},{\"attributes\":{\"data_source\":{\"id\":\"112c1e72-f75c-4a1c-aa2b-ce5915fba145\",\"type\":\"ColumnDataSource\"},\"glyph\":{\"id\":\"a798a7fc-e9c5-465c-983b-99ad97fde772\",\"type\":\"Rect\"},\"hover_glyph\":null,\"muted_glyph\":null},\"id\":\"574a1bcf-dc7a-47f7-bfa5-dd31b598670e\",\"type\":\"GlyphRenderer\"},{\"attributes\":{\"fill_alpha\":{\"field\":\"fill_alpha\"},\"fill_color\":{\"field\":\"color\"},\"height\":{\"field\":\"height\",\"units\":\"data\"},\"line_color\":{\"field\":\"line_color\"},\"width\":{\"field\":\"width\",\"units\":\"data\"},\"x\":{\"field\":\"x\"},\"y\":{\"field\":\"y\"}},\"id\":\"fe1ac4a2-a7e8-406d-b2c3-d2ae46765531\",\"type\":\"Rect\"},{\"attributes\":{\"fill_alpha\":{\"field\":\"fill_alpha\"},\"fill_color\":{\"field\":\"color\"},\"height\":{\"field\":\"height\",\"units\":\"data\"},\"line_color\":{\"field\":\"line_color\"},\"width\":{\"field\":\"width\",\"units\":\"data\"},\"x\":{\"field\":\"x\"},\"y\":{\"field\":\"y\"}},\"id\":\"4f93fca3-e22b-4d47-99ef-f1909fd30389\",\"type\":\"Rect\"},{\"attributes\":{\"callback\":null,\"column_names\":[\"x\",\"y\",\"width\",\"height\",\"color\",\"fill_alpha\",\"line_color\",\"line_alpha\",\"label\"],\"data\":{\"chart_index\":[\"(125.345550, 126.340314]\"],\"color\":[\"#f22c40\"],\"fill_alpha\":[0.8],\"height\":[0.0],\"label\":[\"(125.345550, 126.340314]\"],\"line_alpha\":[1.0],\"line_color\":[\"black\"],\"width\":[0.9947643979057545],\"x\":[\"125.842932\"],\"y\":[0.0]}},\"id\":\"977077ef-0bfe-45be-96a5-243f36f7ab96\",\"type\":\"ColumnDataSource\"},{\"attributes\":{\"data_source\":{\"id\":\"9ef589a5-12fc-4aeb-b999-eaf31375b90b\",\"type\":\"ColumnDataSource\"},\"glyph\":{\"id\":\"ad3d8fff-03a8-4c27-9375-df502e7123f5\",\"type\":\"Rect\"},\"hover_glyph\":null,\"muted_glyph\":null},\"id\":\"d6c00c04-208c-4a5c-a27d-70ad60ab2c62\",\"type\":\"GlyphRenderer\"},{\"attributes\":{\"data_source\":{\"id\":\"c7bdd6a5-8693-42d1-8a8f-b07da9ff34c6\",\"type\":\"ColumnDataSource\"},\"glyph\":{\"id\":\"52fe0f5e-8a48-4a9b-97c6-bc4882d5acf0\",\"type\":\"Rect\"},\"hover_glyph\":null,\"muted_glyph\":null},\"id\":\"033bede5-3b96-4737-82e0-dd03fe01a7c2\",\"type\":\"GlyphRenderer\"},{\"attributes\":{\"callback\":null,\"column_names\":[\"x\",\"y\",\"width\",\"height\",\"color\",\"fill_alpha\",\"line_color\",\"line_alpha\",\"label\"],\"data\":{\"chart_index\":[\"(74.612565, 75.607330]\"],\"color\":[\"#f22c40\"],\"fill_alpha\":[0.8],\"height\":[0.0],\"label\":[\"(74.612565, 75.607330]\"],\"line_alpha\":[1.0],\"line_color\":[\"black\"],\"width\":[0.9947643979057688],\"x\":[\"75.1099475\"],\"y\":[0.0]}},\"id\":\"64de32f7-aa2f-492a-8a0c-b29a5c2cded7\",\"type\":\"ColumnDataSource\"},{\"attributes\":{\"data_source\":{\"id\":\"d77c9ec1-60a8-4daa-b7e9-e6e7daf604fc\",\"type\":\"ColumnDataSource\"},\"glyph\":{\"id\":\"dd3d0022-0ccf-4b48-913e-be3c66e18331\",\"type\":\"Rect\"},\"hover_glyph\":null,\"muted_glyph\":null},\"id\":\"c193558f-a3a6-45ce-93c0-5831711fbb92\",\"type\":\"GlyphRenderer\"},{\"attributes\":{\"data_source\":{\"id\":\"1bba00b4-2ca0-4ae8-acac-5d8e97a8ce22\",\"type\":\"ColumnDataSource\"},\"glyph\":{\"id\":\"39822c5f-a4ca-4e81-b4dc-20010f1468ae\",\"type\":\"Rect\"},\"hover_glyph\":null,\"muted_glyph\":null},\"id\":\"986b9b53-0456-48eb-b5a8-888eba869161\",\"type\":\"GlyphRenderer\"},{\"attributes\":{\"data_source\":{\"id\":\"85450d93-04da-48bc-a9d5-3b7ec532c633\",\"type\":\"ColumnDataSource\"},\"glyph\":{\"id\":\"c632e2f3-577f-4de9-b1f0-5ef856a9f043\",\"type\":\"Rect\"},\"hover_glyph\":null,\"muted_glyph\":null},\"id\":\"c8730d88-482d-4aca-b72a-106d2771e693\",\"type\":\"GlyphRenderer\"},{\"attributes\":{\"callback\":null,\"column_names\":[\"x\",\"y\",\"width\",\"height\",\"color\",\"fill_alpha\",\"line_color\",\"line_alpha\",\"label\"],\"data\":{\"chart_index\":[\"(18.905759, 19.900524]\"],\"color\":[\"#f22c40\"],\"fill_alpha\":[0.8],\"height\":[3.0],\"label\":[\"(18.905759, 19.900524]\"],\"line_alpha\":[1.0],\"line_color\":[\"black\"],\"width\":[0.9947643979057581],\"x\":[\"19.4031415\"],\"y\":[1.5]}},\"id\":\"d77c9ec1-60a8-4daa-b7e9-e6e7daf604fc\",\"type\":\"ColumnDataSource\"},{\"attributes\":{\"callback\":null,\"column_names\":[\"x\",\"y\",\"width\",\"height\",\"color\",\"fill_alpha\",\"line_color\",\"line_alpha\",\"label\"],\"data\":{\"chart_index\":[\"(116.392670, 117.387435]\"],\"color\":[\"#f22c40\"],\"fill_alpha\":[0.8],\"height\":[0.0],\"label\":[\"(116.392670, 117.387435]\"],\"line_alpha\":[1.0],\"line_color\":[\"black\"],\"width\":[0.9947643979057545],\"x\":[\"116.8900525\"],\"y\":[0.0]}},\"id\":\"1bba00b4-2ca0-4ae8-acac-5d8e97a8ce22\",\"type\":\"ColumnDataSource\"},{\"attributes\":{\"data_source\":{\"id\":\"28e0a77b-390e-43f9-b317-9ea753226f7d\",\"type\":\"ColumnDataSource\"},\"glyph\":{\"id\":\"95b5d2ab-5291-4144-897c-dff02196ace7\",\"type\":\"Rect\"},\"hover_glyph\":null,\"muted_glyph\":null},\"id\":\"1cc1d195-1280-4b37-8e1d-2fc611e275e7\",\"type\":\"GlyphRenderer\"},{\"attributes\":{\"fill_alpha\":{\"field\":\"fill_alpha\"},\"fill_color\":{\"field\":\"color\"},\"height\":{\"field\":\"height\",\"units\":\"data\"},\"line_color\":{\"field\":\"line_color\"},\"width\":{\"field\":\"width\",\"units\":\"data\"},\"x\":{\"field\":\"x\"},\"y\":{\"field\":\"y\"}},\"id\":\"e29dd2d2-3eba-41af-bf57-21dae70437d1\",\"type\":\"Rect\"},{\"attributes\":{\"fill_alpha\":{\"field\":\"fill_alpha\"},\"fill_color\":{\"field\":\"color\"},\"height\":{\"field\":\"height\",\"units\":\"data\"},\"line_color\":{\"field\":\"line_color\"},\"width\":{\"field\":\"width\",\"units\":\"data\"},\"x\":{\"field\":\"x\"},\"y\":{\"field\":\"y\"}},\"id\":\"a089770f-6e2e-4758-985a-dc398e913975\",\"type\":\"Rect\"},{\"attributes\":{\"callback\":null,\"column_names\":[\"x\",\"y\",\"width\",\"height\",\"color\",\"fill_alpha\",\"line_color\",\"line_alpha\",\"label\"],\"data\":{\"chart_index\":[\"(84.560209, 85.554974]\"],\"color\":[\"#f22c40\"],\"fill_alpha\":[0.8],\"height\":[0.0],\"label\":[\"(84.560209, 85.554974]\"],\"line_alpha\":[1.0],\"line_color\":[\"black\"],\"width\":[0.9947643979057545],\"x\":[\"85.0575915\"],\"y\":[0.0]}},\"id\":\"7a04b8a3-491f-4319-8a1c-16cff61d164f\",\"type\":\"ColumnDataSource\"},{\"attributes\":{\"fill_alpha\":{\"field\":\"fill_alpha\"},\"fill_color\":{\"field\":\"color\"},\"height\":{\"field\":\"height\",\"units\":\"data\"},\"line_color\":{\"field\":\"line_color\"},\"width\":{\"field\":\"width\",\"units\":\"data\"},\"x\":{\"field\":\"x\"},\"y\":{\"field\":\"y\"}},\"id\":\"51052023-789e-4cd0-b8b9-3514aa2cef2f\",\"type\":\"Rect\"},{\"attributes\":{\"fill_alpha\":{\"field\":\"fill_alpha\"},\"fill_color\":{\"field\":\"color\"},\"height\":{\"field\":\"height\",\"units\":\"data\"},\"line_color\":{\"field\":\"line_color\"},\"width\":{\"field\":\"width\",\"units\":\"data\"},\"x\":{\"field\":\"x\"},\"y\":{\"field\":\"y\"}},\"id\":\"a9e8eb88-3a36-4d48-8183-d5f701222475\",\"type\":\"Rect\"},{\"attributes\":{\"callback\":null,\"column_names\":[\"x\",\"y\",\"width\",\"height\",\"color\",\"fill_alpha\",\"line_color\",\"line_alpha\",\"label\"],\"data\":{\"chart_index\":[\"(151.209424, 152.204188]\"],\"color\":[\"#f22c40\"],\"fill_alpha\":[0.8],\"height\":[0.0],\"label\":[\"(151.209424, 152.204188]\"],\"line_alpha\":[1.0],\"line_color\":[\"black\"],\"width\":[0.9947643979057545],\"x\":[\"151.706806\"],\"y\":[0.0]}},\"id\":\"9e18276a-7ee8-4ad6-92ba-1d24ca96fa28\",\"type\":\"ColumnDataSource\"},{\"attributes\":{\"callback\":null,\"column_names\":[\"x\",\"y\",\"width\",\"height\",\"color\",\"fill_alpha\",\"line_color\",\"line_alpha\",\"label\"],\"data\":{\"chart_index\":[\"(185.031414, 186.026178]\"],\"color\":[\"#f22c40\"],\"fill_alpha\":[0.8],\"height\":[0.0],\"label\":[\"(185.031414, 186.026178]\"],\"line_alpha\":[1.0],\"line_color\":[\"black\"],\"width\":[0.994764397905783],\"x\":[\"185.528796\"],\"y\":[0.0]}},\"id\":\"bd2bdb4b-6b16-4539-9249-e1b54c7994f5\",\"type\":\"ColumnDataSource\"},{\"attributes\":{\"fill_alpha\":{\"field\":\"fill_alpha\"},\"fill_color\":{\"field\":\"color\"},\"height\":{\"field\":\"height\",\"units\":\"data\"},\"line_color\":{\"field\":\"line_color\"},\"width\":{\"field\":\"width\",\"units\":\"data\"},\"x\":{\"field\":\"x\"},\"y\":{\"field\":\"y\"}},\"id\":\"8fbcafd8-9d67-4ff1-97f0-aafc98b5cff5\",\"type\":\"Rect\"},{\"attributes\":{\"callback\":null,\"column_names\":[\"x\",\"y\",\"width\",\"height\",\"color\",\"fill_alpha\",\"line_color\",\"line_alpha\",\"label\"],\"data\":{\"chart_index\":[\"(150.214660, 151.209424]\"],\"color\":[\"#f22c40\"],\"fill_alpha\":[0.8],\"height\":[0.0],\"label\":[\"(150.214660, 151.209424]\"],\"line_alpha\":[1.0],\"line_color\":[\"black\"],\"width\":[0.9947643979057545],\"x\":[\"150.712042\"],\"y\":[0.0]}},\"id\":\"d537eb9a-c8c9-4238-ac87-1088412c7881\",\"type\":\"ColumnDataSource\"},{\"attributes\":{\"callback\":null,\"column_names\":[\"x\",\"y\",\"width\",\"height\",\"color\",\"fill_alpha\",\"line_color\",\"line_alpha\",\"label\"],\"data\":{\"chart_index\":[\"(181.052356, 182.047120]\"],\"color\":[\"#f22c40\"],\"fill_alpha\":[0.8],\"height\":[0.0],\"label\":[\"(181.052356, 182.047120]\"],\"line_alpha\":[1.0],\"line_color\":[\"black\"],\"width\":[0.9947643979057545],\"x\":[\"181.549738\"],\"y\":[0.0]}},\"id\":\"1a3d916f-ce99-484b-9906-827a4dc8c1b9\",\"type\":\"ColumnDataSource\"},{\"attributes\":{\"callback\":null,\"column_names\":[\"x\",\"y\",\"width\",\"height\",\"color\",\"fill_alpha\",\"line_color\",\"line_alpha\",\"label\"],\"data\":{\"chart_index\":[\"(83.565445, 84.560209]\"],\"color\":[\"#f22c40\"],\"fill_alpha\":[0.8],\"height\":[2.0],\"label\":[\"(83.565445, 84.560209]\"],\"line_alpha\":[1.0],\"line_color\":[\"black\"],\"width\":[0.9947643979057688],\"x\":[\"84.062827\"],\"y\":[1.0]}},\"id\":\"5b0b2031-38db-4b52-8401-19733d606c4a\",\"type\":\"ColumnDataSource\"},{\"attributes\":{\"data_source\":{\"id\":\"1c26fbd0-b48c-4203-893c-ed67d22e55f6\",\"type\":\"ColumnDataSource\"},\"glyph\":{\"id\":\"c060515d-cd27-4478-a911-86f6eb146aa1\",\"type\":\"Rect\"},\"hover_glyph\":null,\"muted_glyph\":null},\"id\":\"d381b732-a2fc-4468-b5ea-1e409df8b02e\",\"type\":\"GlyphRenderer\"},{\"attributes\":{\"data_source\":{\"id\":\"5b0b2031-38db-4b52-8401-19733d606c4a\",\"type\":\"ColumnDataSource\"},\"glyph\":{\"id\":\"d5efa3e2-d9a0-40b9-8714-0fb3a7d80bff\",\"type\":\"Rect\"},\"hover_glyph\":null,\"muted_glyph\":null},\"id\":\"15ffb10e-dad1-4a1c-9660-969fc8cdc538\",\"type\":\"GlyphRenderer\"},{\"attributes\":{\"fill_alpha\":{\"field\":\"fill_alpha\"},\"fill_color\":{\"field\":\"color\"},\"height\":{\"field\":\"height\",\"units\":\"data\"},\"line_color\":{\"field\":\"line_color\"},\"width\":{\"field\":\"width\",\"units\":\"data\"},\"x\":{\"field\":\"x\"},\"y\":{\"field\":\"y\"}},\"id\":\"ebf38054-ae84-45ac-aa4f-b2ecf1300ca4\",\"type\":\"Rect\"},{\"attributes\":{\"data_source\":{\"id\":\"d537eb9a-c8c9-4238-ac87-1088412c7881\",\"type\":\"ColumnDataSource\"},\"glyph\":{\"id\":\"51052023-789e-4cd0-b8b9-3514aa2cef2f\",\"type\":\"Rect\"},\"hover_glyph\":null,\"muted_glyph\":null},\"id\":\"5344a60e-ce5f-49e1-8e0f-d02ce286791a\",\"type\":\"GlyphRenderer\"},{\"attributes\":{\"data_source\":{\"id\":\"1a3d916f-ce99-484b-9906-827a4dc8c1b9\",\"type\":\"ColumnDataSource\"},\"glyph\":{\"id\":\"a9e8eb88-3a36-4d48-8183-d5f701222475\",\"type\":\"Rect\"},\"hover_glyph\":null,\"muted_glyph\":null},\"id\":\"2be6330b-f0d8-41d1-b8e6-51fb3af2d536\",\"type\":\"GlyphRenderer\"},{\"attributes\":{\"callback\":null,\"column_names\":[\"x\",\"y\",\"width\",\"height\",\"color\",\"fill_alpha\",\"line_color\",\"line_alpha\",\"label\"],\"data\":{\"chart_index\":[\"(85.554974, 86.549738]\"],\"color\":[\"#f22c40\"],\"fill_alpha\":[0.8],\"height\":[0.0],\"label\":[\"(85.554974, 86.549738]\"],\"line_alpha\":[1.0],\"line_color\":[\"black\"],\"width\":[0.9947643979057545],\"x\":[\"86.052356\"],\"y\":[0.0]}},\"id\":\"2d43cd2a-0fd0-4f42-bcba-2191dc848ca6\",\"type\":\"ColumnDataSource\"},{\"attributes\":{\"fill_alpha\":{\"field\":\"fill_alpha\"},\"fill_color\":{\"field\":\"color\"},\"height\":{\"field\":\"height\",\"units\":\"data\"},\"line_color\":{\"field\":\"line_color\"},\"width\":{\"field\":\"width\",\"units\":\"data\"},\"x\":{\"field\":\"x\"},\"y\":{\"field\":\"y\"}},\"id\":\"c3507e99-921f-4748-aa9f-a1c0a3fbb88c\",\"type\":\"Rect\"},{\"attributes\":{\"callback\":null,\"column_names\":[\"x\",\"y\",\"width\",\"height\",\"color\",\"fill_alpha\",\"line_color\",\"line_alpha\",\"label\"],\"data\":{\"chart_index\":[\"(184.036649, 185.031414]\"],\"color\":[\"#f22c40\"],\"fill_alpha\":[0.8],\"height\":[0.0],\"label\":[\"(184.036649, 185.031414]\"],\"line_alpha\":[1.0],\"line_color\":[\"black\"],\"width\":[0.9947643979057545],\"x\":[\"184.53403150000003\"],\"y\":[0.0]}},\"id\":\"a3b5816a-bfaf-4ec9-92d6-bd5dfbe0ab7d\",\"type\":\"ColumnDataSource\"},{\"attributes\":{\"data_source\":{\"id\":\"55fb8021-aa1d-4492-9a2c-8d0b906418d4\",\"type\":\"ColumnDataSource\"},\"glyph\":{\"id\":\"c3507e99-921f-4748-aa9f-a1c0a3fbb88c\",\"type\":\"Rect\"},\"hover_glyph\":null,\"muted_glyph\":null},\"id\":\"f1a3aacb-1452-43b0-bc00-1e245257f755\",\"type\":\"GlyphRenderer\"},{\"attributes\":{\"fill_alpha\":{\"field\":\"fill_alpha\"},\"fill_color\":{\"field\":\"color\"},\"height\":{\"field\":\"height\",\"units\":\"data\"},\"line_color\":{\"field\":\"line_color\"},\"width\":{\"field\":\"width\",\"units\":\"data\"},\"x\":{\"field\":\"x\"},\"y\":{\"field\":\"y\"}},\"id\":\"812a4ae2-be5f-4507-a0f3-1877aa718032\",\"type\":\"Rect\"},{\"attributes\":{\"callback\":null,\"column_names\":[\"x\",\"y\",\"width\",\"height\",\"color\",\"fill_alpha\",\"line_color\",\"line_alpha\",\"label\"],\"data\":{\"chart_index\":[\"(88.539267, 89.534031]\"],\"color\":[\"#f22c40\"],\"fill_alpha\":[0.8],\"height\":[0.0],\"label\":[\"(88.539267, 89.534031]\"],\"line_alpha\":[1.0],\"line_color\":[\"black\"],\"width\":[0.9947643979057545],\"x\":[\"89.036649\"],\"y\":[0.0]}},\"id\":\"ffd3364f-0ba8-4b54-b6c7-675afe994080\",\"type\":\"ColumnDataSource\"},{\"attributes\":{\"fill_alpha\":{\"field\":\"fill_alpha\"},\"fill_color\":{\"field\":\"color\"},\"height\":{\"field\":\"height\",\"units\":\"data\"},\"line_color\":{\"field\":\"line_color\"},\"width\":{\"field\":\"width\",\"units\":\"data\"},\"x\":{\"field\":\"x\"},\"y\":{\"field\":\"y\"}},\"id\":\"9c25b640-7e05-4fa8-9d7b-b2c2a937f785\",\"type\":\"Rect\"},{\"attributes\":{\"fill_alpha\":{\"field\":\"fill_alpha\"},\"fill_color\":{\"field\":\"color\"},\"height\":{\"field\":\"height\",\"units\":\"data\"},\"line_color\":{\"field\":\"line_color\"},\"width\":{\"field\":\"width\",\"units\":\"data\"},\"x\":{\"field\":\"x\"},\"y\":{\"field\":\"y\"}},\"id\":\"c060515d-cd27-4478-a911-86f6eb146aa1\",\"type\":\"Rect\"},{\"attributes\":{\"fill_alpha\":{\"field\":\"fill_alpha\"},\"fill_color\":{\"field\":\"color\"},\"height\":{\"field\":\"height\",\"units\":\"data\"},\"line_color\":{\"field\":\"line_color\"},\"width\":{\"field\":\"width\",\"units\":\"data\"},\"x\":{\"field\":\"x\"},\"y\":{\"field\":\"y\"}},\"id\":\"7fc13cb2-ffcb-43de-a556-4c061d5e810f\",\"type\":\"Rect\"},{\"attributes\":{\"data_source\":{\"id\":\"7a04b8a3-491f-4319-8a1c-16cff61d164f\",\"type\":\"ColumnDataSource\"},\"glyph\":{\"id\":\"e29dd2d2-3eba-41af-bf57-21dae70437d1\",\"type\":\"Rect\"},\"hover_glyph\":null,\"muted_glyph\":null},\"id\":\"13c5aebc-db2d-4b5f-8e6e-c6185aaef4fb\",\"type\":\"GlyphRenderer\"},{\"attributes\":{\"axis_label\":\"location-id-code\",\"formatter\":{\"id\":\"5d2ed1cb-f0ef-449f-afb6-2ffa3e8b4912\",\"type\":\"BasicTickFormatter\"},\"plot\":{\"id\":\"26f21670-34ce-47ab-9fe3-3443f913aa5a\",\"subtype\":\"Chart\",\"type\":\"Plot\"},\"ticker\":{\"id\":\"be1b0b5f-2e82-4159-a430-a35892fed906\",\"type\":\"BasicTicker\"}},\"id\":\"3fd576df-409c-4bd9-a547-caf9ddc102e6\",\"type\":\"LinearAxis\"},{\"attributes\":{\"data_source\":{\"id\":\"9e18276a-7ee8-4ad6-92ba-1d24ca96fa28\",\"type\":\"ColumnDataSource\"},\"glyph\":{\"id\":\"a089770f-6e2e-4758-985a-dc398e913975\",\"type\":\"Rect\"},\"hover_glyph\":null,\"muted_glyph\":null},\"id\":\"daa81615-98ab-4c03-afe8-ba0477e4cb26\",\"type\":\"GlyphRenderer\"},{\"attributes\":{\"callback\":null,\"column_names\":[\"x\",\"y\",\"width\",\"height\",\"color\",\"fill_alpha\",\"line_color\",\"line_alpha\",\"label\"],\"data\":{\"chart_index\":[\"(96.497382, 97.492147]\"],\"color\":[\"#f22c40\"],\"fill_alpha\":[0.8],\"height\":[0.0],\"label\":[\"(96.497382, 97.492147]\"],\"line_alpha\":[1.0],\"line_color\":[\"black\"],\"width\":[0.9947643979057545],\"x\":[\"96.9947645\"],\"y\":[0.0]}},\"id\":\"38ac0d45-f7b5-453f-90de-ea9f90f387de\",\"type\":\"ColumnDataSource\"},{\"attributes\":{\"callback\":null,\"column_names\":[\"x\",\"y\",\"width\",\"height\",\"color\",\"fill_alpha\",\"line_color\",\"line_alpha\",\"label\"],\"data\":{\"chart_index\":[\"(190.005236, 191.000000]\"],\"color\":[\"#f22c40\"],\"fill_alpha\":[0.8],\"height\":[1.0],\"label\":[\"(190.005236, 191.000000]\"],\"line_alpha\":[1.0],\"line_color\":[\"black\"],\"width\":[0.9947643979057545],\"x\":[\"190.50261799999998\"],\"y\":[0.5]}},\"id\":\"f0e58e7c-27fa-403f-8e1c-3f22105c913c\",\"type\":\"ColumnDataSource\"},{\"attributes\":{\"fill_alpha\":{\"field\":\"fill_alpha\"},\"fill_color\":{\"field\":\"color\"},\"height\":{\"field\":\"height\",\"units\":\"data\"},\"line_color\":{\"field\":\"line_color\"},\"width\":{\"field\":\"width\",\"units\":\"data\"},\"x\":{\"field\":\"x\"},\"y\":{\"field\":\"y\"}},\"id\":\"ce95a505-8629-4fd7-ae21-c64cda1fc517\",\"type\":\"Rect\"},{\"attributes\":{\"data_source\":{\"id\":\"a3b5816a-bfaf-4ec9-92d6-bd5dfbe0ab7d\",\"type\":\"ColumnDataSource\"},\"glyph\":{\"id\":\"9c25b640-7e05-4fa8-9d7b-b2c2a937f785\",\"type\":\"Rect\"},\"hover_glyph\":null,\"muted_glyph\":null},\"id\":\"d808f3a1-64cb-4423-a12a-66e1f83be0c6\",\"type\":\"GlyphRenderer\"},{\"attributes\":{\"callback\":null,\"column_names\":[\"x\",\"y\",\"width\",\"height\",\"color\",\"fill_alpha\",\"line_color\",\"line_alpha\",\"label\"],\"data\":{\"chart_index\":[\"(152.204188, 153.198953]\"],\"color\":[\"#f22c40\"],\"fill_alpha\":[0.8],\"height\":[0.0],\"label\":[\"(152.204188, 153.198953]\"],\"line_alpha\":[1.0],\"line_color\":[\"black\"],\"width\":[0.9947643979057545],\"x\":[\"152.7015705\"],\"y\":[0.0]}},\"id\":\"55fb8021-aa1d-4492-9a2c-8d0b906418d4\",\"type\":\"ColumnDataSource\"},{\"attributes\":{\"callback\":null,\"column_names\":[\"x\",\"y\",\"width\",\"height\",\"color\",\"fill_alpha\",\"line_color\",\"line_alpha\",\"label\"],\"data\":{\"chart_index\":[\"(153.198953, 154.193717]\"],\"color\":[\"#f22c40\"],\"fill_alpha\":[0.8],\"height\":[0.0],\"label\":[\"(153.198953, 154.193717]\"],\"line_alpha\":[1.0],\"line_color\":[\"black\"],\"width\":[0.9947643979057545],\"x\":[\"153.69633499999998\"],\"y\":[0.0]}},\"id\":\"1c26fbd0-b48c-4203-893c-ed67d22e55f6\",\"type\":\"ColumnDataSource\"},{\"attributes\":{\"data_source\":{\"id\":\"ffd3364f-0ba8-4b54-b6c7-675afe994080\",\"type\":\"ColumnDataSource\"},\"glyph\":{\"id\":\"8fbcafd8-9d67-4ff1-97f0-aafc98b5cff5\",\"type\":\"Rect\"},\"hover_glyph\":null,\"muted_glyph\":null},\"id\":\"f8afd7cf-f651-485c-b2cd-d577074a604e\",\"type\":\"GlyphRenderer\"},{\"attributes\":{\"data_source\":{\"id\":\"f0e58e7c-27fa-403f-8e1c-3f22105c913c\",\"type\":\"ColumnDataSource\"},\"glyph\":{\"id\":\"7feb6f92-f6e7-4764-969e-dfc80f197145\",\"type\":\"Rect\"},\"hover_glyph\":null,\"muted_glyph\":null},\"id\":\"a0a7a7b5-784a-47b0-a683-fe0d811fe06c\",\"type\":\"GlyphRenderer\"},{\"attributes\":{\"data_source\":{\"id\":\"2d43cd2a-0fd0-4f42-bcba-2191dc848ca6\",\"type\":\"ColumnDataSource\"},\"glyph\":{\"id\":\"ebf38054-ae84-45ac-aa4f-b2ecf1300ca4\",\"type\":\"Rect\"},\"hover_glyph\":null,\"muted_glyph\":null},\"id\":\"1b258509-1feb-48e8-bc01-3e0c763e4cf4\",\"type\":\"GlyphRenderer\"}],\"root_ids\":[\"26f21670-34ce-47ab-9fe3-3443f913aa5a\"]},\"title\":\"Bokeh Application\",\"version\":\"0.12.5\"}};\n",
       "            var render_items = [{\"docid\":\"de08bf4d-d714-4a72-82c6-6215f87eca1a\",\"elementid\":\"65dd2f20-3f99-429b-a787-39b9f236a84c\",\"modelid\":\"26f21670-34ce-47ab-9fe3-3443f913aa5a\"}];\n",
       "            \n",
       "            Bokeh.embed.embed_items(docs_json, render_items);\n",
       "          };\n",
       "          if (document.readyState != \"loading\") fn();\n",
       "          else document.addEventListener(\"DOMContentLoaded\", fn);\n",
       "        })();\n",
       "      },\n",
       "      function(Bokeh) {\n",
       "      }\n",
       "    ];\n",
       "  \n",
       "    function run_inline_js() {\n",
       "      \n",
       "      if ((window.Bokeh !== undefined) || (force === true)) {\n",
       "        for (var i = 0; i < inline_js.length; i++) {\n",
       "          inline_js[i](window.Bokeh);\n",
       "        }if (force === true) {\n",
       "          display_loaded();\n",
       "        }} else if (Date.now() < window._bokeh_timeout) {\n",
       "        setTimeout(run_inline_js, 100);\n",
       "      } else if (!window._bokeh_failed_load) {\n",
       "        console.log(\"Bokeh: BokehJS failed to load within specified timeout.\");\n",
       "        window._bokeh_failed_load = true;\n",
       "      } else if (force !== true) {\n",
       "        var cell = $(document.getElementById(\"65dd2f20-3f99-429b-a787-39b9f236a84c\")).parents('.cell').data().cell;\n",
       "        cell.output_area.append_execute_result(NB_LOAD_WARNING)\n",
       "      }\n",
       "  \n",
       "    }\n",
       "  \n",
       "    if (window._bokeh_is_loading === 0) {\n",
       "      console.log(\"Bokeh: BokehJS loaded, going straight to plotting\");\n",
       "      run_inline_js();\n",
       "    } else {\n",
       "      load_libs(js_urls, function() {\n",
       "        console.log(\"Bokeh: BokehJS plotting callback run at\", now());\n",
       "        run_inline_js();\n",
       "      });\n",
       "    }\n",
       "  }(this));\n",
       "</script>"
      ]
     },
     "metadata": {},
     "output_type": "display_data"
    }
   ],
   "source": [
    "p3 = Histogram(location_elements_pivot, \n",
    "              'location-id-code',\n",
    "              title = \"Histogram of Locations Per Activity\", \n",
    "              bins=191)\n",
    "\n",
    "show(p3)"
   ]
  },
  {
   "cell_type": "markdown",
   "metadata": {},
   "source": [
    "Here all of the fields are used uniformly, and the distribution looks similar to recipient countries above, which represents the same challenge for usability when there are many locations to a given activity. Especially given that there is no simple way of associating those locations with the recipient-country elements, or the activities transactions."
   ]
  },
  {
   "cell_type": "markdown",
   "metadata": {},
   "source": [
    "#### Locations and Activity Scope\n",
    "\n",
    "Another method of assessing the geographical useability of the data is the check whether, in every activity with an activity scope of 'national' or below, there is a corresponding location element.\n"
   ]
  },
  {
   "cell_type": "code",
   "execution_count": 928,
   "metadata": {},
   "outputs": [
    {
     "name": "stderr",
     "output_type": "stream",
     "text": [
      "/home/rory/anaconda3/envs/py36/lib/python3.6/site-packages/ipykernel_launcher.py:11: FutureWarning: The behavior of this method will change in future versions. Use specific 'len(elem)' or 'elem is not None' test instead.\n",
      "  # This is added back by InteractiveShellApp.init_path()\n"
     ]
    }
   ],
   "source": [
    "locations_by_activity_scope = pd.DataFrame(\n",
    "    columns=[\n",
    "        'iati-identifier', 'activity-status', 'activity-scope',\n",
    "        'location-count'\n",
    "    ],\n",
    "    data=[[\n",
    "        activity.find('iati-identifier').text,\n",
    "        int(activity.find('activity-status').get('code')),\n",
    "        activity.find('activity-scope').get('code'),\n",
    "        len(activity.find('location')) if activity.find('location') else None\n",
    "    ] for activity in big_iati.xpath('iati-activity[activity-scope]')])\n",
    "\n",
    "locations_by_activity_scope.to_excel(pd_writer, \"Location Count by Scope\")\n",
    "\n",
    "locations_by_activity_national_or_lower = locations_by_activity_scope[\n",
    "    locations_by_activity_scope['activity-status'] >= 4]\n",
    "\n",
    "# locations_by_activity_national_or_lower TODO"
   ]
  },
  {
   "cell_type": "markdown",
   "metadata": {},
   "source": [
    "## Use Case 6: Verifying Financials (Deliverable 3.1.6)\n",
    "\n",
    "### Use Case\n",
    "\n",
    "_Verify that the financial data of a project “adds up” (e.g. comparing commitments to budgets and disbursements)_\n",
    "\n",
    "This section considers the existence and coverage of the relevant fields - budgets, commitments and transactions (broken down by type).\n",
    "\n",
    "### Budgets"
   ]
  },
  {
   "cell_type": "code",
   "execution_count": 929,
   "metadata": {},
   "outputs": [
    {
     "name": "stdout",
     "output_type": "stream",
     "text": [
      "3952 of the 3961 (99.77%) published activities contain budgets.\n"
     ]
    }
   ],
   "source": [
    "print(\"{} of the {} ({:.2%}) published activities contain budgets.\".\n",
    "      format(\n",
    "          len(big_iati.xpath(\"iati-activity[budget]\")),\n",
    "          len(big_iati),\n",
    "          len(big_iati.xpath(\"iati-activity[budget]\")) / len(big_iati)\n",
    "      ))"
   ]
  },
  {
   "cell_type": "markdown",
   "metadata": {},
   "source": [
    "### Transactions"
   ]
  },
  {
   "cell_type": "code",
   "execution_count": 930,
   "metadata": {},
   "outputs": [
    {
     "name": "stdout",
     "output_type": "stream",
     "text": [
      "The following transaction types are incuded in the analysed activities: {'2', '3'}\n"
     ]
    }
   ],
   "source": [
    "print(\n",
    "    \"The following transaction types are incuded in the analysed activities: {}\".\n",
    "    format(\n",
    "        set(\n",
    "            big_iati.xpath(\n",
    "                \"iati-activity/transaction/transaction-type/@code\"))))"
   ]
  },
  {
   "cell_type": "markdown",
   "metadata": {},
   "source": [
    "These types correspond to commitment and disbursement respectively (see [here](http://iatistandard.org/202/codelists/TransactionType/))."
   ]
  },
  {
   "cell_type": "code",
   "execution_count": 931,
   "metadata": {},
   "outputs": [
    {
     "name": "stdout",
     "output_type": "stream",
     "text": [
      "3952 of the 3961 (99.77%) published activities contain commitments.\n"
     ]
    }
   ],
   "source": [
    "print(\"{} of the {} ({:.2%}) published activities contain commitments.\".\n",
    "      format(\n",
    "          len(big_iati.xpath(\"iati-activity[transaction[transaction-type[@code='2']]]\")),\n",
    "          len(big_iati),\n",
    "          len(big_iati.xpath(\"iati-activity[transaction[transaction-type[@code='2']]]\")) / len(big_iati)\n",
    "      ))"
   ]
  },
  {
   "cell_type": "code",
   "execution_count": 932,
   "metadata": {},
   "outputs": [
    {
     "name": "stdout",
     "output_type": "stream",
     "text": [
      "3455 of the 3961 (87.23%) published activities contain commitments.\n"
     ]
    }
   ],
   "source": [
    "print(\"{} of the {} ({:.2%}) published activities contain commitments.\".\n",
    "      format(\n",
    "          len(big_iati.xpath(\"iati-activity[transaction[transaction-type[@code='3']]]\")),\n",
    "          len(big_iati),\n",
    "          len(big_iati.xpath(\"iati-activity[transaction[transaction-type[@code='3']]]\")) / len(big_iati)\n",
    "      ))"
   ]
  },
  {
   "cell_type": "markdown",
   "metadata": {},
   "source": [
    "From the above, it's clear that there is good coverage on the considered financial elements, with commitments being the lowest at just under 90% coverage.\n",
    "\n",
    "Without going into much more detail, this gives a prima facie indication of the number of activities for which 'adding' up the financials is possible, and it is possible that the drop in coverage for commitments is due to the timing of activities. Without a deeper analysis, we can't be certain of this at present."
   ]
  },
  {
   "cell_type": "markdown",
   "metadata": {},
   "source": [
    "### Planned Disbursements"
   ]
  },
  {
   "cell_type": "code",
   "execution_count": 933,
   "metadata": {},
   "outputs": [
    {
     "name": "stdout",
     "output_type": "stream",
     "text": [
      "1162 of the 3961 (29.34%) published activities planned disbursements.\n"
     ]
    }
   ],
   "source": [
    "print(\"{} of the {} ({:.2%}) published activities planned disbursements.\".\n",
    "      format(\n",
    "          len(big_iati.xpath(\"iati-activity[planned-disbursement]\")),\n",
    "          len(big_iati),\n",
    "          len(big_iati.xpath(\"iati-activity[planned-disbursement]\")) / len(big_iati)\n",
    "      ))"
   ]
  },
  {
   "cell_type": "markdown",
   "metadata": {},
   "source": [
    "Planned disbursements are an exception, it is possible that this is just a representation of the lower proportion of forward-looking activities."
   ]
  },
  {
   "cell_type": "markdown",
   "metadata": {},
   "source": [
    "### In Combination"
   ]
  },
  {
   "cell_type": "code",
   "execution_count": 934,
   "metadata": {},
   "outputs": [
    {
     "name": "stdout",
     "output_type": "stream",
     "text": [
      "3455 of the 3961 (87.23%) published activities budgets, commitments, and disbursements.\n"
     ]
    }
   ],
   "source": [
    "activities_with_budgets_commitments_disbursements = big_iati.xpath(\n",
    "    \"iati-activity[transaction[transaction-type[@code='2']] and \"\n",
    "    \"transaction[transaction-type[@code='3']] and \"\n",
    "    \"budget]\")\n",
    "\n",
    "print(\"{} of the {} ({:.2%}) published activities budgets, commitments, and disbursements.\".\n",
    "      format(\n",
    "          len(activities_with_budgets_commitments_disbursements),\n",
    "          len(big_iati),\n",
    "          len(activities_with_budgets_commitments_disbursements) / len(big_iati)\n",
    "      ))"
   ]
  },
  {
   "cell_type": "markdown",
   "metadata": {},
   "source": [
    "Disregarding planned disbursements, we can see that there is good coverage of activities which include each of the financial elements considered."
   ]
  },
  {
   "cell_type": "markdown",
   "metadata": {},
   "source": [
    "# Appendix 1: Data Workbook\n",
    "\n",
    "Throughout this report various analytical tables have been stored in separate sheets in the workbook found in the 'final' data folder under 'Compliance Report Data.xlsx'. The following cell saves the file:"
   ]
  },
  {
   "cell_type": "code",
   "execution_count": 935,
   "metadata": {
    "collapsed": true
   },
   "outputs": [],
   "source": [
    "pd_writer.save()"
   ]
  },
  {
   "cell_type": "code",
   "execution_count": 936,
   "metadata": {
    "collapsed": true
   },
   "outputs": [],
   "source": [
    "%%bash\n",
    "\n",
    "cp ../data/final/Compliance-Report-Data.xlsx _static/"
   ]
  },
  {
   "cell_type": "markdown",
   "metadata": {},
   "source": [
    "[Download Appendix One](../_static/Compliance-Report-Data.xlsx)"
   ]
  }
 ],
 "metadata": {
  "kernelspec": {
   "display_name": "Py36",
   "language": "python",
   "name": "py36"
  },
  "language_info": {
   "codemirror_mode": {
    "name": "ipython",
    "version": 3
   },
   "file_extension": ".py",
   "mimetype": "text/x-python",
   "name": "python",
   "nbconvert_exporter": "python",
   "pygments_lexer": "ipython3",
   "version": "3.6.1"
  },
  "toc": {
   "nav_menu": {
    "height": "636px",
    "width": "491px"
   },
   "number_sections": false,
   "sideBar": true,
   "skip_h1_title": false,
   "toc_cell": false,
   "toc_position": {
    "height": "858px",
    "left": "0px",
    "right": "1659px",
    "top": "107px",
    "width": "212px"
   },
   "toc_section_display": "block",
   "toc_window_display": true
  },
  "varInspector": {
   "cols": {
    "lenName": 16,
    "lenType": 16,
    "lenVar": 40
   },
   "kernels_config": {
    "python": {
     "delete_cmd_postfix": "",
     "delete_cmd_prefix": "del ",
     "library": "var_list.py",
     "varRefreshCmd": "print(var_dic_list())"
    },
    "r": {
     "delete_cmd_postfix": ") ",
     "delete_cmd_prefix": "rm(",
     "library": "var_list.r",
     "varRefreshCmd": "cat(var_dic_list()) "
    }
   },
   "position": {
    "height": "542px",
    "left": "868.797px",
    "right": "20px",
    "top": "39px",
    "width": "350px"
   },
   "types_to_exclude": [
    "module",
    "function",
    "builtin_function_or_method",
    "instance",
    "_Feature"
   ],
   "window_display": false
  }
 },
 "nbformat": 4,
 "nbformat_minor": 2
}
